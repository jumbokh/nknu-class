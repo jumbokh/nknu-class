{
  "nbformat": 4,
  "nbformat_minor": 0,
  "metadata": {
    "colab": {
      "name": "Cifar10-CNN.ipynb",
      "provenance": [],
      "collapsed_sections": [],
      "authorship_tag": "ABX9TyOqXrufhR+0KKPd9mJZfipU",
      "include_colab_link": true
    },
    "kernelspec": {
      "name": "python3",
      "display_name": "Python 3"
    },
    "language_info": {
      "name": "python"
    },
    "accelerator": "GPU"
  },
  "cells": [
    {
      "cell_type": "markdown",
      "metadata": {
        "id": "view-in-github",
        "colab_type": "text"
      },
      "source": [
        "<a href=\"https://colab.research.google.com/github/jumbokh/nknu-class/blob/main/CNN/notebooks/Cifar10_CNN.ipynb\" target=\"_parent\"><img src=\"https://colab.research.google.com/assets/colab-badge.svg\" alt=\"Open In Colab\"/></a>"
      ]
    },
    {
      "cell_type": "markdown",
      "metadata": {
        "id": "M0ZLLOo-3eRR"
      },
      "source": [
        "## [Keras] 使用 CNN 建立 Cifar-10 的分類器 (實戰篇)\n",
        "#### https://clay-atlas.com/blog/2019/10/03/python-chinese-tutorial-keras-cnn-cifar10/"
      ]
    },
    {
      "cell_type": "code",
      "metadata": {
        "colab": {
          "base_uri": "https://localhost:8080/"
        },
        "id": "IGP0ntpY1vys",
        "outputId": "8f4f6cc7-baf2-45fa-9993-c02f879a98ed"
      },
      "source": [
        "!pip install keras.utils\n",
        "!pip install graphViz\n",
        "!pip install pydot==1.2.4"
      ],
      "execution_count": 1,
      "outputs": [
        {
          "output_type": "stream",
          "name": "stdout",
          "text": [
            "Collecting keras.utils\n",
            "  Downloading keras-utils-1.0.13.tar.gz (2.4 kB)\n",
            "Requirement already satisfied: Keras>=2.1.5 in /usr/local/lib/python3.7/dist-packages (from keras.utils) (2.6.0)\n",
            "Building wheels for collected packages: keras.utils\n",
            "  Building wheel for keras.utils (setup.py) ... \u001b[?25l\u001b[?25hdone\n",
            "  Created wheel for keras.utils: filename=keras_utils-1.0.13-py3-none-any.whl size=2656 sha256=a8dcec26c2947eaa9e3a4f19a4a7f7d2a70e3a0e4ea0c4fb8a9ef048ba7517dc\n",
            "  Stored in directory: /root/.cache/pip/wheels/d0/dd/3b/493952a5240d486a83805d65360dedadbadeae71d25e2c877f\n",
            "Successfully built keras.utils\n",
            "Installing collected packages: keras.utils\n",
            "Successfully installed keras.utils-1.0.13\n",
            "Requirement already satisfied: graphViz in /usr/local/lib/python3.7/dist-packages (0.10.1)\n",
            "Collecting pydot==1.2.4\n",
            "  Downloading pydot-1.2.4.tar.gz (132 kB)\n",
            "\u001b[K     |████████████████████████████████| 132 kB 5.4 MB/s \n",
            "\u001b[?25hRequirement already satisfied: pyparsing>=2.1.4 in /usr/local/lib/python3.7/dist-packages (from pydot==1.2.4) (2.4.7)\n",
            "Building wheels for collected packages: pydot\n",
            "  Building wheel for pydot (setup.py) ... \u001b[?25l\u001b[?25hdone\n",
            "  Created wheel for pydot: filename=pydot-1.2.4-py3-none-any.whl size=18956 sha256=725d545d989fcba2927043916eeee70f3a06069fb796ae10d4aa648d0cc928a9\n",
            "  Stored in directory: /root/.cache/pip/wheels/05/f6/2d/6dd07d0bd13d66d5b4d74e966cb5da86a59fedd6b39adc4a4d\n",
            "Successfully built pydot\n",
            "Installing collected packages: pydot\n",
            "  Attempting uninstall: pydot\n",
            "    Found existing installation: pydot 1.3.0\n",
            "    Uninstalling pydot-1.3.0:\n",
            "      Successfully uninstalled pydot-1.3.0\n",
            "Successfully installed pydot-1.2.4\n"
          ]
        }
      ]
    },
    {
      "cell_type": "code",
      "metadata": {
        "colab": {
          "base_uri": "https://localhost:8080/"
        },
        "id": "WKzlXtW3cKiF",
        "outputId": "4ef7e615-2091-499c-a517-fb2d60fb923b"
      },
      "source": [
        "from google.colab import drive\n",
        "drive.mount('/content/gdrive')\n",
        "!ln -fs /content/gdrive/My\\ Drive /app\n",
        "!tar -xzvf /app/cuDNN/cudnn-10.0-linux-x64-v7.5.0.56.tgz -C /usr/local/\n",
        "!chmod a+r /usr/local/cuda/include/cudnn.h\n",
        "\n",
        "# 檢查是否安裝成功\n",
        "!cat /usr/local/cuda/include/cudnn.h | grep CUDNN_MAJOR -A 2"
      ],
      "execution_count": 2,
      "outputs": [
        {
          "output_type": "stream",
          "name": "stdout",
          "text": [
            "Mounted at /content/gdrive\n",
            "cuda/include/cudnn.h\n",
            "cuda/NVIDIA_SLA_cuDNN_Support.txt\n",
            "cuda/lib64/libcudnn.so\n",
            "cuda/lib64/libcudnn.so.7\n",
            "cuda/lib64/libcudnn.so.7.5.0\n",
            "cuda/lib64/libcudnn_static.a\n",
            "#define CUDNN_MAJOR 7\n",
            "#define CUDNN_MINOR 5\n",
            "#define CUDNN_PATCHLEVEL 0\n",
            "--\n",
            "#define CUDNN_VERSION (CUDNN_MAJOR * 1000 + CUDNN_MINOR * 100 + CUDNN_PATCHLEVEL)\n",
            "\n",
            "#include \"driver_types.h\"\n"
          ]
        }
      ]
    },
    {
      "cell_type": "code",
      "metadata": {
        "id": "N_BFKXaO2ATO"
      },
      "source": [
        "import os\n",
        "import numpy as np\n",
        "import matplotlib.pyplot as plt\n",
        "import pandas as pd\n",
        "from keras import optimizers\n",
        "from keras.models import Sequential, load_model\n",
        "from keras.datasets import cifar10\n",
        "from keras.utils import np_utils\n",
        "from keras.utils.vis_utils import plot_model\n",
        "from keras.layers import Dense, Dropout, Flatten, Conv2D, MaxPool2D"
      ],
      "execution_count": 3,
      "outputs": []
    },
    {
      "cell_type": "code",
      "metadata": {
        "id": "6ilu9-Qa12Wu",
        "colab": {
          "base_uri": "https://localhost:8080/"
        },
        "outputId": "22e6b132-262c-4931-9477-01e0b3c62eab"
      },
      "source": [
        "(X_train, Y_train), (X_test, Y_test) = cifar10.load_data()\n",
        "x_train = X_train.astype('float32')/255\n",
        "x_test = X_test.astype('float32')/255\n",
        "y_train = np_utils.to_categorical(Y_train)\n",
        "y_test = np_utils.to_categorical(Y_test)"
      ],
      "execution_count": 4,
      "outputs": [
        {
          "output_type": "stream",
          "name": "stdout",
          "text": [
            "Downloading data from https://www.cs.toronto.edu/~kriz/cifar-10-python.tar.gz\n",
            "170500096/170498071 [==============================] - 5s 0us/step\n",
            "170508288/170498071 [==============================] - 5s 0us/step\n"
          ]
        }
      ]
    },
    {
      "cell_type": "code",
      "metadata": {
        "id": "Sv7BRac13ADm"
      },
      "source": [
        "model = Sequential()\n",
        "model.add(Conv2D(filters=64, kernel_size=3, input_shape=(32, 32, 3), activation='relu', padding='same'))\n",
        "model.add(Conv2D(filters=64, kernel_size=3, input_shape=(32, 32, 3), activation='relu', padding='same'))\n",
        "model.add(MaxPool2D(pool_size=2))\n",
        "model.add(Dropout(rate=0.2))\n",
        "model.add(Conv2D(filters=128, kernel_size=3, activation='relu', padding='same'))\n",
        "model.add(Conv2D(filters=128, kernel_size=3, activation='relu', padding='same'))\n",
        "model.add(MaxPool2D(pool_size=2))\n",
        "model.add(Dropout(rate=0.2))\n",
        "model.add(Conv2D(filters=128, kernel_size=3, activation='relu', padding='same'))\n",
        "model.add(Conv2D(filters=128, kernel_size=3, activation='relu', padding='same'))\n",
        "model.add(MaxPool2D(pool_size=2))\n",
        "model.add(Dropout(rate=0.2))\n",
        "model.add(Flatten())\n",
        "model.add(Dense(512, activation='relu'))\n",
        "model.add(Dropout(rate=0.2))\n",
        "model.add(Dense(10, activation='softmax'))"
      ],
      "execution_count": 5,
      "outputs": []
    },
    {
      "cell_type": "code",
      "metadata": {
        "colab": {
          "base_uri": "https://localhost:8080/"
        },
        "id": "OyukWLhc3Dj7",
        "outputId": "51bbd58f-f75e-45e4-88bc-cd39ef0b4240"
      },
      "source": [
        "print(model.summary())"
      ],
      "execution_count": 6,
      "outputs": [
        {
          "output_type": "stream",
          "name": "stdout",
          "text": [
            "Model: \"sequential\"\n",
            "_________________________________________________________________\n",
            "Layer (type)                 Output Shape              Param #   \n",
            "=================================================================\n",
            "conv2d (Conv2D)              (None, 32, 32, 64)        1792      \n",
            "_________________________________________________________________\n",
            "conv2d_1 (Conv2D)            (None, 32, 32, 64)        36928     \n",
            "_________________________________________________________________\n",
            "max_pooling2d (MaxPooling2D) (None, 16, 16, 64)        0         \n",
            "_________________________________________________________________\n",
            "dropout (Dropout)            (None, 16, 16, 64)        0         \n",
            "_________________________________________________________________\n",
            "conv2d_2 (Conv2D)            (None, 16, 16, 128)       73856     \n",
            "_________________________________________________________________\n",
            "conv2d_3 (Conv2D)            (None, 16, 16, 128)       147584    \n",
            "_________________________________________________________________\n",
            "max_pooling2d_1 (MaxPooling2 (None, 8, 8, 128)         0         \n",
            "_________________________________________________________________\n",
            "dropout_1 (Dropout)          (None, 8, 8, 128)         0         \n",
            "_________________________________________________________________\n",
            "conv2d_4 (Conv2D)            (None, 8, 8, 128)         147584    \n",
            "_________________________________________________________________\n",
            "conv2d_5 (Conv2D)            (None, 8, 8, 128)         147584    \n",
            "_________________________________________________________________\n",
            "max_pooling2d_2 (MaxPooling2 (None, 4, 4, 128)         0         \n",
            "_________________________________________________________________\n",
            "dropout_2 (Dropout)          (None, 4, 4, 128)         0         \n",
            "_________________________________________________________________\n",
            "flatten (Flatten)            (None, 2048)              0         \n",
            "_________________________________________________________________\n",
            "dense (Dense)                (None, 512)               1049088   \n",
            "_________________________________________________________________\n",
            "dropout_3 (Dropout)          (None, 512)               0         \n",
            "_________________________________________________________________\n",
            "dense_1 (Dense)              (None, 10)                5130      \n",
            "=================================================================\n",
            "Total params: 1,609,546\n",
            "Trainable params: 1,609,546\n",
            "Non-trainable params: 0\n",
            "_________________________________________________________________\n",
            "None\n"
          ]
        }
      ]
    },
    {
      "cell_type": "code",
      "metadata": {
        "colab": {
          "base_uri": "https://localhost:8080/"
        },
        "id": "RB9gRbRX3F_K",
        "outputId": "b70f54c7-52c5-4551-e894-77837c81da9c"
      },
      "source": [
        "model.compile(loss='categorical_crossentropy',  optimizer='adam',metrics=['accuracy'])\n",
        "history = model.fit(x_train, y_train, epochs=50, batch_size=64, verbose=1,validation_split=0.2)"
      ],
      "execution_count": 7,
      "outputs": [
        {
          "output_type": "stream",
          "name": "stdout",
          "text": [
            "Epoch 1/50\n",
            "625/625 [==============================] - 52s 35ms/step - loss: 1.6145 - accuracy: 0.4055 - val_loss: 1.2619 - val_accuracy: 0.5385\n",
            "Epoch 2/50\n",
            "625/625 [==============================] - 20s 32ms/step - loss: 1.1208 - accuracy: 0.5987 - val_loss: 0.9498 - val_accuracy: 0.6677\n",
            "Epoch 3/50\n",
            "625/625 [==============================] - 20s 32ms/step - loss: 0.9280 - accuracy: 0.6696 - val_loss: 0.8053 - val_accuracy: 0.7129\n",
            "Epoch 4/50\n",
            "625/625 [==============================] - 20s 32ms/step - loss: 0.7966 - accuracy: 0.7157 - val_loss: 0.7567 - val_accuracy: 0.7298\n",
            "Epoch 5/50\n",
            "625/625 [==============================] - 20s 32ms/step - loss: 0.6954 - accuracy: 0.7560 - val_loss: 0.6908 - val_accuracy: 0.7575\n",
            "Epoch 6/50\n",
            "625/625 [==============================] - 20s 32ms/step - loss: 0.6183 - accuracy: 0.7834 - val_loss: 0.7228 - val_accuracy: 0.7567\n",
            "Epoch 7/50\n",
            "625/625 [==============================] - 20s 32ms/step - loss: 0.5625 - accuracy: 0.8013 - val_loss: 0.6744 - val_accuracy: 0.7716\n",
            "Epoch 8/50\n",
            "625/625 [==============================] - 20s 32ms/step - loss: 0.5136 - accuracy: 0.8176 - val_loss: 0.6453 - val_accuracy: 0.7818\n",
            "Epoch 9/50\n",
            "625/625 [==============================] - 20s 32ms/step - loss: 0.4723 - accuracy: 0.8335 - val_loss: 0.6565 - val_accuracy: 0.7824\n",
            "Epoch 10/50\n",
            "625/625 [==============================] - 20s 32ms/step - loss: 0.4283 - accuracy: 0.8487 - val_loss: 0.6759 - val_accuracy: 0.7854\n",
            "Epoch 11/50\n",
            "625/625 [==============================] - 20s 32ms/step - loss: 0.3995 - accuracy: 0.8597 - val_loss: 0.6529 - val_accuracy: 0.7905\n",
            "Epoch 12/50\n",
            "625/625 [==============================] - 20s 32ms/step - loss: 0.3632 - accuracy: 0.8714 - val_loss: 0.6794 - val_accuracy: 0.7911\n",
            "Epoch 13/50\n",
            "625/625 [==============================] - 20s 32ms/step - loss: 0.3446 - accuracy: 0.8782 - val_loss: 0.7109 - val_accuracy: 0.7836\n",
            "Epoch 14/50\n",
            "625/625 [==============================] - 20s 32ms/step - loss: 0.3294 - accuracy: 0.8834 - val_loss: 0.6998 - val_accuracy: 0.7951\n",
            "Epoch 15/50\n",
            "625/625 [==============================] - 20s 32ms/step - loss: 0.3135 - accuracy: 0.8891 - val_loss: 0.6959 - val_accuracy: 0.7980\n",
            "Epoch 16/50\n",
            "625/625 [==============================] - 20s 32ms/step - loss: 0.3008 - accuracy: 0.8928 - val_loss: 0.7417 - val_accuracy: 0.7882\n",
            "Epoch 17/50\n",
            "625/625 [==============================] - 20s 32ms/step - loss: 0.2828 - accuracy: 0.9016 - val_loss: 0.6902 - val_accuracy: 0.7986\n",
            "Epoch 18/50\n",
            "625/625 [==============================] - 20s 32ms/step - loss: 0.2691 - accuracy: 0.9052 - val_loss: 0.7634 - val_accuracy: 0.7872\n",
            "Epoch 19/50\n",
            "625/625 [==============================] - 20s 32ms/step - loss: 0.2741 - accuracy: 0.9036 - val_loss: 0.7904 - val_accuracy: 0.7853\n",
            "Epoch 20/50\n",
            "625/625 [==============================] - 20s 32ms/step - loss: 0.2501 - accuracy: 0.9113 - val_loss: 0.7656 - val_accuracy: 0.7955\n",
            "Epoch 21/50\n",
            "625/625 [==============================] - 20s 32ms/step - loss: 0.2416 - accuracy: 0.9144 - val_loss: 0.7434 - val_accuracy: 0.7924\n",
            "Epoch 22/50\n",
            "625/625 [==============================] - 20s 32ms/step - loss: 0.2431 - accuracy: 0.9157 - val_loss: 0.7485 - val_accuracy: 0.7969\n",
            "Epoch 23/50\n",
            "625/625 [==============================] - 20s 32ms/step - loss: 0.2350 - accuracy: 0.9190 - val_loss: 0.7993 - val_accuracy: 0.7953\n",
            "Epoch 24/50\n",
            "625/625 [==============================] - 20s 32ms/step - loss: 0.2265 - accuracy: 0.9227 - val_loss: 0.7643 - val_accuracy: 0.7950\n",
            "Epoch 25/50\n",
            "625/625 [==============================] - 20s 32ms/step - loss: 0.2249 - accuracy: 0.9239 - val_loss: 0.8196 - val_accuracy: 0.7913\n",
            "Epoch 26/50\n",
            "625/625 [==============================] - 21s 34ms/step - loss: 0.2230 - accuracy: 0.9230 - val_loss: 0.7758 - val_accuracy: 0.7981\n",
            "Epoch 27/50\n",
            "625/625 [==============================] - 20s 32ms/step - loss: 0.2087 - accuracy: 0.9283 - val_loss: 0.8382 - val_accuracy: 0.7893\n",
            "Epoch 28/50\n",
            "625/625 [==============================] - 20s 32ms/step - loss: 0.2120 - accuracy: 0.9284 - val_loss: 0.7800 - val_accuracy: 0.7936\n",
            "Epoch 29/50\n",
            "625/625 [==============================] - 20s 32ms/step - loss: 0.2099 - accuracy: 0.9290 - val_loss: 0.8213 - val_accuracy: 0.7955\n",
            "Epoch 30/50\n",
            "625/625 [==============================] - 20s 32ms/step - loss: 0.2168 - accuracy: 0.9280 - val_loss: 0.8057 - val_accuracy: 0.7971\n",
            "Epoch 31/50\n",
            "625/625 [==============================] - 20s 32ms/step - loss: 0.1996 - accuracy: 0.9314 - val_loss: 0.8506 - val_accuracy: 0.8005\n",
            "Epoch 32/50\n",
            "625/625 [==============================] - 20s 31ms/step - loss: 0.2014 - accuracy: 0.9319 - val_loss: 0.8109 - val_accuracy: 0.7966\n",
            "Epoch 33/50\n",
            "625/625 [==============================] - 19s 31ms/step - loss: 0.2040 - accuracy: 0.9324 - val_loss: 0.8616 - val_accuracy: 0.8013\n",
            "Epoch 34/50\n",
            "625/625 [==============================] - 20s 31ms/step - loss: 0.1984 - accuracy: 0.9334 - val_loss: 0.8411 - val_accuracy: 0.7939\n",
            "Epoch 35/50\n",
            "625/625 [==============================] - 20s 31ms/step - loss: 0.1878 - accuracy: 0.9366 - val_loss: 0.9020 - val_accuracy: 0.7894\n",
            "Epoch 36/50\n",
            "625/625 [==============================] - 19s 31ms/step - loss: 0.2012 - accuracy: 0.9323 - val_loss: 0.8538 - val_accuracy: 0.7988\n",
            "Epoch 37/50\n",
            "625/625 [==============================] - 20s 31ms/step - loss: 0.1918 - accuracy: 0.9361 - val_loss: 0.8154 - val_accuracy: 0.8084\n",
            "Epoch 38/50\n",
            "625/625 [==============================] - 20s 32ms/step - loss: 0.1926 - accuracy: 0.9338 - val_loss: 0.8513 - val_accuracy: 0.7899\n",
            "Epoch 39/50\n",
            "625/625 [==============================] - 20s 32ms/step - loss: 0.1878 - accuracy: 0.9364 - val_loss: 0.8890 - val_accuracy: 0.7984\n",
            "Epoch 40/50\n",
            "625/625 [==============================] - 20s 31ms/step - loss: 0.1958 - accuracy: 0.9346 - val_loss: 0.8845 - val_accuracy: 0.7990\n",
            "Epoch 41/50\n",
            "625/625 [==============================] - 20s 31ms/step - loss: 0.1879 - accuracy: 0.9383 - val_loss: 0.8802 - val_accuracy: 0.7965\n",
            "Epoch 42/50\n",
            "625/625 [==============================] - 20s 31ms/step - loss: 0.1853 - accuracy: 0.9387 - val_loss: 0.8952 - val_accuracy: 0.7975\n",
            "Epoch 43/50\n",
            "625/625 [==============================] - 20s 31ms/step - loss: 0.1866 - accuracy: 0.9378 - val_loss: 0.8051 - val_accuracy: 0.8035\n",
            "Epoch 44/50\n",
            "625/625 [==============================] - 20s 31ms/step - loss: 0.1771 - accuracy: 0.9410 - val_loss: 0.8854 - val_accuracy: 0.8008\n",
            "Epoch 45/50\n",
            "625/625 [==============================] - 19s 31ms/step - loss: 0.1913 - accuracy: 0.9365 - val_loss: 0.8178 - val_accuracy: 0.8054\n",
            "Epoch 46/50\n",
            "625/625 [==============================] - 20s 31ms/step - loss: 0.1782 - accuracy: 0.9403 - val_loss: 0.8576 - val_accuracy: 0.8029\n",
            "Epoch 47/50\n",
            "625/625 [==============================] - 20s 31ms/step - loss: 0.1835 - accuracy: 0.9394 - val_loss: 0.8764 - val_accuracy: 0.7996\n",
            "Epoch 48/50\n",
            "625/625 [==============================] - 19s 31ms/step - loss: 0.1843 - accuracy: 0.9390 - val_loss: 0.8988 - val_accuracy: 0.7925\n",
            "Epoch 49/50\n",
            "625/625 [==============================] - 20s 31ms/step - loss: 0.1838 - accuracy: 0.9409 - val_loss: 0.8482 - val_accuracy: 0.7907\n",
            "Epoch 50/50\n",
            "625/625 [==============================] - 19s 31ms/step - loss: 0.1787 - accuracy: 0.9401 - val_loss: 0.9279 - val_accuracy: 0.7968\n"
          ]
        }
      ]
    },
    {
      "cell_type": "code",
      "metadata": {
        "colab": {
          "base_uri": "https://localhost:8080/"
        },
        "id": "yHtekSBq3JeK",
        "outputId": "54883806-bc29-4f1b-c62f-aeaf7c0eba6d"
      },
      "source": [
        "loss, accuracy = model.evaluate(x_test, y_test)\n",
        "print('Test:')\n",
        "print('Loss:', loss)\n",
        "print('Accuracy:', accuracy)"
      ],
      "execution_count": 8,
      "outputs": [
        {
          "output_type": "stream",
          "name": "stdout",
          "text": [
            "313/313 [==============================] - 3s 8ms/step - loss: 0.9665 - accuracy: 0.7887\n",
            "Test:\n",
            "Loss: 0.9665414094924927\n",
            "Accuracy: 0.7886999845504761\n"
          ]
        }
      ]
    },
    {
      "cell_type": "code",
      "metadata": {
        "colab": {
          "base_uri": "https://localhost:8080/"
        },
        "id": "R6Mx_bA0d9EG",
        "outputId": "c0318079-f282-4318-ff09-afbf71c3225b"
      },
      "source": [
        "history_dict = history.history\n",
        "history_dict.keys()"
      ],
      "execution_count": 9,
      "outputs": [
        {
          "output_type": "execute_result",
          "data": {
            "text/plain": [
              "dict_keys(['loss', 'accuracy', 'val_loss', 'val_accuracy'])"
            ]
          },
          "metadata": {},
          "execution_count": 9
        }
      ]
    },
    {
      "cell_type": "code",
      "metadata": {
        "colab": {
          "base_uri": "https://localhost:8080/",
          "height": 295
        },
        "id": "wOyqC1H3eBbb",
        "outputId": "18f9fa01-d5c2-4428-9bf8-11d7591b42b0"
      },
      "source": [
        "import matplotlib.pyplot as plt\n",
        "\n",
        "acc = history.history['accuracy']\n",
        "loss = history.history['loss']\n",
        "valacc = history.history['val_accuracy']\n",
        "valloss = history.history['val_loss']\n",
        "\n",
        "epochs = range(1, len(acc) + 1)\n",
        "\n",
        "# \"bo\" is for \"blue dot\"\n",
        "plt.plot(epochs, loss, 'b', label='Training loss')\n",
        "plt.plot(epochs, valloss, 'r', label='Validation loss')\n",
        "# b is for \"solid blue line\"\n",
        "plt.title('Training and validation loss')\n",
        "plt.xlabel('Epochs')\n",
        "plt.ylabel('Loss')\n",
        "plt.legend()\n",
        "\n",
        "plt.show()"
      ],
      "execution_count": 10,
      "outputs": [
        {
          "output_type": "display_data",
          "data": {
            "image/png": "[encoded data removed]",
            "text/plain": [
              "<Figure size 432x288 with 1 Axes>"
            ]
          },
          "metadata": {
            "needs_background": "light"
          }
        }
      ]
    },
    {
      "cell_type": "code",
      "metadata": {
        "colab": {
          "base_uri": "https://localhost:8080/"
        },
        "id": "v6Kn8UK5gkIS",
        "outputId": "d016b2bb-5dd6-4f9e-d261-41d18291d5e8"
      },
      "source": [
        "print(accuracy)"
      ],
      "execution_count": 11,
      "outputs": [
        {
          "output_type": "stream",
          "name": "stdout",
          "text": [
            "0.7886999845504761\n"
          ]
        }
      ]
    },
    {
      "cell_type": "code",
      "metadata": {
        "colab": {
          "base_uri": "https://localhost:8080/",
          "height": 295
        },
        "id": "h_HrQ2P3f0h9",
        "outputId": "c89fb399-5c76-4e44-96b1-16d7fa4ba846"
      },
      "source": [
        "plt.clf()   # clear figure\n",
        "acc_values = history_dict['accuracy']\n",
        "valacc_values = history_dict['val_accuracy']\n",
        "\n",
        "plt.plot(epochs, acc_values, 'b', label='Training accuracy')\n",
        "plt.plot(epochs, valacc_values, 'r', label='Validation accuracy')\n",
        "plt.title('Training accuracy')\n",
        "plt.xlabel('Epochs')\n",
        "plt.ylabel('Accuracy')\n",
        "plt.legend()\n",
        "\n",
        "plt.show()"
      ],
      "execution_count": 12,
      "outputs": [
        {
          "output_type": "display_data",
          "data": {
            "image/png": "[encoded data removed]",
            "text/plain": [
              "<Figure size 432x288 with 1 Axes>"
            ]
          },
          "metadata": {
            "needs_background": "light"
          }
        }
      ]
    },
    {
      "cell_type": "code",
      "metadata": {
        "id": "h4wMLHBybiRY"
      },
      "source": [
        "model.save('cifar10-keras.h5')"
      ],
      "execution_count": 12,
      "outputs": []
    }
  ]
}