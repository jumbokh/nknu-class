{
  "nbformat": 4,
  "nbformat_minor": 0,
  "metadata": {
    "kernelspec": {
      "display_name": "Python 2",
      "language": "python",
      "name": "python2"
    },
    "language_info": {
      "codemirror_mode": {
        "name": "ipython",
        "version": 2
      },
      "file_extension": ".py",
      "mimetype": "text/x-python",
      "name": "python",
      "nbconvert_exporter": "python",
      "pygments_lexer": "ipython2",
      "version": "2.7.12"
    },
    "colab": {
      "name": "shap_lstm_issue.ipynb",
      "provenance": []
    }
  },
  "cells": [
    {
      "cell_type": "code",
      "metadata": {
        "ExecuteTime": {
          "end_time": "2019-10-15T11:10:00.178820Z",
          "start_time": "2019-10-15T11:09:56.098490Z"
        },
        "id": "VlxCix4Fv6Mq",
        "outputId": "ef69d750-c4b6-471e-d205-3af5798e9852"
      },
      "source": [
        "import shap\n",
        "import numpy as np\n",
        "import keras\n",
        "import tensorflow as tf\n",
        "config = tf.ConfigProto()\n",
        "config.gpu_options.per_process_gpu_memory_fraction = 0.05\n",
        "from keras.backend.tensorflow_backend import set_session\n",
        "set_session(tf.Session(config=config))"
      ],
      "execution_count": null,
      "outputs": [
        {
          "name": "stderr",
          "output_type": "stream",
          "text": [
            "Using TensorFlow backend.\n"
          ]
        }
      ]
    },
    {
      "cell_type": "code",
      "metadata": {
        "id": "cnaeE3nxv6Mx"
      },
      "source": [
        "from keras.models import Model\n",
        "from keras.layers import Input\n",
        "from keras.layers import Dense\n",
        "from keras.layers import BatchNormalization\n",
        "from keras.layers import Activation\n",
        "from keras.layers import Dropout\n",
        "from keras.layers import CuDNNLSTM\n",
        "from keras.layers import concatenate\n",
        "from keras.layers import Reshape\n",
        "from keras import optimizers"
      ],
      "execution_count": null,
      "outputs": []
    },
    {
      "cell_type": "code",
      "metadata": {
        "id": "0Bak7CVWv6My"
      },
      "source": [
        "rnn_input = Input(shape=(14*19,), name='rnn_input')\n",
        "reshaped = Reshape((14,19))(rnn_input)\n",
        "right = CuDNNLSTM(64)(reshaped)\n",
        "\n",
        "x = Dense(64, activation='relu')(right)\n",
        "x = Dropout(0.5)(x)\n",
        "x = Dense(32, activation='relu')(x)\n",
        "output = Dense(1, activation='sigmoid', name='output')(x)\n",
        "\n",
        "model = Model(inputs=[rnn_input], outputs=output)\n",
        "model.compile(loss='binary_crossentropy', optimizer='adam', metrics=['acc'])"
      ],
      "execution_count": null,
      "outputs": []
    },
    {
      "cell_type": "code",
      "metadata": {
        "ExecuteTime": {
          "end_time": "2019-10-15T11:10:05.046003Z",
          "start_time": "2019-10-15T11:10:04.553381Z"
        },
        "id": "DwhCljC6v6My"
      },
      "source": [
        "x_train_1 = np.random.randint(0, 100, size=(100,14*19))\n",
        "x_test_1 = np.random.randint(0, 100, size=(10,14*19))\n",
        "\n",
        "# Skipping the simple_model.fit(...) for now\n",
        "\n",
        "explainer = shap.DeepExplainer(model, [x_train_1])\n",
        "shap_values = explainer.shap_values([x_train_1])"
      ],
      "execution_count": null,
      "outputs": []
    },
    {
      "cell_type": "code",
      "metadata": {
        "id": "QlE0_SQMv6Mz",
        "outputId": "406f0b8f-2949-4dab-809a-008b176918b5"
      },
      "source": [
        "y_base = explainer.expected_value[0]\n",
        "y_pred = model.predict(x_train_1)\n",
        "print 'y_base',y_base\n",
        "print 'y_pred_mean',y_pred.mean()"
      ],
      "execution_count": null,
      "outputs": [
        {
          "name": "stdout",
          "output_type": "stream",
          "text": [
            "y_base 0.39998502\n",
            "y_pred_mean 0.39998502\n"
          ]
        }
      ]
    },
    {
      "cell_type": "markdown",
      "metadata": {
        "id": "uXOUTkSmv6Mz"
      },
      "source": [
        "### check the diff between the shap output & model output"
      ]
    },
    {
      "cell_type": "code",
      "metadata": {
        "id": "YDL0JaKdv6M1"
      },
      "source": [
        "y_diff = abs(y_pred.reshape(100,) - (y_base + shap_values[0][:].sum(axis=1)))"
      ],
      "execution_count": null,
      "outputs": []
    },
    {
      "cell_type": "code",
      "metadata": {
        "id": "cFIUClpNv6M2",
        "outputId": "570053c2-d248-4459-c56b-33d43617e3e3"
      },
      "source": [
        "print 'max:',y_diff.max()\n",
        "print 'min:',y_diff.min()\n",
        "print 'mean:',y_diff.mean()"
      ],
      "execution_count": null,
      "outputs": [
        {
          "name": "stdout",
          "output_type": "stream",
          "text": [
            "max: 0.14786111109132227\n",
            "min: 0.0018124761780183296\n",
            "mean: 0.05757006030661598\n"
          ]
        }
      ]
    },
    {
      "cell_type": "markdown",
      "metadata": {
        "id": "PIfQQPFjv6M3"
      },
      "source": [
        "### question\n",
        "- Why the sum of all features + y_base not equal to the model output ? \n",
        "- Can the deepexplain deal with the mulit input like (,14,19) instead of (,14*19) ?\n",
        "- hope to get the answer thanks"
      ]
    }
  ]
}