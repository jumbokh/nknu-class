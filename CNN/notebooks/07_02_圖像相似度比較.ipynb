{
  "nbformat": 4,
  "nbformat_minor": 0,
  "metadata": {
    "kernelspec": {
      "display_name": "Python 3",
      "language": "python",
      "name": "python3"
    },
    "language_info": {
      "codemirror_mode": {
        "name": "ipython",
        "version": 3
      },
      "file_extension": ".py",
      "mimetype": "text/x-python",
      "name": "python",
      "nbconvert_exporter": "python",
      "pygments_lexer": "ipython3",
      "version": "3.8.3"
    },
    "colab": {
      "name": "07_02_圖像相似度比較.ipynb",
      "provenance": [],
      "include_colab_link": true
    }
  },
  "cells": [
    {
      "cell_type": "markdown",
      "metadata": {
        "id": "view-in-github",
        "colab_type": "text"
      },
      "source": [
        "<a href=\"https://colab.research.google.com/github/jumbokh/nknu-class/blob/main/CNN/notebooks/07_02_%E5%9C%96%E5%83%8F%E7%9B%B8%E4%BC%BC%E5%BA%A6%E6%AF%94%E8%BC%83.ipynb\" target=\"_parent\"><img src=\"https://colab.research.google.com/assets/colab-badge.svg\" alt=\"Open In Colab\"/></a>"
      ]
    },
    {
      "cell_type": "markdown",
      "metadata": {
        "id": "ko8RUhpuLJRK"
      },
      "source": [
        "# 圖像相似度比較"
      ]
    },
    {
      "cell_type": "markdown",
      "metadata": {
        "id": "SZdYkw9kLJRP"
      },
      "source": [
        "## 載入套件"
      ]
    },
    {
      "cell_type": "code",
      "metadata": {
        "colab": {
          "base_uri": "https://localhost:8080/"
        },
        "id": "pDgPRjbYLSgv",
        "outputId": "34891d0c-0665-43fd-d472-41d53e4ce9c4"
      },
      "source": [
        "from google.colab import drive\n",
        "drive.mount('/content/gdrive')\n",
        "!ln -fs /content/gdrive/My\\ Drive /app\n",
        "%cd /app/DL_Book/src"
      ],
      "execution_count": 1,
      "outputs": [
        {
          "output_type": "stream",
          "name": "stdout",
          "text": [
            "Mounted at /content/gdrive\n",
            "/content/gdrive/My Drive/DL_Book/src\n"
          ]
        }
      ]
    },
    {
      "cell_type": "code",
      "metadata": {
        "id": "eum5_szTLJRQ"
      },
      "source": [
        "from tensorflow.keras.applications.vgg16 import VGG16\n",
        "from tensorflow.keras.preprocessing import image\n",
        "from tensorflow.keras.applications.vgg16 import preprocess_input\n",
        "import numpy as np"
      ],
      "execution_count": 2,
      "outputs": []
    },
    {
      "cell_type": "markdown",
      "metadata": {
        "id": "-Ny5ZHr9LJRS"
      },
      "source": [
        "## 載入VGG 16 模型"
      ]
    },
    {
      "cell_type": "code",
      "metadata": {
        "colab": {
          "base_uri": "https://localhost:8080/"
        },
        "id": "63PdzKkZLJRT",
        "outputId": "f63524e7-c87a-43d3-eb6b-803bd89198d8"
      },
      "source": [
        "# 載入VGG 16 模型, 不含最上面的三層(辨識層)\n",
        "model = VGG16(weights='imagenet', include_top=False)\n",
        "model.summary()"
      ],
      "execution_count": 3,
      "outputs": [
        {
          "output_type": "stream",
          "name": "stdout",
          "text": [
            "Downloading data from https://storage.googleapis.com/tensorflow/keras-applications/vgg16/vgg16_weights_tf_dim_ordering_tf_kernels_notop.h5\n",
            "58892288/58889256 [==============================] - 0s 0us/step\n",
            "58900480/58889256 [==============================] - 0s 0us/step\n",
            "Model: \"vgg16\"\n",
            "_________________________________________________________________\n",
            "Layer (type)                 Output Shape              Param #   \n",
            "=================================================================\n",
            "input_1 (InputLayer)         [(None, None, None, 3)]   0         \n",
            "_________________________________________________________________\n",
            "block1_conv1 (Conv2D)        (None, None, None, 64)    1792      \n",
            "_________________________________________________________________\n",
            "block1_conv2 (Conv2D)        (None, None, None, 64)    36928     \n",
            "_________________________________________________________________\n",
            "block1_pool (MaxPooling2D)   (None, None, None, 64)    0         \n",
            "_________________________________________________________________\n",
            "block2_conv1 (Conv2D)        (None, None, None, 128)   73856     \n",
            "_________________________________________________________________\n",
            "block2_conv2 (Conv2D)        (None, None, None, 128)   147584    \n",
            "_________________________________________________________________\n",
            "block2_pool (MaxPooling2D)   (None, None, None, 128)   0         \n",
            "_________________________________________________________________\n",
            "block3_conv1 (Conv2D)        (None, None, None, 256)   295168    \n",
            "_________________________________________________________________\n",
            "block3_conv2 (Conv2D)        (None, None, None, 256)   590080    \n",
            "_________________________________________________________________\n",
            "block3_conv3 (Conv2D)        (None, None, None, 256)   590080    \n",
            "_________________________________________________________________\n",
            "block3_pool (MaxPooling2D)   (None, None, None, 256)   0         \n",
            "_________________________________________________________________\n",
            "block4_conv1 (Conv2D)        (None, None, None, 512)   1180160   \n",
            "_________________________________________________________________\n",
            "block4_conv2 (Conv2D)        (None, None, None, 512)   2359808   \n",
            "_________________________________________________________________\n",
            "block4_conv3 (Conv2D)        (None, None, None, 512)   2359808   \n",
            "_________________________________________________________________\n",
            "block4_pool (MaxPooling2D)   (None, None, None, 512)   0         \n",
            "_________________________________________________________________\n",
            "block5_conv1 (Conv2D)        (None, None, None, 512)   2359808   \n",
            "_________________________________________________________________\n",
            "block5_conv2 (Conv2D)        (None, None, None, 512)   2359808   \n",
            "_________________________________________________________________\n",
            "block5_conv3 (Conv2D)        (None, None, None, 512)   2359808   \n",
            "_________________________________________________________________\n",
            "block5_pool (MaxPooling2D)   (None, None, None, 512)   0         \n",
            "=================================================================\n",
            "Total params: 14,714,688\n",
            "Trainable params: 14,714,688\n",
            "Non-trainable params: 0\n",
            "_________________________________________________________________\n"
          ]
        }
      ]
    },
    {
      "cell_type": "code",
      "metadata": {
        "colab": {
          "base_uri": "https://localhost:8080/"
        },
        "id": "PvCKItOeLJRV",
        "outputId": "cc96571f-820b-485a-9968-f61a2ba29a23"
      },
      "source": [
        "# 任選一張圖片，例如大象側面照，取得圖檔的特徵向量\n",
        "img_path = '../images_test/elephant.jpg'\n",
        "\n",
        "# 載入圖檔，並縮放寬高為 (224, 224) \n",
        "img = image.load_img(img_path, target_size=(224, 224))\n",
        "\n",
        "# 加一維，變成 (1, 224, 224)\n",
        "x = image.img_to_array(img)\n",
        "x = np.expand_dims(x, axis=0)\n",
        "x = preprocess_input(x)\n",
        "\n",
        "# 取得圖檔的特徵向量\n",
        "features = model.predict(x)\n",
        "print(features[0])"
      ],
      "execution_count": 4,
      "outputs": [
        {
          "output_type": "stream",
          "name": "stdout",
          "text": [
            "[[[ 0.         0.         0.        ...  0.         0.         0.       ]\n",
            "  [ 0.         0.        42.547764  ...  0.         0.         0.       ]\n",
            "  [ 1.0753386  0.        23.49565   ...  0.         0.         0.       ]\n",
            "  ...\n",
            "  [ 0.         0.         0.        ...  0.         0.         0.       ]\n",
            "  [ 0.         0.         0.        ...  0.         0.         0.       ]\n",
            "  [ 0.         0.         0.        ...  0.         0.         0.       ]]\n",
            "\n",
            " [[ 0.         0.        36.338863  ...  0.         0.         3.40288  ]\n",
            "  [ 0.         0.        80.23628   ...  7.8718963  0.         0.       ]\n",
            "  [ 0.         0.        48.75137   ...  0.         0.         0.       ]\n",
            "  ...\n",
            "  [ 0.         0.         0.        ...  4.581369   0.         0.       ]\n",
            "  [ 0.         0.         0.        ...  0.         0.         0.       ]\n",
            "  [ 0.         0.         0.        ...  0.         0.         0.       ]]\n",
            "\n",
            " [[ 0.         0.         9.85349   ...  0.         0.         2.491967 ]\n",
            "  [ 0.         0.        25.249702  ... 42.276917   0.        15.798381 ]\n",
            "  [ 0.         0.         0.        ... 26.454212   2.2518528  0.       ]\n",
            "  ...\n",
            "  [ 0.         0.         0.        ...  4.5165277  0.         0.       ]\n",
            "  [ 0.         0.         0.        ...  0.         0.         0.       ]\n",
            "  [ 0.         0.         0.        ...  0.         0.         0.       ]]\n",
            "\n",
            " ...\n",
            "\n",
            " [[ 0.         0.         0.        ...  0.         0.         0.       ]\n",
            "  [ 0.         0.         0.        ...  0.         0.         0.       ]\n",
            "  [ 0.         0.        12.312052  ...  0.         0.         0.       ]\n",
            "  ...\n",
            "  [ 0.         0.        22.432764  ...  0.         0.         0.       ]\n",
            "  [ 0.         0.         0.        ...  0.         0.         0.       ]\n",
            "  [ 0.         0.         0.        ...  0.         0.         0.       ]]\n",
            "\n",
            " [[ 0.         0.         0.        ...  0.         0.         0.       ]\n",
            "  [ 0.         0.         0.        ...  0.         0.         0.       ]\n",
            "  [ 0.         0.         0.        ...  0.         0.         0.       ]\n",
            "  ...\n",
            "  [ 0.         0.        10.488866  ...  0.         0.         0.       ]\n",
            "  [ 0.         0.         0.        ...  0.         0.         0.       ]\n",
            "  [ 0.         0.         0.        ...  0.         0.         0.       ]]\n",
            "\n",
            " [[ 0.         0.         0.        ...  0.         0.         0.       ]\n",
            "  [ 0.         0.         0.        ...  0.         0.         0.       ]\n",
            "  [ 0.         0.         0.5006509 ...  0.         0.         0.       ]\n",
            "  ...\n",
            "  [ 0.         0.         0.        ...  0.         0.         0.       ]\n",
            "  [ 0.         0.         0.        ...  0.         0.         0.       ]\n",
            "  [ 0.         0.         0.        ...  0.         0.         0.       ]]]\n"
          ]
        }
      ]
    },
    {
      "cell_type": "code",
      "metadata": {
        "colab": {
          "base_uri": "https://localhost:8080/"
        },
        "id": "on1B7xe_LJRX",
        "outputId": "6a4c57a3-dd15-4b69-c73b-9ec0934d48a3"
      },
      "source": [
        "print(features.shape)"
      ],
      "execution_count": 5,
      "outputs": [
        {
          "output_type": "stream",
          "name": "stdout",
          "text": [
            "(1, 7, 7, 512)\n"
          ]
        }
      ]
    },
    {
      "cell_type": "markdown",
      "metadata": {
        "id": "sa5M4d51LJRY"
      },
      "source": [
        "# 使用 cosine_similarity 比較特徵向量"
      ]
    },
    {
      "cell_type": "markdown",
      "metadata": {
        "id": "nioH-aNmLJRZ"
      },
      "source": [
        "### 步驟 1. 取得 images_test 目錄下所有 .jpg 檔案名稱"
      ]
    },
    {
      "cell_type": "code",
      "metadata": {
        "colab": {
          "base_uri": "https://localhost:8080/"
        },
        "id": "rctsVE6sLJRb",
        "outputId": "3a42a65a-202d-4e62-d67b-b1890678d4b6"
      },
      "source": [
        "from os import listdir\n",
        "from os.path import isfile, join\n",
        "\n",
        "# 取得 images_test 目錄下所有 .jpg 檔案名稱\n",
        "img_path = '../images_test/'\n",
        "image_files = np.array([f for f in listdir(img_path) \n",
        "        if isfile(join(img_path, f)) and f[-3:] == 'jpg'])\n",
        "image_files"
      ],
      "execution_count": 6,
      "outputs": [
        {
          "output_type": "execute_result",
          "data": {
            "text/plain": [
              "array(['elephant2.jpg', 'elephant.jpg', 'tiger2.jpg', 'tiger1.jpg',\n",
              "       'tiger3.jpg', 'bird.jpg', 'lion1.jpg', 'deer.jpg', 'bird2.jpg',\n",
              "       'lion2.jpg', 'panda1.jpg', 'panda2.jpg', 'panda3.jpg', 'rose2.jpg',\n",
              "       'daisy1.jpg', 'daisy2.jpg'], dtype='<U13')"
            ]
          },
          "metadata": {},
          "execution_count": 6
        }
      ]
    },
    {
      "cell_type": "markdown",
      "metadata": {
        "id": "3g9bdFt-LJRc"
      },
      "source": [
        "### 步驟 2. 取得 images_test 目錄下所有 .jpg 檔案的像素"
      ]
    },
    {
      "cell_type": "code",
      "metadata": {
        "id": "TepRiJwULJRc"
      },
      "source": [
        "import numpy as np\n",
        "\n",
        "# 合併所有圖檔的像素\n",
        "X = np.array([])\n",
        "for f in image_files:\n",
        "    image_file = join(img_path, f)\n",
        "    # 載入圖檔，並縮放寬高為 (224, 224) \n",
        "    img = image.load_img(image_file, target_size=(224, 224))\n",
        "    img2 = image.img_to_array(img)\n",
        "    img2 = np.expand_dims(img2, axis=0)\n",
        "    if len(X.shape) == 1:\n",
        "        X = img2\n",
        "    else:\n",
        "        X = np.concatenate((X, img2), axis=0)\n",
        "\n",
        "X = preprocess_input(X)"
      ],
      "execution_count": 7,
      "outputs": []
    },
    {
      "cell_type": "markdown",
      "metadata": {
        "id": "3bJLrY0tLJRd"
      },
      "source": [
        "### 步驟 3. 取得所有圖檔的特徵向量"
      ]
    },
    {
      "cell_type": "code",
      "metadata": {
        "scrolled": true,
        "colab": {
          "base_uri": "https://localhost:8080/"
        },
        "id": "1L9QWqndLJRd",
        "outputId": "8cf31f93-0b17-499d-a50f-51d263a94b6f"
      },
      "source": [
        "# 取得所有圖檔的特徵向量\n",
        "features = model.predict(X)\n",
        "\n",
        "features.shape, X.shape"
      ],
      "execution_count": 8,
      "outputs": [
        {
          "output_type": "execute_result",
          "data": {
            "text/plain": [
              "((16, 7, 7, 512), (16, 224, 224, 3))"
            ]
          },
          "metadata": {},
          "execution_count": 8
        }
      ]
    },
    {
      "cell_type": "markdown",
      "metadata": {
        "id": "fdMaicY2LJRe"
      },
      "source": [
        "### 步驟 4. 使用 cosine_similarity 函數比較特徵向量"
      ]
    },
    {
      "cell_type": "code",
      "metadata": {
        "colab": {
          "base_uri": "https://localhost:8080/"
        },
        "id": "inm-Sq6ULJRe",
        "outputId": "9cd93b85-ed36-4e60-bb08-e90c96812be8"
      },
      "source": [
        "# 使用 cosine_similarity 比較特徵向量\n",
        "from sklearn.metrics.pairwise import cosine_similarity\n",
        "\n",
        "\n",
        "# 比較 Tiger2.jpg 與其他圖檔特徵向量\n",
        "no=-2\n",
        "print(image_files[no])\n",
        "\n",
        "# 轉為二維向量，類似扁平層(Flatten)\n",
        "features2 = features.reshape((features.shape[0], -1))\n",
        "\n",
        "# 排除 Tiger2.jpg 的其他圖檔特徵向量\n",
        "other_features = np.concatenate((features2[:no], features2[no+1:]))\n",
        "\n",
        "# 使用 cosine_similarity 計算 Cosine 函數\n",
        "similar_list = cosine_similarity(features2[no:no+1], other_features, \n",
        "                                 dense_output=False)\n",
        "\n",
        "# 顯示相似度，由大排到小\n",
        "print(np.sort(similar_list[0])[::-1])\n",
        "\n",
        "# 依相似度，由大排到小，顯示檔名\n",
        "image_files2 = np.delete(image_files, no)\n",
        "image_files2[np.argsort(similar_list[0])[::-1]]"
      ],
      "execution_count": 9,
      "outputs": [
        {
          "output_type": "stream",
          "name": "stdout",
          "text": [
            "daisy1.jpg\n",
            "[0.19570272 0.05166131 0.03469756 0.03114462 0.03097638 0.0268551\n",
            " 0.02586457 0.02431086 0.02324399 0.02200264 0.02107495 0.02007598\n",
            " 0.0199604  0.01920781 0.0162836 ]\n"
          ]
        },
        {
          "output_type": "execute_result",
          "data": {
            "text/plain": [
              "array(['daisy2.jpg', 'rose2.jpg', 'panda1.jpg', 'tiger2.jpg',\n",
              "       'elephant2.jpg', 'panda3.jpg', 'bird2.jpg', 'lion1.jpg',\n",
              "       'tiger1.jpg', 'elephant.jpg', 'tiger3.jpg', 'lion2.jpg',\n",
              "       'deer.jpg', 'panda2.jpg', 'bird.jpg'], dtype='<U13')"
            ]
          },
          "metadata": {},
          "execution_count": 9
        }
      ]
    },
    {
      "cell_type": "markdown",
      "metadata": {
        "id": "O37cS-XuLJRf"
      },
      "source": [
        "### 其他圖檔比較"
      ]
    },
    {
      "cell_type": "code",
      "metadata": {
        "colab": {
          "base_uri": "https://localhost:8080/"
        },
        "id": "2zMfE3_BLJRf",
        "outputId": "b9999069-8659-4c25-8cd0-c1c71d79640e"
      },
      "source": [
        "# 比較對象：bird.jpg\n",
        "no=0\n",
        "print(image_files[no])\n",
        "\n",
        "\n",
        "# 使用 cosine_similarity 計算 Cosine 函數\n",
        "other_features = np.concatenate((features2[:no], features2[no+1:]))\n",
        "similar_list = cosine_similarity(features2[no:no+1], other_features, \n",
        "                                 dense_output=False)\n",
        "\n",
        "# 顯示相似度，由大排到小\n",
        "print(np.sort(similar_list[0])[::-1])\n",
        "\n",
        "# 依相似度，由大排到小，顯示檔名\n",
        "image_files2 = np.delete(image_files, no)\n",
        "image_files2[np.argsort(similar_list[0])[::-1]]"
      ],
      "execution_count": 10,
      "outputs": [
        {
          "output_type": "stream",
          "name": "stdout",
          "text": [
            "elephant2.jpg\n",
            "[0.29506835 0.18226714 0.16894677 0.10598635 0.09735928 0.07993932\n",
            " 0.07924502 0.0768037  0.07652343 0.07266308 0.07242106 0.06952199\n",
            " 0.06780844 0.0421958  0.03097638]\n"
          ]
        },
        {
          "output_type": "execute_result",
          "data": {
            "text/plain": [
              "array(['elephant.jpg', 'lion1.jpg', 'tiger2.jpg', 'rose2.jpg',\n",
              "       'tiger1.jpg', 'bird.jpg', 'bird2.jpg', 'panda2.jpg', 'panda3.jpg',\n",
              "       'panda1.jpg', 'tiger3.jpg', 'deer.jpg', 'lion2.jpg', 'daisy2.jpg',\n",
              "       'daisy1.jpg'], dtype='<U13')"
            ]
          },
          "metadata": {},
          "execution_count": 10
        }
      ]
    },
    {
      "cell_type": "code",
      "metadata": {
        "id": "ZvhOw4GKLJRh"
      },
      "source": [
        ""
      ],
      "execution_count": null,
      "outputs": []
    }
  ]
}