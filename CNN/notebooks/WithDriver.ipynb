{
  "nbformat": 4,
  "nbformat_minor": 0,
  "metadata": {
    "colab": {
      "name": "WithDriver.ipynb",
      "provenance": [],
      "authorship_tag": "ABX9TyO+zxNE2O0qe5v9RqXsdvD9",
      "include_colab_link": true
    },
    "kernelspec": {
      "name": "python3",
      "display_name": "Python 3"
    },
    "language_info": {
      "name": "python"
    }
  },
  "cells": [
    {
      "cell_type": "markdown",
      "metadata": {
        "id": "view-in-github",
        "colab_type": "text"
      },
      "source": [
        "<a href=\"https://colab.research.google.com/github/jumbokh/nknu-class/blob/main/CNN/notebooks/WithDriver.ipynb\" target=\"_parent\"><img src=\"https://colab.research.google.com/assets/colab-badge.svg\" alt=\"Open In Colab\"/></a>"
      ]
    },
    {
      "cell_type": "code",
      "metadata": {
        "colab": {
          "base_uri": "https://localhost:8080/"
        },
        "id": "KtDN58uVYMnu",
        "outputId": "81a6ee0e-c14a-408f-8a2e-ae585d89203b"
      },
      "source": [
        "from google.colab import drive\n",
        "drive.mount('/content/gdrive')"
      ],
      "execution_count": 1,
      "outputs": [
        {
          "output_type": "stream",
          "name": "stdout",
          "text": [
            "Mounted at /content/gdrive\n"
          ]
        }
      ]
    },
    {
      "cell_type": "code",
      "metadata": {
        "id": "6kQJuNKBYSeN"
      },
      "source": [
        "!ln -fs /content/gdrive/My\\ Drive /app"
      ],
      "execution_count": 2,
      "outputs": []
    },
    {
      "cell_type": "code",
      "metadata": {
        "colab": {
          "base_uri": "https://localhost:8080/"
        },
        "id": "kOMV3SPWYVWP",
        "outputId": "9cf8ad11-07a4-4ee6-be44-e2df1f428542"
      },
      "source": [
        "!tar -xzvf /app/cuDNN/cudnn-10.0-linux-x64-v7.5.0.56.tgz -C /usr/local/\n",
        "!chmod a+r /usr/local/cuda/include/cudnn.h\n",
        "\n",
        "# 檢查是否安裝成功\n",
        "!cat /usr/local/cuda/include/cudnn.h | grep CUDNN_MAJOR -A 2"
      ],
      "execution_count": 3,
      "outputs": [
        {
          "output_type": "stream",
          "name": "stdout",
          "text": [
            "cuda/include/cudnn.h\n",
            "cuda/NVIDIA_SLA_cuDNN_Support.txt\n",
            "cuda/lib64/libcudnn.so\n",
            "cuda/lib64/libcudnn.so.7\n",
            "cuda/lib64/libcudnn.so.7.5.0\n",
            "cuda/lib64/libcudnn_static.a\n",
            "#define CUDNN_MAJOR 7\n",
            "#define CUDNN_MINOR 5\n",
            "#define CUDNN_PATCHLEVEL 0\n",
            "--\n",
            "#define CUDNN_VERSION (CUDNN_MAJOR * 1000 + CUDNN_MINOR * 100 + CUDNN_PATCHLEVEL)\n",
            "\n",
            "#include \"driver_types.h\"\n"
          ]
        }
      ]
    },
    {
      "cell_type": "code",
      "metadata": {
        "colab": {
          "base_uri": "https://localhost:8080/"
        },
        "id": "Sk_b5DEGZerC",
        "outputId": "e410b618-59c1-47f1-ff80-2e4e365b5529"
      },
      "source": [
        "import tensorflow as tf\n",
        "cifar10 = tf.keras.datasets.cifar10\n",
        "\n",
        "# 載入 cifar10 資料\n",
        "(x_train, y_train),(x_test, y_test) = cifar10.load_data()\n",
        "\n",
        "# 訓練/測試資料的 X/y 維度\n",
        "print(x_train.shape, y_train.shape,x_test.shape, y_test.shape)"
      ],
      "execution_count": 4,
      "outputs": [
        {
          "output_type": "stream",
          "name": "stdout",
          "text": [
            "Downloading data from https://www.cs.toronto.edu/~kriz/cifar-10-python.tar.gz\n",
            "170500096/170498071 [==============================] - 4s 0us/step\n",
            "170508288/170498071 [==============================] - 4s 0us/step\n",
            "(50000, 32, 32, 3) (50000, 1) (10000, 32, 32, 3) (10000, 1)\n"
          ]
        }
      ]
    },
    {
      "cell_type": "code",
      "metadata": {
        "colab": {
          "base_uri": "https://localhost:8080/"
        },
        "id": "C7rRFNT9ZfRR",
        "outputId": "7d75b492-5c42-4a06-f26f-7b8331dd1f5f"
      },
      "source": [
        "# 轉成單色：rgb_to_grayscale\n",
        "x_train = tf.image.rgb_to_grayscale(x_train)\n",
        "x_test = tf.image.rgb_to_grayscale(x_test)\n",
        "print(x_train.shape, x_test.shape)"
      ],
      "execution_count": 5,
      "outputs": [
        {
          "output_type": "stream",
          "name": "stdout",
          "text": [
            "(50000, 32, 32, 1) (10000, 32, 32, 1)\n"
          ]
        }
      ]
    },
    {
      "cell_type": "code",
      "metadata": {
        "id": "dwR-vDcMZmxl"
      },
      "source": [
        "# 特徵縮放，使用常態化(Normalization)，公式 = (x - min) / (max - min)\n",
        "x_train_norm, x_test_norm = x_train / 255, x_test / 255"
      ],
      "execution_count": 6,
      "outputs": []
    },
    {
      "cell_type": "code",
      "metadata": {
        "colab": {
          "base_uri": "https://localhost:8080/"
        },
        "id": "OMxupr8NZp3j",
        "outputId": "27035597-8d29-43c2-90b4-f9787402a5b4"
      },
      "source": [
        "# 建立模型\n",
        "model = tf.keras.models.Sequential([\n",
        "    tf.keras.layers.Flatten(input_shape=x_train.shape[1:3]),\n",
        "    tf.keras.layers.Dense(128, activation='relu'),\n",
        "    tf.keras.layers.Dropout(0.2),\n",
        "    tf.keras.layers.Dense(10, activation='softmax')\n",
        "])\n",
        "\n",
        "# 設定優化器(optimizer)、損失函數(loss)、效能衡量指標(metrics)的類別\n",
        "model.compile(optimizer='adam',\n",
        "              loss=tf.keras.losses.SparseCategoricalCrossentropy(from_logits=True),\n",
        "              metrics=['accuracy'])\n",
        "\n",
        "# 模型訓練\n",
        "history = model.fit(x_train_norm, y_train, epochs=10, validation_split=0.2)\n",
        "\n",
        "# 評分(Score Model)\n",
        "score=model.evaluate(x_test_norm, y_test, verbose=0)\n",
        "\n",
        "for i, x in enumerate(score):\n",
        "    print(f'{model.metrics_names[i]}: {score[i]:.4f}')"
      ],
      "execution_count": 7,
      "outputs": [
        {
          "output_type": "stream",
          "name": "stdout",
          "text": [
            "Epoch 1/10\n"
          ]
        },
        {
          "output_type": "stream",
          "name": "stderr",
          "text": [
            "/usr/local/lib/python3.7/dist-packages/keras/backend.py:4907: UserWarning: \"`sparse_categorical_crossentropy` received `from_logits=True`, but the `output` argument was produced by a sigmoid or softmax activation and thus does not represent logits. Was this intended?\"\n",
            "  '\"`sparse_categorical_crossentropy` received `from_logits=True`, but '\n"
          ]
        },
        {
          "output_type": "stream",
          "name": "stdout",
          "text": [
            "1250/1250 [==============================] - 4s 3ms/step - loss: 2.1346 - accuracy: 0.2099 - val_loss: 2.0446 - val_accuracy: 0.2643\n",
            "Epoch 2/10\n",
            "1250/1250 [==============================] - 3s 3ms/step - loss: 2.0581 - accuracy: 0.2475 - val_loss: 2.0032 - val_accuracy: 0.2849\n",
            "Epoch 3/10\n",
            "1250/1250 [==============================] - 4s 3ms/step - loss: 2.0279 - accuracy: 0.2614 - val_loss: 1.9696 - val_accuracy: 0.2953\n",
            "Epoch 4/10\n",
            "1250/1250 [==============================] - 4s 3ms/step - loss: 2.0036 - accuracy: 0.2692 - val_loss: 1.9425 - val_accuracy: 0.3030\n",
            "Epoch 5/10\n",
            "1250/1250 [==============================] - 4s 3ms/step - loss: 1.9840 - accuracy: 0.2780 - val_loss: 1.9213 - val_accuracy: 0.3039\n",
            "Epoch 6/10\n",
            "1250/1250 [==============================] - 4s 3ms/step - loss: 1.9668 - accuracy: 0.2846 - val_loss: 1.9108 - val_accuracy: 0.3143\n",
            "Epoch 7/10\n",
            "1250/1250 [==============================] - 4s 3ms/step - loss: 1.9577 - accuracy: 0.2849 - val_loss: 1.9028 - val_accuracy: 0.3185\n",
            "Epoch 8/10\n",
            "1250/1250 [==============================] - 4s 3ms/step - loss: 1.9530 - accuracy: 0.2892 - val_loss: 1.9171 - val_accuracy: 0.3137\n",
            "Epoch 9/10\n",
            "1250/1250 [==============================] - 4s 3ms/step - loss: 1.9492 - accuracy: 0.2920 - val_loss: 1.8876 - val_accuracy: 0.3247\n",
            "Epoch 10/10\n",
            "1250/1250 [==============================] - 5s 4ms/step - loss: 1.9430 - accuracy: 0.2907 - val_loss: 1.8886 - val_accuracy: 0.3202\n",
            "loss: 1.8896\n",
            "accuracy: 0.3242\n"
          ]
        }
      ]
    },
    {
      "cell_type": "code",
      "metadata": {
        "colab": {
          "base_uri": "https://localhost:8080/",
          "height": 297
        },
        "id": "kuo-4OwsZulx",
        "outputId": "45bfe952-4558-4616-abfd-755cf58434dd"
      },
      "source": [
        "import matplotlib.pyplot as plt\n",
        "\n",
        "plt.plot(history.history['accuracy'], label='accuracy')\n",
        "plt.plot(history.history['val_accuracy'], label = 'val_accuracy')\n",
        "plt.xlabel('Epoch')\n",
        "plt.ylabel('Accuracy')\n",
        "plt.legend(loc='lower right')"
      ],
      "execution_count": 8,
      "outputs": [
        {
          "output_type": "execute_result",
          "data": {
            "text/plain": [
              "<matplotlib.legend.Legend at 0x7f8b0f831150>"
            ]
          },
          "metadata": {},
          "execution_count": 8
        },
        {
          "output_type": "display_data",
          "data": {
            "image/png": "[encoded data removed]",
            "text/plain": [
              "<Figure size 432x288 with 1 Axes>"
            ]
          },
          "metadata": {
            "needs_background": "light"
          }
        }
      ]
    },
    {
      "cell_type": "code",
      "metadata": {
        "colab": {
          "base_uri": "https://localhost:8080/"
        },
        "id": "vorbwoL3ZyJs",
        "outputId": "d9a38631-3c70-4b63-e9f7-da9506aee4b1"
      },
      "source": [
        "model.summary()"
      ],
      "execution_count": 9,
      "outputs": [
        {
          "output_type": "stream",
          "name": "stdout",
          "text": [
            "Model: \"sequential\"\n",
            "_________________________________________________________________\n",
            "Layer (type)                 Output Shape              Param #   \n",
            "=================================================================\n",
            "flatten (Flatten)            (None, 1024)              0         \n",
            "_________________________________________________________________\n",
            "dense (Dense)                (None, 128)               131200    \n",
            "_________________________________________________________________\n",
            "dropout (Dropout)            (None, 128)               0         \n",
            "_________________________________________________________________\n",
            "dense_1 (Dense)              (None, 10)                1290      \n",
            "=================================================================\n",
            "Total params: 132,490\n",
            "Trainable params: 132,490\n",
            "Non-trainable params: 0\n",
            "_________________________________________________________________\n"
          ]
        }
      ]
    }
  ]
}