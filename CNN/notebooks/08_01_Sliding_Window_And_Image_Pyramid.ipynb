{
  "nbformat": 4,
  "nbformat_minor": 0,
  "metadata": {
    "kernelspec": {
      "display_name": "Python 3",
      "language": "python",
      "name": "python3"
    },
    "language_info": {
      "codemirror_mode": {
        "name": "ipython",
        "version": 3
      },
      "file_extension": ".py",
      "mimetype": "text/x-python",
      "name": "python",
      "nbconvert_exporter": "python",
      "pygments_lexer": "ipython3",
      "version": "3.8.3"
    },
    "colab": {
      "name": "08_01_Sliding_Window_And_Image_Pyramid.ipynb",
      "provenance": [],
      "include_colab_link": true
    }
  },
  "cells": [
    {
      "cell_type": "markdown",
      "metadata": {
        "id": "view-in-github",
        "colab_type": "text"
      },
      "source": [
        "<a href=\"https://colab.research.google.com/github/jumbokh/nknu-class/blob/main/CNN/notebooks/08_01_Sliding_Window_And_Image_Pyramid.ipynb\" target=\"_parent\"><img src=\"https://colab.research.google.com/assets/colab-badge.svg\" alt=\"Open In Colab\"/></a>"
      ]
    },
    {
      "cell_type": "markdown",
      "metadata": {
        "id": "Km_TAgWq_56K"
      },
      "source": [
        "# 範例1. 對圖片滑動視窗並作影像金字塔\n",
        "### 原程式來自Sliding Windows for Object Detection with Python and OpenCV (https://www.pyimagesearch.com/2015/03/23/sliding-windows-for-object-detection-with-python-and-opencv/)"
      ]
    },
    {
      "cell_type": "code",
      "metadata": {
        "id": "CGsvw1RT_56R"
      },
      "source": [
        "# 需安裝 OpenCV、imutils\n",
        "!pip install opencv-python\n",
        "!pip install imutils"
      ],
      "execution_count": null,
      "outputs": []
    },
    {
      "cell_type": "code",
      "metadata": {
        "id": "EBEXWjK__56U"
      },
      "source": [
        "# 載入套件\n",
        "import cv2\n",
        "import time\n",
        "import imutils"
      ],
      "execution_count": null,
      "outputs": []
    },
    {
      "cell_type": "code",
      "metadata": {
        "id": "dbihCiBy_56U"
      },
      "source": [
        "# 影像金字塔操作\n",
        "# image：原圖，scale：每次縮小倍數，minSize：最小尺寸\n",
        "def pyramid(image, scale=1.5, minSize=(30, 30)):\n",
        "    # 第一次傳回原圖\n",
        "    yield image\n",
        "\n",
        "    while True:\n",
        "        # 計算縮小後的尺寸\n",
        "        w = int(image.shape[1] / scale)\n",
        "        # 縮小\n",
        "        image = imutils.resize(image, width=w)\n",
        "        # 直到最小尺寸為止\n",
        "        if image.shape[0] < minSize[1] or image.shape[1] < minSize[0]:\n",
        "            break\n",
        "        # 傳回縮小後的圖像\n",
        "        yield image"
      ],
      "execution_count": null,
      "outputs": []
    },
    {
      "cell_type": "code",
      "metadata": {
        "id": "K9gv1SAI_56V"
      },
      "source": [
        "# 滑動視窗        \n",
        "def sliding_window(image, stepSize, windowSize):    \n",
        "    for y in range(0, image.shape[0], stepSize):     # 向下滑動 stepSize 格\n",
        "        for x in range(0, image.shape[1], stepSize): # 向右滑動 stepSize 格\n",
        "            # 傳回裁剪後的視窗\n",
        "            yield (x, y, image[y:y + windowSize[1], x:x + windowSize[0]])"
      ],
      "execution_count": null,
      "outputs": []
    },
    {
      "cell_type": "markdown",
      "metadata": {
        "id": "LQfMdP4w_56V"
      },
      "source": [
        "## 測試"
      ]
    },
    {
      "cell_type": "code",
      "metadata": {
        "id": "-ERr7Q3d_56W"
      },
      "source": [
        "# 讀取一個圖檔\n",
        "image = cv2.imread('./images_Object_Detection/lena.jpg')\n",
        "\n",
        "# 視窗尺寸\n",
        "(winW, winH) = (128, 128)\n",
        "\n",
        "# 取得影像金字塔各種尺寸\n",
        "for resized in pyramid(image, scale=1.5):\n",
        "    # 滑動視窗\n",
        "    for (x, y, window) in sliding_window(resized, stepSize=32, \n",
        "                                         windowSize=(winW, winH)):\n",
        "        # 視窗尺寸不合即放棄，滑動至邊緣時，尺寸過小\n",
        "        if window.shape[0] != winH or window.shape[1] != winW:\n",
        "            continue\n",
        "        # 標示滑動的視窗\n",
        "        clone = resized.copy()\n",
        "        cv2.rectangle(clone, (x, y), (x + winW, y + winH), (0, 255, 0), 2)\n",
        "        cv2.imshow(\"Window\", clone)\n",
        "        cv2.waitKey(1)\n",
        "        # 暫停\n",
        "        time.sleep(0.025)\n",
        "\n",
        "# 結束時關閉視窗        \n",
        "cv2.destroyAllWindows()"
      ],
      "execution_count": null,
      "outputs": []
    },
    {
      "cell_type": "code",
      "metadata": {
        "id": "xjabhUur_56X"
      },
      "source": [
        ""
      ],
      "execution_count": null,
      "outputs": []
    }
  ]
}