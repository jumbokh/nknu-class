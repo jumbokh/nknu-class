{
  "nbformat": 4,
  "nbformat_minor": 0,
  "metadata": {
    "kernelspec": {
      "display_name": "Python 3",
      "language": "python",
      "name": "python3"
    },
    "language_info": {
      "codemirror_mode": {
        "name": "ipython",
        "version": 3
      },
      "file_extension": ".py",
      "mimetype": "text/x-python",
      "name": "python",
      "nbconvert_exporter": "python",
      "pygments_lexer": "ipython3",
      "version": "3.8.3"
    },
    "colab": {
      "name": "06_05_Data_Augmentation_MNIST.ipynb",
      "provenance": [],
      "include_colab_link": true
    },
    "accelerator": "GPU"
  },
  "cells": [
    {
      "cell_type": "markdown",
      "metadata": {
        "id": "view-in-github",
        "colab_type": "text"
      },
      "source": [
        "<a href=\"https://colab.research.google.com/github/jumbokh/nknu-class/blob/main/CNN/notebooks/06_05_Data_Augmentation_MNIST.ipynb\" target=\"_parent\"><img src=\"https://colab.research.google.com/assets/colab-badge.svg\" alt=\"Open In Colab\"/></a>"
      ]
    },
    {
      "cell_type": "markdown",
      "metadata": {
        "id": "KO6ojOS9b-2w"
      },
      "source": [
        "# MNIST 模型強化"
      ]
    },
    {
      "cell_type": "code",
      "metadata": {
        "colab": {
          "base_uri": "https://localhost:8080/"
        },
        "id": "DlriL_u2cB9q",
        "outputId": "02baeb03-628a-4844-9395-026d4f3b7b0c"
      },
      "source": [
        "from google.colab import drive\n",
        "drive.mount('/content/gdrive')\n",
        "!ln -fs /content/gdrive/My\\ Drive /app"
      ],
      "execution_count": 1,
      "outputs": [
        {
          "output_type": "stream",
          "name": "stdout",
          "text": [
            "Mounted at /content/gdrive\n"
          ]
        }
      ]
    },
    {
      "cell_type": "code",
      "metadata": {
        "colab": {
          "base_uri": "https://localhost:8080/"
        },
        "id": "nfZuQGUucHEI",
        "outputId": "160a4147-1214-4112-badf-5b5582c8af8e"
      },
      "source": [
        "!tar -xzvf /app/cuDNN/cudnn-10.0-linux-x64-v7.5.0.56.tgz -C /usr/local/\n",
        "!chmod a+r /usr/local/cuda/include/cudnn.h\n",
        "\n",
        "# 檢查是否安裝成功\n",
        "!cat /usr/local/cuda/include/cudnn.h | grep CUDNN_MAJOR -A 2"
      ],
      "execution_count": 2,
      "outputs": [
        {
          "output_type": "stream",
          "name": "stdout",
          "text": [
            "cuda/include/cudnn.h\n",
            "cuda/NVIDIA_SLA_cuDNN_Support.txt\n",
            "cuda/lib64/libcudnn.so\n",
            "cuda/lib64/libcudnn.so.7\n",
            "cuda/lib64/libcudnn.so.7.5.0\n",
            "cuda/lib64/libcudnn_static.a\n",
            "#define CUDNN_MAJOR 7\n",
            "#define CUDNN_MINOR 5\n",
            "#define CUDNN_PATCHLEVEL 0\n",
            "--\n",
            "#define CUDNN_VERSION (CUDNN_MAJOR * 1000 + CUDNN_MINOR * 100 + CUDNN_PATCHLEVEL)\n",
            "\n",
            "#include \"driver_types.h\"\n"
          ]
        }
      ]
    },
    {
      "cell_type": "markdown",
      "metadata": {
        "id": "Blf2obpob-21"
      },
      "source": [
        "## 步驟1：載入 MNIST 手寫阿拉伯數字資料"
      ]
    },
    {
      "cell_type": "code",
      "metadata": {
        "colab": {
          "base_uri": "https://localhost:8080/"
        },
        "id": "57RWxYQvb-22",
        "outputId": "99a609fa-869a-4512-e904-043f8cc0acef"
      },
      "source": [
        "import tensorflow as tf\n",
        "mnist = tf.keras.datasets.mnist\n",
        "\n",
        "# 載入 MNIST 手寫阿拉伯數字資料\n",
        "(x_train, y_train),(x_test, y_test) = mnist.load_data()"
      ],
      "execution_count": 3,
      "outputs": [
        {
          "output_type": "stream",
          "name": "stdout",
          "text": [
            "Downloading data from https://storage.googleapis.com/tensorflow/tf-keras-datasets/mnist.npz\n",
            "11493376/11490434 [==============================] - 0s 0us/step\n",
            "11501568/11490434 [==============================] - 0s 0us/step\n"
          ]
        }
      ]
    },
    {
      "cell_type": "markdown",
      "metadata": {
        "id": "OVifIq_yb-24"
      },
      "source": [
        "## 步驟2：改用 CNN 模型"
      ]
    },
    {
      "cell_type": "code",
      "metadata": {
        "id": "AgNQRdfjb-24"
      },
      "source": [
        "# 建立模型\n",
        "from tensorflow.keras import layers\n",
        "import numpy as np\n",
        "\n",
        "input_shape=(28, 28, 1)\n",
        "# 增加一維在最後面\n",
        "x_train = np.expand_dims(x_train, -1)\n",
        "x_test = np.expand_dims(x_test, -1)\n",
        "\n",
        "# CNN 模型\n",
        "model = tf.keras.Sequential(\n",
        "    [\n",
        "        tf.keras.Input(shape=input_shape),\n",
        "        layers.Conv2D(32, kernel_size=(3, 3), activation=\"relu\"),\n",
        "        layers.MaxPooling2D(pool_size=(2, 2)),\n",
        "        layers.Conv2D(64, kernel_size=(3, 3), activation=\"relu\"),\n",
        "        layers.MaxPooling2D(pool_size=(2, 2)),\n",
        "        layers.Flatten(),\n",
        "        layers.Dropout(0.5),\n",
        "        layers.Dense(10, activation=\"softmax\"),\n",
        "    ]\n",
        ")\n",
        "\n",
        "# 設定優化器(optimizer)、損失函數(loss)、效能衡量指標(metrics)的類別\n",
        "model.compile(optimizer='adam',\n",
        "              loss='sparse_categorical_crossentropy',\n",
        "              metrics=['accuracy'])"
      ],
      "execution_count": 4,
      "outputs": []
    },
    {
      "cell_type": "markdown",
      "metadata": {
        "id": "NxqsD0S1b-25"
      },
      "source": [
        "## 步驟3：資料增補(Data Augmentation)"
      ]
    },
    {
      "cell_type": "code",
      "metadata": {
        "colab": {
          "base_uri": "https://localhost:8080/"
        },
        "id": "f2459IjCb-25",
        "outputId": "751df6ed-f3cd-4ff2-f010-3f4666269d8b"
      },
      "source": [
        "# 參數設定\n",
        "batch_size = 1000\n",
        "epochs = 5\n",
        "\n",
        "# 資料增補定義\n",
        "datagen = tf.keras.preprocessing.image.ImageDataGenerator(\n",
        "        rescale=1./255,         # 特徵縮放\n",
        "        rotation_range=10,      # 旋轉 10 度\n",
        "        zoom_range=0.1,         # 拉遠/拉近 10%\n",
        "        width_shift_range=0.1,  # 寬度偏移  10%\n",
        "        height_shift_range=0.1) # 高度偏移  10%\n",
        "\n",
        "# 增補資料，進行模型訓練\n",
        "datagen.fit(x_train)\n",
        "history = model.fit(datagen.flow(x_train, y_train, batch_size=batch_size), epochs=epochs,\n",
        "          validation_data=datagen.flow(x_test, y_test, batch_size=batch_size), verbose=2,\n",
        "          steps_per_epoch=x_train.shape[0]//batch_size)"
      ],
      "execution_count": 5,
      "outputs": [
        {
          "output_type": "stream",
          "name": "stdout",
          "text": [
            "Epoch 1/5\n",
            "60/60 - 54s - loss: 1.3753 - accuracy: 0.5472 - val_loss: 0.5866 - val_accuracy: 0.8311\n",
            "Epoch 2/5\n",
            "60/60 - 25s - loss: 0.5452 - accuracy: 0.8286 - val_loss: 0.3324 - val_accuracy: 0.9027\n",
            "Epoch 3/5\n",
            "60/60 - 23s - loss: 0.3750 - accuracy: 0.8837 - val_loss: 0.2350 - val_accuracy: 0.9322\n",
            "Epoch 4/5\n",
            "60/60 - 23s - loss: 0.3115 - accuracy: 0.9041 - val_loss: 0.1902 - val_accuracy: 0.9448\n",
            "Epoch 5/5\n",
            "60/60 - 23s - loss: 0.2698 - accuracy: 0.9188 - val_loss: 0.1696 - val_accuracy: 0.9508\n"
          ]
        }
      ]
    },
    {
      "cell_type": "code",
      "metadata": {
        "colab": {
          "base_uri": "https://localhost:8080/"
        },
        "id": "akOrG-SSb-27",
        "outputId": "53fa8560-64cc-4538-bcd4-b6374b600929"
      },
      "source": [
        "# 評分(Score Model)\n",
        "score=model.evaluate(x_test, y_test, verbose=0)\n",
        "\n",
        "for i, x in enumerate(score):\n",
        "    print(f'{model.metrics_names[i]}: {score[i]:.4f}')"
      ],
      "execution_count": 6,
      "outputs": [
        {
          "output_type": "stream",
          "name": "stdout",
          "text": [
            "loss: 10.0298\n",
            "accuracy: 0.9759\n"
          ]
        }
      ]
    },
    {
      "cell_type": "markdown",
      "metadata": {
        "id": "YB-PucAPb-28"
      },
      "source": [
        "## 步驟4：測試自行繪製的數字"
      ]
    },
    {
      "cell_type": "code",
      "metadata": {
        "colab": {
          "base_uri": "https://localhost:8080/"
        },
        "id": "GKlKj-sdb-28",
        "outputId": "56ac58b2-0cfe-4d7e-ca98-80c6eb9a8071"
      },
      "source": [
        "# 使用小畫家，繪製 0~9，實際測試看看\n",
        "from skimage import io\n",
        "from skimage.transform import resize\n",
        "import numpy as np\n",
        "\n",
        "# 讀取影像並轉為單色\n",
        "uploaded_file = '/app/DL_Book/myDigits/9.png'\n",
        "image1 = io.imread(uploaded_file, as_gray=True)\n",
        "\n",
        "# 縮為 (28, 28) 大小的影像\n",
        "image_resized = resize(image1, (28, 28), anti_aliasing=True)    \n",
        "X1 = image_resized.reshape(1,28, 28, 1) #/ 255\n",
        "\n",
        "# 反轉顏色，顏色0為白色，與 RGB 色碼不同，它的 0 為黑色\n",
        "X1 = np.abs(1-X1)\n",
        "\n",
        "# 預測\n",
        "predictions = np.argmax(model.predict(X1), axis=-1)\n",
        "print(predictions)"
      ],
      "execution_count": 8,
      "outputs": [
        {
          "output_type": "stream",
          "name": "stdout",
          "text": [
            "[9]\n"
          ]
        }
      ]
    },
    {
      "cell_type": "code",
      "metadata": {
        "id": "XQSHoRIFb-29"
      },
      "source": [
        ""
      ],
      "execution_count": null,
      "outputs": []
    }
  ]
}