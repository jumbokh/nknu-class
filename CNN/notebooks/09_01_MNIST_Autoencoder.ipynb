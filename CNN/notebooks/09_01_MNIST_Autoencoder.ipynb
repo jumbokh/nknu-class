{
  "nbformat": 4,
  "nbformat_minor": 0,
  "metadata": {
    "kernelspec": {
      "display_name": "Python 3",
      "language": "python",
      "name": "python3"
    },
    "language_info": {
      "codemirror_mode": {
        "name": "ipython",
        "version": 3
      },
      "file_extension": ".py",
      "mimetype": "text/x-python",
      "name": "python",
      "nbconvert_exporter": "python",
      "pygments_lexer": "ipython3",
      "version": "3.8.3"
    },
    "colab": {
      "name": "09_01_MNIST_Autoencoder.ipynb",
      "provenance": [],
      "include_colab_link": true
    }
  },
  "cells": [
    {
      "cell_type": "markdown",
      "metadata": {
        "id": "view-in-github",
        "colab_type": "text"
      },
      "source": [
        "<a href=\"https://colab.research.google.com/github/jumbokh/nknu-class/blob/main/CNN/notebooks/09_01_MNIST_Autoencoder.ipynb\" target=\"_parent\"><img src=\"https://colab.research.google.com/assets/colab-badge.svg\" alt=\"Open In Colab\"/></a>"
      ]
    },
    {
      "cell_type": "markdown",
      "metadata": {
        "id": "CC5IxZ_TPazW"
      },
      "source": [
        "# AutoEncoder 與去除雜訊"
      ]
    },
    {
      "cell_type": "code",
      "metadata": {
        "id": "SVmNxy72Pazc"
      },
      "source": [
        "# 載入相關套件\n",
        "import numpy as np\n",
        "import tensorflow as tf\n",
        "import tensorflow.keras as K\n",
        "import matplotlib.pyplot as plt\n",
        "from tensorflow.keras.layers import Dense, Conv2D, MaxPooling2D, UpSampling2D"
      ],
      "execution_count": 1,
      "outputs": []
    },
    {
      "cell_type": "markdown",
      "metadata": {
        "id": "g-NZsXvyPazf"
      },
      "source": [
        "## 超參數設定"
      ]
    },
    {
      "cell_type": "code",
      "metadata": {
        "id": "szOXhf-GPazf"
      },
      "source": [
        "# 超參數設定\n",
        "batch_size = 128     # 訓練批量\n",
        "max_epochs = 50      # 訓練執行週期\n",
        "filters = [32,32,16] # 三層卷積層的輸出個數"
      ],
      "execution_count": 2,
      "outputs": []
    },
    {
      "cell_type": "markdown",
      "metadata": {
        "id": "RLgbbbkbPazg"
      },
      "source": [
        "## 取得 MNIST 訓練資料"
      ]
    },
    {
      "cell_type": "code",
      "metadata": {
        "colab": {
          "base_uri": "https://localhost:8080/"
        },
        "id": "ZchXYUI1Pazg",
        "outputId": "67d3287b-04dc-4892-e23c-afa256e850bf"
      },
      "source": [
        "# 只取 X ，不需 Y\n",
        "(x_train, _), (x_test, _) = K.datasets.mnist.load_data()\n",
        "\n",
        "# 常態化\n",
        "x_train = x_train / 255.\n",
        "x_test = x_test / 255.\n",
        "\n",
        "# 加一維：色彩\n",
        "x_train = np.reshape(x_train, (len(x_train),28, 28, 1))\n",
        "x_test = np.reshape(x_test, (len(x_test), 28, 28, 1))"
      ],
      "execution_count": 3,
      "outputs": [
        {
          "output_type": "stream",
          "name": "stdout",
          "text": [
            "Downloading data from https://storage.googleapis.com/tensorflow/tf-keras-datasets/mnist.npz\n",
            "11493376/11490434 [==============================] - 0s 0us/step\n",
            "11501568/11490434 [==============================] - 0s 0us/step\n"
          ]
        }
      ]
    },
    {
      "cell_type": "markdown",
      "metadata": {
        "id": "S8cYeTcXPazh"
      },
      "source": [
        "## 在既有圖像加雜訊"
      ]
    },
    {
      "cell_type": "code",
      "metadata": {
        "id": "7s9XO78wPazi"
      },
      "source": [
        "# 在既有圖像加雜訊\n",
        "noise = 0.5\n",
        "\n",
        "# 固定隨機亂數\n",
        "np.random.seed(11)\n",
        "tf.random.set_seed(11)\n",
        "\n",
        "# 隨機加雜訊\n",
        "x_train_noisy = x_train + noise * np.random.normal(loc=0.0, \n",
        "                                         scale=1.0, size=x_train.shape)\n",
        "x_test_noisy = x_test + noise * np.random.normal(loc=0.0, \n",
        "                                         scale=1.0, size=x_test.shape)\n",
        "\n",
        "# 加完裁切數值，避免大於 1\n",
        "x_train_noisy = np.clip(x_train_noisy, 0, 1)\n",
        "x_test_noisy = np.clip(x_test_noisy, 0, 1)\n",
        "\n",
        "# 轉換為浮點數\n",
        "x_train_noisy = x_train_noisy.astype('float32')\n",
        "x_test_noisy = x_test_noisy.astype('float32')"
      ],
      "execution_count": 4,
      "outputs": []
    },
    {
      "cell_type": "markdown",
      "metadata": {
        "id": "lDSXUAwCPazj"
      },
      "source": [
        "## 建立編碼器(Encoder)、解碼器(Decoder) 模型"
      ]
    },
    {
      "cell_type": "code",
      "metadata": {
        "id": "hZDk_A50Pazk"
      },
      "source": [
        "# 編碼器(Encoder)\n",
        "class Encoder(K.layers.Layer):\n",
        "    def __init__(self, filters):\n",
        "        super(Encoder, self).__init__()\n",
        "        self.conv1 = Conv2D(filters=filters[0], kernel_size=3, strides=1, \n",
        "                            activation='relu', padding='same')\n",
        "        self.conv2 = Conv2D(filters=filters[1], kernel_size=3, strides=1, \n",
        "                            activation='relu', padding='same')\n",
        "        self.conv3 = Conv2D(filters=filters[2], kernel_size=3, strides=1, \n",
        "                            activation='relu', padding='same')\n",
        "        self.pool = MaxPooling2D((2, 2), padding='same')\n",
        "               \n",
        "    \n",
        "    def call(self, input_features):\n",
        "        x = self.conv1(input_features)\n",
        "        #print(\"Ex1\", x.shape)\n",
        "        x = self.pool(x)\n",
        "        #print(\"Ex2\", x.shape)\n",
        "        x = self.conv2(x)\n",
        "        x = self.pool(x)\n",
        "        x = self.conv3(x)\n",
        "        x = self.pool(x)\n",
        "        return x"
      ],
      "execution_count": 5,
      "outputs": []
    },
    {
      "cell_type": "code",
      "metadata": {
        "id": "_FAbwLkJPazl"
      },
      "source": [
        "# 解碼器(Decoder)\n",
        "class Decoder(K.layers.Layer):\n",
        "    def __init__(self, filters):\n",
        "        super(Decoder, self).__init__()\n",
        "        self.conv1 = Conv2D(filters=filters[2], kernel_size=3, strides=1, \n",
        "                            activation='relu', padding='same')\n",
        "        self.conv2 = Conv2D(filters=filters[1], kernel_size=3, strides=1, \n",
        "                            activation='relu', padding='same')\n",
        "        self.conv3 = Conv2D(filters=filters[0], kernel_size=3, strides=1, \n",
        "                            activation='relu', padding='valid')\n",
        "        self.conv4 = Conv2D(1, 3, 1, activation='sigmoid', padding='same')\n",
        "        self.upsample = UpSampling2D((2, 2))\n",
        "  \n",
        "    def call(self, encoded):\n",
        "        x = self.conv1(encoded)\n",
        "        # 上採樣\n",
        "        x = self.upsample(x)\n",
        "\n",
        "        x = self.conv2(x)\n",
        "        x = self.upsample(x)\n",
        "        \n",
        "        x = self.conv3(x)\n",
        "        x = self.upsample(x)\n",
        "        \n",
        "        return self.conv4(x)"
      ],
      "execution_count": 6,
      "outputs": []
    },
    {
      "cell_type": "markdown",
      "metadata": {
        "id": "T6RAozdfPazm"
      },
      "source": [
        "## 建立 Autoencoder 模型，結合編碼器(Encoder)、解碼器(Decoder) "
      ]
    },
    {
      "cell_type": "code",
      "metadata": {
        "id": "p6slPkB2Pazm"
      },
      "source": [
        "# 建立 Autoencoder 模型\n",
        "class Autoencoder(K.Model):\n",
        "    def __init__(self, filters):\n",
        "        super(Autoencoder, self).__init__()\n",
        "        self.loss = []\n",
        "        self.encoder = Encoder(filters)\n",
        "        self.decoder = Decoder(filters)\n",
        "\n",
        "    def call(self, input_features):\n",
        "        #print(input_features.shape)\n",
        "        encoded = self.encoder(input_features)\n",
        "        #print(encoded.shape)\n",
        "        reconstructed = self.decoder(encoded)\n",
        "        #print(reconstructed.shape)\n",
        "        return reconstructed"
      ],
      "execution_count": 7,
      "outputs": []
    },
    {
      "cell_type": "markdown",
      "metadata": {
        "id": "Zatbj0GQPazn"
      },
      "source": [
        "## 訓練模型"
      ]
    },
    {
      "cell_type": "code",
      "metadata": {
        "scrolled": true,
        "colab": {
          "base_uri": "https://localhost:8080/"
        },
        "id": "Fj6zBsPIPazn",
        "outputId": "06bb8ff8-c686-4837-f7fa-1e9aa816a7fc"
      },
      "source": [
        "model = Autoencoder(filters)\n",
        "\n",
        "model.compile(loss='binary_crossentropy', optimizer='adam')\n",
        "\n",
        "loss = model.fit(x_train_noisy,\n",
        "                x_train,\n",
        "                validation_data=(x_test_noisy, x_test),\n",
        "                epochs=max_epochs,\n",
        "                batch_size=batch_size)"
      ],
      "execution_count": 8,
      "outputs": [
        {
          "output_type": "stream",
          "name": "stdout",
          "text": [
            "Epoch 1/50\n",
            "469/469 [==============================] - 126s 268ms/step - loss: 0.2048 - val_loss: 0.1505\n",
            "Epoch 2/50\n",
            "469/469 [==============================] - 125s 267ms/step - loss: 0.1414 - val_loss: 0.1319\n",
            "Epoch 3/50\n",
            "469/469 [==============================] - 129s 275ms/step - loss: 0.1287 - val_loss: 0.1238\n",
            "Epoch 4/50\n",
            "469/469 [==============================] - 129s 274ms/step - loss: 0.1220 - val_loss: 0.1191\n",
            "Epoch 5/50\n",
            "469/469 [==============================] - 127s 271ms/step - loss: 0.1175 - val_loss: 0.1148\n",
            "Epoch 6/50\n",
            "469/469 [==============================] - 126s 269ms/step - loss: 0.1145 - val_loss: 0.1130\n",
            "Epoch 7/50\n",
            "469/469 [==============================] - 124s 264ms/step - loss: 0.1123 - val_loss: 0.1104\n",
            "Epoch 8/50\n",
            "469/469 [==============================] - 127s 271ms/step - loss: 0.1108 - val_loss: 0.1089\n",
            "Epoch 9/50\n",
            "469/469 [==============================] - 128s 273ms/step - loss: 0.1094 - val_loss: 0.1075\n",
            "Epoch 10/50\n",
            "469/469 [==============================] - 127s 270ms/step - loss: 0.1082 - val_loss: 0.1075\n",
            "Epoch 11/50\n",
            "469/469 [==============================] - 128s 273ms/step - loss: 0.1072 - val_loss: 0.1060\n",
            "Epoch 12/50\n",
            "469/469 [==============================] - 126s 269ms/step - loss: 0.1065 - val_loss: 0.1057\n",
            "Epoch 13/50\n",
            "469/469 [==============================] - 126s 268ms/step - loss: 0.1057 - val_loss: 0.1047\n",
            "Epoch 14/50\n",
            "469/469 [==============================] - 128s 272ms/step - loss: 0.1052 - val_loss: 0.1040\n",
            "Epoch 15/50\n",
            "469/469 [==============================] - 128s 273ms/step - loss: 0.1046 - val_loss: 0.1038\n",
            "Epoch 16/50\n",
            "469/469 [==============================] - 128s 272ms/step - loss: 0.1042 - val_loss: 0.1039\n",
            "Epoch 17/50\n",
            "469/469 [==============================] - 126s 268ms/step - loss: 0.1037 - val_loss: 0.1029\n",
            "Epoch 18/50\n",
            "469/469 [==============================] - 126s 269ms/step - loss: 0.1032 - val_loss: 0.1023\n",
            "Epoch 19/50\n",
            "469/469 [==============================] - 127s 270ms/step - loss: 0.1029 - val_loss: 0.1019\n",
            "Epoch 20/50\n",
            "469/469 [==============================] - 124s 265ms/step - loss: 0.1026 - val_loss: 0.1016\n",
            "Epoch 21/50\n",
            "469/469 [==============================] - 124s 264ms/step - loss: 0.1023 - val_loss: 0.1014\n",
            "Epoch 22/50\n",
            "469/469 [==============================] - 124s 265ms/step - loss: 0.1021 - val_loss: 0.1017\n",
            "Epoch 23/50\n",
            "469/469 [==============================] - 125s 266ms/step - loss: 0.1019 - val_loss: 0.1017\n",
            "Epoch 24/50\n",
            "469/469 [==============================] - 122s 259ms/step - loss: 0.1016 - val_loss: 0.1007\n",
            "Epoch 25/50\n",
            "469/469 [==============================] - 122s 260ms/step - loss: 0.1014 - val_loss: 0.1011\n",
            "Epoch 26/50\n",
            "469/469 [==============================] - 122s 259ms/step - loss: 0.1013 - val_loss: 0.1015\n",
            "Epoch 27/50\n",
            "469/469 [==============================] - 126s 269ms/step - loss: 0.1010 - val_loss: 0.1005\n",
            "Epoch 28/50\n",
            "469/469 [==============================] - 126s 269ms/step - loss: 0.1008 - val_loss: 0.1007\n",
            "Epoch 29/50\n",
            "469/469 [==============================] - 125s 267ms/step - loss: 0.1007 - val_loss: 0.1005\n",
            "Epoch 30/50\n",
            "469/469 [==============================] - 125s 266ms/step - loss: 0.1006 - val_loss: 0.1001\n",
            "Epoch 31/50\n",
            "469/469 [==============================] - 124s 264ms/step - loss: 0.1005 - val_loss: 0.1006\n",
            "Epoch 32/50\n",
            "469/469 [==============================] - 123s 262ms/step - loss: 0.1004 - val_loss: 0.1009\n",
            "Epoch 33/50\n",
            "469/469 [==============================] - 122s 260ms/step - loss: 0.1002 - val_loss: 0.0996\n",
            "Epoch 34/50\n",
            "469/469 [==============================] - 124s 264ms/step - loss: 0.1001 - val_loss: 0.1001\n",
            "Epoch 35/50\n",
            "469/469 [==============================] - 122s 261ms/step - loss: 0.1000 - val_loss: 0.1000\n",
            "Epoch 36/50\n",
            "469/469 [==============================] - 126s 268ms/step - loss: 0.0998 - val_loss: 0.0995\n",
            "Epoch 37/50\n",
            "469/469 [==============================] - 125s 266ms/step - loss: 0.0997 - val_loss: 0.0993\n",
            "Epoch 38/50\n",
            "469/469 [==============================] - 122s 261ms/step - loss: 0.0998 - val_loss: 0.0991\n",
            "Epoch 39/50\n",
            "469/469 [==============================] - 124s 264ms/step - loss: 0.0996 - val_loss: 0.0991\n",
            "Epoch 40/50\n",
            "469/469 [==============================] - 127s 271ms/step - loss: 0.0995 - val_loss: 0.0991\n",
            "Epoch 41/50\n",
            "469/469 [==============================] - 124s 264ms/step - loss: 0.0994 - val_loss: 0.0991\n",
            "Epoch 42/50\n",
            "469/469 [==============================] - 126s 268ms/step - loss: 0.0993 - val_loss: 0.0992\n",
            "Epoch 43/50\n",
            "469/469 [==============================] - 125s 267ms/step - loss: 0.0993 - val_loss: 0.0988\n",
            "Epoch 44/50\n",
            "469/469 [==============================] - 126s 268ms/step - loss: 0.0991 - val_loss: 0.0987\n",
            "Epoch 45/50\n",
            "469/469 [==============================] - 124s 265ms/step - loss: 0.0991 - val_loss: 0.0988\n",
            "Epoch 46/50\n",
            "469/469 [==============================] - 123s 262ms/step - loss: 0.0991 - val_loss: 0.0987\n",
            "Epoch 47/50\n",
            "469/469 [==============================] - 123s 263ms/step - loss: 0.0990 - val_loss: 0.0987\n",
            "Epoch 48/50\n",
            "469/469 [==============================] - 123s 263ms/step - loss: 0.0989 - val_loss: 0.0986\n",
            "Epoch 49/50\n",
            "469/469 [==============================] - 127s 272ms/step - loss: 0.0988 - val_loss: 0.0995\n",
            "Epoch 50/50\n",
            "469/469 [==============================] - 127s 272ms/step - loss: 0.0989 - val_loss: 0.0991\n"
          ]
        }
      ]
    },
    {
      "cell_type": "code",
      "metadata": {
        "colab": {
          "base_uri": "https://localhost:8080/"
        },
        "id": "-UKrzdFQPazo",
        "outputId": "92a49ded-af66-4c3b-cbae-25c33afcd551"
      },
      "source": [
        "model.summary()"
      ],
      "execution_count": 9,
      "outputs": [
        {
          "output_type": "stream",
          "name": "stdout",
          "text": [
            "Model: \"autoencoder\"\n",
            "_________________________________________________________________\n",
            "Layer (type)                 Output Shape              Param #   \n",
            "=================================================================\n",
            "encoder (Encoder)            multiple                  14192     \n",
            "_________________________________________________________________\n",
            "decoder (Decoder)            multiple                  16497     \n",
            "=================================================================\n",
            "Total params: 30,689\n",
            "Trainable params: 30,689\n",
            "Non-trainable params: 0\n",
            "_________________________________________________________________\n"
          ]
        }
      ]
    },
    {
      "cell_type": "code",
      "metadata": {
        "colab": {
          "base_uri": "https://localhost:8080/"
        },
        "id": "uLixv7unPazo",
        "outputId": "090534cc-fb0f-4f86-f1b6-50ff4fd25f3d"
      },
      "source": [
        "[x.name for x in model.layers]"
      ],
      "execution_count": 10,
      "outputs": [
        {
          "output_type": "execute_result",
          "data": {
            "text/plain": [
              "['encoder', 'decoder']"
            ]
          },
          "metadata": {},
          "execution_count": 10
        }
      ]
    },
    {
      "cell_type": "code",
      "metadata": {
        "scrolled": true,
        "colab": {
          "base_uri": "https://localhost:8080/",
          "height": 77
        },
        "id": "iXklDfHqPazo",
        "outputId": "dba6a1fb-7cb2-45fd-c6af-8ebf66a329ac"
      },
      "source": [
        "tf.keras.utils.plot_model(model, to_file='model.png')"
      ],
      "execution_count": 11,
      "outputs": [
        {
          "output_type": "execute_result",
          "data": {
            "image/png": "[encoded data removed]",
            "text/plain": [
              "<IPython.core.display.Image object>"
            ]
          },
          "metadata": {},
          "execution_count": 11
        }
      ]
    },
    {
      "cell_type": "markdown",
      "metadata": {
        "id": "R3BBdJVJPazp"
      },
      "source": [
        "## 繪製損失函數"
      ]
    },
    {
      "cell_type": "code",
      "metadata": {
        "scrolled": true,
        "colab": {
          "base_uri": "https://localhost:8080/",
          "height": 279
        },
        "id": "kfJwh8ivPazp",
        "outputId": "98d2ee0e-fcb6-48d4-ec56-ecdecbd65a8a"
      },
      "source": [
        "# 繪製損失函數\n",
        "plt.plot(range(max_epochs), loss.history['loss'])\n",
        "plt.xlabel('Epochs')\n",
        "plt.ylabel('Loss')\n",
        "plt.show()"
      ],
      "execution_count": 12,
      "outputs": [
        {
          "output_type": "display_data",
          "data": {
            "image/png": "[encoded data removed]",
            "text/plain": [
              "<Figure size 432x288 with 1 Axes>"
            ]
          },
          "metadata": {
            "needs_background": "light"
          }
        }
      ]
    },
    {
      "cell_type": "markdown",
      "metadata": {
        "id": "lm1WavBpPazp"
      },
      "source": [
        "## 比較加了雜訊的圖像與訓練後的圖像"
      ]
    },
    {
      "cell_type": "code",
      "metadata": {
        "scrolled": true,
        "colab": {
          "base_uri": "https://localhost:8080/",
          "height": 248
        },
        "id": "NG-TXErFPazq",
        "outputId": "5e876e08-5391-49c6-ffff-4be6e2cf8818"
      },
      "source": [
        "number = 10  # how many digits we will display\n",
        "plt.figure(figsize=(20, 4))\n",
        "for index in range(number):\n",
        "    # 加了雜訊的圖像\n",
        "    ax = plt.subplot(2, number, index + 1)\n",
        "    plt.imshow(x_test_noisy[index].reshape(28, 28), cmap='gray')\n",
        "    ax.get_xaxis().set_visible(False)\n",
        "    ax.get_yaxis().set_visible(False)\n",
        "\n",
        "    # 重建的圖像\n",
        "    ax = plt.subplot(2, number, index + 1 + number)\n",
        "    plt.imshow(tf.reshape(model(x_test_noisy)[index], (28, 28)), cmap='gray')\n",
        "    ax.get_xaxis().set_visible(False)\n",
        "    ax.get_yaxis().set_visible(False)\n",
        "plt.show()"
      ],
      "execution_count": 13,
      "outputs": [
        {
          "output_type": "display_data",
          "data": {
            "image/png": "[encoded data removed]",
            "text/plain": [
              "<Figure size 1440x288 with 20 Axes>"
            ]
          },
          "metadata": {
            "needs_background": "light"
          }
        }
      ]
    },
    {
      "cell_type": "code",
      "metadata": {
        "id": "G36jiH9fPazq"
      },
      "source": [
        ""
      ],
      "execution_count": null,
      "outputs": []
    }
  ]
}