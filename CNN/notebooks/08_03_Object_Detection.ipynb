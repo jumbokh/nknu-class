{
  "nbformat": 4,
  "nbformat_minor": 0,
  "metadata": {
    "kernelspec": {
      "display_name": "Python 3",
      "language": "python",
      "name": "python3"
    },
    "language_info": {
      "codemirror_mode": {
        "name": "ipython",
        "version": 3
      },
      "file_extension": ".py",
      "mimetype": "text/x-python",
      "name": "python",
      "nbconvert_exporter": "python",
      "pygments_lexer": "ipython3",
      "version": "3.8.3"
    },
    "colab": {
      "name": "08_03_Object_Detection.ipynb",
      "provenance": [],
      "include_colab_link": true
    }
  },
  "cells": [
    {
      "cell_type": "markdown",
      "metadata": {
        "id": "view-in-github",
        "colab_type": "text"
      },
      "source": [
        "<a href=\"https://colab.research.google.com/github/jumbokh/nknu-class/blob/main/CNN/notebooks/08_03_Object_Detection.ipynb\" target=\"_parent\"><img src=\"https://colab.research.google.com/assets/colab-badge.svg\" alt=\"Open In Colab\"/></a>"
      ]
    },
    {
      "cell_type": "markdown",
      "metadata": {
        "id": "at0GAI58Aqu5"
      },
      "source": [
        "# 範例3. 使用CNN進行物件偵測\n",
        "### 修改自 [Turning any CNN image classifier into an object detector with Keras, TensorFlow, and OpenCV - PyImageSearch](https://www.pyimagesearch.com/2020/06/22/turning-any-cnn-image-classifier-into-an-object-detector-with-keras-tensorflow-and-opencv/)"
      ]
    },
    {
      "cell_type": "code",
      "metadata": {
        "id": "E5A6SpLGAqu-"
      },
      "source": [
        "# 載入套件，需額外安裝 imutils 套件\n",
        "from tensorflow.keras.applications import ResNet50\n",
        "from tensorflow.keras.applications.resnet import preprocess_input\n",
        "from tensorflow.keras.preprocessing.image import img_to_array\n",
        "from tensorflow.keras.applications import imagenet_utils\n",
        "from imutils.object_detection import non_max_suppression\n",
        "import numpy as np\n",
        "import imutils\n",
        "import time\n",
        "import cv2"
      ],
      "execution_count": null,
      "outputs": []
    },
    {
      "cell_type": "code",
      "metadata": {
        "id": "rfcI6OlMAqvA"
      },
      "source": [
        "# 參數設定\n",
        "image_path = './images_Object_Detection/bike.jpg'  # 要辨識的圖檔\n",
        "WIDTH = 600              # 圖像縮放為 (600, 600)\n",
        "PYR_SCALE = 1.5          # 影像金字塔縮放比例\n",
        "WIN_STEP = 16            # 視窗滑動步數\n",
        "ROI_SIZE = (250, 250)    # 視窗大小\n",
        "INPUT_SIZE = (224, 224)  # CNN的輸入尺寸"
      ],
      "execution_count": null,
      "outputs": []
    },
    {
      "cell_type": "code",
      "metadata": {
        "id": "aEIrmEwEAqvA"
      },
      "source": [
        "# 載入 ResNet50 模型\n",
        "model = ResNet50(weights=\"imagenet\", include_top=True)"
      ],
      "execution_count": null,
      "outputs": []
    },
    {
      "cell_type": "code",
      "metadata": {
        "id": "xCGi9sY2AqvB"
      },
      "source": [
        "# 讀取要辨識的圖片\n",
        "orig = cv2.imread(image_path)\n",
        "orig = imutils.resize(orig, width=WIDTH)\n",
        "(H, W) = orig.shape[:2]"
      ],
      "execution_count": null,
      "outputs": []
    },
    {
      "cell_type": "code",
      "metadata": {
        "id": "QSbsQEi8AqvB"
      },
      "source": [
        "# 定義滑動視窗與影像金字塔函數\n",
        "\n",
        "# 滑動視窗        \n",
        "def sliding_window(image, step, ws):\n",
        "    for y in range(0, image.shape[0] - ws[1], step):     # 向下滑動 stepSize 格\n",
        "        for x in range(0, image.shape[1] - ws[0], step): # 向右滑動 stepSize 格\n",
        "            # 傳回裁剪後的視窗\n",
        "            yield (x, y, image[y:y + ws[1], x:x + ws[0]])\n",
        "\n",
        "# 影像金字塔操作\n",
        "# image：原圖，scale：每次縮小倍數，minSize：最小尺寸\n",
        "def image_pyramid(image, scale=1.5, minSize=(224, 224)):\n",
        "    # 第一次傳回原圖\n",
        "    yield image\n",
        "\n",
        "    # keep looping over the image pyramid\n",
        "    while True:\n",
        "        # 計算縮小後的尺寸\n",
        "        w = int(image.shape[1] / scale)\n",
        "        image = imutils.resize(image, width=w)\n",
        "\n",
        "        # 直到最小尺寸為止\n",
        "        if image.shape[0] < minSize[1] or image.shape[1] < minSize[0]:\n",
        "            break\n",
        "\n",
        "        # 傳回縮小後的圖像\n",
        "        yield image"
      ],
      "execution_count": null,
      "outputs": []
    },
    {
      "cell_type": "code",
      "metadata": {
        "id": "Y3mQT18jAqvC"
      },
      "source": [
        "# 輸出候選框\n",
        "rois = []    # 候選框\n",
        "locs = []    # 位置\n",
        "SHOW_BOX = False  # 是否顯示要找的框\n",
        "\n",
        "# 產生影像金字塔\n",
        "pyramid = image_pyramid(orig, scale=PYR_SCALE, minSize=ROI_SIZE)\n",
        "# 逐一視窗辨識\n",
        "for image in pyramid:\n",
        "    # 框與原圖的比例\n",
        "    scale = W / float(image.shape[1])\n",
        "\n",
        "    # 滑動視窗\n",
        "    for (x, y, roiOrig) in sliding_window(image, WIN_STEP, ROI_SIZE):\n",
        "        # 取得候選框\n",
        "        x = int(x * scale)\n",
        "        y = int(y * scale)\n",
        "        w = int(ROI_SIZE[0] * scale)\n",
        "        h = int(ROI_SIZE[1] * scale)\n",
        "\n",
        "        # 縮放圖形以符合模型輸入規格 \n",
        "        roi = cv2.resize(roiOrig, INPUT_SIZE)\n",
        "        roi = img_to_array(roi)\n",
        "        roi = preprocess_input(roi)\n",
        "\n",
        "        # 加入輸出變數中\n",
        "        rois.append(roi)\n",
        "        locs.append((x, y, x + w, y + h))\n",
        "\n",
        "        # 是否顯示要找的框\n",
        "        if SHOW_BOX:\n",
        "            clone = orig.copy()\n",
        "            cv2.rectangle(clone, (x, y), (x + w, y + h),\n",
        "                (0, 255, 0), 2)\n",
        "\n",
        "            # 顯示正在找的框\n",
        "            cv2.imshow(\"Visualization\", clone)\n",
        "            cv2.imshow(\"ROI\", roiOrig)\n",
        "            cv2.waitKey(0)\n",
        "            \n",
        "cv2.destroyAllWindows()"
      ],
      "execution_count": null,
      "outputs": []
    },
    {
      "cell_type": "code",
      "metadata": {
        "scrolled": true,
        "id": "AOoEv0kxAqvE"
      },
      "source": [
        "# 預測\n",
        "MIN_CONFIDENCE = 0.9  # 辨識機率門檻值\n",
        "\n",
        "rois = np.array(rois, dtype=\"float32\")\n",
        "preds = model.predict(rois)\n",
        "preds = imagenet_utils.decode_predictions(preds, top=1)\n",
        "labels = {}\n",
        "\n",
        "# 檢查預測結果，辨識機率須大於設定值\n",
        "for (i, p) in enumerate(preds):\n",
        "    # grab the prediction information for the current ROI\n",
        "    (imagenetID, label, prob) = p[0]\n",
        "\n",
        "    # 機率大於設定值，則放入候選名單\n",
        "    if prob >= MIN_CONFIDENCE:\n",
        "        # 放入候選名單\n",
        "        box = locs[i]\n",
        "        L = labels.get(label, [])\n",
        "        L.append((box, prob))\n",
        "        labels[label] = L\n",
        "\n",
        "# 掃描每一個類別\n",
        "for label in labels.keys():\n",
        "    # 複製原圖\n",
        "    clone = orig.copy()\n",
        "\n",
        "    # 畫框\n",
        "    for (box, prob) in labels[label]:\n",
        "        (startX, startY, endX, endY) = box\n",
        "        cv2.rectangle(clone, (startX, startY), (endX, endY),\n",
        "            (0, 255, 0), 2)\n",
        "\n",
        "    # 顯示 NMS(non-maxima suppression) 前的框\n",
        "    cv2.imshow(\"Before NMS\", clone)\n",
        "    clone = orig.copy()\n",
        "\n",
        "    # NMS\n",
        "    boxes = np.array([p[0] for p in labels[label]])\n",
        "    proba = np.array([p[1] for p in labels[label]])\n",
        "    boxes = non_max_suppression(boxes, proba)\n",
        "\n",
        "    for (startX, startY, endX, endY) in boxes:\n",
        "        # 畫框及類別\n",
        "        cv2.rectangle(clone, (startX, startY), (endX, endY), (0, 255, 0), 2)\n",
        "        y = startY - 10 if startY - 10 > 10 else startY + 10\n",
        "        cv2.putText(clone, label, (startX, y),\n",
        "            cv2.FONT_HERSHEY_SIMPLEX, 0.45, (0, 255, 0), 2)\n",
        "\n",
        "    # 顯示\n",
        "    cv2.imshow(\"After NMS\", clone)\n",
        "    cv2.waitKey(0)\n",
        "            \n",
        "cv2.destroyAllWindows()    # 關閉所有視窗"
      ],
      "execution_count": null,
      "outputs": []
    },
    {
      "cell_type": "code",
      "metadata": {
        "id": "eyhmDl-HAqvF"
      },
      "source": [
        ""
      ],
      "execution_count": null,
      "outputs": []
    }
  ]
}