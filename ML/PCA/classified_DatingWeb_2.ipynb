{
  "nbformat": 4,
  "nbformat_minor": 0,
  "metadata": {
    "colab": {
      "name": "classified_DatingWeb_2.ipynb",
      "provenance": [],
      "authorship_tag": "ABX9TyNrQPCTeCjlkNGTA8YE8WoH",
      "include_colab_link": true
    },
    "kernelspec": {
      "name": "python3",
      "display_name": "Python 3"
    },
    "language_info": {
      "name": "python"
    }
  },
  "cells": [
    {
      "cell_type": "markdown",
      "metadata": {
        "id": "view-in-github",
        "colab_type": "text"
      },
      "source": [
        "<a href=\"https://colab.research.google.com/github/jumbokh/nknu-class/blob/main/ML/PCA/classified_DatingWeb_2.ipynb\" target=\"_parent\"><img src=\"https://colab.research.google.com/assets/colab-badge.svg\" alt=\"Open In Colab\"/></a>"
      ]
    },
    {
      "cell_type": "code",
      "metadata": {
        "colab": {
          "base_uri": "https://localhost:8080/"
        },
        "id": "skpqiEtw1wHx",
        "outputId": "acca9115-5f9e-49bb-a51a-907f56017fdf"
      },
      "source": [
        "# Define functions to connect to Google and change directories\n",
        "def connectDrive():\n",
        "    from google.colab import drive\n",
        "    drive.mount('/content/drive', force_remount=True)\n",
        "\n",
        "def changeDirectory(path):\n",
        "    import os\n",
        "    original_path = os.getcwd()\n",
        "    os.chdir(path)\n",
        "    new_path = os.getcwd()\n",
        "    print(\"Original path: \",original_path)\n",
        "    print(\"New path: \",new_path)\n",
        "\n",
        "# Connect to Google Drive\n",
        "connectDrive()\n",
        "\n",
        "# Change path\n",
        "changeDirectory(\"/content/drive/My Drive/github/DatedWeb/\")"
      ],
      "execution_count": 1,
      "outputs": [
        {
          "output_type": "stream",
          "name": "stdout",
          "text": [
            "Mounted at /content/drive\n",
            "Original path:  /content\n",
            "New path:  /content/drive/My Drive/github/DatedWeb\n"
          ]
        }
      ]
    },
    {
      "cell_type": "code",
      "metadata": {
        "id": "2FuJWMbG10HP"
      },
      "source": [
        "%matplotlib inline\n",
        "from sklearn import neighbors, datasets\n",
        "import numpy as np\n",
        "import matplotlib.pyplot as plt\n",
        "import matplotlib as mpl\n",
        "import seaborn as sns\n",
        "color = sns.color_palette()\n",
        "import pandas as pd\n",
        "from sklearn.model_selection import train_test_split\n",
        "from sklearn import preprocessing as pp \n",
        "from sklearn import utils\n",
        "from sklearn.neighbors import KNeighborsClassifier\n",
        "from sklearn.pipeline import make_pipeline\n",
        "from sklearn.preprocessing import StandardScaler\n",
        "from sklearn.metrics import confusion_matrix, accuracy_score, classification_report\n",
        "import os, time, pickle, gzip\n",
        "import datetime"
      ],
      "execution_count": 2,
      "outputs": []
    },
    {
      "cell_type": "code",
      "metadata": {
        "id": "Q7-WwxZ12Bu_"
      },
      "source": [
        "from sklearn.decomposition import PCA\n",
        "from sklearn.neighbors import KNeighborsClassifier\n",
        "from sklearn.pipeline import make_pipeline\n",
        "from sklearn.svm import SVC"
      ],
      "execution_count": 3,
      "outputs": []
    },
    {
      "cell_type": "code",
      "metadata": {
        "id": "UMbuq7qG13Uu"
      },
      "source": [
        "from numpy import *\n",
        "import operator\n",
        "from os import listdir\n",
        "\n",
        "def file2matrix(filename):\n",
        "\tfr = open(filename)\n",
        "\tnumberOfLines = len(fr.readlines())\n",
        "\treturnMat = zeros((numberOfLines, 3))\n",
        "\tclassLabelVector = []\n",
        "\tfr = open(filename)\n",
        "\tindex = 0\n",
        "\tfor line in fr.readlines():\n",
        "\t\tline = line.strip()\n",
        "\t\tlistFromLine = line.split('\\t')\n",
        "\t\treturnMat[index,:] = listFromLine[0:3]\n",
        "\t\tclassLabelVector.append(str(listFromLine[3]))\n",
        "\t\tindex += 1\n",
        "\treturn returnMat, classLabelVector"
      ],
      "execution_count": 4,
      "outputs": []
    },
    {
      "cell_type": "code",
      "metadata": {
        "id": "1kbtPl1h16-o"
      },
      "source": [
        "def label_list(stri):\n",
        "  li = stri.unique()\n",
        "  num = len(li)\n",
        "  licode = np.arange(num)\n",
        "  dic = dict(zip(li,licode))\n",
        "  ny = np.array([dic.get(item,item)  for item in stri])\n",
        "  return(ny)"
      ],
      "execution_count": 5,
      "outputs": []
    },
    {
      "cell_type": "code",
      "metadata": {
        "id": "1eUNAjaX2K3b"
      },
      "source": [
        "datingDataMat, datingLabels = file2matrix('datingTestSet.txt')"
      ],
      "execution_count": 6,
      "outputs": []
    },
    {
      "cell_type": "code",
      "metadata": {
        "id": "Jd2CmoMm2Rao"
      },
      "source": [
        "train_data, test_data, train_target, test_target = train_test_split(\n",
        "    datingDataMat, datingLabels, test_size=0.3, train_size=0.7, random_state=123)"
      ],
      "execution_count": 7,
      "outputs": []
    },
    {
      "cell_type": "code",
      "metadata": {
        "colab": {
          "base_uri": "https://localhost:8080/"
        },
        "id": "Gyo3S9kC6Bi1",
        "outputId": "7fc68b97-cfe3-4ab4-c65f-229af267b284"
      },
      "source": [
        "train_target = np.array(train_target)\n",
        "test_target = np.array(test_target)\n",
        "print(type(train_data),type(train_target),type(test_data),type(test_target))"
      ],
      "execution_count": 8,
      "outputs": [
        {
          "output_type": "stream",
          "name": "stdout",
          "text": [
            "<class 'numpy.ndarray'> <class 'numpy.ndarray'> <class 'numpy.ndarray'> <class 'numpy.ndarray'>\n"
          ]
        }
      ]
    },
    {
      "cell_type": "code",
      "metadata": {
        "colab": {
          "base_uri": "https://localhost:8080/"
        },
        "id": "HndUdAnp6Guk",
        "outputId": "b594a841-daef-4fe8-f03a-166f517be41e"
      },
      "source": [
        "# Verify shape of datasets\n",
        "print(\"Shape of train_data: \", train_data.shape)\n",
        "print(\"Shape of train_target: \", train_target.shape)\n",
        "print(\"Shape of test_data: \", test_data.shape)\n",
        "print(\"Shape of test_target: \", test_target.shape)"
      ],
      "execution_count": 9,
      "outputs": [
        {
          "output_type": "stream",
          "name": "stdout",
          "text": [
            "Shape of train_data:  (700, 3)\n",
            "Shape of train_target:  (700,)\n",
            "Shape of test_data:  (300, 3)\n",
            "Shape of test_target:  (300,)\n"
          ]
        }
      ]
    },
    {
      "cell_type": "code",
      "metadata": {
        "id": "a5Z1Z29O6J8Q"
      },
      "source": [
        "# Create Pandas DataFrames from the datasets\n",
        "train_index = range(0,len(train_data))\n",
        "test_index = range(len(test_data))\n",
        "\n",
        "X_train = pd.DataFrame(data=train_data,index=train_index)\n",
        "y_train = pd.Series(data=train_target,index=train_index)\n",
        "\n",
        "X_test = pd.DataFrame(data=test_data,index=test_index)\n",
        "y_test = pd.Series(data=test_target,index=test_index)"
      ],
      "execution_count": 10,
      "outputs": []
    },
    {
      "cell_type": "code",
      "metadata": {
        "id": "TMa5iPcc6N1o"
      },
      "source": [
        "# Create one-hot vectors for the labels\n",
        "y_train_lbl = label_list(y_train)\n",
        "y_test_lbl = label_list(y_test)"
      ],
      "execution_count": 11,
      "outputs": []
    },
    {
      "cell_type": "code",
      "metadata": {
        "colab": {
          "base_uri": "https://localhost:8080/"
        },
        "id": "utt90HqiCe3P",
        "outputId": "e373fc9f-706f-40c5-83ad-a883808aa464"
      },
      "source": [
        "from sklearn.feature_selection import SelectKBest, f_classif\n",
        "selector = SelectKBest(f_classif, 2)\n",
        "selector.fit(X_train, y_train_lbl)\n",
        "selector.get_support()"
      ],
      "execution_count": 14,
      "outputs": [
        {
          "output_type": "execute_result",
          "data": {
            "text/plain": [
              "array([ True,  True, False])"
            ]
          },
          "metadata": {},
          "execution_count": 14
        }
      ]
    },
    {
      "cell_type": "code",
      "metadata": {
        "id": "a5KVmxjx6TMa"
      },
      "source": [
        "model_pl_knn = make_pipeline(\n",
        "    StandardScaler(),\n",
        "    SelectKBest(f_classif, 2),\n",
        "    KNeighborsClassifier()\n",
        ")\n",
        "model_pl_knn.fit(X_train, y_train_lbl)\n",
        "y_pred = model_pl_knn.predict(X_test)"
      ],
      "execution_count": 15,
      "outputs": []
    },
    {
      "cell_type": "code",
      "metadata": {
        "colab": {
          "base_uri": "https://localhost:8080/"
        },
        "id": "b-1ygjFa62-t",
        "outputId": "56ed0b64-e8fa-4e2a-d3d0-862d49fea135"
      },
      "source": [
        "print('整體正確率:',accuracy_score(y_test_lbl, y_pred).round(2))\n",
        "confusion_matrix(y_test_lbl, y_pred)"
      ],
      "execution_count": 16,
      "outputs": [
        {
          "output_type": "stream",
          "name": "stdout",
          "text": [
            "整體正確率: 0.3\n"
          ]
        },
        {
          "output_type": "execute_result",
          "data": {
            "text/plain": [
              "array([[  0,   3, 107],\n",
              "       [  1,  87,   1],\n",
              "       [ 97,   2,   2]])"
            ]
          },
          "metadata": {},
          "execution_count": 16
        }
      ]
    },
    {
      "cell_type": "code",
      "metadata": {
        "id": "sTf3ZHjX_HP-"
      },
      "source": [
        "# Principal Component Analysis\n",
        "from sklearn.decomposition import PCA\n",
        "\n",
        "n_components = 2\n",
        "whiten = False\n",
        "random_state = 42\n",
        "\n",
        "pca = PCA(n_components=n_components, whiten=whiten, \\\n",
        "          random_state=random_state)\n",
        "\n",
        "X_train_PCA = pca.fit_transform(X_train)\n",
        "X_train_PCA = pd.DataFrame(data=X_train_PCA, index=train_index)"
      ],
      "execution_count": 17,
      "outputs": []
    },
    {
      "cell_type": "code",
      "metadata": {
        "colab": {
          "base_uri": "https://localhost:8080/"
        },
        "id": "H9A2ggAG_ifl",
        "outputId": "c5dc8368-4012-4a6b-d32d-bd17b6171131"
      },
      "source": [
        "# Percentage of Variance Captured by 2 principal components\n",
        "print(\"Variance Explained by all 2 principal components: \", \\\n",
        "      sum(pca.explained_variance_ratio_))"
      ],
      "execution_count": 18,
      "outputs": [
        {
          "output_type": "stream",
          "name": "stdout",
          "text": [
            "Variance Explained by all 2 principal components:  0.9999999994772992\n"
          ]
        }
      ]
    },
    {
      "cell_type": "code",
      "metadata": {
        "id": "4a_KKJLz_mLv"
      },
      "source": [
        "# Define scatterplot function \n",
        "def scatterPlot(xDF, yDF, algoName):\n",
        "    tempDF = pd.DataFrame(data=xDF.loc[:,0:1], index=xDF.index)\n",
        "    tempDF = pd.concat((tempDF,yDF), axis=1, join=\"inner\")\n",
        "    tempDF.columns = [\"First Vector\", \"Second Vector\", \"Label\"]\n",
        "    sns.lmplot(x=\"First Vector\", y=\"Second Vector\", hue=\"Label\", \\\n",
        "               data=tempDF, fit_reg=False)\n",
        "    ax = plt.gca()\n",
        "    ax.set_title(\"Separation of Observations using \"+algoName)"
      ],
      "execution_count": 19,
      "outputs": []
    },
    {
      "cell_type": "code",
      "metadata": {
        "colab": {
          "base_uri": "https://localhost:8080/",
          "height": 385
        },
        "id": "EVN4DYBJ_tBs",
        "outputId": "50af9935-c429-42d2-dd46-78f14db85b0f"
      },
      "source": [
        "# View scatterplot\n",
        "scatterPlot(X_train_PCA, y_train, \"PCA\")"
      ],
      "execution_count": 20,
      "outputs": [
        {
          "output_type": "display_data",
          "data": {
            "image/png": "[encoded data removed]",
            "text/plain": [
              "<Figure size 453.125x360 with 1 Axes>"
            ]
          },
          "metadata": {
            "needs_background": "light"
          }
        }
      ]
    },
    {
      "cell_type": "code",
      "metadata": {
        "colab": {
          "base_uri": "https://localhost:8080/"
        },
        "id": "bUPz32mrDnRF",
        "outputId": "aaa87b35-d23f-4e29-a7f2-324d5b8d18f4"
      },
      "source": [
        "# 羅吉斯迴歸\n",
        "from sklearn.linear_model import LogisticRegression\n",
        "model_pl_lr = make_pipeline(StandardScaler(), \n",
        "                            LogisticRegression(solver='liblinear'))\n",
        "model_pl_lr.fit(X_train, y_train_lbl)\n",
        "print(f'羅吉斯迴歸正確率{model_pl_lr.score(X_test, y_test_lbl).round(3)}')\n",
        "# KNN\n",
        "model_pl_knn = make_pipeline(StandardScaler(), KNeighborsClassifier())\n",
        "model_pl_knn.fit(X_train, y_train_lbl)\n",
        "print(f'KNN正確率{model_pl_knn.score(X_test, y_test_lbl).round(3)}')"
      ],
      "execution_count": 21,
      "outputs": [
        {
          "output_type": "stream",
          "name": "stdout",
          "text": [
            "羅吉斯迴歸正確率0.277\n",
            "KNN正確率0.293\n"
          ]
        }
      ]
    },
    {
      "cell_type": "code",
      "metadata": {
        "id": "1nLyO5TrEFD9"
      },
      "source": [
        ""
      ],
      "execution_count": null,
      "outputs": []
    }
  ]
}