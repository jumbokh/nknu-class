{
  "nbformat": 4,
  "nbformat_minor": 0,
  "metadata": {
    "colab": {
      "name": "classified-DatingWeb-1.ipynb",
      "provenance": [],
      "authorship_tag": "ABX9TyNRetQIFTHQq95bxzV4meu7",
      "include_colab_link": true
    },
    "kernelspec": {
      "name": "python3",
      "display_name": "Python 3"
    },
    "language_info": {
      "name": "python"
    }
  },
  "cells": [
    {
      "cell_type": "markdown",
      "metadata": {
        "id": "view-in-github",
        "colab_type": "text"
      },
      "source": [
        "<a href=\"https://colab.research.google.com/github/jumbokh/nknu-class/blob/main/ML/PCA/classified_DatingWeb_1.ipynb\" target=\"_parent\"><img src=\"https://colab.research.google.com/assets/colab-badge.svg\" alt=\"Open In Colab\"/></a>"
      ]
    },
    {
      "cell_type": "code",
      "metadata": {
        "colab": {
          "base_uri": "https://localhost:8080/"
        },
        "id": "AS5HLdgXnB-u",
        "outputId": "aa9cf38d-efc4-4931-d489-b2e7f517ceb3"
      },
      "source": [
        "# Define functions to connect to Google and change directories\n",
        "def connectDrive():\n",
        "    from google.colab import drive\n",
        "    drive.mount('/content/drive', force_remount=True)\n",
        "\n",
        "def changeDirectory(path):\n",
        "    import os\n",
        "    original_path = os.getcwd()\n",
        "    os.chdir(path)\n",
        "    new_path = os.getcwd()\n",
        "    print(\"Original path: \",original_path)\n",
        "    print(\"New path: \",new_path)\n",
        "\n",
        "# Connect to Google Drive\n",
        "connectDrive()\n",
        "\n",
        "# Change path\n",
        "changeDirectory(\"/content/drive/My Drive/github/DatedWeb/\")"
      ],
      "execution_count": 1,
      "outputs": [
        {
          "output_type": "stream",
          "name": "stdout",
          "text": [
            "Mounted at /content/drive\n",
            "Original path:  /content\n",
            "New path:  /content/drive/My Drive/github/DatedWeb\n"
          ]
        }
      ]
    },
    {
      "cell_type": "code",
      "metadata": {
        "id": "hAEszCSqoVgY"
      },
      "source": [
        "%matplotlib inline\n",
        "from sklearn import neighbors, datasets\n",
        "import numpy as np\n",
        "import matplotlib.pyplot as plt\n",
        "import matplotlib as mpl\n",
        "import seaborn as sns\n",
        "color = sns.color_palette()\n",
        "import pandas as pd\n",
        "from sklearn.model_selection import train_test_split\n",
        "from sklearn import preprocessing as pp \n",
        "from sklearn import utils\n",
        "from sklearn.neighbors import KNeighborsClassifier\n",
        "from sklearn.pipeline import make_pipeline\n",
        "from sklearn.preprocessing import StandardScaler\n",
        "from sklearn.metrics import confusion_matrix, accuracy_score, classification_report\n",
        "import os, time, pickle, gzip\n",
        "import datetime"
      ],
      "execution_count": 2,
      "outputs": []
    },
    {
      "cell_type": "code",
      "metadata": {
        "id": "sZmY5dFRoaFW"
      },
      "source": [
        "from numpy import *\n",
        "import operator\n",
        "from os import listdir\n",
        "\n",
        "def file2matrix(filename):\n",
        "\tfr = open(filename)\n",
        "\tnumberOfLines = len(fr.readlines())\n",
        "\treturnMat = zeros((numberOfLines, 3))\n",
        "\tclassLabelVector = []\n",
        "\tfr = open(filename)\n",
        "\tindex = 0\n",
        "\tfor line in fr.readlines():\n",
        "\t\tline = line.strip()\n",
        "\t\tlistFromLine = line.split('\\t')\n",
        "\t\treturnMat[index,:] = listFromLine[0:3]\n",
        "\t\tclassLabelVector.append(str(listFromLine[3]))\n",
        "\t\tindex += 1\n",
        "\treturn returnMat, classLabelVector"
      ],
      "execution_count": 3,
      "outputs": []
    },
    {
      "cell_type": "code",
      "metadata": {
        "id": "63tG5SbBodzH"
      },
      "source": [
        "datingDataMat, datingLabels = file2matrix('datingTestSet.txt')"
      ],
      "execution_count": 4,
      "outputs": []
    },
    {
      "cell_type": "code",
      "metadata": {
        "colab": {
          "base_uri": "https://localhost:8080/",
          "height": 265
        },
        "id": "SlGnx7UCohSe",
        "outputId": "d6d90451-516c-4587-85ca-f2620e60f7de"
      },
      "source": [
        "fig = plt.figure()\n",
        "ax = fig.add_subplot(111)\n",
        "ax.scatter(datingDataMat[:,1], datingDataMat[:,2])\n",
        "plt.show()"
      ],
      "execution_count": 5,
      "outputs": [
        {
          "output_type": "display_data",
          "data": {
            "image/png": "[encoded data removed]",
            "text/plain": [
              "<Figure size 432x288 with 1 Axes>"
            ]
          },
          "metadata": {
            "needs_background": "light"
          }
        }
      ]
    },
    {
      "cell_type": "code",
      "metadata": {
        "id": "i7CI34Ijo1sm"
      },
      "source": [
        "train_data, test_data, train_target, test_target = train_test_split(\n",
        "    datingDataMat, datingLabels, test_size=0.3, train_size=0.7, random_state=123)"
      ],
      "execution_count": 6,
      "outputs": []
    },
    {
      "cell_type": "code",
      "metadata": {
        "colab": {
          "base_uri": "https://localhost:8080/"
        },
        "id": "VpKwLspYo2ei",
        "outputId": "e631049d-629f-49c0-9b3c-5337361d0a13"
      },
      "source": [
        "print(type(train_data),type(train_target),type(test_data),type(test_target))"
      ],
      "execution_count": 7,
      "outputs": [
        {
          "output_type": "stream",
          "name": "stdout",
          "text": [
            "<class 'numpy.ndarray'> <class 'list'> <class 'numpy.ndarray'> <class 'list'>\n"
          ]
        }
      ]
    },
    {
      "cell_type": "code",
      "metadata": {
        "colab": {
          "base_uri": "https://localhost:8080/"
        },
        "id": "fTm66ereo5mb",
        "outputId": "5699b0d5-1dde-4594-dac2-8ba9fb339163"
      },
      "source": [
        "train_target = np.array(train_target)\n",
        "test_target = np.array(test_target)\n",
        "print(type(train_data),type(train_target),type(test_data),type(test_target))"
      ],
      "execution_count": 8,
      "outputs": [
        {
          "output_type": "stream",
          "name": "stdout",
          "text": [
            "<class 'numpy.ndarray'> <class 'numpy.ndarray'> <class 'numpy.ndarray'> <class 'numpy.ndarray'>\n"
          ]
        }
      ]
    },
    {
      "cell_type": "code",
      "metadata": {
        "colab": {
          "base_uri": "https://localhost:8080/"
        },
        "id": "frKhZcV2o94Q",
        "outputId": "be43b3c0-a982-4ddb-bf0e-41523336768e"
      },
      "source": [
        "# Verify shape of datasets\n",
        "print(\"Shape of train_data: \", train_data.shape)\n",
        "print(\"Shape of train_target: \", train_target.shape)\n",
        "print(\"Shape of test_data: \", test_data.shape)\n",
        "print(\"Shape of test_target: \", test_target.shape)"
      ],
      "execution_count": 9,
      "outputs": [
        {
          "output_type": "stream",
          "name": "stdout",
          "text": [
            "Shape of train_data:  (700, 3)\n",
            "Shape of train_target:  (700,)\n",
            "Shape of test_data:  (300, 3)\n",
            "Shape of test_target:  (300,)\n"
          ]
        }
      ]
    },
    {
      "cell_type": "code",
      "metadata": {
        "id": "rGynnlospD-U"
      },
      "source": [
        "# Create Pandas DataFrames from the datasets\n",
        "train_index = range(0,len(train_data))\n",
        "test_index = range(len(test_data))\n",
        "\n",
        "X_train = pd.DataFrame(data=train_data,index=train_index)\n",
        "y_train = pd.Series(data=train_target,index=train_index)\n",
        "\n",
        "X_test = pd.DataFrame(data=test_data,index=test_index)\n",
        "y_test = pd.Series(data=test_target,index=test_index)"
      ],
      "execution_count": 10,
      "outputs": []
    },
    {
      "cell_type": "code",
      "metadata": {
        "colab": {
          "base_uri": "https://localhost:8080/",
          "height": 294
        },
        "id": "KuvR1eK2pHmA",
        "outputId": "98818b07-9dd1-436d-d59f-83a6fe910523"
      },
      "source": [
        "# Describe the training matrix\n",
        "X_train.describe()"
      ],
      "execution_count": 11,
      "outputs": [
        {
          "output_type": "execute_result",
          "data": {
            "text/html": [
              "<div>\n",
              "<style scoped>\n",
              "    .dataframe tbody tr th:only-of-type {\n",
              "        vertical-align: middle;\n",
              "    }\n",
              "\n",
              "    .dataframe tbody tr th {\n",
              "        vertical-align: top;\n",
              "    }\n",
              "\n",
              "    .dataframe thead th {\n",
              "        text-align: right;\n",
              "    }\n",
              "</style>\n",
              "<table border=\"1\" class=\"dataframe\">\n",
              "  <thead>\n",
              "    <tr style=\"text-align: right;\">\n",
              "      <th></th>\n",
              "      <th>0</th>\n",
              "      <th>1</th>\n",
              "      <th>2</th>\n",
              "    </tr>\n",
              "  </thead>\n",
              "  <tbody>\n",
              "    <tr>\n",
              "      <th>count</th>\n",
              "      <td>700.000000</td>\n",
              "      <td>700.000000</td>\n",
              "      <td>700.000000</td>\n",
              "    </tr>\n",
              "    <tr>\n",
              "      <th>mean</th>\n",
              "      <td>33757.927143</td>\n",
              "      <td>6.657736</td>\n",
              "      <td>0.849052</td>\n",
              "    </tr>\n",
              "    <tr>\n",
              "      <th>std</th>\n",
              "      <td>21801.944280</td>\n",
              "      <td>4.266154</td>\n",
              "      <td>0.498621</td>\n",
              "    </tr>\n",
              "    <tr>\n",
              "      <th>min</th>\n",
              "      <td>0.000000</td>\n",
              "      <td>0.000000</td>\n",
              "      <td>0.001156</td>\n",
              "    </tr>\n",
              "    <tr>\n",
              "      <th>25%</th>\n",
              "      <td>14244.500000</td>\n",
              "      <td>3.025890</td>\n",
              "      <td>0.426735</td>\n",
              "    </tr>\n",
              "    <tr>\n",
              "      <th>50%</th>\n",
              "      <td>32224.500000</td>\n",
              "      <td>6.800987</td>\n",
              "      <td>0.831570</td>\n",
              "    </tr>\n",
              "    <tr>\n",
              "      <th>75%</th>\n",
              "      <td>46601.500000</td>\n",
              "      <td>10.040654</td>\n",
              "      <td>1.290498</td>\n",
              "    </tr>\n",
              "    <tr>\n",
              "      <th>max</th>\n",
              "      <td>91273.000000</td>\n",
              "      <td>20.919349</td>\n",
              "      <td>1.694641</td>\n",
              "    </tr>\n",
              "  </tbody>\n",
              "</table>\n",
              "</div>"
            ],
            "text/plain": [
              "                  0           1           2\n",
              "count    700.000000  700.000000  700.000000\n",
              "mean   33757.927143    6.657736    0.849052\n",
              "std    21801.944280    4.266154    0.498621\n",
              "min        0.000000    0.000000    0.001156\n",
              "25%    14244.500000    3.025890    0.426735\n",
              "50%    32224.500000    6.800987    0.831570\n",
              "75%    46601.500000   10.040654    1.290498\n",
              "max    91273.000000   20.919349    1.694641"
            ]
          },
          "metadata": {},
          "execution_count": 11
        }
      ]
    },
    {
      "cell_type": "code",
      "metadata": {
        "colab": {
          "base_uri": "https://localhost:8080/"
        },
        "id": "zcw6GrHPpIZS",
        "outputId": "17ebfb82-7c8a-4de8-9e32-f432a1342144"
      },
      "source": [
        "# Show the labels\n",
        "y_train.head()"
      ],
      "execution_count": 12,
      "outputs": [
        {
          "output_type": "execute_result",
          "data": {
            "text/plain": [
              "0     didntLike\n",
              "1    largeDoses\n",
              "2     didntLike\n",
              "3    smallDoses\n",
              "4    smallDoses\n",
              "dtype: object"
            ]
          },
          "metadata": {},
          "execution_count": 12
        }
      ]
    },
    {
      "cell_type": "code",
      "metadata": {
        "id": "StdBARTbq5WZ"
      },
      "source": [
        "def label_list(stri):\n",
        "  li = np.unique(stri)\n",
        "  num = len(li)\n",
        "  licode = np.arange(num)\n",
        "  dic = dict(zip(li,licode))\n",
        "  ny = np.array([dic.get(item,item)  for item in stri])\n",
        "  return(ny)"
      ],
      "execution_count": 13,
      "outputs": []
    },
    {
      "cell_type": "code",
      "metadata": {
        "id": "eeKpyQEXrIjz"
      },
      "source": [
        "# Create one-hot vectors for the labels\n",
        "y_train_lbl = label_list(y_train)\n",
        "y_test_lbl = label_list(y_test)"
      ],
      "execution_count": 14,
      "outputs": []
    },
    {
      "cell_type": "code",
      "metadata": {
        "colab": {
          "base_uri": "https://localhost:8080/"
        },
        "id": "K33sKvdguiSp",
        "outputId": "65d9b707-c370-4e5c-be38-bdf5acc06f77"
      },
      "source": [
        "print(y_train_lbl.shape, y_test_lbl.shape)"
      ],
      "execution_count": 15,
      "outputs": [
        {
          "output_type": "stream",
          "name": "stdout",
          "text": [
            "(700,) (300,)\n"
          ]
        }
      ]
    },
    {
      "cell_type": "code",
      "metadata": {
        "id": "h9OPmcbOtPrN"
      },
      "source": [
        "from sklearn.preprocessing import StandardScaler\n",
        "from sklearn.decomposition import PCA\n",
        "from sklearn.neighbors import KNeighborsClassifier"
      ],
      "execution_count": 16,
      "outputs": []
    },
    {
      "cell_type": "code",
      "metadata": {
        "id": "26z2QrQNp2ap"
      },
      "source": [
        "from sklearn.pipeline import make_pipeline\n",
        "model_pl_knn = make_pipeline(\n",
        "    StandardScaler(),\n",
        "    PCA(2),\n",
        "    KNeighborsClassifier()\n",
        ")\n",
        "model_pl_knn.fit(X_train, y_train_lbl)\n",
        "y_pred = model_pl_knn.predict(X_test)\n"
      ],
      "execution_count": 17,
      "outputs": []
    },
    {
      "cell_type": "code",
      "metadata": {
        "colab": {
          "base_uri": "https://localhost:8080/"
        },
        "id": "oavOICipt93d",
        "outputId": "c23f313b-436b-433b-deda-8ce4b98f9c09"
      },
      "source": [
        "print(y_pred.shape, y_test_lbl.shape)"
      ],
      "execution_count": 18,
      "outputs": [
        {
          "output_type": "stream",
          "name": "stdout",
          "text": [
            "(300,) (300,)\n"
          ]
        }
      ]
    },
    {
      "cell_type": "code",
      "metadata": {
        "colab": {
          "base_uri": "https://localhost:8080/"
        },
        "id": "XMSxe6fx3lmy",
        "outputId": "c0cbb5d0-29ae-488e-cd7f-6943cdec781c"
      },
      "source": [
        "print(y_test_lbl[:5], y_pred[:5])\n",
        "print(np.unique(y_test_lbl))\n",
        "print(np.unique(y_train))"
      ],
      "execution_count": 19,
      "outputs": [
        {
          "output_type": "stream",
          "name": "stdout",
          "text": [
            "[2 2 2 1 0] [2 2 2 1 1]\n",
            "[0 1 2]\n",
            "['didntLike' 'largeDoses' 'smallDoses']\n"
          ]
        }
      ]
    },
    {
      "cell_type": "code",
      "metadata": {
        "colab": {
          "base_uri": "https://localhost:8080/"
        },
        "id": "6kNLohyBt87O",
        "outputId": "8eb8353a-c54b-4867-c37c-5b0b5a797422"
      },
      "source": [
        "print('整體正確率:',accuracy_score(y_test_lbl, y_pred).round(2))\n",
        "confusion_matrix(y_test_lbl, y_pred)"
      ],
      "execution_count": 20,
      "outputs": [
        {
          "output_type": "stream",
          "name": "stdout",
          "text": [
            "整體正確率: 0.82\n"
          ]
        },
        {
          "output_type": "execute_result",
          "data": {
            "text/plain": [
              "array([[70, 26,  5],\n",
              "       [10, 79,  0],\n",
              "       [10,  2, 98]])"
            ]
          },
          "metadata": {},
          "execution_count": 20
        }
      ]
    },
    {
      "cell_type": "code",
      "metadata": {
        "id": "Wati1npbthcz"
      },
      "source": [
        "# Principal Component Analysis\n",
        "from sklearn.decomposition import PCA\n",
        "\n",
        "n_components = 2\n",
        "whiten = False\n",
        "random_state = 2018\n",
        "\n",
        "pca = PCA(n_components=n_components, whiten=whiten, \\\n",
        "          random_state=random_state)\n",
        "\n",
        "X_train_PCA = pca.fit_transform(X_train)\n",
        "X_train_PCA = pd.DataFrame(data=X_train_PCA, index=train_index)"
      ],
      "execution_count": 21,
      "outputs": []
    },
    {
      "cell_type": "code",
      "metadata": {
        "id": "NYKfJHpL3Aks"
      },
      "source": [
        "# Define scatterplot function \n",
        "def scatterPlot(xDF, yDF, algoName):\n",
        "    tempDF = pd.DataFrame(data=xDF.loc[:,0:1], index=xDF.index)\n",
        "    tempDF = pd.concat((tempDF,yDF), axis=1, join=\"inner\")\n",
        "    tempDF.columns = [\"First Vector\", \"Second Vector\", \"Label\"]\n",
        "    sns.lmplot(x=\"First Vector\", y=\"Second Vector\", hue=\"Label\", \\\n",
        "               data=tempDF, fit_reg=False)\n",
        "    ax = plt.gca()\n",
        "    ax.set_title(\"Separation of Observations using \"+algoName)"
      ],
      "execution_count": 22,
      "outputs": []
    },
    {
      "cell_type": "code",
      "metadata": {
        "colab": {
          "base_uri": "https://localhost:8080/",
          "height": 384
        },
        "id": "SoWfqcN63H38",
        "outputId": "cc7cbd77-b1aa-4e9b-cebf-8e46dbe6c3ad"
      },
      "source": [
        "# View scatterplot\n",
        "scatterPlot(X_train_PCA, y_train, \"PCA\")"
      ],
      "execution_count": 23,
      "outputs": [
        {
          "output_type": "display_data",
          "data": {
            "image/png": "[encoded data removed]",
            "text/plain": [
              "<Figure size 453.125x360 with 1 Axes>"
            ]
          },
          "metadata": {
            "needs_background": "light"
          }
        }
      ]
    },
    {
      "cell_type": "code",
      "metadata": {
        "id": "WkdVB5vfqqHI"
      },
      "source": [
        "pca = PCA()\n",
        "pca.fit(X_train)\n",
        "cumsum = np.cumsum(pca.explained_variance_ratio_)\n",
        "d = np.argmax(cumsum >= 0.95) + 1"
      ],
      "execution_count": 28,
      "outputs": []
    },
    {
      "cell_type": "code",
      "metadata": {
        "id": "c3GnKbiBrGZI",
        "outputId": "5c50d693-edb0-43b5-ae78-cf7eef083430",
        "colab": {
          "base_uri": "https://localhost:8080/"
        }
      },
      "source": [
        "print(d)"
      ],
      "execution_count": 25,
      "outputs": [
        {
          "output_type": "stream",
          "name": "stdout",
          "text": [
            "1\n"
          ]
        }
      ]
    },
    {
      "cell_type": "code",
      "metadata": {
        "id": "a51Q7a6ytZfg",
        "outputId": "70cf8c4a-2329-47b5-ae8b-048deb7bc376",
        "colab": {
          "base_uri": "https://localhost:8080/"
        }
      },
      "source": [
        "print(X_train.shape)"
      ],
      "execution_count": 31,
      "outputs": [
        {
          "output_type": "stream",
          "name": "stdout",
          "text": [
            "(700, 3)\n"
          ]
        }
      ]
    },
    {
      "cell_type": "code",
      "metadata": {
        "id": "yrqr4SKLrmzp",
        "outputId": "f7054ff9-03ac-4315-ce60-641d3a6716e8",
        "colab": {
          "base_uri": "https://localhost:8080/",
          "height": 290
        }
      },
      "source": [
        "pca = PCA()\n",
        "pca.fit(X_train)\n",
        "plt.plot(np.cumsum(pca.explained_variance_ratio_))\n",
        "plt.xlabel('number of components')\n",
        "plt.ylabel('cumulative explained variance');"
      ],
      "execution_count": 30,
      "outputs": [
        {
          "output_type": "display_data",
          "data": {
            "image/png": "[encoded data removed]",
            "text/plain": [
              "<Figure size 432x288 with 1 Axes>"
            ]
          },
          "metadata": {
            "needs_background": "light"
          }
        }
      ]
    },
    {
      "cell_type": "code",
      "metadata": {
        "id": "TIsz4S93s7fl"
      },
      "source": [
        ""
      ],
      "execution_count": null,
      "outputs": []
    }
  ]
}