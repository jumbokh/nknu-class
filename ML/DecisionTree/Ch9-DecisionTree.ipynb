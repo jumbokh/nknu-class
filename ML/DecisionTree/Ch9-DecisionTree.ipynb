{
 "cells": [
  {
   "cell_type": "markdown",
   "source": [
    "### 全華， 用機器學習掌握人工智慧， 徐聖訓\r\n",
    "### https://drive.google.com/drive/folders/1gfItaJzpfBsRqdXKs-oiTVg3O4lzBXQY?usp=sharing"
   ],
   "metadata": {}
  },
  {
   "cell_type": "code",
   "execution_count": null,
   "source": [
    "import pandas as pd\r\n",
    "import numpy as np\r\n",
    "import matplotlib.pyplot as plt\r\n",
    "import seaborn as sns\r\n",
    "%matplotlib inline\r\n",
    "plt.rcParams['font.sans-serif'] = ['DFKai-sb'] \r\n",
    "plt.rcParams['axes.unicode_minus'] = False\r\n",
    "%config InlineBackend.figure_format = 'retina'\r\n",
    "import warnings\r\n",
    "warnings.filterwarnings('ignore')\r\n",
    "\r\n",
    "# 資料載入\r\n",
    "df = pd.read_csv('titanic_train.csv')\r\n",
    "df = df.drop(['PassengerId', 'Name', 'Ticket', 'Cabin'], axis=1)\r\n",
    "# 欄位設定\r\n",
    "X_col_num = ['Age', 'SibSp', 'Parch', 'Fare']\r\n",
    "X_col_cat = ['Pclass', 'Sex', 'Embarked']\r\n",
    "X_cols = X_col_num + X_col_cat\r\n",
    "y_col = 'Survived'\r\n",
    "# 資料切割成訓練和測試集\r\n",
    "from sklearn.model_selection import train_test_split\r\n",
    "X = df[X_cols]\r\n",
    "y = df[y_col]\r\n",
    "X_train, X_test, y_train, y_test = train_test_split(X, y, \r\n",
    "                                                   test_size=0.33, random_state=42)\r\n",
    "df.head()"
   ],
   "outputs": [],
   "metadata": {}
  },
  {
   "cell_type": "code",
   "execution_count": null,
   "source": [
    "from sklearn.pipeline import make_pipeline\r\n",
    "from sklearn.impute import SimpleImputer\r\n",
    "from sklearn.preprocessing import OneHotEncoder\r\n",
    "from sklearn.compose import ColumnTransformer\r\n",
    "num_pl = make_pipeline(\r\n",
    "    SimpleImputer(strategy='median')\r\n",
    ")\r\n",
    "cat_pl = make_pipeline(\r\n",
    "    SimpleImputer(strategy='most_frequent'),\r\n",
    "    OneHotEncoder(sparse=False)\r\n",
    ")\r\n",
    "data_pl = ColumnTransformer([\r\n",
    "    ('num_pl', num_pl, X_col_num),\r\n",
    "    ('cat_pl', cat_pl, X_col_cat)    \r\n",
    "])\r\n",
    "data_pl.fit_transform(X_train)[:1]"
   ],
   "outputs": [],
   "metadata": {}
  },
  {
   "cell_type": "code",
   "execution_count": null,
   "source": [
    "from sklearn.tree import DecisionTreeClassifier\r\n",
    "from sklearn.metrics import confusion_matrix, accuracy_score\r\n",
    "model_pl_tree = make_pipeline(data_pl, \r\n",
    "                              DecisionTreeClassifier(random_state=42))\r\n",
    "model_pl_tree.fit(X_train, y_train)\r\n",
    "y_pred = model_pl_tree.predict(X_train)\r\n",
    "print('正確率：', accuracy_score(y_train, y_pred).round(2))\r\n",
    "print('混亂矩陣')\r\n",
    "print(confusion_matrix(y_train, y_pred))"
   ],
   "outputs": [],
   "metadata": {}
  },
  {
   "cell_type": "code",
   "execution_count": null,
   "source": [
    "y_pred = model_pl_tree.predict(X_test)\r\n",
    "print('正確率：', accuracy_score(y_test, y_pred).round(2))\r\n",
    "print('混亂矩陣')\r\n",
    "print(confusion_matrix(y_test, y_pred))"
   ],
   "outputs": [],
   "metadata": {}
  },
  {
   "cell_type": "code",
   "execution_count": null,
   "source": [
    "model_pl_tree = make_pipeline(\r\n",
    "    data_pl, \r\n",
    "    DecisionTreeClassifier(max_depth=4, random_state=42)\r\n",
    ")\r\n",
    "model_pl_tree.fit(X_train, y_train)\r\n",
    "print('「訓練集」的正確率：', model_pl_tree.score(X_train, y_train).round(2))\r\n",
    "print('「測試集」的正確率：', model_pl_tree.score(X_test, y_test).round(2))"
   ],
   "outputs": [],
   "metadata": {}
  },
  {
   "cell_type": "code",
   "execution_count": null,
   "source": [
    "acc_train = []\r\n",
    "acc_test = []\r\n",
    "n_depth = range(2,25)\r\n",
    "for n in n_depth:\r\n",
    "    model_pl_tree = make_pipeline(\r\n",
    "        data_pl, \r\n",
    "        DecisionTreeClassifier(max_depth=n, random_state=42)\r\n",
    "    )\r\n",
    "    model_pl_tree.fit(X_train, y_train)\r\n",
    "    acc_train.append(model_pl_tree.score(X_train, y_train))\r\n",
    "    acc_test.append(model_pl_tree.score(X_test, y_test))\r\n",
    "# 繪圖開始\r\n",
    "\r\n",
    "plt.plot(n_depth, acc_train, marker='o', label='訓練集')\r\n",
    "plt.plot(n_depth, acc_test, c='green', \r\n",
    "         marker='+', ls='--', label='測試集')\r\n",
    "plt.xticks(n_depth, n_depth)\r\n",
    "plt.legend();"
   ],
   "outputs": [],
   "metadata": {}
  },
  {
   "cell_type": "code",
   "execution_count": null,
   "source": [
    "acc_train = []\r\n",
    "acc_test = []\r\n",
    "n_range = range(2,100,3)\r\n",
    "for n in n_range:\r\n",
    "    model_pl_tree = make_pipeline(data_pl, \r\n",
    "                                  DecisionTreeClassifier(random_state=42, min_samples_split=n))\r\n",
    "    model_pl_tree.fit(X_train, y_train)\r\n",
    "    acc_train.append(model_pl_tree.score(X_train, y_train).round(2))\r\n",
    "    acc_test.append(model_pl_tree.score(X_test, y_test).round(2))\r\n",
    "plt.plot(n_range, acc_train, marker='o', label='訓練集')\r\n",
    "plt.plot(n_range, acc_test, c='green', marker='+', ls='--', label='測試集')\r\n",
    "plt.legend();"
   ],
   "outputs": [],
   "metadata": {}
  },
  {
   "cell_type": "code",
   "execution_count": null,
   "source": [
    "model_pl_tree = make_pipeline(\r\n",
    "    data_pl, \r\n",
    "    DecisionTreeClassifier(max_depth=4, random_state=42)\r\n",
    ")\r\n",
    "model_pl_tree.fit(X_train, y_train)\r\n",
    "tree = model_pl_tree.named_steps['decisiontreeclassifier']\r\n",
    "feature_importance = tree.feature_importances_.round(3)\r\n",
    "feature_importance"
   ],
   "outputs": [],
   "metadata": {}
  },
  {
   "cell_type": "code",
   "execution_count": null,
   "source": [
    "print(f'數值型特徵值{X_col_num}')\r\n",
    "print(f'類別型特徵值{X_col_cat}')\r\n",
    "cat_pl = data_pl.named_transformers_['cat_pl']\r\n",
    "oh_cols = cat_pl.named_steps['onehotencoder'].\\\r\n",
    "get_feature_names(X_col_cat)\r\n",
    "print(f'獨熱編碼後的特徵值。{oh_cols}')\r\n",
    "cols = X_col_num + oh_cols.tolist()\r\n",
    "print(f'所有欄位{cols}')"
   ],
   "outputs": [],
   "metadata": {}
  },
  {
   "cell_type": "code",
   "execution_count": null,
   "source": [
    "pd.DataFrame(feature_importance, index=cols, columns=['係數']).\\\r\n",
    "sort_values(by='係數', ascending=False)"
   ],
   "outputs": [],
   "metadata": {}
  },
  {
   "cell_type": "code",
   "execution_count": null,
   "source": [
    "from sklearn.tree import export_graphviz\r\n",
    "import pydot \r\n",
    "from IPython.display import Image  \r\n",
    "# features變數存放所有欄位名稱\r\n",
    "features = cols\r\n",
    "# class_names變數存放目標值表呈現的文字意義\r\n",
    "class_names = ['死', '活']\r\n",
    "# export_graphviz的第一個參數是決策樹模型的預測結果\r\n",
    "# max_depth=3可設定決策樹呈現的深度，其餘參數讀者可自己測試\r\n",
    "dot_data = export_graphviz(\r\n",
    "    model_pl_tree.named_steps['decisiontreeclassifier'], \r\n",
    "    out_file=None,\r\n",
    "    feature_names=features,\r\n",
    "    class_names = class_names,\r\n",
    "    proportion = False,\r\n",
    "    max_depth=3,\r\n",
    "    filled=True,\r\n",
    "    rounded=True\r\n",
    ")\r\n",
    "graph = pydot.graph_from_dot_data(dot_data)  \r\n",
    "# 也將結果存到tree.png檔案裡\r\n",
    "graph[0].write_png('tree.png')\r\n",
    "Image(graph[0].create_png())"
   ],
   "outputs": [],
   "metadata": {}
  }
 ],
 "metadata": {
  "orig_nbformat": 4,
  "language_info": {
   "name": "python"
  }
 },
 "nbformat": 4,
 "nbformat_minor": 2
}