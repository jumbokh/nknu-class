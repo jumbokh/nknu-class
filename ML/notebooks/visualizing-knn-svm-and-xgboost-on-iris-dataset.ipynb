{
  "nbformat": 4,
  "nbformat_minor": 0,
  "metadata": {
    "_change_revision": 0,
    "_is_fork": false,
    "kernelspec": {
      "display_name": "Python 3",
      "language": "python",
      "name": "python3"
    },
    "language_info": {
      "name": "python",
      "version": "3.7.9",
      "mimetype": "text/x-python",
      "codemirror_mode": {
        "name": "ipython",
        "version": 3
      },
      "pygments_lexer": "ipython3",
      "nbconvert_exporter": "python",
      "file_extension": ".py"
    },
    "colab": {
      "name": "visualizing-knn-svm-and-xgboost-on-iris-dataset.ipynb",
      "provenance": []
    }
  },
  "cells": [
    {
      "cell_type": "markdown",
      "metadata": {
        "_cell_guid": "88e8ec6d-76e5-5f12-d9a6-2b40017a2b99",
        "id": "qZDiC-dej4JH"
      },
      "source": [
        "Here we use Python to visualize how certain machine learning algorithms classify certain data points in the Iris dataset. Let's begin by importing the Iris dataset and splitting it into features and labels. We will use only the petal length and width for this analysis.\n",
        "\n",
        "These visualizations and their code can be found in Sebastian Raschka's book, Python Machine Learning."
      ]
    },
    {
      "cell_type": "code",
      "metadata": {
        "_cell_guid": "6443d6db-6440-5d93-d37c-4fde4c428ca5",
        "trusted": true,
        "id": "6s5PZ22yj4JL",
        "outputId": "7b04933d-c1e9-4dbb-f990-6ce0713aa013"
      },
      "source": [
        "\n",
        "# Import data and modules\n",
        "import pandas as pd\n",
        "import numpy as np\n",
        "from sklearn import datasets\n",
        "%pylab inline\n",
        "pylab.rcParams['figure.figsize'] = (10, 6)\n",
        "\n",
        "iris = datasets.load_iris()\n",
        "\n",
        "# We'll use the petal length and width only for this analysis\n",
        "X = iris.data[:, [2, 3]]\n",
        "y = iris.target\n",
        "\n",
        "# Place the iris data into a pandas dataframe\n",
        "iris_df = pd.DataFrame(iris.data[:, [2, 3]], columns=iris.feature_names[2:])\n",
        "\n",
        "# View the first 5 rows of the data\n",
        "print(iris_df.head())\n",
        "\n",
        "# Print the unique labels of the dataset\n",
        "print('\\n' + 'The unique labels in this data are ' + str(np.unique(y)))"
      ],
      "execution_count": null,
      "outputs": [
        {
          "name": "stdout",
          "text": "Populating the interactive namespace from numpy and matplotlib\n   petal length (cm)  petal width (cm)\n0                1.4               0.2\n1                1.4               0.2\n2                1.3               0.2\n3                1.5               0.2\n4                1.4               0.2\n\nThe unique labels in this data are [0 1 2]\n",
          "output_type": "stream"
        }
      ]
    },
    {
      "cell_type": "markdown",
      "metadata": {
        "_cell_guid": "eeaf0cb8-4c35-7422-1e08-345a25ed309a",
        "id": "qNHFeygDj4JN"
      },
      "source": [
        "Next, we'll split the data into training and test datasets.\n",
        "-----------------------------------------------------------"
      ]
    },
    {
      "cell_type": "code",
      "metadata": {
        "_cell_guid": "8393598e-1344-0e22-43fc-fdda6c75c08a",
        "trusted": true,
        "id": "z_RMtiVWj4JO",
        "outputId": "21fd8b5b-6fc9-46f9-b2cf-00202f61602e"
      },
      "source": [
        "from sklearn.model_selection import train_test_split\n",
        "\n",
        "X_train, X_test, y_train, y_test = train_test_split(X, y, test_size=.3, random_state=0)\n",
        "\n",
        "print('There are {} samples in the training set and {} samples in the test set'.format(\n",
        "X_train.shape[0], X_test.shape[0]))\n",
        "print()"
      ],
      "execution_count": null,
      "outputs": [
        {
          "name": "stdout",
          "text": "There are 105 samples in the training set and 45 samples in the test set\n\n",
          "output_type": "stream"
        }
      ]
    },
    {
      "cell_type": "markdown",
      "metadata": {
        "_cell_guid": "34a39b41-96cc-b560-c966-ddab1e67f65c",
        "id": "oy1dnqFFj4JP"
      },
      "source": [
        "For many machine learning algorithms, it is important to scale the data. Let's do that now using sklearn."
      ]
    },
    {
      "cell_type": "code",
      "metadata": {
        "_cell_guid": "5867b347-4875-1e21-4313-633873a56915",
        "trusted": true,
        "id": "7eZ5kqtlj4JP",
        "outputId": "1856bdf5-4c18-49cb-e923-9c1ff925294d"
      },
      "source": [
        "from sklearn.preprocessing import StandardScaler\n",
        "\n",
        "sc = StandardScaler()\n",
        "\n",
        "sc.fit(X_train)\n",
        "\n",
        "X_train_std = sc.transform(X_train)\n",
        "X_test_std = sc.transform(X_test)\n",
        "\n",
        "print('After standardizing our features, the first 5 rows of our data now look like this:\\n')\n",
        "print(pd.DataFrame(X_train_std, columns=iris_df.columns).head())"
      ],
      "execution_count": null,
      "outputs": [
        {
          "name": "stdout",
          "text": "After standardizing our features, the first 5 rows of our data now look like this:\n\n   petal length (cm)  petal width (cm)\n0          -0.182950         -0.293181\n1           0.930661          0.737246\n2           1.042022          1.638870\n3           0.652258          0.350836\n4           1.097702          0.737246\n",
          "output_type": "stream"
        }
      ]
    },
    {
      "cell_type": "markdown",
      "metadata": {
        "_cell_guid": "dc68363a-7def-d618-e190-0ddd26324bf2",
        "id": "Nfcjfkklj4JQ"
      },
      "source": [
        "If we plot the original data, we can see that one of the classes is linearly separable, but the other two are not."
      ]
    },
    {
      "cell_type": "code",
      "metadata": {
        "_cell_guid": "6f3d2990-5c6b-8ec3-4a38-63fe8ca3d241",
        "trusted": true,
        "id": "rKmTzr44j4JQ",
        "outputId": "18654dc3-eb3c-4971-9b16-eaa0efddaa2a"
      },
      "source": [
        "from matplotlib.colors import ListedColormap\n",
        "import matplotlib.pyplot as plt\n",
        "\n",
        "markers = ('s', 'x', 'o')\n",
        "colors = ('red', 'blue', 'lightgreen')\n",
        "cmap = ListedColormap(colors[:len(np.unique(y_test))])\n",
        "for idx, cl in enumerate(np.unique(y)):\n",
        "    plt.scatter(x=X[y == cl, 0], y=X[y == cl, 1],\n",
        "               c=cmap(idx), marker=markers[idx], label=cl)"
      ],
      "execution_count": null,
      "outputs": [
        {
          "output_type": "display_data",
          "data": {
            "text/plain": "<Figure size 720x432 with 1 Axes>",
            "image/png": "[encoded data removed]"
          },
          "metadata": {
            "needs_background": "light"
          }
        }
      ]
    },
    {
      "cell_type": "markdown",
      "metadata": {
        "_cell_guid": "09b4dc98-b068-b70c-bf35-77e82b2adc8b",
        "id": "76wZHMZ0j4JR"
      },
      "source": [
        "Let's try to use a Linear SVC to predict the the labels of our test data."
      ]
    },
    {
      "cell_type": "code",
      "metadata": {
        "_cell_guid": "7e8e8442-ae96-b764-8ef6-67add2fa2ede",
        "trusted": true,
        "id": "-0ztvV1Dj4JS",
        "outputId": "df761184-8f0c-4dba-c58b-ac93b6e5a7b9"
      },
      "source": [
        "from sklearn.svm import SVC\n",
        "\n",
        "svm = SVC(kernel='rbf', random_state=0, gamma=.10, C=1.0)\n",
        "svm.fit(X_train_std, y_train)\n",
        "\n",
        "print('The accuracy of the svm classifier on training data is {:.2f} out of 1'.format(svm.score(X_train_std, y_train)))\n",
        "\n",
        "print('The accuracy of the svm classifier on test data is {:.2f} out of 1'.format(svm.score(X_test_std, y_test)))"
      ],
      "execution_count": null,
      "outputs": [
        {
          "name": "stdout",
          "text": "The accuracy of the svm classifier on training data is 0.95 out of 1\nThe accuracy of the svm classifier on test data is 0.98 out of 1\n",
          "output_type": "stream"
        }
      ]
    },
    {
      "cell_type": "markdown",
      "metadata": {
        "_cell_guid": "b76090ca-e371-6ac7-8b32-d5b404328849",
        "id": "mcSzzEwJj4JS"
      },
      "source": [
        "It looks like our classifier performs pretty well. Let's visualize how the model classified the samples in our test data. \n"
      ]
    },
    {
      "cell_type": "code",
      "metadata": {
        "_cell_guid": "1b61e350-768e-a4e7-18df-6a31d617a974",
        "trusted": true,
        "id": "OG_MVWa4j4JS"
      },
      "source": [
        "import warnings\n",
        "\n",
        "\n",
        "def versiontuple(v):\n",
        "    return tuple(map(int, (v.split(\".\"))))\n",
        "\n",
        "\n",
        "def plot_decision_regions(X, y, classifier, test_idx=None, resolution=0.02):\n",
        "\n",
        "    # setup marker generator and color map\n",
        "    markers = ('s', 'x', 'o', '^', 'v')\n",
        "    colors = ('red', 'blue', 'lightgreen', 'gray', 'cyan')\n",
        "    cmap = ListedColormap(colors[:len(np.unique(y))])\n",
        "\n",
        "    # plot the decision surface\n",
        "    x1_min, x1_max = X[:, 0].min() - 1, X[:, 0].max() + 1\n",
        "    x2_min, x2_max = X[:, 1].min() - 1, X[:, 1].max() + 1\n",
        "    xx1, xx2 = np.meshgrid(np.arange(x1_min, x1_max, resolution),\n",
        "                           np.arange(x2_min, x2_max, resolution))\n",
        "    Z = classifier.predict(np.array([xx1.ravel(), xx2.ravel()]).T)\n",
        "    Z = Z.reshape(xx1.shape)\n",
        "    plt.contourf(xx1, xx2, Z, alpha=0.4, cmap=cmap)\n",
        "    plt.xlim(xx1.min(), xx1.max())\n",
        "    plt.ylim(xx2.min(), xx2.max())\n",
        "\n",
        "    for idx, cl in enumerate(np.unique(y)):\n",
        "        plt.scatter(x=X[y == cl, 0], y=X[y == cl, 1],\n",
        "                    alpha=0.8, c=cmap(idx),\n",
        "                    marker=markers[idx], label=cl)"
      ],
      "execution_count": null,
      "outputs": []
    },
    {
      "cell_type": "code",
      "metadata": {
        "_cell_guid": "78cfec64-2e2a-79d4-017d-e30725060f0b",
        "trusted": true,
        "id": "opceIpIRj4JT",
        "outputId": "7e5cdc82-4819-4ca8-9455-c4a4628c44e7"
      },
      "source": [
        "plot_decision_regions(X_test_std, y_test, svm)"
      ],
      "execution_count": null,
      "outputs": [
        {
          "output_type": "display_data",
          "data": {
            "text/plain": "<Figure size 720x432 with 1 Axes>",
            "image/png": "[encoded data removed]"
          },
          "metadata": {
            "needs_background": "light"
          }
        }
      ]
    },
    {
      "cell_type": "markdown",
      "metadata": {
        "_cell_guid": "090509b2-66bd-0916-571c-4224d55ffa41",
        "id": "g_58dmHyj4JU"
      },
      "source": [
        "Now, let's test out a KNN classifier."
      ]
    },
    {
      "cell_type": "code",
      "metadata": {
        "_cell_guid": "abd39cb6-86d8-32b6-6108-5cf69f5a4470",
        "trusted": true,
        "id": "ru_e-b-yj4JU",
        "outputId": "d62cbdce-6058-409e-c668-9c42c853ff5e"
      },
      "source": [
        "from sklearn.neighbors import KNeighborsClassifier\n",
        "\n",
        "knn = KNeighborsClassifier(n_neighbors=5, p=2, metric='minkowski')\n",
        "knn.fit(X_train_std, y_train)\n",
        "\n",
        "print('The accuracy of the knn classifier is {:.2f} out of 1 on training data'.format(knn.score(X_train_std, y_train)))\n",
        "print('The accuracy of the knn classifier is {:.2f} out of 1 on test data'.format(knn.score(X_test_std, y_test)))"
      ],
      "execution_count": null,
      "outputs": [
        {
          "name": "stdout",
          "text": "The accuracy of the knn classifier is 0.95 out of 1 on training data\nThe accuracy of the knn classifier is 1.00 out of 1 on test data\n",
          "output_type": "stream"
        }
      ]
    },
    {
      "cell_type": "code",
      "metadata": {
        "_cell_guid": "0e91c717-6928-e355-e15a-20b4e62ccec7",
        "trusted": true,
        "id": "XMtplPnaj4JU",
        "outputId": "51353812-632d-46df-c985-f1366d3015ef"
      },
      "source": [
        "plot_decision_regions(X_test_std, y_test, knn)"
      ],
      "execution_count": null,
      "outputs": [
        {
          "output_type": "display_data",
          "data": {
            "text/plain": "<Figure size 720x432 with 1 Axes>",
            "image/png": "[encoded data removed]"
          },
          "metadata": {
            "needs_background": "light"
          }
        }
      ]
    },
    {
      "cell_type": "markdown",
      "metadata": {
        "_cell_guid": "286d43b6-5fe4-da78-41e6-03e4e390d435",
        "id": "aXjjBNdkj4JV"
      },
      "source": [
        "And just for fun, we'll plot an XGBoost classifier."
      ]
    },
    {
      "cell_type": "code",
      "metadata": {
        "_cell_guid": "66ef8e17-46e6-5c33-131e-0444cf3acb56",
        "trusted": true,
        "id": "vrLyDmFvj4JV",
        "outputId": "e3f7c31c-ebe0-4592-d4a2-738050623feb"
      },
      "source": [
        "import xgboost as xgb\n",
        "\n",
        "xgb_clf = xgb.XGBClassifier()\n",
        "xgb_clf = xgb_clf.fit(X_train_std, y_train)\n",
        "\n",
        "print('The accuracy of the xgb classifier is {:.2f} out of 1 on training data'.format(xgb_clf.score(X_train_std, y_train)))\n",
        "print('The accuracy of the xgb classifier is {:.2f} out of 1 on test data'.format(xgb_clf.score(X_test_std, y_test)))"
      ],
      "execution_count": null,
      "outputs": [
        {
          "name": "stdout",
          "text": "[13:46:51] WARNING: ../src/learner.cc:1061: Starting in XGBoost 1.3.0, the default evaluation metric used with the objective 'multi:softprob' was changed from 'merror' to 'mlogloss'. Explicitly set eval_metric if you'd like to restore the old behavior.\nThe accuracy of the xgb classifier is 0.99 out of 1 on training data\nThe accuracy of the xgb classifier is 0.98 out of 1 on test data\n",
          "output_type": "stream"
        },
        {
          "name": "stderr",
          "text": "/opt/conda/lib/python3.7/site-packages/xgboost/sklearn.py:888: UserWarning: The use of label encoder in XGBClassifier is deprecated and will be removed in a future release. To remove this warning, do the following: 1) Pass option use_label_encoder=False when constructing XGBClassifier object; and 2) Encode your labels (y) as integers starting with 0, i.e. 0, 1, 2, ..., [num_class - 1].\n  warnings.warn(label_encoder_deprecation_msg, UserWarning)\n",
          "output_type": "stream"
        }
      ]
    },
    {
      "cell_type": "code",
      "metadata": {
        "_cell_guid": "40bf092b-3043-025f-b478-d14b760b58b8",
        "trusted": true,
        "id": "PTYsupuhj4JW",
        "outputId": "d62d0e68-74b2-49f9-ea31-eb6c3e6818dd"
      },
      "source": [
        "plot_decision_regions(X_test_std, y_test, xgb_clf)"
      ],
      "execution_count": null,
      "outputs": [
        {
          "output_type": "display_data",
          "data": {
            "text/plain": "<Figure size 720x432 with 1 Axes>",
            "image/png": "[encoded data removed]"
          },
          "metadata": {
            "needs_background": "light"
          }
        }
      ]
    },
    {
      "cell_type": "markdown",
      "metadata": {
        "_cell_guid": "05bffe84-c21b-11b1-0a02-30100d339404",
        "id": "lXlknooEj4JW"
      },
      "source": [
        "In all classifiers, the performance on the test data was better than the training data. At least with the parameters specified in this very simple approach, the KNN algorithm seems to have performed the best. However, this may not be the case depending on the dataset and more careful parameter tuning."
      ]
    }
  ]
}