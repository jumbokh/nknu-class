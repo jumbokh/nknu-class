{
  "nbformat": 4,
  "nbformat_minor": 0,
  "metadata": {
    "colab": {
      "name": "KNN.ipynb",
      "provenance": [],
      "toc_visible": true
    },
    "kernelspec": {
      "name": "python3",
      "display_name": "Python 3"
    },
    "language_info": {
      "name": "python"
    }
  },
  "cells": [
    {
      "cell_type": "markdown",
      "metadata": {
        "id": "YEvruYM3Q3Xt"
      },
      "source": [
        "### XB1850《一書貫通-從資料科學橫入人工智慧領域》教學範例檔\n",
        "### CH11KNN\n"
      ]
    },
    {
      "cell_type": "code",
      "metadata": {
        "id": "QWo_E1kzQvMG"
      },
      "source": [
        "%matplotlib inline\n",
        "import os\n",
        "import numpy as np\n",
        "from scipy import stats\n",
        "import pandas as pd\n",
        "import sklearn.model_selection\n",
        "import matplotlib.pyplot as plt\n",
        "\n",
        "#os.chdir(r'D:\\Python_book\\11KNNNB')\n",
        "pd.set_option('display.max_columns', None)"
      ],
      "execution_count": null,
      "outputs": []
    },
    {
      "cell_type": "markdown",
      "metadata": {
        "id": "qRTvxM49SgvF"
      },
      "source": [
        "### 載入資料"
      ]
    },
    {
      "cell_type": "code",
      "metadata": {
        "colab": {
          "base_uri": "https://localhost:8080/",
          "height": 315
        },
        "id": "TqrqWK4RRVVm",
        "outputId": "525748e7-9612-4376-ecfe-42f7ca16a8a0"
      },
      "source": [
        "orgData = pd.read_csv('date_data2.csv')\n",
        "orgData.describe()"
      ],
      "execution_count": null,
      "outputs": [
        {
          "output_type": "execute_result",
          "data": {
            "text/html": [
              "<div>\n",
              "<style scoped>\n",
              "    .dataframe tbody tr th:only-of-type {\n",
              "        vertical-align: middle;\n",
              "    }\n",
              "\n",
              "    .dataframe tbody tr th {\n",
              "        vertical-align: top;\n",
              "    }\n",
              "\n",
              "    .dataframe thead th {\n",
              "        text-align: right;\n",
              "    }\n",
              "</style>\n",
              "<table border=\"1\" class=\"dataframe\">\n",
              "  <thead>\n",
              "    <tr style=\"text-align: right;\">\n",
              "      <th></th>\n",
              "      <th>income</th>\n",
              "      <th>attractive</th>\n",
              "      <th>assets</th>\n",
              "      <th>edueduclass</th>\n",
              "      <th>Dated</th>\n",
              "      <th>income_rank</th>\n",
              "      <th>attractive_rank</th>\n",
              "      <th>assets_rank</th>\n",
              "    </tr>\n",
              "  </thead>\n",
              "  <tbody>\n",
              "    <tr>\n",
              "      <th>count</th>\n",
              "      <td>100.000000</td>\n",
              "      <td>100.000000</td>\n",
              "      <td>100.000000</td>\n",
              "      <td>100.000000</td>\n",
              "      <td>100.000000</td>\n",
              "      <td>100.000000</td>\n",
              "      <td>100.000000</td>\n",
              "      <td>100.000000</td>\n",
              "    </tr>\n",
              "    <tr>\n",
              "      <th>mean</th>\n",
              "      <td>9010.000000</td>\n",
              "      <td>50.500000</td>\n",
              "      <td>96.006300</td>\n",
              "      <td>3.710000</td>\n",
              "      <td>0.500000</td>\n",
              "      <td>1.550000</td>\n",
              "      <td>1.560000</td>\n",
              "      <td>1.510000</td>\n",
              "    </tr>\n",
              "    <tr>\n",
              "      <th>std</th>\n",
              "      <td>5832.675288</td>\n",
              "      <td>28.810948</td>\n",
              "      <td>91.082226</td>\n",
              "      <td>1.225116</td>\n",
              "      <td>0.502519</td>\n",
              "      <td>1.140397</td>\n",
              "      <td>1.103896</td>\n",
              "      <td>1.123621</td>\n",
              "    </tr>\n",
              "    <tr>\n",
              "      <th>min</th>\n",
              "      <td>3000.000000</td>\n",
              "      <td>1.000000</td>\n",
              "      <td>3.728400</td>\n",
              "      <td>1.000000</td>\n",
              "      <td>0.000000</td>\n",
              "      <td>0.000000</td>\n",
              "      <td>0.000000</td>\n",
              "      <td>0.000000</td>\n",
              "    </tr>\n",
              "    <tr>\n",
              "      <th>25%</th>\n",
              "      <td>5000.000000</td>\n",
              "      <td>28.000000</td>\n",
              "      <td>31.665269</td>\n",
              "      <td>3.000000</td>\n",
              "      <td>0.000000</td>\n",
              "      <td>1.000000</td>\n",
              "      <td>1.000000</td>\n",
              "      <td>0.750000</td>\n",
              "    </tr>\n",
              "    <tr>\n",
              "      <th>50%</th>\n",
              "      <td>7500.000000</td>\n",
              "      <td>51.000000</td>\n",
              "      <td>70.746924</td>\n",
              "      <td>4.000000</td>\n",
              "      <td>0.500000</td>\n",
              "      <td>2.000000</td>\n",
              "      <td>2.000000</td>\n",
              "      <td>2.000000</td>\n",
              "    </tr>\n",
              "    <tr>\n",
              "      <th>75%</th>\n",
              "      <td>11500.000000</td>\n",
              "      <td>68.875000</td>\n",
              "      <td>131.481061</td>\n",
              "      <td>4.000000</td>\n",
              "      <td>1.000000</td>\n",
              "      <td>3.000000</td>\n",
              "      <td>2.250000</td>\n",
              "      <td>2.250000</td>\n",
              "    </tr>\n",
              "    <tr>\n",
              "      <th>max</th>\n",
              "      <td>34000.000000</td>\n",
              "      <td>99.500000</td>\n",
              "      <td>486.311758</td>\n",
              "      <td>6.000000</td>\n",
              "      <td>1.000000</td>\n",
              "      <td>3.000000</td>\n",
              "      <td>3.000000</td>\n",
              "      <td>3.000000</td>\n",
              "    </tr>\n",
              "  </tbody>\n",
              "</table>\n",
              "</div>"
            ],
            "text/plain": [
              "             income  attractive      assets  edueduclass       Dated  \\\n",
              "count    100.000000  100.000000  100.000000   100.000000  100.000000   \n",
              "mean    9010.000000   50.500000   96.006300     3.710000    0.500000   \n",
              "std     5832.675288   28.810948   91.082226     1.225116    0.502519   \n",
              "min     3000.000000    1.000000    3.728400     1.000000    0.000000   \n",
              "25%     5000.000000   28.000000   31.665269     3.000000    0.000000   \n",
              "50%     7500.000000   51.000000   70.746924     4.000000    0.500000   \n",
              "75%    11500.000000   68.875000  131.481061     4.000000    1.000000   \n",
              "max    34000.000000   99.500000  486.311758     6.000000    1.000000   \n",
              "\n",
              "       income_rank  attractive_rank  assets_rank  \n",
              "count   100.000000       100.000000   100.000000  \n",
              "mean      1.550000         1.560000     1.510000  \n",
              "std       1.140397         1.103896     1.123621  \n",
              "min       0.000000         0.000000     0.000000  \n",
              "25%       1.000000         1.000000     0.750000  \n",
              "50%       2.000000         2.000000     2.000000  \n",
              "75%       3.000000         2.250000     2.250000  \n",
              "max       3.000000         3.000000     3.000000  "
            ]
          },
          "metadata": {
            "tags": []
          },
          "execution_count": 3
        }
      ]
    },
    {
      "cell_type": "markdown",
      "metadata": {
        "id": "q2cEW5c6SnSG"
      },
      "source": [
        "### 選取資料欄位"
      ]
    },
    {
      "cell_type": "code",
      "metadata": {
        "colab": {
          "base_uri": "https://localhost:8080/",
          "height": 223
        },
        "id": "DhsafNeiRc5f",
        "outputId": "f8726551-3bfe-4c18-cc9a-1e047d107408"
      },
      "source": [
        "X = orgData.loc[:,]\n",
        "Y = orgData[['Dated']]\n",
        "X.head()"
      ],
      "execution_count": null,
      "outputs": [
        {
          "output_type": "execute_result",
          "data": {
            "text/html": [
              "<div>\n",
              "<style scoped>\n",
              "    .dataframe tbody tr th:only-of-type {\n",
              "        vertical-align: middle;\n",
              "    }\n",
              "\n",
              "    .dataframe tbody tr th {\n",
              "        vertical-align: top;\n",
              "    }\n",
              "\n",
              "    .dataframe thead th {\n",
              "        text-align: right;\n",
              "    }\n",
              "</style>\n",
              "<table border=\"1\" class=\"dataframe\">\n",
              "  <thead>\n",
              "    <tr style=\"text-align: right;\">\n",
              "      <th></th>\n",
              "      <th>income</th>\n",
              "      <th>attractive</th>\n",
              "      <th>assets</th>\n",
              "      <th>edueduclass</th>\n",
              "      <th>Dated</th>\n",
              "      <th>income_rank</th>\n",
              "      <th>attractive_rank</th>\n",
              "      <th>assets_rank</th>\n",
              "    </tr>\n",
              "  </thead>\n",
              "  <tbody>\n",
              "    <tr>\n",
              "      <th>0</th>\n",
              "      <td>3000</td>\n",
              "      <td>9.0</td>\n",
              "      <td>5.145476</td>\n",
              "      <td>1</td>\n",
              "      <td>0</td>\n",
              "      <td>0</td>\n",
              "      <td>0</td>\n",
              "      <td>0</td>\n",
              "    </tr>\n",
              "    <tr>\n",
              "      <th>1</th>\n",
              "      <td>3000</td>\n",
              "      <td>14.5</td>\n",
              "      <td>40.643781</td>\n",
              "      <td>4</td>\n",
              "      <td>1</td>\n",
              "      <td>0</td>\n",
              "      <td>0</td>\n",
              "      <td>1</td>\n",
              "    </tr>\n",
              "    <tr>\n",
              "      <th>2</th>\n",
              "      <td>3000</td>\n",
              "      <td>6.0</td>\n",
              "      <td>5.145476</td>\n",
              "      <td>1</td>\n",
              "      <td>0</td>\n",
              "      <td>0</td>\n",
              "      <td>0</td>\n",
              "      <td>0</td>\n",
              "    </tr>\n",
              "    <tr>\n",
              "      <th>3</th>\n",
              "      <td>3000</td>\n",
              "      <td>1.0</td>\n",
              "      <td>7.067434</td>\n",
              "      <td>1</td>\n",
              "      <td>0</td>\n",
              "      <td>0</td>\n",
              "      <td>0</td>\n",
              "      <td>0</td>\n",
              "    </tr>\n",
              "    <tr>\n",
              "      <th>4</th>\n",
              "      <td>3500</td>\n",
              "      <td>14.5</td>\n",
              "      <td>3.728400</td>\n",
              "      <td>2</td>\n",
              "      <td>0</td>\n",
              "      <td>0</td>\n",
              "      <td>0</td>\n",
              "      <td>0</td>\n",
              "    </tr>\n",
              "  </tbody>\n",
              "</table>\n",
              "</div>"
            ],
            "text/plain": [
              "   income  attractive     assets  edueduclass  Dated  income_rank  \\\n",
              "0    3000         9.0   5.145476            1      0            0   \n",
              "1    3000        14.5  40.643781            4      1            0   \n",
              "2    3000         6.0   5.145476            1      0            0   \n",
              "3    3000         1.0   7.067434            1      0            0   \n",
              "4    3500        14.5   3.728400            2      0            0   \n",
              "\n",
              "   attractive_rank  assets_rank  \n",
              "0                0            0  \n",
              "1                0            1  \n",
              "2                0            0  \n",
              "3                0            0  \n",
              "4                0            0  "
            ]
          },
          "metadata": {
            "tags": []
          },
          "execution_count": 8
        }
      ]
    },
    {
      "cell_type": "markdown",
      "metadata": {
        "id": "n9vSesyhSwnx"
      },
      "source": [
        "### 標準化"
      ]
    },
    {
      "cell_type": "code",
      "metadata": {
        "colab": {
          "base_uri": "https://localhost:8080/"
        },
        "id": "5J9TRL9YRrtO",
        "outputId": "096f12c8-a135-4a41-83f5-c65732eea52b"
      },
      "source": [
        "from sklearn import preprocessing\n",
        "\n",
        "min_max_scaler = preprocessing.MinMaxScaler()\n",
        "X_scaled = min_max_scaler.fit_transform(X)\n",
        "X_scaled[1:5]"
      ],
      "execution_count": null,
      "outputs": [
        {
          "output_type": "execute_result",
          "data": {
            "text/plain": [
              "array([[0.        , 0.13705584, 0.07649535, 0.6       , 1.        ,\n",
              "        0.        , 0.        , 0.33333333],\n",
              "       [0.        , 0.05076142, 0.00293644, 0.        , 0.        ,\n",
              "        0.        , 0.        , 0.        ],\n",
              "       [0.        , 0.        , 0.00691908, 0.        , 0.        ,\n",
              "        0.        , 0.        , 0.        ],\n",
              "       [0.01612903, 0.13705584, 0.        , 0.2       , 0.        ,\n",
              "        0.        , 0.        , 0.        ]])"
            ]
          },
          "metadata": {
            "tags": []
          },
          "execution_count": 9
        }
      ]
    },
    {
      "cell_type": "markdown",
      "metadata": {
        "id": "sBYq8LLbS2iy"
      },
      "source": [
        "### 切割資料:訓練集、測試集"
      ]
    },
    {
      "cell_type": "code",
      "metadata": {
        "id": "Fj3i2n-sRyra"
      },
      "source": [
        "import sklearn.model_selection as model_selection\n",
        "from sklearn.model_selection import train_test_split\n",
        "train_data, test_data, train_target, test_target = model_selection.train_test_split(\n",
        "    X_scaled, Y, test_size=0.2, train_size=0.8, random_state=123)   #划分训练集和测试集"
      ],
      "execution_count": null,
      "outputs": []
    },
    {
      "cell_type": "markdown",
      "metadata": {
        "id": "Ox7tn7kHTELq"
      },
      "source": [
        "### 建模"
      ]
    },
    {
      "cell_type": "code",
      "metadata": {
        "id": "ewRldg2YR4I8"
      },
      "source": [
        "from sklearn.neighbors import KNeighborsClassifier\n",
        "\n",
        "model = KNeighborsClassifier(n_neighbors=3)  # 默认欧氏距离\n",
        "model.fit(train_data, train_target.values.flatten())\n",
        "test_est = model.predict(test_data)"
      ],
      "execution_count": null,
      "outputs": []
    },
    {
      "cell_type": "markdown",
      "metadata": {
        "id": "KZ0rkvcATLyL"
      },
      "source": [
        "### 驗證"
      ]
    },
    {
      "cell_type": "code",
      "metadata": {
        "colab": {
          "base_uri": "https://localhost:8080/"
        },
        "id": "v2JhhPJzR9-x",
        "outputId": "58686866-b204-4f27-d76f-eb9771c0d733"
      },
      "source": [
        "import sklearn.metrics as metrics\n",
        "\n",
        "print(metrics.confusion_matrix(test_target, test_est, labels=[0, 1]))  # 混淆矩阵\n",
        "print(metrics.classification_report(test_target, test_est))"
      ],
      "execution_count": null,
      "outputs": [
        {
          "output_type": "stream",
          "text": [
            "[[ 9  0]\n",
            " [ 0 11]]\n",
            "              precision    recall  f1-score   support\n",
            "\n",
            "           0       1.00      1.00      1.00         9\n",
            "           1       1.00      1.00      1.00        11\n",
            "\n",
            "    accuracy                           1.00        20\n",
            "   macro avg       1.00      1.00      1.00        20\n",
            "weighted avg       1.00      1.00      1.00        20\n",
            "\n"
          ],
          "name": "stdout"
        }
      ]
    },
    {
      "cell_type": "code",
      "metadata": {
        "colab": {
          "base_uri": "https://localhost:8080/"
        },
        "id": "Izfl1mPxSB-A",
        "outputId": "5121b7b6-dfab-41e3-e70c-406797ec4f0a"
      },
      "source": [
        "model.score(test_data, test_target)"
      ],
      "execution_count": null,
      "outputs": [
        {
          "output_type": "execute_result",
          "data": {
            "text/plain": [
              "1.0"
            ]
          },
          "metadata": {
            "tags": []
          },
          "execution_count": 17
        }
      ]
    },
    {
      "cell_type": "markdown",
      "metadata": {
        "id": "lrBCnMaHTTRR"
      },
      "source": [
        "### 選擇 K值"
      ]
    },
    {
      "cell_type": "code",
      "metadata": {
        "colab": {
          "base_uri": "https://localhost:8080/"
        },
        "id": "07zxLuhbSFN1",
        "outputId": "4c169728-19e2-450b-f9a9-e40f54006888"
      },
      "source": [
        "for k in range(1, 30):\n",
        "    k_model = KNeighborsClassifier(n_neighbors=k)\n",
        "    k_model.fit(train_data, train_target.values.flatten())\n",
        "    score = k_model.score(test_data, test_target)\n",
        "    print(k, '\\t', score)"
      ],
      "execution_count": null,
      "outputs": [
        {
          "output_type": "stream",
          "text": [
            "1 \t 1.0\n",
            "2 \t 1.0\n",
            "3 \t 1.0\n",
            "4 \t 1.0\n",
            "5 \t 1.0\n",
            "6 \t 1.0\n",
            "7 \t 1.0\n",
            "8 \t 1.0\n",
            "9 \t 1.0\n",
            "10 \t 1.0\n",
            "11 \t 1.0\n",
            "12 \t 1.0\n",
            "13 \t 1.0\n",
            "14 \t 1.0\n",
            "15 \t 1.0\n",
            "16 \t 1.0\n",
            "17 \t 1.0\n",
            "18 \t 1.0\n",
            "19 \t 1.0\n",
            "20 \t 1.0\n",
            "21 \t 1.0\n",
            "22 \t 1.0\n",
            "23 \t 1.0\n",
            "24 \t 1.0\n",
            "25 \t 1.0\n",
            "26 \t 1.0\n",
            "27 \t 1.0\n",
            "28 \t 1.0\n",
            "29 \t 1.0\n"
          ],
          "name": "stdout"
        }
      ]
    },
    {
      "cell_type": "markdown",
      "metadata": {
        "id": "aizsPPXrTbba"
      },
      "source": [
        "### 交叉驗證, 選擇 K值"
      ]
    },
    {
      "cell_type": "code",
      "metadata": {
        "colab": {
          "base_uri": "https://localhost:8080/"
        },
        "id": "1-WPaXZaSJvg",
        "outputId": "adfa7ab3-f1c6-4dc6-c565-01944a8b8087"
      },
      "source": [
        "from sklearn.model_selection import ParameterGrid\n",
        "#from sklearn.grid_search import GridSearchCV \n",
        "from sklearn.model_selection import KFold\n",
        "from sklearn.model_selection import GridSearchCV\n",
        "n_samples = len(train_data)\n",
        "kf = KFold(n_splits=3)\n",
        "grid = {'n_neighbors':[1,2,3,4,5,6,7,8,9]}\n",
        "estimator = KNeighborsClassifier()\n",
        "gridSearchCV = GridSearchCV(estimator, grid, cv=kf)\n",
        "gridSearchCV.fit(train_data, train_target.values.flatten())\n",
        "#gridSearchCV.grid_scores_"
      ],
      "execution_count": null,
      "outputs": [
        {
          "output_type": "execute_result",
          "data": {
            "text/plain": [
              "GridSearchCV(cv=KFold(n_splits=3, random_state=None, shuffle=False),\n",
              "             error_score=nan,\n",
              "             estimator=KNeighborsClassifier(algorithm='auto', leaf_size=30,\n",
              "                                            metric='minkowski',\n",
              "                                            metric_params=None, n_jobs=None,\n",
              "                                            n_neighbors=5, p=2,\n",
              "                                            weights='uniform'),\n",
              "             iid='deprecated', n_jobs=None,\n",
              "             param_grid={'n_neighbors': [1, 2, 3, 4, 5, 6, 7, 8, 9]},\n",
              "             pre_dispatch='2*n_jobs', refit=True, return_train_score=False,\n",
              "             scoring=None, verbose=0)"
            ]
          },
          "metadata": {
            "tags": []
          },
          "execution_count": 24
        }
      ]
    },
    {
      "cell_type": "code",
      "metadata": {
        "id": "WJH1K7_7ahfu",
        "colab": {
          "base_uri": "https://localhost:8080/"
        },
        "outputId": "60b9b68e-2ede-402b-a634-5683a708f474"
      },
      "source": [
        "gridSearchCV.param_grid.keys()"
      ],
      "execution_count": null,
      "outputs": [
        {
          "output_type": "execute_result",
          "data": {
            "text/plain": [
              "dict_keys(['n_neighbors'])"
            ]
          },
          "metadata": {
            "tags": []
          },
          "execution_count": 38
        }
      ]
    },
    {
      "cell_type": "code",
      "metadata": {
        "id": "yJzge5WjZAIc"
      },
      "source": [
        "import seaborn as sb\n",
        "grid_visualization = []\n",
        "for grid_par in gridSearchCV.cv_results_['mean_test_score']:\n",
        "    grid_visualization.append(grid_par)\n",
        "grid_visualization = np.array(grid_visualization)\n"
      ],
      "execution_count": null,
      "outputs": []
    },
    {
      "cell_type": "code",
      "metadata": {
        "id": "5Q9kPCIGbYmu",
        "colab": {
          "base_uri": "https://localhost:8080/"
        },
        "outputId": "c7b65d0d-76af-474f-fc2c-09257e1c1cf9"
      },
      "source": [
        "grid_visualization"
      ],
      "execution_count": null,
      "outputs": [
        {
          "output_type": "execute_result",
          "data": {
            "text/plain": [
              "array([1., 1., 1., 1., 1., 1., 1., 1., 1.])"
            ]
          },
          "metadata": {
            "tags": []
          },
          "execution_count": 42
        }
      ]
    },
    {
      "cell_type": "code",
      "metadata": {
        "colab": {
          "base_uri": "https://localhost:8080/"
        },
        "id": "-3yPIW5uSQP0",
        "outputId": "0f71a70e-5652-4054-f82a-052586693b1a"
      },
      "source": [
        "gridSearchCV.best_params_"
      ],
      "execution_count": null,
      "outputs": [
        {
          "output_type": "execute_result",
          "data": {
            "text/plain": [
              "{'n_neighbors': 1}"
            ]
          },
          "metadata": {
            "tags": []
          },
          "execution_count": 44
        }
      ]
    },
    {
      "cell_type": "code",
      "metadata": {
        "colab": {
          "base_uri": "https://localhost:8080/"
        },
        "id": "0sZPKt4mSUGA",
        "outputId": "fb05c125-8ac1-4b98-9390-037966e803b0"
      },
      "source": [
        "best = gridSearchCV.best_estimator_ \n",
        "best.score(test_data, test_target)\n",
        "# 练习：试一试哪些参数会影响结果\n",
        "###################################################################################################"
      ],
      "execution_count": null,
      "outputs": [
        {
          "output_type": "execute_result",
          "data": {
            "text/plain": [
              "1.0"
            ]
          },
          "metadata": {
            "tags": []
          },
          "execution_count": 45
        }
      ]
    }
  ]
}