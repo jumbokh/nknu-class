{
  "nbformat": 4,
  "nbformat_minor": 0,
  "metadata": {
    "colab": {
      "name": "ch11-1-KNN-NB.ipynb",
      "provenance": [],
      "authorship_tag": "ABX9TyNeJpAnLHO2kv1uhWirHpeg",
      "include_colab_link": true
    },
    "kernelspec": {
      "name": "python3",
      "display_name": "Python 3"
    },
    "language_info": {
      "name": "python"
    }
  },
  "cells": [
    {
      "cell_type": "markdown",
      "metadata": {
        "id": "view-in-github",
        "colab_type": "text"
      },
      "source": [
        "<a href=\"https://colab.research.google.com/github/jumbokh/nknu-class/blob/main/ML/notebooks/ch11_1_KNN_NB.ipynb\" target=\"_parent\"><img src=\"https://colab.research.google.com/assets/colab-badge.svg\" alt=\"Open In Colab\"/></a>"
      ]
    },
    {
      "cell_type": "code",
      "metadata": {
        "id": "haPwyKzub9bb"
      },
      "source": [
        "# coding: utf-8\n",
        "# # KNN\n",
        "# * 加载数据集"
      ],
      "execution_count": null,
      "outputs": []
    },
    {
      "cell_type": "code",
      "metadata": {
        "id": "-1auBakAcIc-"
      },
      "source": [
        "%matplotlib inline\n",
        "import os\n",
        "import numpy as np\n",
        "from scipy import stats\n",
        "import pandas as pd\n",
        "#import sklearn.cross_validation as cross_validation\n",
        "from sklearn.model_selection import train_test_split\n",
        "import matplotlib.pyplot as plt"
      ],
      "execution_count": 1,
      "outputs": []
    },
    {
      "cell_type": "code",
      "metadata": {
        "id": "TBB3d4ZOcP-f"
      },
      "source": [
        "pd.set_option('display.max_columns', None)"
      ],
      "execution_count": 2,
      "outputs": []
    },
    {
      "cell_type": "code",
      "metadata": {
        "id": "-GW7DK0UcV3T"
      },
      "source": [
        "orgData = pd.read_csv('date_data2.csv')"
      ],
      "execution_count": 3,
      "outputs": []
    },
    {
      "cell_type": "code",
      "metadata": {
        "colab": {
          "base_uri": "https://localhost:8080/",
          "height": 204
        },
        "id": "AYTnKhLJccIk",
        "outputId": "9d531d5b-b621-44b7-ec58-cb0e294c6fbb"
      },
      "source": [
        "# # 朴素贝叶斯\n",
        "orgData.head()"
      ],
      "execution_count": 4,
      "outputs": [
        {
          "output_type": "execute_result",
          "data": {
            "text/html": [
              "<div>\n",
              "<style scoped>\n",
              "    .dataframe tbody tr th:only-of-type {\n",
              "        vertical-align: middle;\n",
              "    }\n",
              "\n",
              "    .dataframe tbody tr th {\n",
              "        vertical-align: top;\n",
              "    }\n",
              "\n",
              "    .dataframe thead th {\n",
              "        text-align: right;\n",
              "    }\n",
              "</style>\n",
              "<table border=\"1\" class=\"dataframe\">\n",
              "  <thead>\n",
              "    <tr style=\"text-align: right;\">\n",
              "      <th></th>\n",
              "      <th>income</th>\n",
              "      <th>attractive</th>\n",
              "      <th>assets</th>\n",
              "      <th>edueduclass</th>\n",
              "      <th>Dated</th>\n",
              "      <th>income_rank</th>\n",
              "      <th>attractive_rank</th>\n",
              "      <th>assets_rank</th>\n",
              "    </tr>\n",
              "  </thead>\n",
              "  <tbody>\n",
              "    <tr>\n",
              "      <th>0</th>\n",
              "      <td>3000</td>\n",
              "      <td>9.0</td>\n",
              "      <td>5.145476</td>\n",
              "      <td>1</td>\n",
              "      <td>0</td>\n",
              "      <td>0</td>\n",
              "      <td>0</td>\n",
              "      <td>0</td>\n",
              "    </tr>\n",
              "    <tr>\n",
              "      <th>1</th>\n",
              "      <td>3000</td>\n",
              "      <td>14.5</td>\n",
              "      <td>40.643781</td>\n",
              "      <td>4</td>\n",
              "      <td>1</td>\n",
              "      <td>0</td>\n",
              "      <td>0</td>\n",
              "      <td>1</td>\n",
              "    </tr>\n",
              "    <tr>\n",
              "      <th>2</th>\n",
              "      <td>3000</td>\n",
              "      <td>6.0</td>\n",
              "      <td>5.145476</td>\n",
              "      <td>1</td>\n",
              "      <td>0</td>\n",
              "      <td>0</td>\n",
              "      <td>0</td>\n",
              "      <td>0</td>\n",
              "    </tr>\n",
              "    <tr>\n",
              "      <th>3</th>\n",
              "      <td>3000</td>\n",
              "      <td>1.0</td>\n",
              "      <td>7.067434</td>\n",
              "      <td>1</td>\n",
              "      <td>0</td>\n",
              "      <td>0</td>\n",
              "      <td>0</td>\n",
              "      <td>0</td>\n",
              "    </tr>\n",
              "    <tr>\n",
              "      <th>4</th>\n",
              "      <td>3500</td>\n",
              "      <td>14.5</td>\n",
              "      <td>3.728400</td>\n",
              "      <td>2</td>\n",
              "      <td>0</td>\n",
              "      <td>0</td>\n",
              "      <td>0</td>\n",
              "      <td>0</td>\n",
              "    </tr>\n",
              "  </tbody>\n",
              "</table>\n",
              "</div>"
            ],
            "text/plain": [
              "   income  attractive     assets  edueduclass  Dated  income_rank  \\\n",
              "0    3000         9.0   5.145476            1      0            0   \n",
              "1    3000        14.5  40.643781            4      1            0   \n",
              "2    3000         6.0   5.145476            1      0            0   \n",
              "3    3000         1.0   7.067434            1      0            0   \n",
              "4    3500        14.5   3.728400            2      0            0   \n",
              "\n",
              "   attractive_rank  assets_rank  \n",
              "0                0            0  \n",
              "1                0            1  \n",
              "2                0            0  \n",
              "3                0            0  \n",
              "4                0            0  "
            ]
          },
          "metadata": {},
          "execution_count": 4
        }
      ]
    },
    {
      "cell_type": "code",
      "metadata": {
        "colab": {
          "base_uri": "https://localhost:8080/",
          "height": 390
        },
        "id": "R8e5Ay8ycjwj",
        "outputId": "70b5f18d-1843-4432-becb-0ca605947d51"
      },
      "source": [
        "Y = orgData[['Dated']]\n",
        "orgData1 = orgData.iloc[:, -3:]\n",
        "\n",
        "orgData1.income_rank = orgData1.income_rank.astype('category')\n",
        "orgData1.describe(include='all')"
      ],
      "execution_count": 6,
      "outputs": [
        {
          "output_type": "execute_result",
          "data": {
            "text/html": [
              "<div>\n",
              "<style scoped>\n",
              "    .dataframe tbody tr th:only-of-type {\n",
              "        vertical-align: middle;\n",
              "    }\n",
              "\n",
              "    .dataframe tbody tr th {\n",
              "        vertical-align: top;\n",
              "    }\n",
              "\n",
              "    .dataframe thead th {\n",
              "        text-align: right;\n",
              "    }\n",
              "</style>\n",
              "<table border=\"1\" class=\"dataframe\">\n",
              "  <thead>\n",
              "    <tr style=\"text-align: right;\">\n",
              "      <th></th>\n",
              "      <th>income_rank</th>\n",
              "      <th>attractive_rank</th>\n",
              "      <th>assets_rank</th>\n",
              "    </tr>\n",
              "  </thead>\n",
              "  <tbody>\n",
              "    <tr>\n",
              "      <th>count</th>\n",
              "      <td>100.0</td>\n",
              "      <td>100.000000</td>\n",
              "      <td>100.000000</td>\n",
              "    </tr>\n",
              "    <tr>\n",
              "      <th>unique</th>\n",
              "      <td>4.0</td>\n",
              "      <td>NaN</td>\n",
              "      <td>NaN</td>\n",
              "    </tr>\n",
              "    <tr>\n",
              "      <th>top</th>\n",
              "      <td>3.0</td>\n",
              "      <td>NaN</td>\n",
              "      <td>NaN</td>\n",
              "    </tr>\n",
              "    <tr>\n",
              "      <th>freq</th>\n",
              "      <td>28.0</td>\n",
              "      <td>NaN</td>\n",
              "      <td>NaN</td>\n",
              "    </tr>\n",
              "    <tr>\n",
              "      <th>mean</th>\n",
              "      <td>NaN</td>\n",
              "      <td>1.560000</td>\n",
              "      <td>1.510000</td>\n",
              "    </tr>\n",
              "    <tr>\n",
              "      <th>std</th>\n",
              "      <td>NaN</td>\n",
              "      <td>1.103896</td>\n",
              "      <td>1.123621</td>\n",
              "    </tr>\n",
              "    <tr>\n",
              "      <th>min</th>\n",
              "      <td>NaN</td>\n",
              "      <td>0.000000</td>\n",
              "      <td>0.000000</td>\n",
              "    </tr>\n",
              "    <tr>\n",
              "      <th>25%</th>\n",
              "      <td>NaN</td>\n",
              "      <td>1.000000</td>\n",
              "      <td>0.750000</td>\n",
              "    </tr>\n",
              "    <tr>\n",
              "      <th>50%</th>\n",
              "      <td>NaN</td>\n",
              "      <td>2.000000</td>\n",
              "      <td>2.000000</td>\n",
              "    </tr>\n",
              "    <tr>\n",
              "      <th>75%</th>\n",
              "      <td>NaN</td>\n",
              "      <td>2.250000</td>\n",
              "      <td>2.250000</td>\n",
              "    </tr>\n",
              "    <tr>\n",
              "      <th>max</th>\n",
              "      <td>NaN</td>\n",
              "      <td>3.000000</td>\n",
              "      <td>3.000000</td>\n",
              "    </tr>\n",
              "  </tbody>\n",
              "</table>\n",
              "</div>"
            ],
            "text/plain": [
              "        income_rank  attractive_rank  assets_rank\n",
              "count         100.0       100.000000   100.000000\n",
              "unique          4.0              NaN          NaN\n",
              "top             3.0              NaN          NaN\n",
              "freq           28.0              NaN          NaN\n",
              "mean            NaN         1.560000     1.510000\n",
              "std             NaN         1.103896     1.123621\n",
              "min             NaN         0.000000     0.000000\n",
              "25%             NaN         1.000000     0.750000\n",
              "50%             NaN         2.000000     2.000000\n",
              "75%             NaN         2.250000     2.250000\n",
              "max             NaN         3.000000     3.000000"
            ]
          },
          "metadata": {},
          "execution_count": 6
        }
      ]
    },
    {
      "cell_type": "code",
      "metadata": {
        "id": "zLzAFnwxcpR2"
      },
      "source": [
        "train_data1, test_data1, train_target1, test_target1 = train_test_split(\n",
        "    orgData1, Y, test_size=0.3, train_size=0.7, random_state=123)"
      ],
      "execution_count": 8,
      "outputs": []
    },
    {
      "cell_type": "code",
      "metadata": {
        "id": "XmzJ90Omcvdv"
      },
      "source": [
        "# - 建模\n",
        "from sklearn.naive_bayes import BernoulliNB\n",
        "\n",
        "NB = BernoulliNB(alpha=1)\n",
        "NB.fit(train_data1, train_target1.values.flatten())\n",
        "test_est1 = NB.predict(test_data1)"
      ],
      "execution_count": 9,
      "outputs": []
    },
    {
      "cell_type": "code",
      "metadata": {
        "colab": {
          "base_uri": "https://localhost:8080/"
        },
        "id": "LS5puAiUc2WG",
        "outputId": "e2471664-7e49-41a5-988f-c4cd960b54c9"
      },
      "source": [
        "# - 验证\n",
        "import sklearn.metrics as metrics\n",
        "\n",
        "print(metrics.classification_report(test_target1, test_est1))"
      ],
      "execution_count": 10,
      "outputs": [
        {
          "output_type": "stream",
          "name": "stdout",
          "text": [
            "              precision    recall  f1-score   support\n",
            "\n",
            "           0       0.89      0.57      0.70        14\n",
            "           1       0.71      0.94      0.81        16\n",
            "\n",
            "    accuracy                           0.77        30\n",
            "   macro avg       0.80      0.75      0.75        30\n",
            "weighted avg       0.80      0.77      0.76        30\n",
            "\n"
          ]
        }
      ]
    }
  ]
}