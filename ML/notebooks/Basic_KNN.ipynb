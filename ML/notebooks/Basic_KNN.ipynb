{
  "nbformat": 4,
  "nbformat_minor": 0,
  "metadata": {
    "kernelspec": {
      "display_name": "Python 3",
      "language": "python",
      "name": "python3"
    },
    "language_info": {
      "codemirror_mode": {
        "name": "ipython",
        "version": 3
      },
      "file_extension": ".py",
      "mimetype": "text/x-python",
      "name": "python",
      "nbconvert_exporter": "python",
      "pygments_lexer": "ipython3",
      "version": "3.6.5"
    },
    "colab": {
      "name": "Basic-KNN.ipynb",
      "provenance": [],
      "include_colab_link": true
    }
  },
  "cells": [
    {
      "cell_type": "markdown",
      "metadata": {
        "id": "view-in-github",
        "colab_type": "text"
      },
      "source": [
        "<a href=\"https://colab.research.google.com/github/jumbokh/nknu-class/blob/main/ML/notebooks/Basic_KNN.ipynb\" target=\"_parent\"><img src=\"https://colab.research.google.com/assets/colab-badge.svg\" alt=\"Open In Colab\"/></a>"
      ]
    },
    {
      "cell_type": "code",
      "metadata": {
        "id": "za3Br_VLoWde"
      },
      "source": [
        "import numpy as np\n",
        "import pandas as pd\n",
        "import matplotlib as mpl\n",
        "import matplotlib.pyplot as plt"
      ],
      "execution_count": null,
      "outputs": []
    },
    {
      "cell_type": "code",
      "metadata": {
        "id": "d_cVwyH5oWdi",
        "colab": {
          "base_uri": "https://localhost:8080/"
        },
        "outputId": "2588f7de-751f-4f56-ea93-537724b68721"
      },
      "source": [
        "[[1.0,1.1],[1.0,1.0],[0,0],[0,0.1]]"
      ],
      "execution_count": null,
      "outputs": [
        {
          "output_type": "execute_result",
          "data": {
            "text/plain": [
              "[[1.0, 1.1], [1.0, 1.0], [0, 0], [0, 0.1]]"
            ]
          },
          "metadata": {},
          "execution_count": 2
        }
      ]
    },
    {
      "cell_type": "code",
      "metadata": {
        "id": "4V07FwwsoWdj",
        "colab": {
          "base_uri": "https://localhost:8080/"
        },
        "outputId": "b6402988-bf94-42b5-9cf0-b582649a2646"
      },
      "source": [
        "np.array([[1.0,1.1],[1.0,1.0],[0,0],[0,0.1]])"
      ],
      "execution_count": null,
      "outputs": [
        {
          "output_type": "execute_result",
          "data": {
            "text/plain": [
              "array([[1. , 1.1],\n",
              "       [1. , 1. ],\n",
              "       [0. , 0. ],\n",
              "       [0. , 0.1]])"
            ]
          },
          "metadata": {},
          "execution_count": 3
        }
      ]
    },
    {
      "cell_type": "code",
      "metadata": {
        "id": "8deE45yQoWdk",
        "colab": {
          "base_uri": "https://localhost:8080/"
        },
        "outputId": "03d513f5-7227-40be-c5db-cd1df2828a10"
      },
      "source": [
        "['A','A','B','B']"
      ],
      "execution_count": null,
      "outputs": [
        {
          "output_type": "execute_result",
          "data": {
            "text/plain": [
              "['A', 'A', 'B', 'B']"
            ]
          },
          "metadata": {},
          "execution_count": 4
        }
      ]
    },
    {
      "cell_type": "code",
      "metadata": {
        "id": "T3EixNKroWdk"
      },
      "source": [
        "def createDataSet():\n",
        "    group = np.array([[1.0,1.1],[1.0,1.0],[0,0],[0,0.1]])\n",
        "    labels = ['A','A','B','B']\n",
        "    return group, labels"
      ],
      "execution_count": null,
      "outputs": []
    },
    {
      "cell_type": "code",
      "metadata": {
        "id": "jCYQikmSoWdl"
      },
      "source": [
        "group, labels = createDataSet()"
      ],
      "execution_count": null,
      "outputs": []
    },
    {
      "cell_type": "code",
      "metadata": {
        "id": "_v_TL5RnoWdl",
        "colab": {
          "base_uri": "https://localhost:8080/"
        },
        "outputId": "2185a64b-77bb-46ad-fe0f-cc5f85a59a9d"
      },
      "source": [
        "group"
      ],
      "execution_count": null,
      "outputs": [
        {
          "output_type": "execute_result",
          "data": {
            "text/plain": [
              "array([[1. , 1.1],\n",
              "       [1. , 1. ],\n",
              "       [0. , 0. ],\n",
              "       [0. , 0.1]])"
            ]
          },
          "metadata": {},
          "execution_count": 7
        }
      ]
    },
    {
      "cell_type": "code",
      "metadata": {
        "id": "gOj_184OoWdm",
        "colab": {
          "base_uri": "https://localhost:8080/"
        },
        "outputId": "2fab82ba-b1ff-434f-f173-ad8999117eb7"
      },
      "source": [
        "labels"
      ],
      "execution_count": null,
      "outputs": [
        {
          "output_type": "execute_result",
          "data": {
            "text/plain": [
              "['A', 'A', 'B', 'B']"
            ]
          },
          "metadata": {},
          "execution_count": 8
        }
      ]
    },
    {
      "cell_type": "code",
      "metadata": {
        "id": "e0iLA88_oWdm",
        "colab": {
          "base_uri": "https://localhost:8080/"
        },
        "outputId": "540b751f-b750-484d-9cc2-beab7460b9eb"
      },
      "source": [
        "group"
      ],
      "execution_count": null,
      "outputs": [
        {
          "output_type": "execute_result",
          "data": {
            "text/plain": [
              "array([[1. , 1.1],\n",
              "       [1. , 1. ],\n",
              "       [0. , 0. ],\n",
              "       [0. , 0.1]])"
            ]
          },
          "metadata": {},
          "execution_count": 9
        }
      ]
    },
    {
      "cell_type": "code",
      "metadata": {
        "id": "u6etRyWZoWdn",
        "colab": {
          "base_uri": "https://localhost:8080/"
        },
        "outputId": "b3073f34-1f07-4353-b7c2-11fc74aa96c9"
      },
      "source": [
        "labels"
      ],
      "execution_count": null,
      "outputs": [
        {
          "output_type": "execute_result",
          "data": {
            "text/plain": [
              "['A', 'A', 'B', 'B']"
            ]
          },
          "metadata": {},
          "execution_count": 10
        }
      ]
    },
    {
      "cell_type": "code",
      "metadata": {
        "id": "y1tp41H3oWdo",
        "colab": {
          "base_uri": "https://localhost:8080/"
        },
        "outputId": "4ed822d1-aa4d-4193-fe8b-a76e88e98d36"
      },
      "source": [
        "labels[:]"
      ],
      "execution_count": null,
      "outputs": [
        {
          "output_type": "execute_result",
          "data": {
            "text/plain": [
              "['A', 'A', 'B', 'B']"
            ]
          },
          "metadata": {},
          "execution_count": 11
        }
      ]
    },
    {
      "cell_type": "code",
      "metadata": {
        "id": "OaZcJ6sDoWdo",
        "colab": {
          "base_uri": "https://localhost:8080/"
        },
        "outputId": "e51219ce-d5e2-4af4-f4fc-bb7b26f6a9bb"
      },
      "source": [
        "group[0,:]"
      ],
      "execution_count": null,
      "outputs": [
        {
          "output_type": "execute_result",
          "data": {
            "text/plain": [
              "array([1. , 1.1])"
            ]
          },
          "metadata": {},
          "execution_count": 12
        }
      ]
    },
    {
      "cell_type": "code",
      "metadata": {
        "id": "MY6XJsZcoWdp",
        "colab": {
          "base_uri": "https://localhost:8080/",
          "height": 282
        },
        "outputId": "6b361f7d-2299-43fa-f93e-93275212f6c9"
      },
      "source": [
        "plt.plot(group[:, 0], group[:, 1], 'ro')"
      ],
      "execution_count": null,
      "outputs": [
        {
          "output_type": "execute_result",
          "data": {
            "text/plain": [
              "[<matplotlib.lines.Line2D at 0x7fb829f0ab90>]"
            ]
          },
          "metadata": {},
          "execution_count": 13
        },
        {
          "output_type": "display_data",
          "data": {
            "image/png": "[encoded data removed]",
            "text/plain": [
              "<Figure size 432x288 with 1 Axes>"
            ]
          },
          "metadata": {
            "needs_background": "light"
          }
        }
      ]
    },
    {
      "cell_type": "code",
      "metadata": {
        "id": "4UdPVE6XoWdp"
      },
      "source": [
        "def classify0(inX,dataSet,labels,k):\n",
        "    dataSetSize=dataSet.shape[0]\n",
        "    diffMat = np.tile(inX, (dataSetSize, 1)) - dataSet\n",
        "    sqDiffMat=diffMat**2\n",
        "    sqDisttances=sqDiffMat.sum(axis=1)\n",
        "    distances=sqDisttances**0.5\n",
        "    sortedDistIndicies=distances.argsort()\n",
        "    classCount={}\n",
        "    for i in range(k):\n",
        "        voteIlabel=labels[sortedDistIndicies[i]]\n",
        "        classCount[voteIlabel]=classCount.get(voteIlabel,0)+1\n",
        "        sortedClassCount = sorted(classCount.items(), key=lambda x:x[1],reverse=True)\n",
        "    return sortedClassCount[0][0]"
      ],
      "execution_count": null,
      "outputs": []
    },
    {
      "cell_type": "code",
      "metadata": {
        "id": "WiG1ZDKroWdq",
        "colab": {
          "base_uri": "https://localhost:8080/",
          "height": 35
        },
        "outputId": "73e11ef1-99a5-465c-f710-3a957a286906"
      },
      "source": [
        "classify0([0, 0.2], group, labels, 3)"
      ],
      "execution_count": null,
      "outputs": [
        {
          "output_type": "execute_result",
          "data": {
            "application/vnd.google.colaboratory.intrinsic+json": {
              "type": "string"
            },
            "text/plain": [
              "'B'"
            ]
          },
          "metadata": {},
          "execution_count": 15
        }
      ]
    },
    {
      "cell_type": "code",
      "metadata": {
        "id": "BOQ0QL52oWdq",
        "colab": {
          "base_uri": "https://localhost:8080/"
        },
        "outputId": "e8b37347-6df8-4bed-cad2-1f75c97ca77d"
      },
      "source": [
        "group"
      ],
      "execution_count": null,
      "outputs": [
        {
          "output_type": "execute_result",
          "data": {
            "text/plain": [
              "array([[1. , 1.1],\n",
              "       [1. , 1. ],\n",
              "       [0. , 0. ],\n",
              "       [0. , 0.1]])"
            ]
          },
          "metadata": {},
          "execution_count": 16
        }
      ]
    },
    {
      "cell_type": "code",
      "metadata": {
        "id": "iGBKOTfMoWdq",
        "colab": {
          "base_uri": "https://localhost:8080/"
        },
        "outputId": "aeed1f98-0a27-494e-db56-2b0e3ebc1a7a"
      },
      "source": [
        "group.shape[1]"
      ],
      "execution_count": null,
      "outputs": [
        {
          "output_type": "execute_result",
          "data": {
            "text/plain": [
              "2"
            ]
          },
          "metadata": {},
          "execution_count": 17
        }
      ]
    },
    {
      "cell_type": "code",
      "metadata": {
        "id": "dyRz7dnQoWdr",
        "colab": {
          "base_uri": "https://localhost:8080/"
        },
        "outputId": "515c6f02-0f3d-49cf-b528-f8c85ec59911"
      },
      "source": [
        "np.tile([0, 0], (4, 1))"
      ],
      "execution_count": null,
      "outputs": [
        {
          "output_type": "execute_result",
          "data": {
            "text/plain": [
              "array([[0, 0],\n",
              "       [0, 0],\n",
              "       [0, 0],\n",
              "       [0, 0]])"
            ]
          },
          "metadata": {},
          "execution_count": 18
        }
      ]
    },
    {
      "cell_type": "code",
      "metadata": {
        "id": "4LcPslYhoWdr",
        "colab": {
          "base_uri": "https://localhost:8080/"
        },
        "outputId": "4344b529-7df2-4965-cffe-a457e726089d"
      },
      "source": [
        "np.tile([0, 0], (4, 2))"
      ],
      "execution_count": null,
      "outputs": [
        {
          "output_type": "execute_result",
          "data": {
            "text/plain": [
              "array([[0, 0, 0, 0],\n",
              "       [0, 0, 0, 0],\n",
              "       [0, 0, 0, 0],\n",
              "       [0, 0, 0, 0]])"
            ]
          },
          "metadata": {},
          "execution_count": 19
        }
      ]
    },
    {
      "cell_type": "code",
      "metadata": {
        "id": "OuHIbcw8oWdr",
        "colab": {
          "base_uri": "https://localhost:8080/"
        },
        "outputId": "af864692-5752-4fc4-cddf-587c431c674d"
      },
      "source": [
        "np.tile([0, 0], (3, 2))"
      ],
      "execution_count": null,
      "outputs": [
        {
          "output_type": "execute_result",
          "data": {
            "text/plain": [
              "array([[0, 0, 0, 0],\n",
              "       [0, 0, 0, 0],\n",
              "       [0, 0, 0, 0]])"
            ]
          },
          "metadata": {},
          "execution_count": 20
        }
      ]
    },
    {
      "cell_type": "code",
      "metadata": {
        "id": "minSsqJtoWds"
      },
      "source": [
        "inX = [0, 0]"
      ],
      "execution_count": null,
      "outputs": []
    },
    {
      "cell_type": "code",
      "metadata": {
        "id": "toPPq6B9oWds"
      },
      "source": [
        "dataSet = group"
      ],
      "execution_count": null,
      "outputs": []
    },
    {
      "cell_type": "code",
      "metadata": {
        "id": "9oJ-MKqGoWds",
        "colab": {
          "base_uri": "https://localhost:8080/"
        },
        "outputId": "ff9d6243-11ee-470d-ad95-6e2a4e836f9f"
      },
      "source": [
        "labels"
      ],
      "execution_count": null,
      "outputs": [
        {
          "output_type": "execute_result",
          "data": {
            "text/plain": [
              "['A', 'A', 'B', 'B']"
            ]
          },
          "metadata": {},
          "execution_count": 23
        }
      ]
    },
    {
      "cell_type": "code",
      "metadata": {
        "id": "O4PmV4dkoWds"
      },
      "source": [
        "dataSetSize=dataSet.shape[0]"
      ],
      "execution_count": null,
      "outputs": []
    },
    {
      "cell_type": "code",
      "metadata": {
        "id": "Mdc_0X8woWds",
        "colab": {
          "base_uri": "https://localhost:8080/"
        },
        "outputId": "8c64629b-1ec7-42f1-b6c8-92d57e30128e"
      },
      "source": [
        "dataSetSize"
      ],
      "execution_count": null,
      "outputs": [
        {
          "output_type": "execute_result",
          "data": {
            "text/plain": [
              "4"
            ]
          },
          "metadata": {},
          "execution_count": 25
        }
      ]
    },
    {
      "cell_type": "code",
      "metadata": {
        "id": "_O291XxuoWdt",
        "colab": {
          "base_uri": "https://localhost:8080/"
        },
        "outputId": "8106872e-ded4-4e83-cb51-2c6d10329b6c"
      },
      "source": [
        "(dataSetSize, 1)"
      ],
      "execution_count": null,
      "outputs": [
        {
          "output_type": "execute_result",
          "data": {
            "text/plain": [
              "(4, 1)"
            ]
          },
          "metadata": {},
          "execution_count": 26
        }
      ]
    },
    {
      "cell_type": "code",
      "metadata": {
        "id": "yepyd-6-oWdt",
        "colab": {
          "base_uri": "https://localhost:8080/"
        },
        "outputId": "2f7a729b-3bcc-49bd-976c-9fd670ddd765"
      },
      "source": [
        "inX"
      ],
      "execution_count": null,
      "outputs": [
        {
          "output_type": "execute_result",
          "data": {
            "text/plain": [
              "[0, 0]"
            ]
          },
          "metadata": {},
          "execution_count": 27
        }
      ]
    },
    {
      "cell_type": "code",
      "metadata": {
        "id": "8IQeQVOloWdt",
        "colab": {
          "base_uri": "https://localhost:8080/"
        },
        "outputId": "5f486ff5-cf9e-4c76-91cb-3bb75b345a16"
      },
      "source": [
        "np.tile(inX, (dataSetSize, 1))"
      ],
      "execution_count": null,
      "outputs": [
        {
          "output_type": "execute_result",
          "data": {
            "text/plain": [
              "array([[0, 0],\n",
              "       [0, 0],\n",
              "       [0, 0],\n",
              "       [0, 0]])"
            ]
          },
          "metadata": {},
          "execution_count": 28
        }
      ]
    },
    {
      "cell_type": "code",
      "metadata": {
        "id": "SkQoK4uxoWdt",
        "colab": {
          "base_uri": "https://localhost:8080/"
        },
        "outputId": "fe3ee40d-bfba-4a8a-c6a8-0e71085d9a13"
      },
      "source": [
        "inX"
      ],
      "execution_count": null,
      "outputs": [
        {
          "output_type": "execute_result",
          "data": {
            "text/plain": [
              "[0, 0]"
            ]
          },
          "metadata": {},
          "execution_count": 29
        }
      ]
    },
    {
      "cell_type": "code",
      "metadata": {
        "id": "dnVLj8CkoWdv",
        "colab": {
          "base_uri": "https://localhost:8080/"
        },
        "outputId": "8bdcf3f9-169b-4b04-fcde-4f41f2326187"
      },
      "source": [
        "dataSet"
      ],
      "execution_count": null,
      "outputs": [
        {
          "output_type": "execute_result",
          "data": {
            "text/plain": [
              "array([[1. , 1.1],\n",
              "       [1. , 1. ],\n",
              "       [0. , 0. ],\n",
              "       [0. , 0.1]])"
            ]
          },
          "metadata": {},
          "execution_count": 30
        }
      ]
    },
    {
      "cell_type": "code",
      "metadata": {
        "id": "kiNSejeeoWdv",
        "colab": {
          "base_uri": "https://localhost:8080/"
        },
        "outputId": "3fc1a948-4620-48c3-b165-07c5e1b59f2c"
      },
      "source": [
        "inX - dataSet"
      ],
      "execution_count": null,
      "outputs": [
        {
          "output_type": "execute_result",
          "data": {
            "text/plain": [
              "array([[-1. , -1.1],\n",
              "       [-1. , -1. ],\n",
              "       [ 0. ,  0. ],\n",
              "       [ 0. , -0.1]])"
            ]
          },
          "metadata": {},
          "execution_count": 31
        }
      ]
    },
    {
      "cell_type": "code",
      "metadata": {
        "id": "94e5a75poWdv",
        "colab": {
          "base_uri": "https://localhost:8080/"
        },
        "outputId": "981236fd-63c6-456f-ad1d-0d352bdbf8c3"
      },
      "source": [
        "dataSet - 1"
      ],
      "execution_count": null,
      "outputs": [
        {
          "output_type": "execute_result",
          "data": {
            "text/plain": [
              "array([[ 0. ,  0.1],\n",
              "       [ 0. ,  0. ],\n",
              "       [-1. , -1. ],\n",
              "       [-1. , -0.9]])"
            ]
          },
          "metadata": {},
          "execution_count": 32
        }
      ]
    },
    {
      "cell_type": "code",
      "metadata": {
        "id": "N8_qb-JGoWdw",
        "colab": {
          "base_uri": "https://localhost:8080/"
        },
        "outputId": "57e55a3d-f85b-4278-c5da-a4e734e86a9e"
      },
      "source": [
        "diffMat = np.tile(inX, (dataSetSize, 1)) - dataSet\n",
        "diffMat"
      ],
      "execution_count": null,
      "outputs": [
        {
          "output_type": "execute_result",
          "data": {
            "text/plain": [
              "array([[-1. , -1.1],\n",
              "       [-1. , -1. ],\n",
              "       [ 0. ,  0. ],\n",
              "       [ 0. , -0.1]])"
            ]
          },
          "metadata": {},
          "execution_count": 33
        }
      ]
    },
    {
      "cell_type": "code",
      "metadata": {
        "id": "w3zkUZXjoWdw",
        "colab": {
          "base_uri": "https://localhost:8080/"
        },
        "outputId": "3e76f5e8-b8e2-4c26-80f8-8be998802b9b"
      },
      "source": [
        "sqDiffMat = diffMat**2\n",
        "sqDiffMat"
      ],
      "execution_count": null,
      "outputs": [
        {
          "output_type": "execute_result",
          "data": {
            "text/plain": [
              "array([[1.  , 1.21],\n",
              "       [1.  , 1.  ],\n",
              "       [0.  , 0.  ],\n",
              "       [0.  , 0.01]])"
            ]
          },
          "metadata": {},
          "execution_count": 34
        }
      ]
    },
    {
      "cell_type": "code",
      "metadata": {
        "id": "-utVUbP1oWdw",
        "colab": {
          "base_uri": "https://localhost:8080/"
        },
        "outputId": "d0327ac3-5ee7-4156-c4ff-b7d065d652a9"
      },
      "source": [
        "sqDisttances=sqDiffMat.sum(axis=1)\n",
        "sqDisttances"
      ],
      "execution_count": null,
      "outputs": [
        {
          "output_type": "execute_result",
          "data": {
            "text/plain": [
              "array([2.21, 2.  , 0.  , 0.01])"
            ]
          },
          "metadata": {},
          "execution_count": 35
        }
      ]
    },
    {
      "cell_type": "code",
      "metadata": {
        "id": "QhAb065moWdw",
        "colab": {
          "base_uri": "https://localhost:8080/"
        },
        "outputId": "a269b683-f28c-47b0-aa31-e4c64f881f2f"
      },
      "source": [
        "distances=sqDisttances**0.5\n",
        "distances"
      ],
      "execution_count": null,
      "outputs": [
        {
          "output_type": "execute_result",
          "data": {
            "text/plain": [
              "array([1.48660687, 1.41421356, 0.        , 0.1       ])"
            ]
          },
          "metadata": {},
          "execution_count": 36
        }
      ]
    },
    {
      "cell_type": "code",
      "metadata": {
        "id": "awqx0_E3oWdx",
        "colab": {
          "base_uri": "https://localhost:8080/"
        },
        "outputId": "93c14be7-d7a2-4b8a-dd6d-afc09e0c7cfb"
      },
      "source": [
        "dataSet"
      ],
      "execution_count": null,
      "outputs": [
        {
          "output_type": "execute_result",
          "data": {
            "text/plain": [
              "array([[1. , 1.1],\n",
              "       [1. , 1. ],\n",
              "       [0. , 0. ],\n",
              "       [0. , 0.1]])"
            ]
          },
          "metadata": {},
          "execution_count": 37
        }
      ]
    },
    {
      "cell_type": "code",
      "metadata": {
        "id": "aJHLraBEoWdx",
        "colab": {
          "base_uri": "https://localhost:8080/"
        },
        "outputId": "38fad998-5951-4290-bb3a-a59411a68206"
      },
      "source": [
        "labels"
      ],
      "execution_count": null,
      "outputs": [
        {
          "output_type": "execute_result",
          "data": {
            "text/plain": [
              "['A', 'A', 'B', 'B']"
            ]
          },
          "metadata": {},
          "execution_count": 38
        }
      ]
    },
    {
      "cell_type": "code",
      "metadata": {
        "id": "IEbIGtjioWdx",
        "colab": {
          "base_uri": "https://localhost:8080/"
        },
        "outputId": "a63889ec-85a4-4e27-c94a-fdf14ca4e491"
      },
      "source": [
        "distances"
      ],
      "execution_count": null,
      "outputs": [
        {
          "output_type": "execute_result",
          "data": {
            "text/plain": [
              "array([1.48660687, 1.41421356, 0.        , 0.1       ])"
            ]
          },
          "metadata": {},
          "execution_count": 39
        }
      ]
    },
    {
      "cell_type": "code",
      "metadata": {
        "id": "YzPjoOl_oWdx",
        "colab": {
          "base_uri": "https://localhost:8080/"
        },
        "outputId": "0e536f69-73a0-41ac-8738-201fa5638572"
      },
      "source": [
        "distances.argsort()"
      ],
      "execution_count": null,
      "outputs": [
        {
          "output_type": "execute_result",
          "data": {
            "text/plain": [
              "array([2, 3, 1, 0])"
            ]
          },
          "metadata": {},
          "execution_count": 40
        }
      ]
    },
    {
      "cell_type": "code",
      "metadata": {
        "id": "mX2fxz-foWdx"
      },
      "source": [
        "a = np.array([1, 3, 4, 2, 5])"
      ],
      "execution_count": null,
      "outputs": []
    },
    {
      "cell_type": "code",
      "metadata": {
        "id": "J7rNvsNPoWdx",
        "colab": {
          "base_uri": "https://localhost:8080/"
        },
        "outputId": "2b8d7752-80cf-4d02-a5c0-6fa4f5d00008"
      },
      "source": [
        "a"
      ],
      "execution_count": null,
      "outputs": [
        {
          "output_type": "execute_result",
          "data": {
            "text/plain": [
              "array([1, 3, 4, 2, 5])"
            ]
          },
          "metadata": {},
          "execution_count": 42
        }
      ]
    },
    {
      "cell_type": "code",
      "metadata": {
        "id": "7mWy7R-toWdy",
        "colab": {
          "base_uri": "https://localhost:8080/"
        },
        "outputId": "e36efadd-f6d0-485b-8177-6696353f7134"
      },
      "source": [
        "np.sort(a)"
      ],
      "execution_count": null,
      "outputs": [
        {
          "output_type": "execute_result",
          "data": {
            "text/plain": [
              "array([1, 2, 3, 4, 5])"
            ]
          },
          "metadata": {},
          "execution_count": 43
        }
      ]
    },
    {
      "cell_type": "code",
      "metadata": {
        "id": "hnz5CB-0oWdy",
        "colab": {
          "base_uri": "https://localhost:8080/"
        },
        "outputId": "915e1983-0021-4edc-b2af-73962b0d67c2"
      },
      "source": [
        "a"
      ],
      "execution_count": null,
      "outputs": [
        {
          "output_type": "execute_result",
          "data": {
            "text/plain": [
              "array([1, 3, 4, 2, 5])"
            ]
          },
          "metadata": {},
          "execution_count": 44
        }
      ]
    },
    {
      "cell_type": "code",
      "metadata": {
        "id": "gTG5iXPEoWdy"
      },
      "source": [
        "sortedDistIndicies=distances.argsort()"
      ],
      "execution_count": null,
      "outputs": []
    },
    {
      "cell_type": "code",
      "metadata": {
        "id": "K07qszGuoWdy",
        "colab": {
          "base_uri": "https://localhost:8080/"
        },
        "outputId": "a6f591ce-4f08-4c64-feb1-e6989c769111"
      },
      "source": [
        "sortedDistIndicies"
      ],
      "execution_count": null,
      "outputs": [
        {
          "output_type": "execute_result",
          "data": {
            "text/plain": [
              "array([2, 3, 1, 0])"
            ]
          },
          "metadata": {},
          "execution_count": 46
        }
      ]
    },
    {
      "cell_type": "code",
      "metadata": {
        "id": "Fj2gsiT2oWdz"
      },
      "source": [
        "classCount={}"
      ],
      "execution_count": null,
      "outputs": []
    },
    {
      "cell_type": "code",
      "metadata": {
        "id": "DAym5nzXoWdz",
        "colab": {
          "base_uri": "https://localhost:8080/"
        },
        "outputId": "68d840f0-a259-4763-ef45-837d0f9f4b42"
      },
      "source": [
        "labels"
      ],
      "execution_count": null,
      "outputs": [
        {
          "output_type": "execute_result",
          "data": {
            "text/plain": [
              "['A', 'A', 'B', 'B']"
            ]
          },
          "metadata": {},
          "execution_count": 48
        }
      ]
    },
    {
      "cell_type": "code",
      "metadata": {
        "id": "ZBBoSpt-oWdz",
        "colab": {
          "base_uri": "https://localhost:8080/"
        },
        "outputId": "0d6d6a70-45a4-40b9-bcc8-2828e5d818c3"
      },
      "source": [
        "sortedDistIndicies[0]"
      ],
      "execution_count": null,
      "outputs": [
        {
          "output_type": "execute_result",
          "data": {
            "text/plain": [
              "2"
            ]
          },
          "metadata": {},
          "execution_count": 49
        }
      ]
    },
    {
      "cell_type": "code",
      "metadata": {
        "id": "pG13HAYioWdz"
      },
      "source": [
        "voteIlabel=labels[sortedDistIndicies[0]]"
      ],
      "execution_count": null,
      "outputs": []
    },
    {
      "cell_type": "code",
      "metadata": {
        "id": "dteKWLyroWdz",
        "colab": {
          "base_uri": "https://localhost:8080/",
          "height": 35
        },
        "outputId": "94346768-0441-44ab-a0dc-fde939ffc264"
      },
      "source": [
        "voteIlabel"
      ],
      "execution_count": null,
      "outputs": [
        {
          "output_type": "execute_result",
          "data": {
            "application/vnd.google.colaboratory.intrinsic+json": {
              "type": "string"
            },
            "text/plain": [
              "'B'"
            ]
          },
          "metadata": {},
          "execution_count": 51
        }
      ]
    },
    {
      "cell_type": "code",
      "metadata": {
        "id": "3FLHxkYMoWdz"
      },
      "source": [
        "ccL = {\"B\":[1, 2, 3]}"
      ],
      "execution_count": null,
      "outputs": []
    },
    {
      "cell_type": "code",
      "metadata": {
        "id": "O36I5NcioWd0",
        "colab": {
          "base_uri": "https://localhost:8080/"
        },
        "outputId": "2fb22194-3b32-4c1d-d037-0cb91b0ed4ee"
      },
      "source": [
        "ccL.get(\"A\", 0)"
      ],
      "execution_count": null,
      "outputs": [
        {
          "output_type": "execute_result",
          "data": {
            "text/plain": [
              "0"
            ]
          },
          "metadata": {},
          "execution_count": 53
        }
      ]
    },
    {
      "cell_type": "code",
      "metadata": {
        "id": "dapZkjbgoWd0",
        "colab": {
          "base_uri": "https://localhost:8080/"
        },
        "outputId": "008f447e-da6a-406f-9dca-77d89d253b5d"
      },
      "source": [
        "ccL.get(\"B\", 0)"
      ],
      "execution_count": null,
      "outputs": [
        {
          "output_type": "execute_result",
          "data": {
            "text/plain": [
              "[1, 2, 3]"
            ]
          },
          "metadata": {},
          "execution_count": 54
        }
      ]
    },
    {
      "cell_type": "code",
      "metadata": {
        "id": "RdFT0BfWoWd0",
        "colab": {
          "base_uri": "https://localhost:8080/"
        },
        "outputId": "9ab16b9d-40c6-48c9-804b-87f89c716eca"
      },
      "source": [
        " ccL.get(\"A\", 0) + 1"
      ],
      "execution_count": null,
      "outputs": [
        {
          "output_type": "execute_result",
          "data": {
            "text/plain": [
              "1"
            ]
          },
          "metadata": {},
          "execution_count": 55
        }
      ]
    },
    {
      "cell_type": "code",
      "metadata": {
        "id": "h-aOiaQZoWd0"
      },
      "source": [
        "classCount[voteIlabel]=classCount.get(voteIlabel,0)+1"
      ],
      "execution_count": null,
      "outputs": []
    },
    {
      "cell_type": "code",
      "metadata": {
        "id": "gqDqnMy0oWd0",
        "colab": {
          "base_uri": "https://localhost:8080/"
        },
        "outputId": "88a94fbf-4c57-4de9-a7ab-80fce530c46a"
      },
      "source": [
        "classCount"
      ],
      "execution_count": null,
      "outputs": [
        {
          "output_type": "execute_result",
          "data": {
            "text/plain": [
              "{'B': 1}"
            ]
          },
          "metadata": {},
          "execution_count": 57
        }
      ]
    },
    {
      "cell_type": "code",
      "metadata": {
        "id": "hlZ69sXboWd1"
      },
      "source": [
        "voteIlabel=labels[sortedDistIndicies[1]]"
      ],
      "execution_count": null,
      "outputs": []
    },
    {
      "cell_type": "code",
      "metadata": {
        "id": "ZyBiKBXNoWd1"
      },
      "source": [
        "classCount[voteIlabel]=classCount.get(voteIlabel,0)+1"
      ],
      "execution_count": null,
      "outputs": []
    },
    {
      "cell_type": "code",
      "metadata": {
        "id": "N7tRYLOloWd1",
        "colab": {
          "base_uri": "https://localhost:8080/"
        },
        "outputId": "01fef507-11f7-44a4-8edc-902d2d77dd5e"
      },
      "source": [
        "classCount"
      ],
      "execution_count": null,
      "outputs": [
        {
          "output_type": "execute_result",
          "data": {
            "text/plain": [
              "{'B': 2}"
            ]
          },
          "metadata": {},
          "execution_count": 60
        }
      ]
    },
    {
      "cell_type": "code",
      "metadata": {
        "id": "m2bYqr_moWd1"
      },
      "source": [
        "voteIlabel=labels[sortedDistIndicies[2]]\n",
        "classCount[voteIlabel]=classCount.get(voteIlabel,0)+1"
      ],
      "execution_count": null,
      "outputs": []
    },
    {
      "cell_type": "code",
      "metadata": {
        "id": "VlYU1DdmoWd1",
        "colab": {
          "base_uri": "https://localhost:8080/"
        },
        "outputId": "04f2adae-574e-46e9-fa34-cc87d1210414"
      },
      "source": [
        "classCount"
      ],
      "execution_count": null,
      "outputs": [
        {
          "output_type": "execute_result",
          "data": {
            "text/plain": [
              "{'A': 1, 'B': 2}"
            ]
          },
          "metadata": {},
          "execution_count": 62
        }
      ]
    },
    {
      "cell_type": "code",
      "metadata": {
        "id": "4ip01OFyoWd2",
        "colab": {
          "base_uri": "https://localhost:8080/"
        },
        "outputId": "1e50f39c-bccb-41cd-9d79-0c310e01317f"
      },
      "source": [
        "classCount.items()"
      ],
      "execution_count": null,
      "outputs": [
        {
          "output_type": "execute_result",
          "data": {
            "text/plain": [
              "dict_items([('B', 2), ('A', 1)])"
            ]
          },
          "metadata": {},
          "execution_count": 63
        }
      ]
    },
    {
      "cell_type": "code",
      "metadata": {
        "id": "vRKURP6QoWd2"
      },
      "source": [
        "sortedClassCount = sorted(classCount.items(), key=lambda x:x[1],reverse=True)"
      ],
      "execution_count": null,
      "outputs": []
    },
    {
      "cell_type": "code",
      "metadata": {
        "id": "zVxPpgTboWd2",
        "colab": {
          "base_uri": "https://localhost:8080/"
        },
        "outputId": "1bc7a850-194d-4745-9dae-2c161b7f9592"
      },
      "source": [
        "sortedClassCount"
      ],
      "execution_count": null,
      "outputs": [
        {
          "output_type": "execute_result",
          "data": {
            "text/plain": [
              "[('B', 2), ('A', 1)]"
            ]
          },
          "metadata": {},
          "execution_count": 65
        }
      ]
    },
    {
      "cell_type": "code",
      "metadata": {
        "id": "23-MMEuHoWd2",
        "colab": {
          "base_uri": "https://localhost:8080/",
          "height": 35
        },
        "outputId": "b9d6134a-707a-4135-ef58-a6c82e721a33"
      },
      "source": [
        "sortedClassCount[0][0]"
      ],
      "execution_count": null,
      "outputs": [
        {
          "output_type": "execute_result",
          "data": {
            "application/vnd.google.colaboratory.intrinsic+json": {
              "type": "string"
            },
            "text/plain": [
              "'B'"
            ]
          },
          "metadata": {},
          "execution_count": 66
        }
      ]
    },
    {
      "cell_type": "code",
      "metadata": {
        "id": "9uD6eK_1oWd2",
        "colab": {
          "base_uri": "https://localhost:8080/"
        },
        "outputId": "27af59ff-1278-4c9f-ed6f-bbe029c33060"
      },
      "source": [
        "group"
      ],
      "execution_count": null,
      "outputs": [
        {
          "output_type": "execute_result",
          "data": {
            "text/plain": [
              "array([[1. , 1.1],\n",
              "       [1. , 1. ],\n",
              "       [0. , 0. ],\n",
              "       [0. , 0.1]])"
            ]
          },
          "metadata": {},
          "execution_count": 67
        }
      ]
    },
    {
      "cell_type": "code",
      "metadata": {
        "id": "TSbLnFv-oWd2",
        "colab": {
          "base_uri": "https://localhost:8080/"
        },
        "outputId": "5108ff1f-3778-470e-f2ca-8b2a16a326a0"
      },
      "source": [
        "labels"
      ],
      "execution_count": null,
      "outputs": [
        {
          "output_type": "execute_result",
          "data": {
            "text/plain": [
              "['A', 'A', 'B', 'B']"
            ]
          },
          "metadata": {},
          "execution_count": 68
        }
      ]
    },
    {
      "cell_type": "code",
      "metadata": {
        "id": "wdhPvf0SoWd3",
        "colab": {
          "base_uri": "https://localhost:8080/"
        },
        "outputId": "b4a0e246-74e6-44ee-9fb9-c9ada473c044"
      },
      "source": [
        "{'x1': group[:, 0], 'x2': group[:, 1], 'labels': labels}"
      ],
      "execution_count": null,
      "outputs": [
        {
          "output_type": "execute_result",
          "data": {
            "text/plain": [
              "{'labels': ['A', 'A', 'B', 'B'],\n",
              " 'x1': array([1., 1., 0., 0.]),\n",
              " 'x2': array([1.1, 1. , 0. , 0.1])}"
            ]
          },
          "metadata": {},
          "execution_count": 69
        }
      ]
    },
    {
      "cell_type": "code",
      "metadata": {
        "id": "Y0DC-3_joWd3"
      },
      "source": [
        "df = pd.DataFrame({'x1': group[:, 0], 'x2': group[:, 1], 'labels': labels})"
      ],
      "execution_count": null,
      "outputs": []
    },
    {
      "cell_type": "code",
      "metadata": {
        "id": "UL8vbTF0oWd3",
        "colab": {
          "base_uri": "https://localhost:8080/",
          "height": 172
        },
        "outputId": "681bdbe9-01d3-44c2-ea72-ad63d7ab7b09"
      },
      "source": [
        "df"
      ],
      "execution_count": null,
      "outputs": [
        {
          "output_type": "execute_result",
          "data": {
            "text/html": [
              "<div>\n",
              "<style scoped>\n",
              "    .dataframe tbody tr th:only-of-type {\n",
              "        vertical-align: middle;\n",
              "    }\n",
              "\n",
              "    .dataframe tbody tr th {\n",
              "        vertical-align: top;\n",
              "    }\n",
              "\n",
              "    .dataframe thead th {\n",
              "        text-align: right;\n",
              "    }\n",
              "</style>\n",
              "<table border=\"1\" class=\"dataframe\">\n",
              "  <thead>\n",
              "    <tr style=\"text-align: right;\">\n",
              "      <th></th>\n",
              "      <th>x1</th>\n",
              "      <th>x2</th>\n",
              "      <th>labels</th>\n",
              "    </tr>\n",
              "  </thead>\n",
              "  <tbody>\n",
              "    <tr>\n",
              "      <th>0</th>\n",
              "      <td>1.0</td>\n",
              "      <td>1.1</td>\n",
              "      <td>A</td>\n",
              "    </tr>\n",
              "    <tr>\n",
              "      <th>1</th>\n",
              "      <td>1.0</td>\n",
              "      <td>1.0</td>\n",
              "      <td>A</td>\n",
              "    </tr>\n",
              "    <tr>\n",
              "      <th>2</th>\n",
              "      <td>0.0</td>\n",
              "      <td>0.0</td>\n",
              "      <td>B</td>\n",
              "    </tr>\n",
              "    <tr>\n",
              "      <th>3</th>\n",
              "      <td>0.0</td>\n",
              "      <td>0.1</td>\n",
              "      <td>B</td>\n",
              "    </tr>\n",
              "  </tbody>\n",
              "</table>\n",
              "</div>"
            ],
            "text/plain": [
              "    x1   x2 labels\n",
              "0  1.0  1.1      A\n",
              "1  1.0  1.0      A\n",
              "2  0.0  0.0      B\n",
              "3  0.0  0.1      B"
            ]
          },
          "metadata": {},
          "execution_count": 71
        }
      ]
    },
    {
      "cell_type": "code",
      "metadata": {
        "id": "Va8EpVNqoWd3",
        "colab": {
          "base_uri": "https://localhost:8080/",
          "height": 172
        },
        "outputId": "58933d31-1651-4b90-f26e-3efa570c1579"
      },
      "source": [
        "df.reindex(['x2'] + ['x1'], axis=1)"
      ],
      "execution_count": null,
      "outputs": [
        {
          "output_type": "execute_result",
          "data": {
            "text/html": [
              "<div>\n",
              "<style scoped>\n",
              "    .dataframe tbody tr th:only-of-type {\n",
              "        vertical-align: middle;\n",
              "    }\n",
              "\n",
              "    .dataframe tbody tr th {\n",
              "        vertical-align: top;\n",
              "    }\n",
              "\n",
              "    .dataframe thead th {\n",
              "        text-align: right;\n",
              "    }\n",
              "</style>\n",
              "<table border=\"1\" class=\"dataframe\">\n",
              "  <thead>\n",
              "    <tr style=\"text-align: right;\">\n",
              "      <th></th>\n",
              "      <th>x2</th>\n",
              "      <th>x1</th>\n",
              "    </tr>\n",
              "  </thead>\n",
              "  <tbody>\n",
              "    <tr>\n",
              "      <th>0</th>\n",
              "      <td>1.1</td>\n",
              "      <td>1.0</td>\n",
              "    </tr>\n",
              "    <tr>\n",
              "      <th>1</th>\n",
              "      <td>1.0</td>\n",
              "      <td>1.0</td>\n",
              "    </tr>\n",
              "    <tr>\n",
              "      <th>2</th>\n",
              "      <td>0.0</td>\n",
              "      <td>0.0</td>\n",
              "    </tr>\n",
              "    <tr>\n",
              "      <th>3</th>\n",
              "      <td>0.1</td>\n",
              "      <td>0.0</td>\n",
              "    </tr>\n",
              "  </tbody>\n",
              "</table>\n",
              "</div>"
            ],
            "text/plain": [
              "    x2   x1\n",
              "0  1.1  1.0\n",
              "1  1.0  1.0\n",
              "2  0.0  0.0\n",
              "3  0.1  0.0"
            ]
          },
          "metadata": {},
          "execution_count": 72
        }
      ]
    },
    {
      "cell_type": "code",
      "metadata": {
        "id": "vA89qZczoWd3"
      },
      "source": [
        "d = pd.DataFrame({'x1': group[:, 0], 'x2': group[:, 1], 'labels':\n",
        "labels})"
      ],
      "execution_count": null,
      "outputs": []
    },
    {
      "cell_type": "code",
      "metadata": {
        "id": "Py81W83noWd4",
        "colab": {
          "base_uri": "https://localhost:8080/",
          "height": 172
        },
        "outputId": "c8cae5d7-f7bc-4676-a111-1ff6dc103f06"
      },
      "source": [
        "d"
      ],
      "execution_count": null,
      "outputs": [
        {
          "output_type": "execute_result",
          "data": {
            "text/html": [
              "<div>\n",
              "<style scoped>\n",
              "    .dataframe tbody tr th:only-of-type {\n",
              "        vertical-align: middle;\n",
              "    }\n",
              "\n",
              "    .dataframe tbody tr th {\n",
              "        vertical-align: top;\n",
              "    }\n",
              "\n",
              "    .dataframe thead th {\n",
              "        text-align: right;\n",
              "    }\n",
              "</style>\n",
              "<table border=\"1\" class=\"dataframe\">\n",
              "  <thead>\n",
              "    <tr style=\"text-align: right;\">\n",
              "      <th></th>\n",
              "      <th>x1</th>\n",
              "      <th>x2</th>\n",
              "      <th>labels</th>\n",
              "    </tr>\n",
              "  </thead>\n",
              "  <tbody>\n",
              "    <tr>\n",
              "      <th>0</th>\n",
              "      <td>1.0</td>\n",
              "      <td>1.1</td>\n",
              "      <td>A</td>\n",
              "    </tr>\n",
              "    <tr>\n",
              "      <th>1</th>\n",
              "      <td>1.0</td>\n",
              "      <td>1.0</td>\n",
              "      <td>A</td>\n",
              "    </tr>\n",
              "    <tr>\n",
              "      <th>2</th>\n",
              "      <td>0.0</td>\n",
              "      <td>0.0</td>\n",
              "      <td>B</td>\n",
              "    </tr>\n",
              "    <tr>\n",
              "      <th>3</th>\n",
              "      <td>0.0</td>\n",
              "      <td>0.1</td>\n",
              "      <td>B</td>\n",
              "    </tr>\n",
              "  </tbody>\n",
              "</table>\n",
              "</div>"
            ],
            "text/plain": [
              "    x1   x2 labels\n",
              "0  1.0  1.1      A\n",
              "1  1.0  1.0      A\n",
              "2  0.0  0.0      B\n",
              "3  0.0  0.1      B"
            ]
          },
          "metadata": {},
          "execution_count": 74
        }
      ]
    },
    {
      "cell_type": "code",
      "metadata": {
        "id": "817XfXPCoWd4",
        "colab": {
          "base_uri": "https://localhost:8080/"
        },
        "outputId": "e89fb008-96ff-43b1-f02d-ccc8a2f30d93"
      },
      "source": [
        "range(1, 3)"
      ],
      "execution_count": null,
      "outputs": [
        {
          "output_type": "execute_result",
          "data": {
            "text/plain": [
              "range(1, 3)"
            ]
          },
          "metadata": {},
          "execution_count": 75
        }
      ]
    },
    {
      "cell_type": "code",
      "metadata": {
        "id": "9tolBuwtoWd4",
        "colab": {
          "base_uri": "https://localhost:8080/",
          "height": 172
        },
        "outputId": "2fc30bc5-8d66-44eb-ef35-7d68272bbcd8"
      },
      "source": [
        "d.reindex(range(1, 5), axis=0)"
      ],
      "execution_count": null,
      "outputs": [
        {
          "output_type": "execute_result",
          "data": {
            "text/html": [
              "<div>\n",
              "<style scoped>\n",
              "    .dataframe tbody tr th:only-of-type {\n",
              "        vertical-align: middle;\n",
              "    }\n",
              "\n",
              "    .dataframe tbody tr th {\n",
              "        vertical-align: top;\n",
              "    }\n",
              "\n",
              "    .dataframe thead th {\n",
              "        text-align: right;\n",
              "    }\n",
              "</style>\n",
              "<table border=\"1\" class=\"dataframe\">\n",
              "  <thead>\n",
              "    <tr style=\"text-align: right;\">\n",
              "      <th></th>\n",
              "      <th>x1</th>\n",
              "      <th>x2</th>\n",
              "      <th>labels</th>\n",
              "    </tr>\n",
              "  </thead>\n",
              "  <tbody>\n",
              "    <tr>\n",
              "      <th>1</th>\n",
              "      <td>1.0</td>\n",
              "      <td>1.0</td>\n",
              "      <td>A</td>\n",
              "    </tr>\n",
              "    <tr>\n",
              "      <th>2</th>\n",
              "      <td>0.0</td>\n",
              "      <td>0.0</td>\n",
              "      <td>B</td>\n",
              "    </tr>\n",
              "    <tr>\n",
              "      <th>3</th>\n",
              "      <td>0.0</td>\n",
              "      <td>0.1</td>\n",
              "      <td>B</td>\n",
              "    </tr>\n",
              "    <tr>\n",
              "      <th>4</th>\n",
              "      <td>NaN</td>\n",
              "      <td>NaN</td>\n",
              "      <td>NaN</td>\n",
              "    </tr>\n",
              "  </tbody>\n",
              "</table>\n",
              "</div>"
            ],
            "text/plain": [
              "    x1   x2 labels\n",
              "1  1.0  1.0      A\n",
              "2  0.0  0.0      B\n",
              "3  0.0  0.1      B\n",
              "4  NaN  NaN    NaN"
            ]
          },
          "metadata": {},
          "execution_count": 76
        }
      ]
    },
    {
      "cell_type": "code",
      "metadata": {
        "id": "V6gtqbuMoWd4",
        "colab": {
          "base_uri": "https://localhost:8080/",
          "height": 172
        },
        "outputId": "4171297a-b29a-42b7-989c-f639e35b7007"
      },
      "source": [
        "d"
      ],
      "execution_count": null,
      "outputs": [
        {
          "output_type": "execute_result",
          "data": {
            "text/html": [
              "<div>\n",
              "<style scoped>\n",
              "    .dataframe tbody tr th:only-of-type {\n",
              "        vertical-align: middle;\n",
              "    }\n",
              "\n",
              "    .dataframe tbody tr th {\n",
              "        vertical-align: top;\n",
              "    }\n",
              "\n",
              "    .dataframe thead th {\n",
              "        text-align: right;\n",
              "    }\n",
              "</style>\n",
              "<table border=\"1\" class=\"dataframe\">\n",
              "  <thead>\n",
              "    <tr style=\"text-align: right;\">\n",
              "      <th></th>\n",
              "      <th>x1</th>\n",
              "      <th>x2</th>\n",
              "      <th>labels</th>\n",
              "    </tr>\n",
              "  </thead>\n",
              "  <tbody>\n",
              "    <tr>\n",
              "      <th>0</th>\n",
              "      <td>1.0</td>\n",
              "      <td>1.1</td>\n",
              "      <td>A</td>\n",
              "    </tr>\n",
              "    <tr>\n",
              "      <th>1</th>\n",
              "      <td>1.0</td>\n",
              "      <td>1.0</td>\n",
              "      <td>A</td>\n",
              "    </tr>\n",
              "    <tr>\n",
              "      <th>2</th>\n",
              "      <td>0.0</td>\n",
              "      <td>0.0</td>\n",
              "      <td>B</td>\n",
              "    </tr>\n",
              "    <tr>\n",
              "      <th>3</th>\n",
              "      <td>0.0</td>\n",
              "      <td>0.1</td>\n",
              "      <td>B</td>\n",
              "    </tr>\n",
              "  </tbody>\n",
              "</table>\n",
              "</div>"
            ],
            "text/plain": [
              "    x1   x2 labels\n",
              "0  1.0  1.1      A\n",
              "1  1.0  1.0      A\n",
              "2  0.0  0.0      B\n",
              "3  0.0  0.1      B"
            ]
          },
          "metadata": {},
          "execution_count": 77
        }
      ]
    },
    {
      "cell_type": "code",
      "metadata": {
        "id": "wv_G692yoWd4",
        "colab": {
          "base_uri": "https://localhost:8080/"
        },
        "outputId": "9e78601e-a25d-4744-87d4-2a338fe754ed"
      },
      "source": [
        "d.index"
      ],
      "execution_count": null,
      "outputs": [
        {
          "output_type": "execute_result",
          "data": {
            "text/plain": [
              "RangeIndex(start=0, stop=4, step=1)"
            ]
          },
          "metadata": {},
          "execution_count": 78
        }
      ]
    },
    {
      "cell_type": "code",
      "metadata": {
        "id": "Y2kavtlYoWd5"
      },
      "source": [
        "d.index = [1, 2, 3, 4]"
      ],
      "execution_count": null,
      "outputs": []
    },
    {
      "cell_type": "code",
      "metadata": {
        "id": "f5Kin5YWoWd5",
        "colab": {
          "base_uri": "https://localhost:8080/",
          "height": 172
        },
        "outputId": "2cc2a02e-4793-4ae1-bf2d-f57c7b1c188e"
      },
      "source": [
        "d"
      ],
      "execution_count": null,
      "outputs": [
        {
          "output_type": "execute_result",
          "data": {
            "text/html": [
              "<div>\n",
              "<style scoped>\n",
              "    .dataframe tbody tr th:only-of-type {\n",
              "        vertical-align: middle;\n",
              "    }\n",
              "\n",
              "    .dataframe tbody tr th {\n",
              "        vertical-align: top;\n",
              "    }\n",
              "\n",
              "    .dataframe thead th {\n",
              "        text-align: right;\n",
              "    }\n",
              "</style>\n",
              "<table border=\"1\" class=\"dataframe\">\n",
              "  <thead>\n",
              "    <tr style=\"text-align: right;\">\n",
              "      <th></th>\n",
              "      <th>x1</th>\n",
              "      <th>x2</th>\n",
              "      <th>labels</th>\n",
              "    </tr>\n",
              "  </thead>\n",
              "  <tbody>\n",
              "    <tr>\n",
              "      <th>1</th>\n",
              "      <td>1.0</td>\n",
              "      <td>1.1</td>\n",
              "      <td>A</td>\n",
              "    </tr>\n",
              "    <tr>\n",
              "      <th>2</th>\n",
              "      <td>1.0</td>\n",
              "      <td>1.0</td>\n",
              "      <td>A</td>\n",
              "    </tr>\n",
              "    <tr>\n",
              "      <th>3</th>\n",
              "      <td>0.0</td>\n",
              "      <td>0.0</td>\n",
              "      <td>B</td>\n",
              "    </tr>\n",
              "    <tr>\n",
              "      <th>4</th>\n",
              "      <td>0.0</td>\n",
              "      <td>0.1</td>\n",
              "      <td>B</td>\n",
              "    </tr>\n",
              "  </tbody>\n",
              "</table>\n",
              "</div>"
            ],
            "text/plain": [
              "    x1   x2 labels\n",
              "1  1.0  1.1      A\n",
              "2  1.0  1.0      A\n",
              "3  0.0  0.0      B\n",
              "4  0.0  0.1      B"
            ]
          },
          "metadata": {},
          "execution_count": 80
        }
      ]
    },
    {
      "cell_type": "code",
      "metadata": {
        "id": "FvCJi7mEoWd5",
        "colab": {
          "base_uri": "https://localhost:8080/"
        },
        "outputId": "aabb7284-39b0-4bdf-e88e-5b67925fe2b9"
      },
      "source": [
        "d.iloc[2,:]"
      ],
      "execution_count": null,
      "outputs": [
        {
          "output_type": "execute_result",
          "data": {
            "text/plain": [
              "x1        0\n",
              "x2        0\n",
              "labels    B\n",
              "Name: 3, dtype: object"
            ]
          },
          "metadata": {},
          "execution_count": 81
        }
      ]
    },
    {
      "cell_type": "code",
      "metadata": {
        "id": "viQZ5UOhoWd5",
        "colab": {
          "base_uri": "https://localhost:8080/"
        },
        "outputId": "5d15eea1-1f7d-44f9-9519-ca58db17c85c"
      },
      "source": [
        "d.loc[2,:]"
      ],
      "execution_count": null,
      "outputs": [
        {
          "output_type": "execute_result",
          "data": {
            "text/plain": [
              "x1        1\n",
              "x2        1\n",
              "labels    A\n",
              "Name: 2, dtype: object"
            ]
          },
          "metadata": {},
          "execution_count": 82
        }
      ]
    },
    {
      "cell_type": "code",
      "metadata": {
        "id": "w4RHM6XUoWd5",
        "colab": {
          "base_uri": "https://localhost:8080/",
          "height": 172
        },
        "outputId": "db4ef04b-df6d-4945-ca93-76694ffe2ec7"
      },
      "source": [
        "df"
      ],
      "execution_count": null,
      "outputs": [
        {
          "output_type": "execute_result",
          "data": {
            "text/html": [
              "<div>\n",
              "<style scoped>\n",
              "    .dataframe tbody tr th:only-of-type {\n",
              "        vertical-align: middle;\n",
              "    }\n",
              "\n",
              "    .dataframe tbody tr th {\n",
              "        vertical-align: top;\n",
              "    }\n",
              "\n",
              "    .dataframe thead th {\n",
              "        text-align: right;\n",
              "    }\n",
              "</style>\n",
              "<table border=\"1\" class=\"dataframe\">\n",
              "  <thead>\n",
              "    <tr style=\"text-align: right;\">\n",
              "      <th></th>\n",
              "      <th>x1</th>\n",
              "      <th>x2</th>\n",
              "      <th>labels</th>\n",
              "    </tr>\n",
              "  </thead>\n",
              "  <tbody>\n",
              "    <tr>\n",
              "      <th>0</th>\n",
              "      <td>1.0</td>\n",
              "      <td>1.1</td>\n",
              "      <td>A</td>\n",
              "    </tr>\n",
              "    <tr>\n",
              "      <th>1</th>\n",
              "      <td>1.0</td>\n",
              "      <td>1.0</td>\n",
              "      <td>A</td>\n",
              "    </tr>\n",
              "    <tr>\n",
              "      <th>2</th>\n",
              "      <td>0.0</td>\n",
              "      <td>0.0</td>\n",
              "      <td>B</td>\n",
              "    </tr>\n",
              "    <tr>\n",
              "      <th>3</th>\n",
              "      <td>0.0</td>\n",
              "      <td>0.1</td>\n",
              "      <td>B</td>\n",
              "    </tr>\n",
              "  </tbody>\n",
              "</table>\n",
              "</div>"
            ],
            "text/plain": [
              "    x1   x2 labels\n",
              "0  1.0  1.1      A\n",
              "1  1.0  1.0      A\n",
              "2  0.0  0.0      B\n",
              "3  0.0  0.1      B"
            ]
          },
          "metadata": {},
          "execution_count": 83
        }
      ]
    },
    {
      "cell_type": "code",
      "metadata": {
        "id": "DEFuAv1AoWd5"
      },
      "source": [
        "tar = np.array([0, 0])"
      ],
      "execution_count": null,
      "outputs": []
    },
    {
      "cell_type": "code",
      "metadata": {
        "id": "hNUndgTsoWd6",
        "colab": {
          "base_uri": "https://localhost:8080/"
        },
        "outputId": "93d6127f-e7c6-4dfb-9ed1-35cc49e92ade"
      },
      "source": [
        "tar"
      ],
      "execution_count": null,
      "outputs": [
        {
          "output_type": "execute_result",
          "data": {
            "text/plain": [
              "array([0, 0])"
            ]
          },
          "metadata": {},
          "execution_count": 85
        }
      ]
    },
    {
      "cell_type": "code",
      "metadata": {
        "id": "Yc3d7bxJoWd6",
        "colab": {
          "base_uri": "https://localhost:8080/"
        },
        "outputId": "c8eafa56-ac87-4815-d337-0cf0c9c11e8c"
      },
      "source": [
        "group"
      ],
      "execution_count": null,
      "outputs": [
        {
          "output_type": "execute_result",
          "data": {
            "text/plain": [
              "array([[1. , 1.1],\n",
              "       [1. , 1. ],\n",
              "       [0. , 0. ],\n",
              "       [0. , 0.1]])"
            ]
          },
          "metadata": {},
          "execution_count": 86
        }
      ]
    },
    {
      "cell_type": "code",
      "metadata": {
        "id": "Pb6q8JCAoWd6",
        "colab": {
          "base_uri": "https://localhost:8080/",
          "height": 172
        },
        "outputId": "d0de64a0-e329-4d33-9589-02654088ac09"
      },
      "source": [
        "pd.DataFrame(group)"
      ],
      "execution_count": null,
      "outputs": [
        {
          "output_type": "execute_result",
          "data": {
            "text/html": [
              "<div>\n",
              "<style scoped>\n",
              "    .dataframe tbody tr th:only-of-type {\n",
              "        vertical-align: middle;\n",
              "    }\n",
              "\n",
              "    .dataframe tbody tr th {\n",
              "        vertical-align: top;\n",
              "    }\n",
              "\n",
              "    .dataframe thead th {\n",
              "        text-align: right;\n",
              "    }\n",
              "</style>\n",
              "<table border=\"1\" class=\"dataframe\">\n",
              "  <thead>\n",
              "    <tr style=\"text-align: right;\">\n",
              "      <th></th>\n",
              "      <th>0</th>\n",
              "      <th>1</th>\n",
              "    </tr>\n",
              "  </thead>\n",
              "  <tbody>\n",
              "    <tr>\n",
              "      <th>0</th>\n",
              "      <td>1.0</td>\n",
              "      <td>1.1</td>\n",
              "    </tr>\n",
              "    <tr>\n",
              "      <th>1</th>\n",
              "      <td>1.0</td>\n",
              "      <td>1.0</td>\n",
              "    </tr>\n",
              "    <tr>\n",
              "      <th>2</th>\n",
              "      <td>0.0</td>\n",
              "      <td>0.0</td>\n",
              "    </tr>\n",
              "    <tr>\n",
              "      <th>3</th>\n",
              "      <td>0.0</td>\n",
              "      <td>0.1</td>\n",
              "    </tr>\n",
              "  </tbody>\n",
              "</table>\n",
              "</div>"
            ],
            "text/plain": [
              "     0    1\n",
              "0  1.0  1.1\n",
              "1  1.0  1.0\n",
              "2  0.0  0.0\n",
              "3  0.0  0.1"
            ]
          },
          "metadata": {},
          "execution_count": 87
        }
      ]
    },
    {
      "cell_type": "code",
      "metadata": {
        "id": "lfvYNoiEoWd6",
        "colab": {
          "base_uri": "https://localhost:8080/",
          "height": 110
        },
        "outputId": "04d7efcf-9401-44d6-ba51-f012ca0a4ead"
      },
      "source": [
        "pd.DataFrame(tar)"
      ],
      "execution_count": null,
      "outputs": [
        {
          "output_type": "execute_result",
          "data": {
            "text/html": [
              "<div>\n",
              "<style scoped>\n",
              "    .dataframe tbody tr th:only-of-type {\n",
              "        vertical-align: middle;\n",
              "    }\n",
              "\n",
              "    .dataframe tbody tr th {\n",
              "        vertical-align: top;\n",
              "    }\n",
              "\n",
              "    .dataframe thead th {\n",
              "        text-align: right;\n",
              "    }\n",
              "</style>\n",
              "<table border=\"1\" class=\"dataframe\">\n",
              "  <thead>\n",
              "    <tr style=\"text-align: right;\">\n",
              "      <th></th>\n",
              "      <th>0</th>\n",
              "    </tr>\n",
              "  </thead>\n",
              "  <tbody>\n",
              "    <tr>\n",
              "      <th>0</th>\n",
              "      <td>0</td>\n",
              "    </tr>\n",
              "    <tr>\n",
              "      <th>1</th>\n",
              "      <td>0</td>\n",
              "    </tr>\n",
              "  </tbody>\n",
              "</table>\n",
              "</div>"
            ],
            "text/plain": [
              "   0\n",
              "0  0\n",
              "1  0"
            ]
          },
          "metadata": {},
          "execution_count": 88
        }
      ]
    },
    {
      "cell_type": "code",
      "metadata": {
        "id": "eQn8nX-_oWd6"
      },
      "source": [
        "dt = pd.DataFrame(tar, index = ['x1', 'x2'])"
      ],
      "execution_count": null,
      "outputs": []
    },
    {
      "cell_type": "code",
      "metadata": {
        "id": "QpgjL9hGoWd6",
        "colab": {
          "base_uri": "https://localhost:8080/",
          "height": 110
        },
        "outputId": "d48b890d-67f2-4486-a626-06a335858e05"
      },
      "source": [
        "dt"
      ],
      "execution_count": null,
      "outputs": [
        {
          "output_type": "execute_result",
          "data": {
            "text/html": [
              "<div>\n",
              "<style scoped>\n",
              "    .dataframe tbody tr th:only-of-type {\n",
              "        vertical-align: middle;\n",
              "    }\n",
              "\n",
              "    .dataframe tbody tr th {\n",
              "        vertical-align: top;\n",
              "    }\n",
              "\n",
              "    .dataframe thead th {\n",
              "        text-align: right;\n",
              "    }\n",
              "</style>\n",
              "<table border=\"1\" class=\"dataframe\">\n",
              "  <thead>\n",
              "    <tr style=\"text-align: right;\">\n",
              "      <th></th>\n",
              "      <th>0</th>\n",
              "    </tr>\n",
              "  </thead>\n",
              "  <tbody>\n",
              "    <tr>\n",
              "      <th>x1</th>\n",
              "      <td>0</td>\n",
              "    </tr>\n",
              "    <tr>\n",
              "      <th>x2</th>\n",
              "      <td>0</td>\n",
              "    </tr>\n",
              "  </tbody>\n",
              "</table>\n",
              "</div>"
            ],
            "text/plain": [
              "    0\n",
              "x1  0\n",
              "x2  0"
            ]
          },
          "metadata": {},
          "execution_count": 90
        }
      ]
    },
    {
      "cell_type": "code",
      "metadata": {
        "id": "5x-QD_72oWd7"
      },
      "source": [
        "dt = dt.T"
      ],
      "execution_count": null,
      "outputs": []
    },
    {
      "cell_type": "code",
      "metadata": {
        "id": "26WkVCe9oWd7",
        "colab": {
          "base_uri": "https://localhost:8080/",
          "height": 80
        },
        "outputId": "d61550b0-43ca-4ec6-aa3d-46e7ee3637eb"
      },
      "source": [
        "dt"
      ],
      "execution_count": null,
      "outputs": [
        {
          "output_type": "execute_result",
          "data": {
            "text/html": [
              "<div>\n",
              "<style scoped>\n",
              "    .dataframe tbody tr th:only-of-type {\n",
              "        vertical-align: middle;\n",
              "    }\n",
              "\n",
              "    .dataframe tbody tr th {\n",
              "        vertical-align: top;\n",
              "    }\n",
              "\n",
              "    .dataframe thead th {\n",
              "        text-align: right;\n",
              "    }\n",
              "</style>\n",
              "<table border=\"1\" class=\"dataframe\">\n",
              "  <thead>\n",
              "    <tr style=\"text-align: right;\">\n",
              "      <th></th>\n",
              "      <th>x1</th>\n",
              "      <th>x2</th>\n",
              "    </tr>\n",
              "  </thead>\n",
              "  <tbody>\n",
              "    <tr>\n",
              "      <th>0</th>\n",
              "      <td>0</td>\n",
              "      <td>0</td>\n",
              "    </tr>\n",
              "  </tbody>\n",
              "</table>\n",
              "</div>"
            ],
            "text/plain": [
              "   x1  x2\n",
              "0   0   0"
            ]
          },
          "metadata": {},
          "execution_count": 92
        }
      ]
    },
    {
      "cell_type": "code",
      "metadata": {
        "id": "RKzpJW7qoWd7",
        "colab": {
          "base_uri": "https://localhost:8080/",
          "height": 172
        },
        "outputId": "e2de606a-f8e6-462a-de28-fed650518c8e"
      },
      "source": [
        "df"
      ],
      "execution_count": null,
      "outputs": [
        {
          "output_type": "execute_result",
          "data": {
            "text/html": [
              "<div>\n",
              "<style scoped>\n",
              "    .dataframe tbody tr th:only-of-type {\n",
              "        vertical-align: middle;\n",
              "    }\n",
              "\n",
              "    .dataframe tbody tr th {\n",
              "        vertical-align: top;\n",
              "    }\n",
              "\n",
              "    .dataframe thead th {\n",
              "        text-align: right;\n",
              "    }\n",
              "</style>\n",
              "<table border=\"1\" class=\"dataframe\">\n",
              "  <thead>\n",
              "    <tr style=\"text-align: right;\">\n",
              "      <th></th>\n",
              "      <th>x1</th>\n",
              "      <th>x2</th>\n",
              "      <th>labels</th>\n",
              "    </tr>\n",
              "  </thead>\n",
              "  <tbody>\n",
              "    <tr>\n",
              "      <th>0</th>\n",
              "      <td>1.0</td>\n",
              "      <td>1.1</td>\n",
              "      <td>A</td>\n",
              "    </tr>\n",
              "    <tr>\n",
              "      <th>1</th>\n",
              "      <td>1.0</td>\n",
              "      <td>1.0</td>\n",
              "      <td>A</td>\n",
              "    </tr>\n",
              "    <tr>\n",
              "      <th>2</th>\n",
              "      <td>0.0</td>\n",
              "      <td>0.0</td>\n",
              "      <td>B</td>\n",
              "    </tr>\n",
              "    <tr>\n",
              "      <th>3</th>\n",
              "      <td>0.0</td>\n",
              "      <td>0.1</td>\n",
              "      <td>B</td>\n",
              "    </tr>\n",
              "  </tbody>\n",
              "</table>\n",
              "</div>"
            ],
            "text/plain": [
              "    x1   x2 labels\n",
              "0  1.0  1.1      A\n",
              "1  1.0  1.0      A\n",
              "2  0.0  0.0      B\n",
              "3  0.0  0.1      B"
            ]
          },
          "metadata": {},
          "execution_count": 93
        }
      ]
    },
    {
      "cell_type": "code",
      "metadata": {
        "id": "v2hLrDm8oWd7"
      },
      "source": [
        "dt1 = dt.reindex(['x1'] + ['x2'] + ['labels'], axis=1)"
      ],
      "execution_count": null,
      "outputs": []
    },
    {
      "cell_type": "code",
      "metadata": {
        "id": "ZoOWiVfhoWd7",
        "colab": {
          "base_uri": "https://localhost:8080/",
          "height": 80
        },
        "outputId": "d2385e98-6cc0-40f9-9dcf-b19fc1b65dfa"
      },
      "source": [
        "dt1"
      ],
      "execution_count": null,
      "outputs": [
        {
          "output_type": "execute_result",
          "data": {
            "text/html": [
              "<div>\n",
              "<style scoped>\n",
              "    .dataframe tbody tr th:only-of-type {\n",
              "        vertical-align: middle;\n",
              "    }\n",
              "\n",
              "    .dataframe tbody tr th {\n",
              "        vertical-align: top;\n",
              "    }\n",
              "\n",
              "    .dataframe thead th {\n",
              "        text-align: right;\n",
              "    }\n",
              "</style>\n",
              "<table border=\"1\" class=\"dataframe\">\n",
              "  <thead>\n",
              "    <tr style=\"text-align: right;\">\n",
              "      <th></th>\n",
              "      <th>x1</th>\n",
              "      <th>x2</th>\n",
              "      <th>labels</th>\n",
              "    </tr>\n",
              "  </thead>\n",
              "  <tbody>\n",
              "    <tr>\n",
              "      <th>0</th>\n",
              "      <td>0</td>\n",
              "      <td>0</td>\n",
              "      <td>NaN</td>\n",
              "    </tr>\n",
              "  </tbody>\n",
              "</table>\n",
              "</div>"
            ],
            "text/plain": [
              "   x1  x2  labels\n",
              "0   0   0     NaN"
            ]
          },
          "metadata": {},
          "execution_count": 95
        }
      ]
    },
    {
      "cell_type": "code",
      "metadata": {
        "id": "JpwRlbZboWd7",
        "colab": {
          "base_uri": "https://localhost:8080/",
          "height": 172
        },
        "outputId": "9e439916-fc1b-499f-e690-b21fcdbb8e4b"
      },
      "source": [
        "df"
      ],
      "execution_count": null,
      "outputs": [
        {
          "output_type": "execute_result",
          "data": {
            "text/html": [
              "<div>\n",
              "<style scoped>\n",
              "    .dataframe tbody tr th:only-of-type {\n",
              "        vertical-align: middle;\n",
              "    }\n",
              "\n",
              "    .dataframe tbody tr th {\n",
              "        vertical-align: top;\n",
              "    }\n",
              "\n",
              "    .dataframe thead th {\n",
              "        text-align: right;\n",
              "    }\n",
              "</style>\n",
              "<table border=\"1\" class=\"dataframe\">\n",
              "  <thead>\n",
              "    <tr style=\"text-align: right;\">\n",
              "      <th></th>\n",
              "      <th>x1</th>\n",
              "      <th>x2</th>\n",
              "      <th>labels</th>\n",
              "    </tr>\n",
              "  </thead>\n",
              "  <tbody>\n",
              "    <tr>\n",
              "      <th>0</th>\n",
              "      <td>1.0</td>\n",
              "      <td>1.1</td>\n",
              "      <td>A</td>\n",
              "    </tr>\n",
              "    <tr>\n",
              "      <th>1</th>\n",
              "      <td>1.0</td>\n",
              "      <td>1.0</td>\n",
              "      <td>A</td>\n",
              "    </tr>\n",
              "    <tr>\n",
              "      <th>2</th>\n",
              "      <td>0.0</td>\n",
              "      <td>0.0</td>\n",
              "      <td>B</td>\n",
              "    </tr>\n",
              "    <tr>\n",
              "      <th>3</th>\n",
              "      <td>0.0</td>\n",
              "      <td>0.1</td>\n",
              "      <td>B</td>\n",
              "    </tr>\n",
              "  </tbody>\n",
              "</table>\n",
              "</div>"
            ],
            "text/plain": [
              "    x1   x2 labels\n",
              "0  1.0  1.1      A\n",
              "1  1.0  1.0      A\n",
              "2  0.0  0.0      B\n",
              "3  0.0  0.1      B"
            ]
          },
          "metadata": {},
          "execution_count": 96
        }
      ]
    },
    {
      "cell_type": "code",
      "metadata": {
        "id": "gOEdOwJuoWd8"
      },
      "source": [
        "df = pd.concat([df, dt1],ignore_index = True)"
      ],
      "execution_count": null,
      "outputs": []
    },
    {
      "cell_type": "code",
      "metadata": {
        "id": "5AMpiab5oWd8",
        "colab": {
          "base_uri": "https://localhost:8080/",
          "height": 203
        },
        "outputId": "91692f8a-6475-47b1-89c8-dc2feb36cd22"
      },
      "source": [
        "df"
      ],
      "execution_count": null,
      "outputs": [
        {
          "output_type": "execute_result",
          "data": {
            "text/html": [
              "<div>\n",
              "<style scoped>\n",
              "    .dataframe tbody tr th:only-of-type {\n",
              "        vertical-align: middle;\n",
              "    }\n",
              "\n",
              "    .dataframe tbody tr th {\n",
              "        vertical-align: top;\n",
              "    }\n",
              "\n",
              "    .dataframe thead th {\n",
              "        text-align: right;\n",
              "    }\n",
              "</style>\n",
              "<table border=\"1\" class=\"dataframe\">\n",
              "  <thead>\n",
              "    <tr style=\"text-align: right;\">\n",
              "      <th></th>\n",
              "      <th>x1</th>\n",
              "      <th>x2</th>\n",
              "      <th>labels</th>\n",
              "    </tr>\n",
              "  </thead>\n",
              "  <tbody>\n",
              "    <tr>\n",
              "      <th>0</th>\n",
              "      <td>1.0</td>\n",
              "      <td>1.1</td>\n",
              "      <td>A</td>\n",
              "    </tr>\n",
              "    <tr>\n",
              "      <th>1</th>\n",
              "      <td>1.0</td>\n",
              "      <td>1.0</td>\n",
              "      <td>A</td>\n",
              "    </tr>\n",
              "    <tr>\n",
              "      <th>2</th>\n",
              "      <td>0.0</td>\n",
              "      <td>0.0</td>\n",
              "      <td>B</td>\n",
              "    </tr>\n",
              "    <tr>\n",
              "      <th>3</th>\n",
              "      <td>0.0</td>\n",
              "      <td>0.1</td>\n",
              "      <td>B</td>\n",
              "    </tr>\n",
              "    <tr>\n",
              "      <th>4</th>\n",
              "      <td>0.0</td>\n",
              "      <td>0.0</td>\n",
              "      <td>NaN</td>\n",
              "    </tr>\n",
              "  </tbody>\n",
              "</table>\n",
              "</div>"
            ],
            "text/plain": [
              "    x1   x2 labels\n",
              "0  1.0  1.1      A\n",
              "1  1.0  1.0      A\n",
              "2  0.0  0.0      B\n",
              "3  0.0  0.1      B\n",
              "4  0.0  0.0    NaN"
            ]
          },
          "metadata": {},
          "execution_count": 98
        }
      ]
    },
    {
      "cell_type": "code",
      "metadata": {
        "id": "PC8-p0dwoWd8"
      },
      "source": [
        "l = [1, 2, 3]"
      ],
      "execution_count": null,
      "outputs": []
    },
    {
      "cell_type": "code",
      "metadata": {
        "id": "9-3XqetBoWd8"
      },
      "source": [
        "l1 = np.array(l)"
      ],
      "execution_count": null,
      "outputs": []
    },
    {
      "cell_type": "code",
      "metadata": {
        "id": "WsfXyq3KoWd8",
        "colab": {
          "base_uri": "https://localhost:8080/"
        },
        "outputId": "86d5ce72-4822-49ee-fc00-23a2669aaf67"
      },
      "source": [
        "l1"
      ],
      "execution_count": null,
      "outputs": [
        {
          "output_type": "execute_result",
          "data": {
            "text/plain": [
              "array([1, 2, 3])"
            ]
          },
          "metadata": {},
          "execution_count": 101
        }
      ]
    },
    {
      "cell_type": "code",
      "metadata": {
        "id": "af_tnhXhoWd9",
        "colab": {
          "base_uri": "https://localhost:8080/"
        },
        "outputId": "7cc91212-bdca-462a-91cf-a97d2ed76c94"
      },
      "source": [
        "l1 + 1"
      ],
      "execution_count": null,
      "outputs": [
        {
          "output_type": "execute_result",
          "data": {
            "text/plain": [
              "array([2, 3, 4])"
            ]
          },
          "metadata": {},
          "execution_count": 102
        }
      ]
    },
    {
      "cell_type": "code",
      "metadata": {
        "id": "dY2VtSpsoWd9"
      },
      "source": [
        "df = d"
      ],
      "execution_count": null,
      "outputs": []
    },
    {
      "cell_type": "code",
      "metadata": {
        "id": "Yoko8Hx6oWd9",
        "colab": {
          "base_uri": "https://localhost:8080/",
          "height": 172
        },
        "outputId": "ffe2e691-e65f-47d0-90b0-4a25464a06ef"
      },
      "source": [
        "df"
      ],
      "execution_count": null,
      "outputs": [
        {
          "output_type": "execute_result",
          "data": {
            "text/html": [
              "<div>\n",
              "<style scoped>\n",
              "    .dataframe tbody tr th:only-of-type {\n",
              "        vertical-align: middle;\n",
              "    }\n",
              "\n",
              "    .dataframe tbody tr th {\n",
              "        vertical-align: top;\n",
              "    }\n",
              "\n",
              "    .dataframe thead th {\n",
              "        text-align: right;\n",
              "    }\n",
              "</style>\n",
              "<table border=\"1\" class=\"dataframe\">\n",
              "  <thead>\n",
              "    <tr style=\"text-align: right;\">\n",
              "      <th></th>\n",
              "      <th>x1</th>\n",
              "      <th>x2</th>\n",
              "      <th>labels</th>\n",
              "    </tr>\n",
              "  </thead>\n",
              "  <tbody>\n",
              "    <tr>\n",
              "      <th>1</th>\n",
              "      <td>1.0</td>\n",
              "      <td>1.1</td>\n",
              "      <td>A</td>\n",
              "    </tr>\n",
              "    <tr>\n",
              "      <th>2</th>\n",
              "      <td>1.0</td>\n",
              "      <td>1.0</td>\n",
              "      <td>A</td>\n",
              "    </tr>\n",
              "    <tr>\n",
              "      <th>3</th>\n",
              "      <td>0.0</td>\n",
              "      <td>0.0</td>\n",
              "      <td>B</td>\n",
              "    </tr>\n",
              "    <tr>\n",
              "      <th>4</th>\n",
              "      <td>0.0</td>\n",
              "      <td>0.1</td>\n",
              "      <td>B</td>\n",
              "    </tr>\n",
              "  </tbody>\n",
              "</table>\n",
              "</div>"
            ],
            "text/plain": [
              "    x1   x2 labels\n",
              "1  1.0  1.1      A\n",
              "2  1.0  1.0      A\n",
              "3  0.0  0.0      B\n",
              "4  0.0  0.1      B"
            ]
          },
          "metadata": {},
          "execution_count": 104
        }
      ]
    },
    {
      "cell_type": "code",
      "metadata": {
        "id": "d7V5nsQuoWd9"
      },
      "source": [
        "df = pd.concat([df, dt1],ignore_index = True)"
      ],
      "execution_count": null,
      "outputs": []
    },
    {
      "cell_type": "code",
      "metadata": {
        "id": "pUl350RWoWd9",
        "colab": {
          "base_uri": "https://localhost:8080/",
          "height": 203
        },
        "outputId": "24367cba-ad36-4a0d-cc09-bb3c77f11914"
      },
      "source": [
        "df"
      ],
      "execution_count": null,
      "outputs": [
        {
          "output_type": "execute_result",
          "data": {
            "text/html": [
              "<div>\n",
              "<style scoped>\n",
              "    .dataframe tbody tr th:only-of-type {\n",
              "        vertical-align: middle;\n",
              "    }\n",
              "\n",
              "    .dataframe tbody tr th {\n",
              "        vertical-align: top;\n",
              "    }\n",
              "\n",
              "    .dataframe thead th {\n",
              "        text-align: right;\n",
              "    }\n",
              "</style>\n",
              "<table border=\"1\" class=\"dataframe\">\n",
              "  <thead>\n",
              "    <tr style=\"text-align: right;\">\n",
              "      <th></th>\n",
              "      <th>x1</th>\n",
              "      <th>x2</th>\n",
              "      <th>labels</th>\n",
              "    </tr>\n",
              "  </thead>\n",
              "  <tbody>\n",
              "    <tr>\n",
              "      <th>0</th>\n",
              "      <td>1.0</td>\n",
              "      <td>1.1</td>\n",
              "      <td>A</td>\n",
              "    </tr>\n",
              "    <tr>\n",
              "      <th>1</th>\n",
              "      <td>1.0</td>\n",
              "      <td>1.0</td>\n",
              "      <td>A</td>\n",
              "    </tr>\n",
              "    <tr>\n",
              "      <th>2</th>\n",
              "      <td>0.0</td>\n",
              "      <td>0.0</td>\n",
              "      <td>B</td>\n",
              "    </tr>\n",
              "    <tr>\n",
              "      <th>3</th>\n",
              "      <td>0.0</td>\n",
              "      <td>0.1</td>\n",
              "      <td>B</td>\n",
              "    </tr>\n",
              "    <tr>\n",
              "      <th>4</th>\n",
              "      <td>0.0</td>\n",
              "      <td>0.0</td>\n",
              "      <td>NaN</td>\n",
              "    </tr>\n",
              "  </tbody>\n",
              "</table>\n",
              "</div>"
            ],
            "text/plain": [
              "    x1   x2 labels\n",
              "0  1.0  1.1      A\n",
              "1  1.0  1.0      A\n",
              "2  0.0  0.0      B\n",
              "3  0.0  0.1      B\n",
              "4  0.0  0.0    NaN"
            ]
          },
          "metadata": {},
          "execution_count": 106
        }
      ]
    },
    {
      "cell_type": "code",
      "metadata": {
        "id": "JIJAYVhOoWd-",
        "colab": {
          "base_uri": "https://localhost:8080/",
          "height": 172
        },
        "outputId": "88665fb9-3a82-42e1-f68b-8b833b7b40db"
      },
      "source": [
        "df.iloc[:4, :2] - df.iloc[4, :2]"
      ],
      "execution_count": null,
      "outputs": [
        {
          "output_type": "execute_result",
          "data": {
            "text/html": [
              "<div>\n",
              "<style scoped>\n",
              "    .dataframe tbody tr th:only-of-type {\n",
              "        vertical-align: middle;\n",
              "    }\n",
              "\n",
              "    .dataframe tbody tr th {\n",
              "        vertical-align: top;\n",
              "    }\n",
              "\n",
              "    .dataframe thead th {\n",
              "        text-align: right;\n",
              "    }\n",
              "</style>\n",
              "<table border=\"1\" class=\"dataframe\">\n",
              "  <thead>\n",
              "    <tr style=\"text-align: right;\">\n",
              "      <th></th>\n",
              "      <th>x1</th>\n",
              "      <th>x2</th>\n",
              "    </tr>\n",
              "  </thead>\n",
              "  <tbody>\n",
              "    <tr>\n",
              "      <th>0</th>\n",
              "      <td>1</td>\n",
              "      <td>1.1</td>\n",
              "    </tr>\n",
              "    <tr>\n",
              "      <th>1</th>\n",
              "      <td>1</td>\n",
              "      <td>1</td>\n",
              "    </tr>\n",
              "    <tr>\n",
              "      <th>2</th>\n",
              "      <td>0</td>\n",
              "      <td>0</td>\n",
              "    </tr>\n",
              "    <tr>\n",
              "      <th>3</th>\n",
              "      <td>0</td>\n",
              "      <td>0.1</td>\n",
              "    </tr>\n",
              "  </tbody>\n",
              "</table>\n",
              "</div>"
            ],
            "text/plain": [
              "  x1   x2\n",
              "0  1  1.1\n",
              "1  1    1\n",
              "2  0    0\n",
              "3  0  0.1"
            ]
          },
          "metadata": {},
          "execution_count": 107
        }
      ]
    },
    {
      "cell_type": "code",
      "metadata": {
        "id": "XMpi10ZVoWd-",
        "colab": {
          "base_uri": "https://localhost:8080/",
          "height": 172
        },
        "outputId": "2d02d269-e046-433f-ad8f-d20d2244f9fb"
      },
      "source": [
        "(df.iloc[:4, :2] - df.iloc[4, :2]) ** 2"
      ],
      "execution_count": null,
      "outputs": [
        {
          "output_type": "execute_result",
          "data": {
            "text/html": [
              "<div>\n",
              "<style scoped>\n",
              "    .dataframe tbody tr th:only-of-type {\n",
              "        vertical-align: middle;\n",
              "    }\n",
              "\n",
              "    .dataframe tbody tr th {\n",
              "        vertical-align: top;\n",
              "    }\n",
              "\n",
              "    .dataframe thead th {\n",
              "        text-align: right;\n",
              "    }\n",
              "</style>\n",
              "<table border=\"1\" class=\"dataframe\">\n",
              "  <thead>\n",
              "    <tr style=\"text-align: right;\">\n",
              "      <th></th>\n",
              "      <th>x1</th>\n",
              "      <th>x2</th>\n",
              "    </tr>\n",
              "  </thead>\n",
              "  <tbody>\n",
              "    <tr>\n",
              "      <th>0</th>\n",
              "      <td>1</td>\n",
              "      <td>1.21</td>\n",
              "    </tr>\n",
              "    <tr>\n",
              "      <th>1</th>\n",
              "      <td>1</td>\n",
              "      <td>1</td>\n",
              "    </tr>\n",
              "    <tr>\n",
              "      <th>2</th>\n",
              "      <td>0</td>\n",
              "      <td>0</td>\n",
              "    </tr>\n",
              "    <tr>\n",
              "      <th>3</th>\n",
              "      <td>0</td>\n",
              "      <td>0.01</td>\n",
              "    </tr>\n",
              "  </tbody>\n",
              "</table>\n",
              "</div>"
            ],
            "text/plain": [
              "  x1    x2\n",
              "0  1  1.21\n",
              "1  1     1\n",
              "2  0     0\n",
              "3  0  0.01"
            ]
          },
          "metadata": {},
          "execution_count": 108
        }
      ]
    },
    {
      "cell_type": "code",
      "metadata": {
        "id": "IgLBTAguoWd-",
        "colab": {
          "base_uri": "https://localhost:8080/"
        },
        "outputId": "3c3e9457-2ec2-444f-9f4e-0f14cda91f62"
      },
      "source": [
        "((df.iloc[:4, :2] - df.iloc[4, :2]) ** 2).sum(1)"
      ],
      "execution_count": null,
      "outputs": [
        {
          "output_type": "execute_result",
          "data": {
            "text/plain": [
              "0    2.21\n",
              "1    2.00\n",
              "2    0.00\n",
              "3    0.01\n",
              "dtype: float64"
            ]
          },
          "metadata": {},
          "execution_count": 109
        }
      ]
    },
    {
      "cell_type": "code",
      "metadata": {
        "id": "txWLW5SBoWd-"
      },
      "source": [
        "dist = list(((df.iloc[:4, :2] - df.iloc[4, :2]) ** 2).sum(1))"
      ],
      "execution_count": null,
      "outputs": []
    },
    {
      "cell_type": "code",
      "metadata": {
        "id": "KLOYFnBxoWd-",
        "colab": {
          "base_uri": "https://localhost:8080/"
        },
        "outputId": "dc3db6bd-87ad-4d9e-8d0f-154b57bfbb38"
      },
      "source": [
        "dist"
      ],
      "execution_count": null,
      "outputs": [
        {
          "output_type": "execute_result",
          "data": {
            "text/plain": [
              "[2.21, 2.0, 0.0, 0.010000000000000002]"
            ]
          },
          "metadata": {},
          "execution_count": 111
        }
      ]
    },
    {
      "cell_type": "code",
      "metadata": {
        "id": "jbnMQs3EoWd_",
        "colab": {
          "base_uri": "https://localhost:8080/"
        },
        "outputId": "8e7f536a-0edd-42ab-ae3c-94632c5c001f"
      },
      "source": [
        "df.loc[:3, 'labels']"
      ],
      "execution_count": null,
      "outputs": [
        {
          "output_type": "execute_result",
          "data": {
            "text/plain": [
              "0    A\n",
              "1    A\n",
              "2    B\n",
              "3    B\n",
              "Name: labels, dtype: object"
            ]
          },
          "metadata": {},
          "execution_count": 112
        }
      ]
    },
    {
      "cell_type": "code",
      "metadata": {
        "id": "a9d80laZoWd_",
        "colab": {
          "base_uri": "https://localhost:8080/"
        },
        "outputId": "c50bd521-1682-43e4-f797-79be514cc39c"
      },
      "source": [
        "(df.loc[:, 'labels'])[: 4]"
      ],
      "execution_count": null,
      "outputs": [
        {
          "output_type": "execute_result",
          "data": {
            "text/plain": [
              "0    A\n",
              "1    A\n",
              "2    B\n",
              "3    B\n",
              "Name: labels, dtype: object"
            ]
          },
          "metadata": {},
          "execution_count": 113
        }
      ]
    },
    {
      "cell_type": "code",
      "metadata": {
        "id": "_og1NmSeoWd_"
      },
      "source": [
        "dist_l = pd.DataFrame({'dist': dist, 'labels': (df.loc[:, 'labels'])[: 4]})"
      ],
      "execution_count": null,
      "outputs": []
    },
    {
      "cell_type": "code",
      "metadata": {
        "id": "R8o4ItnIoWd_",
        "colab": {
          "base_uri": "https://localhost:8080/",
          "height": 172
        },
        "outputId": "9bbcb2b2-39f5-45a8-f1c8-9218019345e9"
      },
      "source": [
        "dist_l"
      ],
      "execution_count": null,
      "outputs": [
        {
          "output_type": "execute_result",
          "data": {
            "text/html": [
              "<div>\n",
              "<style scoped>\n",
              "    .dataframe tbody tr th:only-of-type {\n",
              "        vertical-align: middle;\n",
              "    }\n",
              "\n",
              "    .dataframe tbody tr th {\n",
              "        vertical-align: top;\n",
              "    }\n",
              "\n",
              "    .dataframe thead th {\n",
              "        text-align: right;\n",
              "    }\n",
              "</style>\n",
              "<table border=\"1\" class=\"dataframe\">\n",
              "  <thead>\n",
              "    <tr style=\"text-align: right;\">\n",
              "      <th></th>\n",
              "      <th>dist</th>\n",
              "      <th>labels</th>\n",
              "    </tr>\n",
              "  </thead>\n",
              "  <tbody>\n",
              "    <tr>\n",
              "      <th>0</th>\n",
              "      <td>2.21</td>\n",
              "      <td>A</td>\n",
              "    </tr>\n",
              "    <tr>\n",
              "      <th>1</th>\n",
              "      <td>2.00</td>\n",
              "      <td>A</td>\n",
              "    </tr>\n",
              "    <tr>\n",
              "      <th>2</th>\n",
              "      <td>0.00</td>\n",
              "      <td>B</td>\n",
              "    </tr>\n",
              "    <tr>\n",
              "      <th>3</th>\n",
              "      <td>0.01</td>\n",
              "      <td>B</td>\n",
              "    </tr>\n",
              "  </tbody>\n",
              "</table>\n",
              "</div>"
            ],
            "text/plain": [
              "   dist labels\n",
              "0  2.21      A\n",
              "1  2.00      A\n",
              "2  0.00      B\n",
              "3  0.01      B"
            ]
          },
          "metadata": {},
          "execution_count": 115
        }
      ]
    },
    {
      "cell_type": "code",
      "metadata": {
        "id": "qaKYC6BGoWd_",
        "colab": {
          "base_uri": "https://localhost:8080/",
          "height": 172
        },
        "outputId": "6d133870-fd1d-4b72-8cdc-4b267ddbecf8"
      },
      "source": [
        "dist_l.sort_values(by = 'dist')"
      ],
      "execution_count": null,
      "outputs": [
        {
          "output_type": "execute_result",
          "data": {
            "text/html": [
              "<div>\n",
              "<style scoped>\n",
              "    .dataframe tbody tr th:only-of-type {\n",
              "        vertical-align: middle;\n",
              "    }\n",
              "\n",
              "    .dataframe tbody tr th {\n",
              "        vertical-align: top;\n",
              "    }\n",
              "\n",
              "    .dataframe thead th {\n",
              "        text-align: right;\n",
              "    }\n",
              "</style>\n",
              "<table border=\"1\" class=\"dataframe\">\n",
              "  <thead>\n",
              "    <tr style=\"text-align: right;\">\n",
              "      <th></th>\n",
              "      <th>dist</th>\n",
              "      <th>labels</th>\n",
              "    </tr>\n",
              "  </thead>\n",
              "  <tbody>\n",
              "    <tr>\n",
              "      <th>2</th>\n",
              "      <td>0.00</td>\n",
              "      <td>B</td>\n",
              "    </tr>\n",
              "    <tr>\n",
              "      <th>3</th>\n",
              "      <td>0.01</td>\n",
              "      <td>B</td>\n",
              "    </tr>\n",
              "    <tr>\n",
              "      <th>1</th>\n",
              "      <td>2.00</td>\n",
              "      <td>A</td>\n",
              "    </tr>\n",
              "    <tr>\n",
              "      <th>0</th>\n",
              "      <td>2.21</td>\n",
              "      <td>A</td>\n",
              "    </tr>\n",
              "  </tbody>\n",
              "</table>\n",
              "</div>"
            ],
            "text/plain": [
              "   dist labels\n",
              "2  0.00      B\n",
              "3  0.01      B\n",
              "1  2.00      A\n",
              "0  2.21      A"
            ]
          },
          "metadata": {},
          "execution_count": 116
        }
      ]
    },
    {
      "cell_type": "code",
      "metadata": {
        "id": "mBCahrLQoWeA",
        "colab": {
          "base_uri": "https://localhost:8080/",
          "height": 142
        },
        "outputId": "7fd9d5ba-dfed-4696-be77-72550c855d0d"
      },
      "source": [
        "dr = dist_l.sort_values(by = 'dist')[: 3]\n",
        "dr"
      ],
      "execution_count": null,
      "outputs": [
        {
          "output_type": "execute_result",
          "data": {
            "text/html": [
              "<div>\n",
              "<style scoped>\n",
              "    .dataframe tbody tr th:only-of-type {\n",
              "        vertical-align: middle;\n",
              "    }\n",
              "\n",
              "    .dataframe tbody tr th {\n",
              "        vertical-align: top;\n",
              "    }\n",
              "\n",
              "    .dataframe thead th {\n",
              "        text-align: right;\n",
              "    }\n",
              "</style>\n",
              "<table border=\"1\" class=\"dataframe\">\n",
              "  <thead>\n",
              "    <tr style=\"text-align: right;\">\n",
              "      <th></th>\n",
              "      <th>dist</th>\n",
              "      <th>labels</th>\n",
              "    </tr>\n",
              "  </thead>\n",
              "  <tbody>\n",
              "    <tr>\n",
              "      <th>2</th>\n",
              "      <td>0.00</td>\n",
              "      <td>B</td>\n",
              "    </tr>\n",
              "    <tr>\n",
              "      <th>3</th>\n",
              "      <td>0.01</td>\n",
              "      <td>B</td>\n",
              "    </tr>\n",
              "    <tr>\n",
              "      <th>1</th>\n",
              "      <td>2.00</td>\n",
              "      <td>A</td>\n",
              "    </tr>\n",
              "  </tbody>\n",
              "</table>\n",
              "</div>"
            ],
            "text/plain": [
              "   dist labels\n",
              "2  0.00      B\n",
              "3  0.01      B\n",
              "1  2.00      A"
            ]
          },
          "metadata": {},
          "execution_count": 117
        }
      ]
    },
    {
      "cell_type": "code",
      "metadata": {
        "id": "kPanYPZIoWeA",
        "colab": {
          "base_uri": "https://localhost:8080/"
        },
        "outputId": "3f47d9ae-4717-4001-d9ae-3d5b244c2872"
      },
      "source": [
        "re = dr.loc[:, 'labels'].value_counts(ascending=False)\n",
        "re"
      ],
      "execution_count": null,
      "outputs": [
        {
          "output_type": "execute_result",
          "data": {
            "text/plain": [
              "B    2\n",
              "A    1\n",
              "Name: labels, dtype: int64"
            ]
          },
          "metadata": {},
          "execution_count": 118
        }
      ]
    },
    {
      "cell_type": "code",
      "metadata": {
        "id": "BLT5dqlXoWeA",
        "colab": {
          "base_uri": "https://localhost:8080/",
          "height": 35
        },
        "outputId": "0a99429d-b2e7-4d74-ab5e-437144570c89"
      },
      "source": [
        "re.index[0]"
      ],
      "execution_count": null,
      "outputs": [
        {
          "output_type": "execute_result",
          "data": {
            "application/vnd.google.colaboratory.intrinsic+json": {
              "type": "string"
            },
            "text/plain": [
              "'B'"
            ]
          },
          "metadata": {},
          "execution_count": 119
        }
      ]
    },
    {
      "cell_type": "code",
      "metadata": {
        "id": "BGwedQXGoWeA"
      },
      "source": [
        "def classify0_1(train,test,k):\n",
        "    n = train.shape[1] - 1\n",
        "    m = test.shape[0]\n",
        "    result = []\n",
        "    for i in range(m):\n",
        "        dist = list(((train.iloc[:, :n] - test.iloc[i, :n]) ** 2).sum(1))\n",
        "        dist_l = pd.DataFrame({'dist': dist, 'labels': (train.iloc[:, n])})\n",
        "        dr = dist_l.sort_values(by = 'dist')[: k]\n",
        "        re = dr.loc[:, 'labels'].value_counts()\n",
        "        result.append(re.index[0])\n",
        "    result = pd.Series(result)\n",
        "    test['predict'] = result\n",
        "    return test"
      ],
      "execution_count": null,
      "outputs": []
    },
    {
      "cell_type": "code",
      "metadata": {
        "id": "vIvswuq9oWeA",
        "colab": {
          "base_uri": "https://localhost:8080/",
          "height": 203
        },
        "outputId": "664ea6b5-14a4-46ba-b6dd-25449b5eedc0"
      },
      "source": [
        "df"
      ],
      "execution_count": null,
      "outputs": [
        {
          "output_type": "execute_result",
          "data": {
            "text/html": [
              "<div>\n",
              "<style scoped>\n",
              "    .dataframe tbody tr th:only-of-type {\n",
              "        vertical-align: middle;\n",
              "    }\n",
              "\n",
              "    .dataframe tbody tr th {\n",
              "        vertical-align: top;\n",
              "    }\n",
              "\n",
              "    .dataframe thead th {\n",
              "        text-align: right;\n",
              "    }\n",
              "</style>\n",
              "<table border=\"1\" class=\"dataframe\">\n",
              "  <thead>\n",
              "    <tr style=\"text-align: right;\">\n",
              "      <th></th>\n",
              "      <th>x1</th>\n",
              "      <th>x2</th>\n",
              "      <th>labels</th>\n",
              "    </tr>\n",
              "  </thead>\n",
              "  <tbody>\n",
              "    <tr>\n",
              "      <th>0</th>\n",
              "      <td>1.0</td>\n",
              "      <td>1.1</td>\n",
              "      <td>A</td>\n",
              "    </tr>\n",
              "    <tr>\n",
              "      <th>1</th>\n",
              "      <td>1.0</td>\n",
              "      <td>1.0</td>\n",
              "      <td>A</td>\n",
              "    </tr>\n",
              "    <tr>\n",
              "      <th>2</th>\n",
              "      <td>0.0</td>\n",
              "      <td>0.0</td>\n",
              "      <td>B</td>\n",
              "    </tr>\n",
              "    <tr>\n",
              "      <th>3</th>\n",
              "      <td>0.0</td>\n",
              "      <td>0.1</td>\n",
              "      <td>B</td>\n",
              "    </tr>\n",
              "    <tr>\n",
              "      <th>4</th>\n",
              "      <td>0.0</td>\n",
              "      <td>0.0</td>\n",
              "      <td>NaN</td>\n",
              "    </tr>\n",
              "  </tbody>\n",
              "</table>\n",
              "</div>"
            ],
            "text/plain": [
              "    x1   x2 labels\n",
              "0  1.0  1.1      A\n",
              "1  1.0  1.0      A\n",
              "2  0.0  0.0      B\n",
              "3  0.0  0.1      B\n",
              "4  0.0  0.0    NaN"
            ]
          },
          "metadata": {},
          "execution_count": 121
        }
      ]
    },
    {
      "cell_type": "code",
      "metadata": {
        "id": "Vpc1upQIoWeB",
        "colab": {
          "base_uri": "https://localhost:8080/"
        },
        "outputId": "0ad9cd1e-926a-480d-c792-74cd4dfddb36"
      },
      "source": [
        "df.shape[1]"
      ],
      "execution_count": null,
      "outputs": [
        {
          "output_type": "execute_result",
          "data": {
            "text/plain": [
              "3"
            ]
          },
          "metadata": {},
          "execution_count": 122
        }
      ]
    },
    {
      "cell_type": "code",
      "metadata": {
        "id": "DiWOAcYyoWeB"
      },
      "source": [
        "n = df.shape[1] - 1"
      ],
      "execution_count": null,
      "outputs": []
    },
    {
      "cell_type": "code",
      "metadata": {
        "id": "vdJYMauToWeB",
        "colab": {
          "base_uri": "https://localhost:8080/",
          "height": 203
        },
        "outputId": "e94a9706-166c-4f8e-9b6a-2ce4c13ec814"
      },
      "source": [
        "df.iloc[:, :n]"
      ],
      "execution_count": null,
      "outputs": [
        {
          "output_type": "execute_result",
          "data": {
            "text/html": [
              "<div>\n",
              "<style scoped>\n",
              "    .dataframe tbody tr th:only-of-type {\n",
              "        vertical-align: middle;\n",
              "    }\n",
              "\n",
              "    .dataframe tbody tr th {\n",
              "        vertical-align: top;\n",
              "    }\n",
              "\n",
              "    .dataframe thead th {\n",
              "        text-align: right;\n",
              "    }\n",
              "</style>\n",
              "<table border=\"1\" class=\"dataframe\">\n",
              "  <thead>\n",
              "    <tr style=\"text-align: right;\">\n",
              "      <th></th>\n",
              "      <th>x1</th>\n",
              "      <th>x2</th>\n",
              "    </tr>\n",
              "  </thead>\n",
              "  <tbody>\n",
              "    <tr>\n",
              "      <th>0</th>\n",
              "      <td>1.0</td>\n",
              "      <td>1.1</td>\n",
              "    </tr>\n",
              "    <tr>\n",
              "      <th>1</th>\n",
              "      <td>1.0</td>\n",
              "      <td>1.0</td>\n",
              "    </tr>\n",
              "    <tr>\n",
              "      <th>2</th>\n",
              "      <td>0.0</td>\n",
              "      <td>0.0</td>\n",
              "    </tr>\n",
              "    <tr>\n",
              "      <th>3</th>\n",
              "      <td>0.0</td>\n",
              "      <td>0.1</td>\n",
              "    </tr>\n",
              "    <tr>\n",
              "      <th>4</th>\n",
              "      <td>0.0</td>\n",
              "      <td>0.0</td>\n",
              "    </tr>\n",
              "  </tbody>\n",
              "</table>\n",
              "</div>"
            ],
            "text/plain": [
              "    x1   x2\n",
              "0  1.0  1.1\n",
              "1  1.0  1.0\n",
              "2  0.0  0.0\n",
              "3  0.0  0.1\n",
              "4  0.0  0.0"
            ]
          },
          "metadata": {},
          "execution_count": 124
        }
      ]
    },
    {
      "cell_type": "code",
      "metadata": {
        "id": "xJpopw4GoWeB"
      },
      "source": [
        "l = []"
      ],
      "execution_count": null,
      "outputs": []
    },
    {
      "cell_type": "code",
      "metadata": {
        "id": "PNuknh5XoWeB"
      },
      "source": [
        "l.append(1)"
      ],
      "execution_count": null,
      "outputs": []
    },
    {
      "cell_type": "code",
      "metadata": {
        "id": "yh87ge9eoWeB",
        "colab": {
          "base_uri": "https://localhost:8080/"
        },
        "outputId": "60664bf4-a9c9-4ad5-af13-f11808fa15cd"
      },
      "source": [
        "l"
      ],
      "execution_count": null,
      "outputs": [
        {
          "output_type": "execute_result",
          "data": {
            "text/plain": [
              "[1]"
            ]
          },
          "metadata": {},
          "execution_count": 127
        }
      ]
    },
    {
      "cell_type": "code",
      "metadata": {
        "id": "CaDw1E8OoWeC"
      },
      "source": [
        "l.append(2)"
      ],
      "execution_count": null,
      "outputs": []
    },
    {
      "cell_type": "code",
      "metadata": {
        "id": "hzl5u7taoWeC",
        "colab": {
          "base_uri": "https://localhost:8080/"
        },
        "outputId": "38819122-d4c6-4bc1-fc15-101f7c165b17"
      },
      "source": [
        "l"
      ],
      "execution_count": null,
      "outputs": [
        {
          "output_type": "execute_result",
          "data": {
            "text/plain": [
              "[1, 2]"
            ]
          },
          "metadata": {},
          "execution_count": 129
        }
      ]
    },
    {
      "cell_type": "code",
      "metadata": {
        "id": "tFKEGmG2oWeC"
      },
      "source": [
        "l = pd.Series(l)"
      ],
      "execution_count": null,
      "outputs": []
    },
    {
      "cell_type": "code",
      "metadata": {
        "id": "HCv-v_PyoWeC",
        "colab": {
          "base_uri": "https://localhost:8080/"
        },
        "outputId": "601303d2-3290-40fe-d1b9-b52e88fbaa16"
      },
      "source": [
        "l"
      ],
      "execution_count": null,
      "outputs": [
        {
          "output_type": "execute_result",
          "data": {
            "text/plain": [
              "0    1\n",
              "1    2\n",
              "dtype: int64"
            ]
          },
          "metadata": {},
          "execution_count": 131
        }
      ]
    },
    {
      "cell_type": "code",
      "metadata": {
        "id": "DoNRVOaYoWeC",
        "colab": {
          "base_uri": "https://localhost:8080/",
          "height": 203
        },
        "outputId": "2c3a645f-7eb9-41f4-d2b4-1e325c1649a0"
      },
      "source": [
        "df"
      ],
      "execution_count": null,
      "outputs": [
        {
          "output_type": "execute_result",
          "data": {
            "text/html": [
              "<div>\n",
              "<style scoped>\n",
              "    .dataframe tbody tr th:only-of-type {\n",
              "        vertical-align: middle;\n",
              "    }\n",
              "\n",
              "    .dataframe tbody tr th {\n",
              "        vertical-align: top;\n",
              "    }\n",
              "\n",
              "    .dataframe thead th {\n",
              "        text-align: right;\n",
              "    }\n",
              "</style>\n",
              "<table border=\"1\" class=\"dataframe\">\n",
              "  <thead>\n",
              "    <tr style=\"text-align: right;\">\n",
              "      <th></th>\n",
              "      <th>x1</th>\n",
              "      <th>x2</th>\n",
              "      <th>labels</th>\n",
              "    </tr>\n",
              "  </thead>\n",
              "  <tbody>\n",
              "    <tr>\n",
              "      <th>0</th>\n",
              "      <td>1.0</td>\n",
              "      <td>1.1</td>\n",
              "      <td>A</td>\n",
              "    </tr>\n",
              "    <tr>\n",
              "      <th>1</th>\n",
              "      <td>1.0</td>\n",
              "      <td>1.0</td>\n",
              "      <td>A</td>\n",
              "    </tr>\n",
              "    <tr>\n",
              "      <th>2</th>\n",
              "      <td>0.0</td>\n",
              "      <td>0.0</td>\n",
              "      <td>B</td>\n",
              "    </tr>\n",
              "    <tr>\n",
              "      <th>3</th>\n",
              "      <td>0.0</td>\n",
              "      <td>0.1</td>\n",
              "      <td>B</td>\n",
              "    </tr>\n",
              "    <tr>\n",
              "      <th>4</th>\n",
              "      <td>0.0</td>\n",
              "      <td>0.0</td>\n",
              "      <td>NaN</td>\n",
              "    </tr>\n",
              "  </tbody>\n",
              "</table>\n",
              "</div>"
            ],
            "text/plain": [
              "    x1   x2 labels\n",
              "0  1.0  1.1      A\n",
              "1  1.0  1.0      A\n",
              "2  0.0  0.0      B\n",
              "3  0.0  0.1      B\n",
              "4  0.0  0.0    NaN"
            ]
          },
          "metadata": {},
          "execution_count": 132
        }
      ]
    },
    {
      "cell_type": "code",
      "metadata": {
        "id": "Gu0p8g22oWeC"
      },
      "source": [
        "iris = pd.read_csv('iris.txt', header = None)"
      ],
      "execution_count": null,
      "outputs": []
    },
    {
      "cell_type": "code",
      "metadata": {
        "id": "W23gIh7FoWeD",
        "colab": {
          "base_uri": "https://localhost:8080/",
          "height": 203
        },
        "outputId": "a5dc3937-ff35-48c4-81df-a835a5ff4f14"
      },
      "source": [
        "iris.head()"
      ],
      "execution_count": null,
      "outputs": [
        {
          "output_type": "execute_result",
          "data": {
            "text/html": [
              "<div>\n",
              "<style scoped>\n",
              "    .dataframe tbody tr th:only-of-type {\n",
              "        vertical-align: middle;\n",
              "    }\n",
              "\n",
              "    .dataframe tbody tr th {\n",
              "        vertical-align: top;\n",
              "    }\n",
              "\n",
              "    .dataframe thead th {\n",
              "        text-align: right;\n",
              "    }\n",
              "</style>\n",
              "<table border=\"1\" class=\"dataframe\">\n",
              "  <thead>\n",
              "    <tr style=\"text-align: right;\">\n",
              "      <th></th>\n",
              "      <th>0</th>\n",
              "      <th>1</th>\n",
              "      <th>2</th>\n",
              "      <th>3</th>\n",
              "      <th>4</th>\n",
              "    </tr>\n",
              "  </thead>\n",
              "  <tbody>\n",
              "    <tr>\n",
              "      <th>0</th>\n",
              "      <td>5.1</td>\n",
              "      <td>3.5</td>\n",
              "      <td>1.4</td>\n",
              "      <td>0.2</td>\n",
              "      <td>setosa</td>\n",
              "    </tr>\n",
              "    <tr>\n",
              "      <th>1</th>\n",
              "      <td>4.9</td>\n",
              "      <td>3.0</td>\n",
              "      <td>1.4</td>\n",
              "      <td>0.2</td>\n",
              "      <td>setosa</td>\n",
              "    </tr>\n",
              "    <tr>\n",
              "      <th>2</th>\n",
              "      <td>4.7</td>\n",
              "      <td>3.2</td>\n",
              "      <td>1.3</td>\n",
              "      <td>0.2</td>\n",
              "      <td>setosa</td>\n",
              "    </tr>\n",
              "    <tr>\n",
              "      <th>3</th>\n",
              "      <td>4.6</td>\n",
              "      <td>3.1</td>\n",
              "      <td>1.5</td>\n",
              "      <td>0.2</td>\n",
              "      <td>setosa</td>\n",
              "    </tr>\n",
              "    <tr>\n",
              "      <th>4</th>\n",
              "      <td>5.0</td>\n",
              "      <td>3.6</td>\n",
              "      <td>1.4</td>\n",
              "      <td>0.2</td>\n",
              "      <td>setosa</td>\n",
              "    </tr>\n",
              "  </tbody>\n",
              "</table>\n",
              "</div>"
            ],
            "text/plain": [
              "     0    1    2    3       4\n",
              "0  5.1  3.5  1.4  0.2  setosa\n",
              "1  4.9  3.0  1.4  0.2  setosa\n",
              "2  4.7  3.2  1.3  0.2  setosa\n",
              "3  4.6  3.1  1.5  0.2  setosa\n",
              "4  5.0  3.6  1.4  0.2  setosa"
            ]
          },
          "metadata": {},
          "execution_count": 134
        }
      ]
    },
    {
      "cell_type": "code",
      "metadata": {
        "id": "ZukU7qbSoWeD",
        "colab": {
          "base_uri": "https://localhost:8080/"
        },
        "outputId": "d4f0669c-0d6f-4fd9-ae3d-fb1be1984f2f"
      },
      "source": [
        "iris.shape"
      ],
      "execution_count": null,
      "outputs": [
        {
          "output_type": "execute_result",
          "data": {
            "text/plain": [
              "(150, 5)"
            ]
          },
          "metadata": {},
          "execution_count": 135
        }
      ]
    },
    {
      "cell_type": "code",
      "metadata": {
        "id": "l9HLYNm_oWeD"
      },
      "source": [
        "iris.columns = ['sepal_length_cm', 'sepal_width_cm', 'petal_length_cm', 'petal_width_cm', 'class']"
      ],
      "execution_count": null,
      "outputs": []
    },
    {
      "cell_type": "code",
      "metadata": {
        "id": "kX3UJ0_1oWeD",
        "colab": {
          "base_uri": "https://localhost:8080/",
          "height": 203
        },
        "outputId": "a906df33-8ee1-42f2-93d8-b1eb4baf12ab"
      },
      "source": [
        "iris.head()"
      ],
      "execution_count": null,
      "outputs": [
        {
          "output_type": "execute_result",
          "data": {
            "text/html": [
              "<div>\n",
              "<style scoped>\n",
              "    .dataframe tbody tr th:only-of-type {\n",
              "        vertical-align: middle;\n",
              "    }\n",
              "\n",
              "    .dataframe tbody tr th {\n",
              "        vertical-align: top;\n",
              "    }\n",
              "\n",
              "    .dataframe thead th {\n",
              "        text-align: right;\n",
              "    }\n",
              "</style>\n",
              "<table border=\"1\" class=\"dataframe\">\n",
              "  <thead>\n",
              "    <tr style=\"text-align: right;\">\n",
              "      <th></th>\n",
              "      <th>sepal_length_cm</th>\n",
              "      <th>sepal_width_cm</th>\n",
              "      <th>petal_length_cm</th>\n",
              "      <th>petal_width_cm</th>\n",
              "      <th>class</th>\n",
              "    </tr>\n",
              "  </thead>\n",
              "  <tbody>\n",
              "    <tr>\n",
              "      <th>0</th>\n",
              "      <td>5.1</td>\n",
              "      <td>3.5</td>\n",
              "      <td>1.4</td>\n",
              "      <td>0.2</td>\n",
              "      <td>setosa</td>\n",
              "    </tr>\n",
              "    <tr>\n",
              "      <th>1</th>\n",
              "      <td>4.9</td>\n",
              "      <td>3.0</td>\n",
              "      <td>1.4</td>\n",
              "      <td>0.2</td>\n",
              "      <td>setosa</td>\n",
              "    </tr>\n",
              "    <tr>\n",
              "      <th>2</th>\n",
              "      <td>4.7</td>\n",
              "      <td>3.2</td>\n",
              "      <td>1.3</td>\n",
              "      <td>0.2</td>\n",
              "      <td>setosa</td>\n",
              "    </tr>\n",
              "    <tr>\n",
              "      <th>3</th>\n",
              "      <td>4.6</td>\n",
              "      <td>3.1</td>\n",
              "      <td>1.5</td>\n",
              "      <td>0.2</td>\n",
              "      <td>setosa</td>\n",
              "    </tr>\n",
              "    <tr>\n",
              "      <th>4</th>\n",
              "      <td>5.0</td>\n",
              "      <td>3.6</td>\n",
              "      <td>1.4</td>\n",
              "      <td>0.2</td>\n",
              "      <td>setosa</td>\n",
              "    </tr>\n",
              "  </tbody>\n",
              "</table>\n",
              "</div>"
            ],
            "text/plain": [
              "   sepal_length_cm  sepal_width_cm  petal_length_cm  petal_width_cm   class\n",
              "0              5.1             3.5              1.4             0.2  setosa\n",
              "1              4.9             3.0              1.4             0.2  setosa\n",
              "2              4.7             3.2              1.3             0.2  setosa\n",
              "3              4.6             3.1              1.5             0.2  setosa\n",
              "4              5.0             3.6              1.4             0.2  setosa"
            ]
          },
          "metadata": {},
          "execution_count": 137
        }
      ]
    },
    {
      "cell_type": "code",
      "metadata": {
        "id": "Fgiv5c6FoWeD",
        "colab": {
          "base_uri": "https://localhost:8080/"
        },
        "outputId": "deef046b-2e4a-4be0-8c3d-4255766847a3"
      },
      "source": [
        "iris.shape"
      ],
      "execution_count": null,
      "outputs": [
        {
          "output_type": "execute_result",
          "data": {
            "text/plain": [
              "(150, 5)"
            ]
          },
          "metadata": {},
          "execution_count": 138
        }
      ]
    },
    {
      "cell_type": "code",
      "metadata": {
        "id": "sjW0Mg6DoWeD",
        "colab": {
          "base_uri": "https://localhost:8080/"
        },
        "outputId": "025e6dfa-747e-4cdb-c25d-0fe5ccce6a40"
      },
      "source": [
        "iris.index"
      ],
      "execution_count": null,
      "outputs": [
        {
          "output_type": "execute_result",
          "data": {
            "text/plain": [
              "RangeIndex(start=0, stop=150, step=1)"
            ]
          },
          "metadata": {},
          "execution_count": 139
        }
      ]
    },
    {
      "cell_type": "code",
      "metadata": {
        "id": "MxD9agmdoWeE"
      },
      "source": [
        "l = list(iris.index)"
      ],
      "execution_count": null,
      "outputs": []
    },
    {
      "cell_type": "code",
      "metadata": {
        "id": "MEW0ObJtoWeE"
      },
      "source": [
        "import random"
      ],
      "execution_count": null,
      "outputs": []
    },
    {
      "cell_type": "code",
      "metadata": {
        "id": "AMgKWEaMoWeE"
      },
      "source": [
        "random.shuffle(l)"
      ],
      "execution_count": null,
      "outputs": []
    },
    {
      "cell_type": "code",
      "metadata": {
        "id": "E7_SXQOQoWeE"
      },
      "source": [
        "iris.index = l"
      ],
      "execution_count": null,
      "outputs": []
    },
    {
      "cell_type": "code",
      "metadata": {
        "id": "j0Szs2GVoWeF",
        "colab": {
          "base_uri": "https://localhost:8080/",
          "height": 203
        },
        "outputId": "59740402-c5f0-419d-e8b1-594b505ea74d"
      },
      "source": [
        "iris.head()"
      ],
      "execution_count": null,
      "outputs": [
        {
          "output_type": "execute_result",
          "data": {
            "text/html": [
              "<div>\n",
              "<style scoped>\n",
              "    .dataframe tbody tr th:only-of-type {\n",
              "        vertical-align: middle;\n",
              "    }\n",
              "\n",
              "    .dataframe tbody tr th {\n",
              "        vertical-align: top;\n",
              "    }\n",
              "\n",
              "    .dataframe thead th {\n",
              "        text-align: right;\n",
              "    }\n",
              "</style>\n",
              "<table border=\"1\" class=\"dataframe\">\n",
              "  <thead>\n",
              "    <tr style=\"text-align: right;\">\n",
              "      <th></th>\n",
              "      <th>sepal_length_cm</th>\n",
              "      <th>sepal_width_cm</th>\n",
              "      <th>petal_length_cm</th>\n",
              "      <th>petal_width_cm</th>\n",
              "      <th>class</th>\n",
              "    </tr>\n",
              "  </thead>\n",
              "  <tbody>\n",
              "    <tr>\n",
              "      <th>38</th>\n",
              "      <td>5.1</td>\n",
              "      <td>3.5</td>\n",
              "      <td>1.4</td>\n",
              "      <td>0.2</td>\n",
              "      <td>setosa</td>\n",
              "    </tr>\n",
              "    <tr>\n",
              "      <th>133</th>\n",
              "      <td>4.9</td>\n",
              "      <td>3.0</td>\n",
              "      <td>1.4</td>\n",
              "      <td>0.2</td>\n",
              "      <td>setosa</td>\n",
              "    </tr>\n",
              "    <tr>\n",
              "      <th>20</th>\n",
              "      <td>4.7</td>\n",
              "      <td>3.2</td>\n",
              "      <td>1.3</td>\n",
              "      <td>0.2</td>\n",
              "      <td>setosa</td>\n",
              "    </tr>\n",
              "    <tr>\n",
              "      <th>114</th>\n",
              "      <td>4.6</td>\n",
              "      <td>3.1</td>\n",
              "      <td>1.5</td>\n",
              "      <td>0.2</td>\n",
              "      <td>setosa</td>\n",
              "    </tr>\n",
              "    <tr>\n",
              "      <th>91</th>\n",
              "      <td>5.0</td>\n",
              "      <td>3.6</td>\n",
              "      <td>1.4</td>\n",
              "      <td>0.2</td>\n",
              "      <td>setosa</td>\n",
              "    </tr>\n",
              "  </tbody>\n",
              "</table>\n",
              "</div>"
            ],
            "text/plain": [
              "     sepal_length_cm  sepal_width_cm  petal_length_cm  petal_width_cm   class\n",
              "38               5.1             3.5              1.4             0.2  setosa\n",
              "133              4.9             3.0              1.4             0.2  setosa\n",
              "20               4.7             3.2              1.3             0.2  setosa\n",
              "114              4.6             3.1              1.5             0.2  setosa\n",
              "91               5.0             3.6              1.4             0.2  setosa"
            ]
          },
          "metadata": {},
          "execution_count": 144
        }
      ]
    },
    {
      "cell_type": "code",
      "metadata": {
        "id": "8McmSgAboWeF"
      },
      "source": [
        "n = iris.shape[0]"
      ],
      "execution_count": null,
      "outputs": []
    },
    {
      "cell_type": "code",
      "metadata": {
        "id": "ZYuAu4W4oWeF",
        "colab": {
          "base_uri": "https://localhost:8080/"
        },
        "outputId": "30d150ca-8900-4d8b-d98d-46fa4f36d042"
      },
      "source": [
        "n"
      ],
      "execution_count": null,
      "outputs": [
        {
          "output_type": "execute_result",
          "data": {
            "text/plain": [
              "150"
            ]
          },
          "metadata": {},
          "execution_count": 146
        }
      ]
    },
    {
      "cell_type": "code",
      "metadata": {
        "id": "nZFqAI84oWeF"
      },
      "source": [
        "m = int(n * 0.7)"
      ],
      "execution_count": null,
      "outputs": []
    },
    {
      "cell_type": "code",
      "metadata": {
        "id": "WMPjnN0BoWeF",
        "colab": {
          "base_uri": "https://localhost:8080/"
        },
        "outputId": "b8b2ea1d-a462-4ba6-e52f-0299598a9925"
      },
      "source": [
        "m"
      ],
      "execution_count": null,
      "outputs": [
        {
          "output_type": "execute_result",
          "data": {
            "text/plain": [
              "105"
            ]
          },
          "metadata": {},
          "execution_count": 148
        }
      ]
    },
    {
      "cell_type": "code",
      "metadata": {
        "id": "7xko6UCIoWeF"
      },
      "source": [
        "train = iris.loc[range(m), :]"
      ],
      "execution_count": null,
      "outputs": []
    },
    {
      "cell_type": "code",
      "metadata": {
        "id": "QUQWkYcloWeG"
      },
      "source": [
        "test = iris.loc[range(m, n), :]"
      ],
      "execution_count": null,
      "outputs": []
    },
    {
      "cell_type": "code",
      "metadata": {
        "id": "93aY9ycsoWeG",
        "colab": {
          "base_uri": "https://localhost:8080/",
          "height": 203
        },
        "outputId": "4a57ab9c-e590-41f0-8460-3ed1bae2f4a8"
      },
      "source": [
        "train.head()"
      ],
      "execution_count": null,
      "outputs": [
        {
          "output_type": "execute_result",
          "data": {
            "text/html": [
              "<div>\n",
              "<style scoped>\n",
              "    .dataframe tbody tr th:only-of-type {\n",
              "        vertical-align: middle;\n",
              "    }\n",
              "\n",
              "    .dataframe tbody tr th {\n",
              "        vertical-align: top;\n",
              "    }\n",
              "\n",
              "    .dataframe thead th {\n",
              "        text-align: right;\n",
              "    }\n",
              "</style>\n",
              "<table border=\"1\" class=\"dataframe\">\n",
              "  <thead>\n",
              "    <tr style=\"text-align: right;\">\n",
              "      <th></th>\n",
              "      <th>sepal_length_cm</th>\n",
              "      <th>sepal_width_cm</th>\n",
              "      <th>petal_length_cm</th>\n",
              "      <th>petal_width_cm</th>\n",
              "      <th>class</th>\n",
              "    </tr>\n",
              "  </thead>\n",
              "  <tbody>\n",
              "    <tr>\n",
              "      <th>0</th>\n",
              "      <td>4.8</td>\n",
              "      <td>3.4</td>\n",
              "      <td>1.6</td>\n",
              "      <td>0.2</td>\n",
              "      <td>setosa</td>\n",
              "    </tr>\n",
              "    <tr>\n",
              "      <th>1</th>\n",
              "      <td>5.1</td>\n",
              "      <td>3.5</td>\n",
              "      <td>1.4</td>\n",
              "      <td>0.3</td>\n",
              "      <td>setosa</td>\n",
              "    </tr>\n",
              "    <tr>\n",
              "      <th>2</th>\n",
              "      <td>6.4</td>\n",
              "      <td>3.1</td>\n",
              "      <td>5.5</td>\n",
              "      <td>1.8</td>\n",
              "      <td>virginica</td>\n",
              "    </tr>\n",
              "    <tr>\n",
              "      <th>3</th>\n",
              "      <td>6.3</td>\n",
              "      <td>2.5</td>\n",
              "      <td>4.9</td>\n",
              "      <td>1.5</td>\n",
              "      <td>versicolor</td>\n",
              "    </tr>\n",
              "    <tr>\n",
              "      <th>4</th>\n",
              "      <td>6.8</td>\n",
              "      <td>3.2</td>\n",
              "      <td>5.9</td>\n",
              "      <td>2.3</td>\n",
              "      <td>virginica</td>\n",
              "    </tr>\n",
              "  </tbody>\n",
              "</table>\n",
              "</div>"
            ],
            "text/plain": [
              "   sepal_length_cm  sepal_width_cm  petal_length_cm  petal_width_cm       class\n",
              "0              4.8             3.4              1.6             0.2      setosa\n",
              "1              5.1             3.5              1.4             0.3      setosa\n",
              "2              6.4             3.1              5.5             1.8   virginica\n",
              "3              6.3             2.5              4.9             1.5  versicolor\n",
              "4              6.8             3.2              5.9             2.3   virginica"
            ]
          },
          "metadata": {},
          "execution_count": 151
        }
      ]
    },
    {
      "cell_type": "code",
      "metadata": {
        "id": "UVAXCYGgoWeG",
        "colab": {
          "base_uri": "https://localhost:8080/"
        },
        "outputId": "b1059f9c-abf6-48e4-a24f-8781447eea98"
      },
      "source": [
        "train.shape"
      ],
      "execution_count": null,
      "outputs": [
        {
          "output_type": "execute_result",
          "data": {
            "text/plain": [
              "(105, 5)"
            ]
          },
          "metadata": {},
          "execution_count": 152
        }
      ]
    },
    {
      "cell_type": "code",
      "metadata": {
        "id": "YRqN-LxRoWeG",
        "colab": {
          "base_uri": "https://localhost:8080/",
          "height": 203
        },
        "outputId": "6188e728-5324-4599-f6ba-429085ba4227"
      },
      "source": [
        "test.head()"
      ],
      "execution_count": null,
      "outputs": [
        {
          "output_type": "execute_result",
          "data": {
            "text/html": [
              "<div>\n",
              "<style scoped>\n",
              "    .dataframe tbody tr th:only-of-type {\n",
              "        vertical-align: middle;\n",
              "    }\n",
              "\n",
              "    .dataframe tbody tr th {\n",
              "        vertical-align: top;\n",
              "    }\n",
              "\n",
              "    .dataframe thead th {\n",
              "        text-align: right;\n",
              "    }\n",
              "</style>\n",
              "<table border=\"1\" class=\"dataframe\">\n",
              "  <thead>\n",
              "    <tr style=\"text-align: right;\">\n",
              "      <th></th>\n",
              "      <th>sepal_length_cm</th>\n",
              "      <th>sepal_width_cm</th>\n",
              "      <th>petal_length_cm</th>\n",
              "      <th>petal_width_cm</th>\n",
              "      <th>class</th>\n",
              "    </tr>\n",
              "  </thead>\n",
              "  <tbody>\n",
              "    <tr>\n",
              "      <th>105</th>\n",
              "      <td>4.3</td>\n",
              "      <td>3.0</td>\n",
              "      <td>1.1</td>\n",
              "      <td>0.1</td>\n",
              "      <td>setosa</td>\n",
              "    </tr>\n",
              "    <tr>\n",
              "      <th>106</th>\n",
              "      <td>5.2</td>\n",
              "      <td>3.4</td>\n",
              "      <td>1.4</td>\n",
              "      <td>0.2</td>\n",
              "      <td>setosa</td>\n",
              "    </tr>\n",
              "    <tr>\n",
              "      <th>107</th>\n",
              "      <td>6.3</td>\n",
              "      <td>2.8</td>\n",
              "      <td>5.1</td>\n",
              "      <td>1.5</td>\n",
              "      <td>virginica</td>\n",
              "    </tr>\n",
              "    <tr>\n",
              "      <th>108</th>\n",
              "      <td>4.4</td>\n",
              "      <td>3.0</td>\n",
              "      <td>1.3</td>\n",
              "      <td>0.2</td>\n",
              "      <td>setosa</td>\n",
              "    </tr>\n",
              "    <tr>\n",
              "      <th>109</th>\n",
              "      <td>7.1</td>\n",
              "      <td>3.0</td>\n",
              "      <td>5.9</td>\n",
              "      <td>2.1</td>\n",
              "      <td>virginica</td>\n",
              "    </tr>\n",
              "  </tbody>\n",
              "</table>\n",
              "</div>"
            ],
            "text/plain": [
              "     sepal_length_cm  sepal_width_cm  ...  petal_width_cm      class\n",
              "105              4.3             3.0  ...             0.1     setosa\n",
              "106              5.2             3.4  ...             0.2     setosa\n",
              "107              6.3             2.8  ...             1.5  virginica\n",
              "108              4.4             3.0  ...             0.2     setosa\n",
              "109              7.1             3.0  ...             2.1  virginica\n",
              "\n",
              "[5 rows x 5 columns]"
            ]
          },
          "metadata": {},
          "execution_count": 153
        }
      ]
    },
    {
      "cell_type": "code",
      "metadata": {
        "id": "pnvDRAa5oWeG",
        "colab": {
          "base_uri": "https://localhost:8080/"
        },
        "outputId": "bc0995c0-4803-4c86-e2f3-c6f9a307aca8"
      },
      "source": [
        "test.shape"
      ],
      "execution_count": null,
      "outputs": [
        {
          "output_type": "execute_result",
          "data": {
            "text/plain": [
              "(45, 5)"
            ]
          },
          "metadata": {},
          "execution_count": 154
        }
      ]
    },
    {
      "cell_type": "code",
      "metadata": {
        "id": "hsw9rMycoWeH",
        "colab": {
          "base_uri": "https://localhost:8080/",
          "height": 203
        },
        "outputId": "fdec113f-2c0b-434e-bdc8-8ec137d5a781"
      },
      "source": [
        "iris.head()"
      ],
      "execution_count": null,
      "outputs": [
        {
          "output_type": "execute_result",
          "data": {
            "text/html": [
              "<div>\n",
              "<style scoped>\n",
              "    .dataframe tbody tr th:only-of-type {\n",
              "        vertical-align: middle;\n",
              "    }\n",
              "\n",
              "    .dataframe tbody tr th {\n",
              "        vertical-align: top;\n",
              "    }\n",
              "\n",
              "    .dataframe thead th {\n",
              "        text-align: right;\n",
              "    }\n",
              "</style>\n",
              "<table border=\"1\" class=\"dataframe\">\n",
              "  <thead>\n",
              "    <tr style=\"text-align: right;\">\n",
              "      <th></th>\n",
              "      <th>sepal_length_cm</th>\n",
              "      <th>sepal_width_cm</th>\n",
              "      <th>petal_length_cm</th>\n",
              "      <th>petal_width_cm</th>\n",
              "      <th>class</th>\n",
              "    </tr>\n",
              "  </thead>\n",
              "  <tbody>\n",
              "    <tr>\n",
              "      <th>38</th>\n",
              "      <td>5.1</td>\n",
              "      <td>3.5</td>\n",
              "      <td>1.4</td>\n",
              "      <td>0.2</td>\n",
              "      <td>setosa</td>\n",
              "    </tr>\n",
              "    <tr>\n",
              "      <th>133</th>\n",
              "      <td>4.9</td>\n",
              "      <td>3.0</td>\n",
              "      <td>1.4</td>\n",
              "      <td>0.2</td>\n",
              "      <td>setosa</td>\n",
              "    </tr>\n",
              "    <tr>\n",
              "      <th>20</th>\n",
              "      <td>4.7</td>\n",
              "      <td>3.2</td>\n",
              "      <td>1.3</td>\n",
              "      <td>0.2</td>\n",
              "      <td>setosa</td>\n",
              "    </tr>\n",
              "    <tr>\n",
              "      <th>114</th>\n",
              "      <td>4.6</td>\n",
              "      <td>3.1</td>\n",
              "      <td>1.5</td>\n",
              "      <td>0.2</td>\n",
              "      <td>setosa</td>\n",
              "    </tr>\n",
              "    <tr>\n",
              "      <th>91</th>\n",
              "      <td>5.0</td>\n",
              "      <td>3.6</td>\n",
              "      <td>1.4</td>\n",
              "      <td>0.2</td>\n",
              "      <td>setosa</td>\n",
              "    </tr>\n",
              "  </tbody>\n",
              "</table>\n",
              "</div>"
            ],
            "text/plain": [
              "     sepal_length_cm  sepal_width_cm  petal_length_cm  petal_width_cm   class\n",
              "38               5.1             3.5              1.4             0.2  setosa\n",
              "133              4.9             3.0              1.4             0.2  setosa\n",
              "20               4.7             3.2              1.3             0.2  setosa\n",
              "114              4.6             3.1              1.5             0.2  setosa\n",
              "91               5.0             3.6              1.4             0.2  setosa"
            ]
          },
          "metadata": {},
          "execution_count": 155
        }
      ]
    },
    {
      "cell_type": "code",
      "metadata": {
        "id": "7nUrFTAyoWeH"
      },
      "source": [
        "iris.index = range(iris.shape[0])"
      ],
      "execution_count": null,
      "outputs": []
    },
    {
      "cell_type": "code",
      "metadata": {
        "id": "CRz2nPvtoWeH",
        "colab": {
          "base_uri": "https://localhost:8080/",
          "height": 203
        },
        "outputId": "b874cf3b-c810-483e-f429-2b864910de0e"
      },
      "source": [
        "iris.head()"
      ],
      "execution_count": null,
      "outputs": [
        {
          "output_type": "execute_result",
          "data": {
            "text/html": [
              "<div>\n",
              "<style scoped>\n",
              "    .dataframe tbody tr th:only-of-type {\n",
              "        vertical-align: middle;\n",
              "    }\n",
              "\n",
              "    .dataframe tbody tr th {\n",
              "        vertical-align: top;\n",
              "    }\n",
              "\n",
              "    .dataframe thead th {\n",
              "        text-align: right;\n",
              "    }\n",
              "</style>\n",
              "<table border=\"1\" class=\"dataframe\">\n",
              "  <thead>\n",
              "    <tr style=\"text-align: right;\">\n",
              "      <th></th>\n",
              "      <th>sepal_length_cm</th>\n",
              "      <th>sepal_width_cm</th>\n",
              "      <th>petal_length_cm</th>\n",
              "      <th>petal_width_cm</th>\n",
              "      <th>class</th>\n",
              "    </tr>\n",
              "  </thead>\n",
              "  <tbody>\n",
              "    <tr>\n",
              "      <th>0</th>\n",
              "      <td>5.1</td>\n",
              "      <td>3.5</td>\n",
              "      <td>1.4</td>\n",
              "      <td>0.2</td>\n",
              "      <td>setosa</td>\n",
              "    </tr>\n",
              "    <tr>\n",
              "      <th>1</th>\n",
              "      <td>4.9</td>\n",
              "      <td>3.0</td>\n",
              "      <td>1.4</td>\n",
              "      <td>0.2</td>\n",
              "      <td>setosa</td>\n",
              "    </tr>\n",
              "    <tr>\n",
              "      <th>2</th>\n",
              "      <td>4.7</td>\n",
              "      <td>3.2</td>\n",
              "      <td>1.3</td>\n",
              "      <td>0.2</td>\n",
              "      <td>setosa</td>\n",
              "    </tr>\n",
              "    <tr>\n",
              "      <th>3</th>\n",
              "      <td>4.6</td>\n",
              "      <td>3.1</td>\n",
              "      <td>1.5</td>\n",
              "      <td>0.2</td>\n",
              "      <td>setosa</td>\n",
              "    </tr>\n",
              "    <tr>\n",
              "      <th>4</th>\n",
              "      <td>5.0</td>\n",
              "      <td>3.6</td>\n",
              "      <td>1.4</td>\n",
              "      <td>0.2</td>\n",
              "      <td>setosa</td>\n",
              "    </tr>\n",
              "  </tbody>\n",
              "</table>\n",
              "</div>"
            ],
            "text/plain": [
              "   sepal_length_cm  sepal_width_cm  petal_length_cm  petal_width_cm   class\n",
              "0              5.1             3.5              1.4             0.2  setosa\n",
              "1              4.9             3.0              1.4             0.2  setosa\n",
              "2              4.7             3.2              1.3             0.2  setosa\n",
              "3              4.6             3.1              1.5             0.2  setosa\n",
              "4              5.0             3.6              1.4             0.2  setosa"
            ]
          },
          "metadata": {},
          "execution_count": 157
        }
      ]
    },
    {
      "cell_type": "code",
      "metadata": {
        "id": "SgrMZfSooWeH"
      },
      "source": [
        "test.index = range(test.shape[0])"
      ],
      "execution_count": null,
      "outputs": []
    },
    {
      "cell_type": "code",
      "metadata": {
        "id": "BjRhIK71oWeH",
        "colab": {
          "base_uri": "https://localhost:8080/",
          "height": 203
        },
        "outputId": "3f48002b-850b-432b-ba70-414ddd065707"
      },
      "source": [
        "test.head()"
      ],
      "execution_count": null,
      "outputs": [
        {
          "output_type": "execute_result",
          "data": {
            "text/html": [
              "<div>\n",
              "<style scoped>\n",
              "    .dataframe tbody tr th:only-of-type {\n",
              "        vertical-align: middle;\n",
              "    }\n",
              "\n",
              "    .dataframe tbody tr th {\n",
              "        vertical-align: top;\n",
              "    }\n",
              "\n",
              "    .dataframe thead th {\n",
              "        text-align: right;\n",
              "    }\n",
              "</style>\n",
              "<table border=\"1\" class=\"dataframe\">\n",
              "  <thead>\n",
              "    <tr style=\"text-align: right;\">\n",
              "      <th></th>\n",
              "      <th>sepal_length_cm</th>\n",
              "      <th>sepal_width_cm</th>\n",
              "      <th>petal_length_cm</th>\n",
              "      <th>petal_width_cm</th>\n",
              "      <th>class</th>\n",
              "    </tr>\n",
              "  </thead>\n",
              "  <tbody>\n",
              "    <tr>\n",
              "      <th>0</th>\n",
              "      <td>4.3</td>\n",
              "      <td>3.0</td>\n",
              "      <td>1.1</td>\n",
              "      <td>0.1</td>\n",
              "      <td>setosa</td>\n",
              "    </tr>\n",
              "    <tr>\n",
              "      <th>1</th>\n",
              "      <td>5.2</td>\n",
              "      <td>3.4</td>\n",
              "      <td>1.4</td>\n",
              "      <td>0.2</td>\n",
              "      <td>setosa</td>\n",
              "    </tr>\n",
              "    <tr>\n",
              "      <th>2</th>\n",
              "      <td>6.3</td>\n",
              "      <td>2.8</td>\n",
              "      <td>5.1</td>\n",
              "      <td>1.5</td>\n",
              "      <td>virginica</td>\n",
              "    </tr>\n",
              "    <tr>\n",
              "      <th>3</th>\n",
              "      <td>4.4</td>\n",
              "      <td>3.0</td>\n",
              "      <td>1.3</td>\n",
              "      <td>0.2</td>\n",
              "      <td>setosa</td>\n",
              "    </tr>\n",
              "    <tr>\n",
              "      <th>4</th>\n",
              "      <td>7.1</td>\n",
              "      <td>3.0</td>\n",
              "      <td>5.9</td>\n",
              "      <td>2.1</td>\n",
              "      <td>virginica</td>\n",
              "    </tr>\n",
              "  </tbody>\n",
              "</table>\n",
              "</div>"
            ],
            "text/plain": [
              "   sepal_length_cm  sepal_width_cm  petal_length_cm  petal_width_cm      class\n",
              "0              4.3             3.0              1.1             0.1     setosa\n",
              "1              5.2             3.4              1.4             0.2     setosa\n",
              "2              6.3             2.8              5.1             1.5  virginica\n",
              "3              4.4             3.0              1.3             0.2     setosa\n",
              "4              7.1             3.0              5.9             2.1  virginica"
            ]
          },
          "metadata": {},
          "execution_count": 159
        }
      ]
    },
    {
      "cell_type": "code",
      "metadata": {
        "id": "TpafHxdgoWeI"
      },
      "source": [
        "l = [1, 2, 3, 4, 5]"
      ],
      "execution_count": null,
      "outputs": []
    },
    {
      "cell_type": "code",
      "metadata": {
        "id": "PotjK8UeoWeI",
        "colab": {
          "base_uri": "https://localhost:8080/"
        },
        "outputId": "4c33b02e-ca61-428f-ca3f-7f347cdbaff7"
      },
      "source": [
        "l"
      ],
      "execution_count": null,
      "outputs": [
        {
          "output_type": "execute_result",
          "data": {
            "text/plain": [
              "[1, 2, 3, 4, 5]"
            ]
          },
          "metadata": {},
          "execution_count": 161
        }
      ]
    },
    {
      "cell_type": "code",
      "metadata": {
        "id": "rFuWYYkMoWeI"
      },
      "source": [
        "random.shuffle(l)"
      ],
      "execution_count": null,
      "outputs": []
    },
    {
      "cell_type": "code",
      "metadata": {
        "id": "tBWgTx7OoWeI",
        "colab": {
          "base_uri": "https://localhost:8080/"
        },
        "outputId": "66b271d4-10a7-427f-a910-87acd7e077ca"
      },
      "source": [
        "l"
      ],
      "execution_count": null,
      "outputs": [
        {
          "output_type": "execute_result",
          "data": {
            "text/plain": [
              "[4, 2, 1, 5, 3]"
            ]
          },
          "metadata": {},
          "execution_count": 163
        }
      ]
    },
    {
      "cell_type": "code",
      "metadata": {
        "id": "wSKV-jMBoWeI",
        "colab": {
          "base_uri": "https://localhost:8080/"
        },
        "outputId": "863717a5-50a5-49c5-a952-fff464e93b3a"
      },
      "source": [
        "random.shuffle(l)\n",
        "l"
      ],
      "execution_count": null,
      "outputs": [
        {
          "output_type": "execute_result",
          "data": {
            "text/plain": [
              "[1, 4, 5, 2, 3]"
            ]
          },
          "metadata": {},
          "execution_count": 164
        }
      ]
    },
    {
      "cell_type": "code",
      "metadata": {
        "id": "trv0q9GroWeJ"
      },
      "source": [
        "random.shuffle(l)"
      ],
      "execution_count": null,
      "outputs": []
    },
    {
      "cell_type": "code",
      "metadata": {
        "id": "ET6gvzfyoWeJ",
        "colab": {
          "base_uri": "https://localhost:8080/"
        },
        "outputId": "3559b107-ab3a-4943-8247-ebba5a38714d"
      },
      "source": [
        "l"
      ],
      "execution_count": null,
      "outputs": [
        {
          "output_type": "execute_result",
          "data": {
            "text/plain": [
              "[3, 1, 5, 2, 4]"
            ]
          },
          "metadata": {},
          "execution_count": 166
        }
      ]
    },
    {
      "cell_type": "code",
      "metadata": {
        "id": "BxsurpTkoWeJ"
      },
      "source": [
        "random.seed(123)"
      ],
      "execution_count": null,
      "outputs": []
    },
    {
      "cell_type": "code",
      "metadata": {
        "id": "c59K0NUooWeJ"
      },
      "source": [
        "l = [1, 2, 3, 4, 5]"
      ],
      "execution_count": null,
      "outputs": []
    },
    {
      "cell_type": "code",
      "metadata": {
        "id": "_O_MkfpNoWeJ",
        "colab": {
          "base_uri": "https://localhost:8080/"
        },
        "outputId": "de6e972d-4160-421a-ecf5-d1de56e52a00"
      },
      "source": [
        "random.shuffle(l)\n",
        "l"
      ],
      "execution_count": null,
      "outputs": [
        {
          "output_type": "execute_result",
          "data": {
            "text/plain": [
              "[4, 2, 5, 3, 1]"
            ]
          },
          "metadata": {},
          "execution_count": 169
        }
      ]
    },
    {
      "cell_type": "code",
      "metadata": {
        "id": "1SHbvnxjoWeJ",
        "colab": {
          "base_uri": "https://localhost:8080/"
        },
        "outputId": "d10d8c24-b258-4fb4-f9bf-f6b86928248a"
      },
      "source": [
        "random.seed(1234)\n",
        "l = [1, 2, 3, 4, 5]\n",
        "random.shuffle(l)\n",
        "l"
      ],
      "execution_count": null,
      "outputs": [
        {
          "output_type": "execute_result",
          "data": {
            "text/plain": [
              "[2, 3, 5, 1, 4]"
            ]
          },
          "metadata": {},
          "execution_count": 170
        }
      ]
    },
    {
      "cell_type": "code",
      "metadata": {
        "id": "uOFwN1mLoWeL",
        "colab": {
          "base_uri": "https://localhost:8080/"
        },
        "outputId": "f6819231-737a-4a79-9f2a-c6d6055d3f42"
      },
      "source": [
        "l = [1, 2, 3, 4, 5]\n",
        "random.shuffle(l)\n",
        "l"
      ],
      "execution_count": null,
      "outputs": [
        {
          "output_type": "execute_result",
          "data": {
            "text/plain": [
              "[2, 4, 3, 1, 5]"
            ]
          },
          "metadata": {},
          "execution_count": 171
        }
      ]
    },
    {
      "cell_type": "code",
      "metadata": {
        "id": "BVeIwZNKoWeL",
        "colab": {
          "base_uri": "https://localhost:8080/"
        },
        "outputId": "cb015a6b-8604-4d54-afb9-167e46d5a671"
      },
      "source": [
        "l = [1, 2, 3, 4, 5]\n",
        "random.shuffle(l)\n",
        "l"
      ],
      "execution_count": null,
      "outputs": [
        {
          "output_type": "execute_result",
          "data": {
            "text/plain": [
              "[2, 4, 5, 3, 1]"
            ]
          },
          "metadata": {},
          "execution_count": 172
        }
      ]
    },
    {
      "cell_type": "code",
      "metadata": {
        "id": "1CCELpaBoWeM",
        "colab": {
          "base_uri": "https://localhost:8080/"
        },
        "outputId": "ba4be61c-f21d-4aa0-c7dd-b3591d23d13e"
      },
      "source": [
        "random.seed(1234)\n",
        "l = [1, 2, 3, 4, 5]\n",
        "random.shuffle(l)\n",
        "l"
      ],
      "execution_count": null,
      "outputs": [
        {
          "output_type": "execute_result",
          "data": {
            "text/plain": [
              "[2, 3, 5, 1, 4]"
            ]
          },
          "metadata": {},
          "execution_count": 173
        }
      ]
    },
    {
      "cell_type": "code",
      "metadata": {
        "id": "AMumYO2LoWeM",
        "colab": {
          "base_uri": "https://localhost:8080/"
        },
        "outputId": "c869b2b9-9926-45ea-c4da-697537b92d2a"
      },
      "source": [
        "l = [1, 2, 3, 4, 5]\n",
        "random.shuffle(l)\n",
        "l"
      ],
      "execution_count": null,
      "outputs": [
        {
          "output_type": "execute_result",
          "data": {
            "text/plain": [
              "[2, 4, 3, 1, 5]"
            ]
          },
          "metadata": {},
          "execution_count": 174
        }
      ]
    },
    {
      "cell_type": "code",
      "metadata": {
        "id": "bJe4wx2roWeM",
        "colab": {
          "base_uri": "https://localhost:8080/"
        },
        "outputId": "e3d4bf4f-d644-4b47-fa02-04acbf7334f3"
      },
      "source": [
        "l = [1, 2, 3, 4, 5]\n",
        "random.shuffle(l)\n",
        "l"
      ],
      "execution_count": null,
      "outputs": [
        {
          "output_type": "execute_result",
          "data": {
            "text/plain": [
              "[2, 4, 5, 3, 1]"
            ]
          },
          "metadata": {},
          "execution_count": 175
        }
      ]
    },
    {
      "cell_type": "code",
      "metadata": {
        "id": "qsIPTKnIoWeM"
      },
      "source": [
        "def randSplit(dataSet, rate):\n",
        "    l = list(dataSet.index)\n",
        "    random.shuffle(l)\n",
        "    dataSet.index = l\n",
        "    n = dataSet.shape[0]\n",
        "    m = int(n * rate)\n",
        "    train = dataSet.loc[range(m), :]\n",
        "    test = dataSet.loc[range(m, n), :]\n",
        "    dataSet.index = range(dataSet.shape[0])\n",
        "    test.index = range(test.shape[0])\n",
        "    return train, test"
      ],
      "execution_count": null,
      "outputs": []
    },
    {
      "cell_type": "code",
      "metadata": {
        "id": "Io_WAA4HoWeM"
      },
      "source": [
        "train, test = randSplit(iris, 0.8)"
      ],
      "execution_count": null,
      "outputs": []
    },
    {
      "cell_type": "code",
      "metadata": {
        "id": "xsNp-bzcoWeN",
        "colab": {
          "base_uri": "https://localhost:8080/"
        },
        "outputId": "5c4bc8b7-5c6a-4f5b-c56c-aa44d36710bf"
      },
      "source": [
        "train.shape"
      ],
      "execution_count": null,
      "outputs": [
        {
          "output_type": "execute_result",
          "data": {
            "text/plain": [
              "(120, 5)"
            ]
          },
          "metadata": {},
          "execution_count": 178
        }
      ]
    },
    {
      "cell_type": "code",
      "metadata": {
        "id": "4SwuyPdBoWeN"
      },
      "source": [
        "re1 = classify0_1(train,test,3)"
      ],
      "execution_count": null,
      "outputs": []
    },
    {
      "cell_type": "code",
      "metadata": {
        "id": "FUUdkiGHoWeN"
      },
      "source": [
        "result = classify0_1(train,test,3)"
      ],
      "execution_count": null,
      "outputs": []
    },
    {
      "cell_type": "code",
      "metadata": {
        "id": "zDlL57rvoWeN"
      },
      "source": [
        "m = result.shape[0]"
      ],
      "execution_count": null,
      "outputs": []
    },
    {
      "cell_type": "code",
      "metadata": {
        "id": "fL1LUDPAoWeN",
        "colab": {
          "base_uri": "https://localhost:8080/"
        },
        "outputId": "e7e391cc-7f16-4e3e-a0fd-b3bc918bd72a"
      },
      "source": [
        "m"
      ],
      "execution_count": null,
      "outputs": [
        {
          "output_type": "execute_result",
          "data": {
            "text/plain": [
              "30"
            ]
          },
          "metadata": {},
          "execution_count": 182
        }
      ]
    },
    {
      "cell_type": "code",
      "metadata": {
        "id": "NeZtooZZoWeN"
      },
      "source": [
        "res = (result.iloc[:, -1] == result.iloc[:, -2]).value_counts()"
      ],
      "execution_count": null,
      "outputs": []
    },
    {
      "cell_type": "code",
      "metadata": {
        "id": "gxwe-ZemoWeO",
        "colab": {
          "base_uri": "https://localhost:8080/"
        },
        "outputId": "cdbc9ab8-9ee3-4dcd-a78a-bca7f6bf9877"
      },
      "source": [
        "res"
      ],
      "execution_count": null,
      "outputs": [
        {
          "output_type": "execute_result",
          "data": {
            "text/plain": [
              "True    30\n",
              "dtype: int64"
            ]
          },
          "metadata": {},
          "execution_count": 184
        }
      ]
    },
    {
      "cell_type": "code",
      "metadata": {
        "id": "8kGrG22UoWeO",
        "colab": {
          "base_uri": "https://localhost:8080/"
        },
        "outputId": "80cb5b13-6942-43b2-f2d4-8e31c2c4806e"
      },
      "source": [
        "res.loc[True] / m"
      ],
      "execution_count": null,
      "outputs": [
        {
          "output_type": "execute_result",
          "data": {
            "text/plain": [
              "1.0"
            ]
          },
          "metadata": {},
          "execution_count": 185
        }
      ]
    },
    {
      "cell_type": "code",
      "metadata": {
        "id": "alRHheA9oWeO",
        "colab": {
          "base_uri": "https://localhost:8080/",
          "height": 142
        },
        "outputId": "a58a5389-4810-4d33-9f54-69fd4d8b4d06"
      },
      "source": [
        "dfTest = pd.DataFrame({'X1':[1, 2, 3], 'X2':[2, 7, 8]})\n",
        "dfTest"
      ],
      "execution_count": null,
      "outputs": [
        {
          "output_type": "execute_result",
          "data": {
            "text/html": [
              "<div>\n",
              "<style scoped>\n",
              "    .dataframe tbody tr th:only-of-type {\n",
              "        vertical-align: middle;\n",
              "    }\n",
              "\n",
              "    .dataframe tbody tr th {\n",
              "        vertical-align: top;\n",
              "    }\n",
              "\n",
              "    .dataframe thead th {\n",
              "        text-align: right;\n",
              "    }\n",
              "</style>\n",
              "<table border=\"1\" class=\"dataframe\">\n",
              "  <thead>\n",
              "    <tr style=\"text-align: right;\">\n",
              "      <th></th>\n",
              "      <th>X1</th>\n",
              "      <th>X2</th>\n",
              "    </tr>\n",
              "  </thead>\n",
              "  <tbody>\n",
              "    <tr>\n",
              "      <th>0</th>\n",
              "      <td>1</td>\n",
              "      <td>2</td>\n",
              "    </tr>\n",
              "    <tr>\n",
              "      <th>1</th>\n",
              "      <td>2</td>\n",
              "      <td>7</td>\n",
              "    </tr>\n",
              "    <tr>\n",
              "      <th>2</th>\n",
              "      <td>3</td>\n",
              "      <td>8</td>\n",
              "    </tr>\n",
              "  </tbody>\n",
              "</table>\n",
              "</div>"
            ],
            "text/plain": [
              "   X1  X2\n",
              "0   1   2\n",
              "1   2   7\n",
              "2   3   8"
            ]
          },
          "metadata": {},
          "execution_count": 186
        }
      ]
    },
    {
      "cell_type": "code",
      "metadata": {
        "id": "EN3_kfPtoWeO",
        "colab": {
          "base_uri": "https://localhost:8080/"
        },
        "outputId": "53813b72-a599-481b-b554-4e9ca63b4d77"
      },
      "source": [
        "dfTest.min(1)"
      ],
      "execution_count": null,
      "outputs": [
        {
          "output_type": "execute_result",
          "data": {
            "text/plain": [
              "0    1\n",
              "1    2\n",
              "2    3\n",
              "dtype: int64"
            ]
          },
          "metadata": {},
          "execution_count": 187
        }
      ]
    },
    {
      "cell_type": "code",
      "metadata": {
        "id": "65I8MxjToWeO",
        "colab": {
          "base_uri": "https://localhost:8080/"
        },
        "outputId": "aa325905-696c-4c65-b5ad-4fe0118f74b2"
      },
      "source": [
        "dfTest.max() - dfTest.min()"
      ],
      "execution_count": null,
      "outputs": [
        {
          "output_type": "execute_result",
          "data": {
            "text/plain": [
              "X1    2\n",
              "X2    6\n",
              "dtype: int64"
            ]
          },
          "metadata": {},
          "execution_count": 188
        }
      ]
    },
    {
      "cell_type": "code",
      "metadata": {
        "id": "MmOf6VXKoWeP",
        "colab": {
          "base_uri": "https://localhost:8080/"
        },
        "outputId": "3ad2c940-05b5-4376-b9e9-ed6f49a4dd35"
      },
      "source": [
        "dfTest.max()"
      ],
      "execution_count": null,
      "outputs": [
        {
          "output_type": "execute_result",
          "data": {
            "text/plain": [
              "X1    3\n",
              "X2    8\n",
              "dtype: int64"
            ]
          },
          "metadata": {},
          "execution_count": 189
        }
      ]
    },
    {
      "cell_type": "code",
      "metadata": {
        "id": "gxZL4tPAoWeP"
      },
      "source": [
        "maxDf = dfTest.max()\n",
        "minDf = dfTest.min()"
      ],
      "execution_count": null,
      "outputs": []
    },
    {
      "cell_type": "code",
      "metadata": {
        "id": "TarxBupLoWeP",
        "colab": {
          "base_uri": "https://localhost:8080/"
        },
        "outputId": "a4c97a61-dc44-4f32-9bb2-1ce590d971e9"
      },
      "source": [
        "minDf"
      ],
      "execution_count": null,
      "outputs": [
        {
          "output_type": "execute_result",
          "data": {
            "text/plain": [
              "X1    1\n",
              "X2    2\n",
              "dtype: int64"
            ]
          },
          "metadata": {},
          "execution_count": 191
        }
      ]
    },
    {
      "cell_type": "code",
      "metadata": {
        "id": "INaKs67boWeP",
        "colab": {
          "base_uri": "https://localhost:8080/",
          "height": 142
        },
        "outputId": "5e5c7de8-8db9-4878-fed9-b52cfdfc3984"
      },
      "source": [
        "dfTest"
      ],
      "execution_count": null,
      "outputs": [
        {
          "output_type": "execute_result",
          "data": {
            "text/html": [
              "<div>\n",
              "<style scoped>\n",
              "    .dataframe tbody tr th:only-of-type {\n",
              "        vertical-align: middle;\n",
              "    }\n",
              "\n",
              "    .dataframe tbody tr th {\n",
              "        vertical-align: top;\n",
              "    }\n",
              "\n",
              "    .dataframe thead th {\n",
              "        text-align: right;\n",
              "    }\n",
              "</style>\n",
              "<table border=\"1\" class=\"dataframe\">\n",
              "  <thead>\n",
              "    <tr style=\"text-align: right;\">\n",
              "      <th></th>\n",
              "      <th>X1</th>\n",
              "      <th>X2</th>\n",
              "    </tr>\n",
              "  </thead>\n",
              "  <tbody>\n",
              "    <tr>\n",
              "      <th>0</th>\n",
              "      <td>1</td>\n",
              "      <td>2</td>\n",
              "    </tr>\n",
              "    <tr>\n",
              "      <th>1</th>\n",
              "      <td>2</td>\n",
              "      <td>7</td>\n",
              "    </tr>\n",
              "    <tr>\n",
              "      <th>2</th>\n",
              "      <td>3</td>\n",
              "      <td>8</td>\n",
              "    </tr>\n",
              "  </tbody>\n",
              "</table>\n",
              "</div>"
            ],
            "text/plain": [
              "   X1  X2\n",
              "0   1   2\n",
              "1   2   7\n",
              "2   3   8"
            ]
          },
          "metadata": {},
          "execution_count": 192
        }
      ]
    },
    {
      "cell_type": "code",
      "metadata": {
        "id": "7CORDsS4oWeP",
        "colab": {
          "base_uri": "https://localhost:8080/"
        },
        "outputId": "8b9933f4-bb9c-471d-accc-4621a933f27d"
      },
      "source": [
        "dfTest.max() - dfTest.min()"
      ],
      "execution_count": null,
      "outputs": [
        {
          "output_type": "execute_result",
          "data": {
            "text/plain": [
              "X1    2\n",
              "X2    6\n",
              "dtype: int64"
            ]
          },
          "metadata": {},
          "execution_count": 193
        }
      ]
    },
    {
      "cell_type": "code",
      "metadata": {
        "id": "2mdqf6Y2oWeP",
        "colab": {
          "base_uri": "https://localhost:8080/",
          "height": 142
        },
        "outputId": "326cf589-35e1-46ef-d390-72e1c61c7b64"
      },
      "source": [
        "(dfTest - dfTest.min()) / (dfTest.max() - dfTest.min())"
      ],
      "execution_count": null,
      "outputs": [
        {
          "output_type": "execute_result",
          "data": {
            "text/html": [
              "<div>\n",
              "<style scoped>\n",
              "    .dataframe tbody tr th:only-of-type {\n",
              "        vertical-align: middle;\n",
              "    }\n",
              "\n",
              "    .dataframe tbody tr th {\n",
              "        vertical-align: top;\n",
              "    }\n",
              "\n",
              "    .dataframe thead th {\n",
              "        text-align: right;\n",
              "    }\n",
              "</style>\n",
              "<table border=\"1\" class=\"dataframe\">\n",
              "  <thead>\n",
              "    <tr style=\"text-align: right;\">\n",
              "      <th></th>\n",
              "      <th>X1</th>\n",
              "      <th>X2</th>\n",
              "    </tr>\n",
              "  </thead>\n",
              "  <tbody>\n",
              "    <tr>\n",
              "      <th>0</th>\n",
              "      <td>0.0</td>\n",
              "      <td>0.000000</td>\n",
              "    </tr>\n",
              "    <tr>\n",
              "      <th>1</th>\n",
              "      <td>0.5</td>\n",
              "      <td>0.833333</td>\n",
              "    </tr>\n",
              "    <tr>\n",
              "      <th>2</th>\n",
              "      <td>1.0</td>\n",
              "      <td>1.000000</td>\n",
              "    </tr>\n",
              "  </tbody>\n",
              "</table>\n",
              "</div>"
            ],
            "text/plain": [
              "    X1        X2\n",
              "0  0.0  0.000000\n",
              "1  0.5  0.833333\n",
              "2  1.0  1.000000"
            ]
          },
          "metadata": {},
          "execution_count": 194
        }
      ]
    },
    {
      "cell_type": "code",
      "metadata": {
        "id": "BhHDPH0ioWeQ",
        "colab": {
          "base_uri": "https://localhost:8080/",
          "height": 142
        },
        "outputId": "910966cd-f9a1-4226-d861-e98861c6033a"
      },
      "source": [
        "(dfTest - minDf) / (maxDf - minDf)"
      ],
      "execution_count": null,
      "outputs": [
        {
          "output_type": "execute_result",
          "data": {
            "text/html": [
              "<div>\n",
              "<style scoped>\n",
              "    .dataframe tbody tr th:only-of-type {\n",
              "        vertical-align: middle;\n",
              "    }\n",
              "\n",
              "    .dataframe tbody tr th {\n",
              "        vertical-align: top;\n",
              "    }\n",
              "\n",
              "    .dataframe thead th {\n",
              "        text-align: right;\n",
              "    }\n",
              "</style>\n",
              "<table border=\"1\" class=\"dataframe\">\n",
              "  <thead>\n",
              "    <tr style=\"text-align: right;\">\n",
              "      <th></th>\n",
              "      <th>X1</th>\n",
              "      <th>X2</th>\n",
              "    </tr>\n",
              "  </thead>\n",
              "  <tbody>\n",
              "    <tr>\n",
              "      <th>0</th>\n",
              "      <td>0.0</td>\n",
              "      <td>0.000000</td>\n",
              "    </tr>\n",
              "    <tr>\n",
              "      <th>1</th>\n",
              "      <td>0.5</td>\n",
              "      <td>0.833333</td>\n",
              "    </tr>\n",
              "    <tr>\n",
              "      <th>2</th>\n",
              "      <td>1.0</td>\n",
              "      <td>1.000000</td>\n",
              "    </tr>\n",
              "  </tbody>\n",
              "</table>\n",
              "</div>"
            ],
            "text/plain": [
              "    X1        X2\n",
              "0  0.0  0.000000\n",
              "1  0.5  0.833333\n",
              "2  1.0  1.000000"
            ]
          },
          "metadata": {},
          "execution_count": 195
        }
      ]
    },
    {
      "cell_type": "code",
      "metadata": {
        "id": "2NsLveC-oWeQ",
        "colab": {
          "base_uri": "https://localhost:8080/",
          "height": 142
        },
        "outputId": "a9f0e1de-8e01-477d-bad1-aa0ebfaeea31"
      },
      "source": [
        "dfTest"
      ],
      "execution_count": null,
      "outputs": [
        {
          "output_type": "execute_result",
          "data": {
            "text/html": [
              "<div>\n",
              "<style scoped>\n",
              "    .dataframe tbody tr th:only-of-type {\n",
              "        vertical-align: middle;\n",
              "    }\n",
              "\n",
              "    .dataframe tbody tr th {\n",
              "        vertical-align: top;\n",
              "    }\n",
              "\n",
              "    .dataframe thead th {\n",
              "        text-align: right;\n",
              "    }\n",
              "</style>\n",
              "<table border=\"1\" class=\"dataframe\">\n",
              "  <thead>\n",
              "    <tr style=\"text-align: right;\">\n",
              "      <th></th>\n",
              "      <th>X1</th>\n",
              "      <th>X2</th>\n",
              "    </tr>\n",
              "  </thead>\n",
              "  <tbody>\n",
              "    <tr>\n",
              "      <th>0</th>\n",
              "      <td>1</td>\n",
              "      <td>2</td>\n",
              "    </tr>\n",
              "    <tr>\n",
              "      <th>1</th>\n",
              "      <td>2</td>\n",
              "      <td>7</td>\n",
              "    </tr>\n",
              "    <tr>\n",
              "      <th>2</th>\n",
              "      <td>3</td>\n",
              "      <td>8</td>\n",
              "    </tr>\n",
              "  </tbody>\n",
              "</table>\n",
              "</div>"
            ],
            "text/plain": [
              "   X1  X2\n",
              "0   1   2\n",
              "1   2   7\n",
              "2   3   8"
            ]
          },
          "metadata": {},
          "execution_count": 196
        }
      ]
    },
    {
      "cell_type": "code",
      "metadata": {
        "id": "aPskWM61oWeQ"
      },
      "source": [
        "def MaxMinNormalization(dataSet):\n",
        "    maxDf = dataSet.max()\n",
        "    minDf = dataSet.min()\n",
        "    normSet = (dataSet - minDf) / (maxDf - minDf)\n",
        "    return normSet"
      ],
      "execution_count": null,
      "outputs": []
    },
    {
      "cell_type": "code",
      "metadata": {
        "id": "VymPaHY4oWeQ",
        "colab": {
          "base_uri": "https://localhost:8080/",
          "height": 142
        },
        "outputId": "5021ffdd-1780-4e58-b10f-60897c8a9fe2"
      },
      "source": [
        "MaxMinNormalization(dfTest)"
      ],
      "execution_count": null,
      "outputs": [
        {
          "output_type": "execute_result",
          "data": {
            "text/html": [
              "<div>\n",
              "<style scoped>\n",
              "    .dataframe tbody tr th:only-of-type {\n",
              "        vertical-align: middle;\n",
              "    }\n",
              "\n",
              "    .dataframe tbody tr th {\n",
              "        vertical-align: top;\n",
              "    }\n",
              "\n",
              "    .dataframe thead th {\n",
              "        text-align: right;\n",
              "    }\n",
              "</style>\n",
              "<table border=\"1\" class=\"dataframe\">\n",
              "  <thead>\n",
              "    <tr style=\"text-align: right;\">\n",
              "      <th></th>\n",
              "      <th>X1</th>\n",
              "      <th>X2</th>\n",
              "    </tr>\n",
              "  </thead>\n",
              "  <tbody>\n",
              "    <tr>\n",
              "      <th>0</th>\n",
              "      <td>0.0</td>\n",
              "      <td>0.000000</td>\n",
              "    </tr>\n",
              "    <tr>\n",
              "      <th>1</th>\n",
              "      <td>0.5</td>\n",
              "      <td>0.833333</td>\n",
              "    </tr>\n",
              "    <tr>\n",
              "      <th>2</th>\n",
              "      <td>1.0</td>\n",
              "      <td>1.000000</td>\n",
              "    </tr>\n",
              "  </tbody>\n",
              "</table>\n",
              "</div>"
            ],
            "text/plain": [
              "    X1        X2\n",
              "0  0.0  0.000000\n",
              "1  0.5  0.833333\n",
              "2  1.0  1.000000"
            ]
          },
          "metadata": {},
          "execution_count": 198
        }
      ]
    },
    {
      "cell_type": "code",
      "metadata": {
        "id": "2GEJFTcToWeQ"
      },
      "source": [
        "def Z_ScoreNormalization(dataSet):\n",
        "    stdDf = dataSet.std()\n",
        "    meanDf = dataSet.mean()\n",
        "    normSet = (dataSet - meanDf) / stdDf\n",
        "    return normSet"
      ],
      "execution_count": null,
      "outputs": []
    },
    {
      "cell_type": "code",
      "metadata": {
        "id": "P4uglq93oWeR",
        "colab": {
          "base_uri": "https://localhost:8080/",
          "height": 142
        },
        "outputId": "f58063e2-f275-4672-e440-17963e5881a3"
      },
      "source": [
        "Z_ScoreNormalization(dfTest)"
      ],
      "execution_count": null,
      "outputs": [
        {
          "output_type": "execute_result",
          "data": {
            "text/html": [
              "<div>\n",
              "<style scoped>\n",
              "    .dataframe tbody tr th:only-of-type {\n",
              "        vertical-align: middle;\n",
              "    }\n",
              "\n",
              "    .dataframe tbody tr th {\n",
              "        vertical-align: top;\n",
              "    }\n",
              "\n",
              "    .dataframe thead th {\n",
              "        text-align: right;\n",
              "    }\n",
              "</style>\n",
              "<table border=\"1\" class=\"dataframe\">\n",
              "  <thead>\n",
              "    <tr style=\"text-align: right;\">\n",
              "      <th></th>\n",
              "      <th>X1</th>\n",
              "      <th>X2</th>\n",
              "    </tr>\n",
              "  </thead>\n",
              "  <tbody>\n",
              "    <tr>\n",
              "      <th>0</th>\n",
              "      <td>-1.0</td>\n",
              "      <td>-1.140647</td>\n",
              "    </tr>\n",
              "    <tr>\n",
              "      <th>1</th>\n",
              "      <td>0.0</td>\n",
              "      <td>0.414781</td>\n",
              "    </tr>\n",
              "    <tr>\n",
              "      <th>2</th>\n",
              "      <td>1.0</td>\n",
              "      <td>0.725866</td>\n",
              "    </tr>\n",
              "  </tbody>\n",
              "</table>\n",
              "</div>"
            ],
            "text/plain": [
              "    X1        X2\n",
              "0 -1.0 -1.140647\n",
              "1  0.0  0.414781\n",
              "2  1.0  0.725866"
            ]
          },
          "metadata": {},
          "execution_count": 200
        }
      ]
    },
    {
      "cell_type": "code",
      "metadata": {
        "id": "wKoDuF6doWeR"
      },
      "source": [
        "datingTest = pd.read_table('datingTestSet.txt', header = None)"
      ],
      "execution_count": null,
      "outputs": []
    },
    {
      "cell_type": "code",
      "metadata": {
        "id": "0cr4_mfMoWeR",
        "colab": {
          "base_uri": "https://localhost:8080/",
          "height": 203
        },
        "outputId": "62df1352-849f-48b5-feee-193513ed2d0b"
      },
      "source": [
        "datingTest.head()"
      ],
      "execution_count": null,
      "outputs": [
        {
          "output_type": "execute_result",
          "data": {
            "text/html": [
              "<div>\n",
              "<style scoped>\n",
              "    .dataframe tbody tr th:only-of-type {\n",
              "        vertical-align: middle;\n",
              "    }\n",
              "\n",
              "    .dataframe tbody tr th {\n",
              "        vertical-align: top;\n",
              "    }\n",
              "\n",
              "    .dataframe thead th {\n",
              "        text-align: right;\n",
              "    }\n",
              "</style>\n",
              "<table border=\"1\" class=\"dataframe\">\n",
              "  <thead>\n",
              "    <tr style=\"text-align: right;\">\n",
              "      <th></th>\n",
              "      <th>0</th>\n",
              "      <th>1</th>\n",
              "      <th>2</th>\n",
              "      <th>3</th>\n",
              "    </tr>\n",
              "  </thead>\n",
              "  <tbody>\n",
              "    <tr>\n",
              "      <th>0</th>\n",
              "      <td>40920</td>\n",
              "      <td>8.326976</td>\n",
              "      <td>0.953952</td>\n",
              "      <td>largeDoses</td>\n",
              "    </tr>\n",
              "    <tr>\n",
              "      <th>1</th>\n",
              "      <td>14488</td>\n",
              "      <td>7.153469</td>\n",
              "      <td>1.673904</td>\n",
              "      <td>smallDoses</td>\n",
              "    </tr>\n",
              "    <tr>\n",
              "      <th>2</th>\n",
              "      <td>26052</td>\n",
              "      <td>1.441871</td>\n",
              "      <td>0.805124</td>\n",
              "      <td>didntLike</td>\n",
              "    </tr>\n",
              "    <tr>\n",
              "      <th>3</th>\n",
              "      <td>75136</td>\n",
              "      <td>13.147394</td>\n",
              "      <td>0.428964</td>\n",
              "      <td>didntLike</td>\n",
              "    </tr>\n",
              "    <tr>\n",
              "      <th>4</th>\n",
              "      <td>38344</td>\n",
              "      <td>1.669788</td>\n",
              "      <td>0.134296</td>\n",
              "      <td>didntLike</td>\n",
              "    </tr>\n",
              "  </tbody>\n",
              "</table>\n",
              "</div>"
            ],
            "text/plain": [
              "       0          1         2           3\n",
              "0  40920   8.326976  0.953952  largeDoses\n",
              "1  14488   7.153469  1.673904  smallDoses\n",
              "2  26052   1.441871  0.805124   didntLike\n",
              "3  75136  13.147394  0.428964   didntLike\n",
              "4  38344   1.669788  0.134296   didntLike"
            ]
          },
          "metadata": {},
          "execution_count": 202
        }
      ]
    },
    {
      "cell_type": "code",
      "metadata": {
        "id": "wXShjXvXoWeR",
        "colab": {
          "base_uri": "https://localhost:8080/"
        },
        "outputId": "b09ec973-822a-45b9-d3fb-5ab12a4def53"
      },
      "source": [
        "datingTest.shape"
      ],
      "execution_count": null,
      "outputs": [
        {
          "output_type": "execute_result",
          "data": {
            "text/plain": [
              "(1000, 4)"
            ]
          },
          "metadata": {},
          "execution_count": 203
        }
      ]
    },
    {
      "cell_type": "code",
      "metadata": {
        "id": "SkX7OhueoWeS",
        "colab": {
          "base_uri": "https://localhost:8080/",
          "height": 203
        },
        "outputId": "f3e7ec3e-4b62-4ca4-8117-26e4eefd7bb5"
      },
      "source": [
        "datingT = pd.concat([MaxMinNormalization(datingTest.iloc[:, :3]),datingTest.iloc[:, 3]], axis=1)\n",
        "datingT.head()"
      ],
      "execution_count": null,
      "outputs": [
        {
          "output_type": "execute_result",
          "data": {
            "text/html": [
              "<div>\n",
              "<style scoped>\n",
              "    .dataframe tbody tr th:only-of-type {\n",
              "        vertical-align: middle;\n",
              "    }\n",
              "\n",
              "    .dataframe tbody tr th {\n",
              "        vertical-align: top;\n",
              "    }\n",
              "\n",
              "    .dataframe thead th {\n",
              "        text-align: right;\n",
              "    }\n",
              "</style>\n",
              "<table border=\"1\" class=\"dataframe\">\n",
              "  <thead>\n",
              "    <tr style=\"text-align: right;\">\n",
              "      <th></th>\n",
              "      <th>0</th>\n",
              "      <th>1</th>\n",
              "      <th>2</th>\n",
              "      <th>3</th>\n",
              "    </tr>\n",
              "  </thead>\n",
              "  <tbody>\n",
              "    <tr>\n",
              "      <th>0</th>\n",
              "      <td>0.448325</td>\n",
              "      <td>0.398051</td>\n",
              "      <td>0.562334</td>\n",
              "      <td>largeDoses</td>\n",
              "    </tr>\n",
              "    <tr>\n",
              "      <th>1</th>\n",
              "      <td>0.158733</td>\n",
              "      <td>0.341955</td>\n",
              "      <td>0.987244</td>\n",
              "      <td>smallDoses</td>\n",
              "    </tr>\n",
              "    <tr>\n",
              "      <th>2</th>\n",
              "      <td>0.285429</td>\n",
              "      <td>0.068925</td>\n",
              "      <td>0.474496</td>\n",
              "      <td>didntLike</td>\n",
              "    </tr>\n",
              "    <tr>\n",
              "      <th>3</th>\n",
              "      <td>0.823201</td>\n",
              "      <td>0.628480</td>\n",
              "      <td>0.252489</td>\n",
              "      <td>didntLike</td>\n",
              "    </tr>\n",
              "    <tr>\n",
              "      <th>4</th>\n",
              "      <td>0.420102</td>\n",
              "      <td>0.079820</td>\n",
              "      <td>0.078578</td>\n",
              "      <td>didntLike</td>\n",
              "    </tr>\n",
              "  </tbody>\n",
              "</table>\n",
              "</div>"
            ],
            "text/plain": [
              "          0         1         2           3\n",
              "0  0.448325  0.398051  0.562334  largeDoses\n",
              "1  0.158733  0.341955  0.987244  smallDoses\n",
              "2  0.285429  0.068925  0.474496   didntLike\n",
              "3  0.823201  0.628480  0.252489   didntLike\n",
              "4  0.420102  0.079820  0.078578   didntLike"
            ]
          },
          "metadata": {},
          "execution_count": 204
        }
      ]
    },
    {
      "cell_type": "code",
      "metadata": {
        "id": "UdQQL9f7oWeS"
      },
      "source": [
        "dating_Train, dating_Test = randSplit(datingT, 0.8)"
      ],
      "execution_count": null,
      "outputs": []
    },
    {
      "cell_type": "code",
      "metadata": {
        "id": "WSh7PgeuoWeS",
        "colab": {
          "base_uri": "https://localhost:8080/",
          "height": 203
        },
        "outputId": "20403009-b9a7-4192-9e9b-1cf629d99da2"
      },
      "source": [
        "dating_Train.head()"
      ],
      "execution_count": null,
      "outputs": [
        {
          "output_type": "execute_result",
          "data": {
            "text/html": [
              "<div>\n",
              "<style scoped>\n",
              "    .dataframe tbody tr th:only-of-type {\n",
              "        vertical-align: middle;\n",
              "    }\n",
              "\n",
              "    .dataframe tbody tr th {\n",
              "        vertical-align: top;\n",
              "    }\n",
              "\n",
              "    .dataframe thead th {\n",
              "        text-align: right;\n",
              "    }\n",
              "</style>\n",
              "<table border=\"1\" class=\"dataframe\">\n",
              "  <thead>\n",
              "    <tr style=\"text-align: right;\">\n",
              "      <th></th>\n",
              "      <th>0</th>\n",
              "      <th>1</th>\n",
              "      <th>2</th>\n",
              "      <th>3</th>\n",
              "    </tr>\n",
              "  </thead>\n",
              "  <tbody>\n",
              "    <tr>\n",
              "      <th>0</th>\n",
              "      <td>0.622265</td>\n",
              "      <td>0.189601</td>\n",
              "      <td>0.501224</td>\n",
              "      <td>didntLike</td>\n",
              "    </tr>\n",
              "    <tr>\n",
              "      <th>1</th>\n",
              "      <td>0.664085</td>\n",
              "      <td>0.173051</td>\n",
              "      <td>0.169156</td>\n",
              "      <td>didntLike</td>\n",
              "    </tr>\n",
              "    <tr>\n",
              "      <th>2</th>\n",
              "      <td>0.130301</td>\n",
              "      <td>0.133239</td>\n",
              "      <td>0.926158</td>\n",
              "      <td>smallDoses</td>\n",
              "    </tr>\n",
              "    <tr>\n",
              "      <th>3</th>\n",
              "      <td>0.313127</td>\n",
              "      <td>0.510447</td>\n",
              "      <td>0.844378</td>\n",
              "      <td>largeDoses</td>\n",
              "    </tr>\n",
              "    <tr>\n",
              "      <th>4</th>\n",
              "      <td>0.341043</td>\n",
              "      <td>0.564879</td>\n",
              "      <td>0.113696</td>\n",
              "      <td>largeDoses</td>\n",
              "    </tr>\n",
              "  </tbody>\n",
              "</table>\n",
              "</div>"
            ],
            "text/plain": [
              "          0         1         2           3\n",
              "0  0.622265  0.189601  0.501224   didntLike\n",
              "1  0.664085  0.173051  0.169156   didntLike\n",
              "2  0.130301  0.133239  0.926158  smallDoses\n",
              "3  0.313127  0.510447  0.844378  largeDoses\n",
              "4  0.341043  0.564879  0.113696  largeDoses"
            ]
          },
          "metadata": {},
          "execution_count": 206
        }
      ]
    },
    {
      "cell_type": "code",
      "metadata": {
        "id": "Qso5MTVRoWeS",
        "colab": {
          "base_uri": "https://localhost:8080/",
          "height": 203
        },
        "outputId": "850de427-22fb-4d84-b82e-eeb2b33db330"
      },
      "source": [
        "dating_Test.head()"
      ],
      "execution_count": null,
      "outputs": [
        {
          "output_type": "execute_result",
          "data": {
            "text/html": [
              "<div>\n",
              "<style scoped>\n",
              "    .dataframe tbody tr th:only-of-type {\n",
              "        vertical-align: middle;\n",
              "    }\n",
              "\n",
              "    .dataframe tbody tr th {\n",
              "        vertical-align: top;\n",
              "    }\n",
              "\n",
              "    .dataframe thead th {\n",
              "        text-align: right;\n",
              "    }\n",
              "</style>\n",
              "<table border=\"1\" class=\"dataframe\">\n",
              "  <thead>\n",
              "    <tr style=\"text-align: right;\">\n",
              "      <th></th>\n",
              "      <th>0</th>\n",
              "      <th>1</th>\n",
              "      <th>2</th>\n",
              "      <th>3</th>\n",
              "    </tr>\n",
              "  </thead>\n",
              "  <tbody>\n",
              "    <tr>\n",
              "      <th>0</th>\n",
              "      <td>0.354004</td>\n",
              "      <td>0.108129</td>\n",
              "      <td>0.946933</td>\n",
              "      <td>didntLike</td>\n",
              "    </tr>\n",
              "    <tr>\n",
              "      <th>1</th>\n",
              "      <td>0.476987</td>\n",
              "      <td>0.394552</td>\n",
              "      <td>0.441195</td>\n",
              "      <td>largeDoses</td>\n",
              "    </tr>\n",
              "    <tr>\n",
              "      <th>2</th>\n",
              "      <td>0.303901</td>\n",
              "      <td>0.407939</td>\n",
              "      <td>0.120499</td>\n",
              "      <td>largeDoses</td>\n",
              "    </tr>\n",
              "    <tr>\n",
              "      <th>3</th>\n",
              "      <td>0.420091</td>\n",
              "      <td>0.346168</td>\n",
              "      <td>0.979998</td>\n",
              "      <td>largeDoses</td>\n",
              "    </tr>\n",
              "    <tr>\n",
              "      <th>4</th>\n",
              "      <td>0.095570</td>\n",
              "      <td>0.111920</td>\n",
              "      <td>0.128783</td>\n",
              "      <td>smallDoses</td>\n",
              "    </tr>\n",
              "  </tbody>\n",
              "</table>\n",
              "</div>"
            ],
            "text/plain": [
              "          0         1         2           3\n",
              "0  0.354004  0.108129  0.946933   didntLike\n",
              "1  0.476987  0.394552  0.441195  largeDoses\n",
              "2  0.303901  0.407939  0.120499  largeDoses\n",
              "3  0.420091  0.346168  0.979998  largeDoses\n",
              "4  0.095570  0.111920  0.128783  smallDoses"
            ]
          },
          "metadata": {},
          "execution_count": 207
        }
      ]
    },
    {
      "cell_type": "code",
      "metadata": {
        "id": "yki9-LZ0oWeS"
      },
      "source": [
        "result = classify0_1(dating_Train, dating_Test, 3)"
      ],
      "execution_count": null,
      "outputs": []
    },
    {
      "cell_type": "code",
      "metadata": {
        "id": "fPagrWcjoWeT"
      },
      "source": [
        "res = (result.iloc[:, -1] == result.iloc[:, -2]).value_counts()"
      ],
      "execution_count": null,
      "outputs": []
    },
    {
      "cell_type": "code",
      "metadata": {
        "id": "BMkDwyCgoWeT",
        "colab": {
          "base_uri": "https://localhost:8080/"
        },
        "outputId": "7c318e08-bb75-4fb2-c4a2-6d09a2e471ef"
      },
      "source": [
        "res"
      ],
      "execution_count": null,
      "outputs": [
        {
          "output_type": "execute_result",
          "data": {
            "text/plain": [
              "True     187\n",
              "False     13\n",
              "dtype: int64"
            ]
          },
          "metadata": {},
          "execution_count": 210
        }
      ]
    },
    {
      "cell_type": "code",
      "metadata": {
        "id": "angAAhQ_oWeU",
        "colab": {
          "base_uri": "https://localhost:8080/"
        },
        "outputId": "ba086ab2-8ac5-4fab-bd9f-8f072d537868"
      },
      "source": [
        "res.loc[True] / 200"
      ],
      "execution_count": null,
      "outputs": [
        {
          "output_type": "execute_result",
          "data": {
            "text/plain": [
              "0.935"
            ]
          },
          "metadata": {},
          "execution_count": 211
        }
      ]
    },
    {
      "cell_type": "code",
      "metadata": {
        "id": "h3RtZrHjoWeU"
      },
      "source": [
        "def accuracyCalculation(dataSet):\n",
        "    m = dataSet.shape[0]\n",
        "    res = (dataSet.iloc[:, -1] == dataSet.iloc[:, -2]).value_counts()\n",
        "    acc = res.loc[True] / m\n",
        "    print(\"Model accuracy is %f\" % acc)\n",
        "    return acc"
      ],
      "execution_count": null,
      "outputs": []
    },
    {
      "cell_type": "code",
      "metadata": {
        "id": "HidiKkeqoWeU"
      },
      "source": [
        "train, test = randSplit(datingTest, 0.8)"
      ],
      "execution_count": null,
      "outputs": []
    },
    {
      "cell_type": "code",
      "metadata": {
        "id": "h33VW9FPoWeU"
      },
      "source": [
        "re0 = classify0_1(train,test,3)"
      ],
      "execution_count": null,
      "outputs": []
    },
    {
      "cell_type": "code",
      "metadata": {
        "id": "S6vdLsIUoWeU",
        "colab": {
          "base_uri": "https://localhost:8080/"
        },
        "outputId": "a25804f2-5c04-4e5a-a112-4b0966e78ec9"
      },
      "source": [
        "accuracyCalculation(re0) "
      ],
      "execution_count": null,
      "outputs": [
        {
          "output_type": "stream",
          "name": "stdout",
          "text": [
            "Model accuracy is 0.785000\n"
          ]
        },
        {
          "output_type": "execute_result",
          "data": {
            "text/plain": [
              "0.785"
            ]
          },
          "metadata": {},
          "execution_count": 215
        }
      ]
    },
    {
      "cell_type": "code",
      "metadata": {
        "id": "-8a_QcSjoWeV",
        "colab": {
          "base_uri": "https://localhost:8080/"
        },
        "outputId": "850134ab-b66c-439d-df8e-619edfb236fe"
      },
      "source": [
        "accuracyCalculation(result)"
      ],
      "execution_count": null,
      "outputs": [
        {
          "output_type": "stream",
          "name": "stdout",
          "text": [
            "Model accuracy is 0.935000\n"
          ]
        },
        {
          "output_type": "execute_result",
          "data": {
            "text/plain": [
              "0.935"
            ]
          },
          "metadata": {},
          "execution_count": 216
        }
      ]
    },
    {
      "cell_type": "code",
      "metadata": {
        "id": "tP64lgh6oWeV",
        "colab": {
          "base_uri": "https://localhost:8080/",
          "height": 203
        },
        "outputId": "cce8c6a9-cd38-4233-aa12-df27eeb7c2bb"
      },
      "source": [
        "datingT.head()"
      ],
      "execution_count": null,
      "outputs": [
        {
          "output_type": "execute_result",
          "data": {
            "text/html": [
              "<div>\n",
              "<style scoped>\n",
              "    .dataframe tbody tr th:only-of-type {\n",
              "        vertical-align: middle;\n",
              "    }\n",
              "\n",
              "    .dataframe tbody tr th {\n",
              "        vertical-align: top;\n",
              "    }\n",
              "\n",
              "    .dataframe thead th {\n",
              "        text-align: right;\n",
              "    }\n",
              "</style>\n",
              "<table border=\"1\" class=\"dataframe\">\n",
              "  <thead>\n",
              "    <tr style=\"text-align: right;\">\n",
              "      <th></th>\n",
              "      <th>0</th>\n",
              "      <th>1</th>\n",
              "      <th>2</th>\n",
              "      <th>3</th>\n",
              "    </tr>\n",
              "  </thead>\n",
              "  <tbody>\n",
              "    <tr>\n",
              "      <th>0</th>\n",
              "      <td>0.448325</td>\n",
              "      <td>0.398051</td>\n",
              "      <td>0.562334</td>\n",
              "      <td>largeDoses</td>\n",
              "    </tr>\n",
              "    <tr>\n",
              "      <th>1</th>\n",
              "      <td>0.158733</td>\n",
              "      <td>0.341955</td>\n",
              "      <td>0.987244</td>\n",
              "      <td>smallDoses</td>\n",
              "    </tr>\n",
              "    <tr>\n",
              "      <th>2</th>\n",
              "      <td>0.285429</td>\n",
              "      <td>0.068925</td>\n",
              "      <td>0.474496</td>\n",
              "      <td>didntLike</td>\n",
              "    </tr>\n",
              "    <tr>\n",
              "      <th>3</th>\n",
              "      <td>0.823201</td>\n",
              "      <td>0.628480</td>\n",
              "      <td>0.252489</td>\n",
              "      <td>didntLike</td>\n",
              "    </tr>\n",
              "    <tr>\n",
              "      <th>4</th>\n",
              "      <td>0.420102</td>\n",
              "      <td>0.079820</td>\n",
              "      <td>0.078578</td>\n",
              "      <td>didntLike</td>\n",
              "    </tr>\n",
              "  </tbody>\n",
              "</table>\n",
              "</div>"
            ],
            "text/plain": [
              "          0         1         2           3\n",
              "0  0.448325  0.398051  0.562334  largeDoses\n",
              "1  0.158733  0.341955  0.987244  smallDoses\n",
              "2  0.285429  0.068925  0.474496   didntLike\n",
              "3  0.823201  0.628480  0.252489   didntLike\n",
              "4  0.420102  0.079820  0.078578   didntLike"
            ]
          },
          "metadata": {},
          "execution_count": 217
        }
      ]
    },
    {
      "cell_type": "code",
      "metadata": {
        "id": "VvGQPtO7oWeV"
      },
      "source": [
        "cla = (datingT.iloc[:, 3] == 'smallDoses') | (datingT.iloc[:, 3] == 'didntLike')"
      ],
      "execution_count": null,
      "outputs": []
    },
    {
      "cell_type": "code",
      "metadata": {
        "id": "SlGOIAwUoWeV"
      },
      "source": [
        "dating_part = datingT.loc[cla,]"
      ],
      "execution_count": null,
      "outputs": []
    },
    {
      "cell_type": "code",
      "metadata": {
        "id": "HHR3io4SoWeV",
        "colab": {
          "base_uri": "https://localhost:8080/",
          "height": 203
        },
        "outputId": "e0db3c82-b32e-4ffb-eaa4-1486eaa66151"
      },
      "source": [
        "dating_part.head()"
      ],
      "execution_count": null,
      "outputs": [
        {
          "output_type": "execute_result",
          "data": {
            "text/html": [
              "<div>\n",
              "<style scoped>\n",
              "    .dataframe tbody tr th:only-of-type {\n",
              "        vertical-align: middle;\n",
              "    }\n",
              "\n",
              "    .dataframe tbody tr th {\n",
              "        vertical-align: top;\n",
              "    }\n",
              "\n",
              "    .dataframe thead th {\n",
              "        text-align: right;\n",
              "    }\n",
              "</style>\n",
              "<table border=\"1\" class=\"dataframe\">\n",
              "  <thead>\n",
              "    <tr style=\"text-align: right;\">\n",
              "      <th></th>\n",
              "      <th>0</th>\n",
              "      <th>1</th>\n",
              "      <th>2</th>\n",
              "      <th>3</th>\n",
              "    </tr>\n",
              "  </thead>\n",
              "  <tbody>\n",
              "    <tr>\n",
              "      <th>1</th>\n",
              "      <td>0.158733</td>\n",
              "      <td>0.341955</td>\n",
              "      <td>0.987244</td>\n",
              "      <td>smallDoses</td>\n",
              "    </tr>\n",
              "    <tr>\n",
              "      <th>2</th>\n",
              "      <td>0.285429</td>\n",
              "      <td>0.068925</td>\n",
              "      <td>0.474496</td>\n",
              "      <td>didntLike</td>\n",
              "    </tr>\n",
              "    <tr>\n",
              "      <th>3</th>\n",
              "      <td>0.823201</td>\n",
              "      <td>0.628480</td>\n",
              "      <td>0.252489</td>\n",
              "      <td>didntLike</td>\n",
              "    </tr>\n",
              "    <tr>\n",
              "      <th>4</th>\n",
              "      <td>0.420102</td>\n",
              "      <td>0.079820</td>\n",
              "      <td>0.078578</td>\n",
              "      <td>didntLike</td>\n",
              "    </tr>\n",
              "    <tr>\n",
              "      <th>5</th>\n",
              "      <td>0.799722</td>\n",
              "      <td>0.484802</td>\n",
              "      <td>0.608961</td>\n",
              "      <td>didntLike</td>\n",
              "    </tr>\n",
              "  </tbody>\n",
              "</table>\n",
              "</div>"
            ],
            "text/plain": [
              "          0         1         2           3\n",
              "1  0.158733  0.341955  0.987244  smallDoses\n",
              "2  0.285429  0.068925  0.474496   didntLike\n",
              "3  0.823201  0.628480  0.252489   didntLike\n",
              "4  0.420102  0.079820  0.078578   didntLike\n",
              "5  0.799722  0.484802  0.608961   didntLike"
            ]
          },
          "metadata": {},
          "execution_count": 220
        }
      ]
    },
    {
      "cell_type": "code",
      "metadata": {
        "id": "W1tTUZcEoWeV",
        "colab": {
          "base_uri": "https://localhost:8080/"
        },
        "outputId": "af88b341-93f2-423e-e963-c571b43242db"
      },
      "source": [
        "dating_part.iloc[:, -1].value_counts()"
      ],
      "execution_count": null,
      "outputs": [
        {
          "output_type": "execute_result",
          "data": {
            "text/plain": [
              "didntLike     342\n",
              "smallDoses    331\n",
              "Name: 3, dtype: int64"
            ]
          },
          "metadata": {},
          "execution_count": 221
        }
      ]
    },
    {
      "cell_type": "code",
      "metadata": {
        "id": "BpH1VlO3oWeW"
      },
      "source": [
        "dating_part.index = range(dating_part.shape[0])"
      ],
      "execution_count": null,
      "outputs": []
    },
    {
      "cell_type": "code",
      "metadata": {
        "id": "4Hk1RbxxoWeW"
      },
      "source": [
        "train, test = randSplit(dating_part, 0.8)\n",
        "result = classify0_1(train, test, 3)"
      ],
      "execution_count": null,
      "outputs": []
    },
    {
      "cell_type": "code",
      "metadata": {
        "id": "V16wWV_JoWeW",
        "colab": {
          "base_uri": "https://localhost:8080/",
          "height": 203
        },
        "outputId": "e4bb06ad-1460-49f7-9084-3c7714897f48"
      },
      "source": [
        "result.head()"
      ],
      "execution_count": null,
      "outputs": [
        {
          "output_type": "execute_result",
          "data": {
            "text/html": [
              "<div>\n",
              "<style scoped>\n",
              "    .dataframe tbody tr th:only-of-type {\n",
              "        vertical-align: middle;\n",
              "    }\n",
              "\n",
              "    .dataframe tbody tr th {\n",
              "        vertical-align: top;\n",
              "    }\n",
              "\n",
              "    .dataframe thead th {\n",
              "        text-align: right;\n",
              "    }\n",
              "</style>\n",
              "<table border=\"1\" class=\"dataframe\">\n",
              "  <thead>\n",
              "    <tr style=\"text-align: right;\">\n",
              "      <th></th>\n",
              "      <th>0</th>\n",
              "      <th>1</th>\n",
              "      <th>2</th>\n",
              "      <th>3</th>\n",
              "      <th>predict</th>\n",
              "    </tr>\n",
              "  </thead>\n",
              "  <tbody>\n",
              "    <tr>\n",
              "      <th>0</th>\n",
              "      <td>0.612394</td>\n",
              "      <td>0.144724</td>\n",
              "      <td>0.521908</td>\n",
              "      <td>didntLike</td>\n",
              "      <td>didntLike</td>\n",
              "    </tr>\n",
              "    <tr>\n",
              "      <th>1</th>\n",
              "      <td>0.458011</td>\n",
              "      <td>0.073292</td>\n",
              "      <td>0.593926</td>\n",
              "      <td>didntLike</td>\n",
              "      <td>didntLike</td>\n",
              "    </tr>\n",
              "    <tr>\n",
              "      <th>2</th>\n",
              "      <td>0.949744</td>\n",
              "      <td>0.743678</td>\n",
              "      <td>0.843311</td>\n",
              "      <td>didntLike</td>\n",
              "      <td>didntLike</td>\n",
              "    </tr>\n",
              "    <tr>\n",
              "      <th>3</th>\n",
              "      <td>0.639773</td>\n",
              "      <td>0.265227</td>\n",
              "      <td>0.236716</td>\n",
              "      <td>didntLike</td>\n",
              "      <td>didntLike</td>\n",
              "    </tr>\n",
              "    <tr>\n",
              "      <th>4</th>\n",
              "      <td>0.099011</td>\n",
              "      <td>0.036975</td>\n",
              "      <td>0.677010</td>\n",
              "      <td>smallDoses</td>\n",
              "      <td>smallDoses</td>\n",
              "    </tr>\n",
              "  </tbody>\n",
              "</table>\n",
              "</div>"
            ],
            "text/plain": [
              "          0         1         2           3     predict\n",
              "0  0.612394  0.144724  0.521908   didntLike   didntLike\n",
              "1  0.458011  0.073292  0.593926   didntLike   didntLike\n",
              "2  0.949744  0.743678  0.843311   didntLike   didntLike\n",
              "3  0.639773  0.265227  0.236716   didntLike   didntLike\n",
              "4  0.099011  0.036975  0.677010  smallDoses  smallDoses"
            ]
          },
          "metadata": {},
          "execution_count": 224
        }
      ]
    },
    {
      "cell_type": "code",
      "metadata": {
        "id": "Ic_5l7saoWeW"
      },
      "source": [
        "TP = result.loc[(result.iloc[:, -1] == 'smallDoses') & (result.iloc[:, -2] == 'smallDoses'),].shape[0]\n",
        "FN = result.loc[(result.iloc[:, -1] == 'didntLike') & (result.iloc[:, -2] == 'smallDoses'),].shape[0]\n",
        "TN = result.loc[(result.iloc[:, -1] == 'didntLike') & (result.iloc[:, -2] == 'didntLike'),].shape[0]\n",
        "FP = result.loc[(result.iloc[:, -1] == 'smallDoses') & (result.iloc[:, -2] == 'didntLike'),].shape[0]"
      ],
      "execution_count": null,
      "outputs": []
    },
    {
      "cell_type": "code",
      "metadata": {
        "id": "AE69J2tioWeW"
      },
      "source": [
        "dating_ac = (TP + TN) / (TP + TN + FP + FN)"
      ],
      "execution_count": null,
      "outputs": []
    },
    {
      "cell_type": "code",
      "metadata": {
        "id": "5Bvo8rBdoWeW",
        "colab": {
          "base_uri": "https://localhost:8080/"
        },
        "outputId": "3dc6d900-75ca-449f-f391-aca4d1dafa3d"
      },
      "source": [
        "dating_ac"
      ],
      "execution_count": null,
      "outputs": [
        {
          "output_type": "execute_result",
          "data": {
            "text/plain": [
              "0.9777777777777777"
            ]
          },
          "metadata": {},
          "execution_count": 227
        }
      ]
    },
    {
      "cell_type": "code",
      "metadata": {
        "id": "zIDOGvoioWeW",
        "colab": {
          "base_uri": "https://localhost:8080/"
        },
        "outputId": "f1043985-6bbf-479b-e090-600743e3b1b9"
      },
      "source": [
        "accuracyCalculation(result)"
      ],
      "execution_count": null,
      "outputs": [
        {
          "output_type": "stream",
          "name": "stdout",
          "text": [
            "Model accuracy is 0.977778\n"
          ]
        },
        {
          "output_type": "execute_result",
          "data": {
            "text/plain": [
              "0.9777777777777777"
            ]
          },
          "metadata": {},
          "execution_count": 228
        }
      ]
    },
    {
      "cell_type": "code",
      "metadata": {
        "id": "JLD9hCVToWeX",
        "colab": {
          "base_uri": "https://localhost:8080/"
        },
        "outputId": "329c629b-60a3-46e9-fa12-cf29733de123"
      },
      "source": [
        "dating_pr = TP / (TP + FP)\n",
        "dating_pr"
      ],
      "execution_count": null,
      "outputs": [
        {
          "output_type": "execute_result",
          "data": {
            "text/plain": [
              "0.9848484848484849"
            ]
          },
          "metadata": {},
          "execution_count": 229
        }
      ]
    },
    {
      "cell_type": "code",
      "metadata": {
        "id": "fF7JCFj7oWeX",
        "colab": {
          "base_uri": "https://localhost:8080/"
        },
        "outputId": "4d3a1e83-ddb1-4b23-9f60-798cd997a02b"
      },
      "source": [
        "dating_re = TP / (TP + FN)\n",
        "dating_re"
      ],
      "execution_count": null,
      "outputs": [
        {
          "output_type": "execute_result",
          "data": {
            "text/plain": [
              "0.9701492537313433"
            ]
          },
          "metadata": {},
          "execution_count": 230
        }
      ]
    },
    {
      "cell_type": "code",
      "metadata": {
        "id": "hHjcaWPgoWeX",
        "colab": {
          "base_uri": "https://localhost:8080/"
        },
        "outputId": "d01c9bbd-3463-437e-9e56-948fe3fc0a97"
      },
      "source": [
        "dating_sp = TN / (TN + FP)\n",
        "dating_sp"
      ],
      "execution_count": null,
      "outputs": [
        {
          "output_type": "execute_result",
          "data": {
            "text/plain": [
              "0.9852941176470589"
            ]
          },
          "metadata": {},
          "execution_count": 231
        }
      ]
    },
    {
      "cell_type": "code",
      "metadata": {
        "id": "EcmQVlsjoWeX",
        "colab": {
          "base_uri": "https://localhost:8080/"
        },
        "outputId": "0208ffc0-5016-4396-86b9-89199d5a00c6"
      },
      "source": [
        "dating_F = 2 * dating_pr * dating_re / (dating_pr + dating_re)\n",
        "dating_F"
      ],
      "execution_count": null,
      "outputs": [
        {
          "output_type": "execute_result",
          "data": {
            "text/plain": [
              "0.9774436090225564"
            ]
          },
          "metadata": {},
          "execution_count": 232
        }
      ]
    },
    {
      "cell_type": "code",
      "metadata": {
        "id": "WZVu-TVyoWeY"
      },
      "source": [
        "def classify0_2(train,test,k):\n",
        "    n = train.shape[1] - 1\n",
        "    m = test.shape[0]\n",
        "    result = []\n",
        "    for i in range(m):\n",
        "        dist = list(((train.iloc[:, :n] - test.iloc[i, :n]) ** 2).sum(1))\n",
        "        dist_l = pd.DataFrame({'dist': dist, 'labels': (train.iloc[:, n])})\n",
        "        dr = dist_l.sort_values(by = 'dist')[: k]\n",
        "        dr['re'] = 1 / dr.iloc[:, 0]\n",
        "        re = dr.groupby('labels').sum()\n",
        "        re.sort_values(by = 're', ascending=False)\n",
        "        result.append(re.index[0])\n",
        "    result = pd.Series(result)\n",
        "    test['predict'] = result\n",
        "    return test"
      ],
      "execution_count": null,
      "outputs": []
    },
    {
      "cell_type": "code",
      "metadata": {
        "id": "v5BCHt5boWeY"
      },
      "source": [
        "train, test = randSplit(dating_part, 0.8)"
      ],
      "execution_count": null,
      "outputs": []
    },
    {
      "cell_type": "code",
      "metadata": {
        "id": "VvZmIHQUoWeY"
      },
      "source": [
        "result0_1 = classify0_1(train, test, 3)"
      ],
      "execution_count": null,
      "outputs": []
    },
    {
      "cell_type": "code",
      "metadata": {
        "id": "OH-ftwYuoWeY"
      },
      "source": [
        "result0_2 = classify0_2(train, test, 3)"
      ],
      "execution_count": null,
      "outputs": []
    },
    {
      "cell_type": "code",
      "metadata": {
        "id": "q1Dp1PVDoWeY",
        "colab": {
          "base_uri": "https://localhost:8080/"
        },
        "outputId": "f14c5c1b-2e13-49bc-cbfd-9c4db20fc0a8"
      },
      "source": [
        "accuracyCalculation(result0_1)"
      ],
      "execution_count": null,
      "outputs": [
        {
          "output_type": "stream",
          "name": "stdout",
          "text": [
            "Model accuracy is 0.962963\n"
          ]
        },
        {
          "output_type": "execute_result",
          "data": {
            "text/plain": [
              "0.9629629629629629"
            ]
          },
          "metadata": {},
          "execution_count": 237
        }
      ]
    },
    {
      "cell_type": "code",
      "metadata": {
        "id": "3GtqluPvoWeZ",
        "colab": {
          "base_uri": "https://localhost:8080/"
        },
        "outputId": "47b36e8f-731f-43f3-fb41-de4652b49423"
      },
      "source": [
        "accuracyCalculation(result0_2)"
      ],
      "execution_count": null,
      "outputs": [
        {
          "output_type": "stream",
          "name": "stdout",
          "text": [
            "Model accuracy is 0.962963\n"
          ]
        },
        {
          "output_type": "execute_result",
          "data": {
            "text/plain": [
              "0.9629629629629629"
            ]
          },
          "metadata": {},
          "execution_count": 238
        }
      ]
    },
    {
      "cell_type": "code",
      "metadata": {
        "id": "XnnSqvFVoWeZ"
      },
      "source": [
        "def kLearningCurve(classify, train, test, k):\n",
        "    yAc = []\n",
        "    for i in range(k):\n",
        "        yAc.append(accuracyCalculation(classify(train, test, i+1)))\n",
        "    plt.plot(range(1, k+1), yAc, '-o',color='black')\n",
        "    return yAc"
      ],
      "execution_count": null,
      "outputs": []
    },
    {
      "cell_type": "code",
      "metadata": {
        "id": "36LU6-IaoWeZ"
      },
      "source": [
        "train, test = randSplit(iris, 0.8)"
      ],
      "execution_count": null,
      "outputs": []
    },
    {
      "cell_type": "code",
      "metadata": {
        "id": "GvL_k3NFoWeZ",
        "colab": {
          "base_uri": "https://localhost:8080/",
          "height": 571
        },
        "outputId": "3ac1ac0f-7b2e-45c3-9672-b8e8a218be26"
      },
      "source": [
        "kLearningCurve(classify0_1, train, test, 9)"
      ],
      "execution_count": null,
      "outputs": [
        {
          "output_type": "stream",
          "name": "stdout",
          "text": [
            "Model accuracy is 0.933333\n",
            "Model accuracy is 0.933333\n",
            "Model accuracy is 0.933333\n",
            "Model accuracy is 0.933333\n",
            "Model accuracy is 0.933333\n",
            "Model accuracy is 0.933333\n",
            "Model accuracy is 0.933333\n",
            "Model accuracy is 0.900000\n",
            "Model accuracy is 0.933333\n"
          ]
        },
        {
          "output_type": "execute_result",
          "data": {
            "text/plain": [
              "[0.9333333333333333,\n",
              " 0.9333333333333333,\n",
              " 0.9333333333333333,\n",
              " 0.9333333333333333,\n",
              " 0.9333333333333333,\n",
              " 0.9333333333333333,\n",
              " 0.9333333333333333,\n",
              " 0.9,\n",
              " 0.9333333333333333]"
            ]
          },
          "metadata": {},
          "execution_count": 241
        },
        {
          "output_type": "display_data",
          "data": {
            "image/png": "[encoded data removed]",
            "text/plain": [
              "<Figure size 432x288 with 1 Axes>"
            ]
          },
          "metadata": {
            "needs_background": "light"
          }
        }
      ]
    },
    {
      "cell_type": "code",
      "metadata": {
        "id": "dmMvlP39oWeZ",
        "colab": {
          "base_uri": "https://localhost:8080/",
          "height": 567
        },
        "outputId": "5cde8ca4-8316-472a-e8c2-eb729220e9d7"
      },
      "source": [
        "train, test = randSplit(dating_part, 0.8)\n",
        "kLearningCurve(classify0_1, train, test, 9)"
      ],
      "execution_count": null,
      "outputs": [
        {
          "output_type": "stream",
          "name": "stdout",
          "text": [
            "Model accuracy is 0.985185\n",
            "Model accuracy is 0.985185\n",
            "Model accuracy is 0.985185\n",
            "Model accuracy is 0.992593\n",
            "Model accuracy is 1.000000\n",
            "Model accuracy is 1.000000\n",
            "Model accuracy is 1.000000\n",
            "Model accuracy is 1.000000\n",
            "Model accuracy is 1.000000\n"
          ]
        },
        {
          "output_type": "execute_result",
          "data": {
            "text/plain": [
              "[0.9851851851851852,\n",
              " 0.9851851851851852,\n",
              " 0.9851851851851852,\n",
              " 0.9925925925925926,\n",
              " 1.0,\n",
              " 1.0,\n",
              " 1.0,\n",
              " 1.0,\n",
              " 1.0]"
            ]
          },
          "metadata": {},
          "execution_count": 242
        },
        {
          "output_type": "display_data",
          "data": {
            "image/png": "[encoded data removed]",
            "text/plain": [
              "<Figure size 432x288 with 1 Axes>"
            ]
          },
          "metadata": {
            "needs_background": "light"
          }
        }
      ]
    },
    {
      "cell_type": "code",
      "metadata": {
        "id": "IIYWHO-aoWea"
      },
      "source": [
        "m = dating_part.shape[0]\n",
        "a = []\n",
        "k = m / 10\n",
        "for i in range(10):\n",
        "    if i < 9:\n",
        "        a.append(dating_part.iloc[i*int(k):(i+1)*int(k), :])\n",
        "    else:\n",
        "        a.append(dating_part.iloc[i*int(k):, :])"
      ],
      "execution_count": null,
      "outputs": []
    },
    {
      "cell_type": "code",
      "metadata": {
        "id": "z7WodOF-oWea",
        "colab": {
          "base_uri": "https://localhost:8080/"
        },
        "outputId": "97f6dd63-a8ed-4d33-f297-538566d350ce"
      },
      "source": [
        "m = iris.shape[0]\n",
        "m"
      ],
      "execution_count": null,
      "outputs": [
        {
          "output_type": "execute_result",
          "data": {
            "text/plain": [
              "150"
            ]
          },
          "metadata": {},
          "execution_count": 244
        }
      ]
    },
    {
      "cell_type": "code",
      "metadata": {
        "id": "YAyNHXZmoWea"
      },
      "source": [
        "a = []"
      ],
      "execution_count": null,
      "outputs": []
    },
    {
      "cell_type": "code",
      "metadata": {
        "id": "5qUQP3_WoWea"
      },
      "source": [
        "k = m / 10"
      ],
      "execution_count": null,
      "outputs": []
    },
    {
      "cell_type": "code",
      "metadata": {
        "id": "aKw9AwPeoWea",
        "colab": {
          "base_uri": "https://localhost:8080/"
        },
        "outputId": "a8575e8d-363c-446a-f35a-2e2e4a6b6385"
      },
      "source": [
        "k"
      ],
      "execution_count": null,
      "outputs": [
        {
          "output_type": "execute_result",
          "data": {
            "text/plain": [
              "15.0"
            ]
          },
          "metadata": {},
          "execution_count": 247
        }
      ]
    },
    {
      "cell_type": "code",
      "metadata": {
        "id": "bSEF7h8AoWea"
      },
      "source": [
        "a.append(iris.iloc[0*int(k):(0+1)*int(k), :])"
      ],
      "execution_count": null,
      "outputs": []
    },
    {
      "cell_type": "code",
      "metadata": {
        "id": "7QnjWj8KoWea",
        "colab": {
          "base_uri": "https://localhost:8080/",
          "height": 511
        },
        "outputId": "fcf1194c-8a83-4530-da7b-cea95974902c"
      },
      "source": [
        "a[0]"
      ],
      "execution_count": null,
      "outputs": [
        {
          "output_type": "execute_result",
          "data": {
            "text/html": [
              "<div>\n",
              "<style scoped>\n",
              "    .dataframe tbody tr th:only-of-type {\n",
              "        vertical-align: middle;\n",
              "    }\n",
              "\n",
              "    .dataframe tbody tr th {\n",
              "        vertical-align: top;\n",
              "    }\n",
              "\n",
              "    .dataframe thead th {\n",
              "        text-align: right;\n",
              "    }\n",
              "</style>\n",
              "<table border=\"1\" class=\"dataframe\">\n",
              "  <thead>\n",
              "    <tr style=\"text-align: right;\">\n",
              "      <th></th>\n",
              "      <th>sepal_length_cm</th>\n",
              "      <th>sepal_width_cm</th>\n",
              "      <th>petal_length_cm</th>\n",
              "      <th>petal_width_cm</th>\n",
              "      <th>class</th>\n",
              "    </tr>\n",
              "  </thead>\n",
              "  <tbody>\n",
              "    <tr>\n",
              "      <th>0</th>\n",
              "      <td>5.1</td>\n",
              "      <td>3.5</td>\n",
              "      <td>1.4</td>\n",
              "      <td>0.2</td>\n",
              "      <td>setosa</td>\n",
              "    </tr>\n",
              "    <tr>\n",
              "      <th>1</th>\n",
              "      <td>4.9</td>\n",
              "      <td>3.0</td>\n",
              "      <td>1.4</td>\n",
              "      <td>0.2</td>\n",
              "      <td>setosa</td>\n",
              "    </tr>\n",
              "    <tr>\n",
              "      <th>2</th>\n",
              "      <td>4.7</td>\n",
              "      <td>3.2</td>\n",
              "      <td>1.3</td>\n",
              "      <td>0.2</td>\n",
              "      <td>setosa</td>\n",
              "    </tr>\n",
              "    <tr>\n",
              "      <th>3</th>\n",
              "      <td>4.6</td>\n",
              "      <td>3.1</td>\n",
              "      <td>1.5</td>\n",
              "      <td>0.2</td>\n",
              "      <td>setosa</td>\n",
              "    </tr>\n",
              "    <tr>\n",
              "      <th>4</th>\n",
              "      <td>5.0</td>\n",
              "      <td>3.6</td>\n",
              "      <td>1.4</td>\n",
              "      <td>0.2</td>\n",
              "      <td>setosa</td>\n",
              "    </tr>\n",
              "    <tr>\n",
              "      <th>5</th>\n",
              "      <td>5.4</td>\n",
              "      <td>3.9</td>\n",
              "      <td>1.7</td>\n",
              "      <td>0.4</td>\n",
              "      <td>setosa</td>\n",
              "    </tr>\n",
              "    <tr>\n",
              "      <th>6</th>\n",
              "      <td>4.6</td>\n",
              "      <td>3.4</td>\n",
              "      <td>1.4</td>\n",
              "      <td>0.3</td>\n",
              "      <td>setosa</td>\n",
              "    </tr>\n",
              "    <tr>\n",
              "      <th>7</th>\n",
              "      <td>5.0</td>\n",
              "      <td>3.4</td>\n",
              "      <td>1.5</td>\n",
              "      <td>0.2</td>\n",
              "      <td>setosa</td>\n",
              "    </tr>\n",
              "    <tr>\n",
              "      <th>8</th>\n",
              "      <td>4.4</td>\n",
              "      <td>2.9</td>\n",
              "      <td>1.4</td>\n",
              "      <td>0.2</td>\n",
              "      <td>setosa</td>\n",
              "    </tr>\n",
              "    <tr>\n",
              "      <th>9</th>\n",
              "      <td>4.9</td>\n",
              "      <td>3.1</td>\n",
              "      <td>1.5</td>\n",
              "      <td>0.1</td>\n",
              "      <td>setosa</td>\n",
              "    </tr>\n",
              "    <tr>\n",
              "      <th>10</th>\n",
              "      <td>5.4</td>\n",
              "      <td>3.7</td>\n",
              "      <td>1.5</td>\n",
              "      <td>0.2</td>\n",
              "      <td>setosa</td>\n",
              "    </tr>\n",
              "    <tr>\n",
              "      <th>11</th>\n",
              "      <td>4.8</td>\n",
              "      <td>3.4</td>\n",
              "      <td>1.6</td>\n",
              "      <td>0.2</td>\n",
              "      <td>setosa</td>\n",
              "    </tr>\n",
              "    <tr>\n",
              "      <th>12</th>\n",
              "      <td>4.8</td>\n",
              "      <td>3.0</td>\n",
              "      <td>1.4</td>\n",
              "      <td>0.1</td>\n",
              "      <td>setosa</td>\n",
              "    </tr>\n",
              "    <tr>\n",
              "      <th>13</th>\n",
              "      <td>4.3</td>\n",
              "      <td>3.0</td>\n",
              "      <td>1.1</td>\n",
              "      <td>0.1</td>\n",
              "      <td>setosa</td>\n",
              "    </tr>\n",
              "    <tr>\n",
              "      <th>14</th>\n",
              "      <td>5.8</td>\n",
              "      <td>4.0</td>\n",
              "      <td>1.2</td>\n",
              "      <td>0.2</td>\n",
              "      <td>setosa</td>\n",
              "    </tr>\n",
              "  </tbody>\n",
              "</table>\n",
              "</div>"
            ],
            "text/plain": [
              "    sepal_length_cm  sepal_width_cm  petal_length_cm  petal_width_cm   class\n",
              "0               5.1             3.5              1.4             0.2  setosa\n",
              "1               4.9             3.0              1.4             0.2  setosa\n",
              "2               4.7             3.2              1.3             0.2  setosa\n",
              "3               4.6             3.1              1.5             0.2  setosa\n",
              "4               5.0             3.6              1.4             0.2  setosa\n",
              "5               5.4             3.9              1.7             0.4  setosa\n",
              "6               4.6             3.4              1.4             0.3  setosa\n",
              "7               5.0             3.4              1.5             0.2  setosa\n",
              "8               4.4             2.9              1.4             0.2  setosa\n",
              "9               4.9             3.1              1.5             0.1  setosa\n",
              "10              5.4             3.7              1.5             0.2  setosa\n",
              "11              4.8             3.4              1.6             0.2  setosa\n",
              "12              4.8             3.0              1.4             0.1  setosa\n",
              "13              4.3             3.0              1.1             0.1  setosa\n",
              "14              5.8             4.0              1.2             0.2  setosa"
            ]
          },
          "metadata": {},
          "execution_count": 249
        }
      ]
    },
    {
      "cell_type": "code",
      "metadata": {
        "id": "CgG15zOBoWeb",
        "colab": {
          "base_uri": "https://localhost:8080/"
        },
        "outputId": "d421706a-5c0c-437a-f545-0d32395a237d"
      },
      "source": [
        "dating_part.shape"
      ],
      "execution_count": null,
      "outputs": [
        {
          "output_type": "execute_result",
          "data": {
            "text/plain": [
              "(673, 4)"
            ]
          },
          "metadata": {},
          "execution_count": 250
        }
      ]
    },
    {
      "cell_type": "code",
      "metadata": {
        "id": "6QkW_2PeoWeb"
      },
      "source": [
        "#a[9].shape"
      ],
      "execution_count": null,
      "outputs": []
    },
    {
      "cell_type": "code",
      "metadata": {
        "id": "eL37bHN2oWeb"
      },
      "source": [
        "def randSplit_1(dataSet, n):\n",
        "    l = list(dataSet.index)\n",
        "    random.shuffle(l)\n",
        "    dataSet.index = l\n",
        "    m = dataSet.shape[0]\n",
        "    splitSet = []\n",
        "    k = m / n\n",
        "    for i in range(n):\n",
        "        if i < (n-1):\n",
        "            splitSet.append(dataSet.loc[range(i*int(k),(i+1)*int(k)), :])\n",
        "        else:\n",
        "            splitSet.append(dataSet.loc[range(i*int(k), m), :])\n",
        "    dataSet.index = range(dataSet.shape[0])\n",
        "    return splitSet"
      ],
      "execution_count": null,
      "outputs": []
    },
    {
      "cell_type": "code",
      "metadata": {
        "id": "0BGPinrQoWeb"
      },
      "source": [
        "iris_part = randSplit_1(iris, 10)"
      ],
      "execution_count": null,
      "outputs": []
    },
    {
      "cell_type": "code",
      "metadata": {
        "id": "FEf8RVedoWeb",
        "colab": {
          "base_uri": "https://localhost:8080/",
          "height": 511
        },
        "outputId": "d42ad060-4b5d-4a49-d036-a79139452737"
      },
      "source": [
        "iris_part[0]"
      ],
      "execution_count": null,
      "outputs": [
        {
          "output_type": "execute_result",
          "data": {
            "text/html": [
              "<div>\n",
              "<style scoped>\n",
              "    .dataframe tbody tr th:only-of-type {\n",
              "        vertical-align: middle;\n",
              "    }\n",
              "\n",
              "    .dataframe tbody tr th {\n",
              "        vertical-align: top;\n",
              "    }\n",
              "\n",
              "    .dataframe thead th {\n",
              "        text-align: right;\n",
              "    }\n",
              "</style>\n",
              "<table border=\"1\" class=\"dataframe\">\n",
              "  <thead>\n",
              "    <tr style=\"text-align: right;\">\n",
              "      <th></th>\n",
              "      <th>sepal_length_cm</th>\n",
              "      <th>sepal_width_cm</th>\n",
              "      <th>petal_length_cm</th>\n",
              "      <th>petal_width_cm</th>\n",
              "      <th>class</th>\n",
              "    </tr>\n",
              "  </thead>\n",
              "  <tbody>\n",
              "    <tr>\n",
              "      <th>0</th>\n",
              "      <td>5.2</td>\n",
              "      <td>4.1</td>\n",
              "      <td>1.5</td>\n",
              "      <td>0.1</td>\n",
              "      <td>setosa</td>\n",
              "    </tr>\n",
              "    <tr>\n",
              "      <th>1</th>\n",
              "      <td>5.9</td>\n",
              "      <td>3.0</td>\n",
              "      <td>4.2</td>\n",
              "      <td>1.5</td>\n",
              "      <td>versicolor</td>\n",
              "    </tr>\n",
              "    <tr>\n",
              "      <th>2</th>\n",
              "      <td>6.4</td>\n",
              "      <td>3.1</td>\n",
              "      <td>5.5</td>\n",
              "      <td>1.8</td>\n",
              "      <td>virginica</td>\n",
              "    </tr>\n",
              "    <tr>\n",
              "      <th>3</th>\n",
              "      <td>5.4</td>\n",
              "      <td>3.4</td>\n",
              "      <td>1.7</td>\n",
              "      <td>0.2</td>\n",
              "      <td>setosa</td>\n",
              "    </tr>\n",
              "    <tr>\n",
              "      <th>4</th>\n",
              "      <td>5.6</td>\n",
              "      <td>2.7</td>\n",
              "      <td>4.2</td>\n",
              "      <td>1.3</td>\n",
              "      <td>versicolor</td>\n",
              "    </tr>\n",
              "    <tr>\n",
              "      <th>5</th>\n",
              "      <td>5.7</td>\n",
              "      <td>2.9</td>\n",
              "      <td>4.2</td>\n",
              "      <td>1.3</td>\n",
              "      <td>versicolor</td>\n",
              "    </tr>\n",
              "    <tr>\n",
              "      <th>6</th>\n",
              "      <td>5.9</td>\n",
              "      <td>3.0</td>\n",
              "      <td>5.1</td>\n",
              "      <td>1.8</td>\n",
              "      <td>virginica</td>\n",
              "    </tr>\n",
              "    <tr>\n",
              "      <th>7</th>\n",
              "      <td>6.7</td>\n",
              "      <td>3.3</td>\n",
              "      <td>5.7</td>\n",
              "      <td>2.1</td>\n",
              "      <td>virginica</td>\n",
              "    </tr>\n",
              "    <tr>\n",
              "      <th>8</th>\n",
              "      <td>7.7</td>\n",
              "      <td>3.0</td>\n",
              "      <td>6.1</td>\n",
              "      <td>2.3</td>\n",
              "      <td>virginica</td>\n",
              "    </tr>\n",
              "    <tr>\n",
              "      <th>9</th>\n",
              "      <td>5.7</td>\n",
              "      <td>2.6</td>\n",
              "      <td>3.5</td>\n",
              "      <td>1.0</td>\n",
              "      <td>versicolor</td>\n",
              "    </tr>\n",
              "    <tr>\n",
              "      <th>10</th>\n",
              "      <td>6.2</td>\n",
              "      <td>2.9</td>\n",
              "      <td>4.3</td>\n",
              "      <td>1.3</td>\n",
              "      <td>versicolor</td>\n",
              "    </tr>\n",
              "    <tr>\n",
              "      <th>11</th>\n",
              "      <td>7.2</td>\n",
              "      <td>3.0</td>\n",
              "      <td>5.8</td>\n",
              "      <td>1.6</td>\n",
              "      <td>virginica</td>\n",
              "    </tr>\n",
              "    <tr>\n",
              "      <th>12</th>\n",
              "      <td>7.6</td>\n",
              "      <td>3.0</td>\n",
              "      <td>6.6</td>\n",
              "      <td>2.1</td>\n",
              "      <td>virginica</td>\n",
              "    </tr>\n",
              "    <tr>\n",
              "      <th>13</th>\n",
              "      <td>5.3</td>\n",
              "      <td>3.7</td>\n",
              "      <td>1.5</td>\n",
              "      <td>0.2</td>\n",
              "      <td>setosa</td>\n",
              "    </tr>\n",
              "    <tr>\n",
              "      <th>14</th>\n",
              "      <td>4.5</td>\n",
              "      <td>2.3</td>\n",
              "      <td>1.3</td>\n",
              "      <td>0.3</td>\n",
              "      <td>setosa</td>\n",
              "    </tr>\n",
              "  </tbody>\n",
              "</table>\n",
              "</div>"
            ],
            "text/plain": [
              "    sepal_length_cm  sepal_width_cm  ...  petal_width_cm       class\n",
              "0               5.2             4.1  ...             0.1      setosa\n",
              "1               5.9             3.0  ...             1.5  versicolor\n",
              "2               6.4             3.1  ...             1.8   virginica\n",
              "3               5.4             3.4  ...             0.2      setosa\n",
              "4               5.6             2.7  ...             1.3  versicolor\n",
              "5               5.7             2.9  ...             1.3  versicolor\n",
              "6               5.9             3.0  ...             1.8   virginica\n",
              "7               6.7             3.3  ...             2.1   virginica\n",
              "8               7.7             3.0  ...             2.3   virginica\n",
              "9               5.7             2.6  ...             1.0  versicolor\n",
              "10              6.2             2.9  ...             1.3  versicolor\n",
              "11              7.2             3.0  ...             1.6   virginica\n",
              "12              7.6             3.0  ...             2.1   virginica\n",
              "13              5.3             3.7  ...             0.2      setosa\n",
              "14              4.5             2.3  ...             0.3      setosa\n",
              "\n",
              "[15 rows x 5 columns]"
            ]
          },
          "metadata": {},
          "execution_count": 255
        }
      ]
    },
    {
      "cell_type": "code",
      "metadata": {
        "id": "3GJ1jP4aoWeb"
      },
      "source": [
        "def crossVali(dataSet, randSplit, classify, n, k):\n",
        "    sp = randSplit(dataSet, n)\n",
        "    result = np.array([])\n",
        "    for i in range(n):\n",
        "        test = sp[0]\n",
        "        del sp[0]\n",
        "        train = pd.concat(sp)\n",
        "        train.index = range(train.shape[0])\n",
        "        test.index = range(test.shape[0])\n",
        "        test = classify(train, test, k)\n",
        "        result = np.append(result, accuracyCalculation(test))\n",
        "        test = pd.DataFrame(test.drop(['predict'], axis = 1))\n",
        "        sp.append(test)\n",
        "    return result, result.mean(), result.var()"
      ],
      "execution_count": null,
      "outputs": []
    },
    {
      "cell_type": "code",
      "metadata": {
        "id": "PlDC7-NjoWec",
        "colab": {
          "base_uri": "https://localhost:8080/"
        },
        "outputId": "5f650f1a-08a0-4f1e-de37-19350c30fb18"
      },
      "source": [
        "result_cv, result_mean, result_var = crossVali(iris, randSplit_1,classify0_1, 10, 15)"
      ],
      "execution_count": null,
      "outputs": [
        {
          "output_type": "stream",
          "name": "stdout",
          "text": [
            "Model accuracy is 1.000000\n",
            "Model accuracy is 1.000000\n",
            "Model accuracy is 0.933333\n",
            "Model accuracy is 1.000000\n",
            "Model accuracy is 1.000000\n",
            "Model accuracy is 1.000000\n",
            "Model accuracy is 1.000000\n",
            "Model accuracy is 1.000000\n",
            "Model accuracy is 0.800000\n",
            "Model accuracy is 0.933333\n"
          ]
        }
      ]
    },
    {
      "cell_type": "code",
      "metadata": {
        "id": "qzV7IxszoWec",
        "colab": {
          "base_uri": "https://localhost:8080/"
        },
        "outputId": "7dac8088-deeb-4264-c2b5-d5edd49e40a5"
      },
      "source": [
        "result_cv"
      ],
      "execution_count": null,
      "outputs": [
        {
          "output_type": "execute_result",
          "data": {
            "text/plain": [
              "array([1.        , 1.        , 0.93333333, 1.        , 1.        ,\n",
              "       1.        , 1.        , 1.        , 0.8       , 0.93333333])"
            ]
          },
          "metadata": {},
          "execution_count": 258
        }
      ]
    },
    {
      "cell_type": "code",
      "metadata": {
        "id": "kq1u496ooWec",
        "colab": {
          "base_uri": "https://localhost:8080/"
        },
        "outputId": "013beb40-45c4-4fe5-bc03-faa0a0ac3729"
      },
      "source": [
        "result_mean"
      ],
      "execution_count": null,
      "outputs": [
        {
          "output_type": "execute_result",
          "data": {
            "text/plain": [
              "0.9666666666666668"
            ]
          },
          "metadata": {},
          "execution_count": 259
        }
      ]
    },
    {
      "cell_type": "code",
      "metadata": {
        "id": "vEKbqVZnoWec",
        "colab": {
          "base_uri": "https://localhost:8080/"
        },
        "outputId": "adb4c922-31bc-4b2f-b78a-762a9614a96f"
      },
      "source": [
        "result_var"
      ],
      "execution_count": null,
      "outputs": [
        {
          "output_type": "execute_result",
          "data": {
            "text/plain": [
              "0.0037777777777777766"
            ]
          },
          "metadata": {},
          "execution_count": 260
        }
      ]
    },
    {
      "cell_type": "code",
      "metadata": {
        "id": "Of031q_CoWed"
      },
      "source": [
        "def kLearningCurve_1(dataSet, classify, n, k):\n",
        "    yAc_mean = []\n",
        "    yAc_up = []\n",
        "    yAc_down = []\n",
        "    for i in range(k):\n",
        "        result_cv, result_mean, result_var = crossVali(dataSet, randSplit_1, classify, n, i+1)\n",
        "        yAc_mean.append(result_mean)\n",
        "        yAc_up.append(result_mean+result_var)\n",
        "        yAc_down.append(result_mean-result_var)\n",
        "    plt.plot(range(1, k+1), yAc_mean, '-o',color='black')\n",
        "    plt.plot(range(1, k+1), yAc_up, '--o',color='red')\n",
        "    plt.plot(range(1, k+1), yAc_down, '--o',color='red')\n",
        "    return yAc_mean, yAc_up, yAc_down"
      ],
      "execution_count": null,
      "outputs": []
    },
    {
      "cell_type": "code",
      "metadata": {
        "id": "Buta1CHLoWed",
        "colab": {
          "base_uri": "https://localhost:8080/",
          "height": 1000
        },
        "outputId": "af3a499d-a5bf-4e65-ac9c-60cfbfb8ea28"
      },
      "source": [
        "kLearningCurve_1(dating_part, classify0_1, 10, 10)"
      ],
      "execution_count": null,
      "outputs": [
        {
          "output_type": "stream",
          "name": "stdout",
          "text": [
            "Model accuracy is 0.970149\n",
            "Model accuracy is 0.955224\n",
            "Model accuracy is 0.985075\n",
            "Model accuracy is 0.970149\n",
            "Model accuracy is 0.985075\n",
            "Model accuracy is 0.985075\n",
            "Model accuracy is 0.970149\n",
            "Model accuracy is 0.985075\n",
            "Model accuracy is 0.955224\n",
            "Model accuracy is 0.985714\n",
            "Model accuracy is 0.970149\n",
            "Model accuracy is 1.000000\n",
            "Model accuracy is 0.985075\n",
            "Model accuracy is 0.970149\n",
            "Model accuracy is 1.000000\n",
            "Model accuracy is 0.970149\n",
            "Model accuracy is 0.955224\n",
            "Model accuracy is 0.985075\n",
            "Model accuracy is 0.970149\n",
            "Model accuracy is 0.971429\n",
            "Model accuracy is 1.000000\n",
            "Model accuracy is 1.000000\n",
            "Model accuracy is 0.970149\n",
            "Model accuracy is 0.955224\n",
            "Model accuracy is 1.000000\n",
            "Model accuracy is 0.955224\n",
            "Model accuracy is 0.955224\n",
            "Model accuracy is 0.925373\n",
            "Model accuracy is 0.970149\n",
            "Model accuracy is 1.000000\n",
            "Model accuracy is 1.000000\n",
            "Model accuracy is 0.940299\n",
            "Model accuracy is 0.985075\n",
            "Model accuracy is 0.970149\n",
            "Model accuracy is 1.000000\n",
            "Model accuracy is 1.000000\n",
            "Model accuracy is 0.955224\n",
            "Model accuracy is 1.000000\n",
            "Model accuracy is 1.000000\n",
            "Model accuracy is 0.971429\n",
            "Model accuracy is 0.940299\n",
            "Model accuracy is 0.970149\n",
            "Model accuracy is 0.955224\n",
            "Model accuracy is 0.985075\n",
            "Model accuracy is 0.985075\n",
            "Model accuracy is 0.985075\n",
            "Model accuracy is 0.970149\n",
            "Model accuracy is 1.000000\n",
            "Model accuracy is 0.985075\n",
            "Model accuracy is 0.985714\n",
            "Model accuracy is 0.985075\n",
            "Model accuracy is 0.970149\n",
            "Model accuracy is 0.940299\n",
            "Model accuracy is 0.970149\n",
            "Model accuracy is 0.985075\n",
            "Model accuracy is 1.000000\n",
            "Model accuracy is 0.985075\n",
            "Model accuracy is 0.970149\n",
            "Model accuracy is 0.955224\n",
            "Model accuracy is 1.000000\n",
            "Model accuracy is 0.985075\n",
            "Model accuracy is 0.970149\n",
            "Model accuracy is 0.955224\n",
            "Model accuracy is 0.985075\n",
            "Model accuracy is 0.985075\n",
            "Model accuracy is 0.970149\n",
            "Model accuracy is 0.985075\n",
            "Model accuracy is 1.000000\n",
            "Model accuracy is 0.955224\n",
            "Model accuracy is 0.985714\n",
            "Model accuracy is 0.985075\n",
            "Model accuracy is 0.925373\n",
            "Model accuracy is 1.000000\n",
            "Model accuracy is 0.985075\n",
            "Model accuracy is 0.970149\n",
            "Model accuracy is 0.955224\n",
            "Model accuracy is 0.985075\n",
            "Model accuracy is 0.985075\n",
            "Model accuracy is 0.970149\n",
            "Model accuracy is 0.985714\n",
            "Model accuracy is 0.985075\n",
            "Model accuracy is 0.985075\n",
            "Model accuracy is 0.940299\n",
            "Model accuracy is 0.985075\n",
            "Model accuracy is 0.985075\n",
            "Model accuracy is 0.985075\n",
            "Model accuracy is 0.970149\n",
            "Model accuracy is 0.985075\n",
            "Model accuracy is 0.955224\n",
            "Model accuracy is 1.000000\n",
            "Model accuracy is 0.985075\n",
            "Model accuracy is 0.970149\n",
            "Model accuracy is 0.985075\n",
            "Model accuracy is 1.000000\n",
            "Model accuracy is 0.955224\n",
            "Model accuracy is 0.985075\n",
            "Model accuracy is 0.940299\n",
            "Model accuracy is 0.970149\n",
            "Model accuracy is 0.955224\n",
            "Model accuracy is 1.000000\n"
          ]
        },
        {
          "output_type": "execute_result",
          "data": {
            "text/plain": [
              "([0.9746908315565032,\n",
              "  0.9777398720682303,\n",
              "  0.973134328358209,\n",
              "  0.9822174840085289,\n",
              "  0.976183368869936,\n",
              "  0.9761194029850746,\n",
              "  0.9776759061833689,\n",
              "  0.9746908315565032,\n",
              "  0.9776119402985074,\n",
              "  0.9746268656716417],\n",
              " [0.9748280927073435,\n",
              "  0.9779274616863899,\n",
              "  0.973749164624638,\n",
              "  0.9826511990762,\n",
              "  0.9764607821386517,\n",
              "  0.9764401871240811,\n",
              "  0.9778662494714973,\n",
              "  0.9750954128231822,\n",
              "  0.977890398752506,\n",
              "  0.974985520160392],\n",
              " [0.9745535704056628,\n",
              "  0.9775522824500708,\n",
              "  0.97251949209178,\n",
              "  0.9817837689408578,\n",
              "  0.9759059556012202,\n",
              "  0.9757986188460681,\n",
              "  0.9774855628952405,\n",
              "  0.9742862502898241,\n",
              "  0.9773334818445087,\n",
              "  0.9742682111828914])"
            ]
          },
          "metadata": {},
          "execution_count": 262
        },
        {
          "output_type": "display_data",
          "data": {
            "image/png": "[encoded data removed]",
            "text/plain": [
              "<Figure size 432x288 with 1 Axes>"
            ]
          },
          "metadata": {
            "needs_background": "light"
          }
        }
      ]
    },
    {
      "cell_type": "code",
      "metadata": {
        "id": "VYY0vTcQoWed",
        "colab": {
          "base_uri": "https://localhost:8080/",
          "height": 1000
        },
        "outputId": "639d0e95-7e3b-4c10-8cd8-cd0a3ab200f7"
      },
      "source": [
        "kLearningCurve_1(dating_part, classify0_2, 10, 10)"
      ],
      "execution_count": null,
      "outputs": [
        {
          "output_type": "stream",
          "name": "stderr",
          "text": [
            "/usr/local/lib/python3.7/dist-packages/ipykernel_launcher.py:9: SettingWithCopyWarning: \n",
            "A value is trying to be set on a copy of a slice from a DataFrame.\n",
            "Try using .loc[row_indexer,col_indexer] = value instead\n",
            "\n",
            "See the caveats in the documentation: https://pandas.pydata.org/pandas-docs/stable/user_guide/indexing.html#returning-a-view-versus-a-copy\n",
            "  if __name__ == '__main__':\n"
          ]
        },
        {
          "output_type": "stream",
          "name": "stdout",
          "text": [
            "Model accuracy is 0.985075\n",
            "Model accuracy is 0.940299\n",
            "Model accuracy is 1.000000\n",
            "Model accuracy is 0.970149\n",
            "Model accuracy is 0.985075\n",
            "Model accuracy is 0.970149\n",
            "Model accuracy is 0.970149\n",
            "Model accuracy is 0.970149\n",
            "Model accuracy is 0.970149\n",
            "Model accuracy is 0.985714\n",
            "Model accuracy is 0.985075\n",
            "Model accuracy is 1.000000\n",
            "Model accuracy is 0.970149\n",
            "Model accuracy is 0.985075\n",
            "Model accuracy is 0.985075\n",
            "Model accuracy is 0.970149\n",
            "Model accuracy is 0.955224\n",
            "Model accuracy is 0.955224\n",
            "Model accuracy is 0.970149\n",
            "Model accuracy is 0.971429\n",
            "Model accuracy is 0.970149\n",
            "Model accuracy is 1.000000\n",
            "Model accuracy is 0.985075\n",
            "Model accuracy is 0.985075\n",
            "Model accuracy is 0.985075\n",
            "Model accuracy is 0.970149\n",
            "Model accuracy is 1.000000\n",
            "Model accuracy is 0.970149\n",
            "Model accuracy is 1.000000\n",
            "Model accuracy is 0.914286\n",
            "Model accuracy is 0.985075\n",
            "Model accuracy is 0.955224\n",
            "Model accuracy is 0.955224\n",
            "Model accuracy is 0.985075\n",
            "Model accuracy is 0.970149\n",
            "Model accuracy is 0.970149\n",
            "Model accuracy is 0.985075\n",
            "Model accuracy is 1.000000\n",
            "Model accuracy is 0.955224\n",
            "Model accuracy is 0.985714\n",
            "Model accuracy is 1.000000\n",
            "Model accuracy is 0.970149\n",
            "Model accuracy is 0.940299\n",
            "Model accuracy is 0.985075\n",
            "Model accuracy is 0.970149\n",
            "Model accuracy is 0.955224\n",
            "Model accuracy is 0.970149\n",
            "Model accuracy is 0.970149\n",
            "Model accuracy is 1.000000\n",
            "Model accuracy is 0.985714\n",
            "Model accuracy is 0.970149\n",
            "Model accuracy is 0.970149\n",
            "Model accuracy is 1.000000\n",
            "Model accuracy is 0.970149\n",
            "Model accuracy is 0.940299\n",
            "Model accuracy is 0.940299\n",
            "Model accuracy is 0.940299\n",
            "Model accuracy is 0.955224\n",
            "Model accuracy is 0.955224\n",
            "Model accuracy is 0.971429\n",
            "Model accuracy is 0.970149\n",
            "Model accuracy is 0.985075\n",
            "Model accuracy is 0.940299\n",
            "Model accuracy is 0.955224\n",
            "Model accuracy is 0.970149\n",
            "Model accuracy is 0.970149\n",
            "Model accuracy is 0.955224\n",
            "Model accuracy is 1.000000\n",
            "Model accuracy is 0.955224\n",
            "Model accuracy is 0.957143\n",
            "Model accuracy is 0.955224\n",
            "Model accuracy is 0.925373\n",
            "Model accuracy is 0.955224\n",
            "Model accuracy is 0.970149\n",
            "Model accuracy is 0.925373\n",
            "Model accuracy is 1.000000\n",
            "Model accuracy is 0.970149\n",
            "Model accuracy is 0.940299\n",
            "Model accuracy is 0.985075\n",
            "Model accuracy is 0.971429\n",
            "Model accuracy is 0.955224\n",
            "Model accuracy is 0.940299\n",
            "Model accuracy is 0.970149\n",
            "Model accuracy is 0.970149\n",
            "Model accuracy is 0.970149\n",
            "Model accuracy is 0.955224\n",
            "Model accuracy is 0.970149\n",
            "Model accuracy is 0.970149\n",
            "Model accuracy is 0.970149\n",
            "Model accuracy is 0.914286\n",
            "Model accuracy is 0.970149\n",
            "Model accuracy is 0.910448\n",
            "Model accuracy is 0.940299\n",
            "Model accuracy is 0.985075\n",
            "Model accuracy is 0.955224\n",
            "Model accuracy is 0.940299\n",
            "Model accuracy is 0.970149\n",
            "Model accuracy is 0.970149\n",
            "Model accuracy is 0.940299\n",
            "Model accuracy is 0.914286\n"
          ]
        },
        {
          "output_type": "execute_result",
          "data": {
            "text/plain": [
              "([0.9746908315565032,\n",
              "  0.9747547974413646,\n",
              "  0.9779957356076758,\n",
              "  0.9746908315565032,\n",
              "  0.9746908315565032,\n",
              "  0.961321961620469,\n",
              "  0.965863539445629,\n",
              "  0.9598294243070363,\n",
              "  0.958592750533049,\n",
              "  0.949637526652452],\n",
              " [0.9749171994126231,\n",
              "  0.9749342401607558,\n",
              "  0.9785803919785779,\n",
              "  0.9749171994126231,\n",
              "  0.9750063061179027,\n",
              "  0.9616451843735935,\n",
              "  0.9661294088497506,\n",
              "  0.9603691127063435,\n",
              "  0.9589049313287356,\n",
              "  0.9501971694982293],\n",
              " [0.9744644637003832,\n",
              "  0.9745753547219734,\n",
              "  0.9774110792367737,\n",
              "  0.9744644637003832,\n",
              "  0.9743753569951036,\n",
              "  0.9609987388673445,\n",
              "  0.9655976700415073,\n",
              "  0.9592897359077291,\n",
              "  0.9582805697373625,\n",
              "  0.9490778838066748])"
            ]
          },
          "metadata": {},
          "execution_count": 263
        },
        {
          "output_type": "display_data",
          "data": {
            "image/png": "[encoded data removed]",
            "text/plain": [
              "<Figure size 432x288 with 1 Axes>"
            ]
          },
          "metadata": {
            "needs_background": "light"
          }
        }
      ]
    },
    {
      "cell_type": "code",
      "metadata": {
        "id": "x64Bbmt9oWed"
      },
      "source": [
        ""
      ],
      "execution_count": null,
      "outputs": []
    }
  ]
}