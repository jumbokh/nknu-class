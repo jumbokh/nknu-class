{
 "cells": [
  {
   "cell_type": "code",
   "execution_count": null,
   "source": [
    "import pandas as pd\r\n",
    "import numpy as np\r\n",
    "import matplotlib.pyplot as plt\r\n",
    "import seaborn as sns"
   ],
   "outputs": [],
   "metadata": {}
  },
  {
   "cell_type": "code",
   "execution_count": null,
   "source": [
    "import warnings\r\n",
    "warnings.filterwarnings('ignore')"
   ],
   "outputs": [],
   "metadata": {}
  },
  {
   "cell_type": "code",
   "execution_count": null,
   "source": [
    "%matplotlib inline\r\n",
    "plt.rcParams['font.sans-serif'] = ['DFKai-sb'] \r\n",
    "plt.rcParams['axes.unicode_minus'] = False\r\n",
    "%config InlineBackend.figure_format = 'retina'"
   ],
   "outputs": [],
   "metadata": {}
  },
  {
   "cell_type": "code",
   "execution_count": null,
   "source": [
    "from sklearn.datasets import load_iris\r\n",
    "iris = load_iris()\r\n",
    "df = pd.DataFrame(iris['data'], columns=iris['feature_names'])\r\n",
    "df['target'] = iris['target']\r\n",
    "df = df[['sepal width (cm)', 'petal length (cm)','target']]\r\n",
    "df = df.iloc[50:]\r\n",
    "df.head()"
   ],
   "outputs": [],
   "metadata": {}
  },
  {
   "cell_type": "code",
   "execution_count": null,
   "source": [
    "X = df.drop('target', axis=1)\r\n",
    "y = df['target']\r\n",
    "from sklearn.model_selection import train_test_split\r\n",
    "X_train, X_test, y_train, y_test = train_test_split(X, y, \r\n",
    "                                                   test_size=0.33, random_state=42)"
   ],
   "outputs": [],
   "metadata": {}
  },
  {
   "cell_type": "code",
   "execution_count": null,
   "source": [
    "from sklearn.neighbors import KNeighborsClassifier\r\n",
    "# 初始物件\r\n",
    "model = KNeighborsClassifier()\r\n",
    "# 機器學習\r\n",
    "model.fit(X_train, y_train)\r\n",
    "# 正確率的預測，model.score提供了簡便的正確率輸出方式\r\n",
    "model.score(X_test, y_test)"
   ],
   "outputs": [],
   "metadata": {}
  },
  {
   "cell_type": "code",
   "execution_count": null,
   "source": [
    "from sklearn.preprocessing import StandardScaler\r\n",
    "from sklearn.pipeline import make_pipeline\r\n",
    "model_pl = make_pipeline(StandardScaler(), \r\n",
    "                         KNeighborsClassifier())\r\n",
    "model_pl.fit(X_train, y_train)\r\n",
    "model_pl.score(X_test, y_test)"
   ],
   "outputs": [],
   "metadata": {}
  },
  {
   "cell_type": "code",
   "execution_count": null,
   "source": [
    "from sklearn.metrics import confusion_matrix, accuracy_score, classification_report\r\n",
    "y_pred = model_pl.predict(X_test)\r\n",
    "print('正確率：', accuracy_score(y_test, y_pred).round(2))\r\n",
    "print('混亂矩陣')\r\n",
    "print(confusion_matrix(y_test, y_pred))\r\n",
    "print('綜合報告')\r\n",
    "print(classification_report(y_test, y_pred))"
   ],
   "outputs": [],
   "metadata": {}
  },
  {
   "cell_type": "code",
   "execution_count": null,
   "source": [
    "def plot_decision_boundary(X_test, y_test, model, debug=False):\r\n",
    "    points = 500\r\n",
    "    x1_max, x2_max = X_test.max()\r\n",
    "    x1_min, x2_min = X_test.min()\r\n",
    "\r\n",
    "    X1, X2 = np.meshgrid(np.linspace(x1_min-0.1, x1_max+0.1, points),\r\n",
    "                        np.linspace(x2_min-0.1, x2_max+0.1, points))\r\n",
    "    x1_label, x2_label = X_test.columns\r\n",
    "    fig, ax = plt.subplots()\r\n",
    "    X_test.plot(kind='scatter', x=x1_label, y=x2_label, c=y_test, cmap='coolwarm', \r\n",
    "                colorbar=False, figsize=(6,4), s=30, ax=ax)\r\n",
    "    grids = np.array(list(zip(X1.ravel(), X2.ravel())))\r\n",
    "    ax.contourf(X1, X2, model.predict(grids).reshape(X1.shape), alpha=0.3,\r\n",
    "               cmap='coolwarm')\r\n",
    "    if debug:\r\n",
    "        df_debug = X_test.copy()        \r\n",
    "        df_debug['y_test'] = y_test\r\n",
    "        y_pred = model.predict(X_test)\r\n",
    "        df_debug['y_pred'] = y_pred\r\n",
    "        df_debug = df_debug[y_pred != y_test]\r\n",
    "        df_debug.plot(kind='scatter', x=x1_label, y=x2_label, \r\n",
    "                      s=50,  color='none', edgecolor='y', ax=ax)\r\n",
    "        for i in df_debug.index:\r\n",
    "            ax.text(s=df_debug.loc[i,'y_test'], x=df_debug.loc[i, x1_label]+0.01,\r\n",
    "                       y=df_debug.loc[i, x2_label]-0.05)\r\n",
    "\r\n",
    "plot_decision_boundary(X_test, y_test, model, True)"
   ],
   "outputs": [],
   "metadata": {}
  },
  {
   "cell_type": "code",
   "execution_count": null,
   "source": [
    "plot_decision_boundary(X_test, y_test, model_pl, True)"
   ],
   "outputs": [],
   "metadata": {}
  },
  {
   "cell_type": "code",
   "execution_count": null,
   "source": [
    "accs = []\r\n",
    "for n in range(3,8):\r\n",
    "    model_pl = make_pipeline(StandardScaler(), KNeighborsClassifier(n_neighbors=n))\r\n",
    "    model_pl.fit(X_train, y_train)\r\n",
    "    print(f'鄰居數{n}，整體正確率：{model_pl.score(X_test, y_test).round(2)}')"
   ],
   "outputs": [],
   "metadata": {}
  },
  {
   "cell_type": "code",
   "execution_count": null,
   "source": [
    "iris = load_iris()\r\n",
    "df = pd.DataFrame(iris['data'], columns=iris['feature_names'])\r\n",
    "df['target'] = iris['target']\r\n",
    "df = df.iloc[50:]\r\n",
    "# 資料分割\r\n",
    "X = df.drop('target', axis=1)\r\n",
    "y = df['target']\r\n",
    "X_train, X_test, y_train, y_test = train_test_split(X, y, \r\n",
    "                                                   test_size=0.33, random_state=42)\r\n",
    "# 羅吉斯迴歸\r\n",
    "from sklearn.linear_model import LogisticRegression\r\n",
    "model_pl_lr = make_pipeline(StandardScaler(), \r\n",
    "                            LogisticRegression(solver='liblinear'))\r\n",
    "model_pl_lr.fit(X_train, y_train)\r\n",
    "print(f'羅吉斯迴歸正確率{model_pl_lr.score(X_test, y_test).round(3)}')\r\n",
    "# KNN\r\n",
    "model_pl_knn = make_pipeline(StandardScaler(), KNeighborsClassifier())\r\n",
    "model_pl_knn.fit(X_train, y_train)\r\n",
    "print(f'KNN正確率{model_pl_knn.score(X_test, y_test).round(3)}')"
   ],
   "outputs": [],
   "metadata": {}
  },
  {
   "cell_type": "code",
   "execution_count": null,
   "source": [
    "np.random.seed(1)\r\n",
    "x = np.linspace(-10, 10, 100)\r\n",
    "y = 2 * x + 4*np.random.randn(100)\r\n",
    "df_pca = pd.DataFrame(zip(x,y), columns=['x0','x1'])\r\n",
    "plt.scatter(x, y);"
   ],
   "outputs": [],
   "metadata": {}
  },
  {
   "cell_type": "code",
   "execution_count": null,
   "source": [
    "from sklearn.decomposition import PCA\r\n",
    "pca = PCA(n_components=1)\r\n",
    "X_pca = pca.fit_transform(df_pca)\r\n",
    "X_pca[:5]"
   ],
   "outputs": [],
   "metadata": {}
  },
  {
   "cell_type": "code",
   "execution_count": null,
   "source": [
    "# 原本資料\r\n",
    "plt.scatter(x, y)\r\n",
    "# 將X_pca轉到原本的資料維度\r\n",
    "X_new = pca.inverse_transform(X_pca)\r\n",
    "plt.scatter(X_new[:,0], X_new[:,1], c='r', alpha=0.3);"
   ],
   "outputs": [],
   "metadata": {}
  },
  {
   "cell_type": "code",
   "execution_count": null,
   "source": [
    "print(f'PCA的轉換係數：{pca.components_}')\r\n",
    "xy_0 = np.array([x[0],y[0]])\r\n",
    "print(f'第一筆原始資料：{xy_0}')\r\n",
    "# 進行內積\r\n",
    "print(f'自行運算的內積結果：{np.sum(pca.components_ * xy_0)}')\r\n",
    "print(f'主成分的第一筆資料：{X_pca[0]}')"
   ],
   "outputs": [],
   "metadata": {}
  },
  {
   "cell_type": "code",
   "execution_count": null,
   "source": [
    "model_pl = make_pipeline(StandardScaler(), \r\n",
    "                         PCA(n_components=2), \r\n",
    "                         KNeighborsClassifier())\r\n",
    "model_pl.fit(X_train, y_train)\r\n",
    "y_pred = model_pl.predict(X_test)\r\n",
    "print('整體正確率:',accuracy_score(y_test, y_pred).round(2))"
   ],
   "outputs": [],
   "metadata": {}
  },
  {
   "cell_type": "code",
   "execution_count": null,
   "source": [
    "from sklearn.feature_selection import SelectKBest, f_classif\r\n",
    "selector = SelectKBest(f_classif, 2)\r\n",
    "selector.fit(X_train, y_train)\r\n",
    "selector.get_support()"
   ],
   "outputs": [],
   "metadata": {}
  },
  {
   "cell_type": "code",
   "execution_count": null,
   "source": [
    "X_test.columns[selector.get_support()]"
   ],
   "outputs": [],
   "metadata": {}
  },
  {
   "cell_type": "code",
   "execution_count": null,
   "source": [
    "model_pl = make_pipeline(StandardScaler(), \r\n",
    "                        SelectKBest(f_classif, 2),\r\n",
    "                        KNeighborsClassifier())\r\n",
    "model_pl.fit(X_train, y_train)\r\n",
    "y_pred = model_pl.predict(X_test)\r\n",
    "print(confusion_matrix(y_test, y_pred))\r\n",
    "print('整體正確率:',accuracy_score(y_test, y_pred).round(2))"
   ],
   "outputs": [],
   "metadata": {}
  }
 ],
 "metadata": {
  "orig_nbformat": 4,
  "language_info": {
   "name": "python"
  }
 },
 "nbformat": 4,
 "nbformat_minor": 2
}