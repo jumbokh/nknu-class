{
  "nbformat": 4,
  "nbformat_minor": 0,
  "metadata": {
    "colab": {
      "name": "05_clustering.ipynb",
      "provenance": [],
      "collapsed_sections": [],
      "machine_shape": "hm"
    },
    "kernelspec": {
      "display_name": "Python 3",
      "language": "python",
      "name": "python3"
    },
    "language_info": {
      "codemirror_mode": {
        "name": "ipython",
        "version": 3
      },
      "file_extension": ".py",
      "mimetype": "text/x-python",
      "name": "python",
      "nbconvert_exporter": "python",
      "pygments_lexer": "ipython3",
      "version": "3.8.8"
    }
  },
  "cells": [
    {
      "cell_type": "markdown",
      "metadata": {
        "id": "VyPoiZ7hlGJC"
      },
      "source": [
        "# Author's Notes\n",
        "\n",
        "May 2021 Update: We now generate tab-delimited files (TSVs) for each clustering algo. You can load the first three dimensions along with the labels in [Tensorboard Projector](https://projector.tensorflow.org) to visualize  clustering in 3-D space.\n",
        "\n",
        "From [Hands-on Unsupervised Learning using Python](https://amzn.to/2tVABNx) - Chapter 5 - Clustering"
      ]
    },
    {
      "cell_type": "markdown",
      "metadata": {
        "id": "6IWurr8mlZes"
      },
      "source": [
        "# Google Colab Setup\n",
        "**Only for users on Google Colab**"
      ]
    },
    {
      "cell_type": "code",
      "metadata": {
        "colab": {
          "base_uri": "https://localhost:8080/"
        },
        "id": "s2ZUU3ILleke",
        "outputId": "460775d3-577c-491d-e785-89b48112fa4a"
      },
      "source": [
        "# Define functions to connect to Google and change directories\n",
        "def connectDrive():\n",
        "    from google.colab import drive\n",
        "    drive.mount('/content/drive', force_remount=True)\n",
        "\n",
        "def changeDirectory(path):\n",
        "    import os\n",
        "    original_path = os.getcwd()\n",
        "    os.chdir(path)\n",
        "    new_path = os.getcwd()\n",
        "    print(\"Original path: \",original_path)\n",
        "    print(\"New path: \",new_path)\n",
        "\n",
        "# Connect to Google Drive\n",
        "connectDrive()\n",
        "\n",
        "# Change path\n",
        "changeDirectory(\"/content/drive/My Drive/github/handson-unsupervised-learning/\")"
      ],
      "execution_count": 1,
      "outputs": [
        {
          "output_type": "stream",
          "name": "stdout",
          "text": [
            "Mounted at /content/drive\n",
            "Original path:  /content\n",
            "New path:  /content/drive/My Drive/github/handson-unsupervised-learning\n"
          ]
        }
      ]
    },
    {
      "cell_type": "code",
      "metadata": {
        "colab": {
          "base_uri": "https://localhost:8080/"
        },
        "id": "07XKYQwfl76W",
        "outputId": "19f8f53a-dce6-4625-a7d0-c8b933a476ea"
      },
      "source": [
        "# Install additional libraries\n",
        "!pip install fastcluster==1.1.26\n",
        "!pip install hdbscan==0.8.27"
      ],
      "execution_count": 2,
      "outputs": [
        {
          "output_type": "stream",
          "name": "stdout",
          "text": [
            "Collecting fastcluster==1.1.26\n",
            "  Downloading fastcluster-1.1.26-cp37-cp37m-manylinux1_x86_64.whl (155 kB)\n",
            "\u001b[?25l\r\u001b[K     |██                              | 10 kB 16.9 MB/s eta 0:00:01\r\u001b[K     |████▏                           | 20 kB 21.2 MB/s eta 0:00:01\r\u001b[K     |██████▎                         | 30 kB 16.7 MB/s eta 0:00:01\r\u001b[K     |████████▍                       | 40 kB 10.6 MB/s eta 0:00:01\r\u001b[K     |██████████▌                     | 51 kB 4.7 MB/s eta 0:00:01\r\u001b[K     |████████████▋                   | 61 kB 4.7 MB/s eta 0:00:01\r\u001b[K     |██████████████▊                 | 71 kB 4.6 MB/s eta 0:00:01\r\u001b[K     |████████████████▉               | 81 kB 5.2 MB/s eta 0:00:01\r\u001b[K     |███████████████████             | 92 kB 5.1 MB/s eta 0:00:01\r\u001b[K     |█████████████████████           | 102 kB 4.4 MB/s eta 0:00:01\r\u001b[K     |███████████████████████▏        | 112 kB 4.4 MB/s eta 0:00:01\r\u001b[K     |█████████████████████████▎      | 122 kB 4.4 MB/s eta 0:00:01\r\u001b[K     |███████████████████████████▍    | 133 kB 4.4 MB/s eta 0:00:01\r\u001b[K     |█████████████████████████████▌  | 143 kB 4.4 MB/s eta 0:00:01\r\u001b[K     |███████████████████████████████▋| 153 kB 4.4 MB/s eta 0:00:01\r\u001b[K     |████████████████████████████████| 155 kB 4.4 MB/s \n",
            "\u001b[?25hRequirement already satisfied: numpy>=1.9 in /usr/local/lib/python3.7/dist-packages (from fastcluster==1.1.26) (1.19.5)\n",
            "Installing collected packages: fastcluster\n",
            "Successfully installed fastcluster-1.1.26\n",
            "Collecting hdbscan==0.8.27\n",
            "  Downloading hdbscan-0.8.27.tar.gz (6.4 MB)\n",
            "\u001b[K     |████████████████████████████████| 6.4 MB 4.3 MB/s \n",
            "\u001b[?25h  Installing build dependencies ... \u001b[?25l\u001b[?25hdone\n",
            "  Getting requirements to build wheel ... \u001b[?25l\u001b[?25hdone\n",
            "    Preparing wheel metadata ... \u001b[?25l\u001b[?25hdone\n",
            "Requirement already satisfied: joblib>=1.0 in /usr/local/lib/python3.7/dist-packages (from hdbscan==0.8.27) (1.0.1)\n",
            "Requirement already satisfied: scikit-learn>=0.20 in /usr/local/lib/python3.7/dist-packages (from hdbscan==0.8.27) (0.22.2.post1)\n",
            "Requirement already satisfied: numpy>=1.16 in /usr/local/lib/python3.7/dist-packages (from hdbscan==0.8.27) (1.19.5)\n",
            "Requirement already satisfied: scipy>=1.0 in /usr/local/lib/python3.7/dist-packages (from hdbscan==0.8.27) (1.4.1)\n",
            "Requirement already satisfied: six in /usr/local/lib/python3.7/dist-packages (from hdbscan==0.8.27) (1.15.0)\n",
            "Requirement already satisfied: cython>=0.27 in /usr/local/lib/python3.7/dist-packages (from hdbscan==0.8.27) (0.29.24)\n",
            "Building wheels for collected packages: hdbscan\n",
            "  Building wheel for hdbscan (PEP 517) ... \u001b[?25l\u001b[?25hdone\n",
            "  Created wheel for hdbscan: filename=hdbscan-0.8.27-cp37-cp37m-linux_x86_64.whl size=2311952 sha256=9a65d4e15f1636d7d185e47904a1f5265691196aedfd9e238b17cc800d23340d\n",
            "  Stored in directory: /root/.cache/pip/wheels/73/5f/2f/9a259b84003b84847c259779206acecabb25ab56f1506ee72b\n",
            "Successfully built hdbscan\n",
            "Installing collected packages: hdbscan\n",
            "Successfully installed hdbscan-0.8.27\n"
          ]
        }
      ]
    },
    {
      "cell_type": "markdown",
      "metadata": {
        "id": "e6dD3B1pvrnh"
      },
      "source": [
        "# Import Libraries"
      ]
    },
    {
      "cell_type": "code",
      "metadata": {
        "id": "GD169yYgvvpF"
      },
      "source": [
        "# Import libraries\n",
        "'''Main'''\n",
        "import numpy as np\n",
        "import pandas as pd\n",
        "import os, time\n",
        "import pickle, gzip\n",
        "\n",
        "'''Data Viz'''\n",
        "import matplotlib.pyplot as plt\n",
        "import matplotlib as mpl\n",
        "import seaborn as sns\n",
        "color = sns.color_palette()\n",
        "%matplotlib inline\n",
        "\n",
        "'''Data Prep and Model Evaluation'''\n",
        "from sklearn import preprocessing as pp\n",
        "from sklearn.model_selection import train_test_split \n",
        "from sklearn.metrics import precision_recall_curve, average_precision_score\n",
        "from sklearn.metrics import roc_curve, auc, roc_auc_score\n",
        "\n",
        "'''Algorithms'''\n",
        "from sklearn.decomposition import PCA\n",
        "from sklearn.cluster import KMeans\n",
        "import fastcluster\n",
        "from scipy.cluster.hierarchy import dendrogram, cophenet, fcluster\n",
        "from scipy.spatial.distance import pdist"
      ],
      "execution_count": 3,
      "outputs": []
    },
    {
      "cell_type": "markdown",
      "metadata": {
        "id": "iYsjTQRjv0Hg"
      },
      "source": [
        "# Load Data"
      ]
    },
    {
      "cell_type": "code",
      "metadata": {
        "id": "A1aWOf7-vkyG"
      },
      "source": [
        "# Load the datasets\n",
        "current_path = os.getcwd()\n",
        "file = os.path.sep.join(['', 'datasets', 'mnist_data', 'mnist.pkl.gz'])\n",
        "\n",
        "f = gzip.open(current_path+file, 'rb')\n",
        "train_set, validation_set, test_set = pickle.load(f, encoding='latin1')\n",
        "f.close()\n",
        "\n",
        "X_train, y_train = train_set[0], train_set[1]\n",
        "X_validation, y_validation = validation_set[0], validation_set[1]\n",
        "X_test, y_test = test_set[0], test_set[1]"
      ],
      "execution_count": 4,
      "outputs": []
    },
    {
      "cell_type": "code",
      "metadata": {
        "id": "y2l5FPOTvkyH"
      },
      "source": [
        "# Create Pandas DataFrames from the datasets\n",
        "train_index = range(0,len(X_train))\n",
        "validation_index = range(len(X_train), \\\n",
        "                         len(X_train)+len(X_validation))\n",
        "test_index = range(len(X_train)+len(X_validation), \\\n",
        "                   len(X_train)+len(X_validation)+len(X_test))\n",
        "\n",
        "X_train = pd.DataFrame(data=X_train,index=train_index)\n",
        "y_train = pd.Series(data=y_train,index=train_index)\n",
        "\n",
        "X_validation = pd.DataFrame(data=X_validation,index=validation_index)\n",
        "y_validation = pd.Series(data=y_validation,index=validation_index)\n",
        "\n",
        "X_test = pd.DataFrame(data=X_test,index=test_index)\n",
        "y_test = pd.Series(data=y_test,index=test_index)"
      ],
      "execution_count": 5,
      "outputs": []
    },
    {
      "cell_type": "markdown",
      "metadata": {
        "id": "hbbxN_HQxBU0"
      },
      "source": [
        "# Dimensionality Reduction"
      ]
    },
    {
      "cell_type": "code",
      "metadata": {
        "id": "ifzdK4XevkyH"
      },
      "source": [
        "# Principal Component Analysis\n",
        "from sklearn.decomposition import PCA\n",
        "\n",
        "n_components = 784\n",
        "whiten = False\n",
        "random_state = 2018\n",
        "\n",
        "pca = PCA(n_components=n_components, whiten=whiten, \\\n",
        "          random_state=random_state)\n",
        "\n",
        "X_train_PCA = pca.fit_transform(X_train)\n",
        "X_train_PCA = pd.DataFrame(data=X_train_PCA, index=train_index)"
      ],
      "execution_count": 6,
      "outputs": []
    },
    {
      "cell_type": "code",
      "metadata": {
        "id": "KKDEFv--YH1t"
      },
      "source": [
        " # Log data\n",
        "cwd = os.getcwd()\n",
        "log_dir = cwd+\"/logs/05_clustering/\"\n",
        "y_train[0:2000].to_csv(log_dir+'labels.tsv', sep = '\\t', index=False, header=False)"
      ],
      "execution_count": 7,
      "outputs": []
    },
    {
      "cell_type": "code",
      "metadata": {
        "id": "iEBNsCWkYZkG"
      },
      "source": [
        "# Write dimensions to CSV\n",
        "X_train_PCA.iloc[0:2000,0:3].to_csv(log_dir+'pca_data.tsv', sep = '\\t', index=False, header=False)"
      ],
      "execution_count": 8,
      "outputs": []
    },
    {
      "cell_type": "markdown",
      "metadata": {
        "id": "TEBuUxhixEdQ"
      },
      "source": [
        "# K-means"
      ]
    },
    {
      "cell_type": "markdown",
      "metadata": {
        "id": "59Zy1drHZSHP"
      },
      "source": [
        "## Inertia"
      ]
    },
    {
      "cell_type": "code",
      "metadata": {
        "id": "zbhqZ_GYvkyH"
      },
      "source": [
        "# K-means - Inertia as the number of clusters varies\n",
        "from sklearn.cluster import KMeans\n",
        "\n",
        "n_clusters = 10\n",
        "n_init = 10\n",
        "max_iter = 300\n",
        "tol = 0.0001\n",
        "random_state = 2018\n",
        "\n",
        "kMeans_inertia = pd.DataFrame(data=[],index=range(2,21), \\\n",
        "                              columns=['inertia'])\n",
        "for n_clusters in range(2,21):\n",
        "    kmeans = KMeans(n_clusters=n_clusters, n_init=n_init, \\\n",
        "                max_iter=max_iter, tol=tol, random_state=random_state)\n",
        "\n",
        "    cutoff = 99\n",
        "    kmeans.fit(X_train_PCA.loc[:,0:cutoff])\n",
        "    kMeans_inertia.loc[n_clusters] = kmeans.inertia_"
      ],
      "execution_count": 9,
      "outputs": []
    },
    {
      "cell_type": "code",
      "metadata": {
        "colab": {
          "base_uri": "https://localhost:8080/",
          "height": 293
        },
        "id": "PkOK-ISHvkyI",
        "outputId": "2541fd47-f8eb-4f22-fd1e-d99d075ac2fe"
      },
      "source": [
        "# Plot inertia relative to k # of clusters\n",
        "kMeans_inertia.plot()"
      ],
      "execution_count": 10,
      "outputs": [
        {
          "output_type": "execute_result",
          "data": {
            "text/plain": [
              "<matplotlib.axes._subplots.AxesSubplot at 0x7f9b7b060cd0>"
            ]
          },
          "metadata": {},
          "execution_count": 10
        },
        {
          "output_type": "display_data",
          "data": {
            "image/png": "[encoded data removed]",
            "text/plain": [
              "<Figure size 432x288 with 1 Axes>"
            ]
          },
          "metadata": {
            "needs_background": "light"
          }
        }
      ]
    },
    {
      "cell_type": "markdown",
      "metadata": {
        "id": "VF2BaLdGZU7G"
      },
      "source": [
        "## Accuracy"
      ]
    },
    {
      "cell_type": "code",
      "metadata": {
        "id": "1hoJBmiWvkyJ"
      },
      "source": [
        "# Define analyze cluster function\n",
        "def analyzeCluster(clusterDF, labelsDF):\n",
        "    countByCluster = \\\n",
        "        pd.DataFrame(data=clusterDF['cluster'].value_counts())\n",
        "    countByCluster.reset_index(inplace=True,drop=False)\n",
        "    countByCluster.columns = ['cluster','clusterCount']\n",
        "        \n",
        "    preds = pd.concat([labelsDF,clusterDF], axis=1)\n",
        "    preds.columns = ['trueLabel','cluster']\n",
        "    \n",
        "    countByLabel = pd.DataFrame(data=preds.groupby('trueLabel').count())\n",
        "        \n",
        "    countMostFreq = \\\n",
        "        pd.DataFrame(data=preds.groupby('cluster').agg( \\\n",
        "                        lambda x:x.value_counts().iloc[0]))\n",
        "    countMostFreq.reset_index(inplace=True,drop=False)\n",
        "    countMostFreq.columns = ['cluster','countMostFrequent']\n",
        "    \n",
        "    accuracyDF = countMostFreq.merge(countByCluster, \\\n",
        "                        left_on=\"cluster\",right_on=\"cluster\")\n",
        "    overallAccuracy = accuracyDF.countMostFrequent.sum()/ \\\n",
        "                        accuracyDF.clusterCount.sum()\n",
        "    \n",
        "    accuracyByLabel = accuracyDF.countMostFrequent/ \\\n",
        "                        accuracyDF.clusterCount\n",
        "    \n",
        "    return countByCluster, countByLabel, countMostFreq, \\\n",
        "            accuracyDF, overallAccuracy, accuracyByLabel"
      ],
      "execution_count": 11,
      "outputs": []
    },
    {
      "cell_type": "code",
      "metadata": {
        "id": "xuJn14HnvkyJ"
      },
      "source": [
        "# K-means - Accuracy as the number of clusters varies\n",
        "\n",
        "n_clusters = 5\n",
        "n_init = 10\n",
        "max_iter = 300\n",
        "tol = 0.0001\n",
        "random_state = 2018\n",
        "\n",
        "kMeans_inertia = \\\n",
        "    pd.DataFrame(data=[],index=range(2,21),columns=['inertia'])\n",
        "overallAccuracy_kMeansDF = \\\n",
        "    pd.DataFrame(data=[],index=range(2,21),columns=['overallAccuracy'])\n",
        "\n",
        "for n_clusters in range(2,21):\n",
        "    kmeans = KMeans(n_clusters=n_clusters, n_init=n_init, \\\n",
        "                max_iter=max_iter, tol=tol, random_state=random_state)\n",
        "\n",
        "    cutoff = 99\n",
        "    kmeans.fit(X_train_PCA.loc[:,0:cutoff])\n",
        "    kMeans_inertia.loc[n_clusters] = kmeans.inertia_\n",
        "    X_train_kmeansClustered = kmeans.predict(X_train_PCA.loc[:,0:cutoff])\n",
        "    X_train_kmeansClustered = \\\n",
        "        pd.DataFrame(data=X_train_kmeansClustered, index=X_train.index, \\\n",
        "                     columns=['cluster'])\n",
        "    \n",
        "    countByCluster_kMeans, countByLabel_kMeans, countMostFreq_kMeans, \\\n",
        "        accuracyDF_kMeans, overallAccuracy_kMeans, accuracyByLabel_kMeans \\\n",
        "        = analyzeCluster(X_train_kmeansClustered, y_train)\n",
        "    \n",
        "    overallAccuracy_kMeansDF.loc[n_clusters] = overallAccuracy_kMeans"
      ],
      "execution_count": 12,
      "outputs": []
    },
    {
      "cell_type": "code",
      "metadata": {
        "colab": {
          "base_uri": "https://localhost:8080/",
          "height": 282
        },
        "id": "NImgOnSWvkyK",
        "scrolled": true,
        "outputId": "0c9971d0-31cb-45cb-bfd5-358624cf1cfc"
      },
      "source": [
        "# Plot accuracy\n",
        "overallAccuracy_kMeansDF.plot()"
      ],
      "execution_count": 13,
      "outputs": [
        {
          "output_type": "execute_result",
          "data": {
            "text/plain": [
              "<matplotlib.axes._subplots.AxesSubplot at 0x7f9b7ab3ba50>"
            ]
          },
          "metadata": {},
          "execution_count": 13
        },
        {
          "output_type": "display_data",
          "data": {
            "image/png": "[encoded data removed]",
            "text/plain": [
              "<Figure size 432x288 with 1 Axes>"
            ]
          },
          "metadata": {
            "needs_background": "light"
          }
        }
      ]
    },
    {
      "cell_type": "code",
      "metadata": {
        "colab": {
          "base_uri": "https://localhost:8080/"
        },
        "id": "l33Rnt81vkyK",
        "outputId": "2edd8781-1858-4716-cc18-2f0de09cb315"
      },
      "source": [
        "# Accuracy by cluster\n",
        "accuracyByLabel_kMeans"
      ],
      "execution_count": 14,
      "outputs": [
        {
          "output_type": "execute_result",
          "data": {
            "text/plain": [
              "0     0.637002\n",
              "1     0.928903\n",
              "2     0.848370\n",
              "3     0.522017\n",
              "4     0.714490\n",
              "5     0.950954\n",
              "6     0.890722\n",
              "7     0.919121\n",
              "8     0.404175\n",
              "9     0.501921\n",
              "10    0.382313\n",
              "11    0.587849\n",
              "12    0.463228\n",
              "13    0.958022\n",
              "14    0.870580\n",
              "15    0.942325\n",
              "16    0.791050\n",
              "17    0.843324\n",
              "18    0.455679\n",
              "19    0.926480\n",
              "dtype: float64"
            ]
          },
          "metadata": {},
          "execution_count": 14
        }
      ]
    },
    {
      "cell_type": "code",
      "metadata": {
        "colab": {
          "base_uri": "https://localhost:8080/",
          "height": 419
        },
        "id": "VBbpLQN7dzDF",
        "outputId": "fa9ba7f2-0526-45ba-9273-d5c93e5a20ad"
      },
      "source": [
        "# View cluster labels\n",
        "X_train_kmeansClustered"
      ],
      "execution_count": 15,
      "outputs": [
        {
          "output_type": "execute_result",
          "data": {
            "text/html": [
              "<div>\n",
              "<style scoped>\n",
              "    .dataframe tbody tr th:only-of-type {\n",
              "        vertical-align: middle;\n",
              "    }\n",
              "\n",
              "    .dataframe tbody tr th {\n",
              "        vertical-align: top;\n",
              "    }\n",
              "\n",
              "    .dataframe thead th {\n",
              "        text-align: right;\n",
              "    }\n",
              "</style>\n",
              "<table border=\"1\" class=\"dataframe\">\n",
              "  <thead>\n",
              "    <tr style=\"text-align: right;\">\n",
              "      <th></th>\n",
              "      <th>cluster</th>\n",
              "    </tr>\n",
              "  </thead>\n",
              "  <tbody>\n",
              "    <tr>\n",
              "      <th>0</th>\n",
              "      <td>4</td>\n",
              "    </tr>\n",
              "    <tr>\n",
              "      <th>1</th>\n",
              "      <td>19</td>\n",
              "    </tr>\n",
              "    <tr>\n",
              "      <th>2</th>\n",
              "      <td>18</td>\n",
              "    </tr>\n",
              "    <tr>\n",
              "      <th>3</th>\n",
              "      <td>2</td>\n",
              "    </tr>\n",
              "    <tr>\n",
              "      <th>4</th>\n",
              "      <td>10</td>\n",
              "    </tr>\n",
              "    <tr>\n",
              "      <th>...</th>\n",
              "      <td>...</td>\n",
              "    </tr>\n",
              "    <tr>\n",
              "      <th>49995</th>\n",
              "      <td>9</td>\n",
              "    </tr>\n",
              "    <tr>\n",
              "      <th>49996</th>\n",
              "      <td>13</td>\n",
              "    </tr>\n",
              "    <tr>\n",
              "      <th>49997</th>\n",
              "      <td>8</td>\n",
              "    </tr>\n",
              "    <tr>\n",
              "      <th>49998</th>\n",
              "      <td>12</td>\n",
              "    </tr>\n",
              "    <tr>\n",
              "      <th>49999</th>\n",
              "      <td>8</td>\n",
              "    </tr>\n",
              "  </tbody>\n",
              "</table>\n",
              "<p>50000 rows × 1 columns</p>\n",
              "</div>"
            ],
            "text/plain": [
              "       cluster\n",
              "0            4\n",
              "1           19\n",
              "2           18\n",
              "3            2\n",
              "4           10\n",
              "...        ...\n",
              "49995        9\n",
              "49996       13\n",
              "49997        8\n",
              "49998       12\n",
              "49999        8\n",
              "\n",
              "[50000 rows x 1 columns]"
            ]
          },
          "metadata": {},
          "execution_count": 15
        }
      ]
    },
    {
      "cell_type": "code",
      "metadata": {
        "id": "mc7pLulRcmDa"
      },
      "source": [
        "# Save cluster labels\n",
        "X_train_kmeansClustered[0:2000].to_csv(log_dir+'kmeans_cluster_labels.tsv', sep = '\\t', index=False, header=False)"
      ],
      "execution_count": 16,
      "outputs": []
    },
    {
      "cell_type": "markdown",
      "metadata": {
        "id": "rWr-CFUHZXiM"
      },
      "source": [
        "## Accuracy as the number of principal components varies"
      ]
    },
    {
      "cell_type": "code",
      "metadata": {
        "id": "ItHASOKPvkyL"
      },
      "source": [
        "# K-means - Accuracy as the number of components varies\n",
        "\n",
        "n_clusters = 20\n",
        "n_init = 10\n",
        "max_iter = 300\n",
        "tol = 0.0001\n",
        "random_state = 2018\n",
        "\n",
        "kMeans_inertia = pd.DataFrame(data=[],index=[9, 49, 99, 199, \\\n",
        "                    299, 399, 499, 599, 699, 783],columns=['inertia'])\n",
        "\n",
        "overallAccuracy_kMeansDF = pd.DataFrame(data=[],index=[9, 49, \\\n",
        "                    99, 199, 299, 399, 499, 599, 699, 783], \\\n",
        "                    columns=['overallAccuracy'])\n",
        "\n",
        "for cutoffNumber in [9, 49, 99, 199, 299, 399, 499, 599, 699, 783]:\n",
        "    kmeans = KMeans(n_clusters=n_clusters, n_init=n_init, \\\n",
        "                max_iter=max_iter, tol=tol, random_state=random_state)\n",
        "\n",
        "    cutoff = cutoffNumber\n",
        "    kmeans.fit(X_train_PCA.loc[:,0:cutoff])\n",
        "    kMeans_inertia.loc[cutoff] = kmeans.inertia_\n",
        "    X_train_kmeansClustered = kmeans.predict(X_train_PCA.loc[:,0:cutoff])\n",
        "    X_train_kmeansClustered = pd.DataFrame(data=X_train_kmeansClustered, \\\n",
        "                                index=X_train.index, columns=['cluster'])\n",
        "    \n",
        "    countByCluster_kMeans, countByLabel_kMeans, countMostFreq_kMeans, \\\n",
        "        accuracyDF_kMeans, overallAccuracy_kMeans, accuracyByLabel_kMeans \\\n",
        "        = analyzeCluster(X_train_kmeansClustered, y_train)\n",
        "    \n",
        "    overallAccuracy_kMeansDF.loc[cutoff] = overallAccuracy_kMeans"
      ],
      "execution_count": 17,
      "outputs": []
    },
    {
      "cell_type": "code",
      "metadata": {
        "colab": {
          "base_uri": "https://localhost:8080/",
          "height": 282
        },
        "id": "cAJ4ov95vkyL",
        "outputId": "d8a785b2-6ea1-4984-8b42-f5357c2d2b1c"
      },
      "source": [
        "# Accuracy relative to number of principal components\n",
        "overallAccuracy_kMeansDF.plot()"
      ],
      "execution_count": 18,
      "outputs": [
        {
          "output_type": "execute_result",
          "data": {
            "text/plain": [
              "<matplotlib.axes._subplots.AxesSubplot at 0x7f9b787f3a50>"
            ]
          },
          "metadata": {},
          "execution_count": 18
        },
        {
          "output_type": "display_data",
          "data": {
            "image/png": "[encoded data removed]",
            "text/plain": [
              "<Figure size 432x288 with 1 Axes>"
            ]
          },
          "metadata": {
            "needs_background": "light"
          }
        }
      ]
    },
    {
      "cell_type": "markdown",
      "metadata": {
        "id": "Mpq5rSP8ZgkY"
      },
      "source": [
        "## Accuracy as the number of original dimensions varies"
      ]
    },
    {
      "cell_type": "code",
      "metadata": {
        "colab": {
          "base_uri": "https://localhost:8080/"
        },
        "id": "WsKHF3bfvkyM",
        "outputId": "5ceffba3-bfa2-45cb-85ba-c830978efa79"
      },
      "source": [
        "# K-means - Accuracy as the number of components varies\n",
        "# On the original MNIST data (not PCA-reduced)\n",
        "\n",
        "n_clusters = 20\n",
        "n_init = 10\n",
        "max_iter = 300\n",
        "tol = 0.0001\n",
        "random_state = 2018\n",
        "\n",
        "kMeans_inertia = pd.DataFrame(data=[],index=[9, 49, 99, 199, \\\n",
        "                    299, 399, 499, 599, 699, 783],columns=['inertia'])\n",
        "\n",
        "overallAccuracy_kMeansDF = pd.DataFrame(data=[],index=[9, 49, \\\n",
        "                    99, 199, 299, 399, 499, 599, 699, 783], \\\n",
        "                    columns=['overallAccuracy'])\n",
        "\n",
        "for cutoffNumber in [9, 49, 99, 199, 299, 399, 499, 599, 699, 783]:\n",
        "    kmeans = KMeans(n_clusters=n_clusters, n_init=n_init, \\\n",
        "                max_iter=max_iter, tol=tol, random_state=random_state)\n",
        "\n",
        "    cutoff = cutoffNumber\n",
        "    kmeans.fit(X_train.loc[:,0:cutoff])\n",
        "    kMeans_inertia.loc[cutoff] = kmeans.inertia_\n",
        "    X_train_kmeansClustered = kmeans.predict(X_train.loc[:,0:cutoff])\n",
        "    X_train_kmeansClustered = pd.DataFrame(data=X_train_kmeansClustered, \\\n",
        "                                index=X_train.index, columns=['cluster'])\n",
        "    \n",
        "    countByCluster_kMeans, countByLabel_kMeans, countMostFreq_kMeans, \\\n",
        "        accuracyDF_kMeans, overallAccuracy_kMeans, accuracyByLabel_kMeans \\\n",
        "        = analyzeCluster(X_train_kmeansClustered, y_train)\n",
        "    \n",
        "    overallAccuracy_kMeansDF.loc[cutoff] = overallAccuracy_kMeans"
      ],
      "execution_count": 19,
      "outputs": [
        {
          "output_type": "stream",
          "name": "stderr",
          "text": [
            "/usr/local/lib/python3.7/dist-packages/ipykernel_launcher.py:18: ConvergenceWarning: Number of distinct clusters (1) found smaller than n_clusters (20). Possibly due to duplicate points in X.\n"
          ]
        }
      ]
    },
    {
      "cell_type": "code",
      "metadata": {
        "colab": {
          "base_uri": "https://localhost:8080/",
          "height": 282
        },
        "id": "jCiC9npCvkyM",
        "outputId": "59ae8d91-5f7f-48c5-de61-3ce04c738773"
      },
      "source": [
        "# Accuracy relative to number of original dimensions\n",
        "overallAccuracy_kMeansDF.plot()"
      ],
      "execution_count": 20,
      "outputs": [
        {
          "output_type": "execute_result",
          "data": {
            "text/plain": [
              "<matplotlib.axes._subplots.AxesSubplot at 0x7f9b787760d0>"
            ]
          },
          "metadata": {},
          "execution_count": 20
        },
        {
          "output_type": "display_data",
          "data": {
            "image/png": "[encoded data removed]",
            "text/plain": [
              "<Figure size 432x288 with 1 Axes>"
            ]
          },
          "metadata": {
            "needs_background": "light"
          }
        }
      ]
    },
    {
      "cell_type": "markdown",
      "metadata": {
        "id": "3uJdPGYhyFh5"
      },
      "source": [
        "# Hierarchical clustering"
      ]
    },
    {
      "cell_type": "code",
      "metadata": {
        "id": "JZUBNes8vkyN"
      },
      "source": [
        "# Perform hierarchical clustering\n",
        "import fastcluster\n",
        "from scipy.cluster.hierarchy import dendrogram, cophenet\n",
        "from scipy.spatial.distance import pdist\n",
        "\n",
        "cutoff = 99\n",
        "Z = fastcluster.linkage_vector(X_train_PCA.loc[:,0:cutoff], \\\n",
        "                               method='ward', metric='euclidean')\n",
        "Z_dataFrame = pd.DataFrame(data=Z, \\\n",
        "    columns=['clusterOne','clusterTwo','distance','newClusterSize'])"
      ],
      "execution_count": 21,
      "outputs": []
    },
    {
      "cell_type": "code",
      "metadata": {
        "colab": {
          "base_uri": "https://localhost:8080/",
          "height": 669
        },
        "id": "t6e_G118vkyN",
        "outputId": "0a0e9dbb-4a6f-49e4-b9f2-2be647f41e92"
      },
      "source": [
        "# Show leaves\n",
        "Z_dataFrame.iloc[:20]"
      ],
      "execution_count": 22,
      "outputs": [
        {
          "output_type": "execute_result",
          "data": {
            "text/html": [
              "<div>\n",
              "<style scoped>\n",
              "    .dataframe tbody tr th:only-of-type {\n",
              "        vertical-align: middle;\n",
              "    }\n",
              "\n",
              "    .dataframe tbody tr th {\n",
              "        vertical-align: top;\n",
              "    }\n",
              "\n",
              "    .dataframe thead th {\n",
              "        text-align: right;\n",
              "    }\n",
              "</style>\n",
              "<table border=\"1\" class=\"dataframe\">\n",
              "  <thead>\n",
              "    <tr style=\"text-align: right;\">\n",
              "      <th></th>\n",
              "      <th>clusterOne</th>\n",
              "      <th>clusterTwo</th>\n",
              "      <th>distance</th>\n",
              "      <th>newClusterSize</th>\n",
              "    </tr>\n",
              "  </thead>\n",
              "  <tbody>\n",
              "    <tr>\n",
              "      <th>0</th>\n",
              "      <td>42194.0</td>\n",
              "      <td>43025.0</td>\n",
              "      <td>0.562683</td>\n",
              "      <td>2.0</td>\n",
              "    </tr>\n",
              "    <tr>\n",
              "      <th>1</th>\n",
              "      <td>28350.0</td>\n",
              "      <td>37674.0</td>\n",
              "      <td>0.590867</td>\n",
              "      <td>2.0</td>\n",
              "    </tr>\n",
              "    <tr>\n",
              "      <th>2</th>\n",
              "      <td>26696.0</td>\n",
              "      <td>44705.0</td>\n",
              "      <td>0.621506</td>\n",
              "      <td>2.0</td>\n",
              "    </tr>\n",
              "    <tr>\n",
              "      <th>3</th>\n",
              "      <td>12634.0</td>\n",
              "      <td>32823.0</td>\n",
              "      <td>0.627762</td>\n",
              "      <td>2.0</td>\n",
              "    </tr>\n",
              "    <tr>\n",
              "      <th>4</th>\n",
              "      <td>24707.0</td>\n",
              "      <td>43151.0</td>\n",
              "      <td>0.637667</td>\n",
              "      <td>2.0</td>\n",
              "    </tr>\n",
              "    <tr>\n",
              "      <th>5</th>\n",
              "      <td>20465.0</td>\n",
              "      <td>24483.0</td>\n",
              "      <td>0.662558</td>\n",
              "      <td>2.0</td>\n",
              "    </tr>\n",
              "    <tr>\n",
              "      <th>6</th>\n",
              "      <td>466.0</td>\n",
              "      <td>42098.0</td>\n",
              "      <td>0.664190</td>\n",
              "      <td>2.0</td>\n",
              "    </tr>\n",
              "    <tr>\n",
              "      <th>7</th>\n",
              "      <td>46542.0</td>\n",
              "      <td>49961.0</td>\n",
              "      <td>0.665520</td>\n",
              "      <td>2.0</td>\n",
              "    </tr>\n",
              "    <tr>\n",
              "      <th>8</th>\n",
              "      <td>2301.0</td>\n",
              "      <td>5732.0</td>\n",
              "      <td>0.671215</td>\n",
              "      <td>2.0</td>\n",
              "    </tr>\n",
              "    <tr>\n",
              "      <th>9</th>\n",
              "      <td>37564.0</td>\n",
              "      <td>47668.0</td>\n",
              "      <td>0.675121</td>\n",
              "      <td>2.0</td>\n",
              "    </tr>\n",
              "    <tr>\n",
              "      <th>10</th>\n",
              "      <td>3375.0</td>\n",
              "      <td>26243.0</td>\n",
              "      <td>0.685798</td>\n",
              "      <td>2.0</td>\n",
              "    </tr>\n",
              "    <tr>\n",
              "      <th>11</th>\n",
              "      <td>15722.0</td>\n",
              "      <td>30368.0</td>\n",
              "      <td>0.686356</td>\n",
              "      <td>2.0</td>\n",
              "    </tr>\n",
              "    <tr>\n",
              "      <th>12</th>\n",
              "      <td>21247.0</td>\n",
              "      <td>21575.0</td>\n",
              "      <td>0.694411</td>\n",
              "      <td>2.0</td>\n",
              "    </tr>\n",
              "    <tr>\n",
              "      <th>13</th>\n",
              "      <td>14900.0</td>\n",
              "      <td>42486.0</td>\n",
              "      <td>0.696769</td>\n",
              "      <td>2.0</td>\n",
              "    </tr>\n",
              "    <tr>\n",
              "      <th>14</th>\n",
              "      <td>30100.0</td>\n",
              "      <td>41908.0</td>\n",
              "      <td>0.699260</td>\n",
              "      <td>2.0</td>\n",
              "    </tr>\n",
              "    <tr>\n",
              "      <th>15</th>\n",
              "      <td>12040.0</td>\n",
              "      <td>13254.0</td>\n",
              "      <td>0.701134</td>\n",
              "      <td>2.0</td>\n",
              "    </tr>\n",
              "    <tr>\n",
              "      <th>16</th>\n",
              "      <td>10508.0</td>\n",
              "      <td>25434.0</td>\n",
              "      <td>0.708873</td>\n",
              "      <td>2.0</td>\n",
              "    </tr>\n",
              "    <tr>\n",
              "      <th>17</th>\n",
              "      <td>30695.0</td>\n",
              "      <td>30757.0</td>\n",
              "      <td>0.710023</td>\n",
              "      <td>2.0</td>\n",
              "    </tr>\n",
              "    <tr>\n",
              "      <th>18</th>\n",
              "      <td>31019.0</td>\n",
              "      <td>31033.0</td>\n",
              "      <td>0.712052</td>\n",
              "      <td>2.0</td>\n",
              "    </tr>\n",
              "    <tr>\n",
              "      <th>19</th>\n",
              "      <td>36264.0</td>\n",
              "      <td>37285.0</td>\n",
              "      <td>0.713129</td>\n",
              "      <td>2.0</td>\n",
              "    </tr>\n",
              "  </tbody>\n",
              "</table>\n",
              "</div>"
            ],
            "text/plain": [
              "    clusterOne  clusterTwo  distance  newClusterSize\n",
              "0      42194.0     43025.0  0.562683             2.0\n",
              "1      28350.0     37674.0  0.590867             2.0\n",
              "2      26696.0     44705.0  0.621506             2.0\n",
              "3      12634.0     32823.0  0.627762             2.0\n",
              "4      24707.0     43151.0  0.637667             2.0\n",
              "5      20465.0     24483.0  0.662558             2.0\n",
              "6        466.0     42098.0  0.664190             2.0\n",
              "7      46542.0     49961.0  0.665520             2.0\n",
              "8       2301.0      5732.0  0.671215             2.0\n",
              "9      37564.0     47668.0  0.675121             2.0\n",
              "10      3375.0     26243.0  0.685798             2.0\n",
              "11     15722.0     30368.0  0.686356             2.0\n",
              "12     21247.0     21575.0  0.694411             2.0\n",
              "13     14900.0     42486.0  0.696769             2.0\n",
              "14     30100.0     41908.0  0.699260             2.0\n",
              "15     12040.0     13254.0  0.701134             2.0\n",
              "16     10508.0     25434.0  0.708873             2.0\n",
              "17     30695.0     30757.0  0.710023             2.0\n",
              "18     31019.0     31033.0  0.712052             2.0\n",
              "19     36264.0     37285.0  0.713129             2.0"
            ]
          },
          "metadata": {},
          "execution_count": 22
        }
      ]
    },
    {
      "cell_type": "code",
      "metadata": {
        "colab": {
          "base_uri": "https://localhost:8080/",
          "height": 638
        },
        "id": "uHAZBcj-vkyN",
        "outputId": "18dbcd31-b0ae-4787-cd03-3dc7c9777770"
      },
      "source": [
        "# Show leaves higher on the tree\n",
        "Z_dataFrame.iloc[49980:]"
      ],
      "execution_count": 23,
      "outputs": [
        {
          "output_type": "execute_result",
          "data": {
            "text/html": [
              "<div>\n",
              "<style scoped>\n",
              "    .dataframe tbody tr th:only-of-type {\n",
              "        vertical-align: middle;\n",
              "    }\n",
              "\n",
              "    .dataframe tbody tr th {\n",
              "        vertical-align: top;\n",
              "    }\n",
              "\n",
              "    .dataframe thead th {\n",
              "        text-align: right;\n",
              "    }\n",
              "</style>\n",
              "<table border=\"1\" class=\"dataframe\">\n",
              "  <thead>\n",
              "    <tr style=\"text-align: right;\">\n",
              "      <th></th>\n",
              "      <th>clusterOne</th>\n",
              "      <th>clusterTwo</th>\n",
              "      <th>distance</th>\n",
              "      <th>newClusterSize</th>\n",
              "    </tr>\n",
              "  </thead>\n",
              "  <tbody>\n",
              "    <tr>\n",
              "      <th>49980</th>\n",
              "      <td>99965.0</td>\n",
              "      <td>99972.0</td>\n",
              "      <td>161.107035</td>\n",
              "      <td>5197.0</td>\n",
              "    </tr>\n",
              "    <tr>\n",
              "      <th>49981</th>\n",
              "      <td>99932.0</td>\n",
              "      <td>99980.0</td>\n",
              "      <td>172.070051</td>\n",
              "      <td>6505.0</td>\n",
              "    </tr>\n",
              "    <tr>\n",
              "      <th>49982</th>\n",
              "      <td>99945.0</td>\n",
              "      <td>99960.0</td>\n",
              "      <td>182.840883</td>\n",
              "      <td>3245.0</td>\n",
              "    </tr>\n",
              "    <tr>\n",
              "      <th>49983</th>\n",
              "      <td>99964.0</td>\n",
              "      <td>99976.0</td>\n",
              "      <td>184.475756</td>\n",
              "      <td>3683.0</td>\n",
              "    </tr>\n",
              "    <tr>\n",
              "      <th>49984</th>\n",
              "      <td>99974.0</td>\n",
              "      <td>99979.0</td>\n",
              "      <td>185.027834</td>\n",
              "      <td>7744.0</td>\n",
              "    </tr>\n",
              "    <tr>\n",
              "      <th>49985</th>\n",
              "      <td>99940.0</td>\n",
              "      <td>99975.0</td>\n",
              "      <td>185.345241</td>\n",
              "      <td>5596.0</td>\n",
              "    </tr>\n",
              "    <tr>\n",
              "      <th>49986</th>\n",
              "      <td>99957.0</td>\n",
              "      <td>99967.0</td>\n",
              "      <td>211.854765</td>\n",
              "      <td>5957.0</td>\n",
              "    </tr>\n",
              "    <tr>\n",
              "      <th>49987</th>\n",
              "      <td>99938.0</td>\n",
              "      <td>99983.0</td>\n",
              "      <td>215.494890</td>\n",
              "      <td>4846.0</td>\n",
              "    </tr>\n",
              "    <tr>\n",
              "      <th>49988</th>\n",
              "      <td>99978.0</td>\n",
              "      <td>99984.0</td>\n",
              "      <td>216.760381</td>\n",
              "      <td>11072.0</td>\n",
              "    </tr>\n",
              "    <tr>\n",
              "      <th>49989</th>\n",
              "      <td>99970.0</td>\n",
              "      <td>99973.0</td>\n",
              "      <td>217.355917</td>\n",
              "      <td>4899.0</td>\n",
              "    </tr>\n",
              "    <tr>\n",
              "      <th>49990</th>\n",
              "      <td>99969.0</td>\n",
              "      <td>99986.0</td>\n",
              "      <td>225.468301</td>\n",
              "      <td>8270.0</td>\n",
              "    </tr>\n",
              "    <tr>\n",
              "      <th>49991</th>\n",
              "      <td>99981.0</td>\n",
              "      <td>99982.0</td>\n",
              "      <td>238.845146</td>\n",
              "      <td>9750.0</td>\n",
              "    </tr>\n",
              "    <tr>\n",
              "      <th>49992</th>\n",
              "      <td>99968.0</td>\n",
              "      <td>99977.0</td>\n",
              "      <td>266.146835</td>\n",
              "      <td>5567.0</td>\n",
              "    </tr>\n",
              "    <tr>\n",
              "      <th>49993</th>\n",
              "      <td>99985.0</td>\n",
              "      <td>99989.0</td>\n",
              "      <td>270.929504</td>\n",
              "      <td>10495.0</td>\n",
              "    </tr>\n",
              "    <tr>\n",
              "      <th>49994</th>\n",
              "      <td>99990.0</td>\n",
              "      <td>99991.0</td>\n",
              "      <td>346.840981</td>\n",
              "      <td>18020.0</td>\n",
              "    </tr>\n",
              "    <tr>\n",
              "      <th>49995</th>\n",
              "      <td>99988.0</td>\n",
              "      <td>99993.0</td>\n",
              "      <td>394.365239</td>\n",
              "      <td>21567.0</td>\n",
              "    </tr>\n",
              "    <tr>\n",
              "      <th>49996</th>\n",
              "      <td>99987.0</td>\n",
              "      <td>99995.0</td>\n",
              "      <td>425.142469</td>\n",
              "      <td>26413.0</td>\n",
              "    </tr>\n",
              "    <tr>\n",
              "      <th>49997</th>\n",
              "      <td>99992.0</td>\n",
              "      <td>99994.0</td>\n",
              "      <td>440.148373</td>\n",
              "      <td>23587.0</td>\n",
              "    </tr>\n",
              "    <tr>\n",
              "      <th>49998</th>\n",
              "      <td>99996.0</td>\n",
              "      <td>99997.0</td>\n",
              "      <td>494.383832</td>\n",
              "      <td>50000.0</td>\n",
              "    </tr>\n",
              "  </tbody>\n",
              "</table>\n",
              "</div>"
            ],
            "text/plain": [
              "       clusterOne  clusterTwo    distance  newClusterSize\n",
              "49980     99965.0     99972.0  161.107035          5197.0\n",
              "49981     99932.0     99980.0  172.070051          6505.0\n",
              "49982     99945.0     99960.0  182.840883          3245.0\n",
              "49983     99964.0     99976.0  184.475756          3683.0\n",
              "49984     99974.0     99979.0  185.027834          7744.0\n",
              "49985     99940.0     99975.0  185.345241          5596.0\n",
              "49986     99957.0     99967.0  211.854765          5957.0\n",
              "49987     99938.0     99983.0  215.494890          4846.0\n",
              "49988     99978.0     99984.0  216.760381         11072.0\n",
              "49989     99970.0     99973.0  217.355917          4899.0\n",
              "49990     99969.0     99986.0  225.468301          8270.0\n",
              "49991     99981.0     99982.0  238.845146          9750.0\n",
              "49992     99968.0     99977.0  266.146835          5567.0\n",
              "49993     99985.0     99989.0  270.929504         10495.0\n",
              "49994     99990.0     99991.0  346.840981         18020.0\n",
              "49995     99988.0     99993.0  394.365239         21567.0\n",
              "49996     99987.0     99995.0  425.142469         26413.0\n",
              "49997     99992.0     99994.0  440.148373         23587.0\n",
              "49998     99996.0     99997.0  494.383832         50000.0"
            ]
          },
          "metadata": {},
          "execution_count": 23
        }
      ]
    },
    {
      "cell_type": "code",
      "metadata": {
        "id": "HIcVj9oTvkyO"
      },
      "source": [
        "# Create clusters\n",
        "from scipy.cluster.hierarchy import fcluster\n",
        "\n",
        "distance_threshold = 160\n",
        "clusters = fcluster(Z, distance_threshold, criterion='distance')\n",
        "X_train_hierClustered = \\\n",
        "    pd.DataFrame(data=clusters,index=X_train_PCA.index,columns=['cluster'])"
      ],
      "execution_count": 24,
      "outputs": []
    },
    {
      "cell_type": "code",
      "metadata": {
        "colab": {
          "base_uri": "https://localhost:8080/"
        },
        "id": "9TxiIZJRvkyO",
        "outputId": "159fb9d2-22c5-4d86-c37e-5082fc85df48"
      },
      "source": [
        "# Print number of clusters\n",
        "print(\"Number of distinct clusters: \", \\\n",
        "      len(X_train_hierClustered['cluster'].unique()))"
      ],
      "execution_count": 25,
      "outputs": [
        {
          "output_type": "stream",
          "name": "stdout",
          "text": [
            "Number of distinct clusters:  20\n"
          ]
        }
      ]
    },
    {
      "cell_type": "code",
      "metadata": {
        "colab": {
          "base_uri": "https://localhost:8080/"
        },
        "id": "5Z-BZ3LEvkyO",
        "outputId": "8100fd46-795c-4a51-c1a2-7c58ffd18548"
      },
      "source": [
        "# Show overall accuracy\n",
        "countByCluster_hierClust, countByLabel_hierClust, \\\n",
        "    countMostFreq_hierClust, accuracyDF_hierClust, \\\n",
        "    overallAccuracy_hierClust, accuracyByLabel_hierClust \\\n",
        "    = analyzeCluster(X_train_hierClustered, y_train)\n",
        "\n",
        "print(\"Overall accuracy from hierarchical clustering: \", \\\n",
        "      overallAccuracy_hierClust)"
      ],
      "execution_count": 26,
      "outputs": [
        {
          "output_type": "stream",
          "name": "stdout",
          "text": [
            "Overall accuracy from hierarchical clustering:  0.76882\n"
          ]
        }
      ]
    },
    {
      "cell_type": "code",
      "metadata": {
        "colab": {
          "base_uri": "https://localhost:8080/"
        },
        "id": "o8qltBWwvkyP",
        "outputId": "521f6de4-8b58-4c58-c6aa-3bb2e83caff1"
      },
      "source": [
        "# Show accuracy by cluster\n",
        "print(\"Accuracy by cluster for hierarchical clustering\")\n",
        "accuracyByLabel_hierClust"
      ],
      "execution_count": 27,
      "outputs": [
        {
          "output_type": "stream",
          "name": "stdout",
          "text": [
            "Accuracy by cluster for hierarchical clustering\n"
          ]
        },
        {
          "output_type": "execute_result",
          "data": {
            "text/plain": [
              "0     0.987962\n",
              "1     0.983727\n",
              "2     0.988998\n",
              "3     0.597356\n",
              "4     0.678642\n",
              "5     0.442478\n",
              "6     0.950033\n",
              "7     0.829060\n",
              "8     0.976062\n",
              "9     0.986141\n",
              "10    0.990183\n",
              "11    0.992183\n",
              "12    0.971033\n",
              "13    0.554273\n",
              "14    0.553617\n",
              "15    0.720183\n",
              "16    0.538891\n",
              "17    0.484590\n",
              "18    0.957732\n",
              "19    0.977310\n",
              "dtype: float64"
            ]
          },
          "metadata": {},
          "execution_count": 27
        }
      ]
    },
    {
      "cell_type": "code",
      "metadata": {
        "colab": {
          "base_uri": "https://localhost:8080/",
          "height": 419
        },
        "id": "AzRbq61bd5GX",
        "outputId": "3055017c-9e2f-49a0-9d8f-d678dae7b366"
      },
      "source": [
        "# View cluster labels\n",
        "X_train_hierClustered"
      ],
      "execution_count": 28,
      "outputs": [
        {
          "output_type": "execute_result",
          "data": {
            "text/html": [
              "<div>\n",
              "<style scoped>\n",
              "    .dataframe tbody tr th:only-of-type {\n",
              "        vertical-align: middle;\n",
              "    }\n",
              "\n",
              "    .dataframe tbody tr th {\n",
              "        vertical-align: top;\n",
              "    }\n",
              "\n",
              "    .dataframe thead th {\n",
              "        text-align: right;\n",
              "    }\n",
              "</style>\n",
              "<table border=\"1\" class=\"dataframe\">\n",
              "  <thead>\n",
              "    <tr style=\"text-align: right;\">\n",
              "      <th></th>\n",
              "      <th>cluster</th>\n",
              "    </tr>\n",
              "  </thead>\n",
              "  <tbody>\n",
              "    <tr>\n",
              "      <th>0</th>\n",
              "      <td>5</td>\n",
              "    </tr>\n",
              "    <tr>\n",
              "      <th>1</th>\n",
              "      <td>3</td>\n",
              "    </tr>\n",
              "    <tr>\n",
              "      <th>2</th>\n",
              "      <td>15</td>\n",
              "    </tr>\n",
              "    <tr>\n",
              "      <th>3</th>\n",
              "      <td>11</td>\n",
              "    </tr>\n",
              "    <tr>\n",
              "      <th>4</th>\n",
              "      <td>14</td>\n",
              "    </tr>\n",
              "    <tr>\n",
              "      <th>...</th>\n",
              "      <td>...</td>\n",
              "    </tr>\n",
              "    <tr>\n",
              "      <th>49995</th>\n",
              "      <td>4</td>\n",
              "    </tr>\n",
              "    <tr>\n",
              "      <th>49996</th>\n",
              "      <td>3</td>\n",
              "    </tr>\n",
              "    <tr>\n",
              "      <th>49997</th>\n",
              "      <td>6</td>\n",
              "    </tr>\n",
              "    <tr>\n",
              "      <th>49998</th>\n",
              "      <td>14</td>\n",
              "    </tr>\n",
              "    <tr>\n",
              "      <th>49999</th>\n",
              "      <td>6</td>\n",
              "    </tr>\n",
              "  </tbody>\n",
              "</table>\n",
              "<p>50000 rows × 1 columns</p>\n",
              "</div>"
            ],
            "text/plain": [
              "       cluster\n",
              "0            5\n",
              "1            3\n",
              "2           15\n",
              "3           11\n",
              "4           14\n",
              "...        ...\n",
              "49995        4\n",
              "49996        3\n",
              "49997        6\n",
              "49998       14\n",
              "49999        6\n",
              "\n",
              "[50000 rows x 1 columns]"
            ]
          },
          "metadata": {},
          "execution_count": 28
        }
      ]
    },
    {
      "cell_type": "code",
      "metadata": {
        "id": "6tJxudEHc2wq"
      },
      "source": [
        "# Save cluster labels\n",
        "X_train_hierClustered[0:2000].to_csv(log_dir+'hierarchical_cluster_labels.tsv', sep = '\\t', index=False, header=False)"
      ],
      "execution_count": 29,
      "outputs": []
    },
    {
      "cell_type": "markdown",
      "metadata": {
        "id": "-wDblog5yZCO"
      },
      "source": [
        "# DBSCAN"
      ]
    },
    {
      "cell_type": "code",
      "metadata": {
        "colab": {
          "base_uri": "https://localhost:8080/"
        },
        "id": "bXm_jbtNvkyQ",
        "outputId": "45e078fd-831e-4237-8f54-3df1f174dda0"
      },
      "source": [
        "# Perform DBSCAN\n",
        "from sklearn.cluster import DBSCAN\n",
        "\n",
        "eps = 3\n",
        "min_samples = 5\n",
        "leaf_size = 30\n",
        "n_jobs = 4\n",
        "\n",
        "db = DBSCAN(eps=eps, min_samples=min_samples, leaf_size=leaf_size, \n",
        "            n_jobs=n_jobs)\n",
        "\n",
        "cutoff = 99\n",
        "X_train_PCA_dbscanClustered = db.fit_predict(X_train_PCA.loc[:,0:cutoff])\n",
        "X_train_PCA_dbscanClustered = \\\n",
        "    pd.DataFrame(data=X_train_PCA_dbscanClustered, index=X_train.index, \\\n",
        "                 columns=['cluster'])\n",
        "\n",
        "countByCluster_dbscan, countByLabel_dbscan, countMostFreq_dbscan, \\\n",
        "    accuracyDF_dbscan, overallAccuracy_dbscan, accuracyByLabel_dbscan \\\n",
        "    = analyzeCluster(X_train_PCA_dbscanClustered, y_train)\n",
        "\n",
        "overallAccuracy_dbscan"
      ],
      "execution_count": 30,
      "outputs": [
        {
          "output_type": "execute_result",
          "data": {
            "text/plain": [
              "0.242"
            ]
          },
          "metadata": {},
          "execution_count": 30
        }
      ]
    },
    {
      "cell_type": "code",
      "metadata": {
        "colab": {
          "base_uri": "https://localhost:8080/"
        },
        "id": "CqxJHejmvkyQ",
        "outputId": "2242436c-8d94-4a31-9d32-339c2ba1b91a"
      },
      "source": [
        "# Print overall accuracy\n",
        "print(\"Overall accuracy from DBSCAN: \",overallAccuracy_dbscan)"
      ],
      "execution_count": 31,
      "outputs": [
        {
          "output_type": "stream",
          "name": "stdout",
          "text": [
            "Overall accuracy from DBSCAN:  0.242\n"
          ]
        }
      ]
    },
    {
      "cell_type": "code",
      "metadata": {
        "colab": {
          "base_uri": "https://localhost:8080/",
          "height": 436
        },
        "id": "TCCBGFJfvkyQ",
        "scrolled": true,
        "outputId": "748b87ec-6861-4c46-bfa9-338e3f63cef4"
      },
      "source": [
        "# Show cluster results\n",
        "print(\"Cluster results for DBSCAN\")\n",
        "countByCluster_dbscan"
      ],
      "execution_count": 32,
      "outputs": [
        {
          "output_type": "stream",
          "name": "stdout",
          "text": [
            "Cluster results for DBSCAN\n"
          ]
        },
        {
          "output_type": "execute_result",
          "data": {
            "text/html": [
              "<div>\n",
              "<style scoped>\n",
              "    .dataframe tbody tr th:only-of-type {\n",
              "        vertical-align: middle;\n",
              "    }\n",
              "\n",
              "    .dataframe tbody tr th {\n",
              "        vertical-align: top;\n",
              "    }\n",
              "\n",
              "    .dataframe thead th {\n",
              "        text-align: right;\n",
              "    }\n",
              "</style>\n",
              "<table border=\"1\" class=\"dataframe\">\n",
              "  <thead>\n",
              "    <tr style=\"text-align: right;\">\n",
              "      <th></th>\n",
              "      <th>cluster</th>\n",
              "      <th>clusterCount</th>\n",
              "    </tr>\n",
              "  </thead>\n",
              "  <tbody>\n",
              "    <tr>\n",
              "      <th>0</th>\n",
              "      <td>-1</td>\n",
              "      <td>39575</td>\n",
              "    </tr>\n",
              "    <tr>\n",
              "      <th>1</th>\n",
              "      <td>0</td>\n",
              "      <td>8885</td>\n",
              "    </tr>\n",
              "    <tr>\n",
              "      <th>2</th>\n",
              "      <td>8</td>\n",
              "      <td>720</td>\n",
              "    </tr>\n",
              "    <tr>\n",
              "      <th>3</th>\n",
              "      <td>5</td>\n",
              "      <td>92</td>\n",
              "    </tr>\n",
              "    <tr>\n",
              "      <th>4</th>\n",
              "      <td>18</td>\n",
              "      <td>51</td>\n",
              "    </tr>\n",
              "    <tr>\n",
              "      <th>...</th>\n",
              "      <td>...</td>\n",
              "      <td>...</td>\n",
              "    </tr>\n",
              "    <tr>\n",
              "      <th>95</th>\n",
              "      <td>43</td>\n",
              "      <td>4</td>\n",
              "    </tr>\n",
              "    <tr>\n",
              "      <th>96</th>\n",
              "      <td>83</td>\n",
              "      <td>4</td>\n",
              "    </tr>\n",
              "    <tr>\n",
              "      <th>97</th>\n",
              "      <td>11</td>\n",
              "      <td>4</td>\n",
              "    </tr>\n",
              "    <tr>\n",
              "      <th>98</th>\n",
              "      <td>54</td>\n",
              "      <td>3</td>\n",
              "    </tr>\n",
              "    <tr>\n",
              "      <th>99</th>\n",
              "      <td>96</td>\n",
              "      <td>3</td>\n",
              "    </tr>\n",
              "  </tbody>\n",
              "</table>\n",
              "<p>100 rows × 2 columns</p>\n",
              "</div>"
            ],
            "text/plain": [
              "    cluster  clusterCount\n",
              "0        -1         39575\n",
              "1         0          8885\n",
              "2         8           720\n",
              "3         5            92\n",
              "4        18            51\n",
              "..      ...           ...\n",
              "95       43             4\n",
              "96       83             4\n",
              "97       11             4\n",
              "98       54             3\n",
              "99       96             3\n",
              "\n",
              "[100 rows x 2 columns]"
            ]
          },
          "metadata": {},
          "execution_count": 32
        }
      ]
    },
    {
      "cell_type": "code",
      "metadata": {
        "colab": {
          "base_uri": "https://localhost:8080/",
          "height": 419
        },
        "id": "mVNKvGLfd9xy",
        "outputId": "e0c1fb52-12dc-48de-eb2f-e6e9fc525de0"
      },
      "source": [
        "# View cluster labels\n",
        "X_train_PCA_dbscanClustered"
      ],
      "execution_count": 33,
      "outputs": [
        {
          "output_type": "execute_result",
          "data": {
            "text/html": [
              "<div>\n",
              "<style scoped>\n",
              "    .dataframe tbody tr th:only-of-type {\n",
              "        vertical-align: middle;\n",
              "    }\n",
              "\n",
              "    .dataframe tbody tr th {\n",
              "        vertical-align: top;\n",
              "    }\n",
              "\n",
              "    .dataframe thead th {\n",
              "        text-align: right;\n",
              "    }\n",
              "</style>\n",
              "<table border=\"1\" class=\"dataframe\">\n",
              "  <thead>\n",
              "    <tr style=\"text-align: right;\">\n",
              "      <th></th>\n",
              "      <th>cluster</th>\n",
              "    </tr>\n",
              "  </thead>\n",
              "  <tbody>\n",
              "    <tr>\n",
              "      <th>0</th>\n",
              "      <td>-1</td>\n",
              "    </tr>\n",
              "    <tr>\n",
              "      <th>1</th>\n",
              "      <td>-1</td>\n",
              "    </tr>\n",
              "    <tr>\n",
              "      <th>2</th>\n",
              "      <td>-1</td>\n",
              "    </tr>\n",
              "    <tr>\n",
              "      <th>3</th>\n",
              "      <td>0</td>\n",
              "    </tr>\n",
              "    <tr>\n",
              "      <th>4</th>\n",
              "      <td>-1</td>\n",
              "    </tr>\n",
              "    <tr>\n",
              "      <th>...</th>\n",
              "      <td>...</td>\n",
              "    </tr>\n",
              "    <tr>\n",
              "      <th>49995</th>\n",
              "      <td>-1</td>\n",
              "    </tr>\n",
              "    <tr>\n",
              "      <th>49996</th>\n",
              "      <td>-1</td>\n",
              "    </tr>\n",
              "    <tr>\n",
              "      <th>49997</th>\n",
              "      <td>-1</td>\n",
              "    </tr>\n",
              "    <tr>\n",
              "      <th>49998</th>\n",
              "      <td>-1</td>\n",
              "    </tr>\n",
              "    <tr>\n",
              "      <th>49999</th>\n",
              "      <td>-1</td>\n",
              "    </tr>\n",
              "  </tbody>\n",
              "</table>\n",
              "<p>50000 rows × 1 columns</p>\n",
              "</div>"
            ],
            "text/plain": [
              "       cluster\n",
              "0           -1\n",
              "1           -1\n",
              "2           -1\n",
              "3            0\n",
              "4           -1\n",
              "...        ...\n",
              "49995       -1\n",
              "49996       -1\n",
              "49997       -1\n",
              "49998       -1\n",
              "49999       -1\n",
              "\n",
              "[50000 rows x 1 columns]"
            ]
          },
          "metadata": {},
          "execution_count": 33
        }
      ]
    },
    {
      "cell_type": "code",
      "metadata": {
        "id": "W1RmCPBTdGfh"
      },
      "source": [
        "# Save cluster labels\n",
        "X_train_PCA_dbscanClustered[0:2000].to_csv(log_dir+'dbscan_cluster_labels.tsv', sep = '\\t', index=False, header=False)"
      ],
      "execution_count": 34,
      "outputs": []
    },
    {
      "cell_type": "markdown",
      "metadata": {
        "id": "CM_ABftQyhyW"
      },
      "source": [
        "# HDBSCAN"
      ]
    },
    {
      "cell_type": "code",
      "metadata": {
        "id": "PTvWfXsbvkyR"
      },
      "source": [
        "# Perform HDBSCAN\n",
        "import hdbscan\n",
        "\n",
        "min_cluster_size = 30\n",
        "min_samples = None\n",
        "alpha = 1.0\n",
        "cluster_selection_method = 'eom'\n",
        "\n",
        "hdb = hdbscan.HDBSCAN(min_cluster_size=min_cluster_size, \\\n",
        "        min_samples=min_samples, alpha=alpha, \\\n",
        "        cluster_selection_method=cluster_selection_method)\n",
        "\n",
        "cutoff = 10\n",
        "X_train_PCA_hdbscanClustered = \\\n",
        "    hdb.fit_predict(X_train_PCA.loc[:,0:cutoff])\n",
        "\n",
        "X_train_PCA_hdbscanClustered = \\\n",
        "    pd.DataFrame(data=X_train_PCA_hdbscanClustered, \\\n",
        "    index=X_train.index, columns=['cluster'])\n",
        "\n",
        "countByCluster_hdbscan, countByLabel_hdbscan, \\\n",
        "    countMostFreq_hdbscan, accuracyDF_hdbscan, \\\n",
        "    overallAccuracy_hdbscan, accuracyByLabel_hdbscan \\\n",
        "    = analyzeCluster(X_train_PCA_hdbscanClustered, y_train)"
      ],
      "execution_count": 35,
      "outputs": []
    },
    {
      "cell_type": "code",
      "metadata": {
        "colab": {
          "base_uri": "https://localhost:8080/"
        },
        "id": "M48M6DtYvkyR",
        "outputId": "568b044f-23af-4c43-9873-9fec72e51be3"
      },
      "source": [
        "# Print overall accuracy\n",
        "print(\"Overall accuracy from HDBSCAN: \",overallAccuracy_hdbscan)"
      ],
      "execution_count": 36,
      "outputs": [
        {
          "output_type": "stream",
          "name": "stdout",
          "text": [
            "Overall accuracy from HDBSCAN:  0.24694\n"
          ]
        }
      ]
    },
    {
      "cell_type": "code",
      "metadata": {
        "colab": {
          "base_uri": "https://localhost:8080/",
          "height": 345
        },
        "id": "thRw3HiTvkyR",
        "outputId": "b2129c16-c05a-4215-ec3e-2407918f6236"
      },
      "source": [
        "# Show cluster size\n",
        "print(\"Cluster results for HDBSCAN\")\n",
        "countByCluster_hdbscan"
      ],
      "execution_count": 37,
      "outputs": [
        {
          "output_type": "stream",
          "name": "stdout",
          "text": [
            "Cluster results for HDBSCAN\n"
          ]
        },
        {
          "output_type": "execute_result",
          "data": {
            "text/html": [
              "<div>\n",
              "<style scoped>\n",
              "    .dataframe tbody tr th:only-of-type {\n",
              "        vertical-align: middle;\n",
              "    }\n",
              "\n",
              "    .dataframe tbody tr th {\n",
              "        vertical-align: top;\n",
              "    }\n",
              "\n",
              "    .dataframe thead th {\n",
              "        text-align: right;\n",
              "    }\n",
              "</style>\n",
              "<table border=\"1\" class=\"dataframe\">\n",
              "  <thead>\n",
              "    <tr style=\"text-align: right;\">\n",
              "      <th></th>\n",
              "      <th>cluster</th>\n",
              "      <th>clusterCount</th>\n",
              "    </tr>\n",
              "  </thead>\n",
              "  <tbody>\n",
              "    <tr>\n",
              "      <th>0</th>\n",
              "      <td>-1</td>\n",
              "      <td>42569</td>\n",
              "    </tr>\n",
              "    <tr>\n",
              "      <th>1</th>\n",
              "      <td>4</td>\n",
              "      <td>5140</td>\n",
              "    </tr>\n",
              "    <tr>\n",
              "      <th>2</th>\n",
              "      <td>6</td>\n",
              "      <td>943</td>\n",
              "    </tr>\n",
              "    <tr>\n",
              "      <th>3</th>\n",
              "      <td>0</td>\n",
              "      <td>605</td>\n",
              "    </tr>\n",
              "    <tr>\n",
              "      <th>4</th>\n",
              "      <td>7</td>\n",
              "      <td>294</td>\n",
              "    </tr>\n",
              "    <tr>\n",
              "      <th>5</th>\n",
              "      <td>3</td>\n",
              "      <td>252</td>\n",
              "    </tr>\n",
              "    <tr>\n",
              "      <th>6</th>\n",
              "      <td>1</td>\n",
              "      <td>119</td>\n",
              "    </tr>\n",
              "    <tr>\n",
              "      <th>7</th>\n",
              "      <td>5</td>\n",
              "      <td>45</td>\n",
              "    </tr>\n",
              "    <tr>\n",
              "      <th>8</th>\n",
              "      <td>2</td>\n",
              "      <td>33</td>\n",
              "    </tr>\n",
              "  </tbody>\n",
              "</table>\n",
              "</div>"
            ],
            "text/plain": [
              "   cluster  clusterCount\n",
              "0       -1         42569\n",
              "1        4          5140\n",
              "2        6           943\n",
              "3        0           605\n",
              "4        7           294\n",
              "5        3           252\n",
              "6        1           119\n",
              "7        5            45\n",
              "8        2            33"
            ]
          },
          "metadata": {},
          "execution_count": 37
        }
      ]
    },
    {
      "cell_type": "code",
      "metadata": {
        "colab": {
          "base_uri": "https://localhost:8080/",
          "height": 419
        },
        "id": "_2ZK87MqeCkH",
        "outputId": "cd61032f-c2bf-4f1a-d5d1-a7168204cffa"
      },
      "source": [
        "# View cluster labels\n",
        "X_train_PCA_hdbscanClustered"
      ],
      "execution_count": 38,
      "outputs": [
        {
          "output_type": "execute_result",
          "data": {
            "text/html": [
              "<div>\n",
              "<style scoped>\n",
              "    .dataframe tbody tr th:only-of-type {\n",
              "        vertical-align: middle;\n",
              "    }\n",
              "\n",
              "    .dataframe tbody tr th {\n",
              "        vertical-align: top;\n",
              "    }\n",
              "\n",
              "    .dataframe thead th {\n",
              "        text-align: right;\n",
              "    }\n",
              "</style>\n",
              "<table border=\"1\" class=\"dataframe\">\n",
              "  <thead>\n",
              "    <tr style=\"text-align: right;\">\n",
              "      <th></th>\n",
              "      <th>cluster</th>\n",
              "    </tr>\n",
              "  </thead>\n",
              "  <tbody>\n",
              "    <tr>\n",
              "      <th>0</th>\n",
              "      <td>-1</td>\n",
              "    </tr>\n",
              "    <tr>\n",
              "      <th>1</th>\n",
              "      <td>0</td>\n",
              "    </tr>\n",
              "    <tr>\n",
              "      <th>2</th>\n",
              "      <td>-1</td>\n",
              "    </tr>\n",
              "    <tr>\n",
              "      <th>3</th>\n",
              "      <td>4</td>\n",
              "    </tr>\n",
              "    <tr>\n",
              "      <th>4</th>\n",
              "      <td>-1</td>\n",
              "    </tr>\n",
              "    <tr>\n",
              "      <th>...</th>\n",
              "      <td>...</td>\n",
              "    </tr>\n",
              "    <tr>\n",
              "      <th>49995</th>\n",
              "      <td>-1</td>\n",
              "    </tr>\n",
              "    <tr>\n",
              "      <th>49996</th>\n",
              "      <td>-1</td>\n",
              "    </tr>\n",
              "    <tr>\n",
              "      <th>49997</th>\n",
              "      <td>-1</td>\n",
              "    </tr>\n",
              "    <tr>\n",
              "      <th>49998</th>\n",
              "      <td>-1</td>\n",
              "    </tr>\n",
              "    <tr>\n",
              "      <th>49999</th>\n",
              "      <td>-1</td>\n",
              "    </tr>\n",
              "  </tbody>\n",
              "</table>\n",
              "<p>50000 rows × 1 columns</p>\n",
              "</div>"
            ],
            "text/plain": [
              "       cluster\n",
              "0           -1\n",
              "1            0\n",
              "2           -1\n",
              "3            4\n",
              "4           -1\n",
              "...        ...\n",
              "49995       -1\n",
              "49996       -1\n",
              "49997       -1\n",
              "49998       -1\n",
              "49999       -1\n",
              "\n",
              "[50000 rows x 1 columns]"
            ]
          },
          "metadata": {},
          "execution_count": 38
        }
      ]
    },
    {
      "cell_type": "code",
      "metadata": {
        "id": "fXqAc1g0eGLT"
      },
      "source": [
        "# Save cluster labels\n",
        "X_train_PCA_hdbscanClustered[0:2000].to_csv(log_dir+'hdbscan_cluster_labels.tsv', sep = '\\t', index=False, header=False)"
      ],
      "execution_count": 39,
      "outputs": []
    },
    {
      "cell_type": "markdown",
      "metadata": {
        "id": "DwZEiTMQyrDB"
      },
      "source": [
        "# Conclusion"
      ]
    },
    {
      "cell_type": "code",
      "metadata": {
        "colab": {
          "base_uri": "https://localhost:8080/"
        },
        "id": "TTsssVuxp5id",
        "outputId": "03e74f4d-3e38-4682-d496-90b8d97d1366"
      },
      "source": [
        "import datetime as dt\n",
        "print(\"Completed: \", dt.datetime.now())"
      ],
      "execution_count": 40,
      "outputs": [
        {
          "output_type": "stream",
          "name": "stdout",
          "text": [
            "Completed:  2021-09-15 03:56:58.483668\n"
          ]
        }
      ]
    }
  ]
}