{
  "nbformat": 4,
  "nbformat_minor": 0,
  "metadata": {
    "colab": {
      "name": "ch11-1-knn.ipynb",
      "provenance": [],
      "authorship_tag": "ABX9TyMG5r1qvJgRgBqM3vePxZxK",
      "include_colab_link": true
    },
    "kernelspec": {
      "name": "python3",
      "display_name": "Python 3"
    },
    "language_info": {
      "name": "python"
    }
  },
  "cells": [
    {
      "cell_type": "markdown",
      "metadata": {
        "id": "view-in-github",
        "colab_type": "text"
      },
      "source": [
        "<a href=\"https://colab.research.google.com/github/jumbokh/nknu-class/blob/main/ML/notebooks/ch11_1_knn.ipynb\" target=\"_parent\"><img src=\"https://colab.research.google.com/assets/colab-badge.svg\" alt=\"Open In Colab\"/></a>"
      ]
    },
    {
      "cell_type": "code",
      "metadata": {
        "id": "HahM1If3XOI4"
      },
      "source": [
        "# coding: utf-8\n",
        "# # KNN\n",
        "# * 加载数据集"
      ],
      "execution_count": 1,
      "outputs": []
    },
    {
      "cell_type": "code",
      "metadata": {
        "id": "O2cPj2qNV_UA"
      },
      "source": [
        "%matplotlib inline\n",
        "import os\n",
        "import numpy as np\n",
        "from scipy import stats\n",
        "import pandas as pd\n",
        "#import sklearn.cross_validation as cross_validation\n",
        "from sklearn.model_selection import train_test_split\n",
        "import matplotlib.pyplot as plt"
      ],
      "execution_count": 3,
      "outputs": []
    },
    {
      "cell_type": "code",
      "metadata": {
        "id": "E5EDO2ZOWLE5"
      },
      "source": [
        "pd.set_option('display.max_columns', None)"
      ],
      "execution_count": 4,
      "outputs": []
    },
    {
      "cell_type": "code",
      "metadata": {
        "colab": {
          "base_uri": "https://localhost:8080/",
          "height": 297
        },
        "id": "HuIzFS0vWR53",
        "outputId": "2c3b23bd-ec8f-4f64-8b79-32df90a7ed52"
      },
      "source": [
        "orgData = pd.read_csv('date_data2.csv')\n",
        "orgData.describe()"
      ],
      "execution_count": 5,
      "outputs": [
        {
          "output_type": "execute_result",
          "data": {
            "text/html": [
              "<div>\n",
              "<style scoped>\n",
              "    .dataframe tbody tr th:only-of-type {\n",
              "        vertical-align: middle;\n",
              "    }\n",
              "\n",
              "    .dataframe tbody tr th {\n",
              "        vertical-align: top;\n",
              "    }\n",
              "\n",
              "    .dataframe thead th {\n",
              "        text-align: right;\n",
              "    }\n",
              "</style>\n",
              "<table border=\"1\" class=\"dataframe\">\n",
              "  <thead>\n",
              "    <tr style=\"text-align: right;\">\n",
              "      <th></th>\n",
              "      <th>income</th>\n",
              "      <th>attractive</th>\n",
              "      <th>assets</th>\n",
              "      <th>edueduclass</th>\n",
              "      <th>Dated</th>\n",
              "      <th>income_rank</th>\n",
              "      <th>attractive_rank</th>\n",
              "      <th>assets_rank</th>\n",
              "    </tr>\n",
              "  </thead>\n",
              "  <tbody>\n",
              "    <tr>\n",
              "      <th>count</th>\n",
              "      <td>100.000000</td>\n",
              "      <td>100.000000</td>\n",
              "      <td>100.000000</td>\n",
              "      <td>100.000000</td>\n",
              "      <td>100.000000</td>\n",
              "      <td>100.000000</td>\n",
              "      <td>100.000000</td>\n",
              "      <td>100.000000</td>\n",
              "    </tr>\n",
              "    <tr>\n",
              "      <th>mean</th>\n",
              "      <td>9010.000000</td>\n",
              "      <td>50.500000</td>\n",
              "      <td>96.006300</td>\n",
              "      <td>3.710000</td>\n",
              "      <td>0.500000</td>\n",
              "      <td>1.550000</td>\n",
              "      <td>1.560000</td>\n",
              "      <td>1.510000</td>\n",
              "    </tr>\n",
              "    <tr>\n",
              "      <th>std</th>\n",
              "      <td>5832.675288</td>\n",
              "      <td>28.810948</td>\n",
              "      <td>91.082226</td>\n",
              "      <td>1.225116</td>\n",
              "      <td>0.502519</td>\n",
              "      <td>1.140397</td>\n",
              "      <td>1.103896</td>\n",
              "      <td>1.123621</td>\n",
              "    </tr>\n",
              "    <tr>\n",
              "      <th>min</th>\n",
              "      <td>3000.000000</td>\n",
              "      <td>1.000000</td>\n",
              "      <td>3.728400</td>\n",
              "      <td>1.000000</td>\n",
              "      <td>0.000000</td>\n",
              "      <td>0.000000</td>\n",
              "      <td>0.000000</td>\n",
              "      <td>0.000000</td>\n",
              "    </tr>\n",
              "    <tr>\n",
              "      <th>25%</th>\n",
              "      <td>5000.000000</td>\n",
              "      <td>28.000000</td>\n",
              "      <td>31.665269</td>\n",
              "      <td>3.000000</td>\n",
              "      <td>0.000000</td>\n",
              "      <td>1.000000</td>\n",
              "      <td>1.000000</td>\n",
              "      <td>0.750000</td>\n",
              "    </tr>\n",
              "    <tr>\n",
              "      <th>50%</th>\n",
              "      <td>7500.000000</td>\n",
              "      <td>51.000000</td>\n",
              "      <td>70.746924</td>\n",
              "      <td>4.000000</td>\n",
              "      <td>0.500000</td>\n",
              "      <td>2.000000</td>\n",
              "      <td>2.000000</td>\n",
              "      <td>2.000000</td>\n",
              "    </tr>\n",
              "    <tr>\n",
              "      <th>75%</th>\n",
              "      <td>11500.000000</td>\n",
              "      <td>68.875000</td>\n",
              "      <td>131.481061</td>\n",
              "      <td>4.000000</td>\n",
              "      <td>1.000000</td>\n",
              "      <td>3.000000</td>\n",
              "      <td>2.250000</td>\n",
              "      <td>2.250000</td>\n",
              "    </tr>\n",
              "    <tr>\n",
              "      <th>max</th>\n",
              "      <td>34000.000000</td>\n",
              "      <td>99.500000</td>\n",
              "      <td>486.311758</td>\n",
              "      <td>6.000000</td>\n",
              "      <td>1.000000</td>\n",
              "      <td>3.000000</td>\n",
              "      <td>3.000000</td>\n",
              "      <td>3.000000</td>\n",
              "    </tr>\n",
              "  </tbody>\n",
              "</table>\n",
              "</div>"
            ],
            "text/plain": [
              "             income  attractive      assets  edueduclass       Dated  \\\n",
              "count    100.000000  100.000000  100.000000   100.000000  100.000000   \n",
              "mean    9010.000000   50.500000   96.006300     3.710000    0.500000   \n",
              "std     5832.675288   28.810948   91.082226     1.225116    0.502519   \n",
              "min     3000.000000    1.000000    3.728400     1.000000    0.000000   \n",
              "25%     5000.000000   28.000000   31.665269     3.000000    0.000000   \n",
              "50%     7500.000000   51.000000   70.746924     4.000000    0.500000   \n",
              "75%    11500.000000   68.875000  131.481061     4.000000    1.000000   \n",
              "max    34000.000000   99.500000  486.311758     6.000000    1.000000   \n",
              "\n",
              "       income_rank  attractive_rank  assets_rank  \n",
              "count   100.000000       100.000000   100.000000  \n",
              "mean      1.550000         1.560000     1.510000  \n",
              "std       1.140397         1.103896     1.123621  \n",
              "min       0.000000         0.000000     0.000000  \n",
              "25%       1.000000         1.000000     0.750000  \n",
              "50%       2.000000         2.000000     2.000000  \n",
              "75%       3.000000         2.250000     2.250000  \n",
              "max       3.000000         3.000000     3.000000  "
            ]
          },
          "metadata": {},
          "execution_count": 5
        }
      ]
    },
    {
      "cell_type": "code",
      "metadata": {
        "id": "9ik23psrXU7E"
      },
      "source": [
        "# * 选取自变量"
      ],
      "execution_count": 6,
      "outputs": []
    },
    {
      "cell_type": "code",
      "metadata": {
        "colab": {
          "base_uri": "https://localhost:8080/",
          "height": 204
        },
        "id": "EqxlxJ-MWbSs",
        "outputId": "5ab58cfa-a314-4ea1-95f3-48a7d043f7ec"
      },
      "source": [
        "X = orgData.iloc[:, :4]\n",
        "Y = orgData[['Dated']]\n",
        "X.head()"
      ],
      "execution_count": 9,
      "outputs": [
        {
          "output_type": "execute_result",
          "data": {
            "text/html": [
              "<div>\n",
              "<style scoped>\n",
              "    .dataframe tbody tr th:only-of-type {\n",
              "        vertical-align: middle;\n",
              "    }\n",
              "\n",
              "    .dataframe tbody tr th {\n",
              "        vertical-align: top;\n",
              "    }\n",
              "\n",
              "    .dataframe thead th {\n",
              "        text-align: right;\n",
              "    }\n",
              "</style>\n",
              "<table border=\"1\" class=\"dataframe\">\n",
              "  <thead>\n",
              "    <tr style=\"text-align: right;\">\n",
              "      <th></th>\n",
              "      <th>income</th>\n",
              "      <th>attractive</th>\n",
              "      <th>assets</th>\n",
              "      <th>edueduclass</th>\n",
              "    </tr>\n",
              "  </thead>\n",
              "  <tbody>\n",
              "    <tr>\n",
              "      <th>0</th>\n",
              "      <td>3000</td>\n",
              "      <td>9.0</td>\n",
              "      <td>5.145476</td>\n",
              "      <td>1</td>\n",
              "    </tr>\n",
              "    <tr>\n",
              "      <th>1</th>\n",
              "      <td>3000</td>\n",
              "      <td>14.5</td>\n",
              "      <td>40.643781</td>\n",
              "      <td>4</td>\n",
              "    </tr>\n",
              "    <tr>\n",
              "      <th>2</th>\n",
              "      <td>3000</td>\n",
              "      <td>6.0</td>\n",
              "      <td>5.145476</td>\n",
              "      <td>1</td>\n",
              "    </tr>\n",
              "    <tr>\n",
              "      <th>3</th>\n",
              "      <td>3000</td>\n",
              "      <td>1.0</td>\n",
              "      <td>7.067434</td>\n",
              "      <td>1</td>\n",
              "    </tr>\n",
              "    <tr>\n",
              "      <th>4</th>\n",
              "      <td>3500</td>\n",
              "      <td>14.5</td>\n",
              "      <td>3.728400</td>\n",
              "      <td>2</td>\n",
              "    </tr>\n",
              "  </tbody>\n",
              "</table>\n",
              "</div>"
            ],
            "text/plain": [
              "   income  attractive     assets  edueduclass\n",
              "0    3000         9.0   5.145476            1\n",
              "1    3000        14.5  40.643781            4\n",
              "2    3000         6.0   5.145476            1\n",
              "3    3000         1.0   7.067434            1\n",
              "4    3500        14.5   3.728400            2"
            ]
          },
          "metadata": {},
          "execution_count": 9
        }
      ]
    },
    {
      "cell_type": "code",
      "metadata": {
        "id": "RjbrXCRUXZJO"
      },
      "source": [
        "# * 极值标准化"
      ],
      "execution_count": null,
      "outputs": []
    },
    {
      "cell_type": "code",
      "metadata": {
        "colab": {
          "base_uri": "https://localhost:8080/"
        },
        "id": "kjxEVaJDWgUP",
        "outputId": "c728c8b7-1d22-4d02-92b6-f2799e5a5cf3"
      },
      "source": [
        "from sklearn import preprocessing\n",
        "\n",
        "min_max_scaler = preprocessing.MinMaxScaler()\n",
        "X_scaled = min_max_scaler.fit_transform(X)\n",
        "X_scaled[1:5]"
      ],
      "execution_count": 10,
      "outputs": [
        {
          "output_type": "execute_result",
          "data": {
            "text/plain": [
              "array([[0.        , 0.13705584, 0.07649535, 0.6       ],\n",
              "       [0.        , 0.05076142, 0.00293644, 0.        ],\n",
              "       [0.        , 0.        , 0.00691908, 0.        ],\n",
              "       [0.01612903, 0.13705584, 0.        , 0.2       ]])"
            ]
          },
          "metadata": {},
          "execution_count": 10
        }
      ]
    },
    {
      "cell_type": "code",
      "metadata": {
        "id": "m78nHdicXdGN"
      },
      "source": [
        "# * 划分训练集和测试集"
      ],
      "execution_count": null,
      "outputs": []
    },
    {
      "cell_type": "code",
      "metadata": {
        "id": "MDxZZnTUWkEX"
      },
      "source": [
        "train_data, test_data, train_target, test_target = train_test_split(\n",
        "    X_scaled, Y, test_size=0.2, train_size=0.8, random_state=123)   #划分训练集和测试集"
      ],
      "execution_count": 12,
      "outputs": []
    },
    {
      "cell_type": "code",
      "metadata": {
        "id": "SGnFJJ_PXh1d"
      },
      "source": [
        "# 上述过程有没有问题？\n",
        "\n",
        "# * 建模"
      ],
      "execution_count": null,
      "outputs": []
    },
    {
      "cell_type": "code",
      "metadata": {
        "id": "mvTUyEjaWowa"
      },
      "source": [
        "from sklearn.neighbors import KNeighborsClassifier\n",
        "\n",
        "model = KNeighborsClassifier(n_neighbors=3)  # 默认欧氏距离\n",
        "model.fit(train_data, train_target.values.flatten())\n",
        "test_est = model.predict(test_data)"
      ],
      "execution_count": 13,
      "outputs": []
    },
    {
      "cell_type": "code",
      "metadata": {
        "id": "gMdHvJFQXmWR"
      },
      "source": [
        "# * 验证"
      ],
      "execution_count": null,
      "outputs": []
    },
    {
      "cell_type": "code",
      "metadata": {
        "colab": {
          "base_uri": "https://localhost:8080/"
        },
        "id": "8tFLdhtzWsEt",
        "outputId": "b5f4d53c-4d0a-41e7-e138-a250c40de567"
      },
      "source": [
        "import sklearn.metrics as metrics\n",
        "\n",
        "print(metrics.confusion_matrix(test_target, test_est, labels=[0, 1]))  # 混淆矩阵\n",
        "print(metrics.classification_report(test_target, test_est))"
      ],
      "execution_count": 14,
      "outputs": [
        {
          "output_type": "stream",
          "name": "stdout",
          "text": [
            "[[ 8  1]\n",
            " [ 1 10]]\n",
            "              precision    recall  f1-score   support\n",
            "\n",
            "           0       0.89      0.89      0.89         9\n",
            "           1       0.91      0.91      0.91        11\n",
            "\n",
            "    accuracy                           0.90        20\n",
            "   macro avg       0.90      0.90      0.90        20\n",
            "weighted avg       0.90      0.90      0.90        20\n",
            "\n"
          ]
        }
      ]
    },
    {
      "cell_type": "code",
      "metadata": {
        "colab": {
          "base_uri": "https://localhost:8080/"
        },
        "id": "3RuAXEp_WvG_",
        "outputId": "4f377dab-f5ca-4303-9fd1-4c1a6ea51b43"
      },
      "source": [
        "model.score(test_data, test_target)"
      ],
      "execution_count": 15,
      "outputs": [
        {
          "output_type": "execute_result",
          "data": {
            "text/plain": [
              "0.9"
            ]
          },
          "metadata": {},
          "execution_count": 15
        }
      ]
    },
    {
      "cell_type": "code",
      "metadata": {
        "id": "3pZ-qv_pXxcg"
      },
      "source": [
        "# * 选择k值"
      ],
      "execution_count": null,
      "outputs": []
    },
    {
      "cell_type": "code",
      "metadata": {
        "colab": {
          "base_uri": "https://localhost:8080/"
        },
        "id": "qFCn8V97W0DQ",
        "outputId": "bed4a0c9-fc51-4215-fe29-caf501e67fb5"
      },
      "source": [
        "for k in range(1, 30):\n",
        "    k_model = KNeighborsClassifier(n_neighbors=k)\n",
        "    k_model.fit(train_data, train_target.values.flatten())\n",
        "    score = k_model.score(test_data, test_target)\n",
        "    print(k, '\\t', score)"
      ],
      "execution_count": 16,
      "outputs": [
        {
          "output_type": "stream",
          "name": "stdout",
          "text": [
            "1 \t 0.9\n",
            "2 \t 0.85\n",
            "3 \t 0.9\n",
            "4 \t 0.9\n",
            "5 \t 0.9\n",
            "6 \t 0.85\n",
            "7 \t 0.9\n",
            "8 \t 0.85\n",
            "9 \t 0.9\n",
            "10 \t 0.85\n",
            "11 \t 0.9\n",
            "12 \t 0.95\n",
            "13 \t 1.0\n",
            "14 \t 1.0\n",
            "15 \t 1.0\n",
            "16 \t 1.0\n",
            "17 \t 1.0\n",
            "18 \t 1.0\n",
            "19 \t 1.0\n",
            "20 \t 0.95\n",
            "21 \t 0.95\n",
            "22 \t 0.85\n",
            "23 \t 0.85\n",
            "24 \t 0.85\n",
            "25 \t 0.85\n",
            "26 \t 0.85\n",
            "27 \t 0.85\n",
            "28 \t 0.8\n",
            "29 \t 0.8\n"
          ]
        }
      ]
    },
    {
      "cell_type": "code",
      "metadata": {
        "id": "yWcctuxXX1Rt"
      },
      "source": [
        "# * 交叉验证选择k值"
      ],
      "execution_count": null,
      "outputs": []
    },
    {
      "cell_type": "code",
      "metadata": {
        "colab": {
          "base_uri": "https://localhost:8080/"
        },
        "id": "GVRJ95vUW4DG",
        "outputId": "c77b57e0-769d-4673-b891-e5025c35f056"
      },
      "source": [
        "from sklearn import model_selection\n",
        "from sklearn.model_selection import RandomizedSearchCV\n",
        "from sklearn.model_selection import GridSearchCV\n",
        "from sklearn.model_selection import train_test_split\n",
        "\n",
        "n_samples = len(train_data)\n",
        "kf = model_selection.KFold(n_splits=3)\n",
        "grid = {'n_neighbors':[1,2,3,4,5,6,7,8,9]}\n",
        "estimator = KNeighborsClassifier()\n",
        "gridSearchCV = GridSearchCV(estimator, grid, cv=kf)\n",
        "gridSearchCV.fit(train_data, train_target.values.flatten())\n",
        "#gridSearchCV.grid_scores_\n",
        "print(gridSearchCV.best_params_)"
      ],
      "execution_count": 22,
      "outputs": [
        {
          "output_type": "stream",
          "name": "stdout",
          "text": [
            "{'n_neighbors': 7}\n"
          ]
        }
      ]
    },
    {
      "cell_type": "code",
      "metadata": {
        "colab": {
          "base_uri": "https://localhost:8080/"
        },
        "id": "XjukGk5XXCQ4",
        "outputId": "f60d3d30-6bfd-49ab-9c2d-1bc79a4207d2"
      },
      "source": [
        "best = gridSearchCV.best_estimator_ \n",
        "best.score(test_data, test_target)"
      ],
      "execution_count": 23,
      "outputs": [
        {
          "output_type": "execute_result",
          "data": {
            "text/plain": [
              "0.9"
            ]
          },
          "metadata": {},
          "execution_count": 23
        }
      ]
    },
    {
      "cell_type": "code",
      "metadata": {
        "id": "l-ArYgAgX6Rb"
      },
      "source": [
        "# 练习：试一试哪些参数会影响结果\n",
        "###################################################################################################"
      ],
      "execution_count": null,
      "outputs": []
    }
  ]
}