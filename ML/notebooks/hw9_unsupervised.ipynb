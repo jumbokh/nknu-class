{
  "nbformat": 4,
  "nbformat_minor": 0,
  "metadata": {
    "colab": {
      "name": "hw9_unsupervised.ipynb",
      "provenance": [],
      "collapsed_sections": [],
      "toc_visible": true,
      "include_colab_link": true
    },
    "kernelspec": {
      "name": "python3",
      "display_name": "Python 3"
    },
    "accelerator": "GPU"
  },
  "cells": [
    {
      "cell_type": "markdown",
      "metadata": {
        "id": "view-in-github",
        "colab_type": "text"
      },
      "source": [
        "<a href=\"https://colab.research.google.com/github/jumbokh/nknu-class/blob/main/ML/notebooks/hw9_unsupervised.ipynb\" target=\"_parent\"><img src=\"https://colab.research.google.com/assets/colab-badge.svg\" alt=\"Open In Colab\"/></a>"
      ]
    },
    {
      "cell_type": "markdown",
      "metadata": {
        "id": "r1_Q26m0LN2r"
      },
      "source": [
        "This is the tutorial of **Image Clustering**\n",
        "<br>\n",
        "If you want to skip the **training** phase, please refer to the **clustering** section directly.\n",
        "<br>\n",
        "**Training** required sections:  Prepare Training Data, Model, Training\n",
        "<br>\n",
        "**Clustering** required sections: Prepare Training Data, Model, Dimension Reduction & Clustering"
      ]
    },
    {
      "cell_type": "markdown",
      "metadata": {
        "id": "GUyppmxhsgJg"
      },
      "source": [
        "同學們也可以利用提供的wget指令下載訓練資料，並自行mount到雲端資料夾上，如作業一所示。這邊就不再贅述<br>\n",
        "作業的第一部分是要訓練一個autoencoder以抽取好的圖片表徵，第二部分則是將抽出來的表徵降維到二維，以便我們利用分群的方法獲得我們的答案<br>\n",
        "\n",
        "若有任何問題，歡迎來信至助教信箱 ntu-ml-2020spring-ta@googlegroups.com"
      ]
    },
    {
      "cell_type": "markdown",
      "metadata": {
        "id": "br18nlnhJ7cr"
      },
      "source": [
        "# Download Dataset"
      ]
    },
    {
      "cell_type": "code",
      "metadata": {
        "id": "Vjd8-9s3J6oE",
        "colab": {
          "base_uri": "https://localhost:8080/"
        },
        "outputId": "c7074aed-bb2a-4912-e61f-fdc2f1757330"
      },
      "source": [
        "!gdown --id '1BZb2AqOHHaad7Mo82St1qTBaXo_xtcUc' --output trainX.npy \n",
        "!gdown --id '152NKCpj8S_zuIx3bQy0NN5oqpvBjdPIq' --output valX.npy \n",
        "!gdown --id '1_hRGsFtm5KEazUg2ZvPZcuNScGF-ANh4' --output valY.npy \n",
        "!mkdir checkpoints\n",
        "!ls"
      ],
      "execution_count": null,
      "outputs": [
        {
          "output_type": "stream",
          "text": [
            "Downloading...\n",
            "From: https://drive.google.com/uc?id=1BZb2AqOHHaad7Mo82St1qTBaXo_xtcUc\n",
            "To: /content/trainX.npy\n",
            "26.1MB [00:00, 122MB/s] \n",
            "Downloading...\n",
            "From: https://drive.google.com/uc?id=152NKCpj8S_zuIx3bQy0NN5oqpvBjdPIq\n",
            "To: /content/valX.npy\n",
            "100% 1.54M/1.54M [00:00<00:00, 24.3MB/s]\n",
            "Downloading...\n",
            "From: https://drive.google.com/uc?id=1_hRGsFtm5KEazUg2ZvPZcuNScGF-ANh4\n",
            "To: /content/valY.npy\n",
            "100% 4.13k/4.13k [00:00<00:00, 6.10MB/s]\n",
            "checkpoints  sample_data  trainX.npy  valX.npy\tvalY.npy\n"
          ],
          "name": "stdout"
        }
      ]
    },
    {
      "cell_type": "markdown",
      "metadata": {
        "id": "w8WjVvaONQ-m"
      },
      "source": [
        "# Prepare Training Data"
      ]
    },
    {
      "cell_type": "markdown",
      "metadata": {
        "id": "NrIsy5olK1sH"
      },
      "source": [
        "定義我們的 preprocess：將圖片的數值介於 0~255 的 int 線性轉為 -1～1 的 float。"
      ]
    },
    {
      "cell_type": "code",
      "metadata": {
        "id": "xXTyAnhzHzHP"
      },
      "source": [
        "import numpy as np\n",
        "\n",
        "def preprocess(image_list):\n",
        "    \"\"\" Normalize Image and Permute (N,H,W,C) to (N,C,H,W)\n",
        "    Args:\n",
        "      image_list: List of images (9000, 32, 32, 3)\n",
        "    Returns:\n",
        "      image_list: List of images (9000, 3, 32, 32)\n",
        "    \"\"\"\n",
        "    image_list = np.array(image_list)\n",
        "    image_list = np.transpose(image_list, (0, 3, 1, 2))\n",
        "    image_list = (image_list / 255.0) * 2 - 1\n",
        "    image_list = image_list.astype(np.float32)\n",
        "    return image_list"
      ],
      "execution_count": null,
      "outputs": []
    },
    {
      "cell_type": "code",
      "metadata": {
        "id": "qj_hairpGhLj"
      },
      "source": [
        "from torch.utils.data import Dataset\n",
        "\n",
        "class Image_Dataset(Dataset):\n",
        "    def __init__(self, image_list):\n",
        "        self.image_list = image_list\n",
        "    def __len__(self):\n",
        "        return len(self.image_list)\n",
        "    def __getitem__(self, idx):\n",
        "        images = self.image_list[idx]\n",
        "        return images"
      ],
      "execution_count": null,
      "outputs": []
    },
    {
      "cell_type": "markdown",
      "metadata": {
        "id": "8EvJPEeGLgt7"
      },
      "source": [
        "將訓練資料讀入，並且 preprocess。\n",
        "之後我們將 preprocess 完的訓練資料變成我們需要的 dataset。請同學不要使用 valX 和 valY 來訓練。"
      ]
    },
    {
      "cell_type": "code",
      "metadata": {
        "id": "G_tMv9S5oqn9"
      },
      "source": [
        "from torch.utils.data import DataLoader\n",
        "\n",
        "trainX = np.load('trainX.npy')\n",
        "trainX_preprocessed = preprocess(trainX)\n",
        "img_dataset = Image_Dataset(trainX_preprocessed)"
      ],
      "execution_count": null,
      "outputs": []
    },
    {
      "cell_type": "markdown",
      "metadata": {
        "id": "Z64cTA5jaNtg"
      },
      "source": [
        "# Some useful functions\n"
      ]
    },
    {
      "cell_type": "markdown",
      "metadata": {
        "id": "wCtxq6GSL4tq"
      },
      "source": [
        "這邊提供一些有用的 functions。\n",
        "一個是計算 model 參數量的（report 會用到），另一個是固定訓練的隨機種子（以便 reproduce）。"
      ]
    },
    {
      "cell_type": "code",
      "metadata": {
        "id": "KWJNJs-UaUFb"
      },
      "source": [
        "import random\n",
        "import torch\n",
        "\n",
        "def count_parameters(model, only_trainable=False):\n",
        "    if only_trainable:\n",
        "        return sum(p.numel() for p in model.parameters() if p.requires_grad)\n",
        "    else:\n",
        "        return sum(p.numel() for p in model.parameters())\n",
        "\n",
        "def same_seeds(seed):\n",
        "    torch.manual_seed(seed)\n",
        "    if torch.cuda.is_available():\n",
        "        torch.cuda.manual_seed(seed)\n",
        "        torch.cuda.manual_seed_all(seed)  # if you are using multi-GPU.\n",
        "    np.random.seed(seed)  # Numpy module.\n",
        "    random.seed(seed)  # Python random module.\n",
        "    torch.backends.cudnn.benchmark = False\n",
        "    torch.backends.cudnn.deterministic = True\n"
      ],
      "execution_count": null,
      "outputs": []
    },
    {
      "cell_type": "markdown",
      "metadata": {
        "id": "O_ZuRV_dNjhD"
      },
      "source": [
        "# Model"
      ]
    },
    {
      "cell_type": "markdown",
      "metadata": {
        "id": "0mxBEwGYMSjm"
      },
      "source": [
        "定義我們的 baseline autoeocoder。"
      ]
    },
    {
      "cell_type": "code",
      "metadata": {
        "id": "dci5VCIuQwvI"
      },
      "source": [
        "import torch.nn as nn\n",
        "\n",
        "class AE(nn.Module):\n",
        "    def __init__(self):\n",
        "        super(AE, self).__init__()\n",
        "        \n",
        "        self.encoder = nn.Sequential(\n",
        "            nn.Conv2d(3, 64, 3, stride=1, padding=1),\n",
        "            nn.ReLU(True),\n",
        "            nn.MaxPool2d(2),\n",
        "            nn.Conv2d(64, 128, 3, stride=1, padding=1),\n",
        "            nn.ReLU(True),\n",
        "            nn.MaxPool2d(2),\n",
        "            nn.Conv2d(128, 256, 3, stride=1, padding=1),\n",
        "            nn.ReLU(True),\n",
        "            nn.MaxPool2d(2)\n",
        "        )\n",
        " \n",
        "        self.decoder = nn.Sequential(\n",
        "            nn.ConvTranspose2d(256, 128, 5, stride=1),\n",
        "            nn.ReLU(True),\n",
        "            nn.ConvTranspose2d(128, 64, 9, stride=1),\n",
        "            nn.ReLU(True),\n",
        "            nn.ConvTranspose2d(64, 3, 17, stride=1),\n",
        "            nn.Tanh()\n",
        "        )\n",
        "\n",
        "    def forward(self, x):\n",
        "        x1 = self.encoder(x)\n",
        "        x  = self.decoder(x1)\n",
        "        return x1, x"
      ],
      "execution_count": null,
      "outputs": []
    },
    {
      "cell_type": "code",
      "metadata": {
        "id": "WbSy97kjQgEo",
        "colab": {
          "base_uri": "https://localhost:8080/"
        },
        "outputId": "3e48275a-ef8f-4edb-c8f8-62ea3c2fd962"
      },
      "source": [
        "!nvidia-smi"
      ],
      "execution_count": null,
      "outputs": [
        {
          "output_type": "stream",
          "text": [
            "Mon Dec  7 07:18:02 2020       \n",
            "+-----------------------------------------------------------------------------+\n",
            "| NVIDIA-SMI 455.45.01    Driver Version: 418.67       CUDA Version: 10.1     |\n",
            "|-------------------------------+----------------------+----------------------+\n",
            "| GPU  Name        Persistence-M| Bus-Id        Disp.A | Volatile Uncorr. ECC |\n",
            "| Fan  Temp  Perf  Pwr:Usage/Cap|         Memory-Usage | GPU-Util  Compute M. |\n",
            "|                               |                      |               MIG M. |\n",
            "|===============================+======================+======================|\n",
            "|   0  Tesla T4            Off  | 00000000:00:04.0 Off |                    0 |\n",
            "| N/A   63C    P8    11W /  70W |      0MiB / 15079MiB |      0%      Default |\n",
            "|                               |                      |                 ERR! |\n",
            "+-------------------------------+----------------------+----------------------+\n",
            "                                                                               \n",
            "+-----------------------------------------------------------------------------+\n",
            "| Processes:                                                                  |\n",
            "|  GPU   GI   CI        PID   Type   Process name                  GPU Memory |\n",
            "|        ID   ID                                                   Usage      |\n",
            "|=============================================================================|\n",
            "|  No running processes found                                                 |\n",
            "+-----------------------------------------------------------------------------+\n"
          ],
          "name": "stdout"
        }
      ]
    },
    {
      "cell_type": "markdown",
      "metadata": {
        "id": "mF_7fi7xM5Er"
      },
      "source": [
        "# Training"
      ]
    },
    {
      "cell_type": "markdown",
      "metadata": {
        "id": "p8Wr2tNYNgcP"
      },
      "source": [
        "這個部分就是主要的訓練階段。\n",
        "我們先將準備好的 dataset 當作參數餵給 dataloader。\n",
        "將 dataloader、model、loss criterion、optimizer 都準備好之後，就可以開始訓練。\n",
        "訓練完成後，我們會將 model 存下來。"
      ]
    },
    {
      "cell_type": "code",
      "metadata": {
        "id": "uKZ9rhK-2b76",
        "colab": {
          "base_uri": "https://localhost:8080/"
        },
        "outputId": "09f8866a-03c0-4eb2-8714-99203018f7a4"
      },
      "source": [
        "import torch\n",
        "from torch import optim\n",
        "\n",
        "same_seeds(0)\n",
        "\n",
        "model = AE().cuda()\n",
        "criterion = nn.MSELoss()\n",
        "optimizer = torch.optim.Adam(model.parameters(), lr=1e-5, weight_decay=1e-5)\n",
        "\n",
        "model.train()\n",
        "n_epoch = 100\n",
        "\n",
        "# 準備 dataloader, model, loss criterion 和 optimizer\n",
        "img_dataloader = DataLoader(img_dataset, batch_size=64, shuffle=True)\n",
        "\n",
        "epoch_loss = 0\n",
        "\n",
        "# 主要的訓練過程\n",
        "for epoch in range(n_epoch):\n",
        "    epoch_loss = 0\n",
        "    for data in img_dataloader:\n",
        "        img = data\n",
        "        img = img.cuda()\n",
        "\n",
        "        output1, output = model(img)\n",
        "        loss = criterion(output, img)\n",
        "        \n",
        "        optimizer.zero_grad()\n",
        "        loss.backward()\n",
        "        optimizer.step()\n",
        "        if (epoch+1) % 10 == 0:\n",
        "            torch.save(model.state_dict(), './checkpoints/checkpoint_{}.pth'.format(epoch+1))\n",
        "        \n",
        "        epoch_loss += loss.item()\n",
        "            \n",
        "    print('epoch [{}/{}], loss:{:.5f}'.format(epoch+1, n_epoch, epoch_loss))\n",
        "\n",
        "# 訓練完成後儲存 model\n",
        "torch.save(model.state_dict(), './checkpoints/last_checkpoint.pth')"
      ],
      "execution_count": null,
      "outputs": [
        {
          "output_type": "stream",
          "text": [
            "epoch [1/100], loss:30.19016\n",
            "epoch [2/100], loss:24.44979\n",
            "epoch [3/100], loss:20.23524\n",
            "epoch [4/100], loss:17.27661\n",
            "epoch [5/100], loss:15.51892\n",
            "epoch [6/100], loss:14.44425\n",
            "epoch [7/100], loss:13.72345\n",
            "epoch [8/100], loss:13.17502\n",
            "epoch [9/100], loss:12.73952\n",
            "epoch [10/100], loss:12.35698\n",
            "epoch [11/100], loss:12.03417\n",
            "epoch [12/100], loss:11.73881\n",
            "epoch [13/100], loss:11.47652\n",
            "epoch [14/100], loss:11.26191\n",
            "epoch [15/100], loss:11.06068\n",
            "epoch [16/100], loss:10.85563\n",
            "epoch [17/100], loss:10.69214\n",
            "epoch [18/100], loss:10.53789\n",
            "epoch [19/100], loss:10.37379\n",
            "epoch [20/100], loss:10.22476\n",
            "epoch [21/100], loss:10.08626\n",
            "epoch [22/100], loss:9.94572\n",
            "epoch [23/100], loss:9.82991\n",
            "epoch [24/100], loss:9.70690\n",
            "epoch [25/100], loss:9.60190\n",
            "epoch [26/100], loss:9.48475\n",
            "epoch [27/100], loss:9.38831\n",
            "epoch [28/100], loss:9.27912\n",
            "epoch [29/100], loss:9.18689\n",
            "epoch [30/100], loss:9.10851\n",
            "epoch [31/100], loss:9.02019\n",
            "epoch [32/100], loss:8.93524\n",
            "epoch [33/100], loss:8.85300\n",
            "epoch [34/100], loss:8.77474\n",
            "epoch [35/100], loss:8.71264\n",
            "epoch [36/100], loss:8.63932\n",
            "epoch [37/100], loss:8.57373\n",
            "epoch [38/100], loss:8.50498\n",
            "epoch [39/100], loss:8.43330\n",
            "epoch [40/100], loss:8.38321\n",
            "epoch [41/100], loss:8.31852\n",
            "epoch [42/100], loss:8.26475\n",
            "epoch [43/100], loss:8.20409\n",
            "epoch [44/100], loss:8.14713\n",
            "epoch [45/100], loss:8.09333\n",
            "epoch [46/100], loss:8.04551\n",
            "epoch [47/100], loss:7.99260\n",
            "epoch [48/100], loss:7.93997\n",
            "epoch [49/100], loss:7.89626\n",
            "epoch [50/100], loss:7.84348\n",
            "epoch [51/100], loss:7.79497\n",
            "epoch [52/100], loss:7.76256\n",
            "epoch [53/100], loss:7.70843\n",
            "epoch [54/100], loss:7.66884\n",
            "epoch [55/100], loss:7.62900\n",
            "epoch [56/100], loss:7.58492\n",
            "epoch [57/100], loss:7.53909\n",
            "epoch [58/100], loss:7.50383\n",
            "epoch [59/100], loss:7.47304\n",
            "epoch [60/100], loss:7.42706\n",
            "epoch [61/100], loss:7.39298\n",
            "epoch [62/100], loss:7.34933\n",
            "epoch [63/100], loss:7.32072\n",
            "epoch [64/100], loss:7.29010\n",
            "epoch [65/100], loss:7.25036\n",
            "epoch [66/100], loss:7.20868\n",
            "epoch [67/100], loss:7.18353\n",
            "epoch [68/100], loss:7.15217\n",
            "epoch [69/100], loss:7.11538\n",
            "epoch [70/100], loss:7.09020\n",
            "epoch [71/100], loss:7.05554\n",
            "epoch [72/100], loss:7.02163\n",
            "epoch [73/100], loss:6.99675\n",
            "epoch [74/100], loss:6.95916\n",
            "epoch [75/100], loss:6.93394\n",
            "epoch [76/100], loss:6.90686\n",
            "epoch [77/100], loss:6.87245\n",
            "epoch [78/100], loss:6.84552\n",
            "epoch [79/100], loss:6.81552\n",
            "epoch [80/100], loss:6.79013\n",
            "epoch [81/100], loss:6.75904\n",
            "epoch [82/100], loss:6.73801\n",
            "epoch [83/100], loss:6.71134\n",
            "epoch [84/100], loss:6.68116\n",
            "epoch [85/100], loss:6.65612\n",
            "epoch [86/100], loss:6.63015\n",
            "epoch [87/100], loss:6.60391\n",
            "epoch [88/100], loss:6.58257\n",
            "epoch [89/100], loss:6.56278\n",
            "epoch [90/100], loss:6.53063\n",
            "epoch [91/100], loss:6.51262\n",
            "epoch [92/100], loss:6.48561\n",
            "epoch [93/100], loss:6.46148\n",
            "epoch [94/100], loss:6.43750\n",
            "epoch [95/100], loss:6.41188\n",
            "epoch [96/100], loss:6.39163\n",
            "epoch [97/100], loss:6.36818\n",
            "epoch [98/100], loss:6.35148\n",
            "epoch [99/100], loss:6.32571\n",
            "epoch [100/100], loss:6.30549\n"
          ],
          "name": "stdout"
        }
      ]
    },
    {
      "cell_type": "markdown",
      "metadata": {
        "id": "HhU5gcRhlTE1"
      },
      "source": [
        "# Dimension Reduction & Clustering"
      ]
    },
    {
      "cell_type": "code",
      "metadata": {
        "id": "jrn7UhtLyB4n"
      },
      "source": [
        "import numpy as np\n",
        "\n",
        "def cal_acc(gt, pred):\n",
        "    \"\"\" Computes categorization accuracy of our task.\n",
        "    Args:\n",
        "      gt: Ground truth labels (9000, )\n",
        "      pred: Predicted labels (9000, )\n",
        "    Returns:\n",
        "      acc: Accuracy (0~1 scalar)\n",
        "    \"\"\"\n",
        "    # Calculate Correct predictions\n",
        "    correct = np.sum(gt == pred)\n",
        "    acc = correct / gt.shape[0]\n",
        "    # 因為是 binary unsupervised clustering，因此取 max(acc, 1-acc)\n",
        "    return max(acc, 1-acc)"
      ],
      "execution_count": null,
      "outputs": []
    },
    {
      "cell_type": "code",
      "metadata": {
        "id": "hl9skAvMOvSV"
      },
      "source": [
        "import matplotlib.pyplot as plt\n",
        "\n",
        "def plot_scatter(feat, label, savefig=None):\n",
        "    \"\"\" Plot Scatter Image.\n",
        "    Args:\n",
        "      feat: the (x, y) coordinate of clustering result, shape: (9000, 2)\n",
        "      label: ground truth label of image (0/1), shape: (9000,)\n",
        "    Returns:\n",
        "      None\n",
        "    \"\"\"\n",
        "    X = feat[:, 0]\n",
        "    Y = feat[:, 1]\n",
        "    plt.scatter(X, Y, c = label)\n",
        "    plt.legend(loc='best')\n",
        "    if savefig is not None:\n",
        "        plt.savefig(savefig)\n",
        "    plt.show()\n",
        "    return"
      ],
      "execution_count": null,
      "outputs": []
    },
    {
      "cell_type": "markdown",
      "metadata": {
        "id": "c0QvyGtKOp_p"
      },
      "source": [
        "接著我們使用訓練好的 model，來預測 testing data 的類別。\n",
        "\n",
        "由於 testing data 與 training data 一樣，因此我們使用同樣的 dataset 來實作 dataloader。與 training 不同的地方在於 shuffle 這個參數值在這邊是 False。\n",
        "\n",
        "準備好 model 與 dataloader，我們就可以進行預測了。\n",
        "\n",
        "我們只需要 encoder 的結果（latents），利用 latents 進行 clustering 之後，就可以分類了。"
      ]
    },
    {
      "cell_type": "code",
      "metadata": {
        "id": "DBnn6RlncV-j",
        "colab": {
          "base_uri": "https://localhost:8080/"
        },
        "outputId": "87f795f2-ef05-4adc-88bb-bae4aa610ebc"
      },
      "source": [
        "import torch\n",
        "from sklearn.decomposition import KernelPCA\n",
        "from sklearn.manifold import TSNE\n",
        "from sklearn.cluster import MiniBatchKMeans\n",
        "\n",
        "def inference(X, model, batch_size=256):\n",
        "    X = preprocess(X)\n",
        "    dataset = Image_Dataset(X)\n",
        "    dataloader = DataLoader(dataset, batch_size=batch_size, shuffle=False)\n",
        "    latents = []\n",
        "    for i, x in enumerate(dataloader):\n",
        "        x = torch.FloatTensor(x)\n",
        "        vec, img = model(x.cuda())\n",
        "        if i == 0:\n",
        "            latents = vec.view(img.size()[0], -1).cpu().detach().numpy()\n",
        "        else:\n",
        "            latents = np.concatenate((latents, vec.view(img.size()[0], -1).cpu().detach().numpy()), axis = 0)\n",
        "    print('Latents Shape:', latents.shape)\n",
        "    return latents\n",
        "\n",
        "def predict(latents):\n",
        "    # First Dimension Reduction\n",
        "    transformer = KernelPCA(n_components=200, kernel='rbf', n_jobs=-1)\n",
        "    kpca = transformer.fit_transform(latents)\n",
        "    print('First Reduction Shape:', kpca.shape)\n",
        "\n",
        "    # # Second Dimesnion Reduction\n",
        "    X_embedded = TSNE(n_components=2).fit_transform(kpca)\n",
        "    print('Second Reduction Shape:', X_embedded.shape)\n",
        "\n",
        "    # Clustering\n",
        "    pred = MiniBatchKMeans(n_clusters=2, random_state=0).fit(X_embedded)\n",
        "    pred = [int(i) for i in pred.labels_]\n",
        "    pred = np.array(pred)\n",
        "    return pred, X_embedded\n",
        "\n",
        "def invert(pred):\n",
        "    return np.abs(1-pred)\n",
        "\n",
        "def save_prediction(pred, out_csv='prediction.csv'):\n",
        "    with open(out_csv, 'w') as f:\n",
        "        f.write('id,label\\n')\n",
        "        for i, p in enumerate(pred):\n",
        "            f.write(f'{i},{p}\\n')\n",
        "    print(f'Save prediction to {out_csv}.')\n",
        "\n",
        "# load model\n",
        "model = AE().cuda()\n",
        "model.load_state_dict(torch.load('./checkpoints/last_checkpoint.pth'))\n",
        "model.eval()\n",
        "\n",
        "# 準備 data\n",
        "trainX = np.load('trainX.npy')\n",
        "\n",
        "# 預測答案\n",
        "latents = inference(X=trainX, model=model)\n",
        "pred, X_embedded = predict(latents)\n",
        "\n",
        "# 將預測結果存檔，上傳 kaggle\n",
        "save_prediction(pred, 'prediction.csv')\n",
        "\n",
        "# 由於是 unsupervised 的二分類問題，我們只在乎有沒有成功將圖片分成兩群\n",
        "# 如果上面的檔案上傳 kaggle 後正確率不足 0.5，只要將 label 反過來就行了\n",
        "save_prediction(invert(pred), 'prediction_invert.csv')"
      ],
      "execution_count": null,
      "outputs": [
        {
          "output_type": "stream",
          "text": [
            "Latents Shape: (8500, 4096)\n"
          ],
          "name": "stdout"
        },
        {
          "output_type": "stream",
          "text": [
            "/usr/local/lib/python3.6/dist-packages/sklearn/utils/extmath.py:530: RuntimeWarning: invalid value encountered in multiply\n",
            "  v *= signs[:, np.newaxis]\n"
          ],
          "name": "stderr"
        },
        {
          "output_type": "stream",
          "text": [
            "First Reduction Shape: (8500, 200)\n",
            "Second Reduction Shape: (8500, 2)\n",
            "Save prediction to prediction.csv.\n",
            "Save prediction to prediction_invert.csv.\n"
          ],
          "name": "stdout"
        }
      ]
    },
    {
      "cell_type": "markdown",
      "metadata": {
        "id": "snHP0s9kciEn"
      },
      "source": [
        "Problem 1.b (作圖)\n",
        "===\n",
        "將 val data 的降維結果 (embedding) 與他們對應的 label 畫出來。"
      ]
    },
    {
      "cell_type": "code",
      "metadata": {
        "id": "iyNe4gUEcAhZ",
        "colab": {
          "base_uri": "https://localhost:8080/",
          "height": 391
        },
        "outputId": "7ff4bd10-fdd0-495e-89b7-12561c55ee21"
      },
      "source": [
        "valX = np.load('valX.npy')\n",
        "valY = np.load('valY.npy')\n",
        "\n",
        "# ==============================================\n",
        "#  我們示範 basline model 的作圖，\n",
        "#  report 請同學另外還要再畫一張 improved model 的圖。\n",
        "# ==============================================\n",
        "model.load_state_dict(torch.load('./checkpoints/last_checkpoint.pth'))\n",
        "model.eval()\n",
        "latents = inference(valX, model)\n",
        "pred_from_latent, emb_from_latent = predict(latents)\n",
        "acc_latent = cal_acc(valY, pred_from_latent)\n",
        "print('The clustering accuracy is:', acc_latent)\n",
        "print('The clustering result:')\n",
        "plot_scatter(emb_from_latent, valY, savefig='p1_baseline.png')\n",
        "\n"
      ],
      "execution_count": null,
      "outputs": [
        {
          "output_type": "stream",
          "text": [
            "Latents Shape: (500, 4096)\n",
            "First Reduction Shape: (500, 200)\n"
          ],
          "name": "stdout"
        },
        {
          "output_type": "stream",
          "text": [
            "No handles with labels found to put in legend.\n"
          ],
          "name": "stderr"
        },
        {
          "output_type": "stream",
          "text": [
            "Second Reduction Shape: (500, 2)\n",
            "The clustering accuracy is: 0.702\n",
            "The clustering result:\n"
          ],
          "name": "stdout"
        },
        {
          "output_type": "display_data",
          "data": {
            "image/png": "[encoded data removed]",
            "text/plain": [
              "<Figure size 432x288 with 1 Axes>"
            ]
          },
          "metadata": {
            "tags": [],
            "needs_background": "light"
          }
        }
      ]
    },
    {
      "cell_type": "markdown",
      "metadata": {
        "id": "vd10OPt5cOqi"
      },
      "source": [
        "Problem 2\n",
        "===\n",
        "使用你 test accuracy 最高的 autoencoder，從 trainX 中，取出 index 1, 2, 3, 6, 7, 9 這 6 張圖片\n",
        "畫出他們的原圖以及 reconstruct 之後的圖片。\n"
      ]
    },
    {
      "cell_type": "code",
      "metadata": {
        "id": "D1OYYPEqcCpl",
        "colab": {
          "base_uri": "https://localhost:8080/",
          "height": 269
        },
        "outputId": "2822612c-d1a1-484e-ee4d-f83ca61e01f2"
      },
      "source": [
        "import matplotlib.pyplot as plt\n",
        "import numpy as np\n",
        "\n",
        "# 畫出原圖\n",
        "plt.figure(figsize=(10,4))\n",
        "indexes = [1,2,3,6,7,9]\n",
        "imgs = trainX[indexes,]\n",
        "for i, img in enumerate(imgs):\n",
        "    plt.subplot(2, 6, i+1, xticks=[], yticks=[])\n",
        "    plt.imshow(img)\n",
        "\n",
        "# 畫出 reconstruct 的圖\n",
        "inp = torch.Tensor(trainX_preprocessed[indexes,]).cuda()\n",
        "latents, recs = model(inp)\n",
        "recs = ((recs+1)/2 ).cpu().detach().numpy()\n",
        "recs = recs.transpose(0, 2, 3, 1)\n",
        "for i, img in enumerate(recs):\n",
        "    plt.subplot(2, 6, 6+i+1, xticks=[], yticks=[])\n",
        "    plt.imshow(img)\n",
        "  \n",
        "plt.tight_layout()"
      ],
      "execution_count": null,
      "outputs": [
        {
          "output_type": "display_data",
          "data": {
            "image/png": "[encoded data removed]",
            "text/plain": [
              "<Figure size 720x288 with 12 Axes>"
            ]
          },
          "metadata": {
            "tags": []
          }
        }
      ]
    },
    {
      "cell_type": "markdown",
      "metadata": {
        "id": "hNhjaEnOcdtR"
      },
      "source": [
        "Problem 3\n",
        "===\n",
        "在 autoencoder 的訓練過程中，至少挑選 10 個 checkpoints \n",
        "請用 model 的 train reconstruction error 對 val accuracy 作圖\n",
        "簡單說明你觀察到的現象\n"
      ]
    },
    {
      "cell_type": "code",
      "metadata": {
        "id": "IAc9Ha55cDOr",
        "colab": {
          "base_uri": "https://localhost:8080/"
        },
        "outputId": "58b59b71-f554-4ad6-95fc-7ded92ed0cbe"
      },
      "source": [
        "import os\n",
        "import glob\n",
        "checkpoints_list = sorted(glob.glob('checkpoints/checkpoint_*.pth'), key= lambda x: int(os.path.splitext(os.path.basename(x))[0].split('_')[-1]))\n",
        "\n",
        "# load data\n",
        "dataset = Image_Dataset(trainX_preprocessed)\n",
        "dataloader = DataLoader(dataset, batch_size=64, shuffle=False)\n",
        "\n",
        "points = []\n",
        "with torch.no_grad():\n",
        "    for i, checkpoint in enumerate(checkpoints_list):\n",
        "        print('[{}/{}] {}'.format(i+1, len(checkpoints_list), checkpoint))\n",
        "        model.load_state_dict(torch.load(checkpoint))\n",
        "        model.eval()\n",
        "        err = 0\n",
        "        n = 0\n",
        "        for x in dataloader:\n",
        "            x = x.cuda()\n",
        "            _, rec = model(x)\n",
        "            err += torch.nn.MSELoss(reduction='sum')(x, rec).item()\n",
        "            n += x.flatten().size(0)\n",
        "        print('Reconstruction error (MSE):', err/n)\n",
        "        latents = inference(X=valX, model=model)\n",
        "        pred, X_embedded = predict(latents)\n",
        "        acc = cal_acc(valY, pred)\n",
        "        print('Accuracy:', acc)\n",
        "        points.append((err/n, acc))\n",
        "\n"
      ],
      "execution_count": null,
      "outputs": [
        {
          "output_type": "stream",
          "text": [
            "[1/10] checkpoints/checkpoint_10.pth\n",
            "Reconstruction error (MSE): 0.09170266521678251\n",
            "Latents Shape: (500, 4096)\n",
            "First Reduction Shape: (500, 200)\n",
            "Second Reduction Shape: (500, 2)\n",
            "Accuracy: 0.522\n",
            "[2/10] checkpoints/checkpoint_20.pth\n",
            "Reconstruction error (MSE): 0.07635180966994341\n",
            "Latents Shape: (500, 4096)\n",
            "First Reduction Shape: (500, 200)\n",
            "Second Reduction Shape: (500, 2)\n",
            "Accuracy: 0.568\n",
            "[3/10] checkpoints/checkpoint_30.pth\n",
            "Reconstruction error (MSE): 0.06858101994383568\n",
            "Latents Shape: (500, 4096)\n",
            "First Reduction Shape: (500, 200)\n",
            "Second Reduction Shape: (500, 2)\n",
            "Accuracy: 0.612\n",
            "[4/10] checkpoints/checkpoint_40.pth\n",
            "Reconstruction error (MSE): 0.062614314958161\n",
            "Latents Shape: (500, 4096)\n",
            "First Reduction Shape: (500, 200)\n",
            "Second Reduction Shape: (500, 2)\n",
            "Accuracy: 0.58\n",
            "[5/10] checkpoints/checkpoint_50.pth\n",
            "Reconstruction error (MSE): 0.05867909356659534\n",
            "Latents Shape: (500, 4096)\n",
            "First Reduction Shape: (500, 200)\n",
            "Second Reduction Shape: (500, 2)\n",
            "Accuracy: 0.656\n",
            "[6/10] checkpoints/checkpoint_60.pth\n",
            "Reconstruction error (MSE): 0.05561802314309513\n",
            "Latents Shape: (500, 4096)\n",
            "First Reduction Shape: (500, 200)\n",
            "Second Reduction Shape: (500, 2)\n",
            "Accuracy: 0.708\n",
            "[7/10] checkpoints/checkpoint_70.pth\n",
            "Reconstruction error (MSE): 0.05303965295529833\n",
            "Latents Shape: (500, 4096)\n",
            "First Reduction Shape: (500, 200)\n",
            "Second Reduction Shape: (500, 2)\n",
            "Accuracy: 0.728\n",
            "[8/10] checkpoints/checkpoint_80.pth\n",
            "Reconstruction error (MSE): 0.050901945712519624\n",
            "Latents Shape: (500, 4096)\n",
            "First Reduction Shape: (500, 200)\n",
            "Second Reduction Shape: (500, 2)\n",
            "Accuracy: 0.736\n",
            "[9/10] checkpoints/checkpoint_90.pth\n",
            "Reconstruction error (MSE): 0.04911123227138145\n",
            "Latents Shape: (500, 4096)\n",
            "First Reduction Shape: (500, 200)\n",
            "Second Reduction Shape: (500, 2)\n",
            "Accuracy: 0.798\n",
            "[10/10] checkpoints/checkpoint_100.pth\n",
            "Reconstruction error (MSE): 0.04765138139911727\n",
            "Latents Shape: (500, 4096)\n",
            "First Reduction Shape: (500, 200)\n",
            "Second Reduction Shape: (500, 2)\n",
            "Accuracy: 0.744\n"
          ],
          "name": "stdout"
        }
      ]
    },
    {
      "cell_type": "code",
      "metadata": {
        "id": "_vIXEr5jsFUh",
        "colab": {
          "base_uri": "https://localhost:8080/",
          "height": 390
        },
        "outputId": "1bebfa7b-bb23-423f-8b96-2eca58fc37a7"
      },
      "source": [
        "ps = list(zip(*points))\n",
        "plt.figure(figsize=(6,6))\n",
        "plt.subplot(211, title='Reconstruction error (MSE)').plot(ps[0])\n",
        "plt.subplot(212, title='Accuracy (val)').plot(ps[1])\n",
        "plt.show()"
      ],
      "execution_count": null,
      "outputs": [
        {
          "output_type": "display_data",
          "data": {
            "image/png": "[encoded data removed]",
            "text/plain": [
              "<Figure size 432x432 with 2 Axes>"
            ]
          },
          "metadata": {
            "tags": [],
            "needs_background": "light"
          }
        }
      ]
    },
    {
      "cell_type": "code",
      "metadata": {
        "id": "Zg2Pr4yD-6gZ"
      },
      "source": [
        ""
      ],
      "execution_count": null,
      "outputs": []
    }
  ]
}