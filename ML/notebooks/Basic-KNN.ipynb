{
  "nbformat": 4,
  "nbformat_minor": 0,
  "metadata": {
    "kernelspec": {
      "display_name": "Python 3",
      "language": "python",
      "name": "python3"
    },
    "language_info": {
      "codemirror_mode": {
        "name": "ipython",
        "version": 3
      },
      "file_extension": ".py",
      "mimetype": "text/x-python",
      "name": "python",
      "nbconvert_exporter": "python",
      "pygments_lexer": "ipython3",
      "version": "3.6.5"
    },
    "colab": {
      "name": "KNN.ipynb",
      "provenance": []
    }
  },
  "cells": [
    {
      "cell_type": "code",
      "metadata": {
        "id": "za3Br_VLoWde"
      },
      "source": [
        "import numpy as np\n",
        "import pandas as pd\n",
        "import matplotlib as mpl\n",
        "import matplotlib.pyplot as plt"
      ],
      "execution_count": null,
      "outputs": []
    },
    {
      "cell_type": "code",
      "metadata": {
        "id": "d_cVwyH5oWdi",
        "outputId": "2f800f1b-d1cc-4b8a-de92-401525157452"
      },
      "source": [
        "[[1.0,1.1],[1.0,1.0],[0,0],[0,0.1]]"
      ],
      "execution_count": null,
      "outputs": [
        {
          "data": {
            "text/plain": [
              "[[1.0, 1.1], [1.0, 1.0], [0, 0], [0, 0.1]]"
            ]
          },
          "execution_count": 2,
          "metadata": {},
          "output_type": "execute_result"
        }
      ]
    },
    {
      "cell_type": "code",
      "metadata": {
        "id": "4V07FwwsoWdj",
        "outputId": "ffa13c82-ab78-4a25-ae31-98f8ecf17fc7"
      },
      "source": [
        "np.array([[1.0,1.1],[1.0,1.0],[0,0],[0,0.1]])"
      ],
      "execution_count": null,
      "outputs": [
        {
          "data": {
            "text/plain": [
              "array([[1. , 1.1],\n",
              "       [1. , 1. ],\n",
              "       [0. , 0. ],\n",
              "       [0. , 0.1]])"
            ]
          },
          "execution_count": 3,
          "metadata": {},
          "output_type": "execute_result"
        }
      ]
    },
    {
      "cell_type": "code",
      "metadata": {
        "id": "8deE45yQoWdk",
        "outputId": "f7ed4f8d-ba56-4a9d-d5dd-a7fc4c46de03"
      },
      "source": [
        "['A','A','B','B']"
      ],
      "execution_count": null,
      "outputs": [
        {
          "data": {
            "text/plain": [
              "['A', 'A', 'B', 'B']"
            ]
          },
          "execution_count": 4,
          "metadata": {},
          "output_type": "execute_result"
        }
      ]
    },
    {
      "cell_type": "code",
      "metadata": {
        "id": "T3EixNKroWdk"
      },
      "source": [
        "def createDataSet():\n",
        "    group = np.array([[1.0,1.1],[1.0,1.0],[0,0],[0,0.1]])\n",
        "    labels = ['A','A','B','B']\n",
        "    return group, labels"
      ],
      "execution_count": null,
      "outputs": []
    },
    {
      "cell_type": "code",
      "metadata": {
        "id": "jCYQikmSoWdl"
      },
      "source": [
        "group, labels = createDataSet()"
      ],
      "execution_count": null,
      "outputs": []
    },
    {
      "cell_type": "code",
      "metadata": {
        "id": "_v_TL5RnoWdl",
        "outputId": "e198b6f4-136f-41ae-8ed0-31c7fc4fd53a"
      },
      "source": [
        "group"
      ],
      "execution_count": null,
      "outputs": [
        {
          "data": {
            "text/plain": [
              "array([[1. , 1.1],\n",
              "       [1. , 1. ],\n",
              "       [0. , 0. ],\n",
              "       [0. , 0.1]])"
            ]
          },
          "execution_count": 7,
          "metadata": {},
          "output_type": "execute_result"
        }
      ]
    },
    {
      "cell_type": "code",
      "metadata": {
        "id": "gOj_184OoWdm",
        "outputId": "28eb4acd-e449-456a-fcf5-99cab8d3b72f"
      },
      "source": [
        "labels"
      ],
      "execution_count": null,
      "outputs": [
        {
          "data": {
            "text/plain": [
              "['A', 'A', 'B', 'B']"
            ]
          },
          "execution_count": 8,
          "metadata": {},
          "output_type": "execute_result"
        }
      ]
    },
    {
      "cell_type": "code",
      "metadata": {
        "id": "e0iLA88_oWdm",
        "outputId": "33289c7b-ce05-4161-ee89-7fddc01dde7d"
      },
      "source": [
        "group"
      ],
      "execution_count": null,
      "outputs": [
        {
          "data": {
            "text/plain": [
              "array([[1. , 1.1],\n",
              "       [1. , 1. ],\n",
              "       [0. , 0. ],\n",
              "       [0. , 0.1]])"
            ]
          },
          "execution_count": 9,
          "metadata": {},
          "output_type": "execute_result"
        }
      ]
    },
    {
      "cell_type": "code",
      "metadata": {
        "id": "u6etRyWZoWdn",
        "outputId": "55b0c698-9720-4b3f-8b41-d15a40f0593f"
      },
      "source": [
        "labels"
      ],
      "execution_count": null,
      "outputs": [
        {
          "data": {
            "text/plain": [
              "['A', 'A', 'B', 'B']"
            ]
          },
          "execution_count": 10,
          "metadata": {},
          "output_type": "execute_result"
        }
      ]
    },
    {
      "cell_type": "code",
      "metadata": {
        "id": "y1tp41H3oWdo",
        "outputId": "f564c0cc-69cf-4c5f-838c-ea46bdb613d9"
      },
      "source": [
        "labels[:]"
      ],
      "execution_count": null,
      "outputs": [
        {
          "data": {
            "text/plain": [
              "['A', 'A', 'B', 'B']"
            ]
          },
          "execution_count": 11,
          "metadata": {},
          "output_type": "execute_result"
        }
      ]
    },
    {
      "cell_type": "code",
      "metadata": {
        "id": "OaZcJ6sDoWdo",
        "outputId": "c309d480-3367-4106-eb04-3ccbc3f747bd"
      },
      "source": [
        "group[0,:]"
      ],
      "execution_count": null,
      "outputs": [
        {
          "data": {
            "text/plain": [
              "array([1. , 1.1])"
            ]
          },
          "execution_count": 12,
          "metadata": {},
          "output_type": "execute_result"
        }
      ]
    },
    {
      "cell_type": "code",
      "metadata": {
        "id": "MY6XJsZcoWdp",
        "outputId": "7c5715ea-ae23-46ba-a1ad-521d4b66cdb9"
      },
      "source": [
        "plt.plot(group[:, 0], group[:, 1], 'ro')"
      ],
      "execution_count": null,
      "outputs": [
        {
          "data": {
            "text/plain": [
              "[<matplotlib.lines.Line2D at 0x7f63f3f335f8>]"
            ]
          },
          "execution_count": 13,
          "metadata": {},
          "output_type": "execute_result"
        },
        {
          "data": {
            "image/png": "[encoded data removed]",
            "text/plain": [
              "<Figure size 432x288 with 1 Axes>"
            ]
          },
          "metadata": {},
          "output_type": "display_data"
        }
      ]
    },
    {
      "cell_type": "code",
      "metadata": {
        "id": "4UdPVE6XoWdp"
      },
      "source": [
        "def classify0(inX,dataSet,labels,k):\n",
        "    dataSetSize=dataSet.shape[0]\n",
        "    diffMat = np.tile(inX, (dataSetSize, 1)) - dataSet\n",
        "    sqDiffMat=diffMat**2\n",
        "    sqDisttances=sqDiffMat.sum(axis=1)\n",
        "    distances=sqDisttances**0.5\n",
        "    sortedDistIndicies=distances.argsort()\n",
        "    classCount={}\n",
        "    for i in range(k):\n",
        "        voteIlabel=labels[sortedDistIndicies[i]]\n",
        "        classCount[voteIlabel]=classCount.get(voteIlabel,0)+1\n",
        "        sortedClassCount = sorted(classCount.items(), key=lambda x:x[1],reverse=True)\n",
        "    return sortedClassCount[0][0]"
      ],
      "execution_count": null,
      "outputs": []
    },
    {
      "cell_type": "code",
      "metadata": {
        "id": "WiG1ZDKroWdq",
        "outputId": "bea8700b-4042-42c3-ce25-4fd63d65e6f3"
      },
      "source": [
        "classify0([0, 0.2], group, labels, 3)"
      ],
      "execution_count": null,
      "outputs": [
        {
          "data": {
            "text/plain": [
              "'B'"
            ]
          },
          "execution_count": 15,
          "metadata": {},
          "output_type": "execute_result"
        }
      ]
    },
    {
      "cell_type": "code",
      "metadata": {
        "id": "BOQ0QL52oWdq",
        "outputId": "a69c8c40-4d6a-4f4d-fb44-4099065d7e70"
      },
      "source": [
        "group"
      ],
      "execution_count": null,
      "outputs": [
        {
          "data": {
            "text/plain": [
              "array([[1. , 1.1],\n",
              "       [1. , 1. ],\n",
              "       [0. , 0. ],\n",
              "       [0. , 0.1]])"
            ]
          },
          "execution_count": 16,
          "metadata": {},
          "output_type": "execute_result"
        }
      ]
    },
    {
      "cell_type": "code",
      "metadata": {
        "id": "iGBKOTfMoWdq",
        "outputId": "d6d489b0-2c20-4a8d-f208-2619e24043b4"
      },
      "source": [
        "group.shape[1]"
      ],
      "execution_count": null,
      "outputs": [
        {
          "data": {
            "text/plain": [
              "2"
            ]
          },
          "execution_count": 17,
          "metadata": {},
          "output_type": "execute_result"
        }
      ]
    },
    {
      "cell_type": "code",
      "metadata": {
        "id": "dyRz7dnQoWdr",
        "outputId": "9f0417ce-5cdb-43d0-9f5f-7c89c5f5dd5b"
      },
      "source": [
        "np.tile([0, 0], (4, 1))"
      ],
      "execution_count": null,
      "outputs": [
        {
          "data": {
            "text/plain": [
              "array([[0, 0],\n",
              "       [0, 0],\n",
              "       [0, 0],\n",
              "       [0, 0]])"
            ]
          },
          "execution_count": 18,
          "metadata": {},
          "output_type": "execute_result"
        }
      ]
    },
    {
      "cell_type": "code",
      "metadata": {
        "id": "4LcPslYhoWdr",
        "outputId": "6eba90aa-7db8-4d09-f4e1-9b142edf133a"
      },
      "source": [
        "np.tile([0, 0], (4, 2))"
      ],
      "execution_count": null,
      "outputs": [
        {
          "data": {
            "text/plain": [
              "array([[0, 0, 0, 0],\n",
              "       [0, 0, 0, 0],\n",
              "       [0, 0, 0, 0],\n",
              "       [0, 0, 0, 0]])"
            ]
          },
          "execution_count": 19,
          "metadata": {},
          "output_type": "execute_result"
        }
      ]
    },
    {
      "cell_type": "code",
      "metadata": {
        "id": "OuHIbcw8oWdr",
        "outputId": "48b07a6a-6ebc-4a90-d1f5-3474e4e7b970"
      },
      "source": [
        "np.tile([0, 0], (3, 2))"
      ],
      "execution_count": null,
      "outputs": [
        {
          "data": {
            "text/plain": [
              "array([[0, 0, 0, 0],\n",
              "       [0, 0, 0, 0],\n",
              "       [0, 0, 0, 0]])"
            ]
          },
          "execution_count": 20,
          "metadata": {},
          "output_type": "execute_result"
        }
      ]
    },
    {
      "cell_type": "code",
      "metadata": {
        "id": "minSsqJtoWds"
      },
      "source": [
        "inX = [0, 0]"
      ],
      "execution_count": null,
      "outputs": []
    },
    {
      "cell_type": "code",
      "metadata": {
        "id": "toPPq6B9oWds"
      },
      "source": [
        "dataSet = group"
      ],
      "execution_count": null,
      "outputs": []
    },
    {
      "cell_type": "code",
      "metadata": {
        "id": "9oJ-MKqGoWds",
        "outputId": "5ff1fc1c-51e2-4949-fcc9-4936abc0ca06"
      },
      "source": [
        "labels"
      ],
      "execution_count": null,
      "outputs": [
        {
          "data": {
            "text/plain": [
              "['A', 'A', 'B', 'B']"
            ]
          },
          "execution_count": 23,
          "metadata": {},
          "output_type": "execute_result"
        }
      ]
    },
    {
      "cell_type": "code",
      "metadata": {
        "id": "O4PmV4dkoWds"
      },
      "source": [
        "dataSetSize=dataSet.shape[0]"
      ],
      "execution_count": null,
      "outputs": []
    },
    {
      "cell_type": "code",
      "metadata": {
        "id": "Mdc_0X8woWds",
        "outputId": "38edf8a3-861e-4e6e-a4a8-088756b84ca5"
      },
      "source": [
        "dataSetSize"
      ],
      "execution_count": null,
      "outputs": [
        {
          "data": {
            "text/plain": [
              "4"
            ]
          },
          "execution_count": 25,
          "metadata": {},
          "output_type": "execute_result"
        }
      ]
    },
    {
      "cell_type": "code",
      "metadata": {
        "id": "_O291XxuoWdt",
        "outputId": "920af6a6-0fcc-4782-c388-af596873cc1f"
      },
      "source": [
        "(dataSetSize, 1)"
      ],
      "execution_count": null,
      "outputs": [
        {
          "data": {
            "text/plain": [
              "(4, 1)"
            ]
          },
          "execution_count": 26,
          "metadata": {},
          "output_type": "execute_result"
        }
      ]
    },
    {
      "cell_type": "code",
      "metadata": {
        "id": "yepyd-6-oWdt",
        "outputId": "a0afb9f6-55c3-4112-ddbe-dfc531b8bb62"
      },
      "source": [
        "inX"
      ],
      "execution_count": null,
      "outputs": [
        {
          "data": {
            "text/plain": [
              "[0, 0]"
            ]
          },
          "execution_count": 27,
          "metadata": {},
          "output_type": "execute_result"
        }
      ]
    },
    {
      "cell_type": "code",
      "metadata": {
        "id": "8IQeQVOloWdt",
        "outputId": "5b5cf3f8-2455-44fb-9841-b223444c7725"
      },
      "source": [
        "np.tile(inX, (dataSetSize, 1))"
      ],
      "execution_count": null,
      "outputs": [
        {
          "data": {
            "text/plain": [
              "array([[0, 0],\n",
              "       [0, 0],\n",
              "       [0, 0],\n",
              "       [0, 0]])"
            ]
          },
          "execution_count": 28,
          "metadata": {},
          "output_type": "execute_result"
        }
      ]
    },
    {
      "cell_type": "code",
      "metadata": {
        "id": "SkQoK4uxoWdt",
        "outputId": "c9cbd37d-c036-43c4-a356-7a3c181323be"
      },
      "source": [
        "inX"
      ],
      "execution_count": null,
      "outputs": [
        {
          "data": {
            "text/plain": [
              "[0, 0]"
            ]
          },
          "execution_count": 29,
          "metadata": {},
          "output_type": "execute_result"
        }
      ]
    },
    {
      "cell_type": "code",
      "metadata": {
        "id": "dnVLj8CkoWdv",
        "outputId": "c390d0b4-da8c-42b2-8df5-770839ab9b0d"
      },
      "source": [
        "dataSet"
      ],
      "execution_count": null,
      "outputs": [
        {
          "data": {
            "text/plain": [
              "array([[1. , 1.1],\n",
              "       [1. , 1. ],\n",
              "       [0. , 0. ],\n",
              "       [0. , 0.1]])"
            ]
          },
          "execution_count": 30,
          "metadata": {},
          "output_type": "execute_result"
        }
      ]
    },
    {
      "cell_type": "code",
      "metadata": {
        "id": "kiNSejeeoWdv",
        "outputId": "1ce8afda-a6f4-4282-f565-fbab9f41a403"
      },
      "source": [
        "inX - dataSet"
      ],
      "execution_count": null,
      "outputs": [
        {
          "data": {
            "text/plain": [
              "array([[-1. , -1.1],\n",
              "       [-1. , -1. ],\n",
              "       [ 0. ,  0. ],\n",
              "       [ 0. , -0.1]])"
            ]
          },
          "execution_count": 31,
          "metadata": {},
          "output_type": "execute_result"
        }
      ]
    },
    {
      "cell_type": "code",
      "metadata": {
        "id": "94e5a75poWdv",
        "outputId": "9b0b3a73-69b6-4e06-dae3-7017544b1ec0"
      },
      "source": [
        "dataSet - 1"
      ],
      "execution_count": null,
      "outputs": [
        {
          "data": {
            "text/plain": [
              "array([[ 0. ,  0.1],\n",
              "       [ 0. ,  0. ],\n",
              "       [-1. , -1. ],\n",
              "       [-1. , -0.9]])"
            ]
          },
          "execution_count": 32,
          "metadata": {},
          "output_type": "execute_result"
        }
      ]
    },
    {
      "cell_type": "code",
      "metadata": {
        "id": "N8_qb-JGoWdw",
        "outputId": "7a405c77-6e7c-4f7c-c1bd-39935181a8eb"
      },
      "source": [
        "diffMat = np.tile(inX, (dataSetSize, 1)) - dataSet\n",
        "diffMat"
      ],
      "execution_count": null,
      "outputs": [
        {
          "data": {
            "text/plain": [
              "array([[-1. , -1.1],\n",
              "       [-1. , -1. ],\n",
              "       [ 0. ,  0. ],\n",
              "       [ 0. , -0.1]])"
            ]
          },
          "execution_count": 33,
          "metadata": {},
          "output_type": "execute_result"
        }
      ]
    },
    {
      "cell_type": "code",
      "metadata": {
        "id": "w3zkUZXjoWdw",
        "outputId": "f05a9103-79be-4948-eee7-21502e2546d9"
      },
      "source": [
        "sqDiffMat = diffMat**2\n",
        "sqDiffMat"
      ],
      "execution_count": null,
      "outputs": [
        {
          "data": {
            "text/plain": [
              "array([[1.  , 1.21],\n",
              "       [1.  , 1.  ],\n",
              "       [0.  , 0.  ],\n",
              "       [0.  , 0.01]])"
            ]
          },
          "execution_count": 34,
          "metadata": {},
          "output_type": "execute_result"
        }
      ]
    },
    {
      "cell_type": "code",
      "metadata": {
        "id": "-utVUbP1oWdw",
        "outputId": "c6f31789-065c-435d-82bf-5d096867679a"
      },
      "source": [
        "sqDisttances=sqDiffMat.sum(axis=1)\n",
        "sqDisttances"
      ],
      "execution_count": null,
      "outputs": [
        {
          "data": {
            "text/plain": [
              "array([2.21, 2.  , 0.  , 0.01])"
            ]
          },
          "execution_count": 35,
          "metadata": {},
          "output_type": "execute_result"
        }
      ]
    },
    {
      "cell_type": "code",
      "metadata": {
        "id": "QhAb065moWdw",
        "outputId": "2a61fcf9-91e9-4e93-9f8f-1d7267f98c97"
      },
      "source": [
        "distances=sqDisttances**0.5\n",
        "distances"
      ],
      "execution_count": null,
      "outputs": [
        {
          "data": {
            "text/plain": [
              "array([1.48660687, 1.41421356, 0.        , 0.1       ])"
            ]
          },
          "execution_count": 36,
          "metadata": {},
          "output_type": "execute_result"
        }
      ]
    },
    {
      "cell_type": "code",
      "metadata": {
        "id": "awqx0_E3oWdx",
        "outputId": "8aa8d420-3cf3-4fc0-a617-bea028d7a152"
      },
      "source": [
        "dataSet"
      ],
      "execution_count": null,
      "outputs": [
        {
          "data": {
            "text/plain": [
              "array([[1. , 1.1],\n",
              "       [1. , 1. ],\n",
              "       [0. , 0. ],\n",
              "       [0. , 0.1]])"
            ]
          },
          "execution_count": 37,
          "metadata": {},
          "output_type": "execute_result"
        }
      ]
    },
    {
      "cell_type": "code",
      "metadata": {
        "id": "aJHLraBEoWdx",
        "outputId": "88d3e3e8-83c0-4206-b807-bef10ce7b6c3"
      },
      "source": [
        "labels"
      ],
      "execution_count": null,
      "outputs": [
        {
          "data": {
            "text/plain": [
              "['A', 'A', 'B', 'B']"
            ]
          },
          "execution_count": 38,
          "metadata": {},
          "output_type": "execute_result"
        }
      ]
    },
    {
      "cell_type": "code",
      "metadata": {
        "id": "IEbIGtjioWdx",
        "outputId": "1058c227-3971-4d29-dca7-e754b7851085"
      },
      "source": [
        "distances"
      ],
      "execution_count": null,
      "outputs": [
        {
          "data": {
            "text/plain": [
              "array([1.48660687, 1.41421356, 0.        , 0.1       ])"
            ]
          },
          "execution_count": 39,
          "metadata": {},
          "output_type": "execute_result"
        }
      ]
    },
    {
      "cell_type": "code",
      "metadata": {
        "id": "YzPjoOl_oWdx",
        "outputId": "5f6fddcd-7ad6-4387-cdb0-8bd018ed5261"
      },
      "source": [
        "distances.argsort()"
      ],
      "execution_count": null,
      "outputs": [
        {
          "data": {
            "text/plain": [
              "array([2, 3, 1, 0])"
            ]
          },
          "execution_count": 40,
          "metadata": {},
          "output_type": "execute_result"
        }
      ]
    },
    {
      "cell_type": "code",
      "metadata": {
        "id": "mX2fxz-foWdx"
      },
      "source": [
        "a = np.array([1, 3, 4, 2, 5])"
      ],
      "execution_count": null,
      "outputs": []
    },
    {
      "cell_type": "code",
      "metadata": {
        "id": "J7rNvsNPoWdx",
        "outputId": "81be9385-cbd4-47ad-f1e5-9d8d2747b39b"
      },
      "source": [
        "a"
      ],
      "execution_count": null,
      "outputs": [
        {
          "data": {
            "text/plain": [
              "array([1, 3, 4, 2, 5])"
            ]
          },
          "execution_count": 42,
          "metadata": {},
          "output_type": "execute_result"
        }
      ]
    },
    {
      "cell_type": "code",
      "metadata": {
        "id": "7mWy7R-toWdy",
        "outputId": "34c46683-8294-4291-877b-0dedad10773f"
      },
      "source": [
        "np.sort(a)"
      ],
      "execution_count": null,
      "outputs": [
        {
          "data": {
            "text/plain": [
              "array([1, 2, 3, 4, 5])"
            ]
          },
          "execution_count": 43,
          "metadata": {},
          "output_type": "execute_result"
        }
      ]
    },
    {
      "cell_type": "code",
      "metadata": {
        "id": "hnz5CB-0oWdy",
        "outputId": "b673a7c9-752f-4074-8e3e-5890d54fde1e"
      },
      "source": [
        "a"
      ],
      "execution_count": null,
      "outputs": [
        {
          "data": {
            "text/plain": [
              "array([1, 3, 4, 2, 5])"
            ]
          },
          "execution_count": 44,
          "metadata": {},
          "output_type": "execute_result"
        }
      ]
    },
    {
      "cell_type": "code",
      "metadata": {
        "id": "gTG5iXPEoWdy"
      },
      "source": [
        "sortedDistIndicies=distances.argsort()"
      ],
      "execution_count": null,
      "outputs": []
    },
    {
      "cell_type": "code",
      "metadata": {
        "id": "K07qszGuoWdy",
        "outputId": "64aa89e1-e631-452a-f75e-0c001612d0e8"
      },
      "source": [
        "sortedDistIndicies"
      ],
      "execution_count": null,
      "outputs": [
        {
          "data": {
            "text/plain": [
              "array([2, 3, 1, 0])"
            ]
          },
          "execution_count": 46,
          "metadata": {},
          "output_type": "execute_result"
        }
      ]
    },
    {
      "cell_type": "code",
      "metadata": {
        "id": "Fj2gsiT2oWdz"
      },
      "source": [
        "classCount={}"
      ],
      "execution_count": null,
      "outputs": []
    },
    {
      "cell_type": "code",
      "metadata": {
        "id": "DAym5nzXoWdz",
        "outputId": "15cfb0c4-2df6-492b-e5a5-38e031c414bc"
      },
      "source": [
        "labels"
      ],
      "execution_count": null,
      "outputs": [
        {
          "data": {
            "text/plain": [
              "['A', 'A', 'B', 'B']"
            ]
          },
          "execution_count": 48,
          "metadata": {},
          "output_type": "execute_result"
        }
      ]
    },
    {
      "cell_type": "code",
      "metadata": {
        "id": "ZBBoSpt-oWdz",
        "outputId": "f3c22905-1696-4b94-aa14-95f1d9b9aecf"
      },
      "source": [
        "sortedDistIndicies[0]"
      ],
      "execution_count": null,
      "outputs": [
        {
          "data": {
            "text/plain": [
              "2"
            ]
          },
          "execution_count": 49,
          "metadata": {},
          "output_type": "execute_result"
        }
      ]
    },
    {
      "cell_type": "code",
      "metadata": {
        "id": "pG13HAYioWdz"
      },
      "source": [
        "voteIlabel=labels[sortedDistIndicies[0]]"
      ],
      "execution_count": null,
      "outputs": []
    },
    {
      "cell_type": "code",
      "metadata": {
        "id": "dteKWLyroWdz",
        "outputId": "1ec7f286-9ef8-4bf2-ec3d-0afa47bbc7eb"
      },
      "source": [
        "voteIlabel"
      ],
      "execution_count": null,
      "outputs": [
        {
          "data": {
            "text/plain": [
              "'B'"
            ]
          },
          "execution_count": 51,
          "metadata": {},
          "output_type": "execute_result"
        }
      ]
    },
    {
      "cell_type": "code",
      "metadata": {
        "id": "3FLHxkYMoWdz"
      },
      "source": [
        "ccL = {\"B\":[1, 2, 3]}"
      ],
      "execution_count": null,
      "outputs": []
    },
    {
      "cell_type": "code",
      "metadata": {
        "id": "O36I5NcioWd0",
        "outputId": "5e4c3af4-0238-4def-ac79-000d148c3261"
      },
      "source": [
        "ccL.get(\"A\", 0)"
      ],
      "execution_count": null,
      "outputs": [
        {
          "data": {
            "text/plain": [
              "0"
            ]
          },
          "execution_count": 53,
          "metadata": {},
          "output_type": "execute_result"
        }
      ]
    },
    {
      "cell_type": "code",
      "metadata": {
        "id": "dapZkjbgoWd0",
        "outputId": "43250b29-26b9-4d49-9602-3271aa29700d"
      },
      "source": [
        "ccL.get(\"B\", 0)"
      ],
      "execution_count": null,
      "outputs": [
        {
          "data": {
            "text/plain": [
              "[1, 2, 3]"
            ]
          },
          "execution_count": 54,
          "metadata": {},
          "output_type": "execute_result"
        }
      ]
    },
    {
      "cell_type": "code",
      "metadata": {
        "id": "RdFT0BfWoWd0",
        "outputId": "1c08f535-1fba-44e6-d118-c95b1dfc32a2"
      },
      "source": [
        " ccL.get(\"A\", 0) + 1"
      ],
      "execution_count": null,
      "outputs": [
        {
          "data": {
            "text/plain": [
              "1"
            ]
          },
          "execution_count": 55,
          "metadata": {},
          "output_type": "execute_result"
        }
      ]
    },
    {
      "cell_type": "code",
      "metadata": {
        "id": "h-aOiaQZoWd0"
      },
      "source": [
        "classCount[voteIlabel]=classCount.get(voteIlabel,0)+1"
      ],
      "execution_count": null,
      "outputs": []
    },
    {
      "cell_type": "code",
      "metadata": {
        "id": "gqDqnMy0oWd0",
        "outputId": "bedde59b-7cd8-41c2-9450-538d98cbe9f0"
      },
      "source": [
        "classCount"
      ],
      "execution_count": null,
      "outputs": [
        {
          "data": {
            "text/plain": [
              "{'B': 1}"
            ]
          },
          "execution_count": 57,
          "metadata": {},
          "output_type": "execute_result"
        }
      ]
    },
    {
      "cell_type": "code",
      "metadata": {
        "id": "hlZ69sXboWd1"
      },
      "source": [
        "voteIlabel=labels[sortedDistIndicies[1]]"
      ],
      "execution_count": null,
      "outputs": []
    },
    {
      "cell_type": "code",
      "metadata": {
        "id": "ZyBiKBXNoWd1"
      },
      "source": [
        "classCount[voteIlabel]=classCount.get(voteIlabel,0)+1"
      ],
      "execution_count": null,
      "outputs": []
    },
    {
      "cell_type": "code",
      "metadata": {
        "id": "N7tRYLOloWd1",
        "outputId": "bde42b1a-ea06-4c2f-84d0-a1677e9620d9"
      },
      "source": [
        "classCount"
      ],
      "execution_count": null,
      "outputs": [
        {
          "data": {
            "text/plain": [
              "{'B': 2}"
            ]
          },
          "execution_count": 60,
          "metadata": {},
          "output_type": "execute_result"
        }
      ]
    },
    {
      "cell_type": "code",
      "metadata": {
        "id": "m2bYqr_moWd1"
      },
      "source": [
        "voteIlabel=labels[sortedDistIndicies[2]]\n",
        "classCount[voteIlabel]=classCount.get(voteIlabel,0)+1"
      ],
      "execution_count": null,
      "outputs": []
    },
    {
      "cell_type": "code",
      "metadata": {
        "id": "VlYU1DdmoWd1",
        "outputId": "8c1276aa-8334-412b-cb0f-9a48267d03b0"
      },
      "source": [
        "classCount"
      ],
      "execution_count": null,
      "outputs": [
        {
          "data": {
            "text/plain": [
              "{'B': 2, 'A': 1}"
            ]
          },
          "execution_count": 62,
          "metadata": {},
          "output_type": "execute_result"
        }
      ]
    },
    {
      "cell_type": "code",
      "metadata": {
        "id": "4ip01OFyoWd2",
        "outputId": "2d388ea8-725a-494e-a59c-875812710c25"
      },
      "source": [
        "classCount.items()"
      ],
      "execution_count": null,
      "outputs": [
        {
          "data": {
            "text/plain": [
              "dict_items([('B', 2), ('A', 1)])"
            ]
          },
          "execution_count": 63,
          "metadata": {},
          "output_type": "execute_result"
        }
      ]
    },
    {
      "cell_type": "code",
      "metadata": {
        "id": "vRKURP6QoWd2"
      },
      "source": [
        "sortedClassCount = sorted(classCount.items(), key=lambda x:x[1],reverse=True)"
      ],
      "execution_count": null,
      "outputs": []
    },
    {
      "cell_type": "code",
      "metadata": {
        "id": "zVxPpgTboWd2",
        "outputId": "0f8aecc2-8515-4598-b6ef-28168b1fd32b"
      },
      "source": [
        "sortedClassCount"
      ],
      "execution_count": null,
      "outputs": [
        {
          "data": {
            "text/plain": [
              "[('B', 2), ('A', 1)]"
            ]
          },
          "execution_count": 65,
          "metadata": {},
          "output_type": "execute_result"
        }
      ]
    },
    {
      "cell_type": "code",
      "metadata": {
        "id": "23-MMEuHoWd2",
        "outputId": "4f724943-2564-4f25-d9c6-42cb8c8cf9db"
      },
      "source": [
        "sortedClassCount[0][0]"
      ],
      "execution_count": null,
      "outputs": [
        {
          "data": {
            "text/plain": [
              "'B'"
            ]
          },
          "execution_count": 66,
          "metadata": {},
          "output_type": "execute_result"
        }
      ]
    },
    {
      "cell_type": "code",
      "metadata": {
        "id": "9uD6eK_1oWd2",
        "outputId": "b86c8f28-36a3-419a-9c3d-b16d0608d979"
      },
      "source": [
        "group"
      ],
      "execution_count": null,
      "outputs": [
        {
          "data": {
            "text/plain": [
              "array([[1. , 1.1],\n",
              "       [1. , 1. ],\n",
              "       [0. , 0. ],\n",
              "       [0. , 0.1]])"
            ]
          },
          "execution_count": 67,
          "metadata": {},
          "output_type": "execute_result"
        }
      ]
    },
    {
      "cell_type": "code",
      "metadata": {
        "id": "TSbLnFv-oWd2",
        "outputId": "d1868fa0-70c4-48e0-8639-8788cdf3bd14"
      },
      "source": [
        "labels"
      ],
      "execution_count": null,
      "outputs": [
        {
          "data": {
            "text/plain": [
              "['A', 'A', 'B', 'B']"
            ]
          },
          "execution_count": 68,
          "metadata": {},
          "output_type": "execute_result"
        }
      ]
    },
    {
      "cell_type": "code",
      "metadata": {
        "id": "wdhPvf0SoWd3",
        "outputId": "ada8ae16-a8c9-4930-f7b6-99a95da0eb31"
      },
      "source": [
        "{'x1': group[:, 0], 'x2': group[:, 1], 'labels': labels}"
      ],
      "execution_count": null,
      "outputs": [
        {
          "data": {
            "text/plain": [
              "{'x1': array([1., 1., 0., 0.]),\n",
              " 'x2': array([1.1, 1. , 0. , 0.1]),\n",
              " 'labels': ['A', 'A', 'B', 'B']}"
            ]
          },
          "execution_count": 69,
          "metadata": {},
          "output_type": "execute_result"
        }
      ]
    },
    {
      "cell_type": "code",
      "metadata": {
        "id": "Y0DC-3_joWd3"
      },
      "source": [
        "df = pd.DataFrame({'x1': group[:, 0], 'x2': group[:, 1], 'labels': labels})"
      ],
      "execution_count": null,
      "outputs": []
    },
    {
      "cell_type": "code",
      "metadata": {
        "id": "UL8vbTF0oWd3",
        "outputId": "30dba9ef-8ef3-462c-b5b9-fa905ff3ae52"
      },
      "source": [
        "df"
      ],
      "execution_count": null,
      "outputs": [
        {
          "data": {
            "text/html": [
              "<div>\n",
              "<style scoped>\n",
              "    .dataframe tbody tr th:only-of-type {\n",
              "        vertical-align: middle;\n",
              "    }\n",
              "\n",
              "    .dataframe tbody tr th {\n",
              "        vertical-align: top;\n",
              "    }\n",
              "\n",
              "    .dataframe thead th {\n",
              "        text-align: right;\n",
              "    }\n",
              "</style>\n",
              "<table border=\"1\" class=\"dataframe\">\n",
              "  <thead>\n",
              "    <tr style=\"text-align: right;\">\n",
              "      <th></th>\n",
              "      <th>x1</th>\n",
              "      <th>x2</th>\n",
              "      <th>labels</th>\n",
              "    </tr>\n",
              "  </thead>\n",
              "  <tbody>\n",
              "    <tr>\n",
              "      <th>0</th>\n",
              "      <td>1.0</td>\n",
              "      <td>1.1</td>\n",
              "      <td>A</td>\n",
              "    </tr>\n",
              "    <tr>\n",
              "      <th>1</th>\n",
              "      <td>1.0</td>\n",
              "      <td>1.0</td>\n",
              "      <td>A</td>\n",
              "    </tr>\n",
              "    <tr>\n",
              "      <th>2</th>\n",
              "      <td>0.0</td>\n",
              "      <td>0.0</td>\n",
              "      <td>B</td>\n",
              "    </tr>\n",
              "    <tr>\n",
              "      <th>3</th>\n",
              "      <td>0.0</td>\n",
              "      <td>0.1</td>\n",
              "      <td>B</td>\n",
              "    </tr>\n",
              "  </tbody>\n",
              "</table>\n",
              "</div>"
            ],
            "text/plain": [
              "    x1   x2 labels\n",
              "0  1.0  1.1      A\n",
              "1  1.0  1.0      A\n",
              "2  0.0  0.0      B\n",
              "3  0.0  0.1      B"
            ]
          },
          "execution_count": 71,
          "metadata": {},
          "output_type": "execute_result"
        }
      ]
    },
    {
      "cell_type": "code",
      "metadata": {
        "id": "Va8EpVNqoWd3",
        "outputId": "2703d666-ed46-43e9-c828-7ef34f720390"
      },
      "source": [
        "df.reindex(['x2'] + ['x1'], axis=1)"
      ],
      "execution_count": null,
      "outputs": [
        {
          "data": {
            "text/html": [
              "<div>\n",
              "<style scoped>\n",
              "    .dataframe tbody tr th:only-of-type {\n",
              "        vertical-align: middle;\n",
              "    }\n",
              "\n",
              "    .dataframe tbody tr th {\n",
              "        vertical-align: top;\n",
              "    }\n",
              "\n",
              "    .dataframe thead th {\n",
              "        text-align: right;\n",
              "    }\n",
              "</style>\n",
              "<table border=\"1\" class=\"dataframe\">\n",
              "  <thead>\n",
              "    <tr style=\"text-align: right;\">\n",
              "      <th></th>\n",
              "      <th>x2</th>\n",
              "      <th>x1</th>\n",
              "    </tr>\n",
              "  </thead>\n",
              "  <tbody>\n",
              "    <tr>\n",
              "      <th>0</th>\n",
              "      <td>1.1</td>\n",
              "      <td>1.0</td>\n",
              "    </tr>\n",
              "    <tr>\n",
              "      <th>1</th>\n",
              "      <td>1.0</td>\n",
              "      <td>1.0</td>\n",
              "    </tr>\n",
              "    <tr>\n",
              "      <th>2</th>\n",
              "      <td>0.0</td>\n",
              "      <td>0.0</td>\n",
              "    </tr>\n",
              "    <tr>\n",
              "      <th>3</th>\n",
              "      <td>0.1</td>\n",
              "      <td>0.0</td>\n",
              "    </tr>\n",
              "  </tbody>\n",
              "</table>\n",
              "</div>"
            ],
            "text/plain": [
              "    x2   x1\n",
              "0  1.1  1.0\n",
              "1  1.0  1.0\n",
              "2  0.0  0.0\n",
              "3  0.1  0.0"
            ]
          },
          "execution_count": 72,
          "metadata": {},
          "output_type": "execute_result"
        }
      ]
    },
    {
      "cell_type": "code",
      "metadata": {
        "id": "vA89qZczoWd3"
      },
      "source": [
        "d = pd.DataFrame({'x1': group[:, 0], 'x2': group[:, 1], 'labels':\n",
        "labels})"
      ],
      "execution_count": null,
      "outputs": []
    },
    {
      "cell_type": "code",
      "metadata": {
        "id": "Py81W83noWd4",
        "outputId": "df22c541-e360-4907-a306-c9496f436498"
      },
      "source": [
        "d"
      ],
      "execution_count": null,
      "outputs": [
        {
          "data": {
            "text/html": [
              "<div>\n",
              "<style scoped>\n",
              "    .dataframe tbody tr th:only-of-type {\n",
              "        vertical-align: middle;\n",
              "    }\n",
              "\n",
              "    .dataframe tbody tr th {\n",
              "        vertical-align: top;\n",
              "    }\n",
              "\n",
              "    .dataframe thead th {\n",
              "        text-align: right;\n",
              "    }\n",
              "</style>\n",
              "<table border=\"1\" class=\"dataframe\">\n",
              "  <thead>\n",
              "    <tr style=\"text-align: right;\">\n",
              "      <th></th>\n",
              "      <th>x1</th>\n",
              "      <th>x2</th>\n",
              "      <th>labels</th>\n",
              "    </tr>\n",
              "  </thead>\n",
              "  <tbody>\n",
              "    <tr>\n",
              "      <th>0</th>\n",
              "      <td>1.0</td>\n",
              "      <td>1.1</td>\n",
              "      <td>A</td>\n",
              "    </tr>\n",
              "    <tr>\n",
              "      <th>1</th>\n",
              "      <td>1.0</td>\n",
              "      <td>1.0</td>\n",
              "      <td>A</td>\n",
              "    </tr>\n",
              "    <tr>\n",
              "      <th>2</th>\n",
              "      <td>0.0</td>\n",
              "      <td>0.0</td>\n",
              "      <td>B</td>\n",
              "    </tr>\n",
              "    <tr>\n",
              "      <th>3</th>\n",
              "      <td>0.0</td>\n",
              "      <td>0.1</td>\n",
              "      <td>B</td>\n",
              "    </tr>\n",
              "  </tbody>\n",
              "</table>\n",
              "</div>"
            ],
            "text/plain": [
              "    x1   x2 labels\n",
              "0  1.0  1.1      A\n",
              "1  1.0  1.0      A\n",
              "2  0.0  0.0      B\n",
              "3  0.0  0.1      B"
            ]
          },
          "execution_count": 74,
          "metadata": {},
          "output_type": "execute_result"
        }
      ]
    },
    {
      "cell_type": "code",
      "metadata": {
        "id": "817XfXPCoWd4",
        "outputId": "3024de87-c2fb-4b62-d605-905e478fc9a7"
      },
      "source": [
        "range(1, 3)"
      ],
      "execution_count": null,
      "outputs": [
        {
          "data": {
            "text/plain": [
              "range(1, 3)"
            ]
          },
          "execution_count": 75,
          "metadata": {},
          "output_type": "execute_result"
        }
      ]
    },
    {
      "cell_type": "code",
      "metadata": {
        "id": "9tolBuwtoWd4",
        "outputId": "58f36300-4fc6-4e7d-b3e2-cc13c65a60cf"
      },
      "source": [
        "d.reindex(range(1, 5), axis=0)"
      ],
      "execution_count": null,
      "outputs": [
        {
          "data": {
            "text/html": [
              "<div>\n",
              "<style scoped>\n",
              "    .dataframe tbody tr th:only-of-type {\n",
              "        vertical-align: middle;\n",
              "    }\n",
              "\n",
              "    .dataframe tbody tr th {\n",
              "        vertical-align: top;\n",
              "    }\n",
              "\n",
              "    .dataframe thead th {\n",
              "        text-align: right;\n",
              "    }\n",
              "</style>\n",
              "<table border=\"1\" class=\"dataframe\">\n",
              "  <thead>\n",
              "    <tr style=\"text-align: right;\">\n",
              "      <th></th>\n",
              "      <th>x1</th>\n",
              "      <th>x2</th>\n",
              "      <th>labels</th>\n",
              "    </tr>\n",
              "  </thead>\n",
              "  <tbody>\n",
              "    <tr>\n",
              "      <th>1</th>\n",
              "      <td>1.0</td>\n",
              "      <td>1.0</td>\n",
              "      <td>A</td>\n",
              "    </tr>\n",
              "    <tr>\n",
              "      <th>2</th>\n",
              "      <td>0.0</td>\n",
              "      <td>0.0</td>\n",
              "      <td>B</td>\n",
              "    </tr>\n",
              "    <tr>\n",
              "      <th>3</th>\n",
              "      <td>0.0</td>\n",
              "      <td>0.1</td>\n",
              "      <td>B</td>\n",
              "    </tr>\n",
              "    <tr>\n",
              "      <th>4</th>\n",
              "      <td>NaN</td>\n",
              "      <td>NaN</td>\n",
              "      <td>NaN</td>\n",
              "    </tr>\n",
              "  </tbody>\n",
              "</table>\n",
              "</div>"
            ],
            "text/plain": [
              "    x1   x2 labels\n",
              "1  1.0  1.0      A\n",
              "2  0.0  0.0      B\n",
              "3  0.0  0.1      B\n",
              "4  NaN  NaN    NaN"
            ]
          },
          "execution_count": 76,
          "metadata": {},
          "output_type": "execute_result"
        }
      ]
    },
    {
      "cell_type": "code",
      "metadata": {
        "id": "V6gtqbuMoWd4",
        "outputId": "630ecbd4-be6b-4171-c76d-b1f8a565e2d4"
      },
      "source": [
        "d"
      ],
      "execution_count": null,
      "outputs": [
        {
          "data": {
            "text/html": [
              "<div>\n",
              "<style scoped>\n",
              "    .dataframe tbody tr th:only-of-type {\n",
              "        vertical-align: middle;\n",
              "    }\n",
              "\n",
              "    .dataframe tbody tr th {\n",
              "        vertical-align: top;\n",
              "    }\n",
              "\n",
              "    .dataframe thead th {\n",
              "        text-align: right;\n",
              "    }\n",
              "</style>\n",
              "<table border=\"1\" class=\"dataframe\">\n",
              "  <thead>\n",
              "    <tr style=\"text-align: right;\">\n",
              "      <th></th>\n",
              "      <th>x1</th>\n",
              "      <th>x2</th>\n",
              "      <th>labels</th>\n",
              "    </tr>\n",
              "  </thead>\n",
              "  <tbody>\n",
              "    <tr>\n",
              "      <th>0</th>\n",
              "      <td>1.0</td>\n",
              "      <td>1.1</td>\n",
              "      <td>A</td>\n",
              "    </tr>\n",
              "    <tr>\n",
              "      <th>1</th>\n",
              "      <td>1.0</td>\n",
              "      <td>1.0</td>\n",
              "      <td>A</td>\n",
              "    </tr>\n",
              "    <tr>\n",
              "      <th>2</th>\n",
              "      <td>0.0</td>\n",
              "      <td>0.0</td>\n",
              "      <td>B</td>\n",
              "    </tr>\n",
              "    <tr>\n",
              "      <th>3</th>\n",
              "      <td>0.0</td>\n",
              "      <td>0.1</td>\n",
              "      <td>B</td>\n",
              "    </tr>\n",
              "  </tbody>\n",
              "</table>\n",
              "</div>"
            ],
            "text/plain": [
              "    x1   x2 labels\n",
              "0  1.0  1.1      A\n",
              "1  1.0  1.0      A\n",
              "2  0.0  0.0      B\n",
              "3  0.0  0.1      B"
            ]
          },
          "execution_count": 77,
          "metadata": {},
          "output_type": "execute_result"
        }
      ]
    },
    {
      "cell_type": "code",
      "metadata": {
        "id": "wv_G692yoWd4",
        "outputId": "d432440f-ba98-4f05-83cf-cb6b307a9e77"
      },
      "source": [
        "d.index"
      ],
      "execution_count": null,
      "outputs": [
        {
          "data": {
            "text/plain": [
              "RangeIndex(start=0, stop=4, step=1)"
            ]
          },
          "execution_count": 78,
          "metadata": {},
          "output_type": "execute_result"
        }
      ]
    },
    {
      "cell_type": "code",
      "metadata": {
        "id": "Y2kavtlYoWd5"
      },
      "source": [
        "d.index = [1, 2, 3, 4]"
      ],
      "execution_count": null,
      "outputs": []
    },
    {
      "cell_type": "code",
      "metadata": {
        "id": "f5Kin5YWoWd5",
        "outputId": "7eb5431c-9c7d-4391-82c1-dec3809d016e"
      },
      "source": [
        "d"
      ],
      "execution_count": null,
      "outputs": [
        {
          "data": {
            "text/html": [
              "<div>\n",
              "<style scoped>\n",
              "    .dataframe tbody tr th:only-of-type {\n",
              "        vertical-align: middle;\n",
              "    }\n",
              "\n",
              "    .dataframe tbody tr th {\n",
              "        vertical-align: top;\n",
              "    }\n",
              "\n",
              "    .dataframe thead th {\n",
              "        text-align: right;\n",
              "    }\n",
              "</style>\n",
              "<table border=\"1\" class=\"dataframe\">\n",
              "  <thead>\n",
              "    <tr style=\"text-align: right;\">\n",
              "      <th></th>\n",
              "      <th>x1</th>\n",
              "      <th>x2</th>\n",
              "      <th>labels</th>\n",
              "    </tr>\n",
              "  </thead>\n",
              "  <tbody>\n",
              "    <tr>\n",
              "      <th>1</th>\n",
              "      <td>1.0</td>\n",
              "      <td>1.1</td>\n",
              "      <td>A</td>\n",
              "    </tr>\n",
              "    <tr>\n",
              "      <th>2</th>\n",
              "      <td>1.0</td>\n",
              "      <td>1.0</td>\n",
              "      <td>A</td>\n",
              "    </tr>\n",
              "    <tr>\n",
              "      <th>3</th>\n",
              "      <td>0.0</td>\n",
              "      <td>0.0</td>\n",
              "      <td>B</td>\n",
              "    </tr>\n",
              "    <tr>\n",
              "      <th>4</th>\n",
              "      <td>0.0</td>\n",
              "      <td>0.1</td>\n",
              "      <td>B</td>\n",
              "    </tr>\n",
              "  </tbody>\n",
              "</table>\n",
              "</div>"
            ],
            "text/plain": [
              "    x1   x2 labels\n",
              "1  1.0  1.1      A\n",
              "2  1.0  1.0      A\n",
              "3  0.0  0.0      B\n",
              "4  0.0  0.1      B"
            ]
          },
          "execution_count": 80,
          "metadata": {},
          "output_type": "execute_result"
        }
      ]
    },
    {
      "cell_type": "code",
      "metadata": {
        "id": "FvCJi7mEoWd5",
        "outputId": "d7428068-c299-471c-b60c-a6b9f90e271b"
      },
      "source": [
        "d.iloc[2,:]"
      ],
      "execution_count": null,
      "outputs": [
        {
          "data": {
            "text/plain": [
              "x1        0\n",
              "x2        0\n",
              "labels    B\n",
              "Name: 3, dtype: object"
            ]
          },
          "execution_count": 81,
          "metadata": {},
          "output_type": "execute_result"
        }
      ]
    },
    {
      "cell_type": "code",
      "metadata": {
        "id": "viQZ5UOhoWd5",
        "outputId": "1008274d-ab4c-459b-df7d-feff67c4712f"
      },
      "source": [
        "d.loc[2,:]"
      ],
      "execution_count": null,
      "outputs": [
        {
          "data": {
            "text/plain": [
              "x1        1\n",
              "x2        1\n",
              "labels    A\n",
              "Name: 2, dtype: object"
            ]
          },
          "execution_count": 82,
          "metadata": {},
          "output_type": "execute_result"
        }
      ]
    },
    {
      "cell_type": "code",
      "metadata": {
        "id": "w4RHM6XUoWd5",
        "outputId": "08db08e3-3cf2-4804-8b57-ef8dcb48a839"
      },
      "source": [
        "df"
      ],
      "execution_count": null,
      "outputs": [
        {
          "data": {
            "text/html": [
              "<div>\n",
              "<style scoped>\n",
              "    .dataframe tbody tr th:only-of-type {\n",
              "        vertical-align: middle;\n",
              "    }\n",
              "\n",
              "    .dataframe tbody tr th {\n",
              "        vertical-align: top;\n",
              "    }\n",
              "\n",
              "    .dataframe thead th {\n",
              "        text-align: right;\n",
              "    }\n",
              "</style>\n",
              "<table border=\"1\" class=\"dataframe\">\n",
              "  <thead>\n",
              "    <tr style=\"text-align: right;\">\n",
              "      <th></th>\n",
              "      <th>x1</th>\n",
              "      <th>x2</th>\n",
              "      <th>labels</th>\n",
              "    </tr>\n",
              "  </thead>\n",
              "  <tbody>\n",
              "    <tr>\n",
              "      <th>0</th>\n",
              "      <td>1.0</td>\n",
              "      <td>1.1</td>\n",
              "      <td>A</td>\n",
              "    </tr>\n",
              "    <tr>\n",
              "      <th>1</th>\n",
              "      <td>1.0</td>\n",
              "      <td>1.0</td>\n",
              "      <td>A</td>\n",
              "    </tr>\n",
              "    <tr>\n",
              "      <th>2</th>\n",
              "      <td>0.0</td>\n",
              "      <td>0.0</td>\n",
              "      <td>B</td>\n",
              "    </tr>\n",
              "    <tr>\n",
              "      <th>3</th>\n",
              "      <td>0.0</td>\n",
              "      <td>0.1</td>\n",
              "      <td>B</td>\n",
              "    </tr>\n",
              "  </tbody>\n",
              "</table>\n",
              "</div>"
            ],
            "text/plain": [
              "    x1   x2 labels\n",
              "0  1.0  1.1      A\n",
              "1  1.0  1.0      A\n",
              "2  0.0  0.0      B\n",
              "3  0.0  0.1      B"
            ]
          },
          "execution_count": 83,
          "metadata": {},
          "output_type": "execute_result"
        }
      ]
    },
    {
      "cell_type": "code",
      "metadata": {
        "id": "DEFuAv1AoWd5"
      },
      "source": [
        "tar = np.array([0, 0])"
      ],
      "execution_count": null,
      "outputs": []
    },
    {
      "cell_type": "code",
      "metadata": {
        "id": "hNUndgTsoWd6",
        "outputId": "80da9e6c-c515-41c8-e88a-63252a51b26f"
      },
      "source": [
        "tar"
      ],
      "execution_count": null,
      "outputs": [
        {
          "data": {
            "text/plain": [
              "array([0, 0])"
            ]
          },
          "execution_count": 85,
          "metadata": {},
          "output_type": "execute_result"
        }
      ]
    },
    {
      "cell_type": "code",
      "metadata": {
        "id": "Yc3d7bxJoWd6",
        "outputId": "05f999fe-fa37-420f-99cb-154880ce10f8"
      },
      "source": [
        "group"
      ],
      "execution_count": null,
      "outputs": [
        {
          "data": {
            "text/plain": [
              "array([[1. , 1.1],\n",
              "       [1. , 1. ],\n",
              "       [0. , 0. ],\n",
              "       [0. , 0.1]])"
            ]
          },
          "execution_count": 86,
          "metadata": {},
          "output_type": "execute_result"
        }
      ]
    },
    {
      "cell_type": "code",
      "metadata": {
        "id": "Pb6q8JCAoWd6",
        "outputId": "f8e4d812-e681-4765-84d9-f50632bd6e72"
      },
      "source": [
        "pd.DataFrame(group)"
      ],
      "execution_count": null,
      "outputs": [
        {
          "data": {
            "text/html": [
              "<div>\n",
              "<style scoped>\n",
              "    .dataframe tbody tr th:only-of-type {\n",
              "        vertical-align: middle;\n",
              "    }\n",
              "\n",
              "    .dataframe tbody tr th {\n",
              "        vertical-align: top;\n",
              "    }\n",
              "\n",
              "    .dataframe thead th {\n",
              "        text-align: right;\n",
              "    }\n",
              "</style>\n",
              "<table border=\"1\" class=\"dataframe\">\n",
              "  <thead>\n",
              "    <tr style=\"text-align: right;\">\n",
              "      <th></th>\n",
              "      <th>0</th>\n",
              "      <th>1</th>\n",
              "    </tr>\n",
              "  </thead>\n",
              "  <tbody>\n",
              "    <tr>\n",
              "      <th>0</th>\n",
              "      <td>1.0</td>\n",
              "      <td>1.1</td>\n",
              "    </tr>\n",
              "    <tr>\n",
              "      <th>1</th>\n",
              "      <td>1.0</td>\n",
              "      <td>1.0</td>\n",
              "    </tr>\n",
              "    <tr>\n",
              "      <th>2</th>\n",
              "      <td>0.0</td>\n",
              "      <td>0.0</td>\n",
              "    </tr>\n",
              "    <tr>\n",
              "      <th>3</th>\n",
              "      <td>0.0</td>\n",
              "      <td>0.1</td>\n",
              "    </tr>\n",
              "  </tbody>\n",
              "</table>\n",
              "</div>"
            ],
            "text/plain": [
              "     0    1\n",
              "0  1.0  1.1\n",
              "1  1.0  1.0\n",
              "2  0.0  0.0\n",
              "3  0.0  0.1"
            ]
          },
          "execution_count": 87,
          "metadata": {},
          "output_type": "execute_result"
        }
      ]
    },
    {
      "cell_type": "code",
      "metadata": {
        "id": "lfvYNoiEoWd6",
        "outputId": "ff23e8be-9b3d-4847-d143-01752505de44"
      },
      "source": [
        "pd.DataFrame(tar)"
      ],
      "execution_count": null,
      "outputs": [
        {
          "data": {
            "text/html": [
              "<div>\n",
              "<style scoped>\n",
              "    .dataframe tbody tr th:only-of-type {\n",
              "        vertical-align: middle;\n",
              "    }\n",
              "\n",
              "    .dataframe tbody tr th {\n",
              "        vertical-align: top;\n",
              "    }\n",
              "\n",
              "    .dataframe thead th {\n",
              "        text-align: right;\n",
              "    }\n",
              "</style>\n",
              "<table border=\"1\" class=\"dataframe\">\n",
              "  <thead>\n",
              "    <tr style=\"text-align: right;\">\n",
              "      <th></th>\n",
              "      <th>0</th>\n",
              "    </tr>\n",
              "  </thead>\n",
              "  <tbody>\n",
              "    <tr>\n",
              "      <th>0</th>\n",
              "      <td>0</td>\n",
              "    </tr>\n",
              "    <tr>\n",
              "      <th>1</th>\n",
              "      <td>0</td>\n",
              "    </tr>\n",
              "  </tbody>\n",
              "</table>\n",
              "</div>"
            ],
            "text/plain": [
              "   0\n",
              "0  0\n",
              "1  0"
            ]
          },
          "execution_count": 88,
          "metadata": {},
          "output_type": "execute_result"
        }
      ]
    },
    {
      "cell_type": "code",
      "metadata": {
        "id": "eQn8nX-_oWd6"
      },
      "source": [
        "dt = pd.DataFrame(tar, index = ['x1', 'x2'])"
      ],
      "execution_count": null,
      "outputs": []
    },
    {
      "cell_type": "code",
      "metadata": {
        "id": "QpgjL9hGoWd6",
        "outputId": "82bcb3c2-cb51-46bf-e4df-d5af6ef13200"
      },
      "source": [
        "dt"
      ],
      "execution_count": null,
      "outputs": [
        {
          "data": {
            "text/html": [
              "<div>\n",
              "<style scoped>\n",
              "    .dataframe tbody tr th:only-of-type {\n",
              "        vertical-align: middle;\n",
              "    }\n",
              "\n",
              "    .dataframe tbody tr th {\n",
              "        vertical-align: top;\n",
              "    }\n",
              "\n",
              "    .dataframe thead th {\n",
              "        text-align: right;\n",
              "    }\n",
              "</style>\n",
              "<table border=\"1\" class=\"dataframe\">\n",
              "  <thead>\n",
              "    <tr style=\"text-align: right;\">\n",
              "      <th></th>\n",
              "      <th>0</th>\n",
              "    </tr>\n",
              "  </thead>\n",
              "  <tbody>\n",
              "    <tr>\n",
              "      <th>x1</th>\n",
              "      <td>0</td>\n",
              "    </tr>\n",
              "    <tr>\n",
              "      <th>x2</th>\n",
              "      <td>0</td>\n",
              "    </tr>\n",
              "  </tbody>\n",
              "</table>\n",
              "</div>"
            ],
            "text/plain": [
              "    0\n",
              "x1  0\n",
              "x2  0"
            ]
          },
          "execution_count": 90,
          "metadata": {},
          "output_type": "execute_result"
        }
      ]
    },
    {
      "cell_type": "code",
      "metadata": {
        "id": "5x-QD_72oWd7"
      },
      "source": [
        "dt = dt.T"
      ],
      "execution_count": null,
      "outputs": []
    },
    {
      "cell_type": "code",
      "metadata": {
        "id": "26WkVCe9oWd7",
        "outputId": "b9beac42-4fec-4caf-a3ff-ad6ba6bd6e88"
      },
      "source": [
        "dt"
      ],
      "execution_count": null,
      "outputs": [
        {
          "data": {
            "text/html": [
              "<div>\n",
              "<style scoped>\n",
              "    .dataframe tbody tr th:only-of-type {\n",
              "        vertical-align: middle;\n",
              "    }\n",
              "\n",
              "    .dataframe tbody tr th {\n",
              "        vertical-align: top;\n",
              "    }\n",
              "\n",
              "    .dataframe thead th {\n",
              "        text-align: right;\n",
              "    }\n",
              "</style>\n",
              "<table border=\"1\" class=\"dataframe\">\n",
              "  <thead>\n",
              "    <tr style=\"text-align: right;\">\n",
              "      <th></th>\n",
              "      <th>x1</th>\n",
              "      <th>x2</th>\n",
              "    </tr>\n",
              "  </thead>\n",
              "  <tbody>\n",
              "    <tr>\n",
              "      <th>0</th>\n",
              "      <td>0</td>\n",
              "      <td>0</td>\n",
              "    </tr>\n",
              "  </tbody>\n",
              "</table>\n",
              "</div>"
            ],
            "text/plain": [
              "   x1  x2\n",
              "0   0   0"
            ]
          },
          "execution_count": 92,
          "metadata": {},
          "output_type": "execute_result"
        }
      ]
    },
    {
      "cell_type": "code",
      "metadata": {
        "id": "RKzpJW7qoWd7",
        "outputId": "779f351e-f639-48da-aa52-d7c75d8869c0"
      },
      "source": [
        "df"
      ],
      "execution_count": null,
      "outputs": [
        {
          "data": {
            "text/html": [
              "<div>\n",
              "<style scoped>\n",
              "    .dataframe tbody tr th:only-of-type {\n",
              "        vertical-align: middle;\n",
              "    }\n",
              "\n",
              "    .dataframe tbody tr th {\n",
              "        vertical-align: top;\n",
              "    }\n",
              "\n",
              "    .dataframe thead th {\n",
              "        text-align: right;\n",
              "    }\n",
              "</style>\n",
              "<table border=\"1\" class=\"dataframe\">\n",
              "  <thead>\n",
              "    <tr style=\"text-align: right;\">\n",
              "      <th></th>\n",
              "      <th>x1</th>\n",
              "      <th>x2</th>\n",
              "      <th>labels</th>\n",
              "    </tr>\n",
              "  </thead>\n",
              "  <tbody>\n",
              "    <tr>\n",
              "      <th>0</th>\n",
              "      <td>1.0</td>\n",
              "      <td>1.1</td>\n",
              "      <td>A</td>\n",
              "    </tr>\n",
              "    <tr>\n",
              "      <th>1</th>\n",
              "      <td>1.0</td>\n",
              "      <td>1.0</td>\n",
              "      <td>A</td>\n",
              "    </tr>\n",
              "    <tr>\n",
              "      <th>2</th>\n",
              "      <td>0.0</td>\n",
              "      <td>0.0</td>\n",
              "      <td>B</td>\n",
              "    </tr>\n",
              "    <tr>\n",
              "      <th>3</th>\n",
              "      <td>0.0</td>\n",
              "      <td>0.1</td>\n",
              "      <td>B</td>\n",
              "    </tr>\n",
              "  </tbody>\n",
              "</table>\n",
              "</div>"
            ],
            "text/plain": [
              "    x1   x2 labels\n",
              "0  1.0  1.1      A\n",
              "1  1.0  1.0      A\n",
              "2  0.0  0.0      B\n",
              "3  0.0  0.1      B"
            ]
          },
          "execution_count": 93,
          "metadata": {},
          "output_type": "execute_result"
        }
      ]
    },
    {
      "cell_type": "code",
      "metadata": {
        "id": "v2hLrDm8oWd7"
      },
      "source": [
        "dt1 = dt.reindex(['x1'] + ['x2'] + ['labels'], axis=1)"
      ],
      "execution_count": null,
      "outputs": []
    },
    {
      "cell_type": "code",
      "metadata": {
        "id": "ZoOWiVfhoWd7",
        "outputId": "ba807f92-d1e7-47b4-940b-2c41317fad65"
      },
      "source": [
        "dt1"
      ],
      "execution_count": null,
      "outputs": [
        {
          "data": {
            "text/html": [
              "<div>\n",
              "<style scoped>\n",
              "    .dataframe tbody tr th:only-of-type {\n",
              "        vertical-align: middle;\n",
              "    }\n",
              "\n",
              "    .dataframe tbody tr th {\n",
              "        vertical-align: top;\n",
              "    }\n",
              "\n",
              "    .dataframe thead th {\n",
              "        text-align: right;\n",
              "    }\n",
              "</style>\n",
              "<table border=\"1\" class=\"dataframe\">\n",
              "  <thead>\n",
              "    <tr style=\"text-align: right;\">\n",
              "      <th></th>\n",
              "      <th>x1</th>\n",
              "      <th>x2</th>\n",
              "      <th>labels</th>\n",
              "    </tr>\n",
              "  </thead>\n",
              "  <tbody>\n",
              "    <tr>\n",
              "      <th>0</th>\n",
              "      <td>0</td>\n",
              "      <td>0</td>\n",
              "      <td>NaN</td>\n",
              "    </tr>\n",
              "  </tbody>\n",
              "</table>\n",
              "</div>"
            ],
            "text/plain": [
              "   x1  x2  labels\n",
              "0   0   0     NaN"
            ]
          },
          "execution_count": 95,
          "metadata": {},
          "output_type": "execute_result"
        }
      ]
    },
    {
      "cell_type": "code",
      "metadata": {
        "id": "JpwRlbZboWd7",
        "outputId": "581e55e3-6902-4740-9471-104efe85e431"
      },
      "source": [
        "df"
      ],
      "execution_count": null,
      "outputs": [
        {
          "data": {
            "text/html": [
              "<div>\n",
              "<style scoped>\n",
              "    .dataframe tbody tr th:only-of-type {\n",
              "        vertical-align: middle;\n",
              "    }\n",
              "\n",
              "    .dataframe tbody tr th {\n",
              "        vertical-align: top;\n",
              "    }\n",
              "\n",
              "    .dataframe thead th {\n",
              "        text-align: right;\n",
              "    }\n",
              "</style>\n",
              "<table border=\"1\" class=\"dataframe\">\n",
              "  <thead>\n",
              "    <tr style=\"text-align: right;\">\n",
              "      <th></th>\n",
              "      <th>x1</th>\n",
              "      <th>x2</th>\n",
              "      <th>labels</th>\n",
              "    </tr>\n",
              "  </thead>\n",
              "  <tbody>\n",
              "    <tr>\n",
              "      <th>0</th>\n",
              "      <td>1.0</td>\n",
              "      <td>1.1</td>\n",
              "      <td>A</td>\n",
              "    </tr>\n",
              "    <tr>\n",
              "      <th>1</th>\n",
              "      <td>1.0</td>\n",
              "      <td>1.0</td>\n",
              "      <td>A</td>\n",
              "    </tr>\n",
              "    <tr>\n",
              "      <th>2</th>\n",
              "      <td>0.0</td>\n",
              "      <td>0.0</td>\n",
              "      <td>B</td>\n",
              "    </tr>\n",
              "    <tr>\n",
              "      <th>3</th>\n",
              "      <td>0.0</td>\n",
              "      <td>0.1</td>\n",
              "      <td>B</td>\n",
              "    </tr>\n",
              "  </tbody>\n",
              "</table>\n",
              "</div>"
            ],
            "text/plain": [
              "    x1   x2 labels\n",
              "0  1.0  1.1      A\n",
              "1  1.0  1.0      A\n",
              "2  0.0  0.0      B\n",
              "3  0.0  0.1      B"
            ]
          },
          "execution_count": 96,
          "metadata": {},
          "output_type": "execute_result"
        }
      ]
    },
    {
      "cell_type": "code",
      "metadata": {
        "id": "gOEdOwJuoWd8"
      },
      "source": [
        "df = pd.concat([df, dt1],ignore_index = True)"
      ],
      "execution_count": null,
      "outputs": []
    },
    {
      "cell_type": "code",
      "metadata": {
        "id": "5AMpiab5oWd8",
        "outputId": "bb57397f-2984-416c-e076-a4a2dbb0b36e"
      },
      "source": [
        "df"
      ],
      "execution_count": null,
      "outputs": [
        {
          "data": {
            "text/html": [
              "<div>\n",
              "<style scoped>\n",
              "    .dataframe tbody tr th:only-of-type {\n",
              "        vertical-align: middle;\n",
              "    }\n",
              "\n",
              "    .dataframe tbody tr th {\n",
              "        vertical-align: top;\n",
              "    }\n",
              "\n",
              "    .dataframe thead th {\n",
              "        text-align: right;\n",
              "    }\n",
              "</style>\n",
              "<table border=\"1\" class=\"dataframe\">\n",
              "  <thead>\n",
              "    <tr style=\"text-align: right;\">\n",
              "      <th></th>\n",
              "      <th>x1</th>\n",
              "      <th>x2</th>\n",
              "      <th>labels</th>\n",
              "    </tr>\n",
              "  </thead>\n",
              "  <tbody>\n",
              "    <tr>\n",
              "      <th>0</th>\n",
              "      <td>1.0</td>\n",
              "      <td>1.1</td>\n",
              "      <td>A</td>\n",
              "    </tr>\n",
              "    <tr>\n",
              "      <th>1</th>\n",
              "      <td>1.0</td>\n",
              "      <td>1.0</td>\n",
              "      <td>A</td>\n",
              "    </tr>\n",
              "    <tr>\n",
              "      <th>2</th>\n",
              "      <td>0.0</td>\n",
              "      <td>0.0</td>\n",
              "      <td>B</td>\n",
              "    </tr>\n",
              "    <tr>\n",
              "      <th>3</th>\n",
              "      <td>0.0</td>\n",
              "      <td>0.1</td>\n",
              "      <td>B</td>\n",
              "    </tr>\n",
              "    <tr>\n",
              "      <th>4</th>\n",
              "      <td>0.0</td>\n",
              "      <td>0.0</td>\n",
              "      <td>NaN</td>\n",
              "    </tr>\n",
              "  </tbody>\n",
              "</table>\n",
              "</div>"
            ],
            "text/plain": [
              "    x1   x2 labels\n",
              "0  1.0  1.1      A\n",
              "1  1.0  1.0      A\n",
              "2  0.0  0.0      B\n",
              "3  0.0  0.1      B\n",
              "4  0.0  0.0    NaN"
            ]
          },
          "execution_count": 98,
          "metadata": {},
          "output_type": "execute_result"
        }
      ]
    },
    {
      "cell_type": "code",
      "metadata": {
        "id": "PC8-p0dwoWd8"
      },
      "source": [
        "l = [1, 2, 3]"
      ],
      "execution_count": null,
      "outputs": []
    },
    {
      "cell_type": "code",
      "metadata": {
        "id": "9-3XqetBoWd8"
      },
      "source": [
        "l1 = np.array(l)"
      ],
      "execution_count": null,
      "outputs": []
    },
    {
      "cell_type": "code",
      "metadata": {
        "id": "WsfXyq3KoWd8",
        "outputId": "ea42a841-33ba-4b60-cb78-509064260379"
      },
      "source": [
        "l1"
      ],
      "execution_count": null,
      "outputs": [
        {
          "data": {
            "text/plain": [
              "array([1, 2, 3])"
            ]
          },
          "execution_count": 101,
          "metadata": {},
          "output_type": "execute_result"
        }
      ]
    },
    {
      "cell_type": "code",
      "metadata": {
        "id": "af_tnhXhoWd9",
        "outputId": "d605ed6b-828a-4cf0-b1c7-1c0144653172"
      },
      "source": [
        "l1 + 1"
      ],
      "execution_count": null,
      "outputs": [
        {
          "data": {
            "text/plain": [
              "array([2, 3, 4])"
            ]
          },
          "execution_count": 102,
          "metadata": {},
          "output_type": "execute_result"
        }
      ]
    },
    {
      "cell_type": "code",
      "metadata": {
        "id": "dY2VtSpsoWd9"
      },
      "source": [
        "df = d"
      ],
      "execution_count": null,
      "outputs": []
    },
    {
      "cell_type": "code",
      "metadata": {
        "id": "Yoko8Hx6oWd9",
        "outputId": "90f522c6-a8b6-4092-b439-a199884fd84d"
      },
      "source": [
        "df"
      ],
      "execution_count": null,
      "outputs": [
        {
          "data": {
            "text/html": [
              "<div>\n",
              "<style scoped>\n",
              "    .dataframe tbody tr th:only-of-type {\n",
              "        vertical-align: middle;\n",
              "    }\n",
              "\n",
              "    .dataframe tbody tr th {\n",
              "        vertical-align: top;\n",
              "    }\n",
              "\n",
              "    .dataframe thead th {\n",
              "        text-align: right;\n",
              "    }\n",
              "</style>\n",
              "<table border=\"1\" class=\"dataframe\">\n",
              "  <thead>\n",
              "    <tr style=\"text-align: right;\">\n",
              "      <th></th>\n",
              "      <th>x1</th>\n",
              "      <th>x2</th>\n",
              "      <th>labels</th>\n",
              "    </tr>\n",
              "  </thead>\n",
              "  <tbody>\n",
              "    <tr>\n",
              "      <th>1</th>\n",
              "      <td>1.0</td>\n",
              "      <td>1.1</td>\n",
              "      <td>A</td>\n",
              "    </tr>\n",
              "    <tr>\n",
              "      <th>2</th>\n",
              "      <td>1.0</td>\n",
              "      <td>1.0</td>\n",
              "      <td>A</td>\n",
              "    </tr>\n",
              "    <tr>\n",
              "      <th>3</th>\n",
              "      <td>0.0</td>\n",
              "      <td>0.0</td>\n",
              "      <td>B</td>\n",
              "    </tr>\n",
              "    <tr>\n",
              "      <th>4</th>\n",
              "      <td>0.0</td>\n",
              "      <td>0.1</td>\n",
              "      <td>B</td>\n",
              "    </tr>\n",
              "  </tbody>\n",
              "</table>\n",
              "</div>"
            ],
            "text/plain": [
              "    x1   x2 labels\n",
              "1  1.0  1.1      A\n",
              "2  1.0  1.0      A\n",
              "3  0.0  0.0      B\n",
              "4  0.0  0.1      B"
            ]
          },
          "execution_count": 104,
          "metadata": {},
          "output_type": "execute_result"
        }
      ]
    },
    {
      "cell_type": "code",
      "metadata": {
        "id": "d7V5nsQuoWd9"
      },
      "source": [
        "df = pd.concat([df, dt1],ignore_index = True)"
      ],
      "execution_count": null,
      "outputs": []
    },
    {
      "cell_type": "code",
      "metadata": {
        "id": "pUl350RWoWd9",
        "outputId": "0993909f-04f9-4717-e3cb-f2398844634a"
      },
      "source": [
        "df"
      ],
      "execution_count": null,
      "outputs": [
        {
          "data": {
            "text/html": [
              "<div>\n",
              "<style scoped>\n",
              "    .dataframe tbody tr th:only-of-type {\n",
              "        vertical-align: middle;\n",
              "    }\n",
              "\n",
              "    .dataframe tbody tr th {\n",
              "        vertical-align: top;\n",
              "    }\n",
              "\n",
              "    .dataframe thead th {\n",
              "        text-align: right;\n",
              "    }\n",
              "</style>\n",
              "<table border=\"1\" class=\"dataframe\">\n",
              "  <thead>\n",
              "    <tr style=\"text-align: right;\">\n",
              "      <th></th>\n",
              "      <th>x1</th>\n",
              "      <th>x2</th>\n",
              "      <th>labels</th>\n",
              "    </tr>\n",
              "  </thead>\n",
              "  <tbody>\n",
              "    <tr>\n",
              "      <th>0</th>\n",
              "      <td>1.0</td>\n",
              "      <td>1.1</td>\n",
              "      <td>A</td>\n",
              "    </tr>\n",
              "    <tr>\n",
              "      <th>1</th>\n",
              "      <td>1.0</td>\n",
              "      <td>1.0</td>\n",
              "      <td>A</td>\n",
              "    </tr>\n",
              "    <tr>\n",
              "      <th>2</th>\n",
              "      <td>0.0</td>\n",
              "      <td>0.0</td>\n",
              "      <td>B</td>\n",
              "    </tr>\n",
              "    <tr>\n",
              "      <th>3</th>\n",
              "      <td>0.0</td>\n",
              "      <td>0.1</td>\n",
              "      <td>B</td>\n",
              "    </tr>\n",
              "    <tr>\n",
              "      <th>4</th>\n",
              "      <td>0.0</td>\n",
              "      <td>0.0</td>\n",
              "      <td>NaN</td>\n",
              "    </tr>\n",
              "  </tbody>\n",
              "</table>\n",
              "</div>"
            ],
            "text/plain": [
              "    x1   x2 labels\n",
              "0  1.0  1.1      A\n",
              "1  1.0  1.0      A\n",
              "2  0.0  0.0      B\n",
              "3  0.0  0.1      B\n",
              "4  0.0  0.0    NaN"
            ]
          },
          "execution_count": 106,
          "metadata": {},
          "output_type": "execute_result"
        }
      ]
    },
    {
      "cell_type": "code",
      "metadata": {
        "id": "JIJAYVhOoWd-",
        "outputId": "6778cfb7-f21e-48a9-c0aa-67d450ec651c"
      },
      "source": [
        "df.iloc[:4, :2] - df.iloc[4, :2]"
      ],
      "execution_count": null,
      "outputs": [
        {
          "data": {
            "text/html": [
              "<div>\n",
              "<style scoped>\n",
              "    .dataframe tbody tr th:only-of-type {\n",
              "        vertical-align: middle;\n",
              "    }\n",
              "\n",
              "    .dataframe tbody tr th {\n",
              "        vertical-align: top;\n",
              "    }\n",
              "\n",
              "    .dataframe thead th {\n",
              "        text-align: right;\n",
              "    }\n",
              "</style>\n",
              "<table border=\"1\" class=\"dataframe\">\n",
              "  <thead>\n",
              "    <tr style=\"text-align: right;\">\n",
              "      <th></th>\n",
              "      <th>x1</th>\n",
              "      <th>x2</th>\n",
              "    </tr>\n",
              "  </thead>\n",
              "  <tbody>\n",
              "    <tr>\n",
              "      <th>0</th>\n",
              "      <td>1</td>\n",
              "      <td>1.1</td>\n",
              "    </tr>\n",
              "    <tr>\n",
              "      <th>1</th>\n",
              "      <td>1</td>\n",
              "      <td>1</td>\n",
              "    </tr>\n",
              "    <tr>\n",
              "      <th>2</th>\n",
              "      <td>0</td>\n",
              "      <td>0</td>\n",
              "    </tr>\n",
              "    <tr>\n",
              "      <th>3</th>\n",
              "      <td>0</td>\n",
              "      <td>0.1</td>\n",
              "    </tr>\n",
              "  </tbody>\n",
              "</table>\n",
              "</div>"
            ],
            "text/plain": [
              "  x1   x2\n",
              "0  1  1.1\n",
              "1  1    1\n",
              "2  0    0\n",
              "3  0  0.1"
            ]
          },
          "execution_count": 107,
          "metadata": {},
          "output_type": "execute_result"
        }
      ]
    },
    {
      "cell_type": "code",
      "metadata": {
        "id": "XMpi10ZVoWd-",
        "outputId": "3d07abca-4811-4039-d8ec-c7d5910dd246"
      },
      "source": [
        "(df.iloc[:4, :2] - df.iloc[4, :2]) ** 2"
      ],
      "execution_count": null,
      "outputs": [
        {
          "data": {
            "text/html": [
              "<div>\n",
              "<style scoped>\n",
              "    .dataframe tbody tr th:only-of-type {\n",
              "        vertical-align: middle;\n",
              "    }\n",
              "\n",
              "    .dataframe tbody tr th {\n",
              "        vertical-align: top;\n",
              "    }\n",
              "\n",
              "    .dataframe thead th {\n",
              "        text-align: right;\n",
              "    }\n",
              "</style>\n",
              "<table border=\"1\" class=\"dataframe\">\n",
              "  <thead>\n",
              "    <tr style=\"text-align: right;\">\n",
              "      <th></th>\n",
              "      <th>x1</th>\n",
              "      <th>x2</th>\n",
              "    </tr>\n",
              "  </thead>\n",
              "  <tbody>\n",
              "    <tr>\n",
              "      <th>0</th>\n",
              "      <td>1</td>\n",
              "      <td>1.21</td>\n",
              "    </tr>\n",
              "    <tr>\n",
              "      <th>1</th>\n",
              "      <td>1</td>\n",
              "      <td>1</td>\n",
              "    </tr>\n",
              "    <tr>\n",
              "      <th>2</th>\n",
              "      <td>0</td>\n",
              "      <td>0</td>\n",
              "    </tr>\n",
              "    <tr>\n",
              "      <th>3</th>\n",
              "      <td>0</td>\n",
              "      <td>0.01</td>\n",
              "    </tr>\n",
              "  </tbody>\n",
              "</table>\n",
              "</div>"
            ],
            "text/plain": [
              "  x1    x2\n",
              "0  1  1.21\n",
              "1  1     1\n",
              "2  0     0\n",
              "3  0  0.01"
            ]
          },
          "execution_count": 108,
          "metadata": {},
          "output_type": "execute_result"
        }
      ]
    },
    {
      "cell_type": "code",
      "metadata": {
        "id": "IgLBTAguoWd-",
        "outputId": "d43a37ba-31ca-44e8-8f2d-5e0cced874eb"
      },
      "source": [
        "((df.iloc[:4, :2] - df.iloc[4, :2]) ** 2).sum(1)"
      ],
      "execution_count": null,
      "outputs": [
        {
          "data": {
            "text/plain": [
              "0    2.21\n",
              "1    2.00\n",
              "2    0.00\n",
              "3    0.01\n",
              "dtype: float64"
            ]
          },
          "execution_count": 109,
          "metadata": {},
          "output_type": "execute_result"
        }
      ]
    },
    {
      "cell_type": "code",
      "metadata": {
        "id": "txWLW5SBoWd-"
      },
      "source": [
        "dist = list(((df.iloc[:4, :2] - df.iloc[4, :2]) ** 2).sum(1))"
      ],
      "execution_count": null,
      "outputs": []
    },
    {
      "cell_type": "code",
      "metadata": {
        "id": "KLOYFnBxoWd-",
        "outputId": "5cec8933-947a-4c87-9104-0cd63f9109d7"
      },
      "source": [
        "dist"
      ],
      "execution_count": null,
      "outputs": [
        {
          "data": {
            "text/plain": [
              "[2.21, 2.0, 0.0, 0.010000000000000002]"
            ]
          },
          "execution_count": 111,
          "metadata": {},
          "output_type": "execute_result"
        }
      ]
    },
    {
      "cell_type": "code",
      "metadata": {
        "id": "jbnMQs3EoWd_",
        "outputId": "3f60d5fe-a13e-4d21-e661-2492e700f9f2"
      },
      "source": [
        "df.loc[:3, 'labels']"
      ],
      "execution_count": null,
      "outputs": [
        {
          "data": {
            "text/plain": [
              "0    A\n",
              "1    A\n",
              "2    B\n",
              "3    B\n",
              "Name: labels, dtype: object"
            ]
          },
          "execution_count": 112,
          "metadata": {},
          "output_type": "execute_result"
        }
      ]
    },
    {
      "cell_type": "code",
      "metadata": {
        "id": "a9d80laZoWd_",
        "outputId": "bb9d61f5-4879-42b0-e13c-942eff5bf7f1"
      },
      "source": [
        "(df.loc[:, 'labels'])[: 4]"
      ],
      "execution_count": null,
      "outputs": [
        {
          "data": {
            "text/plain": [
              "0    A\n",
              "1    A\n",
              "2    B\n",
              "3    B\n",
              "Name: labels, dtype: object"
            ]
          },
          "execution_count": 113,
          "metadata": {},
          "output_type": "execute_result"
        }
      ]
    },
    {
      "cell_type": "code",
      "metadata": {
        "id": "_og1NmSeoWd_"
      },
      "source": [
        "dist_l = pd.DataFrame({'dist': dist, 'labels': (df.loc[:, 'labels'])[: 4]})"
      ],
      "execution_count": null,
      "outputs": []
    },
    {
      "cell_type": "code",
      "metadata": {
        "id": "R8o4ItnIoWd_",
        "outputId": "c1f532e8-6e0e-4182-cb9e-9644f23a33e1"
      },
      "source": [
        "dist_l"
      ],
      "execution_count": null,
      "outputs": [
        {
          "data": {
            "text/html": [
              "<div>\n",
              "<style scoped>\n",
              "    .dataframe tbody tr th:only-of-type {\n",
              "        vertical-align: middle;\n",
              "    }\n",
              "\n",
              "    .dataframe tbody tr th {\n",
              "        vertical-align: top;\n",
              "    }\n",
              "\n",
              "    .dataframe thead th {\n",
              "        text-align: right;\n",
              "    }\n",
              "</style>\n",
              "<table border=\"1\" class=\"dataframe\">\n",
              "  <thead>\n",
              "    <tr style=\"text-align: right;\">\n",
              "      <th></th>\n",
              "      <th>dist</th>\n",
              "      <th>labels</th>\n",
              "    </tr>\n",
              "  </thead>\n",
              "  <tbody>\n",
              "    <tr>\n",
              "      <th>0</th>\n",
              "      <td>2.21</td>\n",
              "      <td>A</td>\n",
              "    </tr>\n",
              "    <tr>\n",
              "      <th>1</th>\n",
              "      <td>2.00</td>\n",
              "      <td>A</td>\n",
              "    </tr>\n",
              "    <tr>\n",
              "      <th>2</th>\n",
              "      <td>0.00</td>\n",
              "      <td>B</td>\n",
              "    </tr>\n",
              "    <tr>\n",
              "      <th>3</th>\n",
              "      <td>0.01</td>\n",
              "      <td>B</td>\n",
              "    </tr>\n",
              "  </tbody>\n",
              "</table>\n",
              "</div>"
            ],
            "text/plain": [
              "   dist labels\n",
              "0  2.21      A\n",
              "1  2.00      A\n",
              "2  0.00      B\n",
              "3  0.01      B"
            ]
          },
          "execution_count": 115,
          "metadata": {},
          "output_type": "execute_result"
        }
      ]
    },
    {
      "cell_type": "code",
      "metadata": {
        "id": "qaKYC6BGoWd_",
        "outputId": "f48a0840-f9a8-4d6d-e146-c04c9ada174c"
      },
      "source": [
        "dist_l.sort_values(by = 'dist')"
      ],
      "execution_count": null,
      "outputs": [
        {
          "data": {
            "text/html": [
              "<div>\n",
              "<style scoped>\n",
              "    .dataframe tbody tr th:only-of-type {\n",
              "        vertical-align: middle;\n",
              "    }\n",
              "\n",
              "    .dataframe tbody tr th {\n",
              "        vertical-align: top;\n",
              "    }\n",
              "\n",
              "    .dataframe thead th {\n",
              "        text-align: right;\n",
              "    }\n",
              "</style>\n",
              "<table border=\"1\" class=\"dataframe\">\n",
              "  <thead>\n",
              "    <tr style=\"text-align: right;\">\n",
              "      <th></th>\n",
              "      <th>dist</th>\n",
              "      <th>labels</th>\n",
              "    </tr>\n",
              "  </thead>\n",
              "  <tbody>\n",
              "    <tr>\n",
              "      <th>2</th>\n",
              "      <td>0.00</td>\n",
              "      <td>B</td>\n",
              "    </tr>\n",
              "    <tr>\n",
              "      <th>3</th>\n",
              "      <td>0.01</td>\n",
              "      <td>B</td>\n",
              "    </tr>\n",
              "    <tr>\n",
              "      <th>1</th>\n",
              "      <td>2.00</td>\n",
              "      <td>A</td>\n",
              "    </tr>\n",
              "    <tr>\n",
              "      <th>0</th>\n",
              "      <td>2.21</td>\n",
              "      <td>A</td>\n",
              "    </tr>\n",
              "  </tbody>\n",
              "</table>\n",
              "</div>"
            ],
            "text/plain": [
              "   dist labels\n",
              "2  0.00      B\n",
              "3  0.01      B\n",
              "1  2.00      A\n",
              "0  2.21      A"
            ]
          },
          "execution_count": 116,
          "metadata": {},
          "output_type": "execute_result"
        }
      ]
    },
    {
      "cell_type": "code",
      "metadata": {
        "id": "mBCahrLQoWeA",
        "outputId": "7cd2c587-4f5a-46c1-e531-66fa6df71241"
      },
      "source": [
        "dr = dist_l.sort_values(by = 'dist')[: 3]\n",
        "dr"
      ],
      "execution_count": null,
      "outputs": [
        {
          "data": {
            "text/html": [
              "<div>\n",
              "<style scoped>\n",
              "    .dataframe tbody tr th:only-of-type {\n",
              "        vertical-align: middle;\n",
              "    }\n",
              "\n",
              "    .dataframe tbody tr th {\n",
              "        vertical-align: top;\n",
              "    }\n",
              "\n",
              "    .dataframe thead th {\n",
              "        text-align: right;\n",
              "    }\n",
              "</style>\n",
              "<table border=\"1\" class=\"dataframe\">\n",
              "  <thead>\n",
              "    <tr style=\"text-align: right;\">\n",
              "      <th></th>\n",
              "      <th>dist</th>\n",
              "      <th>labels</th>\n",
              "    </tr>\n",
              "  </thead>\n",
              "  <tbody>\n",
              "    <tr>\n",
              "      <th>2</th>\n",
              "      <td>0.00</td>\n",
              "      <td>B</td>\n",
              "    </tr>\n",
              "    <tr>\n",
              "      <th>3</th>\n",
              "      <td>0.01</td>\n",
              "      <td>B</td>\n",
              "    </tr>\n",
              "    <tr>\n",
              "      <th>1</th>\n",
              "      <td>2.00</td>\n",
              "      <td>A</td>\n",
              "    </tr>\n",
              "  </tbody>\n",
              "</table>\n",
              "</div>"
            ],
            "text/plain": [
              "   dist labels\n",
              "2  0.00      B\n",
              "3  0.01      B\n",
              "1  2.00      A"
            ]
          },
          "execution_count": 117,
          "metadata": {},
          "output_type": "execute_result"
        }
      ]
    },
    {
      "cell_type": "code",
      "metadata": {
        "id": "kPanYPZIoWeA",
        "outputId": "89811a54-cd3e-49a0-89d8-537a5cd9cd44"
      },
      "source": [
        "re = dr.loc[:, 'labels'].value_counts(ascending=False)\n",
        "re"
      ],
      "execution_count": null,
      "outputs": [
        {
          "data": {
            "text/plain": [
              "B    2\n",
              "A    1\n",
              "Name: labels, dtype: int64"
            ]
          },
          "execution_count": 118,
          "metadata": {},
          "output_type": "execute_result"
        }
      ]
    },
    {
      "cell_type": "code",
      "metadata": {
        "id": "BLT5dqlXoWeA",
        "outputId": "e9c95fae-f9f6-4dfa-a9fa-3bd69379dc13"
      },
      "source": [
        "re.index[0]"
      ],
      "execution_count": null,
      "outputs": [
        {
          "data": {
            "text/plain": [
              "'B'"
            ]
          },
          "execution_count": 119,
          "metadata": {},
          "output_type": "execute_result"
        }
      ]
    },
    {
      "cell_type": "code",
      "metadata": {
        "id": "BGwedQXGoWeA"
      },
      "source": [
        "def classify0_1(train,test,k):\n",
        "    n = train.shape[1] - 1\n",
        "    m = test.shape[0]\n",
        "    result = []\n",
        "    for i in range(m):\n",
        "        dist = list(((train.iloc[:, :n] - test.iloc[i, :n]) ** 2).sum(1))\n",
        "        dist_l = pd.DataFrame({'dist': dist, 'labels': (train.iloc[:, n])})\n",
        "        dr = dist_l.sort_values(by = 'dist')[: k]\n",
        "        re = dr.loc[:, 'labels'].value_counts()\n",
        "        result.append(re.index[0])\n",
        "    result = pd.Series(result)\n",
        "    test['predict'] = result\n",
        "    return test"
      ],
      "execution_count": null,
      "outputs": []
    },
    {
      "cell_type": "code",
      "metadata": {
        "id": "vIvswuq9oWeA",
        "outputId": "3a4cd560-2330-4bfc-e83d-ab5596410f4a"
      },
      "source": [
        "df"
      ],
      "execution_count": null,
      "outputs": [
        {
          "data": {
            "text/html": [
              "<div>\n",
              "<style scoped>\n",
              "    .dataframe tbody tr th:only-of-type {\n",
              "        vertical-align: middle;\n",
              "    }\n",
              "\n",
              "    .dataframe tbody tr th {\n",
              "        vertical-align: top;\n",
              "    }\n",
              "\n",
              "    .dataframe thead th {\n",
              "        text-align: right;\n",
              "    }\n",
              "</style>\n",
              "<table border=\"1\" class=\"dataframe\">\n",
              "  <thead>\n",
              "    <tr style=\"text-align: right;\">\n",
              "      <th></th>\n",
              "      <th>x1</th>\n",
              "      <th>x2</th>\n",
              "      <th>labels</th>\n",
              "    </tr>\n",
              "  </thead>\n",
              "  <tbody>\n",
              "    <tr>\n",
              "      <th>0</th>\n",
              "      <td>1.0</td>\n",
              "      <td>1.1</td>\n",
              "      <td>A</td>\n",
              "    </tr>\n",
              "    <tr>\n",
              "      <th>1</th>\n",
              "      <td>1.0</td>\n",
              "      <td>1.0</td>\n",
              "      <td>A</td>\n",
              "    </tr>\n",
              "    <tr>\n",
              "      <th>2</th>\n",
              "      <td>0.0</td>\n",
              "      <td>0.0</td>\n",
              "      <td>B</td>\n",
              "    </tr>\n",
              "    <tr>\n",
              "      <th>3</th>\n",
              "      <td>0.0</td>\n",
              "      <td>0.1</td>\n",
              "      <td>B</td>\n",
              "    </tr>\n",
              "    <tr>\n",
              "      <th>4</th>\n",
              "      <td>0.0</td>\n",
              "      <td>0.0</td>\n",
              "      <td>NaN</td>\n",
              "    </tr>\n",
              "  </tbody>\n",
              "</table>\n",
              "</div>"
            ],
            "text/plain": [
              "    x1   x2 labels\n",
              "0  1.0  1.1      A\n",
              "1  1.0  1.0      A\n",
              "2  0.0  0.0      B\n",
              "3  0.0  0.1      B\n",
              "4  0.0  0.0    NaN"
            ]
          },
          "execution_count": 121,
          "metadata": {},
          "output_type": "execute_result"
        }
      ]
    },
    {
      "cell_type": "code",
      "metadata": {
        "id": "Vpc1upQIoWeB",
        "outputId": "5ae9b0aa-e4d8-4035-bf97-bd0576aa939b"
      },
      "source": [
        "df.shape[1]"
      ],
      "execution_count": null,
      "outputs": [
        {
          "data": {
            "text/plain": [
              "3"
            ]
          },
          "execution_count": 122,
          "metadata": {},
          "output_type": "execute_result"
        }
      ]
    },
    {
      "cell_type": "code",
      "metadata": {
        "id": "DiWOAcYyoWeB"
      },
      "source": [
        "n = df.shape[1] - 1"
      ],
      "execution_count": null,
      "outputs": []
    },
    {
      "cell_type": "code",
      "metadata": {
        "id": "vdJYMauToWeB",
        "outputId": "c8fc9371-630a-451e-9209-692d41921c68"
      },
      "source": [
        "df.iloc[:, :n]"
      ],
      "execution_count": null,
      "outputs": [
        {
          "data": {
            "text/html": [
              "<div>\n",
              "<style scoped>\n",
              "    .dataframe tbody tr th:only-of-type {\n",
              "        vertical-align: middle;\n",
              "    }\n",
              "\n",
              "    .dataframe tbody tr th {\n",
              "        vertical-align: top;\n",
              "    }\n",
              "\n",
              "    .dataframe thead th {\n",
              "        text-align: right;\n",
              "    }\n",
              "</style>\n",
              "<table border=\"1\" class=\"dataframe\">\n",
              "  <thead>\n",
              "    <tr style=\"text-align: right;\">\n",
              "      <th></th>\n",
              "      <th>x1</th>\n",
              "      <th>x2</th>\n",
              "    </tr>\n",
              "  </thead>\n",
              "  <tbody>\n",
              "    <tr>\n",
              "      <th>0</th>\n",
              "      <td>1.0</td>\n",
              "      <td>1.1</td>\n",
              "    </tr>\n",
              "    <tr>\n",
              "      <th>1</th>\n",
              "      <td>1.0</td>\n",
              "      <td>1.0</td>\n",
              "    </tr>\n",
              "    <tr>\n",
              "      <th>2</th>\n",
              "      <td>0.0</td>\n",
              "      <td>0.0</td>\n",
              "    </tr>\n",
              "    <tr>\n",
              "      <th>3</th>\n",
              "      <td>0.0</td>\n",
              "      <td>0.1</td>\n",
              "    </tr>\n",
              "    <tr>\n",
              "      <th>4</th>\n",
              "      <td>0.0</td>\n",
              "      <td>0.0</td>\n",
              "    </tr>\n",
              "  </tbody>\n",
              "</table>\n",
              "</div>"
            ],
            "text/plain": [
              "    x1   x2\n",
              "0  1.0  1.1\n",
              "1  1.0  1.0\n",
              "2  0.0  0.0\n",
              "3  0.0  0.1\n",
              "4  0.0  0.0"
            ]
          },
          "execution_count": 124,
          "metadata": {},
          "output_type": "execute_result"
        }
      ]
    },
    {
      "cell_type": "code",
      "metadata": {
        "id": "xJpopw4GoWeB"
      },
      "source": [
        "l = []"
      ],
      "execution_count": null,
      "outputs": []
    },
    {
      "cell_type": "code",
      "metadata": {
        "id": "PNuknh5XoWeB"
      },
      "source": [
        "l.append(1)"
      ],
      "execution_count": null,
      "outputs": []
    },
    {
      "cell_type": "code",
      "metadata": {
        "id": "yh87ge9eoWeB",
        "outputId": "8672605a-0ddf-47a5-d12c-62417b95dcf8"
      },
      "source": [
        "l"
      ],
      "execution_count": null,
      "outputs": [
        {
          "data": {
            "text/plain": [
              "[1]"
            ]
          },
          "execution_count": 127,
          "metadata": {},
          "output_type": "execute_result"
        }
      ]
    },
    {
      "cell_type": "code",
      "metadata": {
        "id": "CaDw1E8OoWeC"
      },
      "source": [
        "l.append(2)"
      ],
      "execution_count": null,
      "outputs": []
    },
    {
      "cell_type": "code",
      "metadata": {
        "id": "hzl5u7taoWeC",
        "outputId": "42b8da0a-e583-4e4e-e9e0-7c1ef69cdbd1"
      },
      "source": [
        "l"
      ],
      "execution_count": null,
      "outputs": [
        {
          "data": {
            "text/plain": [
              "[1, 2]"
            ]
          },
          "execution_count": 129,
          "metadata": {},
          "output_type": "execute_result"
        }
      ]
    },
    {
      "cell_type": "code",
      "metadata": {
        "id": "tFKEGmG2oWeC"
      },
      "source": [
        "l = pd.Series(l)"
      ],
      "execution_count": null,
      "outputs": []
    },
    {
      "cell_type": "code",
      "metadata": {
        "id": "HCv-v_PyoWeC",
        "outputId": "362c018a-6067-4647-b7f5-5ac0b7fd5dea"
      },
      "source": [
        "l"
      ],
      "execution_count": null,
      "outputs": [
        {
          "data": {
            "text/plain": [
              "0    1\n",
              "1    2\n",
              "dtype: int64"
            ]
          },
          "execution_count": 131,
          "metadata": {},
          "output_type": "execute_result"
        }
      ]
    },
    {
      "cell_type": "code",
      "metadata": {
        "id": "DoNRVOaYoWeC",
        "outputId": "c35f7ba9-9f72-44a0-8e7e-ceff67ca807d"
      },
      "source": [
        "df"
      ],
      "execution_count": null,
      "outputs": [
        {
          "data": {
            "text/html": [
              "<div>\n",
              "<style scoped>\n",
              "    .dataframe tbody tr th:only-of-type {\n",
              "        vertical-align: middle;\n",
              "    }\n",
              "\n",
              "    .dataframe tbody tr th {\n",
              "        vertical-align: top;\n",
              "    }\n",
              "\n",
              "    .dataframe thead th {\n",
              "        text-align: right;\n",
              "    }\n",
              "</style>\n",
              "<table border=\"1\" class=\"dataframe\">\n",
              "  <thead>\n",
              "    <tr style=\"text-align: right;\">\n",
              "      <th></th>\n",
              "      <th>x1</th>\n",
              "      <th>x2</th>\n",
              "      <th>labels</th>\n",
              "    </tr>\n",
              "  </thead>\n",
              "  <tbody>\n",
              "    <tr>\n",
              "      <th>0</th>\n",
              "      <td>1.0</td>\n",
              "      <td>1.1</td>\n",
              "      <td>A</td>\n",
              "    </tr>\n",
              "    <tr>\n",
              "      <th>1</th>\n",
              "      <td>1.0</td>\n",
              "      <td>1.0</td>\n",
              "      <td>A</td>\n",
              "    </tr>\n",
              "    <tr>\n",
              "      <th>2</th>\n",
              "      <td>0.0</td>\n",
              "      <td>0.0</td>\n",
              "      <td>B</td>\n",
              "    </tr>\n",
              "    <tr>\n",
              "      <th>3</th>\n",
              "      <td>0.0</td>\n",
              "      <td>0.1</td>\n",
              "      <td>B</td>\n",
              "    </tr>\n",
              "    <tr>\n",
              "      <th>4</th>\n",
              "      <td>0.0</td>\n",
              "      <td>0.0</td>\n",
              "      <td>NaN</td>\n",
              "    </tr>\n",
              "  </tbody>\n",
              "</table>\n",
              "</div>"
            ],
            "text/plain": [
              "    x1   x2 labels\n",
              "0  1.0  1.1      A\n",
              "1  1.0  1.0      A\n",
              "2  0.0  0.0      B\n",
              "3  0.0  0.1      B\n",
              "4  0.0  0.0    NaN"
            ]
          },
          "execution_count": 132,
          "metadata": {},
          "output_type": "execute_result"
        }
      ]
    },
    {
      "cell_type": "code",
      "metadata": {
        "id": "Gu0p8g22oWeC"
      },
      "source": [
        "iris = pd.read_csv('iris.txt', header = None)"
      ],
      "execution_count": null,
      "outputs": []
    },
    {
      "cell_type": "code",
      "metadata": {
        "id": "W23gIh7FoWeD",
        "outputId": "414cb774-f017-4b7c-f6c9-c68aecb83e6a"
      },
      "source": [
        "iris.head()"
      ],
      "execution_count": null,
      "outputs": [
        {
          "data": {
            "text/html": [
              "<div>\n",
              "<style scoped>\n",
              "    .dataframe tbody tr th:only-of-type {\n",
              "        vertical-align: middle;\n",
              "    }\n",
              "\n",
              "    .dataframe tbody tr th {\n",
              "        vertical-align: top;\n",
              "    }\n",
              "\n",
              "    .dataframe thead th {\n",
              "        text-align: right;\n",
              "    }\n",
              "</style>\n",
              "<table border=\"1\" class=\"dataframe\">\n",
              "  <thead>\n",
              "    <tr style=\"text-align: right;\">\n",
              "      <th></th>\n",
              "      <th>0</th>\n",
              "      <th>1</th>\n",
              "      <th>2</th>\n",
              "      <th>3</th>\n",
              "      <th>4</th>\n",
              "    </tr>\n",
              "  </thead>\n",
              "  <tbody>\n",
              "    <tr>\n",
              "      <th>0</th>\n",
              "      <td>5.1</td>\n",
              "      <td>3.5</td>\n",
              "      <td>1.4</td>\n",
              "      <td>0.2</td>\n",
              "      <td>Iris-setosa</td>\n",
              "    </tr>\n",
              "    <tr>\n",
              "      <th>1</th>\n",
              "      <td>4.9</td>\n",
              "      <td>3.0</td>\n",
              "      <td>1.4</td>\n",
              "      <td>0.2</td>\n",
              "      <td>Iris-setosa</td>\n",
              "    </tr>\n",
              "    <tr>\n",
              "      <th>2</th>\n",
              "      <td>4.7</td>\n",
              "      <td>3.2</td>\n",
              "      <td>1.3</td>\n",
              "      <td>0.2</td>\n",
              "      <td>Iris-setosa</td>\n",
              "    </tr>\n",
              "    <tr>\n",
              "      <th>3</th>\n",
              "      <td>4.6</td>\n",
              "      <td>3.1</td>\n",
              "      <td>1.5</td>\n",
              "      <td>0.2</td>\n",
              "      <td>Iris-setosa</td>\n",
              "    </tr>\n",
              "    <tr>\n",
              "      <th>4</th>\n",
              "      <td>5.0</td>\n",
              "      <td>3.6</td>\n",
              "      <td>1.4</td>\n",
              "      <td>0.2</td>\n",
              "      <td>Iris-setosa</td>\n",
              "    </tr>\n",
              "  </tbody>\n",
              "</table>\n",
              "</div>"
            ],
            "text/plain": [
              "     0    1    2    3            4\n",
              "0  5.1  3.5  1.4  0.2  Iris-setosa\n",
              "1  4.9  3.0  1.4  0.2  Iris-setosa\n",
              "2  4.7  3.2  1.3  0.2  Iris-setosa\n",
              "3  4.6  3.1  1.5  0.2  Iris-setosa\n",
              "4  5.0  3.6  1.4  0.2  Iris-setosa"
            ]
          },
          "execution_count": 134,
          "metadata": {},
          "output_type": "execute_result"
        }
      ]
    },
    {
      "cell_type": "code",
      "metadata": {
        "id": "ZukU7qbSoWeD",
        "outputId": "50f1edb6-b069-43ca-c71a-b61de77e74a0"
      },
      "source": [
        "iris.shape"
      ],
      "execution_count": null,
      "outputs": [
        {
          "data": {
            "text/plain": [
              "(150, 5)"
            ]
          },
          "execution_count": 135,
          "metadata": {},
          "output_type": "execute_result"
        }
      ]
    },
    {
      "cell_type": "code",
      "metadata": {
        "id": "l9HLYNm_oWeD"
      },
      "source": [
        "iris.columns = ['sepal_length_cm', 'sepal_width_cm', 'petal_length_cm', 'petal_width_cm', 'class']"
      ],
      "execution_count": null,
      "outputs": []
    },
    {
      "cell_type": "code",
      "metadata": {
        "id": "kX3UJ0_1oWeD",
        "outputId": "086be880-c3d4-4693-95fb-f4794c776cca"
      },
      "source": [
        "iris.head()"
      ],
      "execution_count": null,
      "outputs": [
        {
          "data": {
            "text/html": [
              "<div>\n",
              "<style scoped>\n",
              "    .dataframe tbody tr th:only-of-type {\n",
              "        vertical-align: middle;\n",
              "    }\n",
              "\n",
              "    .dataframe tbody tr th {\n",
              "        vertical-align: top;\n",
              "    }\n",
              "\n",
              "    .dataframe thead th {\n",
              "        text-align: right;\n",
              "    }\n",
              "</style>\n",
              "<table border=\"1\" class=\"dataframe\">\n",
              "  <thead>\n",
              "    <tr style=\"text-align: right;\">\n",
              "      <th></th>\n",
              "      <th>sepal_length_cm</th>\n",
              "      <th>sepal_width_cm</th>\n",
              "      <th>petal_length_cm</th>\n",
              "      <th>petal_width_cm</th>\n",
              "      <th>class</th>\n",
              "    </tr>\n",
              "  </thead>\n",
              "  <tbody>\n",
              "    <tr>\n",
              "      <th>0</th>\n",
              "      <td>5.1</td>\n",
              "      <td>3.5</td>\n",
              "      <td>1.4</td>\n",
              "      <td>0.2</td>\n",
              "      <td>Iris-setosa</td>\n",
              "    </tr>\n",
              "    <tr>\n",
              "      <th>1</th>\n",
              "      <td>4.9</td>\n",
              "      <td>3.0</td>\n",
              "      <td>1.4</td>\n",
              "      <td>0.2</td>\n",
              "      <td>Iris-setosa</td>\n",
              "    </tr>\n",
              "    <tr>\n",
              "      <th>2</th>\n",
              "      <td>4.7</td>\n",
              "      <td>3.2</td>\n",
              "      <td>1.3</td>\n",
              "      <td>0.2</td>\n",
              "      <td>Iris-setosa</td>\n",
              "    </tr>\n",
              "    <tr>\n",
              "      <th>3</th>\n",
              "      <td>4.6</td>\n",
              "      <td>3.1</td>\n",
              "      <td>1.5</td>\n",
              "      <td>0.2</td>\n",
              "      <td>Iris-setosa</td>\n",
              "    </tr>\n",
              "    <tr>\n",
              "      <th>4</th>\n",
              "      <td>5.0</td>\n",
              "      <td>3.6</td>\n",
              "      <td>1.4</td>\n",
              "      <td>0.2</td>\n",
              "      <td>Iris-setosa</td>\n",
              "    </tr>\n",
              "  </tbody>\n",
              "</table>\n",
              "</div>"
            ],
            "text/plain": [
              "   sepal_length_cm  sepal_width_cm  petal_length_cm  petal_width_cm  \\\n",
              "0              5.1             3.5              1.4             0.2   \n",
              "1              4.9             3.0              1.4             0.2   \n",
              "2              4.7             3.2              1.3             0.2   \n",
              "3              4.6             3.1              1.5             0.2   \n",
              "4              5.0             3.6              1.4             0.2   \n",
              "\n",
              "         class  \n",
              "0  Iris-setosa  \n",
              "1  Iris-setosa  \n",
              "2  Iris-setosa  \n",
              "3  Iris-setosa  \n",
              "4  Iris-setosa  "
            ]
          },
          "execution_count": 137,
          "metadata": {},
          "output_type": "execute_result"
        }
      ]
    },
    {
      "cell_type": "code",
      "metadata": {
        "id": "Fgiv5c6FoWeD",
        "outputId": "9fe4f83f-ad4d-4abd-c0e5-461629ffc375"
      },
      "source": [
        "iris.shape"
      ],
      "execution_count": null,
      "outputs": [
        {
          "data": {
            "text/plain": [
              "(150, 5)"
            ]
          },
          "execution_count": 138,
          "metadata": {},
          "output_type": "execute_result"
        }
      ]
    },
    {
      "cell_type": "code",
      "metadata": {
        "id": "sjW0Mg6DoWeD",
        "outputId": "4d091663-a4bf-4a73-f283-087657b67dc5"
      },
      "source": [
        "iris.index"
      ],
      "execution_count": null,
      "outputs": [
        {
          "data": {
            "text/plain": [
              "RangeIndex(start=0, stop=150, step=1)"
            ]
          },
          "execution_count": 139,
          "metadata": {},
          "output_type": "execute_result"
        }
      ]
    },
    {
      "cell_type": "code",
      "metadata": {
        "id": "MxD9agmdoWeE"
      },
      "source": [
        "l = list(iris.index)"
      ],
      "execution_count": null,
      "outputs": []
    },
    {
      "cell_type": "code",
      "metadata": {
        "id": "MEW0ObJtoWeE"
      },
      "source": [
        "import random"
      ],
      "execution_count": null,
      "outputs": []
    },
    {
      "cell_type": "code",
      "metadata": {
        "id": "AMgKWEaMoWeE"
      },
      "source": [
        "random.shuffle(l)"
      ],
      "execution_count": null,
      "outputs": []
    },
    {
      "cell_type": "code",
      "metadata": {
        "id": "E7_SXQOQoWeE"
      },
      "source": [
        "iris.index = l"
      ],
      "execution_count": null,
      "outputs": []
    },
    {
      "cell_type": "code",
      "metadata": {
        "id": "j0Szs2GVoWeF",
        "outputId": "153da57f-3049-4133-dc49-5c1aa0eda5c2"
      },
      "source": [
        "iris.head()"
      ],
      "execution_count": null,
      "outputs": [
        {
          "data": {
            "text/html": [
              "<div>\n",
              "<style scoped>\n",
              "    .dataframe tbody tr th:only-of-type {\n",
              "        vertical-align: middle;\n",
              "    }\n",
              "\n",
              "    .dataframe tbody tr th {\n",
              "        vertical-align: top;\n",
              "    }\n",
              "\n",
              "    .dataframe thead th {\n",
              "        text-align: right;\n",
              "    }\n",
              "</style>\n",
              "<table border=\"1\" class=\"dataframe\">\n",
              "  <thead>\n",
              "    <tr style=\"text-align: right;\">\n",
              "      <th></th>\n",
              "      <th>sepal_length_cm</th>\n",
              "      <th>sepal_width_cm</th>\n",
              "      <th>petal_length_cm</th>\n",
              "      <th>petal_width_cm</th>\n",
              "      <th>class</th>\n",
              "    </tr>\n",
              "  </thead>\n",
              "  <tbody>\n",
              "    <tr>\n",
              "      <th>71</th>\n",
              "      <td>5.1</td>\n",
              "      <td>3.5</td>\n",
              "      <td>1.4</td>\n",
              "      <td>0.2</td>\n",
              "      <td>Iris-setosa</td>\n",
              "    </tr>\n",
              "    <tr>\n",
              "      <th>55</th>\n",
              "      <td>4.9</td>\n",
              "      <td>3.0</td>\n",
              "      <td>1.4</td>\n",
              "      <td>0.2</td>\n",
              "      <td>Iris-setosa</td>\n",
              "    </tr>\n",
              "    <tr>\n",
              "      <th>44</th>\n",
              "      <td>4.7</td>\n",
              "      <td>3.2</td>\n",
              "      <td>1.3</td>\n",
              "      <td>0.2</td>\n",
              "      <td>Iris-setosa</td>\n",
              "    </tr>\n",
              "    <tr>\n",
              "      <th>74</th>\n",
              "      <td>4.6</td>\n",
              "      <td>3.1</td>\n",
              "      <td>1.5</td>\n",
              "      <td>0.2</td>\n",
              "      <td>Iris-setosa</td>\n",
              "    </tr>\n",
              "    <tr>\n",
              "      <th>124</th>\n",
              "      <td>5.0</td>\n",
              "      <td>3.6</td>\n",
              "      <td>1.4</td>\n",
              "      <td>0.2</td>\n",
              "      <td>Iris-setosa</td>\n",
              "    </tr>\n",
              "  </tbody>\n",
              "</table>\n",
              "</div>"
            ],
            "text/plain": [
              "     sepal_length_cm  sepal_width_cm  petal_length_cm  petal_width_cm  \\\n",
              "71               5.1             3.5              1.4             0.2   \n",
              "55               4.9             3.0              1.4             0.2   \n",
              "44               4.7             3.2              1.3             0.2   \n",
              "74               4.6             3.1              1.5             0.2   \n",
              "124              5.0             3.6              1.4             0.2   \n",
              "\n",
              "           class  \n",
              "71   Iris-setosa  \n",
              "55   Iris-setosa  \n",
              "44   Iris-setosa  \n",
              "74   Iris-setosa  \n",
              "124  Iris-setosa  "
            ]
          },
          "execution_count": 144,
          "metadata": {},
          "output_type": "execute_result"
        }
      ]
    },
    {
      "cell_type": "code",
      "metadata": {
        "id": "8McmSgAboWeF"
      },
      "source": [
        "n = iris.shape[0]"
      ],
      "execution_count": null,
      "outputs": []
    },
    {
      "cell_type": "code",
      "metadata": {
        "id": "ZYuAu4W4oWeF",
        "outputId": "7937176d-2810-496e-ad51-2e0e19a6e1f7"
      },
      "source": [
        "n"
      ],
      "execution_count": null,
      "outputs": [
        {
          "data": {
            "text/plain": [
              "150"
            ]
          },
          "execution_count": 146,
          "metadata": {},
          "output_type": "execute_result"
        }
      ]
    },
    {
      "cell_type": "code",
      "metadata": {
        "id": "nZFqAI84oWeF"
      },
      "source": [
        "m = int(n * 0.7)"
      ],
      "execution_count": null,
      "outputs": []
    },
    {
      "cell_type": "code",
      "metadata": {
        "id": "WMPjnN0BoWeF",
        "outputId": "2fd768a7-eb54-43c9-b58b-a4bed881186c"
      },
      "source": [
        "m"
      ],
      "execution_count": null,
      "outputs": [
        {
          "data": {
            "text/plain": [
              "105"
            ]
          },
          "execution_count": 148,
          "metadata": {},
          "output_type": "execute_result"
        }
      ]
    },
    {
      "cell_type": "code",
      "metadata": {
        "id": "7xko6UCIoWeF"
      },
      "source": [
        "train = iris.loc[range(m), :]"
      ],
      "execution_count": null,
      "outputs": []
    },
    {
      "cell_type": "code",
      "metadata": {
        "id": "QUQWkYcloWeG"
      },
      "source": [
        "test = iris.loc[range(m, n), :]"
      ],
      "execution_count": null,
      "outputs": []
    },
    {
      "cell_type": "code",
      "metadata": {
        "id": "93aY9ycsoWeG",
        "outputId": "5597d38a-2570-48d3-a2ea-3fb63e94d00c"
      },
      "source": [
        "train.head()"
      ],
      "execution_count": null,
      "outputs": [
        {
          "data": {
            "text/html": [
              "<div>\n",
              "<style scoped>\n",
              "    .dataframe tbody tr th:only-of-type {\n",
              "        vertical-align: middle;\n",
              "    }\n",
              "\n",
              "    .dataframe tbody tr th {\n",
              "        vertical-align: top;\n",
              "    }\n",
              "\n",
              "    .dataframe thead th {\n",
              "        text-align: right;\n",
              "    }\n",
              "</style>\n",
              "<table border=\"1\" class=\"dataframe\">\n",
              "  <thead>\n",
              "    <tr style=\"text-align: right;\">\n",
              "      <th></th>\n",
              "      <th>sepal_length_cm</th>\n",
              "      <th>sepal_width_cm</th>\n",
              "      <th>petal_length_cm</th>\n",
              "      <th>petal_width_cm</th>\n",
              "      <th>class</th>\n",
              "    </tr>\n",
              "  </thead>\n",
              "  <tbody>\n",
              "    <tr>\n",
              "      <th>0</th>\n",
              "      <td>4.8</td>\n",
              "      <td>3.4</td>\n",
              "      <td>1.6</td>\n",
              "      <td>0.2</td>\n",
              "      <td>Iris-setosa</td>\n",
              "    </tr>\n",
              "    <tr>\n",
              "      <th>1</th>\n",
              "      <td>6.9</td>\n",
              "      <td>3.2</td>\n",
              "      <td>5.7</td>\n",
              "      <td>2.3</td>\n",
              "      <td>Iris-virginica</td>\n",
              "    </tr>\n",
              "    <tr>\n",
              "      <th>2</th>\n",
              "      <td>7.2</td>\n",
              "      <td>3.0</td>\n",
              "      <td>5.8</td>\n",
              "      <td>1.6</td>\n",
              "      <td>Iris-virginica</td>\n",
              "    </tr>\n",
              "    <tr>\n",
              "      <th>3</th>\n",
              "      <td>7.4</td>\n",
              "      <td>2.8</td>\n",
              "      <td>6.1</td>\n",
              "      <td>1.9</td>\n",
              "      <td>Iris-virginica</td>\n",
              "    </tr>\n",
              "    <tr>\n",
              "      <th>4</th>\n",
              "      <td>6.0</td>\n",
              "      <td>2.9</td>\n",
              "      <td>4.5</td>\n",
              "      <td>1.5</td>\n",
              "      <td>Iris-versicolor</td>\n",
              "    </tr>\n",
              "  </tbody>\n",
              "</table>\n",
              "</div>"
            ],
            "text/plain": [
              "   sepal_length_cm  sepal_width_cm  petal_length_cm  petal_width_cm  \\\n",
              "0              4.8             3.4              1.6             0.2   \n",
              "1              6.9             3.2              5.7             2.3   \n",
              "2              7.2             3.0              5.8             1.6   \n",
              "3              7.4             2.8              6.1             1.9   \n",
              "4              6.0             2.9              4.5             1.5   \n",
              "\n",
              "             class  \n",
              "0      Iris-setosa  \n",
              "1   Iris-virginica  \n",
              "2   Iris-virginica  \n",
              "3   Iris-virginica  \n",
              "4  Iris-versicolor  "
            ]
          },
          "execution_count": 151,
          "metadata": {},
          "output_type": "execute_result"
        }
      ]
    },
    {
      "cell_type": "code",
      "metadata": {
        "id": "UVAXCYGgoWeG",
        "outputId": "9e72dc37-4407-4311-8339-8a5847c1dca2"
      },
      "source": [
        "train.shape"
      ],
      "execution_count": null,
      "outputs": [
        {
          "data": {
            "text/plain": [
              "(105, 5)"
            ]
          },
          "execution_count": 152,
          "metadata": {},
          "output_type": "execute_result"
        }
      ]
    },
    {
      "cell_type": "code",
      "metadata": {
        "id": "YRqN-LxRoWeG",
        "outputId": "89fc593b-cc02-46da-bf2a-6d602a92f314"
      },
      "source": [
        "test.head()"
      ],
      "execution_count": null,
      "outputs": [
        {
          "data": {
            "text/html": [
              "<div>\n",
              "<style scoped>\n",
              "    .dataframe tbody tr th:only-of-type {\n",
              "        vertical-align: middle;\n",
              "    }\n",
              "\n",
              "    .dataframe tbody tr th {\n",
              "        vertical-align: top;\n",
              "    }\n",
              "\n",
              "    .dataframe thead th {\n",
              "        text-align: right;\n",
              "    }\n",
              "</style>\n",
              "<table border=\"1\" class=\"dataframe\">\n",
              "  <thead>\n",
              "    <tr style=\"text-align: right;\">\n",
              "      <th></th>\n",
              "      <th>sepal_length_cm</th>\n",
              "      <th>sepal_width_cm</th>\n",
              "      <th>petal_length_cm</th>\n",
              "      <th>petal_width_cm</th>\n",
              "      <th>class</th>\n",
              "    </tr>\n",
              "  </thead>\n",
              "  <tbody>\n",
              "    <tr>\n",
              "      <th>105</th>\n",
              "      <td>5.5</td>\n",
              "      <td>2.6</td>\n",
              "      <td>4.4</td>\n",
              "      <td>1.2</td>\n",
              "      <td>Iris-versicolor</td>\n",
              "    </tr>\n",
              "    <tr>\n",
              "      <th>106</th>\n",
              "      <td>5.7</td>\n",
              "      <td>4.4</td>\n",
              "      <td>1.5</td>\n",
              "      <td>0.4</td>\n",
              "      <td>Iris-setosa</td>\n",
              "    </tr>\n",
              "    <tr>\n",
              "      <th>107</th>\n",
              "      <td>5.7</td>\n",
              "      <td>2.8</td>\n",
              "      <td>4.5</td>\n",
              "      <td>1.3</td>\n",
              "      <td>Iris-versicolor</td>\n",
              "    </tr>\n",
              "    <tr>\n",
              "      <th>108</th>\n",
              "      <td>5.6</td>\n",
              "      <td>3.0</td>\n",
              "      <td>4.1</td>\n",
              "      <td>1.3</td>\n",
              "      <td>Iris-versicolor</td>\n",
              "    </tr>\n",
              "    <tr>\n",
              "      <th>109</th>\n",
              "      <td>5.1</td>\n",
              "      <td>3.8</td>\n",
              "      <td>1.9</td>\n",
              "      <td>0.4</td>\n",
              "      <td>Iris-setosa</td>\n",
              "    </tr>\n",
              "  </tbody>\n",
              "</table>\n",
              "</div>"
            ],
            "text/plain": [
              "     sepal_length_cm  sepal_width_cm  petal_length_cm  petal_width_cm  \\\n",
              "105              5.5             2.6              4.4             1.2   \n",
              "106              5.7             4.4              1.5             0.4   \n",
              "107              5.7             2.8              4.5             1.3   \n",
              "108              5.6             3.0              4.1             1.3   \n",
              "109              5.1             3.8              1.9             0.4   \n",
              "\n",
              "               class  \n",
              "105  Iris-versicolor  \n",
              "106      Iris-setosa  \n",
              "107  Iris-versicolor  \n",
              "108  Iris-versicolor  \n",
              "109      Iris-setosa  "
            ]
          },
          "execution_count": 153,
          "metadata": {},
          "output_type": "execute_result"
        }
      ]
    },
    {
      "cell_type": "code",
      "metadata": {
        "id": "pnvDRAa5oWeG",
        "outputId": "8531600a-8864-477e-c934-e73fd9e8fee8"
      },
      "source": [
        "test.shape"
      ],
      "execution_count": null,
      "outputs": [
        {
          "data": {
            "text/plain": [
              "(45, 5)"
            ]
          },
          "execution_count": 154,
          "metadata": {},
          "output_type": "execute_result"
        }
      ]
    },
    {
      "cell_type": "code",
      "metadata": {
        "id": "hsw9rMycoWeH",
        "outputId": "8a7f90e9-82a9-467a-ed51-55a5427b7bdf"
      },
      "source": [
        "iris.head()"
      ],
      "execution_count": null,
      "outputs": [
        {
          "data": {
            "text/html": [
              "<div>\n",
              "<style scoped>\n",
              "    .dataframe tbody tr th:only-of-type {\n",
              "        vertical-align: middle;\n",
              "    }\n",
              "\n",
              "    .dataframe tbody tr th {\n",
              "        vertical-align: top;\n",
              "    }\n",
              "\n",
              "    .dataframe thead th {\n",
              "        text-align: right;\n",
              "    }\n",
              "</style>\n",
              "<table border=\"1\" class=\"dataframe\">\n",
              "  <thead>\n",
              "    <tr style=\"text-align: right;\">\n",
              "      <th></th>\n",
              "      <th>sepal_length_cm</th>\n",
              "      <th>sepal_width_cm</th>\n",
              "      <th>petal_length_cm</th>\n",
              "      <th>petal_width_cm</th>\n",
              "      <th>class</th>\n",
              "    </tr>\n",
              "  </thead>\n",
              "  <tbody>\n",
              "    <tr>\n",
              "      <th>71</th>\n",
              "      <td>5.1</td>\n",
              "      <td>3.5</td>\n",
              "      <td>1.4</td>\n",
              "      <td>0.2</td>\n",
              "      <td>Iris-setosa</td>\n",
              "    </tr>\n",
              "    <tr>\n",
              "      <th>55</th>\n",
              "      <td>4.9</td>\n",
              "      <td>3.0</td>\n",
              "      <td>1.4</td>\n",
              "      <td>0.2</td>\n",
              "      <td>Iris-setosa</td>\n",
              "    </tr>\n",
              "    <tr>\n",
              "      <th>44</th>\n",
              "      <td>4.7</td>\n",
              "      <td>3.2</td>\n",
              "      <td>1.3</td>\n",
              "      <td>0.2</td>\n",
              "      <td>Iris-setosa</td>\n",
              "    </tr>\n",
              "    <tr>\n",
              "      <th>74</th>\n",
              "      <td>4.6</td>\n",
              "      <td>3.1</td>\n",
              "      <td>1.5</td>\n",
              "      <td>0.2</td>\n",
              "      <td>Iris-setosa</td>\n",
              "    </tr>\n",
              "    <tr>\n",
              "      <th>124</th>\n",
              "      <td>5.0</td>\n",
              "      <td>3.6</td>\n",
              "      <td>1.4</td>\n",
              "      <td>0.2</td>\n",
              "      <td>Iris-setosa</td>\n",
              "    </tr>\n",
              "  </tbody>\n",
              "</table>\n",
              "</div>"
            ],
            "text/plain": [
              "     sepal_length_cm  sepal_width_cm  petal_length_cm  petal_width_cm  \\\n",
              "71               5.1             3.5              1.4             0.2   \n",
              "55               4.9             3.0              1.4             0.2   \n",
              "44               4.7             3.2              1.3             0.2   \n",
              "74               4.6             3.1              1.5             0.2   \n",
              "124              5.0             3.6              1.4             0.2   \n",
              "\n",
              "           class  \n",
              "71   Iris-setosa  \n",
              "55   Iris-setosa  \n",
              "44   Iris-setosa  \n",
              "74   Iris-setosa  \n",
              "124  Iris-setosa  "
            ]
          },
          "execution_count": 155,
          "metadata": {},
          "output_type": "execute_result"
        }
      ]
    },
    {
      "cell_type": "code",
      "metadata": {
        "id": "7nUrFTAyoWeH"
      },
      "source": [
        "iris.index = range(iris.shape[0])"
      ],
      "execution_count": null,
      "outputs": []
    },
    {
      "cell_type": "code",
      "metadata": {
        "id": "CRz2nPvtoWeH",
        "outputId": "da5454ae-f248-4376-aab0-dc410f0f7d0c"
      },
      "source": [
        "iris.head()"
      ],
      "execution_count": null,
      "outputs": [
        {
          "data": {
            "text/html": [
              "<div>\n",
              "<style scoped>\n",
              "    .dataframe tbody tr th:only-of-type {\n",
              "        vertical-align: middle;\n",
              "    }\n",
              "\n",
              "    .dataframe tbody tr th {\n",
              "        vertical-align: top;\n",
              "    }\n",
              "\n",
              "    .dataframe thead th {\n",
              "        text-align: right;\n",
              "    }\n",
              "</style>\n",
              "<table border=\"1\" class=\"dataframe\">\n",
              "  <thead>\n",
              "    <tr style=\"text-align: right;\">\n",
              "      <th></th>\n",
              "      <th>sepal_length_cm</th>\n",
              "      <th>sepal_width_cm</th>\n",
              "      <th>petal_length_cm</th>\n",
              "      <th>petal_width_cm</th>\n",
              "      <th>class</th>\n",
              "    </tr>\n",
              "  </thead>\n",
              "  <tbody>\n",
              "    <tr>\n",
              "      <th>0</th>\n",
              "      <td>5.1</td>\n",
              "      <td>3.5</td>\n",
              "      <td>1.4</td>\n",
              "      <td>0.2</td>\n",
              "      <td>Iris-setosa</td>\n",
              "    </tr>\n",
              "    <tr>\n",
              "      <th>1</th>\n",
              "      <td>4.9</td>\n",
              "      <td>3.0</td>\n",
              "      <td>1.4</td>\n",
              "      <td>0.2</td>\n",
              "      <td>Iris-setosa</td>\n",
              "    </tr>\n",
              "    <tr>\n",
              "      <th>2</th>\n",
              "      <td>4.7</td>\n",
              "      <td>3.2</td>\n",
              "      <td>1.3</td>\n",
              "      <td>0.2</td>\n",
              "      <td>Iris-setosa</td>\n",
              "    </tr>\n",
              "    <tr>\n",
              "      <th>3</th>\n",
              "      <td>4.6</td>\n",
              "      <td>3.1</td>\n",
              "      <td>1.5</td>\n",
              "      <td>0.2</td>\n",
              "      <td>Iris-setosa</td>\n",
              "    </tr>\n",
              "    <tr>\n",
              "      <th>4</th>\n",
              "      <td>5.0</td>\n",
              "      <td>3.6</td>\n",
              "      <td>1.4</td>\n",
              "      <td>0.2</td>\n",
              "      <td>Iris-setosa</td>\n",
              "    </tr>\n",
              "  </tbody>\n",
              "</table>\n",
              "</div>"
            ],
            "text/plain": [
              "   sepal_length_cm  sepal_width_cm  petal_length_cm  petal_width_cm  \\\n",
              "0              5.1             3.5              1.4             0.2   \n",
              "1              4.9             3.0              1.4             0.2   \n",
              "2              4.7             3.2              1.3             0.2   \n",
              "3              4.6             3.1              1.5             0.2   \n",
              "4              5.0             3.6              1.4             0.2   \n",
              "\n",
              "         class  \n",
              "0  Iris-setosa  \n",
              "1  Iris-setosa  \n",
              "2  Iris-setosa  \n",
              "3  Iris-setosa  \n",
              "4  Iris-setosa  "
            ]
          },
          "execution_count": 157,
          "metadata": {},
          "output_type": "execute_result"
        }
      ]
    },
    {
      "cell_type": "code",
      "metadata": {
        "id": "SgrMZfSooWeH"
      },
      "source": [
        "test.index = range(test.shape[0])"
      ],
      "execution_count": null,
      "outputs": []
    },
    {
      "cell_type": "code",
      "metadata": {
        "id": "BjRhIK71oWeH",
        "outputId": "cfd662e0-5290-428b-a342-3f8304f60871"
      },
      "source": [
        "test.head()"
      ],
      "execution_count": null,
      "outputs": [
        {
          "data": {
            "text/html": [
              "<div>\n",
              "<style scoped>\n",
              "    .dataframe tbody tr th:only-of-type {\n",
              "        vertical-align: middle;\n",
              "    }\n",
              "\n",
              "    .dataframe tbody tr th {\n",
              "        vertical-align: top;\n",
              "    }\n",
              "\n",
              "    .dataframe thead th {\n",
              "        text-align: right;\n",
              "    }\n",
              "</style>\n",
              "<table border=\"1\" class=\"dataframe\">\n",
              "  <thead>\n",
              "    <tr style=\"text-align: right;\">\n",
              "      <th></th>\n",
              "      <th>sepal_length_cm</th>\n",
              "      <th>sepal_width_cm</th>\n",
              "      <th>petal_length_cm</th>\n",
              "      <th>petal_width_cm</th>\n",
              "      <th>class</th>\n",
              "    </tr>\n",
              "  </thead>\n",
              "  <tbody>\n",
              "    <tr>\n",
              "      <th>0</th>\n",
              "      <td>5.5</td>\n",
              "      <td>2.6</td>\n",
              "      <td>4.4</td>\n",
              "      <td>1.2</td>\n",
              "      <td>Iris-versicolor</td>\n",
              "    </tr>\n",
              "    <tr>\n",
              "      <th>1</th>\n",
              "      <td>5.7</td>\n",
              "      <td>4.4</td>\n",
              "      <td>1.5</td>\n",
              "      <td>0.4</td>\n",
              "      <td>Iris-setosa</td>\n",
              "    </tr>\n",
              "    <tr>\n",
              "      <th>2</th>\n",
              "      <td>5.7</td>\n",
              "      <td>2.8</td>\n",
              "      <td>4.5</td>\n",
              "      <td>1.3</td>\n",
              "      <td>Iris-versicolor</td>\n",
              "    </tr>\n",
              "    <tr>\n",
              "      <th>3</th>\n",
              "      <td>5.6</td>\n",
              "      <td>3.0</td>\n",
              "      <td>4.1</td>\n",
              "      <td>1.3</td>\n",
              "      <td>Iris-versicolor</td>\n",
              "    </tr>\n",
              "    <tr>\n",
              "      <th>4</th>\n",
              "      <td>5.1</td>\n",
              "      <td>3.8</td>\n",
              "      <td>1.9</td>\n",
              "      <td>0.4</td>\n",
              "      <td>Iris-setosa</td>\n",
              "    </tr>\n",
              "  </tbody>\n",
              "</table>\n",
              "</div>"
            ],
            "text/plain": [
              "   sepal_length_cm  sepal_width_cm  petal_length_cm  petal_width_cm  \\\n",
              "0              5.5             2.6              4.4             1.2   \n",
              "1              5.7             4.4              1.5             0.4   \n",
              "2              5.7             2.8              4.5             1.3   \n",
              "3              5.6             3.0              4.1             1.3   \n",
              "4              5.1             3.8              1.9             0.4   \n",
              "\n",
              "             class  \n",
              "0  Iris-versicolor  \n",
              "1      Iris-setosa  \n",
              "2  Iris-versicolor  \n",
              "3  Iris-versicolor  \n",
              "4      Iris-setosa  "
            ]
          },
          "execution_count": 159,
          "metadata": {},
          "output_type": "execute_result"
        }
      ]
    },
    {
      "cell_type": "code",
      "metadata": {
        "id": "TpafHxdgoWeI"
      },
      "source": [
        "l = [1, 2, 3, 4, 5]"
      ],
      "execution_count": null,
      "outputs": []
    },
    {
      "cell_type": "code",
      "metadata": {
        "id": "PotjK8UeoWeI",
        "outputId": "6c8f182b-4302-4f86-a61e-8c38b08788f1"
      },
      "source": [
        "l"
      ],
      "execution_count": null,
      "outputs": [
        {
          "data": {
            "text/plain": [
              "[1, 2, 3, 4, 5]"
            ]
          },
          "execution_count": 161,
          "metadata": {},
          "output_type": "execute_result"
        }
      ]
    },
    {
      "cell_type": "code",
      "metadata": {
        "id": "rFuWYYkMoWeI"
      },
      "source": [
        "random.shuffle(l)"
      ],
      "execution_count": null,
      "outputs": []
    },
    {
      "cell_type": "code",
      "metadata": {
        "id": "tBWgTx7OoWeI",
        "outputId": "13bf019b-8ac8-4860-b166-4b4ed14c403b"
      },
      "source": [
        "l"
      ],
      "execution_count": null,
      "outputs": [
        {
          "data": {
            "text/plain": [
              "[5, 1, 2, 3, 4]"
            ]
          },
          "execution_count": 163,
          "metadata": {},
          "output_type": "execute_result"
        }
      ]
    },
    {
      "cell_type": "code",
      "metadata": {
        "id": "wSKV-jMBoWeI",
        "outputId": "0fd4cfe1-05a1-4ee0-ac56-8b6b6d80f460"
      },
      "source": [
        "random.shuffle(l)\n",
        "l"
      ],
      "execution_count": null,
      "outputs": [
        {
          "data": {
            "text/plain": [
              "[2, 1, 4, 5, 3]"
            ]
          },
          "execution_count": 164,
          "metadata": {},
          "output_type": "execute_result"
        }
      ]
    },
    {
      "cell_type": "code",
      "metadata": {
        "id": "trv0q9GroWeJ"
      },
      "source": [
        "random.shuffle(l)"
      ],
      "execution_count": null,
      "outputs": []
    },
    {
      "cell_type": "code",
      "metadata": {
        "id": "ET6gvzfyoWeJ",
        "outputId": "8d5a2555-788c-44ce-cedb-bd9181ef86e5"
      },
      "source": [
        "l"
      ],
      "execution_count": null,
      "outputs": [
        {
          "data": {
            "text/plain": [
              "[2, 3, 5, 1, 4]"
            ]
          },
          "execution_count": 166,
          "metadata": {},
          "output_type": "execute_result"
        }
      ]
    },
    {
      "cell_type": "code",
      "metadata": {
        "id": "BxsurpTkoWeJ"
      },
      "source": [
        "random.seed(123)"
      ],
      "execution_count": null,
      "outputs": []
    },
    {
      "cell_type": "code",
      "metadata": {
        "id": "c59K0NUooWeJ"
      },
      "source": [
        "l = [1, 2, 3, 4, 5]"
      ],
      "execution_count": null,
      "outputs": []
    },
    {
      "cell_type": "code",
      "metadata": {
        "id": "_O_MkfpNoWeJ",
        "outputId": "3d710759-f86d-4ca3-c574-abe44671257e"
      },
      "source": [
        "random.shuffle(l)\n",
        "l"
      ],
      "execution_count": null,
      "outputs": [
        {
          "data": {
            "text/plain": [
              "[4, 2, 5, 3, 1]"
            ]
          },
          "execution_count": 169,
          "metadata": {},
          "output_type": "execute_result"
        }
      ]
    },
    {
      "cell_type": "code",
      "metadata": {
        "id": "1SHbvnxjoWeJ",
        "outputId": "110f3a4a-b1a7-494d-b155-6f339a6c3ca4"
      },
      "source": [
        "random.seed(1234)\n",
        "l = [1, 2, 3, 4, 5]\n",
        "random.shuffle(l)\n",
        "l"
      ],
      "execution_count": null,
      "outputs": [
        {
          "data": {
            "text/plain": [
              "[2, 3, 5, 1, 4]"
            ]
          },
          "execution_count": 170,
          "metadata": {},
          "output_type": "execute_result"
        }
      ]
    },
    {
      "cell_type": "code",
      "metadata": {
        "id": "uOFwN1mLoWeL",
        "outputId": "8f5e7939-2453-456f-bf43-8c4eaed4011d"
      },
      "source": [
        "l = [1, 2, 3, 4, 5]\n",
        "random.shuffle(l)\n",
        "l"
      ],
      "execution_count": null,
      "outputs": [
        {
          "data": {
            "text/plain": [
              "[2, 4, 3, 1, 5]"
            ]
          },
          "execution_count": 171,
          "metadata": {},
          "output_type": "execute_result"
        }
      ]
    },
    {
      "cell_type": "code",
      "metadata": {
        "id": "BVeIwZNKoWeL",
        "outputId": "7966b812-5177-4717-f40d-32d81d10b27c"
      },
      "source": [
        "l = [1, 2, 3, 4, 5]\n",
        "random.shuffle(l)\n",
        "l"
      ],
      "execution_count": null,
      "outputs": [
        {
          "data": {
            "text/plain": [
              "[2, 4, 5, 3, 1]"
            ]
          },
          "execution_count": 172,
          "metadata": {},
          "output_type": "execute_result"
        }
      ]
    },
    {
      "cell_type": "code",
      "metadata": {
        "id": "1CCELpaBoWeM",
        "outputId": "28a91ccb-6d3c-4ea8-fa5e-13a5afba5ac0"
      },
      "source": [
        "random.seed(1234)\n",
        "l = [1, 2, 3, 4, 5]\n",
        "random.shuffle(l)\n",
        "l"
      ],
      "execution_count": null,
      "outputs": [
        {
          "data": {
            "text/plain": [
              "[2, 3, 5, 1, 4]"
            ]
          },
          "execution_count": 173,
          "metadata": {},
          "output_type": "execute_result"
        }
      ]
    },
    {
      "cell_type": "code",
      "metadata": {
        "id": "AMumYO2LoWeM",
        "outputId": "aee4967a-8728-4054-b5f6-d651b58f335c"
      },
      "source": [
        "l = [1, 2, 3, 4, 5]\n",
        "random.shuffle(l)\n",
        "l"
      ],
      "execution_count": null,
      "outputs": [
        {
          "data": {
            "text/plain": [
              "[2, 4, 3, 1, 5]"
            ]
          },
          "execution_count": 174,
          "metadata": {},
          "output_type": "execute_result"
        }
      ]
    },
    {
      "cell_type": "code",
      "metadata": {
        "id": "bJe4wx2roWeM",
        "outputId": "da252f6b-7a90-4b46-d69c-bafa451b596d"
      },
      "source": [
        "l = [1, 2, 3, 4, 5]\n",
        "random.shuffle(l)\n",
        "l"
      ],
      "execution_count": null,
      "outputs": [
        {
          "data": {
            "text/plain": [
              "[2, 4, 5, 3, 1]"
            ]
          },
          "execution_count": 175,
          "metadata": {},
          "output_type": "execute_result"
        }
      ]
    },
    {
      "cell_type": "code",
      "metadata": {
        "id": "qsIPTKnIoWeM"
      },
      "source": [
        "def randSplit(dataSet, rate):\n",
        "    l = list(dataSet.index)\n",
        "    random.shuffle(l)\n",
        "    dataSet.index = l\n",
        "    n = dataSet.shape[0]\n",
        "    m = int(n * rate)\n",
        "    train = dataSet.loc[range(m), :]\n",
        "    test = dataSet.loc[range(m, n), :]\n",
        "    dataSet.index = range(dataSet.shape[0])\n",
        "    test.index = range(test.shape[0])\n",
        "    return train, test"
      ],
      "execution_count": null,
      "outputs": []
    },
    {
      "cell_type": "code",
      "metadata": {
        "id": "Io_WAA4HoWeM"
      },
      "source": [
        "train, test = randSplit(iris, 0.8)"
      ],
      "execution_count": null,
      "outputs": []
    },
    {
      "cell_type": "code",
      "metadata": {
        "id": "xsNp-bzcoWeN",
        "outputId": "d9b07c44-38ff-427c-cfb8-8ea680037afa"
      },
      "source": [
        "train.shape"
      ],
      "execution_count": null,
      "outputs": [
        {
          "data": {
            "text/plain": [
              "(120, 5)"
            ]
          },
          "execution_count": 178,
          "metadata": {},
          "output_type": "execute_result"
        }
      ]
    },
    {
      "cell_type": "code",
      "metadata": {
        "id": "4SwuyPdBoWeN"
      },
      "source": [
        "re1 = classify0_1(train,test,3)"
      ],
      "execution_count": null,
      "outputs": []
    },
    {
      "cell_type": "code",
      "metadata": {
        "id": "FUUdkiGHoWeN"
      },
      "source": [
        "result = classify0_1(train,test,3)"
      ],
      "execution_count": null,
      "outputs": []
    },
    {
      "cell_type": "code",
      "metadata": {
        "id": "zDlL57rvoWeN"
      },
      "source": [
        "m = result.shape[0]"
      ],
      "execution_count": null,
      "outputs": []
    },
    {
      "cell_type": "code",
      "metadata": {
        "id": "fL1LUDPAoWeN",
        "outputId": "7ef870b1-2328-46bc-81fb-eb42a3af2693"
      },
      "source": [
        "m"
      ],
      "execution_count": null,
      "outputs": [
        {
          "data": {
            "text/plain": [
              "135"
            ]
          },
          "execution_count": 248,
          "metadata": {},
          "output_type": "execute_result"
        }
      ]
    },
    {
      "cell_type": "code",
      "metadata": {
        "id": "NeZtooZZoWeN"
      },
      "source": [
        "res = (result.iloc[:, -1] == result.iloc[:, -2]).value_counts()"
      ],
      "execution_count": null,
      "outputs": []
    },
    {
      "cell_type": "code",
      "metadata": {
        "id": "gxwe-ZemoWeO",
        "outputId": "de390281-abce-4a21-e947-fa09f53da053"
      },
      "source": [
        "res"
      ],
      "execution_count": null,
      "outputs": [
        {
          "data": {
            "text/plain": [
              "True     131\n",
              "False      4\n",
              "dtype: int64"
            ]
          },
          "execution_count": 252,
          "metadata": {},
          "output_type": "execute_result"
        }
      ]
    },
    {
      "cell_type": "code",
      "metadata": {
        "id": "8kGrG22UoWeO",
        "outputId": "b5bfc8d7-7c7c-4ce4-bf0d-875ed5ffe857"
      },
      "source": [
        "res.loc[True] / m"
      ],
      "execution_count": null,
      "outputs": [
        {
          "data": {
            "text/plain": [
              "0.9703703703703703"
            ]
          },
          "execution_count": 256,
          "metadata": {},
          "output_type": "execute_result"
        }
      ]
    },
    {
      "cell_type": "code",
      "metadata": {
        "id": "alRHheA9oWeO",
        "outputId": "22284aff-0b42-41ba-ef1b-457b4be413c2"
      },
      "source": [
        "dfTest = pd.DataFrame({'X1':[1, 2, 3], 'X2':[2, 7, 8]})\n",
        "dfTest"
      ],
      "execution_count": null,
      "outputs": [
        {
          "data": {
            "text/html": [
              "<div>\n",
              "<style scoped>\n",
              "    .dataframe tbody tr th:only-of-type {\n",
              "        vertical-align: middle;\n",
              "    }\n",
              "\n",
              "    .dataframe tbody tr th {\n",
              "        vertical-align: top;\n",
              "    }\n",
              "\n",
              "    .dataframe thead th {\n",
              "        text-align: right;\n",
              "    }\n",
              "</style>\n",
              "<table border=\"1\" class=\"dataframe\">\n",
              "  <thead>\n",
              "    <tr style=\"text-align: right;\">\n",
              "      <th></th>\n",
              "      <th>X1</th>\n",
              "      <th>X2</th>\n",
              "    </tr>\n",
              "  </thead>\n",
              "  <tbody>\n",
              "    <tr>\n",
              "      <th>0</th>\n",
              "      <td>1</td>\n",
              "      <td>2</td>\n",
              "    </tr>\n",
              "    <tr>\n",
              "      <th>1</th>\n",
              "      <td>2</td>\n",
              "      <td>7</td>\n",
              "    </tr>\n",
              "    <tr>\n",
              "      <th>2</th>\n",
              "      <td>3</td>\n",
              "      <td>8</td>\n",
              "    </tr>\n",
              "  </tbody>\n",
              "</table>\n",
              "</div>"
            ],
            "text/plain": [
              "   X1  X2\n",
              "0   1   2\n",
              "1   2   7\n",
              "2   3   8"
            ]
          },
          "execution_count": 182,
          "metadata": {},
          "output_type": "execute_result"
        }
      ]
    },
    {
      "cell_type": "code",
      "metadata": {
        "id": "EN3_kfPtoWeO",
        "outputId": "bafb54f1-412d-495a-84c0-8f799ebe7ac2"
      },
      "source": [
        "dfTest.min(1)"
      ],
      "execution_count": null,
      "outputs": [
        {
          "data": {
            "text/plain": [
              "0    1\n",
              "1    2\n",
              "2    3\n",
              "dtype: int64"
            ]
          },
          "execution_count": 183,
          "metadata": {},
          "output_type": "execute_result"
        }
      ]
    },
    {
      "cell_type": "code",
      "metadata": {
        "id": "65I8MxjToWeO",
        "outputId": "32173110-4c2f-4462-af42-3d6449db1293"
      },
      "source": [
        "dfTest.max() - dfTest.min()"
      ],
      "execution_count": null,
      "outputs": [
        {
          "data": {
            "text/plain": [
              "X1    2\n",
              "X2    6\n",
              "dtype: int64"
            ]
          },
          "execution_count": 184,
          "metadata": {},
          "output_type": "execute_result"
        }
      ]
    },
    {
      "cell_type": "code",
      "metadata": {
        "id": "MmOf6VXKoWeP",
        "outputId": "7a23acd1-9583-48d2-b0b0-9fe8f73a8f1a"
      },
      "source": [
        "dfTest.max()"
      ],
      "execution_count": null,
      "outputs": [
        {
          "data": {
            "text/plain": [
              "X1    3\n",
              "X2    8\n",
              "dtype: int64"
            ]
          },
          "execution_count": 185,
          "metadata": {},
          "output_type": "execute_result"
        }
      ]
    },
    {
      "cell_type": "code",
      "metadata": {
        "id": "gxZL4tPAoWeP"
      },
      "source": [
        "maxDf = dfTest.max()\n",
        "minDf = dfTest.min()"
      ],
      "execution_count": null,
      "outputs": []
    },
    {
      "cell_type": "code",
      "metadata": {
        "id": "TarxBupLoWeP",
        "outputId": "39c81f79-c804-40ae-9328-fde37324d7c4"
      },
      "source": [
        "minDf"
      ],
      "execution_count": null,
      "outputs": [
        {
          "data": {
            "text/plain": [
              "X1    1\n",
              "X2    2\n",
              "dtype: int64"
            ]
          },
          "execution_count": 187,
          "metadata": {},
          "output_type": "execute_result"
        }
      ]
    },
    {
      "cell_type": "code",
      "metadata": {
        "id": "INaKs67boWeP",
        "outputId": "e3a955ec-9437-46af-c941-17e2055b6121"
      },
      "source": [
        "dfTest"
      ],
      "execution_count": null,
      "outputs": [
        {
          "data": {
            "text/html": [
              "<div>\n",
              "<style scoped>\n",
              "    .dataframe tbody tr th:only-of-type {\n",
              "        vertical-align: middle;\n",
              "    }\n",
              "\n",
              "    .dataframe tbody tr th {\n",
              "        vertical-align: top;\n",
              "    }\n",
              "\n",
              "    .dataframe thead th {\n",
              "        text-align: right;\n",
              "    }\n",
              "</style>\n",
              "<table border=\"1\" class=\"dataframe\">\n",
              "  <thead>\n",
              "    <tr style=\"text-align: right;\">\n",
              "      <th></th>\n",
              "      <th>X1</th>\n",
              "      <th>X2</th>\n",
              "    </tr>\n",
              "  </thead>\n",
              "  <tbody>\n",
              "    <tr>\n",
              "      <th>0</th>\n",
              "      <td>1</td>\n",
              "      <td>2</td>\n",
              "    </tr>\n",
              "    <tr>\n",
              "      <th>1</th>\n",
              "      <td>2</td>\n",
              "      <td>7</td>\n",
              "    </tr>\n",
              "    <tr>\n",
              "      <th>2</th>\n",
              "      <td>3</td>\n",
              "      <td>8</td>\n",
              "    </tr>\n",
              "  </tbody>\n",
              "</table>\n",
              "</div>"
            ],
            "text/plain": [
              "   X1  X2\n",
              "0   1   2\n",
              "1   2   7\n",
              "2   3   8"
            ]
          },
          "execution_count": 188,
          "metadata": {},
          "output_type": "execute_result"
        }
      ]
    },
    {
      "cell_type": "code",
      "metadata": {
        "id": "7CORDsS4oWeP",
        "outputId": "30d2325a-c1a6-4cb5-8f35-ab7209bbf07c"
      },
      "source": [
        "dfTest.max() - dfTest.min()"
      ],
      "execution_count": null,
      "outputs": [
        {
          "data": {
            "text/plain": [
              "X1    2\n",
              "X2    6\n",
              "dtype: int64"
            ]
          },
          "execution_count": 189,
          "metadata": {},
          "output_type": "execute_result"
        }
      ]
    },
    {
      "cell_type": "code",
      "metadata": {
        "id": "2mdqf6Y2oWeP",
        "outputId": "fb7208dd-8331-4dbf-8dee-b4dad3cb0472"
      },
      "source": [
        "(dfTest - dfTest.min()) / (dfTest.max() - dfTest.min())"
      ],
      "execution_count": null,
      "outputs": [
        {
          "data": {
            "text/html": [
              "<div>\n",
              "<style scoped>\n",
              "    .dataframe tbody tr th:only-of-type {\n",
              "        vertical-align: middle;\n",
              "    }\n",
              "\n",
              "    .dataframe tbody tr th {\n",
              "        vertical-align: top;\n",
              "    }\n",
              "\n",
              "    .dataframe thead th {\n",
              "        text-align: right;\n",
              "    }\n",
              "</style>\n",
              "<table border=\"1\" class=\"dataframe\">\n",
              "  <thead>\n",
              "    <tr style=\"text-align: right;\">\n",
              "      <th></th>\n",
              "      <th>X1</th>\n",
              "      <th>X2</th>\n",
              "    </tr>\n",
              "  </thead>\n",
              "  <tbody>\n",
              "    <tr>\n",
              "      <th>0</th>\n",
              "      <td>0.0</td>\n",
              "      <td>0.000000</td>\n",
              "    </tr>\n",
              "    <tr>\n",
              "      <th>1</th>\n",
              "      <td>0.5</td>\n",
              "      <td>0.833333</td>\n",
              "    </tr>\n",
              "    <tr>\n",
              "      <th>2</th>\n",
              "      <td>1.0</td>\n",
              "      <td>1.000000</td>\n",
              "    </tr>\n",
              "  </tbody>\n",
              "</table>\n",
              "</div>"
            ],
            "text/plain": [
              "    X1        X2\n",
              "0  0.0  0.000000\n",
              "1  0.5  0.833333\n",
              "2  1.0  1.000000"
            ]
          },
          "execution_count": 190,
          "metadata": {},
          "output_type": "execute_result"
        }
      ]
    },
    {
      "cell_type": "code",
      "metadata": {
        "id": "BhHDPH0ioWeQ",
        "outputId": "a18ba941-dd13-4440-9c5e-6bb192183371"
      },
      "source": [
        "(dfTest - minDf) / (maxDf - minDf)"
      ],
      "execution_count": null,
      "outputs": [
        {
          "data": {
            "text/html": [
              "<div>\n",
              "<style scoped>\n",
              "    .dataframe tbody tr th:only-of-type {\n",
              "        vertical-align: middle;\n",
              "    }\n",
              "\n",
              "    .dataframe tbody tr th {\n",
              "        vertical-align: top;\n",
              "    }\n",
              "\n",
              "    .dataframe thead th {\n",
              "        text-align: right;\n",
              "    }\n",
              "</style>\n",
              "<table border=\"1\" class=\"dataframe\">\n",
              "  <thead>\n",
              "    <tr style=\"text-align: right;\">\n",
              "      <th></th>\n",
              "      <th>X1</th>\n",
              "      <th>X2</th>\n",
              "    </tr>\n",
              "  </thead>\n",
              "  <tbody>\n",
              "    <tr>\n",
              "      <th>0</th>\n",
              "      <td>0.0</td>\n",
              "      <td>0.000000</td>\n",
              "    </tr>\n",
              "    <tr>\n",
              "      <th>1</th>\n",
              "      <td>0.5</td>\n",
              "      <td>0.833333</td>\n",
              "    </tr>\n",
              "    <tr>\n",
              "      <th>2</th>\n",
              "      <td>1.0</td>\n",
              "      <td>1.000000</td>\n",
              "    </tr>\n",
              "  </tbody>\n",
              "</table>\n",
              "</div>"
            ],
            "text/plain": [
              "    X1        X2\n",
              "0  0.0  0.000000\n",
              "1  0.5  0.833333\n",
              "2  1.0  1.000000"
            ]
          },
          "execution_count": 191,
          "metadata": {},
          "output_type": "execute_result"
        }
      ]
    },
    {
      "cell_type": "code",
      "metadata": {
        "id": "2NsLveC-oWeQ",
        "outputId": "1ac92704-c27b-444e-c627-2801a93bb24c"
      },
      "source": [
        "dfTest"
      ],
      "execution_count": null,
      "outputs": [
        {
          "data": {
            "text/html": [
              "<div>\n",
              "<style scoped>\n",
              "    .dataframe tbody tr th:only-of-type {\n",
              "        vertical-align: middle;\n",
              "    }\n",
              "\n",
              "    .dataframe tbody tr th {\n",
              "        vertical-align: top;\n",
              "    }\n",
              "\n",
              "    .dataframe thead th {\n",
              "        text-align: right;\n",
              "    }\n",
              "</style>\n",
              "<table border=\"1\" class=\"dataframe\">\n",
              "  <thead>\n",
              "    <tr style=\"text-align: right;\">\n",
              "      <th></th>\n",
              "      <th>X1</th>\n",
              "      <th>X2</th>\n",
              "    </tr>\n",
              "  </thead>\n",
              "  <tbody>\n",
              "    <tr>\n",
              "      <th>0</th>\n",
              "      <td>1</td>\n",
              "      <td>2</td>\n",
              "    </tr>\n",
              "    <tr>\n",
              "      <th>1</th>\n",
              "      <td>2</td>\n",
              "      <td>7</td>\n",
              "    </tr>\n",
              "    <tr>\n",
              "      <th>2</th>\n",
              "      <td>3</td>\n",
              "      <td>8</td>\n",
              "    </tr>\n",
              "  </tbody>\n",
              "</table>\n",
              "</div>"
            ],
            "text/plain": [
              "   X1  X2\n",
              "0   1   2\n",
              "1   2   7\n",
              "2   3   8"
            ]
          },
          "execution_count": 192,
          "metadata": {},
          "output_type": "execute_result"
        }
      ]
    },
    {
      "cell_type": "code",
      "metadata": {
        "id": "aPskWM61oWeQ"
      },
      "source": [
        "def MaxMinNormalization(dataSet):\n",
        "    maxDf = dataSet.max()\n",
        "    minDf = dataSet.min()\n",
        "    normSet = (dataSet - minDf) / (maxDf - minDf)\n",
        "    return normSet"
      ],
      "execution_count": null,
      "outputs": []
    },
    {
      "cell_type": "code",
      "metadata": {
        "id": "VymPaHY4oWeQ",
        "outputId": "6c174620-b3dc-4395-c814-0e5c0b74e2d7"
      },
      "source": [
        "MaxMinNormalization(dfTest)"
      ],
      "execution_count": null,
      "outputs": [
        {
          "data": {
            "text/html": [
              "<div>\n",
              "<style scoped>\n",
              "    .dataframe tbody tr th:only-of-type {\n",
              "        vertical-align: middle;\n",
              "    }\n",
              "\n",
              "    .dataframe tbody tr th {\n",
              "        vertical-align: top;\n",
              "    }\n",
              "\n",
              "    .dataframe thead th {\n",
              "        text-align: right;\n",
              "    }\n",
              "</style>\n",
              "<table border=\"1\" class=\"dataframe\">\n",
              "  <thead>\n",
              "    <tr style=\"text-align: right;\">\n",
              "      <th></th>\n",
              "      <th>X1</th>\n",
              "      <th>X2</th>\n",
              "    </tr>\n",
              "  </thead>\n",
              "  <tbody>\n",
              "    <tr>\n",
              "      <th>0</th>\n",
              "      <td>0.0</td>\n",
              "      <td>0.000000</td>\n",
              "    </tr>\n",
              "    <tr>\n",
              "      <th>1</th>\n",
              "      <td>0.5</td>\n",
              "      <td>0.833333</td>\n",
              "    </tr>\n",
              "    <tr>\n",
              "      <th>2</th>\n",
              "      <td>1.0</td>\n",
              "      <td>1.000000</td>\n",
              "    </tr>\n",
              "  </tbody>\n",
              "</table>\n",
              "</div>"
            ],
            "text/plain": [
              "    X1        X2\n",
              "0  0.0  0.000000\n",
              "1  0.5  0.833333\n",
              "2  1.0  1.000000"
            ]
          },
          "execution_count": 194,
          "metadata": {},
          "output_type": "execute_result"
        }
      ]
    },
    {
      "cell_type": "code",
      "metadata": {
        "id": "2GEJFTcToWeQ"
      },
      "source": [
        "def Z_ScoreNormalization(dataSet):\n",
        "    stdDf = dataSet.std()\n",
        "    meanDf = dataSet.mean()\n",
        "    normSet = (dataSet - meanDf) / stdDf\n",
        "    return normSet"
      ],
      "execution_count": null,
      "outputs": []
    },
    {
      "cell_type": "code",
      "metadata": {
        "id": "P4uglq93oWeR",
        "outputId": "ccf3e384-dd2a-4044-f160-1c6dced719a7"
      },
      "source": [
        "Z_ScoreNormalization(dfTest)"
      ],
      "execution_count": null,
      "outputs": [
        {
          "data": {
            "text/html": [
              "<div>\n",
              "<style scoped>\n",
              "    .dataframe tbody tr th:only-of-type {\n",
              "        vertical-align: middle;\n",
              "    }\n",
              "\n",
              "    .dataframe tbody tr th {\n",
              "        vertical-align: top;\n",
              "    }\n",
              "\n",
              "    .dataframe thead th {\n",
              "        text-align: right;\n",
              "    }\n",
              "</style>\n",
              "<table border=\"1\" class=\"dataframe\">\n",
              "  <thead>\n",
              "    <tr style=\"text-align: right;\">\n",
              "      <th></th>\n",
              "      <th>X1</th>\n",
              "      <th>X2</th>\n",
              "    </tr>\n",
              "  </thead>\n",
              "  <tbody>\n",
              "    <tr>\n",
              "      <th>0</th>\n",
              "      <td>-1.0</td>\n",
              "      <td>-1.140647</td>\n",
              "    </tr>\n",
              "    <tr>\n",
              "      <th>1</th>\n",
              "      <td>0.0</td>\n",
              "      <td>0.414781</td>\n",
              "    </tr>\n",
              "    <tr>\n",
              "      <th>2</th>\n",
              "      <td>1.0</td>\n",
              "      <td>0.725866</td>\n",
              "    </tr>\n",
              "  </tbody>\n",
              "</table>\n",
              "</div>"
            ],
            "text/plain": [
              "    X1        X2\n",
              "0 -1.0 -1.140647\n",
              "1  0.0  0.414781\n",
              "2  1.0  0.725866"
            ]
          },
          "execution_count": 196,
          "metadata": {},
          "output_type": "execute_result"
        }
      ]
    },
    {
      "cell_type": "code",
      "metadata": {
        "id": "wKoDuF6doWeR"
      },
      "source": [
        "datingTest = pd.read_table('datingTestSet.txt', header = None)"
      ],
      "execution_count": null,
      "outputs": []
    },
    {
      "cell_type": "code",
      "metadata": {
        "id": "0cr4_mfMoWeR",
        "outputId": "9f79649f-3d33-4503-880b-471b17dcabaf"
      },
      "source": [
        "datingTest.head()"
      ],
      "execution_count": null,
      "outputs": [
        {
          "data": {
            "text/html": [
              "<div>\n",
              "<style scoped>\n",
              "    .dataframe tbody tr th:only-of-type {\n",
              "        vertical-align: middle;\n",
              "    }\n",
              "\n",
              "    .dataframe tbody tr th {\n",
              "        vertical-align: top;\n",
              "    }\n",
              "\n",
              "    .dataframe thead th {\n",
              "        text-align: right;\n",
              "    }\n",
              "</style>\n",
              "<table border=\"1\" class=\"dataframe\">\n",
              "  <thead>\n",
              "    <tr style=\"text-align: right;\">\n",
              "      <th></th>\n",
              "      <th>0</th>\n",
              "      <th>1</th>\n",
              "      <th>2</th>\n",
              "      <th>3</th>\n",
              "    </tr>\n",
              "  </thead>\n",
              "  <tbody>\n",
              "    <tr>\n",
              "      <th>0</th>\n",
              "      <td>40920</td>\n",
              "      <td>8.326976</td>\n",
              "      <td>0.953952</td>\n",
              "      <td>largeDoses</td>\n",
              "    </tr>\n",
              "    <tr>\n",
              "      <th>1</th>\n",
              "      <td>14488</td>\n",
              "      <td>7.153469</td>\n",
              "      <td>1.673904</td>\n",
              "      <td>smallDoses</td>\n",
              "    </tr>\n",
              "    <tr>\n",
              "      <th>2</th>\n",
              "      <td>26052</td>\n",
              "      <td>1.441871</td>\n",
              "      <td>0.805124</td>\n",
              "      <td>didntLike</td>\n",
              "    </tr>\n",
              "    <tr>\n",
              "      <th>3</th>\n",
              "      <td>75136</td>\n",
              "      <td>13.147394</td>\n",
              "      <td>0.428964</td>\n",
              "      <td>didntLike</td>\n",
              "    </tr>\n",
              "    <tr>\n",
              "      <th>4</th>\n",
              "      <td>38344</td>\n",
              "      <td>1.669788</td>\n",
              "      <td>0.134296</td>\n",
              "      <td>didntLike</td>\n",
              "    </tr>\n",
              "  </tbody>\n",
              "</table>\n",
              "</div>"
            ],
            "text/plain": [
              "       0          1         2           3\n",
              "0  40920   8.326976  0.953952  largeDoses\n",
              "1  14488   7.153469  1.673904  smallDoses\n",
              "2  26052   1.441871  0.805124   didntLike\n",
              "3  75136  13.147394  0.428964   didntLike\n",
              "4  38344   1.669788  0.134296   didntLike"
            ]
          },
          "execution_count": 198,
          "metadata": {},
          "output_type": "execute_result"
        }
      ]
    },
    {
      "cell_type": "code",
      "metadata": {
        "id": "wXShjXvXoWeR",
        "outputId": "a3354800-c59a-402a-df80-44425e9f154d"
      },
      "source": [
        "datingTest.shape"
      ],
      "execution_count": null,
      "outputs": [
        {
          "data": {
            "text/plain": [
              "(1000, 4)"
            ]
          },
          "execution_count": 199,
          "metadata": {},
          "output_type": "execute_result"
        }
      ]
    },
    {
      "cell_type": "code",
      "metadata": {
        "id": "SkX7OhueoWeS",
        "outputId": "24f3f6f2-e130-4de3-a394-d4939c2e1870"
      },
      "source": [
        "datingT = pd.concat([MaxMinNormalization(datingTest.iloc[:, :3]),datingTest.iloc[:, 3]], axis=1)\n",
        "datingT.head()"
      ],
      "execution_count": null,
      "outputs": [
        {
          "data": {
            "text/html": [
              "<div>\n",
              "<style scoped>\n",
              "    .dataframe tbody tr th:only-of-type {\n",
              "        vertical-align: middle;\n",
              "    }\n",
              "\n",
              "    .dataframe tbody tr th {\n",
              "        vertical-align: top;\n",
              "    }\n",
              "\n",
              "    .dataframe thead th {\n",
              "        text-align: right;\n",
              "    }\n",
              "</style>\n",
              "<table border=\"1\" class=\"dataframe\">\n",
              "  <thead>\n",
              "    <tr style=\"text-align: right;\">\n",
              "      <th></th>\n",
              "      <th>0</th>\n",
              "      <th>1</th>\n",
              "      <th>2</th>\n",
              "      <th>3</th>\n",
              "    </tr>\n",
              "  </thead>\n",
              "  <tbody>\n",
              "    <tr>\n",
              "      <th>0</th>\n",
              "      <td>0.448325</td>\n",
              "      <td>0.398051</td>\n",
              "      <td>0.562334</td>\n",
              "      <td>largeDoses</td>\n",
              "    </tr>\n",
              "    <tr>\n",
              "      <th>1</th>\n",
              "      <td>0.158733</td>\n",
              "      <td>0.341955</td>\n",
              "      <td>0.987244</td>\n",
              "      <td>smallDoses</td>\n",
              "    </tr>\n",
              "    <tr>\n",
              "      <th>2</th>\n",
              "      <td>0.285429</td>\n",
              "      <td>0.068925</td>\n",
              "      <td>0.474496</td>\n",
              "      <td>didntLike</td>\n",
              "    </tr>\n",
              "    <tr>\n",
              "      <th>3</th>\n",
              "      <td>0.823201</td>\n",
              "      <td>0.628480</td>\n",
              "      <td>0.252489</td>\n",
              "      <td>didntLike</td>\n",
              "    </tr>\n",
              "    <tr>\n",
              "      <th>4</th>\n",
              "      <td>0.420102</td>\n",
              "      <td>0.079820</td>\n",
              "      <td>0.078578</td>\n",
              "      <td>didntLike</td>\n",
              "    </tr>\n",
              "  </tbody>\n",
              "</table>\n",
              "</div>"
            ],
            "text/plain": [
              "          0         1         2           3\n",
              "0  0.448325  0.398051  0.562334  largeDoses\n",
              "1  0.158733  0.341955  0.987244  smallDoses\n",
              "2  0.285429  0.068925  0.474496   didntLike\n",
              "3  0.823201  0.628480  0.252489   didntLike\n",
              "4  0.420102  0.079820  0.078578   didntLike"
            ]
          },
          "execution_count": 200,
          "metadata": {},
          "output_type": "execute_result"
        }
      ]
    },
    {
      "cell_type": "code",
      "metadata": {
        "id": "UdQQL9f7oWeS"
      },
      "source": [
        "dating_Train, dating_Test = randSplit(datingT, 0.8)"
      ],
      "execution_count": null,
      "outputs": []
    },
    {
      "cell_type": "code",
      "metadata": {
        "id": "WSh7PgeuoWeS",
        "outputId": "2eec6d05-6ff7-4206-80eb-e6a409c28d98"
      },
      "source": [
        "dating_Train.head()"
      ],
      "execution_count": null,
      "outputs": [
        {
          "data": {
            "text/html": [
              "<div>\n",
              "<style scoped>\n",
              "    .dataframe tbody tr th:only-of-type {\n",
              "        vertical-align: middle;\n",
              "    }\n",
              "\n",
              "    .dataframe tbody tr th {\n",
              "        vertical-align: top;\n",
              "    }\n",
              "\n",
              "    .dataframe thead th {\n",
              "        text-align: right;\n",
              "    }\n",
              "</style>\n",
              "<table border=\"1\" class=\"dataframe\">\n",
              "  <thead>\n",
              "    <tr style=\"text-align: right;\">\n",
              "      <th></th>\n",
              "      <th>0</th>\n",
              "      <th>1</th>\n",
              "      <th>2</th>\n",
              "      <th>3</th>\n",
              "    </tr>\n",
              "  </thead>\n",
              "  <tbody>\n",
              "    <tr>\n",
              "      <th>0</th>\n",
              "      <td>0.622265</td>\n",
              "      <td>0.189601</td>\n",
              "      <td>0.501224</td>\n",
              "      <td>didntLike</td>\n",
              "    </tr>\n",
              "    <tr>\n",
              "      <th>1</th>\n",
              "      <td>0.664085</td>\n",
              "      <td>0.173051</td>\n",
              "      <td>0.169156</td>\n",
              "      <td>didntLike</td>\n",
              "    </tr>\n",
              "    <tr>\n",
              "      <th>2</th>\n",
              "      <td>0.130301</td>\n",
              "      <td>0.133239</td>\n",
              "      <td>0.926158</td>\n",
              "      <td>smallDoses</td>\n",
              "    </tr>\n",
              "    <tr>\n",
              "      <th>3</th>\n",
              "      <td>0.313127</td>\n",
              "      <td>0.510447</td>\n",
              "      <td>0.844378</td>\n",
              "      <td>largeDoses</td>\n",
              "    </tr>\n",
              "    <tr>\n",
              "      <th>4</th>\n",
              "      <td>0.341043</td>\n",
              "      <td>0.564879</td>\n",
              "      <td>0.113696</td>\n",
              "      <td>largeDoses</td>\n",
              "    </tr>\n",
              "  </tbody>\n",
              "</table>\n",
              "</div>"
            ],
            "text/plain": [
              "          0         1         2           3\n",
              "0  0.622265  0.189601  0.501224   didntLike\n",
              "1  0.664085  0.173051  0.169156   didntLike\n",
              "2  0.130301  0.133239  0.926158  smallDoses\n",
              "3  0.313127  0.510447  0.844378  largeDoses\n",
              "4  0.341043  0.564879  0.113696  largeDoses"
            ]
          },
          "execution_count": 202,
          "metadata": {},
          "output_type": "execute_result"
        }
      ]
    },
    {
      "cell_type": "code",
      "metadata": {
        "id": "Qso5MTVRoWeS",
        "outputId": "5d47b44a-ab19-4c53-c2cc-ba852bb6af1d"
      },
      "source": [
        "dating_Test.head()"
      ],
      "execution_count": null,
      "outputs": [
        {
          "data": {
            "text/html": [
              "<div>\n",
              "<style scoped>\n",
              "    .dataframe tbody tr th:only-of-type {\n",
              "        vertical-align: middle;\n",
              "    }\n",
              "\n",
              "    .dataframe tbody tr th {\n",
              "        vertical-align: top;\n",
              "    }\n",
              "\n",
              "    .dataframe thead th {\n",
              "        text-align: right;\n",
              "    }\n",
              "</style>\n",
              "<table border=\"1\" class=\"dataframe\">\n",
              "  <thead>\n",
              "    <tr style=\"text-align: right;\">\n",
              "      <th></th>\n",
              "      <th>0</th>\n",
              "      <th>1</th>\n",
              "      <th>2</th>\n",
              "      <th>3</th>\n",
              "    </tr>\n",
              "  </thead>\n",
              "  <tbody>\n",
              "    <tr>\n",
              "      <th>0</th>\n",
              "      <td>0.354004</td>\n",
              "      <td>0.108129</td>\n",
              "      <td>0.946933</td>\n",
              "      <td>didntLike</td>\n",
              "    </tr>\n",
              "    <tr>\n",
              "      <th>1</th>\n",
              "      <td>0.476987</td>\n",
              "      <td>0.394552</td>\n",
              "      <td>0.441195</td>\n",
              "      <td>largeDoses</td>\n",
              "    </tr>\n",
              "    <tr>\n",
              "      <th>2</th>\n",
              "      <td>0.303901</td>\n",
              "      <td>0.407939</td>\n",
              "      <td>0.120499</td>\n",
              "      <td>largeDoses</td>\n",
              "    </tr>\n",
              "    <tr>\n",
              "      <th>3</th>\n",
              "      <td>0.420091</td>\n",
              "      <td>0.346168</td>\n",
              "      <td>0.979998</td>\n",
              "      <td>largeDoses</td>\n",
              "    </tr>\n",
              "    <tr>\n",
              "      <th>4</th>\n",
              "      <td>0.095570</td>\n",
              "      <td>0.111920</td>\n",
              "      <td>0.128783</td>\n",
              "      <td>smallDoses</td>\n",
              "    </tr>\n",
              "  </tbody>\n",
              "</table>\n",
              "</div>"
            ],
            "text/plain": [
              "          0         1         2           3\n",
              "0  0.354004  0.108129  0.946933   didntLike\n",
              "1  0.476987  0.394552  0.441195  largeDoses\n",
              "2  0.303901  0.407939  0.120499  largeDoses\n",
              "3  0.420091  0.346168  0.979998  largeDoses\n",
              "4  0.095570  0.111920  0.128783  smallDoses"
            ]
          },
          "execution_count": 203,
          "metadata": {},
          "output_type": "execute_result"
        }
      ]
    },
    {
      "cell_type": "code",
      "metadata": {
        "id": "yki9-LZ0oWeS"
      },
      "source": [
        "result = classify0_1(dating_Train, dating_Test, 3)"
      ],
      "execution_count": null,
      "outputs": []
    },
    {
      "cell_type": "code",
      "metadata": {
        "id": "fPagrWcjoWeT"
      },
      "source": [
        "res = (result.iloc[:, -1] == result.iloc[:, -2]).value_counts()"
      ],
      "execution_count": null,
      "outputs": []
    },
    {
      "cell_type": "code",
      "metadata": {
        "id": "BMkDwyCgoWeT",
        "outputId": "4f9453b0-cf48-405c-fcac-40dcf66cf7dc"
      },
      "source": [
        "res"
      ],
      "execution_count": null,
      "outputs": [
        {
          "data": {
            "text/plain": [
              "True     187\n",
              "False     13\n",
              "dtype: int64"
            ]
          },
          "execution_count": 206,
          "metadata": {},
          "output_type": "execute_result"
        }
      ]
    },
    {
      "cell_type": "code",
      "metadata": {
        "id": "angAAhQ_oWeU",
        "outputId": "d3f31240-4bda-4fae-931e-5b1ac61bc616"
      },
      "source": [
        "res.loc[True] / 200"
      ],
      "execution_count": null,
      "outputs": [
        {
          "data": {
            "text/plain": [
              "0.935"
            ]
          },
          "execution_count": 207,
          "metadata": {},
          "output_type": "execute_result"
        }
      ]
    },
    {
      "cell_type": "code",
      "metadata": {
        "id": "h3RtZrHjoWeU"
      },
      "source": [
        "def accuracyCalculation(dataSet):\n",
        "    m = dataSet.shape[0]\n",
        "    res = (dataSet.iloc[:, -1] == dataSet.iloc[:, -2]).value_counts()\n",
        "    acc = res.loc[True] / m\n",
        "    print(\"Model accuracy is %f\" % acc)\n",
        "    return acc"
      ],
      "execution_count": null,
      "outputs": []
    },
    {
      "cell_type": "code",
      "metadata": {
        "id": "HidiKkeqoWeU"
      },
      "source": [
        "train, test = randSplit(datingTest, 0.8)"
      ],
      "execution_count": null,
      "outputs": []
    },
    {
      "cell_type": "code",
      "metadata": {
        "id": "h33VW9FPoWeU"
      },
      "source": [
        "re0 = classify0_1(train,test,3)"
      ],
      "execution_count": null,
      "outputs": []
    },
    {
      "cell_type": "code",
      "metadata": {
        "id": "S6vdLsIUoWeU",
        "outputId": "458e7710-2b21-4420-9e5f-b6983d491561"
      },
      "source": [
        "accuracyCalculation(re0) "
      ],
      "execution_count": null,
      "outputs": [
        {
          "name": "stdout",
          "output_type": "stream",
          "text": [
            "Model accuracy is 0.775000\n"
          ]
        },
        {
          "data": {
            "text/plain": [
              "0.775"
            ]
          },
          "execution_count": 266,
          "metadata": {},
          "output_type": "execute_result"
        }
      ]
    },
    {
      "cell_type": "code",
      "metadata": {
        "id": "-8a_QcSjoWeV",
        "outputId": "25d732f4-1ba9-409d-81cd-6faff43b5bae"
      },
      "source": [
        "accuracyCalculation(result)"
      ],
      "execution_count": null,
      "outputs": [
        {
          "name": "stdout",
          "output_type": "stream",
          "text": [
            "Model accuracy is 0.935000\n"
          ]
        },
        {
          "data": {
            "text/plain": [
              "0.935"
            ]
          },
          "execution_count": 270,
          "metadata": {},
          "output_type": "execute_result"
        }
      ]
    },
    {
      "cell_type": "code",
      "metadata": {
        "id": "tP64lgh6oWeV",
        "outputId": "9e022ba3-4a1a-4566-88f1-66b4eaa69dba"
      },
      "source": [
        "datingT.head()"
      ],
      "execution_count": null,
      "outputs": [
        {
          "data": {
            "text/html": [
              "<div>\n",
              "<style scoped>\n",
              "    .dataframe tbody tr th:only-of-type {\n",
              "        vertical-align: middle;\n",
              "    }\n",
              "\n",
              "    .dataframe tbody tr th {\n",
              "        vertical-align: top;\n",
              "    }\n",
              "\n",
              "    .dataframe thead th {\n",
              "        text-align: right;\n",
              "    }\n",
              "</style>\n",
              "<table border=\"1\" class=\"dataframe\">\n",
              "  <thead>\n",
              "    <tr style=\"text-align: right;\">\n",
              "      <th></th>\n",
              "      <th>0</th>\n",
              "      <th>1</th>\n",
              "      <th>2</th>\n",
              "      <th>3</th>\n",
              "    </tr>\n",
              "  </thead>\n",
              "  <tbody>\n",
              "    <tr>\n",
              "      <th>0</th>\n",
              "      <td>0.448325</td>\n",
              "      <td>0.398051</td>\n",
              "      <td>0.562334</td>\n",
              "      <td>largeDoses</td>\n",
              "    </tr>\n",
              "    <tr>\n",
              "      <th>1</th>\n",
              "      <td>0.158733</td>\n",
              "      <td>0.341955</td>\n",
              "      <td>0.987244</td>\n",
              "      <td>smallDoses</td>\n",
              "    </tr>\n",
              "    <tr>\n",
              "      <th>2</th>\n",
              "      <td>0.285429</td>\n",
              "      <td>0.068925</td>\n",
              "      <td>0.474496</td>\n",
              "      <td>didntLike</td>\n",
              "    </tr>\n",
              "    <tr>\n",
              "      <th>3</th>\n",
              "      <td>0.823201</td>\n",
              "      <td>0.628480</td>\n",
              "      <td>0.252489</td>\n",
              "      <td>didntLike</td>\n",
              "    </tr>\n",
              "    <tr>\n",
              "      <th>4</th>\n",
              "      <td>0.420102</td>\n",
              "      <td>0.079820</td>\n",
              "      <td>0.078578</td>\n",
              "      <td>didntLike</td>\n",
              "    </tr>\n",
              "  </tbody>\n",
              "</table>\n",
              "</div>"
            ],
            "text/plain": [
              "          0         1         2           3\n",
              "0  0.448325  0.398051  0.562334  largeDoses\n",
              "1  0.158733  0.341955  0.987244  smallDoses\n",
              "2  0.285429  0.068925  0.474496   didntLike\n",
              "3  0.823201  0.628480  0.252489   didntLike\n",
              "4  0.420102  0.079820  0.078578   didntLike"
            ]
          },
          "execution_count": 210,
          "metadata": {},
          "output_type": "execute_result"
        }
      ]
    },
    {
      "cell_type": "code",
      "metadata": {
        "id": "VvGQPtO7oWeV"
      },
      "source": [
        "cla = (datingT.iloc[:, 3] == 'smallDoses') | (datingT.iloc[:, 3] == 'didntLike')"
      ],
      "execution_count": null,
      "outputs": []
    },
    {
      "cell_type": "code",
      "metadata": {
        "id": "SlGOIAwUoWeV"
      },
      "source": [
        "dating_part = datingT.loc[cla,]"
      ],
      "execution_count": null,
      "outputs": []
    },
    {
      "cell_type": "code",
      "metadata": {
        "id": "HHR3io4SoWeV",
        "outputId": "e85168c2-279f-436e-d145-ac2c05b22c69"
      },
      "source": [
        "dating_part.head()"
      ],
      "execution_count": null,
      "outputs": [
        {
          "data": {
            "text/html": [
              "<div>\n",
              "<style scoped>\n",
              "    .dataframe tbody tr th:only-of-type {\n",
              "        vertical-align: middle;\n",
              "    }\n",
              "\n",
              "    .dataframe tbody tr th {\n",
              "        vertical-align: top;\n",
              "    }\n",
              "\n",
              "    .dataframe thead th {\n",
              "        text-align: right;\n",
              "    }\n",
              "</style>\n",
              "<table border=\"1\" class=\"dataframe\">\n",
              "  <thead>\n",
              "    <tr style=\"text-align: right;\">\n",
              "      <th></th>\n",
              "      <th>0</th>\n",
              "      <th>1</th>\n",
              "      <th>2</th>\n",
              "      <th>3</th>\n",
              "    </tr>\n",
              "  </thead>\n",
              "  <tbody>\n",
              "    <tr>\n",
              "      <th>1</th>\n",
              "      <td>0.158733</td>\n",
              "      <td>0.341955</td>\n",
              "      <td>0.987244</td>\n",
              "      <td>smallDoses</td>\n",
              "    </tr>\n",
              "    <tr>\n",
              "      <th>2</th>\n",
              "      <td>0.285429</td>\n",
              "      <td>0.068925</td>\n",
              "      <td>0.474496</td>\n",
              "      <td>didntLike</td>\n",
              "    </tr>\n",
              "    <tr>\n",
              "      <th>3</th>\n",
              "      <td>0.823201</td>\n",
              "      <td>0.628480</td>\n",
              "      <td>0.252489</td>\n",
              "      <td>didntLike</td>\n",
              "    </tr>\n",
              "    <tr>\n",
              "      <th>4</th>\n",
              "      <td>0.420102</td>\n",
              "      <td>0.079820</td>\n",
              "      <td>0.078578</td>\n",
              "      <td>didntLike</td>\n",
              "    </tr>\n",
              "    <tr>\n",
              "      <th>5</th>\n",
              "      <td>0.799722</td>\n",
              "      <td>0.484802</td>\n",
              "      <td>0.608961</td>\n",
              "      <td>didntLike</td>\n",
              "    </tr>\n",
              "  </tbody>\n",
              "</table>\n",
              "</div>"
            ],
            "text/plain": [
              "          0         1         2           3\n",
              "1  0.158733  0.341955  0.987244  smallDoses\n",
              "2  0.285429  0.068925  0.474496   didntLike\n",
              "3  0.823201  0.628480  0.252489   didntLike\n",
              "4  0.420102  0.079820  0.078578   didntLike\n",
              "5  0.799722  0.484802  0.608961   didntLike"
            ]
          },
          "execution_count": 213,
          "metadata": {},
          "output_type": "execute_result"
        }
      ]
    },
    {
      "cell_type": "code",
      "metadata": {
        "id": "W1tTUZcEoWeV",
        "outputId": "b49e2b65-6494-480e-83bc-d9b125b7e55d"
      },
      "source": [
        "dating_part.iloc[:, -1].value_counts()"
      ],
      "execution_count": null,
      "outputs": [
        {
          "data": {
            "text/plain": [
              "didntLike     342\n",
              "smallDoses    331\n",
              "Name: 3, dtype: int64"
            ]
          },
          "execution_count": 214,
          "metadata": {},
          "output_type": "execute_result"
        }
      ]
    },
    {
      "cell_type": "code",
      "metadata": {
        "id": "BpH1VlO3oWeW"
      },
      "source": [
        "dating_part.index = range(dating_part.shape[0])"
      ],
      "execution_count": null,
      "outputs": []
    },
    {
      "cell_type": "code",
      "metadata": {
        "id": "4Hk1RbxxoWeW"
      },
      "source": [
        "train, test = randSplit(dating_part, 0.8)\n",
        "result = classify0_1(train, test, 3)"
      ],
      "execution_count": null,
      "outputs": []
    },
    {
      "cell_type": "code",
      "metadata": {
        "id": "V16wWV_JoWeW",
        "outputId": "646f64af-ea06-4bec-cd00-b1036e83167b"
      },
      "source": [
        "result.head()"
      ],
      "execution_count": null,
      "outputs": [
        {
          "data": {
            "text/html": [
              "<div>\n",
              "<style scoped>\n",
              "    .dataframe tbody tr th:only-of-type {\n",
              "        vertical-align: middle;\n",
              "    }\n",
              "\n",
              "    .dataframe tbody tr th {\n",
              "        vertical-align: top;\n",
              "    }\n",
              "\n",
              "    .dataframe thead th {\n",
              "        text-align: right;\n",
              "    }\n",
              "</style>\n",
              "<table border=\"1\" class=\"dataframe\">\n",
              "  <thead>\n",
              "    <tr style=\"text-align: right;\">\n",
              "      <th></th>\n",
              "      <th>0</th>\n",
              "      <th>1</th>\n",
              "      <th>2</th>\n",
              "      <th>3</th>\n",
              "      <th>predict</th>\n",
              "    </tr>\n",
              "  </thead>\n",
              "  <tbody>\n",
              "    <tr>\n",
              "      <th>0</th>\n",
              "      <td>0.784460</td>\n",
              "      <td>0.695658</td>\n",
              "      <td>0.362972</td>\n",
              "      <td>didntLike</td>\n",
              "      <td>didntLike</td>\n",
              "    </tr>\n",
              "    <tr>\n",
              "      <th>1</th>\n",
              "      <td>0.395615</td>\n",
              "      <td>0.161060</td>\n",
              "      <td>0.928897</td>\n",
              "      <td>didntLike</td>\n",
              "      <td>didntLike</td>\n",
              "    </tr>\n",
              "    <tr>\n",
              "      <th>2</th>\n",
              "      <td>0.402156</td>\n",
              "      <td>0.024896</td>\n",
              "      <td>0.870447</td>\n",
              "      <td>didntLike</td>\n",
              "      <td>didntLike</td>\n",
              "    </tr>\n",
              "    <tr>\n",
              "      <th>3</th>\n",
              "      <td>0.156585</td>\n",
              "      <td>0.250226</td>\n",
              "      <td>0.486790</td>\n",
              "      <td>smallDoses</td>\n",
              "      <td>smallDoses</td>\n",
              "    </tr>\n",
              "    <tr>\n",
              "      <th>4</th>\n",
              "      <td>0.396590</td>\n",
              "      <td>0.000000</td>\n",
              "      <td>0.068090</td>\n",
              "      <td>didntLike</td>\n",
              "      <td>didntLike</td>\n",
              "    </tr>\n",
              "  </tbody>\n",
              "</table>\n",
              "</div>"
            ],
            "text/plain": [
              "          0         1         2           3     predict\n",
              "0  0.784460  0.695658  0.362972   didntLike   didntLike\n",
              "1  0.395615  0.161060  0.928897   didntLike   didntLike\n",
              "2  0.402156  0.024896  0.870447   didntLike   didntLike\n",
              "3  0.156585  0.250226  0.486790  smallDoses  smallDoses\n",
              "4  0.396590  0.000000  0.068090   didntLike   didntLike"
            ]
          },
          "execution_count": 217,
          "metadata": {},
          "output_type": "execute_result"
        }
      ]
    },
    {
      "cell_type": "code",
      "metadata": {
        "id": "Ic_5l7saoWeW"
      },
      "source": [
        "TP = result.loc[(result.iloc[:, -1] == 'smallDoses') & (result.iloc[:, -2] == 'smallDoses'),].shape[0]\n",
        "FN = result.loc[(result.iloc[:, -1] == 'didntLike') & (result.iloc[:, -2] == 'smallDoses'),].shape[0]\n",
        "TN = result.loc[(result.iloc[:, -1] == 'didntLike') & (result.iloc[:, -2] == 'didntLike'),].shape[0]\n",
        "FP = result.loc[(result.iloc[:, -1] == 'smallDoses') & (result.iloc[:, -2] == 'didntLike'),].shape[0]"
      ],
      "execution_count": null,
      "outputs": []
    },
    {
      "cell_type": "code",
      "metadata": {
        "id": "AE69J2tioWeW"
      },
      "source": [
        "dating_ac = (TP + TN) / (TP + TN + FP + FN)"
      ],
      "execution_count": null,
      "outputs": []
    },
    {
      "cell_type": "code",
      "metadata": {
        "id": "5Bvo8rBdoWeW",
        "outputId": "fd3e6133-8ef0-432b-8f00-0f6b265e4a9e"
      },
      "source": [
        "dating_ac"
      ],
      "execution_count": null,
      "outputs": [
        {
          "data": {
            "text/plain": [
              "0.9925925925925926"
            ]
          },
          "execution_count": 220,
          "metadata": {},
          "output_type": "execute_result"
        }
      ]
    },
    {
      "cell_type": "code",
      "metadata": {
        "id": "zIDOGvoioWeW",
        "outputId": "fa10bed9-e31b-4f5c-df75-bf72e079f0f4"
      },
      "source": [
        "accuracyCalculation(result)"
      ],
      "execution_count": null,
      "outputs": [
        {
          "name": "stdout",
          "output_type": "stream",
          "text": [
            "Model accuracy is 0.992593\n"
          ]
        },
        {
          "data": {
            "text/plain": [
              "0.9925925925925926"
            ]
          },
          "execution_count": 221,
          "metadata": {},
          "output_type": "execute_result"
        }
      ]
    },
    {
      "cell_type": "code",
      "metadata": {
        "id": "JLD9hCVToWeX",
        "outputId": "61228908-cd08-44c6-c47d-f9f2ccce1b69"
      },
      "source": [
        "dating_pr = TP / (TP + FP)\n",
        "dating_pr"
      ],
      "execution_count": null,
      "outputs": [
        {
          "data": {
            "text/plain": [
              "0.9855072463768116"
            ]
          },
          "execution_count": 222,
          "metadata": {},
          "output_type": "execute_result"
        }
      ]
    },
    {
      "cell_type": "code",
      "metadata": {
        "id": "fF7JCFj7oWeX",
        "outputId": "15cc902f-d95a-43f5-bd2d-3cc9ffca1607"
      },
      "source": [
        "dating_re = TP / (TP + FN)\n",
        "dating_re"
      ],
      "execution_count": null,
      "outputs": [
        {
          "data": {
            "text/plain": [
              "1.0"
            ]
          },
          "execution_count": 223,
          "metadata": {},
          "output_type": "execute_result"
        }
      ]
    },
    {
      "cell_type": "code",
      "metadata": {
        "id": "hHjcaWPgoWeX",
        "outputId": "df8c3eff-2710-4380-b666-161d761d6544"
      },
      "source": [
        "dating_sp = TN / (TN + FP)\n",
        "dating_sp"
      ],
      "execution_count": null,
      "outputs": [
        {
          "data": {
            "text/plain": [
              "0.9850746268656716"
            ]
          },
          "execution_count": 224,
          "metadata": {},
          "output_type": "execute_result"
        }
      ]
    },
    {
      "cell_type": "code",
      "metadata": {
        "id": "EcmQVlsjoWeX",
        "outputId": "0ab24268-e696-44f3-8045-7aa309c1e198"
      },
      "source": [
        "dating_F = 2 * dating_pr * dating_re / (dating_pr + dating_re)\n",
        "dating_F"
      ],
      "execution_count": null,
      "outputs": [
        {
          "data": {
            "text/plain": [
              "0.9927007299270074"
            ]
          },
          "execution_count": 225,
          "metadata": {},
          "output_type": "execute_result"
        }
      ]
    },
    {
      "cell_type": "code",
      "metadata": {
        "id": "WZVu-TVyoWeY"
      },
      "source": [
        "def classify0_2(train,test,k):\n",
        "    n = train.shape[1] - 1\n",
        "    m = test.shape[0]\n",
        "    result = []\n",
        "    for i in range(m):\n",
        "        dist = list(((train.iloc[:, :n] - test.iloc[i, :n]) ** 2).sum(1))\n",
        "        dist_l = pd.DataFrame({'dist': dist, 'labels': (train.iloc[:, n])})\n",
        "        dr = dist_l.sort_values(by = 'dist')[: k]\n",
        "        dr['re'] = 1 / dr.iloc[:, 0]\n",
        "        re = dr.groupby('labels').sum()\n",
        "        re.sort_values(by = 're', ascending=False)\n",
        "        result.append(re.index[0])\n",
        "    result = pd.Series(result)\n",
        "    test['predict'] = result\n",
        "    return test"
      ],
      "execution_count": null,
      "outputs": []
    },
    {
      "cell_type": "code",
      "metadata": {
        "id": "v5BCHt5boWeY"
      },
      "source": [
        "train, test = randSplit(dating_part, 0.8)"
      ],
      "execution_count": null,
      "outputs": []
    },
    {
      "cell_type": "code",
      "metadata": {
        "id": "VvZmIHQUoWeY"
      },
      "source": [
        "result0_1 = classify0_1(train, test, 3)"
      ],
      "execution_count": null,
      "outputs": []
    },
    {
      "cell_type": "code",
      "metadata": {
        "id": "OH-ftwYuoWeY"
      },
      "source": [
        "result0_2 = classify0_2(train, test, 3)"
      ],
      "execution_count": null,
      "outputs": []
    },
    {
      "cell_type": "code",
      "metadata": {
        "id": "q1Dp1PVDoWeY",
        "outputId": "9ac6a46e-9dee-4fd2-a60f-e5c4bd19d2c7"
      },
      "source": [
        "accuracyCalculation(result0_1)"
      ],
      "execution_count": null,
      "outputs": [
        {
          "name": "stdout",
          "output_type": "stream",
          "text": [
            "Model accuracy is 0.985185\n"
          ]
        },
        {
          "data": {
            "text/plain": [
              "0.9851851851851852"
            ]
          },
          "execution_count": 230,
          "metadata": {},
          "output_type": "execute_result"
        }
      ]
    },
    {
      "cell_type": "code",
      "metadata": {
        "id": "3GtqluPvoWeZ",
        "outputId": "2e3d5437-c6aa-43b4-eb55-05c440740b47"
      },
      "source": [
        "accuracyCalculation(result0_2)"
      ],
      "execution_count": null,
      "outputs": [
        {
          "name": "stdout",
          "output_type": "stream",
          "text": [
            "Model accuracy is 0.985185\n"
          ]
        },
        {
          "data": {
            "text/plain": [
              "0.9851851851851852"
            ]
          },
          "execution_count": 231,
          "metadata": {},
          "output_type": "execute_result"
        }
      ]
    },
    {
      "cell_type": "code",
      "metadata": {
        "id": "XnnSqvFVoWeZ"
      },
      "source": [
        "def kLearningCurve(classify, train, test, k):\n",
        "    yAc = []\n",
        "    for i in range(k):\n",
        "        yAc.append(accuracyCalculation(classify(train, test, i+1)))\n",
        "    plt.plot(range(1, k+1), yAc, '-o',color='black')\n",
        "    return yAc"
      ],
      "execution_count": null,
      "outputs": []
    },
    {
      "cell_type": "code",
      "metadata": {
        "id": "36LU6-IaoWeZ"
      },
      "source": [
        "train, test = randSplit(iris, 0.8)"
      ],
      "execution_count": null,
      "outputs": []
    },
    {
      "cell_type": "code",
      "metadata": {
        "id": "GvL_k3NFoWeZ",
        "outputId": "b87a7a96-5e2f-4cc6-9d57-d3aad8e9204e"
      },
      "source": [
        "kLearningCurve(classify0_1, train, test, 9)"
      ],
      "execution_count": null,
      "outputs": [
        {
          "name": "stdout",
          "output_type": "stream",
          "text": [
            "Model accuracy is 0.966667\n",
            "Model accuracy is 0.966667\n",
            "Model accuracy is 1.000000\n",
            "Model accuracy is 0.966667\n",
            "Model accuracy is 0.966667\n",
            "Model accuracy is 0.966667\n",
            "Model accuracy is 0.933333\n",
            "Model accuracy is 0.966667\n",
            "Model accuracy is 0.966667\n"
          ]
        },
        {
          "data": {
            "text/plain": [
              "[0.9666666666666667,\n",
              " 0.9666666666666667,\n",
              " 1.0,\n",
              " 0.9666666666666667,\n",
              " 0.9666666666666667,\n",
              " 0.9666666666666667,\n",
              " 0.9333333333333333,\n",
              " 0.9666666666666667,\n",
              " 0.9666666666666667]"
            ]
          },
          "execution_count": 281,
          "metadata": {},
          "output_type": "execute_result"
        },
        {
          "data": {
            "image/png": "[encoded data removed]",
            "text/plain": [
              "<Figure size 432x288 with 1 Axes>"
            ]
          },
          "metadata": {},
          "output_type": "display_data"
        }
      ]
    },
    {
      "cell_type": "code",
      "metadata": {
        "id": "dmMvlP39oWeZ",
        "outputId": "36e2b030-f2ce-42a0-f13a-1abece26b377"
      },
      "source": [
        "train, test = randSplit(dating_part, 0.8)\n",
        "kLearningCurve(classify0_1, train, test, 9)"
      ],
      "execution_count": null,
      "outputs": [
        {
          "name": "stdout",
          "output_type": "stream",
          "text": [
            "Model accuracy is 0.962963\n",
            "Model accuracy is 0.977778\n",
            "Model accuracy is 0.970370\n",
            "Model accuracy is 0.970370\n",
            "Model accuracy is 0.970370\n",
            "Model accuracy is 0.970370\n",
            "Model accuracy is 0.970370\n",
            "Model accuracy is 0.970370\n",
            "Model accuracy is 0.970370\n"
          ]
        },
        {
          "data": {
            "text/plain": [
              "[0.9629629629629629,\n",
              " 0.9777777777777777,\n",
              " 0.9703703703703703,\n",
              " 0.9703703703703703,\n",
              " 0.9703703703703703,\n",
              " 0.9703703703703703,\n",
              " 0.9703703703703703,\n",
              " 0.9703703703703703,\n",
              " 0.9703703703703703]"
            ]
          },
          "execution_count": 233,
          "metadata": {},
          "output_type": "execute_result"
        },
        {
          "data": {
            "image/png": "[encoded data removed]",
            "text/plain": [
              "<Figure size 432x288 with 1 Axes>"
            ]
          },
          "metadata": {},
          "output_type": "display_data"
        }
      ]
    },
    {
      "cell_type": "code",
      "metadata": {
        "id": "IIYWHO-aoWea"
      },
      "source": [
        "m = dating_part.shape[0]\n",
        "a = []\n",
        "k = m / 10\n",
        "for i in range(10):\n",
        "    if i < 9:\n",
        "        a.append(dating_part.iloc[i*int(k):(i+1)*int(k), :])\n",
        "    else:\n",
        "        a.append(dating_part.iloc[i*int(k):, :])"
      ],
      "execution_count": null,
      "outputs": []
    },
    {
      "cell_type": "code",
      "metadata": {
        "id": "z7WodOF-oWea",
        "outputId": "63d84120-9a6f-4591-824c-a57838fd00e0"
      },
      "source": [
        "m = iris.shape[0]\n",
        "m"
      ],
      "execution_count": null,
      "outputs": [
        {
          "data": {
            "text/plain": [
              "150"
            ]
          },
          "execution_count": 283,
          "metadata": {},
          "output_type": "execute_result"
        }
      ]
    },
    {
      "cell_type": "code",
      "metadata": {
        "id": "YAyNHXZmoWea"
      },
      "source": [
        "a = []"
      ],
      "execution_count": null,
      "outputs": []
    },
    {
      "cell_type": "code",
      "metadata": {
        "id": "5qUQP3_WoWea"
      },
      "source": [
        "k = m / 10"
      ],
      "execution_count": null,
      "outputs": []
    },
    {
      "cell_type": "code",
      "metadata": {
        "id": "aKw9AwPeoWea",
        "outputId": "7b6a61bd-f10f-4e0d-98e7-10c23ae95299"
      },
      "source": [
        "k"
      ],
      "execution_count": null,
      "outputs": [
        {
          "data": {
            "text/plain": [
              "15.0"
            ]
          },
          "execution_count": 286,
          "metadata": {},
          "output_type": "execute_result"
        }
      ]
    },
    {
      "cell_type": "code",
      "metadata": {
        "id": "bSEF7h8AoWea"
      },
      "source": [
        "a.append(iris.iloc[0*int(k):(0+1)*int(k), :])"
      ],
      "execution_count": null,
      "outputs": []
    },
    {
      "cell_type": "code",
      "metadata": {
        "id": "7QnjWj8KoWea",
        "outputId": "3be9ce6d-ff09-45c4-d8dd-6e7c090bc929"
      },
      "source": [
        "a[0]"
      ],
      "execution_count": null,
      "outputs": [
        {
          "data": {
            "text/html": [
              "<div>\n",
              "<style scoped>\n",
              "    .dataframe tbody tr th:only-of-type {\n",
              "        vertical-align: middle;\n",
              "    }\n",
              "\n",
              "    .dataframe tbody tr th {\n",
              "        vertical-align: top;\n",
              "    }\n",
              "\n",
              "    .dataframe thead th {\n",
              "        text-align: right;\n",
              "    }\n",
              "</style>\n",
              "<table border=\"1\" class=\"dataframe\">\n",
              "  <thead>\n",
              "    <tr style=\"text-align: right;\">\n",
              "      <th></th>\n",
              "      <th>sepal_length_cm</th>\n",
              "      <th>sepal_width_cm</th>\n",
              "      <th>petal_length_cm</th>\n",
              "      <th>petal_width_cm</th>\n",
              "      <th>class</th>\n",
              "    </tr>\n",
              "  </thead>\n",
              "  <tbody>\n",
              "    <tr>\n",
              "      <th>0</th>\n",
              "      <td>5.1</td>\n",
              "      <td>3.5</td>\n",
              "      <td>1.4</td>\n",
              "      <td>0.2</td>\n",
              "      <td>Iris-setosa</td>\n",
              "    </tr>\n",
              "    <tr>\n",
              "      <th>1</th>\n",
              "      <td>4.9</td>\n",
              "      <td>3.0</td>\n",
              "      <td>1.4</td>\n",
              "      <td>0.2</td>\n",
              "      <td>Iris-setosa</td>\n",
              "    </tr>\n",
              "    <tr>\n",
              "      <th>2</th>\n",
              "      <td>4.7</td>\n",
              "      <td>3.2</td>\n",
              "      <td>1.3</td>\n",
              "      <td>0.2</td>\n",
              "      <td>Iris-setosa</td>\n",
              "    </tr>\n",
              "    <tr>\n",
              "      <th>3</th>\n",
              "      <td>4.6</td>\n",
              "      <td>3.1</td>\n",
              "      <td>1.5</td>\n",
              "      <td>0.2</td>\n",
              "      <td>Iris-setosa</td>\n",
              "    </tr>\n",
              "    <tr>\n",
              "      <th>4</th>\n",
              "      <td>5.0</td>\n",
              "      <td>3.6</td>\n",
              "      <td>1.4</td>\n",
              "      <td>0.2</td>\n",
              "      <td>Iris-setosa</td>\n",
              "    </tr>\n",
              "    <tr>\n",
              "      <th>5</th>\n",
              "      <td>5.4</td>\n",
              "      <td>3.9</td>\n",
              "      <td>1.7</td>\n",
              "      <td>0.4</td>\n",
              "      <td>Iris-setosa</td>\n",
              "    </tr>\n",
              "    <tr>\n",
              "      <th>6</th>\n",
              "      <td>4.6</td>\n",
              "      <td>3.4</td>\n",
              "      <td>1.4</td>\n",
              "      <td>0.3</td>\n",
              "      <td>Iris-setosa</td>\n",
              "    </tr>\n",
              "    <tr>\n",
              "      <th>7</th>\n",
              "      <td>5.0</td>\n",
              "      <td>3.4</td>\n",
              "      <td>1.5</td>\n",
              "      <td>0.2</td>\n",
              "      <td>Iris-setosa</td>\n",
              "    </tr>\n",
              "    <tr>\n",
              "      <th>8</th>\n",
              "      <td>4.4</td>\n",
              "      <td>2.9</td>\n",
              "      <td>1.4</td>\n",
              "      <td>0.2</td>\n",
              "      <td>Iris-setosa</td>\n",
              "    </tr>\n",
              "    <tr>\n",
              "      <th>9</th>\n",
              "      <td>4.9</td>\n",
              "      <td>3.1</td>\n",
              "      <td>1.5</td>\n",
              "      <td>0.1</td>\n",
              "      <td>Iris-setosa</td>\n",
              "    </tr>\n",
              "    <tr>\n",
              "      <th>10</th>\n",
              "      <td>5.4</td>\n",
              "      <td>3.7</td>\n",
              "      <td>1.5</td>\n",
              "      <td>0.2</td>\n",
              "      <td>Iris-setosa</td>\n",
              "    </tr>\n",
              "    <tr>\n",
              "      <th>11</th>\n",
              "      <td>4.8</td>\n",
              "      <td>3.4</td>\n",
              "      <td>1.6</td>\n",
              "      <td>0.2</td>\n",
              "      <td>Iris-setosa</td>\n",
              "    </tr>\n",
              "    <tr>\n",
              "      <th>12</th>\n",
              "      <td>4.8</td>\n",
              "      <td>3.0</td>\n",
              "      <td>1.4</td>\n",
              "      <td>0.1</td>\n",
              "      <td>Iris-setosa</td>\n",
              "    </tr>\n",
              "    <tr>\n",
              "      <th>13</th>\n",
              "      <td>4.3</td>\n",
              "      <td>3.0</td>\n",
              "      <td>1.1</td>\n",
              "      <td>0.1</td>\n",
              "      <td>Iris-setosa</td>\n",
              "    </tr>\n",
              "    <tr>\n",
              "      <th>14</th>\n",
              "      <td>5.8</td>\n",
              "      <td>4.0</td>\n",
              "      <td>1.2</td>\n",
              "      <td>0.2</td>\n",
              "      <td>Iris-setosa</td>\n",
              "    </tr>\n",
              "  </tbody>\n",
              "</table>\n",
              "</div>"
            ],
            "text/plain": [
              "    sepal_length_cm  sepal_width_cm  petal_length_cm  petal_width_cm  \\\n",
              "0               5.1             3.5              1.4             0.2   \n",
              "1               4.9             3.0              1.4             0.2   \n",
              "2               4.7             3.2              1.3             0.2   \n",
              "3               4.6             3.1              1.5             0.2   \n",
              "4               5.0             3.6              1.4             0.2   \n",
              "5               5.4             3.9              1.7             0.4   \n",
              "6               4.6             3.4              1.4             0.3   \n",
              "7               5.0             3.4              1.5             0.2   \n",
              "8               4.4             2.9              1.4             0.2   \n",
              "9               4.9             3.1              1.5             0.1   \n",
              "10              5.4             3.7              1.5             0.2   \n",
              "11              4.8             3.4              1.6             0.2   \n",
              "12              4.8             3.0              1.4             0.1   \n",
              "13              4.3             3.0              1.1             0.1   \n",
              "14              5.8             4.0              1.2             0.2   \n",
              "\n",
              "          class  \n",
              "0   Iris-setosa  \n",
              "1   Iris-setosa  \n",
              "2   Iris-setosa  \n",
              "3   Iris-setosa  \n",
              "4   Iris-setosa  \n",
              "5   Iris-setosa  \n",
              "6   Iris-setosa  \n",
              "7   Iris-setosa  \n",
              "8   Iris-setosa  \n",
              "9   Iris-setosa  \n",
              "10  Iris-setosa  \n",
              "11  Iris-setosa  \n",
              "12  Iris-setosa  \n",
              "13  Iris-setosa  \n",
              "14  Iris-setosa  "
            ]
          },
          "execution_count": 290,
          "metadata": {},
          "output_type": "execute_result"
        }
      ]
    },
    {
      "cell_type": "code",
      "metadata": {
        "id": "CgG15zOBoWeb",
        "outputId": "dce30696-e494-4dde-9678-ab36c1a6efc1"
      },
      "source": [
        "dating_part.shape"
      ],
      "execution_count": null,
      "outputs": [
        {
          "data": {
            "text/plain": [
              "(673, 4)"
            ]
          },
          "execution_count": 235,
          "metadata": {},
          "output_type": "execute_result"
        }
      ]
    },
    {
      "cell_type": "code",
      "metadata": {
        "id": "6QkW_2PeoWeb",
        "outputId": "c85ef8c1-a604-4f1d-a4e3-5b3cbfac492e"
      },
      "source": [
        "a[9].shape"
      ],
      "execution_count": null,
      "outputs": [
        {
          "data": {
            "text/plain": [
              "(70, 4)"
            ]
          },
          "execution_count": 236,
          "metadata": {},
          "output_type": "execute_result"
        }
      ]
    },
    {
      "cell_type": "code",
      "metadata": {
        "id": "eL37bHN2oWeb"
      },
      "source": [
        "def randSplit_1(dataSet, n):\n",
        "    l = list(dataSet.index)\n",
        "    random.shuffle(l)\n",
        "    dataSet.index = l\n",
        "    m = dataSet.shape[0]\n",
        "    splitSet = []\n",
        "    k = m / n\n",
        "    for i in range(n):\n",
        "        if i < (n-1):\n",
        "            splitSet.append(dataSet.loc[range(i*int(k),(i+1)*int(k)), :])\n",
        "        else:\n",
        "            splitSet.append(dataSet.loc[range(i*int(k), m), :])\n",
        "    dataSet.index = range(dataSet.shape[0])\n",
        "    return splitSet"
      ],
      "execution_count": null,
      "outputs": []
    },
    {
      "cell_type": "code",
      "metadata": {
        "id": "0BGPinrQoWeb"
      },
      "source": [
        "iris_part = randSplit_1(iris, 10)"
      ],
      "execution_count": null,
      "outputs": []
    },
    {
      "cell_type": "code",
      "metadata": {
        "id": "FEf8RVedoWeb",
        "outputId": "67991358-c140-478e-a441-71242b3e84d2"
      },
      "source": [
        "iris_part[0]"
      ],
      "execution_count": null,
      "outputs": [
        {
          "data": {
            "text/html": [
              "<div>\n",
              "<style scoped>\n",
              "    .dataframe tbody tr th:only-of-type {\n",
              "        vertical-align: middle;\n",
              "    }\n",
              "\n",
              "    .dataframe tbody tr th {\n",
              "        vertical-align: top;\n",
              "    }\n",
              "\n",
              "    .dataframe thead th {\n",
              "        text-align: right;\n",
              "    }\n",
              "</style>\n",
              "<table border=\"1\" class=\"dataframe\">\n",
              "  <thead>\n",
              "    <tr style=\"text-align: right;\">\n",
              "      <th></th>\n",
              "      <th>sepal_length_cm</th>\n",
              "      <th>sepal_width_cm</th>\n",
              "      <th>petal_length_cm</th>\n",
              "      <th>petal_width_cm</th>\n",
              "      <th>class</th>\n",
              "    </tr>\n",
              "  </thead>\n",
              "  <tbody>\n",
              "    <tr>\n",
              "      <th>0</th>\n",
              "      <td>5.3</td>\n",
              "      <td>3.7</td>\n",
              "      <td>1.5</td>\n",
              "      <td>0.2</td>\n",
              "      <td>Iris-setosa</td>\n",
              "    </tr>\n",
              "    <tr>\n",
              "      <th>1</th>\n",
              "      <td>6.5</td>\n",
              "      <td>3.2</td>\n",
              "      <td>5.1</td>\n",
              "      <td>2.0</td>\n",
              "      <td>Iris-virginica</td>\n",
              "    </tr>\n",
              "    <tr>\n",
              "      <th>2</th>\n",
              "      <td>5.7</td>\n",
              "      <td>2.9</td>\n",
              "      <td>4.2</td>\n",
              "      <td>1.3</td>\n",
              "      <td>Iris-versicolor</td>\n",
              "    </tr>\n",
              "    <tr>\n",
              "      <th>3</th>\n",
              "      <td>4.8</td>\n",
              "      <td>3.4</td>\n",
              "      <td>1.6</td>\n",
              "      <td>0.2</td>\n",
              "      <td>Iris-setosa</td>\n",
              "    </tr>\n",
              "    <tr>\n",
              "      <th>4</th>\n",
              "      <td>5.2</td>\n",
              "      <td>3.4</td>\n",
              "      <td>1.4</td>\n",
              "      <td>0.2</td>\n",
              "      <td>Iris-setosa</td>\n",
              "    </tr>\n",
              "    <tr>\n",
              "      <th>5</th>\n",
              "      <td>6.1</td>\n",
              "      <td>2.9</td>\n",
              "      <td>4.7</td>\n",
              "      <td>1.4</td>\n",
              "      <td>Iris-versicolor</td>\n",
              "    </tr>\n",
              "    <tr>\n",
              "      <th>6</th>\n",
              "      <td>6.7</td>\n",
              "      <td>3.3</td>\n",
              "      <td>5.7</td>\n",
              "      <td>2.5</td>\n",
              "      <td>Iris-virginica</td>\n",
              "    </tr>\n",
              "    <tr>\n",
              "      <th>7</th>\n",
              "      <td>5.8</td>\n",
              "      <td>2.6</td>\n",
              "      <td>4.0</td>\n",
              "      <td>1.2</td>\n",
              "      <td>Iris-versicolor</td>\n",
              "    </tr>\n",
              "    <tr>\n",
              "      <th>8</th>\n",
              "      <td>6.2</td>\n",
              "      <td>2.8</td>\n",
              "      <td>4.8</td>\n",
              "      <td>1.8</td>\n",
              "      <td>Iris-virginica</td>\n",
              "    </tr>\n",
              "    <tr>\n",
              "      <th>9</th>\n",
              "      <td>5.8</td>\n",
              "      <td>2.7</td>\n",
              "      <td>3.9</td>\n",
              "      <td>1.2</td>\n",
              "      <td>Iris-versicolor</td>\n",
              "    </tr>\n",
              "    <tr>\n",
              "      <th>10</th>\n",
              "      <td>7.2</td>\n",
              "      <td>3.2</td>\n",
              "      <td>6.0</td>\n",
              "      <td>1.8</td>\n",
              "      <td>Iris-virginica</td>\n",
              "    </tr>\n",
              "    <tr>\n",
              "      <th>11</th>\n",
              "      <td>6.4</td>\n",
              "      <td>3.2</td>\n",
              "      <td>4.5</td>\n",
              "      <td>1.5</td>\n",
              "      <td>Iris-versicolor</td>\n",
              "    </tr>\n",
              "    <tr>\n",
              "      <th>12</th>\n",
              "      <td>5.1</td>\n",
              "      <td>3.5</td>\n",
              "      <td>1.4</td>\n",
              "      <td>0.2</td>\n",
              "      <td>Iris-setosa</td>\n",
              "    </tr>\n",
              "    <tr>\n",
              "      <th>13</th>\n",
              "      <td>4.5</td>\n",
              "      <td>2.3</td>\n",
              "      <td>1.3</td>\n",
              "      <td>0.3</td>\n",
              "      <td>Iris-setosa</td>\n",
              "    </tr>\n",
              "    <tr>\n",
              "      <th>14</th>\n",
              "      <td>6.7</td>\n",
              "      <td>3.3</td>\n",
              "      <td>5.7</td>\n",
              "      <td>2.1</td>\n",
              "      <td>Iris-virginica</td>\n",
              "    </tr>\n",
              "  </tbody>\n",
              "</table>\n",
              "</div>"
            ],
            "text/plain": [
              "    sepal_length_cm  sepal_width_cm  petal_length_cm  petal_width_cm  \\\n",
              "0               5.3             3.7              1.5             0.2   \n",
              "1               6.5             3.2              5.1             2.0   \n",
              "2               5.7             2.9              4.2             1.3   \n",
              "3               4.8             3.4              1.6             0.2   \n",
              "4               5.2             3.4              1.4             0.2   \n",
              "5               6.1             2.9              4.7             1.4   \n",
              "6               6.7             3.3              5.7             2.5   \n",
              "7               5.8             2.6              4.0             1.2   \n",
              "8               6.2             2.8              4.8             1.8   \n",
              "9               5.8             2.7              3.9             1.2   \n",
              "10              7.2             3.2              6.0             1.8   \n",
              "11              6.4             3.2              4.5             1.5   \n",
              "12              5.1             3.5              1.4             0.2   \n",
              "13              4.5             2.3              1.3             0.3   \n",
              "14              6.7             3.3              5.7             2.1   \n",
              "\n",
              "              class  \n",
              "0       Iris-setosa  \n",
              "1    Iris-virginica  \n",
              "2   Iris-versicolor  \n",
              "3       Iris-setosa  \n",
              "4       Iris-setosa  \n",
              "5   Iris-versicolor  \n",
              "6    Iris-virginica  \n",
              "7   Iris-versicolor  \n",
              "8    Iris-virginica  \n",
              "9   Iris-versicolor  \n",
              "10   Iris-virginica  \n",
              "11  Iris-versicolor  \n",
              "12      Iris-setosa  \n",
              "13      Iris-setosa  \n",
              "14   Iris-virginica  "
            ]
          },
          "execution_count": 298,
          "metadata": {},
          "output_type": "execute_result"
        }
      ]
    },
    {
      "cell_type": "code",
      "metadata": {
        "id": "3GJ1jP4aoWeb"
      },
      "source": [
        "def crossVali(dataSet, randSplit, classify, n, k):\n",
        "    sp = randSplit(dataSet, n)\n",
        "    result = np.array([])\n",
        "    for i in range(n):\n",
        "        test = sp[0]\n",
        "        del sp[0]\n",
        "        train = pd.concat(sp)\n",
        "        train.index = range(train.shape[0])\n",
        "        test.index = range(test.shape[0])\n",
        "        test = classify(train, test, k)\n",
        "        result = np.append(result, accuracyCalculation(test))\n",
        "        test = pd.DataFrame(test.drop(['predict'], axis = 1))\n",
        "        sp.append(test)\n",
        "    return result, result.mean(), result.var()"
      ],
      "execution_count": null,
      "outputs": []
    },
    {
      "cell_type": "code",
      "metadata": {
        "id": "PlDC7-NjoWec",
        "outputId": "0c019b4f-d87c-438e-e5fa-d7a591f1f3c7"
      },
      "source": [
        "result_cv, result_mean, result_var = crossVali(iris, randSplit_1,classify0_1, 10, 15)"
      ],
      "execution_count": null,
      "outputs": [
        {
          "name": "stdout",
          "output_type": "stream",
          "text": [
            "Model accuracy is 1.000000\n",
            "Model accuracy is 1.000000\n",
            "Model accuracy is 1.000000\n",
            "Model accuracy is 0.933333\n",
            "Model accuracy is 1.000000\n",
            "Model accuracy is 0.933333\n",
            "Model accuracy is 0.933333\n",
            "Model accuracy is 1.000000\n",
            "Model accuracy is 0.933333\n",
            "Model accuracy is 1.000000\n"
          ]
        }
      ]
    },
    {
      "cell_type": "code",
      "metadata": {
        "id": "qzV7IxszoWec",
        "outputId": "68eb9dee-09ae-4cce-ec4d-2d423434cbf3"
      },
      "source": [
        "result_cv"
      ],
      "execution_count": null,
      "outputs": [
        {
          "data": {
            "text/plain": [
              "array([1.        , 1.        , 1.        , 0.93333333, 1.        ,\n",
              "       0.93333333, 0.93333333, 1.        , 0.93333333, 1.        ])"
            ]
          },
          "execution_count": 310,
          "metadata": {},
          "output_type": "execute_result"
        }
      ]
    },
    {
      "cell_type": "code",
      "metadata": {
        "id": "kq1u496ooWec",
        "outputId": "8f257584-f664-408d-e46c-3ca557923f84"
      },
      "source": [
        "result_mean"
      ],
      "execution_count": null,
      "outputs": [
        {
          "data": {
            "text/plain": [
              "0.9733333333333334"
            ]
          },
          "execution_count": 311,
          "metadata": {},
          "output_type": "execute_result"
        }
      ]
    },
    {
      "cell_type": "code",
      "metadata": {
        "id": "vEKbqVZnoWec",
        "outputId": "901d5178-a15b-4901-8692-2b663bf69b91"
      },
      "source": [
        "result_var"
      ],
      "execution_count": null,
      "outputs": [
        {
          "data": {
            "text/plain": [
              "0.001066666666666666"
            ]
          },
          "execution_count": 312,
          "metadata": {},
          "output_type": "execute_result"
        }
      ]
    },
    {
      "cell_type": "code",
      "metadata": {
        "id": "Of031q_CoWed"
      },
      "source": [
        "def kLearningCurve_1(dataSet, classify, n, k):\n",
        "    yAc_mean = []\n",
        "    yAc_up = []\n",
        "    yAc_down = []\n",
        "    for i in range(k):\n",
        "        result_cv, result_mean, result_var = crossVali(dataSet, randSplit_1, classify, n, i+1)\n",
        "        yAc_mean.append(result_mean)\n",
        "        yAc_up.append(result_mean+result_var)\n",
        "        yAc_down.append(result_mean-result_var)\n",
        "    plt.plot(range(1, k+1), yAc_mean, '-o',color='black')\n",
        "    plt.plot(range(1, k+1), yAc_up, '--o',color='red')\n",
        "    plt.plot(range(1, k+1), yAc_down, '--o',color='red')\n",
        "    return yAc_mean, yAc_up, yAc_down"
      ],
      "execution_count": null,
      "outputs": []
    },
    {
      "cell_type": "code",
      "metadata": {
        "id": "Buta1CHLoWed",
        "outputId": "4cc2de29-609e-4c93-9faf-30b5be1d77de"
      },
      "source": [
        "kLearningCurve_1(dating_part, classify0_1, 10, 10)"
      ],
      "execution_count": null,
      "outputs": [
        {
          "name": "stdout",
          "output_type": "stream",
          "text": [
            "Model accuracy is 0.970149\n",
            "Model accuracy is 0.985075\n",
            "Model accuracy is 0.925373\n",
            "Model accuracy is 0.985075\n",
            "Model accuracy is 0.985075\n",
            "Model accuracy is 0.985075\n",
            "Model accuracy is 1.000000\n",
            "Model accuracy is 0.985075\n",
            "Model accuracy is 0.955224\n",
            "Model accuracy is 1.000000\n",
            "Model accuracy is 0.970149\n",
            "Model accuracy is 0.985075\n",
            "Model accuracy is 0.970149\n",
            "Model accuracy is 0.985075\n",
            "Model accuracy is 0.985075\n",
            "Model accuracy is 1.000000\n",
            "Model accuracy is 0.970149\n",
            "Model accuracy is 0.970149\n",
            "Model accuracy is 0.925373\n",
            "Model accuracy is 0.971429\n",
            "Model accuracy is 0.970149\n",
            "Model accuracy is 0.955224\n",
            "Model accuracy is 0.955224\n",
            "Model accuracy is 0.985075\n",
            "Model accuracy is 1.000000\n",
            "Model accuracy is 0.985075\n",
            "Model accuracy is 1.000000\n",
            "Model accuracy is 0.955224\n",
            "Model accuracy is 1.000000\n",
            "Model accuracy is 0.985714\n",
            "Model accuracy is 0.985075\n",
            "Model accuracy is 1.000000\n",
            "Model accuracy is 0.985075\n",
            "Model accuracy is 0.955224\n",
            "Model accuracy is 0.970149\n",
            "Model accuracy is 0.985075\n",
            "Model accuracy is 0.970149\n",
            "Model accuracy is 1.000000\n",
            "Model accuracy is 0.940299\n",
            "Model accuracy is 0.942857\n",
            "Model accuracy is 1.000000\n",
            "Model accuracy is 0.955224\n",
            "Model accuracy is 0.970149\n",
            "Model accuracy is 0.985075\n",
            "Model accuracy is 0.970149\n",
            "Model accuracy is 0.940299\n",
            "Model accuracy is 0.985075\n",
            "Model accuracy is 0.985075\n",
            "Model accuracy is 0.985075\n",
            "Model accuracy is 0.985714\n",
            "Model accuracy is 0.955224\n",
            "Model accuracy is 0.985075\n",
            "Model accuracy is 1.000000\n",
            "Model accuracy is 0.970149\n",
            "Model accuracy is 1.000000\n",
            "Model accuracy is 0.985075\n",
            "Model accuracy is 0.985075\n",
            "Model accuracy is 0.985075\n",
            "Model accuracy is 0.985075\n",
            "Model accuracy is 0.942857\n",
            "Model accuracy is 1.000000\n",
            "Model accuracy is 0.985075\n",
            "Model accuracy is 0.940299\n",
            "Model accuracy is 0.970149\n",
            "Model accuracy is 0.985075\n",
            "Model accuracy is 0.985075\n",
            "Model accuracy is 0.985075\n",
            "Model accuracy is 0.970149\n",
            "Model accuracy is 0.955224\n",
            "Model accuracy is 1.000000\n",
            "Model accuracy is 0.985075\n",
            "Model accuracy is 0.970149\n",
            "Model accuracy is 0.955224\n",
            "Model accuracy is 0.985075\n",
            "Model accuracy is 0.970149\n",
            "Model accuracy is 0.970149\n",
            "Model accuracy is 1.000000\n",
            "Model accuracy is 1.000000\n",
            "Model accuracy is 0.955224\n",
            "Model accuracy is 0.971429\n",
            "Model accuracy is 0.985075\n",
            "Model accuracy is 0.940299\n",
            "Model accuracy is 1.000000\n",
            "Model accuracy is 0.985075\n",
            "Model accuracy is 0.970149\n",
            "Model accuracy is 0.970149\n",
            "Model accuracy is 1.000000\n",
            "Model accuracy is 0.985075\n",
            "Model accuracy is 0.970149\n",
            "Model accuracy is 0.971429\n",
            "Model accuracy is 1.000000\n",
            "Model accuracy is 0.970149\n",
            "Model accuracy is 0.940299\n",
            "Model accuracy is 0.985075\n",
            "Model accuracy is 0.985075\n",
            "Model accuracy is 0.985075\n",
            "Model accuracy is 0.970149\n",
            "Model accuracy is 0.970149\n",
            "Model accuracy is 0.955224\n",
            "Model accuracy is 1.000000\n"
          ]
        },
        {
          "data": {
            "text/plain": [
              "([0.9776119402985074,\n",
              "  0.9732622601279319,\n",
              "  0.9791684434968018,\n",
              "  0.9733901918976546,\n",
              "  0.976183368869936,\n",
              "  0.9793603411513858,\n",
              "  0.9776119402985074,\n",
              "  0.9762473347547974,\n",
              "  0.9777398720682303,\n",
              "  0.9761194029850746],\n",
              " [0.9780686121630652,\n",
              "  0.973609159805602,\n",
              "  0.9794900282322776,\n",
              "  0.973810600970172,\n",
              "  0.9764607821386517,\n",
              "  0.9796618564200016,\n",
              "  0.9779349521051458,\n",
              "  0.9764776319438445,\n",
              "  0.9780165683916695,\n",
              "  0.9764401871240811],\n",
              " [0.9771552684339496,\n",
              "  0.9729153604502618,\n",
              "  0.9788468587613259,\n",
              "  0.9729697828251372,\n",
              "  0.9759059556012202,\n",
              "  0.97905882588277,\n",
              "  0.977288928491869,\n",
              "  0.9760170375657503,\n",
              "  0.9774631757447911,\n",
              "  0.9757986188460681])"
            ]
          },
          "execution_count": 244,
          "metadata": {},
          "output_type": "execute_result"
        },
        {
          "data": {
            "image/png": "[encoded data removed]",
            "text/plain": [
              "<Figure size 432x288 with 1 Axes>"
            ]
          },
          "metadata": {},
          "output_type": "display_data"
        }
      ]
    },
    {
      "cell_type": "code",
      "metadata": {
        "id": "VYY0vTcQoWed",
        "outputId": "71d420ec-3705-498c-c993-86a6eec4ddc4"
      },
      "source": [
        "kLearningCurve_1(dating_part, classify0_2, 10, 10)"
      ],
      "execution_count": null,
      "outputs": [
        {
          "name": "stdout",
          "output_type": "stream",
          "text": [
            "Model accuracy is 0.985075\n",
            "Model accuracy is 0.955224\n",
            "Model accuracy is 0.985075\n",
            "Model accuracy is 0.985075\n",
            "Model accuracy is 0.955224\n",
            "Model accuracy is 0.955224\n",
            "Model accuracy is 0.955224\n",
            "Model accuracy is 1.000000\n",
            "Model accuracy is 0.985075\n",
            "Model accuracy is 1.000000\n",
            "Model accuracy is 1.000000\n",
            "Model accuracy is 0.955224\n",
            "Model accuracy is 1.000000\n",
            "Model accuracy is 0.985075\n",
            "Model accuracy is 0.985075\n",
            "Model accuracy is 0.985075\n",
            "Model accuracy is 0.955224\n",
            "Model accuracy is 0.970149\n",
            "Model accuracy is 0.955224\n",
            "Model accuracy is 0.985714\n",
            "Model accuracy is 0.985075\n",
            "Model accuracy is 1.000000\n",
            "Model accuracy is 0.970149\n",
            "Model accuracy is 0.985075\n",
            "Model accuracy is 0.985075\n",
            "Model accuracy is 0.970149\n",
            "Model accuracy is 0.955224\n",
            "Model accuracy is 0.940299\n",
            "Model accuracy is 0.970149\n",
            "Model accuracy is 0.971429\n",
            "Model accuracy is 0.970149\n",
            "Model accuracy is 1.000000\n",
            "Model accuracy is 0.970149\n",
            "Model accuracy is 0.985075\n",
            "Model accuracy is 1.000000\n",
            "Model accuracy is 0.970149\n",
            "Model accuracy is 1.000000\n",
            "Model accuracy is 0.970149\n",
            "Model accuracy is 1.000000\n",
            "Model accuracy is 0.900000\n",
            "Model accuracy is 0.985075\n",
            "Model accuracy is 0.955224\n",
            "Model accuracy is 0.955224\n",
            "Model accuracy is 0.985075\n",
            "Model accuracy is 0.970149\n",
            "Model accuracy is 0.970149\n",
            "Model accuracy is 0.985075\n",
            "Model accuracy is 1.000000\n",
            "Model accuracy is 0.940299\n",
            "Model accuracy is 0.985714\n",
            "Model accuracy is 1.000000\n",
            "Model accuracy is 0.955224\n",
            "Model accuracy is 0.925373\n",
            "Model accuracy is 0.985075\n",
            "Model accuracy is 0.970149\n",
            "Model accuracy is 0.955224\n",
            "Model accuracy is 0.970149\n",
            "Model accuracy is 0.970149\n",
            "Model accuracy is 1.000000\n",
            "Model accuracy is 0.957143\n",
            "Model accuracy is 0.985075\n",
            "Model accuracy is 0.970149\n",
            "Model accuracy is 1.000000\n",
            "Model accuracy is 0.970149\n",
            "Model accuracy is 0.940299\n",
            "Model accuracy is 0.940299\n",
            "Model accuracy is 0.940299\n",
            "Model accuracy is 0.955224\n",
            "Model accuracy is 0.955224\n",
            "Model accuracy is 0.971429\n",
            "Model accuracy is 0.970149\n",
            "Model accuracy is 0.985075\n",
            "Model accuracy is 0.940299\n",
            "Model accuracy is 0.955224\n",
            "Model accuracy is 0.970149\n",
            "Model accuracy is 0.970149\n",
            "Model accuracy is 0.955224\n",
            "Model accuracy is 1.000000\n",
            "Model accuracy is 0.955224\n",
            "Model accuracy is 0.942857\n",
            "Model accuracy is 0.955224\n",
            "Model accuracy is 0.925373\n",
            "Model accuracy is 0.955224\n",
            "Model accuracy is 0.970149\n",
            "Model accuracy is 0.925373\n",
            "Model accuracy is 1.000000\n",
            "Model accuracy is 0.955224\n",
            "Model accuracy is 0.940299\n",
            "Model accuracy is 0.985075\n",
            "Model accuracy is 0.957143\n",
            "Model accuracy is 0.940299\n",
            "Model accuracy is 0.940299\n",
            "Model accuracy is 0.970149\n",
            "Model accuracy is 0.940299\n",
            "Model accuracy is 0.970149\n",
            "Model accuracy is 0.940299\n",
            "Model accuracy is 0.970149\n",
            "Model accuracy is 0.970149\n",
            "Model accuracy is 0.940299\n",
            "Model accuracy is 0.914286\n"
          ]
        },
        {
          "data": {
            "text/plain": [
              "([0.9761194029850746,\n",
              "  0.9776759061833689,\n",
              "  0.9732622601279317,\n",
              "  0.9765671641791045,\n",
              "  0.9731982942430705,\n",
              "  0.9688486140724948,\n",
              "  0.9628144989339018,\n",
              "  0.9644349680170576,\n",
              "  0.956908315565032,\n",
              "  0.9496375266524522],\n",
              " [0.9764401871240811,\n",
              "  0.9779553561767768,\n",
              "  0.9735200531003223,\n",
              "  0.9773967698819336,\n",
              "  0.9735028214092499,\n",
              "  0.9693093725705921,\n",
              "  0.9631841208214182,\n",
              "  0.9647441210032688,\n",
              "  0.9574182100463264,\n",
              "  0.9499744027350304],\n",
              " [0.9757986188460681,\n",
              "  0.977396456189961,\n",
              "  0.9730044671555411,\n",
              "  0.9757375584762754,\n",
              "  0.972893767076891,\n",
              "  0.9683878555743974,\n",
              "  0.9624448770463854,\n",
              "  0.9641258150308465,\n",
              "  0.9563984210837375,\n",
              "  0.9493006505698739])"
            ]
          },
          "execution_count": 245,
          "metadata": {},
          "output_type": "execute_result"
        },
        {
          "data": {
            "image/png": "[encoded data removed]",
            "text/plain": [
              "<Figure size 432x288 with 1 Axes>"
            ]
          },
          "metadata": {},
          "output_type": "display_data"
        }
      ]
    },
    {
      "cell_type": "code",
      "metadata": {
        "id": "x64Bbmt9oWed"
      },
      "source": [
        ""
      ],
      "execution_count": null,
      "outputs": []
    }
  ]
}