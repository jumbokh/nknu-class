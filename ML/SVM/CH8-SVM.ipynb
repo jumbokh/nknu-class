{
 "cells": [
  {
   "cell_type": "markdown",
   "source": [
    "### 全華， 用機器學習掌握人工智慧， 徐聖訓\r\n",
    "### https://drive.google.com/drive/folders/1gfItaJzpfBsRqdXKs-oiTVg3O4lzBXQY?usp=sharing"
   ],
   "metadata": {}
  },
  {
   "cell_type": "code",
   "execution_count": null,
   "source": [
    "import pandas as pd\r\n",
    "import numpy as np\r\n",
    "import matplotlib.pyplot as plt\r\n",
    "import seaborn as sns\r\n",
    "%matplotlib inline\r\n",
    "plt.rcParams['font.sans-serif'] = ['DFKai-sb'] \r\n",
    "plt.rcParams['axes.unicode_minus'] = False\r\n",
    "%config InlineBackend.figure_format = 'retina'\r\n",
    "import warnings\r\n",
    "warnings.filterwarnings('ignore')\r\n",
    "\r\n",
    "df = pd.read_csv('titanic_train.csv')\r\n",
    "df.head(1)"
   ],
   "outputs": [],
   "metadata": {}
  },
  {
   "cell_type": "code",
   "execution_count": null,
   "source": [
    "df.info()"
   ],
   "outputs": [],
   "metadata": {}
  },
  {
   "cell_type": "code",
   "execution_count": null,
   "source": [
    "pd.concat([df['Survived'].value_counts(),\r\n",
    "          df['Survived'].value_counts(normalize=True)], \r\n",
    "          axis=1, keys=['個數','百分比'])"
   ],
   "outputs": [],
   "metadata": {}
  },
  {
   "cell_type": "code",
   "execution_count": null,
   "source": [
    "df = df.drop(['PassengerId', 'Name', 'Ticket', 'Cabin'], axis=1)\r\n",
    "df.head()"
   ],
   "outputs": [],
   "metadata": {}
  },
  {
   "cell_type": "code",
   "execution_count": null,
   "source": [
    "df.isnull().sum()"
   ],
   "outputs": [],
   "metadata": {}
  },
  {
   "cell_type": "code",
   "execution_count": null,
   "source": [
    "sns.pairplot(data=df, hue='Survived',\r\n",
    "             size=2, diag_kws={'bw':0.1});"
   ],
   "outputs": [],
   "metadata": {}
  },
  {
   "cell_type": "code",
   "execution_count": null,
   "source": [
    "df.groupby('Sex')['Survived'].value_counts().\\\r\n",
    "unstack(1).plot(kind='bar', figsize=(5,3));"
   ],
   "outputs": [],
   "metadata": {}
  },
  {
   "cell_type": "code",
   "execution_count": null,
   "source": [
    "sns.countplot(x='Sex', order=['female','male'], \r\n",
    "              hue='Survived', data=df);"
   ],
   "outputs": [],
   "metadata": {}
  },
  {
   "cell_type": "code",
   "execution_count": null,
   "source": [
    "df.groupby('Survived')['Age'].plot(kind='hist', alpha=0.6, \r\n",
    "                                   bins=30, legend=True);"
   ],
   "outputs": [],
   "metadata": {}
  },
  {
   "cell_type": "code",
   "execution_count": null,
   "source": [
    "X_col_num = ['Age', 'SibSp', 'Parch', 'Fare']\r\n",
    "X_col_cat = ['Pclass', 'Sex', 'Embarked']\r\n",
    "X_cols = X_col_num + X_col_cat\r\n",
    "y_col = 'Survived'"
   ],
   "outputs": [],
   "metadata": {}
  },
  {
   "cell_type": "code",
   "execution_count": null,
   "source": [
    "from sklearn.impute import SimpleImputer\r\n",
    "from sklearn.preprocessing import StandardScaler\r\n",
    "from sklearn.pipeline import make_pipeline\r\n",
    "num_pl = make_pipeline(\r\n",
    "    SimpleImputer(strategy='median'),\r\n",
    "    StandardScaler()\r\n",
    ")\r\n",
    "#檢查數值管道器的運作  \r\n",
    "print(f'數值型資料的欄位有：{X_col_num}')\r\n",
    "num_pl.fit_transform(df[X_col_num])[:3]"
   ],
   "outputs": [],
   "metadata": {}
  },
  {
   "cell_type": "code",
   "execution_count": null,
   "source": [
    "from sklearn.preprocessing import OneHotEncoder\r\n",
    "cat_pl = make_pipeline(\r\n",
    "    SimpleImputer(strategy='most_frequent'),\r\n",
    "    OneHotEncoder(sparse=False)\r\n",
    ")\r\n",
    "# 檢查類別管道器的運作  \r\n",
    "cat_pl.fit_transform(df[X_col_cat])[:3]"
   ],
   "outputs": [],
   "metadata": {}
  },
  {
   "cell_type": "code",
   "execution_count": null,
   "source": [
    "oh = cat_pl.named_steps['onehotencoder']\r\n",
    "oh_cols = oh.get_feature_names(X_col_cat)\r\n",
    "oh_cols"
   ],
   "outputs": [],
   "metadata": {}
  },
  {
   "cell_type": "code",
   "execution_count": null,
   "source": [
    "pd.DataFrame(cat_pl.fit_transform(df[X_col_cat]), \r\n",
    "             columns=oh_cols).head()"
   ],
   "outputs": [],
   "metadata": {}
  },
  {
   "cell_type": "code",
   "execution_count": null,
   "source": [
    "from sklearn.compose import ColumnTransformer\r\n",
    "data_pl = ColumnTransformer([\r\n",
    "    ('num_pl', num_pl, X_col_num),\r\n",
    "    ('cat_pl', cat_pl, X_col_cat)\r\n",
    "])\r\n",
    "data_pl.fit_transform(df[X_cols])[:1].round(2)"
   ],
   "outputs": [],
   "metadata": {}
  },
  {
   "cell_type": "code",
   "execution_count": null,
   "source": [
    "from sklearn.model_selection import train_test_split\r\n",
    "X = df[X_cols]\r\n",
    "y = df[y_col]\r\n",
    "X_train, X_test, y_train, y_test = train_test_split(X, y, test_size=0.33, random_state=42)"
   ],
   "outputs": [],
   "metadata": {}
  },
  {
   "cell_type": "code",
   "execution_count": null,
   "source": [
    "from sklearn.svm import SVC\r\n",
    "model_pl_svc = make_pipeline(data_pl, SVC())\r\n",
    "model_pl_svc"
   ],
   "outputs": [],
   "metadata": {}
  },
  {
   "cell_type": "code",
   "execution_count": null,
   "source": [
    "from sklearn.metrics import confusion_matrix, accuracy_score, classification_report\r\n",
    "model_pl_svc.fit(X_train, y_train)\r\n",
    "y_pred = model_pl_svc.predict(X_test)\r\n",
    "print('正確率：', accuracy_score(y_test, y_pred).round(2))\r\n",
    "print('混亂矩陣')\r\n",
    "print(confusion_matrix(y_test, y_pred))\r\n",
    "print('綜合報告')\r\n",
    "print(classification_report(y_test, y_pred))"
   ],
   "outputs": [],
   "metadata": {}
  },
  {
   "cell_type": "code",
   "execution_count": null,
   "source": [
    "from sklearn.linear_model import LogisticRegression\r\n",
    "model_pl_lr = make_pipeline(data_pl, LogisticRegression())\r\n",
    "model_pl_lr.fit(X_train, y_train)\r\n",
    "y_pred = model_pl_lr.predict(X_test)\r\n",
    "print('正確率：', accuracy_score(y_test, y_pred).round(2))\r\n",
    "print('混亂矩陣')\r\n",
    "print(confusion_matrix(y_test, y_pred))\r\n",
    "print('綜合報告')\r\n",
    "print(classification_report(y_test, y_pred))"
   ],
   "outputs": [],
   "metadata": {}
  },
  {
   "cell_type": "code",
   "execution_count": null,
   "source": [
    "data_pl = ColumnTransformer([\r\n",
    "    ('num_pl', num_pl, ['Age', 'SibSp', 'Parch', 'Fare', 'Pclass']),\r\n",
    "    ('cat_pl', cat_pl, ['Sex', 'Embarked'])\r\n",
    "])\r\n",
    "model_pl_svc = make_pipeline(data_pl, SVC())\r\n",
    "model_pl_svc.fit(X_train, y_train)\r\n",
    "y_pred = model_pl_svc.predict(X_test)\r\n",
    "print('正確率：', accuracy_score(y_test, y_pred).round(2))\r\n",
    "print('混亂矩陣')\r\n",
    "print(confusion_matrix(y_test, y_pred))"
   ],
   "outputs": [],
   "metadata": {}
  },
  {
   "cell_type": "code",
   "execution_count": null,
   "source": [
    "from sklearn.feature_selection import SelectKBest, f_classif\r\n",
    "data_pl = ColumnTransformer([\r\n",
    "    ('num_pl', num_pl, X_col_num),\r\n",
    "    ('cat_pl', cat_pl, X_col_cat)\r\n",
    "])\r\n",
    "model_pl_svc = make_pipeline(data_pl, \r\n",
    "                             SelectKBest(f_classif, 3), \r\n",
    "                             SVC())\r\n",
    "model_pl_svc.fit(X_train, y_train)\r\n",
    "y_pred = model_pl_svc.predict(X_test)\r\n",
    "print('正確率：', accuracy_score(y_test, y_pred).round(2))\r\n",
    "print('混亂矩陣')\r\n",
    "print(confusion_matrix(y_test, y_pred))"
   ],
   "outputs": [],
   "metadata": {}
  },
  {
   "cell_type": "code",
   "execution_count": null,
   "source": [
    "# 先取到所有欄位名稱含獨熱編碼的欄位\r\n",
    "cols = X_col_num + oh_cols.tolist()\r\n",
    "selector = model_pl_svc.named_steps['selectkbest']\r\n",
    "# 先將資料變成array的資料型態，再用布林值取出欄位名稱\r\n",
    "np.array(cols)[selector.get_support()]"
   ],
   "outputs": [],
   "metadata": {}
  },
  {
   "cell_type": "code",
   "execution_count": null,
   "source": [
    "from sklearn.preprocessing import KBinsDiscretizer\r\n",
    "# 欄位\r\n",
    "X_col_num = ['Fare', 'Age']\r\n",
    "X_col_bin = ['SibSp', 'Parch']\r\n",
    "X_col_cat = ['Pclass', 'Sex', 'Embarked']\r\n",
    "# 資料管道器\r\n",
    "num_pl = make_pipeline(\r\n",
    "    SimpleImputer(strategy='mean'),\r\n",
    "    StandardScaler()\r\n",
    ")\r\n",
    "bin_pl = make_pipeline(\r\n",
    "    SimpleImputer(strategy='mean'),\r\n",
    "    KBinsDiscretizer(n_bins=5, encode='ordinal'),\r\n",
    ")\r\n",
    "cat_pl = make_pipeline(\r\n",
    "    SimpleImputer(strategy='constant', fill_value='missing'),\r\n",
    "    OneHotEncoder()\r\n",
    ")\r\n",
    "# 合併後的資料管道器\r\n",
    "data_pl = ColumnTransformer([\r\n",
    "    ('num', num_pl, X_col_num),\r\n",
    "    ('bin', bin_pl, X_col_bin),\r\n",
    "    ('cat', cat_pl, X_col_cat)\r\n",
    "])\r\n",
    "# 模型預測\r\n",
    "model_pl = make_pipeline(data_pl, SVC())\r\n",
    "model_pl.fit(X_train, y_train)\r\n",
    "y_pred = model_pl.predict(X_test)\r\n",
    "print(confusion_matrix(y_test, y_pred))\r\n",
    "print('整體正確率:',accuracy_score(y_test, y_pred).round(2))"
   ],
   "outputs": [],
   "metadata": {}
  }
 ],
 "metadata": {
  "orig_nbformat": 4,
  "language_info": {
   "name": "python"
  }
 },
 "nbformat": 4,
 "nbformat_minor": 2
}