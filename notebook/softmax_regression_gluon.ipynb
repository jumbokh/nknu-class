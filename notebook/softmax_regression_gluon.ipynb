{
  "nbformat": 4,
  "nbformat_minor": 0,
  "metadata": {
    "language_info": {
      "name": "python"
    },
    "colab": {
      "name": "softmax-regression-gluon.ipynb",
      "provenance": [],
      "include_colab_link": true
    }
  },
  "cells": [
    {
      "cell_type": "markdown",
      "metadata": {
        "id": "view-in-github",
        "colab_type": "text"
      },
      "source": [
        "<a href=\"https://colab.research.google.com/github/jumbokh/nknu-class/blob/main/notebook/softmax_regression_gluon.ipynb\" target=\"_parent\"><img src=\"https://colab.research.google.com/assets/colab-badge.svg\" alt=\"Open In Colab\"/></a>"
      ]
    },
    {
      "cell_type": "markdown",
      "metadata": {
        "id": "R8J9Crzmba1K"
      },
      "source": [
        "# softmax回归的简洁实现\n",
        "\n",
        "我们在[“线性回归的简洁实现”](linear-regression-gluon.ipynb)一节中已经了解了使用Gluon实现模型的便利。下面，让我们再次使用Gluon来实现一个softmax回归模型。首先导入所需的包或模块。"
      ]
    },
    {
      "cell_type": "code",
      "metadata": {
        "attributes": {
          "classes": [],
          "id": "",
          "n": "1"
        },
        "id": "SRnlqOmeba1Q"
      },
      "source": [
        "%matplotlib inline\n",
        "import d2lzh as d2l\n",
        "from mxnet import gluon, init\n",
        "from mxnet.gluon import loss as gloss, nn"
      ],
      "execution_count": null,
      "outputs": []
    },
    {
      "cell_type": "markdown",
      "metadata": {
        "id": "imU2o7COba1T"
      },
      "source": [
        "## 获取和读取数据\n",
        "\n",
        "我们仍然使用Fashion-MNIST数据集和上一节中设置的批量大小。"
      ]
    },
    {
      "cell_type": "code",
      "metadata": {
        "attributes": {
          "classes": [],
          "id": "",
          "n": "2"
        },
        "id": "296c-Xx-ba1V"
      },
      "source": [
        "batch_size = 256\n",
        "train_iter, test_iter = d2l.load_data_fashion_mnist(batch_size)"
      ],
      "execution_count": null,
      "outputs": []
    },
    {
      "cell_type": "markdown",
      "metadata": {
        "id": "7QtL0PLbba1W"
      },
      "source": [
        "## 定义和初始化模型\n",
        "\n",
        "在[“softmax回归”](softmax-regression.ipynb)一节中提到，softmax回归的输出层是一个全连接层。因此，我们添加一个输出个数为10的全连接层。我们使用均值为0、标准差为0.01的正态分布随机初始化模型的权重参数。"
      ]
    },
    {
      "cell_type": "code",
      "metadata": {
        "attributes": {
          "classes": [],
          "id": "",
          "n": "3"
        },
        "id": "GJUEmMpuba1W"
      },
      "source": [
        "net = nn.Sequential()\n",
        "net.add(nn.Dense(10))\n",
        "net.initialize(init.Normal(sigma=0.01))"
      ],
      "execution_count": null,
      "outputs": []
    },
    {
      "cell_type": "markdown",
      "metadata": {
        "id": "zeO4dceCba1Y"
      },
      "source": [
        "## softmax和交叉熵损失函数\n",
        "\n",
        "如果做了上一节的练习，那么你可能意识到了分开定义softmax运算和交叉熵损失函数可能会造成数值不稳定。因此，Gluon提供了一个包括softmax运算和交叉熵损失计算的函数。它的数值稳定性更好。"
      ]
    },
    {
      "cell_type": "code",
      "metadata": {
        "attributes": {
          "classes": [],
          "id": "",
          "n": "4"
        },
        "id": "9MtRMtchba1a"
      },
      "source": [
        "loss = gloss.SoftmaxCrossEntropyLoss()"
      ],
      "execution_count": null,
      "outputs": []
    },
    {
      "cell_type": "markdown",
      "metadata": {
        "id": "x-8B7odmba1c"
      },
      "source": [
        "## 定义优化算法\n",
        "\n",
        "我们使用学习率为0.1的小批量随机梯度下降作为优化算法。"
      ]
    },
    {
      "cell_type": "code",
      "metadata": {
        "attributes": {
          "classes": [],
          "id": "",
          "n": "5"
        },
        "id": "67KI8G9aba1e"
      },
      "source": [
        "trainer = gluon.Trainer(net.collect_params(), 'sgd', {'learning_rate': 0.1})"
      ],
      "execution_count": null,
      "outputs": []
    },
    {
      "cell_type": "markdown",
      "metadata": {
        "id": "kLnyjOb_ba1f"
      },
      "source": [
        "## 训练模型\n",
        "\n",
        "接下来，我们使用上一节中定义的训练函数来训练模型。"
      ]
    },
    {
      "cell_type": "code",
      "metadata": {
        "attributes": {
          "classes": [],
          "id": "",
          "n": "6"
        },
        "id": "NlHvJmddba1g",
        "outputId": "8f4c4362-6240-4963-b3e2-dd9d0f6f2f5f"
      },
      "source": [
        "num_epochs = 5\n",
        "d2l.train_ch3(net, train_iter, test_iter, loss, num_epochs, batch_size, None,\n",
        "              None, trainer)"
      ],
      "execution_count": null,
      "outputs": [
        {
          "name": "stdout",
          "output_type": "stream",
          "text": [
            "epoch 1, loss 0.7898, train acc 0.748, test acc 0.804\n"
          ]
        },
        {
          "name": "stdout",
          "output_type": "stream",
          "text": [
            "epoch 2, loss 0.5736, train acc 0.811, test acc 0.825\n"
          ]
        },
        {
          "name": "stdout",
          "output_type": "stream",
          "text": [
            "epoch 3, loss 0.5287, train acc 0.824, test acc 0.828\n"
          ]
        },
        {
          "name": "stdout",
          "output_type": "stream",
          "text": [
            "epoch 4, loss 0.5044, train acc 0.831, test acc 0.834\n"
          ]
        },
        {
          "name": "stdout",
          "output_type": "stream",
          "text": [
            "epoch 5, loss 0.4896, train acc 0.834, test acc 0.839\n"
          ]
        }
      ]
    },
    {
      "cell_type": "markdown",
      "metadata": {
        "id": "TOcTiZw3ba1i"
      },
      "source": [
        "## 小结\n",
        "\n",
        "* Gluon提供的函数往往具有更好的数值稳定性。\n",
        "* 可以使用Gluon更简洁地实现softmax回归。\n",
        "\n",
        "## 练习\n",
        "\n",
        "* 尝试调一调超参数，如批量大小、迭代周期和学习率，看看结果会怎样。\n",
        "\n",
        "\n",
        "\n",
        "## 扫码直达[讨论区](https://discuss.gluon.ai/t/topic/740)\n",
        "\n",
        "![](../img/qr_softmax-regression-gluon.svg)"
      ]
    }
  ]
}