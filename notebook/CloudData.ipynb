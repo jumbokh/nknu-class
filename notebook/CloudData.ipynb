{
  "nbformat": 4,
  "nbformat_minor": 0,
  "metadata": {
    "colab": {
      "name": "CloudData.ipynb",
      "provenance": [],
      "authorship_tag": "ABX9TyPYEaijXrWBKDEkur0z/L4l",
      "include_colab_link": true
    },
    "kernelspec": {
      "name": "python3",
      "display_name": "Python 3"
    },
    "language_info": {
      "name": "python"
    }
  },
  "cells": [
    {
      "cell_type": "markdown",
      "metadata": {
        "id": "view-in-github",
        "colab_type": "text"
      },
      "source": [
        "<a href=\"https://colab.research.google.com/github/jumbokh/nknu-class/blob/main/notebook/CloudData.ipynb\" target=\"_parent\"><img src=\"https://colab.research.google.com/assets/colab-badge.svg\" alt=\"Open In Colab\"/></a>"
      ]
    },
    {
      "cell_type": "code",
      "metadata": {
        "colab": {
          "base_uri": "https://localhost:8080/"
        },
        "id": "4SJqj4yKU6kq",
        "outputId": "575702e1-087c-404b-b9f3-cad5fc5b1764"
      },
      "source": [
        "from google.colab import drive\n",
        "drive.mount('/content/gdrive')"
      ],
      "execution_count": 1,
      "outputs": [
        {
          "output_type": "stream",
          "name": "stdout",
          "text": [
            "Mounted at /content/gdrive\n"
          ]
        }
      ]
    },
    {
      "cell_type": "code",
      "metadata": {
        "id": "ccGg1GrCVC2v"
      },
      "source": [
        "!ln -fs /content/gdrive/My\\ Drive /app"
      ],
      "execution_count": 3,
      "outputs": []
    },
    {
      "cell_type": "code",
      "metadata": {
        "colab": {
          "base_uri": "https://localhost:8080/"
        },
        "id": "dLnxck_oVF_B",
        "outputId": "c2ca1ee7-a9df-4d7e-d00a-dd2e747a9054"
      },
      "source": [
        "!ls /app/DL_Book"
      ],
      "execution_count": 4,
      "outputs": [
        {
          "output_type": "stream",
          "name": "stdout",
          "text": [
            " audio\t\t    images_Object_Detection   src\n",
            " cascade_files\t    images_ocr\t\t      static\n",
            " chatbot_data\t    images_test\t\t      style_transfer\n",
            " Custom_data\t    jieba\t\t     'Tensorflow 安裝.md'\n",
            " data\t\t    lib\t\t\t      TicTacToe_1\n",
            " data_download.md   MaskRCNN_weights\t      video\n",
            " data.zip\t    myDigits\t\t      YOLO4\n",
            " dialogflow\t    NLP_data\t\t      YOLO_weights\n",
            " FAQ\t\t    rasa\t\t      勘誤表.md\n",
            " images\t\t    README.md\t\t      封面1.jpeg\n",
            " images_face\t    RNN\n"
          ]
        }
      ]
    },
    {
      "cell_type": "code",
      "metadata": {
        "colab": {
          "base_uri": "https://localhost:8080/"
        },
        "id": "X3w_plMZVK6b",
        "outputId": "8da1d94c-3665-44c8-cd22-7ad4a811e933"
      },
      "source": [
        "%cd /app/DL_Book/src"
      ],
      "execution_count": 5,
      "outputs": [
        {
          "output_type": "stream",
          "name": "stdout",
          "text": [
            "/content/gdrive/My Drive/DL_Book/src\n"
          ]
        }
      ]
    },
    {
      "cell_type": "code",
      "metadata": {
        "colab": {
          "base_uri": "https://localhost:8080/"
        },
        "id": "IOUJHoImVfH2",
        "outputId": "0f25e1e7-5c09-4b2e-a07f-ad4226b7d1e0"
      },
      "source": [
        "!ls"
      ],
      "execution_count": 6,
      "outputs": [
        {
          "output_type": "stream",
          "name": "stdout",
          "text": [
            " 02_2_1_線性代數_向量.ipynb\n",
            " 02_2_2_線性代數_矩陣.ipynb\n",
            " 02_2_3_聯立方程式求解.ipynb\n",
            " 02_3_1_微分.ipynb\n",
            " 02_3_2_偏微分.ipynb\n",
            " 02_3_3_線性迴歸.ipynb\n",
            " 02_3_4_積分.ipynb\n",
            " 02_4_1_特徵轉換.ipynb\n",
            " 02_4_2_抽樣.ipynb\n",
            " 02_4_3_基礎統計.ipynb\n",
            " 02_4_4_機率.ipynb\n",
            " 02_4_5_1_常態分配.ipynb\n",
            " 02_4_5_2_其他分配.ipynb\n",
            " 02_4_6_1_信賴區間.ipynb\n",
            " 02_4_6_2_中央極限定理.ipynb\n",
            " 02_4_6_3_假設檢定.ipynb\n",
            " 02_5_線性規劃.ipynb\n",
            " 02_6_1_最小平方法.ipynb\n",
            " 02_6_2_最大概似法.ipynb\n",
            " 02_7_梯度下降法.ipynb\n",
            " 03_1_張量運算.ipynb\n",
            " 03_2_自動微分.ipynb\n",
            " 03_3_簡單線性迴歸.ipynb\n",
            " 03_4_簡單的完全連階層.ipynb\n",
            " 04_01_手寫阿拉伯數字辨識.ipynb\n",
            " 04_02_手寫阿拉伯數字辨識_完整版.ipynb\n",
            " 04_03_FashionMnist_實驗.ipynb\n",
            " 04_03_手寫阿拉伯數字辨識_實驗1.ipynb\n",
            " 04_03_手寫阿拉伯數字辨識_實驗2.ipynb\n",
            " 04_03_手寫阿拉伯數字辨識_實驗3.ipynb\n",
            " 04_03_手寫阿拉伯數字辨識_實驗4.ipynb\n",
            " 04_03_手寫阿拉伯數字辨識_實驗5.ipynb\n",
            " 04_03_手寫阿拉伯數字辨識_實驗6.ipynb\n",
            " 04_04_keras_tuner_超參數調校.ipynb\n",
            "'04_05_ Sequential_model.ipynb'\n",
            "'04_06_ Functional_API.ipynb'\n",
            " 04_07_神經層.ipynb\n",
            " 04_08_Activation_Function.ipynb\n",
            " 04_09_Loss_Function.ipynb\n",
            " 04_10_Optimizer.ipynb\n",
            " 04_11_Metrics.ipynb\n",
            " 05_01_特徵轉換.ipynb\n",
            " 05_02_模型存檔與載入.ipynb\n",
            " 05_03_模型彙總與結構圖.ipynb\n",
            " 05_04_Callback.ipynb\n",
            " 05_05_Custom_Callback.ipynb\n",
            " 05_06_Custom_Callback_loss.ipynb\n",
            " 05_07_TensorBoard.ipynb\n",
            " 05_08_TensorBoard_Tuning.ipynb\n",
            " 05_09_What_If_Tool_Notebook_Usage.ipynb\n",
            " 05_10_web.py\n",
            " 05_11_tf_serving_client.py\n",
            " 05_12_Dataset.ipynb\n",
            " 05_13_TFRecord.ipynb\n",
            " 05_14_TextLineDataset.ipynb\n",
            " 06_01_convolutions.ipynb\n",
            " 06_02_MNIST_CNN.ipynb\n",
            " 06_03_Cifar_gray_CNN.ipynb\n",
            " 06_04_Cifar_RGB_CNN.ipynb\n",
            " 06_05_Data_Augmentation_MNIST.ipynb\n",
            " 06_06_Data_Augmentation_Pets.ipynb\n",
            " 06_07_CNN_Visualization.ipynb\n",
            " 06_08_Shap_MNIST.ipynb\n",
            " 07_01_Keras_applications.ipynb\n",
            " 07_02_圖像相似度比較.ipynb\n",
            " 07_03_Flower_ResNet.ipynb\n",
            " 08_01_Sliding_Window_And_Image_Pyramid.ipynb\n",
            " 08_01_Sliding_Window.py\n",
            " 08_02_HOG-Face-Detection-1.py\n",
            " 08_02_HOG-Face-Detection-2.py\n",
            " 08_02_HOG-Face-Detection.ipynb\n",
            " 08_03_Object_Detection.ipynb\n",
            " 08_04_RCNN.ipynb\n",
            " 08_05_YOLO_Keras_Conversion.ipynb\n",
            " 08_06_YOLO_Keras_Test.ipynb\n",
            "'08_07_ Tensorflow-Yolov4_Test.ipynb'\n",
            " 08_08_Tensorflow_Object_Detection_API_Test.ipynb\n",
            " 08_09_Tensorflow_Object_Detection_API_Video.ipynb\n",
            " 09_01_MNIST_Autoencoder.ipynb\n",
            " 09_02_MNIST_VAE.ipynb\n",
            " 09_03_Image_segmentation.ipynb\n",
            " 09_04_Mask_R-CNN_Test.ipynb\n",
            " 09_05_Neural_Style_Transfer.ipynb\n",
            " 09_05_Neural_Style_Transfer_Loss.ipynb\n",
            " 09_06_臉部偵測_opencv.ipynb\n",
            " 09_07_臉部偵測_mtcnn.ipynb\n",
            " 09_08_臉部偵測_Face_Recognition.ipynb\n",
            " 09_09_臉部追蹤_Face_Recognition.ipynb\n",
            " 09_10_臉部追蹤_webcam.ipynb\n",
            " 09_11_臉部特徵點偵測.ipynb\n",
            " 09_12_臉部特徵點偵測_OpenCV.ipynb\n",
            " 09_13_臉部驗證.ipynb\n",
            " 09_14_OCR.ipynb\n",
            " 09_15_車牌辨識.ipynb\n",
            " 10_01_DCGAN_MNIST.ipynb\n",
            " 10_02_DCGAN_Face.ipynb\n",
            " 10_03_PGGAN_Face.ipynb\n",
            " 10_04_CGAN_FashionMNIST.ipynb\n",
            "'10_05_ Pix2Pix.ipynb'\n",
            "'10_06_ CycleGAN.ipynb'\n",
            " 11_01_BOW.ipynb\n",
            " 11_02_TFIDF.ipynb\n",
            " 11_03_字詞前置處理.ipynb\n",
            " 11_04_gensim_相似性比較.ipynb\n",
            " 11_05_gensim_Word2Vec.ipynb\n",
            " 11_06_GloVe.ipynb\n",
            " 11_07_中文_NLP.ipynb\n",
            " 11_08_spaCy_test.ipynb\n",
            " 12_01_RNN_test.ipynb\n",
            " 12_02_LSTM_IMDB.ipynb\n",
            " 12_03_LSTM_IMDB_Text.ipynb\n",
            " 12_04_LSTM_參數測試.ipynb\n",
            " 12_04_Sentiment_Analysis.ipynb\n",
            " 12_05_Stacked_LSTM.ipynb\n",
            " 12_06_Stock_Forecast_2.ipynb\n",
            " 12_06_Stock_Forecast.ipynb\n",
            " 12_07_機器翻譯_attention.ipynb\n",
            " 12_07_機器翻譯.ipynb\n",
            " 12_08_BERT_情緒分析.ipynb\n",
            " 12_09_BERT_問題回答.ipynb\n",
            " 12_10_BERT_填漏字.ipynb\n",
            " 12_11_GPT2_文字生成.ipynb\n",
            " 12_12_BERT_NER.ipynb\n",
            " 12_13_文字摘要.ipynb\n",
            " 12_14_T5_翻譯.ipynb\n",
            " 12_15_BERT_Text_classification_on_GLUE.ipynb\n",
            " 12_15_BERT_Train.ipynb\n",
            " 12_15_BERT_Train_old.ipynb\n",
            " 13_01_simple_chatbot.ipynb\n",
            " 13_02_ChatterBot_test.ipynb\n",
            " 13_03_chatbotAI_test.ipynb\n",
            "'13_04_ Rasa_test.ipynb'\n",
            "'14_01_振幅(Amplitude)、頻率(Frequency)及相位(Phase).ipynb'\n",
            " 14_02_音檔解析.ipynb\n",
            " 14_03_錄音.ipynb\n",
            " 14_04_waves.py\n",
            " 14_05_spectrogram.py\n",
            " 14_06_音訊前置處理.zip\n",
            " 14_07_python_speech_features.ipynb\n",
            " 14_08_音樂曲風分類.ipynb\n",
            " 14_09_短指令辨識.ipynb\n",
            " 14_09_短指令辨識_old.ipynb\n",
            " 14_10_record.py\n",
            " 14_11_SVM_短指令辨識.ipynb\n",
            " audio_preprocess.py\n",
            " cnn_desktop\n",
            " cnn_web\n",
            " database.sqlite3\n",
            " db.sqlite3\n",
            " Detectron2_Tutorial.zip\n",
            " dialogflow\n",
            " draw_Grid_World.py\n",
            " draw_roc.ipynb\n",
            " facerec_from_video_file.py\n",
            " formula\n",
            " GpuQuery.py\n",
            " images\n",
            " images_ocr\n",
            " mnist_model.h5\n",
            " my_adapter.py\n",
            " play_gif.py\n",
            " RL_15_01_simple_game.py\n",
            " RL_15_02_simple_game_test.py\n",
            " RL_15_03_simple_game_with_state_value.ipynb\n",
            " RL_15_04_Gym.ipynb\n",
            " RL_15_05_CartPole.ipynb\n",
            " RL_15_06_Action_Wrapper_test.py\n",
            " RL_15_07_Record_test.py\n",
            " RL_15_08_Fibonacci_Calculation.ipynb\n",
            " RL_15_09_Policy_Evaluation.ipynb\n",
            " RL_15_10_Policy_Iteration.ipynb\n",
            " RL_15_11_Value_Iteration.ipynb\n",
            " RL_15_12_MC_Pi.ipynb\n",
            " RL_15_13_Blackjack_Policy_Evaluation.ipynb\n",
            " RL_15_14_Blackjack_Value_Iteration.ipynb\n",
            " RL_15_15_Blackjack_Off_Policy.ipynb\n",
            " RL_15_16_SARSA.ipynb\n",
            " RL_15_17_Q_learning.ipynb\n",
            " RL_15_18_Actor_Critic.py\n",
            " tf_hub_generative_image_module.ipynb\n",
            " yolo_keras_utils.py\n"
          ]
        }
      ]
    },
    {
      "cell_type": "code",
      "metadata": {
        "id": "y9ACZpYAVf0D"
      },
      "source": [
        ""
      ],
      "execution_count": null,
      "outputs": []
    }
  ]
}