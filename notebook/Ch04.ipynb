{
  "nbformat": 4,
  "nbformat_minor": 0,
  "metadata": {
    "colab": {
      "name": "Ch04.ipynb",
      "provenance": [],
      "include_colab_link": true
    },
    "kernelspec": {
      "name": "python3",
      "display_name": "Python 3"
    },
    "accelerator": "TPU"
  },
  "cells": [
    {
      "cell_type": "markdown",
      "metadata": {
        "id": "view-in-github",
        "colab_type": "text"
      },
      "source": [
        "<a href=\"https://colab.research.google.com/github/jumbokh/nknu-class/blob/main/notebook/Ch04.ipynb\" target=\"_parent\"><img src=\"https://colab.research.google.com/assets/colab-badge.svg\" alt=\"Open In Colab\"/></a>"
      ]
    },
    {
      "cell_type": "markdown",
      "metadata": {
        "id": "SEocpeYrjqE7"
      },
      "source": [
        "# 4-2 評估機器學習模型"
      ]
    },
    {
      "cell_type": "markdown",
      "metadata": {
        "id": "JY1F7qHsjtfe"
      },
      "source": [
        "## 4-2-1 把資料分成訓練集、驗證集和測試集"
      ]
    },
    {
      "cell_type": "markdown",
      "metadata": {
        "id": "4hEo-qsCjyZG"
      },
      "source": [
        "### 程式 4.1 簡單拆分驗證"
      ]
    },
    {
      "cell_type": "code",
      "metadata": {
        "id": "9Etg0tcdDBC8",
        "colab": {
          "base_uri": "https://localhost:8080/",
          "height": 233
        },
        "outputId": "e38a0b13-dd4b-4d69-8a88-809325130e4a"
      },
      "source": [
        "num_validation_samples = 10000 #設定預計的驗證資料數據筆數：10000 筆\n",
        "\n",
        "np.random.shuffle(data) #打散資料，重新洗牌\n",
        "\n",
        "validation_data = data[:num_validation_samples]  #定義前 10000 筆(0~9999)為驗證集\n",
        "data = data[num_validation_samples:]  #定義第 10000 筆後(10000~)為訓練集\n",
        "\n",
        "training_data = data[:]  \n",
        "\n",
        "model = get_model()\n",
        "model.train(training_data)\n",
        "validation_score = model.evaluate(validation_data)  #以訓練集資料進行模型訓練，並以驗證集資料進行模型評估\n",
        "\n",
        "#對模型進行調整，再進行訓練與評估\n",
        "\n",
        "model = get_model()\n",
        "model.train(np.concatenate([training_data,\n",
        "                            validation_data])) #當完成超參數的調整後，通常會從頭再用所有資料 (訓練集+驗證集) 來訓練一次\n",
        "test_score = model.evaluate(test_data)"
      ],
      "execution_count": null,
      "outputs": [
        {
          "output_type": "error",
          "ename": "NameError",
          "evalue": "ignored",
          "traceback": [
            "\u001b[0;31m---------------------------------------------------------------------------\u001b[0m",
            "\u001b[0;31mNameError\u001b[0m                                 Traceback (most recent call last)",
            "\u001b[0;32m<ipython-input-2-fcf2dcd9551c>\u001b[0m in \u001b[0;36m<module>\u001b[0;34m()\u001b[0m\n\u001b[1;32m      1\u001b[0m \u001b[0mnum_validation_samples\u001b[0m \u001b[0;34m=\u001b[0m \u001b[0;36m10000\u001b[0m \u001b[0;31m#設定預計的驗證資料數據筆數：10000 筆\u001b[0m\u001b[0;34m\u001b[0m\u001b[0;34m\u001b[0m\u001b[0m\n\u001b[1;32m      2\u001b[0m \u001b[0;34m\u001b[0m\u001b[0m\n\u001b[0;32m----> 3\u001b[0;31m \u001b[0mnp\u001b[0m\u001b[0;34m.\u001b[0m\u001b[0mrandom\u001b[0m\u001b[0;34m.\u001b[0m\u001b[0mshuffle\u001b[0m\u001b[0;34m(\u001b[0m\u001b[0mdata\u001b[0m\u001b[0;34m)\u001b[0m \u001b[0;31m#打散資料，重新洗牌\u001b[0m\u001b[0;34m\u001b[0m\u001b[0;34m\u001b[0m\u001b[0m\n\u001b[0m\u001b[1;32m      4\u001b[0m \u001b[0;34m\u001b[0m\u001b[0m\n\u001b[1;32m      5\u001b[0m \u001b[0mvalidation_data\u001b[0m \u001b[0;34m=\u001b[0m \u001b[0mdata\u001b[0m\u001b[0;34m[\u001b[0m\u001b[0;34m:\u001b[0m\u001b[0mnum_validation_samples\u001b[0m\u001b[0;34m]\u001b[0m  \u001b[0;31m#定義前 10000 筆(0~9999)為驗證集\u001b[0m\u001b[0;34m\u001b[0m\u001b[0;34m\u001b[0m\u001b[0m\n",
            "\u001b[0;31mNameError\u001b[0m: name 'np' is not defined"
          ]
        }
      ]
    },
    {
      "cell_type": "markdown",
      "metadata": {
        "id": "_9I9bgGyj43l"
      },
      "source": [
        "### 程式 4.2 K 折交叉驗證 (此處 K = 4)"
      ]
    },
    {
      "cell_type": "code",
      "metadata": {
        "id": "K7YIkTvJGRZS"
      },
      "source": [
        "k = 4  #設定 4 個區塊\n",
        "num_validation_samples = len(data) // k #將資料筆數除以區塊數(此例為 4)\n",
        "\n",
        "np.random.shuffle(data)\n",
        "\n",
        "validation_scores = []\n",
        "for fold in range(k):\n",
        "    validation_data = data[num_validation_samples * fold:\\\n",
        "                           num_validation_samples * (fold + 1)]  #選擇驗證資料區塊\n",
        "    training_data = data[:num_validation_samples * fold] + \\\n",
        "                         data[num_validation_samples * (fold + 1):]  #使用剩餘的資料做為訓練資料，注意到+運算子是指串列(list)的連接，而不是加總\n",
        "\n",
        "    model = get_model()  #建立一個全新的模型(未經訓練)\n",
        "    model.train(training_data)\n",
        "    validation_score = model.evaluate(validation_data)\n",
        "    validation_scores.append(validation_score)\n",
        "    validation_score = np.average(validation_scores)  #驗證分數：k 折驗證分數的平均值\n",
        "    \n",
        "    model = get_model()\n",
        "    model.train(data)\n",
        "    test_score = model.evaluate(test_data)  #以所有可用的非測試資料訓練最終模型"
      ],
      "execution_count": null,
      "outputs": []
    },
    {
      "cell_type": "markdown",
      "metadata": {
        "id": "iRgp9qiTj-2V"
      },
      "source": [
        "# 4-3 資料預處理 (preprocessing)、特徵工程 (feature engineering) 和特徵學習 (feature learning)"
      ]
    },
    {
      "cell_type": "markdown",
      "metadata": {
        "id": "U2acHtK9j-aV"
      },
      "source": [
        "## 4-3-1 神經網路的資料預處理 (preprocessing)"
      ]
    },
    {
      "cell_type": "code",
      "metadata": {
        "id": "0h8M1D9_HjNb"
      },
      "source": [
        "x -= x.mean(axis=0)\n",
        "x /= x.std(axis=0)"
      ],
      "execution_count": null,
      "outputs": []
    },
    {
      "cell_type": "markdown",
      "metadata": {
        "id": "wmSkVU2NkKhm"
      },
      "source": [
        "# 4-4 過度配適 (overfitting) 和低度配適 (underfitting)"
      ]
    },
    {
      "cell_type": "code",
      "metadata": {
        "id": "A__RxzpX1kzc",
        "colab": {
          "base_uri": "https://localhost:8080/",
          "height": 68
        },
        "outputId": "efedacef-d8fe-41d7-808b-dd4f3513bedb"
      },
      "source": [
        "from keras.datasets import imdb\n",
        "import numpy as np\n",
        "\n",
        "(train_data, train_labels), (test_data, test_labels) = imdb.load_data(num_words=10000)\n",
        "\n",
        "def vectorize_sequences(sequences, dimension=10000):\n",
        "    \n",
        "    results = np.zeros((len(sequences), dimension))\n",
        "    for i, sequence in enumerate(sequences):\n",
        "        results[i, sequence] = 1.\n",
        "    return results\n",
        "\n",
        "x_train = vectorize_sequences(train_data)\n",
        "\n",
        "x_test = vectorize_sequences(test_data)\n",
        "\n",
        "y_train = np.asarray(train_labels).astype('float32')\n",
        "y_test = np.asarray(test_labels).astype('float32')"
      ],
      "execution_count": null,
      "outputs": [
        {
          "output_type": "stream",
          "text": [
            "Using TensorFlow backend.\n"
          ],
          "name": "stderr"
        },
        {
          "output_type": "stream",
          "text": [
            "Downloading data from https://s3.amazonaws.com/text-datasets/imdb.npz\n",
            "17465344/17464789 [==============================] - 1s 0us/step\n"
          ],
          "name": "stdout"
        }
      ]
    },
    {
      "cell_type": "markdown",
      "metadata": {
        "id": "aBfRWZYokKc1"
      },
      "source": [
        "## 4-4-1 減少神經網路的大小"
      ]
    },
    {
      "cell_type": "markdown",
      "metadata": {
        "id": "IyvU13QRkPz1"
      },
      "source": [
        "### 程式 4.3 原始模型"
      ]
    },
    {
      "cell_type": "code",
      "metadata": {
        "id": "o2lgJKoWIIZT",
        "colab": {
          "base_uri": "https://localhost:8080/",
          "height": 68
        },
        "outputId": "06e74383-a2c6-45f8-bec1-cd40dc3d0dc8"
      },
      "source": [
        "from keras import models\n",
        "from keras import layers\n",
        "\n",
        "original_model = models.Sequential()\n",
        "original_model.add(layers.Dense(16, activation='relu', input_shape=(10000,)))  #原始的為 16 個單元\n",
        "original_model.add(layers.Dense(16, activation='relu'))\n",
        "original_model.add(layers.Dense(1, activation='sigmoid'))\n",
        "\n",
        "original_model.compile(optimizer='rmsprop',\n",
        "                       loss='binary_crossentropy',\n",
        "                       metrics=['acc'])"
      ],
      "execution_count": null,
      "outputs": [
        {
          "output_type": "stream",
          "text": [
            "WARNING:tensorflow:From /usr/local/lib/python3.6/dist-packages/tensorflow/python/framework/op_def_library.py:263: colocate_with (from tensorflow.python.framework.ops) is deprecated and will be removed in a future version.\n",
            "Instructions for updating:\n",
            "Colocations handled automatically by placer.\n"
          ],
          "name": "stdout"
        }
      ]
    },
    {
      "cell_type": "markdown",
      "metadata": {
        "id": "rWxTQOVGkTsl"
      },
      "source": [
        "### 程式 4.4 容量較低的模型版本"
      ]
    },
    {
      "cell_type": "code",
      "metadata": {
        "id": "QBL69--pIbWP"
      },
      "source": [
        "smaller_model = models.Sequential()\n",
        "smaller_model.add(layers.Dense(4, activation='relu', input_shape=(10000,)))  #改成容量較低的 4 個單元\n",
        "smaller_model.add(layers.Dense(4, activation='relu'))\n",
        "smaller_model.add(layers.Dense(1, activation='sigmoid'))\n",
        "\n",
        "smaller_model.compile(optimizer='rmsprop',\n",
        "                      loss='binary_crossentropy',\n",
        "                      metrics=['acc'])"
      ],
      "execution_count": null,
      "outputs": []
    },
    {
      "cell_type": "code",
      "metadata": {
        "id": "83zKzmCG2crm",
        "colab": {
          "base_uri": "https://localhost:8080/",
          "height": 765
        },
        "outputId": "1c918d34-253b-4d0b-d4b6-5c7b15e21544"
      },
      "source": [
        "original_hist = original_model.fit(x_train, y_train,\n",
        "                                   epochs=20,\n",
        "                                   batch_size=512,\n",
        "                                   validation_data=(x_test, y_test))"
      ],
      "execution_count": null,
      "outputs": [
        {
          "output_type": "stream",
          "text": [
            "WARNING:tensorflow:From /usr/local/lib/python3.6/dist-packages/tensorflow/python/ops/math_ops.py:3066: to_int32 (from tensorflow.python.ops.math_ops) is deprecated and will be removed in a future version.\n",
            "Instructions for updating:\n",
            "Use tf.cast instead.\n",
            "Train on 25000 samples, validate on 25000 samples\n",
            "Epoch 1/20\n",
            "25000/25000 [==============================] - 5s 182us/step - loss: 0.4440 - acc: 0.8247 - val_loss: 0.3289 - val_acc: 0.8833\n",
            "Epoch 2/20\n",
            "25000/25000 [==============================] - 4s 151us/step - loss: 0.2574 - acc: 0.9079 - val_loss: 0.2860 - val_acc: 0.8883\n",
            "Epoch 3/20\n",
            "25000/25000 [==============================] - 4s 151us/step - loss: 0.1993 - acc: 0.9288 - val_loss: 0.2821 - val_acc: 0.8886\n",
            "Epoch 4/20\n",
            "25000/25000 [==============================] - 4s 152us/step - loss: 0.1667 - acc: 0.9410 - val_loss: 0.2938 - val_acc: 0.8844\n",
            "Epoch 5/20\n",
            "25000/25000 [==============================] - 4s 152us/step - loss: 0.1435 - acc: 0.9499 - val_loss: 0.3115 - val_acc: 0.8806\n",
            "Epoch 6/20\n",
            "25000/25000 [==============================] - 4s 152us/step - loss: 0.1258 - acc: 0.9557 - val_loss: 0.3476 - val_acc: 0.8722\n",
            "Epoch 7/20\n",
            "25000/25000 [==============================] - 4s 152us/step - loss: 0.1118 - acc: 0.9613 - val_loss: 0.3585 - val_acc: 0.8728\n",
            "Epoch 8/20\n",
            "25000/25000 [==============================] - 4s 151us/step - loss: 0.0975 - acc: 0.9679 - val_loss: 0.3942 - val_acc: 0.8670\n",
            "Epoch 9/20\n",
            "25000/25000 [==============================] - 4s 152us/step - loss: 0.0839 - acc: 0.9725 - val_loss: 0.4217 - val_acc: 0.8646\n",
            "Epoch 10/20\n",
            "25000/25000 [==============================] - 4s 152us/step - loss: 0.0758 - acc: 0.9757 - val_loss: 0.4764 - val_acc: 0.8577\n",
            "Epoch 11/20\n",
            "25000/25000 [==============================] - 4s 152us/step - loss: 0.0686 - acc: 0.9777 - val_loss: 0.4978 - val_acc: 0.8564\n",
            "Epoch 12/20\n",
            "25000/25000 [==============================] - 4s 153us/step - loss: 0.0572 - acc: 0.9823 - val_loss: 0.5131 - val_acc: 0.8577\n",
            "Epoch 13/20\n",
            "25000/25000 [==============================] - 4s 151us/step - loss: 0.0515 - acc: 0.9846 - val_loss: 0.5324 - val_acc: 0.8587\n",
            "Epoch 14/20\n",
            "25000/25000 [==============================] - 4s 154us/step - loss: 0.0427 - acc: 0.9877 - val_loss: 0.6053 - val_acc: 0.8507\n",
            "Epoch 15/20\n",
            "25000/25000 [==============================] - 4s 163us/step - loss: 0.0367 - acc: 0.9897 - val_loss: 0.6235 - val_acc: 0.8532\n",
            "Epoch 16/20\n",
            "25000/25000 [==============================] - 4s 161us/step - loss: 0.0301 - acc: 0.9922 - val_loss: 0.7206 - val_acc: 0.8427\n",
            "Epoch 17/20\n",
            "25000/25000 [==============================] - 4s 160us/step - loss: 0.0272 - acc: 0.9925 - val_loss: 0.6821 - val_acc: 0.8529\n",
            "Epoch 18/20\n",
            "25000/25000 [==============================] - 4s 151us/step - loss: 0.0201 - acc: 0.9950 - val_loss: 0.7318 - val_acc: 0.8504\n",
            "Epoch 19/20\n",
            "25000/25000 [==============================] - 4s 152us/step - loss: 0.0216 - acc: 0.9939 - val_loss: 0.7521 - val_acc: 0.8504\n",
            "Epoch 20/20\n",
            "25000/25000 [==============================] - 4s 152us/step - loss: 0.0139 - acc: 0.9966 - val_loss: 0.8850 - val_acc: 0.8394\n"
          ],
          "name": "stdout"
        }
      ]
    },
    {
      "cell_type": "code",
      "metadata": {
        "id": "_w3YYwLq2ckm",
        "colab": {
          "base_uri": "https://localhost:8080/",
          "height": 714
        },
        "outputId": "1f371264-4c0c-4c43-b533-d35d1a4c39ef"
      },
      "source": [
        "smaller_model_hist = smaller_model.fit(x_train, y_train,\n",
        "                                       epochs=20,\n",
        "                                       batch_size=512,\n",
        "                                       validation_data=(x_test, y_test))"
      ],
      "execution_count": null,
      "outputs": [
        {
          "output_type": "stream",
          "text": [
            "Train on 25000 samples, validate on 25000 samples\n",
            "Epoch 1/20\n",
            "25000/25000 [==============================] - 4s 167us/step - loss: 0.5805 - acc: 0.7020 - val_loss: 0.5307 - val_acc: 0.7576\n",
            "Epoch 2/20\n",
            "25000/25000 [==============================] - 3s 140us/step - loss: 0.4843 - acc: 0.8454 - val_loss: 0.4869 - val_acc: 0.8310\n",
            "Epoch 3/20\n",
            "25000/25000 [==============================] - 3s 135us/step - loss: 0.4389 - acc: 0.8920 - val_loss: 0.4662 - val_acc: 0.8505\n",
            "Epoch 4/20\n",
            "25000/25000 [==============================] - 3s 135us/step - loss: 0.4077 - acc: 0.9165 - val_loss: 0.4537 - val_acc: 0.8635\n",
            "Epoch 5/20\n",
            "25000/25000 [==============================] - 3s 134us/step - loss: 0.3830 - acc: 0.9311 - val_loss: 0.4518 - val_acc: 0.8618\n",
            "Epoch 6/20\n",
            "25000/25000 [==============================] - 3s 134us/step - loss: 0.3619 - acc: 0.9417 - val_loss: 0.4420 - val_acc: 0.8729\n",
            "Epoch 7/20\n",
            "25000/25000 [==============================] - 3s 133us/step - loss: 0.3424 - acc: 0.9513 - val_loss: 0.4455 - val_acc: 0.8698\n",
            "Epoch 8/20\n",
            "25000/25000 [==============================] - 3s 133us/step - loss: 0.3262 - acc: 0.9558 - val_loss: 0.4517 - val_acc: 0.8676\n",
            "Epoch 9/20\n",
            "25000/25000 [==============================] - 3s 134us/step - loss: 0.3100 - acc: 0.9616 - val_loss: 0.4708 - val_acc: 0.8620\n",
            "Epoch 10/20\n",
            "25000/25000 [==============================] - 3s 134us/step - loss: 0.2959 - acc: 0.9658 - val_loss: 0.4749 - val_acc: 0.8617\n",
            "Epoch 11/20\n",
            "25000/25000 [==============================] - 3s 134us/step - loss: 0.2813 - acc: 0.9691 - val_loss: 0.4883 - val_acc: 0.8606\n",
            "Epoch 12/20\n",
            "25000/25000 [==============================] - 3s 139us/step - loss: 0.2685 - acc: 0.9722 - val_loss: 0.4805 - val_acc: 0.8630\n",
            "Epoch 13/20\n",
            "25000/25000 [==============================] - 3s 140us/step - loss: 0.2563 - acc: 0.9746 - val_loss: 0.5142 - val_acc: 0.8587\n",
            "Epoch 14/20\n",
            "25000/25000 [==============================] - 3s 134us/step - loss: 0.2455 - acc: 0.9767 - val_loss: 0.5409 - val_acc: 0.8569\n",
            "Epoch 15/20\n",
            "25000/25000 [==============================] - 3s 133us/step - loss: 0.2341 - acc: 0.9778 - val_loss: 0.5199 - val_acc: 0.8600\n",
            "Epoch 16/20\n",
            "25000/25000 [==============================] - 3s 133us/step - loss: 0.2235 - acc: 0.9807 - val_loss: 0.5707 - val_acc: 0.8562\n",
            "Epoch 17/20\n",
            "25000/25000 [==============================] - 3s 133us/step - loss: 0.2144 - acc: 0.9809 - val_loss: 0.5632 - val_acc: 0.8564\n",
            "Epoch 18/20\n",
            "25000/25000 [==============================] - 3s 134us/step - loss: 0.2053 - acc: 0.9822 - val_loss: 0.6238 - val_acc: 0.8526\n",
            "Epoch 19/20\n",
            "25000/25000 [==============================] - 3s 134us/step - loss: 0.1966 - acc: 0.9834 - val_loss: 0.6293 - val_acc: 0.8521\n",
            "Epoch 20/20\n",
            "25000/25000 [==============================] - 3s 133us/step - loss: 0.1882 - acc: 0.9844 - val_loss: 0.6137 - val_acc: 0.8533\n"
          ],
          "name": "stdout"
        }
      ]
    },
    {
      "cell_type": "code",
      "metadata": {
        "id": "BLdF6cYn2cbF"
      },
      "source": [
        "epochs = range(1, 21)\n",
        "original_val_loss = original_hist.history['val_loss']\n",
        "smaller_model_val_loss = smaller_model_hist.history['val_loss']"
      ],
      "execution_count": null,
      "outputs": []
    },
    {
      "cell_type": "code",
      "metadata": {
        "id": "ECwoTpWq2hRs",
        "colab": {
          "base_uri": "https://localhost:8080/",
          "height": 361
        },
        "outputId": "4e78a072-c3c6-4e68-90e8-7d6c12c2268d"
      },
      "source": [
        "import matplotlib.pyplot as plt\n",
        "\n",
        "plt.plot(epochs, original_val_loss, 'b-', label='Original model')\n",
        "\n",
        "plt.plot(epochs, smaller_model_val_loss, 'bo', label='Smaller model')\n",
        "plt.xlabel('Epochs')\n",
        "plt.ylabel('Validation loss')\n",
        "plt.legend()\n",
        "\n",
        "plt.show()"
      ],
      "execution_count": null,
      "outputs": [
        {
          "output_type": "display_data",
          "data": {
            "image/png": "[encoded data removed]",
            "text/plain": [
              "<Figure size 576x396 with 1 Axes>"
            ]
          },
          "metadata": {
            "tags": []
          }
        }
      ]
    },
    {
      "cell_type": "markdown",
      "metadata": {
        "id": "v6f3-8-pkWXt"
      },
      "source": [
        "### 程式 4.5 具有更高容量的模型版本"
      ]
    },
    {
      "cell_type": "code",
      "metadata": {
        "id": "xTnvguDD6lLj"
      },
      "source": [
        "bigger_model = models.Sequential()\n",
        "bigger_model.add(layers.Dense(512, activation='relu', input_shape=(10000,)))  #改以更高容量的 512 個輸出單位\n",
        "bigger_model.add(layers.Dense(512, activation='relu'))\n",
        "bigger_model.add(layers.Dense(1, activation='sigmoid'))\n",
        "\n",
        "bigger_model.compile(optimizer='rmsprop',\n",
        "                     loss='binary_crossentropy',\n",
        "                     metrics=['acc'])"
      ],
      "execution_count": null,
      "outputs": []
    },
    {
      "cell_type": "code",
      "metadata": {
        "id": "anZK1H6x6lHp",
        "colab": {
          "base_uri": "https://localhost:8080/",
          "height": 714
        },
        "outputId": "6a541164-9168-4049-ba88-6b9a14f55b94"
      },
      "source": [
        "bigger_model_hist = bigger_model.fit(x_train, y_train,\n",
        "                                     epochs=20,\n",
        "                                     batch_size=512,\n",
        "                                     validation_data=(x_test, y_test))"
      ],
      "execution_count": null,
      "outputs": [
        {
          "output_type": "stream",
          "text": [
            "Train on 25000 samples, validate on 25000 samples\n",
            "Epoch 1/20\n",
            "25000/25000 [==============================] - 20s 805us/step - loss: 0.4666 - acc: 0.7962 - val_loss: 0.2842 - val_acc: 0.8852\n",
            "Epoch 2/20\n",
            "25000/25000 [==============================] - 20s 786us/step - loss: 0.2244 - acc: 0.9109 - val_loss: 0.3014 - val_acc: 0.8737\n",
            "Epoch 3/20\n",
            "25000/25000 [==============================] - 19s 779us/step - loss: 0.1334 - acc: 0.9516 - val_loss: 0.4334 - val_acc: 0.8397\n",
            "Epoch 4/20\n",
            "25000/25000 [==============================] - 20s 787us/step - loss: 0.0712 - acc: 0.9796 - val_loss: 0.4167 - val_acc: 0.8828\n",
            "Epoch 5/20\n",
            "25000/25000 [==============================] - 20s 786us/step - loss: 0.0842 - acc: 0.9855 - val_loss: 0.4877 - val_acc: 0.8836\n",
            "Epoch 6/20\n",
            "25000/25000 [==============================] - 20s 794us/step - loss: 0.0694 - acc: 0.9882 - val_loss: 0.4793 - val_acc: 0.8794\n",
            "Epoch 7/20\n",
            "25000/25000 [==============================] - 19s 775us/step - loss: 0.0012 - acc: 1.0000 - val_loss: 0.6531 - val_acc: 0.8817\n",
            "Epoch 8/20\n",
            "25000/25000 [==============================] - 19s 774us/step - loss: 0.0864 - acc: 0.9886 - val_loss: 0.8681 - val_acc: 0.8348\n",
            "Epoch 9/20\n",
            "25000/25000 [==============================] - 19s 778us/step - loss: 6.8448e-04 - acc: 1.0000 - val_loss: 0.7009 - val_acc: 0.8818\n",
            "Epoch 10/20\n",
            "25000/25000 [==============================] - 20s 784us/step - loss: 5.1157e-05 - acc: 1.0000 - val_loss: 0.7983 - val_acc: 0.8792\n",
            "Epoch 11/20\n",
            "25000/25000 [==============================] - 20s 783us/step - loss: 9.5972e-06 - acc: 1.0000 - val_loss: 0.8876 - val_acc: 0.8803\n",
            "Epoch 12/20\n",
            "25000/25000 [==============================] - 19s 777us/step - loss: 0.0609 - acc: 0.9940 - val_loss: 3.1448 - val_acc: 0.7051\n",
            "Epoch 13/20\n",
            "25000/25000 [==============================] - 19s 777us/step - loss: 0.0312 - acc: 0.9959 - val_loss: 0.8293 - val_acc: 0.8777\n",
            "Epoch 14/20\n",
            "25000/25000 [==============================] - 20s 791us/step - loss: 7.3677e-06 - acc: 1.0000 - val_loss: 0.8508 - val_acc: 0.8788\n",
            "Epoch 15/20\n",
            "25000/25000 [==============================] - 20s 788us/step - loss: 2.2309e-06 - acc: 1.0000 - val_loss: 0.8972 - val_acc: 0.8793\n",
            "Epoch 16/20\n",
            "25000/25000 [==============================] - 20s 790us/step - loss: 7.0962e-07 - acc: 1.0000 - val_loss: 0.9687 - val_acc: 0.8796\n",
            "Epoch 17/20\n",
            "25000/25000 [==============================] - 20s 789us/step - loss: 2.5425e-07 - acc: 1.0000 - val_loss: 1.0254 - val_acc: 0.8793\n",
            "Epoch 18/20\n",
            "25000/25000 [==============================] - 20s 789us/step - loss: 1.4458e-07 - acc: 1.0000 - val_loss: 1.0621 - val_acc: 0.8792\n",
            "Epoch 19/20\n",
            "25000/25000 [==============================] - 20s 791us/step - loss: 1.2169e-07 - acc: 1.0000 - val_loss: 1.0822 - val_acc: 0.8795\n",
            "Epoch 20/20\n",
            "25000/25000 [==============================] - 20s 790us/step - loss: 1.1573e-07 - acc: 1.0000 - val_loss: 1.0923 - val_acc: 0.8796\n"
          ],
          "name": "stdout"
        }
      ]
    },
    {
      "cell_type": "code",
      "metadata": {
        "id": "XkdYQYBj6lDf",
        "colab": {
          "base_uri": "https://localhost:8080/",
          "height": 361
        },
        "outputId": "9952d14b-854e-48c5-b3b9-d1d30979b498"
      },
      "source": [
        "bigger_model_val_loss = bigger_model_hist.history['val_loss']\n",
        "\n",
        "plt.plot(epochs, original_val_loss, 'b+', label='Original model')\n",
        "plt.plot(epochs, bigger_model_val_loss, 'bo', label='Bigger model')\n",
        "plt.xlabel('Epochs')\n",
        "plt.ylabel('Validation loss')\n",
        "plt.legend()\n",
        "\n",
        "plt.show()"
      ],
      "execution_count": null,
      "outputs": [
        {
          "output_type": "display_data",
          "data": {
            "image/png": "[encoded data removed]",
            "text/plain": [
              "<Figure size 576x396 with 1 Axes>"
            ]
          },
          "metadata": {
            "tags": []
          }
        }
      ]
    },
    {
      "cell_type": "code",
      "metadata": {
        "id": "1lEo-wwH6k_2",
        "colab": {
          "base_uri": "https://localhost:8080/",
          "height": 361
        },
        "outputId": "66abb9fc-4283-4122-f4c4-928be82d61a3"
      },
      "source": [
        "original_train_loss = original_hist.history['loss']\n",
        "bigger_model_train_loss = bigger_model_hist.history['loss']\n",
        "\n",
        "plt.plot(epochs, original_train_loss, 'b+', label='Original model')\n",
        "plt.plot(epochs, bigger_model_train_loss, 'bo', label='Bigger model')\n",
        "plt.xlabel('Epochs')\n",
        "plt.ylabel('Training loss')\n",
        "plt.legend()\n",
        "\n",
        "plt.show()"
      ],
      "execution_count": null,
      "outputs": [
        {
          "output_type": "display_data",
          "data": {
            "image/png": "[encoded data removed]",
            "text/plain": [
              "<Figure size 576x396 with 1 Axes>"
            ]
          },
          "metadata": {
            "tags": []
          }
        }
      ]
    },
    {
      "cell_type": "markdown",
      "metadata": {
        "id": "FoZT8a9DkagN"
      },
      "source": [
        "### 程式 4.6 將 L2 權常規化增加到模型中"
      ]
    },
    {
      "cell_type": "code",
      "metadata": {
        "id": "NTojcr29KofU"
      },
      "source": [
        "from keras import regularizers\n",
        "\n",
        "l2_model = models.Sequential()\n",
        "l2_model.add(layers.Dense(16, kernel_regularizer=regularizers.l2(0.001),  #加入 L2 權重常規化並將學習率設為 0.001 \n",
        "                          activation='relu', input_shape=(10000,)))\n",
        "l2_model.add(layers.Dense(16, kernel_regularizer=regularizers.l2(0.001),\n",
        "                          activation='relu'))\n",
        "l2_model.add(layers.Dense(1, activation='sigmoid'))"
      ],
      "execution_count": null,
      "outputs": []
    },
    {
      "cell_type": "code",
      "metadata": {
        "id": "Hbgm4Y3D8Jr4"
      },
      "source": [
        "l2_model.compile(optimizer='rmsprop',\n",
        "                 loss='binary_crossentropy',\n",
        "                 metrics=['acc'])"
      ],
      "execution_count": null,
      "outputs": []
    },
    {
      "cell_type": "code",
      "metadata": {
        "id": "wa5Y-yOQ8MDL",
        "colab": {
          "base_uri": "https://localhost:8080/",
          "height": 714
        },
        "outputId": "ca6aea59-cfc0-4d38-dedd-f9495b3b784f"
      },
      "source": [
        "l2_model_hist = l2_model.fit(x_train, y_train,\n",
        "                             epochs=20,\n",
        "                             batch_size=512,\n",
        "                             validation_data=(x_test, y_test))"
      ],
      "execution_count": null,
      "outputs": [
        {
          "output_type": "stream",
          "text": [
            "Train on 25000 samples, validate on 25000 samples\n",
            "Epoch 1/20\n",
            "25000/25000 [==============================] - 5s 201us/step - loss: 0.4901 - acc: 0.8145 - val_loss: 0.3900 - val_acc: 0.8656\n",
            "Epoch 2/20\n",
            "25000/25000 [==============================] - 4s 171us/step - loss: 0.3106 - acc: 0.9058 - val_loss: 0.3303 - val_acc: 0.8891\n",
            "Epoch 3/20\n",
            "25000/25000 [==============================] - 4s 169us/step - loss: 0.2649 - acc: 0.9201 - val_loss: 0.3308 - val_acc: 0.8870\n",
            "Epoch 4/20\n",
            "25000/25000 [==============================] - 4s 171us/step - loss: 0.2450 - acc: 0.9290 - val_loss: 0.3406 - val_acc: 0.8823\n",
            "Epoch 5/20\n",
            "25000/25000 [==============================] - 4s 172us/step - loss: 0.2312 - acc: 0.9351 - val_loss: 0.3802 - val_acc: 0.8685\n",
            "Epoch 6/20\n",
            "25000/25000 [==============================] - 4s 167us/step - loss: 0.2225 - acc: 0.9394 - val_loss: 0.3659 - val_acc: 0.8758\n",
            "Epoch 7/20\n",
            "25000/25000 [==============================] - 4s 170us/step - loss: 0.2156 - acc: 0.9417 - val_loss: 0.3767 - val_acc: 0.8733\n",
            "Epoch 8/20\n",
            "25000/25000 [==============================] - 4s 170us/step - loss: 0.2091 - acc: 0.9450 - val_loss: 0.3728 - val_acc: 0.8752\n",
            "Epoch 9/20\n",
            "25000/25000 [==============================] - 4s 170us/step - loss: 0.2026 - acc: 0.9466 - val_loss: 0.3767 - val_acc: 0.8754\n",
            "Epoch 10/20\n",
            "25000/25000 [==============================] - 4s 170us/step - loss: 0.1990 - acc: 0.9506 - val_loss: 0.3825 - val_acc: 0.8749\n",
            "Epoch 11/20\n",
            "25000/25000 [==============================] - 4s 169us/step - loss: 0.1929 - acc: 0.9505 - val_loss: 0.3839 - val_acc: 0.8757\n",
            "Epoch 12/20\n",
            "25000/25000 [==============================] - 4s 166us/step - loss: 0.1903 - acc: 0.9521 - val_loss: 0.3955 - val_acc: 0.8742\n",
            "Epoch 13/20\n",
            "25000/25000 [==============================] - 4s 166us/step - loss: 0.1862 - acc: 0.9547 - val_loss: 0.3964 - val_acc: 0.8732\n",
            "Epoch 14/20\n",
            "25000/25000 [==============================] - 4s 166us/step - loss: 0.1803 - acc: 0.9573 - val_loss: 0.4368 - val_acc: 0.8630\n",
            "Epoch 15/20\n",
            "25000/25000 [==============================] - 4s 170us/step - loss: 0.1803 - acc: 0.9579 - val_loss: 0.4556 - val_acc: 0.8579\n",
            "Epoch 16/20\n",
            "25000/25000 [==============================] - 4s 168us/step - loss: 0.1744 - acc: 0.9602 - val_loss: 0.4385 - val_acc: 0.8661\n",
            "Epoch 17/20\n",
            "25000/25000 [==============================] - 4s 167us/step - loss: 0.1702 - acc: 0.9620 - val_loss: 0.4209 - val_acc: 0.8696\n",
            "Epoch 18/20\n",
            "25000/25000 [==============================] - 4s 168us/step - loss: 0.1680 - acc: 0.9624 - val_loss: 0.4351 - val_acc: 0.8686\n",
            "Epoch 19/20\n",
            "25000/25000 [==============================] - 4s 164us/step - loss: 0.1651 - acc: 0.9633 - val_loss: 0.4399 - val_acc: 0.8650\n",
            "Epoch 20/20\n",
            "25000/25000 [==============================] - 4s 165us/step - loss: 0.1600 - acc: 0.9666 - val_loss: 0.4273 - val_acc: 0.8698\n"
          ],
          "name": "stdout"
        }
      ]
    },
    {
      "cell_type": "code",
      "metadata": {
        "id": "o46DWX_N8NkR",
        "colab": {
          "base_uri": "https://localhost:8080/",
          "height": 361
        },
        "outputId": "945b96d5-4b10-400b-8307-54caec7f121a"
      },
      "source": [
        "l2_model_val_loss = l2_model_hist.history['val_loss']\n",
        "\n",
        "plt.plot(epochs, original_val_loss, 'b+', label='Original model')\n",
        "plt.plot(epochs, l2_model_val_loss, 'bo', label='L2-regularized model')\n",
        "plt.xlabel('Epochs')\n",
        "plt.ylabel('Validation loss')\n",
        "plt.legend()\n",
        "\n",
        "plt.show()"
      ],
      "execution_count": null,
      "outputs": [
        {
          "output_type": "display_data",
          "data": {
            "image/png": "[encoded data removed]",
            "text/plain": [
              "<Figure size 576x396 with 1 Axes>"
            ]
          },
          "metadata": {
            "tags": []
          }
        }
      ]
    },
    {
      "cell_type": "markdown",
      "metadata": {
        "id": "OPuI2VRBkdGC"
      },
      "source": [
        "### 程式 4.7 Keras 提供不同的權重常規化"
      ]
    },
    {
      "cell_type": "code",
      "metadata": {
        "id": "XPJ5Q5W8Rxbk"
      },
      "source": [
        "from keras import regularizers\n",
        "\n",
        "regularizers.l1(0.001)  #L1 常規化\n",
        "\n",
        "regularizers.l1_l2(l1=0.001, l2=0.001)  #同時使用 L1 及 L2 常規化"
      ],
      "execution_count": null,
      "outputs": []
    },
    {
      "cell_type": "code",
      "metadata": {
        "id": "2-8YBodvSCqN"
      },
      "source": [
        "layer_output *= np.random.randint(0, high=2, size=layer_output.shape)"
      ],
      "execution_count": null,
      "outputs": []
    },
    {
      "cell_type": "code",
      "metadata": {
        "id": "5DhmOyRASMJK"
      },
      "source": [
        "layer_output *= 0.5"
      ],
      "execution_count": null,
      "outputs": []
    },
    {
      "cell_type": "code",
      "metadata": {
        "id": "Si-S6w3WSU-U"
      },
      "source": [
        "layer_output *= np.random.randint(0, high=2, size=layer_output.shape)\n",
        "layer_output /= 0.5"
      ],
      "execution_count": null,
      "outputs": []
    },
    {
      "cell_type": "code",
      "metadata": {
        "id": "Sv49x-MLS8eF"
      },
      "source": [
        "model.add(layers.Dropout(0.5))"
      ],
      "execution_count": null,
      "outputs": []
    },
    {
      "cell_type": "markdown",
      "metadata": {
        "id": "miSyZBx_kmRF"
      },
      "source": [
        "### 程式 4.8 將 Dropout 層添加到 IMDB 神經網路"
      ]
    },
    {
      "cell_type": "code",
      "metadata": {
        "id": "6iErARnHTEY0",
        "colab": {
          "base_uri": "https://localhost:8080/",
          "height": 88
        },
        "outputId": "e2da36dc-0a2b-4577-fba5-9ed01201195b"
      },
      "source": [
        "dpt_model = models.Sequential()\n",
        "dpt_model.add(layers.Dense(16, activation='relu', input_shape=(10000,)))\n",
        "dpt_model.add(layers.Dropout(0.5))\n",
        "dpt_model.add(layers.Dense(16, activation='relu'))\n",
        "dpt_model.add(layers.Dropout(0.5))\n",
        "dpt_model.add(layers.Dense(1, activation='sigmoid'))\n",
        "\n",
        "dpt_model.compile(optimizer='rmsprop',\n",
        "                  loss='binary_crossentropy',\n",
        "                  metrics=['acc'])"
      ],
      "execution_count": null,
      "outputs": [
        {
          "output_type": "stream",
          "text": [
            "WARNING:tensorflow:From /usr/local/lib/python3.6/dist-packages/keras/backend/tensorflow_backend.py:3445: calling dropout (from tensorflow.python.ops.nn_ops) with keep_prob is deprecated and will be removed in a future version.\n",
            "Instructions for updating:\n",
            "Please use `rate` instead of `keep_prob`. Rate should be set to `rate = 1 - keep_prob`.\n"
          ],
          "name": "stdout"
        }
      ]
    },
    {
      "cell_type": "code",
      "metadata": {
        "id": "1snHDYIj9_Yt",
        "colab": {
          "base_uri": "https://localhost:8080/",
          "height": 714
        },
        "outputId": "981a9227-7550-4018-ce35-f0a8e6bd6b8b"
      },
      "source": [
        "dpt_model_hist = dpt_model.fit(x_train, y_train,\n",
        "                               epochs=20,\n",
        "                               batch_size=512,\n",
        "                               validation_data=(x_test, y_test))"
      ],
      "execution_count": null,
      "outputs": [
        {
          "output_type": "stream",
          "text": [
            "Train on 25000 samples, validate on 25000 samples\n",
            "Epoch 1/20\n",
            "25000/25000 [==============================] - 5s 193us/step - loss: 0.5910 - acc: 0.6834 - val_loss: 0.4335 - val_acc: 0.8614\n",
            "Epoch 2/20\n",
            "25000/25000 [==============================] - 4s 178us/step - loss: 0.4364 - acc: 0.8179 - val_loss: 0.3487 - val_acc: 0.8705\n",
            "Epoch 3/20\n",
            "25000/25000 [==============================] - 4s 174us/step - loss: 0.3481 - acc: 0.8714 - val_loss: 0.2923 - val_acc: 0.8857\n",
            "Epoch 4/20\n",
            "25000/25000 [==============================] - 4s 170us/step - loss: 0.2896 - acc: 0.8982 - val_loss: 0.2765 - val_acc: 0.8878\n",
            "Epoch 5/20\n",
            "25000/25000 [==============================] - 4s 173us/step - loss: 0.2560 - acc: 0.9124 - val_loss: 0.2803 - val_acc: 0.8885\n",
            "Epoch 6/20\n",
            "25000/25000 [==============================] - 4s 175us/step - loss: 0.2254 - acc: 0.9248 - val_loss: 0.2877 - val_acc: 0.8874\n",
            "Epoch 7/20\n",
            "25000/25000 [==============================] - 4s 175us/step - loss: 0.2004 - acc: 0.9338 - val_loss: 0.3194 - val_acc: 0.8851\n",
            "Epoch 8/20\n",
            "25000/25000 [==============================] - 4s 178us/step - loss: 0.1812 - acc: 0.9414 - val_loss: 0.3305 - val_acc: 0.8843\n",
            "Epoch 9/20\n",
            "25000/25000 [==============================] - 4s 174us/step - loss: 0.1764 - acc: 0.9429 - val_loss: 0.3477 - val_acc: 0.8846\n",
            "Epoch 10/20\n",
            "25000/25000 [==============================] - 4s 172us/step - loss: 0.1572 - acc: 0.9473 - val_loss: 0.3701 - val_acc: 0.8830\n",
            "Epoch 11/20\n",
            "25000/25000 [==============================] - 4s 175us/step - loss: 0.1495 - acc: 0.9516 - val_loss: 0.3884 - val_acc: 0.8802\n",
            "Epoch 12/20\n",
            "25000/25000 [==============================] - 4s 173us/step - loss: 0.1418 - acc: 0.9547 - val_loss: 0.4359 - val_acc: 0.8746\n",
            "Epoch 13/20\n",
            "25000/25000 [==============================] - 4s 171us/step - loss: 0.1286 - acc: 0.9577 - val_loss: 0.4342 - val_acc: 0.8785\n",
            "Epoch 14/20\n",
            "25000/25000 [==============================] - 4s 168us/step - loss: 0.1240 - acc: 0.9585 - val_loss: 0.4535 - val_acc: 0.8764\n",
            "Epoch 15/20\n",
            "25000/25000 [==============================] - 4s 171us/step - loss: 0.1187 - acc: 0.9606 - val_loss: 0.4886 - val_acc: 0.8754\n",
            "Epoch 16/20\n",
            "25000/25000 [==============================] - 4s 170us/step - loss: 0.1194 - acc: 0.9614 - val_loss: 0.5228 - val_acc: 0.8758\n",
            "Epoch 17/20\n",
            "25000/25000 [==============================] - 4s 170us/step - loss: 0.1136 - acc: 0.9626 - val_loss: 0.5487 - val_acc: 0.8737\n",
            "Epoch 18/20\n",
            "25000/25000 [==============================] - 4s 169us/step - loss: 0.1143 - acc: 0.9626 - val_loss: 0.5426 - val_acc: 0.8738\n",
            "Epoch 19/20\n",
            "25000/25000 [==============================] - 4s 169us/step - loss: 0.1039 - acc: 0.9648 - val_loss: 0.5739 - val_acc: 0.8740\n",
            "Epoch 20/20\n",
            "25000/25000 [==============================] - 4s 171us/step - loss: 0.1076 - acc: 0.9653 - val_loss: 0.5751 - val_acc: 0.8710\n"
          ],
          "name": "stdout"
        }
      ]
    },
    {
      "cell_type": "code",
      "metadata": {
        "id": "xpKe_Bk6-BLV",
        "colab": {
          "base_uri": "https://localhost:8080/",
          "height": 361
        },
        "outputId": "1ef7c89b-ac81-4adf-c00a-99489ef80795"
      },
      "source": [
        "dpt_model_val_loss = dpt_model_hist.history['val_loss']\n",
        "\n",
        "plt.plot(epochs, original_val_loss, 'b+', label='Original model')\n",
        "plt.plot(epochs, dpt_model_val_loss, 'bo', label='Dropout-regularized model')\n",
        "plt.xlabel('Epochs')\n",
        "plt.ylabel('Validation loss')\n",
        "plt.legend()\n",
        "\n",
        "plt.show()"
      ],
      "execution_count": null,
      "outputs": [
        {
          "output_type": "display_data",
          "data": {
            "image/png": "[encoded data removed]",
            "text/plain": [
              "<Figure size 576x396 with 1 Axes>"
            ]
          },
          "metadata": {
            "tags": []
          }
        }
      ]
    },
    {
      "cell_type": "code",
      "metadata": {
        "id": "jV3y0keZ-HUI"
      },
      "source": [
        ""
      ],
      "execution_count": null,
      "outputs": []
    }
  ]
}