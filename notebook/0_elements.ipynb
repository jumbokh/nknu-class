{
  "nbformat": 4,
  "nbformat_minor": 0,
  "metadata": {
    "colab": {
      "name": "0.elements.ipynb",
      "provenance": [],
      "collapsed_sections": [],
      "include_colab_link": true
    },
    "kernelspec": {
      "name": "python3",
      "display_name": "Python 3"
    }
  },
  "cells": [
    {
      "cell_type": "markdown",
      "metadata": {
        "id": "view-in-github",
        "colab_type": "text"
      },
      "source": [
        "<a href=\"https://colab.research.google.com/github/jumbokh/nknu-class/blob/main/notebook/0_elements.ipynb\" target=\"_parent\"><img src=\"https://colab.research.google.com/assets/colab-badge.svg\" alt=\"Open In Colab\"/></a>"
      ]
    },
    {
      "cell_type": "code",
      "metadata": {
        "id": "UDLjaidS6FXW"
      },
      "source": [
        "import numpy as np\n",
        "import matplotlib.pyplot as plt"
      ],
      "execution_count": null,
      "outputs": []
    },
    {
      "cell_type": "code",
      "metadata": {
        "id": "DOqEzNMJDITw"
      },
      "source": [
        ""
      ],
      "execution_count": null,
      "outputs": []
    },
    {
      "cell_type": "markdown",
      "metadata": {
        "id": "af3jUWbANZVt"
      },
      "source": [
        ""
      ]
    },
    {
      "cell_type": "markdown",
      "metadata": {
        "id": "UbNbdsj56gJ3"
      },
      "source": [
        "# Activation "
      ]
    },
    {
      "cell_type": "markdown",
      "metadata": {
        "id": "5YkludrmRXtX"
      },
      "source": [
        "## sigmoid"
      ]
    },
    {
      "cell_type": "markdown",
      "metadata": {
        "id": "IyMTY4Lbqphm"
      },
      "source": [
        "\n",
        "\n",
        "$sigmoid(x) = \\sigma(x) = \\large\\frac{1}{1+e^{-x}}$\n",
        "\n",
        "a neuron with 3 inputs\n",
        "\n",
        "$y = \\sigma(z) = \\sigma( \\sum\\limits_{i=1}^3 w_i\\cdot x_i + b)$\n",
        "\n",
        "$loss L = d(\\hat y, y)$\n",
        "\n",
        "$x_i 是我們收集的資料，訓練或推估時就是我們已知的值$\n",
        "\n",
        "$\\sigma 是我們設定模型時的運算$\n",
        "\n",
        "$\\hat y 是我們收到資料後作的標籤，訓練時也是已知值$\n",
        "\n",
        "\n"
      ]
    },
    {
      "cell_type": "code",
      "metadata": {
        "id": "oQ2UV2dPrQhF"
      },
      "source": [
        "import numpy as np"
      ],
      "execution_count": null,
      "outputs": []
    },
    {
      "cell_type": "code",
      "metadata": {
        "id": "L5a1mwJPlNzP"
      },
      "source": [
        "def sigmoid(x):\n",
        "  x = np.array(x)\n",
        "  z = 1/(1+np.exp(-x))\n",
        "  return z"
      ],
      "execution_count": null,
      "outputs": []
    },
    {
      "cell_type": "code",
      "metadata": {
        "colab": {
          "base_uri": "https://localhost:8080/"
        },
        "id": "SK7hmOYSS3tC",
        "outputId": "0811658d-1c47-4418-e92a-91fc66fb0da2"
      },
      "source": [
        "sigmoid(1)"
      ],
      "execution_count": null,
      "outputs": [
        {
          "output_type": "execute_result",
          "data": {
            "text/plain": [
              "0.7310585786300049"
            ]
          },
          "metadata": {},
          "execution_count": 3
        }
      ]
    },
    {
      "cell_type": "code",
      "metadata": {
        "colab": {
          "base_uri": "https://localhost:8080/"
        },
        "id": "O3X3AuDLrXIM",
        "outputId": "168a6530-60ab-4989-ee9a-caa0887e1b38"
      },
      "source": [
        "sigmoid(np.array([3,2, -2,-10,10]))"
      ],
      "execution_count": null,
      "outputs": [
        {
          "output_type": "execute_result",
          "data": {
            "text/plain": [
              "array([9.52574127e-01, 8.80797078e-01, 1.19202922e-01, 4.53978687e-05,\n",
              "       9.99954602e-01])"
            ]
          },
          "metadata": {},
          "execution_count": 4
        }
      ]
    },
    {
      "cell_type": "code",
      "metadata": {
        "colab": {
          "base_uri": "https://localhost:8080/"
        },
        "id": "G_yRX0Etp5xP",
        "outputId": "e2918467-2a77-4e7b-c78a-7c7b97f4cbc7"
      },
      "source": [
        "sigmoid_p = sigmoid(0+delta)\n",
        "sigmoid_m = sigmoid(0-delta)\n",
        "d_sigmoid = (sigmoid_p-sigmoid_m)/(2*delta)\n",
        "d_ls_sigmoid.append(d_sigmoid)\n",
        "\n",
        "d_sigmoid"
      ],
      "execution_count": null,
      "outputs": [
        {
          "output_type": "execute_result",
          "data": {
            "text/plain": [
              "0.24999999979180565"
            ]
          },
          "metadata": {},
          "execution_count": 8
        }
      ]
    },
    {
      "cell_type": "code",
      "metadata": {
        "colab": {
          "base_uri": "https://localhost:8080/"
        },
        "id": "yPSYDiwSLTyT",
        "outputId": "e65b990d-7a51-4063-9957-ae233e2078b0"
      },
      "source": [
        "x = np.arange(-10, 10, 0.1)\n",
        "delta = 0.0001\n",
        "d_ls_sigmoid = []\n",
        "for i in x:\n",
        "  sigmoid_p = sigmoid(i+delta)\n",
        "  sigmoid_m = sigmoid(i-delta)\n",
        "  d_sigmoid = (sigmoid_p-sigmoid_m)/(2*delta)\n",
        "  d_ls_sigmoid.append(d_sigmoid)\n",
        "plt.plot(x, d_ls_sigmoid)\n",
        "print(max(d_ls_sigmoid))"
      ],
      "execution_count": null,
      "outputs": [
        {
          "output_type": "stream",
          "name": "stdout",
          "text": [
            "0.24999999979180565\n"
          ]
        },
        {
          "output_type": "display_data",
          "data": {
            "image/png": "[encoded data removed]",
            "text/plain": [
              "<Figure size 432x288 with 1 Axes>"
            ]
          },
          "metadata": {
            "needs_background": "light"
          }
        }
      ]
    },
    {
      "cell_type": "code",
      "metadata": {
        "colab": {
          "base_uri": "https://localhost:8080/",
          "height": 395
        },
        "id": "botGNJELMyiv",
        "outputId": "c0b1e55d-0c99-4932-e360-790877abfd54"
      },
      "source": [
        "x = np.arange(-20, 30, 0.1)\n",
        "delta = 0.0001\n",
        "d_ls_sigmoid = []\n",
        "sigmoid_ls = []\n",
        "for i in x:\n",
        "  sigmoid_ls.append(sigmoid(i))\n",
        "  sigmoid_p = sigmoid(i+delta)\n",
        "  sigmoid_m = sigmoid(i-delta)\n",
        "  sigmoid_ls.append\n",
        "  d_sigmoid = (sigmoid_p-sigmoid_m)/(2*delta)\n",
        "  d_ls_sigmoid.append(d_sigmoid)\n",
        "plt.figure(figsize = (10, 6)) \n",
        "plt.xlim(-20,30)\n",
        "plt.ylim(-0.5, 1.5) \n",
        "plt.plot(x, sigmoid_ls)\n",
        "plt.grid()\n",
        "#plt.plot(x, d_ls_sigmoid)\n",
        "print(max(d_ls_sigmoid))"
      ],
      "execution_count": null,
      "outputs": [
        {
          "output_type": "stream",
          "name": "stdout",
          "text": [
            "0.24999999979180565\n"
          ]
        },
        {
          "output_type": "display_data",
          "data": {
            "image/png": "[encoded data removed]",
            "text/plain": [
              "<Figure size 720x432 with 1 Axes>"
            ]
          },
          "metadata": {
            "needs_background": "light"
          }
        }
      ]
    },
    {
      "cell_type": "code",
      "metadata": {
        "id": "flP_3r6TmVH7"
      },
      "source": [
        "def sigmoid_gradient(X):\n",
        "    output = sigmoid(X)*(1-sigmoid(X))\n",
        "    return output"
      ],
      "execution_count": null,
      "outputs": []
    },
    {
      "cell_type": "markdown",
      "metadata": {
        "id": "TdKQ96zhthxh"
      },
      "source": [
        "## Softmax:\n",
        "\n",
        "$z_j = \\frac{\\Large e^{x_{\\small j}}}{\\large\\sum\\limits_{i=1}^n e^{x_{\\small i}}},\\space \\space j=1, 2, 3... \\large n$ \n",
        "\n",
        "softmax 除了輸出總和為1, 也有拉大比例的趨勢\n",
        "\n",
        "$以 1,4 輸入$ \n",
        "\n",
        "會得到 $0.047, 0.953$\n",
        "\n"
      ]
    },
    {
      "cell_type": "code",
      "metadata": {
        "id": "81cUlLE4thxi"
      },
      "source": [
        "def softmax(X):  # define activation: softmax      \n",
        "    X = np.array(X)\n",
        "    return np.exp(X) / np.sum(np.exp(X), axis=0, keepdims=True)"
      ],
      "execution_count": null,
      "outputs": []
    },
    {
      "cell_type": "code",
      "metadata": {
        "colab": {
          "base_uri": "https://localhost:8080/"
        },
        "id": "hz-bBmBH2zGv",
        "outputId": "0adc3705-2c10-4bfd-9584-e1463960772f"
      },
      "source": [
        "softmax([1,4])"
      ],
      "execution_count": null,
      "outputs": [
        {
          "output_type": "execute_result",
          "data": {
            "text/plain": [
              "array([0.04742587, 0.95257413])"
            ]
          },
          "metadata": {},
          "execution_count": 10
        }
      ]
    },
    {
      "cell_type": "code",
      "metadata": {
        "colab": {
          "base_uri": "https://localhost:8080/"
        },
        "id": "EHZaPGeH1hXe",
        "outputId": "08eec27d-9294-4abf-b106-7be563156683"
      },
      "source": [
        "softmax(np.array([2,8]))"
      ],
      "execution_count": null,
      "outputs": [
        {
          "output_type": "execute_result",
          "data": {
            "text/plain": [
              "array([0.00247262, 0.99752738])"
            ]
          },
          "metadata": {},
          "execution_count": 11
        }
      ]
    },
    {
      "cell_type": "code",
      "metadata": {
        "id": "Josa7EKAlf1k",
        "colab": {
          "base_uri": "https://localhost:8080/"
        },
        "outputId": "5206a831-9704-414a-f402-4761770785de"
      },
      "source": [
        "# Examples\n",
        "X = np.arange(5)\n",
        "softmax(X)"
      ],
      "execution_count": null,
      "outputs": [
        {
          "output_type": "execute_result",
          "data": {
            "text/plain": [
              "array([0.01165623, 0.03168492, 0.08612854, 0.23412166, 0.63640865])"
            ]
          },
          "metadata": {},
          "execution_count": 12
        }
      ]
    },
    {
      "cell_type": "markdown",
      "metadata": {
        "id": "Gw8MFLI97BRz"
      },
      "source": [
        "以 [2, 8] 為例\n",
        "\n",
        "原本 2, 8 是 20%, 80% 的比例 (1:4)\n",
        "\n",
        "經過 softmax 後比例為 0.25%, 99.75%  \n",
        "\n",
        "可以看到 比例拉大"
      ]
    },
    {
      "cell_type": "markdown",
      "metadata": {
        "id": "zuiT8or5kkTN"
      },
      "source": [
        "### 2 variables Sigmoid at Space\n"
      ]
    },
    {
      "cell_type": "code",
      "metadata": {
        "colab": {
          "base_uri": "https://localhost:8080/",
          "height": 279
        },
        "id": "RbonmFsykrIG",
        "outputId": "ef6b48a6-00ba-4454-fca9-0c2ad68f1609"
      },
      "source": [
        "# 2D\n",
        "data1 = np.random.normal(0, 1 ,(200,2))\n",
        "data1 = data1 +1.5\n",
        "plt.scatter(data1[:,0], data1[:,1], c = 'r')\n",
        "\n",
        "\n",
        "data2 = np.random.normal(0, 1 ,(250,2))\n",
        "data2 = data2 -1.5\n",
        "plt.scatter(data2[:,0], data2[:,1], c = 'b')\n",
        "plt.xlabel('x1')\n",
        "plt.ylabel('x2')\n",
        "plt.show()"
      ],
      "execution_count": null,
      "outputs": [
        {
          "output_type": "display_data",
          "data": {
            "image/png": "[encoded data removed]",
            "text/plain": [
              "<Figure size 432x288 with 1 Axes>"
            ]
          },
          "metadata": {
            "needs_background": "light"
          }
        }
      ]
    },
    {
      "cell_type": "code",
      "metadata": {
        "colab": {
          "base_uri": "https://localhost:8080/",
          "height": 302
        },
        "id": "2IADNsrKkrQ3",
        "outputId": "26e14759-9c35-4ee3-96e0-bf9588c5a904"
      },
      "source": [
        "# 繪製3D散布圖\n",
        "plt.scatter(data1[:,0], data1[:,1], c = 'r')\n",
        "z = sigmoid(data1[:,0]+data1[:,1])\n",
        "ax= plt.subplot(1,1,1, projection='3d')\n",
        "ax.scatter(data1[:,0], data1[:,1], z, c='r')\n",
        "z = sigmoid(data2[:,0]+data2[:,1])\n",
        "ax.scatter(data2[:,0], data2[:,1], z, c = 'b')\n",
        "\n",
        "X = np.arange(-3,3,0.1)\n",
        "Z = np.arange(0,1,0.1)\n",
        "\n",
        "X, Z = np.meshgrid(X, Z)\n",
        "Y = -X\n",
        "ax.plot_surface(X,Y,Z,cmap='coolwarm_r')#'rainbow')\n",
        "plt.show()"
      ],
      "execution_count": null,
      "outputs": [
        {
          "output_type": "stream",
          "text": [
            "/usr/local/lib/python3.7/dist-packages/ipykernel_launcher.py:4: MatplotlibDeprecationWarning: Adding an axes using the same arguments as a previous axes currently reuses the earlier instance.  In a future version, a new instance will always be created and returned.  Meanwhile, this warning can be suppressed, and the future behavior ensured, by passing a unique label to each axes instance.\n",
            "  after removing the cwd from sys.path.\n"
          ],
          "name": "stderr"
        },
        {
          "output_type": "display_data",
          "data": {
            "image/png": "[encoded data removed]",
            "text/plain": [
              "<Figure size 432x288 with 1 Axes>"
            ]
          },
          "metadata": {
            "needs_background": "light"
          }
        }
      ]
    },
    {
      "cell_type": "code",
      "metadata": {
        "colab": {
          "base_uri": "https://localhost:8080/",
          "height": 302
        },
        "id": "HzSYEF2pkrWh",
        "outputId": "9ced21ff-04f3-482e-db6c-4c3a36ebeb92"
      },
      "source": [
        "elev=0\n",
        "azim=-45\n",
        "\n",
        "# 繪製3D散布圖\n",
        "plt.scatter(data1[:,0], data1[:,1], c = 'r')\n",
        "z = sigmoid(data1[:,0]+data1[:,1])\n",
        "ax= plt.subplot(1,1,1, projection='3d')\n",
        "ax.scatter(data1[:,0], data1[:,1], z, c='r')\n",
        "z = sigmoid(data2[:,0]+data2[:,1])\n",
        "ax.scatter(data2[:,0], data2[:,1], z, c = 'b')\n",
        "\n",
        "X = np.arange(-3,3,0.1)\n",
        "Z = np.arange(0,1,0.1)\n",
        "\n",
        "X, Z = np.meshgrid(X, Z)\n",
        "Y = -X\n",
        "ax.plot_surface(X,Y,Z,cmap='coolwarm_r')#'rainbow')\n",
        "ax.view_init(elev=elev,azim=azim)\n",
        "plt.show()"
      ],
      "execution_count": null,
      "outputs": [
        {
          "output_type": "stream",
          "text": [
            "/usr/local/lib/python3.7/dist-packages/ipykernel_launcher.py:7: MatplotlibDeprecationWarning: Adding an axes using the same arguments as a previous axes currently reuses the earlier instance.  In a future version, a new instance will always be created and returned.  Meanwhile, this warning can be suppressed, and the future behavior ensured, by passing a unique label to each axes instance.\n",
            "  import sys\n"
          ],
          "name": "stderr"
        },
        {
          "output_type": "display_data",
          "data": {
            "image/png": "[encoded data removed]",
            "text/plain": [
              "<Figure size 432x288 with 1 Axes>"
            ]
          },
          "metadata": {
            "needs_background": "light"
          }
        }
      ]
    },
    {
      "cell_type": "code",
      "metadata": {
        "colab": {
          "base_uri": "https://localhost:8080/",
          "height": 302
        },
        "id": "Tf0pMS1PkrhK",
        "outputId": "3be43744-997f-498f-d834-c7b3bc9b1fcd"
      },
      "source": [
        "elev=1000000\n",
        "azim=180\n",
        "\n",
        "# 繪製3D散布圖\n",
        "plt.scatter(data1[:,0], data1[:,1], c = 'r')\n",
        "z = sigmoid(data1[:,0]+data1[:,1])\n",
        "ax= plt.subplot(1,1,1, projection='3d')\n",
        "ax.scatter(data1[:,0], data1[:,1], z, c='r')\n",
        "z = sigmoid(data2[:,0]+data2[:,1])\n",
        "ax.scatter(data2[:,0], data2[:,1], z, c = 'b')\n",
        "\n",
        "X = np.arange(-3,3,0.1)\n",
        "Z = np.arange(0,1,0.1)\n",
        "\n",
        "X, Z = np.meshgrid(X, Z)\n",
        "Y = -X\n",
        "ax.plot_surface(X,Y,Z,cmap='coolwarm_r')#'rainbow')\n",
        "ax.view_init(elev=elev,azim=azim)\n",
        "plt.show()"
      ],
      "execution_count": null,
      "outputs": [
        {
          "output_type": "stream",
          "text": [
            "/usr/local/lib/python3.7/dist-packages/ipykernel_launcher.py:7: MatplotlibDeprecationWarning: Adding an axes using the same arguments as a previous axes currently reuses the earlier instance.  In a future version, a new instance will always be created and returned.  Meanwhile, this warning can be suppressed, and the future behavior ensured, by passing a unique label to each axes instance.\n",
            "  import sys\n"
          ],
          "name": "stderr"
        },
        {
          "output_type": "display_data",
          "data": {
            "image/png": "[encoded data removed]",
            "text/plain": [
              "<Figure size 432x288 with 1 Axes>"
            ]
          },
          "metadata": {
            "needs_background": "light"
          }
        }
      ]
    },
    {
      "cell_type": "markdown",
      "metadata": {
        "id": "onUIFltARPou"
      },
      "source": [
        "## relu"
      ]
    },
    {
      "cell_type": "code",
      "metadata": {
        "id": "uMKTZamZRQ3-"
      },
      "source": [
        "def simple_relu(x):\n",
        "  if x >= 0:\n",
        "    return x\n",
        "  else: return 0\n",
        "  \n",
        "def relu(x = 0):\n",
        "  x[x<=0] = 0\n",
        "  return x"
      ],
      "execution_count": null,
      "outputs": []
    },
    {
      "cell_type": "code",
      "metadata": {
        "id": "mIZLAsqlRTr6",
        "colab": {
          "base_uri": "https://localhost:8080/",
          "height": 324
        },
        "outputId": "77a787f4-d3ae-4f11-f763-db45cb29f76b"
      },
      "source": [
        "import numpy as np\n",
        "import matplotlib.pyplot as plt\n",
        "X = np.linspace(-6, 4, 601)\n",
        "#relu(X)\n",
        "\n",
        "Y = []\n",
        "for i in X:\n",
        "  Y.append(simple_relu(i))\n",
        "plt.figure(figsize = (10, 5)) \n",
        "plt.xlim(-6, 4)\n",
        "plt.ylim(-1,4)\n",
        "\n",
        "plt.plot(X,Y)\n",
        "plt.show()\n"
      ],
      "execution_count": null,
      "outputs": [
        {
          "output_type": "display_data",
          "data": {
            "image/png": "[encoded data removed]",
            "text/plain": [
              "<Figure size 720x360 with 1 Axes>"
            ]
          },
          "metadata": {
            "needs_background": "light"
          }
        }
      ]
    },
    {
      "cell_type": "code",
      "metadata": {
        "id": "71rZD8xTRWwq",
        "colab": {
          "base_uri": "https://localhost:8080/",
          "height": 282
        },
        "outputId": "70d340a6-fc8f-4f3c-902b-fd9e89213788"
      },
      "source": [
        "X = np.linspace(-3, 3, 601)\n",
        "delta = 0.0001\n",
        "d_ls_relu = []\n",
        "Y = []\n",
        "for i in X:\n",
        "  Y.append(simple_relu(i))\n",
        "\n",
        "plt.plot(X,Y)\n",
        "for i in X:\n",
        "  relu_p = simple_relu(i+delta)\n",
        "  relu_m = simple_relu(i-delta)\n",
        "  d_relu = (relu_p-relu_m)/(2*delta)\n",
        "  d_ls_relu.append(d_relu)\n",
        "plt.plot(X, d_ls_relu)"
      ],
      "execution_count": null,
      "outputs": [
        {
          "output_type": "execute_result",
          "data": {
            "text/plain": [
              "[<matplotlib.lines.Line2D at 0x7f853d64b910>]"
            ]
          },
          "metadata": {},
          "execution_count": 19
        },
        {
          "output_type": "display_data",
          "data": {
            "image/png": "[encoded data removed]",
            "text/plain": [
              "<Figure size 432x288 with 1 Axes>"
            ]
          },
          "metadata": {
            "needs_background": "light"
          }
        }
      ]
    },
    {
      "cell_type": "markdown",
      "metadata": {
        "id": "BHvttRR_6xdw"
      },
      "source": [
        "# Loss Function"
      ]
    },
    {
      "cell_type": "markdown",
      "metadata": {
        "id": "aHqQhBmvLoHe"
      },
      "source": [
        "## Cross_Entropy\n",
        "\n",
        "### $H(p,q)=-\\displaystyle\\sum _{i=1}^m  p(x_i)\\,\\log q(x_i).\\!$\n",
        "\n",
        "\n",
        "\n"
      ]
    },
    {
      "cell_type": "markdown",
      "metadata": {
        "id": "fnMkwVCtgH_2"
      },
      "source": [
        "### 觀察 bce/cce @keras.losses\n",
        "\n",
        "### 基本上我們就把有 “1\" 的 取 $\\log q(x_i)$\n",
        "\n",
        "### [0, 1, 0, 0], [0.1, 0.6, 0.1, 0.2]\n",
        " $\\log 6$"
      ]
    },
    {
      "cell_type": "code",
      "metadata": {
        "colab": {
          "base_uri": "https://localhost:8080/"
        },
        "id": "vy7KYoaO_DEC",
        "outputId": "f8605e13-1506-4315-ca2d-0fbda5e73f2a"
      },
      "source": [
        "import numpy as np\n",
        "import tensorflow as tf\n",
        "y_true = [[0., 1.]]#, [0., 0.]]\n",
        "y_pred = [[0.6, 0.4]] #, [0.4, 0.6]]\n",
        "bce = tf.keras.losses.BinaryCrossentropy()\n",
        "print('from keras bce ', bce(y_true, y_pred).numpy())\n",
        "print('from def. ', -(1*np.log(0.4)))\n"
      ],
      "execution_count": null,
      "outputs": [
        {
          "output_type": "stream",
          "text": [
            "from keras bce  0.9162905\n",
            "from def.  0.916290731874155\n"
          ],
          "name": "stdout"
        }
      ]
    },
    {
      "cell_type": "code",
      "metadata": {
        "colab": {
          "base_uri": "https://localhost:8080/"
        },
        "id": "tFwj1iRxDsFd",
        "outputId": "4a55d331-e556-4a2f-b414-8175c9005232"
      },
      "source": [
        "import tensorflow as tf\n",
        "y_true = [[0., 0.]]#, [0., 0.]]\n",
        "y_pred = [[0.4, 0.6]] #, [0.4, 0.6]]\n",
        "bce = tf.keras.losses.BinaryCrossentropy()\n",
        "print('from keras bce, ', bce(y_true, y_pred).numpy())\n",
        "print('from definition', -(np.log(0.6)+np.log(0.4))/2)\n",
        "# "
      ],
      "execution_count": null,
      "outputs": [
        {
          "output_type": "stream",
          "text": [
            "from keras bce,  0.71355796\n",
            "from definition 0.7135581778200728\n"
          ],
          "name": "stdout"
        }
      ]
    },
    {
      "cell_type": "code",
      "metadata": {
        "colab": {
          "base_uri": "https://localhost:8080/"
        },
        "id": "tHbG6DB1EKqO",
        "outputId": "489e77d0-54e9-4448-9e1a-5d56aa49382b"
      },
      "source": [
        "import tensorflow as tf\n",
        "y_true = [[0., 1.], [0., 0.]]\n",
        "y_pred = [[0.6, 0.4], [0.4, 0.6]]\n",
        "bce = tf.keras.losses.BinaryCrossentropy()\n",
        "bce(y_true, y_pred).numpy()"
      ],
      "execution_count": null,
      "outputs": [
        {
          "output_type": "execute_result",
          "data": {
            "text/plain": [
              "0.81492424"
            ]
          },
          "metadata": {},
          "execution_count": 22
        }
      ]
    },
    {
      "cell_type": "markdown",
      "metadata": {
        "id": "FiSq70oD6vZM"
      },
      "source": [
        ""
      ]
    },
    {
      "cell_type": "markdown",
      "metadata": {
        "id": "b4Wg4f58lyZ1"
      },
      "source": [
        "## cce function"
      ]
    },
    {
      "cell_type": "code",
      "metadata": {
        "id": "fYIz-uLBlyw-"
      },
      "source": [
        "def cross_entropy(p, q):\n",
        "    delta = 1e-15\n",
        "    H = 0\n",
        "    for i in range(len(p)):\n",
        "        H += -p[i]*np.log(q[i]+delta)\n",
        "\n",
        "    H = H.sum()/p.shape[0]\n",
        "    return H"
      ],
      "execution_count": null,
      "outputs": []
    },
    {
      "cell_type": "markdown",
      "metadata": {
        "id": "a0bs8jTnMxcS"
      },
      "source": [
        "## MSE"
      ]
    },
    {
      "cell_type": "code",
      "metadata": {
        "id": "52RcdCx5My_E"
      },
      "source": [
        "# from keras(?)\n",
        "def mean_squared_error(y_true, y_pred):\n",
        "  y_true = np.array(y_true)\n",
        "  y_pred = np.array(y_pred)\n",
        "  output_errors = np.average((y_true - y_pred) ** 2)\n",
        "  return output_errors"
      ],
      "execution_count": null,
      "outputs": []
    },
    {
      "cell_type": "code",
      "metadata": {
        "id": "IxBqN-9i56kz"
      },
      "source": [
        "def MSE(true, pred):\n",
        "    MSE = 0\n",
        "    for i in range(len(true)):\n",
        "        MSE += (true[i]-pred[i])**2\n",
        "    return MSE/len(true)"
      ],
      "execution_count": null,
      "outputs": []
    },
    {
      "cell_type": "code",
      "metadata": {
        "colab": {
          "base_uri": "https://localhost:8080/"
        },
        "id": "SmgYSNx3OWUS",
        "outputId": "de0b5168-4413-4d23-d70e-a9214fd03f4b"
      },
      "source": [
        "mean_squared_error([1,1,2],[2,2,8])"
      ],
      "execution_count": null,
      "outputs": [
        {
          "output_type": "execute_result",
          "data": {
            "text/plain": [
              "12.666666666666666"
            ]
          },
          "metadata": {},
          "execution_count": 26
        }
      ]
    },
    {
      "cell_type": "code",
      "metadata": {
        "id": "IbrgD4nvh-Sy"
      },
      "source": [
        ""
      ],
      "execution_count": null,
      "outputs": []
    },
    {
      "cell_type": "markdown",
      "metadata": {
        "id": "IoGCr7ZIh_E8"
      },
      "source": [
        "## loss: mse\n",
        "\n",
        "x-axis is $\\hat{y}^n * f(x)$\n",
        "\n",
        "y-axis is loss value\n",
        "\n",
        "$l(f(x^n), \\hat{y}^n) = (\\hat{y}^nf(x^n) - 1)^2$\n",
        "- $l(f(x^n), \\hat{y}^n) = (f(x^n) - 1)^2, if \\space \\space \\hat{y}^n = +1$\n",
        "- $l(f(x^n), \\hat{y}^n) = (f(x^n) + 1)^2, if \\space \\space \\hat{y}^n = -1$\n",
        "\n",
        "\n"
      ]
    },
    {
      "cell_type": "code",
      "metadata": {
        "colab": {
          "base_uri": "https://localhost:8080/",
          "height": 281
        },
        "id": "EpbADB2oiPJM",
        "outputId": "a92e91c0-6434-4842-f690-836c45586c18"
      },
      "source": [
        "import numpy as np\n",
        "import matplotlib.pyplot as plt\n",
        "\n",
        "f = np.linspace(-16, 18, 1701)\n",
        "def loss_mse(x, y=1):\n",
        "  loss = 1*(x-1)**2\n",
        "  return loss\n",
        "loss = loss_mse(f,1)\n",
        "plt.plot(f, loss)\n",
        "plt.title('mse loss, if y is +1')\n",
        "plt.grid(b=True)"
      ],
      "execution_count": null,
      "outputs": [
        {
          "output_type": "display_data",
          "data": {
            "image/png": "[encoded data removed]",
            "text/plain": [
              "<Figure size 432x288 with 1 Axes>"
            ]
          },
          "metadata": {
            "needs_background": "light"
          }
        }
      ]
    },
    {
      "cell_type": "markdown",
      "metadata": {
        "id": "tQCD_kpWmxfx"
      },
      "source": [
        "## loss: mse(sigmoid)\n",
        "\n",
        "x-axis is $\\hat{y}^n * f(x)$\n",
        "\n",
        "y-axis is loss value\n",
        "\n",
        "$l(f(x^n), \\hat{y}^n) = (\\sigma(\\hat{y}^nf(x^n)) - 1)^2$\n",
        "- $l(f(x^n), \\hat{y}^n) = (\\sigma(f(x^n)) - 1)^2, if \\space \\space \\hat{y}^n = +1$\n",
        "- $l(f(x^n), \\hat{y}^n) = (\\sigma(f(x^n)))^2, if \\space \\space \\hat{y}^n = -1$"
      ]
    },
    {
      "cell_type": "code",
      "metadata": {
        "colab": {
          "base_uri": "https://localhost:8080/",
          "height": 281
        },
        "id": "KjUSfOO2mZG-",
        "outputId": "dae54c01-b926-4307-9eea-6044a8a93c20"
      },
      "source": [
        "\n",
        "f = np.linspace(-16, 18, 1701)\n",
        "def loss_mse_sigmoid(x, y=1):\n",
        "  loss = 1/(1+np.exp(-x))\n",
        "  loss = 1*(loss-1)**2\n",
        "  return loss\n",
        "loss = loss_mse_sigmoid(f,1)\n",
        "plt.plot(f, loss)\n",
        "plt.title(' loss: mse+sigmoid')\n",
        "plt.grid(b=True)"
      ],
      "execution_count": null,
      "outputs": [
        {
          "output_type": "display_data",
          "data": {
            "image/png": "[encoded data removed]",
            "text/plain": [
              "<Figure size 432x288 with 1 Axes>"
            ]
          },
          "metadata": {
            "needs_background": "light"
          }
        }
      ]
    },
    {
      "cell_type": "markdown",
      "metadata": {
        "id": "yLX6qxISoMkO"
      },
      "source": [
        "##loss = sigmoid + cross entropy (logistic regression)\n",
        "\n",
        "x-axis is $\\hat{y}^n * f(x)$\n",
        "\n",
        "y-axis is loss value\n",
        "\n",
        "$l(f(x^n), \\hat{y}^n) = \\ln(1+exp(-\\hat{y}^nf(x^n)))$\n"
      ]
    },
    {
      "cell_type": "code",
      "metadata": {
        "colab": {
          "base_uri": "https://localhost:8080/",
          "height": 281
        },
        "id": "zCbea1NEo1LB",
        "outputId": "4aabfe77-ea49-4891-ae08-7e9bf12a1cff"
      },
      "source": [
        "yfx = np.linspace(-16, 18, 1701)\n",
        "def loss_sigmoid_ce(yfx):\n",
        "  return np.log(1+np.exp(-yfx))/np.log(2)\n",
        "\n",
        "loss = loss_sigmoid_ce(yfx)\n",
        "plt.plot(yfx, loss)\n",
        "plt.title('loss: sigmoid + crossentroy')\n",
        "plt.grid(b=True)\n"
      ],
      "execution_count": null,
      "outputs": [
        {
          "output_type": "display_data",
          "data": {
            "image/png": "[encoded data removed]",
            "text/plain": [
              "<Figure size 432x288 with 1 Axes>"
            ]
          },
          "metadata": {
            "needs_background": "light"
          }
        }
      ]
    },
    {
      "cell_type": "code",
      "metadata": {
        "colab": {
          "base_uri": "https://localhost:8080/",
          "height": 281
        },
        "id": "PIhKQMXir9MP",
        "outputId": "f157c864-5a12-4146-e3c9-1b49ece1b7cf"
      },
      "source": [
        "f = np.linspace(-12, 14, 1351)\n",
        "\n",
        "def ideal_loss(f):\n",
        "  h=np.zeros(f.shape[0])\n",
        "  h[f<=0] = 1\n",
        "  return h\n",
        "\n",
        "\n",
        "loss = ideal_loss(f)\n",
        "plt.plot(f, loss)\n",
        "plt.title('loss: ideal_loss')\n",
        "plt.grid(b=True)"
      ],
      "execution_count": null,
      "outputs": [
        {
          "output_type": "display_data",
          "data": {
            "image/png": "[encoded data removed]",
            "text/plain": [
              "<Figure size 432x288 with 1 Axes>"
            ]
          },
          "metadata": {
            "needs_background": "light"
          }
        }
      ]
    },
    {
      "cell_type": "markdown",
      "metadata": {
        "id": "wNvAyuuCw1oS"
      },
      "source": [
        "## loss: hinge\n"
      ]
    },
    {
      "cell_type": "code",
      "metadata": {
        "colab": {
          "base_uri": "https://localhost:8080/",
          "height": 281
        },
        "id": "Sh2Ac89Hw0wf",
        "outputId": "062ad25a-814e-411a-ed15-2aac347769d5"
      },
      "source": [
        "f = np.linspace(-12, 14, 1351)\n",
        "\n",
        "def hinge_loss(f):\n",
        "  h = (1-f)\n",
        "  h[h<0]=0\n",
        "  return h\n",
        "\n",
        "\n",
        "loss = hinge_loss(f)\n",
        "plt.plot(f, loss)\n",
        "plt.title('loss: hinge_loss')\n",
        "plt.grid(b=True)"
      ],
      "execution_count": null,
      "outputs": [
        {
          "output_type": "display_data",
          "data": {
            "image/png": "[encoded data removed]",
            "text/plain": [
              "<Figure size 432x288 with 1 Axes>"
            ]
          },
          "metadata": {
            "needs_background": "light"
          }
        }
      ]
    },
    {
      "cell_type": "markdown",
      "metadata": {
        "id": "o7pvIYNSE8qb"
      },
      "source": [
        "## loss comparison"
      ]
    },
    {
      "cell_type": "code",
      "metadata": {
        "colab": {
          "base_uri": "https://localhost:8080/",
          "height": 395
        },
        "id": "qWbAvKmFp5M_",
        "outputId": "885421c7-2506-4819-cb2b-f8600cdd352e"
      },
      "source": [
        "f = np.linspace(-12, 14, 1351)\n",
        "loss1 = loss_mse(f,1)\n",
        "loss2 = loss_mse_sigmoid(f, 1)\n",
        "loss3 = loss_sigmoid_ce(f)\n",
        "loss4 = hinge_loss(f)\n",
        "loss_ideal = ideal_loss(f)\n",
        "plt.figure(figsize=(12,6))\n",
        "plt.plot(f, loss1, color = 'r')\n",
        "plt.plot(f, loss2, c ='g')\n",
        "plt.plot(f, loss3, c= 'b')\n",
        "plt.plot(f, loss4, c = 'y') #cmykw\n",
        "plt.plot(f, loss_ideal, color ='k', linewidth =2)\n",
        "plt.text(-5, 0.6, \"sigmoid+mse loss\", bbox=dict(facecolor='g', alpha=0.5))\n",
        "plt.text(3, 2, \"mse loss\", bbox=dict(facecolor='red', alpha=0.5))\n",
        "\n",
        "plt.text(-3, 4.5, \"sigmoid+cross_entropy\", bbox=dict(facecolor='b', alpha=0.2))\n",
        "plt.text(-4.5, 4.3, \"hinge loss\", bbox=dict(facecolor='y', alpha=0.1))\n",
        "plt.text(-3.5, 1.1, \"ideal loss\", bbox=dict(facecolor='k', alpha=0.1))\n",
        "\n",
        "\n",
        "\n",
        "plt.grid(True)\n",
        "plt.xlim(-6,7)\n",
        "plt.ylim(0,5)"
      ],
      "execution_count": null,
      "outputs": [
        {
          "output_type": "execute_result",
          "data": {
            "text/plain": [
              "(0.0, 5.0)"
            ]
          },
          "metadata": {},
          "execution_count": 32
        },
        {
          "output_type": "display_data",
          "data": {
            "image/png": "[encoded data removed]",
            "text/plain": [
              "<Figure size 864x432 with 1 Axes>"
            ]
          },
          "metadata": {
            "needs_background": "light"
          }
        }
      ]
    },
    {
      "cell_type": "markdown",
      "metadata": {
        "id": "XjUSAU8GEpG4"
      },
      "source": [
        "# Gradient Descent and MLP\n",
        "\n",
        "$W^{i+1} \\leftarrow W^{i} - \\eta {\\large\\triangledown}{L}|_{W = W^i}$\n",
        "\n",
        "\n",
        "$w^{i+1}_n \\leftarrow w^{i}_n - \\eta {\\large\\frac{\\partial L}{\\partial w_n}}|_{W = W^i}$\n",
        "\n",
        "$w^{i+1} \\leftarrow w^{i} - \\eta {\\large\\frac{\\partial L}{\\partial w}}|_{w= w^i, b = b^i}$\n",
        "\n",
        "$b^{i+1} \\leftarrow b^{i} - \\eta {\\large\\frac{\\partial L}{\\partial b}}|_{w= w^i, b = b^i}$\n",
        "\n"
      ]
    },
    {
      "cell_type": "code",
      "metadata": {
        "id": "ujckn2BAzFF5"
      },
      "source": [
        ""
      ],
      "execution_count": null,
      "outputs": []
    },
    {
      "cell_type": "markdown",
      "metadata": {
        "id": "gwzQej3kzFVv"
      },
      "source": [
        "$W^{i+1} \\Leftarrow W^i - \\eta\\triangledown$"
      ]
    },
    {
      "cell_type": "markdown",
      "metadata": {
        "id": "SALKtzOTPKHf"
      },
      "source": [
        "## MLP"
      ]
    },
    {
      "cell_type": "code",
      "metadata": {
        "colab": {
          "base_uri": "https://localhost:8080/"
        },
        "id": "HQ1h14WZPHXv",
        "outputId": "834fbe2b-1356-4cca-b32d-0cb44c51d37a"
      },
      "source": [
        "import numpy as np\n",
        "def function(data, W,B):\n",
        "  Z = np.matmul(data, W.transpose())+B\n",
        "  return Z\n",
        "data = np.array([[1,2,3]]) # 1*3\n",
        "w = np.array([[11,12, 13],[21,22,23]]) # 3*2\n",
        "b = np.array([[1,2]])\n",
        "function(data, w, b).shape"
      ],
      "execution_count": null,
      "outputs": [
        {
          "output_type": "execute_result",
          "data": {
            "text/plain": [
              "(1, 2)"
            ]
          },
          "metadata": {},
          "execution_count": 33
        }
      ]
    },
    {
      "cell_type": "code",
      "metadata": {
        "id": "TIjAFcj4RPFt"
      },
      "source": [
        ""
      ],
      "execution_count": null,
      "outputs": []
    },
    {
      "cell_type": "markdown",
      "metadata": {
        "id": "ZFiDC18p0WWm"
      },
      "source": [
        "## Derivative"
      ]
    },
    {
      "cell_type": "code",
      "metadata": {
        "id": "5vUGOv8N0VLX"
      },
      "source": [
        "import numpy as np\n",
        "delta = 0.1\n",
        "\n",
        "\n",
        "def derivative(f, x):  # Define derivative\n",
        "\n",
        "    # f is our function, and x is our variable\n",
        "    h = delta\n",
        "    return (f(x+h) - f(x)) / h"
      ],
      "execution_count": null,
      "outputs": []
    },
    {
      "cell_type": "code",
      "metadata": {
        "id": "k8BSSDud0bEA"
      },
      "source": [
        "def my_function(x):\n",
        "    y = 3*x**3 + 0.05*x**2 + 0.8*x\n",
        "    return y"
      ],
      "execution_count": null,
      "outputs": []
    },
    {
      "cell_type": "code",
      "metadata": {
        "colab": {
          "base_uri": "https://localhost:8080/",
          "height": 282
        },
        "id": "aLKK3BNM0m5d",
        "outputId": "5df0df00-a10f-4468-ab41-044212802a47"
      },
      "source": [
        "x = np.arange(-5, 5, 0.1)\n",
        "y = []\n",
        "for i in np.arange(-5, 5, 0.1):\n",
        "  y.append(derivative(my_function,i))\n",
        "\n",
        "import matplotlib.pyplot as plt\n",
        "plt.plot(x,y)"
      ],
      "execution_count": null,
      "outputs": [
        {
          "output_type": "execute_result",
          "data": {
            "text/plain": [
              "[<matplotlib.lines.Line2D at 0x7f84f15479d0>]"
            ]
          },
          "metadata": {},
          "execution_count": 36
        },
        {
          "output_type": "display_data",
          "data": {
            "image/png": "[encoded data removed]",
            "text/plain": [
              "<Figure size 432x288 with 1 Axes>"
            ]
          },
          "metadata": {
            "needs_background": "light"
          }
        }
      ]
    },
    {
      "cell_type": "code",
      "metadata": {
        "id": "ilipjnLC18RO"
      },
      "source": [
        ""
      ],
      "execution_count": null,
      "outputs": []
    },
    {
      "cell_type": "code",
      "metadata": {
        "colab": {
          "base_uri": "https://localhost:8080/",
          "height": 282
        },
        "id": "BvEPOV1W0wCy",
        "outputId": "bdcacd96-42ac-42a1-96b5-0e046436eb0b"
      },
      "source": [
        "x = np.arange(-5, 5, 0.1)\n",
        "y = []\n",
        "for i in np.arange(-5, 5, 0.1):\n",
        "  y.append(derivative(simple_relu, i))\n",
        "\n",
        "import matplotlib.pyplot as plt\n",
        "plt.plot(x,y)"
      ],
      "execution_count": null,
      "outputs": [
        {
          "output_type": "execute_result",
          "data": {
            "text/plain": [
              "[<matplotlib.lines.Line2D at 0x7f84f15264d0>]"
            ]
          },
          "metadata": {},
          "execution_count": 37
        },
        {
          "output_type": "display_data",
          "data": {
            "image/png": "[encoded data removed]",
            "text/plain": [
              "<Figure size 432x288 with 1 Axes>"
            ]
          },
          "metadata": {
            "needs_background": "light"
          }
        }
      ]
    },
    {
      "cell_type": "markdown",
      "metadata": {
        "id": "7datMLuCxcfn"
      },
      "source": [
        "# 新增區段"
      ]
    },
    {
      "cell_type": "markdown",
      "metadata": {
        "id": "EanGc-hI7Pup"
      },
      "source": [
        "## Gradient Descent"
      ]
    },
    {
      "cell_type": "code",
      "metadata": {
        "id": "aWM6wLB77O2Q"
      },
      "source": [
        "delta = 1e-6\n",
        "def partial_derivative(f, X, i):\n",
        "    H = X.copy()\n",
        "    h = delta\n",
        "    H[i] = X[i] + h\n",
        "\n",
        "    return (f(H) - f(X)) / h"
      ],
      "execution_count": null,
      "outputs": []
    },
    {
      "cell_type": "code",
      "metadata": {
        "id": "RgAQypp37JT_"
      },
      "source": [
        "def gradient(f, X):\n",
        "    grad = []\n",
        "    for i in range(len(X)):\n",
        "        grad.append(partial_derivative(f, X, i))\n",
        "    return gradf"
      ],
      "execution_count": null,
      "outputs": []
    },
    {
      "cell_type": "code",
      "metadata": {
        "id": "KsJ6oOwm6Lq2"
      },
      "source": [
        "def gradient_descent(X_train, Y_train, X_valid, Y_valid, W, alpha, num_iters):\n",
        "    train_loss = np.zeros((num_iters, 1))\n",
        "    valid_loss = np.zeros((num_iters, 1))\n",
        "\n",
        "    for i in range(num_iters):\n",
        "        delta = gradient(function, W)\n",
        "        delta = np.array(delta)\n",
        "        W -= alpha*delta\n",
        "\n",
        "        train_loss[i] = MSE(Y_train, np.matmul(X_train, W))\n",
        "        valid_loss[i] = MSE(Y_valid, np.matmul(X_valid, W))\n",
        "\n",
        "        if i % 10 == 0:\n",
        "            print('The training loss of the', i+1,\n",
        "                  'epoch is', train_loss[i][0].round(4),\n",
        "                  ', and the validation loss of the', i+1,\n",
        "                  'epoch is', valid_loss[i][0].round(4))\n",
        "    return W, train_loss, valid_loss"
      ],
      "execution_count": null,
      "outputs": []
    },
    {
      "cell_type": "markdown",
      "metadata": {
        "id": "ocJ9c_xoFGtT"
      },
      "source": [
        "## adagrad"
      ]
    },
    {
      "cell_type": "code",
      "metadata": {
        "id": "b5muXufqicgj"
      },
      "source": [
        "def adagrad(X_train, Y_train, X_valid, Y_valid, W, alpha, num_iters):\n",
        "    m = len(Y_train)\n",
        "    train_loss = np.zeros((num_iters, 1))\n",
        "    valid_loss = np.zeros((num_iters, 1))\n",
        "    alpha_sqrt = np.zeros((4,1))\n",
        "    alpha_ada = np.zeros((4,1))\n",
        " \n",
        "    for i in range(num_iters):\n",
        "        delta = gradient(function, W) \n",
        "        # output of function gradient is a list\n",
        "        delta = np.array(delta)\n",
        "        alpha_sqrt += delta**2\n",
        "        alpha_ada += 1/np.sqrt(alpha_sqrt)\n",
        "        W -= alpha*alpha_ada*delta.reshape(len(delta), 1)\n",
        " \n",
        "        train_loss[i] = MSE(Y_train, np.matmul(X_train, W))\n",
        "        valid_loss[i] = MSE(Y_valid, np.matmul(X_valid, W))\n",
        "        if i%10 == 0:\n",
        "            print('The training loss of the', i+1, 'epoch is', train_loss[i][0].round(4), \n",
        "                  ', and the validation loss of the', i+1, 'epoch is', valid_loss[i][0].round(4))\n",
        "    return W, train_loss, valid_loss"
      ],
      "execution_count": null,
      "outputs": []
    },
    {
      "cell_type": "markdown",
      "metadata": {
        "id": "hbEeIEsufr3X"
      },
      "source": [
        "# Others: \n"
      ]
    },
    {
      "cell_type": "markdown",
      "metadata": {
        "id": "ivBdCo69f21B"
      },
      "source": [
        "## IOU"
      ]
    },
    {
      "cell_type": "code",
      "metadata": {
        "id": "yCzQpE63fqY3"
      },
      "source": [
        "def bb_IOU(boxA, boxB):\n",
        "    # \n",
        "    # determine the (x, y)-coordinates of the intersection rectangle\n",
        "    xA = max(boxA[0], boxB[0])\n",
        "    yA = max(boxA[1], boxB[1])\n",
        "    xB = min(boxA[2], boxB[2])\n",
        "    yB = min(boxA[3], boxB[3])\n",
        "\n",
        "    # compute the area of intersection rectangle\n",
        "    interArea = max(0, xB - xA + 1) * max(0, yB - yA + 1)\n",
        "\n",
        "    # compute the area of both the prediction and ground-truth\n",
        "    # rectangles\n",
        "    boxAArea = (boxA[2] - boxA[0] + 1) * (boxA[3] - boxA[1] + 1)\n",
        "    boxBArea = (boxB[2] - boxB[0] + 1) * (boxB[3] - boxB[1] + 1)\n",
        "\n",
        "    # compute the intersection over union by taking the intersection\n",
        "    # area and dividing it by the sum of prediction + ground-truth\n",
        "    # areas - the interesection area\n",
        "    iou = interArea / float(boxAArea + boxBArea - interArea)\n",
        "\n",
        "    # return the intersection over union value\n",
        "    return iou"
      ],
      "execution_count": null,
      "outputs": []
    },
    {
      "cell_type": "markdown",
      "metadata": {
        "id": "9kQVqHcy4vJ1"
      },
      "source": [
        "\n",
        "## Gini Impurity\n",
        " ### 定義 $gini = 1- \\sum\\limits_{i=i}^{k}\\space p_i^{\\space2}$\n"
      ]
    },
    {
      "cell_type": "code",
      "metadata": {
        "colab": {
          "base_uri": "https://localhost:8080/"
        },
        "id": "UAApdiMq2q1t",
        "outputId": "644b8eb0-a30d-449c-ced5-d6b7f6578547"
      },
      "source": [
        "import numpy as np\n",
        "def gini(ls = [3,4]):\n",
        "  gini = 0\n",
        "  for i in ls:\n",
        "    gini += (i/sum(ls))**2 \n",
        "  gini = 1-gini\n",
        "  return float(f'{gini:.3f}')\n",
        "\n",
        "x = gini([3,4])\n",
        "print(f'this is a x output, {x}')\n",
        "gini([3,3]) #0.5\n",
        "gini([6,0]) #0\n",
        "gini([4,2]) #0.444\n",
        "gini([5,1]) #0.278\n",
        "gini([1,5]) #0.278"
      ],
      "execution_count": null,
      "outputs": [
        {
          "output_type": "stream",
          "text": [
            "this is a x output, 0.49\n"
          ],
          "name": "stdout"
        },
        {
          "output_type": "execute_result",
          "data": {
            "text/plain": [
              "0.278"
            ]
          },
          "metadata": {},
          "execution_count": 43
        }
      ]
    },
    {
      "cell_type": "markdown",
      "metadata": {
        "id": "oRbJ_5UYiKzb"
      },
      "source": [
        "## Entropy\n",
        "\n",
        "$entropy = - \\sum\\limits_{i=i}^{k}\\space p_i{\\space} log\\space p_i$\n"
      ]
    },
    {
      "cell_type": "code",
      "metadata": {
        "id": "uHj2bekxiGBm"
      },
      "source": [
        "import numpy as np\n",
        "\n",
        "def entropy(ls=[3,4]):\n",
        "  en = 0\n",
        "  for i in ls:\n",
        "    en += (-1)*(i/sum(ls))*np.log2((i/sum(ls))+ 0.000000001)\n",
        "  print(f'entropy of {ls} is, {en:.3f}' )\n",
        "  return float(f'{en:.3f}')"
      ],
      "execution_count": null,
      "outputs": []
    },
    {
      "cell_type": "code",
      "metadata": {
        "colab": {
          "base_uri": "https://localhost:8080/"
        },
        "id": "tyoMkhqxvXlS",
        "outputId": "e5b283af-019f-4a77-d716-426cdd5d2289"
      },
      "source": [
        "from google.colab import drive\n",
        "drive.mount('/content/drive')\n"
      ],
      "execution_count": null,
      "outputs": [
        {
          "output_type": "stream",
          "text": [
            "Mounted at /content/drive\n"
          ],
          "name": "stdout"
        }
      ]
    },
    {
      "cell_type": "code",
      "metadata": {
        "id": "xGVLbGcJv8bm",
        "colab": {
          "base_uri": "https://localhost:8080/"
        },
        "outputId": "d00abec5-0404-4b7f-acf0-c9d968059f4b"
      },
      "source": [
        "!ls drive/MyDrive/"
      ],
      "execution_count": null,
      "outputs": [
        {
          "output_type": "stream",
          "text": [
            " 1100628~0727智慧醫療AI應用技術人才養成班-課程表V1.docx\n",
            " 2107.08881.pdf\n",
            " A0926F\n",
            " cat150.jpg\n",
            " cat.1700.jpg\n",
            " cat_dream.png\n",
            " code_zip\n",
            "'Colab Notebooks'\n",
            " ColabOK\n",
            " CourseCode\n",
            " COVID-19疫苗懶人包資訊大全.pdf\n",
            " data.npy\n",
            " kaggle_token.py\n",
            " keras-yolo3-master\n",
            " LEE_HLP\n",
            " MRI_RESUNET_bce_10.h5\n",
            " MRI_RESUNET_bce_1.h5\n",
            " MRI_RESUNET_bce_20.h5\n",
            " MRI_RESUNET_bce_3.h5\n",
            " MRI_RESUNET_bce_50.h5\n",
            " MRI_UNET_bce_20.h5\n",
            " MyProject\n",
            " Patrick2021.pdf\n",
            " PatrickResume.pdf\n",
            "'patrickruan@cycu.org.tw 2021-05-25 16:15'\n",
            " PDF\n",
            " udemy\n",
            "'出題進度review.xlsx 的副本.xlsx'\n",
            " 勞務報酬單_july_Patrick.pdf\n",
            " 教學\n",
            " 教學PR\n",
            "'斯坦福連續發了四年的AI報告，今年講了什麼？ _ 數據分析不是個事.pdf'\n",
            " 智慧國家方案_2021_2025年__1100506核定本_.pdf\n",
            " 未命名的作品-1.png\n"
          ],
          "name": "stdout"
        }
      ]
    },
    {
      "cell_type": "markdown",
      "metadata": {
        "id": "G3K6APw8WlYp"
      },
      "source": [
        "$\\sum\\limits_r x_r w_r + \\sum\\limits_g x_g w_g ＋ \\sum\\limits_b x_b w_b + bias\\_b$"
      ]
    },
    {
      "cell_type": "markdown",
      "metadata": {
        "id": "gpoQqDctaNT5"
      },
      "source": [
        "## 神經元就是做 weighted sum + activation(non-linear)\n",
        "## Rotation and Squisting"
      ]
    },
    {
      "cell_type": "code",
      "metadata": {
        "colab": {
          "base_uri": "https://localhost:8080/",
          "height": 735
        },
        "id": "eSJbZ162aMhG",
        "outputId": "082ae07d-a977-451e-b57b-5530fcdaf5a6"
      },
      "source": [
        "import numpy as np\n",
        "import matplotlib.pyplot as plt\n",
        "plt.figure(figsize=(6,6))\n",
        "point =np.random.rand(2, 80)*6 - 3\n",
        "x = point[0]\n",
        "y = point[1]\n",
        "plt.scatter(x,y)\n",
        "plt.show()\n",
        "\n",
        "def sigmoid(x):\n",
        "  x = np.array(x)\n",
        "  z = 1/(1+np.exp(-x))\n",
        "  return z\n",
        "plt.figure(figsize=(6,6))\n",
        "x = sigmoid(x)\n",
        "y = sigmoid(y)\n",
        "plt.scatter(x,y)\n",
        "plt.xlim(-0.5, 1.5)\n",
        "plt.ylim(-0.5, 1.5)\n",
        "plt.show()"
      ],
      "execution_count": null,
      "outputs": [
        {
          "output_type": "display_data",
          "data": {
            "image/png": "[encoded data removed]",
            "text/plain": [
              "<Figure size 432x432 with 1 Axes>"
            ]
          },
          "metadata": {
            "needs_background": "light"
          }
        },
        {
          "output_type": "display_data",
          "data": {
            "image/png": "[encoded data removed]",
            "text/plain": [
              "<Figure size 432x432 with 1 Axes>"
            ]
          },
          "metadata": {
            "needs_background": "light"
          }
        }
      ]
    },
    {
      "cell_type": "markdown",
      "metadata": {
        "id": "-w2NeyFDQPEj"
      },
      "source": [
        "區段說明，\n",
        "\n",
        "如果 x 區段愈小，可以取得愈平滑的曲線\n",
        "\n",
        "用以說明微分等於斜率\n",
        "\n",
        "用以說明速度 = $位置變動/時間變動$ 也就是圖上ㄉㄜ斜率。\n",
        "\n",
        "當了解比率後，加上極限觀念就是會是微分。"
      ]
    },
    {
      "cell_type": "code",
      "metadata": {
        "colab": {
          "base_uri": "https://localhost:8080/"
        },
        "id": "m8dWWMAIKa_P",
        "outputId": "f681ced7-95af-41ed-9657-5c8634b410f8"
      },
      "source": [
        "146/9"
      ],
      "execution_count": null,
      "outputs": [
        {
          "output_type": "execute_result",
          "data": {
            "text/plain": [
              "16.22222222222222"
            ]
          },
          "metadata": {},
          "execution_count": 48
        }
      ]
    },
    {
      "cell_type": "code",
      "metadata": {
        "colab": {
          "base_uri": "https://localhost:8080/"
        },
        "id": "fuplAoxuGBMl",
        "outputId": "47a73b5b-b235-49ac-cc50-f8b424e31e19"
      },
      "source": [
        "n = (147-51)/9\n",
        "ls = []\n",
        "for i in range(10):\n",
        "  ls.append(51+i*n)\n",
        "ls"
      ],
      "execution_count": null,
      "outputs": [
        {
          "output_type": "execute_result",
          "data": {
            "text/plain": [
              "[51.0,\n",
              " 61.666666666666664,\n",
              " 72.33333333333333,\n",
              " 83.0,\n",
              " 93.66666666666666,\n",
              " 104.33333333333333,\n",
              " 115.0,\n",
              " 125.66666666666666,\n",
              " 136.33333333333331,\n",
              " 147.0]"
            ]
          },
          "metadata": {},
          "execution_count": 49
        }
      ]
    },
    {
      "cell_type": "code",
      "metadata": {
        "colab": {
          "base_uri": "https://localhost:8080/",
          "height": 966
        },
        "id": "jGCzBRFMDLfk",
        "outputId": "86802277-764a-4003-ae7d-85e3a1496a8c"
      },
      "source": [
        "x = list(range(20))\n",
        "y = [0, 5.1,10.2,15.3,20.4, 25.5,30.6,35.7,40.8,45.9,51.0,\n",
        " 61.666666666666664,\n",
        " 72.33333333333333,\n",
        " 83.0,\n",
        " 93.66666666666666,\n",
        " 104.33333333333333,\n",
        " 115.0,\n",
        " 125.66666666666666,\n",
        " 136.33333333333331,\n",
        " 147.0]\n",
        "plt.figure(figsize=(10,8))\n",
        "plt.plot(x,y)\n",
        "plt.show()\n",
        "\n",
        "x = list(range(20))\n",
        "y = [0, 3,6,9,12, 18,24,30,36,42,51,60,69,78,87,99,111,123,135,147]\n",
        "\n",
        "plt.figure(figsize=(10,8))\n",
        "plt.plot(x,y)"
      ],
      "execution_count": null,
      "outputs": [
        {
          "output_type": "display_data",
          "data": {
            "image/png": "[encoded data removed]",
            "text/plain": [
              "<Figure size 720x576 with 1 Axes>"
            ]
          },
          "metadata": {
            "needs_background": "light"
          }
        },
        {
          "output_type": "execute_result",
          "data": {
            "text/plain": [
              "[<matplotlib.lines.Line2D at 0x7f84f0cce810>]"
            ]
          },
          "metadata": {},
          "execution_count": 50
        },
        {
          "output_type": "display_data",
          "data": {
            "image/png": "[encoded data removed]",
            "text/plain": [
              "<Figure size 720x576 with 1 Axes>"
            ]
          },
          "metadata": {
            "needs_background": "light"
          }
        }
      ]
    },
    {
      "cell_type": "code",
      "metadata": {
        "id": "kNdV-ZIUEiXq"
      },
      "source": [
        ""
      ],
      "execution_count": null,
      "outputs": []
    },
    {
      "cell_type": "markdown",
      "metadata": {
        "id": "fpzZujzqUw0U"
      },
      "source": [
        "About $log$\n",
        "\n",
        "*  $2^2 = 4$\n",
        "*  $2^3 = 8$\n",
        "*  $2^4 = 16$\n",
        "*  $2^5 = 32$\n",
        "\n",
        "反問，\n",
        "* 那麼 4 是 2 的幾次方, 記作 $log_2\\space 4 = 2$\n",
        "* 那麼 8 是 2 的幾次方, 記作 $log_2\\space 8 = 3$\n",
        "* 那麼 16 是 2 的幾次方, 記作 $log_2\\space 16 = 4$\n",
        "* 那麼 32 是 2 的幾次方, 記作 $log_2\\space 32 = 5$\n",
        "\n",
        "* $2^0 = 1$\n",
        "* $2^{-1} = \\frac{1}{2} \\space \\Rightarrow log_2\\space\\frac{1}{2} = -1 \\space \\Rightarrow \\space - log_2\\space 2 = -1$\n",
        "* $2^{-2} = \\frac{1}{4}\\space \\Rightarrow log_2\\space\\frac{1}{4} = -2 \\space \\Rightarrow \\space - log_2\\space 4 = -2$\n",
        "* $2^{-1} \\times 2^1 = 2^0 = 1$\n",
        "* $log_2 \\space \\frac{1}{2} = - log_2 \\space 2$\n",
        "* $log_2 \\space \\frac{1}{p} = - log_2 \\space p$\n",
        "\n",
        "\n",
        "\n",
        "\n",
        "\n",
        "\n"
      ]
    },
    {
      "cell_type": "markdown",
      "metadata": {
        "id": "0TmEA9vVUzG4"
      },
      "source": [
        ""
      ]
    }
  ]
}