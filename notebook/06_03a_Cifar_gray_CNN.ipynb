{
  "nbformat": 4,
  "nbformat_minor": 0,
  "metadata": {
    "kernelspec": {
      "display_name": "Python 3",
      "language": "python",
      "name": "python3"
    },
    "language_info": {
      "codemirror_mode": {
        "name": "ipython",
        "version": 3
      },
      "file_extension": ".py",
      "mimetype": "text/x-python",
      "name": "python",
      "nbconvert_exporter": "python",
      "pygments_lexer": "ipython3",
      "version": "3.8.3"
    },
    "colab": {
      "name": "06_03_Cifar_gray_CNN.ipynb",
      "provenance": [],
      "include_colab_link": true
    }
  },
  "cells": [
    {
      "cell_type": "markdown",
      "metadata": {
        "id": "view-in-github",
        "colab_type": "text"
      },
      "source": [
        "<a href=\"https://colab.research.google.com/github/jumbokh/nknu-class/blob/main/notebook/06_03a_Cifar_gray_CNN.ipynb\" target=\"_parent\"><img src=\"https://colab.research.google.com/assets/colab-badge.svg\" alt=\"Open In Colab\"/></a>"
      ]
    },
    {
      "cell_type": "markdown",
      "metadata": {
        "id": "18-JNzWMk-uP"
      },
      "source": [
        "# cifar10 辨識"
      ]
    },
    {
      "cell_type": "markdown",
      "metadata": {
        "id": "1DVsdtYfk-uV"
      },
      "source": [
        "## 步驟1：載入 cifar10 資料"
      ]
    },
    {
      "cell_type": "code",
      "metadata": {
        "id": "ZAvCUW09k-uX",
        "outputId": "37c997c5-f316-4e8c-d251-e064a600495e",
        "colab": {
          "base_uri": "https://localhost:8080/"
        }
      },
      "source": [
        "import tensorflow as tf\n",
        "cifar10 = tf.keras.datasets.cifar10\n",
        "\n",
        "# 載入 cifar10 資料\n",
        "(x_train, y_train),(x_test, y_test) = cifar10.load_data()\n",
        "\n",
        "# 訓練/測試資料的 X/y 維度\n",
        "print(x_train.shape, y_train.shape,x_test.shape, y_test.shape)"
      ],
      "execution_count": 1,
      "outputs": [
        {
          "output_type": "stream",
          "name": "stdout",
          "text": [
            "Downloading data from https://www.cs.toronto.edu/~kriz/cifar-10-python.tar.gz\n",
            "170500096/170498071 [==============================] - 6s 0us/step\n",
            "170508288/170498071 [==============================] - 6s 0us/step\n",
            "(50000, 32, 32, 3) (50000, 1) (10000, 32, 32, 3) (10000, 1)\n"
          ]
        }
      ]
    },
    {
      "cell_type": "markdown",
      "metadata": {
        "id": "Fz8yg2cCk-ua"
      },
      "source": [
        "## 轉成單色"
      ]
    },
    {
      "cell_type": "code",
      "metadata": {
        "id": "HSzFxd-1k-ub",
        "outputId": "ae522001-6923-44c4-b5d0-18fe0dbd553a",
        "colab": {
          "base_uri": "https://localhost:8080/"
        }
      },
      "source": [
        "# 轉成單色：rgb_to_grayscale\n",
        "x_train = tf.image.rgb_to_grayscale(x_train)\n",
        "x_test = tf.image.rgb_to_grayscale(x_test)\n",
        "print(x_train.shape, x_test.shape)"
      ],
      "execution_count": 2,
      "outputs": [
        {
          "output_type": "stream",
          "name": "stdout",
          "text": [
            "(50000, 32, 32, 1) (10000, 32, 32, 1)\n"
          ]
        }
      ]
    },
    {
      "cell_type": "markdown",
      "metadata": {
        "id": "sG6-p4pbk-uc"
      },
      "source": [
        "## 步驟2：資料清理，此步驟無需進行"
      ]
    },
    {
      "cell_type": "markdown",
      "metadata": {
        "id": "VyyyPWvJk-ud"
      },
      "source": [
        "## 步驟3：進行特徵工程，將特徵縮放成(0, 1)之間"
      ]
    },
    {
      "cell_type": "code",
      "metadata": {
        "id": "t2KfYYU0k-uf"
      },
      "source": [
        "# 特徵縮放，使用常態化(Normalization)，公式 = (x - min) / (max - min)\n",
        "x_train_norm, x_test_norm = x_train / 255, x_test / 255"
      ],
      "execution_count": 3,
      "outputs": []
    },
    {
      "cell_type": "code",
      "metadata": {
        "id": "5SBV4jaRk-ug",
        "outputId": "23996972-9df9-4273-a650-a08c761b5b11",
        "colab": {
          "base_uri": "https://localhost:8080/"
        }
      },
      "source": [
        "# 確認轉換成功\n",
        "x_train_norm[0]"
      ],
      "execution_count": 4,
      "outputs": [
        {
          "output_type": "execute_result",
          "data": {
            "text/plain": [
              "<tf.Tensor: shape=(32, 32, 1), dtype=float32, numpy=\n",
              "array([[[0.23921569],\n",
              "        [0.1764706 ],\n",
              "        [0.1882353 ],\n",
              "        ...,\n",
              "        [0.5372549 ],\n",
              "        [0.50980395],\n",
              "        [0.5058824 ]],\n",
              "\n",
              "       [[0.07058824],\n",
              "        [0.        ],\n",
              "        [0.03921569],\n",
              "        ...,\n",
              "        [0.36862746],\n",
              "        [0.3529412 ],\n",
              "        [0.36862746]],\n",
              "\n",
              "       [[0.09411765],\n",
              "        [0.03137255],\n",
              "        [0.12156863],\n",
              "        ...,\n",
              "        [0.3529412 ],\n",
              "        [0.35686275],\n",
              "        [0.3137255 ]],\n",
              "\n",
              "       ...,\n",
              "\n",
              "       [[0.6784314 ],\n",
              "        [0.6039216 ],\n",
              "        [0.6117647 ],\n",
              "        ...,\n",
              "        [0.5254902 ],\n",
              "        [0.13725491],\n",
              "        [0.14901961]],\n",
              "\n",
              "       [[0.57254905],\n",
              "        [0.5019608 ],\n",
              "        [0.56078434],\n",
              "        ...,\n",
              "        [0.59607846],\n",
              "        [0.27058825],\n",
              "        [0.23137255]],\n",
              "\n",
              "       [[0.5882353 ],\n",
              "        [0.53333336],\n",
              "        [0.5764706 ],\n",
              "        ...,\n",
              "        [0.7372549 ],\n",
              "        [0.4862745 ],\n",
              "        [0.3882353 ]]], dtype=float32)>"
            ]
          },
          "metadata": {},
          "execution_count": 4
        }
      ]
    },
    {
      "cell_type": "markdown",
      "metadata": {
        "id": "fPHvk0Zsk-ui"
      },
      "source": [
        "## 步驟4：資料分割，此步驟無需進行，載入資料時，已經切割好了\n",
        "\n",
        "## 步驟5：建立模型結構\n",
        "\n",
        "## 步驟6：結合訓練資料及模型，進行模型訓練\n",
        "\n",
        "## 步驟7：評分(Score Model)"
      ]
    },
    {
      "cell_type": "code",
      "metadata": {
        "id": "E__rUX_Ik-uj",
        "outputId": "47c6ea2f-cee8-41d5-8c61-d60640f3e97f",
        "colab": {
          "base_uri": "https://localhost:8080/"
        }
      },
      "source": [
        "# 建立模型\n",
        "model = tf.keras.models.Sequential([\n",
        "    tf.keras.layers.Conv2D(32, (3, 3), activation='relu', input_shape=(32, 32, 1)),\n",
        "    tf.keras.layers.MaxPooling2D((2, 2)),\n",
        "    tf.keras.layers.Conv2D(64, (3, 3), activation='relu'),\n",
        "    tf.keras.layers.MaxPooling2D((2, 2)),\n",
        "    tf.keras.layers.Conv2D(64, (3, 3), activation='relu'),    \n",
        "    tf.keras.layers.Flatten(),    \n",
        "    tf.keras.layers.Dense(64, activation='relu'),    \n",
        "    tf.keras.layers.Dense(10)    \n",
        "])\n",
        "\n",
        "# 設定優化器(optimizer)、損失函數(loss)、效能衡量指標(metrics)的類別\n",
        "model.compile(optimizer='adam',\n",
        "              loss=tf.keras.losses.SparseCategoricalCrossentropy(from_logits=True),\n",
        "              metrics=['accuracy'])\n",
        "\n",
        "# 模型訓練\n",
        "history = model.fit(x_train_norm, y_train, epochs=10, validation_split=0.2)\n",
        "\n",
        "# 評分(Score Model)\n",
        "score=model.evaluate(x_test_norm, y_test, verbose=0)\n",
        "\n",
        "for i, x in enumerate(score):\n",
        "    print(f'{model.metrics_names[i]}: {score[i]:.4f}')"
      ],
      "execution_count": 5,
      "outputs": [
        {
          "output_type": "stream",
          "name": "stdout",
          "text": [
            "Epoch 1/10\n",
            "1250/1250 [==============================] - 51s 40ms/step - loss: 1.7398 - accuracy: 0.3737 - val_loss: 1.5184 - val_accuracy: 0.4587\n",
            "Epoch 2/10\n",
            "1250/1250 [==============================] - 48s 39ms/step - loss: 1.3762 - accuracy: 0.5178 - val_loss: 1.3170 - val_accuracy: 0.5369\n",
            "Epoch 3/10\n",
            "1250/1250 [==============================] - 49s 39ms/step - loss: 1.2126 - accuracy: 0.5756 - val_loss: 1.1847 - val_accuracy: 0.5815\n",
            "Epoch 4/10\n",
            "1250/1250 [==============================] - 48s 39ms/step - loss: 1.1146 - accuracy: 0.6137 - val_loss: 1.1246 - val_accuracy: 0.6060\n",
            "Epoch 5/10\n",
            "1250/1250 [==============================] - 49s 39ms/step - loss: 1.0365 - accuracy: 0.6400 - val_loss: 1.0752 - val_accuracy: 0.6276\n",
            "Epoch 6/10\n",
            "1250/1250 [==============================] - 48s 39ms/step - loss: 0.9663 - accuracy: 0.6647 - val_loss: 1.0324 - val_accuracy: 0.6414\n",
            "Epoch 7/10\n",
            "1250/1250 [==============================] - 47s 38ms/step - loss: 0.9213 - accuracy: 0.6815 - val_loss: 1.0270 - val_accuracy: 0.6517\n",
            "Epoch 8/10\n",
            "1250/1250 [==============================] - 47s 37ms/step - loss: 0.8712 - accuracy: 0.6963 - val_loss: 0.9820 - val_accuracy: 0.6613\n",
            "Epoch 9/10\n",
            "1250/1250 [==============================] - 47s 38ms/step - loss: 0.8341 - accuracy: 0.7086 - val_loss: 1.0277 - val_accuracy: 0.6508\n",
            "Epoch 10/10\n",
            "1250/1250 [==============================] - 48s 38ms/step - loss: 0.7967 - accuracy: 0.7232 - val_loss: 0.9581 - val_accuracy: 0.6740\n",
            "loss: 0.9718\n",
            "accuracy: 0.6684\n"
          ]
        }
      ]
    },
    {
      "cell_type": "code",
      "metadata": {
        "id": "007zo9Yjk-uk",
        "outputId": "dd5de9d7-9531-40b4-fbeb-a10909cd55b8",
        "colab": {
          "base_uri": "https://localhost:8080/",
          "height": 296
        }
      },
      "source": [
        "import matplotlib.pyplot as plt\n",
        "\n",
        "plt.plot(history.history['accuracy'], label='accuracy')\n",
        "plt.plot(history.history['val_accuracy'], label = 'val_accuracy')\n",
        "plt.xlabel('Epoch')\n",
        "plt.ylabel('Accuracy')\n",
        "plt.legend(loc='lower right')"
      ],
      "execution_count": 6,
      "outputs": [
        {
          "output_type": "execute_result",
          "data": {
            "text/plain": [
              "<matplotlib.legend.Legend at 0x7fccc0043ed0>"
            ]
          },
          "metadata": {},
          "execution_count": 6
        },
        {
          "output_type": "display_data",
          "data": {
            "image/png": "[encoded data removed]",
            "text/plain": [
              "<Figure size 432x288 with 1 Axes>"
            ]
          },
          "metadata": {
            "needs_background": "light"
          }
        }
      ]
    },
    {
      "cell_type": "code",
      "metadata": {
        "id": "40jNuk7Fk-um",
        "outputId": "43c9b84b-ef71-42b1-dec1-9228f1c43bb0",
        "colab": {
          "base_uri": "https://localhost:8080/"
        }
      },
      "source": [
        "model.summary()"
      ],
      "execution_count": 7,
      "outputs": [
        {
          "output_type": "stream",
          "name": "stdout",
          "text": [
            "Model: \"sequential\"\n",
            "_________________________________________________________________\n",
            "Layer (type)                 Output Shape              Param #   \n",
            "=================================================================\n",
            "conv2d (Conv2D)              (None, 30, 30, 32)        320       \n",
            "_________________________________________________________________\n",
            "max_pooling2d (MaxPooling2D) (None, 15, 15, 32)        0         \n",
            "_________________________________________________________________\n",
            "conv2d_1 (Conv2D)            (None, 13, 13, 64)        18496     \n",
            "_________________________________________________________________\n",
            "max_pooling2d_1 (MaxPooling2 (None, 6, 6, 64)          0         \n",
            "_________________________________________________________________\n",
            "conv2d_2 (Conv2D)            (None, 4, 4, 64)          36928     \n",
            "_________________________________________________________________\n",
            "flatten (Flatten)            (None, 1024)              0         \n",
            "_________________________________________________________________\n",
            "dense (Dense)                (None, 64)                65600     \n",
            "_________________________________________________________________\n",
            "dense_1 (Dense)              (None, 10)                650       \n",
            "=================================================================\n",
            "Total params: 121,994\n",
            "Trainable params: 121,994\n",
            "Non-trainable params: 0\n",
            "_________________________________________________________________\n"
          ]
        }
      ]
    },
    {
      "cell_type": "code",
      "metadata": {
        "id": "uaf_QpXvk-un"
      },
      "source": [
        ""
      ],
      "execution_count": 7,
      "outputs": []
    }
  ]
}