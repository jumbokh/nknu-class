{
  "nbformat": 4,
  "nbformat_minor": 0,
  "metadata": {
    "colab": {
      "name": "overview.ipynb",
      "provenance": [],
      "collapsed_sections": [],
      "toc_visible": true,
      "include_colab_link": true
    },
    "kernelspec": {
      "display_name": "Python 3",
      "name": "python3"
    }
  },
  "cells": [
    {
      "cell_type": "markdown",
      "metadata": {
        "id": "view-in-github",
        "colab_type": "text"
      },
      "source": [
        "<a href=\"https://colab.research.google.com/github/jumbokh/nknu-class/blob/main/notebook/overview.ipynb\" target=\"_parent\"><img src=\"https://colab.research.google.com/assets/colab-badge.svg\" alt=\"Open In Colab\"/></a>"
      ]
    },
    {
      "cell_type": "markdown",
      "metadata": {
        "id": "J8y9ZkLXmAZc"
      },
      "source": [
        "##### Copyright 2019 The TensorFlow Authors."
      ]
    },
    {
      "cell_type": "code",
      "metadata": {
        "cellView": "form",
        "id": "l7u9xMl3UeOX"
      },
      "source": [
        "#@title Licensed under the Apache License, Version 2.0 (the \"License\");\n",
        "# you may not use this file except in compliance with the License.\n",
        "# You may obtain a copy of the License at\n",
        "#\n",
        "# https://www.apache.org/licenses/LICENSE-2.0\n",
        "#\n",
        "# Unless required by applicable law or agreed to in writing, software\n",
        "# distributed under the License is distributed on an \"AS IS\" BASIS,\n",
        "# WITHOUT WARRANTIES OR CONDITIONS OF ANY KIND, either express or implied.\n",
        "# See the License for the specific language governing permissions and\n",
        "# limitations under the License."
      ],
      "execution_count": null,
      "outputs": []
    },
    {
      "cell_type": "markdown",
      "metadata": {
        "id": "8hTYmggsUAFZ"
      },
      "source": [
        "# TensorFlow 数据集\n",
        "\n",
        "TensorFlow Datasets 提供了一系列可以和 TensorFlow 配合使用的数据集。它负责下载和准备数据，以及构建 [`tf.data.Dataset`](https://tensorflow.google.cn/api_docs/python/tf/data/Dataset)。"
      ]
    },
    {
      "cell_type": "markdown",
      "metadata": {
        "id": "OGw9EgE0tC0C"
      },
      "source": [
        "<table class=\"tfo-notebook-buttons\" align=\"left\">\n",
        "  <td>\n",
        "    <a target=\"_blank\" href=\"https://tensorflow.google.cn/datasets/overview\"><img src=\"https://tensorflow.google.cn/images/tf_logo_32px.png\" />在 tensorflow.google.cn 上查看</a>\n",
        "  </td>\n",
        "  <td>\n",
        "    <a target=\"_blank\" href=\"https://colab.research.google.com/github/tensorflow/docs-l10n/blob/master/site/zh-cn/datasets/overview.ipynb\"><img src=\"https://tensorflow.google.cn/images/colab_logo_32px.png\" />在 Google Colab 运行</a>\n",
        "  </td>\n",
        "  <td>\n",
        "    <a target=\"_blank\" href=\"https://github.com/tensorflow/docs-l10n/blob/master/site/zh-cn/datasets/overview.ipynb\"><img src=\"https://tensorflow.google.cn/images/GitHub-Mark-32px.png\" />在 Github 上查看源代码</a>\n",
        "  </td>\n",
        "  <td>\n",
        "    <a href=\"https://storage.googleapis.com/tensorflow_docs/docs-l10n/site/zh-cn/datasets/overview.ipynb\"><img src=\"https://tensorflow.google.cn/images/download_logo_32px.png\" />下载 notebook</a>\n",
        "  </td>\n",
        "</table>"
      ]
    },
    {
      "cell_type": "markdown",
      "metadata": {
        "id": "y8lL6RLLUtCO"
      },
      "source": [
        "Note: 我们的 TensorFlow 社区翻译了这些文档。因为社区翻译是尽力而为， 所以无法保证它们是最准确的，并且反映了最新的\n",
        "[官方英文文档](https://tensorflow.google.cn/?hl=en)。如果您有改进此翻译的建议， 请提交 pull request 到\n",
        "[tensorflow/docs](https://github.com/tensorflow/docs) GitHub 仓库。要志愿地撰写或者审核译文，请加入\n",
        "[docs-zh-cn@tensorflow.org Google Group](https://groups.google.com/a/tensorflow.org/forum/#!forum/docs-zh-cn)。"
      ]
    },
    {
      "cell_type": "markdown",
      "metadata": {
        "id": "tJc3DDLEUAFf"
      },
      "source": [
        "## 安装\n",
        "\n",
        "`pip install tensorflow-datasets`\n",
        "\n",
        "注意使用 `tensorflow-datasets` 的前提是已经安装好 TensorFlow，目前支持的版本是 `tensorflow` (或者 `tensorflow-gpu`) >= `1.15.0`"
      ]
    },
    {
      "cell_type": "code",
      "metadata": {
        "cellView": "both",
        "id": "boeZp0sYbO41",
        "colab": {
          "base_uri": "https://localhost:8080/"
        },
        "outputId": "755c6bfd-bb77-4d6f-a52a-fc1d743a77fa"
      },
      "source": [
        "#!pip install -q tensorflow tensorflow-datasets matplotlib\n",
        "!pip install tensorflow-datasets==3.2.1"
      ],
      "execution_count": null,
      "outputs": [
        {
          "output_type": "stream",
          "name": "stdout",
          "text": [
            "Collecting tensorflow-datasets==3.2.1\n",
            "  Downloading tensorflow_datasets-3.2.1-py3-none-any.whl (3.4 MB)\n",
            "\u001b[K     |████████████████████████████████| 3.4 MB 7.0 MB/s \n",
            "\u001b[?25hRequirement already satisfied: requests>=2.19.0 in /usr/local/lib/python3.7/dist-packages (from tensorflow-datasets==3.2.1) (2.23.0)\n",
            "Requirement already satisfied: attrs>=18.1.0 in /usr/local/lib/python3.7/dist-packages (from tensorflow-datasets==3.2.1) (21.2.0)\n",
            "Requirement already satisfied: tensorflow-metadata in /usr/local/lib/python3.7/dist-packages (from tensorflow-datasets==3.2.1) (1.2.0)\n",
            "Requirement already satisfied: numpy in /usr/local/lib/python3.7/dist-packages (from tensorflow-datasets==3.2.1) (1.19.5)\n",
            "Requirement already satisfied: promise in /usr/local/lib/python3.7/dist-packages (from tensorflow-datasets==3.2.1) (2.3)\n",
            "Requirement already satisfied: future in /usr/local/lib/python3.7/dist-packages (from tensorflow-datasets==3.2.1) (0.16.0)\n",
            "Requirement already satisfied: wrapt in /usr/local/lib/python3.7/dist-packages (from tensorflow-datasets==3.2.1) (1.12.1)\n",
            "Requirement already satisfied: absl-py in /usr/local/lib/python3.7/dist-packages (from tensorflow-datasets==3.2.1) (0.12.0)\n",
            "Requirement already satisfied: dill in /usr/local/lib/python3.7/dist-packages (from tensorflow-datasets==3.2.1) (0.3.4)\n",
            "Requirement already satisfied: termcolor in /usr/local/lib/python3.7/dist-packages (from tensorflow-datasets==3.2.1) (1.1.0)\n",
            "Requirement already satisfied: six in /usr/local/lib/python3.7/dist-packages (from tensorflow-datasets==3.2.1) (1.15.0)\n",
            "Requirement already satisfied: protobuf>=3.6.1 in /usr/local/lib/python3.7/dist-packages (from tensorflow-datasets==3.2.1) (3.17.3)\n",
            "Requirement already satisfied: tqdm in /usr/local/lib/python3.7/dist-packages (from tensorflow-datasets==3.2.1) (4.62.0)\n",
            "Requirement already satisfied: urllib3!=1.25.0,!=1.25.1,<1.26,>=1.21.1 in /usr/local/lib/python3.7/dist-packages (from requests>=2.19.0->tensorflow-datasets==3.2.1) (1.24.3)\n",
            "Requirement already satisfied: certifi>=2017.4.17 in /usr/local/lib/python3.7/dist-packages (from requests>=2.19.0->tensorflow-datasets==3.2.1) (2021.5.30)\n",
            "Requirement already satisfied: idna<3,>=2.5 in /usr/local/lib/python3.7/dist-packages (from requests>=2.19.0->tensorflow-datasets==3.2.1) (2.10)\n",
            "Requirement already satisfied: chardet<4,>=3.0.2 in /usr/local/lib/python3.7/dist-packages (from requests>=2.19.0->tensorflow-datasets==3.2.1) (3.0.4)\n",
            "Requirement already satisfied: googleapis-common-protos<2,>=1.52.0 in /usr/local/lib/python3.7/dist-packages (from tensorflow-metadata->tensorflow-datasets==3.2.1) (1.53.0)\n",
            "Installing collected packages: tensorflow-datasets\n",
            "  Attempting uninstall: tensorflow-datasets\n",
            "    Found existing installation: tensorflow-datasets 4.0.1\n",
            "    Uninstalling tensorflow-datasets-4.0.1:\n",
            "      Successfully uninstalled tensorflow-datasets-4.0.1\n",
            "Successfully installed tensorflow-datasets-3.2.1\n"
          ]
        }
      ]
    },
    {
      "cell_type": "code",
      "metadata": {
        "id": "vcwlX1pgVtbV"
      },
      "source": [
        "import tensorflow as tf"
      ],
      "execution_count": null,
      "outputs": []
    },
    {
      "cell_type": "code",
      "metadata": {
        "id": "TTBSvHcSLBzc"
      },
      "source": [
        "import matplotlib.pyplot as plt\n",
        "import numpy as np\n",
        "import tensorflow as tf\n",
        "\n",
        "import tensorflow_datasets as tfds"
      ],
      "execution_count": null,
      "outputs": []
    },
    {
      "cell_type": "markdown",
      "metadata": {
        "id": "PJRFn4v-UAFl"
      },
      "source": [
        "## Eager execution\n",
        "\n",
        "TensorFlow 数据集同时兼容 TensorFlow [Eager 模式](https://tensorflow.google.cn/guide/eager) 和图模式。在这个 colab 环境里面，我们的代码将通过 Eager 模式执行。"
      ]
    },
    {
      "cell_type": "code",
      "metadata": {
        "id": "o9H2EiXzfNgO"
      },
      "source": [
        "tf.compat.v1.enable_eager_execution()"
      ],
      "execution_count": null,
      "outputs": []
    },
    {
      "cell_type": "markdown",
      "metadata": {
        "id": "mXICnLE4UAFq"
      },
      "source": [
        "## 列出可用的数据集\n",
        "\n",
        "每一个数据集（dataset）都实现了抽象基类 [`tfds.core.DatasetBuilder`](https://www.tensorflow.google.cn/datasets/api_docs/python/tfds/core/DatasetBuilder) 来构建。你可以通过 `tfds.list_builders()` 列出所有可用的数据集。\n",
        "\n",
        "你可以通过 [数据集文档页](https://www.tensorflow.google.cn/datasets/catalog/overview) 查看所有支持的数据集及其补充文档。"
      ]
    },
    {
      "cell_type": "code",
      "metadata": {
        "id": "FAvbSVzjLCIb",
        "colab": {
          "base_uri": "https://localhost:8080/"
        },
        "outputId": "f429ae10-5bd2-4379-aa23-87da269e8d08"
      },
      "source": [
        "tfds.list_builders()"
      ],
      "execution_count": null,
      "outputs": [
        {
          "output_type": "execute_result",
          "data": {
            "text/plain": [
              "['abstract_reasoning',\n",
              " 'aeslc',\n",
              " 'aflw2k3d',\n",
              " 'ai2_arc',\n",
              " 'amazon_us_reviews',\n",
              " 'anli',\n",
              " 'arc',\n",
              " 'bair_robot_pushing_small',\n",
              " 'beans',\n",
              " 'big_patent',\n",
              " 'bigearthnet',\n",
              " 'billsum',\n",
              " 'binarized_mnist',\n",
              " 'binary_alpha_digits',\n",
              " 'blimp',\n",
              " 'c4',\n",
              " 'caltech101',\n",
              " 'caltech_birds2010',\n",
              " 'caltech_birds2011',\n",
              " 'cars196',\n",
              " 'cassava',\n",
              " 'cats_vs_dogs',\n",
              " 'celeb_a',\n",
              " 'celeb_a_hq',\n",
              " 'cfq',\n",
              " 'chexpert',\n",
              " 'cifar10',\n",
              " 'cifar100',\n",
              " 'cifar10_1',\n",
              " 'cifar10_corrupted',\n",
              " 'citrus_leaves',\n",
              " 'cityscapes',\n",
              " 'civil_comments',\n",
              " 'clevr',\n",
              " 'clinc_oos',\n",
              " 'cmaterdb',\n",
              " 'cnn_dailymail',\n",
              " 'coco',\n",
              " 'coil100',\n",
              " 'colorectal_histology',\n",
              " 'colorectal_histology_large',\n",
              " 'common_voice',\n",
              " 'cos_e',\n",
              " 'cosmos_qa',\n",
              " 'covid19sum',\n",
              " 'crema_d',\n",
              " 'curated_breast_imaging_ddsm',\n",
              " 'cycle_gan',\n",
              " 'deep_weeds',\n",
              " 'definite_pronoun_resolution',\n",
              " 'dementiabank',\n",
              " 'diabetic_retinopathy_detection',\n",
              " 'div2k',\n",
              " 'dmlab',\n",
              " 'downsampled_imagenet',\n",
              " 'dsprites',\n",
              " 'dtd',\n",
              " 'duke_ultrasound',\n",
              " 'emnist',\n",
              " 'eraser_multi_rc',\n",
              " 'esnli',\n",
              " 'eurosat',\n",
              " 'fashion_mnist',\n",
              " 'flic',\n",
              " 'flores',\n",
              " 'food101',\n",
              " 'forest_fires',\n",
              " 'fuss',\n",
              " 'gap',\n",
              " 'geirhos_conflict_stimuli',\n",
              " 'german_credit_numeric',\n",
              " 'gigaword',\n",
              " 'glue',\n",
              " 'groove',\n",
              " 'higgs',\n",
              " 'horses_or_humans',\n",
              " 'i_naturalist2017',\n",
              " 'imagenet2012',\n",
              " 'imagenet2012_corrupted',\n",
              " 'imagenet2012_real',\n",
              " 'imagenet2012_subset',\n",
              " 'imagenet_a',\n",
              " 'imagenet_resized',\n",
              " 'imagenet_v2',\n",
              " 'imagenette',\n",
              " 'imagewang',\n",
              " 'imdb_reviews',\n",
              " 'irc_disentanglement',\n",
              " 'iris',\n",
              " 'kitti',\n",
              " 'kmnist',\n",
              " 'lfw',\n",
              " 'librispeech',\n",
              " 'librispeech_lm',\n",
              " 'libritts',\n",
              " 'ljspeech',\n",
              " 'lm1b',\n",
              " 'lost_and_found',\n",
              " 'lsun',\n",
              " 'malaria',\n",
              " 'math_dataset',\n",
              " 'mctaco',\n",
              " 'mnist',\n",
              " 'mnist_corrupted',\n",
              " 'movie_lens',\n",
              " 'movie_rationales',\n",
              " 'moving_mnist',\n",
              " 'multi_news',\n",
              " 'multi_nli',\n",
              " 'multi_nli_mismatch',\n",
              " 'natural_questions',\n",
              " 'newsroom',\n",
              " 'nsynth',\n",
              " 'nyu_depth_v2',\n",
              " 'omniglot',\n",
              " 'open_images_challenge2019_detection',\n",
              " 'open_images_v4',\n",
              " 'openbookqa',\n",
              " 'opinion_abstracts',\n",
              " 'opinosis',\n",
              " 'opus',\n",
              " 'oxford_flowers102',\n",
              " 'oxford_iiit_pet',\n",
              " 'para_crawl',\n",
              " 'patch_camelyon',\n",
              " 'pet_finder',\n",
              " 'pg19',\n",
              " 'places365_small',\n",
              " 'plant_leaves',\n",
              " 'plant_village',\n",
              " 'plantae_k',\n",
              " 'qa4mre',\n",
              " 'quickdraw_bitmap',\n",
              " 'reddit',\n",
              " 'reddit_disentanglement',\n",
              " 'reddit_tifu',\n",
              " 'resisc45',\n",
              " 'robonet',\n",
              " 'rock_paper_scissors',\n",
              " 'rock_you',\n",
              " 'samsum',\n",
              " 'savee',\n",
              " 'scan',\n",
              " 'scene_parse150',\n",
              " 'scicite',\n",
              " 'scientific_papers',\n",
              " 'shapes3d',\n",
              " 'smallnorb',\n",
              " 'snli',\n",
              " 'so2sat',\n",
              " 'speech_commands',\n",
              " 'squad',\n",
              " 'stanford_dogs',\n",
              " 'stanford_online_products',\n",
              " 'starcraft_video',\n",
              " 'stl10',\n",
              " 'sun397',\n",
              " 'super_glue',\n",
              " 'svhn_cropped',\n",
              " 'ted_hrlr_translate',\n",
              " 'ted_multi_translate',\n",
              " 'tedlium',\n",
              " 'tf_flowers',\n",
              " 'the300w_lp',\n",
              " 'tiny_shakespeare',\n",
              " 'titanic',\n",
              " 'trivia_qa',\n",
              " 'uc_merced',\n",
              " 'ucf101',\n",
              " 'vctk',\n",
              " 'vgg_face2',\n",
              " 'visual_domain_decathlon',\n",
              " 'voc',\n",
              " 'voxceleb',\n",
              " 'voxforge',\n",
              " 'waymo_open_dataset',\n",
              " 'web_questions',\n",
              " 'wider_face',\n",
              " 'wiki40b',\n",
              " 'wikihow',\n",
              " 'wikipedia',\n",
              " 'wikipedia_toxicity_subtypes',\n",
              " 'winogrande',\n",
              " 'wmt14_translate',\n",
              " 'wmt15_translate',\n",
              " 'wmt16_translate',\n",
              " 'wmt17_translate',\n",
              " 'wmt18_translate',\n",
              " 'wmt19_translate',\n",
              " 'wmt_t2t_translate',\n",
              " 'wmt_translate',\n",
              " 'wordnet',\n",
              " 'xnli',\n",
              " 'xsum',\n",
              " 'yelp_polarity_reviews']"
            ]
          },
          "metadata": {},
          "execution_count": 8
        }
      ]
    },
    {
      "cell_type": "markdown",
      "metadata": {
        "id": "JWFm6VtdUAFt"
      },
      "source": [
        "## `tfds.load`: 一行代码获取数据集\n",
        "\n",
        "[`tfds.load`](https://www.tensorflow.google.cn/datasets/api_docs/python/tfds/load) 是构建并加载 `tf.data.Dataset` 最简单的方式。\n",
        "\n",
        "`tf.data.Dataset` 是构建输入流水线的标准 TensorFlow 接口。如果你对这个接口不熟悉，我们强烈建议你阅读 [TensorFlow 官方指南](https://www.tensorflow.google.cn/guide/datasets)。\n",
        "\n",
        "下面，我们先加载 MNIST 训练数据。这个步骤会下载并准备好该数据，除非你显式指定 `download=False`。值得注意的是，一旦该数据准备好了，后续的 `load` 命令便不会重新下载，可以重复使用准备好的数据。\n",
        "你可以通过指定 `data_dir=` (默认是 `~/tensorflow_datasets/`) 来自定义数据保存/加载的路径。"
      ]
    },
    {
      "cell_type": "code",
      "metadata": {
        "id": "dCou80mnLLPV",
        "colab": {
          "base_uri": "https://localhost:8080/"
        },
        "outputId": "575578e4-3d51-465d-ff9f-bfd46e5005cf"
      },
      "source": [
        "cifar10_train = tfds.load(name=\"cifar10\", split=\"train\")\n",
        "assert isinstance(cifar10_train, tf.data.Dataset)\n",
        "print(cifar10_train)"
      ],
      "execution_count": null,
      "outputs": [
        {
          "output_type": "stream",
          "name": "stdout",
          "text": [
            "<PrefetchDataset shapes: {id: (), image: (32, 32, 3), label: ()}, types: {id: tf.string, image: tf.uint8, label: tf.int64}>\n"
          ]
        }
      ]
    },
    {
      "cell_type": "markdown",
      "metadata": {
        "id": "xdICgkWrUAFw"
      },
      "source": [
        "加载数据集时，将使用规范的默认版本。 但是，建议你指定要使用的数据集的主版本，并在结果中表明使用了哪个版本的数据集。更多详情请参考[数据集版本控制文档](https://github.com/tensorflow/datasets/blob/master/docs/)。"
      ]
    },
    {
      "cell_type": "code",
      "metadata": {
        "id": "OCXCz-vhj0kE"
      },
      "source": [
        "cifar10 = tfds.load(\"cifar10:3.*.*\")"
      ],
      "execution_count": null,
      "outputs": []
    },
    {
      "cell_type": "markdown",
      "metadata": {
        "id": "qyhTG75PUAFy"
      },
      "source": [
        "## 特征字典\n",
        "\n",
        "所有 `tfds` 数据集都包含将特征名称映射到 Tensor 值的特征字典。 典型的数据集（如 MNIST）将具有2个键：`\"image\"` 和 `\"label\"`。 下面我们看一个例子。\n",
        "\n",
        "注意：在图模式（graph mode）下，请参阅 [tf.data 指南](https://www.tensorflow.google.cn/guide/datasets#creating_an_iterator) 以了解如何在 `tf.data.Dataset` 上进行迭代。"
      ]
    },
    {
      "cell_type": "code",
      "metadata": {
        "id": "YHE21nkHLrER",
        "colab": {
          "base_uri": "https://localhost:8080/",
          "height": 283
        },
        "outputId": "1446e18e-50ef-4ec2-cd91-af469f671373"
      },
      "source": [
        "for cifar10_example in cifar10_train.take(1):  # 只取一个样本\n",
        "    image, label = cifar10_example[\"image\"], cifar10_example[\"label\"]\n",
        "\n",
        "    plt.imshow(image.numpy()[:, :, 0].astype(np.float32), cmap=plt.get_cmap(\"gray\"))\n",
        "    print(\"Label: %d\" % label.numpy())"
      ],
      "execution_count": null,
      "outputs": [
        {
          "output_type": "stream",
          "name": "stdout",
          "text": [
            "Label: 7\n"
          ]
        },
        {
          "output_type": "display_data",
          "data": {
            "image/png": "[encoded data removed]",
            "text/plain": [
              "<Figure size 432x288 with 1 Axes>"
            ]
          },
          "metadata": {
            "needs_background": "light"
          }
        }
      ]
    },
    {
      "cell_type": "markdown",
      "metadata": {
        "id": "Ee5rTx4IUAF1"
      },
      "source": [
        "## `DatasetBuilder`\n",
        "\n",
        "`tfds.load` 实际上是一个基于 `DatasetBuilder` 的简单方便的包装器。我们可以直接使用 MNIST `DatasetBuilder` 实现与上述相同的操作。"
      ]
    },
    {
      "cell_type": "code",
      "metadata": {
        "id": "9FDDJXmBhpQ4",
        "colab": {
          "base_uri": "https://localhost:8080/"
        },
        "outputId": "8f1ab9c6-e1ce-4f76-b487-c3c280ead961"
      },
      "source": [
        "cifar10_builder = tfds.builder(\"cifar10\")\n",
        "cifar10_builder.download_and_prepare()\n",
        "cifar10_train = cifar10_builder.as_dataset(split=\"train\")\n",
        "cifar10_train"
      ],
      "execution_count": null,
      "outputs": [
        {
          "output_type": "execute_result",
          "data": {
            "text/plain": [
              "<PrefetchDataset shapes: {id: (), image: (32, 32, 3), label: ()}, types: {id: tf.string, image: tf.uint8, label: tf.int64}>"
            ]
          },
          "metadata": {},
          "execution_count": 14
        }
      ]
    },
    {
      "cell_type": "markdown",
      "metadata": {
        "id": "TaKrseRkUAF4"
      },
      "source": [
        "## 输入流水线\n",
        "\n",
        "一旦有了 `tf.data.Dataset` 对象，就可以使用 [`tf.data` 接口](https://www.tensorflow.google.cn/guide/datasets) 定义适合模型训练的输入流水线的其余部分。\n",
        "\n",
        "在这里，我们将重复使用数据集，以便有无限的样本流，然后随机打乱并创建大小为32的批。"
      ]
    },
    {
      "cell_type": "code",
      "metadata": {
        "id": "9OQZqGZMlSE8"
      },
      "source": [
        "cifar10_train = cifar10_train.repeat().shuffle(1024).batch(32)\n",
        "\n",
        "# prefetch 将使输入流水线可以在模型训练时异步获取批处理。\n",
        "cifar10_train = cifar10_train.prefetch(tf.data.experimental.AUTOTUNE)\n",
        "\n",
        "# 现在你可以遍历数据集的批次并在 mnist_train 中训练批次：\n",
        "#   ..."
      ],
      "execution_count": null,
      "outputs": []
    },
    {
      "cell_type": "markdown",
      "metadata": {
        "id": "4OT8i4qhUAF7"
      },
      "source": [
        "## 数据集信息（DatasetInfo）\n",
        "\n",
        "生成后，构建器将包含有关数据集的有用信息："
      ]
    },
    {
      "cell_type": "code",
      "metadata": {
        "id": "mSamfFznA9Ph",
        "colab": {
          "base_uri": "https://localhost:8080/"
        },
        "outputId": "04af2741-a880-4e15-8907-8f39b7862750"
      },
      "source": [
        "info = cifar10_builder.info\n",
        "print(info)"
      ],
      "execution_count": null,
      "outputs": [
        {
          "output_type": "stream",
          "name": "stdout",
          "text": [
            "tfds.core.DatasetInfo(\n",
            "    name='cifar10',\n",
            "    version=3.0.2,\n",
            "    description='The CIFAR-10 dataset consists of 60000 32x32 colour images in 10 classes, with 6000 images per class. There are 50000 training images and 10000 test images.',\n",
            "    homepage='https://www.cs.toronto.edu/~kriz/cifar.html',\n",
            "    features=FeaturesDict({\n",
            "        'id': Text(shape=(), dtype=tf.string),\n",
            "        'image': Image(shape=(32, 32, 3), dtype=tf.uint8),\n",
            "        'label': ClassLabel(shape=(), dtype=tf.int64, num_classes=10),\n",
            "    }),\n",
            "    total_num_examples=60000,\n",
            "    splits={\n",
            "        'test': 10000,\n",
            "        'train': 50000,\n",
            "    },\n",
            "    supervised_keys=('image', 'label'),\n",
            "    citation=\"\"\"@TECHREPORT{Krizhevsky09learningmultiple,\n",
            "        author = {Alex Krizhevsky},\n",
            "        title = {Learning multiple layers of features from tiny images},\n",
            "        institution = {},\n",
            "        year = {2009}\n",
            "    }\"\"\",\n",
            "    redistribution_info=,\n",
            ")\n",
            "\n"
          ]
        }
      ]
    },
    {
      "cell_type": "markdown",
      "metadata": {
        "id": "MVMLnarBUAF-"
      },
      "source": [
        "`DatasetInfo` 还包含特征相关的有用信息："
      ]
    },
    {
      "cell_type": "code",
      "metadata": {
        "id": "u1wL14QH2TW1",
        "colab": {
          "base_uri": "https://localhost:8080/"
        },
        "outputId": "c5a053f1-1217-48a8-e7c7-584b11c081e4"
      },
      "source": [
        "print(info.features)\n",
        "print(info.features[\"label\"].num_classes)\n",
        "print(info.features[\"label\"].names)"
      ],
      "execution_count": null,
      "outputs": [
        {
          "output_type": "stream",
          "name": "stdout",
          "text": [
            "FeaturesDict({\n",
            "    'id': Text(shape=(), dtype=tf.string),\n",
            "    'image': Image(shape=(32, 32, 3), dtype=tf.uint8),\n",
            "    'label': ClassLabel(shape=(), dtype=tf.int64, num_classes=10),\n",
            "})\n",
            "10\n",
            "['airplane', 'automobile', 'bird', 'cat', 'deer', 'dog', 'frog', 'horse', 'ship', 'truck']\n"
          ]
        }
      ]
    },
    {
      "cell_type": "markdown",
      "metadata": {
        "id": "YTiE3Ve9UAGB"
      },
      "source": [
        "你也可以通过 `tfds.load` 使用 `with_info = True` 加载 `DatasetInfo`。"
      ]
    },
    {
      "cell_type": "code",
      "metadata": {
        "id": "tvZYujQwBL7B",
        "colab": {
          "base_uri": "https://localhost:8080/"
        },
        "outputId": "2e4ca7b7-1d52-4cae-ff0c-cac50b2d82a7"
      },
      "source": [
        "cifar10_test, info = tfds.load(\"cifar10\", split=\"test\", with_info=True)\n",
        "print(info)"
      ],
      "execution_count": null,
      "outputs": [
        {
          "output_type": "stream",
          "name": "stdout",
          "text": [
            "tfds.core.DatasetInfo(\n",
            "    name='cifar10',\n",
            "    version=3.0.2,\n",
            "    description='The CIFAR-10 dataset consists of 60000 32x32 colour images in 10 classes, with 6000 images per class. There are 50000 training images and 10000 test images.',\n",
            "    homepage='https://www.cs.toronto.edu/~kriz/cifar.html',\n",
            "    features=FeaturesDict({\n",
            "        'id': Text(shape=(), dtype=tf.string),\n",
            "        'image': Image(shape=(32, 32, 3), dtype=tf.uint8),\n",
            "        'label': ClassLabel(shape=(), dtype=tf.int64, num_classes=10),\n",
            "    }),\n",
            "    total_num_examples=60000,\n",
            "    splits={\n",
            "        'test': 10000,\n",
            "        'train': 50000,\n",
            "    },\n",
            "    supervised_keys=('image', 'label'),\n",
            "    citation=\"\"\"@TECHREPORT{Krizhevsky09learningmultiple,\n",
            "        author = {Alex Krizhevsky},\n",
            "        title = {Learning multiple layers of features from tiny images},\n",
            "        institution = {},\n",
            "        year = {2009}\n",
            "    }\"\"\",\n",
            "    redistribution_info=,\n",
            ")\n",
            "\n"
          ]
        }
      ]
    },
    {
      "cell_type": "markdown",
      "metadata": {
        "id": "skNcP7LnUAGE"
      },
      "source": [
        "## 可视化\n",
        "\n",
        "对于图像分类数据集，你可以使用 `tfds.show_examples` 来可视化一些样本。"
      ]
    },
    {
      "cell_type": "code",
      "metadata": {
        "id": "DpE2FD56cSQR",
        "colab": {
          "base_uri": "https://localhost:8080/",
          "height": 568
        },
        "outputId": "1ad215d6-ac86-4038-8a76-437972004521"
      },
      "source": [
        "fig = tfds.show_examples(info, cifar10_test)"
      ],
      "execution_count": null,
      "outputs": [
        {
          "output_type": "stream",
          "name": "stdout",
          "text": [
            "WARNING: For consistency with `tfds.load`, the `tfds.show_examples` signature has been modified from (info, ds) to (ds, info).\n",
            "The old signature is deprecated and will be removed. Please change your call to `tfds.show_examples(ds, info)`\n"
          ]
        },
        {
          "output_type": "display_data",
          "data": {
            "image/png": "[encoded data removed]",
            "text/plain": [
              "<Figure size 648x648 with 9 Axes>"
            ]
          },
          "metadata": {}
        }
      ]
    }
  ]
}