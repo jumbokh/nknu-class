{
  "nbformat": 4,
  "nbformat_minor": 0,
  "metadata": {
    "kernelspec": {
      "display_name": "Python 3",
      "language": "python",
      "name": "python3"
    },
    "language_info": {
      "codemirror_mode": {
        "name": "ipython",
        "version": 3
      },
      "file_extension": ".py",
      "mimetype": "text/x-python",
      "name": "python",
      "nbconvert_exporter": "python",
      "pygments_lexer": "ipython3",
      "version": "3.8.3"
    },
    "colab": {
      "name": "06_01_convolutions.ipynb",
      "provenance": []
    }
  },
  "cells": [
    {
      "cell_type": "markdown",
      "metadata": {
        "id": "IP0EUySnzVi5"
      },
      "source": [
        "# 卷積"
      ]
    },
    {
      "cell_type": "markdown",
      "metadata": {
        "id": "sYUyiyIXzVjG"
      },
      "source": [
        "## 範例1. 使用程式計算卷積"
      ]
    },
    {
      "cell_type": "code",
      "metadata": {
        "id": "xzBZdVXrzVjI",
        "outputId": "de725579-5b1a-465a-ae84-a50d9440e251"
      },
      "source": [
        "import numpy as np\n",
        "\n",
        "# 測試資料\n",
        "source_map = np.array(list('1110001110001110011001100')).astype(np.int)\n",
        "source_map = source_map.reshape(5,5)\n",
        "print('原始資料：')\n",
        "print(source_map)\n",
        "\n",
        "# 濾波器(Filter)\n",
        "filter1 = np.array(list('101010101')).astype(np.int).reshape(3,3)\n",
        "print('\\n濾波器:')\n",
        "print(filter1)"
      ],
      "execution_count": null,
      "outputs": [
        {
          "name": "stdout",
          "output_type": "stream",
          "text": [
            "原始資料：\n",
            "[[1 1 1 0 0]\n",
            " [0 1 1 1 0]\n",
            " [0 0 1 1 1]\n",
            " [0 0 1 1 0]\n",
            " [0 1 1 0 0]]\n",
            "\n",
            "濾波器:\n",
            "[[1 0 1]\n",
            " [0 1 0]\n",
            " [1 0 1]]\n"
          ]
        }
      ]
    },
    {
      "cell_type": "code",
      "metadata": {
        "id": "LXg_gUtizVjM",
        "outputId": "633e6c66-9a8a-49b9-f55a-07a2afe6d0a7"
      },
      "source": [
        "# 計算卷積\n",
        "# 初始化計算結果的矩陣\n",
        "width = height = source_map.shape[0] - filter1.shape[0] + 1\n",
        "result = np.zeros((width, height))\n",
        "\n",
        "# 計算每一格\n",
        "for i in range(width):\n",
        "    for j in range(height):\n",
        "        value1 =source_map[i:i+filter1.shape[0], j:j+filter1.shape[1]] * filter1\n",
        "        result[i, j] = np.sum(value1)\n",
        "print(result)"
      ],
      "execution_count": null,
      "outputs": [
        {
          "name": "stdout",
          "output_type": "stream",
          "text": [
            "[[4. 3. 4.]\n",
            " [2. 4. 3.]\n",
            " [2. 3. 4.]]\n"
          ]
        }
      ]
    },
    {
      "cell_type": "code",
      "metadata": {
        "scrolled": true,
        "id": "J3FCZIrxzVjN",
        "outputId": "e238fd00-b694-44a3-9adc-4351fe5ec664"
      },
      "source": [
        "# 使用 scipy 計算卷積\n",
        "from scipy.signal import convolve2d\n",
        "\n",
        "# convolve2d：二維卷積\n",
        "convolve2d(source_map, filter1, mode='valid')"
      ],
      "execution_count": null,
      "outputs": [
        {
          "data": {
            "text/plain": [
              "array([[4, 3, 4],\n",
              "       [2, 4, 3],\n",
              "       [2, 3, 4]])"
            ]
          },
          "execution_count": 4,
          "metadata": {},
          "output_type": "execute_result"
        }
      ]
    },
    {
      "cell_type": "markdown",
      "metadata": {
        "id": "mipzJAQQzVjP"
      },
      "source": [
        "## 定義卷積的影像轉換函數"
      ]
    },
    {
      "cell_type": "code",
      "metadata": {
        "id": "xWUf_us3zVjQ"
      },
      "source": [
        "# 卷積的影像轉換函數，padding='same'\n",
        "from skimage.exposure import rescale_intensity\n",
        "\n",
        "def convolve(image, kernel):\n",
        "    # 取得圖像與濾波器的寬高\n",
        "    (iH, iW) = image.shape[:2]\n",
        "    (kH, kW) = kernel.shape[:2]\n",
        "\n",
        "    # 計算 padding='same' 單邊所需的補零行數\n",
        "    pad = int((kW - 1) / 2)\n",
        "    image = cv2.copyMakeBorder(image, pad, pad, pad, pad, cv2.BORDER_REPLICATE)\n",
        "    output = np.zeros((iH, iW), dtype=\"float32\")\n",
        "\n",
        "    # 卷積\n",
        "    for y in np.arange(pad, iH + pad):\n",
        "        for x in np.arange(pad, iW + pad):            \n",
        "            roi = image[y - pad:y + pad + 1, x - pad:x + pad + 1]  # 裁切圖像            \n",
        "            k = (roi * kernel).sum()                               # 卷積計算\n",
        "            output[y - pad, x - pad] = k                           # 更新計算結果的矩陣 \n",
        "\n",
        "    # 調整影像色彩深淺範圍至 (0, 255)\n",
        "    output = rescale_intensity(output, in_range=(0, 255))\n",
        "    output = (output * 255).astype(\"uint8\")\n",
        "   \n",
        "    return output     # 回傳結果影像"
      ],
      "execution_count": null,
      "outputs": []
    },
    {
      "cell_type": "markdown",
      "metadata": {
        "id": "dqV7EjrezVjT"
      },
      "source": [
        "## 灰階化(Gray)"
      ]
    },
    {
      "cell_type": "code",
      "metadata": {
        "id": "5JrsXdZKzVjU"
      },
      "source": [
        "# pip install opencv-python\n",
        "import skimage\n",
        "import cv2\n",
        "\n",
        "# 自 skimage 取得內建的圖像\n",
        "image = skimage.data.chelsea()\n",
        "cv2.imshow(\"original\", image)\n",
        "\n",
        "# 灰階化\n",
        "gray = cv2.cvtColor(image, cv2.COLOR_BGR2GRAY)\n",
        "cv2.imshow(\"gray\", gray)\n",
        "\n",
        "# 按 Enter 關閉視窗\n",
        "cv2.waitKey(0)\n",
        "cv2.destroyAllWindows()"
      ],
      "execution_count": null,
      "outputs": []
    },
    {
      "cell_type": "markdown",
      "metadata": {
        "id": "IVqTLIl_zVjX"
      },
      "source": [
        "## 模糊化(Blur)"
      ]
    },
    {
      "cell_type": "code",
      "metadata": {
        "id": "9pv3CAXTzVjX"
      },
      "source": [
        "# 小模糊 filter\n",
        "smallBlur = np.ones((7, 7), dtype=\"float\") * (1.0 / (7 * 7))\n",
        "\n",
        "# 卷積\n",
        "convoleOutput = convolve(gray, smallBlur)\n",
        "opencvOutput = cv2.filter2D(gray, -1, smallBlur)\n",
        "cv2.imshow(\"little Blur\", convoleOutput)\n",
        "\n",
        "# 大模糊\n",
        "largeBlur = np.ones((21, 21), dtype=\"float\") * (1.0 / (21 * 21))\n",
        "\n",
        "# 卷積\n",
        "convoleOutput = convolve(gray, largeBlur)\n",
        "opencvOutput = cv2.filter2D(gray, -1, largeBlur)\n",
        "cv2.imshow(\"large Blur\", convoleOutput)\n",
        "\n",
        "# 按 Enter 關閉視窗\n",
        "cv2.waitKey(0)\n",
        "cv2.destroyAllWindows()"
      ],
      "execution_count": null,
      "outputs": []
    },
    {
      "cell_type": "markdown",
      "metadata": {
        "id": "wApvyhS-zVjY"
      },
      "source": [
        "## 銳化(sharpen)"
      ]
    },
    {
      "cell_type": "code",
      "metadata": {
        "id": "jedBgRH-zVjZ"
      },
      "source": [
        "# sharpening filter\n",
        "sharpen = np.array((\n",
        "    [0, -1, 0],\n",
        "    [-1, 5, -1],\n",
        "    [0, -1, 0]), dtype=\"int\")\n",
        "\n",
        "# 卷積\n",
        "convoleOutput = convolve(gray, sharpen)\n",
        "opencvOutput = cv2.filter2D(gray, -1, sharpen)\n",
        "cv2.imshow(\"sharpen\", convoleOutput)\n",
        "\n",
        "# 按 Enter 關閉視窗\n",
        "cv2.waitKey(0)\n",
        "cv2.destroyAllWindows()"
      ],
      "execution_count": null,
      "outputs": []
    },
    {
      "cell_type": "markdown",
      "metadata": {
        "id": "RSJ9fVBuzVja"
      },
      "source": [
        "## Laplacian 邊緣偵測"
      ]
    },
    {
      "cell_type": "code",
      "metadata": {
        "id": "oSGzf0QLzVjb"
      },
      "source": [
        "# Laplacian filter\n",
        "laplacian = np.array((\n",
        "    [0, 1, 0],\n",
        "    [1, -4, 1],\n",
        "    [0, 1, 0]), dtype=\"int\")\n",
        "\n",
        "# 卷積\n",
        "convoleOutput = convolve(gray, laplacian)\n",
        "opencvOutput = cv2.filter2D(gray, -1, laplacian)\n",
        "cv2.imshow(\"laplacian edge detection\", convoleOutput)\n",
        "\n",
        "# 按 Enter 關閉視窗\n",
        "cv2.waitKey(0)\n",
        "cv2.destroyAllWindows()"
      ],
      "execution_count": null,
      "outputs": []
    },
    {
      "cell_type": "markdown",
      "metadata": {
        "id": "gY8r8DPfzVjb"
      },
      "source": [
        "## Sobel X軸邊緣偵測"
      ]
    },
    {
      "cell_type": "code",
      "metadata": {
        "id": "YvD5Jxi8zVjc"
      },
      "source": [
        "# Sobel x-axis filter\n",
        "sobelX = np.array((\n",
        "    [-1, 0, 1],\n",
        "    [-2, 0, 2],\n",
        "    [-1, 0, 1]), dtype=\"int\")\n",
        "\n",
        "# 卷積\n",
        "convoleOutput = convolve(gray, sobelX)\n",
        "opencvOutput = cv2.filter2D(gray, -1, sobelX)\n",
        "cv2.imshow(\"x-axis edge detection\", convoleOutput)\n",
        "\n",
        "# 按 Enter 關閉視窗\n",
        "cv2.waitKey(0)\n",
        "cv2.destroyAllWindows()"
      ],
      "execution_count": null,
      "outputs": []
    },
    {
      "cell_type": "markdown",
      "metadata": {
        "id": "z3b_RTZhzVjd"
      },
      "source": [
        "## Sobel Y軸邊緣偵測"
      ]
    },
    {
      "cell_type": "code",
      "metadata": {
        "id": "xdXp2wKezVjd"
      },
      "source": [
        "# Sobel y-axis filter\n",
        "sobelY = np.array((\n",
        "    [-1, -2, -1],\n",
        "    [0, 0, 0],\n",
        "    [1, 2, 1]), dtype=\"int\")\n",
        "\n",
        "# 卷積\n",
        "convoleOutput = convolve(gray, sobelY)\n",
        "opencvOutput = cv2.filter2D(gray, -1, sobelY)\n",
        "cv2.imshow(\"y-axis edge detection\", convoleOutput)\n",
        "\n",
        "# 按 Enter 關閉視窗\n",
        "cv2.waitKey(0)\n",
        "cv2.destroyAllWindows()"
      ],
      "execution_count": null,
      "outputs": []
    },
    {
      "cell_type": "code",
      "metadata": {
        "id": "wSYY7nsIzVje"
      },
      "source": [
        ""
      ],
      "execution_count": null,
      "outputs": []
    }
  ]
}