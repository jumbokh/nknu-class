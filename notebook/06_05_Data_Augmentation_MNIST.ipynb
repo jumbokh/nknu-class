{
  "nbformat": 4,
  "nbformat_minor": 0,
  "metadata": {
    "kernelspec": {
      "display_name": "Python 3",
      "language": "python",
      "name": "python3"
    },
    "language_info": {
      "codemirror_mode": {
        "name": "ipython",
        "version": 3
      },
      "file_extension": ".py",
      "mimetype": "text/x-python",
      "name": "python",
      "nbconvert_exporter": "python",
      "pygments_lexer": "ipython3",
      "version": "3.8.3"
    },
    "colab": {
      "name": "06_05_Data_Augmentation_MNIST.ipynb",
      "provenance": [],
      "include_colab_link": true
    }
  },
  "cells": [
    {
      "cell_type": "markdown",
      "metadata": {
        "id": "view-in-github",
        "colab_type": "text"
      },
      "source": [
        "<a href=\"https://colab.research.google.com/github/jumbokh/nknu-class/blob/main/notebook/06_05_Data_Augmentation_MNIST.ipynb\" target=\"_parent\"><img src=\"https://colab.research.google.com/assets/colab-badge.svg\" alt=\"Open In Colab\"/></a>"
      ]
    },
    {
      "cell_type": "markdown",
      "metadata": {
        "id": "Kg2Jr4AdricA"
      },
      "source": [
        "# MNIST 模型強化"
      ]
    },
    {
      "cell_type": "markdown",
      "metadata": {
        "id": "czQdtB6tricI"
      },
      "source": [
        "## 步驟1：載入 MNIST 手寫阿拉伯數字資料"
      ]
    },
    {
      "cell_type": "code",
      "metadata": {
        "id": "ytTovbJBricK"
      },
      "source": [
        "import tensorflow as tf\n",
        "mnist = tf.keras.datasets.mnist\n",
        "\n",
        "# 載入 MNIST 手寫阿拉伯數字資料\n",
        "(x_train, y_train),(x_test, y_test) = mnist.load_data()"
      ],
      "execution_count": null,
      "outputs": []
    },
    {
      "cell_type": "markdown",
      "metadata": {
        "id": "G9kCMMcLricM"
      },
      "source": [
        "## 步驟2：改用 CNN 模型"
      ]
    },
    {
      "cell_type": "code",
      "metadata": {
        "id": "tdVaIio2ricN"
      },
      "source": [
        "# 建立模型\n",
        "from tensorflow.keras import layers\n",
        "import numpy as np\n",
        "\n",
        "input_shape=(28, 28, 1)\n",
        "# 增加一維在最後面\n",
        "x_train = np.expand_dims(x_train, -1)\n",
        "x_test = np.expand_dims(x_test, -1)\n",
        "\n",
        "# CNN 模型\n",
        "model = tf.keras.Sequential(\n",
        "    [\n",
        "        tf.keras.Input(shape=input_shape),\n",
        "        layers.Conv2D(32, kernel_size=(3, 3), activation=\"relu\"),\n",
        "        layers.MaxPooling2D(pool_size=(2, 2)),\n",
        "        layers.Conv2D(64, kernel_size=(3, 3), activation=\"relu\"),\n",
        "        layers.MaxPooling2D(pool_size=(2, 2)),\n",
        "        layers.Flatten(),\n",
        "        layers.Dropout(0.5),\n",
        "        layers.Dense(10, activation=\"softmax\"),\n",
        "    ]\n",
        ")\n",
        "\n",
        "# 設定優化器(optimizer)、損失函數(loss)、效能衡量指標(metrics)的類別\n",
        "model.compile(optimizer='adam',\n",
        "              loss='sparse_categorical_crossentropy',\n",
        "              metrics=['accuracy'])"
      ],
      "execution_count": null,
      "outputs": []
    },
    {
      "cell_type": "markdown",
      "metadata": {
        "id": "imcewN7BricO"
      },
      "source": [
        "## 步驟3：資料增補(Data Augmentation)"
      ]
    },
    {
      "cell_type": "code",
      "metadata": {
        "id": "7zv95nJ1ricO",
        "outputId": "d637fb4c-43bc-4a03-b377-affd482aa02d"
      },
      "source": [
        "# 參數設定\n",
        "batch_size = 1000\n",
        "epochs = 5\n",
        "\n",
        "# 資料增補定義\n",
        "datagen = tf.keras.preprocessing.image.ImageDataGenerator(\n",
        "        rescale=1./255,         # 特徵縮放\n",
        "        rotation_range=10,      # 旋轉 10 度\n",
        "        zoom_range=0.1,         # 拉遠/拉近 10%\n",
        "        width_shift_range=0.1,  # 寬度偏移  10%\n",
        "        height_shift_range=0.1) # 高度偏移  10%\n",
        "\n",
        "# 增補資料，進行模型訓練\n",
        "datagen.fit(x_train)\n",
        "history = model.fit(datagen.flow(x_train, y_train, batch_size=batch_size), epochs=epochs,\n",
        "          validation_data=datagen.flow(x_test, y_test, batch_size=batch_size), verbose=2,\n",
        "          steps_per_epoch=x_train.shape[0]//batch_size)"
      ],
      "execution_count": null,
      "outputs": [
        {
          "name": "stdout",
          "output_type": "stream",
          "text": [
            "Epoch 1/5\n",
            "60/60 - 13s - loss: 0.1635 - accuracy: 0.9506 - val_loss: 0.0906 - val_accuracy: 0.9741\n",
            "Epoch 2/5\n",
            "60/60 - 12s - loss: 0.1535 - accuracy: 0.9526 - val_loss: 0.0914 - val_accuracy: 0.9730\n",
            "Epoch 3/5\n",
            "60/60 - 12s - loss: 0.1456 - accuracy: 0.9558 - val_loss: 0.0914 - val_accuracy: 0.9744\n",
            "Epoch 4/5\n",
            "60/60 - 12s - loss: 0.1397 - accuracy: 0.9592 - val_loss: 0.0843 - val_accuracy: 0.9737\n",
            "Epoch 5/5\n",
            "60/60 - 12s - loss: 0.1379 - accuracy: 0.9580 - val_loss: 0.0847 - val_accuracy: 0.9758\n"
          ]
        }
      ]
    },
    {
      "cell_type": "code",
      "metadata": {
        "id": "Gg_5x0j5ricR",
        "outputId": "27dc296e-23c6-47eb-ae20-5bf5069952e5"
      },
      "source": [
        "# 評分(Score Model)\n",
        "score=model.evaluate(x_test, y_test, verbose=0)\n",
        "\n",
        "for i, x in enumerate(score):\n",
        "    print(f'{model.metrics_names[i]}: {score[i]:.4f}')"
      ],
      "execution_count": null,
      "outputs": [
        {
          "name": "stdout",
          "output_type": "stream",
          "text": [
            "loss: 34.7879\n",
            "accuracy: 0.9291\n"
          ]
        }
      ]
    },
    {
      "cell_type": "markdown",
      "metadata": {
        "id": "7f6riEsmricS"
      },
      "source": [
        "## 步驟4：測試自行繪製的數字"
      ]
    },
    {
      "cell_type": "code",
      "metadata": {
        "id": "JTKGs_EkricU",
        "outputId": "acbd298c-aff2-4ce0-e2f2-a66b795289c2"
      },
      "source": [
        "# 使用小畫家，繪製 0~9，實際測試看看\n",
        "from skimage import io\n",
        "from skimage.transform import resize\n",
        "import numpy as np\n",
        "\n",
        "# 讀取影像並轉為單色\n",
        "uploaded_file = './myDigits/9.png'\n",
        "image1 = io.imread(uploaded_file, as_gray=True)\n",
        "\n",
        "# 縮為 (28, 28) 大小的影像\n",
        "image_resized = resize(image1, (28, 28), anti_aliasing=True)    \n",
        "X1 = image_resized.reshape(1,28, 28, 1) #/ 255\n",
        "\n",
        "# 反轉顏色，顏色0為白色，與 RGB 色碼不同，它的 0 為黑色\n",
        "X1 = np.abs(1-X1)\n",
        "\n",
        "# 預測\n",
        "predictions = np.argmax(model.predict(X1), axis=-1)\n",
        "print(predictions)"
      ],
      "execution_count": null,
      "outputs": [
        {
          "name": "stdout",
          "output_type": "stream",
          "text": [
            "[9]\n"
          ]
        }
      ]
    },
    {
      "cell_type": "code",
      "metadata": {
        "id": "8xBxSncEricU"
      },
      "source": [
        ""
      ],
      "execution_count": null,
      "outputs": []
    }
  ]
}