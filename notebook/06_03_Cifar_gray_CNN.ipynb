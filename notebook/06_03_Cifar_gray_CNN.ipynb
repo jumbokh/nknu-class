{
  "nbformat": 4,
  "nbformat_minor": 0,
  "metadata": {
    "kernelspec": {
      "display_name": "Python 3",
      "language": "python",
      "name": "python3"
    },
    "language_info": {
      "codemirror_mode": {
        "name": "ipython",
        "version": 3
      },
      "file_extension": ".py",
      "mimetype": "text/x-python",
      "name": "python",
      "nbconvert_exporter": "python",
      "pygments_lexer": "ipython3",
      "version": "3.8.3"
    },
    "colab": {
      "name": "06_03_Cifar_gray_CNN.ipynb",
      "provenance": [],
      "include_colab_link": true
    }
  },
  "cells": [
    {
      "cell_type": "markdown",
      "metadata": {
        "id": "view-in-github",
        "colab_type": "text"
      },
      "source": [
        "<a href=\"https://colab.research.google.com/github/jumbokh/nknu-class/blob/main/notebook/06_03_Cifar_gray_CNN.ipynb\" target=\"_parent\"><img src=\"https://colab.research.google.com/assets/colab-badge.svg\" alt=\"Open In Colab\"/></a>"
      ]
    },
    {
      "cell_type": "markdown",
      "metadata": {
        "id": "18-JNzWMk-uP"
      },
      "source": [
        "# cifar10 辨識"
      ]
    },
    {
      "cell_type": "markdown",
      "metadata": {
        "id": "1DVsdtYfk-uV"
      },
      "source": [
        "## 步驟1：載入 cifar10 資料"
      ]
    },
    {
      "cell_type": "code",
      "metadata": {
        "id": "ZAvCUW09k-uX",
        "outputId": "33368443-c41c-4355-9187-db208ef2819f"
      },
      "source": [
        "import tensorflow as tf\n",
        "cifar10 = tf.keras.datasets.cifar10\n",
        "\n",
        "# 載入 cifar10 資料\n",
        "(x_train, y_train),(x_test, y_test) = cifar10.load_data()\n",
        "\n",
        "# 訓練/測試資料的 X/y 維度\n",
        "print(x_train.shape, y_train.shape,x_test.shape, y_test.shape)"
      ],
      "execution_count": null,
      "outputs": [
        {
          "name": "stdout",
          "output_type": "stream",
          "text": [
            "(50000, 32, 32, 3) (50000, 1) (10000, 32, 32, 3) (10000, 1)\n"
          ]
        }
      ]
    },
    {
      "cell_type": "markdown",
      "metadata": {
        "id": "Fz8yg2cCk-ua"
      },
      "source": [
        "## 轉成單色"
      ]
    },
    {
      "cell_type": "code",
      "metadata": {
        "id": "HSzFxd-1k-ub",
        "outputId": "c744f6aa-6312-4fa4-b018-e369592f8265"
      },
      "source": [
        "# 轉成單色：rgb_to_grayscale\n",
        "x_train = tf.image.rgb_to_grayscale(x_train)\n",
        "x_test = tf.image.rgb_to_grayscale(x_test)\n",
        "print(x_train.shape, x_test.shape)"
      ],
      "execution_count": null,
      "outputs": [
        {
          "name": "stdout",
          "output_type": "stream",
          "text": [
            "(50000, 32, 32, 1) (10000, 32, 32, 1)\n"
          ]
        }
      ]
    },
    {
      "cell_type": "markdown",
      "metadata": {
        "id": "sG6-p4pbk-uc"
      },
      "source": [
        "## 步驟2：資料清理，此步驟無需進行"
      ]
    },
    {
      "cell_type": "markdown",
      "metadata": {
        "id": "VyyyPWvJk-ud"
      },
      "source": [
        "## 步驟3：進行特徵工程，將特徵縮放成(0, 1)之間"
      ]
    },
    {
      "cell_type": "code",
      "metadata": {
        "id": "t2KfYYU0k-uf"
      },
      "source": [
        "# 特徵縮放，使用常態化(Normalization)，公式 = (x - min) / (max - min)\n",
        "x_train_norm, x_test_norm = x_train / 255, x_test / 255"
      ],
      "execution_count": null,
      "outputs": []
    },
    {
      "cell_type": "code",
      "metadata": {
        "id": "5SBV4jaRk-ug",
        "outputId": "e0734225-afbd-4483-f960-20391124f50c"
      },
      "source": [
        "# 確認轉換成功\n",
        "x_train_norm[0]"
      ],
      "execution_count": null,
      "outputs": [
        {
          "data": {
            "text/plain": [
              "<tf.Tensor: shape=(32, 32, 1), dtype=float32, numpy=\n",
              "array([[[0.23921569],\n",
              "        [0.1764706 ],\n",
              "        [0.1882353 ],\n",
              "        ...,\n",
              "        [0.5372549 ],\n",
              "        [0.50980395],\n",
              "        [0.5058824 ]],\n",
              "\n",
              "       [[0.07058824],\n",
              "        [0.        ],\n",
              "        [0.03921569],\n",
              "        ...,\n",
              "        [0.36862746],\n",
              "        [0.3529412 ],\n",
              "        [0.36862746]],\n",
              "\n",
              "       [[0.09411765],\n",
              "        [0.03137255],\n",
              "        [0.12156863],\n",
              "        ...,\n",
              "        [0.3529412 ],\n",
              "        [0.35686275],\n",
              "        [0.3137255 ]],\n",
              "\n",
              "       ...,\n",
              "\n",
              "       [[0.6784314 ],\n",
              "        [0.6039216 ],\n",
              "        [0.6117647 ],\n",
              "        ...,\n",
              "        [0.5254902 ],\n",
              "        [0.13725491],\n",
              "        [0.14901961]],\n",
              "\n",
              "       [[0.57254905],\n",
              "        [0.5019608 ],\n",
              "        [0.56078434],\n",
              "        ...,\n",
              "        [0.59607846],\n",
              "        [0.27058825],\n",
              "        [0.23137255]],\n",
              "\n",
              "       [[0.5882353 ],\n",
              "        [0.53333336],\n",
              "        [0.5764706 ],\n",
              "        ...,\n",
              "        [0.7372549 ],\n",
              "        [0.4862745 ],\n",
              "        [0.3882353 ]]], dtype=float32)>"
            ]
          },
          "execution_count": 12,
          "metadata": {},
          "output_type": "execute_result"
        }
      ]
    },
    {
      "cell_type": "markdown",
      "metadata": {
        "id": "fPHvk0Zsk-ui"
      },
      "source": [
        "## 步驟4：資料分割，此步驟無需進行，載入資料時，已經切割好了\n",
        "\n",
        "## 步驟5：建立模型結構\n",
        "\n",
        "## 步驟6：結合訓練資料及模型，進行模型訓練\n",
        "\n",
        "## 步驟7：評分(Score Model)"
      ]
    },
    {
      "cell_type": "code",
      "metadata": {
        "id": "E__rUX_Ik-uj",
        "outputId": "65e5f915-c7ce-481e-af76-9912f3d69804"
      },
      "source": [
        "# 建立模型\n",
        "model = tf.keras.models.Sequential([\n",
        "    tf.keras.layers.Flatten(input_shape=x_train.shape[1:3]),\n",
        "    tf.keras.layers.Dense(128, activation='relu'),\n",
        "    tf.keras.layers.Dropout(0.2),\n",
        "    tf.keras.layers.Dense(10, activation='softmax')\n",
        "])\n",
        "\n",
        "# 設定優化器(optimizer)、損失函數(loss)、效能衡量指標(metrics)的類別\n",
        "model.compile(optimizer='adam',\n",
        "              loss=tf.keras.losses.SparseCategoricalCrossentropy(from_logits=True),\n",
        "              metrics=['accuracy'])\n",
        "\n",
        "# 模型訓練\n",
        "history = model.fit(x_train_norm, y_train, epochs=10, validation_split=0.2)\n",
        "\n",
        "# 評分(Score Model)\n",
        "score=model.evaluate(x_test_norm, y_test, verbose=0)\n",
        "\n",
        "for i, x in enumerate(score):\n",
        "    print(f'{model.metrics_names[i]}: {score[i]:.4f}')"
      ],
      "execution_count": null,
      "outputs": [
        {
          "name": "stdout",
          "output_type": "stream",
          "text": [
            "Epoch 1/10\n",
            "1250/1250 [==============================] - 5s 4ms/step - loss: 2.2251 - accuracy: 0.1669 - val_loss: 2.0706 - val_accuracy: 0.2327\n",
            "Epoch 2/10\n",
            "1250/1250 [==============================] - 4s 4ms/step - loss: 2.0871 - accuracy: 0.2233 - val_loss: 1.9981 - val_accuracy: 0.2663\n",
            "Epoch 3/10\n",
            "1250/1250 [==============================] - 4s 3ms/step - loss: 2.0434 - accuracy: 0.2547 - val_loss: 1.9701 - val_accuracy: 0.2843\n",
            "Epoch 4/10\n",
            "1250/1250 [==============================] - 4s 3ms/step - loss: 2.0110 - accuracy: 0.2658 - val_loss: 1.9461 - val_accuracy: 0.3054\n",
            "Epoch 5/10\n",
            "1250/1250 [==============================] - 4s 3ms/step - loss: 1.9884 - accuracy: 0.2744 - val_loss: 1.9420 - val_accuracy: 0.2969\n",
            "Epoch 6/10\n",
            "1250/1250 [==============================] - 4s 3ms/step - loss: 1.9762 - accuracy: 0.2823 - val_loss: 1.9401 - val_accuracy: 0.3170\n",
            "Epoch 7/10\n",
            "1250/1250 [==============================] - 4s 4ms/step - loss: 1.9690 - accuracy: 0.2857 - val_loss: 1.8838 - val_accuracy: 0.3308\n",
            "Epoch 8/10\n",
            "1250/1250 [==============================] - 4s 4ms/step - loss: 1.9598 - accuracy: 0.2847 - val_loss: 1.8951 - val_accuracy: 0.3251\n",
            "Epoch 9/10\n",
            "1250/1250 [==============================] - 4s 4ms/step - loss: 1.9521 - accuracy: 0.2924 - val_loss: 1.9299 - val_accuracy: 0.3128\n",
            "Epoch 10/10\n",
            "1250/1250 [==============================] - 4s 3ms/step - loss: 1.9481 - accuracy: 0.2935 - val_loss: 1.8753 - val_accuracy: 0.3308\n",
            "loss: 1.8816\n",
            "accuracy: 0.3258\n"
          ]
        }
      ]
    },
    {
      "cell_type": "code",
      "metadata": {
        "id": "007zo9Yjk-uk",
        "outputId": "dbdbe470-f592-4a2d-8198-f0891af6ec04"
      },
      "source": [
        "import matplotlib.pyplot as plt\n",
        "\n",
        "plt.plot(history.history['accuracy'], label='accuracy')\n",
        "plt.plot(history.history['val_accuracy'], label = 'val_accuracy')\n",
        "plt.xlabel('Epoch')\n",
        "plt.ylabel('Accuracy')\n",
        "plt.legend(loc='lower right')"
      ],
      "execution_count": null,
      "outputs": [
        {
          "data": {
            "text/plain": [
              "<matplotlib.legend.Legend at 0x14a9282bb50>"
            ]
          },
          "execution_count": 7,
          "metadata": {},
          "output_type": "execute_result"
        },
        {
          "data": {
            "image/png": "[encoded data removed]",
            "text/plain": [
              "<Figure size 432x288 with 1 Axes>"
            ]
          },
          "metadata": {
            "needs_background": "light"
          },
          "output_type": "display_data"
        }
      ]
    },
    {
      "cell_type": "code",
      "metadata": {
        "id": "40jNuk7Fk-um",
        "outputId": "288409da-36ee-4b3e-8086-68796e161aab"
      },
      "source": [
        "model.summary()"
      ],
      "execution_count": null,
      "outputs": [
        {
          "name": "stdout",
          "output_type": "stream",
          "text": [
            "Model: \"sequential\"\n",
            "_________________________________________________________________\n",
            "Layer (type)                 Output Shape              Param #   \n",
            "=================================================================\n",
            "conv2d (Conv2D)              (None, 30, 30, 32)        896       \n",
            "_________________________________________________________________\n",
            "max_pooling2d (MaxPooling2D) (None, 15, 15, 32)        0         \n",
            "_________________________________________________________________\n",
            "conv2d_1 (Conv2D)            (None, 13, 13, 64)        18496     \n",
            "_________________________________________________________________\n",
            "max_pooling2d_1 (MaxPooling2 (None, 6, 6, 64)          0         \n",
            "_________________________________________________________________\n",
            "conv2d_2 (Conv2D)            (None, 4, 4, 64)          36928     \n",
            "_________________________________________________________________\n",
            "flatten (Flatten)            (None, 1024)              0         \n",
            "_________________________________________________________________\n",
            "dense (Dense)                (None, 64)                65600     \n",
            "_________________________________________________________________\n",
            "dense_1 (Dense)              (None, 10)                650       \n",
            "=================================================================\n",
            "Total params: 122,570\n",
            "Trainable params: 122,570\n",
            "Non-trainable params: 0\n",
            "_________________________________________________________________\n"
          ]
        }
      ]
    },
    {
      "cell_type": "code",
      "metadata": {
        "id": "uaf_QpXvk-un"
      },
      "source": [
        ""
      ],
      "execution_count": null,
      "outputs": []
    }
  ]
}