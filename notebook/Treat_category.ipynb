{
  "nbformat": 4,
  "nbformat_minor": 0,
  "metadata": {
    "colab": {
      "name": "Treat_category.ipynb",
      "provenance": [],
      "authorship_tag": "ABX9TyNrU2mlp+0SXhTvFezU3lrN",
      "include_colab_link": true
    },
    "kernelspec": {
      "name": "python3",
      "display_name": "Python 3"
    },
    "language_info": {
      "name": "python"
    }
  },
  "cells": [
    {
      "cell_type": "markdown",
      "metadata": {
        "id": "view-in-github",
        "colab_type": "text"
      },
      "source": [
        "<a href=\"https://colab.research.google.com/github/jumbokh/nknu-class/blob/main/notebook/Treat_category.ipynb\" target=\"_parent\"><img src=\"https://colab.research.google.com/assets/colab-badge.svg\" alt=\"Open In Colab\"/></a>"
      ]
    },
    {
      "cell_type": "markdown",
      "metadata": {
        "id": "G8JtZth0WP8x"
      },
      "source": [
        "### https://honglung.pixnet.net/blog/post/212988816"
      ]
    },
    {
      "cell_type": "code",
      "metadata": {
        "id": "XcnsGyQfsKJO"
      },
      "source": [
        ""
      ],
      "execution_count": null,
      "outputs": []
    },
    {
      "cell_type": "code",
      "metadata": {
        "id": "3_vdbRD8V1Iq"
      },
      "source": [
        "import numpy as np\n",
        "\n",
        "class Encoder(object):\n",
        "    def __init__(self,class_number,start_with=0):\n",
        "        self._start_with = 0\n",
        "        self._n_class = class_number\n",
        "        self.y = np.zeros(self._n_class,dtype=float)\n",
        "    \n",
        "    def one_hot_encode(self,x):\n",
        "        self.y[x - self._start_with] = 1\n",
        "        return self.y\n",
        "    \n",
        "    def label(self,X):\n",
        "        return np.argmax(X) + self._start_with\n"
      ],
      "execution_count": 1,
      "outputs": []
    },
    {
      "cell_type": "code",
      "metadata": {
        "colab": {
          "base_uri": "https://localhost:8080/"
        },
        "id": "sAEEKuEcWKB-",
        "outputId": "5153837b-6583-4048-e3f8-5372f570b22e"
      },
      "source": [
        "#dt = np.random.randint(3, size=10)\n",
        "dt = np.random.randint(0, 3, 20)\n",
        "print(dt)"
      ],
      "execution_count": 2,
      "outputs": [
        {
          "output_type": "stream",
          "name": "stdout",
          "text": [
            "[2 1 1 0 2 0 0 0 0 0 1 1 0 0 0 2 1 1 1 1]\n"
          ]
        }
      ]
    },
    {
      "cell_type": "code",
      "metadata": {
        "id": "QoHPSXtcWq_I"
      },
      "source": [
        "encoder = Encoder(3)"
      ],
      "execution_count": 3,
      "outputs": []
    },
    {
      "cell_type": "code",
      "metadata": {
        "colab": {
          "base_uri": "https://localhost:8080/"
        },
        "id": "mSs9l-JvWzK5",
        "outputId": "4b97dd11-584f-419e-eb91-c06ec5e22462"
      },
      "source": [
        "X = []\n",
        "for x in dt:\n",
        " d = encoder.one_hot_encode(x)\n",
        " X.append(d)\n",
        "print(len(X))\n",
        "print(X)"
      ],
      "execution_count": 4,
      "outputs": [
        {
          "output_type": "stream",
          "name": "stdout",
          "text": [
            "20\n",
            "[array([1., 1., 1.]), array([1., 1., 1.]), array([1., 1., 1.]), array([1., 1., 1.]), array([1., 1., 1.]), array([1., 1., 1.]), array([1., 1., 1.]), array([1., 1., 1.]), array([1., 1., 1.]), array([1., 1., 1.]), array([1., 1., 1.]), array([1., 1., 1.]), array([1., 1., 1.]), array([1., 1., 1.]), array([1., 1., 1.]), array([1., 1., 1.]), array([1., 1., 1.]), array([1., 1., 1.]), array([1., 1., 1.]), array([1., 1., 1.])]\n"
          ]
        }
      ]
    },
    {
      "cell_type": "code",
      "metadata": {
        "id": "BmCOxwl_XJW3"
      },
      "source": [
        ""
      ],
      "execution_count": null,
      "outputs": []
    }
  ]
}