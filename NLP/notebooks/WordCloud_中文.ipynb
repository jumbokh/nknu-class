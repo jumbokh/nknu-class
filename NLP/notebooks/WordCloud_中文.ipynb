{
  "nbformat": 4,
  "nbformat_minor": 0,
  "metadata": {
    "colab": {
      "name": "WordCloud-中文.ipynb",
      "provenance": [],
      "authorship_tag": "ABX9TyOqTXeeiGJnBFlhM+yJzjv8",
      "include_colab_link": true
    },
    "kernelspec": {
      "name": "python3",
      "display_name": "Python 3"
    },
    "language_info": {
      "name": "python"
    }
  },
  "cells": [
    {
      "cell_type": "markdown",
      "metadata": {
        "id": "view-in-github",
        "colab_type": "text"
      },
      "source": [
        "<a href=\"https://colab.research.google.com/github/jumbokh/nknu-class/blob/main/NLP/notebooks/WordCloud_%E4%B8%AD%E6%96%87.ipynb\" target=\"_parent\"><img src=\"https://colab.research.google.com/assets/colab-badge.svg\" alt=\"Open In Colab\"/></a>"
      ]
    },
    {
      "cell_type": "code",
      "metadata": {
        "colab": {
          "base_uri": "https://localhost:8080/"
        },
        "id": "ffTT8yckWOEt",
        "outputId": "fefbf4af-4312-4d6c-8ad6-6bb2c75f465c"
      },
      "source": [
        "!pip install wordcloud\n",
        "!pip install jieba"
      ],
      "execution_count": 1,
      "outputs": [
        {
          "output_type": "stream",
          "name": "stdout",
          "text": [
            "Requirement already satisfied: wordcloud in /usr/local/lib/python3.7/dist-packages (1.5.0)\n",
            "Requirement already satisfied: numpy>=1.6.1 in /usr/local/lib/python3.7/dist-packages (from wordcloud) (1.19.5)\n",
            "Requirement already satisfied: pillow in /usr/local/lib/python3.7/dist-packages (from wordcloud) (7.1.2)\n",
            "Requirement already satisfied: jieba in /usr/local/lib/python3.7/dist-packages (0.42.1)\n"
          ]
        }
      ]
    },
    {
      "cell_type": "code",
      "metadata": {
        "colab": {
          "base_uri": "https://localhost:8080/"
        },
        "id": "4x2H0Z7bWXdQ",
        "outputId": "5365d05a-8bf7-443c-f01c-a8d9d5df937e"
      },
      "source": [
        "#字典檔案\n",
        "!wget https://raw.githubusercontent.com/victorgau/wordcloud/master/dict.txt.big\n",
        "#中文字體\n",
        "!wget https://raw.githubusercontent.com/victorgau/wordcloud/master/SourceHanSansTW-Regular.otf"
      ],
      "execution_count": 2,
      "outputs": [
        {
          "output_type": "stream",
          "name": "stdout",
          "text": [
            "--2021-09-29 07:11:31--  https://raw.githubusercontent.com/victorgau/wordcloud/master/dict.txt.big\n",
            "Resolving raw.githubusercontent.com (raw.githubusercontent.com)... 185.199.108.133, 185.199.109.133, 185.199.110.133, ...\n",
            "Connecting to raw.githubusercontent.com (raw.githubusercontent.com)|185.199.108.133|:443... connected.\n",
            "HTTP request sent, awaiting response... 200 OK\n",
            "Length: 8583143 (8.2M) [text/plain]\n",
            "Saving to: ‘dict.txt.big.1’\n",
            "\n",
            "dict.txt.big.1      100%[===================>]   8.18M  --.-KB/s    in 0.09s   \n",
            "\n",
            "2021-09-29 07:11:31 (91.6 MB/s) - ‘dict.txt.big.1’ saved [8583143/8583143]\n",
            "\n",
            "--2021-09-29 07:11:31--  https://raw.githubusercontent.com/victorgau/wordcloud/master/SourceHanSansTW-Regular.otf\n",
            "Resolving raw.githubusercontent.com (raw.githubusercontent.com)... 185.199.108.133, 185.199.109.133, 185.199.110.133, ...\n",
            "Connecting to raw.githubusercontent.com (raw.githubusercontent.com)|185.199.108.133|:443... connected.\n",
            "HTTP request sent, awaiting response... 200 OK\n",
            "Length: 5902040 (5.6M) [application/octet-stream]\n",
            "Saving to: ‘SourceHanSansTW-Regular.otf.1’\n",
            "\n",
            "SourceHanSansTW-Reg 100%[===================>]   5.63M  --.-KB/s    in 0.09s   \n",
            "\n",
            "2021-09-29 07:11:31 (61.2 MB/s) - ‘SourceHanSansTW-Regular.otf.1’ saved [5902040/5902040]\n",
            "\n"
          ]
        }
      ]
    },
    {
      "cell_type": "code",
      "metadata": {
        "id": "oyyOwagNWgUO"
      },
      "source": [
        "%matplotlib inline\n",
        "import matplotlib.pyplot as plt\n",
        "from wordcloud import WordCloud\n",
        "from PIL import Image\n",
        "import jieba\n",
        "import numpy as np"
      ],
      "execution_count": 3,
      "outputs": []
    },
    {
      "cell_type": "code",
      "metadata": {
        "colab": {
          "base_uri": "https://localhost:8080/"
        },
        "id": "XhHsWli7Wkn-",
        "outputId": "75adc3aa-56b7-4797-9c88-e1330604f03b"
      },
      "source": [
        "# 如果檔案內有一些編碼錯誤，使用 errors='ignore' 來忽略錯誤\n",
        "with open(\"107.csv\", encoding=\"big5\", errors='ignore') as f:\n",
        "    text = f.read()\n",
        "\n",
        "# 設定使用 big5 斷詞\n",
        "jieba.set_dictionary('dict.txt.big')\n",
        "wordlist = jieba.cut(text)\n",
        "words = \" \".join(wordlist)"
      ],
      "execution_count": 4,
      "outputs": [
        {
          "output_type": "stream",
          "name": "stderr",
          "text": [
            "Building prefix dict from /content/dict.txt.big ...\n",
            "Loading model from cache /tmp/jieba.u501edca284da514cb68b53a20324f4e3.cache\n",
            "Loading model cost 1.513 seconds.\n",
            "Prefix dict has been built successfully.\n"
          ]
        }
      ]
    },
    {
      "cell_type": "code",
      "metadata": {
        "id": "s8--aEbFXrO8"
      },
      "source": [
        "#文字雲造型圖片\n",
        "mask = np.array(Image.open('picture.png')) #文字雲形狀"
      ],
      "execution_count": 5,
      "outputs": []
    },
    {
      "cell_type": "code",
      "metadata": {
        "id": "3Z9b2dQFYhgu"
      },
      "source": [
        "# 從 Google 下載的中文字型\n",
        "font = 'SourceHanSansTW-Regular.otf'"
      ],
      "execution_count": 6,
      "outputs": []
    },
    {
      "cell_type": "code",
      "metadata": {
        "id": "O7WI68NgYis6"
      },
      "source": [
        "#背景顏色預設黑色，改為白色、使用指定圖形、使用指定字體\n",
        "my_wordcloud = WordCloud(background_color='white',mask=mask,font_path=font).generate(words)"
      ],
      "execution_count": 7,
      "outputs": []
    },
    {
      "cell_type": "code",
      "metadata": {
        "colab": {
          "base_uri": "https://localhost:8080/",
          "height": 248
        },
        "id": "B3ZvWEZNYm06",
        "outputId": "69f58136-b568-490f-e76a-c59a31d1d1d3"
      },
      "source": [
        "plt.imshow(my_wordcloud)\n",
        "plt.axis(\"off\")\n",
        "plt.show()"
      ],
      "execution_count": 8,
      "outputs": [
        {
          "output_type": "display_data",
          "data": {
            "image/png": "[encoded data removed]",
            "text/plain": [
              "<Figure size 432x288 with 1 Axes>"
            ]
          },
          "metadata": {
            "needs_background": "light"
          }
        }
      ]
    },
    {
      "cell_type": "code",
      "metadata": {
        "colab": {
          "base_uri": "https://localhost:8080/"
        },
        "id": "x8pB59npYqLi",
        "outputId": "e727f226-1ecd-43b7-9b3b-4e2b5d835ea2"
      },
      "source": [
        "#存檔\n",
        "my_wordcloud.to_file('word_cloud.png')"
      ],
      "execution_count": 9,
      "outputs": [
        {
          "output_type": "execute_result",
          "data": {
            "text/plain": [
              "<wordcloud.wordcloud.WordCloud at 0x7f166a8b4990>"
            ]
          },
          "metadata": {},
          "execution_count": 9
        }
      ]
    },
    {
      "cell_type": "code",
      "metadata": {
        "id": "_4Rea21tYurq"
      },
      "source": [
        ""
      ],
      "execution_count": 9,
      "outputs": []
    }
  ]
}