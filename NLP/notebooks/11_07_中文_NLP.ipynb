{
  "nbformat": 4,
  "nbformat_minor": 0,
  "metadata": {
    "kernelspec": {
      "display_name": "Python 3",
      "language": "python",
      "name": "python3"
    },
    "language_info": {
      "codemirror_mode": {
        "name": "ipython",
        "version": 3
      },
      "file_extension": ".py",
      "mimetype": "text/x-python",
      "name": "python",
      "nbconvert_exporter": "python",
      "pygments_lexer": "ipython3",
      "version": "3.7.3"
    },
    "colab": {
      "name": "11_07_中文_NLP.ipynb",
      "provenance": [],
      "include_colab_link": true
    }
  },
  "cells": [
    {
      "cell_type": "markdown",
      "metadata": {
        "id": "view-in-github",
        "colab_type": "text"
      },
      "source": [
        "<a href=\"https://colab.research.google.com/github/jumbokh/nknu-class/blob/main/NLP/notebooks/11_07_%E4%B8%AD%E6%96%87_NLP.ipynb\" target=\"_parent\"><img src=\"https://colab.research.google.com/assets/colab-badge.svg\" alt=\"Open In Colab\"/></a>"
      ]
    },
    {
      "cell_type": "markdown",
      "metadata": {
        "id": "lcFr4lICU2pB"
      },
      "source": [
        "# 中文 NLP"
      ]
    },
    {
      "cell_type": "code",
      "metadata": {
        "id": "8KtJDMVdU2pD",
        "outputId": "bdf9a6fb-38f8-4a95-ea74-fe451c055b53"
      },
      "source": [
        "! pip install jieba"
      ],
      "execution_count": null,
      "outputs": [
        {
          "name": "stdout",
          "output_type": "stream",
          "text": [
            "Looking in indexes: https://pypi.org/simple, https://www.piwheels.org/simple\n",
            "Collecting jieba\n",
            "\u001b[33m  Cache entry deserialization failed, entry ignored\u001b[0m\n",
            "\u001b[33m  Cache entry deserialization failed, entry ignored\u001b[0m\n",
            "\u001b[33m  Cache entry deserialization failed, entry ignored\u001b[0m\n",
            "\u001b[?25l  Downloading https://www.piwheels.org/simple/jieba/jieba-0.42.1-py3-none-any.whl (19.3MB)\n",
            "\u001b[K    100% |████████████████████████████████| 19.3MB 22kB/s eta 0:00:011 1% |▌                               | 327kB 7.5MB/s eta 0:00:03    4% |█▌                              | 890kB 4.2MB/s eta 0:00:05    9% |███                             | 1.8MB 7.5MB/s eta 0:00:03    17% |█████▌                          | 3.3MB 9.5MB/s eta 0:00:02    44% |██████████████▏                 | 8.6MB 10.8MB/s eta 0:00:01    48% |███████████████▋                | 9.4MB 6.6MB/s eta 0:00:02    51% |████████████████▍               | 9.9MB 10.9MB/s eta 0:00:01    56% |██████████████████              | 10.8MB 11.0MB/s eta 0:00:01    65% |████████████████████▉           | 12.6MB 5.0MB/s eta 0:00:02\n",
            "\u001b[?25hInstalling collected packages: jieba\n",
            "Successfully installed jieba-0.42.1\n"
          ]
        }
      ]
    },
    {
      "cell_type": "markdown",
      "metadata": {
        "id": "DzZ82HRUU2pE"
      },
      "source": [
        "## 簡體字分詞"
      ]
    },
    {
      "cell_type": "code",
      "metadata": {
        "id": "ITXtACfUU2pF",
        "outputId": "2f326a72-dc1d-4ab8-e389-286510c37e5d"
      },
      "source": [
        "# 載入相關套件\n",
        "import numpy as np\n",
        "import jieba\n",
        "\n",
        "# 分詞\n",
        "text = \"小明硕士毕业于中国科学院计算所，后在日本京都大学深造\"\n",
        "# cut_all=True：全模式\n",
        "seg_list = jieba.cut(text, cut_all=True)\n",
        "print(\"全模式: \" + \"/ \".join(seg_list))  \n",
        "\n",
        "# cut_all=False：精確模式\n",
        "seg_list = jieba.cut(text, cut_all=False)\n",
        "print(\"精確模式: \" + \"/ \".join(seg_list))  \n",
        "\n",
        "# cut_for_search：搜索引擎模式\n",
        "seg_list = jieba.cut_for_search(text)  \n",
        "print('搜索引擎模式: ', ', '.join(seg_list))"
      ],
      "execution_count": null,
      "outputs": [
        {
          "name": "stderr",
          "output_type": "stream",
          "text": [
            "Building prefix dict from the default dictionary ...\n",
            "Loading model from cache /tmp/jieba.cache\n",
            "Dumping model to file cache /tmp/jieba.cache\n",
            "Loading model cost 3.444 seconds.\n",
            "Prefix dict has been built successfully.\n"
          ]
        },
        {
          "name": "stdout",
          "output_type": "stream",
          "text": [
            "全模式: 小/ 明/ 硕士/ 毕业/ 于/ 中国/ 中国科学院/ 科学/ 科学院/ 学院/ 计算/ 计算所/ ，/ 后/ 在/ 日本/ 日本京都大学/ 京都/ 京都大学/ 大学/ 深造\n",
            "精確模式: 小明/ 硕士/ 毕业/ 于/ 中国科学院/ 计算所/ ，/ 后/ 在/ 日本京都大学/ 深造\n",
            "搜索引擎模式:  小明, 硕士, 毕业, 于, 中国, 科学, 学院, 科学院, 中国科学院, 计算, 计算所, ，, 后, 在, 日本, 京都, 大学, 日本京都大学, 深造\n"
          ]
        }
      ]
    },
    {
      "cell_type": "markdown",
      "metadata": {
        "id": "iMG0jZuaU2pG"
      },
      "source": [
        "## 繁體字分詞"
      ]
    },
    {
      "cell_type": "code",
      "metadata": {
        "id": "mWRezFqtU2pG",
        "outputId": "e110befd-9e1c-4917-fc16-25449ba25cfb"
      },
      "source": [
        "# 設定繁體字典\n",
        "jieba.set_dictionary('./jieba/dict.txt')\n",
        "\n",
        "# 分詞\n",
        "text = \"新竹的交通大學在新竹的大學路上\"\n",
        "\n",
        "# cut_all=True：全模式\n",
        "seg_list = jieba.cut(text, cut_all=True)\n",
        "print(\"全模式: \" + \"/ \".join(seg_list))  \n",
        "\n",
        "# cut_all=False：精確模式\n",
        "seg_list = jieba.cut(text, cut_all=False)\n",
        "print(\"精確模式: \" + \"/ \".join(seg_list))  \n",
        "\n",
        "# cut_for_search：搜索引擎模式\n",
        "seg_list = jieba.cut_for_search(text)  \n",
        "print('搜索引擎模式: ', ', '.join(seg_list))"
      ],
      "execution_count": null,
      "outputs": [
        {
          "name": "stderr",
          "output_type": "stream",
          "text": [
            "Building prefix dict from F:\\0_AI\\Books\\以100張圖理解深度學習\\code\\jieba\\dict.txt ...\n",
            "Loading model from cache C:\\Users\\mikec\\AppData\\Local\\Temp\\jieba.ub261639f1be4696093696d8b40cee700.cache\n",
            "Loading model cost 0.441 seconds.\n",
            "Prefix dict has been built successfully.\n"
          ]
        },
        {
          "name": "stdout",
          "output_type": "stream",
          "text": [
            "全模式: 新竹/ 的/ 交通/ 交通大/ 大學/ 在/ 新竹/ 的/ 大學/ 大學路/ 學路/ 路上\n",
            "精確模式: 新竹/ 的/ 交通/ 大學/ 在/ 新竹/ 的/ 大學路/ 上\n",
            "搜索引擎模式:  新竹, 的, 交通, 大學, 在, 新竹, 的, 大學, 學路, 大學路, 上\n"
          ]
        }
      ]
    },
    {
      "cell_type": "markdown",
      "metadata": {
        "id": "Yl5ulqSjU2pH"
      },
      "source": [
        "## 分詞，並顯示字詞位置"
      ]
    },
    {
      "cell_type": "code",
      "metadata": {
        "scrolled": true,
        "id": "gYO0fEprU2pH",
        "outputId": "640252cc-2721-42b6-ed2b-4a350e4d6b40"
      },
      "source": [
        "text = \"新竹的交通大學在新竹的大學路上\"\n",
        "result = jieba.tokenize(text)\n",
        "print(\"單字\\t開始位置\\t結束位置\")\n",
        "for tk in result:\n",
        "    print(f\"{tk[0]}\\t{tk[1]:-2d}\\t{tk[2]:-2d}\")"
      ],
      "execution_count": null,
      "outputs": [
        {
          "name": "stdout",
          "output_type": "stream",
          "text": [
            "單字\t開始位置\t結束位置\n",
            "新竹\t 0\t 2\n",
            "的\t 2\t 3\n",
            "交通\t 3\t 5\n",
            "大學\t 5\t 7\n",
            "在\t 7\t 8\n",
            "新竹\t 8\t10\n",
            "的\t10\t11\n",
            "大學路\t11\t14\n",
            "上\t14\t15\n"
          ]
        }
      ]
    },
    {
      "cell_type": "markdown",
      "metadata": {
        "id": "JWDjA3PSU2pI"
      },
      "source": [
        "## 加詞"
      ]
    },
    {
      "cell_type": "code",
      "metadata": {
        "id": "zjhEOOhAU2pI",
        "outputId": "8a122776-3e1e-4195-ccf1-908bfae5acf2"
      },
      "source": [
        "# 測試語句\n",
        "text = \"張惠妹在演唱會演唱三天三夜\"\n",
        "\n",
        "# 加詞前的分詞\n",
        "seg_list = jieba.cut(text, cut_all=False)\n",
        "print(\"加詞前的分詞: \" + \"/ \".join(seg_list))  \n",
        "\n",
        "# 加詞\n",
        "jieba.add_word('三天三夜')\n",
        "\n",
        "seg_list = jieba.cut(text, cut_all=False)\n",
        "print(\"加詞後的分詞: \" + \"/ \".join(seg_list))  "
      ],
      "execution_count": null,
      "outputs": [
        {
          "name": "stdout",
          "output_type": "stream",
          "text": [
            "加詞前的分詞: 張惠妹/ 在/ 演唱會/ 演唱/ 三天三/ 夜\n",
            "加詞後的分詞: 張惠妹/ 在/ 演唱會/ 演唱/ 三天三夜\n"
          ]
        }
      ]
    },
    {
      "cell_type": "markdown",
      "metadata": {
        "id": "inQyky2HU2pJ"
      },
      "source": [
        "## 關鍵字萃取"
      ]
    },
    {
      "cell_type": "code",
      "metadata": {
        "id": "XAtTKsNhU2pJ",
        "outputId": "cac303d8-d511-4d2c-b7cd-cedcdfcc4c8d"
      },
      "source": [
        "# 測試語句來自新聞 https://news.ltn.com.tw/news/life/breakingnews/3497315\n",
        "with open('./jieba/news.txt', encoding='utf8') as f:\n",
        "    text = f.read()\n",
        "\n",
        "# 加詞前的分詞\n",
        "import jieba.analyse\n",
        "\n",
        "jieba.analyse.extract_tags(text, topK=10)  "
      ],
      "execution_count": null,
      "outputs": [
        {
          "data": {
            "text/plain": [
              "['百貨公司', '水車', '中友', '用水', '限水', '封閉', '數間', '公廁', '因應', '20']"
            ]
          },
          "execution_count": 5,
          "metadata": {},
          "output_type": "execute_result"
        }
      ]
    },
    {
      "cell_type": "markdown",
      "metadata": {
        "id": "uVbgV64EU2pK"
      },
      "source": [
        "## 關鍵字萃取"
      ]
    },
    {
      "cell_type": "code",
      "metadata": {
        "id": "OJC_KbwtU2pK",
        "outputId": "104318db-966d-4e14-ab66-6cb44343ad05"
      },
      "source": [
        "# 測試語句來自新聞 https://news.ltn.com.tw/news/life/breakingnews/3497315\n",
        "with open('./jieba/news.txt', encoding='utf8') as f:\n",
        "    text = f.read()\n",
        "\n",
        "import jieba.analyse\n",
        "\n",
        "# 設定停用詞\n",
        "jieba.analyse.set_stop_words('./jieba/stop_words.txt')     \n",
        "    \n",
        "# 加詞前的分詞\n",
        "jieba.analyse.extract_tags(text, topK=10)  "
      ],
      "execution_count": null,
      "outputs": [
        {
          "data": {
            "text/plain": [
              "['百貨公司', '水車', '中友', '用水', '限水', '封閉', '數間', '公廁', '百貨', '週二']"
            ]
          },
          "execution_count": 7,
          "metadata": {},
          "output_type": "execute_result"
        }
      ]
    },
    {
      "cell_type": "markdown",
      "metadata": {
        "id": "2020_lMyU2pL"
      },
      "source": [
        "## 詞性(POS)標註"
      ]
    },
    {
      "cell_type": "code",
      "metadata": {
        "id": "k_YXMRbnU2pL",
        "outputId": "9081701c-81ef-4ed7-c2b7-aeae9887001a"
      },
      "source": [
        "# 測試語句\n",
        "text = \"張惠妹在演唱會演唱三天三夜\"\n",
        "\n",
        "# 詞性(POS)標註\n",
        "words = jieba.posseg.cut(text)     \n",
        "for word, flag in words:\n",
        "    print(f'{word} {flag}')"
      ],
      "execution_count": null,
      "outputs": [
        {
          "name": "stdout",
          "output_type": "stream",
          "text": [
            "張惠妹 N\n",
            "在 P\n",
            "演唱會 N\n",
            "演唱 Vt\n",
            "三天三夜 x\n"
          ]
        }
      ]
    },
    {
      "cell_type": "code",
      "metadata": {
        "id": "7yDpV2_1U2pM"
      },
      "source": [
        ""
      ],
      "execution_count": null,
      "outputs": []
    }
  ]
}