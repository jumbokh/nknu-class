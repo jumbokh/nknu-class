{
 "cells": [
  {
   "cell_type": "markdown",
   "metadata": {
    "id": "mm4D1f4MOGWd"
   },
   "source": [
    "# 使用Sequence to Sequence 模型，英翻中\n",
    "### 程式修改自 [Character-level recurrent sequence-to-sequence model](https://keras.io/examples/nlp/lstm_seq2seq/)"
   ]
  },
  {
   "cell_type": "code",
   "execution_count": 1,
   "metadata": {
    "id": "Y0JGbuboOGWf"
   },
   "outputs": [],
   "source": [
    "# 載入相關套件\n",
    "import numpy as np\n",
    "import tensorflow as tf\n",
    "from tensorflow import keras\n",
    "from tensorflow.keras.layers import Dense, LSTM\n",
    "from tensorflow.keras.models import Sequential"
   ]
  },
  {
   "cell_type": "markdown",
   "metadata": {
    "id": "EeYKm5SeOGWi"
   },
   "source": [
    "## 參數設定"
   ]
  },
  {
   "cell_type": "code",
   "execution_count": 2,
   "metadata": {
    "id": "bE9XiUGbOGWi"
   },
   "outputs": [],
   "source": [
    "# 參數設定\n",
    "batch_size = 64      # 訓練批量\n",
    "epochs = 100         # 訓練執行週期\n",
    "latent_dim = 256     # 隱藏層輸出維度\n",
    "num_samples = 10000  # 訓練樣本數\n",
    "data_path = \"./RNN/fra.txt\" # 訓練資料集檔案路徑"
   ]
  },
  {
   "cell_type": "markdown",
   "metadata": {
    "id": "EeYKm5SeOGWi"
   },
   "source": [
    "## 讀取訓練檔案，進行資料前置處理"
   ]
  },
  {
   "cell_type": "code",
   "execution_count": 3,
   "metadata": {
    "id": "bE9XiUGbOGWi"
   },
   "outputs": [],
   "source": [
    "# 整理兩種語言的字彙表\n",
    "input_texts = []  # 原始語言\n",
    "target_texts = [] # 目標語言\n",
    "input_characters = set()  # 原始語言字母列表\n",
    "target_characters = set() # 目標語言字母列表\n",
    "\n",
    "# 讀取cmn.txt檔案\n",
    "with open(data_path, \"r\", encoding=\"utf-8\") as f:\n",
    "    lines = f.read().split(\"\\n\")\n",
    "\n",
    "# 每列均以 tab 符號隔開，英文為input，中文為output    \n",
    "for line in lines[: min(num_samples, len(lines) - 1)]:\n",
    "    arr = line.split(\"\\t\")\n",
    "    input_text, target_text = arr[0], arr[1]\n",
    "\n",
    "    # 目標語言前面加 \"\\t\"，後前面加 \"\\n\"\n",
    "    target_text = \"\\t\" + target_text + \"\\n\"\n",
    "    input_texts.append(input_text)\n",
    "    target_texts.append(target_text)\n",
    "    for char in input_text:\n",
    "        if char not in input_characters:\n",
    "            input_characters.add(char)\n",
    "    for char in target_text:\n",
    "        if char not in target_characters:\n",
    "            target_characters.add(char)"
   ]
  },
  {
   "cell_type": "markdown",
   "metadata": {
    "id": "EeYKm5SeOGWi"
   },
   "source": [
    "## 統計筆數、字母、長度"
   ]
  },
  {
   "cell_type": "code",
   "execution_count": 4,
   "metadata": {
    "id": "bE9XiUGbOGWi"
   },
   "outputs": [
    {
     "name": "stdout",
     "output_type": "stream",
     "text": [
      "原始語言筆數: 10000\n",
      "原始語言字母數: 71\n",
      "目標語言字母數: 93\n",
      "原始語言語句最大長度: 15\n",
      "目標語言語句最大長度: 59\n"
     ]
    }
   ],
   "source": [
    "# 統計筆數、字母、長度\n",
    "input_characters = sorted(list(input_characters))\n",
    "target_characters = sorted(list(target_characters))\n",
    "num_encoder_tokens = len(input_characters)\n",
    "num_decoder_tokens = len(target_characters)\n",
    "max_encoder_seq_length = max([len(txt) for txt in input_texts])\n",
    "max_decoder_seq_length = max([len(txt) for txt in target_texts])\n",
    "\n",
    "print(\"原始語言筆數:\", len(input_texts))\n",
    "print(\"原始語言字母數:\", num_encoder_tokens)\n",
    "print(\"目標語言字母數:\", num_decoder_tokens)\n",
    "print(\"原始語言語句最大長度:\", max_encoder_seq_length)\n",
    "print(\"目標語言語句最大長度:\", max_decoder_seq_length)"
   ]
  },
  {
   "cell_type": "markdown",
   "metadata": {
    "id": "EeYKm5SeOGWi"
   },
   "source": [
    "## 將字彙表轉為字典"
   ]
  },
  {
   "cell_type": "code",
   "execution_count": 5,
   "metadata": {
    "id": "bE9XiUGbOGWi"
   },
   "outputs": [],
   "source": [
    "# 將字彙表轉為字典資料型態\n",
    "input_token_index = dict([(char, i) for i, char in enumerate(input_characters)])\n",
    "target_token_index = dict([(char, i) for i, char in enumerate(target_characters)])\n",
    "\n",
    "encoder_input_data = np.zeros(\n",
    "    (len(input_texts), max_encoder_seq_length, num_encoder_tokens), dtype=\"float32\"\n",
    ")\n",
    "decoder_input_data = np.zeros(\n",
    "    (len(input_texts), max_decoder_seq_length, num_decoder_tokens), dtype=\"float32\"\n",
    ")\n",
    "decoder_target_data = np.zeros(\n",
    "    (len(input_texts), max_decoder_seq_length, num_decoder_tokens), dtype=\"float32\"\n",
    ")"
   ]
  },
  {
   "cell_type": "markdown",
   "metadata": {
    "id": "EeYKm5SeOGWi"
   },
   "source": [
    "## 利用字典將原文轉為數字"
   ]
  },
  {
   "cell_type": "code",
   "execution_count": 6,
   "metadata": {
    "id": "bE9XiUGbOGWi"
   },
   "outputs": [],
   "source": [
    "# 利用字典將原文轉為數字\n",
    "for i, (input_text, target_text) in enumerate(zip(input_texts, target_texts)):\n",
    "    for t, char in enumerate(input_text):\n",
    "        encoder_input_data[i, t, input_token_index[char]] = 1.0\n",
    "    encoder_input_data[i, t + 1 :, input_token_index[\" \"]] = 1.0\n",
    "    for t, char in enumerate(target_text):\n",
    "        # decoder 輸出比輸入早一期\n",
    "        decoder_input_data[i, t, target_token_index[char]] = 1.0\n",
    "        if t > 0:\n",
    "            decoder_target_data[i, t - 1, target_token_index[char]] = 1.0\n",
    "                    \n",
    "    decoder_input_data[i, t + 1 :, target_token_index[\" \"]] = 1.0\n",
    "    decoder_target_data[i, t:, target_token_index[\" \"]] = 1.0"
   ]
  },
  {
   "cell_type": "markdown",
   "metadata": {
    "id": "oZM7vTPLOGWl"
   },
   "source": [
    "## 建立模型"
   ]
  },
  {
   "cell_type": "code",
   "execution_count": 7,
   "metadata": {
    "id": "950k98THOGWl"
   },
   "outputs": [
    {
     "name": "stdout",
     "output_type": "stream",
     "text": [
      "Model: \"model\"\n",
      "__________________________________________________________________________________________________\n",
      "Layer (type)                    Output Shape         Param #     Connected to                     \n",
      "==================================================================================================\n",
      "input_1 (InputLayer)            [(None, None, 71)]   0                                            \n",
      "__________________________________________________________________________________________________\n",
      "input_2 (InputLayer)            [(None, None, 93)]   0                                            \n",
      "__________________________________________________________________________________________________\n",
      "lstm (LSTM)                     [(None, 256), (None, 335872      input_1[0][0]                    \n",
      "__________________________________________________________________________________________________\n",
      "lstm_1 (LSTM)                   [(None, None, 256),  358400      input_2[0][0]                    \n",
      "                                                                 lstm[0][1]                       \n",
      "                                                                 lstm[0][2]                       \n",
      "__________________________________________________________________________________________________\n",
      "dense (Dense)                   (None, None, 93)     23901       lstm_1[0][0]                     \n",
      "==================================================================================================\n",
      "Total params: 718,173\n",
      "Trainable params: 718,173\n",
      "Non-trainable params: 0\n",
      "__________________________________________________________________________________________________\n"
     ]
    }
   ],
   "source": [
    "# 建立模型\n",
    "encoder_inputs = keras.Input(shape=(None, num_encoder_tokens))\n",
    "encoder = LSTM(latent_dim, return_state=True)\n",
    "encoder_outputs, state_h, state_c = encoder(encoder_inputs)\n",
    "\n",
    "# 不使用 encoder 的輸出，只保留狀態(state)，即語意結構\n",
    "encoder_states = [state_h, state_c]\n",
    "\n",
    "# decoder 以 encoder 語意結構為輸入 \n",
    "decoder_inputs = keras.Input(shape=(None, num_decoder_tokens))\n",
    "\n",
    "# 傳回 LSTM 每一個輸出\n",
    "decoder_lstm = LSTM(latent_dim, return_sequences=True, return_state=True)\n",
    "decoder_outputs, _, _ = decoder_lstm(decoder_inputs, initial_state=encoder_states)\n",
    "decoder_dense = Dense(num_decoder_tokens, activation=\"softmax\")\n",
    "decoder_outputs = decoder_dense(decoder_outputs)\n",
    "\n",
    "model = keras.Model([encoder_inputs, decoder_inputs], decoder_outputs)\n",
    "model.summary()"
   ]
  },
  {
   "cell_type": "code",
   "execution_count": 8,
   "metadata": {
    "scrolled": false
   },
   "outputs": [
    {
     "data": {
      "image/png": "[encoded data removed]",
      "text/plain": [
       "<IPython.core.display.Image object>"
      ]
     },
     "execution_count": 8,
     "metadata": {},
     "output_type": "execute_result"
    }
   ],
   "source": [
    "# 繪製模型\n",
    "# show_shapes=True：Layer 含 Input/Output 資訊\n",
    "keras.utils.plot_model(model, \"nmt1.png\", show_shapes=True)"
   ]
  },
  {
   "cell_type": "markdown",
   "metadata": {
    "id": "pTWUs_XUOGWn"
   },
   "source": [
    "## 訓練模型"
   ]
  },
  {
   "cell_type": "code",
   "execution_count": 9,
   "metadata": {},
   "outputs": [
    {
     "name": "stdout",
     "output_type": "stream",
     "text": [
      "Epoch 1/100\n",
      "125/125 [==============================] - 8s 37ms/step - loss: 1.5002 - accuracy: 0.7043 - val_loss: 1.0597 - val_accuracy: 0.7072\n",
      "Epoch 2/100\n",
      "125/125 [==============================] - 3s 24ms/step - loss: 0.8708 - accuracy: 0.7638 - val_loss: 0.8362 - val_accuracy: 0.7661\n",
      "Epoch 3/100\n",
      "125/125 [==============================] - 3s 24ms/step - loss: 0.6982 - accuracy: 0.8073 - val_loss: 0.6994 - val_accuracy: 0.7979\n",
      "Epoch 4/100\n",
      "125/125 [==============================] - 3s 23ms/step - loss: 0.5895 - accuracy: 0.8295 - val_loss: 0.6401 - val_accuracy: 0.8111\n",
      "Epoch 5/100\n",
      "125/125 [==============================] - 3s 23ms/step - loss: 0.5381 - accuracy: 0.8425 - val_loss: 0.6004 - val_accuracy: 0.8259\n",
      "Epoch 6/100\n",
      "125/125 [==============================] - 3s 24ms/step - loss: 0.5009 - accuracy: 0.8530 - val_loss: 0.5670 - val_accuracy: 0.8356\n",
      "Epoch 7/100\n",
      "125/125 [==============================] - 3s 24ms/step - loss: 0.4691 - accuracy: 0.8618 - val_loss: 0.5439 - val_accuracy: 0.8417\n",
      "Epoch 8/100\n",
      "125/125 [==============================] - 3s 23ms/step - loss: 0.4453 - accuracy: 0.8682 - val_loss: 0.5266 - val_accuracy: 0.8462\n",
      "Epoch 9/100\n",
      "125/125 [==============================] - 3s 23ms/step - loss: 0.4250 - accuracy: 0.8729 - val_loss: 0.5085 - val_accuracy: 0.8507\n",
      "Epoch 10/100\n",
      "125/125 [==============================] - 3s 24ms/step - loss: 0.4055 - accuracy: 0.8786 - val_loss: 0.4975 - val_accuracy: 0.8545\n",
      "Epoch 11/100\n",
      "125/125 [==============================] - 3s 24ms/step - loss: 0.3880 - accuracy: 0.8835 - val_loss: 0.4957 - val_accuracy: 0.8544\n",
      "Epoch 12/100\n",
      "125/125 [==============================] - 3s 24ms/step - loss: 0.3751 - accuracy: 0.8871 - val_loss: 0.4849 - val_accuracy: 0.8572\n",
      "Epoch 13/100\n",
      "125/125 [==============================] - 3s 23ms/step - loss: 0.3587 - accuracy: 0.8912 - val_loss: 0.4702 - val_accuracy: 0.8616\n",
      "Epoch 14/100\n",
      "125/125 [==============================] - 3s 23ms/step - loss: 0.3425 - accuracy: 0.8968 - val_loss: 0.4624 - val_accuracy: 0.8652\n",
      "Epoch 15/100\n",
      "125/125 [==============================] - 3s 23ms/step - loss: 0.3315 - accuracy: 0.8996 - val_loss: 0.4642 - val_accuracy: 0.8646\n",
      "Epoch 16/100\n",
      "125/125 [==============================] - 3s 24ms/step - loss: 0.3172 - accuracy: 0.9042 - val_loss: 0.4544 - val_accuracy: 0.8684\n",
      "Epoch 17/100\n",
      "125/125 [==============================] - 3s 24ms/step - loss: 0.3033 - accuracy: 0.9082 - val_loss: 0.4520 - val_accuracy: 0.8692\n",
      "Epoch 18/100\n",
      "125/125 [==============================] - 3s 24ms/step - loss: 0.2940 - accuracy: 0.9111 - val_loss: 0.4528 - val_accuracy: 0.8692\n",
      "Epoch 19/100\n",
      "125/125 [==============================] - 3s 24ms/step - loss: 0.2821 - accuracy: 0.9144 - val_loss: 0.4521 - val_accuracy: 0.8705\n",
      "Epoch 20/100\n",
      "125/125 [==============================] - 3s 23ms/step - loss: 0.2729 - accuracy: 0.9172 - val_loss: 0.4479 - val_accuracy: 0.8714\n",
      "Epoch 21/100\n",
      "125/125 [==============================] - 3s 23ms/step - loss: 0.2621 - accuracy: 0.9204 - val_loss: 0.4477 - val_accuracy: 0.8724\n",
      "Epoch 22/100\n",
      "125/125 [==============================] - 3s 24ms/step - loss: 0.2509 - accuracy: 0.9234 - val_loss: 0.4464 - val_accuracy: 0.8729\n",
      "Epoch 23/100\n",
      "125/125 [==============================] - 3s 24ms/step - loss: 0.2433 - accuracy: 0.9265 - val_loss: 0.4500 - val_accuracy: 0.8747\n",
      "Epoch 24/100\n",
      "125/125 [==============================] - 3s 24ms/step - loss: 0.2363 - accuracy: 0.9283 - val_loss: 0.4560 - val_accuracy: 0.8734\n",
      "Epoch 25/100\n",
      "125/125 [==============================] - 3s 24ms/step - loss: 0.2271 - accuracy: 0.9314 - val_loss: 0.4560 - val_accuracy: 0.8734\n",
      "Epoch 26/100\n",
      "125/125 [==============================] - 3s 24ms/step - loss: 0.2204 - accuracy: 0.9334 - val_loss: 0.4591 - val_accuracy: 0.8749\n",
      "Epoch 27/100\n",
      "125/125 [==============================] - 3s 24ms/step - loss: 0.2127 - accuracy: 0.9353 - val_loss: 0.4584 - val_accuracy: 0.8749\n",
      "Epoch 28/100\n",
      "125/125 [==============================] - 3s 24ms/step - loss: 0.2043 - accuracy: 0.9381 - val_loss: 0.4599 - val_accuracy: 0.8755\n",
      "Epoch 29/100\n",
      "125/125 [==============================] - 3s 24ms/step - loss: 0.1990 - accuracy: 0.9399 - val_loss: 0.4680 - val_accuracy: 0.8744\n",
      "Epoch 30/100\n",
      "125/125 [==============================] - 3s 23ms/step - loss: 0.1918 - accuracy: 0.9421 - val_loss: 0.4681 - val_accuracy: 0.8751\n",
      "Epoch 31/100\n",
      "125/125 [==============================] - 3s 23ms/step - loss: 0.1854 - accuracy: 0.9438 - val_loss: 0.4699 - val_accuracy: 0.8757\n",
      "Epoch 32/100\n",
      "125/125 [==============================] - 3s 23ms/step - loss: 0.1833 - accuracy: 0.9438 - val_loss: 0.4728 - val_accuracy: 0.8761\n",
      "Epoch 33/100\n",
      "125/125 [==============================] - 3s 23ms/step - loss: 0.1754 - accuracy: 0.9468 - val_loss: 0.4792 - val_accuracy: 0.8751\n",
      "Epoch 34/100\n",
      "125/125 [==============================] - 3s 24ms/step - loss: 0.1685 - accuracy: 0.9487 - val_loss: 0.4838 - val_accuracy: 0.8745\n",
      "Epoch 35/100\n",
      "125/125 [==============================] - 3s 24ms/step - loss: 0.1624 - accuracy: 0.9507 - val_loss: 0.4835 - val_accuracy: 0.8751\n",
      "Epoch 36/100\n",
      "125/125 [==============================] - 3s 23ms/step - loss: 0.1573 - accuracy: 0.9521 - val_loss: 0.4891 - val_accuracy: 0.8751\n",
      "Epoch 37/100\n",
      "125/125 [==============================] - 3s 24ms/step - loss: 0.1550 - accuracy: 0.9524 - val_loss: 0.4990 - val_accuracy: 0.8748\n",
      "Epoch 38/100\n",
      "125/125 [==============================] - 3s 24ms/step - loss: 0.1493 - accuracy: 0.9543 - val_loss: 0.4981 - val_accuracy: 0.8754\n",
      "Epoch 39/100\n",
      "125/125 [==============================] - 3s 24ms/step - loss: 0.1470 - accuracy: 0.9553 - val_loss: 0.5037 - val_accuracy: 0.8747\n",
      "Epoch 40/100\n",
      "125/125 [==============================] - 3s 24ms/step - loss: 0.1404 - accuracy: 0.9570 - val_loss: 0.5095 - val_accuracy: 0.8747\n",
      "Epoch 41/100\n",
      "125/125 [==============================] - 3s 24ms/step - loss: 0.1372 - accuracy: 0.9579 - val_loss: 0.5153 - val_accuracy: 0.8757\n",
      "Epoch 42/100\n",
      "125/125 [==============================] - 3s 24ms/step - loss: 0.1327 - accuracy: 0.9590 - val_loss: 0.5183 - val_accuracy: 0.8749\n",
      "Epoch 43/100\n",
      "125/125 [==============================] - 3s 24ms/step - loss: 0.1300 - accuracy: 0.9600 - val_loss: 0.5273 - val_accuracy: 0.8741\n",
      "Epoch 44/100\n",
      "125/125 [==============================] - 3s 24ms/step - loss: 0.1267 - accuracy: 0.9611 - val_loss: 0.5291 - val_accuracy: 0.8751\n",
      "Epoch 45/100\n",
      "125/125 [==============================] - 3s 24ms/step - loss: 0.1218 - accuracy: 0.9624 - val_loss: 0.5308 - val_accuracy: 0.8744\n",
      "Epoch 46/100\n",
      "125/125 [==============================] - 3s 24ms/step - loss: 0.1198 - accuracy: 0.9630 - val_loss: 0.5381 - val_accuracy: 0.8750\n",
      "Epoch 47/100\n",
      "125/125 [==============================] - 3s 24ms/step - loss: 0.1163 - accuracy: 0.9641 - val_loss: 0.5429 - val_accuracy: 0.8748\n",
      "Epoch 48/100\n",
      "125/125 [==============================] - 3s 24ms/step - loss: 0.1129 - accuracy: 0.9651 - val_loss: 0.5483 - val_accuracy: 0.8748\n",
      "Epoch 49/100\n",
      "125/125 [==============================] - 3s 24ms/step - loss: 0.1108 - accuracy: 0.9656 - val_loss: 0.5500 - val_accuracy: 0.8741\n",
      "Epoch 50/100\n",
      "125/125 [==============================] - 3s 24ms/step - loss: 0.1068 - accuracy: 0.9669 - val_loss: 0.5598 - val_accuracy: 0.8746\n",
      "Epoch 51/100\n",
      "125/125 [==============================] - 3s 24ms/step - loss: 0.1036 - accuracy: 0.9677 - val_loss: 0.5639 - val_accuracy: 0.8740\n",
      "Epoch 52/100\n",
      "125/125 [==============================] - 3s 24ms/step - loss: 0.1016 - accuracy: 0.9685 - val_loss: 0.5735 - val_accuracy: 0.8737\n",
      "Epoch 53/100\n",
      "125/125 [==============================] - 3s 23ms/step - loss: 0.0990 - accuracy: 0.9694 - val_loss: 0.5733 - val_accuracy: 0.8735\n",
      "Epoch 54/100\n",
      "125/125 [==============================] - 3s 24ms/step - loss: 0.0967 - accuracy: 0.9697 - val_loss: 0.5692 - val_accuracy: 0.8741\n",
      "Epoch 55/100\n",
      "125/125 [==============================] - 3s 24ms/step - loss: 0.0952 - accuracy: 0.9699 - val_loss: 0.5810 - val_accuracy: 0.8739\n",
      "Epoch 56/100\n",
      "125/125 [==============================] - 3s 24ms/step - loss: 0.0924 - accuracy: 0.9710 - val_loss: 0.5884 - val_accuracy: 0.8738\n",
      "Epoch 57/100\n"
     ]
    },
    {
     "name": "stdout",
     "output_type": "stream",
     "text": [
      "125/125 [==============================] - 3s 24ms/step - loss: 0.0903 - accuracy: 0.9715 - val_loss: 0.5913 - val_accuracy: 0.8740\n",
      "Epoch 58/100\n",
      "125/125 [==============================] - 3s 23ms/step - loss: 0.0883 - accuracy: 0.9721 - val_loss: 0.5990 - val_accuracy: 0.8743\n",
      "Epoch 59/100\n",
      "125/125 [==============================] - 3s 24ms/step - loss: 0.0857 - accuracy: 0.9729 - val_loss: 0.6020 - val_accuracy: 0.8744\n",
      "Epoch 60/100\n",
      "125/125 [==============================] - 3s 24ms/step - loss: 0.0848 - accuracy: 0.9734 - val_loss: 0.6046 - val_accuracy: 0.8737\n",
      "Epoch 61/100\n",
      "125/125 [==============================] - 3s 24ms/step - loss: 0.0826 - accuracy: 0.9737 - val_loss: 0.6089 - val_accuracy: 0.8742\n",
      "Epoch 62/100\n",
      "125/125 [==============================] - 3s 24ms/step - loss: 0.0801 - accuracy: 0.9745 - val_loss: 0.6148 - val_accuracy: 0.8733\n",
      "Epoch 63/100\n",
      "125/125 [==============================] - 3s 24ms/step - loss: 0.0794 - accuracy: 0.9747 - val_loss: 0.6200 - val_accuracy: 0.8735\n",
      "Epoch 64/100\n",
      "125/125 [==============================] - 3s 24ms/step - loss: 0.0768 - accuracy: 0.9754 - val_loss: 0.6262 - val_accuracy: 0.8733\n",
      "Epoch 65/100\n",
      "125/125 [==============================] - 3s 24ms/step - loss: 0.0756 - accuracy: 0.9757 - val_loss: 0.6269 - val_accuracy: 0.8738\n",
      "Epoch 66/100\n",
      "125/125 [==============================] - 3s 24ms/step - loss: 0.0743 - accuracy: 0.9761 - val_loss: 0.6307 - val_accuracy: 0.8737\n",
      "Epoch 67/100\n",
      "125/125 [==============================] - 3s 24ms/step - loss: 0.0726 - accuracy: 0.9766 - val_loss: 0.6417 - val_accuracy: 0.8719\n",
      "Epoch 68/100\n",
      "125/125 [==============================] - 3s 24ms/step - loss: 0.0711 - accuracy: 0.9774 - val_loss: 0.6472 - val_accuracy: 0.8723\n",
      "Epoch 69/100\n",
      "125/125 [==============================] - 3s 24ms/step - loss: 0.0701 - accuracy: 0.9773 - val_loss: 0.6492 - val_accuracy: 0.8723\n",
      "Epoch 70/100\n",
      "125/125 [==============================] - 3s 24ms/step - loss: 0.0687 - accuracy: 0.9776 - val_loss: 0.6524 - val_accuracy: 0.8734\n",
      "Epoch 71/100\n",
      "125/125 [==============================] - 3s 24ms/step - loss: 0.0658 - accuracy: 0.9789 - val_loss: 0.6574 - val_accuracy: 0.8731\n",
      "Epoch 72/100\n",
      "125/125 [==============================] - 3s 24ms/step - loss: 0.0652 - accuracy: 0.9787 - val_loss: 0.6603 - val_accuracy: 0.8735\n",
      "Epoch 73/100\n",
      "125/125 [==============================] - 3s 24ms/step - loss: 0.0640 - accuracy: 0.9791 - val_loss: 0.6668 - val_accuracy: 0.8723\n",
      "Epoch 74/100\n",
      "125/125 [==============================] - 3s 24ms/step - loss: 0.0630 - accuracy: 0.9793 - val_loss: 0.6703 - val_accuracy: 0.8726\n",
      "Epoch 75/100\n",
      "125/125 [==============================] - 3s 23ms/step - loss: 0.0622 - accuracy: 0.9796 - val_loss: 0.6685 - val_accuracy: 0.8725\n",
      "Epoch 76/100\n",
      "125/125 [==============================] - 3s 23ms/step - loss: 0.0605 - accuracy: 0.9800 - val_loss: 0.6742 - val_accuracy: 0.8727\n",
      "Epoch 77/100\n",
      "125/125 [==============================] - 3s 24ms/step - loss: 0.0587 - accuracy: 0.9807 - val_loss: 0.6820 - val_accuracy: 0.8724\n",
      "Epoch 78/100\n",
      "125/125 [==============================] - 3s 24ms/step - loss: 0.0576 - accuracy: 0.9808 - val_loss: 0.6846 - val_accuracy: 0.8717\n",
      "Epoch 79/100\n",
      "125/125 [==============================] - 3s 24ms/step - loss: 0.0577 - accuracy: 0.9808 - val_loss: 0.6903 - val_accuracy: 0.8712\n",
      "Epoch 80/100\n",
      "125/125 [==============================] - 3s 24ms/step - loss: 0.0568 - accuracy: 0.9812 - val_loss: 0.6937 - val_accuracy: 0.8719\n",
      "Epoch 81/100\n",
      "125/125 [==============================] - 3s 23ms/step - loss: 0.0549 - accuracy: 0.9816 - val_loss: 0.6984 - val_accuracy: 0.8717\n",
      "Epoch 82/100\n",
      "125/125 [==============================] - 3s 24ms/step - loss: 0.0545 - accuracy: 0.9816 - val_loss: 0.7033 - val_accuracy: 0.8714\n",
      "Epoch 83/100\n",
      "125/125 [==============================] - 3s 24ms/step - loss: 0.0534 - accuracy: 0.9820 - val_loss: 0.7059 - val_accuracy: 0.8709\n",
      "Epoch 84/100\n",
      "125/125 [==============================] - 3s 24ms/step - loss: 0.0529 - accuracy: 0.9822 - val_loss: 0.7092 - val_accuracy: 0.8713\n",
      "Epoch 85/100\n",
      "125/125 [==============================] - 3s 24ms/step - loss: 0.0526 - accuracy: 0.9823 - val_loss: 0.7215 - val_accuracy: 0.8707\n",
      "Epoch 86/100\n",
      "125/125 [==============================] - 3s 24ms/step - loss: 0.0512 - accuracy: 0.9826 - val_loss: 0.7148 - val_accuracy: 0.8722\n",
      "Epoch 87/100\n",
      "125/125 [==============================] - 3s 24ms/step - loss: 0.0497 - accuracy: 0.9831 - val_loss: 0.7240 - val_accuracy: 0.8709\n",
      "Epoch 88/100\n",
      "125/125 [==============================] - 3s 24ms/step - loss: 0.0502 - accuracy: 0.9830 - val_loss: 0.7286 - val_accuracy: 0.8709\n",
      "Epoch 89/100\n",
      "125/125 [==============================] - 3s 24ms/step - loss: 0.0489 - accuracy: 0.9833 - val_loss: 0.7291 - val_accuracy: 0.8717\n",
      "Epoch 90/100\n",
      "125/125 [==============================] - 3s 24ms/step - loss: 0.0485 - accuracy: 0.9833 - val_loss: 0.7373 - val_accuracy: 0.8696\n",
      "Epoch 91/100\n",
      "125/125 [==============================] - 3s 24ms/step - loss: 0.0473 - accuracy: 0.9838 - val_loss: 0.7358 - val_accuracy: 0.8708\n",
      "Epoch 92/100\n",
      "125/125 [==============================] - 3s 24ms/step - loss: 0.0470 - accuracy: 0.9838 - val_loss: 0.7341 - val_accuracy: 0.8714\n",
      "Epoch 93/100\n",
      "125/125 [==============================] - 3s 24ms/step - loss: 0.0458 - accuracy: 0.9843 - val_loss: 0.7466 - val_accuracy: 0.8712\n",
      "Epoch 94/100\n",
      "125/125 [==============================] - 3s 24ms/step - loss: 0.0457 - accuracy: 0.9843 - val_loss: 0.7506 - val_accuracy: 0.8706\n",
      "Epoch 95/100\n",
      "125/125 [==============================] - 3s 24ms/step - loss: 0.0448 - accuracy: 0.9845 - val_loss: 0.7487 - val_accuracy: 0.8718\n",
      "Epoch 96/100\n",
      "125/125 [==============================] - 3s 24ms/step - loss: 0.0444 - accuracy: 0.9846 - val_loss: 0.7508 - val_accuracy: 0.8708\n",
      "Epoch 97/100\n",
      "125/125 [==============================] - 3s 23ms/step - loss: 0.0437 - accuracy: 0.9848 - val_loss: 0.7550 - val_accuracy: 0.8712\n",
      "Epoch 98/100\n",
      "125/125 [==============================] - 3s 23ms/step - loss: 0.0432 - accuracy: 0.9845 - val_loss: 0.7530 - val_accuracy: 0.8707\n",
      "Epoch 99/100\n",
      "125/125 [==============================] - 3s 24ms/step - loss: 0.0430 - accuracy: 0.9848 - val_loss: 0.7547 - val_accuracy: 0.8710\n",
      "Epoch 100/100\n",
      "125/125 [==============================] - 3s 24ms/step - loss: 0.0422 - accuracy: 0.9852 - val_loss: 0.7602 - val_accuracy: 0.8711\n"
     ]
    }
   ],
   "source": [
    "# 訓練模型\n",
    "model.compile(\n",
    "    optimizer=\"rmsprop\", loss=\"categorical_crossentropy\", metrics=[\"accuracy\"]\n",
    ")\n",
    "model.fit(\n",
    "    [encoder_input_data, decoder_input_data],\n",
    "    decoder_target_data,\n",
    "    batch_size=batch_size,\n",
    "    epochs=epochs,\n",
    "    validation_split=0.2,\n",
    ")\n",
    "# 模型存檔\n",
    "model.save(\"nmt1.h5\")"
   ]
  },
  {
   "cell_type": "markdown",
   "metadata": {
    "id": "pTWUs_XUOGWn"
   },
   "source": [
    "## 預測\n",
    "1. 對input編碼，取得解碼器的初起狀態\n",
    "2. 執行解碼：將解碼器的初起狀態及原始輸入進行解碼\n",
    "3. 重複執行，取得序列資料"
   ]
  },
  {
   "cell_type": "code",
   "execution_count": 10,
   "metadata": {
    "id": "LZ2ID-lEOGWo"
   },
   "outputs": [],
   "source": [
    "# # 載入模型，非必要\n",
    "# from os import path\n",
    "# if path.exists(\"nmt1.h5\"):\n",
    "#     model = keras.models.load_model(\"nmt1.h5\")"
   ]
  },
  {
   "cell_type": "markdown",
   "metadata": {},
   "source": [
    "## 設定字典，可將整數轉回文字"
   ]
  },
  {
   "cell_type": "code",
   "execution_count": 11,
   "metadata": {
    "id": "LZ2ID-lEOGWo"
   },
   "outputs": [],
   "source": [
    "# 取得 encoder 語意結構\n",
    "encoder_inputs = model.input[0]  # input_1\n",
    "encoder_outputs, state_h_enc, state_c_enc = model.layers[2].output  # lstm_1\n",
    "encoder_states = [state_h_enc, state_c_enc]\n",
    "encoder_model = keras.Model(encoder_inputs, encoder_states)\n",
    "\n",
    "# 取得 decoder 的目標語言輸入\n",
    "decoder_inputs = model.input[1]  # input_2\n",
    "decoder_state_input_h = keras.Input(shape=(latent_dim,), name=\"input_3\")\n",
    "decoder_state_input_c = keras.Input(shape=(latent_dim,), name=\"input_4\")\n",
    "decoder_states_inputs = [decoder_state_input_h, decoder_state_input_c]\n",
    "decoder_lstm = model.layers[3]\n",
    "decoder_outputs, state_h_dec, state_c_dec = decoder_lstm(\n",
    "    decoder_inputs, initial_state=decoder_states_inputs\n",
    ")\n",
    "decoder_states = [state_h_dec, state_c_dec]\n",
    "decoder_dense = model.layers[4]\n",
    "decoder_outputs = decoder_dense(decoder_outputs)\n",
    "decoder_model = keras.Model(\n",
    "    [decoder_inputs] + decoder_states_inputs, [decoder_outputs] + decoder_states\n",
    ")\n",
    "\n",
    "# 設定字典，可將整數轉回文字\n",
    "reverse_input_char_index = dict((i, char) for char, i in input_token_index.items())\n",
    "reverse_target_char_index = dict((i, char) for char, i in target_token_index.items())"
   ]
  },
  {
   "cell_type": "markdown",
   "metadata": {},
   "source": [
    "## 定義預測函數"
   ]
  },
  {
   "cell_type": "code",
   "execution_count": 12,
   "metadata": {
    "id": "LZ2ID-lEOGWo"
   },
   "outputs": [],
   "source": [
    "# 預測函數\n",
    "def decode_sequence(input_seq):\n",
    "    # 取得狀態(語意結構)\n",
    "    states_value = encoder_model.predict(input_seq)\n",
    "\n",
    "    # 初始化 decoder 目標語言輸出\n",
    "    target_seq = np.zeros((1, 1, num_decoder_tokens))\n",
    "    # 設定目標語言第一個字母為起始字母\n",
    "    target_seq[0, 0, target_token_index[\"\\t\"]] = 1.0\n",
    "\n",
    "    # 預測\n",
    "    stop_condition = False\n",
    "    decoded_sentence = \"\"\n",
    "    while not stop_condition:\n",
    "        # 取得預測值\n",
    "        output_tokens, h, c = decoder_model.predict([target_seq] + states_value)\n",
    "\n",
    "        # 找到最大可能的字母\n",
    "        sampled_token_index = np.argmax(output_tokens[0, -1, :])\n",
    "        sampled_char = reverse_target_char_index[sampled_token_index]\n",
    "        decoded_sentence += sampled_char\n",
    "\n",
    "        # 如果整句翻完，即結束\n",
    "        if sampled_char == \"\\n\" or len(decoded_sentence) > max_decoder_seq_length:\n",
    "            stop_condition = True\n",
    "\n",
    "        # 輸出\n",
    "        target_seq = np.zeros((1, 1, num_decoder_tokens))\n",
    "        target_seq[0, 0, sampled_token_index] = 1.0\n",
    "\n",
    "        # 更新狀態\n",
    "        states_value = [h, c]\n",
    "    return decoded_sentence"
   ]
  },
  {
   "cell_type": "markdown",
   "metadata": {},
   "source": [
    "## 測試前50筆"
   ]
  },
  {
   "cell_type": "code",
   "execution_count": 13,
   "metadata": {},
   "outputs": [
    {
     "data": {
      "text/plain": [
       "(10000, 15, 71)"
      ]
     },
     "execution_count": 13,
     "metadata": {},
     "output_type": "execute_result"
    }
   ],
   "source": [
    "encoder_input_data.shape"
   ]
  },
  {
   "cell_type": "code",
   "execution_count": 14,
   "metadata": {
    "scrolled": false
   },
   "outputs": [
    {
     "name": "stdout",
     "output_type": "stream",
     "text": [
      "Input sentence: Go.\n",
      "Decoded sentence: Bouge !\n",
      "\n",
      "Input sentence: Go.\n",
      "Decoded sentence: Bouge !\n",
      "\n",
      "Input sentence: Go.\n",
      "Decoded sentence: Bouge !\n",
      "\n",
      "Input sentence: Hi.\n",
      "Decoded sentence: Salut !\n",
      "\n",
      "Input sentence: Hi.\n",
      "Decoded sentence: Salut !\n",
      "\n",
      "Input sentence: Run!\n",
      "Decoded sentence: Cours !\n",
      "\n",
      "Input sentence: Run!\n",
      "Decoded sentence: Cours !\n",
      "\n",
      "Input sentence: Run!\n",
      "Decoded sentence: Cours !\n",
      "\n",
      "Input sentence: Run!\n",
      "Decoded sentence: Cours !\n",
      "\n",
      "Input sentence: Run!\n",
      "Decoded sentence: Cours !\n",
      "\n",
      "Input sentence: Run!\n",
      "Decoded sentence: Cours !\n",
      "\n",
      "Input sentence: Run!\n",
      "Decoded sentence: Cours !\n",
      "\n",
      "Input sentence: Run!\n",
      "Decoded sentence: Cours !\n",
      "\n",
      "Input sentence: Run.\n",
      "Decoded sentence: Cours !\n",
      "\n",
      "Input sentence: Run.\n",
      "Decoded sentence: Cours !\n",
      "\n",
      "Input sentence: Run.\n",
      "Decoded sentence: Cours !\n",
      "\n",
      "Input sentence: Run.\n",
      "Decoded sentence: Cours !\n",
      "\n",
      "Input sentence: Run.\n",
      "Decoded sentence: Cours !\n",
      "\n",
      "Input sentence: Run.\n",
      "Decoded sentence: Cours !\n",
      "\n",
      "Input sentence: Run.\n",
      "Decoded sentence: Cours !\n",
      "\n",
      "Input sentence: Run.\n",
      "Decoded sentence: Cours !\n",
      "\n",
      "Input sentence: Who?\n",
      "Decoded sentence: Qui ?\n",
      "\n",
      "Input sentence: Wow!\n",
      "Decoded sentence: Ça alors !\n",
      "\n",
      "Input sentence: Fire!\n",
      "Decoded sentence: Au feu !\n",
      "\n",
      "Input sentence: Help!\n",
      "Decoded sentence: À l'aide !\n",
      "\n",
      "Input sentence: Jump!\n",
      "Decoded sentence: Saute.\n",
      "\n",
      "Input sentence: Jump.\n",
      "Decoded sentence: Saute.\n",
      "\n",
      "Input sentence: Stop!\n",
      "Decoded sentence: Arrête-toi !\n",
      "\n",
      "Input sentence: Stop!\n",
      "Decoded sentence: Arrête-toi !\n",
      "\n",
      "Input sentence: Stop!\n",
      "Decoded sentence: Arrête-toi !\n",
      "\n",
      "Input sentence: Wait!\n",
      "Decoded sentence: Attendez !\n",
      "\n",
      "Input sentence: Wait!\n",
      "Decoded sentence: Attendez !\n",
      "\n",
      "Input sentence: Wait!\n",
      "Decoded sentence: Attendez !\n",
      "\n",
      "Input sentence: Wait.\n",
      "Decoded sentence: Attendez !\n",
      "\n",
      "Input sentence: Wait.\n",
      "Decoded sentence: Attendez !\n",
      "\n",
      "Input sentence: Wait.\n",
      "Decoded sentence: Attendez !\n",
      "\n",
      "Input sentence: Wait.\n",
      "Decoded sentence: Attendez !\n",
      "\n",
      "Input sentence: Begin.\n",
      "Decoded sentence: Commencez.\n",
      "\n",
      "Input sentence: Begin.\n",
      "Decoded sentence: Commencez.\n",
      "\n",
      "Input sentence: Go on.\n",
      "Decoded sentence: Poursuis.\n",
      "\n",
      "Input sentence: Go on.\n",
      "Decoded sentence: Poursuis.\n",
      "\n",
      "Input sentence: Go on.\n",
      "Decoded sentence: Poursuis.\n",
      "\n",
      "Input sentence: Hello!\n",
      "Decoded sentence: Bonjour !\n",
      "\n",
      "Input sentence: Hello!\n",
      "Decoded sentence: Bonjour !\n",
      "\n",
      "Input sentence: I see.\n",
      "Decoded sentence: Je comprends.\n",
      "\n",
      "Input sentence: I see.\n",
      "Decoded sentence: Je comprends.\n",
      "\n",
      "Input sentence: I try.\n",
      "Decoded sentence: J'essaye.\n",
      "\n",
      "Input sentence: I won!\n",
      "Decoded sentence: J'ai gagné !\n",
      "\n",
      "Input sentence: I won!\n",
      "Decoded sentence: J'ai gagné !\n",
      "\n",
      "Input sentence: I won.\n",
      "Decoded sentence: J'ai à nouveau.\n",
      "\n"
     ]
    }
   ],
   "source": [
    "# 測試前50筆\n",
    "for seq_index in range(50):\n",
    "    input_seq = encoder_input_data[seq_index : seq_index + 1]\n",
    "    decoded_sentence = decode_sequence(input_seq)\n",
    "    print(\"Input sentence:\", input_texts[seq_index])\n",
    "    print(\"Decoded sentence:\", decoded_sentence)"
   ]
  },
  {
   "cell_type": "markdown",
   "metadata": {},
   "source": [
    "## 自訂資料測試"
   ]
  },
  {
   "cell_type": "code",
   "execution_count": 15,
   "metadata": {
    "scrolled": false
   },
   "outputs": [
    {
     "name": "stdout",
     "output_type": "stream",
     "text": [
      "Input sentence: Join us\n",
      "Decoded sentence: Dises simplement non !\n",
      "\n",
      "Input sentence: It's me\n",
      "Decoded sentence: C'est une chanson.\n",
      "\n",
      "Input sentence: Keep it\n",
      "Decoded sentence: Gardez les épaus.\n",
      "\n"
     ]
    }
   ],
   "source": [
    "# 自訂資料測試\n",
    "test_data = ['Join us', 'It\\'s me', 'Keep it']\n",
    "encoder_input_data = np.zeros(\n",
    "    (len(test_data), max_encoder_seq_length, num_encoder_tokens), dtype=\"float32\"\n",
    ")\n",
    "\n",
    "for i, input_text in enumerate(test_data):\n",
    "    for t, char in enumerate(input_text):\n",
    "        encoder_input_data[i, t, input_token_index[char]] = 1.0\n",
    "        \n",
    "for seq_index in range(encoder_input_data.shape[0]):\n",
    "    input_seq = encoder_input_data[seq_index : seq_index + 1]\n",
    "    decoded_sentence = decode_sequence(input_seq)\n",
    "    print(\"Input sentence:\", test_data[seq_index])\n",
    "    print(\"Decoded sentence:\", decoded_sentence)"
   ]
  },
  {
   "cell_type": "code",
   "execution_count": 25,
   "metadata": {},
   "outputs": [],
   "source": [
    "import googletrans\n",
    "\n",
    "translator = googletrans.Translator()"
   ]
  },
  {
   "cell_type": "code",
   "execution_count": 26,
   "metadata": {},
   "outputs": [
    {
     "data": {
      "text/plain": [
       "{'af': 'afrikaans',\n",
       " 'sq': 'albanian',\n",
       " 'am': 'amharic',\n",
       " 'ar': 'arabic',\n",
       " 'hy': 'armenian',\n",
       " 'az': 'azerbaijani',\n",
       " 'eu': 'basque',\n",
       " 'be': 'belarusian',\n",
       " 'bn': 'bengali',\n",
       " 'bs': 'bosnian',\n",
       " 'bg': 'bulgarian',\n",
       " 'ca': 'catalan',\n",
       " 'ceb': 'cebuano',\n",
       " 'ny': 'chichewa',\n",
       " 'zh-cn': 'chinese (simplified)',\n",
       " 'zh-tw': 'chinese (traditional)',\n",
       " 'co': 'corsican',\n",
       " 'hr': 'croatian',\n",
       " 'cs': 'czech',\n",
       " 'da': 'danish',\n",
       " 'nl': 'dutch',\n",
       " 'en': 'english',\n",
       " 'eo': 'esperanto',\n",
       " 'et': 'estonian',\n",
       " 'tl': 'filipino',\n",
       " 'fi': 'finnish',\n",
       " 'fr': 'french',\n",
       " 'fy': 'frisian',\n",
       " 'gl': 'galician',\n",
       " 'ka': 'georgian',\n",
       " 'de': 'german',\n",
       " 'el': 'greek',\n",
       " 'gu': 'gujarati',\n",
       " 'ht': 'haitian creole',\n",
       " 'ha': 'hausa',\n",
       " 'haw': 'hawaiian',\n",
       " 'iw': 'hebrew',\n",
       " 'he': 'hebrew',\n",
       " 'hi': 'hindi',\n",
       " 'hmn': 'hmong',\n",
       " 'hu': 'hungarian',\n",
       " 'is': 'icelandic',\n",
       " 'ig': 'igbo',\n",
       " 'id': 'indonesian',\n",
       " 'ga': 'irish',\n",
       " 'it': 'italian',\n",
       " 'ja': 'japanese',\n",
       " 'jw': 'javanese',\n",
       " 'kn': 'kannada',\n",
       " 'kk': 'kazakh',\n",
       " 'km': 'khmer',\n",
       " 'ko': 'korean',\n",
       " 'ku': 'kurdish (kurmanji)',\n",
       " 'ky': 'kyrgyz',\n",
       " 'lo': 'lao',\n",
       " 'la': 'latin',\n",
       " 'lv': 'latvian',\n",
       " 'lt': 'lithuanian',\n",
       " 'lb': 'luxembourgish',\n",
       " 'mk': 'macedonian',\n",
       " 'mg': 'malagasy',\n",
       " 'ms': 'malay',\n",
       " 'ml': 'malayalam',\n",
       " 'mt': 'maltese',\n",
       " 'mi': 'maori',\n",
       " 'mr': 'marathi',\n",
       " 'mn': 'mongolian',\n",
       " 'my': 'myanmar (burmese)',\n",
       " 'ne': 'nepali',\n",
       " 'no': 'norwegian',\n",
       " 'or': 'odia',\n",
       " 'ps': 'pashto',\n",
       " 'fa': 'persian',\n",
       " 'pl': 'polish',\n",
       " 'pt': 'portuguese',\n",
       " 'pa': 'punjabi',\n",
       " 'ro': 'romanian',\n",
       " 'ru': 'russian',\n",
       " 'sm': 'samoan',\n",
       " 'gd': 'scots gaelic',\n",
       " 'sr': 'serbian',\n",
       " 'st': 'sesotho',\n",
       " 'sn': 'shona',\n",
       " 'sd': 'sindhi',\n",
       " 'si': 'sinhala',\n",
       " 'sk': 'slovak',\n",
       " 'sl': 'slovenian',\n",
       " 'so': 'somali',\n",
       " 'es': 'spanish',\n",
       " 'su': 'sundanese',\n",
       " 'sw': 'swahili',\n",
       " 'sv': 'swedish',\n",
       " 'tg': 'tajik',\n",
       " 'ta': 'tamil',\n",
       " 'te': 'telugu',\n",
       " 'th': 'thai',\n",
       " 'tr': 'turkish',\n",
       " 'uk': 'ukrainian',\n",
       " 'ur': 'urdu',\n",
       " 'ug': 'uyghur',\n",
       " 'uz': 'uzbek',\n",
       " 'vi': 'vietnamese',\n",
       " 'cy': 'welsh',\n",
       " 'xh': 'xhosa',\n",
       " 'yi': 'yiddish',\n",
       " 'yo': 'yoruba',\n",
       " 'zu': 'zulu'}"
      ]
     },
     "execution_count": 26,
     "metadata": {},
     "output_type": "execute_result"
    }
   ],
   "source": [
    "googletrans.LANGUAGES"
   ]
  },
  {
   "cell_type": "code",
   "execution_count": 27,
   "metadata": {},
   "outputs": [
    {
     "ename": "AttributeError",
     "evalue": "'NoneType' object has no attribute 'group'",
     "output_type": "error",
     "traceback": [
      "\u001b[1;31m---------------------------------------------------------------------------\u001b[0m",
      "\u001b[1;31mAttributeError\u001b[0m                            Traceback (most recent call last)",
      "\u001b[1;32m<ipython-input-27-a00352ef9923>\u001b[0m in \u001b[0;36m<module>\u001b[1;34m\u001b[0m\n\u001b[1;32m----> 1\u001b[1;33m \u001b[0mresults\u001b[0m \u001b[1;33m=\u001b[0m \u001b[0mtranslator\u001b[0m\u001b[1;33m.\u001b[0m\u001b[0mtranslate\u001b[0m\u001b[1;33m(\u001b[0m\u001b[1;34m'Join us'\u001b[0m\u001b[1;33m,\u001b[0m \u001b[0msrc\u001b[0m\u001b[1;33m=\u001b[0m\u001b[1;34m'en'\u001b[0m\u001b[1;33m,\u001b[0m \u001b[0mdest\u001b[0m\u001b[1;33m=\u001b[0m\u001b[1;34m'fr'\u001b[0m\u001b[1;33m)\u001b[0m\u001b[1;33m\u001b[0m\u001b[1;33m\u001b[0m\u001b[0m\n\u001b[0m\u001b[0;32m      2\u001b[0m \u001b[0mprint\u001b[0m\u001b[1;33m(\u001b[0m\u001b[0mresults\u001b[0m\u001b[1;33m.\u001b[0m\u001b[0mtext\u001b[0m\u001b[1;33m)\u001b[0m\u001b[1;33m\u001b[0m\u001b[1;33m\u001b[0m\u001b[0m\n",
      "\u001b[1;32mC:\\anaconda3\\lib\\site-packages\\googletrans\\client.py\u001b[0m in \u001b[0;36mtranslate\u001b[1;34m(self, text, dest, src, **kwargs)\u001b[0m\n\u001b[0;32m    180\u001b[0m \u001b[1;33m\u001b[0m\u001b[0m\n\u001b[0;32m    181\u001b[0m         \u001b[0morigin\u001b[0m \u001b[1;33m=\u001b[0m \u001b[0mtext\u001b[0m\u001b[1;33m\u001b[0m\u001b[1;33m\u001b[0m\u001b[0m\n\u001b[1;32m--> 182\u001b[1;33m         \u001b[0mdata\u001b[0m \u001b[1;33m=\u001b[0m \u001b[0mself\u001b[0m\u001b[1;33m.\u001b[0m\u001b[0m_translate\u001b[0m\u001b[1;33m(\u001b[0m\u001b[0mtext\u001b[0m\u001b[1;33m,\u001b[0m \u001b[0mdest\u001b[0m\u001b[1;33m,\u001b[0m \u001b[0msrc\u001b[0m\u001b[1;33m,\u001b[0m \u001b[0mkwargs\u001b[0m\u001b[1;33m)\u001b[0m\u001b[1;33m\u001b[0m\u001b[1;33m\u001b[0m\u001b[0m\n\u001b[0m\u001b[0;32m    183\u001b[0m \u001b[1;33m\u001b[0m\u001b[0m\n\u001b[0;32m    184\u001b[0m         \u001b[1;31m# this code will be updated when the format is changed.\u001b[0m\u001b[1;33m\u001b[0m\u001b[1;33m\u001b[0m\u001b[1;33m\u001b[0m\u001b[0m\n",
      "\u001b[1;32mC:\\anaconda3\\lib\\site-packages\\googletrans\\client.py\u001b[0m in \u001b[0;36m_translate\u001b[1;34m(self, text, dest, src, override)\u001b[0m\n\u001b[0;32m     76\u001b[0m \u001b[1;33m\u001b[0m\u001b[0m\n\u001b[0;32m     77\u001b[0m     \u001b[1;32mdef\u001b[0m \u001b[0m_translate\u001b[0m\u001b[1;33m(\u001b[0m\u001b[0mself\u001b[0m\u001b[1;33m,\u001b[0m \u001b[0mtext\u001b[0m\u001b[1;33m,\u001b[0m \u001b[0mdest\u001b[0m\u001b[1;33m,\u001b[0m \u001b[0msrc\u001b[0m\u001b[1;33m,\u001b[0m \u001b[0moverride\u001b[0m\u001b[1;33m)\u001b[0m\u001b[1;33m:\u001b[0m\u001b[1;33m\u001b[0m\u001b[1;33m\u001b[0m\u001b[0m\n\u001b[1;32m---> 78\u001b[1;33m         \u001b[0mtoken\u001b[0m \u001b[1;33m=\u001b[0m \u001b[0mself\u001b[0m\u001b[1;33m.\u001b[0m\u001b[0mtoken_acquirer\u001b[0m\u001b[1;33m.\u001b[0m\u001b[0mdo\u001b[0m\u001b[1;33m(\u001b[0m\u001b[0mtext\u001b[0m\u001b[1;33m)\u001b[0m\u001b[1;33m\u001b[0m\u001b[1;33m\u001b[0m\u001b[0m\n\u001b[0m\u001b[0;32m     79\u001b[0m         params = utils.build_params(query=text, src=src, dest=dest,\n\u001b[0;32m     80\u001b[0m                                     token=token, override=override)\n",
      "\u001b[1;32mC:\\anaconda3\\lib\\site-packages\\googletrans\\gtoken.py\u001b[0m in \u001b[0;36mdo\u001b[1;34m(self, text)\u001b[0m\n\u001b[0;32m    192\u001b[0m \u001b[1;33m\u001b[0m\u001b[0m\n\u001b[0;32m    193\u001b[0m     \u001b[1;32mdef\u001b[0m \u001b[0mdo\u001b[0m\u001b[1;33m(\u001b[0m\u001b[0mself\u001b[0m\u001b[1;33m,\u001b[0m \u001b[0mtext\u001b[0m\u001b[1;33m)\u001b[0m\u001b[1;33m:\u001b[0m\u001b[1;33m\u001b[0m\u001b[1;33m\u001b[0m\u001b[0m\n\u001b[1;32m--> 194\u001b[1;33m         \u001b[0mself\u001b[0m\u001b[1;33m.\u001b[0m\u001b[0m_update\u001b[0m\u001b[1;33m(\u001b[0m\u001b[1;33m)\u001b[0m\u001b[1;33m\u001b[0m\u001b[1;33m\u001b[0m\u001b[0m\n\u001b[0m\u001b[0;32m    195\u001b[0m         \u001b[0mtk\u001b[0m \u001b[1;33m=\u001b[0m \u001b[0mself\u001b[0m\u001b[1;33m.\u001b[0m\u001b[0macquire\u001b[0m\u001b[1;33m(\u001b[0m\u001b[0mtext\u001b[0m\u001b[1;33m)\u001b[0m\u001b[1;33m\u001b[0m\u001b[1;33m\u001b[0m\u001b[0m\n\u001b[0;32m    196\u001b[0m         \u001b[1;32mreturn\u001b[0m \u001b[0mtk\u001b[0m\u001b[1;33m\u001b[0m\u001b[1;33m\u001b[0m\u001b[0m\n",
      "\u001b[1;32mC:\\anaconda3\\lib\\site-packages\\googletrans\\gtoken.py\u001b[0m in \u001b[0;36m_update\u001b[1;34m(self)\u001b[0m\n\u001b[0;32m     60\u001b[0m \u001b[1;33m\u001b[0m\u001b[0m\n\u001b[0;32m     61\u001b[0m         \u001b[1;31m# this will be the same as python code after stripping out a reserved word 'var'\u001b[0m\u001b[1;33m\u001b[0m\u001b[1;33m\u001b[0m\u001b[1;33m\u001b[0m\u001b[0m\n\u001b[1;32m---> 62\u001b[1;33m         \u001b[0mcode\u001b[0m \u001b[1;33m=\u001b[0m \u001b[0mself\u001b[0m\u001b[1;33m.\u001b[0m\u001b[0mRE_TKK\u001b[0m\u001b[1;33m.\u001b[0m\u001b[0msearch\u001b[0m\u001b[1;33m(\u001b[0m\u001b[0mr\u001b[0m\u001b[1;33m.\u001b[0m\u001b[0mtext\u001b[0m\u001b[1;33m)\u001b[0m\u001b[1;33m.\u001b[0m\u001b[0mgroup\u001b[0m\u001b[1;33m(\u001b[0m\u001b[1;36m1\u001b[0m\u001b[1;33m)\u001b[0m\u001b[1;33m.\u001b[0m\u001b[0mreplace\u001b[0m\u001b[1;33m(\u001b[0m\u001b[1;34m'var '\u001b[0m\u001b[1;33m,\u001b[0m \u001b[1;34m''\u001b[0m\u001b[1;33m)\u001b[0m\u001b[1;33m\u001b[0m\u001b[1;33m\u001b[0m\u001b[0m\n\u001b[0m\u001b[0;32m     63\u001b[0m         \u001b[1;31m# unescape special ascii characters such like a \\x3d(=)\u001b[0m\u001b[1;33m\u001b[0m\u001b[1;33m\u001b[0m\u001b[1;33m\u001b[0m\u001b[0m\n\u001b[0;32m     64\u001b[0m         \u001b[0mcode\u001b[0m \u001b[1;33m=\u001b[0m \u001b[0mcode\u001b[0m\u001b[1;33m.\u001b[0m\u001b[0mencode\u001b[0m\u001b[1;33m(\u001b[0m\u001b[1;33m)\u001b[0m\u001b[1;33m.\u001b[0m\u001b[0mdecode\u001b[0m\u001b[1;33m(\u001b[0m\u001b[1;34m'unicode-escape'\u001b[0m\u001b[1;33m)\u001b[0m\u001b[1;33m\u001b[0m\u001b[1;33m\u001b[0m\u001b[0m\n",
      "\u001b[1;31mAttributeError\u001b[0m: 'NoneType' object has no attribute 'group'"
     ]
    }
   ],
   "source": [
    "results = translator.translate('Join us', src='en', dest='fr')\n",
    "print(results.text)"
   ]
  },
  {
   "cell_type": "code",
   "execution_count": null,
   "metadata": {},
   "outputs": [],
   "source": []
  }
 ],
 "metadata": {
  "colab": {
   "collapsed_sections": [],
   "name": "bidirectional_lstm_imdb",
   "provenance": [],
   "toc_visible": true
  },
  "kernelspec": {
   "display_name": "Python 3",
   "language": "python",
   "name": "python3"
  },
  "language_info": {
   "codemirror_mode": {
    "name": "ipython",
    "version": 3
   },
   "file_extension": ".py",
   "mimetype": "text/x-python",
   "name": "python",
   "nbconvert_exporter": "python",
   "pygments_lexer": "ipython3",
   "version": "3.8.3"
  }
 },
 "nbformat": 4,
 "nbformat_minor": 1
}
