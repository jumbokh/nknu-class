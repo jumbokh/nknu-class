{
  "nbformat": 4,
  "nbformat_minor": 0,
  "metadata": {
    "orig_nbformat": 4,
    "colab": {
      "name": "CH18-NLP-Chinese.ipynb",
      "provenance": [],
      "include_colab_link": true
    },
    "language_info": {
      "name": "python"
    },
    "kernelspec": {
      "name": "python3",
      "display_name": "Python 3"
    }
  },
  "cells": [
    {
      "cell_type": "markdown",
      "metadata": {
        "id": "view-in-github",
        "colab_type": "text"
      },
      "source": [
        "<a href=\"https://colab.research.google.com/github/jumbokh/nknu-class/blob/main/NLP/notebooks/CH18_NLP_Chinese.ipynb\" target=\"_parent\"><img src=\"https://colab.research.google.com/assets/colab-badge.svg\" alt=\"Open In Colab\"/></a>"
      ]
    },
    {
      "cell_type": "code",
      "metadata": {
        "colab": {
          "base_uri": "https://localhost:8080/",
          "height": 204
        },
        "id": "eBXdXqk-UYq3",
        "outputId": "7cddab99-5a7d-4ce6-8c19-ed157ca31313"
      },
      "source": [
        "import pandas as pd\n",
        "import numpy as np\n",
        "import matplotlib.pyplot as plt\n",
        "import seaborn as sns\n",
        "%matplotlib inline\n",
        "plt.rcParams['font.sans-serif'] = ['DFKai-sb'] \n",
        "plt.rcParams['axes.unicode_minus'] = False\n",
        "%config InlineBackend.figure_format = 'retina'\n",
        "import warnings\n",
        "warnings.filterwarnings('ignore')\n",
        "\n",
        "df = pd.read_excel('tripadvisor.xlsx', parse_dates=['date'])\n",
        "df.head()"
      ],
      "execution_count": 1,
      "outputs": [
        {
          "output_type": "execute_result",
          "data": {
            "text/html": [
              "<div>\n",
              "<style scoped>\n",
              "    .dataframe tbody tr th:only-of-type {\n",
              "        vertical-align: middle;\n",
              "    }\n",
              "\n",
              "    .dataframe tbody tr th {\n",
              "        vertical-align: top;\n",
              "    }\n",
              "\n",
              "    .dataframe thead th {\n",
              "        text-align: right;\n",
              "    }\n",
              "</style>\n",
              "<table border=\"1\" class=\"dataframe\">\n",
              "  <thead>\n",
              "    <tr style=\"text-align: right;\">\n",
              "      <th></th>\n",
              "      <th>uid</th>\n",
              "      <th>rating</th>\n",
              "      <th>date</th>\n",
              "      <th>title</th>\n",
              "      <th>content</th>\n",
              "    </tr>\n",
              "  </thead>\n",
              "  <tbody>\n",
              "    <tr>\n",
              "      <th>0</th>\n",
              "      <td>Kay C</td>\n",
              "      <td>4</td>\n",
              "      <td>2019-09-05</td>\n",
              "      <td>還行, 回程延遲</td>\n",
              "      <td>位置空間還不錯。餐點也很可以。3-3機位。清潔度很不錯。對小朋友也還可以。出發的時間很準時。...</td>\n",
              "    </tr>\n",
              "    <tr>\n",
              "      <th>1</th>\n",
              "      <td>MinJer Lai</td>\n",
              "      <td>3</td>\n",
              "      <td>2019-09-05</td>\n",
              "      <td>空服員訓練仍有不足</td>\n",
              "      <td>台北紐約航段有一個點心餐和兩個正餐, 點心餐就是堅果包和飲料\\n在第一個正餐,我們被告知沒有...</td>\n",
              "    </tr>\n",
              "    <tr>\n",
              "      <th>2</th>\n",
              "      <td>Rui</td>\n",
              "      <td>3</td>\n",
              "      <td>2019-09-04</td>\n",
              "      <td>舊機型沒個人娛樂、回程魚肉飯好吃</td>\n",
              "      <td>舊機型沒個人娛樂，只有抬頭電視可以看公放的電影、回程魚肉飯好吃。颱風剛過有小延誤，高的人坐起...</td>\n",
              "    </tr>\n",
              "    <tr>\n",
              "      <th>3</th>\n",
              "      <td>gigil169</td>\n",
              "      <td>4</td>\n",
              "      <td>2019-08-23</td>\n",
              "      <td>準點, 對之前的猶豫已一掃而空</td>\n",
              "      <td>真的沒有讓人失望, 之前只坐過一次, 但還是會猶豫不決, 最後因為航班選擇比較多, 彈性大一...</td>\n",
              "    </tr>\n",
              "    <tr>\n",
              "      <th>4</th>\n",
              "      <td>Wei-hsiang</td>\n",
              "      <td>4</td>\n",
              "      <td>2019-08-20</td>\n",
              "      <td>舒適</td>\n",
              "      <td>舒適平穩，並且提供餐點供乘客享用，座位上亦提供薄毯避免乘客受寒，座位前方有休閒娛樂系統，其中...</td>\n",
              "    </tr>\n",
              "  </tbody>\n",
              "</table>\n",
              "</div>"
            ],
            "text/plain": [
              "          uid  ...                                            content\n",
              "0       Kay C  ...  位置空間還不錯。餐點也很可以。3-3機位。清潔度很不錯。對小朋友也還可以。出發的時間很準時。...\n",
              "1  MinJer Lai  ...  台北紐約航段有一個點心餐和兩個正餐, 點心餐就是堅果包和飲料\\n在第一個正餐,我們被告知沒有...\n",
              "2         Rui  ...  舊機型沒個人娛樂，只有抬頭電視可以看公放的電影、回程魚肉飯好吃。颱風剛過有小延誤，高的人坐起...\n",
              "3    gigil169  ...  真的沒有讓人失望, 之前只坐過一次, 但還是會猶豫不決, 最後因為航班選擇比較多, 彈性大一...\n",
              "4  Wei-hsiang  ...  舒適平穩，並且提供餐點供乘客享用，座位上亦提供薄毯避免乘客受寒，座位前方有休閒娛樂系統，其中...\n",
              "\n",
              "[5 rows x 5 columns]"
            ]
          },
          "metadata": {},
          "execution_count": 1
        }
      ]
    },
    {
      "cell_type": "code",
      "metadata": {
        "colab": {
          "base_uri": "https://localhost:8080/"
        },
        "id": "BeCUqrJ8UYq6",
        "outputId": "38c025a9-9b29-4ccf-aaa0-2ab115568a05"
      },
      "source": [
        "df.info()"
      ],
      "execution_count": 2,
      "outputs": [
        {
          "output_type": "stream",
          "name": "stdout",
          "text": [
            "<class 'pandas.core.frame.DataFrame'>\n",
            "RangeIndex: 2557 entries, 0 to 2556\n",
            "Data columns (total 5 columns):\n",
            " #   Column   Non-Null Count  Dtype         \n",
            "---  ------   --------------  -----         \n",
            " 0   uid      2557 non-null   object        \n",
            " 1   rating   2557 non-null   int64         \n",
            " 2   date     2557 non-null   datetime64[ns]\n",
            " 3   title    2557 non-null   object        \n",
            " 4   content  2557 non-null   object        \n",
            "dtypes: datetime64[ns](1), int64(1), object(3)\n",
            "memory usage: 100.0+ KB\n"
          ]
        }
      ]
    },
    {
      "cell_type": "code",
      "metadata": {
        "colab": {
          "base_uri": "https://localhost:8080/",
          "height": 204
        },
        "id": "8oaqoeLxUYq7",
        "outputId": "6d81a25e-b676-46a9-f417-af59b603e0e7"
      },
      "source": [
        "size = df['rating'].value_counts().sort_index()\n",
        "pct = df['rating'].value_counts(normalize=True).round(2).sort_index()\n",
        "pd.DataFrame(zip(size, pct), columns=['次數', '百分比'], index=range(1,6))"
      ],
      "execution_count": 3,
      "outputs": [
        {
          "output_type": "execute_result",
          "data": {
            "text/html": [
              "<div>\n",
              "<style scoped>\n",
              "    .dataframe tbody tr th:only-of-type {\n",
              "        vertical-align: middle;\n",
              "    }\n",
              "\n",
              "    .dataframe tbody tr th {\n",
              "        vertical-align: top;\n",
              "    }\n",
              "\n",
              "    .dataframe thead th {\n",
              "        text-align: right;\n",
              "    }\n",
              "</style>\n",
              "<table border=\"1\" class=\"dataframe\">\n",
              "  <thead>\n",
              "    <tr style=\"text-align: right;\">\n",
              "      <th></th>\n",
              "      <th>次數</th>\n",
              "      <th>百分比</th>\n",
              "    </tr>\n",
              "  </thead>\n",
              "  <tbody>\n",
              "    <tr>\n",
              "      <th>1</th>\n",
              "      <td>52</td>\n",
              "      <td>0.02</td>\n",
              "    </tr>\n",
              "    <tr>\n",
              "      <th>2</th>\n",
              "      <td>72</td>\n",
              "      <td>0.03</td>\n",
              "    </tr>\n",
              "    <tr>\n",
              "      <th>3</th>\n",
              "      <td>287</td>\n",
              "      <td>0.11</td>\n",
              "    </tr>\n",
              "    <tr>\n",
              "      <th>4</th>\n",
              "      <td>1019</td>\n",
              "      <td>0.40</td>\n",
              "    </tr>\n",
              "    <tr>\n",
              "      <th>5</th>\n",
              "      <td>1127</td>\n",
              "      <td>0.44</td>\n",
              "    </tr>\n",
              "  </tbody>\n",
              "</table>\n",
              "</div>"
            ],
            "text/plain": [
              "     次數   百分比\n",
              "1    52  0.02\n",
              "2    72  0.03\n",
              "3   287  0.11\n",
              "4  1019  0.40\n",
              "5  1127  0.44"
            ]
          },
          "metadata": {},
          "execution_count": 3
        }
      ]
    },
    {
      "cell_type": "code",
      "metadata": {
        "colab": {
          "base_uri": "https://localhost:8080/",
          "height": 204
        },
        "id": "nsw4J8fXUYq8",
        "outputId": "8b51b602-321e-486b-bb61-e1b6fe2e18c5"
      },
      "source": [
        "df.groupby(df['date'].dt.year)['rating'].agg(['size','mean'])\n"
      ],
      "execution_count": 4,
      "outputs": [
        {
          "output_type": "execute_result",
          "data": {
            "text/html": [
              "<div>\n",
              "<style scoped>\n",
              "    .dataframe tbody tr th:only-of-type {\n",
              "        vertical-align: middle;\n",
              "    }\n",
              "\n",
              "    .dataframe tbody tr th {\n",
              "        vertical-align: top;\n",
              "    }\n",
              "\n",
              "    .dataframe thead th {\n",
              "        text-align: right;\n",
              "    }\n",
              "</style>\n",
              "<table border=\"1\" class=\"dataframe\">\n",
              "  <thead>\n",
              "    <tr style=\"text-align: right;\">\n",
              "      <th></th>\n",
              "      <th>size</th>\n",
              "      <th>mean</th>\n",
              "    </tr>\n",
              "    <tr>\n",
              "      <th>date</th>\n",
              "      <th></th>\n",
              "      <th></th>\n",
              "    </tr>\n",
              "  </thead>\n",
              "  <tbody>\n",
              "    <tr>\n",
              "      <th>2016</th>\n",
              "      <td>810</td>\n",
              "      <td>4.251852</td>\n",
              "    </tr>\n",
              "    <tr>\n",
              "      <th>2017</th>\n",
              "      <td>795</td>\n",
              "      <td>4.270440</td>\n",
              "    </tr>\n",
              "    <tr>\n",
              "      <th>2018</th>\n",
              "      <td>685</td>\n",
              "      <td>4.144526</td>\n",
              "    </tr>\n",
              "    <tr>\n",
              "      <th>2019</th>\n",
              "      <td>267</td>\n",
              "      <td>4.082397</td>\n",
              "    </tr>\n",
              "  </tbody>\n",
              "</table>\n",
              "</div>"
            ],
            "text/plain": [
              "      size      mean\n",
              "date                \n",
              "2016   810  4.251852\n",
              "2017   795  4.270440\n",
              "2018   685  4.144526\n",
              "2019   267  4.082397"
            ]
          },
          "metadata": {},
          "execution_count": 4
        }
      ]
    },
    {
      "cell_type": "code",
      "metadata": {
        "colab": {
          "base_uri": "https://localhost:8080/"
        },
        "id": "LRmZdgm-UYq8",
        "outputId": "626368c8-9a7b-4dd1-e588-adaefed39427"
      },
      "source": [
        "import jieba\n",
        "# 載入繁體字典\n",
        "jieba.set_dictionary('dict.txt.big')\n",
        "print(list(jieba.cut('下雨天留客天留我不留')))\n",
        "# 將串列組合回字串，用空白做區隔\n",
        "s = ' '.join(jieba.cut('下雨天留客天留我不留'))\n",
        "print(s)"
      ],
      "execution_count": 5,
      "outputs": [
        {
          "output_type": "stream",
          "name": "stderr",
          "text": [
            "Building prefix dict from /content/dict.txt.big ...\n",
            "Dumping model to file cache /tmp/jieba.u501edca284da514cb68b53a20324f4e3.cache\n",
            "Loading model cost 1.782 seconds.\n",
            "Prefix dict has been built successfully.\n"
          ]
        },
        {
          "output_type": "stream",
          "name": "stdout",
          "text": [
            "['下雨天', '留客', '天留', '我', '不留']\n",
            "下雨天 留客 天留 我 不留\n"
          ]
        }
      ]
    },
    {
      "cell_type": "code",
      "metadata": {
        "colab": {
          "base_uri": "https://localhost:8080/",
          "height": 80
        },
        "id": "gn6d7nwFUYq9",
        "outputId": "69849a79-588f-4fd5-f705-3539c0e56fea"
      },
      "source": [
        "from sklearn.feature_extraction.text import CountVectorizer\n",
        "cv = CountVectorizer()\n",
        "bow = cv.fit_transform([s])\n",
        "pd.DataFrame(bow.toarray(), columns=cv.get_feature_names())"
      ],
      "execution_count": 6,
      "outputs": [
        {
          "output_type": "execute_result",
          "data": {
            "text/html": [
              "<div>\n",
              "<style scoped>\n",
              "    .dataframe tbody tr th:only-of-type {\n",
              "        vertical-align: middle;\n",
              "    }\n",
              "\n",
              "    .dataframe tbody tr th {\n",
              "        vertical-align: top;\n",
              "    }\n",
              "\n",
              "    .dataframe thead th {\n",
              "        text-align: right;\n",
              "    }\n",
              "</style>\n",
              "<table border=\"1\" class=\"dataframe\">\n",
              "  <thead>\n",
              "    <tr style=\"text-align: right;\">\n",
              "      <th></th>\n",
              "      <th>下雨天</th>\n",
              "      <th>不留</th>\n",
              "      <th>天留</th>\n",
              "      <th>留客</th>\n",
              "    </tr>\n",
              "  </thead>\n",
              "  <tbody>\n",
              "    <tr>\n",
              "      <th>0</th>\n",
              "      <td>1</td>\n",
              "      <td>1</td>\n",
              "      <td>1</td>\n",
              "      <td>1</td>\n",
              "    </tr>\n",
              "  </tbody>\n",
              "</table>\n",
              "</div>"
            ],
            "text/plain": [
              "   下雨天  不留  天留  留客\n",
              "0    1   1   1   1"
            ]
          },
          "metadata": {},
          "execution_count": 6
        }
      ]
    },
    {
      "cell_type": "code",
      "metadata": {
        "colab": {
          "base_uri": "https://localhost:8080/",
          "height": 80
        },
        "id": "tzD5YHoeUYq-",
        "outputId": "1d3b8f71-7eb1-4bb0-e3c8-a3f8d2373a09"
      },
      "source": [
        "cv = CountVectorizer(token_pattern='(?u)\\\\b\\\\w+\\\\b')\n",
        "bow = cv.fit_transform([s])\n",
        "pd.DataFrame(bow.toarray(), columns=cv.get_feature_names())"
      ],
      "execution_count": 7,
      "outputs": [
        {
          "output_type": "execute_result",
          "data": {
            "text/html": [
              "<div>\n",
              "<style scoped>\n",
              "    .dataframe tbody tr th:only-of-type {\n",
              "        vertical-align: middle;\n",
              "    }\n",
              "\n",
              "    .dataframe tbody tr th {\n",
              "        vertical-align: top;\n",
              "    }\n",
              "\n",
              "    .dataframe thead th {\n",
              "        text-align: right;\n",
              "    }\n",
              "</style>\n",
              "<table border=\"1\" class=\"dataframe\">\n",
              "  <thead>\n",
              "    <tr style=\"text-align: right;\">\n",
              "      <th></th>\n",
              "      <th>下雨天</th>\n",
              "      <th>不留</th>\n",
              "      <th>天留</th>\n",
              "      <th>我</th>\n",
              "      <th>留客</th>\n",
              "    </tr>\n",
              "  </thead>\n",
              "  <tbody>\n",
              "    <tr>\n",
              "      <th>0</th>\n",
              "      <td>1</td>\n",
              "      <td>1</td>\n",
              "      <td>1</td>\n",
              "      <td>1</td>\n",
              "      <td>1</td>\n",
              "    </tr>\n",
              "  </tbody>\n",
              "</table>\n",
              "</div>"
            ],
            "text/plain": [
              "   下雨天  不留  天留  我  留客\n",
              "0    1   1   1  1   1"
            ]
          },
          "metadata": {},
          "execution_count": 7
        }
      ]
    },
    {
      "cell_type": "code",
      "metadata": {
        "colab": {
          "base_uri": "https://localhost:8080/",
          "height": 35
        },
        "id": "dVw2pNsyUYq_",
        "outputId": "a06f11ab-6fab-4824-8a92-bbc92bc9a205"
      },
      "source": [
        "df.loc[0, 'content']"
      ],
      "execution_count": 8,
      "outputs": [
        {
          "output_type": "execute_result",
          "data": {
            "application/vnd.google.colaboratory.intrinsic+json": {
              "type": "string"
            },
            "text/plain": [
              "'位置空間還不錯。餐點也很可以。3-3機位。清潔度很不錯。對小朋友也還可以。出發的時間很準時。但是回程就碰上延遲, 約40分鐘。沒有個人娛樂設施。'"
            ]
          },
          "metadata": {},
          "execution_count": 8
        }
      ]
    },
    {
      "cell_type": "code",
      "metadata": {
        "colab": {
          "base_uri": "https://localhost:8080/",
          "height": 35
        },
        "id": "IVDyl-wyUYq_",
        "outputId": "124c57e9-f9de-4034-e59f-e9aac55f5b6a"
      },
      "source": [
        "s = ' '.join(jieba.cut(df.iloc[0]['content']))\n",
        "s"
      ],
      "execution_count": 9,
      "outputs": [
        {
          "output_type": "execute_result",
          "data": {
            "application/vnd.google.colaboratory.intrinsic+json": {
              "type": "string"
            },
            "text/plain": [
              "'位置 空間 還 不錯 。 餐點 也 很 可以 。 3 - 3 機位 。 清潔度 很 不錯 。 對 小朋友 也還 可以 。 出發 的 時間 很 準時 。 但是 回程 就 碰上 延遲 ,   約 40 分鐘 。 沒有 個人 娛樂 設施 。'"
            ]
          },
          "metadata": {},
          "execution_count": 9
        }
      ]
    },
    {
      "cell_type": "code",
      "metadata": {
        "colab": {
          "base_uri": "https://localhost:8080/"
        },
        "id": "imxR8-0kUYrB",
        "outputId": "7c21f3dc-5d85-4055-fea3-b4e2184c0ecf"
      },
      "source": [
        "# 從檔案讀入停用字，並做成串列\n",
        "with open('stop.text','r', encoding='utf-8') as f:\n",
        "    stops = f.read()\n",
        "stops = stops.split('\\n')\n",
        "\n",
        "cv = CountVectorizer(token_pattern='(?u)\\\\b\\\\w+\\\\b', \n",
        "                     stop_words=stops)\n",
        "bow = cv.fit_transform([s])\n",
        "print(cv.get_feature_names())"
      ],
      "execution_count": 10,
      "outputs": [
        {
          "output_type": "stream",
          "name": "stdout",
          "text": [
            "['40', '不錯', '也還', '位置', '個人', '出發', '分鐘', '回程', '娛樂', '小朋友', '延遲', '時間', '機位', '沒有', '清潔度', '準時', '碰上', '空間', '約', '設施', '餐點']\n"
          ]
        }
      ]
    },
    {
      "cell_type": "code",
      "metadata": {
        "colab": {
          "base_uri": "https://localhost:8080/"
        },
        "id": "CTECs1VIUYrB",
        "outputId": "28ef5075-0976-45de-b6e7-b9c8780b6104"
      },
      "source": [
        "cv = CountVectorizer(token_pattern='(?u)\\\\b\\\\w+\\\\b', \n",
        "                     stop_words=stops, \n",
        "                     ngram_range=(1,2))\n",
        "bow = cv.fit_transform([s])\n",
        "print(cv.get_feature_names())"
      ],
      "execution_count": 11,
      "outputs": [
        {
          "output_type": "stream",
          "name": "stdout",
          "text": [
            "['40', '40 分鐘', '不錯', '不錯 小朋友', '不錯 餐點', '也還', '也還 出發', '位置', '位置 空間', '個人', '個人 娛樂', '出發', '出發 時間', '分鐘', '分鐘 沒有', '回程', '回程 碰上', '娛樂', '娛樂 設施', '小朋友', '小朋友 也還', '延遲', '延遲 約', '時間', '時間 準時', '機位', '機位 清潔度', '沒有', '沒有 個人', '清潔度', '清潔度 不錯', '準時', '準時 回程', '碰上', '碰上 延遲', '空間', '空間 不錯', '約', '約 40', '設施', '餐點', '餐點 機位']\n"
          ]
        }
      ]
    },
    {
      "cell_type": "code",
      "metadata": {
        "colab": {
          "base_uri": "https://localhost:8080/"
        },
        "id": "g0g1CSZvUYrC",
        "outputId": "cb80c7a3-d9e6-4ebb-becc-d77184324ea4"
      },
      "source": [
        "df['rating'] = (df['rating'] > 3).map({True:1 , False:0})\n",
        "df['rating'].value_counts()"
      ],
      "execution_count": 12,
      "outputs": [
        {
          "output_type": "execute_result",
          "data": {
            "text/plain": [
              "1    2146\n",
              "0     411\n",
              "Name: rating, dtype: int64"
            ]
          },
          "metadata": {},
          "execution_count": 12
        }
      ]
    },
    {
      "cell_type": "code",
      "metadata": {
        "id": "2B4WsxQgUYrC"
      },
      "source": [
        "X = df['content']\n",
        "y = df['rating']\n",
        "from sklearn.model_selection import train_test_split\n",
        "X_train, X_test, y_train, y_test = train_test_split(X, y, \n",
        "                                                    test_size=0.2, random_state=42)"
      ],
      "execution_count": 13,
      "outputs": []
    },
    {
      "cell_type": "code",
      "metadata": {
        "colab": {
          "base_uri": "https://localhost:8080/",
          "height": 97
        },
        "id": "I5UcPDSaUYrD",
        "outputId": "f3924a6c-550f-4e96-a4f2-0c237c9a7701"
      },
      "source": [
        "def preprocessor(s):\n",
        "    return ' '.join(jieba.cut(s))\n",
        "\n",
        "print('斷字函數的結果：', preprocessor('下雨天留客天留我不留'))\n",
        "cv = CountVectorizer(preprocessor=preprocessor,    \n",
        "    token_pattern='(?u)\\\\b\\\\w+\\\\b', \n",
        "    stop_words=stops)\n",
        "bow = cv.fit_transform(['下雨天留客天留我不留'])\n",
        "pd.DataFrame(bow.toarray(), columns=cv.get_feature_names())"
      ],
      "execution_count": 14,
      "outputs": [
        {
          "output_type": "stream",
          "name": "stdout",
          "text": [
            "斷字函數的結果： 下雨天 留客 天留 我 不留\n"
          ]
        },
        {
          "output_type": "execute_result",
          "data": {
            "text/html": [
              "<div>\n",
              "<style scoped>\n",
              "    .dataframe tbody tr th:only-of-type {\n",
              "        vertical-align: middle;\n",
              "    }\n",
              "\n",
              "    .dataframe tbody tr th {\n",
              "        vertical-align: top;\n",
              "    }\n",
              "\n",
              "    .dataframe thead th {\n",
              "        text-align: right;\n",
              "    }\n",
              "</style>\n",
              "<table border=\"1\" class=\"dataframe\">\n",
              "  <thead>\n",
              "    <tr style=\"text-align: right;\">\n",
              "      <th></th>\n",
              "      <th>下雨天</th>\n",
              "      <th>不留</th>\n",
              "      <th>天留</th>\n",
              "      <th>留客</th>\n",
              "    </tr>\n",
              "  </thead>\n",
              "  <tbody>\n",
              "    <tr>\n",
              "      <th>0</th>\n",
              "      <td>1</td>\n",
              "      <td>1</td>\n",
              "      <td>1</td>\n",
              "      <td>1</td>\n",
              "    </tr>\n",
              "  </tbody>\n",
              "</table>\n",
              "</div>"
            ],
            "text/plain": [
              "   下雨天  不留  天留  留客\n",
              "0    1   1   1   1"
            ]
          },
          "metadata": {},
          "execution_count": 14
        }
      ]
    },
    {
      "cell_type": "code",
      "metadata": {
        "colab": {
          "base_uri": "https://localhost:8080/"
        },
        "id": "P_DP5-rlUYrD",
        "outputId": "ab867bec-61f8-47a3-ea8e-178f266db887"
      },
      "source": [
        "from sklearn.naive_bayes import MultinomialNB\n",
        "from sklearn.pipeline import make_pipeline\n",
        "from sklearn.feature_extraction.text import CountVectorizer\n",
        "from sklearn.metrics import confusion_matrix, accuracy_score, classification_report\n",
        "\n",
        "cv = CountVectorizer(preprocessor=preprocessor,    \n",
        "    token_pattern='(?u)\\\\b\\\\w+\\\\b', \n",
        "    stop_words=stops)\n",
        "model_pl = make_pipeline(cv, MultinomialNB())\n",
        "model_pl.fit(X_train, y_train)\n",
        "y_pred = model_pl.predict(X_test)\n",
        "score = model_pl.score(X_test, y_test)\n",
        "print('測試集的結果', score.round(3))\n",
        "print(confusion_matrix(y_test, y_pred))\n",
        "print('綜合報告')\n",
        "print(classification_report(y_test, y_pred))"
      ],
      "execution_count": 15,
      "outputs": [
        {
          "output_type": "stream",
          "name": "stdout",
          "text": [
            "測試集的結果 0.844\n",
            "[[ 14  73]\n",
            " [  7 418]]\n",
            "綜合報告\n",
            "              precision    recall  f1-score   support\n",
            "\n",
            "           0       0.67      0.16      0.26        87\n",
            "           1       0.85      0.98      0.91       425\n",
            "\n",
            "    accuracy                           0.84       512\n",
            "   macro avg       0.76      0.57      0.59       512\n",
            "weighted avg       0.82      0.84      0.80       512\n",
            "\n"
          ]
        }
      ]
    },
    {
      "cell_type": "code",
      "metadata": {
        "colab": {
          "base_uri": "https://localhost:8080/"
        },
        "id": "opQ0beBlUYrE",
        "outputId": "b6fb9ce0-127d-48dd-fa43-a1e12b4108b6"
      },
      "source": [
        "from imblearn.under_sampling import RandomUnderSampler\n",
        "from imblearn.pipeline import make_pipeline\n",
        "\n",
        "np.random.seed(42)\n",
        "model_pl = make_pipeline(cv, RandomUnderSampler(), MultinomialNB())\n",
        "model_pl.fit(X_train, y_train)\n",
        "y_pred = model_pl.predict(X_test)\n",
        "score = model_pl.score(X_test, y_test)\n",
        "print('測試集的結果', score.round(3))\n",
        "print(confusion_matrix(y_test, y_pred))\n",
        "print('綜合報告')\n",
        "print(classification_report(y_test, y_pred))"
      ],
      "execution_count": 16,
      "outputs": [
        {
          "output_type": "stream",
          "name": "stdout",
          "text": [
            "測試集的結果 0.695\n",
            "[[ 63  24]\n",
            " [132 293]]\n",
            "綜合報告\n",
            "              precision    recall  f1-score   support\n",
            "\n",
            "           0       0.32      0.72      0.45        87\n",
            "           1       0.92      0.69      0.79       425\n",
            "\n",
            "    accuracy                           0.70       512\n",
            "   macro avg       0.62      0.71      0.62       512\n",
            "weighted avg       0.82      0.70      0.73       512\n",
            "\n"
          ]
        }
      ]
    },
    {
      "cell_type": "code",
      "metadata": {
        "colab": {
          "base_uri": "https://localhost:8080/"
        },
        "id": "tJhLn15hUYrE",
        "outputId": "f97ceacb-4c3d-4956-fcc0-f66c05e06cfc"
      },
      "source": [
        "from imblearn.over_sampling import SMOTE\n",
        "np.random.seed(42)\n",
        "model_pl = make_pipeline(cv, SMOTE(), MultinomialNB())\n",
        "model_pl.fit(X_train, y_train)\n",
        "y_pred = model_pl.predict(X_test)\n",
        "score = model_pl.score(X_test, y_test)\n",
        "print('測試集的結果', score.round(3))\n",
        "y_pred = model_pl.predict(X_test)\n",
        "print(confusion_matrix(y_test, y_pred))\n",
        "print('綜合報告')\n",
        "print(classification_report(y_test, y_pred))"
      ],
      "execution_count": 17,
      "outputs": [
        {
          "output_type": "stream",
          "name": "stdout",
          "text": [
            "測試集的結果 0.846\n",
            "[[ 29  58]\n",
            " [ 21 404]]\n",
            "綜合報告\n",
            "              precision    recall  f1-score   support\n",
            "\n",
            "           0       0.58      0.33      0.42        87\n",
            "           1       0.87      0.95      0.91       425\n",
            "\n",
            "    accuracy                           0.85       512\n",
            "   macro avg       0.73      0.64      0.67       512\n",
            "weighted avg       0.82      0.85      0.83       512\n",
            "\n"
          ]
        }
      ]
    },
    {
      "cell_type": "code",
      "metadata": {
        "colab": {
          "base_uri": "https://localhost:8080/"
        },
        "id": "dO8WhXkiUYrF",
        "outputId": "fee95a89-51ce-4e84-fc13-1d62110b9d88"
      },
      "source": [
        "df['title'].head()"
      ],
      "execution_count": 18,
      "outputs": [
        {
          "output_type": "execute_result",
          "data": {
            "text/plain": [
              "0            還行, 回程延遲\n",
              "1           空服員訓練仍有不足\n",
              "2    舊機型沒個人娛樂、回程魚肉飯好吃\n",
              "3     準點, 對之前的猶豫已一掃而空\n",
              "4                  舒適\n",
              "Name: title, dtype: object"
            ]
          },
          "metadata": {},
          "execution_count": 18
        }
      ]
    },
    {
      "cell_type": "code",
      "metadata": {
        "colab": {
          "base_uri": "https://localhost:8080/"
        },
        "id": "F_mG07zqUYrF",
        "outputId": "fa0c3c03-1ff8-4651-b746-a7c4390ce74b"
      },
      "source": [
        "from sklearn.compose import ColumnTransformer\n",
        "X = df[['title', 'content']]\n",
        "cv = CountVectorizer(preprocessor=preprocessor,    \n",
        "    token_pattern='(?u)\\\\b\\\\w+\\\\b',\n",
        "    stop_words=stops)\n",
        "data_pl = ColumnTransformer([\n",
        "    ('title', cv, 'title'),\n",
        "    ('content', cv, 'content')\n",
        "])\n",
        "data_pl.fit_transform(X).toarray()"
      ],
      "execution_count": 19,
      "outputs": [
        {
          "output_type": "execute_result",
          "data": {
            "text/plain": [
              "array([[0, 0, 0, ..., 0, 0, 0],\n",
              "       [0, 0, 0, ..., 0, 0, 0],\n",
              "       [0, 0, 0, ..., 0, 0, 0],\n",
              "       ...,\n",
              "       [0, 0, 0, ..., 0, 0, 0],\n",
              "       [0, 0, 0, ..., 0, 0, 0],\n",
              "       [0, 0, 0, ..., 0, 0, 0]], dtype=int64)"
            ]
          },
          "metadata": {},
          "execution_count": 19
        }
      ]
    },
    {
      "cell_type": "code",
      "metadata": {
        "colab": {
          "base_uri": "https://localhost:8080/"
        },
        "id": "s5E8Dc78UYrF",
        "outputId": "4c97b3c1-df96-4610-812e-13fcac019d22"
      },
      "source": [
        "X_train, X_test, y_train, y_test = train_test_split(X, y, test_size=0.2, random_state=42)\n",
        "model_pl = make_pipeline(data_pl, \n",
        "                         RandomUnderSampler(),\n",
        "                         MultinomialNB())\n",
        "model_pl.fit(X_train, y_train)\n",
        "y_pred = model_pl.predict(X_test)\n",
        "score = model_pl.score(X_test, y_test)\n",
        "print('測試集的結果', score.round(3))\n",
        "print(confusion_matrix(y_test, y_pred))\n",
        "print('綜合報告')\n",
        "print(classification_report(y_test, y_pred))"
      ],
      "execution_count": 20,
      "outputs": [
        {
          "output_type": "stream",
          "name": "stdout",
          "text": [
            "測試集的結果 0.727\n",
            "[[ 63  24]\n",
            " [116 309]]\n",
            "綜合報告\n",
            "              precision    recall  f1-score   support\n",
            "\n",
            "           0       0.35      0.72      0.47        87\n",
            "           1       0.93      0.73      0.82       425\n",
            "\n",
            "    accuracy                           0.73       512\n",
            "   macro avg       0.64      0.73      0.64       512\n",
            "weighted avg       0.83      0.73      0.76       512\n",
            "\n"
          ]
        }
      ]
    },
    {
      "cell_type": "code",
      "metadata": {
        "colab": {
          "base_uri": "https://localhost:8080/"
        },
        "id": "uaG4cBADUYrG",
        "outputId": "bc7436ad-6703-47de-cece-be57bb773557"
      },
      "source": [
        "model_pl = make_pipeline(data_pl, \n",
        "                         SMOTE(),\n",
        "                         MultinomialNB())\n",
        "model_pl.fit(X_train, y_train)\n",
        "y_pred = model_pl.predict(X_test)\n",
        "score = model_pl.score(X_test, y_test)\n",
        "print('測試集的結果', score.round(3))\n",
        "print(confusion_matrix(y_test, y_pred))\n",
        "print('綜合報告')\n",
        "print(classification_report(y_test, y_pred))"
      ],
      "execution_count": 21,
      "outputs": [
        {
          "output_type": "stream",
          "name": "stdout",
          "text": [
            "測試集的結果 0.855\n",
            "[[ 28  59]\n",
            " [ 15 410]]\n",
            "綜合報告\n",
            "              precision    recall  f1-score   support\n",
            "\n",
            "           0       0.65      0.32      0.43        87\n",
            "           1       0.87      0.96      0.92       425\n",
            "\n",
            "    accuracy                           0.86       512\n",
            "   macro avg       0.76      0.64      0.67       512\n",
            "weighted avg       0.84      0.86      0.83       512\n",
            "\n"
          ]
        }
      ]
    },
    {
      "cell_type": "code",
      "metadata": {
        "colab": {
          "base_uri": "https://localhost:8080/",
          "height": 359
        },
        "id": "GsavpOI7UYrG",
        "outputId": "62a12baa-dade-4b8e-d1ba-91370a087990"
      },
      "source": [
        "n_topics = 12\n",
        "n_words = 10\n",
        "from sklearn.decomposition import LatentDirichletAllocation\n",
        "lda = LatentDirichletAllocation(n_components=n_topics, random_state=42)\n",
        "cv = CountVectorizer(preprocessor=preprocessor, \n",
        "                     token_pattern='(?u)\\\\b\\\\w+\\\\b', \n",
        "                     stop_words=stops, \n",
        "                     max_df=0.5)\n",
        "X_array = cv.fit_transform(df['content'])\n",
        "X_topics = lda.fit_transform(X_array)\n",
        "idx = cv.get_feature_names()\n",
        "\n",
        "pd.DataFrame(lda.components_[0], index=idx, columns=['topic']).\\\n",
        "sort_values(by='topic', ascending=False)[:n_words]"
      ],
      "execution_count": 22,
      "outputs": [
        {
          "output_type": "execute_result",
          "data": {
            "text/html": [
              "<div>\n",
              "<style scoped>\n",
              "    .dataframe tbody tr th:only-of-type {\n",
              "        vertical-align: middle;\n",
              "    }\n",
              "\n",
              "    .dataframe tbody tr th {\n",
              "        vertical-align: top;\n",
              "    }\n",
              "\n",
              "    .dataframe thead th {\n",
              "        text-align: right;\n",
              "    }\n",
              "</style>\n",
              "<table border=\"1\" class=\"dataframe\">\n",
              "  <thead>\n",
              "    <tr style=\"text-align: right;\">\n",
              "      <th></th>\n",
              "      <th>topic</th>\n",
              "    </tr>\n",
              "  </thead>\n",
              "  <tbody>\n",
              "    <tr>\n",
              "      <th>華航</th>\n",
              "      <td>414.820222</td>\n",
              "    </tr>\n",
              "    <tr>\n",
              "      <th>飛機</th>\n",
              "      <td>295.689754</td>\n",
              "    </tr>\n",
              "    <tr>\n",
              "      <th>沒有</th>\n",
              "      <td>183.318666</td>\n",
              "    </tr>\n",
              "    <tr>\n",
              "      <th>餐點</th>\n",
              "      <td>175.180108</td>\n",
              "    </tr>\n",
              "    <tr>\n",
              "      <th>服務</th>\n",
              "      <td>164.010307</td>\n",
              "    </tr>\n",
              "    <tr>\n",
              "      <th>經濟艙</th>\n",
              "      <td>158.915209</td>\n",
              "    </tr>\n",
              "    <tr>\n",
              "      <th>搭</th>\n",
              "      <td>141.386442</td>\n",
              "    </tr>\n",
              "    <tr>\n",
              "      <th>座位</th>\n",
              "      <td>138.433124</td>\n",
              "    </tr>\n",
              "    <tr>\n",
              "      <th>搭乘</th>\n",
              "      <td>133.009091</td>\n",
              "    </tr>\n",
              "    <tr>\n",
              "      <th>班機</th>\n",
              "      <td>119.728409</td>\n",
              "    </tr>\n",
              "  </tbody>\n",
              "</table>\n",
              "</div>"
            ],
            "text/plain": [
              "          topic\n",
              "華航   414.820222\n",
              "飛機   295.689754\n",
              "沒有   183.318666\n",
              "餐點   175.180108\n",
              "服務   164.010307\n",
              "經濟艙  158.915209\n",
              "搭    141.386442\n",
              "座位   138.433124\n",
              "搭乘   133.009091\n",
              "班機   119.728409"
            ]
          },
          "metadata": {},
          "execution_count": 22
        }
      ]
    },
    {
      "cell_type": "code",
      "metadata": {
        "colab": {
          "base_uri": "https://localhost:8080/",
          "height": 359
        },
        "id": "NrSuKTjfUYrG",
        "outputId": "69a091e0-3229-4921-ecec-16a6d31be59e"
      },
      "source": [
        "words = {}\n",
        "for topic in range(n_topics):\n",
        "    word = pd.DataFrame(lda.components_[topic], index=idx).\\\n",
        "            sort_values(by=0, ascending=False)[:n_words].index.tolist()\n",
        "    words[f'主題{topic+1}'] = word\n",
        "pd.DataFrame(words)"
      ],
      "execution_count": 23,
      "outputs": [
        {
          "output_type": "execute_result",
          "data": {
            "text/html": [
              "<div>\n",
              "<style scoped>\n",
              "    .dataframe tbody tr th:only-of-type {\n",
              "        vertical-align: middle;\n",
              "    }\n",
              "\n",
              "    .dataframe tbody tr th {\n",
              "        vertical-align: top;\n",
              "    }\n",
              "\n",
              "    .dataframe thead th {\n",
              "        text-align: right;\n",
              "    }\n",
              "</style>\n",
              "<table border=\"1\" class=\"dataframe\">\n",
              "  <thead>\n",
              "    <tr style=\"text-align: right;\">\n",
              "      <th></th>\n",
              "      <th>主題1</th>\n",
              "      <th>主題2</th>\n",
              "      <th>主題3</th>\n",
              "      <th>主題4</th>\n",
              "      <th>主題5</th>\n",
              "      <th>主題6</th>\n",
              "      <th>主題7</th>\n",
              "      <th>主題8</th>\n",
              "      <th>主題9</th>\n",
              "      <th>主題10</th>\n",
              "      <th>主題11</th>\n",
              "      <th>主題12</th>\n",
              "    </tr>\n",
              "  </thead>\n",
              "  <tbody>\n",
              "    <tr>\n",
              "      <th>0</th>\n",
              "      <td>華航</td>\n",
              "      <td>服務</td>\n",
              "      <td>一個</td>\n",
              "      <td>一个</td>\n",
              "      <td>服務</td>\n",
              "      <td>機上</td>\n",
              "      <td>長榮</td>\n",
              "      <td>飛機</td>\n",
              "      <td>時間</td>\n",
              "      <td>機場</td>\n",
              "      <td>飛機</td>\n",
              "      <td>長榮</td>\n",
              "    </tr>\n",
              "    <tr>\n",
              "      <th>1</th>\n",
              "      <td>飛機</td>\n",
              "      <td>長榮</td>\n",
              "      <td>航空公司</td>\n",
              "      <td>他们</td>\n",
              "      <td>非常</td>\n",
              "      <td>餐點</td>\n",
              "      <td>服務</td>\n",
              "      <td>長榮</td>\n",
              "      <td>旅客</td>\n",
              "      <td>台北</td>\n",
              "      <td>服務</td>\n",
              "      <td>餐點</td>\n",
              "    </tr>\n",
              "    <tr>\n",
              "      <th>2</th>\n",
              "      <td>沒有</td>\n",
              "      <td>航空</td>\n",
              "      <td>食物</td>\n",
              "      <td>飞机</td>\n",
              "      <td>飛機</td>\n",
              "      <td>服務</td>\n",
              "      <td>飛機</td>\n",
              "      <td>航空</td>\n",
              "      <td>服務</td>\n",
              "      <td>航班</td>\n",
              "      <td>餐點</td>\n",
              "      <td>搭乘</td>\n",
              "    </tr>\n",
              "    <tr>\n",
              "      <th>3</th>\n",
              "      <td>餐點</td>\n",
              "      <td>餐點</td>\n",
              "      <td>飛機</td>\n",
              "      <td>食物</td>\n",
              "      <td>人員</td>\n",
              "      <td>飛機</td>\n",
              "      <td>航空</td>\n",
              "      <td>沒有</td>\n",
              "      <td>吃</td>\n",
              "      <td>小時</td>\n",
              "      <td>比較</td>\n",
              "      <td>服務</td>\n",
              "    </tr>\n",
              "    <tr>\n",
              "      <th>4</th>\n",
              "      <td>服務</td>\n",
              "      <td>不錯</td>\n",
              "      <td>航班</td>\n",
              "      <td>航班</td>\n",
              "      <td>很棒</td>\n",
              "      <td>親切</td>\n",
              "      <td>航空公司</td>\n",
              "      <td>時間</td>\n",
              "      <td>班機</td>\n",
              "      <td>台灣</td>\n",
              "      <td>機上</td>\n",
              "      <td>航空</td>\n",
              "    </tr>\n",
              "    <tr>\n",
              "      <th>5</th>\n",
              "      <td>經濟艙</td>\n",
              "      <td>親切</td>\n",
              "      <td>座位</td>\n",
              "      <td>航空公司</td>\n",
              "      <td>航班</td>\n",
              "      <td>非常</td>\n",
              "      <td>旅客</td>\n",
              "      <td>航空公司</td>\n",
              "      <td>機上</td>\n",
              "      <td>kitty</td>\n",
              "      <td>設備</td>\n",
              "      <td>不錯</td>\n",
              "    </tr>\n",
              "    <tr>\n",
              "      <th>6</th>\n",
              "      <td>搭</td>\n",
              "      <td>搭乘</td>\n",
              "      <td>非常</td>\n",
              "      <td>我们</td>\n",
              "      <td>一個</td>\n",
              "      <td>航空</td>\n",
              "      <td>餐點</td>\n",
              "      <td>餐</td>\n",
              "      <td>小時</td>\n",
              "      <td>華航</td>\n",
              "      <td>航空</td>\n",
              "      <td>空姐</td>\n",
              "    </tr>\n",
              "    <tr>\n",
              "      <th>7</th>\n",
              "      <td>座位</td>\n",
              "      <td>艙</td>\n",
              "      <td>服務</td>\n",
              "      <td>真的</td>\n",
              "      <td>這是</td>\n",
              "      <td>好吃</td>\n",
              "      <td>搭</td>\n",
              "      <td>服務</td>\n",
              "      <td>機場</td>\n",
              "      <td>改</td>\n",
              "      <td>華航</td>\n",
              "      <td>沒有</td>\n",
              "    </tr>\n",
              "    <tr>\n",
              "      <th>8</th>\n",
              "      <td>搭乘</td>\n",
              "      <td>人員</td>\n",
              "      <td>很棒</td>\n",
              "      <td>更</td>\n",
              "      <td>座位</td>\n",
              "      <td>餐</td>\n",
              "      <td>會</td>\n",
              "      <td>座位</td>\n",
              "      <td>會</td>\n",
              "      <td>hello</td>\n",
              "      <td>長榮</td>\n",
              "      <td>機上</td>\n",
              "    </tr>\n",
              "    <tr>\n",
              "      <th>9</th>\n",
              "      <td>班機</td>\n",
              "      <td>飛機</td>\n",
              "      <td>沒有</td>\n",
              "      <td>座位</td>\n",
              "      <td>親切</td>\n",
              "      <td>人員</td>\n",
              "      <td>班機</td>\n",
              "      <td>坐</td>\n",
              "      <td>態度</td>\n",
              "      <td>通知</td>\n",
              "      <td>台灣</td>\n",
              "      <td>座位</td>\n",
              "    </tr>\n",
              "  </tbody>\n",
              "</table>\n",
              "</div>"
            ],
            "text/plain": [
              "   主題1 主題2   主題3   主題4 主題5 主題6   主題7   主題8 主題9   主題10 主題11 主題12\n",
              "0   華航  服務    一個    一个  服務  機上    長榮    飛機  時間     機場   飛機   長榮\n",
              "1   飛機  長榮  航空公司    他们  非常  餐點    服務    長榮  旅客     台北   服務   餐點\n",
              "2   沒有  航空    食物    飞机  飛機  服務    飛機    航空  服務     航班   餐點   搭乘\n",
              "3   餐點  餐點    飛機    食物  人員  飛機    航空    沒有   吃     小時   比較   服務\n",
              "4   服務  不錯    航班    航班  很棒  親切  航空公司    時間  班機     台灣   機上   航空\n",
              "5  經濟艙  親切    座位  航空公司  航班  非常    旅客  航空公司  機上  kitty   設備   不錯\n",
              "6    搭  搭乘    非常    我们  一個  航空    餐點     餐  小時     華航   航空   空姐\n",
              "7   座位   艙    服務    真的  這是  好吃     搭    服務  機場      改   華航   沒有\n",
              "8   搭乘  人員    很棒     更  座位   餐     會    座位   會  hello   長榮   機上\n",
              "9   班機  飛機    沒有    座位  親切  人員    班機     坐  態度     通知   台灣   座位"
            ]
          },
          "metadata": {},
          "execution_count": 23
        }
      ]
    },
    {
      "cell_type": "code",
      "metadata": {
        "colab": {
          "base_uri": "https://localhost:8080/",
          "height": 304
        },
        "id": "Qx0WmRvwUYrH",
        "outputId": "b4ad9b36-f3ba-4926-d31f-40d99053fc69"
      },
      "source": [
        "cv = CountVectorizer(preprocessor=preprocessor, \n",
        "                     token_pattern='(?u)\\\\b\\\\w+\\\\b', \n",
        "                     stop_words=stops, max_df=0.5)\n",
        "bow = cv.fit_transform(df['content'])\n",
        "df_bow = pd.DataFrame(bow.toarray(), columns=cv.get_feature_names())\n",
        "df_bow.head()"
      ],
      "execution_count": 24,
      "outputs": [
        {
          "output_type": "execute_result",
          "data": {
            "text/html": [
              "<div>\n",
              "<style scoped>\n",
              "    .dataframe tbody tr th:only-of-type {\n",
              "        vertical-align: middle;\n",
              "    }\n",
              "\n",
              "    .dataframe tbody tr th {\n",
              "        vertical-align: top;\n",
              "    }\n",
              "\n",
              "    .dataframe thead th {\n",
              "        text-align: right;\n",
              "    }\n",
              "</style>\n",
              "<table border=\"1\" class=\"dataframe\">\n",
              "  <thead>\n",
              "    <tr style=\"text-align: right;\">\n",
              "      <th></th>\n",
              "      <th>00</th>\n",
              "      <th>000</th>\n",
              "      <th>01</th>\n",
              "      <th>01Jan</th>\n",
              "      <th>02</th>\n",
              "      <th>03</th>\n",
              "      <th>04</th>\n",
              "      <th>05</th>\n",
              "      <th>06</th>\n",
              "      <th>07</th>\n",
              "      <th>08</th>\n",
              "      <th>0800</th>\n",
              "      <th>0950</th>\n",
              "      <th>10</th>\n",
              "      <th>100</th>\n",
              "      <th>1000</th>\n",
              "      <th>100ml</th>\n",
              "      <th>105</th>\n",
              "      <th>1061118</th>\n",
              "      <th>107</th>\n",
              "      <th>11</th>\n",
              "      <th>1100</th>\n",
              "      <th>1130</th>\n",
              "      <th>12</th>\n",
              "      <th>1200</th>\n",
              "      <th>121</th>\n",
              "      <th>12K</th>\n",
              "      <th>12hr</th>\n",
              "      <th>13</th>\n",
              "      <th>135</th>\n",
              "      <th>13H</th>\n",
              "      <th>14</th>\n",
              "      <th>140</th>\n",
              "      <th>14hr</th>\n",
              "      <th>14hrs</th>\n",
              "      <th>15</th>\n",
              "      <th>1500</th>\n",
              "      <th>15000</th>\n",
              "      <th>15000TWD</th>\n",
              "      <th>152</th>\n",
              "      <th>...</th>\n",
              "      <th>點解</th>\n",
              "      <th>點評</th>\n",
              "      <th>點贊</th>\n",
              "      <th>點選</th>\n",
              "      <th>點酒</th>\n",
              "      <th>點頭</th>\n",
              "      <th>點餐</th>\n",
              "      <th>點點</th>\n",
              "      <th>鼎泰豐</th>\n",
              "      <th>鼓勵</th>\n",
              "      <th>鼓足勇氣</th>\n",
              "      <th>鼻子</th>\n",
              "      <th>齊</th>\n",
              "      <th>齊備</th>\n",
              "      <th>齊全</th>\n",
              "      <th>齣</th>\n",
              "      <th>龍蝦</th>\n",
              "      <th>龍道</th>\n",
              "      <th>龜山島</th>\n",
              "      <th>龜裂</th>\n",
              "      <th>０</th>\n",
              "      <th>１</th>\n",
              "      <th>２</th>\n",
              "      <th>３</th>\n",
              "      <th>４</th>\n",
              "      <th>５</th>\n",
              "      <th>６</th>\n",
              "      <th>７</th>\n",
              "      <th>８</th>\n",
              "      <th>９</th>\n",
              "      <th>Ａ</th>\n",
              "      <th>Ｂ</th>\n",
              "      <th>Ｃ</th>\n",
              "      <th>Ｎ</th>\n",
              "      <th>Ｐ</th>\n",
              "      <th>Ｒ</th>\n",
              "      <th>ｋ</th>\n",
              "      <th>ｏ</th>\n",
              "      <th>𣈱</th>\n",
              "      <th>𥚃</th>\n",
              "    </tr>\n",
              "  </thead>\n",
              "  <tbody>\n",
              "    <tr>\n",
              "      <th>0</th>\n",
              "      <td>0</td>\n",
              "      <td>0</td>\n",
              "      <td>0</td>\n",
              "      <td>0</td>\n",
              "      <td>0</td>\n",
              "      <td>0</td>\n",
              "      <td>0</td>\n",
              "      <td>0</td>\n",
              "      <td>0</td>\n",
              "      <td>0</td>\n",
              "      <td>0</td>\n",
              "      <td>0</td>\n",
              "      <td>0</td>\n",
              "      <td>0</td>\n",
              "      <td>0</td>\n",
              "      <td>0</td>\n",
              "      <td>0</td>\n",
              "      <td>0</td>\n",
              "      <td>0</td>\n",
              "      <td>0</td>\n",
              "      <td>0</td>\n",
              "      <td>0</td>\n",
              "      <td>0</td>\n",
              "      <td>0</td>\n",
              "      <td>0</td>\n",
              "      <td>0</td>\n",
              "      <td>0</td>\n",
              "      <td>0</td>\n",
              "      <td>0</td>\n",
              "      <td>0</td>\n",
              "      <td>0</td>\n",
              "      <td>0</td>\n",
              "      <td>0</td>\n",
              "      <td>0</td>\n",
              "      <td>0</td>\n",
              "      <td>0</td>\n",
              "      <td>0</td>\n",
              "      <td>0</td>\n",
              "      <td>0</td>\n",
              "      <td>0</td>\n",
              "      <td>...</td>\n",
              "      <td>0</td>\n",
              "      <td>0</td>\n",
              "      <td>0</td>\n",
              "      <td>0</td>\n",
              "      <td>0</td>\n",
              "      <td>0</td>\n",
              "      <td>0</td>\n",
              "      <td>0</td>\n",
              "      <td>0</td>\n",
              "      <td>0</td>\n",
              "      <td>0</td>\n",
              "      <td>0</td>\n",
              "      <td>0</td>\n",
              "      <td>0</td>\n",
              "      <td>0</td>\n",
              "      <td>0</td>\n",
              "      <td>0</td>\n",
              "      <td>0</td>\n",
              "      <td>0</td>\n",
              "      <td>0</td>\n",
              "      <td>0</td>\n",
              "      <td>0</td>\n",
              "      <td>0</td>\n",
              "      <td>0</td>\n",
              "      <td>0</td>\n",
              "      <td>0</td>\n",
              "      <td>0</td>\n",
              "      <td>0</td>\n",
              "      <td>0</td>\n",
              "      <td>0</td>\n",
              "      <td>0</td>\n",
              "      <td>0</td>\n",
              "      <td>0</td>\n",
              "      <td>0</td>\n",
              "      <td>0</td>\n",
              "      <td>0</td>\n",
              "      <td>0</td>\n",
              "      <td>0</td>\n",
              "      <td>0</td>\n",
              "      <td>0</td>\n",
              "    </tr>\n",
              "    <tr>\n",
              "      <th>1</th>\n",
              "      <td>0</td>\n",
              "      <td>0</td>\n",
              "      <td>0</td>\n",
              "      <td>0</td>\n",
              "      <td>0</td>\n",
              "      <td>0</td>\n",
              "      <td>0</td>\n",
              "      <td>0</td>\n",
              "      <td>0</td>\n",
              "      <td>0</td>\n",
              "      <td>0</td>\n",
              "      <td>0</td>\n",
              "      <td>0</td>\n",
              "      <td>0</td>\n",
              "      <td>0</td>\n",
              "      <td>0</td>\n",
              "      <td>0</td>\n",
              "      <td>0</td>\n",
              "      <td>0</td>\n",
              "      <td>0</td>\n",
              "      <td>0</td>\n",
              "      <td>0</td>\n",
              "      <td>0</td>\n",
              "      <td>0</td>\n",
              "      <td>0</td>\n",
              "      <td>0</td>\n",
              "      <td>0</td>\n",
              "      <td>0</td>\n",
              "      <td>0</td>\n",
              "      <td>0</td>\n",
              "      <td>0</td>\n",
              "      <td>0</td>\n",
              "      <td>0</td>\n",
              "      <td>0</td>\n",
              "      <td>0</td>\n",
              "      <td>0</td>\n",
              "      <td>0</td>\n",
              "      <td>0</td>\n",
              "      <td>0</td>\n",
              "      <td>0</td>\n",
              "      <td>...</td>\n",
              "      <td>0</td>\n",
              "      <td>0</td>\n",
              "      <td>0</td>\n",
              "      <td>0</td>\n",
              "      <td>0</td>\n",
              "      <td>0</td>\n",
              "      <td>0</td>\n",
              "      <td>0</td>\n",
              "      <td>0</td>\n",
              "      <td>0</td>\n",
              "      <td>0</td>\n",
              "      <td>0</td>\n",
              "      <td>0</td>\n",
              "      <td>0</td>\n",
              "      <td>0</td>\n",
              "      <td>0</td>\n",
              "      <td>0</td>\n",
              "      <td>0</td>\n",
              "      <td>0</td>\n",
              "      <td>0</td>\n",
              "      <td>0</td>\n",
              "      <td>0</td>\n",
              "      <td>0</td>\n",
              "      <td>0</td>\n",
              "      <td>0</td>\n",
              "      <td>0</td>\n",
              "      <td>0</td>\n",
              "      <td>0</td>\n",
              "      <td>0</td>\n",
              "      <td>0</td>\n",
              "      <td>0</td>\n",
              "      <td>0</td>\n",
              "      <td>0</td>\n",
              "      <td>0</td>\n",
              "      <td>0</td>\n",
              "      <td>0</td>\n",
              "      <td>0</td>\n",
              "      <td>0</td>\n",
              "      <td>0</td>\n",
              "      <td>0</td>\n",
              "    </tr>\n",
              "    <tr>\n",
              "      <th>2</th>\n",
              "      <td>0</td>\n",
              "      <td>0</td>\n",
              "      <td>0</td>\n",
              "      <td>0</td>\n",
              "      <td>0</td>\n",
              "      <td>0</td>\n",
              "      <td>0</td>\n",
              "      <td>0</td>\n",
              "      <td>0</td>\n",
              "      <td>0</td>\n",
              "      <td>0</td>\n",
              "      <td>0</td>\n",
              "      <td>0</td>\n",
              "      <td>0</td>\n",
              "      <td>0</td>\n",
              "      <td>0</td>\n",
              "      <td>0</td>\n",
              "      <td>0</td>\n",
              "      <td>0</td>\n",
              "      <td>0</td>\n",
              "      <td>0</td>\n",
              "      <td>0</td>\n",
              "      <td>0</td>\n",
              "      <td>0</td>\n",
              "      <td>0</td>\n",
              "      <td>0</td>\n",
              "      <td>0</td>\n",
              "      <td>0</td>\n",
              "      <td>0</td>\n",
              "      <td>0</td>\n",
              "      <td>0</td>\n",
              "      <td>0</td>\n",
              "      <td>0</td>\n",
              "      <td>0</td>\n",
              "      <td>0</td>\n",
              "      <td>0</td>\n",
              "      <td>0</td>\n",
              "      <td>0</td>\n",
              "      <td>0</td>\n",
              "      <td>0</td>\n",
              "      <td>...</td>\n",
              "      <td>0</td>\n",
              "      <td>0</td>\n",
              "      <td>0</td>\n",
              "      <td>0</td>\n",
              "      <td>0</td>\n",
              "      <td>0</td>\n",
              "      <td>0</td>\n",
              "      <td>0</td>\n",
              "      <td>0</td>\n",
              "      <td>0</td>\n",
              "      <td>0</td>\n",
              "      <td>0</td>\n",
              "      <td>0</td>\n",
              "      <td>0</td>\n",
              "      <td>0</td>\n",
              "      <td>0</td>\n",
              "      <td>0</td>\n",
              "      <td>0</td>\n",
              "      <td>0</td>\n",
              "      <td>0</td>\n",
              "      <td>0</td>\n",
              "      <td>0</td>\n",
              "      <td>0</td>\n",
              "      <td>0</td>\n",
              "      <td>0</td>\n",
              "      <td>0</td>\n",
              "      <td>0</td>\n",
              "      <td>0</td>\n",
              "      <td>0</td>\n",
              "      <td>0</td>\n",
              "      <td>0</td>\n",
              "      <td>0</td>\n",
              "      <td>0</td>\n",
              "      <td>0</td>\n",
              "      <td>0</td>\n",
              "      <td>0</td>\n",
              "      <td>0</td>\n",
              "      <td>0</td>\n",
              "      <td>0</td>\n",
              "      <td>0</td>\n",
              "    </tr>\n",
              "    <tr>\n",
              "      <th>3</th>\n",
              "      <td>0</td>\n",
              "      <td>0</td>\n",
              "      <td>0</td>\n",
              "      <td>0</td>\n",
              "      <td>0</td>\n",
              "      <td>0</td>\n",
              "      <td>0</td>\n",
              "      <td>0</td>\n",
              "      <td>0</td>\n",
              "      <td>0</td>\n",
              "      <td>0</td>\n",
              "      <td>0</td>\n",
              "      <td>0</td>\n",
              "      <td>0</td>\n",
              "      <td>0</td>\n",
              "      <td>0</td>\n",
              "      <td>0</td>\n",
              "      <td>0</td>\n",
              "      <td>0</td>\n",
              "      <td>0</td>\n",
              "      <td>1</td>\n",
              "      <td>0</td>\n",
              "      <td>0</td>\n",
              "      <td>0</td>\n",
              "      <td>0</td>\n",
              "      <td>0</td>\n",
              "      <td>0</td>\n",
              "      <td>0</td>\n",
              "      <td>0</td>\n",
              "      <td>0</td>\n",
              "      <td>0</td>\n",
              "      <td>0</td>\n",
              "      <td>0</td>\n",
              "      <td>0</td>\n",
              "      <td>0</td>\n",
              "      <td>0</td>\n",
              "      <td>0</td>\n",
              "      <td>0</td>\n",
              "      <td>0</td>\n",
              "      <td>0</td>\n",
              "      <td>...</td>\n",
              "      <td>0</td>\n",
              "      <td>0</td>\n",
              "      <td>0</td>\n",
              "      <td>0</td>\n",
              "      <td>0</td>\n",
              "      <td>0</td>\n",
              "      <td>0</td>\n",
              "      <td>0</td>\n",
              "      <td>0</td>\n",
              "      <td>0</td>\n",
              "      <td>0</td>\n",
              "      <td>0</td>\n",
              "      <td>0</td>\n",
              "      <td>0</td>\n",
              "      <td>0</td>\n",
              "      <td>0</td>\n",
              "      <td>0</td>\n",
              "      <td>0</td>\n",
              "      <td>0</td>\n",
              "      <td>0</td>\n",
              "      <td>0</td>\n",
              "      <td>0</td>\n",
              "      <td>0</td>\n",
              "      <td>0</td>\n",
              "      <td>0</td>\n",
              "      <td>0</td>\n",
              "      <td>0</td>\n",
              "      <td>0</td>\n",
              "      <td>0</td>\n",
              "      <td>0</td>\n",
              "      <td>0</td>\n",
              "      <td>0</td>\n",
              "      <td>0</td>\n",
              "      <td>0</td>\n",
              "      <td>0</td>\n",
              "      <td>0</td>\n",
              "      <td>0</td>\n",
              "      <td>0</td>\n",
              "      <td>0</td>\n",
              "      <td>0</td>\n",
              "    </tr>\n",
              "    <tr>\n",
              "      <th>4</th>\n",
              "      <td>0</td>\n",
              "      <td>0</td>\n",
              "      <td>0</td>\n",
              "      <td>0</td>\n",
              "      <td>0</td>\n",
              "      <td>0</td>\n",
              "      <td>0</td>\n",
              "      <td>0</td>\n",
              "      <td>0</td>\n",
              "      <td>0</td>\n",
              "      <td>0</td>\n",
              "      <td>0</td>\n",
              "      <td>0</td>\n",
              "      <td>0</td>\n",
              "      <td>0</td>\n",
              "      <td>0</td>\n",
              "      <td>0</td>\n",
              "      <td>0</td>\n",
              "      <td>0</td>\n",
              "      <td>0</td>\n",
              "      <td>0</td>\n",
              "      <td>0</td>\n",
              "      <td>0</td>\n",
              "      <td>0</td>\n",
              "      <td>0</td>\n",
              "      <td>0</td>\n",
              "      <td>0</td>\n",
              "      <td>0</td>\n",
              "      <td>0</td>\n",
              "      <td>0</td>\n",
              "      <td>0</td>\n",
              "      <td>0</td>\n",
              "      <td>0</td>\n",
              "      <td>0</td>\n",
              "      <td>0</td>\n",
              "      <td>0</td>\n",
              "      <td>0</td>\n",
              "      <td>0</td>\n",
              "      <td>0</td>\n",
              "      <td>0</td>\n",
              "      <td>...</td>\n",
              "      <td>0</td>\n",
              "      <td>0</td>\n",
              "      <td>0</td>\n",
              "      <td>0</td>\n",
              "      <td>0</td>\n",
              "      <td>0</td>\n",
              "      <td>0</td>\n",
              "      <td>0</td>\n",
              "      <td>0</td>\n",
              "      <td>0</td>\n",
              "      <td>0</td>\n",
              "      <td>0</td>\n",
              "      <td>0</td>\n",
              "      <td>0</td>\n",
              "      <td>0</td>\n",
              "      <td>0</td>\n",
              "      <td>0</td>\n",
              "      <td>0</td>\n",
              "      <td>0</td>\n",
              "      <td>0</td>\n",
              "      <td>0</td>\n",
              "      <td>0</td>\n",
              "      <td>0</td>\n",
              "      <td>0</td>\n",
              "      <td>0</td>\n",
              "      <td>0</td>\n",
              "      <td>0</td>\n",
              "      <td>0</td>\n",
              "      <td>0</td>\n",
              "      <td>0</td>\n",
              "      <td>0</td>\n",
              "      <td>0</td>\n",
              "      <td>0</td>\n",
              "      <td>0</td>\n",
              "      <td>0</td>\n",
              "      <td>0</td>\n",
              "      <td>0</td>\n",
              "      <td>0</td>\n",
              "      <td>0</td>\n",
              "      <td>0</td>\n",
              "    </tr>\n",
              "  </tbody>\n",
              "</table>\n",
              "<p>5 rows × 13709 columns</p>\n",
              "</div>"
            ],
            "text/plain": [
              "   00  000  01  01Jan  02  03  04  05  06  07  ...  Ａ  Ｂ  Ｃ  Ｎ  Ｐ  Ｒ  ｋ  ｏ  𣈱  𥚃\n",
              "0   0    0   0      0   0   0   0   0   0   0  ...  0  0  0  0  0  0  0  0  0  0\n",
              "1   0    0   0      0   0   0   0   0   0   0  ...  0  0  0  0  0  0  0  0  0  0\n",
              "2   0    0   0      0   0   0   0   0   0   0  ...  0  0  0  0  0  0  0  0  0  0\n",
              "3   0    0   0      0   0   0   0   0   0   0  ...  0  0  0  0  0  0  0  0  0  0\n",
              "4   0    0   0      0   0   0   0   0   0   0  ...  0  0  0  0  0  0  0  0  0  0\n",
              "\n",
              "[5 rows x 13709 columns]"
            ]
          },
          "metadata": {},
          "execution_count": 24
        }
      ]
    },
    {
      "cell_type": "code",
      "metadata": {
        "colab": {
          "base_uri": "https://localhost:8080/",
          "height": 296
        },
        "id": "pNwV5yV2UYrH",
        "outputId": "278989bf-f57a-4775-da81-752ba938111d"
      },
      "source": [
        "df_bow.sum().sort_values(ascending=False)[:10].plot(kind='bar');"
      ],
      "execution_count": 25,
      "outputs": [
        {
          "output_type": "stream",
          "name": "stderr",
          "text": [
            "findfont: Font family ['sans-serif'] not found. Falling back to DejaVu Sans.\n"
          ]
        },
        {
          "output_type": "display_data",
          "data": {
            "image/png": "[encoded data removed]",
            "text/plain": [
              "<Figure size 432x288 with 1 Axes>"
            ]
          },
          "metadata": {
            "image/png": {
              "width": 381,
              "height": 262
            },
            "needs_background": "light"
          }
        }
      ]
    },
    {
      "cell_type": "code",
      "metadata": {
        "id": "_yKG9KlNWbr1"
      },
      "source": [
        "dat =df_bow.sum()"
      ],
      "execution_count": 26,
      "outputs": []
    },
    {
      "cell_type": "code",
      "metadata": {
        "colab": {
          "base_uri": "https://localhost:8080/"
        },
        "id": "7auCGsYY1FbP",
        "outputId": "3f2ba9de-c543-40f9-a772-961d34eea7d5"
      },
      "source": [
        "!pip install wordcloud\n",
        "!pip install jieba"
      ],
      "execution_count": 27,
      "outputs": [
        {
          "output_type": "stream",
          "name": "stdout",
          "text": [
            "Requirement already satisfied: wordcloud in /usr/local/lib/python3.7/dist-packages (1.5.0)\n",
            "Requirement already satisfied: pillow in /usr/local/lib/python3.7/dist-packages (from wordcloud) (7.1.2)\n",
            "Requirement already satisfied: numpy>=1.6.1 in /usr/local/lib/python3.7/dist-packages (from wordcloud) (1.19.5)\n"
          ]
        }
      ]
    },
    {
      "cell_type": "code",
      "metadata": {
        "colab": {
          "base_uri": "https://localhost:8080/",
          "height": 376
        },
        "id": "KiPnMpI-UYrH",
        "outputId": "feacc45f-b058-4f48-cdd1-d119fe3beb05"
      },
      "source": [
        "from wordcloud import WordCloud\n",
        "from matplotlib import pyplot as plt\n",
        "from PIL import Image\n",
        "\n",
        "alice_mask = np.array(Image.open(\"cloud_mask7.png\"))\n",
        "wc = WordCloud(background_color=\"white\", max_words=2000, \n",
        "               mask=alice_mask, font_path=\"simsun.ttf\")\n",
        "wc.generate_from_frequencies(df_bow.sum())   #df_bow.sum())\n",
        "wc.to_file(\"cloud.png\")\n",
        "\n",
        "plt.figure(figsize=(15,15))\n",
        "plt.imshow(wc, interpolation='bilinear')\n",
        "plt.axis(\"off\")"
      ],
      "execution_count": 31,
      "outputs": [
        {
          "output_type": "error",
          "ename": "OSError",
          "evalue": "ignored",
          "traceback": [
            "\u001b[0;31m---------------------------------------------------------------------------\u001b[0m",
            "\u001b[0;31mOSError\u001b[0m                                   Traceback (most recent call last)",
            "\u001b[0;32m<ipython-input-31-b0733ed297ce>\u001b[0m in \u001b[0;36m<module>\u001b[0;34m()\u001b[0m\n\u001b[1;32m      6\u001b[0m wc = WordCloud(background_color=\"white\", max_words=2000, \n\u001b[1;32m      7\u001b[0m                mask=alice_mask, font_path=\"simsun.ttf\")\n\u001b[0;32m----> 8\u001b[0;31m \u001b[0mwc\u001b[0m\u001b[0;34m.\u001b[0m\u001b[0mgenerate_from_frequencies\u001b[0m\u001b[0;34m(\u001b[0m\u001b[0mdf_bow\u001b[0m\u001b[0;34m.\u001b[0m\u001b[0msum\u001b[0m\u001b[0;34m(\u001b[0m\u001b[0;34m)\u001b[0m\u001b[0;34m)\u001b[0m   \u001b[0;31m#df_bow.sum())\u001b[0m\u001b[0;34m\u001b[0m\u001b[0;34m\u001b[0m\u001b[0m\n\u001b[0m\u001b[1;32m      9\u001b[0m \u001b[0mwc\u001b[0m\u001b[0;34m.\u001b[0m\u001b[0mto_file\u001b[0m\u001b[0;34m(\u001b[0m\u001b[0;34m\"cloud.png\"\u001b[0m\u001b[0;34m)\u001b[0m\u001b[0;34m\u001b[0m\u001b[0;34m\u001b[0m\u001b[0m\n\u001b[1;32m     10\u001b[0m \u001b[0;34m\u001b[0m\u001b[0m\n",
            "\u001b[0;32m/usr/local/lib/python3.7/dist-packages/wordcloud/wordcloud.py\u001b[0m in \u001b[0;36mgenerate_from_frequencies\u001b[0;34m(self, frequencies, max_font_size)\u001b[0m\n\u001b[1;32m    424\u001b[0m             \u001b[0;32melse\u001b[0m\u001b[0;34m:\u001b[0m\u001b[0;34m\u001b[0m\u001b[0;34m\u001b[0m\u001b[0m\n\u001b[1;32m    425\u001b[0m                 self.generate_from_frequencies(dict(frequencies[:2]),\n\u001b[0;32m--> 426\u001b[0;31m                                                max_font_size=self.height)\n\u001b[0m\u001b[1;32m    427\u001b[0m                 \u001b[0;31m# find font sizes\u001b[0m\u001b[0;34m\u001b[0m\u001b[0;34m\u001b[0m\u001b[0;34m\u001b[0m\u001b[0m\n\u001b[1;32m    428\u001b[0m                 \u001b[0msizes\u001b[0m \u001b[0;34m=\u001b[0m \u001b[0;34m[\u001b[0m\u001b[0mx\u001b[0m\u001b[0;34m[\u001b[0m\u001b[0;36m1\u001b[0m\u001b[0;34m]\u001b[0m \u001b[0;32mfor\u001b[0m \u001b[0mx\u001b[0m \u001b[0;32min\u001b[0m \u001b[0mself\u001b[0m\u001b[0;34m.\u001b[0m\u001b[0mlayout_\u001b[0m\u001b[0;34m]\u001b[0m\u001b[0;34m\u001b[0m\u001b[0;34m\u001b[0m\u001b[0m\n",
            "\u001b[0;32m/usr/local/lib/python3.7/dist-packages/wordcloud/wordcloud.py\u001b[0m in \u001b[0;36mgenerate_from_frequencies\u001b[0;34m(self, frequencies, max_font_size)\u001b[0m\n\u001b[1;32m    471\u001b[0m             \u001b[0;32mwhile\u001b[0m \u001b[0;32mTrue\u001b[0m\u001b[0;34m:\u001b[0m\u001b[0;34m\u001b[0m\u001b[0;34m\u001b[0m\u001b[0m\n\u001b[1;32m    472\u001b[0m                 \u001b[0;31m# try to find a position\u001b[0m\u001b[0;34m\u001b[0m\u001b[0;34m\u001b[0m\u001b[0;34m\u001b[0m\u001b[0m\n\u001b[0;32m--> 473\u001b[0;31m                 \u001b[0mfont\u001b[0m \u001b[0;34m=\u001b[0m \u001b[0mImageFont\u001b[0m\u001b[0;34m.\u001b[0m\u001b[0mtruetype\u001b[0m\u001b[0;34m(\u001b[0m\u001b[0mself\u001b[0m\u001b[0;34m.\u001b[0m\u001b[0mfont_path\u001b[0m\u001b[0;34m,\u001b[0m \u001b[0mfont_size\u001b[0m\u001b[0;34m)\u001b[0m\u001b[0;34m\u001b[0m\u001b[0;34m\u001b[0m\u001b[0m\n\u001b[0m\u001b[1;32m    474\u001b[0m                 \u001b[0;31m# transpose font optionally\u001b[0m\u001b[0;34m\u001b[0m\u001b[0;34m\u001b[0m\u001b[0;34m\u001b[0m\u001b[0m\n\u001b[1;32m    475\u001b[0m                 transposed_font = ImageFont.TransposedFont(\n",
            "\u001b[0;32m/usr/local/lib/python3.7/dist-packages/PIL/ImageFont.py\u001b[0m in \u001b[0;36mtruetype\u001b[0;34m(font, size, index, encoding, layout_engine)\u001b[0m\n\u001b[1;32m    646\u001b[0m \u001b[0;34m\u001b[0m\u001b[0m\n\u001b[1;32m    647\u001b[0m     \u001b[0;32mtry\u001b[0m\u001b[0;34m:\u001b[0m\u001b[0;34m\u001b[0m\u001b[0;34m\u001b[0m\u001b[0m\n\u001b[0;32m--> 648\u001b[0;31m         \u001b[0;32mreturn\u001b[0m \u001b[0mfreetype\u001b[0m\u001b[0;34m(\u001b[0m\u001b[0mfont\u001b[0m\u001b[0;34m)\u001b[0m\u001b[0;34m\u001b[0m\u001b[0;34m\u001b[0m\u001b[0m\n\u001b[0m\u001b[1;32m    649\u001b[0m     \u001b[0;32mexcept\u001b[0m \u001b[0mOSError\u001b[0m\u001b[0;34m:\u001b[0m\u001b[0;34m\u001b[0m\u001b[0;34m\u001b[0m\u001b[0m\n\u001b[1;32m    650\u001b[0m         \u001b[0;32mif\u001b[0m \u001b[0;32mnot\u001b[0m \u001b[0misPath\u001b[0m\u001b[0;34m(\u001b[0m\u001b[0mfont\u001b[0m\u001b[0;34m)\u001b[0m\u001b[0;34m:\u001b[0m\u001b[0;34m\u001b[0m\u001b[0;34m\u001b[0m\u001b[0m\n",
            "\u001b[0;32m/usr/local/lib/python3.7/dist-packages/PIL/ImageFont.py\u001b[0m in \u001b[0;36mfreetype\u001b[0;34m(font)\u001b[0m\n\u001b[1;32m    643\u001b[0m \u001b[0;34m\u001b[0m\u001b[0m\n\u001b[1;32m    644\u001b[0m     \u001b[0;32mdef\u001b[0m \u001b[0mfreetype\u001b[0m\u001b[0;34m(\u001b[0m\u001b[0mfont\u001b[0m\u001b[0;34m)\u001b[0m\u001b[0;34m:\u001b[0m\u001b[0;34m\u001b[0m\u001b[0;34m\u001b[0m\u001b[0m\n\u001b[0;32m--> 645\u001b[0;31m         \u001b[0;32mreturn\u001b[0m \u001b[0mFreeTypeFont\u001b[0m\u001b[0;34m(\u001b[0m\u001b[0mfont\u001b[0m\u001b[0;34m,\u001b[0m \u001b[0msize\u001b[0m\u001b[0;34m,\u001b[0m \u001b[0mindex\u001b[0m\u001b[0;34m,\u001b[0m \u001b[0mencoding\u001b[0m\u001b[0;34m,\u001b[0m \u001b[0mlayout_engine\u001b[0m\u001b[0;34m)\u001b[0m\u001b[0;34m\u001b[0m\u001b[0;34m\u001b[0m\u001b[0m\n\u001b[0m\u001b[1;32m    646\u001b[0m \u001b[0;34m\u001b[0m\u001b[0m\n\u001b[1;32m    647\u001b[0m     \u001b[0;32mtry\u001b[0m\u001b[0;34m:\u001b[0m\u001b[0;34m\u001b[0m\u001b[0;34m\u001b[0m\u001b[0m\n",
            "\u001b[0;32m/usr/local/lib/python3.7/dist-packages/PIL/ImageFont.py\u001b[0m in \u001b[0;36m__init__\u001b[0;34m(self, font, size, index, encoding, layout_engine)\u001b[0m\n\u001b[1;32m    192\u001b[0m                     \u001b[0;32mreturn\u001b[0m\u001b[0;34m\u001b[0m\u001b[0;34m\u001b[0m\u001b[0m\n\u001b[1;32m    193\u001b[0m             self.font = core.getfont(\n\u001b[0;32m--> 194\u001b[0;31m                 \u001b[0mfont\u001b[0m\u001b[0;34m,\u001b[0m \u001b[0msize\u001b[0m\u001b[0;34m,\u001b[0m \u001b[0mindex\u001b[0m\u001b[0;34m,\u001b[0m \u001b[0mencoding\u001b[0m\u001b[0;34m,\u001b[0m \u001b[0mlayout_engine\u001b[0m\u001b[0;34m=\u001b[0m\u001b[0mlayout_engine\u001b[0m\u001b[0;34m\u001b[0m\u001b[0;34m\u001b[0m\u001b[0m\n\u001b[0m\u001b[1;32m    195\u001b[0m             )\n\u001b[1;32m    196\u001b[0m         \u001b[0;32melse\u001b[0m\u001b[0;34m:\u001b[0m\u001b[0;34m\u001b[0m\u001b[0;34m\u001b[0m\u001b[0m\n",
            "\u001b[0;31mOSError\u001b[0m: cannot open resource"
          ]
        }
      ]
    },
    {
      "cell_type": "code",
      "metadata": {
        "id": "m7f-jfPIWqpU"
      },
      "source": [
        ""
      ],
      "execution_count": null,
      "outputs": []
    }
  ]
}