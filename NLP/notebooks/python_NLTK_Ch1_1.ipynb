{
  "nbformat": 4,
  "nbformat_minor": 5,
  "metadata": {
    "kernelspec": {
      "display_name": "Python 3",
      "language": "python",
      "name": "python3"
    },
    "language_info": {
      "codemirror_mode": {
        "name": "ipython",
        "version": 3
      },
      "file_extension": ".py",
      "mimetype": "text/x-python",
      "name": "python",
      "nbconvert_exporter": "python",
      "pygments_lexer": "ipython3",
      "version": "3.7.3"
    },
    "colab": {
      "name": "python-NLTK-Ch1-1.ipynb",
      "provenance": [],
      "include_colab_link": true
    }
  },
  "cells": [
    {
      "cell_type": "markdown",
      "metadata": {
        "id": "view-in-github",
        "colab_type": "text"
      },
      "source": [
        "<a href=\"https://colab.research.google.com/github/jumbokh/nknu-class/blob/main/NLP/notebooks/python_NLTK_Ch1_1.ipynb\" target=\"_parent\"><img src=\"https://colab.research.google.com/assets/colab-badge.svg\" alt=\"Open In Colab\"/></a>"
      ]
    },
    {
      "cell_type": "code",
      "metadata": {
        "id": "db4ff5af-88c1-4c18-9f41-9603f4b79aa0",
        "outputId": "df7b6435-474b-4b0f-dda8-ef163cbac215"
      },
      "source": [
        "# from nltk.book import *"
      ],
      "id": "db4ff5af-88c1-4c18-9f41-9603f4b79aa0",
      "execution_count": null,
      "outputs": [
        {
          "ename": "ModuleNotFoundError",
          "evalue": "No module named 'nltk'",
          "output_type": "error",
          "traceback": [
            "\u001b[0;31m---------------------------------------------------------------------------\u001b[0m",
            "\u001b[0;31mModuleNotFoundError\u001b[0m                       Traceback (most recent call last)",
            "\u001b[0;32m<ipython-input-1-a6ea6dd70c17>\u001b[0m in \u001b[0;36m<module>\u001b[0;34m()\u001b[0m\n\u001b[0;32m----> 1\u001b[0;31m \u001b[0;32mfrom\u001b[0m \u001b[0mnltk\u001b[0m\u001b[0;34m.\u001b[0m\u001b[0mbook\u001b[0m \u001b[0;32mimport\u001b[0m \u001b[0;34m*\u001b[0m\u001b[0;34m\u001b[0m\u001b[0;34m\u001b[0m\u001b[0m\n\u001b[0m",
            "\u001b[0;31mModuleNotFoundError\u001b[0m: No module named 'nltk'"
          ]
        }
      ]
    },
    {
      "cell_type": "code",
      "metadata": {
        "id": "7ae35ff8-8cbc-4441-aced-859fe56a53c1",
        "outputId": "9891167d-296e-45c8-b59d-a2e0b0c0b9b8"
      },
      "source": [
        "!pip install nltk"
      ],
      "id": "7ae35ff8-8cbc-4441-aced-859fe56a53c1",
      "execution_count": null,
      "outputs": [
        {
          "name": "stdout",
          "output_type": "stream",
          "text": [
            "Looking in indexes: https://pypi.org/simple, https://www.piwheels.org/simple\n",
            "Collecting nltk\n",
            "\u001b[33m  Cache entry deserialization failed, entry ignored\u001b[0m\n",
            "\u001b[33m  Cache entry deserialization failed, entry ignored\u001b[0m\n",
            "\u001b[?25l  Downloading https://files.pythonhosted.org/packages/5e/a0/04763ddc4bf3bac6f3bd38934c36a0f3ac30e48c39a51b3ec5649ed17374/nltk-3.6.3-py3-none-any.whl (1.5MB)\n",
            "\u001b[K    100% |████████████████████████████████| 1.5MB 294kB/s eta 0:00:01\n",
            "\u001b[?25hCollecting joblib (from nltk)\n",
            "\u001b[33m  Cache entry deserialization failed, entry ignored\u001b[0m\n",
            "\u001b[33m  Cache entry deserialization failed, entry ignored\u001b[0m\n",
            "\u001b[?25l  Downloading https://files.pythonhosted.org/packages/55/85/70c6602b078bd9e6f3da4f467047e906525c355a4dacd4f71b97a35d9897/joblib-1.0.1-py3-none-any.whl (303kB)\n",
            "\u001b[K    100% |████████████████████████████████| 307kB 1.3MB/s ta 0:00:01\n",
            "\u001b[?25hCollecting tqdm (from nltk)\n",
            "\u001b[33m  Cache entry deserialization failed, entry ignored\u001b[0m\n",
            "\u001b[33m  Cache entry deserialization failed, entry ignored\u001b[0m\n",
            "\u001b[?25l  Downloading https://files.pythonhosted.org/packages/63/f3/b7a1b8e40fd1bd049a34566eb353527bb9b8e9b98f8b6cf803bb64d8ce95/tqdm-4.62.3-py2.py3-none-any.whl (76kB)\n",
            "\u001b[K    100% |████████████████████████████████| 81kB 3.3MB/s eta 0:00:01\n",
            "\u001b[?25hCollecting regex (from nltk)\n",
            "\u001b[33m  Cache entry deserialization failed, entry ignored\u001b[0m\n",
            "\u001b[33m  Cache entry deserialization failed, entry ignored\u001b[0m\n",
            "\u001b[33m  Cache entry deserialization failed, entry ignored\u001b[0m\n",
            "\u001b[?25l  Downloading https://www.piwheels.org/simple/regex/regex-2021.9.24-cp37-cp37m-linux_armv7l.whl (631kB)\n",
            "\u001b[K    100% |████████████████████████████████| 634kB 634kB/s eta 0:00:01\n",
            "\u001b[?25hRequirement already satisfied: click in /usr/lib/python3/dist-packages (from nltk) (7.0)\n",
            "Installing collected packages: joblib, tqdm, regex, nltk\n",
            "\u001b[33m  The script tqdm is installed in '/home/jumbo/.local/bin' which is not on PATH.\n",
            "  Consider adding this directory to PATH or, if you prefer to suppress this warning, use --no-warn-script-location.\u001b[0m\n",
            "\u001b[33m  The script nltk is installed in '/home/jumbo/.local/bin' which is not on PATH.\n",
            "  Consider adding this directory to PATH or, if you prefer to suppress this warning, use --no-warn-script-location.\u001b[0m\n",
            "Successfully installed joblib-1.0.1 nltk-3.6.3 regex-2021.9.24 tqdm-4.62.3\n"
          ]
        }
      ]
    },
    {
      "cell_type": "code",
      "metadata": {
        "id": "de0b48e0-1a98-4a89-b5fb-012e09414873"
      },
      "source": [
        "import nltk"
      ],
      "id": "de0b48e0-1a98-4a89-b5fb-012e09414873",
      "execution_count": null,
      "outputs": []
    },
    {
      "cell_type": "code",
      "metadata": {
        "id": "70f79e5a-752c-4818-9305-6e6a5a517dd1",
        "outputId": "ed9dc773-1663-4a62-edc0-620d92bbf7e3"
      },
      "source": [
        "nltk.download()"
      ],
      "id": "70f79e5a-752c-4818-9305-6e6a5a517dd1",
      "execution_count": null,
      "outputs": [
        {
          "name": "stdout",
          "output_type": "stream",
          "text": [
            "NLTK Downloader\n",
            "---------------------------------------------------------------------------\n",
            "    d) Download   l) List    u) Update   c) Config   h) Help   q) Quit\n",
            "---------------------------------------------------------------------------\n"
          ]
        },
        {
          "name": "stdin",
          "output_type": "stream",
          "text": [
            "Downloader>  book\n"
          ]
        },
        {
          "name": "stdout",
          "output_type": "stream",
          "text": [
            "Command 'book' unrecognized\n",
            "\n",
            "---------------------------------------------------------------------------\n",
            "    d) Download   l) List    u) Update   c) Config   h) Help   q) Quit\n",
            "---------------------------------------------------------------------------\n"
          ]
        },
        {
          "name": "stdin",
          "output_type": "stream",
          "text": [
            "Downloader>  book\n"
          ]
        },
        {
          "name": "stdout",
          "output_type": "stream",
          "text": [
            "Command 'book' unrecognized\n",
            "\n",
            "---------------------------------------------------------------------------\n",
            "    d) Download   l) List    u) Update   c) Config   h) Help   q) Quit\n",
            "---------------------------------------------------------------------------\n"
          ]
        },
        {
          "name": "stdin",
          "output_type": "stream",
          "text": [
            "Downloader>  d\n"
          ]
        },
        {
          "name": "stdout",
          "output_type": "stream",
          "text": [
            "\n",
            "Download which package (l=list; x=cancel)?\n"
          ]
        },
        {
          "name": "stdin",
          "output_type": "stream",
          "text": [
            "  Identifier>  book\n"
          ]
        },
        {
          "name": "stderr",
          "output_type": "stream",
          "text": [
            "    Downloading collection 'book'\n",
            "       | \n",
            "       | Downloading package abc to /home/jumbo/nltk_data...\n",
            "       |   Package abc is already up-to-date!\n",
            "       | Downloading package brown to /home/jumbo/nltk_data...\n",
            "       |   Package brown is already up-to-date!\n",
            "       | Downloading package chat80 to /home/jumbo/nltk_data...\n",
            "       |   Package chat80 is already up-to-date!\n",
            "       | Downloading package cmudict to /home/jumbo/nltk_data...\n",
            "       |   Package cmudict is already up-to-date!\n",
            "       | Downloading package conll2000 to /home/jumbo/nltk_data...\n",
            "       |   Package conll2000 is already up-to-date!\n",
            "       | Downloading package conll2002 to /home/jumbo/nltk_data...\n",
            "       |   Package conll2002 is already up-to-date!\n",
            "       | Downloading package dependency_treebank to\n",
            "       |     /home/jumbo/nltk_data...\n",
            "       |   Package dependency_treebank is already up-to-date!\n",
            "       | Downloading package genesis to /home/jumbo/nltk_data...\n",
            "       |   Package genesis is already up-to-date!\n",
            "       | Downloading package gutenberg to /home/jumbo/nltk_data...\n",
            "       |   Package gutenberg is already up-to-date!\n",
            "       | Downloading package ieer to /home/jumbo/nltk_data...\n",
            "       |   Package ieer is already up-to-date!\n",
            "       | Downloading package inaugural to /home/jumbo/nltk_data...\n",
            "       |   Package inaugural is already up-to-date!\n",
            "       | Downloading package movie_reviews to /home/jumbo/nltk_data...\n",
            "       |   Package movie_reviews is already up-to-date!\n",
            "       | Downloading package nps_chat to /home/jumbo/nltk_data...\n",
            "       |   Package nps_chat is already up-to-date!\n",
            "       | Downloading package names to /home/jumbo/nltk_data...\n",
            "       |   Package names is already up-to-date!\n",
            "       | Downloading package ppattach to /home/jumbo/nltk_data...\n",
            "       |   Package ppattach is already up-to-date!\n",
            "       | Downloading package reuters to /home/jumbo/nltk_data...\n",
            "       |   Package reuters is already up-to-date!\n",
            "       | Downloading package senseval to /home/jumbo/nltk_data...\n",
            "       |   Package senseval is already up-to-date!\n",
            "       | Downloading package state_union to /home/jumbo/nltk_data...\n",
            "       |   Package state_union is already up-to-date!\n",
            "       | Downloading package stopwords to /home/jumbo/nltk_data...\n",
            "       |   Package stopwords is already up-to-date!\n",
            "       | Downloading package swadesh to /home/jumbo/nltk_data...\n",
            "       |   Package swadesh is already up-to-date!\n",
            "       | Downloading package timit to /home/jumbo/nltk_data...\n",
            "       |   Package timit is already up-to-date!\n",
            "       | Downloading package treebank to /home/jumbo/nltk_data...\n",
            "       |   Package treebank is already up-to-date!\n",
            "       | Downloading package toolbox to /home/jumbo/nltk_data...\n",
            "       |   Package toolbox is already up-to-date!\n",
            "       | Downloading package udhr to /home/jumbo/nltk_data...\n",
            "       |   Package udhr is already up-to-date!\n",
            "       | Downloading package udhr2 to /home/jumbo/nltk_data...\n",
            "       |   Package udhr2 is already up-to-date!\n",
            "       | Downloading package unicode_samples to\n",
            "       |     /home/jumbo/nltk_data...\n",
            "       |   Package unicode_samples is already up-to-date!\n",
            "       | Downloading package webtext to /home/jumbo/nltk_data...\n",
            "       |   Package webtext is already up-to-date!\n",
            "       | Downloading package wordnet to /home/jumbo/nltk_data...\n",
            "       |   Package wordnet is already up-to-date!\n",
            "       | Downloading package wordnet_ic to /home/jumbo/nltk_data...\n",
            "       |   Package wordnet_ic is already up-to-date!\n",
            "       | Downloading package words to /home/jumbo/nltk_data...\n",
            "       |   Package words is already up-to-date!\n",
            "       | Downloading package maxent_treebank_pos_tagger to\n",
            "       |     /home/jumbo/nltk_data...\n",
            "       |   Package maxent_treebank_pos_tagger is already up-to-date!\n",
            "       | Downloading package maxent_ne_chunker to\n",
            "       |     /home/jumbo/nltk_data...\n",
            "       |   Package maxent_ne_chunker is already up-to-date!\n",
            "       | Downloading package universal_tagset to\n",
            "       |     /home/jumbo/nltk_data...\n",
            "       |   Package universal_tagset is already up-to-date!\n",
            "       | Downloading package punkt to /home/jumbo/nltk_data...\n",
            "       |   Package punkt is already up-to-date!\n",
            "       | Downloading package book_grammars to /home/jumbo/nltk_data...\n",
            "       |   Package book_grammars is already up-to-date!\n",
            "       | Downloading package city_database to /home/jumbo/nltk_data...\n",
            "       |   Package city_database is already up-to-date!\n",
            "       | Downloading package tagsets to /home/jumbo/nltk_data...\n",
            "       |   Package tagsets is already up-to-date!\n",
            "       | Downloading package panlex_swadesh to\n",
            "       |     /home/jumbo/nltk_data...\n",
            "       |   Package panlex_swadesh is already up-to-date!\n",
            "       | Downloading package averaged_perceptron_tagger to\n",
            "       |     /home/jumbo/nltk_data...\n",
            "       |   Package averaged_perceptron_tagger is already up-to-date!\n",
            "       | \n",
            "     Done downloading collection book\n"
          ]
        },
        {
          "name": "stdout",
          "output_type": "stream",
          "text": [
            "\n",
            "---------------------------------------------------------------------------\n",
            "    d) Download   l) List    u) Update   c) Config   h) Help   q) Quit\n",
            "---------------------------------------------------------------------------\n"
          ]
        },
        {
          "name": "stdin",
          "output_type": "stream",
          "text": [
            "Downloader>  q\n"
          ]
        },
        {
          "data": {
            "text/plain": [
              "True"
            ]
          },
          "execution_count": 4,
          "metadata": {},
          "output_type": "execute_result"
        }
      ]
    },
    {
      "cell_type": "code",
      "metadata": {
        "id": "cc8c383e-8dc8-4fd5-be81-6e2a8db2977f",
        "outputId": "6905fed2-ec7d-49aa-952b-1857dbc562d2"
      },
      "source": [
        "from nltk.book import *"
      ],
      "id": "cc8c383e-8dc8-4fd5-be81-6e2a8db2977f",
      "execution_count": null,
      "outputs": [
        {
          "name": "stdout",
          "output_type": "stream",
          "text": [
            "*** Introductory Examples for the NLTK Book ***\n",
            "Loading text1, ..., text9 and sent1, ..., sent9\n",
            "Type the name of the text or sentence to view it.\n",
            "Type: 'texts()' or 'sents()' to list the materials.\n",
            "text1: Moby Dick by Herman Melville 1851\n",
            "text2: Sense and Sensibility by Jane Austen 1811\n",
            "text3: The Book of Genesis\n",
            "text4: Inaugural Address Corpus\n",
            "text5: Chat Corpus\n",
            "text6: Monty Python and the Holy Grail\n",
            "text7: Wall Street Journal\n",
            "text8: Personals Corpus\n",
            "text9: The Man Who Was Thursday by G . K . Chesterton 1908\n"
          ]
        }
      ]
    },
    {
      "cell_type": "code",
      "metadata": {
        "id": "555f9e8f-110a-4416-9090-0524517ef25f",
        "outputId": "5874dbc2-38e0-4f6d-ea1d-e3dd60341667"
      },
      "source": [
        "text1"
      ],
      "id": "555f9e8f-110a-4416-9090-0524517ef25f",
      "execution_count": null,
      "outputs": [
        {
          "data": {
            "text/plain": [
              "<Text: Moby Dick by Herman Melville 1851>"
            ]
          },
          "execution_count": 6,
          "metadata": {},
          "output_type": "execute_result"
        }
      ]
    },
    {
      "cell_type": "code",
      "metadata": {
        "id": "1208cb63-57aa-492f-8b7d-30631edd5528",
        "outputId": "916726bb-535a-4e20-d45c-3b59d1fb5ee3"
      },
      "source": [
        "text2"
      ],
      "id": "1208cb63-57aa-492f-8b7d-30631edd5528",
      "execution_count": null,
      "outputs": [
        {
          "data": {
            "text/plain": [
              "<Text: Sense and Sensibility by Jane Austen 1811>"
            ]
          },
          "execution_count": 7,
          "metadata": {},
          "output_type": "execute_result"
        }
      ]
    },
    {
      "cell_type": "code",
      "metadata": {
        "id": "373ffffb-4c2a-4cfc-8eb1-e53ca6cb60f1",
        "outputId": "f601bc23-c4b0-4c8b-ab90-b44b4ed9dfe2"
      },
      "source": [
        "text1.concordance(\"monstrous\")"
      ],
      "id": "373ffffb-4c2a-4cfc-8eb1-e53ca6cb60f1",
      "execution_count": null,
      "outputs": [
        {
          "name": "stdout",
          "output_type": "stream",
          "text": [
            "Displaying 11 of 11 matches:\n",
            "ong the former , one was of a most monstrous size . ... This came towards us , \n",
            "ON OF THE PSALMS . \" Touching that monstrous bulk of the whale or ork we have r\n",
            "ll over with a heathenish array of monstrous clubs and spears . Some were thick\n",
            "d as you gazed , and wondered what monstrous cannibal and savage could ever hav\n",
            "that has survived the flood ; most monstrous and most mountainous ! That Himmal\n",
            "they might scout at Moby Dick as a monstrous fable , or still worse and more de\n",
            "th of Radney .'\" CHAPTER 55 Of the Monstrous Pictures of Whales . I shall ere l\n",
            "ing Scenes . In connexion with the monstrous pictures of whales , I am strongly\n",
            "ere to enter upon those still more monstrous stories of them which are to be fo\n",
            "ght have been rummaged out of this monstrous cabinet there is no telling . But \n",
            "of Whale - Bones ; for Whales of a monstrous size are oftentimes cast up dead u\n"
          ]
        }
      ]
    },
    {
      "cell_type": "code",
      "metadata": {
        "id": "371df402-5403-46ec-a12e-4a6aa4606def",
        "outputId": "f9daab56-a532-4e44-f0e1-7cac6ea63932"
      },
      "source": [
        "text2.concordance(\"affection\")"
      ],
      "id": "371df402-5403-46ec-a12e-4a6aa4606def",
      "execution_count": null,
      "outputs": [
        {
          "name": "stdout",
          "output_type": "stream",
          "text": [
            "Displaying 25 of 79 matches:\n",
            ", however , and , as a mark of his affection for the three girls , he left them\n",
            "t . It was very well known that no affection was ever supposed to exist between\n",
            "deration of politeness or maternal affection on the side of the former , the tw\n",
            "d the suspicion -- the hope of his affection for me may warrant , without impru\n",
            "hich forbade the indulgence of his affection . She knew that his mother neither\n",
            "rd she gave one with still greater affection . Though her late conversation wit\n",
            " can never hope to feel or inspire affection again , and if her home be uncomfo\n",
            "m of the sense , elegance , mutual affection , and domestic comfort of the fami\n",
            ", and which recommended him to her affection beyond every thing else . His soci\n",
            "ween the parties might forward the affection of Mr . Willoughby , an equally st\n",
            " the most pointed assurance of her affection . Elinor could not be surprised at\n",
            "he natural consequence of a strong affection in a young and ardent mind . This \n",
            " opinion . But by an appeal to her affection for her mother , by representing t\n",
            " every alteration of a place which affection had established as perfect with hi\n",
            "e will always have one claim of my affection , which no other can possibly shar\n",
            "f the evening declared at once his affection and happiness . \" Shall we see you\n",
            "ause he took leave of us with less affection than his usual behaviour has shewn\n",
            "ness .\" \" I want no proof of their affection ,\" said Elinor ; \" but of their en\n",
            "onths , without telling her of his affection ;-- that they should part without \n",
            "ould be the natural result of your affection for her . She used to be all unres\n",
            "distinguished Elinor by no mark of affection . Marianne saw and listened with i\n",
            "th no inclination for expense , no affection for strangers , no profession , an\n",
            "till distinguished her by the same affection which once she had felt no doubt o\n",
            "al of her confidence in Edward ' s affection , to the remembrance of every mark\n",
            " was made ? Had he never owned his affection to yourself ?\" \" Oh , no ; but if \n"
          ]
        }
      ]
    },
    {
      "cell_type": "code",
      "metadata": {
        "id": "b394660d-563c-4e41-a800-792d6fe4239e",
        "outputId": "a388f6d3-ac4f-4a13-8727-87163a954bc2"
      },
      "source": [
        "text4.concordance(\"nation\")"
      ],
      "id": "b394660d-563c-4e41-a800-792d6fe4239e",
      "execution_count": null,
      "outputs": [
        {
          "name": "stdout",
          "output_type": "stream",
          "text": [
            "Displaying 25 of 316 matches:\n",
            " to the character of an independent nation seems to have been distinguished by\n",
            "f Heaven can never be expected on a nation that disregards the eternal rules o\n",
            "first , the representatives of this nation , then consisting of little more th\n",
            ", situation , and relations of this nation and country than any which had ever\n",
            ", prosperity , and happiness of the nation I have acquired an habitual attachm\n",
            "an be no spectacle presented by any nation more pleasing , more noble , majest\n",
            "party for its own ends , not of the nation for the national good . If that sol\n",
            "tures and the people throughout the nation . On this subject it might become m\n",
            "if a personal esteem for the French nation , formed in a residence of seven ye\n",
            "f our fellow - citizens by whatever nation , and if success can not be obtaine\n",
            "y , continue His blessing upon this nation and its Government and give it all \n",
            "powers so justly inspire . A rising nation , spread over a wide and fruitful l\n",
            "ing now decided by the voice of the nation , announced according to the rules \n",
            "ars witness to the fact that a just nation is trusted on its word when recours\n",
            "e union of opinion which gives to a nation the blessing of harmony and the ben\n",
            "uil suffrage of a free and virtuous nation , would under any circumstances hav\n",
            "d spirit and united councils of the nation will be safeguards to its honor and\n",
            "iction that the war with a powerful nation , which forms so prominent a featur\n",
            "out breaking down the spirit of the nation , destroying all confidence in itse\n",
            "ed on the military resources of the nation . These resources are amply suffici\n",
            "the war to an honorable issue . Our nation is in number more than half that of\n",
            "ndividually have been happy and the nation prosperous . Under this Constitutio\n",
            "rights , and is able to protect the nation against injustice from foreign powe\n",
            " great agricultural interest of the nation prospers under its protection . Loc\n",
            "ak our Union , and demolish us as a nation . Our distance from Europe and the \n"
          ]
        }
      ]
    },
    {
      "cell_type": "code",
      "metadata": {
        "id": "cc57282d-18fe-44e5-98fe-c162705211e4",
        "outputId": "c6a21451-f557-4bc7-d396-473eada7194b"
      },
      "source": [
        "text4.concordance(\"terror\")"
      ],
      "id": "cc57282d-18fe-44e5-98fe-c162705211e4",
      "execution_count": null,
      "outputs": [
        {
          "name": "stdout",
          "output_type": "stream",
          "text": [
            "Displaying 8 of 8 matches:\n",
            "menaces , by fraud or violence , by terror , intrigue , or venality , the Gove\n",
            "ameless , unreasoning , unjustified terror which paralyzes needed efforts to c\n",
            "ublic seemed frozen by a fatalistic terror , we proved that this is not true .\n",
            " to alter that uncertain balance of terror that stays the hand of mankind ' s \n",
            "eans freeing all Americans from the terror of runaway living costs . All must \n",
            "still . They fuel the fanaticism of terror . And they torment the lives of mil\n",
            "d maintain a strong defense against terror and destruction . Our children will\n",
            "k to advance their aims by inducing terror and slaughtering innocents , we say\n"
          ]
        }
      ]
    },
    {
      "cell_type": "code",
      "metadata": {
        "id": "84e00c78-4c78-4944-93cf-2338589c465f",
        "outputId": "b5cd5c95-2af9-48d0-8c08-66d82cf920c7"
      },
      "source": [
        "text4.concordance(\"god\")"
      ],
      "id": "84e00c78-4c78-4944-93cf-2338589c465f",
      "execution_count": null,
      "outputs": [
        {
          "name": "stdout",
          "output_type": "stream",
          "text": [
            "Displaying 25 of 108 matches:\n",
            "eliance on the protection of Almighty God , I shall forthwith commence the duti\n",
            "humble , acknowledged dependence upon God and His overruling providence . We ha\n",
            "great office I must humbly invoke the God of our fathers for wisdom and firmnes\n",
            "d the same Bible and pray to the same God , and each invokes His aid against th\n",
            "hat any men should dare to ask a just God ' s assistance in wringing their brea\n",
            "offenses which , in the providence of God , must needs come , but which , havin\n",
            "butes which the believers in a living God always ascribe to Him ? Fondly do we \n",
            "war may speedily pass away . Yet , if God wills that it continue until all the \n",
            "r all , with firmness in the right as God gives us to see the right , let us st\n",
            "the prayers of the nation to Almighty God in behalf of this consummation . Fell\n",
            "r , they have \" followed the light as God gave them to see the light .\" They ar\n",
            "ess their fathers and their fathers ' God that the Union was preserved , that s\n",
            "the support and blessings of Almighty God . Fellow citizens , in the presence o\n",
            "ng the power and goodness of Almighty God , who presides over the destiny of na\n",
            "expect the favor and help of Almighty God -- that He will give to me wisdom , s\n",
            " suggestion to enterprise and labor . God has placed upon our head a diadem and\n",
            "urn than the pledge I now give before God and these witnesses of unreserved and\n",
            "han human life can escape the laws of God and nature . Manifestly nothing is mo\n",
            "and invoking the guidance of Almighty God . Our faith teaches that there is no \n",
            "re is no safer reliance than upon the God of our fathers , who has so singularl\n",
            "e the direction and favor of Almighty God . I should shrink from the duties thi\n",
            " devolve upon it , and in the fear of God will \" take occasion by the hand and \n",
            " citizens and the aid of the Almighty God in the discharge of my responsible du\n",
            "our heartstrings like some air out of God ' s own presence , where justice and \n",
            " forward - looking men , to my side . God helping me , I will not fail them , i\n"
          ]
        }
      ]
    },
    {
      "cell_type": "code",
      "metadata": {
        "id": "fe055a28-a38b-49b4-9c0f-344475728ac8",
        "outputId": "d0e61a48-199c-48e6-eb02-d840e2cca08b"
      },
      "source": [
        "text1.similar(\"monstrous\")"
      ],
      "id": "fe055a28-a38b-49b4-9c0f-344475728ac8",
      "execution_count": null,
      "outputs": [
        {
          "name": "stdout",
          "output_type": "stream",
          "text": [
            "true contemptible christian abundant few part mean careful puzzled\n",
            "mystifying passing curious loving wise doleful gamesome singular\n",
            "delightfully perilous fearless\n"
          ]
        }
      ]
    },
    {
      "cell_type": "code",
      "metadata": {
        "id": "b7d6e617-a8fa-44c7-82f0-5b94f688678d",
        "outputId": "d380df57-5517-4975-8486-904500deae2f"
      },
      "source": [
        "text2.similar(\"monstrous\")"
      ],
      "id": "b7d6e617-a8fa-44c7-82f0-5b94f688678d",
      "execution_count": null,
      "outputs": [
        {
          "name": "stdout",
          "output_type": "stream",
          "text": [
            "very so exceedingly heartily a as good great extremely remarkably\n",
            "sweet vast amazingly\n"
          ]
        }
      ]
    },
    {
      "cell_type": "code",
      "metadata": {
        "id": "1343a09a-816e-4e02-b59f-e10462b6f29f",
        "outputId": "e3c82d76-ce93-49e3-f2c4-9c191201450f"
      },
      "source": [
        "text2.common_contexts([\"monstrous\", \"very\"])"
      ],
      "id": "1343a09a-816e-4e02-b59f-e10462b6f29f",
      "execution_count": null,
      "outputs": [
        {
          "name": "stdout",
          "output_type": "stream",
          "text": [
            "am_glad a_pretty a_lucky is_pretty be_glad\n"
          ]
        }
      ]
    },
    {
      "cell_type": "code",
      "metadata": {
        "id": "94b3b2a1-0cc1-4710-b3e3-0b8da9e9004e"
      },
      "source": [
        "%matplotlib inline\n",
        "import matplotlib.pyplot as plt"
      ],
      "id": "94b3b2a1-0cc1-4710-b3e3-0b8da9e9004e",
      "execution_count": null,
      "outputs": []
    },
    {
      "cell_type": "code",
      "metadata": {
        "id": "5023a861-5984-41b0-aeee-13475975e5c3",
        "outputId": "b0cc41d0-0c9a-4ed9-8a92-f5a9be57de26"
      },
      "source": [
        "text4.dispersion_plot([\"citizens\", \"democracy\", \"freedom\", \"duties\", \"America\"])"
      ],
      "id": "5023a861-5984-41b0-aeee-13475975e5c3",
      "execution_count": null,
      "outputs": [
        {
          "data": {
            "image/png": "[encoded data removed]",
            "text/plain": [
              "<Figure size 432x288 with 1 Axes>"
            ]
          },
          "metadata": {
            "needs_background": "light"
          },
          "output_type": "display_data"
        }
      ]
    },
    {
      "cell_type": "code",
      "metadata": {
        "id": "41690349-9ef2-4850-a9a3-08f926479106",
        "outputId": "25f68847-f0ce-4472-bb84-846ef6ff6466"
      },
      "source": [
        "text3.generate()"
      ],
      "id": "41690349-9ef2-4850-a9a3-08f926479106",
      "execution_count": null,
      "outputs": [
        {
          "name": "stderr",
          "output_type": "stream",
          "text": [
            "Building ngram index...\n"
          ]
        },
        {
          "name": "stdout",
          "output_type": "stream",
          "text": [
            "laid by her , and said unto Cain , Where art thou , and said , Go to ,\n",
            "I will not do it for ten ' s sons ; we dreamed each man according to\n",
            "their generatio the firstborn said unto Laban , Because I said , Nay ,\n",
            "but Sarah shall her name be . , duke Elah , duke Shobal , and Akan .\n",
            "and looked upon my affliction . Bashemath Ishmael ' s blood , but Isra\n",
            "for as a prince hast thou found of all the cattle in the valley , and\n",
            "the wo The\n"
          ]
        },
        {
          "data": {
            "text/plain": [
              "\"laid by her , and said unto Cain , Where art thou , and said , Go to ,\\nI will not do it for ten ' s sons ; we dreamed each man according to\\ntheir generatio the firstborn said unto Laban , Because I said , Nay ,\\nbut Sarah shall her name be . , duke Elah , duke Shobal , and Akan .\\nand looked upon my affliction . Bashemath Ishmael ' s blood , but Isra\\nfor as a prince hast thou found of all the cattle in the valley , and\\nthe wo The\""
            ]
          },
          "execution_count": 20,
          "metadata": {},
          "output_type": "execute_result"
        }
      ]
    },
    {
      "cell_type": "code",
      "metadata": {
        "id": "b3be3d1a-c709-4bcc-9044-c434acc0df99",
        "outputId": "c7a18efb-3aba-4cf3-8521-fee12d3ccdc0"
      },
      "source": [
        "len(text3)"
      ],
      "id": "b3be3d1a-c709-4bcc-9044-c434acc0df99",
      "execution_count": null,
      "outputs": [
        {
          "data": {
            "text/plain": [
              "44764"
            ]
          },
          "execution_count": 21,
          "metadata": {},
          "output_type": "execute_result"
        }
      ]
    },
    {
      "cell_type": "code",
      "metadata": {
        "scrolled": true,
        "tags": [],
        "id": "7ed00834-b505-4d1d-a5ab-43da7d63d7d4",
        "outputId": "5f8e57fd-1378-444f-95b9-58c0c74f2bd9"
      },
      "source": [
        "sorted(set(text3))"
      ],
      "id": "7ed00834-b505-4d1d-a5ab-43da7d63d7d4",
      "execution_count": null,
      "outputs": [
        {
          "data": {
            "text/plain": [
              "['!',\n",
              " \"'\",\n",
              " '(',\n",
              " ')',\n",
              " ',',\n",
              " ',)',\n",
              " '.',\n",
              " '.)',\n",
              " ':',\n",
              " ';',\n",
              " ';)',\n",
              " '?',\n",
              " '?)',\n",
              " 'A',\n",
              " 'Abel',\n",
              " 'Abelmizraim',\n",
              " 'Abidah',\n",
              " 'Abide',\n",
              " 'Abimael',\n",
              " 'Abimelech',\n",
              " 'Abr',\n",
              " 'Abrah',\n",
              " 'Abraham',\n",
              " 'Abram',\n",
              " 'Accad',\n",
              " 'Achbor',\n",
              " 'Adah',\n",
              " 'Adam',\n",
              " 'Adbeel',\n",
              " 'Admah',\n",
              " 'Adullamite',\n",
              " 'After',\n",
              " 'Aholibamah',\n",
              " 'Ahuzzath',\n",
              " 'Ajah',\n",
              " 'Akan',\n",
              " 'All',\n",
              " 'Allonbachuth',\n",
              " 'Almighty',\n",
              " 'Almodad',\n",
              " 'Also',\n",
              " 'Alvah',\n",
              " 'Alvan',\n",
              " 'Am',\n",
              " 'Amal',\n",
              " 'Amalek',\n",
              " 'Amalekites',\n",
              " 'Ammon',\n",
              " 'Amorite',\n",
              " 'Amorites',\n",
              " 'Amraphel',\n",
              " 'An',\n",
              " 'Anah',\n",
              " 'Anamim',\n",
              " 'And',\n",
              " 'Aner',\n",
              " 'Angel',\n",
              " 'Appoint',\n",
              " 'Aram',\n",
              " 'Aran',\n",
              " 'Ararat',\n",
              " 'Arbah',\n",
              " 'Ard',\n",
              " 'Are',\n",
              " 'Areli',\n",
              " 'Arioch',\n",
              " 'Arise',\n",
              " 'Arkite',\n",
              " 'Arodi',\n",
              " 'Arphaxad',\n",
              " 'Art',\n",
              " 'Arvadite',\n",
              " 'As',\n",
              " 'Asenath',\n",
              " 'Ashbel',\n",
              " 'Asher',\n",
              " 'Ashkenaz',\n",
              " 'Ashteroth',\n",
              " 'Ask',\n",
              " 'Asshur',\n",
              " 'Asshurim',\n",
              " 'Assyr',\n",
              " 'Assyria',\n",
              " 'At',\n",
              " 'Atad',\n",
              " 'Avith',\n",
              " 'Baalhanan',\n",
              " 'Babel',\n",
              " 'Bashemath',\n",
              " 'Be',\n",
              " 'Because',\n",
              " 'Becher',\n",
              " 'Bedad',\n",
              " 'Beeri',\n",
              " 'Beerlahairoi',\n",
              " 'Beersheba',\n",
              " 'Behold',\n",
              " 'Bela',\n",
              " 'Belah',\n",
              " 'Benam',\n",
              " 'Benjamin',\n",
              " 'Beno',\n",
              " 'Beor',\n",
              " 'Bera',\n",
              " 'Bered',\n",
              " 'Beriah',\n",
              " 'Bethel',\n",
              " 'Bethlehem',\n",
              " 'Bethuel',\n",
              " 'Beware',\n",
              " 'Bilhah',\n",
              " 'Bilhan',\n",
              " 'Binding',\n",
              " 'Birsha',\n",
              " 'Bless',\n",
              " 'Blessed',\n",
              " 'Both',\n",
              " 'Bow',\n",
              " 'Bozrah',\n",
              " 'Bring',\n",
              " 'But',\n",
              " 'Buz',\n",
              " 'By',\n",
              " 'Cain',\n",
              " 'Cainan',\n",
              " 'Calah',\n",
              " 'Calneh',\n",
              " 'Can',\n",
              " 'Cana',\n",
              " 'Canaan',\n",
              " 'Canaanite',\n",
              " 'Canaanites',\n",
              " 'Canaanitish',\n",
              " 'Caphtorim',\n",
              " 'Carmi',\n",
              " 'Casluhim',\n",
              " 'Cast',\n",
              " 'Cause',\n",
              " 'Chaldees',\n",
              " 'Chedorlaomer',\n",
              " 'Cheran',\n",
              " 'Cherubims',\n",
              " 'Chesed',\n",
              " 'Chezib',\n",
              " 'Come',\n",
              " 'Cursed',\n",
              " 'Cush',\n",
              " 'Damascus',\n",
              " 'Dan',\n",
              " 'Day',\n",
              " 'Deborah',\n",
              " 'Dedan',\n",
              " 'Deliver',\n",
              " 'Diklah',\n",
              " 'Din',\n",
              " 'Dinah',\n",
              " 'Dinhabah',\n",
              " 'Discern',\n",
              " 'Dishan',\n",
              " 'Dishon',\n",
              " 'Do',\n",
              " 'Dodanim',\n",
              " 'Dothan',\n",
              " 'Drink',\n",
              " 'Duke',\n",
              " 'Dumah',\n",
              " 'Earth',\n",
              " 'Ebal',\n",
              " 'Eber',\n",
              " 'Edar',\n",
              " 'Eden',\n",
              " 'Edom',\n",
              " 'Edomites',\n",
              " 'Egy',\n",
              " 'Egypt',\n",
              " 'Egyptia',\n",
              " 'Egyptian',\n",
              " 'Egyptians',\n",
              " 'Ehi',\n",
              " 'Elah',\n",
              " 'Elam',\n",
              " 'Elbethel',\n",
              " 'Eldaah',\n",
              " 'EleloheIsrael',\n",
              " 'Eliezer',\n",
              " 'Eliphaz',\n",
              " 'Elishah',\n",
              " 'Ellasar',\n",
              " 'Elon',\n",
              " 'Elparan',\n",
              " 'Emins',\n",
              " 'En',\n",
              " 'Enmishpat',\n",
              " 'Eno',\n",
              " 'Enoch',\n",
              " 'Enos',\n",
              " 'Ephah',\n",
              " 'Epher',\n",
              " 'Ephra',\n",
              " 'Ephraim',\n",
              " 'Ephrath',\n",
              " 'Ephron',\n",
              " 'Er',\n",
              " 'Erech',\n",
              " 'Eri',\n",
              " 'Es',\n",
              " 'Esau',\n",
              " 'Escape',\n",
              " 'Esek',\n",
              " 'Eshban',\n",
              " 'Eshcol',\n",
              " 'Ethiopia',\n",
              " 'Euphrat',\n",
              " 'Euphrates',\n",
              " 'Eve',\n",
              " 'Even',\n",
              " 'Every',\n",
              " 'Except',\n",
              " 'Ezbon',\n",
              " 'Ezer',\n",
              " 'Fear',\n",
              " 'Feed',\n",
              " 'Fifteen',\n",
              " 'Fill',\n",
              " 'For',\n",
              " 'Forasmuch',\n",
              " 'Forgive',\n",
              " 'From',\n",
              " 'Fulfil',\n",
              " 'G',\n",
              " 'Gad',\n",
              " 'Gaham',\n",
              " 'Galeed',\n",
              " 'Gatam',\n",
              " 'Gather',\n",
              " 'Gaza',\n",
              " 'Gentiles',\n",
              " 'Gera',\n",
              " 'Gerar',\n",
              " 'Gershon',\n",
              " 'Get',\n",
              " 'Gether',\n",
              " 'Gihon',\n",
              " 'Gilead',\n",
              " 'Girgashites',\n",
              " 'Girgasite',\n",
              " 'Give',\n",
              " 'Go',\n",
              " 'God',\n",
              " 'Gomer',\n",
              " 'Gomorrah',\n",
              " 'Goshen',\n",
              " 'Guni',\n",
              " 'Hadad',\n",
              " 'Hadar',\n",
              " 'Hadoram',\n",
              " 'Hagar',\n",
              " 'Haggi',\n",
              " 'Hai',\n",
              " 'Ham',\n",
              " 'Hamathite',\n",
              " 'Hamor',\n",
              " 'Hamul',\n",
              " 'Hanoch',\n",
              " 'Happy',\n",
              " 'Haran',\n",
              " 'Hast',\n",
              " 'Haste',\n",
              " 'Have',\n",
              " 'Havilah',\n",
              " 'Hazarmaveth',\n",
              " 'Hazezontamar',\n",
              " 'Hazo',\n",
              " 'He',\n",
              " 'Hear',\n",
              " 'Heaven',\n",
              " 'Heber',\n",
              " 'Hebrew',\n",
              " 'Hebrews',\n",
              " 'Hebron',\n",
              " 'Hemam',\n",
              " 'Hemdan',\n",
              " 'Here',\n",
              " 'Hereby',\n",
              " 'Heth',\n",
              " 'Hezron',\n",
              " 'Hiddekel',\n",
              " 'Hinder',\n",
              " 'Hirah',\n",
              " 'His',\n",
              " 'Hitti',\n",
              " 'Hittite',\n",
              " 'Hittites',\n",
              " 'Hivite',\n",
              " 'Hobah',\n",
              " 'Hori',\n",
              " 'Horite',\n",
              " 'Horites',\n",
              " 'How',\n",
              " 'Hul',\n",
              " 'Huppim',\n",
              " 'Husham',\n",
              " 'Hushim',\n",
              " 'Huz',\n",
              " 'I',\n",
              " 'If',\n",
              " 'In',\n",
              " 'Irad',\n",
              " 'Iram',\n",
              " 'Is',\n",
              " 'Isa',\n",
              " 'Isaac',\n",
              " 'Iscah',\n",
              " 'Ishbak',\n",
              " 'Ishmael',\n",
              " 'Ishmeelites',\n",
              " 'Ishuah',\n",
              " 'Isra',\n",
              " 'Israel',\n",
              " 'Issachar',\n",
              " 'Isui',\n",
              " 'It',\n",
              " 'Ithran',\n",
              " 'Jaalam',\n",
              " 'Jabal',\n",
              " 'Jabbok',\n",
              " 'Jac',\n",
              " 'Jachin',\n",
              " 'Jacob',\n",
              " 'Jahleel',\n",
              " 'Jahzeel',\n",
              " 'Jamin',\n",
              " 'Japhe',\n",
              " 'Japheth',\n",
              " 'Jared',\n",
              " 'Javan',\n",
              " 'Jebusite',\n",
              " 'Jebusites',\n",
              " 'Jegarsahadutha',\n",
              " 'Jehovahjireh',\n",
              " 'Jemuel',\n",
              " 'Jerah',\n",
              " 'Jetheth',\n",
              " 'Jetur',\n",
              " 'Jeush',\n",
              " 'Jezer',\n",
              " 'Jidlaph',\n",
              " 'Jimnah',\n",
              " 'Job',\n",
              " 'Jobab',\n",
              " 'Jokshan',\n",
              " 'Joktan',\n",
              " 'Jordan',\n",
              " 'Joseph',\n",
              " 'Jubal',\n",
              " 'Judah',\n",
              " 'Judge',\n",
              " 'Judith',\n",
              " 'Kadesh',\n",
              " 'Kadmonites',\n",
              " 'Karnaim',\n",
              " 'Kedar',\n",
              " 'Kedemah',\n",
              " 'Kemuel',\n",
              " 'Kenaz',\n",
              " 'Kenites',\n",
              " 'Kenizzites',\n",
              " 'Keturah',\n",
              " 'Kiriathaim',\n",
              " 'Kirjatharba',\n",
              " 'Kittim',\n",
              " 'Know',\n",
              " 'Kohath',\n",
              " 'Kor',\n",
              " 'Korah',\n",
              " 'LO',\n",
              " 'LORD',\n",
              " 'Laban',\n",
              " 'Lahairoi',\n",
              " 'Lamech',\n",
              " 'Lasha',\n",
              " 'Lay',\n",
              " 'Leah',\n",
              " 'Lehabim',\n",
              " 'Lest',\n",
              " 'Let',\n",
              " 'Letushim',\n",
              " 'Leummim',\n",
              " 'Levi',\n",
              " 'Lie',\n",
              " 'Lift',\n",
              " 'Lo',\n",
              " 'Look',\n",
              " 'Lot',\n",
              " 'Lotan',\n",
              " 'Lud',\n",
              " 'Ludim',\n",
              " 'Luz',\n",
              " 'Maachah',\n",
              " 'Machir',\n",
              " 'Machpelah',\n",
              " 'Madai',\n",
              " 'Magdiel',\n",
              " 'Magog',\n",
              " 'Mahalaleel',\n",
              " 'Mahalath',\n",
              " 'Mahanaim',\n",
              " 'Make',\n",
              " 'Malchiel',\n",
              " 'Male',\n",
              " 'Mam',\n",
              " 'Mamre',\n",
              " 'Man',\n",
              " 'Manahath',\n",
              " 'Manass',\n",
              " 'Manasseh',\n",
              " 'Mash',\n",
              " 'Masrekah',\n",
              " 'Massa',\n",
              " 'Matred',\n",
              " 'Me',\n",
              " 'Medan',\n",
              " 'Mehetabel',\n",
              " 'Mehujael',\n",
              " 'Melchizedek',\n",
              " 'Merari',\n",
              " 'Mesha',\n",
              " 'Meshech',\n",
              " 'Mesopotamia',\n",
              " 'Methusa',\n",
              " 'Methusael',\n",
              " 'Methuselah',\n",
              " 'Mezahab',\n",
              " 'Mibsam',\n",
              " 'Mibzar',\n",
              " 'Midian',\n",
              " 'Midianites',\n",
              " 'Milcah',\n",
              " 'Mishma',\n",
              " 'Mizpah',\n",
              " 'Mizraim',\n",
              " 'Mizz',\n",
              " 'Moab',\n",
              " 'Moabites',\n",
              " 'Moreh',\n",
              " 'Moreover',\n",
              " 'Moriah',\n",
              " 'Muppim',\n",
              " 'My',\n",
              " 'Naamah',\n",
              " 'Naaman',\n",
              " 'Nahath',\n",
              " 'Nahor',\n",
              " 'Naphish',\n",
              " 'Naphtali',\n",
              " 'Naphtuhim',\n",
              " 'Nay',\n",
              " 'Nebajoth',\n",
              " 'Neither',\n",
              " 'Night',\n",
              " 'Nimrod',\n",
              " 'Nineveh',\n",
              " 'Noah',\n",
              " 'Nod',\n",
              " 'Not',\n",
              " 'Now',\n",
              " 'O',\n",
              " 'Obal',\n",
              " 'Of',\n",
              " 'Oh',\n",
              " 'Ohad',\n",
              " 'Omar',\n",
              " 'On',\n",
              " 'Onam',\n",
              " 'Onan',\n",
              " 'Only',\n",
              " 'Ophir',\n",
              " 'Our',\n",
              " 'Out',\n",
              " 'Padan',\n",
              " 'Padanaram',\n",
              " 'Paran',\n",
              " 'Pass',\n",
              " 'Pathrusim',\n",
              " 'Pau',\n",
              " 'Peace',\n",
              " 'Peleg',\n",
              " 'Peniel',\n",
              " 'Penuel',\n",
              " 'Peradventure',\n",
              " 'Perizzit',\n",
              " 'Perizzite',\n",
              " 'Perizzites',\n",
              " 'Phallu',\n",
              " 'Phara',\n",
              " 'Pharaoh',\n",
              " 'Pharez',\n",
              " 'Phichol',\n",
              " 'Philistim',\n",
              " 'Philistines',\n",
              " 'Phut',\n",
              " 'Phuvah',\n",
              " 'Pildash',\n",
              " 'Pinon',\n",
              " 'Pison',\n",
              " 'Potiphar',\n",
              " 'Potipherah',\n",
              " 'Put',\n",
              " 'Raamah',\n",
              " 'Rachel',\n",
              " 'Rameses',\n",
              " 'Rebek',\n",
              " 'Rebekah',\n",
              " 'Rehoboth',\n",
              " 'Remain',\n",
              " 'Rephaims',\n",
              " 'Resen',\n",
              " 'Return',\n",
              " 'Reu',\n",
              " 'Reub',\n",
              " 'Reuben',\n",
              " 'Reuel',\n",
              " 'Reumah',\n",
              " 'Riphath',\n",
              " 'Rosh',\n",
              " 'Sabtah',\n",
              " 'Sabtech',\n",
              " 'Said',\n",
              " 'Salah',\n",
              " 'Salem',\n",
              " 'Samlah',\n",
              " 'Sarah',\n",
              " 'Sarai',\n",
              " 'Saul',\n",
              " 'Save',\n",
              " 'Say',\n",
              " 'Se',\n",
              " 'Seba',\n",
              " 'See',\n",
              " 'Seeing',\n",
              " 'Seir',\n",
              " 'Sell',\n",
              " 'Send',\n",
              " 'Sephar',\n",
              " 'Serah',\n",
              " 'Sered',\n",
              " 'Serug',\n",
              " 'Set',\n",
              " 'Seth',\n",
              " 'Shalem',\n",
              " 'Shall',\n",
              " 'Shalt',\n",
              " 'Shammah',\n",
              " 'Shaul',\n",
              " 'Shaveh',\n",
              " 'She',\n",
              " 'Sheba',\n",
              " 'Shebah',\n",
              " 'Shechem',\n",
              " 'Shed',\n",
              " 'Shel',\n",
              " 'Shelah',\n",
              " 'Sheleph',\n",
              " 'Shem',\n",
              " 'Shemeber',\n",
              " 'Shepho',\n",
              " 'Shillem',\n",
              " 'Shiloh',\n",
              " 'Shimron',\n",
              " 'Shinab',\n",
              " 'Shinar',\n",
              " 'Shobal',\n",
              " 'Should',\n",
              " 'Shuah',\n",
              " 'Shuni',\n",
              " 'Shur',\n",
              " 'Sichem',\n",
              " 'Siddim',\n",
              " 'Sidon',\n",
              " 'Simeon',\n",
              " 'Sinite',\n",
              " 'Sitnah',\n",
              " 'Slay',\n",
              " 'So',\n",
              " 'Sod',\n",
              " 'Sodom',\n",
              " 'Sojourn',\n",
              " 'Some',\n",
              " 'Spake',\n",
              " 'Speak',\n",
              " 'Spirit',\n",
              " 'Stand',\n",
              " 'Succoth',\n",
              " 'Surely',\n",
              " 'Swear',\n",
              " 'Syrian',\n",
              " 'Take',\n",
              " 'Tamar',\n",
              " 'Tarshish',\n",
              " 'Tebah',\n",
              " 'Tell',\n",
              " 'Tema',\n",
              " 'Teman',\n",
              " 'Temani',\n",
              " 'Terah',\n",
              " 'Thahash',\n",
              " 'That',\n",
              " 'The',\n",
              " 'Then',\n",
              " 'There',\n",
              " 'Therefore',\n",
              " 'These',\n",
              " 'They',\n",
              " 'Thirty',\n",
              " 'This',\n",
              " 'Thorns',\n",
              " 'Thou',\n",
              " 'Thus',\n",
              " 'Thy',\n",
              " 'Tidal',\n",
              " 'Timna',\n",
              " 'Timnah',\n",
              " 'Timnath',\n",
              " 'Tiras',\n",
              " 'To',\n",
              " 'Togarmah',\n",
              " 'Tola',\n",
              " 'Tubal',\n",
              " 'Tubalcain',\n",
              " 'Twelve',\n",
              " 'Two',\n",
              " 'Unstable',\n",
              " 'Until',\n",
              " 'Unto',\n",
              " 'Up',\n",
              " 'Upon',\n",
              " 'Ur',\n",
              " 'Uz',\n",
              " 'Uzal',\n",
              " 'We',\n",
              " 'What',\n",
              " 'When',\n",
              " 'Whence',\n",
              " 'Where',\n",
              " 'Whereas',\n",
              " 'Wherefore',\n",
              " 'Which',\n",
              " 'While',\n",
              " 'Who',\n",
              " 'Whose',\n",
              " 'Whoso',\n",
              " 'Why',\n",
              " 'Wilt',\n",
              " 'With',\n",
              " 'Woman',\n",
              " 'Ye',\n",
              " 'Yea',\n",
              " 'Yet',\n",
              " 'Zaavan',\n",
              " 'Zaphnathpaaneah',\n",
              " 'Zar',\n",
              " 'Zarah',\n",
              " 'Zeboiim',\n",
              " 'Zeboim',\n",
              " 'Zebul',\n",
              " 'Zebulun',\n",
              " 'Zemarite',\n",
              " 'Zepho',\n",
              " 'Zerah',\n",
              " 'Zibeon',\n",
              " 'Zidon',\n",
              " 'Zillah',\n",
              " 'Zilpah',\n",
              " 'Zimran',\n",
              " 'Ziphion',\n",
              " 'Zo',\n",
              " 'Zoar',\n",
              " 'Zohar',\n",
              " 'Zuzims',\n",
              " 'a',\n",
              " 'abated',\n",
              " 'abide',\n",
              " 'able',\n",
              " 'abode',\n",
              " 'abomination',\n",
              " 'about',\n",
              " 'above',\n",
              " 'abroad',\n",
              " 'absent',\n",
              " 'abundantly',\n",
              " 'accept',\n",
              " 'accepted',\n",
              " 'according',\n",
              " 'acknowledged',\n",
              " 'activity',\n",
              " 'add',\n",
              " 'adder',\n",
              " 'afar',\n",
              " 'afflict',\n",
              " 'affliction',\n",
              " 'afraid',\n",
              " 'after',\n",
              " 'afterward',\n",
              " 'afterwards',\n",
              " 'aga',\n",
              " 'again',\n",
              " 'against',\n",
              " 'age',\n",
              " 'aileth',\n",
              " 'air',\n",
              " 'al',\n",
              " 'alive',\n",
              " 'all',\n",
              " 'almon',\n",
              " 'alo',\n",
              " 'alone',\n",
              " 'aloud',\n",
              " 'also',\n",
              " 'altar',\n",
              " 'altogether',\n",
              " 'always',\n",
              " 'am',\n",
              " 'among',\n",
              " 'amongst',\n",
              " 'an',\n",
              " 'and',\n",
              " 'angel',\n",
              " 'angels',\n",
              " 'anger',\n",
              " 'angry',\n",
              " 'anguish',\n",
              " 'anointedst',\n",
              " 'anoth',\n",
              " 'another',\n",
              " 'answer',\n",
              " 'answered',\n",
              " 'any',\n",
              " 'anything',\n",
              " 'appe',\n",
              " 'appear',\n",
              " 'appeared',\n",
              " 'appease',\n",
              " 'appoint',\n",
              " 'appointed',\n",
              " 'aprons',\n",
              " 'archer',\n",
              " 'archers',\n",
              " 'are',\n",
              " 'arise',\n",
              " 'ark',\n",
              " 'armed',\n",
              " 'arms',\n",
              " 'army',\n",
              " 'arose',\n",
              " 'arrayed',\n",
              " 'art',\n",
              " 'artificer',\n",
              " 'as',\n",
              " 'ascending',\n",
              " 'ash',\n",
              " 'ashamed',\n",
              " 'ask',\n",
              " 'asked',\n",
              " 'asketh',\n",
              " 'ass',\n",
              " 'assembly',\n",
              " 'asses',\n",
              " 'assigned',\n",
              " 'asswaged',\n",
              " 'at',\n",
              " 'attained',\n",
              " 'audience',\n",
              " 'avenged',\n",
              " 'aw',\n",
              " 'awaked',\n",
              " 'away',\n",
              " 'awoke',\n",
              " 'back',\n",
              " 'backward',\n",
              " 'bad',\n",
              " 'bade',\n",
              " 'badest',\n",
              " 'badne',\n",
              " 'bak',\n",
              " 'bake',\n",
              " 'bakemeats',\n",
              " 'baker',\n",
              " 'bakers',\n",
              " 'balm',\n",
              " 'bands',\n",
              " 'bank',\n",
              " 'bare',\n",
              " 'barr',\n",
              " 'barren',\n",
              " 'basket',\n",
              " 'baskets',\n",
              " 'battle',\n",
              " 'bdellium',\n",
              " 'be',\n",
              " 'bear',\n",
              " 'beari',\n",
              " 'bearing',\n",
              " 'beast',\n",
              " 'beasts',\n",
              " 'beautiful',\n",
              " 'became',\n",
              " 'because',\n",
              " 'become',\n",
              " 'bed',\n",
              " 'been',\n",
              " 'befall',\n",
              " 'befell',\n",
              " 'before',\n",
              " 'began',\n",
              " 'begat',\n",
              " 'beget',\n",
              " 'begettest',\n",
              " 'begin',\n",
              " 'beginning',\n",
              " 'begotten',\n",
              " 'beguiled',\n",
              " 'beheld',\n",
              " 'behind',\n",
              " 'behold',\n",
              " 'being',\n",
              " 'believed',\n",
              " 'belly',\n",
              " 'belong',\n",
              " 'beneath',\n",
              " 'bereaved',\n",
              " 'beside',\n",
              " 'besides',\n",
              " 'besought',\n",
              " 'best',\n",
              " 'betimes',\n",
              " 'better',\n",
              " 'between',\n",
              " 'betwixt',\n",
              " 'beyond',\n",
              " 'binding',\n",
              " 'bird',\n",
              " 'birds',\n",
              " 'birthday',\n",
              " 'birthright',\n",
              " 'biteth',\n",
              " 'bitter',\n",
              " 'blame',\n",
              " 'blameless',\n",
              " 'blasted',\n",
              " 'bless',\n",
              " 'blessed',\n",
              " 'blesseth',\n",
              " 'blessi',\n",
              " 'blessing',\n",
              " 'blessings',\n",
              " 'blindness',\n",
              " 'blood',\n",
              " 'blossoms',\n",
              " 'bodies',\n",
              " 'boldly',\n",
              " 'bondman',\n",
              " 'bondmen',\n",
              " 'bondwoman',\n",
              " 'bone',\n",
              " 'bones',\n",
              " 'book',\n",
              " 'booths',\n",
              " 'border',\n",
              " 'borders',\n",
              " 'born',\n",
              " 'bosom',\n",
              " 'both',\n",
              " 'bottle',\n",
              " 'bou',\n",
              " 'boug',\n",
              " 'bough',\n",
              " 'bought',\n",
              " 'bound',\n",
              " 'bow',\n",
              " 'bowed',\n",
              " 'bowels',\n",
              " 'bowing',\n",
              " 'boys',\n",
              " 'bracelets',\n",
              " 'branches',\n",
              " 'brass',\n",
              " 'bre',\n",
              " 'breach',\n",
              " 'bread',\n",
              " 'breadth',\n",
              " 'break',\n",
              " 'breaketh',\n",
              " 'breaking',\n",
              " 'breasts',\n",
              " 'breath',\n",
              " 'breathed',\n",
              " 'breed',\n",
              " 'brethren',\n",
              " 'brick',\n",
              " 'brimstone',\n",
              " 'bring',\n",
              " 'brink',\n",
              " 'broken',\n",
              " 'brook',\n",
              " 'broth',\n",
              " 'brother',\n",
              " 'brought',\n",
              " 'brown',\n",
              " 'bruise',\n",
              " 'budded',\n",
              " 'build',\n",
              " 'builded',\n",
              " 'built',\n",
              " 'bulls',\n",
              " 'bundle',\n",
              " 'bundles',\n",
              " 'burdens',\n",
              " 'buried',\n",
              " 'burn',\n",
              " 'burning',\n",
              " 'burnt',\n",
              " 'bury',\n",
              " 'buryingplace',\n",
              " 'business',\n",
              " 'but',\n",
              " 'butler',\n",
              " 'butlers',\n",
              " 'butlership',\n",
              " 'butter',\n",
              " 'buy',\n",
              " 'by',\n",
              " 'cakes',\n",
              " 'calf',\n",
              " 'call',\n",
              " 'called',\n",
              " 'came',\n",
              " 'camel',\n",
              " 'camels',\n",
              " 'camest',\n",
              " 'can',\n",
              " 'cannot',\n",
              " 'canst',\n",
              " 'captain',\n",
              " 'captive',\n",
              " 'captives',\n",
              " 'carcases',\n",
              " 'carried',\n",
              " 'carry',\n",
              " 'cast',\n",
              " 'castles',\n",
              " 'catt',\n",
              " 'cattle',\n",
              " 'caught',\n",
              " 'cause',\n",
              " 'caused',\n",
              " 'cave',\n",
              " 'cease',\n",
              " 'ceased',\n",
              " 'certain',\n",
              " 'certainly',\n",
              " 'chain',\n",
              " 'chamber',\n",
              " 'change',\n",
              " 'changed',\n",
              " 'changes',\n",
              " 'charge',\n",
              " 'charged',\n",
              " 'chariot',\n",
              " 'chariots',\n",
              " 'chesnut',\n",
              " 'chi',\n",
              " 'chief',\n",
              " 'child',\n",
              " 'childless',\n",
              " 'childr',\n",
              " 'children',\n",
              " 'chode',\n",
              " 'choice',\n",
              " 'chose',\n",
              " 'circumcis',\n",
              " 'circumcise',\n",
              " 'circumcised',\n",
              " 'citi',\n",
              " 'cities',\n",
              " 'city',\n",
              " 'clave',\n",
              " 'clean',\n",
              " 'clear',\n",
              " 'cleave',\n",
              " 'clo',\n",
              " 'closed',\n",
              " 'clothed',\n",
              " 'clothes',\n",
              " 'cloud',\n",
              " 'clusters',\n",
              " 'co',\n",
              " 'coat',\n",
              " 'coats',\n",
              " 'coffin',\n",
              " 'cold',\n",
              " ...]"
            ]
          },
          "execution_count": 22,
          "metadata": {},
          "output_type": "execute_result"
        }
      ]
    },
    {
      "cell_type": "code",
      "metadata": {
        "id": "4496345c-dee6-4767-bb6a-d52c122a2bfa",
        "outputId": "6ec47b10-91f7-4a84-f6f6-210cad12ff4d"
      },
      "source": [
        "len(set(text3))"
      ],
      "id": "4496345c-dee6-4767-bb6a-d52c122a2bfa",
      "execution_count": null,
      "outputs": [
        {
          "data": {
            "text/plain": [
              "2789"
            ]
          },
          "execution_count": 23,
          "metadata": {},
          "output_type": "execute_result"
        }
      ]
    },
    {
      "cell_type": "code",
      "metadata": {
        "id": "9e0c3ef7-1c31-4366-afdd-7910e2263735"
      },
      "source": [
        "from __future__ import division"
      ],
      "id": "9e0c3ef7-1c31-4366-afdd-7910e2263735",
      "execution_count": null,
      "outputs": []
    },
    {
      "cell_type": "code",
      "metadata": {
        "id": "e33091a7-0d4e-403a-89f1-664b8c670274",
        "outputId": "c7c3244b-4fd3-4113-a3e6-84e0f4998365"
      },
      "source": [
        "len(text3) / len(set(text3))"
      ],
      "id": "e33091a7-0d4e-403a-89f1-664b8c670274",
      "execution_count": null,
      "outputs": [
        {
          "data": {
            "text/plain": [
              "16.050197203298673"
            ]
          },
          "execution_count": 25,
          "metadata": {},
          "output_type": "execute_result"
        }
      ]
    },
    {
      "cell_type": "markdown",
      "metadata": {
        "id": "61c4a1a3-79cd-42cc-ae48-7774a046ad22"
      },
      "source": [
        "### 计数一个词在文本中出现的次数，计算一个特定的词\n",
        "### 在文本中占据的百分比。"
      ],
      "id": "61c4a1a3-79cd-42cc-ae48-7774a046ad22"
    },
    {
      "cell_type": "code",
      "metadata": {
        "id": "5785b102-5e4f-426b-9452-d22bbf725662",
        "outputId": "d89da3ed-e6de-4b1b-9744-a7bd916c2c57"
      },
      "source": [
        "text3.count(\"smote\")"
      ],
      "id": "5785b102-5e4f-426b-9452-d22bbf725662",
      "execution_count": null,
      "outputs": [
        {
          "data": {
            "text/plain": [
              "5"
            ]
          },
          "execution_count": 26,
          "metadata": {},
          "output_type": "execute_result"
        }
      ]
    },
    {
      "cell_type": "code",
      "metadata": {
        "id": "74e11267-9fff-43c5-a97d-f05a5fd26431",
        "outputId": "bc358cd9-0a68-445d-e841-26b24cddd5aa"
      },
      "source": [
        "100 * text4.count('a') / len(text4)"
      ],
      "id": "74e11267-9fff-43c5-a97d-f05a5fd26431",
      "execution_count": null,
      "outputs": [
        {
          "data": {
            "text/plain": [
              "1.457973123627309"
            ]
          },
          "execution_count": 27,
          "metadata": {},
          "output_type": "execute_result"
        }
      ]
    },
    {
      "cell_type": "markdown",
      "metadata": {
        "id": "f137a46c-df1f-413d-879a-a5fea0631cdd"
      },
      "source": [
        "### Q. ：text5 中 lol 出现了多少次？它占文本全部词数的百分比是多少？"
      ],
      "id": "f137a46c-df1f-413d-879a-a5fea0631cdd"
    },
    {
      "cell_type": "code",
      "metadata": {
        "id": "7df7dbe3-6964-455d-81e2-7485dfe19874",
        "outputId": "9aacb93f-d3b1-46ef-dbb6-e478a0ab6e5e"
      },
      "source": [
        "text5.count(\"lol\")"
      ],
      "id": "7df7dbe3-6964-455d-81e2-7485dfe19874",
      "execution_count": null,
      "outputs": [
        {
          "data": {
            "text/plain": [
              "704"
            ]
          },
          "execution_count": 29,
          "metadata": {},
          "output_type": "execute_result"
        }
      ]
    },
    {
      "cell_type": "code",
      "metadata": {
        "id": "822f7590-5d1a-449e-81aa-fc3bb58828f6",
        "outputId": "657d6bb1-befc-4612-c9ad-d3e84b8fe955"
      },
      "source": [
        "100 * text5.count(\"lol\") / len(text5)"
      ],
      "id": "822f7590-5d1a-449e-81aa-fc3bb58828f6",
      "execution_count": null,
      "outputs": [
        {
          "data": {
            "text/plain": [
              "1.5640968673628082"
            ]
          },
          "execution_count": 30,
          "metadata": {},
          "output_type": "execute_result"
        }
      ]
    },
    {
      "cell_type": "code",
      "metadata": {
        "id": "d09f564a-7d55-4768-bbf5-b6cd14a2da35"
      },
      "source": [
        "def lexical_diversity(text):\n",
        "    return len(text) / len(set(text))"
      ],
      "id": "d09f564a-7d55-4768-bbf5-b6cd14a2da35",
      "execution_count": null,
      "outputs": []
    },
    {
      "cell_type": "code",
      "metadata": {
        "id": "2af4cdc4-ef88-4c89-91e1-76251df51595"
      },
      "source": [
        "def percentage(count, total):\n",
        "    return 100 * count / total"
      ],
      "id": "2af4cdc4-ef88-4c89-91e1-76251df51595",
      "execution_count": null,
      "outputs": []
    },
    {
      "cell_type": "code",
      "metadata": {
        "id": "c9dc0644-c8c4-4416-a7a1-71a341839433"
      },
      "source": [
        "num = lexical_diversity('text5')"
      ],
      "id": "c9dc0644-c8c4-4416-a7a1-71a341839433",
      "execution_count": null,
      "outputs": []
    },
    {
      "cell_type": "code",
      "metadata": {
        "id": "6d571e1f-4a70-40fb-8b58-7d7373e3e0d7",
        "outputId": "63e2e759-e572-44d3-aa64-6a0ac1e29bd7"
      },
      "source": [
        "num"
      ],
      "id": "6d571e1f-4a70-40fb-8b58-7d7373e3e0d7",
      "execution_count": null,
      "outputs": [
        {
          "data": {
            "text/plain": [
              "1.25"
            ]
          },
          "execution_count": 34,
          "metadata": {},
          "output_type": "execute_result"
        }
      ]
    },
    {
      "cell_type": "code",
      "metadata": {
        "id": "7d28c670-ceef-447c-9b9f-f4da03842a0a"
      },
      "source": [
        "n2 = percentage(text5.count('god'), len(text5))"
      ],
      "id": "7d28c670-ceef-447c-9b9f-f4da03842a0a",
      "execution_count": null,
      "outputs": []
    },
    {
      "cell_type": "code",
      "metadata": {
        "id": "72a05562-ca5d-4730-98ca-035e7ca7fe9f",
        "outputId": "0bf03658-8698-4d75-ea21-423574a6e754"
      },
      "source": [
        "n2"
      ],
      "id": "72a05562-ca5d-4730-98ca-035e7ca7fe9f",
      "execution_count": null,
      "outputs": [
        {
          "data": {
            "text/plain": [
              "0.013330371028660297"
            ]
          },
          "execution_count": 36,
          "metadata": {},
          "output_type": "execute_result"
        }
      ]
    },
    {
      "cell_type": "code",
      "metadata": {
        "id": "00b76e84-93a6-46d6-91ea-8f87dcddbce3",
        "outputId": "ab722b05-f413-4b6e-cd7c-2f75dc628bbe"
      },
      "source": [
        "lexical_diversity(text3)"
      ],
      "id": "00b76e84-93a6-46d6-91ea-8f87dcddbce3",
      "execution_count": null,
      "outputs": [
        {
          "data": {
            "text/plain": [
              "16.050197203298673"
            ]
          },
          "execution_count": 37,
          "metadata": {},
          "output_type": "execute_result"
        }
      ]
    },
    {
      "cell_type": "code",
      "metadata": {
        "id": "ddc8a853-1af2-463b-ba84-4d4e60fa226c",
        "outputId": "713a2ff8-dd1a-4d6b-f484-088d4bad317c"
      },
      "source": [
        "lexical_diversity(text5)"
      ],
      "id": "ddc8a853-1af2-463b-ba84-4d4e60fa226c",
      "execution_count": null,
      "outputs": [
        {
          "data": {
            "text/plain": [
              "7.420046158918563"
            ]
          },
          "execution_count": 38,
          "metadata": {},
          "output_type": "execute_result"
        }
      ]
    },
    {
      "cell_type": "code",
      "metadata": {
        "id": "d223f36f-1172-454c-b1ef-95fc75fb2c33",
        "outputId": "869a42c0-f042-4a87-a7db-2d8be181513a"
      },
      "source": [
        "percentage(4, 5)"
      ],
      "id": "d223f36f-1172-454c-b1ef-95fc75fb2c33",
      "execution_count": null,
      "outputs": [
        {
          "data": {
            "text/plain": [
              "80.0"
            ]
          },
          "execution_count": 39,
          "metadata": {},
          "output_type": "execute_result"
        }
      ]
    },
    {
      "cell_type": "code",
      "metadata": {
        "id": "278cf904-da98-439b-b529-d3222bc7797e",
        "outputId": "5d81d6cf-b9c8-4044-faf2-4c3cea41f22c"
      },
      "source": [
        "percentage(text4.count('a'), len(text4))"
      ],
      "id": "278cf904-da98-439b-b529-d3222bc7797e",
      "execution_count": null,
      "outputs": [
        {
          "data": {
            "text/plain": [
              "1.457973123627309"
            ]
          },
          "execution_count": 40,
          "metadata": {},
          "output_type": "execute_result"
        }
      ]
    },
    {
      "cell_type": "markdown",
      "metadata": {
        "id": "7a3487b8-d090-492f-98e1-1e20fd34fdb7"
      },
      "source": [
        "### Define words"
      ],
      "id": "7a3487b8-d090-492f-98e1-1e20fd34fdb7"
    },
    {
      "cell_type": "code",
      "metadata": {
        "id": "2c1567c3-a30e-4049-84ed-6bd516a6080e"
      },
      "source": [
        "sent1 = ['Call', 'me', 'Ishmael', '.']"
      ],
      "id": "2c1567c3-a30e-4049-84ed-6bd516a6080e",
      "execution_count": null,
      "outputs": []
    },
    {
      "cell_type": "code",
      "metadata": {
        "id": "8e89d564-f4b8-4abd-ba68-3d337c25dc9c",
        "outputId": "f502a27c-ba3d-4afe-85c7-f4973d149b36"
      },
      "source": [
        "sent1"
      ],
      "id": "8e89d564-f4b8-4abd-ba68-3d337c25dc9c",
      "execution_count": null,
      "outputs": [
        {
          "data": {
            "text/plain": [
              "['Call', 'me', 'Ishmael', '.']"
            ]
          },
          "execution_count": 42,
          "metadata": {},
          "output_type": "execute_result"
        }
      ]
    },
    {
      "cell_type": "code",
      "metadata": {
        "id": "dea113eb-3864-44a0-9dad-ba42a308911b",
        "outputId": "39d7a355-dda9-478e-c44d-7ec405cb6f6e"
      },
      "source": [
        "len(sent1)"
      ],
      "id": "dea113eb-3864-44a0-9dad-ba42a308911b",
      "execution_count": null,
      "outputs": [
        {
          "data": {
            "text/plain": [
              "4"
            ]
          },
          "execution_count": 43,
          "metadata": {},
          "output_type": "execute_result"
        }
      ]
    },
    {
      "cell_type": "code",
      "metadata": {
        "id": "382e91bb-ed1f-4f6d-a217-e225135a80cb",
        "outputId": "f9e082ea-cdcd-424a-a372-12dae7490745"
      },
      "source": [
        "lexical_diversity(sent1)"
      ],
      "id": "382e91bb-ed1f-4f6d-a217-e225135a80cb",
      "execution_count": null,
      "outputs": [
        {
          "data": {
            "text/plain": [
              "1.0"
            ]
          },
          "execution_count": 44,
          "metadata": {},
          "output_type": "execute_result"
        }
      ]
    },
    {
      "cell_type": "code",
      "metadata": {
        "id": "a2d90674-a6df-4641-aadb-7f8d675ed921"
      },
      "source": [
        "from nltk.book import *"
      ],
      "id": "a2d90674-a6df-4641-aadb-7f8d675ed921",
      "execution_count": null,
      "outputs": []
    },
    {
      "cell_type": "code",
      "metadata": {
        "id": "8523d49e-7b29-4ca8-85c3-c6b2ca8e10a2",
        "outputId": "f40de853-59ec-44f4-cd23-4e70f2e83c08"
      },
      "source": [
        "sent2"
      ],
      "id": "8523d49e-7b29-4ca8-85c3-c6b2ca8e10a2",
      "execution_count": null,
      "outputs": [
        {
          "data": {
            "text/plain": [
              "['The',\n",
              " 'family',\n",
              " 'of',\n",
              " 'Dashwood',\n",
              " 'had',\n",
              " 'long',\n",
              " 'been',\n",
              " 'settled',\n",
              " 'in',\n",
              " 'Sussex',\n",
              " '.']"
            ]
          },
          "execution_count": 46,
          "metadata": {},
          "output_type": "execute_result"
        }
      ]
    },
    {
      "cell_type": "code",
      "metadata": {
        "id": "ebe7483e-ec4d-4b2c-837c-9c63fd8dd115",
        "outputId": "fa27f1f4-f4c3-4937-cd09-3ab80ed74af1"
      },
      "source": [
        "sent3"
      ],
      "id": "ebe7483e-ec4d-4b2c-837c-9c63fd8dd115",
      "execution_count": null,
      "outputs": [
        {
          "data": {
            "text/plain": [
              "['In',\n",
              " 'the',\n",
              " 'beginning',\n",
              " 'God',\n",
              " 'created',\n",
              " 'the',\n",
              " 'heaven',\n",
              " 'and',\n",
              " 'the',\n",
              " 'earth',\n",
              " '.']"
            ]
          },
          "execution_count": 47,
          "metadata": {},
          "output_type": "execute_result"
        }
      ]
    },
    {
      "cell_type": "markdown",
      "metadata": {
        "id": "8f3abda1-0947-442b-b461-db9169533f31"
      },
      "source": [
        "### 轮到你来：通过输入名字、等号和一个词链表, 组建一些你自己的句子，如 \n",
        "ex1= ['Monty', 'Python', 'and', 'the', 'Holy', 'Grail']。\n",
        "### 重复一些我们先前在 1.1节看到的其他 Python 操作，\n",
        "### 如：\n",
        "* sorted(ex1)，\n",
        "* len(set(ex1))，\n",
        "* ex1.count('the')。"
      ],
      "id": "8f3abda1-0947-442b-b461-db9169533f31"
    },
    {
      "cell_type": "code",
      "metadata": {
        "id": "cf9a50ff-fcbc-4165-ad07-2a597b5ab8f9"
      },
      "source": [
        "slist = ['Monty', 'Python'] + ['and', 'the', 'Holy', 'Grail']"
      ],
      "id": "cf9a50ff-fcbc-4165-ad07-2a597b5ab8f9",
      "execution_count": null,
      "outputs": []
    },
    {
      "cell_type": "code",
      "metadata": {
        "id": "6f2afe9a-3265-4a6b-983f-6e819ce63140",
        "outputId": "0a5dc46b-4808-4e4b-dfb8-fb943724159c"
      },
      "source": [
        "slist"
      ],
      "id": "6f2afe9a-3265-4a6b-983f-6e819ce63140",
      "execution_count": null,
      "outputs": [
        {
          "data": {
            "text/plain": [
              "['Monty', 'Python', 'and', 'the', 'Holy', 'Grail']"
            ]
          },
          "execution_count": 49,
          "metadata": {},
          "output_type": "execute_result"
        }
      ]
    },
    {
      "cell_type": "code",
      "metadata": {
        "id": "f11eb556-2622-4c29-bdcf-aac7aa5ff2ae",
        "outputId": "30da470a-e8ee-496b-cda6-7d8125efd70c"
      },
      "source": [
        "sent4 + sent1"
      ],
      "id": "f11eb556-2622-4c29-bdcf-aac7aa5ff2ae",
      "execution_count": null,
      "outputs": [
        {
          "data": {
            "text/plain": [
              "['Fellow',\n",
              " '-',\n",
              " 'Citizens',\n",
              " 'of',\n",
              " 'the',\n",
              " 'Senate',\n",
              " 'and',\n",
              " 'of',\n",
              " 'the',\n",
              " 'House',\n",
              " 'of',\n",
              " 'Representatives',\n",
              " ':',\n",
              " 'Call',\n",
              " 'me',\n",
              " 'Ishmael',\n",
              " '.']"
            ]
          },
          "execution_count": 50,
          "metadata": {},
          "output_type": "execute_result"
        }
      ]
    },
    {
      "cell_type": "code",
      "metadata": {
        "id": "36cddaa2-ea5f-49a6-9bbc-d1e1b374539c"
      },
      "source": [
        "sent1.append(\"Some\")"
      ],
      "id": "36cddaa2-ea5f-49a6-9bbc-d1e1b374539c",
      "execution_count": null,
      "outputs": []
    },
    {
      "cell_type": "code",
      "metadata": {
        "id": "2cc77c92-c66d-4fc9-b5ec-51945e7eaf51",
        "outputId": "a16ce679-1819-4983-fdd1-c8a76fd2de00"
      },
      "source": [
        "sent1"
      ],
      "id": "2cc77c92-c66d-4fc9-b5ec-51945e7eaf51",
      "execution_count": null,
      "outputs": [
        {
          "data": {
            "text/plain": [
              "['Call', 'me', 'Ishmael', '.', 'Some']"
            ]
          },
          "execution_count": 52,
          "metadata": {},
          "output_type": "execute_result"
        }
      ]
    },
    {
      "cell_type": "code",
      "metadata": {
        "id": "df95c381-5068-4d94-a880-0a4aadec2097",
        "outputId": "59e1bda5-4636-4173-8b54-2f94ea0a5194"
      },
      "source": [
        "text4[173]"
      ],
      "id": "df95c381-5068-4d94-a880-0a4aadec2097",
      "execution_count": null,
      "outputs": [
        {
          "data": {
            "text/plain": [
              "'awaken'"
            ]
          },
          "execution_count": 53,
          "metadata": {},
          "output_type": "execute_result"
        }
      ]
    },
    {
      "cell_type": "code",
      "metadata": {
        "id": "e02ccb1b-0094-4304-8ff0-638851692b09",
        "outputId": "588b4f10-3536-4c1c-f052-01240ca9ee36"
      },
      "source": [
        "text4.index('awaken')"
      ],
      "id": "e02ccb1b-0094-4304-8ff0-638851692b09",
      "execution_count": null,
      "outputs": [
        {
          "data": {
            "text/plain": [
              "173"
            ]
          },
          "execution_count": 54,
          "metadata": {},
          "output_type": "execute_result"
        }
      ]
    },
    {
      "cell_type": "code",
      "metadata": {
        "id": "c97969d8-0957-4b55-b4db-69bbc59df177",
        "outputId": "0b0f4828-4d33-4f8f-deb4-15fe8685009e"
      },
      "source": [
        "text5[16715:16735]"
      ],
      "id": "c97969d8-0957-4b55-b4db-69bbc59df177",
      "execution_count": null,
      "outputs": [
        {
          "data": {
            "text/plain": [
              "['U86',\n",
              " 'thats',\n",
              " 'why',\n",
              " 'something',\n",
              " 'like',\n",
              " 'gamefly',\n",
              " 'is',\n",
              " 'so',\n",
              " 'good',\n",
              " 'because',\n",
              " 'you',\n",
              " 'can',\n",
              " 'actually',\n",
              " 'play',\n",
              " 'a',\n",
              " 'full',\n",
              " 'game',\n",
              " 'without',\n",
              " 'buying',\n",
              " 'it']"
            ]
          },
          "execution_count": 55,
          "metadata": {},
          "output_type": "execute_result"
        }
      ]
    },
    {
      "cell_type": "code",
      "metadata": {
        "id": "00c0c889-d86d-4c99-a5a5-f9a8fa5c4a13"
      },
      "source": [
        ""
      ],
      "id": "00c0c889-d86d-4c99-a5a5-f9a8fa5c4a13",
      "execution_count": null,
      "outputs": []
    }
  ]
}