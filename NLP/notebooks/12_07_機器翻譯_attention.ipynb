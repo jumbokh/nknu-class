{
 "cells": [
  {
   "cell_type": "markdown",
   "metadata": {
    "id": "s_qNSzzyaCbD"
   },
   "source": [
    "# 使用Sequence to Sequence 模型，英翻中\n",
    "### 程式修改自 [Neural machine translation with attention](https://www.tensorflow.org/tutorials/text/nmt_with_attention)"
   ]
  },
  {
   "cell_type": "code",
   "execution_count": 2,
   "metadata": {
    "execution": {
     "iopub.execute_input": "2021-04-02T02:05:46.319060Z",
     "iopub.status.busy": "2021-04-02T02:05:46.318253Z",
     "iopub.status.idle": "2021-04-02T02:05:53.942328Z",
     "shell.execute_reply": "2021-04-02T02:05:53.941694Z"
    },
    "id": "tnxXKDjq3jEL"
   },
   "outputs": [],
   "source": [
    "# 載入相關套件\n",
    "import tensorflow as tf\n",
    "import matplotlib.pyplot as plt\n",
    "import matplotlib.ticker as ticker\n",
    "from sklearn.model_selection import train_test_split\n",
    "import unicodedata\n",
    "import re\n",
    "import numpy as np\n",
    "import os\n",
    "import io\n",
    "import time"
   ]
  },
  {
   "cell_type": "markdown",
   "metadata": {},
   "source": [
    "## 資料前置處理函數"
   ]
  },
  {
   "cell_type": "code",
   "execution_count": 3,
   "metadata": {
    "execution": {
     "iopub.execute_input": "2021-04-02T02:05:54.230405Z",
     "iopub.status.busy": "2021-04-02T02:05:54.229722Z",
     "iopub.status.idle": "2021-04-02T02:05:54.232166Z",
     "shell.execute_reply": "2021-04-02T02:05:54.231684Z"
    },
    "id": "rd0jw-eC3jEh"
   },
   "outputs": [],
   "source": [
    "# 將 unicode 轉為 ascii 內碼的函數\n",
    "def unicode_to_ascii(s):\n",
    "    return ''.join(c for c in unicodedata.normalize('NFD', s)\n",
    "                                 if unicodedata.category(c) != 'Mn')\n",
    "\n",
    "# 去除特殊符號的函數\n",
    "def preprocess_sentence(w):\n",
    "    w = unicode_to_ascii(w.lower().strip())\n",
    "\n",
    "    w = re.sub(r\"([?.!,¿])\", r\" \\1 \", w)\n",
    "    w = re.sub(r'[\" \"]+', \" \", w)\n",
    "    w = re.sub(r\"[^a-zA-Z?.!,¿]+\", \" \", w)\n",
    "    w = w.strip()\n",
    "\n",
    "    # 前後加特殊字串，讓模型知道語句的開頭與結尾\n",
    "    w = '<start> ' + w + ' <end>'\n",
    "    return w"
   ]
  },
  {
   "cell_type": "code",
   "execution_count": 40,
   "metadata": {
    "execution": {
     "iopub.execute_input": "2021-04-02T02:05:54.237054Z",
     "iopub.status.busy": "2021-04-02T02:05:54.236326Z",
     "iopub.status.idle": "2021-04-02T02:05:54.238623Z",
     "shell.execute_reply": "2021-04-02T02:05:54.239050Z"
    },
    "id": "opI2GzOt479E"
   },
   "outputs": [
    {
     "name": "stdout",
     "output_type": "stream",
     "text": [
      "<start> may i borrow this book ? <end>\n",
      "b'<start> \\xc2\\xbf puedo tomar prestado este libro ? <end>'\n"
     ]
    }
   ],
   "source": [
    "# 測試\n",
    "en_sentence = u\"May I borrow this book?\"\n",
    "sp_sentence = u\"¿Puedo tomar prestado este libro?\"\n",
    "print(preprocess_sentence(en_sentence))\n",
    "print(preprocess_sentence(sp_sentence).encode('utf-8'))"
   ]
  },
  {
   "cell_type": "markdown",
   "metadata": {},
   "source": [
    "## 讀取訓練資料檔"
   ]
  },
  {
   "cell_type": "code",
   "execution_count": 44,
   "metadata": {
    "execution": {
     "iopub.execute_input": "2021-04-02T02:05:54.244176Z",
     "iopub.status.busy": "2021-04-02T02:05:54.243533Z",
     "iopub.status.idle": "2021-04-02T02:05:54.245253Z",
     "shell.execute_reply": "2021-04-02T02:05:54.245661Z"
    },
    "id": "OHn4Dct23jEm"
   },
   "outputs": [
    {
     "name": "stdout",
     "output_type": "stream",
     "text": [
      "<start> if you want to sound like a native speaker , you must be willing to practice saying the same sentence over and over in the same way that banjo players practice the same phrase over and over until they can play it correctly and at the desired tempo . <end>\n",
      "<start> si quieres sonar como un hablante nativo , debes estar dispuesto a practicar diciendo la misma frase una y otra vez de la misma manera en que un musico de banjo practica el mismo fraseo una y otra vez hasta que lo puedan tocar correctamente y en el tiempo esperado . <end>\n"
     ]
    }
   ],
   "source": [
    "# 讀取訓練資料檔，轉成對照表\n",
    "def create_dataset(path, num_examples):\n",
    "    lines = io.open(path, encoding='UTF-8').read().strip().split('\\n')\n",
    "    \n",
    "    word_pairs = [[preprocess_sentence(w) for w in line.split('\\t')[0:2]]\n",
    "                for line in lines[:num_examples]]\n",
    "\n",
    "    return zip(*word_pairs)\n",
    "\n",
    "# 讀取訓練資料檔\n",
    "path_to_file='./RNN/spa.txt'\n",
    "en, sp = create_dataset(path_to_file, None)\n",
    "\n",
    "# 顯示最後一句對照\n",
    "print(en[-1])\n",
    "print(sp[-1])"
   ]
  },
  {
   "cell_type": "markdown",
   "metadata": {},
   "source": [
    "## 分詞、建立 dataset"
   ]
  },
  {
   "cell_type": "code",
   "execution_count": 16,
   "metadata": {
    "execution": {
     "iopub.execute_input": "2021-04-02T02:05:58.956299Z",
     "iopub.status.busy": "2021-04-02T02:05:58.955657Z",
     "iopub.status.idle": "2021-04-02T02:06:00.872187Z",
     "shell.execute_reply": "2021-04-02T02:06:00.871006Z"
    },
    "id": "cnxC7q-j3jFD"
   },
   "outputs": [],
   "source": [
    "# 分詞\n",
    "def tokenize(lang):\n",
    "    lang_tokenizer = tf.keras.preprocessing.text.Tokenizer(filters='')\n",
    "    lang_tokenizer.fit_on_texts(lang)\n",
    "    # 文字轉索引值\n",
    "    tensor = lang_tokenizer.texts_to_sequences(lang)\n",
    "    # 長度不足補 0\n",
    "    tensor = tf.keras.preprocessing.sequence.pad_sequences(tensor,\n",
    "                                                           padding='post')\n",
    "\n",
    "    return tensor, lang_tokenizer\n",
    "\n",
    "# 建立 dataset\n",
    "def load_dataset(path, num_examples=None):\n",
    "    targ_lang, inp_lang = create_dataset(path, num_examples)\n",
    "\n",
    "    input_tensor, inp_lang_tokenizer = tokenize(inp_lang)\n",
    "    target_tensor, targ_lang_tokenizer = tokenize(targ_lang)\n",
    "\n",
    "    return input_tensor, target_tensor, inp_lang_tokenizer, targ_lang_tokenizer\n",
    "\n",
    "# 限制 30000 筆訓練資料\n",
    "num_examples = 30000\n",
    "input_tensor, target_tensor, inp_lang, targ_lang = load_dataset(path_to_file,\n",
    "                                                                num_examples)\n",
    "\n",
    "# 計算語句最大長度\n",
    "max_length_targ, max_length_inp = target_tensor.shape[1], input_tensor.shape[1]"
   ]
  },
  {
   "cell_type": "code",
   "execution_count": 42,
   "metadata": {
    "execution": {
     "iopub.execute_input": "2021-04-02T02:06:00.877965Z",
     "iopub.status.busy": "2021-04-02T02:06:00.877301Z",
     "iopub.status.idle": "2021-04-02T02:06:00.885478Z",
     "shell.execute_reply": "2021-04-02T02:06:00.885907Z"
    },
    "id": "4QILQkOs3jFG"
   },
   "outputs": [
    {
     "data": {
      "text/plain": [
       "(24000, 6000)"
      ]
     },
     "execution_count": 42,
     "metadata": {},
     "output_type": "execute_result"
    }
   ],
   "source": [
    "# 資料切割\n",
    "input_tensor_train, input_tensor_val, target_tensor_train, target_tensor_val = \\\n",
    "    train_test_split(input_tensor, target_tensor, test_size=0.2)\n",
    "\n",
    "len(input_tensor_train), len(input_tensor_val)"
   ]
  },
  {
   "cell_type": "code",
   "execution_count": 19,
   "metadata": {
    "execution": {
     "iopub.execute_input": "2021-04-02T02:06:00.896593Z",
     "iopub.status.busy": "2021-04-02T02:06:00.895919Z",
     "iopub.status.idle": "2021-04-02T02:06:00.899899Z",
     "shell.execute_reply": "2021-04-02T02:06:00.900291Z"
    },
    "id": "VXukARTDd7MT",
    "scrolled": true
   },
   "outputs": [
    {
     "name": "stdout",
     "output_type": "stream",
     "text": [
      "Input Language; index to word mapping\n",
      "1 ----> <start>\n",
      "30 ----> tu\n",
      "64 ----> nos\n",
      "18 ----> lo\n",
      "3296 ----> ensenaste\n",
      "3 ----> .\n",
      "2 ----> <end>\n",
      "\n",
      "Target Language; index to word mapping\n",
      "1 ----> <start>\n",
      "5 ----> you\n",
      "931 ----> taught\n",
      "81 ----> us\n",
      "19 ----> that\n",
      "3 ----> .\n",
      "2 ----> <end>\n"
     ]
    }
   ],
   "source": [
    "# 索引值轉換字詞\n",
    "def convert(lang, tensor):\n",
    "    for t in tensor:\n",
    "        if t != 0:\n",
    "            print(f'{t} ----> {lang.index_word[t]}')\n",
    "\n",
    "print(\"Input Language; index to word mapping\")\n",
    "convert(inp_lang, input_tensor_train[0])\n",
    "print()\n",
    "print(\"Target Language; index to word mapping\")\n",
    "convert(targ_lang, target_tensor_train[0])"
   ]
  },
  {
   "cell_type": "markdown",
   "metadata": {
    "id": "rgCLkfv5uO3d"
   },
   "source": [
    "## 參數設定"
   ]
  },
  {
   "cell_type": "code",
   "execution_count": null,
   "metadata": {
    "execution": {
     "iopub.execute_input": "2021-04-02T02:06:02.295930Z",
     "iopub.status.busy": "2021-04-02T02:06:02.295179Z",
     "iopub.status.idle": "2021-04-02T02:06:02.299622Z",
     "shell.execute_reply": "2021-04-02T02:06:02.300061Z"
    },
    "id": "TqHsArVZ3jFS"
   },
   "outputs": [],
   "source": [
    "# 參數設定\n",
    "BUFFER_SIZE = len(input_tensor_train) # Dataset的緩衝區大小\n",
    "BATCH_SIZE = 64                       # 批量\n",
    "steps_per_epoch = len(input_tensor_train)//BATCH_SIZE # 每週期包含的步驟數\n",
    "embedding_dim = 256                   # 嵌入層的輸出維度\n",
    "units = 1024                          # GRU 輸出維度\n",
    "vocab_inp_size = len(inp_lang.word_index)+1  # 原始語言的字彙表大小\n",
    "vocab_tar_size = len(targ_lang.word_index)+1 # 目標語言的字彙表大小"
   ]
  },
  {
   "cell_type": "markdown",
   "metadata": {
    "id": "rgCLkfv5uO3d"
   },
   "source": [
    "## 建立 dataset"
   ]
  },
  {
   "cell_type": "code",
   "execution_count": 20,
   "metadata": {
    "execution": {
     "iopub.execute_input": "2021-04-02T02:06:02.295930Z",
     "iopub.status.busy": "2021-04-02T02:06:02.295179Z",
     "iopub.status.idle": "2021-04-02T02:06:02.299622Z",
     "shell.execute_reply": "2021-04-02T02:06:02.300061Z"
    },
    "id": "TqHsArVZ3jFS"
   },
   "outputs": [],
   "source": [
    "# 建立 dataset\n",
    "dataset = tf.data.Dataset.from_tensor_slices(\n",
    "    (input_tensor_train, target_tensor_train)).shuffle(BUFFER_SIZE)\n",
    "dataset = dataset.batch(BATCH_SIZE, drop_remainder=True)"
   ]
  },
  {
   "cell_type": "code",
   "execution_count": 21,
   "metadata": {
    "execution": {
     "iopub.execute_input": "2021-04-02T02:06:02.306484Z",
     "iopub.status.busy": "2021-04-02T02:06:02.303896Z",
     "iopub.status.idle": "2021-04-02T02:06:02.343281Z",
     "shell.execute_reply": "2021-04-02T02:06:02.343717Z"
    },
    "id": "qc6-NK1GtWQt"
   },
   "outputs": [
    {
     "data": {
      "text/plain": [
       "(TensorShape([64, 19]), TensorShape([64, 11]))"
      ]
     },
     "execution_count": 21,
     "metadata": {},
     "output_type": "execute_result"
    }
   ],
   "source": [
    "# 測試\n",
    "example_input_batch, example_target_batch = next(iter(dataset))\n",
    "example_input_batch.shape, example_target_batch.shape"
   ]
  },
  {
   "cell_type": "markdown",
   "metadata": {
    "id": "TNfHIF71ulLu"
   },
   "source": [
    "## Encoder/decoder 及注意力(Attention)機制說明\n",
    "\n",
    "Implement an encoder-decoder model with attention which you can read about in the TensorFlow [Neural Machine Translation (seq2seq) tutorial](https://github.com/tensorflow/nmt). This example uses a more recent set of APIs. This notebook implements the [attention equations](https://github.com/tensorflow/nmt#background-on-the-attention-mechanism) from the seq2seq tutorial. The following diagram shows that each input words is assigned a weight by the attention mechanism which is then used by the decoder to predict the next word in the sentence. The below picture and formulas are an example of attention mechanism from [Luong's paper](https://arxiv.org/abs/1508.04025v5). \n",
    "\n",
    "<img src=\"https://www.tensorflow.org/images/seq2seq/attention_mechanism.jpg\" width=\"500\" alt=\"attention mechanism\">\n",
    "\n",
    "The input is put through an encoder model which gives us the encoder output of shape *(batch_size, max_length, hidden_size)* and the encoder hidden state of shape *(batch_size, hidden_size)*.\n",
    "\n",
    "Here are the equations that are implemented:\n",
    "\n",
    "<img src=\"https://www.tensorflow.org/images/seq2seq/attention_equation_0.jpg\" alt=\"attention equation 0\" width=\"800\">\n",
    "<img src=\"https://www.tensorflow.org/images/seq2seq/attention_equation_1.jpg\" alt=\"attention equation 1\" width=\"800\">\n",
    "\n",
    "This tutorial uses [Bahdanau attention](https://arxiv.org/pdf/1409.0473.pdf) for the encoder. Let's decide on notation before writing the simplified form:\n",
    "\n",
    "* FC = Fully connected (dense) layer\n",
    "* EO = Encoder output\n",
    "* H = hidden state\n",
    "* X = input to the decoder\n",
    "\n",
    "And the pseudo-code:\n",
    "\n",
    "* `score = FC(tanh(FC(EO) + FC(H)))`\n",
    "* `attention weights = softmax(score, axis = 1)`. Softmax by default is applied on the last axis but here we want to apply it on the *1st axis*, since the shape of score is *(batch_size, max_length, hidden_size)*. `Max_length` is the length of our input. Since we are trying to assign a weight to each input, softmax should be applied on that axis.\n",
    "* `context vector = sum(attention weights * EO, axis = 1)`. Same reason as above for choosing axis as 1.\n",
    "* `embedding output` = The input to the decoder X is passed through an embedding layer.\n",
    "* `merged vector = concat(embedding output, context vector)`\n",
    "* This merged vector is then given to the GRU\n",
    "\n",
    "The shapes of all the vectors at each step have been specified in the comments in the code:"
   ]
  },
  {
   "cell_type": "code",
   "execution_count": 45,
   "metadata": {
    "execution": {
     "iopub.execute_input": "2021-04-02T02:06:02.350331Z",
     "iopub.status.busy": "2021-04-02T02:06:02.349711Z",
     "iopub.status.idle": "2021-04-02T02:06:02.351948Z",
     "shell.execute_reply": "2021-04-02T02:06:02.351453Z"
    },
    "id": "nZ2rI24i3jFg"
   },
   "outputs": [
    {
     "name": "stdout",
     "output_type": "stream",
     "text": [
      "編碼器輸出維度: (批量, 語句長度, 輸出)= (64, 19, 1024)\n",
      "編碼器隱藏層輸出維度: (批量, 輸出)= (64, 1024)\n"
     ]
    }
   ],
   "source": [
    "# 建立模型編碼器\n",
    "class Encoder(tf.keras.Model):\n",
    "    def __init__(self, vocab_size, embedding_dim, enc_units, batch_sz):\n",
    "        super(Encoder, self).__init__()\n",
    "        self.batch_sz = batch_sz\n",
    "        self.enc_units = enc_units\n",
    "        self.embedding = tf.keras.layers.Embedding(vocab_size, embedding_dim)\n",
    "        self.gru = tf.keras.layers.GRU(self.enc_units,\n",
    "                         return_sequences=True, return_state=True,\n",
    "                         recurrent_initializer='glorot_uniform')\n",
    "\n",
    "    def call(self, x, hidden):\n",
    "        x = self.embedding(x)\n",
    "        output, state = self.gru(x, initial_state=hidden)\n",
    "        return output, state\n",
    "\n",
    "    def initialize_hidden_state(self):\n",
    "        return tf.zeros((self.batch_sz, self.enc_units))\n",
    "\n",
    "encoder = Encoder(vocab_inp_size, embedding_dim, units, BATCH_SIZE)\n",
    "\n",
    "# 測試\n",
    "sample_hidden = encoder.initialize_hidden_state()\n",
    "sample_output, sample_hidden = encoder(example_input_batch, sample_hidden)\n",
    "print('編碼器輸出維度: (批量, 語句長度, 輸出) =', sample_output.shape)\n",
    "print('編碼器隱藏層輸出維度: (批量, 輸出) =', sample_hidden.shape)"
   ]
  },
  {
   "cell_type": "code",
   "execution_count": 46,
   "metadata": {
    "execution": {
     "iopub.execute_input": "2021-04-02T02:06:04.093942Z",
     "iopub.status.busy": "2021-04-02T02:06:04.093325Z",
     "iopub.status.idle": "2021-04-02T02:06:04.094939Z",
     "shell.execute_reply": "2021-04-02T02:06:04.095292Z"
    },
    "id": "umohpBN2OM94"
   },
   "outputs": [
    {
     "name": "stdout",
     "output_type": "stream",
     "text": [
      "Attention維度: (批量, 輸出)= (64, 1024)\n",
      "Attention權重: (批量, 語句長度, 1)= (64, 19, 1)\n"
     ]
    }
   ],
   "source": [
    "# 建立模型注意力(Attention)機制：Bahdanau 作法\n",
    "class BahdanauAttention(tf.keras.layers.Layer):\n",
    "    def __init__(self, units):\n",
    "        super(BahdanauAttention, self).__init__()\n",
    "        self.W1 = tf.keras.layers.Dense(units)\n",
    "        self.W2 = tf.keras.layers.Dense(units)\n",
    "        self.V = tf.keras.layers.Dense(1)\n",
    "\n",
    "    def call(self, query, values):\n",
    "        # 依虛擬程式碼的公式計算\n",
    "        query_with_time_axis = tf.expand_dims(query, 1)\n",
    "        score = self.V(tf.nn.tanh(\n",
    "                self.W1(query_with_time_axis) + self.W2(values)))\n",
    "        attention_weights = tf.nn.softmax(score, axis=1)\n",
    "\n",
    "        context_vector = attention_weights * values\n",
    "        context_vector = tf.reduce_sum(context_vector, axis=1)\n",
    "\n",
    "        return context_vector, attention_weights\n",
    "\n",
    "attention_layer = BahdanauAttention(10)\n",
    "attention_result, attention_weights = attention_layer(sample_hidden, \n",
    "                                                      sample_output)\n",
    "\n",
    "print(\"Attention維度: (批量, 輸出) =\", attention_result.shape)\n",
    "print(\"Attention權重: (批量, 語句長度, 1) =\", attention_weights.shape)"
   ]
  },
  {
   "cell_type": "code",
   "execution_count": 47,
   "metadata": {
    "execution": {
     "iopub.execute_input": "2021-04-02T02:06:04.477387Z",
     "iopub.status.busy": "2021-04-02T02:06:04.476693Z",
     "iopub.status.idle": "2021-04-02T02:06:04.479107Z",
     "shell.execute_reply": "2021-04-02T02:06:04.478602Z"
    },
    "id": "yJ_B3mhW3jFk"
   },
   "outputs": [
    {
     "name": "stdout",
     "output_type": "stream",
     "text": [
      "解碼器維度: (批量, 字彙表尺寸)= (64, 4807)\n"
     ]
    }
   ],
   "source": [
    "# 建立模型解碼器\n",
    "class Decoder(tf.keras.Model):\n",
    "    def __init__(self, vocab_size, embedding_dim, dec_units, batch_sz):\n",
    "        super(Decoder, self).__init__()\n",
    "        self.batch_sz = batch_sz\n",
    "        self.dec_units = dec_units\n",
    "        self.embedding = tf.keras.layers.Embedding(vocab_size, embedding_dim)\n",
    "        self.gru = tf.keras.layers.GRU(self.dec_units,\n",
    "                     return_sequences=True, return_state=True,\n",
    "                     recurrent_initializer='glorot_uniform')\n",
    "        self.fc = tf.keras.layers.Dense(vocab_size)\n",
    "        self.attention = BahdanauAttention(self.dec_units)\n",
    "\n",
    "    def call(self, x, hidden, enc_output):\n",
    "        context_vector, attention_weights = self.attention(hidden, enc_output)\n",
    "        x = self.embedding(x)\n",
    "        x = tf.concat([tf.expand_dims(context_vector, 1), x], axis=-1)\n",
    "        output, state = self.gru(x)\n",
    "        output = tf.reshape(output, (-1, output.shape[2]))\n",
    "        x = self.fc(output)\n",
    "\n",
    "        return x, state, attention_weights\n",
    "\n",
    "decoder = Decoder(vocab_tar_size, embedding_dim, units, BATCH_SIZE)\n",
    "sample_decoder_output, _, _ = decoder(tf.random.uniform((BATCH_SIZE, 1)),\n",
    "                                      sample_hidden, sample_output)\n",
    "\n",
    "print('解碼器維度: (批量, 字彙表尺寸) =', sample_decoder_output.shape)"
   ]
  },
  {
   "cell_type": "code",
   "execution_count": 50,
   "metadata": {},
   "outputs": [
    {
     "data": {
      "image/png": "[encoded data removed]",
      "text/plain": [
       "<IPython.core.display.Image object>"
      ]
     },
     "execution_count": 50,
     "metadata": {},
     "output_type": "execute_result"
    }
   ],
   "source": [
    "tf.keras.utils.plot_model(decoder)"
   ]
  },
  {
   "cell_type": "markdown",
   "metadata": {
    "id": "_ch_71VbIRfK"
   },
   "source": [
    "## 指定優化器、損失函數"
   ]
  },
  {
   "cell_type": "code",
   "execution_count": 28,
   "metadata": {
    "execution": {
     "iopub.execute_input": "2021-04-02T02:06:04.530148Z",
     "iopub.status.busy": "2021-04-02T02:06:04.528999Z",
     "iopub.status.idle": "2021-04-02T02:06:04.531358Z",
     "shell.execute_reply": "2021-04-02T02:06:04.531807Z"
    },
    "id": "WmTHr5iV3jFr"
   },
   "outputs": [],
   "source": [
    "# 指定優化器、損失函數\n",
    "optimizer = tf.keras.optimizers.Adam()\n",
    "loss_object = tf.keras.losses.SparseCategoricalCrossentropy(\n",
    "    from_logits=True, reduction='none')\n",
    "\n",
    "# 損失函數\n",
    "def loss_function(real, pred):\n",
    "    mask = tf.math.logical_not(tf.math.equal(real, 0))\n",
    "    loss_ = loss_object(real, pred)\n",
    "\n",
    "    mask = tf.cast(mask, dtype=loss_.dtype)\n",
    "    loss_ *= mask\n",
    "\n",
    "    return tf.reduce_mean(loss_)"
   ]
  },
  {
   "cell_type": "markdown",
   "metadata": {
    "id": "DMVWzzsfNl4e"
   },
   "source": [
    "## 檢查點存檔"
   ]
  },
  {
   "cell_type": "code",
   "execution_count": 29,
   "metadata": {
    "execution": {
     "iopub.execute_input": "2021-04-02T02:06:04.537629Z",
     "iopub.status.busy": "2021-04-02T02:06:04.536506Z",
     "iopub.status.idle": "2021-04-02T02:06:04.539341Z",
     "shell.execute_reply": "2021-04-02T02:06:04.538675Z"
    },
    "id": "Zj8bXQTgNwrF"
   },
   "outputs": [],
   "source": [
    "# 檢查點存檔\n",
    "checkpoint_dir = './training_checkpoints'\n",
    "checkpoint_prefix = os.path.join(checkpoint_dir, \"ckpt\")\n",
    "checkpoint = tf.train.Checkpoint(optimizer=optimizer,\n",
    "                         encoder=encoder, decoder=decoder)"
   ]
  },
  {
   "cell_type": "markdown",
   "metadata": {
    "id": "hpObfY22IddU"
   },
   "source": [
    "## 模型訓練"
   ]
  },
  {
   "cell_type": "code",
   "execution_count": 30,
   "metadata": {
    "execution": {
     "iopub.execute_input": "2021-04-02T02:06:04.548046Z",
     "iopub.status.busy": "2021-04-02T02:06:04.546948Z",
     "iopub.status.idle": "2021-04-02T02:06:04.549768Z",
     "shell.execute_reply": "2021-04-02T02:06:04.549234Z"
    },
    "id": "sC9ArXSsVfqn"
   },
   "outputs": [],
   "source": [
    "# 梯度下降函數\n",
    "@tf.function\n",
    "def train_step(inp, targ, enc_hidden):\n",
    "    loss = 0\n",
    "\n",
    "    # 梯度下降\n",
    "    with tf.GradientTape() as tape:\n",
    "        enc_output, enc_hidden = encoder(inp, enc_hidden)\n",
    "        dec_hidden = enc_hidden\n",
    "        dec_input = tf.expand_dims([targ_lang.word_index['<start>']] * BATCH_SIZE, 1)\n",
    "\n",
    "        # Teacher forcing：以解碼器目標(y)為下一節點的輸入\n",
    "        for t in range(1, targ.shape[1]):\n",
    "            # 解碼器有三個輸入：目標語言的輸入、解碼器隱藏層的輸出、編碼器的輸出\n",
    "            predictions, dec_hidden, _ = decoder(dec_input, dec_hidden, enc_output)\n",
    "            loss += loss_function(targ[:, t], predictions)\n",
    "            dec_input = tf.expand_dims(targ[:, t], 1)\n",
    "\n",
    "    # 梯度計算\n",
    "    batch_loss = (loss / int(targ.shape[1]))\n",
    "    variables = encoder.trainable_variables + decoder.trainable_variables\n",
    "    gradients = tape.gradient(loss, variables)\n",
    "    optimizer.apply_gradients(zip(gradients, variables))\n",
    "\n",
    "    return batch_loss"
   ]
  },
  {
   "cell_type": "code",
   "execution_count": 31,
   "metadata": {
    "execution": {
     "iopub.execute_input": "2021-04-02T02:06:04.557511Z",
     "iopub.status.busy": "2021-04-02T02:06:04.556354Z",
     "iopub.status.idle": "2021-04-02T02:08:53.650446Z",
     "shell.execute_reply": "2021-04-02T02:08:53.649859Z"
    },
    "id": "ddefjBMa3jF0"
   },
   "outputs": [
    {
     "name": "stdout",
     "output_type": "stream",
     "text": [
      "Epoch 1 Batch 0 Loss 4.5522\n",
      "Epoch 1 Batch 100 Loss 2.0578\n",
      "Epoch 1 Batch 200 Loss 1.7833\n",
      "Epoch 1 Batch 300 Loss 1.7275\n",
      "Epoch 1 Loss 1.9731\n",
      "Time taken for 1 epoch 90.04 sec\n",
      "\n",
      "Epoch 2 Batch 0 Loss 1.3995\n",
      "Epoch 2 Batch 100 Loss 1.3764\n",
      "Epoch 2 Batch 200 Loss 1.2385\n",
      "Epoch 2 Batch 300 Loss 1.2527\n",
      "Epoch 2 Loss 1.3423\n",
      "Time taken for 1 epoch 79.06 sec\n",
      "\n",
      "Epoch 3 Batch 0 Loss 1.1161\n",
      "Epoch 3 Batch 100 Loss 0.8808\n",
      "Epoch 3 Batch 200 Loss 0.9704\n",
      "Epoch 3 Batch 300 Loss 0.8733\n",
      "Epoch 3 Loss 0.9468\n",
      "Time taken for 1 epoch 75.34 sec\n",
      "\n",
      "Epoch 4 Batch 0 Loss 0.7716\n",
      "Epoch 4 Batch 100 Loss 0.6409\n",
      "Epoch 4 Batch 200 Loss 0.6815\n",
      "Epoch 4 Batch 300 Loss 0.6068\n",
      "Epoch 4 Loss 0.6495\n",
      "Time taken for 1 epoch 79.72 sec\n",
      "\n",
      "Epoch 5 Batch 0 Loss 0.3816\n",
      "Epoch 5 Batch 100 Loss 0.4253\n",
      "Epoch 5 Batch 200 Loss 0.4151\n",
      "Epoch 5 Batch 300 Loss 0.4079\n",
      "Epoch 5 Loss 0.4420\n",
      "Time taken for 1 epoch 75.71 sec\n",
      "\n",
      "Epoch 6 Batch 0 Loss 0.3206\n",
      "Epoch 6 Batch 100 Loss 0.2928\n",
      "Epoch 6 Batch 200 Loss 0.3438\n",
      "Epoch 6 Batch 300 Loss 0.2925\n",
      "Epoch 6 Loss 0.3049\n",
      "Time taken for 1 epoch 79.48 sec\n",
      "\n",
      "Epoch 7 Batch 0 Loss 0.1739\n",
      "Epoch 7 Batch 100 Loss 0.2110\n",
      "Epoch 7 Batch 200 Loss 0.2257\n",
      "Epoch 7 Batch 300 Loss 0.2416\n",
      "Epoch 7 Loss 0.2149\n",
      "Time taken for 1 epoch 75.71 sec\n",
      "\n",
      "Epoch 8 Batch 0 Loss 0.1553\n",
      "Epoch 8 Batch 100 Loss 0.1314\n",
      "Epoch 8 Batch 200 Loss 0.1630\n",
      "Epoch 8 Batch 300 Loss 0.1755\n",
      "Epoch 8 Loss 0.1607\n",
      "Time taken for 1 epoch 79.50 sec\n",
      "\n",
      "Epoch 9 Batch 0 Loss 0.0995\n",
      "Epoch 9 Batch 100 Loss 0.1169\n",
      "Epoch 9 Batch 200 Loss 0.1294\n",
      "Epoch 9 Batch 300 Loss 0.1857\n",
      "Epoch 9 Loss 0.1259\n",
      "Time taken for 1 epoch 75.70 sec\n",
      "\n",
      "Epoch 10 Batch 0 Loss 0.0781\n",
      "Epoch 10 Batch 100 Loss 0.0725\n",
      "Epoch 10 Batch 200 Loss 0.0826\n",
      "Epoch 10 Batch 300 Loss 0.0960\n",
      "Epoch 10 Loss 0.1016\n",
      "Time taken for 1 epoch 79.90 sec\n",
      "\n"
     ]
    }
   ],
   "source": [
    "# 模型訓練\n",
    "EPOCHS = 10\n",
    "for epoch in range(EPOCHS):\n",
    "    start = time.time()\n",
    "\n",
    "    enc_hidden = encoder.initialize_hidden_state()\n",
    "    total_loss = 0\n",
    "\n",
    "    for (batch, (inp, targ)) in enumerate(dataset.take(steps_per_epoch)):\n",
    "        batch_loss = train_step(inp, targ, enc_hidden)\n",
    "        total_loss += batch_loss\n",
    "\n",
    "        if batch % 100 == 0:\n",
    "            print(f'Epoch {epoch+1} Batch {batch} Loss {batch_loss.numpy():.4f}')\n",
    "            \n",
    "    # 每2個訓練週期存檔一次\n",
    "    if (epoch + 1) % 2 == 0:\n",
    "        checkpoint.save(file_prefix=checkpoint_prefix)\n",
    "\n",
    "    print(f'Epoch {epoch+1} Loss {total_loss/steps_per_epoch:.4f}')\n",
    "    print(f'Time taken for 1 epoch {time.time()-start:.2f} sec\\n')"
   ]
  },
  {
   "cell_type": "markdown",
   "metadata": {
    "id": "mU3Ce8M6I3rz"
   },
   "source": [
    "## Translate\n",
    "\n",
    "* The evaluate function is similar to the training loop, except we don't use *teacher forcing* here. The input to the decoder at each time step is its previous predictions along with the hidden state and the encoder output.\n",
    "* Stop predicting when the model predicts the *end token*.\n",
    "* And store the *attention weights for every time step*.\n",
    "\n",
    "Note: The encoder output is calculated only once for one input."
   ]
  },
  {
   "cell_type": "markdown",
   "metadata": {
    "id": "n250XbnjOaqP"
   },
   "source": [
    "## 定義預測函數"
   ]
  },
  {
   "cell_type": "code",
   "execution_count": 32,
   "metadata": {
    "execution": {
     "iopub.execute_input": "2021-04-02T02:08:53.660425Z",
     "iopub.status.busy": "2021-04-02T02:08:53.659728Z",
     "iopub.status.idle": "2021-04-02T02:08:53.662480Z",
     "shell.execute_reply": "2021-04-02T02:08:53.662920Z"
    },
    "id": "EbQpyYs13jF_"
   },
   "outputs": [],
   "source": [
    "# 定義預測函數\n",
    "def evaluate(sentence):\n",
    "    attention_plot = np.zeros((max_length_targ, max_length_inp))\n",
    "    sentence = preprocess_sentence(sentence)\n",
    "\n",
    "    # 分詞，長度不足補空白\n",
    "    inputs = [inp_lang.word_index[i] for i in sentence.split(' ')]\n",
    "    inputs = tf.keras.preprocessing.sequence.pad_sequences([inputs], \n",
    "                               maxlen=max_length_inp, padding='post')\n",
    "    inputs = tf.convert_to_tensor(inputs)\n",
    "\n",
    "    # 依模型訓練的程序計算\n",
    "    result = ''\n",
    "    hidden = [tf.zeros((1, units))]\n",
    "    enc_out, enc_hidden = encoder(inputs, hidden)\n",
    "    dec_hidden = enc_hidden\n",
    "    dec_input = tf.expand_dims([targ_lang.word_index['<start>']], 0)\n",
    "    for t in range(max_length_targ):\n",
    "        predictions, dec_hidden, attention_weights = decoder(dec_input,\n",
    "                                         dec_hidden, enc_out)\n",
    "        attention_weights = tf.reshape(attention_weights, (-1, ))\n",
    "        attention_plot[t] = attention_weights.numpy()\n",
    "        predicted_id = tf.argmax(predictions[0]).numpy()\n",
    "        result += targ_lang.index_word[predicted_id] + ' '\n",
    "\n",
    "        if targ_lang.index_word[predicted_id] == '<end>':\n",
    "            return result, sentence, attention_plot\n",
    "        dec_input = tf.expand_dims([predicted_id], 0)\n",
    "\n",
    "    return result, sentence, attention_plot"
   ]
  },
  {
   "cell_type": "code",
   "execution_count": 43,
   "metadata": {
    "execution": {
     "iopub.execute_input": "2021-04-02T02:08:53.669558Z",
     "iopub.status.busy": "2021-04-02T02:08:53.668870Z",
     "iopub.status.idle": "2021-04-02T02:08:53.670786Z",
     "shell.execute_reply": "2021-04-02T02:08:53.671189Z"
    },
    "id": "s5hQWlbN3jGF"
   },
   "outputs": [],
   "source": [
    "# 定義 attention weights 繪圖函數\n",
    "def plot_attention(attention, sentence, predicted_sentence):\n",
    "    fig = plt.figure(figsize=(10, 10))\n",
    "    ax = fig.add_subplot(1, 1, 1)\n",
    "    ax.matshow(attention, cmap='viridis')\n",
    "\n",
    "    fontdict = {'fontsize': 14}\n",
    "\n",
    "    ax.set_xticklabels([''] + sentence, fontdict=fontdict, rotation=90)\n",
    "    ax.set_yticklabels([''] + predicted_sentence, fontdict=fontdict)\n",
    "\n",
    "    ax.xaxis.set_major_locator(ticker.MultipleLocator(1))\n",
    "    ax.yaxis.set_major_locator(ticker.MultipleLocator(1))\n",
    "\n",
    "    plt.show()"
   ]
  },
  {
   "cell_type": "code",
   "execution_count": 34,
   "metadata": {
    "execution": {
     "iopub.execute_input": "2021-04-02T02:08:53.676258Z",
     "iopub.status.busy": "2021-04-02T02:08:53.675621Z",
     "iopub.status.idle": "2021-04-02T02:08:53.677985Z",
     "shell.execute_reply": "2021-04-02T02:08:53.677475Z"
    },
    "id": "sl9zUHzg3jGI"
   },
   "outputs": [],
   "source": [
    "# 定義翻譯函數\n",
    "def translate(sentence):\n",
    "    result, sentence, attention_plot = evaluate(sentence)\n",
    "\n",
    "    print('Input:', sentence)\n",
    "    print('Predicted translation:', result)\n",
    "\n",
    "    attention_plot = attention_plot[:len(result.split(' ')),\n",
    "                                    :len(sentence.split(' '))]\n",
    "    plot_attention(attention_plot, \n",
    "                   sentence.split(' '), result.split(' '))"
   ]
  },
  {
   "cell_type": "markdown",
   "metadata": {
    "id": "n250XbnjOaqP"
   },
   "source": [
    "## Restore the latest checkpoint and test"
   ]
  },
  {
   "cell_type": "code",
   "execution_count": 35,
   "metadata": {
    "execution": {
     "iopub.execute_input": "2021-04-02T02:08:53.681733Z",
     "iopub.status.busy": "2021-04-02T02:08:53.681071Z",
     "iopub.status.idle": "2021-04-02T02:08:53.885040Z",
     "shell.execute_reply": "2021-04-02T02:08:53.884482Z"
    },
    "id": "UJpT9D5_OgP6"
   },
   "outputs": [
    {
     "data": {
      "text/plain": [
       "<tensorflow.python.training.tracking.util.CheckpointLoadStatus at 0x1ee7a54e8b0>"
      ]
     },
     "execution_count": 35,
     "metadata": {},
     "output_type": "execute_result"
    }
   ],
   "source": [
    "# 測試：自最後一個檢查點還原\n",
    "checkpoint.restore(tf.train.latest_checkpoint(checkpoint_dir))"
   ]
  },
  {
   "cell_type": "code",
   "execution_count": 36,
   "metadata": {
    "execution": {
     "iopub.execute_input": "2021-04-02T02:08:53.889827Z",
     "iopub.status.busy": "2021-04-02T02:08:53.889126Z",
     "iopub.status.idle": "2021-04-02T02:08:54.176938Z",
     "shell.execute_reply": "2021-04-02T02:08:54.176294Z"
    },
    "id": "WrAM0FDomq3E"
   },
   "outputs": [
    {
     "name": "stdout",
     "output_type": "stream",
     "text": [
      "Input: <start> hace mucho frio aqui . <end>\n",
      "Predicted translation: it s very cold here . <end> \n"
     ]
    },
    {
     "name": "stderr",
     "output_type": "stream",
     "text": [
      "<ipython-input-33-ce46f30c9852>:9: UserWarning: FixedFormatter should only be used together with FixedLocator\n",
      "  ax.set_xticklabels([''] + sentence, fontdict=fontdict, rotation=90)\n",
      "<ipython-input-33-ce46f30c9852>:10: UserWarning: FixedFormatter should only be used together with FixedLocator\n",
      "  ax.set_yticklabels([''] + predicted_sentence, fontdict=fontdict)\n"
     ]
    },
    {
     "data": {
      "image/png": "[encoded data removed]",
      "text/plain": [
       "<Figure size 720x720 with 1 Axes>"
      ]
     },
     "metadata": {
      "needs_background": "light"
     },
     "output_type": "display_data"
    }
   ],
   "source": [
    "# 翻譯測試，並繪製熱力圖\n",
    "translate(u'hace mucho frio aqui.')"
   ]
  },
  {
   "cell_type": "code",
   "execution_count": 37,
   "metadata": {
    "execution": {
     "iopub.execute_input": "2021-04-02T02:08:54.182193Z",
     "iopub.status.busy": "2021-04-02T02:08:54.181532Z",
     "iopub.status.idle": "2021-04-02T02:08:54.430825Z",
     "shell.execute_reply": "2021-04-02T02:08:54.431199Z"
    },
    "id": "zSx2iM36EZQZ"
   },
   "outputs": [
    {
     "name": "stdout",
     "output_type": "stream",
     "text": [
      "Input: <start> esta es mi vida . <end>\n",
      "Predicted translation: this is my life . <end> \n"
     ]
    },
    {
     "name": "stderr",
     "output_type": "stream",
     "text": [
      "<ipython-input-33-ce46f30c9852>:9: UserWarning: FixedFormatter should only be used together with FixedLocator\n",
      "  ax.set_xticklabels([''] + sentence, fontdict=fontdict, rotation=90)\n",
      "<ipython-input-33-ce46f30c9852>:10: UserWarning: FixedFormatter should only be used together with FixedLocator\n",
      "  ax.set_yticklabels([''] + predicted_sentence, fontdict=fontdict)\n"
     ]
    },
    {
     "data": {
      "image/png": "[encoded data removed]",
      "text/plain": [
       "<Figure size 720x720 with 1 Axes>"
      ]
     },
     "metadata": {
      "needs_background": "light"
     },
     "output_type": "display_data"
    }
   ],
   "source": [
    "# 翻譯測試，並繪製熱力圖\n",
    "translate(u'esta es mi vida.')"
   ]
  },
  {
   "cell_type": "code",
   "execution_count": 38,
   "metadata": {
    "execution": {
     "iopub.execute_input": "2021-04-02T02:08:54.435518Z",
     "iopub.status.busy": "2021-04-02T02:08:54.434825Z",
     "iopub.status.idle": "2021-04-02T02:08:54.702263Z",
     "shell.execute_reply": "2021-04-02T02:08:54.702664Z"
    },
    "id": "A3LLCx3ZE0Ls"
   },
   "outputs": [
    {
     "name": "stdout",
     "output_type": "stream",
     "text": [
      "Input: <start> ¿ todavia estan en casa ? <end>\n",
      "Predicted translation: are you still at home ? <end> \n"
     ]
    },
    {
     "name": "stderr",
     "output_type": "stream",
     "text": [
      "<ipython-input-33-ce46f30c9852>:9: UserWarning: FixedFormatter should only be used together with FixedLocator\n",
      "  ax.set_xticklabels([''] + sentence, fontdict=fontdict, rotation=90)\n",
      "<ipython-input-33-ce46f30c9852>:10: UserWarning: FixedFormatter should only be used together with FixedLocator\n",
      "  ax.set_yticklabels([''] + predicted_sentence, fontdict=fontdict)\n"
     ]
    },
    {
     "data": {
      "image/png": "[encoded data removed]",
      "text/plain": [
       "<Figure size 720x720 with 1 Axes>"
      ]
     },
     "metadata": {
      "needs_background": "light"
     },
     "output_type": "display_data"
    }
   ],
   "source": [
    "# 翻譯測試，並繪製熱力圖\n",
    "translate(u'¿todavia estan en casa?')"
   ]
  },
  {
   "cell_type": "code",
   "execution_count": 39,
   "metadata": {
    "execution": {
     "iopub.execute_input": "2021-04-02T02:08:54.707047Z",
     "iopub.status.busy": "2021-04-02T02:08:54.706380Z",
     "iopub.status.idle": "2021-04-02T02:08:54.953030Z",
     "shell.execute_reply": "2021-04-02T02:08:54.952495Z"
    },
    "id": "DUQVLVqUE1YW"
   },
   "outputs": [
    {
     "name": "stdout",
     "output_type": "stream",
     "text": [
      "Input: <start> trata de averiguarlo . <end>\n",
      "Predicted translation: try to find out . <end> \n"
     ]
    },
    {
     "name": "stderr",
     "output_type": "stream",
     "text": [
      "<ipython-input-33-ce46f30c9852>:9: UserWarning: FixedFormatter should only be used together with FixedLocator\n",
      "  ax.set_xticklabels([''] + sentence, fontdict=fontdict, rotation=90)\n",
      "<ipython-input-33-ce46f30c9852>:10: UserWarning: FixedFormatter should only be used together with FixedLocator\n",
      "  ax.set_yticklabels([''] + predicted_sentence, fontdict=fontdict)\n"
     ]
    },
    {
     "data": {
      "image/png": "[encoded data removed]",
      "text/plain": [
       "<Figure size 720x720 with 1 Axes>"
      ]
     },
     "metadata": {
      "needs_background": "light"
     },
     "output_type": "display_data"
    }
   ],
   "source": [
    "# wrong translation\n",
    "translate(u'trata de averiguarlo.')"
   ]
  },
  {
   "cell_type": "markdown",
   "metadata": {
    "id": "RTe5P5ioMJwN"
   },
   "source": [
    "## 可下載其他語言試試看\n",
    "* [Download a different dataset](http://www.manythings.org/anki/) \n"
   ]
  },
  {
   "cell_type": "code",
   "execution_count": null,
   "metadata": {},
   "outputs": [],
   "source": []
  }
 ],
 "metadata": {
  "accelerator": "GPU",
  "colab": {
   "collapsed_sections": [],
   "name": "nmt_with_attention.ipynb",
   "toc_visible": true
  },
  "kernelspec": {
   "display_name": "Python 3",
   "language": "python",
   "name": "python3"
  },
  "language_info": {
   "codemirror_mode": {
    "name": "ipython",
    "version": 3
   },
   "file_extension": ".py",
   "mimetype": "text/x-python",
   "name": "python",
   "nbconvert_exporter": "python",
   "pygments_lexer": "ipython3",
   "version": "3.8.3"
  }
 },
 "nbformat": 4,
 "nbformat_minor": 1
}
