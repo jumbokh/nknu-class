{
  "nbformat": 4,
  "nbformat_minor": 0,
  "metadata": {
    "kernelspec": {
      "display_name": "Python 3",
      "language": "python",
      "name": "python3"
    },
    "language_info": {
      "codemirror_mode": {
        "name": "ipython",
        "version": 3
      },
      "file_extension": ".py",
      "mimetype": "text/x-python",
      "name": "python",
      "nbconvert_exporter": "python",
      "pygments_lexer": "ipython3",
      "version": "3.8.3"
    },
    "colab": {
      "name": "12_04_LSTM_參數測試.ipynb",
      "provenance": []
    }
  },
  "cells": [
    {
      "cell_type": "markdown",
      "metadata": {
        "id": "4m2zhhlr-I-P"
      },
      "source": [
        "# LSTM重要參數測試"
      ]
    },
    {
      "cell_type": "code",
      "metadata": {
        "id": "GDZYTsG8-I-T"
      },
      "source": [
        "# 載入相關套件\n",
        "import tensorflow as tf\n",
        "from tensorflow.keras.layers import Dense, LSTM, Input\n",
        "from tensorflow.keras.models import Sequential\n",
        "import numpy as np"
      ],
      "execution_count": 1,
      "outputs": []
    },
    {
      "cell_type": "code",
      "metadata": {
        "id": "37fztcwN-I-V",
        "outputId": "904dd085-de09-4dc4-ed8d-a15c79deed5e",
        "colab": {
          "base_uri": "https://localhost:8080/"
        }
      },
      "source": [
        "# 定義模型，參數均為預設值\n",
        "model = Sequential()\n",
        "model.add(LSTM(1, input_shape=(3, 1)))\n",
        "\n",
        "# 測試資料\n",
        "data = np.array([0.1, 0.2, 0.3]).reshape((1,3,1))\n",
        "# 預測：只傳回最後的輸出(y)\n",
        "print(model.predict(data))"
      ],
      "execution_count": 2,
      "outputs": [
        {
          "output_type": "stream",
          "name": "stdout",
          "text": [
            "[[0.01007877]]\n"
          ]
        }
      ]
    },
    {
      "cell_type": "markdown",
      "metadata": {
        "id": "I4n3LctO-I-X"
      },
      "source": [
        "## return_sequences=True"
      ]
    },
    {
      "cell_type": "code",
      "metadata": {
        "id": "owgbfPVk-I-X",
        "outputId": "190685f5-1b39-443d-d134-36c8dff8232e",
        "colab": {
          "base_uri": "https://localhost:8080/"
        }
      },
      "source": [
        "# 定義模型，參數 return_sequences=True\n",
        "model = Sequential()\n",
        "model.add(LSTM(1, input_shape=(3, 1), return_sequences=True))\n",
        "\n",
        "# 測試資料\n",
        "data = np.array([0.1, 0.2, 0.3]).reshape((1,3,1))\n",
        "# 預測：傳回每一節點的輸出(y)\n",
        "print(model.predict(data))"
      ],
      "execution_count": 3,
      "outputs": [
        {
          "output_type": "stream",
          "name": "stdout",
          "text": [
            "[[[0.01560768]\n",
            "  [0.0449631 ]\n",
            "  [0.08736266]]]\n"
          ]
        }
      ]
    },
    {
      "cell_type": "markdown",
      "metadata": {
        "id": "S79rXdYz-I-Y"
      },
      "source": [
        "## return_state=True"
      ]
    },
    {
      "cell_type": "code",
      "metadata": {
        "id": "_2gTCNX9-I-Y",
        "outputId": "54bb3516-5b4e-48af-fbbb-89215c76a740",
        "colab": {
          "base_uri": "https://localhost:8080/"
        }
      },
      "source": [
        "# 定義模型，參數 return_state=True\n",
        "# 多個輸出必須使用 Function API\n",
        "from keras.models import Model\n",
        "\n",
        "inputs1 = Input(shape=(3, 1))\n",
        "lstm1 = LSTM(1, return_state=True)(inputs1)\n",
        "model = Model(inputs=inputs1, outputs=lstm1)\n",
        "\n",
        "# 測試資料\n",
        "data = np.array([0.1, 0.2, 0.3]).reshape((1,3,1))\n",
        "# 預測：傳回 輸出(y), state_h, state_c\n",
        "print(model.predict(data))"
      ],
      "execution_count": 4,
      "outputs": [
        {
          "output_type": "stream",
          "name": "stdout",
          "text": [
            "[array([[-0.10482189]], dtype=float32), array([[-0.10482189]], dtype=float32), array([[-0.20066977]], dtype=float32)]\n"
          ]
        }
      ]
    },
    {
      "cell_type": "markdown",
      "metadata": {
        "id": "yUlipJ5V-I-Z"
      },
      "source": [
        "## return_sequences=True、return_state=True"
      ]
    },
    {
      "cell_type": "code",
      "metadata": {
        "id": "4jRIOkLt-I-a",
        "outputId": "a26ae5b8-7b3c-4544-a3e9-2f4ffd518f31",
        "colab": {
          "base_uri": "https://localhost:8080/"
        }
      },
      "source": [
        "# 定義模型，參數 return_sequences=True、return_state=True\n",
        "# 多個輸出必須使用 Function API\n",
        "from keras.models import Model\n",
        "\n",
        "inputs1 = Input(shape=(3, 1))\n",
        "lstm1 = LSTM(1, return_sequences=True, return_state=True)(inputs1)\n",
        "model = Model(inputs=inputs1, outputs=lstm1)\n",
        "\n",
        "# 測試資料\n",
        "data = np.array([0.1, 0.2, 0.3]).reshape((1,3,1))\n",
        "# 預測：傳回 輸出(y), state_h, state_c\n",
        "print(model.predict(data))"
      ],
      "execution_count": 5,
      "outputs": [
        {
          "output_type": "stream",
          "name": "stdout",
          "text": [
            "[array([[[-0.01149192],\n",
            "        [-0.03499947],\n",
            "        [-0.0710715 ]]], dtype=float32), array([[-0.0710715]], dtype=float32), array([[-0.13735539]], dtype=float32)]\n"
          ]
        }
      ]
    },
    {
      "cell_type": "markdown",
      "metadata": {
        "id": "s3AK8jwM-I-b"
      },
      "source": [
        "## 模型包含2個LSTM神經層"
      ]
    },
    {
      "cell_type": "code",
      "metadata": {
        "id": "evzI2LYX-I-b",
        "outputId": "cb8d35a4-bfbf-4f57-c1b9-39a8cfc13dad",
        "colab": {
          "base_uri": "https://localhost:8080/"
        }
      },
      "source": [
        "# 定義模型，參數 return_sequences=True、return_state=True\n",
        "# 多個輸出必須使用 Function API\n",
        "from keras.models import Model\n",
        "\n",
        "inputs1 = Input(shape=(3, 1))\n",
        "lstm1 = LSTM(1, return_sequences=True)(inputs1)\n",
        "lstm2 = LSTM(1, return_sequences=True, return_state=True)(lstm1)\n",
        "model = Model(inputs=inputs1, outputs=lstm2)\n",
        "\n",
        "# 測試資料\n",
        "data = np.array([0.1, 0.2, 0.3]).reshape((1,3,1))\n",
        "# 預測：傳回 輸出(y), state_h, state_c\n",
        "print(model.predict(data))"
      ],
      "execution_count": 6,
      "outputs": [
        {
          "output_type": "stream",
          "name": "stdout",
          "text": [
            "WARNING:tensorflow:5 out of the last 5 calls to <function Model.make_predict_function.<locals>.predict_function at 0x7fabe4d71b00> triggered tf.function retracing. Tracing is expensive and the excessive number of tracings could be due to (1) creating @tf.function repeatedly in a loop, (2) passing tensors with different shapes, (3) passing Python objects instead of tensors. For (1), please define your @tf.function outside of the loop. For (2), @tf.function has experimental_relax_shapes=True option that relaxes argument shapes that can avoid unnecessary retracing. For (3), please refer to https://www.tensorflow.org/guide/function#controlling_retracing and https://www.tensorflow.org/api_docs/python/tf/function for  more details.\n",
            "[array([[[6.9812333e-05],\n",
            "        [2.2464206e-04],\n",
            "        [4.5403384e-04]]], dtype=float32), array([[0.00045403]], dtype=float32), array([[0.00090957]], dtype=float32)]\n"
          ]
        }
      ]
    },
    {
      "cell_type": "code",
      "metadata": {
        "id": "5FYdHowz-I-c",
        "outputId": "10f8eb24-81e2-4c1a-b0ff-7b0244386f82",
        "colab": {
          "base_uri": "https://localhost:8080/"
        }
      },
      "source": [
        "# 定義模型，參數 return_sequences=True、return_state=True\n",
        "# 多個輸出必須使用 Function API\n",
        "from keras.models import Model\n",
        "\n",
        "inputs1 = Input(shape=(3, 1))\n",
        "lstm1 = LSTM(1,return_sequences=True)(inputs1)\n",
        "lstm2 = LSTM(1, return_sequences=True, return_state=True)(lstm1)\n",
        "model = Model(inputs=inputs1, outputs=lstm2)\n",
        "\n",
        "# 測試資料\n",
        "data = np.array([0.1, 0.2, 0.3]).reshape((1,3,1))\n",
        "# 預測：傳回 輸出(y), state_h, state_c\n",
        "print(model.predict(data))"
      ],
      "execution_count": 7,
      "outputs": [
        {
          "output_type": "stream",
          "name": "stdout",
          "text": [
            "WARNING:tensorflow:6 out of the last 6 calls to <function Model.make_predict_function.<locals>.predict_function at 0x7fabe36ff710> triggered tf.function retracing. Tracing is expensive and the excessive number of tracings could be due to (1) creating @tf.function repeatedly in a loop, (2) passing tensors with different shapes, (3) passing Python objects instead of tensors. For (1), please define your @tf.function outside of the loop. For (2), @tf.function has experimental_relax_shapes=True option that relaxes argument shapes that can avoid unnecessary retracing. For (3), please refer to https://www.tensorflow.org/guide/function#controlling_retracing and https://www.tensorflow.org/api_docs/python/tf/function for  more details.\n",
            "[array([[[-0.00076909],\n",
            "        [-0.00262008],\n",
            "        [-0.00558476]]], dtype=float32), array([[-0.00558476]], dtype=float32), array([[-0.01146679]], dtype=float32)]\n"
          ]
        }
      ]
    },
    {
      "cell_type": "code",
      "metadata": {
        "id": "747WYl-l-I-d"
      },
      "source": [
        ""
      ],
      "execution_count": 7,
      "outputs": []
    }
  ]
}