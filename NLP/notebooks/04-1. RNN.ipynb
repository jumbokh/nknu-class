{
  "nbformat": 4,
  "nbformat_minor": 0,
  "metadata": {
    "anaconda-cloud": {},
    "kernelspec": {
      "display_name": "Python 3",
      "language": "python",
      "name": "python3"
    },
    "language_info": {
      "codemirror_mode": {
        "name": "ipython",
        "version": 3
      },
      "file_extension": ".py",
      "mimetype": "text/x-python",
      "name": "python",
      "nbconvert_exporter": "python",
      "pygments_lexer": "ipython3",
      "version": "3.6.6"
    },
    "colab": {
      "name": "04-1. RNN.ipynb",
      "provenance": []
    }
  },
  "cells": [
    {
      "cell_type": "markdown",
      "metadata": {
        "id": "7hFHfeg4w0ST"
      },
      "source": [
        "# 主題 04-1. 用RNN做情意分析\n",
        "\n",
        "我們終於要介紹三大神經網路的最後一個, 也就是 RNN。RNN 有不少的變型, 例如 LSTM 和 GRU 等等, 不過我們都通稱叫 RNN。RNN 是一種「有記憶」的神經網路, 非常適合時間序列啦, 或是不定長度的輸入資料。\n",
        "\n",
        "我們來看看怎麼樣用 RNN 做電影評論的「情意分析」, 也就是知道一則評論究竟是「正評」還是「負評」。"
      ]
    },
    {
      "cell_type": "markdown",
      "metadata": {
        "id": "P2T1sMxzw0SX"
      },
      "source": [
        "## 1. 初始準備\n",
        "\n",
        "基本上和之前是一樣的, 我們就不再說明。"
      ]
    },
    {
      "cell_type": "code",
      "metadata": {
        "id": "Q10Otl55w0SY",
        "outputId": "6fc82a67-8a8c-4f25-b4ba-b5fa6440f8f3"
      },
      "source": [
        "%env KERAS_BACKEND=tensorflow"
      ],
      "execution_count": null,
      "outputs": [
        {
          "name": "stdout",
          "output_type": "stream",
          "text": [
            "env: KERAS_BACKEND=tensorflow\n"
          ]
        }
      ]
    },
    {
      "cell_type": "code",
      "metadata": {
        "id": "OlwPQ5pvw0Sa"
      },
      "source": [
        "%matplotlib inline\n",
        "import numpy as np\n",
        "import matplotlib.pyplot as plt"
      ],
      "execution_count": null,
      "outputs": []
    },
    {
      "cell_type": "markdown",
      "metadata": {
        "id": "xngyhrXrw0Sb"
      },
      "source": [
        "## 2. 讀入 IMDB 電影數據庫\n",
        "\n",
        "今天我們要評入 IMDB 電影數據庫影評的部份。"
      ]
    },
    {
      "cell_type": "code",
      "metadata": {
        "id": "eF2k_nfrw0Sb",
        "outputId": "851c0700-f34a-478a-a314-91297334509b"
      },
      "source": [
        "from keras.datasets import imdb"
      ],
      "execution_count": null,
      "outputs": [
        {
          "name": "stderr",
          "output_type": "stream",
          "text": [
            "Using TensorFlow backend.\n"
          ]
        }
      ]
    },
    {
      "cell_type": "code",
      "metadata": {
        "id": "TisADz-Pw0Sc"
      },
      "source": [
        "(x_train, y_train), (x_test, y_test) = imdb.load_data(num_words=10000)"
      ],
      "execution_count": null,
      "outputs": []
    },
    {
      "cell_type": "code",
      "metadata": {
        "id": "8l3gCZXVw0Sc",
        "outputId": "f1531d04-72c3-40e9-ccaa-28b1f116a2c8"
      },
      "source": [
        "len(x_train)"
      ],
      "execution_count": null,
      "outputs": [
        {
          "data": {
            "text/plain": [
              "25000"
            ]
          },
          "execution_count": 5,
          "metadata": {},
          "output_type": "execute_result"
        }
      ]
    },
    {
      "cell_type": "code",
      "metadata": {
        "id": "dw-7QAn5w0Sd",
        "outputId": "4ac636af-dc21-46d8-abc0-66b012d12966"
      },
      "source": [
        "len(x_test)"
      ],
      "execution_count": null,
      "outputs": [
        {
          "data": {
            "text/plain": [
              "25000"
            ]
          },
          "execution_count": 6,
          "metadata": {},
          "output_type": "execute_result"
        }
      ]
    },
    {
      "cell_type": "markdown",
      "metadata": {
        "id": "JapP1HKlw0Se"
      },
      "source": [
        "### 2.1 輸入資料部份\n",
        "\n",
        "我們來看一下輸入部份長什麼樣子?"
      ]
    },
    {
      "cell_type": "code",
      "metadata": {
        "id": "QcIMZzrbw0Se",
        "outputId": "a1f518ac-25df-4090-8ca0-35886938231f"
      },
      "source": [
        "for i in range(10):\n",
        "    print(len(x_train[i]), end=', ')"
      ],
      "execution_count": null,
      "outputs": [
        {
          "name": "stdout",
          "output_type": "stream",
          "text": [
            "218, 189, 141, 550, 147, 43, 123, 562, 233, 130, "
          ]
        }
      ]
    },
    {
      "cell_type": "markdown",
      "metadata": {
        "id": "bT-aSSy0w0Sf"
      },
      "source": [
        "### 2.2 輸出資料部份\n",
        "\n",
        "輸出方面應該很容易想像, 我們來看看前 10 筆。結果自然就是 0 (負評) 或 1 (正評)。"
      ]
    },
    {
      "cell_type": "code",
      "metadata": {
        "id": "I310ut-uw0Sf",
        "outputId": "55f901c6-b04f-4949-8ca8-044922bdc155"
      },
      "source": [
        "y_train[:10]"
      ],
      "execution_count": null,
      "outputs": [
        {
          "data": {
            "text/plain": [
              "array([1, 0, 0, 1, 0, 0, 1, 0, 1, 0])"
            ]
          },
          "execution_count": 9,
          "metadata": {},
          "output_type": "execute_result"
        }
      ]
    },
    {
      "cell_type": "markdown",
      "metadata": {
        "id": "lmgOEBbXw0Sg"
      },
      "source": [
        "### 2.3 送入神經網路的輸入處理\n",
        "\n",
        "雖然 RNN 是可以處理不同長度的輸入, 在寫程式時我們還是要\n",
        "\n",
        "* 設輸入文字長度的上限\n",
        "* 把每段文字都弄成一樣長, 太短的後面補上 0"
      ]
    },
    {
      "cell_type": "code",
      "metadata": {
        "id": "7XweK8UXw0Sh"
      },
      "source": [
        "from keras.preprocessing import sequence"
      ],
      "execution_count": null,
      "outputs": []
    },
    {
      "cell_type": "code",
      "metadata": {
        "id": "fsNqr7qQw0Si"
      },
      "source": [
        "x_train = sequence.pad_sequences(x_train, maxlen=100)\n",
        "x_test = sequence.pad_sequences(x_test, maxlen=100)"
      ],
      "execution_count": null,
      "outputs": []
    },
    {
      "cell_type": "code",
      "metadata": {
        "id": "j29ltASkw0Si",
        "outputId": "3c41d99a-976f-4d6c-cb3a-833fa715c5f8"
      },
      "source": [
        "x_train.shape"
      ],
      "execution_count": null,
      "outputs": [
        {
          "data": {
            "text/plain": [
              "(25000, 100)"
            ]
          },
          "execution_count": 12,
          "metadata": {},
          "output_type": "execute_result"
        }
      ]
    },
    {
      "cell_type": "markdown",
      "metadata": {
        "id": "4s-CkOktw0Si"
      },
      "source": [
        "至此我們可以來寫我們的第一個 RNN 了!"
      ]
    },
    {
      "cell_type": "markdown",
      "metadata": {
        "id": "6JFIlHjiw0Sj"
      },
      "source": [
        "## 3. 打造你的 RNN\n",
        "\n",
        "這裡我們選用 LSTM, 基本上用哪種 RNN 寫法都是差不多的!"
      ]
    },
    {
      "cell_type": "markdown",
      "metadata": {
        "id": "St3lCpoKw0Sj"
      },
      "source": [
        "### 3.1 決定神經網路架構\n",
        "\n",
        "* 先將 10000 維的文字壓到 128 維\n",
        "* 然後用 128 個 LSTM\n",
        "* 最後一個 output, 直接用 sigmoid 送出"
      ]
    },
    {
      "cell_type": "markdown",
      "metadata": {
        "id": "5dvaSEa1w0Sj"
      },
      "source": [
        "### 3.2 建構我們的神經網路\n",
        "\n",
        "文字我們用 1-hot 表示是很標準的方式, 不過要注意的是, 因為我們指定要 1 萬個字, 所以每個字是用 1 萬維的向量表示! 這一來很浪費記憶空間, 二來字和字間基本上是沒有關係的。我們可以用某種「合理」的方式, 把字壓到比較小的維度, 這些向量又代表某些意思 (比如說兩個字代表的向量角度小表相關程度大) 等等。\n",
        "\n",
        "這聽來很複雜的事叫 \"word embedding\", 而事實上 Keras 會幫我們做。我們只需告訴 Keras 原來最大的數字是多少 (10000), 還有我們打算壓到幾維 (128)。"
      ]
    },
    {
      "cell_type": "code",
      "metadata": {
        "id": "U7u5j2XIw0Sk"
      },
      "source": [
        "from keras.models import Sequential\n",
        "from keras.layers import Dense, Embedding\n",
        "from keras.layers import LSTM"
      ],
      "execution_count": null,
      "outputs": []
    },
    {
      "cell_type": "code",
      "metadata": {
        "id": "PoHo5kQfw0Sk"
      },
      "source": [
        "model = Sequential()"
      ],
      "execution_count": null,
      "outputs": []
    },
    {
      "cell_type": "code",
      "metadata": {
        "id": "GfsQYtpQw0Sk"
      },
      "source": [
        "model.add(Embedding(10000, 128))"
      ],
      "execution_count": null,
      "outputs": []
    },
    {
      "cell_type": "code",
      "metadata": {
        "id": "i3RchlfZw0Sk"
      },
      "source": [
        "model.add(LSTM(150))"
      ],
      "execution_count": null,
      "outputs": []
    },
    {
      "cell_type": "code",
      "metadata": {
        "id": "9zn6O5UFw0Sl"
      },
      "source": [
        "model.add(Dense(1, activation='sigmoid'))"
      ],
      "execution_count": null,
      "outputs": []
    },
    {
      "cell_type": "markdown",
      "metadata": {
        "id": "PUZ6eyhqw0Sl"
      },
      "source": [
        "### 3.3 組裝\n",
        "\n",
        "這次我們用 binary_crossentropy 做我們的 loss function, 另外用一個很潮的 Adam 學習法。"
      ]
    },
    {
      "cell_type": "code",
      "metadata": {
        "id": "3V6oTG3tw0Sl",
        "outputId": "5a857035-c705-4c11-afe7-ef5b60c6203d"
      },
      "source": [
        "model.summary()"
      ],
      "execution_count": null,
      "outputs": [
        {
          "name": "stdout",
          "output_type": "stream",
          "text": [
            "_________________________________________________________________\n",
            "Layer (type)                 Output Shape              Param #   \n",
            "=================================================================\n",
            "embedding_1 (Embedding)      (None, None, 128)         1280000   \n",
            "_________________________________________________________________\n",
            "lstm_1 (LSTM)                (None, 150)               167400    \n",
            "_________________________________________________________________\n",
            "dense_1 (Dense)              (None, 1)                 151       \n",
            "=================================================================\n",
            "Total params: 1,447,551\n",
            "Trainable params: 1,447,551\n",
            "Non-trainable params: 0\n",
            "_________________________________________________________________\n"
          ]
        }
      ]
    },
    {
      "cell_type": "code",
      "metadata": {
        "id": "hmqCbJwRw0Sl",
        "outputId": "d3f1ed22-d490-4f6a-a8f0-63187f6d4ed6"
      },
      "source": [
        "3*(128+150+1)*150"
      ],
      "execution_count": null,
      "outputs": [
        {
          "data": {
            "text/plain": [
              "125550"
            ]
          },
          "execution_count": 23,
          "metadata": {},
          "output_type": "execute_result"
        }
      ]
    },
    {
      "cell_type": "code",
      "metadata": {
        "id": "tLk8kVH9w0Sm",
        "outputId": "d8c35231-6289-488c-89af-3e1bd4849743"
      },
      "source": [
        "(128+150+1)*150"
      ],
      "execution_count": null,
      "outputs": [
        {
          "data": {
            "text/plain": [
              "41850"
            ]
          },
          "execution_count": 24,
          "metadata": {},
          "output_type": "execute_result"
        }
      ]
    },
    {
      "cell_type": "code",
      "metadata": {
        "id": "p3SdgQ83w0Sm",
        "outputId": "6b80605e-1bbe-4c1d-e032-2e09a61d7790"
      },
      "source": [
        "125550 + 41850"
      ],
      "execution_count": null,
      "outputs": [
        {
          "data": {
            "text/plain": [
              "167400"
            ]
          },
          "execution_count": 25,
          "metadata": {},
          "output_type": "execute_result"
        }
      ]
    },
    {
      "cell_type": "code",
      "metadata": {
        "id": "VbbfycSRw0Sm"
      },
      "source": [
        "model.compile(loss='binary_crossentropy',\n",
        "            optimizer='adam',\n",
        "            metrics=['accuracy'])"
      ],
      "execution_count": null,
      "outputs": []
    },
    {
      "cell_type": "markdown",
      "metadata": {
        "id": "ogE8vF38w0Sn"
      },
      "source": [
        "## 4. 訓練"
      ]
    },
    {
      "cell_type": "code",
      "metadata": {
        "id": "Ew6V2-yfw0Sn",
        "outputId": "320fd3df-8057-4b21-e9b2-e27821e20493"
      },
      "source": [
        "model.fit(x_train, y_train,\n",
        "         batch_size=32,\n",
        "         epochs=15)"
      ],
      "execution_count": null,
      "outputs": [
        {
          "name": "stdout",
          "output_type": "stream",
          "text": [
            "Epoch 1/15\n",
            "25000/25000 [==============================] - 52s 2ms/step - loss: 0.4205 - acc: 0.8046\n",
            "Epoch 2/15\n",
            "25000/25000 [==============================] - 50s 2ms/step - loss: 0.2668 - acc: 0.8935\n",
            "Epoch 3/15\n",
            "25000/25000 [==============================] - 50s 2ms/step - loss: 0.1966 - acc: 0.9242\n",
            "Epoch 4/15\n",
            "25000/25000 [==============================] - 50s 2ms/step - loss: 0.1379 - acc: 0.9487\n",
            "Epoch 5/15\n",
            "25000/25000 [==============================] - 50s 2ms/step - loss: 0.0969 - acc: 0.9651\n",
            "Epoch 6/15\n",
            "25000/25000 [==============================] - 50s 2ms/step - loss: 0.0761 - acc: 0.9738\n",
            "Epoch 7/15\n",
            "25000/25000 [==============================] - 50s 2ms/step - loss: 0.0484 - acc: 0.9850\n",
            "Epoch 8/15\n",
            "25000/25000 [==============================] - 50s 2ms/step - loss: 0.0473 - acc: 0.9851\n",
            "Epoch 9/15\n",
            "25000/25000 [==============================] - 49s 2ms/step - loss: 0.0269 - acc: 0.9912\n",
            "Epoch 10/15\n",
            "25000/25000 [==============================] - 49s 2ms/step - loss: 0.0261 - acc: 0.9912\n",
            "Epoch 11/15\n",
            "25000/25000 [==============================] - 49s 2ms/step - loss: 0.0196 - acc: 0.9942\n",
            "Epoch 12/15\n",
            "25000/25000 [==============================] - 49s 2ms/step - loss: 0.0165 - acc: 0.9955\n",
            "Epoch 13/15\n",
            "25000/25000 [==============================] - 49s 2ms/step - loss: 0.0230 - acc: 0.9933\n",
            "Epoch 14/15\n",
            "25000/25000 [==============================] - 49s 2ms/step - loss: 0.0131 - acc: 0.9964\n",
            "Epoch 15/15\n",
            "25000/25000 [==============================] - 49s 2ms/step - loss: 0.0183 - acc: 0.9942\n"
          ]
        },
        {
          "data": {
            "text/plain": [
              "<keras.callbacks.History at 0x7f681e008a58>"
            ]
          },
          "execution_count": 28,
          "metadata": {},
          "output_type": "execute_result"
        }
      ]
    },
    {
      "cell_type": "markdown",
      "metadata": {
        "id": "4kx1amTsw0Sn"
      },
      "source": [
        "## 5. 檢視結果"
      ]
    },
    {
      "cell_type": "markdown",
      "metadata": {
        "id": "4229R_jIw0Sn"
      },
      "source": [
        "### 5.1 分數\n",
        "\n",
        "我們照例來看看測試資料的分數。"
      ]
    },
    {
      "cell_type": "code",
      "metadata": {
        "id": "AGMAUIitw0Sn",
        "outputId": "a5110bc1-6471-4867-e44d-50347e2ce5ff"
      },
      "source": [
        "score = model.evaluate(x_test, y_test)"
      ],
      "execution_count": null,
      "outputs": [
        {
          "name": "stdout",
          "output_type": "stream",
          "text": [
            "25000/25000 [==============================] - 11s 425us/step\n"
          ]
        }
      ]
    },
    {
      "cell_type": "code",
      "metadata": {
        "id": "uHsi5dpBw0So",
        "outputId": "c0e7681a-c21a-4f4f-c3fa-7def3c3197b3"
      },
      "source": [
        "print('測試資料的 loss', score[0])\n",
        "print('測試資料的正確率', score[1])"
      ],
      "execution_count": null,
      "outputs": [
        {
          "name": "stdout",
          "output_type": "stream",
          "text": [
            "測試資料的 loss 0.9018989972472191\n",
            "測試資料的正確率 0.82984\n"
          ]
        }
      ]
    },
    {
      "cell_type": "markdown",
      "metadata": {
        "id": "aDsyAUvdw0So"
      },
      "source": [
        "### 5.2 儲存結果\n",
        "\n",
        "這裡有 8 成我們可以正確分辨, 看來還不差, 照例我們把結果存檔。"
      ]
    },
    {
      "cell_type": "code",
      "metadata": {
        "id": "b2h_ScN9w0So",
        "outputId": "c5948979-f887-4acf-91cf-4bfcc626ecfa"
      },
      "source": [
        "model_json = model.to_json()\n",
        "open('imdb_model_architecture.json', 'w').write(model_json)"
      ],
      "execution_count": null,
      "outputs": [
        {
          "data": {
            "text/plain": [
              "1847"
            ]
          },
          "execution_count": 61,
          "metadata": {},
          "output_type": "execute_result"
        }
      ]
    },
    {
      "cell_type": "code",
      "metadata": {
        "id": "gl7XdGTQw0So"
      },
      "source": [
        "model.save_weights('imdb_model_weights.h5')"
      ],
      "execution_count": null,
      "outputs": []
    },
    {
      "cell_type": "markdown",
      "metadata": {
        "id": "S6_QPXOhw0Sp"
      },
      "source": [
        "### 另一種存的方式"
      ]
    },
    {
      "cell_type": "code",
      "metadata": {
        "id": "83VIH01ow0Sp"
      },
      "source": [
        "model.save('myrnn.h5')"
      ],
      "execution_count": null,
      "outputs": []
    },
    {
      "cell_type": "code",
      "metadata": {
        "id": "FzueC1BUw0Sp"
      },
      "source": [
        ""
      ],
      "execution_count": null,
      "outputs": []
    }
  ]
}