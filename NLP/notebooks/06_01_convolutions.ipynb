{
 "cells": [
  {
   "cell_type": "markdown",
   "metadata": {
    "id": "OBxWZ2gEWsOk"
   },
   "source": [
    "# 卷積"
   ]
  },
  {
   "cell_type": "markdown",
   "metadata": {
    "id": "snzt09ouWsOq"
   },
   "source": [
    "## 範例1. 使用程式計算卷積"
   ]
  },
  {
   "cell_type": "code",
   "execution_count": 1,
   "metadata": {
    "id": "Hvo9J9vEWsOq",
    "outputId": "abf0a94f-3647-4eca-cb19-7979aa85e28b"
   },
   "outputs": [
    {
     "name": "stdout",
     "output_type": "stream",
     "text": [
      "原始資料：\n",
      "[[1 1 1 0 0]\n",
      " [0 1 1 1 0]\n",
      " [0 0 1 1 1]\n",
      " [0 0 1 1 0]\n",
      " [0 1 1 0 0]]\n",
      "\n",
      "濾波器:\n",
      "[[1 0 1]\n",
      " [0 1 0]\n",
      " [1 0 1]]\n"
     ]
    },
    {
     "name": "stderr",
     "output_type": "stream",
     "text": [
      "C:\\Users\\user\\AppData\\Local\\Temp/ipykernel_10868/1858344445.py:4: DeprecationWarning: `np.int` is a deprecated alias for the builtin `int`. To silence this warning, use `int` by itself. Doing this will not modify any behavior and is safe. When replacing `np.int`, you may wish to use e.g. `np.int64` or `np.int32` to specify the precision. If you wish to review your current use, check the release note link for additional information.\n",
      "Deprecated in NumPy 1.20; for more details and guidance: https://numpy.org/devdocs/release/1.20.0-notes.html#deprecations\n",
      "  source_map = np.array(list('1110001110001110011001100')).astype(np.int)\n",
      "C:\\Users\\user\\AppData\\Local\\Temp/ipykernel_10868/1858344445.py:10: DeprecationWarning: `np.int` is a deprecated alias for the builtin `int`. To silence this warning, use `int` by itself. Doing this will not modify any behavior and is safe. When replacing `np.int`, you may wish to use e.g. `np.int64` or `np.int32` to specify the precision. If you wish to review your current use, check the release note link for additional information.\n",
      "Deprecated in NumPy 1.20; for more details and guidance: https://numpy.org/devdocs/release/1.20.0-notes.html#deprecations\n",
      "  filter1 = np.array(list('101010101')).astype(np.int).reshape(3,3)\n"
     ]
    }
   ],
   "source": [
    "import numpy as np\n",
    "\n",
    "# 測試資料\n",
    "source_map = np.array(list('1110001110001110011001100')).astype(np.int)\n",
    "source_map = source_map.reshape(5,5)\n",
    "print('原始資料：')\n",
    "print(source_map)\n",
    "\n",
    "# 濾波器(Filter)\n",
    "filter1 = np.array(list('101010101')).astype(np.int).reshape(3,3)\n",
    "print('\\n濾波器:')\n",
    "print(filter1)"
   ]
  },
  {
   "cell_type": "code",
   "execution_count": 2,
   "metadata": {
    "id": "C88TJrkNWsOt",
    "outputId": "d235fcb5-7ec9-41c4-e9d5-7cf08c96975d"
   },
   "outputs": [
    {
     "name": "stdout",
     "output_type": "stream",
     "text": [
      "[[4. 3. 4.]\n",
      " [2. 4. 3.]\n",
      " [2. 3. 4.]]\n"
     ]
    }
   ],
   "source": [
    "# 計算卷積\n",
    "# 初始化計算結果的矩陣\n",
    "width = height = source_map.shape[0] - filter1.shape[0] + 1\n",
    "result = np.zeros((width, height))\n",
    "\n",
    "# 計算每一格\n",
    "for i in range(width):\n",
    "    for j in range(height):\n",
    "        value1 =source_map[i:i+filter1.shape[0], j:j+filter1.shape[1]] * filter1\n",
    "        result[i, j] = np.sum(value1)\n",
    "print(result)"
   ]
  },
  {
   "cell_type": "code",
   "execution_count": 3,
   "metadata": {},
   "outputs": [
    {
     "name": "stdout",
     "output_type": "stream",
     "text": [
      "Requirement already satisfied: scipy in c:\\users\\user\\anaconda3\\envs\\cv\\lib\\site-packages (1.7.1)\n",
      "Requirement already satisfied: numpy<1.23.0,>=1.16.5 in c:\\users\\user\\anaconda3\\envs\\cv\\lib\\site-packages (from scipy) (1.21.2)\n"
     ]
    }
   ],
   "source": [
    "!pip install scipy"
   ]
  },
  {
   "cell_type": "code",
   "execution_count": 4,
   "metadata": {
    "id": "WcpjhLzEWsOt",
    "outputId": "b3605e5d-1b6a-48b6-ca2b-49048777383b",
    "scrolled": true
   },
   "outputs": [
    {
     "data": {
      "text/plain": [
       "array([[4, 3, 4],\n",
       "       [2, 4, 3],\n",
       "       [2, 3, 4]])"
      ]
     },
     "execution_count": 4,
     "metadata": {},
     "output_type": "execute_result"
    }
   ],
   "source": [
    "# 使用 scipy 計算卷積\n",
    "from scipy.signal import convolve2d\n",
    "\n",
    "# convolve2d：二維卷積\n",
    "convolve2d(source_map, filter1, mode='valid')"
   ]
  },
  {
   "cell_type": "code",
   "execution_count": 5,
   "metadata": {},
   "outputs": [
    {
     "name": "stdout",
     "output_type": "stream",
     "text": [
      "Requirement already satisfied: scikit-image in c:\\users\\user\\anaconda3\\envs\\cv\\lib\\site-packages (0.18.3)\n",
      "Requirement already satisfied: tifffile>=2019.7.26 in c:\\users\\user\\anaconda3\\envs\\cv\\lib\\site-packages (from scikit-image) (2021.8.30)\n",
      "Requirement already satisfied: networkx>=2.0 in c:\\users\\user\\anaconda3\\envs\\cv\\lib\\site-packages (from scikit-image) (2.6.3)\n",
      "Requirement already satisfied: matplotlib!=3.0.0,>=2.0.0 in c:\\users\\user\\anaconda3\\envs\\cv\\lib\\site-packages (from scikit-image) (3.4.3)\n",
      "Requirement already satisfied: pillow!=7.1.0,!=7.1.1,>=4.3.0 in c:\\users\\user\\anaconda3\\envs\\cv\\lib\\site-packages (from scikit-image) (8.3.2)\n",
      "Requirement already satisfied: numpy>=1.16.5 in c:\\users\\user\\anaconda3\\envs\\cv\\lib\\site-packages (from scikit-image) (1.21.2)\n",
      "Requirement already satisfied: imageio>=2.3.0 in c:\\users\\user\\anaconda3\\envs\\cv\\lib\\site-packages (from scikit-image) (2.9.0)\n",
      "Requirement already satisfied: scipy>=1.0.1 in c:\\users\\user\\anaconda3\\envs\\cv\\lib\\site-packages (from scikit-image) (1.7.1)\n",
      "Requirement already satisfied: PyWavelets>=1.1.1 in c:\\users\\user\\anaconda3\\envs\\cv\\lib\\site-packages (from scikit-image) (1.1.1)\n",
      "Requirement already satisfied: kiwisolver>=1.0.1 in c:\\users\\user\\anaconda3\\envs\\cv\\lib\\site-packages (from matplotlib!=3.0.0,>=2.0.0->scikit-image) (1.3.2)\n",
      "Requirement already satisfied: python-dateutil>=2.7 in c:\\users\\user\\anaconda3\\envs\\cv\\lib\\site-packages (from matplotlib!=3.0.0,>=2.0.0->scikit-image) (2.8.2)\n",
      "Requirement already satisfied: cycler>=0.10 in c:\\users\\user\\anaconda3\\envs\\cv\\lib\\site-packages (from matplotlib!=3.0.0,>=2.0.0->scikit-image) (0.10.0)\n",
      "Requirement already satisfied: pyparsing>=2.2.1 in c:\\users\\user\\anaconda3\\envs\\cv\\lib\\site-packages (from matplotlib!=3.0.0,>=2.0.0->scikit-image) (2.4.7)\n",
      "Requirement already satisfied: six in c:\\users\\user\\anaconda3\\envs\\cv\\lib\\site-packages (from cycler>=0.10->matplotlib!=3.0.0,>=2.0.0->scikit-image) (1.16.0)\n"
     ]
    }
   ],
   "source": [
    "!pip install scikit-image"
   ]
  },
  {
   "cell_type": "markdown",
   "metadata": {
    "id": "LA-XOB9OWsOu"
   },
   "source": [
    "## 定義卷積的影像轉換函數"
   ]
  },
  {
   "cell_type": "code",
   "execution_count": 6,
   "metadata": {
    "id": "qPZGHrXKWsOu"
   },
   "outputs": [],
   "source": [
    "# 卷積的影像轉換函數，padding='same'\n",
    "from skimage.exposure import rescale_intensity\n",
    "\n",
    "def convolve(image, kernel):\n",
    "    # 取得圖像與濾波器的寬高\n",
    "    (iH, iW) = image.shape[:2]\n",
    "    (kH, kW) = kernel.shape[:2]\n",
    "\n",
    "    # 計算 padding='same' 單邊所需的補零行數\n",
    "    pad = int((kW - 1) / 2)\n",
    "    image = cv2.copyMakeBorder(image, pad, pad, pad, pad, cv2.BORDER_REPLICATE)\n",
    "    output = np.zeros((iH, iW), dtype=\"float32\")\n",
    "\n",
    "    # 卷積\n",
    "    for y in np.arange(pad, iH + pad):\n",
    "        for x in np.arange(pad, iW + pad):            \n",
    "            roi = image[y - pad:y + pad + 1, x - pad:x + pad + 1]  # 裁切圖像            \n",
    "            k = (roi * kernel).sum()                               # 卷積計算\n",
    "            output[y - pad, x - pad] = k                           # 更新計算結果的矩陣 \n",
    "\n",
    "    # 調整影像色彩深淺範圍至 (0, 255)\n",
    "    output = rescale_intensity(output, in_range=(0, 255))\n",
    "    output = (output * 255).astype(\"uint8\")\n",
    "   \n",
    "    return output     # 回傳結果影像"
   ]
  },
  {
   "cell_type": "markdown",
   "metadata": {
    "id": "UW-_Cuk4WsOv"
   },
   "source": [
    "## 灰階化(Gray)"
   ]
  },
  {
   "cell_type": "code",
   "execution_count": 7,
   "metadata": {
    "id": "LDplgRQHWsOw"
   },
   "outputs": [],
   "source": [
    "# pip install opencv-python\n",
    "import skimage\n",
    "import cv2\n",
    "\n",
    "# 自 skimage 取得內建的圖像\n",
    "image = skimage.data.chelsea()\n",
    "cv2.imshow(\"original\", image)\n",
    "\n",
    "# 灰階化\n",
    "gray = cv2.cvtColor(image, cv2.COLOR_BGR2GRAY)\n",
    "cv2.imshow(\"gray\", gray)\n",
    "\n",
    "# 按 Enter 關閉視窗\n",
    "cv2.waitKey(0)\n",
    "cv2.destroyAllWindows()"
   ]
  },
  {
   "cell_type": "markdown",
   "metadata": {
    "id": "BVegc2CbWsOx"
   },
   "source": [
    "## 模糊化(Blur)"
   ]
  },
  {
   "cell_type": "code",
   "execution_count": 13,
   "metadata": {
    "id": "WcuVfT30WsOx"
   },
   "outputs": [],
   "source": [
    "# 小模糊 filter\n",
    "smallBlur = np.ones((7, 7), dtype=\"float\") * (1.0 / (7 * 7))\n",
    "\n",
    "# 卷積\n",
    "convoleOutput = convolve(gray, smallBlur)\n",
    "opencvOutput = cv2.filter2D(gray, -1, smallBlur)\n",
    "cv2.imshow(\"little Blur\", convoleOutput)\n",
    "\n",
    "# 大模糊\n",
    "largeBlur = np.ones((21, 21), dtype=\"float\") * (1.0 / (21 * 21))\n",
    "\n",
    "# 卷積\n",
    "convoleOutput = convolve(gray, largeBlur)\n",
    "opencvOutput = cv2.filter2D(gray, -1, largeBlur)\n",
    "cv2.imshow(\"large Blur\", convoleOutput)\n",
    "\n",
    "# 按 Enter 關閉視窗\n",
    "cv2.waitKey(0)\n",
    "cv2.destroyAllWindows()"
   ]
  },
  {
   "cell_type": "markdown",
   "metadata": {
    "id": "J9Qv6LCkWsOy"
   },
   "source": [
    "## 銳化(sharpen)"
   ]
  },
  {
   "cell_type": "code",
   "execution_count": 9,
   "metadata": {
    "id": "JQFYYquVWsOy"
   },
   "outputs": [],
   "source": [
    "# sharpening filter\n",
    "sharpen = np.array((\n",
    "    [0, -1, 0],\n",
    "    [-1, 5, -1],\n",
    "    [0, -1, 0]), dtype=\"int\")\n",
    "\n",
    "# 卷積\n",
    "convoleOutput = convolve(gray, sharpen)\n",
    "opencvOutput = cv2.filter2D(gray, -1, sharpen)\n",
    "cv2.imshow(\"sharpen\", convoleOutput)\n",
    "\n",
    "# 按 Enter 關閉視窗\n",
    "cv2.waitKey(0)\n",
    "cv2.destroyAllWindows()"
   ]
  },
  {
   "cell_type": "markdown",
   "metadata": {
    "id": "B2NJmxRpWsOz"
   },
   "source": [
    "## Laplacian 邊緣偵測"
   ]
  },
  {
   "cell_type": "code",
   "execution_count": 16,
   "metadata": {
    "id": "etob7PhuWsOz"
   },
   "outputs": [],
   "source": [
    "# Laplacian filter\n",
    "laplacian = np.array((\n",
    "    [0, 1, 0],\n",
    "    [1, -4, 1],\n",
    "    [0, 1, 0]), dtype=\"int\")\n",
    "\n",
    "# 卷積\n",
    "convoleOutput = convolve(gray, laplacian)\n",
    "opencvOutput = cv2.filter2D(gray, -1, laplacian)\n",
    "cv2.imshow(\"laplacian edge detection\", convoleOutput)\n",
    "\n",
    "# 按 Enter 關閉視窗\n",
    "cv2.waitKey(0)\n",
    "cv2.destroyAllWindows()"
   ]
  },
  {
   "cell_type": "markdown",
   "metadata": {
    "id": "Csv7uxafWsOz"
   },
   "source": [
    "## Sobel X軸邊緣偵測"
   ]
  },
  {
   "cell_type": "code",
   "execution_count": 18,
   "metadata": {
    "id": "ORv7qm9gWsO0"
   },
   "outputs": [],
   "source": [
    "# Sobel x-axis filter\n",
    "sobelX = np.array((\n",
    "    [-1, 0, 1],\n",
    "    [-2, 0, 2],\n",
    "    [-1, 0, 1]), dtype=\"int\")\n",
    "\n",
    "# 卷積\n",
    "convoleOutput = convolve(gray, sobelX)\n",
    "opencvOutput = cv2.filter2D(gray, -1, sobelX)\n",
    "cv2.imshow(\"x-axis edge detection\", convoleOutput)\n",
    "\n",
    "# 按 Enter 關閉視窗\n",
    "cv2.waitKey(0)\n",
    "cv2.destroyAllWindows()"
   ]
  },
  {
   "cell_type": "markdown",
   "metadata": {
    "id": "UZLcHpOWWsO0"
   },
   "source": [
    "## Sobel Y軸邊緣偵測"
   ]
  },
  {
   "cell_type": "code",
   "execution_count": 12,
   "metadata": {
    "id": "fnTSMhMqWsO1"
   },
   "outputs": [],
   "source": [
    "# Sobel y-axis filter\n",
    "sobelY = np.array((\n",
    "    [-1, -2, -1],\n",
    "    [0, 0, 0],\n",
    "    [1, 2, 1]), dtype=\"int\")\n",
    "\n",
    "# 卷積\n",
    "convoleOutput = convolve(gray, sobelY)\n",
    "opencvOutput = cv2.filter2D(gray, -1, sobelY)\n",
    "cv2.imshow(\"y-axis edge detection\", convoleOutput)\n",
    "\n",
    "# 按 Enter 關閉視窗\n",
    "cv2.waitKey(0)\n",
    "cv2.destroyAllWindows()"
   ]
  },
  {
   "cell_type": "code",
   "execution_count": null,
   "metadata": {
    "id": "tPnkD4V5WsO1"
   },
   "outputs": [],
   "source": []
  }
 ],
 "metadata": {
  "colab": {
   "name": "06_01_convolutions.ipynb",
   "provenance": []
  },
  "kernelspec": {
   "display_name": "Python 3 (ipykernel)",
   "language": "python",
   "name": "python3"
  },
  "language_info": {
   "codemirror_mode": {
    "name": "ipython",
    "version": 3
   },
   "file_extension": ".py",
   "mimetype": "text/x-python",
   "name": "python",
   "nbconvert_exporter": "python",
   "pygments_lexer": "ipython3",
   "version": "3.8.11"
  }
 },
 "nbformat": 4,
 "nbformat_minor": 4
}
