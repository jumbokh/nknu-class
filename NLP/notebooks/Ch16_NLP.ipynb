{
  "nbformat": 4,
  "nbformat_minor": 0,
  "metadata": {
    "orig_nbformat": 4,
    "colab": {
      "name": "Ch16-NLP.ipynb",
      "provenance": [],
      "include_colab_link": true
    },
    "language_info": {
      "name": "python"
    },
    "kernelspec": {
      "name": "python3",
      "display_name": "Python 3"
    }
  },
  "cells": [
    {
      "cell_type": "markdown",
      "metadata": {
        "id": "view-in-github",
        "colab_type": "text"
      },
      "source": [
        "<a href=\"https://colab.research.google.com/github/jumbokh/nknu-class/blob/main/NLP/notebooks/Ch16_NLP.ipynb\" target=\"_parent\"><img src=\"https://colab.research.google.com/assets/colab-badge.svg\" alt=\"Open In Colab\"/></a>"
      ]
    },
    {
      "cell_type": "code",
      "metadata": {
        "colab": {
          "base_uri": "https://localhost:8080/"
        },
        "id": "Mny-FAJBKf3F",
        "outputId": "90b20493-7d01-42be-deba-1ff5e3fe4d2c"
      },
      "source": [
        "import pandas as pd\n",
        "import numpy as np\n",
        "import matplotlib.pyplot as plt\n",
        "import seaborn as sns\n",
        "%matplotlib inline\n",
        "%config InlineBackend.figure_format = 'retina'\n",
        "import warnings\n",
        "warnings.filterwarnings('ignore')\n",
        "\n",
        "from sklearn.datasets import fetch_20newsgroups\n",
        "categories = ['alt.atheism', 'soc.religion.christian','comp.graphics', 'sci.med']\n",
        "train = fetch_20newsgroups(subset='train', categories=categories, shuffle=True, random_state=42)\n",
        "test = fetch_20newsgroups(subset='test', categories=categories, shuffle=True, random_state=42)\n",
        "print('\\n'.join(train['DESCR'].split('\\n')[:10]))"
      ],
      "execution_count": 1,
      "outputs": [
        {
          "output_type": "stream",
          "name": "stderr",
          "text": [
            "Downloading 20news dataset. This may take a few minutes.\n",
            "Downloading dataset from https://ndownloader.figshare.com/files/5975967 (14 MB)\n"
          ]
        },
        {
          "output_type": "stream",
          "name": "stdout",
          "text": [
            ".. _20newsgroups_dataset:\n",
            "\n",
            "The 20 newsgroups text dataset\n",
            "------------------------------\n",
            "\n",
            "The 20 newsgroups dataset comprises around 18000 newsgroups posts on\n",
            "20 topics split in two subsets: one for training (or development)\n",
            "and the other one for testing (or for performance evaluation). The split\n",
            "between the train and test set is based upon a messages posted before\n",
            "and after a specific date.\n"
          ]
        }
      ]
    },
    {
      "cell_type": "code",
      "metadata": {
        "colab": {
          "base_uri": "https://localhost:8080/"
        },
        "id": "82RQN-I3Kf3J",
        "outputId": "6d387551-c5be-4f04-b95f-f4cfa70630c4"
      },
      "source": [
        "train['target_names']"
      ],
      "execution_count": 2,
      "outputs": [
        {
          "output_type": "execute_result",
          "data": {
            "text/plain": [
              "['alt.atheism', 'comp.graphics', 'sci.med', 'soc.religion.christian']"
            ]
          },
          "metadata": {},
          "execution_count": 2
        }
      ]
    },
    {
      "cell_type": "code",
      "metadata": {
        "colab": {
          "base_uri": "https://localhost:8080/",
          "height": 289
        },
        "id": "aXJJgw3aKf3L",
        "outputId": "ad8927e9-19ad-4d24-b181-b917d520e4b1"
      },
      "source": [
        "from IPython.display import display\n",
        "df_train = pd.DataFrame(zip(train['data'], train['target']), \n",
        "                        columns=['content','target'])\n",
        "display(df_train.head())\n",
        "display(df_train['target'].value_counts())"
      ],
      "execution_count": 3,
      "outputs": [
        {
          "output_type": "display_data",
          "data": {
            "text/html": [
              "<div>\n",
              "<style scoped>\n",
              "    .dataframe tbody tr th:only-of-type {\n",
              "        vertical-align: middle;\n",
              "    }\n",
              "\n",
              "    .dataframe tbody tr th {\n",
              "        vertical-align: top;\n",
              "    }\n",
              "\n",
              "    .dataframe thead th {\n",
              "        text-align: right;\n",
              "    }\n",
              "</style>\n",
              "<table border=\"1\" class=\"dataframe\">\n",
              "  <thead>\n",
              "    <tr style=\"text-align: right;\">\n",
              "      <th></th>\n",
              "      <th>content</th>\n",
              "      <th>target</th>\n",
              "    </tr>\n",
              "  </thead>\n",
              "  <tbody>\n",
              "    <tr>\n",
              "      <th>0</th>\n",
              "      <td>From: sd345@city.ac.uk (Michael Collier)\\nSubj...</td>\n",
              "      <td>1</td>\n",
              "    </tr>\n",
              "    <tr>\n",
              "      <th>1</th>\n",
              "      <td>From: ani@ms.uky.edu (Aniruddha B. Deglurkar)\\...</td>\n",
              "      <td>1</td>\n",
              "    </tr>\n",
              "    <tr>\n",
              "      <th>2</th>\n",
              "      <td>From: djohnson@cs.ucsd.edu (Darin Johnson)\\nSu...</td>\n",
              "      <td>3</td>\n",
              "    </tr>\n",
              "    <tr>\n",
              "      <th>3</th>\n",
              "      <td>From: s0612596@let.rug.nl (M.M. Zwart)\\nSubjec...</td>\n",
              "      <td>3</td>\n",
              "    </tr>\n",
              "    <tr>\n",
              "      <th>4</th>\n",
              "      <td>From: stanly@grok11.columbiasc.ncr.com (stanly...</td>\n",
              "      <td>3</td>\n",
              "    </tr>\n",
              "  </tbody>\n",
              "</table>\n",
              "</div>"
            ],
            "text/plain": [
              "                                             content  target\n",
              "0  From: sd345@city.ac.uk (Michael Collier)\\nSubj...       1\n",
              "1  From: ani@ms.uky.edu (Aniruddha B. Deglurkar)\\...       1\n",
              "2  From: djohnson@cs.ucsd.edu (Darin Johnson)\\nSu...       3\n",
              "3  From: s0612596@let.rug.nl (M.M. Zwart)\\nSubjec...       3\n",
              "4  From: stanly@grok11.columbiasc.ncr.com (stanly...       3"
            ]
          },
          "metadata": {}
        },
        {
          "output_type": "display_data",
          "data": {
            "text/plain": [
              "3    599\n",
              "2    594\n",
              "1    584\n",
              "0    480\n",
              "Name: target, dtype: int64"
            ]
          },
          "metadata": {}
        }
      ]
    },
    {
      "cell_type": "code",
      "metadata": {
        "colab": {
          "base_uri": "https://localhost:8080/"
        },
        "id": "JTEvXwamKf3M",
        "outputId": "704b207d-cc3e-4024-d07b-97100769a7cb"
      },
      "source": [
        "print(f'檢視第一筆資料的類別為：{df_train.loc[0,\"target\"]}')\n",
        "print(df_train.loc[0,'content'])"
      ],
      "execution_count": 4,
      "outputs": [
        {
          "output_type": "stream",
          "name": "stdout",
          "text": [
            "檢視第一筆資料的類別為：1\n",
            "From: sd345@city.ac.uk (Michael Collier)\n",
            "Subject: Converting images to HP LaserJet III?\n",
            "Nntp-Posting-Host: hampton\n",
            "Organization: The City University\n",
            "Lines: 14\n",
            "\n",
            "Does anyone know of a good way (standard PC application/PD utility) to\n",
            "convert tif/img/tga files into LaserJet III format.  We would also like to\n",
            "do the same, converting to HPGL (HP plotter) files.\n",
            "\n",
            "Please email any response.\n",
            "\n",
            "Is this the correct group?\n",
            "\n",
            "Thanks in advance.  Michael.\n",
            "-- \n",
            "Michael Collier (Programmer)                 The Computer Unit,\n",
            "Email: M.P.Collier@uk.ac.city                The City University,\n",
            "Tel: 071 477-8000 x3769                      London,\n",
            "Fax: 071 477-8565                            EC1V 0HB.\n",
            "\n"
          ]
        }
      ]
    },
    {
      "cell_type": "code",
      "metadata": {
        "id": "b0WgXfXmKf3O"
      },
      "source": [
        "X_train = train['data']\n",
        "y_train = train['target']\n",
        "X_test = test['data']\n",
        "y_test = test['target']"
      ],
      "execution_count": 5,
      "outputs": []
    },
    {
      "cell_type": "code",
      "metadata": {
        "colab": {
          "base_uri": "https://localhost:8080/"
        },
        "id": "CxIhp4WZKf3P",
        "outputId": "6bd95f51-f973-44b0-ff0c-5736b4ac0202"
      },
      "source": [
        "from sklearn.feature_extraction.text import CountVectorizer\n",
        "string = ['He do love her and He does not loves he']\n",
        "cv = CountVectorizer()\n",
        "bow = cv.fit_transform(string)\n",
        "bow.toarray()"
      ],
      "execution_count": 6,
      "outputs": [
        {
          "output_type": "execute_result",
          "data": {
            "text/plain": [
              "array([[1, 1, 1, 3, 1, 1, 1, 1]])"
            ]
          },
          "metadata": {},
          "execution_count": 6
        }
      ]
    },
    {
      "cell_type": "code",
      "metadata": {
        "colab": {
          "base_uri": "https://localhost:8080/",
          "height": 80
        },
        "id": "oPmqX8M2Kf3Q",
        "outputId": "34dad547-65e0-4407-b0e1-a3ccc89cb29b"
      },
      "source": [
        "df_bow = pd.DataFrame(bow.toarray(), columns=cv.get_feature_names())\n",
        "df_bow"
      ],
      "execution_count": 7,
      "outputs": [
        {
          "output_type": "execute_result",
          "data": {
            "text/html": [
              "<div>\n",
              "<style scoped>\n",
              "    .dataframe tbody tr th:only-of-type {\n",
              "        vertical-align: middle;\n",
              "    }\n",
              "\n",
              "    .dataframe tbody tr th {\n",
              "        vertical-align: top;\n",
              "    }\n",
              "\n",
              "    .dataframe thead th {\n",
              "        text-align: right;\n",
              "    }\n",
              "</style>\n",
              "<table border=\"1\" class=\"dataframe\">\n",
              "  <thead>\n",
              "    <tr style=\"text-align: right;\">\n",
              "      <th></th>\n",
              "      <th>and</th>\n",
              "      <th>do</th>\n",
              "      <th>does</th>\n",
              "      <th>he</th>\n",
              "      <th>her</th>\n",
              "      <th>love</th>\n",
              "      <th>loves</th>\n",
              "      <th>not</th>\n",
              "    </tr>\n",
              "  </thead>\n",
              "  <tbody>\n",
              "    <tr>\n",
              "      <th>0</th>\n",
              "      <td>1</td>\n",
              "      <td>1</td>\n",
              "      <td>1</td>\n",
              "      <td>3</td>\n",
              "      <td>1</td>\n",
              "      <td>1</td>\n",
              "      <td>1</td>\n",
              "      <td>1</td>\n",
              "    </tr>\n",
              "  </tbody>\n",
              "</table>\n",
              "</div>"
            ],
            "text/plain": [
              "   and  do  does  he  her  love  loves  not\n",
              "0    1   1     1   3    1     1      1    1"
            ]
          },
          "metadata": {},
          "execution_count": 7
        }
      ]
    },
    {
      "cell_type": "code",
      "metadata": {
        "colab": {
          "base_uri": "https://localhost:8080/",
          "height": 80
        },
        "id": "sZsYTSz5Kf3S",
        "outputId": "63f6fcb7-e73b-41b9-8639-d330bb91e496"
      },
      "source": [
        "string = ['He do love her and He does not loves he']\n",
        "cv = CountVectorizer(ngram_range=(2,2))\n",
        "bow = cv.fit_transform(string)\n",
        "df_bow = pd.DataFrame(bow.toarray(), columns=cv.get_feature_names())\n",
        "df_bow"
      ],
      "execution_count": 8,
      "outputs": [
        {
          "output_type": "execute_result",
          "data": {
            "text/html": [
              "<div>\n",
              "<style scoped>\n",
              "    .dataframe tbody tr th:only-of-type {\n",
              "        vertical-align: middle;\n",
              "    }\n",
              "\n",
              "    .dataframe tbody tr th {\n",
              "        vertical-align: top;\n",
              "    }\n",
              "\n",
              "    .dataframe thead th {\n",
              "        text-align: right;\n",
              "    }\n",
              "</style>\n",
              "<table border=\"1\" class=\"dataframe\">\n",
              "  <thead>\n",
              "    <tr style=\"text-align: right;\">\n",
              "      <th></th>\n",
              "      <th>and he</th>\n",
              "      <th>do love</th>\n",
              "      <th>does not</th>\n",
              "      <th>he do</th>\n",
              "      <th>he does</th>\n",
              "      <th>her and</th>\n",
              "      <th>love her</th>\n",
              "      <th>loves he</th>\n",
              "      <th>not loves</th>\n",
              "    </tr>\n",
              "  </thead>\n",
              "  <tbody>\n",
              "    <tr>\n",
              "      <th>0</th>\n",
              "      <td>1</td>\n",
              "      <td>1</td>\n",
              "      <td>1</td>\n",
              "      <td>1</td>\n",
              "      <td>1</td>\n",
              "      <td>1</td>\n",
              "      <td>1</td>\n",
              "      <td>1</td>\n",
              "      <td>1</td>\n",
              "    </tr>\n",
              "  </tbody>\n",
              "</table>\n",
              "</div>"
            ],
            "text/plain": [
              "   and he  do love  does not  he do  ...  her and  love her  loves he  not loves\n",
              "0       1        1         1      1  ...        1         1         1          1\n",
              "\n",
              "[1 rows x 9 columns]"
            ]
          },
          "metadata": {},
          "execution_count": 8
        }
      ]
    },
    {
      "cell_type": "code",
      "metadata": {
        "colab": {
          "base_uri": "https://localhost:8080/",
          "height": 80
        },
        "id": "7MUQPNvtKf3T",
        "outputId": "af5cd949-46a3-46ad-d8b8-3bd616e4525e"
      },
      "source": [
        "string = ['He do love her and He does not loves he']\n",
        "cv = CountVectorizer(stop_words='english')\n",
        "bow = cv.fit_transform(string)\n",
        "df_bow = pd.DataFrame(bow.toarray(), columns=cv.get_feature_names())\n",
        "df_bow"
      ],
      "execution_count": 9,
      "outputs": [
        {
          "output_type": "execute_result",
          "data": {
            "text/html": [
              "<div>\n",
              "<style scoped>\n",
              "    .dataframe tbody tr th:only-of-type {\n",
              "        vertical-align: middle;\n",
              "    }\n",
              "\n",
              "    .dataframe tbody tr th {\n",
              "        vertical-align: top;\n",
              "    }\n",
              "\n",
              "    .dataframe thead th {\n",
              "        text-align: right;\n",
              "    }\n",
              "</style>\n",
              "<table border=\"1\" class=\"dataframe\">\n",
              "  <thead>\n",
              "    <tr style=\"text-align: right;\">\n",
              "      <th></th>\n",
              "      <th>does</th>\n",
              "      <th>love</th>\n",
              "      <th>loves</th>\n",
              "    </tr>\n",
              "  </thead>\n",
              "  <tbody>\n",
              "    <tr>\n",
              "      <th>0</th>\n",
              "      <td>1</td>\n",
              "      <td>1</td>\n",
              "      <td>1</td>\n",
              "    </tr>\n",
              "  </tbody>\n",
              "</table>\n",
              "</div>"
            ],
            "text/plain": [
              "   does  love  loves\n",
              "0     1     1      1"
            ]
          },
          "metadata": {},
          "execution_count": 9
        }
      ]
    },
    {
      "cell_type": "code",
      "metadata": {
        "colab": {
          "base_uri": "https://localhost:8080/",
          "height": 111
        },
        "id": "HqVuDFu7Kf3W",
        "outputId": "a82b976c-1db6-498e-b115-829590e79c59"
      },
      "source": [
        "from sklearn.feature_extraction.text import TfidfVectorizer\n",
        "string = ['dog love loves',\n",
        "         'pig love loves pig']\n",
        "cv = TfidfVectorizer(use_idf=False, stop_words='english')\n",
        "bow = cv.fit_transform(string)\n",
        "df_bow = pd.DataFrame(bow.toarray(), columns=cv.get_feature_names())\n",
        "df_bow"
      ],
      "execution_count": 10,
      "outputs": [
        {
          "output_type": "execute_result",
          "data": {
            "text/html": [
              "<div>\n",
              "<style scoped>\n",
              "    .dataframe tbody tr th:only-of-type {\n",
              "        vertical-align: middle;\n",
              "    }\n",
              "\n",
              "    .dataframe tbody tr th {\n",
              "        vertical-align: top;\n",
              "    }\n",
              "\n",
              "    .dataframe thead th {\n",
              "        text-align: right;\n",
              "    }\n",
              "</style>\n",
              "<table border=\"1\" class=\"dataframe\">\n",
              "  <thead>\n",
              "    <tr style=\"text-align: right;\">\n",
              "      <th></th>\n",
              "      <th>dog</th>\n",
              "      <th>love</th>\n",
              "      <th>loves</th>\n",
              "      <th>pig</th>\n",
              "    </tr>\n",
              "  </thead>\n",
              "  <tbody>\n",
              "    <tr>\n",
              "      <th>0</th>\n",
              "      <td>0.57735</td>\n",
              "      <td>0.577350</td>\n",
              "      <td>0.577350</td>\n",
              "      <td>0.000000</td>\n",
              "    </tr>\n",
              "    <tr>\n",
              "      <th>1</th>\n",
              "      <td>0.00000</td>\n",
              "      <td>0.408248</td>\n",
              "      <td>0.408248</td>\n",
              "      <td>0.816497</td>\n",
              "    </tr>\n",
              "  </tbody>\n",
              "</table>\n",
              "</div>"
            ],
            "text/plain": [
              "       dog      love     loves       pig\n",
              "0  0.57735  0.577350  0.577350  0.000000\n",
              "1  0.00000  0.408248  0.408248  0.816497"
            ]
          },
          "metadata": {},
          "execution_count": 10
        }
      ]
    },
    {
      "cell_type": "code",
      "metadata": {
        "colab": {
          "base_uri": "https://localhost:8080/",
          "height": 111
        },
        "id": "OcEJgDdhKf3X",
        "outputId": "003a71eb-2045-4fbb-c3b8-4436c5bbf511"
      },
      "source": [
        "from sklearn.feature_extraction.text import TfidfVectorizer\n",
        "string = ['dog love loves',\n",
        "         'pig love loves pig']\n",
        "cv = TfidfVectorizer(stop_words='english')\n",
        "bow = cv.fit_transform(string)\n",
        "df_bow = pd.DataFrame(bow.toarray(), columns=cv.get_feature_names())\n",
        "df_bow"
      ],
      "execution_count": 11,
      "outputs": [
        {
          "output_type": "execute_result",
          "data": {
            "text/html": [
              "<div>\n",
              "<style scoped>\n",
              "    .dataframe tbody tr th:only-of-type {\n",
              "        vertical-align: middle;\n",
              "    }\n",
              "\n",
              "    .dataframe tbody tr th {\n",
              "        vertical-align: top;\n",
              "    }\n",
              "\n",
              "    .dataframe thead th {\n",
              "        text-align: right;\n",
              "    }\n",
              "</style>\n",
              "<table border=\"1\" class=\"dataframe\">\n",
              "  <thead>\n",
              "    <tr style=\"text-align: right;\">\n",
              "      <th></th>\n",
              "      <th>dog</th>\n",
              "      <th>love</th>\n",
              "      <th>loves</th>\n",
              "      <th>pig</th>\n",
              "    </tr>\n",
              "  </thead>\n",
              "  <tbody>\n",
              "    <tr>\n",
              "      <th>0</th>\n",
              "      <td>0.704909</td>\n",
              "      <td>0.501549</td>\n",
              "      <td>0.501549</td>\n",
              "      <td>0.000000</td>\n",
              "    </tr>\n",
              "    <tr>\n",
              "      <th>1</th>\n",
              "      <td>0.000000</td>\n",
              "      <td>0.317800</td>\n",
              "      <td>0.317800</td>\n",
              "      <td>0.893312</td>\n",
              "    </tr>\n",
              "  </tbody>\n",
              "</table>\n",
              "</div>"
            ],
            "text/plain": [
              "        dog      love     loves       pig\n",
              "0  0.704909  0.501549  0.501549  0.000000\n",
              "1  0.000000  0.317800  0.317800  0.893312"
            ]
          },
          "metadata": {},
          "execution_count": 11
        }
      ]
    },
    {
      "cell_type": "code",
      "metadata": {
        "id": "Efcza70wKf3Y"
      },
      "source": [
        "from sklearn.linear_model import LogisticRegression\n",
        "from sklearn.svm import SVC\n",
        "from sklearn.neighbors import KNeighborsClassifier\n",
        "from sklearn.naive_bayes import MultinomialNB\n",
        "from sklearn.pipeline import make_pipeline, Pipeline\n",
        "from sklearn.model_selection import GridSearchCV\n",
        "from sklearn.metrics import confusion_matrix, accuracy_score, classification_report"
      ],
      "execution_count": 12,
      "outputs": []
    },
    {
      "cell_type": "code",
      "metadata": {
        "colab": {
          "base_uri": "https://localhost:8080/"
        },
        "id": "TXGhA0c5Kf3a",
        "outputId": "3000b652-0cbc-4ca3-92d9-b30c2925c067"
      },
      "source": [
        "model_pl = Pipeline([\n",
        "    ('preprocess', CountVectorizer(stop_words='english')),\n",
        "    ('model', LogisticRegression())\n",
        "])\n",
        "param_grid = {\n",
        "    'model':[LogisticRegression(), SVC(), \n",
        "              KNeighborsClassifier(), MultinomialNB()]\n",
        "}\n",
        "gs = GridSearchCV(model_pl, param_grid=param_grid,\n",
        "                  cv=5, return_train_score=True)\n",
        "gs.fit(X_train, y_train)\n",
        "score = gs.best_estimator_.score(X_test, y_test)\n",
        "print('最佳預測參數', gs.best_params_)\n",
        "print('訓練集交叉驗證的最佳結果', gs.best_score_.round(3))\n",
        "print('測試集的結果', score.round(3))\n",
        "y_pred = gs.best_estimator_.predict(X_test)\n",
        "print(confusion_matrix(y_test, y_pred))\n",
        "print('綜合報告')\n",
        "print(classification_report(y_test, y_pred))"
      ],
      "execution_count": 13,
      "outputs": [
        {
          "output_type": "stream",
          "name": "stdout",
          "text": [
            "最佳預測參數 {'model': MultinomialNB(alpha=1.0, class_prior=None, fit_prior=True)}\n",
            "訓練集交叉驗證的最佳結果 0.978\n",
            "測試集的結果 0.942\n",
            "[[289   3   5  22]\n",
            " [  5 376   6   2]\n",
            " [ 11  13 366   6]\n",
            " [  5   4   5 384]]\n",
            "綜合報告\n",
            "              precision    recall  f1-score   support\n",
            "\n",
            "           0       0.93      0.91      0.92       319\n",
            "           1       0.95      0.97      0.96       389\n",
            "           2       0.96      0.92      0.94       396\n",
            "           3       0.93      0.96      0.95       398\n",
            "\n",
            "    accuracy                           0.94      1502\n",
            "   macro avg       0.94      0.94      0.94      1502\n",
            "weighted avg       0.94      0.94      0.94      1502\n",
            "\n"
          ]
        }
      ]
    },
    {
      "cell_type": "code",
      "metadata": {
        "colab": {
          "base_uri": "https://localhost:8080/"
        },
        "id": "Bj5Z_onLKf3c",
        "outputId": "f3754ecc-96f9-41f4-f0c9-45d46ec672a7"
      },
      "source": [
        "model_pl = Pipeline([\n",
        "    ('preprocess', CountVectorizer(stop_words='english')),\n",
        "    ('model', LogisticRegression())\n",
        "])\n",
        "param_grid = {\n",
        "    'preprocess':[CountVectorizer(stop_words='english'),\n",
        "                 TfidfVectorizer(stop_words='english'),\n",
        "                 TfidfVectorizer(use_idf=False, stop_words='english')],\n",
        "    'model':[LogisticRegression(), SVC(), \n",
        "              KNeighborsClassifier(), MultinomialNB()]\n",
        "}\n",
        "gs = GridSearchCV(model_pl, param_grid=param_grid,\n",
        "                  cv=5, return_train_score=True)\n",
        "gs.fit(X_train, y_train)\n",
        "score = gs.best_estimator_.score(X_test, y_test)\n",
        "print('最佳預測參數', gs.best_params_)\n",
        "print('訓練集交叉驗證的最佳結果', gs.best_score_.round(3))\n",
        "print('測試集的結果', score.round(3))\n",
        "y_pred = gs.best_estimator_.predict(X_test)\n",
        "print(confusion_matrix(y_test, y_pred))\n",
        "print('綜合報告')\n",
        "print(classification_report(y_test, y_pred))"
      ],
      "execution_count": 14,
      "outputs": [
        {
          "output_type": "stream",
          "name": "stdout",
          "text": [
            "最佳預測參數 {'model': MultinomialNB(alpha=1.0, class_prior=None, fit_prior=True), 'preprocess': CountVectorizer(analyzer='word', binary=False, decode_error='strict',\n",
            "                dtype=<class 'numpy.int64'>, encoding='utf-8', input='content',\n",
            "                lowercase=True, max_df=1.0, max_features=None, min_df=1,\n",
            "                ngram_range=(1, 1), preprocessor=None, stop_words='english',\n",
            "                strip_accents=None, token_pattern='(?u)\\\\b\\\\w\\\\w+\\\\b',\n",
            "                tokenizer=None, vocabulary=None)}\n",
            "訓練集交叉驗證的最佳結果 0.978\n",
            "測試集的結果 0.942\n",
            "[[289   3   5  22]\n",
            " [  5 376   6   2]\n",
            " [ 11  13 366   6]\n",
            " [  5   4   5 384]]\n",
            "綜合報告\n",
            "              precision    recall  f1-score   support\n",
            "\n",
            "           0       0.93      0.91      0.92       319\n",
            "           1       0.95      0.97      0.96       389\n",
            "           2       0.96      0.92      0.94       396\n",
            "           3       0.93      0.96      0.95       398\n",
            "\n",
            "    accuracy                           0.94      1502\n",
            "   macro avg       0.94      0.94      0.94      1502\n",
            "weighted avg       0.94      0.94      0.94      1502\n",
            "\n"
          ]
        }
      ]
    },
    {
      "cell_type": "code",
      "metadata": {
        "colab": {
          "base_uri": "https://localhost:8080/"
        },
        "id": "zUG6jaTAKf3e",
        "outputId": "c85648b7-bb2f-42ee-bef2-572568b27963"
      },
      "source": [
        "cv = CountVectorizer(stop_words='english')\n",
        "X = cv.fit_transform(train['data'])\n",
        "np.random.seed(42)\n",
        "from sklearn.decomposition import LatentDirichletAllocation \n",
        "lda = LatentDirichletAllocation(n_components=4)\n",
        "X_topics = lda.fit_transform(X)\n",
        "lda.components_.shape"
      ],
      "execution_count": 15,
      "outputs": [
        {
          "output_type": "execute_result",
          "data": {
            "text/plain": [
              "(4, 35482)"
            ]
          },
          "metadata": {},
          "execution_count": 15
        }
      ]
    },
    {
      "cell_type": "code",
      "metadata": {
        "colab": {
          "base_uri": "https://localhost:8080/",
          "height": 297
        },
        "id": "vVhLIV49Kf3e",
        "outputId": "cf6ba34b-e968-4ce0-b715-03051e6d194a"
      },
      "source": [
        "pd.DataFrame(lda.components_[0], index=cv.get_feature_names(),\n",
        "            columns=['topic']).sort_values(by='topic', ascending=False)[:8]"
      ],
      "execution_count": 16,
      "outputs": [
        {
          "output_type": "execute_result",
          "data": {
            "text/html": [
              "<div>\n",
              "<style scoped>\n",
              "    .dataframe tbody tr th:only-of-type {\n",
              "        vertical-align: middle;\n",
              "    }\n",
              "\n",
              "    .dataframe tbody tr th {\n",
              "        vertical-align: top;\n",
              "    }\n",
              "\n",
              "    .dataframe thead th {\n",
              "        text-align: right;\n",
              "    }\n",
              "</style>\n",
              "<table border=\"1\" class=\"dataframe\">\n",
              "  <thead>\n",
              "    <tr style=\"text-align: right;\">\n",
              "      <th></th>\n",
              "      <th>topic</th>\n",
              "    </tr>\n",
              "  </thead>\n",
              "  <tbody>\n",
              "    <tr>\n",
              "      <th>god</th>\n",
              "      <td>1335.641348</td>\n",
              "    </tr>\n",
              "    <tr>\n",
              "      <th>edu</th>\n",
              "      <td>854.573218</td>\n",
              "    </tr>\n",
              "    <tr>\n",
              "      <th>subject</th>\n",
              "      <td>562.693718</td>\n",
              "    </tr>\n",
              "    <tr>\n",
              "      <th>lines</th>\n",
              "      <td>512.312208</td>\n",
              "    </tr>\n",
              "    <tr>\n",
              "      <th>organization</th>\n",
              "      <td>479.429353</td>\n",
              "    </tr>\n",
              "    <tr>\n",
              "      <th>people</th>\n",
              "      <td>436.046642</td>\n",
              "    </tr>\n",
              "    <tr>\n",
              "      <th>does</th>\n",
              "      <td>387.063643</td>\n",
              "    </tr>\n",
              "    <tr>\n",
              "      <th>church</th>\n",
              "      <td>381.461509</td>\n",
              "    </tr>\n",
              "  </tbody>\n",
              "</table>\n",
              "</div>"
            ],
            "text/plain": [
              "                    topic\n",
              "god           1335.641348\n",
              "edu            854.573218\n",
              "subject        562.693718\n",
              "lines          512.312208\n",
              "organization   479.429353\n",
              "people         436.046642\n",
              "does           387.063643\n",
              "church         381.461509"
            ]
          },
          "metadata": {},
          "execution_count": 16
        }
      ]
    },
    {
      "cell_type": "code",
      "metadata": {
        "colab": {
          "base_uri": "https://localhost:8080/",
          "height": 359
        },
        "id": "uM7Osr3QKf3f",
        "outputId": "b6e1f160-cf55-4e5c-9202-b3c90a3ce671"
      },
      "source": [
        "n_topics = 4\n",
        "n_words = 10\n",
        "words = {}\n",
        "for topic in range(n_topics):\n",
        "    word = pd.DataFrame(lda.components_[topic], index=cv.get_feature_names()).\\\n",
        "            sort_values(by=0, ascending=False)[:n_words].index.tolist()\n",
        "    words[f'主題{topic+1}'] = word\n",
        "pd.DataFrame(words)"
      ],
      "execution_count": 17,
      "outputs": [
        {
          "output_type": "execute_result",
          "data": {
            "text/html": [
              "<div>\n",
              "<style scoped>\n",
              "    .dataframe tbody tr th:only-of-type {\n",
              "        vertical-align: middle;\n",
              "    }\n",
              "\n",
              "    .dataframe tbody tr th {\n",
              "        vertical-align: top;\n",
              "    }\n",
              "\n",
              "    .dataframe thead th {\n",
              "        text-align: right;\n",
              "    }\n",
              "</style>\n",
              "<table border=\"1\" class=\"dataframe\">\n",
              "  <thead>\n",
              "    <tr style=\"text-align: right;\">\n",
              "      <th></th>\n",
              "      <th>主題1</th>\n",
              "      <th>主題2</th>\n",
              "      <th>主題3</th>\n",
              "      <th>主題4</th>\n",
              "    </tr>\n",
              "  </thead>\n",
              "  <tbody>\n",
              "    <tr>\n",
              "      <th>0</th>\n",
              "      <td>god</td>\n",
              "      <td>edu</td>\n",
              "      <td>edu</td>\n",
              "      <td>edu</td>\n",
              "    </tr>\n",
              "    <tr>\n",
              "      <th>1</th>\n",
              "      <td>edu</td>\n",
              "      <td>god</td>\n",
              "      <td>lines</td>\n",
              "      <td>com</td>\n",
              "    </tr>\n",
              "    <tr>\n",
              "      <th>2</th>\n",
              "      <td>subject</td>\n",
              "      <td>people</td>\n",
              "      <td>subject</td>\n",
              "      <td>subject</td>\n",
              "    </tr>\n",
              "    <tr>\n",
              "      <th>3</th>\n",
              "      <td>lines</td>\n",
              "      <td>subject</td>\n",
              "      <td>organization</td>\n",
              "      <td>lines</td>\n",
              "    </tr>\n",
              "    <tr>\n",
              "      <th>4</th>\n",
              "      <td>organization</td>\n",
              "      <td>lines</td>\n",
              "      <td>image</td>\n",
              "      <td>organization</td>\n",
              "    </tr>\n",
              "    <tr>\n",
              "      <th>5</th>\n",
              "      <td>people</td>\n",
              "      <td>com</td>\n",
              "      <td>graphics</td>\n",
              "      <td>writes</td>\n",
              "    </tr>\n",
              "    <tr>\n",
              "      <th>6</th>\n",
              "      <td>does</td>\n",
              "      <td>organization</td>\n",
              "      <td>com</td>\n",
              "      <td>article</td>\n",
              "    </tr>\n",
              "    <tr>\n",
              "      <th>7</th>\n",
              "      <td>church</td>\n",
              "      <td>don</td>\n",
              "      <td>use</td>\n",
              "      <td>posting</td>\n",
              "    </tr>\n",
              "    <tr>\n",
              "      <th>8</th>\n",
              "      <td>think</td>\n",
              "      <td>writes</td>\n",
              "      <td>university</td>\n",
              "      <td>keith</td>\n",
              "    </tr>\n",
              "    <tr>\n",
              "      <th>9</th>\n",
              "      <td>writes</td>\n",
              "      <td>think</td>\n",
              "      <td>pitt</td>\n",
              "      <td>nntp</td>\n",
              "    </tr>\n",
              "  </tbody>\n",
              "</table>\n",
              "</div>"
            ],
            "text/plain": [
              "            主題1           主題2           主題3           主題4\n",
              "0           god           edu           edu           edu\n",
              "1           edu           god         lines           com\n",
              "2       subject        people       subject       subject\n",
              "3         lines       subject  organization         lines\n",
              "4  organization         lines         image  organization\n",
              "5        people           com      graphics        writes\n",
              "6          does  organization           com       article\n",
              "7        church           don           use       posting\n",
              "8         think        writes    university         keith\n",
              "9        writes         think          pitt          nntp"
            ]
          },
          "metadata": {},
          "execution_count": 17
        }
      ]
    },
    {
      "cell_type": "code",
      "metadata": {
        "colab": {
          "base_uri": "https://localhost:8080/",
          "height": 359
        },
        "id": "B-ZCECVoKf3g",
        "outputId": "4d973132-d2fb-40f0-83f3-0ce5c7075546"
      },
      "source": [
        "# 用這三行可以增加新的停用字詞\n",
        "from sklearn.feature_extraction import text\n",
        "extra_words = ['edu','subject','lines','com']\n",
        "stop_words = text.ENGLISH_STOP_WORDS.union(extra_words)\n",
        "\n",
        "lda = LatentDirichletAllocation(n_components=4)\n",
        "cv = CountVectorizer(stop_words=stop_words)\n",
        "bow = cv.fit_transform(train['data'])\n",
        "X_topics = lda.fit_transform(bow)\n",
        "words = {}\n",
        "for topic in range(n_topics):\n",
        "    word = pd.DataFrame(lda.components_[topic], index=cv.get_feature_names()).\\\n",
        "            sort_values(by=0, ascending=False)[:n_words].index.tolist()\n",
        "    words[f'主題{topic+1}'] = word\n",
        "pd.DataFrame(words)"
      ],
      "execution_count": 18,
      "outputs": [
        {
          "output_type": "execute_result",
          "data": {
            "text/html": [
              "<div>\n",
              "<style scoped>\n",
              "    .dataframe tbody tr th:only-of-type {\n",
              "        vertical-align: middle;\n",
              "    }\n",
              "\n",
              "    .dataframe tbody tr th {\n",
              "        vertical-align: top;\n",
              "    }\n",
              "\n",
              "    .dataframe thead th {\n",
              "        text-align: right;\n",
              "    }\n",
              "</style>\n",
              "<table border=\"1\" class=\"dataframe\">\n",
              "  <thead>\n",
              "    <tr style=\"text-align: right;\">\n",
              "      <th></th>\n",
              "      <th>主題1</th>\n",
              "      <th>主題2</th>\n",
              "      <th>主題3</th>\n",
              "      <th>主題4</th>\n",
              "    </tr>\n",
              "  </thead>\n",
              "  <tbody>\n",
              "    <tr>\n",
              "      <th>0</th>\n",
              "      <td>organization</td>\n",
              "      <td>god</td>\n",
              "      <td>organization</td>\n",
              "      <td>image</td>\n",
              "    </tr>\n",
              "    <tr>\n",
              "      <th>1</th>\n",
              "      <td>article</td>\n",
              "      <td>people</td>\n",
              "      <td>writes</td>\n",
              "      <td>graphics</td>\n",
              "    </tr>\n",
              "    <tr>\n",
              "      <th>2</th>\n",
              "      <td>cs</td>\n",
              "      <td>organization</td>\n",
              "      <td>keith</td>\n",
              "      <td>organization</td>\n",
              "    </tr>\n",
              "    <tr>\n",
              "      <th>3</th>\n",
              "      <td>writes</td>\n",
              "      <td>think</td>\n",
              "      <td>article</td>\n",
              "      <td>file</td>\n",
              "    </tr>\n",
              "    <tr>\n",
              "      <th>4</th>\n",
              "      <td>pitt</td>\n",
              "      <td>jesus</td>\n",
              "      <td>sgi</td>\n",
              "      <td>university</td>\n",
              "    </tr>\n",
              "    <tr>\n",
              "      <th>5</th>\n",
              "      <td>msg</td>\n",
              "      <td>don</td>\n",
              "      <td>caltech</td>\n",
              "      <td>posting</td>\n",
              "    </tr>\n",
              "    <tr>\n",
              "      <th>6</th>\n",
              "      <td>gordon</td>\n",
              "      <td>writes</td>\n",
              "      <td>posting</td>\n",
              "      <td>host</td>\n",
              "    </tr>\n",
              "    <tr>\n",
              "      <th>7</th>\n",
              "      <td>banks</td>\n",
              "      <td>does</td>\n",
              "      <td>host</td>\n",
              "      <td>software</td>\n",
              "    </tr>\n",
              "    <tr>\n",
              "      <th>8</th>\n",
              "      <td>science</td>\n",
              "      <td>believe</td>\n",
              "      <td>nntp</td>\n",
              "      <td>files</td>\n",
              "    </tr>\n",
              "    <tr>\n",
              "      <th>9</th>\n",
              "      <td>geb</td>\n",
              "      <td>just</td>\n",
              "      <td>university</td>\n",
              "      <td>nntp</td>\n",
              "    </tr>\n",
              "  </tbody>\n",
              "</table>\n",
              "</div>"
            ],
            "text/plain": [
              "            主題1           主題2           主題3           主題4\n",
              "0  organization           god  organization         image\n",
              "1       article        people        writes      graphics\n",
              "2            cs  organization         keith  organization\n",
              "3        writes         think       article          file\n",
              "4          pitt         jesus           sgi    university\n",
              "5           msg           don       caltech       posting\n",
              "6        gordon        writes       posting          host\n",
              "7         banks          does          host      software\n",
              "8       science       believe          nntp         files\n",
              "9           geb          just    university          nntp"
            ]
          },
          "metadata": {},
          "execution_count": 18
        }
      ]
    },
    {
      "cell_type": "code",
      "metadata": {
        "colab": {
          "base_uri": "https://localhost:8080/",
          "height": 359
        },
        "id": "fvq0hxlqKf3g",
        "outputId": "49793444-ddb8-4167-f259-886c63d3e366"
      },
      "source": [
        "np.random.seed(42)\n",
        "model_pl = make_pipeline(\n",
        "    CountVectorizer(stop_words='english', max_df=0.4),\n",
        "    LatentDirichletAllocation(n_components=4)\n",
        ")\n",
        "X_topics = model_pl.fit_transform(train['data'])\n",
        "lda = model_pl.named_steps['latentdirichletallocation']\n",
        "cv = model_pl.named_steps['countvectorizer']\n",
        "\n",
        "words = {}\n",
        "for topic in range(n_topics):\n",
        "    word = pd.DataFrame(lda.components_[topic], index=cv.get_feature_names()).\\\n",
        "            sort_values(by=0, ascending=False)[:n_words].index.tolist()\n",
        "    words[f'主題{topic+1}'] = word\n",
        "pd.DataFrame(words)"
      ],
      "execution_count": 19,
      "outputs": [
        {
          "output_type": "execute_result",
          "data": {
            "text/html": [
              "<div>\n",
              "<style scoped>\n",
              "    .dataframe tbody tr th:only-of-type {\n",
              "        vertical-align: middle;\n",
              "    }\n",
              "\n",
              "    .dataframe tbody tr th {\n",
              "        vertical-align: top;\n",
              "    }\n",
              "\n",
              "    .dataframe thead th {\n",
              "        text-align: right;\n",
              "    }\n",
              "</style>\n",
              "<table border=\"1\" class=\"dataframe\">\n",
              "  <thead>\n",
              "    <tr style=\"text-align: right;\">\n",
              "      <th></th>\n",
              "      <th>主題1</th>\n",
              "      <th>主題2</th>\n",
              "      <th>主題3</th>\n",
              "      <th>主題4</th>\n",
              "    </tr>\n",
              "  </thead>\n",
              "  <tbody>\n",
              "    <tr>\n",
              "      <th>0</th>\n",
              "      <td>god</td>\n",
              "      <td>graphics</td>\n",
              "      <td>god</td>\n",
              "      <td>people</td>\n",
              "    </tr>\n",
              "    <tr>\n",
              "      <th>1</th>\n",
              "      <td>jesus</td>\n",
              "      <td>image</td>\n",
              "      <td>people</td>\n",
              "      <td>don</td>\n",
              "    </tr>\n",
              "    <tr>\n",
              "      <th>2</th>\n",
              "      <td>people</td>\n",
              "      <td>university</td>\n",
              "      <td>don</td>\n",
              "      <td>msg</td>\n",
              "    </tr>\n",
              "    <tr>\n",
              "      <th>3</th>\n",
              "      <td>christ</td>\n",
              "      <td>cs</td>\n",
              "      <td>think</td>\n",
              "      <td>like</td>\n",
              "    </tr>\n",
              "    <tr>\n",
              "      <th>4</th>\n",
              "      <td>know</td>\n",
              "      <td>posting</td>\n",
              "      <td>does</td>\n",
              "      <td>think</td>\n",
              "    </tr>\n",
              "    <tr>\n",
              "      <th>5</th>\n",
              "      <td>christian</td>\n",
              "      <td>host</td>\n",
              "      <td>believe</td>\n",
              "      <td>know</td>\n",
              "    </tr>\n",
              "    <tr>\n",
              "      <th>6</th>\n",
              "      <td>think</td>\n",
              "      <td>computer</td>\n",
              "      <td>just</td>\n",
              "      <td>just</td>\n",
              "    </tr>\n",
              "    <tr>\n",
              "      <th>7</th>\n",
              "      <td>bible</td>\n",
              "      <td>nntp</td>\n",
              "      <td>atheists</td>\n",
              "      <td>time</td>\n",
              "    </tr>\n",
              "    <tr>\n",
              "      <th>8</th>\n",
              "      <td>just</td>\n",
              "      <td>file</td>\n",
              "      <td>say</td>\n",
              "      <td>health</td>\n",
              "    </tr>\n",
              "    <tr>\n",
              "      <th>9</th>\n",
              "      <td>like</td>\n",
              "      <td>software</td>\n",
              "      <td>know</td>\n",
              "      <td>use</td>\n",
              "    </tr>\n",
              "  </tbody>\n",
              "</table>\n",
              "</div>"
            ],
            "text/plain": [
              "         主題1         主題2       主題3     主題4\n",
              "0        god    graphics       god  people\n",
              "1      jesus       image    people     don\n",
              "2     people  university       don     msg\n",
              "3     christ          cs     think    like\n",
              "4       know     posting      does   think\n",
              "5  christian        host   believe    know\n",
              "6      think    computer      just    just\n",
              "7      bible        nntp  atheists    time\n",
              "8       just        file       say  health\n",
              "9       like    software      know     use"
            ]
          },
          "metadata": {},
          "execution_count": 19
        }
      ]
    },
    {
      "cell_type": "code",
      "metadata": {
        "colab": {
          "base_uri": "https://localhost:8080/",
          "height": 536
        },
        "id": "gMlVYgE1Kf3h",
        "outputId": "9e425ffe-c322-4502-8d0f-a73eacb4bd5f"
      },
      "source": [
        "from IPython.display import display\n",
        "print('每篇文章在不同主題的機率分布：')\n",
        "df_class = pd.DataFrame(X_topics, columns=[f'主題{i}' for i in range(1,5)])\n",
        "df_class['最有可能的主題'] = df_class.idxmax(axis=1) \n",
        "display(df_class.head().style.highlight_max(axis=1))\n",
        "\n",
        "print('第一篇文章')\n",
        "print(X_train[0])"
      ],
      "execution_count": 20,
      "outputs": [
        {
          "output_type": "stream",
          "name": "stdout",
          "text": [
            "每篇文章在不同主題的機率分布：\n"
          ]
        },
        {
          "output_type": "display_data",
          "data": {
            "text/html": [
              "<style  type=\"text/css\" >\n",
              "#T_dc426526_1f3e_11ec_b020_0242ac1c0002row0_col1,#T_dc426526_1f3e_11ec_b020_0242ac1c0002row1_col1,#T_dc426526_1f3e_11ec_b020_0242ac1c0002row2_col3,#T_dc426526_1f3e_11ec_b020_0242ac1c0002row3_col3,#T_dc426526_1f3e_11ec_b020_0242ac1c0002row4_col0{\n",
              "            background-color:  yellow;\n",
              "        }</style><table id=\"T_dc426526_1f3e_11ec_b020_0242ac1c0002\" ><thead>    <tr>        <th class=\"blank level0\" ></th>        <th class=\"col_heading level0 col0\" >主題1</th>        <th class=\"col_heading level0 col1\" >主題2</th>        <th class=\"col_heading level0 col2\" >主題3</th>        <th class=\"col_heading level0 col3\" >主題4</th>        <th class=\"col_heading level0 col4\" >最有可能的主題</th>    </tr></thead><tbody>\n",
              "                <tr>\n",
              "                        <th id=\"T_dc426526_1f3e_11ec_b020_0242ac1c0002level0_row0\" class=\"row_heading level0 row0\" >0</th>\n",
              "                        <td id=\"T_dc426526_1f3e_11ec_b020_0242ac1c0002row0_col0\" class=\"data row0 col0\" >0.397524</td>\n",
              "                        <td id=\"T_dc426526_1f3e_11ec_b020_0242ac1c0002row0_col1\" class=\"data row0 col1\" >0.595319</td>\n",
              "                        <td id=\"T_dc426526_1f3e_11ec_b020_0242ac1c0002row0_col2\" class=\"data row0 col2\" >0.003620</td>\n",
              "                        <td id=\"T_dc426526_1f3e_11ec_b020_0242ac1c0002row0_col3\" class=\"data row0 col3\" >0.003536</td>\n",
              "                        <td id=\"T_dc426526_1f3e_11ec_b020_0242ac1c0002row0_col4\" class=\"data row0 col4\" >主題2</td>\n",
              "            </tr>\n",
              "            <tr>\n",
              "                        <th id=\"T_dc426526_1f3e_11ec_b020_0242ac1c0002level0_row1\" class=\"row_heading level0 row1\" >1</th>\n",
              "                        <td id=\"T_dc426526_1f3e_11ec_b020_0242ac1c0002row1_col0\" class=\"data row1 col0\" >0.242089</td>\n",
              "                        <td id=\"T_dc426526_1f3e_11ec_b020_0242ac1c0002row1_col1\" class=\"data row1 col1\" >0.751777</td>\n",
              "                        <td id=\"T_dc426526_1f3e_11ec_b020_0242ac1c0002row1_col2\" class=\"data row1 col2\" >0.003071</td>\n",
              "                        <td id=\"T_dc426526_1f3e_11ec_b020_0242ac1c0002row1_col3\" class=\"data row1 col3\" >0.003063</td>\n",
              "                        <td id=\"T_dc426526_1f3e_11ec_b020_0242ac1c0002row1_col4\" class=\"data row1 col4\" >主題2</td>\n",
              "            </tr>\n",
              "            <tr>\n",
              "                        <th id=\"T_dc426526_1f3e_11ec_b020_0242ac1c0002level0_row2\" class=\"row_heading level0 row2\" >2</th>\n",
              "                        <td id=\"T_dc426526_1f3e_11ec_b020_0242ac1c0002row2_col0\" class=\"data row2 col0\" >0.001151</td>\n",
              "                        <td id=\"T_dc426526_1f3e_11ec_b020_0242ac1c0002row2_col1\" class=\"data row2 col1\" >0.001140</td>\n",
              "                        <td id=\"T_dc426526_1f3e_11ec_b020_0242ac1c0002row2_col2\" class=\"data row2 col2\" >0.057780</td>\n",
              "                        <td id=\"T_dc426526_1f3e_11ec_b020_0242ac1c0002row2_col3\" class=\"data row2 col3\" >0.939929</td>\n",
              "                        <td id=\"T_dc426526_1f3e_11ec_b020_0242ac1c0002row2_col4\" class=\"data row2 col4\" >主題4</td>\n",
              "            </tr>\n",
              "            <tr>\n",
              "                        <th id=\"T_dc426526_1f3e_11ec_b020_0242ac1c0002level0_row3\" class=\"row_heading level0 row3\" >3</th>\n",
              "                        <td id=\"T_dc426526_1f3e_11ec_b020_0242ac1c0002row3_col0\" class=\"data row3 col0\" >0.005034</td>\n",
              "                        <td id=\"T_dc426526_1f3e_11ec_b020_0242ac1c0002row3_col1\" class=\"data row3 col1\" >0.218172</td>\n",
              "                        <td id=\"T_dc426526_1f3e_11ec_b020_0242ac1c0002row3_col2\" class=\"data row3 col2\" >0.005176</td>\n",
              "                        <td id=\"T_dc426526_1f3e_11ec_b020_0242ac1c0002row3_col3\" class=\"data row3 col3\" >0.771618</td>\n",
              "                        <td id=\"T_dc426526_1f3e_11ec_b020_0242ac1c0002row3_col4\" class=\"data row3 col4\" >主題4</td>\n",
              "            </tr>\n",
              "            <tr>\n",
              "                        <th id=\"T_dc426526_1f3e_11ec_b020_0242ac1c0002level0_row4\" class=\"row_heading level0 row4\" >4</th>\n",
              "                        <td id=\"T_dc426526_1f3e_11ec_b020_0242ac1c0002row4_col0\" class=\"data row4 col0\" >0.991181</td>\n",
              "                        <td id=\"T_dc426526_1f3e_11ec_b020_0242ac1c0002row4_col1\" class=\"data row4 col1\" >0.002937</td>\n",
              "                        <td id=\"T_dc426526_1f3e_11ec_b020_0242ac1c0002row4_col2\" class=\"data row4 col2\" >0.002915</td>\n",
              "                        <td id=\"T_dc426526_1f3e_11ec_b020_0242ac1c0002row4_col3\" class=\"data row4 col3\" >0.002967</td>\n",
              "                        <td id=\"T_dc426526_1f3e_11ec_b020_0242ac1c0002row4_col4\" class=\"data row4 col4\" >主題1</td>\n",
              "            </tr>\n",
              "    </tbody></table>"
            ],
            "text/plain": [
              "<pandas.io.formats.style.Styler at 0x7fc62f4f1b10>"
            ]
          },
          "metadata": {}
        },
        {
          "output_type": "stream",
          "name": "stdout",
          "text": [
            "第一篇文章\n",
            "From: sd345@city.ac.uk (Michael Collier)\n",
            "Subject: Converting images to HP LaserJet III?\n",
            "Nntp-Posting-Host: hampton\n",
            "Organization: The City University\n",
            "Lines: 14\n",
            "\n",
            "Does anyone know of a good way (standard PC application/PD utility) to\n",
            "convert tif/img/tga files into LaserJet III format.  We would also like to\n",
            "do the same, converting to HPGL (HP plotter) files.\n",
            "\n",
            "Please email any response.\n",
            "\n",
            "Is this the correct group?\n",
            "\n",
            "Thanks in advance.  Michael.\n",
            "-- \n",
            "Michael Collier (Programmer)                 The Computer Unit,\n",
            "Email: M.P.Collier@uk.ac.city                The City University,\n",
            "Tel: 071 477-8000 x3769                      London,\n",
            "Fax: 071 477-8565                            EC1V 0HB.\n",
            "\n"
          ]
        }
      ]
    }
  ]
}