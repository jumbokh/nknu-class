{
  "nbformat": 4,
  "nbformat_minor": 0,
  "metadata": {
    "kernelspec": {
      "display_name": "Python 3",
      "language": "python",
      "name": "python3"
    },
    "language_info": {
      "codemirror_mode": {
        "name": "ipython",
        "version": 3
      },
      "file_extension": ".py",
      "mimetype": "text/x-python",
      "name": "python",
      "nbconvert_exporter": "python",
      "pygments_lexer": "ipython3",
      "version": "3.7.3"
    },
    "colab": {
      "name": "11_01_BOW.ipynb",
      "provenance": [],
      "include_colab_link": true
    }
  },
  "cells": [
    {
      "cell_type": "markdown",
      "metadata": {
        "id": "view-in-github",
        "colab_type": "text"
      },
      "source": [
        "<a href=\"https://colab.research.google.com/github/jumbokh/nknu-class/blob/main/NLP/notebooks/11_01_BOW.ipynb\" target=\"_parent\"><img src=\"https://colab.research.google.com/assets/colab-badge.svg\" alt=\"Open In Colab\"/></a>"
      ]
    },
    {
      "cell_type": "markdown",
      "metadata": {
        "id": "wEI6X5rLim7E"
      },
      "source": [
        "# 以BOW實作自動摘要"
      ]
    },
    {
      "cell_type": "code",
      "metadata": {
        "id": "sjdSVPurim7H"
      },
      "source": [
        "# 載入相關套件\n",
        "import collections"
      ],
      "execution_count": 1,
      "outputs": []
    },
    {
      "cell_type": "code",
      "metadata": {
        "id": "EhNzn9Rcim7J"
      },
      "source": [
        "# 停用詞設定\n",
        "stop_words=['\\n', 'or', 'are', 'they', 'i', 'some', 'by', '—', \n",
        "            'even', 'the', 'to', 'a', 'and', 'of', 'in', 'on', 'for', \n",
        "            'that', 'with', 'is', 'as', 'could', 'its', 'this', 'other',\n",
        "            'an', 'have', 'more', 'at','don’t', 'can', 'only', 'most']"
      ],
      "execution_count": 2,
      "outputs": []
    },
    {
      "cell_type": "code",
      "metadata": {
        "scrolled": true,
        "colab": {
          "base_uri": "https://localhost:8080/"
        },
        "id": "LG-mhqCLim7J",
        "outputId": "1ab4b55b-54cd-4c74-9cf7-de40dae78918"
      },
      "source": [
        "# 讀取文字檔 news.txt，統計字詞出現次數\n",
        "\n",
        "# 參數設定\n",
        "maxlen=1000        # 生字表最大個數\n",
        "\n",
        "# 生字表的集合\n",
        "word_freqs = collections.Counter()\n",
        "with open('news.txt','r+', encoding='UTF-8') as f:\n",
        "    for line in f:\n",
        "        # 轉小寫、分詞\n",
        "        words = line.lower().split(' ')\n",
        "        # 統計字詞出現次數\n",
        "        if len(words) > maxlen:\n",
        "            maxlen = len(words)\n",
        "        for word in words:\n",
        "            if not (word in stop_words):\n",
        "                word_freqs[word] += 1\n",
        "                \n",
        "print(word_freqs.most_common(20))                "
      ],
      "execution_count": 3,
      "outputs": [
        {
          "output_type": "stream",
          "name": "stdout",
          "text": [
            "[('stores', 15), ('convenience', 14), ('korean', 6), ('these', 6), ('one', 6), ('it’s', 6), ('from', 5), ('my', 5), ('you', 5), ('their', 5), ('just', 5), ('has', 5), ('new', 4), ('do', 4), ('also', 4), ('which', 4), ('find', 4), ('would', 4), ('like', 4), ('up', 4)]\n"
          ]
        }
      ]
    },
    {
      "cell_type": "code",
      "metadata": {
        "id": "e12xDc4Xim7L"
      },
      "source": [
        ""
      ],
      "execution_count": null,
      "outputs": []
    }
  ]
}