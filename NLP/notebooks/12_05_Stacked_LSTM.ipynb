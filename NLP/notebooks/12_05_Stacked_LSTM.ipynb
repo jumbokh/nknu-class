{
  "nbformat": 4,
  "nbformat_minor": 0,
  "metadata": {
    "kernelspec": {
      "display_name": "Python 3",
      "language": "python",
      "name": "python3"
    },
    "language_info": {
      "codemirror_mode": {
        "name": "ipython",
        "version": 3
      },
      "file_extension": ".py",
      "mimetype": "text/x-python",
      "name": "python",
      "nbconvert_exporter": "python",
      "pygments_lexer": "ipython3",
      "version": "3.8.3"
    },
    "colab": {
      "name": "12_05_Stacked_LSTM.ipynb",
      "provenance": []
    }
  },
  "cells": [
    {
      "cell_type": "markdown",
      "metadata": {
        "id": "4kMU43aR_kaw"
      },
      "source": [
        "# 時間序列(Time Series)預測 \n",
        "### 程式修改自 [Time Series Prediction with LSTM Recurrent Neural Networks in Python with Keras](https://machinelearningmastery.com/time-series-prediction-lstm-recurrent-neural-networks-python-keras/)"
      ]
    },
    {
      "cell_type": "code",
      "metadata": {
        "id": "nGsgWpAtCBlZ",
        "outputId": "601a85fa-cf1f-438d-ea93-ab604638f1ed",
        "colab": {
          "base_uri": "https://localhost:8080/"
        }
      },
      "source": [
        "from google.colab import drive\n",
        "drive.mount('/content/gdrive')"
      ],
      "execution_count": 1,
      "outputs": [
        {
          "output_type": "stream",
          "name": "stdout",
          "text": [
            "Mounted at /content/gdrive\n"
          ]
        }
      ]
    },
    {
      "cell_type": "code",
      "metadata": {
        "id": "QxAP-Yu_CFaI",
        "outputId": "4bb71d0b-e387-466d-d4cb-b520646373bd",
        "colab": {
          "base_uri": "https://localhost:8080/"
        }
      },
      "source": [
        "!ln -fs /content/gdrive/My\\ Drive/DL_Book /app\n",
        "%cd /app\n",
        "!ls"
      ],
      "execution_count": 2,
      "outputs": [
        {
          "output_type": "stream",
          "name": "stdout",
          "text": [
            "/content/gdrive/My Drive/DL_Book\n",
            " audio\t\t    images_Object_Detection   src\n",
            " cascade_files\t    images_ocr\t\t      static\n",
            " chatbot_data\t    images_test\t\t      style_transfer\n",
            " Custom_data\t    jieba\t\t     'Tensorflow 安裝.md'\n",
            " data\t\t    lib\t\t\t      TicTacToe_1\n",
            " data_download.md   MaskRCNN_weights\t      video\n",
            " data.zip\t    myDigits\t\t      YOLO4\n",
            " dialogflow\t    NLP_data\t\t      YOLO_weights\n",
            " FAQ\t\t    rasa\t\t      勘誤表.md\n",
            " images\t\t    README.md\t\t      封面1.jpeg\n",
            " images_face\t    RNN\n"
          ]
        }
      ]
    },
    {
      "cell_type": "code",
      "metadata": {
        "id": "MFY1J7oT_ka1"
      },
      "source": [
        "# 載入相關套件\n",
        "import tensorflow as tf\n",
        "from tensorflow.keras.datasets import imdb\n",
        "from tensorflow.keras.layers import Embedding, Dense, LSTM\n",
        "from tensorflow.keras.losses import BinaryCrossentropy\n",
        "from tensorflow.keras.models import Sequential\n",
        "from tensorflow.keras.optimizers import Adam\n",
        "from tensorflow.keras.preprocessing.sequence import pad_sequences\n",
        "import pandas as pd\n",
        "import numpy as np\n",
        "import matplotlib.pyplot as plt"
      ],
      "execution_count": 3,
      "outputs": []
    },
    {
      "cell_type": "code",
      "metadata": {
        "id": "Sc7QrS68_ka3",
        "outputId": "680e1118-6a96-4ec4-964c-bd4540091ba2",
        "colab": {
          "base_uri": "https://localhost:8080/",
          "height": 202
        }
      },
      "source": [
        "# 載入測試資料\n",
        "df = pd.read_csv('./RNN/monthly-airline-passengers.csv')\n",
        "df.head()"
      ],
      "execution_count": 7,
      "outputs": [
        {
          "output_type": "execute_result",
          "data": {
            "text/html": [
              "<div>\n",
              "<style scoped>\n",
              "    .dataframe tbody tr th:only-of-type {\n",
              "        vertical-align: middle;\n",
              "    }\n",
              "\n",
              "    .dataframe tbody tr th {\n",
              "        vertical-align: top;\n",
              "    }\n",
              "\n",
              "    .dataframe thead th {\n",
              "        text-align: right;\n",
              "    }\n",
              "</style>\n",
              "<table border=\"1\" class=\"dataframe\">\n",
              "  <thead>\n",
              "    <tr style=\"text-align: right;\">\n",
              "      <th></th>\n",
              "      <th>Month</th>\n",
              "      <th>Passengers</th>\n",
              "    </tr>\n",
              "  </thead>\n",
              "  <tbody>\n",
              "    <tr>\n",
              "      <th>0</th>\n",
              "      <td>1949-01</td>\n",
              "      <td>112</td>\n",
              "    </tr>\n",
              "    <tr>\n",
              "      <th>1</th>\n",
              "      <td>1949-02</td>\n",
              "      <td>118</td>\n",
              "    </tr>\n",
              "    <tr>\n",
              "      <th>2</th>\n",
              "      <td>1949-03</td>\n",
              "      <td>132</td>\n",
              "    </tr>\n",
              "    <tr>\n",
              "      <th>3</th>\n",
              "      <td>1949-04</td>\n",
              "      <td>129</td>\n",
              "    </tr>\n",
              "    <tr>\n",
              "      <th>4</th>\n",
              "      <td>1949-05</td>\n",
              "      <td>121</td>\n",
              "    </tr>\n",
              "  </tbody>\n",
              "</table>\n",
              "</div>"
            ],
            "text/plain": [
              "     Month  Passengers\n",
              "0  1949-01         112\n",
              "1  1949-02         118\n",
              "2  1949-03         132\n",
              "3  1949-04         129\n",
              "4  1949-05         121"
            ]
          },
          "metadata": {},
          "execution_count": 7
        }
      ]
    },
    {
      "cell_type": "code",
      "metadata": {
        "id": "toPyPPFq_ka4",
        "outputId": "7687b084-9159-4b7c-dbe1-a6cd460b6ad5",
        "colab": {
          "base_uri": "https://localhost:8080/",
          "height": 202
        }
      },
      "source": [
        "df.tail()"
      ],
      "execution_count": 8,
      "outputs": [
        {
          "output_type": "execute_result",
          "data": {
            "text/html": [
              "<div>\n",
              "<style scoped>\n",
              "    .dataframe tbody tr th:only-of-type {\n",
              "        vertical-align: middle;\n",
              "    }\n",
              "\n",
              "    .dataframe tbody tr th {\n",
              "        vertical-align: top;\n",
              "    }\n",
              "\n",
              "    .dataframe thead th {\n",
              "        text-align: right;\n",
              "    }\n",
              "</style>\n",
              "<table border=\"1\" class=\"dataframe\">\n",
              "  <thead>\n",
              "    <tr style=\"text-align: right;\">\n",
              "      <th></th>\n",
              "      <th>Month</th>\n",
              "      <th>Passengers</th>\n",
              "    </tr>\n",
              "  </thead>\n",
              "  <tbody>\n",
              "    <tr>\n",
              "      <th>139</th>\n",
              "      <td>1960-08</td>\n",
              "      <td>606</td>\n",
              "    </tr>\n",
              "    <tr>\n",
              "      <th>140</th>\n",
              "      <td>1960-09</td>\n",
              "      <td>508</td>\n",
              "    </tr>\n",
              "    <tr>\n",
              "      <th>141</th>\n",
              "      <td>1960-10</td>\n",
              "      <td>461</td>\n",
              "    </tr>\n",
              "    <tr>\n",
              "      <th>142</th>\n",
              "      <td>1960-11</td>\n",
              "      <td>390</td>\n",
              "    </tr>\n",
              "    <tr>\n",
              "      <th>143</th>\n",
              "      <td>1960-12</td>\n",
              "      <td>432</td>\n",
              "    </tr>\n",
              "  </tbody>\n",
              "</table>\n",
              "</div>"
            ],
            "text/plain": [
              "       Month  Passengers\n",
              "139  1960-08         606\n",
              "140  1960-09         508\n",
              "141  1960-10         461\n",
              "142  1960-11         390\n",
              "143  1960-12         432"
            ]
          },
          "metadata": {},
          "execution_count": 8
        }
      ]
    },
    {
      "cell_type": "code",
      "metadata": {
        "id": "wkldS6f3_ka4",
        "outputId": "9f7a7241-933c-47b6-9b29-7cadd6caa418",
        "colab": {
          "base_uri": "https://localhost:8080/",
          "height": 334
        }
      },
      "source": [
        "# 繪圖\n",
        "df2 = df.set_index('Month')\n",
        "df2.plot(legend=None)\n",
        "plt.xticks(rotation=30)"
      ],
      "execution_count": 9,
      "outputs": [
        {
          "output_type": "execute_result",
          "data": {
            "text/plain": [
              "(array([-20.,   0.,  20.,  40.,  60.,  80., 100., 120., 140., 160.]),\n",
              " <a list of 10 Text major ticklabel objects>)"
            ]
          },
          "metadata": {},
          "execution_count": 9
        },
        {
          "output_type": "display_data",
          "data": {
            "image/png": "[encoded data removed]",
            "text/plain": [
              "<Figure size 432x288 with 1 Axes>"
            ]
          },
          "metadata": {
            "needs_background": "light"
          }
        }
      ]
    },
    {
      "cell_type": "code",
      "metadata": {
        "id": "-PHGi0uG_ka5"
      },
      "source": [
        "# 轉換資料\n",
        "from sklearn.preprocessing import MinMaxScaler\n",
        "\n",
        "# 函數：以前期資料為 X，當前期資料為 Y\n",
        "def create_dataset(dataset, look_back=1):\n",
        "    dataX, dataY = [], []\n",
        "    for i in range(len(dataset)-look_back-1):\n",
        "        a = dataset[i:(i+look_back), 0]\n",
        "        dataX.append(a)\n",
        "        dataY.append(dataset[i + look_back, 0])\n",
        "    return np.array(dataX), np.array(dataY)\n",
        "\n",
        "dataset = df2.values\n",
        "dataset = dataset.astype('float32')\n",
        "\n",
        "# X 常態化\n",
        "scaler = MinMaxScaler(feature_range=(0, 1))\n",
        "dataset = scaler.fit_transform(dataset)\n",
        "\n",
        "# 資料分割\n",
        "train_size = int(len(dataset) * 0.67)\n",
        "test_size = len(dataset) - train_size\n",
        "train, test = dataset[0:train_size,:], dataset[train_size:len(dataset),:]\n",
        "\n",
        "# 以前期資料為 X，當期資料為 Y\n",
        "look_back = 1\n",
        "trainX, trainY = create_dataset(train, look_back)\n",
        "testX, testY = create_dataset(test, look_back)\n",
        "\n",
        "# 轉換為三維 [筆數, 落後期數, X維度]\n",
        "trainX = np.reshape(trainX, (trainX.shape[0], 1, trainX.shape[1]))\n",
        "testX = np.reshape(testX, (testX.shape[0], 1, testX.shape[1]))"
      ],
      "execution_count": 10,
      "outputs": []
    },
    {
      "cell_type": "code",
      "metadata": {
        "scrolled": true,
        "id": "vXMNLC_4_ka6",
        "outputId": "4036ed45-7df3-4fc4-f579-daf9dad928ee",
        "colab": {
          "base_uri": "https://localhost:8080/"
        }
      },
      "source": [
        "# 訓練模型\n",
        "model = Sequential()\n",
        "model.add(LSTM(4, input_shape=(1, look_back)))\n",
        "model.add(Dense(1))\n",
        "model.compile(loss='mean_squared_error', optimizer='adam')\n",
        "model.fit(trainX, trainY, epochs=100, batch_size=1, verbose=1)\n",
        "\n",
        "# 模型評估\n",
        "trainPredict = model.predict(trainX)\n",
        "testPredict = model.predict(testX)"
      ],
      "execution_count": 11,
      "outputs": [
        {
          "output_type": "stream",
          "name": "stdout",
          "text": [
            "Epoch 1/100\n",
            "94/94 [==============================] - 2s 2ms/step - loss: 0.0437\n",
            "Epoch 2/100\n",
            "94/94 [==============================] - 0s 2ms/step - loss: 0.0223\n",
            "Epoch 3/100\n",
            "94/94 [==============================] - 0s 2ms/step - loss: 0.0166\n",
            "Epoch 4/100\n",
            "94/94 [==============================] - 0s 2ms/step - loss: 0.0152\n",
            "Epoch 5/100\n",
            "94/94 [==============================] - 0s 2ms/step - loss: 0.0144\n",
            "Epoch 6/100\n",
            "94/94 [==============================] - 0s 2ms/step - loss: 0.0135\n",
            "Epoch 7/100\n",
            "94/94 [==============================] - 0s 2ms/step - loss: 0.0127\n",
            "Epoch 8/100\n",
            "94/94 [==============================] - 0s 1ms/step - loss: 0.0118\n",
            "Epoch 9/100\n",
            "94/94 [==============================] - 0s 1ms/step - loss: 0.0109\n",
            "Epoch 10/100\n",
            "94/94 [==============================] - 0s 2ms/step - loss: 0.0099\n",
            "Epoch 11/100\n",
            "94/94 [==============================] - 0s 2ms/step - loss: 0.0089\n",
            "Epoch 12/100\n",
            "94/94 [==============================] - 0s 2ms/step - loss: 0.0083\n",
            "Epoch 13/100\n",
            "94/94 [==============================] - 0s 2ms/step - loss: 0.0071\n",
            "Epoch 14/100\n",
            "94/94 [==============================] - 0s 2ms/step - loss: 0.0063\n",
            "Epoch 15/100\n",
            "94/94 [==============================] - 0s 2ms/step - loss: 0.0055\n",
            "Epoch 16/100\n",
            "94/94 [==============================] - 0s 2ms/step - loss: 0.0049\n",
            "Epoch 17/100\n",
            "94/94 [==============================] - 0s 2ms/step - loss: 0.0041\n",
            "Epoch 18/100\n",
            "94/94 [==============================] - 0s 2ms/step - loss: 0.0036\n",
            "Epoch 19/100\n",
            "94/94 [==============================] - 0s 2ms/step - loss: 0.0031\n",
            "Epoch 20/100\n",
            "94/94 [==============================] - 0s 2ms/step - loss: 0.0028\n",
            "Epoch 21/100\n",
            "94/94 [==============================] - 0s 2ms/step - loss: 0.0026\n",
            "Epoch 22/100\n",
            "94/94 [==============================] - 0s 2ms/step - loss: 0.0024\n",
            "Epoch 23/100\n",
            "94/94 [==============================] - 0s 2ms/step - loss: 0.0023\n",
            "Epoch 24/100\n",
            "94/94 [==============================] - 0s 2ms/step - loss: 0.0022\n",
            "Epoch 25/100\n",
            "94/94 [==============================] - 0s 1ms/step - loss: 0.0021\n",
            "Epoch 26/100\n",
            "94/94 [==============================] - 0s 2ms/step - loss: 0.0021\n",
            "Epoch 27/100\n",
            "94/94 [==============================] - 0s 2ms/step - loss: 0.0021\n",
            "Epoch 28/100\n",
            "94/94 [==============================] - 0s 2ms/step - loss: 0.0021\n",
            "Epoch 29/100\n",
            "94/94 [==============================] - 0s 2ms/step - loss: 0.0021\n",
            "Epoch 30/100\n",
            "94/94 [==============================] - 0s 1ms/step - loss: 0.0021\n",
            "Epoch 31/100\n",
            "94/94 [==============================] - 0s 2ms/step - loss: 0.0021\n",
            "Epoch 32/100\n",
            "94/94 [==============================] - 0s 2ms/step - loss: 0.0021\n",
            "Epoch 33/100\n",
            "94/94 [==============================] - 0s 2ms/step - loss: 0.0021\n",
            "Epoch 34/100\n",
            "94/94 [==============================] - 0s 2ms/step - loss: 0.0021\n",
            "Epoch 35/100\n",
            "94/94 [==============================] - 0s 2ms/step - loss: 0.0020\n",
            "Epoch 36/100\n",
            "94/94 [==============================] - 0s 2ms/step - loss: 0.0021\n",
            "Epoch 37/100\n",
            "94/94 [==============================] - 0s 2ms/step - loss: 0.0020\n",
            "Epoch 38/100\n",
            "94/94 [==============================] - 0s 2ms/step - loss: 0.0021\n",
            "Epoch 39/100\n",
            "94/94 [==============================] - 0s 2ms/step - loss: 0.0021\n",
            "Epoch 40/100\n",
            "94/94 [==============================] - 0s 2ms/step - loss: 0.0020\n",
            "Epoch 41/100\n",
            "94/94 [==============================] - 0s 2ms/step - loss: 0.0021\n",
            "Epoch 42/100\n",
            "94/94 [==============================] - 0s 2ms/step - loss: 0.0020\n",
            "Epoch 43/100\n",
            "94/94 [==============================] - 0s 2ms/step - loss: 0.0020\n",
            "Epoch 44/100\n",
            "94/94 [==============================] - 0s 2ms/step - loss: 0.0020\n",
            "Epoch 45/100\n",
            "94/94 [==============================] - 0s 2ms/step - loss: 0.0021\n",
            "Epoch 46/100\n",
            "94/94 [==============================] - 0s 2ms/step - loss: 0.0021\n",
            "Epoch 47/100\n",
            "94/94 [==============================] - 0s 1ms/step - loss: 0.0020\n",
            "Epoch 48/100\n",
            "94/94 [==============================] - 0s 2ms/step - loss: 0.0021\n",
            "Epoch 49/100\n",
            "94/94 [==============================] - 0s 2ms/step - loss: 0.0021\n",
            "Epoch 50/100\n",
            "94/94 [==============================] - 0s 2ms/step - loss: 0.0021\n",
            "Epoch 51/100\n",
            "94/94 [==============================] - 0s 2ms/step - loss: 0.0021\n",
            "Epoch 52/100\n",
            "94/94 [==============================] - 0s 2ms/step - loss: 0.0020\n",
            "Epoch 53/100\n",
            "94/94 [==============================] - 0s 2ms/step - loss: 0.0021\n",
            "Epoch 54/100\n",
            "94/94 [==============================] - 0s 2ms/step - loss: 0.0021\n",
            "Epoch 55/100\n",
            "94/94 [==============================] - 0s 2ms/step - loss: 0.0020\n",
            "Epoch 56/100\n",
            "94/94 [==============================] - 0s 1ms/step - loss: 0.0021\n",
            "Epoch 57/100\n",
            "94/94 [==============================] - 0s 2ms/step - loss: 0.0021\n",
            "Epoch 58/100\n",
            "94/94 [==============================] - 0s 1ms/step - loss: 0.0021\n",
            "Epoch 59/100\n",
            "94/94 [==============================] - 0s 2ms/step - loss: 0.0020\n",
            "Epoch 60/100\n",
            "94/94 [==============================] - 0s 2ms/step - loss: 0.0021\n",
            "Epoch 61/100\n",
            "94/94 [==============================] - 0s 1ms/step - loss: 0.0022\n",
            "Epoch 62/100\n",
            "94/94 [==============================] - 0s 2ms/step - loss: 0.0021\n",
            "Epoch 63/100\n",
            "94/94 [==============================] - 0s 2ms/step - loss: 0.0021\n",
            "Epoch 64/100\n",
            "94/94 [==============================] - 0s 2ms/step - loss: 0.0021\n",
            "Epoch 65/100\n",
            "94/94 [==============================] - 0s 2ms/step - loss: 0.0021\n",
            "Epoch 66/100\n",
            "94/94 [==============================] - 0s 1ms/step - loss: 0.0021\n",
            "Epoch 67/100\n",
            "94/94 [==============================] - 0s 2ms/step - loss: 0.0021\n",
            "Epoch 68/100\n",
            "94/94 [==============================] - 0s 2ms/step - loss: 0.0021\n",
            "Epoch 69/100\n",
            "94/94 [==============================] - 0s 2ms/step - loss: 0.0021\n",
            "Epoch 70/100\n",
            "94/94 [==============================] - 0s 1ms/step - loss: 0.0021\n",
            "Epoch 71/100\n",
            "94/94 [==============================] - 0s 2ms/step - loss: 0.0021\n",
            "Epoch 72/100\n",
            "94/94 [==============================] - 0s 2ms/step - loss: 0.0020\n",
            "Epoch 73/100\n",
            "94/94 [==============================] - 0s 2ms/step - loss: 0.0020\n",
            "Epoch 74/100\n",
            "94/94 [==============================] - 0s 2ms/step - loss: 0.0021\n",
            "Epoch 75/100\n",
            "94/94 [==============================] - 0s 2ms/step - loss: 0.0020\n",
            "Epoch 76/100\n",
            "94/94 [==============================] - 0s 2ms/step - loss: 0.0020\n",
            "Epoch 77/100\n",
            "94/94 [==============================] - 0s 2ms/step - loss: 0.0021\n",
            "Epoch 78/100\n",
            "94/94 [==============================] - 0s 2ms/step - loss: 0.0020\n",
            "Epoch 79/100\n",
            "94/94 [==============================] - 0s 2ms/step - loss: 0.0021\n",
            "Epoch 80/100\n",
            "94/94 [==============================] - 0s 2ms/step - loss: 0.0020\n",
            "Epoch 81/100\n",
            "94/94 [==============================] - 0s 2ms/step - loss: 0.0020\n",
            "Epoch 82/100\n",
            "94/94 [==============================] - 0s 2ms/step - loss: 0.0021\n",
            "Epoch 83/100\n",
            "94/94 [==============================] - 0s 1ms/step - loss: 0.0020\n",
            "Epoch 84/100\n",
            "94/94 [==============================] - 0s 2ms/step - loss: 0.0020\n",
            "Epoch 85/100\n",
            "94/94 [==============================] - 0s 1ms/step - loss: 0.0021\n",
            "Epoch 86/100\n",
            "94/94 [==============================] - 0s 2ms/step - loss: 0.0021\n",
            "Epoch 87/100\n",
            "94/94 [==============================] - 0s 2ms/step - loss: 0.0021\n",
            "Epoch 88/100\n",
            "94/94 [==============================] - 0s 1ms/step - loss: 0.0021\n",
            "Epoch 89/100\n",
            "94/94 [==============================] - 0s 2ms/step - loss: 0.0021\n",
            "Epoch 90/100\n",
            "94/94 [==============================] - 0s 2ms/step - loss: 0.0020\n",
            "Epoch 91/100\n",
            "94/94 [==============================] - 0s 2ms/step - loss: 0.0021\n",
            "Epoch 92/100\n",
            "94/94 [==============================] - 0s 2ms/step - loss: 0.0020\n",
            "Epoch 93/100\n",
            "94/94 [==============================] - 0s 2ms/step - loss: 0.0021\n",
            "Epoch 94/100\n",
            "94/94 [==============================] - 0s 2ms/step - loss: 0.0021\n",
            "Epoch 95/100\n",
            "94/94 [==============================] - 0s 2ms/step - loss: 0.0020\n",
            "Epoch 96/100\n",
            "94/94 [==============================] - 0s 2ms/step - loss: 0.0020\n",
            "Epoch 97/100\n",
            "94/94 [==============================] - 0s 1ms/step - loss: 0.0021\n",
            "Epoch 98/100\n",
            "94/94 [==============================] - 0s 1ms/step - loss: 0.0020\n",
            "Epoch 99/100\n",
            "94/94 [==============================] - 0s 2ms/step - loss: 0.0020\n",
            "Epoch 100/100\n",
            "94/94 [==============================] - 0s 2ms/step - loss: 0.0022\n"
          ]
        }
      ]
    },
    {
      "cell_type": "code",
      "metadata": {
        "id": "uPU_1J-h_ka7",
        "outputId": "006d154e-ca69-409e-c61c-51ac928ac629",
        "colab": {
          "base_uri": "https://localhost:8080/",
          "height": 300
        }
      },
      "source": [
        "from sklearn.metrics import mean_squared_error\n",
        "import math \n",
        "\n",
        "# 還原常態化的訓練及測試資料\n",
        "trainPredict = scaler.inverse_transform(trainPredict)\n",
        "trainY = scaler.inverse_transform([trainY])\n",
        "testPredict = scaler.inverse_transform(testPredict)\n",
        "testY = scaler.inverse_transform([testY])\n",
        "\n",
        "# 計算 RMSE\n",
        "trainScore = math.sqrt(mean_squared_error(trainY[0], trainPredict[:,0]))\n",
        "print('Train Score: %.2f RMSE' % (trainScore))\n",
        "testScore = math.sqrt(mean_squared_error(testY[0], testPredict[:,0]))\n",
        "print('Test Score: %.2f RMSE' % (testScore))\n",
        "\n",
        "# 訓練資料的 X/Y\n",
        "trainPredictPlot = np.empty_like(dataset)\n",
        "trainPredictPlot[:, :] = np.nan\n",
        "trainPredictPlot[look_back:len(trainPredict)+look_back, :] = trainPredict\n",
        "\n",
        "# 測試資料 X/Y\n",
        "testPredictPlot = np.empty_like(dataset)\n",
        "testPredictPlot[:, :] = np.nan\n",
        "testPredictPlot[len(trainPredict)+(look_back*2)+1:len(dataset)-1, :] = testPredict\n",
        "\n",
        "# 繪圖\n",
        "plt.plot(scaler.inverse_transform(dataset))\n",
        "plt.plot(trainPredictPlot)\n",
        "plt.plot(testPredictPlot)\n",
        "plt.show()"
      ],
      "execution_count": 12,
      "outputs": [
        {
          "output_type": "stream",
          "name": "stdout",
          "text": [
            "Train Score: 23.00 RMSE\n",
            "Test Score: 48.85 RMSE\n"
          ]
        },
        {
          "output_type": "display_data",
          "data": {
            "image/png": "[encoded data removed]",
            "text/plain": [
              "<Figure size 432x288 with 1 Axes>"
            ]
          },
          "metadata": {
            "needs_background": "light"
          }
        }
      ]
    },
    {
      "cell_type": "markdown",
      "metadata": {
        "id": "G16kHVwH_ka8"
      },
      "source": [
        "## 改變Loopback=3：X由前1期改為前3期 "
      ]
    },
    {
      "cell_type": "code",
      "metadata": {
        "id": "MMOehmaa_ka9",
        "outputId": "c621f1df-04db-4cfb-f1d1-1d52164a5d49",
        "colab": {
          "base_uri": "https://localhost:8080/"
        }
      },
      "source": [
        "# 載入測試資料\n",
        "df = pd.read_csv('./RNN/monthly-airline-passengers.csv', usecols=[1])\n",
        "print(df.head())\n",
        "dataset = df.values\n",
        "dataset = dataset.astype('float32')\n",
        "\n",
        "# X 常態化\n",
        "scaler = MinMaxScaler(feature_range=(0, 1))\n",
        "dataset = scaler.fit_transform(dataset)\n",
        "\n",
        "# 資料分割\n",
        "train_size = int(len(dataset) * 0.67)\n",
        "test_size = len(dataset) - train_size\n",
        "train, test = dataset[0:train_size,:], dataset[train_size:len(dataset),:]\n",
        "\n",
        "# 以前期資料為 X，當前期資料為 Y\n",
        "look_back = 3\n",
        "trainX, trainY = create_dataset(train, look_back)\n",
        "testX, testY = create_dataset(test, look_back)\n",
        "\n",
        "# 轉換為三維 [筆數, 落後期數, X維度]\n",
        "trainX = np.reshape(trainX, (trainX.shape[0], 1, trainX.shape[1]))\n",
        "testX = np.reshape(testX, (testX.shape[0], 1, testX.shape[1]))"
      ],
      "execution_count": 13,
      "outputs": [
        {
          "output_type": "stream",
          "name": "stdout",
          "text": [
            "   Passengers\n",
            "0         112\n",
            "1         118\n",
            "2         132\n",
            "3         129\n",
            "4         121\n"
          ]
        }
      ]
    },
    {
      "cell_type": "code",
      "metadata": {
        "id": "CC22hCaO_ka-"
      },
      "source": [
        "dataset"
      ],
      "execution_count": null,
      "outputs": []
    },
    {
      "cell_type": "code",
      "metadata": {
        "id": "E-ykPuxb_ka-",
        "outputId": "708f9202-8687-408e-fe10-21f785bfc513",
        "colab": {
          "base_uri": "https://localhost:8080/"
        }
      },
      "source": [
        "trainX.shape"
      ],
      "execution_count": 15,
      "outputs": [
        {
          "output_type": "execute_result",
          "data": {
            "text/plain": [
              "(92, 1, 3)"
            ]
          },
          "metadata": {},
          "execution_count": 15
        }
      ]
    },
    {
      "cell_type": "code",
      "metadata": {
        "scrolled": true,
        "id": "CGPxZfgd_ka_",
        "outputId": "d381702b-cbd4-4045-fb74-dc142220a464",
        "colab": {
          "base_uri": "https://localhost:8080/"
        }
      },
      "source": [
        "# 訓練模型\n",
        "model = Sequential()\n",
        "model.add(LSTM(4, input_shape=(1, look_back)))\n",
        "model.add(Dense(1))\n",
        "model.compile(loss='mean_squared_error', optimizer='adam')\n",
        "model.fit(trainX, trainY, epochs=100, batch_size=1, verbose=1)\n",
        "\n",
        "# 模型評估\n",
        "trainPredict = model.predict(trainX)\n",
        "testPredict = model.predict(testX)"
      ],
      "execution_count": 16,
      "outputs": [
        {
          "output_type": "stream",
          "name": "stdout",
          "text": [
            "Epoch 1/100\n",
            "92/92 [==============================] - 1s 2ms/step - loss: 0.0317\n",
            "Epoch 2/100\n",
            "92/92 [==============================] - 0s 1ms/step - loss: 0.0125\n",
            "Epoch 3/100\n",
            "92/92 [==============================] - 0s 2ms/step - loss: 0.0093\n",
            "Epoch 4/100\n",
            "92/92 [==============================] - 0s 2ms/step - loss: 0.0084\n",
            "Epoch 5/100\n",
            "92/92 [==============================] - 0s 1ms/step - loss: 0.0074\n",
            "Epoch 6/100\n",
            "92/92 [==============================] - 0s 2ms/step - loss: 0.0068\n",
            "Epoch 7/100\n",
            "92/92 [==============================] - 0s 2ms/step - loss: 0.0061\n",
            "Epoch 8/100\n",
            "92/92 [==============================] - 0s 1ms/step - loss: 0.0057\n",
            "Epoch 9/100\n",
            "92/92 [==============================] - 0s 2ms/step - loss: 0.0054\n",
            "Epoch 10/100\n",
            "92/92 [==============================] - 0s 2ms/step - loss: 0.0050\n",
            "Epoch 11/100\n",
            "92/92 [==============================] - 0s 2ms/step - loss: 0.0049\n",
            "Epoch 12/100\n",
            "92/92 [==============================] - 0s 2ms/step - loss: 0.0047\n",
            "Epoch 13/100\n",
            "92/92 [==============================] - 0s 2ms/step - loss: 0.0046\n",
            "Epoch 14/100\n",
            "92/92 [==============================] - 0s 2ms/step - loss: 0.0045\n",
            "Epoch 15/100\n",
            "92/92 [==============================] - 0s 2ms/step - loss: 0.0046\n",
            "Epoch 16/100\n",
            "92/92 [==============================] - 0s 2ms/step - loss: 0.0044\n",
            "Epoch 17/100\n",
            "92/92 [==============================] - 0s 1ms/step - loss: 0.0044\n",
            "Epoch 18/100\n",
            "92/92 [==============================] - 0s 2ms/step - loss: 0.0043\n",
            "Epoch 19/100\n",
            "92/92 [==============================] - 0s 2ms/step - loss: 0.0042\n",
            "Epoch 20/100\n",
            "92/92 [==============================] - 0s 2ms/step - loss: 0.0042\n",
            "Epoch 21/100\n",
            "92/92 [==============================] - 0s 2ms/step - loss: 0.0042\n",
            "Epoch 22/100\n",
            "92/92 [==============================] - 0s 1ms/step - loss: 0.0040\n",
            "Epoch 23/100\n",
            "92/92 [==============================] - 0s 2ms/step - loss: 0.0041\n",
            "Epoch 24/100\n",
            "92/92 [==============================] - 0s 2ms/step - loss: 0.0040\n",
            "Epoch 25/100\n",
            "92/92 [==============================] - 0s 2ms/step - loss: 0.0040\n",
            "Epoch 26/100\n",
            "92/92 [==============================] - 0s 2ms/step - loss: 0.0039\n",
            "Epoch 27/100\n",
            "92/92 [==============================] - 0s 2ms/step - loss: 0.0039\n",
            "Epoch 28/100\n",
            "92/92 [==============================] - 0s 2ms/step - loss: 0.0039\n",
            "Epoch 29/100\n",
            "92/92 [==============================] - 0s 2ms/step - loss: 0.0038\n",
            "Epoch 30/100\n",
            "92/92 [==============================] - 0s 1ms/step - loss: 0.0038\n",
            "Epoch 31/100\n",
            "92/92 [==============================] - 0s 2ms/step - loss: 0.0037\n",
            "Epoch 32/100\n",
            "92/92 [==============================] - 0s 2ms/step - loss: 0.0038\n",
            "Epoch 33/100\n",
            "92/92 [==============================] - 0s 1ms/step - loss: 0.0037\n",
            "Epoch 34/100\n",
            "92/92 [==============================] - 0s 2ms/step - loss: 0.0036\n",
            "Epoch 35/100\n",
            "92/92 [==============================] - 0s 2ms/step - loss: 0.0036\n",
            "Epoch 36/100\n",
            "92/92 [==============================] - 0s 2ms/step - loss: 0.0034\n",
            "Epoch 37/100\n",
            "92/92 [==============================] - 0s 2ms/step - loss: 0.0035\n",
            "Epoch 38/100\n",
            "92/92 [==============================] - 0s 1ms/step - loss: 0.0035\n",
            "Epoch 39/100\n",
            "92/92 [==============================] - 0s 2ms/step - loss: 0.0034\n",
            "Epoch 40/100\n",
            "92/92 [==============================] - 0s 2ms/step - loss: 0.0034\n",
            "Epoch 41/100\n",
            "92/92 [==============================] - 0s 2ms/step - loss: 0.0034\n",
            "Epoch 42/100\n",
            "92/92 [==============================] - 0s 2ms/step - loss: 0.0033\n",
            "Epoch 43/100\n",
            "92/92 [==============================] - 0s 2ms/step - loss: 0.0034\n",
            "Epoch 44/100\n",
            "92/92 [==============================] - 0s 1ms/step - loss: 0.0032\n",
            "Epoch 45/100\n",
            "92/92 [==============================] - 0s 1ms/step - loss: 0.0033\n",
            "Epoch 46/100\n",
            "92/92 [==============================] - 0s 1ms/step - loss: 0.0032\n",
            "Epoch 47/100\n",
            "92/92 [==============================] - 0s 2ms/step - loss: 0.0033\n",
            "Epoch 48/100\n",
            "92/92 [==============================] - 0s 2ms/step - loss: 0.0032\n",
            "Epoch 49/100\n",
            "92/92 [==============================] - 0s 2ms/step - loss: 0.0032\n",
            "Epoch 50/100\n",
            "92/92 [==============================] - 0s 2ms/step - loss: 0.0031\n",
            "Epoch 51/100\n",
            "92/92 [==============================] - 0s 1ms/step - loss: 0.0032\n",
            "Epoch 52/100\n",
            "92/92 [==============================] - 0s 2ms/step - loss: 0.0030\n",
            "Epoch 53/100\n",
            "92/92 [==============================] - 0s 1ms/step - loss: 0.0031\n",
            "Epoch 54/100\n",
            "92/92 [==============================] - 0s 1ms/step - loss: 0.0031\n",
            "Epoch 55/100\n",
            "92/92 [==============================] - 0s 2ms/step - loss: 0.0030\n",
            "Epoch 56/100\n",
            "92/92 [==============================] - 0s 1ms/step - loss: 0.0030\n",
            "Epoch 57/100\n",
            "92/92 [==============================] - 0s 1ms/step - loss: 0.0030\n",
            "Epoch 58/100\n",
            "92/92 [==============================] - 0s 2ms/step - loss: 0.0030\n",
            "Epoch 59/100\n",
            "92/92 [==============================] - 0s 1ms/step - loss: 0.0029\n",
            "Epoch 60/100\n",
            "92/92 [==============================] - 0s 2ms/step - loss: 0.0030\n",
            "Epoch 61/100\n",
            "92/92 [==============================] - 0s 2ms/step - loss: 0.0028\n",
            "Epoch 62/100\n",
            "92/92 [==============================] - 0s 2ms/step - loss: 0.0028\n",
            "Epoch 63/100\n",
            "92/92 [==============================] - 0s 2ms/step - loss: 0.0029\n",
            "Epoch 64/100\n",
            "92/92 [==============================] - 0s 2ms/step - loss: 0.0028\n",
            "Epoch 65/100\n",
            "92/92 [==============================] - 0s 2ms/step - loss: 0.0028\n",
            "Epoch 66/100\n",
            "92/92 [==============================] - 0s 2ms/step - loss: 0.0029\n",
            "Epoch 67/100\n",
            "92/92 [==============================] - 0s 1ms/step - loss: 0.0028\n",
            "Epoch 68/100\n",
            "92/92 [==============================] - 0s 1ms/step - loss: 0.0027\n",
            "Epoch 69/100\n",
            "92/92 [==============================] - 0s 2ms/step - loss: 0.0027\n",
            "Epoch 70/100\n",
            "92/92 [==============================] - 0s 2ms/step - loss: 0.0027\n",
            "Epoch 71/100\n",
            "92/92 [==============================] - 0s 2ms/step - loss: 0.0027\n",
            "Epoch 72/100\n",
            "92/92 [==============================] - 0s 2ms/step - loss: 0.0026\n",
            "Epoch 73/100\n",
            "92/92 [==============================] - 0s 2ms/step - loss: 0.0026\n",
            "Epoch 74/100\n",
            "92/92 [==============================] - 0s 2ms/step - loss: 0.0026\n",
            "Epoch 75/100\n",
            "92/92 [==============================] - 0s 1ms/step - loss: 0.0027\n",
            "Epoch 76/100\n",
            "92/92 [==============================] - 0s 2ms/step - loss: 0.0026\n",
            "Epoch 77/100\n",
            "92/92 [==============================] - 0s 1ms/step - loss: 0.0026\n",
            "Epoch 78/100\n",
            "92/92 [==============================] - 0s 2ms/step - loss: 0.0026\n",
            "Epoch 79/100\n",
            "92/92 [==============================] - 0s 2ms/step - loss: 0.0027\n",
            "Epoch 80/100\n",
            "92/92 [==============================] - 0s 2ms/step - loss: 0.0025\n",
            "Epoch 81/100\n",
            "92/92 [==============================] - 0s 1ms/step - loss: 0.0025\n",
            "Epoch 82/100\n",
            "92/92 [==============================] - 0s 2ms/step - loss: 0.0025\n",
            "Epoch 83/100\n",
            "92/92 [==============================] - 0s 1ms/step - loss: 0.0025\n",
            "Epoch 84/100\n",
            "92/92 [==============================] - 0s 2ms/step - loss: 0.0025\n",
            "Epoch 85/100\n",
            "92/92 [==============================] - 0s 2ms/step - loss: 0.0025\n",
            "Epoch 86/100\n",
            "92/92 [==============================] - 0s 2ms/step - loss: 0.0025\n",
            "Epoch 87/100\n",
            "92/92 [==============================] - 0s 2ms/step - loss: 0.0025\n",
            "Epoch 88/100\n",
            "92/92 [==============================] - 0s 2ms/step - loss: 0.0024\n",
            "Epoch 89/100\n",
            "92/92 [==============================] - 0s 2ms/step - loss: 0.0025\n",
            "Epoch 90/100\n",
            "92/92 [==============================] - 0s 2ms/step - loss: 0.0024\n",
            "Epoch 91/100\n",
            "92/92 [==============================] - 0s 2ms/step - loss: 0.0024\n",
            "Epoch 92/100\n",
            "92/92 [==============================] - 0s 2ms/step - loss: 0.0024\n",
            "Epoch 93/100\n",
            "92/92 [==============================] - 0s 2ms/step - loss: 0.0024\n",
            "Epoch 94/100\n",
            "92/92 [==============================] - 0s 2ms/step - loss: 0.0024\n",
            "Epoch 95/100\n",
            "92/92 [==============================] - 0s 2ms/step - loss: 0.0024\n",
            "Epoch 96/100\n",
            "92/92 [==============================] - 0s 2ms/step - loss: 0.0024\n",
            "Epoch 97/100\n",
            "92/92 [==============================] - 0s 2ms/step - loss: 0.0024\n",
            "Epoch 98/100\n",
            "92/92 [==============================] - 0s 1ms/step - loss: 0.0024\n",
            "Epoch 99/100\n",
            "92/92 [==============================] - 0s 2ms/step - loss: 0.0024\n",
            "Epoch 100/100\n",
            "92/92 [==============================] - 0s 2ms/step - loss: 0.0023\n"
          ]
        }
      ]
    },
    {
      "cell_type": "code",
      "metadata": {
        "id": "A6mXtXYY_ka_",
        "outputId": "7d2ec958-d3b5-4228-cf09-a9d55a03eac1",
        "colab": {
          "base_uri": "https://localhost:8080/",
          "height": 300
        }
      },
      "source": [
        "from sklearn.metrics import mean_squared_error\n",
        "import math \n",
        "\n",
        "# 還原常態化的訓練資料\n",
        "trainPredict = scaler.inverse_transform(trainPredict)\n",
        "trainY = scaler.inverse_transform([trainY])\n",
        "testPredict = scaler.inverse_transform(testPredict)\n",
        "testY = scaler.inverse_transform([testY])\n",
        "\n",
        "# 計算 RMSE\n",
        "trainScore = math.sqrt(mean_squared_error(trainY[0], trainPredict[:,0]))\n",
        "print('Train Score: %.2f RMSE' % (trainScore))\n",
        "testScore = math.sqrt(mean_squared_error(testY[0], testPredict[:,0]))\n",
        "print('Test Score: %.2f RMSE' % (testScore))\n",
        "\n",
        "# 訓練資料的 X/Y\n",
        "trainPredictPlot = np.empty_like(dataset)\n",
        "trainPredictPlot[:, :] = np.nan\n",
        "trainPredictPlot[look_back:len(trainPredict)+look_back, :] = trainPredict\n",
        "\n",
        "# 測試資料 X/Y\n",
        "testPredictPlot = np.empty_like(dataset)\n",
        "testPredictPlot[:, :] = np.nan\n",
        "testPredictPlot[len(trainPredict)+(look_back*2)+1:len(dataset)-1, :] = testPredict\n",
        "\n",
        "# 繪圖\n",
        "plt.plot(scaler.inverse_transform(dataset))\n",
        "plt.plot(trainPredictPlot)\n",
        "plt.plot(testPredictPlot)\n",
        "plt.show()"
      ],
      "execution_count": 17,
      "outputs": [
        {
          "output_type": "stream",
          "name": "stdout",
          "text": [
            "Train Score: 24.59 RMSE\n",
            "Test Score: 64.68 RMSE\n"
          ]
        },
        {
          "output_type": "display_data",
          "data": {
            "image/png": "[encoded data removed]",
            "text/plain": [
              "<Figure size 432x288 with 1 Axes>"
            ]
          },
          "metadata": {
            "needs_background": "light"
          }
        }
      ]
    },
    {
      "cell_type": "markdown",
      "metadata": {
        "id": "a0R7OvUE_kbA"
      },
      "source": [
        "## 改變落後期數(Time Steps)：X由t-1期改為t-3期(單期) "
      ]
    },
    {
      "cell_type": "code",
      "metadata": {
        "id": "eAhfOwIJ_kbA"
      },
      "source": [
        "# 載入測試資料\n",
        "df = pd.read_csv('./RNN/monthly-airline-passengers.csv', usecols=[1])\n",
        "\n",
        "dataset = df.values\n",
        "dataset = dataset.astype('float32')\n",
        "\n",
        "# X 常態化\n",
        "scaler = MinMaxScaler(feature_range=(0, 1))\n",
        "dataset = scaler.fit_transform(dataset)\n",
        "\n",
        "# 資料分割\n",
        "train_size = int(len(dataset) * 0.67)\n",
        "test_size = len(dataset) - train_size\n",
        "train, test = dataset[0:train_size,:], dataset[train_size:len(dataset),:]\n",
        "\n",
        "# 以前期資料為 X，當前期資料為 Y\n",
        "look_back = 3\n",
        "trainX, trainY = create_dataset(train, look_back)\n",
        "testX, testY = create_dataset(test, look_back)\n",
        "\n",
        "# 轉換為三維 [筆數, 落後期數, X維度]\n",
        "# trainX = np.reshape(trainX, (trainX.shape[0], 1, trainX.shape[1]))\n",
        "# testX = np.reshape(testX, (testX.shape[0], 1, testX.shape[1]))\n",
        "trainX = np.reshape(trainX, (trainX.shape[0], trainX.shape[1], 1))\n",
        "testX = np.reshape(testX, (testX.shape[0], testX.shape[1], 1))"
      ],
      "execution_count": 18,
      "outputs": []
    },
    {
      "cell_type": "code",
      "metadata": {
        "id": "UdqAOqAY_kbA",
        "outputId": "8d235c29-cd62-431a-f6f8-a0419cfd7ac2",
        "colab": {
          "base_uri": "https://localhost:8080/"
        }
      },
      "source": [
        "trainX.shape"
      ],
      "execution_count": 19,
      "outputs": [
        {
          "output_type": "execute_result",
          "data": {
            "text/plain": [
              "(92, 3, 1)"
            ]
          },
          "metadata": {},
          "execution_count": 19
        }
      ]
    },
    {
      "cell_type": "code",
      "metadata": {
        "scrolled": true,
        "id": "dSqG1WWy_kbB",
        "outputId": "416df7a6-0a7a-4889-e85f-d7151fd8eabd",
        "colab": {
          "base_uri": "https://localhost:8080/"
        }
      },
      "source": [
        "# 訓練模型\n",
        "model = Sequential()\n",
        "# (1, look_back) 改為 (look_back, 1)\n",
        "model.add(LSTM(4, input_shape=(look_back, 1)))\n",
        "model.add(Dense(1))\n",
        "model.compile(loss='mean_squared_error', optimizer='adam')\n",
        "model.fit(trainX, trainY, epochs=100, batch_size=1, verbose=1)\n",
        "\n",
        "# 模型評估\n",
        "trainPredict = model.predict(trainX)\n",
        "testPredict = model.predict(testX)"
      ],
      "execution_count": 20,
      "outputs": [
        {
          "output_type": "stream",
          "name": "stdout",
          "text": [
            "Epoch 1/100\n",
            "92/92 [==============================] - 2s 2ms/step - loss: 0.0181\n",
            "Epoch 2/100\n",
            "92/92 [==============================] - 0s 2ms/step - loss: 0.0085\n",
            "Epoch 3/100\n",
            "92/92 [==============================] - 0s 2ms/step - loss: 0.0074\n",
            "Epoch 4/100\n",
            "92/92 [==============================] - 0s 2ms/step - loss: 0.0064\n",
            "Epoch 5/100\n",
            "92/92 [==============================] - 0s 2ms/step - loss: 0.0055\n",
            "Epoch 6/100\n",
            "92/92 [==============================] - 0s 2ms/step - loss: 0.0048\n",
            "Epoch 7/100\n",
            "92/92 [==============================] - 0s 2ms/step - loss: 0.0044\n",
            "Epoch 8/100\n",
            "92/92 [==============================] - 0s 2ms/step - loss: 0.0042\n",
            "Epoch 9/100\n",
            "92/92 [==============================] - 0s 2ms/step - loss: 0.0039\n",
            "Epoch 10/100\n",
            "92/92 [==============================] - 0s 2ms/step - loss: 0.0037\n",
            "Epoch 11/100\n",
            "92/92 [==============================] - 0s 2ms/step - loss: 0.0038\n",
            "Epoch 12/100\n",
            "92/92 [==============================] - 0s 2ms/step - loss: 0.0039\n",
            "Epoch 13/100\n",
            "92/92 [==============================] - 0s 2ms/step - loss: 0.0037\n",
            "Epoch 14/100\n",
            "92/92 [==============================] - 0s 2ms/step - loss: 0.0039\n",
            "Epoch 15/100\n",
            "92/92 [==============================] - 0s 2ms/step - loss: 0.0038\n",
            "Epoch 16/100\n",
            "92/92 [==============================] - 0s 2ms/step - loss: 0.0037\n",
            "Epoch 17/100\n",
            "92/92 [==============================] - 0s 2ms/step - loss: 0.0037\n",
            "Epoch 18/100\n",
            "92/92 [==============================] - 0s 2ms/step - loss: 0.0036\n",
            "Epoch 19/100\n",
            "92/92 [==============================] - 0s 2ms/step - loss: 0.0037\n",
            "Epoch 20/100\n",
            "92/92 [==============================] - 0s 2ms/step - loss: 0.0037\n",
            "Epoch 21/100\n",
            "92/92 [==============================] - 0s 2ms/step - loss: 0.0036\n",
            "Epoch 22/100\n",
            "92/92 [==============================] - 0s 2ms/step - loss: 0.0035\n",
            "Epoch 23/100\n",
            "92/92 [==============================] - 0s 2ms/step - loss: 0.0036\n",
            "Epoch 24/100\n",
            "92/92 [==============================] - 0s 2ms/step - loss: 0.0035\n",
            "Epoch 25/100\n",
            "92/92 [==============================] - 0s 2ms/step - loss: 0.0036\n",
            "Epoch 26/100\n",
            "92/92 [==============================] - 0s 2ms/step - loss: 0.0036\n",
            "Epoch 27/100\n",
            "92/92 [==============================] - 0s 2ms/step - loss: 0.0035\n",
            "Epoch 28/100\n",
            "92/92 [==============================] - 0s 2ms/step - loss: 0.0037\n",
            "Epoch 29/100\n",
            "92/92 [==============================] - 0s 2ms/step - loss: 0.0035\n",
            "Epoch 30/100\n",
            "92/92 [==============================] - 0s 2ms/step - loss: 0.0035\n",
            "Epoch 31/100\n",
            "92/92 [==============================] - 0s 2ms/step - loss: 0.0034\n",
            "Epoch 32/100\n",
            "92/92 [==============================] - 0s 2ms/step - loss: 0.0034\n",
            "Epoch 33/100\n",
            "92/92 [==============================] - 0s 2ms/step - loss: 0.0034\n",
            "Epoch 34/100\n",
            "92/92 [==============================] - 0s 2ms/step - loss: 0.0034\n",
            "Epoch 35/100\n",
            "92/92 [==============================] - 0s 2ms/step - loss: 0.0035\n",
            "Epoch 36/100\n",
            "92/92 [==============================] - 0s 2ms/step - loss: 0.0035\n",
            "Epoch 37/100\n",
            "92/92 [==============================] - 0s 2ms/step - loss: 0.0033\n",
            "Epoch 38/100\n",
            "92/92 [==============================] - 0s 2ms/step - loss: 0.0033\n",
            "Epoch 39/100\n",
            "92/92 [==============================] - 0s 2ms/step - loss: 0.0033\n",
            "Epoch 40/100\n",
            "92/92 [==============================] - 0s 2ms/step - loss: 0.0034\n",
            "Epoch 41/100\n",
            "92/92 [==============================] - 0s 2ms/step - loss: 0.0033\n",
            "Epoch 42/100\n",
            "92/92 [==============================] - 0s 2ms/step - loss: 0.0033\n",
            "Epoch 43/100\n",
            "92/92 [==============================] - 0s 2ms/step - loss: 0.0032\n",
            "Epoch 44/100\n",
            "92/92 [==============================] - 0s 2ms/step - loss: 0.0032\n",
            "Epoch 45/100\n",
            "92/92 [==============================] - 0s 2ms/step - loss: 0.0032\n",
            "Epoch 46/100\n",
            "92/92 [==============================] - 0s 2ms/step - loss: 0.0032\n",
            "Epoch 47/100\n",
            "92/92 [==============================] - 0s 2ms/step - loss: 0.0032\n",
            "Epoch 48/100\n",
            "92/92 [==============================] - 0s 2ms/step - loss: 0.0030\n",
            "Epoch 49/100\n",
            "92/92 [==============================] - 0s 2ms/step - loss: 0.0033\n",
            "Epoch 50/100\n",
            "92/92 [==============================] - 0s 2ms/step - loss: 0.0032\n",
            "Epoch 51/100\n",
            "92/92 [==============================] - 0s 2ms/step - loss: 0.0031\n",
            "Epoch 52/100\n",
            "92/92 [==============================] - 0s 2ms/step - loss: 0.0031\n",
            "Epoch 53/100\n",
            "92/92 [==============================] - 0s 2ms/step - loss: 0.0031\n",
            "Epoch 54/100\n",
            "92/92 [==============================] - 0s 2ms/step - loss: 0.0031\n",
            "Epoch 55/100\n",
            "92/92 [==============================] - 0s 2ms/step - loss: 0.0032\n",
            "Epoch 56/100\n",
            "92/92 [==============================] - 0s 2ms/step - loss: 0.0029\n",
            "Epoch 57/100\n",
            "92/92 [==============================] - 0s 2ms/step - loss: 0.0030\n",
            "Epoch 58/100\n",
            "92/92 [==============================] - 0s 2ms/step - loss: 0.0030\n",
            "Epoch 59/100\n",
            "92/92 [==============================] - 0s 2ms/step - loss: 0.0029\n",
            "Epoch 60/100\n",
            "92/92 [==============================] - 0s 2ms/step - loss: 0.0029\n",
            "Epoch 61/100\n",
            "92/92 [==============================] - 0s 2ms/step - loss: 0.0030\n",
            "Epoch 62/100\n",
            "92/92 [==============================] - 0s 2ms/step - loss: 0.0028\n",
            "Epoch 63/100\n",
            "92/92 [==============================] - 0s 2ms/step - loss: 0.0029\n",
            "Epoch 64/100\n",
            "92/92 [==============================] - 0s 2ms/step - loss: 0.0028\n",
            "Epoch 65/100\n",
            "92/92 [==============================] - 0s 2ms/step - loss: 0.0029\n",
            "Epoch 66/100\n",
            "92/92 [==============================] - 0s 2ms/step - loss: 0.0027\n",
            "Epoch 67/100\n",
            "92/92 [==============================] - 0s 2ms/step - loss: 0.0028\n",
            "Epoch 68/100\n",
            "92/92 [==============================] - 0s 2ms/step - loss: 0.0029\n",
            "Epoch 69/100\n",
            "92/92 [==============================] - 0s 2ms/step - loss: 0.0026\n",
            "Epoch 70/100\n",
            "92/92 [==============================] - 0s 2ms/step - loss: 0.0028\n",
            "Epoch 71/100\n",
            "92/92 [==============================] - 0s 2ms/step - loss: 0.0027\n",
            "Epoch 72/100\n",
            "92/92 [==============================] - 0s 2ms/step - loss: 0.0026\n",
            "Epoch 73/100\n",
            "92/92 [==============================] - 0s 2ms/step - loss: 0.0026\n",
            "Epoch 74/100\n",
            "92/92 [==============================] - 0s 2ms/step - loss: 0.0026\n",
            "Epoch 75/100\n",
            "92/92 [==============================] - 0s 2ms/step - loss: 0.0025\n",
            "Epoch 76/100\n",
            "92/92 [==============================] - 0s 2ms/step - loss: 0.0025\n",
            "Epoch 77/100\n",
            "92/92 [==============================] - 0s 2ms/step - loss: 0.0026\n",
            "Epoch 78/100\n",
            "92/92 [==============================] - 0s 2ms/step - loss: 0.0025\n",
            "Epoch 79/100\n",
            "92/92 [==============================] - 0s 2ms/step - loss: 0.0026\n",
            "Epoch 80/100\n",
            "92/92 [==============================] - 0s 2ms/step - loss: 0.0025\n",
            "Epoch 81/100\n",
            "92/92 [==============================] - 0s 2ms/step - loss: 0.0024\n",
            "Epoch 82/100\n",
            "92/92 [==============================] - 0s 2ms/step - loss: 0.0024\n",
            "Epoch 83/100\n",
            "92/92 [==============================] - 0s 2ms/step - loss: 0.0023\n",
            "Epoch 84/100\n",
            "92/92 [==============================] - 0s 2ms/step - loss: 0.0024\n",
            "Epoch 85/100\n",
            "92/92 [==============================] - 0s 2ms/step - loss: 0.0023\n",
            "Epoch 86/100\n",
            "92/92 [==============================] - 0s 2ms/step - loss: 0.0023\n",
            "Epoch 87/100\n",
            "92/92 [==============================] - 0s 2ms/step - loss: 0.0022\n",
            "Epoch 88/100\n",
            "92/92 [==============================] - 0s 2ms/step - loss: 0.0022\n",
            "Epoch 89/100\n",
            "92/92 [==============================] - 0s 2ms/step - loss: 0.0022\n",
            "Epoch 90/100\n",
            "92/92 [==============================] - 0s 2ms/step - loss: 0.0022\n",
            "Epoch 91/100\n",
            "92/92 [==============================] - 0s 2ms/step - loss: 0.0022\n",
            "Epoch 92/100\n",
            "92/92 [==============================] - 0s 2ms/step - loss: 0.0021\n",
            "Epoch 93/100\n",
            "92/92 [==============================] - 0s 2ms/step - loss: 0.0020\n",
            "Epoch 94/100\n",
            "92/92 [==============================] - 0s 2ms/step - loss: 0.0022\n",
            "Epoch 95/100\n",
            "92/92 [==============================] - 0s 2ms/step - loss: 0.0020\n",
            "Epoch 96/100\n",
            "92/92 [==============================] - 0s 2ms/step - loss: 0.0020\n",
            "Epoch 97/100\n",
            "92/92 [==============================] - 0s 2ms/step - loss: 0.0021\n",
            "Epoch 98/100\n",
            "92/92 [==============================] - 0s 2ms/step - loss: 0.0020\n",
            "Epoch 99/100\n",
            "92/92 [==============================] - 0s 2ms/step - loss: 0.0020\n",
            "Epoch 100/100\n",
            "92/92 [==============================] - 0s 2ms/step - loss: 0.0020\n"
          ]
        }
      ]
    },
    {
      "cell_type": "code",
      "metadata": {
        "id": "UZEKfN_H_kbB",
        "outputId": "6143f71e-6e71-49a5-d917-9575abe48c40",
        "colab": {
          "base_uri": "https://localhost:8080/",
          "height": 300
        }
      },
      "source": [
        "from sklearn.metrics import mean_squared_error\n",
        "import math \n",
        "\n",
        "# 還原常態化的訓練資料\n",
        "trainPredict = scaler.inverse_transform(trainPredict)\n",
        "trainY = scaler.inverse_transform([trainY])\n",
        "testPredict = scaler.inverse_transform(testPredict)\n",
        "testY = scaler.inverse_transform([testY])\n",
        "\n",
        "# 計算 RMSE\n",
        "trainScore = math.sqrt(mean_squared_error(trainY[0], trainPredict[:,0]))\n",
        "print('Train Score: %.2f RMSE' % (trainScore))\n",
        "testScore = math.sqrt(mean_squared_error(testY[0], testPredict[:,0]))\n",
        "print('Test Score: %.2f RMSE' % (testScore))\n",
        "\n",
        "# 訓練資料的 X/Y\n",
        "trainPredictPlot = np.empty_like(dataset)\n",
        "trainPredictPlot[:, :] = np.nan\n",
        "trainPredictPlot[look_back:len(trainPredict)+look_back, :] = trainPredict\n",
        "\n",
        "# 測試資料 X/Y\n",
        "testPredictPlot = np.empty_like(dataset)\n",
        "testPredictPlot[:, :] = np.nan\n",
        "testPredictPlot[len(trainPredict)+(look_back*2)+1:len(dataset)-1, :] = testPredict\n",
        "\n",
        "# 繪圖\n",
        "plt.plot(scaler.inverse_transform(dataset))\n",
        "plt.plot(trainPredictPlot)\n",
        "plt.plot(testPredictPlot)\n",
        "plt.show()"
      ],
      "execution_count": 21,
      "outputs": [
        {
          "output_type": "stream",
          "name": "stdout",
          "text": [
            "Train Score: 24.56 RMSE\n",
            "Test Score: 62.16 RMSE\n"
          ]
        },
        {
          "output_type": "display_data",
          "data": {
            "image/png": "[encoded data removed]",
            "text/plain": [
              "<Figure size 432x288 with 1 Axes>"
            ]
          },
          "metadata": {
            "needs_background": "light"
          }
        }
      ]
    },
    {
      "cell_type": "markdown",
      "metadata": {
        "id": "jmJZDzxW_kbC"
      },
      "source": [
        "## stateful=True"
      ]
    },
    {
      "cell_type": "code",
      "metadata": {
        "id": "35BgU8B2_kbC"
      },
      "source": [
        "# 載入測試資料\n",
        "df = pd.read_csv('./RNN/monthly-airline-passengers.csv', usecols=[1])\n",
        "\n",
        "dataset = df.values\n",
        "dataset = dataset.astype('float32')\n",
        "\n",
        "# X 常態化\n",
        "scaler = MinMaxScaler(feature_range=(0, 1))\n",
        "dataset = scaler.fit_transform(dataset)\n",
        "\n",
        "# 資料分割\n",
        "train_size = int(len(dataset) * 0.67)\n",
        "test_size = len(dataset) - train_size\n",
        "train, test = dataset[0:train_size,:], dataset[train_size:len(dataset),:]\n",
        "\n",
        "# 以前期資料為 X，當前期資料為 Y\n",
        "look_back = 3\n",
        "trainX, trainY = create_dataset(train, look_back)\n",
        "testX, testY = create_dataset(test, look_back)\n",
        "\n",
        "# 轉換為三維 [筆數, 落後期數, X維度]\n",
        "# trainX = np.reshape(trainX, (trainX.shape[0], 1, trainX.shape[1]))\n",
        "# testX = np.reshape(testX, (testX.shape[0], 1, testX.shape[1]))\n",
        "trainX = np.reshape(trainX, (trainX.shape[0], trainX.shape[1], 1))\n",
        "testX = np.reshape(testX, (testX.shape[0], testX.shape[1], 1))"
      ],
      "execution_count": 22,
      "outputs": []
    },
    {
      "cell_type": "code",
      "metadata": {
        "scrolled": true,
        "id": "NE1orOyo_kbC",
        "outputId": "4f13e744-0c36-4d5f-a34e-b4eba7795613",
        "colab": {
          "base_uri": "https://localhost:8080/"
        }
      },
      "source": [
        "# 訓練模型\n",
        "model = Sequential()\n",
        "# (1, look_back) 改為 (look_back, 1)\n",
        "# model.add(LSTM(4, input_shape=(look_back, 1)))\n",
        "batch_size = 1\n",
        "model.add(LSTM(4, batch_input_shape=(batch_size, look_back, 1), stateful=True))\n",
        "model.add(Dense(1))\n",
        "model.compile(loss='mean_squared_error', optimizer='adam')\n",
        "# model.fit(trainX, trainY, epochs=100, batch_size=1, verbose=1)\n",
        "for i in range(100):\n",
        "    model.fit(trainX, trainY, epochs=1, batch_size=batch_size, \n",
        "              shuffle=False, verbose=2)\n",
        "    # 重置狀態(cell state)\n",
        "    model.reset_states()\n",
        "\n",
        "# 模型評估\n",
        "trainPredict = model.predict(trainX, batch_size=batch_size)\n",
        "model.reset_states()\n",
        "testPredict = model.predict(testX, batch_size=batch_size)"
      ],
      "execution_count": 23,
      "outputs": [
        {
          "output_type": "stream",
          "name": "stdout",
          "text": [
            "92/92 - 2s - loss: 0.0220\n",
            "92/92 - 0s - loss: 0.0284\n",
            "92/92 - 0s - loss: 0.0191\n",
            "92/92 - 0s - loss: 0.0160\n",
            "92/92 - 0s - loss: 0.0133\n",
            "92/92 - 0s - loss: 0.0107\n",
            "92/92 - 0s - loss: 0.0084\n",
            "92/92 - 0s - loss: 0.0066\n",
            "92/92 - 0s - loss: 0.0055\n",
            "92/92 - 0s - loss: 0.0050\n",
            "92/92 - 0s - loss: 0.0049\n",
            "92/92 - 0s - loss: 0.0048\n",
            "92/92 - 0s - loss: 0.0048\n",
            "92/92 - 0s - loss: 0.0047\n",
            "92/92 - 0s - loss: 0.0047\n",
            "92/92 - 0s - loss: 0.0047\n",
            "92/92 - 0s - loss: 0.0047\n",
            "92/92 - 0s - loss: 0.0046\n",
            "92/92 - 0s - loss: 0.0046\n",
            "92/92 - 0s - loss: 0.0046\n",
            "92/92 - 0s - loss: 0.0046\n",
            "92/92 - 0s - loss: 0.0046\n",
            "92/92 - 0s - loss: 0.0045\n",
            "92/92 - 0s - loss: 0.0045\n",
            "92/92 - 0s - loss: 0.0045\n",
            "92/92 - 0s - loss: 0.0045\n",
            "92/92 - 0s - loss: 0.0045\n",
            "92/92 - 0s - loss: 0.0044\n",
            "92/92 - 0s - loss: 0.0044\n",
            "92/92 - 0s - loss: 0.0044\n",
            "92/92 - 0s - loss: 0.0044\n",
            "92/92 - 0s - loss: 0.0044\n",
            "92/92 - 0s - loss: 0.0043\n",
            "92/92 - 0s - loss: 0.0043\n",
            "92/92 - 0s - loss: 0.0043\n",
            "92/92 - 0s - loss: 0.0043\n",
            "92/92 - 0s - loss: 0.0042\n",
            "92/92 - 0s - loss: 0.0042\n",
            "92/92 - 0s - loss: 0.0042\n",
            "92/92 - 0s - loss: 0.0042\n",
            "92/92 - 0s - loss: 0.0042\n",
            "92/92 - 0s - loss: 0.0041\n",
            "92/92 - 0s - loss: 0.0041\n",
            "92/92 - 0s - loss: 0.0041\n",
            "92/92 - 0s - loss: 0.0041\n",
            "92/92 - 0s - loss: 0.0041\n",
            "92/92 - 0s - loss: 0.0040\n",
            "92/92 - 0s - loss: 0.0040\n",
            "92/92 - 0s - loss: 0.0040\n",
            "92/92 - 0s - loss: 0.0040\n",
            "92/92 - 0s - loss: 0.0039\n",
            "92/92 - 0s - loss: 0.0039\n",
            "92/92 - 0s - loss: 0.0039\n",
            "92/92 - 0s - loss: 0.0039\n",
            "92/92 - 0s - loss: 0.0038\n",
            "92/92 - 0s - loss: 0.0038\n",
            "92/92 - 0s - loss: 0.0038\n",
            "92/92 - 0s - loss: 0.0038\n",
            "92/92 - 0s - loss: 0.0037\n",
            "92/92 - 0s - loss: 0.0037\n",
            "92/92 - 0s - loss: 0.0037\n",
            "92/92 - 0s - loss: 0.0037\n",
            "92/92 - 0s - loss: 0.0036\n",
            "92/92 - 0s - loss: 0.0036\n",
            "92/92 - 0s - loss: 0.0036\n",
            "92/92 - 0s - loss: 0.0036\n",
            "92/92 - 0s - loss: 0.0035\n",
            "92/92 - 0s - loss: 0.0035\n",
            "92/92 - 0s - loss: 0.0035\n",
            "92/92 - 0s - loss: 0.0035\n",
            "92/92 - 0s - loss: 0.0034\n",
            "92/92 - 0s - loss: 0.0034\n",
            "92/92 - 0s - loss: 0.0034\n",
            "92/92 - 0s - loss: 0.0034\n",
            "92/92 - 0s - loss: 0.0033\n",
            "92/92 - 0s - loss: 0.0033\n",
            "92/92 - 0s - loss: 0.0033\n",
            "92/92 - 0s - loss: 0.0033\n",
            "92/92 - 0s - loss: 0.0032\n",
            "92/92 - 0s - loss: 0.0032\n",
            "92/92 - 0s - loss: 0.0032\n",
            "92/92 - 0s - loss: 0.0032\n",
            "92/92 - 0s - loss: 0.0031\n",
            "92/92 - 0s - loss: 0.0031\n",
            "92/92 - 0s - loss: 0.0031\n",
            "92/92 - 0s - loss: 0.0031\n",
            "92/92 - 0s - loss: 0.0030\n",
            "92/92 - 0s - loss: 0.0030\n",
            "92/92 - 0s - loss: 0.0030\n",
            "92/92 - 0s - loss: 0.0030\n",
            "92/92 - 0s - loss: 0.0029\n",
            "92/92 - 0s - loss: 0.0029\n",
            "92/92 - 0s - loss: 0.0029\n",
            "92/92 - 0s - loss: 0.0029\n",
            "92/92 - 0s - loss: 0.0028\n",
            "92/92 - 0s - loss: 0.0028\n",
            "92/92 - 0s - loss: 0.0028\n",
            "92/92 - 0s - loss: 0.0028\n",
            "92/92 - 0s - loss: 0.0027\n",
            "92/92 - 0s - loss: 0.0027\n"
          ]
        }
      ]
    },
    {
      "cell_type": "code",
      "metadata": {
        "scrolled": false,
        "id": "GOBmaDRR_kbD",
        "outputId": "2a594ac6-8b49-4551-b534-d755c46b62d5",
        "colab": {
          "base_uri": "https://localhost:8080/",
          "height": 300
        }
      },
      "source": [
        "from sklearn.metrics import mean_squared_error\n",
        "import math \n",
        "\n",
        "# 還原常態化的訓練資料\n",
        "trainPredict = scaler.inverse_transform(trainPredict)\n",
        "trainY = scaler.inverse_transform([trainY])\n",
        "testPredict = scaler.inverse_transform(testPredict)\n",
        "testY = scaler.inverse_transform([testY])\n",
        "\n",
        "# 計算 RMSE\n",
        "trainScore = math.sqrt(mean_squared_error(trainY[0], trainPredict[:,0]))\n",
        "print('Train Score: %.2f RMSE' % (trainScore))\n",
        "testScore = math.sqrt(mean_squared_error(testY[0], testPredict[:,0]))\n",
        "print('Test Score: %.2f RMSE' % (testScore))\n",
        "\n",
        "# 訓練資料的 X/Y\n",
        "trainPredictPlot = np.empty_like(dataset)\n",
        "trainPredictPlot[:, :] = np.nan\n",
        "trainPredictPlot[look_back:len(trainPredict)+look_back, :] = trainPredict\n",
        "\n",
        "# 測試資料 X/Y\n",
        "testPredictPlot = np.empty_like(dataset)\n",
        "testPredictPlot[:, :] = np.nan\n",
        "testPredictPlot[len(trainPredict)+(look_back*2)+1:len(dataset)-1, :] = testPredict\n",
        "\n",
        "# 繪圖\n",
        "plt.plot(scaler.inverse_transform(dataset))\n",
        "plt.plot(trainPredictPlot)\n",
        "plt.plot(testPredictPlot)\n",
        "plt.show()"
      ],
      "execution_count": 24,
      "outputs": [
        {
          "output_type": "stream",
          "name": "stdout",
          "text": [
            "Train Score: 26.81 RMSE\n",
            "Test Score: 62.98 RMSE\n"
          ]
        },
        {
          "output_type": "display_data",
          "data": {
            "image/png": "[encoded data removed]",
            "text/plain": [
              "<Figure size 432x288 with 1 Axes>"
            ]
          },
          "metadata": {
            "needs_background": "light"
          }
        }
      ]
    },
    {
      "cell_type": "markdown",
      "metadata": {
        "id": "2Du_hGKD_kbD"
      },
      "source": [
        "## Stacked LSTM"
      ]
    },
    {
      "cell_type": "code",
      "metadata": {
        "id": "JiVH5L8__kbD"
      },
      "source": [
        "# 載入測試資料\n",
        "df = pd.read_csv('./RNN/monthly-airline-passengers.csv', usecols=[1])\n",
        "\n",
        "dataset = df.values\n",
        "dataset = dataset.astype('float32')\n",
        "\n",
        "# X 常態化\n",
        "scaler = MinMaxScaler(feature_range=(0, 1))\n",
        "dataset = scaler.fit_transform(dataset)\n",
        "\n",
        "# 資料分割\n",
        "train_size = int(len(dataset) * 0.67)\n",
        "test_size = len(dataset) - train_size\n",
        "train, test = dataset[0:train_size,:], dataset[train_size:len(dataset),:]\n",
        "\n",
        "# 以前期資料為 X，當前期資料為 Y\n",
        "look_back = 3\n",
        "trainX, trainY = create_dataset(train, look_back)\n",
        "testX, testY = create_dataset(test, look_back)\n",
        "\n",
        "# 轉換為三維 [筆數, 落後期數, X維度]\n",
        "# trainX = np.reshape(trainX, (trainX.shape[0], 1, trainX.shape[1]))\n",
        "# testX = np.reshape(testX, (testX.shape[0], 1, testX.shape[1]))\n",
        "trainX = np.reshape(trainX, (trainX.shape[0], trainX.shape[1], 1))\n",
        "testX = np.reshape(testX, (testX.shape[0], testX.shape[1], 1))"
      ],
      "execution_count": 25,
      "outputs": []
    },
    {
      "cell_type": "code",
      "metadata": {
        "scrolled": true,
        "id": "l6svSlke_kbE",
        "outputId": "1098c377-aa60-4324-add7-2f90d3027d8c",
        "colab": {
          "base_uri": "https://localhost:8080/"
        }
      },
      "source": [
        "# 訓練模型\n",
        "model = Sequential()\n",
        "# (1, look_back) 改為 (look_back, 1)\n",
        "# model.add(LSTM(4, input_shape=(look_back, 1)))\n",
        "batch_size = 1\n",
        "\n",
        "# Stacked LSTM\n",
        "model.add(LSTM(4, batch_input_shape=(batch_size, look_back, 1),\n",
        "               stateful=True, return_sequences=True))\n",
        "model.add(LSTM(4, batch_input_shape=(batch_size, look_back, 1),\n",
        "               stateful=True))\n",
        "\n",
        "model.add(Dense(1))\n",
        "model.compile(loss='mean_squared_error', optimizer='adam')\n",
        "# model.fit(trainX, trainY, epochs=100, batch_size=1, verbose=1)\n",
        "for i in range(100):\n",
        "    model.fit(trainX, trainY, epochs=1, batch_size=batch_size, \n",
        "              shuffle=False, verbose=2)\n",
        "    # 重置狀態(cell state)\n",
        "    model.reset_states()\n",
        "\n",
        "# 模型評估\n",
        "trainPredict = model.predict(trainX, batch_size=batch_size)\n",
        "# 重置狀態(cell state)\n",
        "model.reset_states() \n",
        "testPredict = model.predict(testX, batch_size=batch_size)"
      ],
      "execution_count": 26,
      "outputs": [
        {
          "output_type": "stream",
          "name": "stdout",
          "text": [
            "92/92 - 3s - loss: 0.0050\n",
            "92/92 - 0s - loss: 0.0115\n",
            "92/92 - 0s - loss: 0.0082\n",
            "92/92 - 0s - loss: 0.0065\n",
            "92/92 - 0s - loss: 0.0062\n",
            "92/92 - 0s - loss: 0.0061\n",
            "92/92 - 0s - loss: 0.0061\n",
            "92/92 - 0s - loss: 0.0060\n",
            "92/92 - 0s - loss: 0.0059\n",
            "92/92 - 0s - loss: 0.0059\n",
            "92/92 - 0s - loss: 0.0058\n",
            "92/92 - 0s - loss: 0.0058\n",
            "92/92 - 0s - loss: 0.0057\n",
            "92/92 - 0s - loss: 0.0057\n",
            "92/92 - 0s - loss: 0.0056\n",
            "92/92 - 0s - loss: 0.0056\n",
            "92/92 - 0s - loss: 0.0056\n",
            "92/92 - 0s - loss: 0.0055\n",
            "92/92 - 0s - loss: 0.0055\n",
            "92/92 - 0s - loss: 0.0054\n",
            "92/92 - 0s - loss: 0.0054\n",
            "92/92 - 0s - loss: 0.0054\n",
            "92/92 - 0s - loss: 0.0053\n",
            "92/92 - 0s - loss: 0.0053\n",
            "92/92 - 0s - loss: 0.0052\n",
            "92/92 - 0s - loss: 0.0051\n",
            "92/92 - 0s - loss: 0.0051\n",
            "92/92 - 0s - loss: 0.0050\n",
            "92/92 - 0s - loss: 0.0049\n",
            "92/92 - 0s - loss: 0.0049\n",
            "92/92 - 0s - loss: 0.0048\n",
            "92/92 - 0s - loss: 0.0047\n",
            "92/92 - 0s - loss: 0.0046\n",
            "92/92 - 0s - loss: 0.0045\n",
            "92/92 - 0s - loss: 0.0045\n",
            "92/92 - 0s - loss: 0.0044\n",
            "92/92 - 0s - loss: 0.0043\n",
            "92/92 - 0s - loss: 0.0042\n",
            "92/92 - 0s - loss: 0.0041\n",
            "92/92 - 0s - loss: 0.0039\n",
            "92/92 - 0s - loss: 0.0038\n",
            "92/92 - 0s - loss: 0.0037\n",
            "92/92 - 0s - loss: 0.0036\n",
            "92/92 - 0s - loss: 0.0035\n",
            "92/92 - 0s - loss: 0.0034\n",
            "92/92 - 0s - loss: 0.0033\n",
            "92/92 - 0s - loss: 0.0032\n",
            "92/92 - 0s - loss: 0.0031\n",
            "92/92 - 0s - loss: 0.0030\n",
            "92/92 - 0s - loss: 0.0030\n",
            "92/92 - 0s - loss: 0.0029\n",
            "92/92 - 0s - loss: 0.0029\n",
            "92/92 - 0s - loss: 0.0028\n",
            "92/92 - 0s - loss: 0.0028\n",
            "92/92 - 0s - loss: 0.0028\n",
            "92/92 - 0s - loss: 0.0028\n",
            "92/92 - 0s - loss: 0.0028\n",
            "92/92 - 0s - loss: 0.0028\n",
            "92/92 - 0s - loss: 0.0028\n",
            "92/92 - 0s - loss: 0.0028\n",
            "92/92 - 0s - loss: 0.0027\n",
            "92/92 - 0s - loss: 0.0027\n",
            "92/92 - 0s - loss: 0.0027\n",
            "92/92 - 0s - loss: 0.0027\n",
            "92/92 - 0s - loss: 0.0027\n",
            "92/92 - 0s - loss: 0.0026\n",
            "92/92 - 0s - loss: 0.0026\n",
            "92/92 - 0s - loss: 0.0026\n",
            "92/92 - 0s - loss: 0.0026\n",
            "92/92 - 0s - loss: 0.0026\n",
            "92/92 - 0s - loss: 0.0026\n",
            "92/92 - 0s - loss: 0.0026\n",
            "92/92 - 0s - loss: 0.0025\n",
            "92/92 - 0s - loss: 0.0025\n",
            "92/92 - 0s - loss: 0.0025\n",
            "92/92 - 0s - loss: 0.0025\n",
            "92/92 - 0s - loss: 0.0025\n",
            "92/92 - 0s - loss: 0.0025\n",
            "92/92 - 0s - loss: 0.0025\n",
            "92/92 - 0s - loss: 0.0025\n",
            "92/92 - 0s - loss: 0.0025\n",
            "92/92 - 0s - loss: 0.0025\n",
            "92/92 - 0s - loss: 0.0025\n",
            "92/92 - 0s - loss: 0.0025\n",
            "92/92 - 0s - loss: 0.0025\n",
            "92/92 - 0s - loss: 0.0025\n",
            "92/92 - 0s - loss: 0.0025\n",
            "92/92 - 0s - loss: 0.0024\n",
            "92/92 - 0s - loss: 0.0024\n",
            "92/92 - 0s - loss: 0.0024\n",
            "92/92 - 0s - loss: 0.0024\n",
            "92/92 - 0s - loss: 0.0024\n",
            "92/92 - 0s - loss: 0.0024\n",
            "92/92 - 0s - loss: 0.0024\n",
            "92/92 - 0s - loss: 0.0024\n",
            "92/92 - 0s - loss: 0.0024\n",
            "92/92 - 0s - loss: 0.0024\n",
            "92/92 - 0s - loss: 0.0024\n",
            "92/92 - 0s - loss: 0.0024\n",
            "92/92 - 0s - loss: 0.0024\n"
          ]
        }
      ]
    },
    {
      "cell_type": "code",
      "metadata": {
        "scrolled": true,
        "id": "U56m5jI4_kbE",
        "outputId": "370da3f7-9d00-4f30-e7c2-6ed1a621cbc1",
        "colab": {
          "base_uri": "https://localhost:8080/",
          "height": 300
        }
      },
      "source": [
        "from sklearn.metrics import mean_squared_error\n",
        "import math \n",
        "\n",
        "# 還原常態化的訓練資料\n",
        "trainPredict = scaler.inverse_transform(trainPredict)\n",
        "trainY = scaler.inverse_transform([trainY])\n",
        "testPredict = scaler.inverse_transform(testPredict)\n",
        "testY = scaler.inverse_transform([testY])\n",
        "\n",
        "# 計算 RMSE\n",
        "trainScore = math.sqrt(mean_squared_error(trainY[0], trainPredict[:,0]))\n",
        "print('Train Score: %.2f RMSE' % (trainScore))\n",
        "testScore = math.sqrt(mean_squared_error(testY[0], testPredict[:,0]))\n",
        "print('Test Score: %.2f RMSE' % (testScore))\n",
        "\n",
        "# 訓練資料的 X/Y\n",
        "trainPredictPlot = np.empty_like(dataset)\n",
        "trainPredictPlot[:, :] = np.nan\n",
        "trainPredictPlot[look_back:len(trainPredict)+look_back, :] = trainPredict\n",
        "\n",
        "# 測試資料 X/Y\n",
        "testPredictPlot = np.empty_like(dataset)\n",
        "testPredictPlot[:, :] = np.nan\n",
        "testPredictPlot[len(trainPredict)+(look_back*2)+1:len(dataset)-1, :] = testPredict\n",
        "\n",
        "# 繪圖\n",
        "plt.plot(scaler.inverse_transform(dataset))\n",
        "plt.plot(trainPredictPlot)\n",
        "plt.plot(testPredictPlot)\n",
        "plt.show()"
      ],
      "execution_count": 27,
      "outputs": [
        {
          "output_type": "stream",
          "name": "stdout",
          "text": [
            "Train Score: 29.16 RMSE\n",
            "Test Score: 119.46 RMSE\n"
          ]
        },
        {
          "output_type": "display_data",
          "data": {
            "image/png": "[encoded data removed]",
            "text/plain": [
              "<Figure size 432x288 with 1 Axes>"
            ]
          },
          "metadata": {
            "needs_background": "light"
          }
        }
      ]
    },
    {
      "cell_type": "code",
      "metadata": {
        "id": "vUunP1Qh_kbE"
      },
      "source": [
        ""
      ],
      "execution_count": null,
      "outputs": []
    }
  ]
}