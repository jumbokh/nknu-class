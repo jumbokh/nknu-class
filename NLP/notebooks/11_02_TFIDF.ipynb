{
  "nbformat": 4,
  "nbformat_minor": 0,
  "metadata": {
    "kernelspec": {
      "display_name": "Python 3",
      "language": "python",
      "name": "python3"
    },
    "language_info": {
      "codemirror_mode": {
        "name": "ipython",
        "version": 3
      },
      "file_extension": ".py",
      "mimetype": "text/x-python",
      "name": "python",
      "nbconvert_exporter": "python",
      "pygments_lexer": "ipython3",
      "version": "3.7.3"
    },
    "colab": {
      "name": "11_02_TFIDF.ipynb",
      "provenance": [],
      "include_colab_link": true
    }
  },
  "cells": [
    {
      "cell_type": "markdown",
      "metadata": {
        "id": "view-in-github",
        "colab_type": "text"
      },
      "source": [
        "<a href=\"https://colab.research.google.com/github/jumbokh/nknu-class/blob/main/NLP/notebooks/11_02_TFIDF.ipynb\" target=\"_parent\"><img src=\"https://colab.research.google.com/assets/colab-badge.svg\" alt=\"Open In Colab\"/></a>"
      ]
    },
    {
      "cell_type": "markdown",
      "metadata": {
        "id": "C0oeHoc7hVVR"
      },
      "source": [
        "# 以TF-IDF實作問答配對"
      ]
    },
    {
      "cell_type": "code",
      "metadata": {
        "id": "nDx8d0yohVVV",
        "outputId": "9b4db67f-3fcd-427e-c369-da88e62180c8"
      },
      "source": [
        "#!pip install sklearn\n",
        "#!pip install pycocotools\n",
        "#!pip install -U numpy"
      ],
      "execution_count": null,
      "outputs": [
        {
          "name": "stdout",
          "output_type": "stream",
          "text": [
            "Looking in indexes: https://pypi.org/simple, https://www.piwheels.org/simple\n",
            "\u001b[33mCache entry deserialization failed, entry ignored\u001b[0m\n"
          ]
        }
      ]
    },
    {
      "cell_type": "code",
      "metadata": {
        "id": "vW40TkRChVVY"
      },
      "source": [
        "# 載入相關套件\n",
        "from sklearn.feature_extraction.text import CountVectorizer\n",
        "from sklearn.feature_extraction.text import TfidfTransformer\n",
        "import numpy as np"
      ],
      "execution_count": 1,
      "outputs": []
    },
    {
      "cell_type": "code",
      "metadata": {
        "id": "mGma-4WYhVVZ"
      },
      "source": [
        "# 語料：最後一句為問題，其他為回答\n",
        "corpus = [\n",
        "    'This is the first document.',\n",
        "    'This is the second second document.',\n",
        "    'And the third one.',\n",
        "    'Is this the first document?',\n",
        "]"
      ],
      "execution_count": 2,
      "outputs": []
    },
    {
      "cell_type": "code",
      "metadata": {
        "colab": {
          "base_uri": "https://localhost:8080/"
        },
        "id": "KRDUpNWQhVVZ",
        "outputId": "16a5d7ef-f205-4af9-d90e-010f74cfe5a3"
      },
      "source": [
        "# 將語料轉換為詞頻矩陣，計算各個字詞出現的次數。\n",
        "vectorizer = CountVectorizer()\n",
        "X = vectorizer.fit_transform(corpus)\n",
        "\n",
        "# 生字表\n",
        "word = vectorizer.get_feature_names()\n",
        "print (\"Vocabulary：\", word)"
      ],
      "execution_count": 3,
      "outputs": [
        {
          "output_type": "stream",
          "name": "stdout",
          "text": [
            "Vocabulary： ['and', 'document', 'first', 'is', 'one', 'second', 'the', 'third', 'this']\n"
          ]
        }
      ]
    },
    {
      "cell_type": "code",
      "metadata": {
        "colab": {
          "base_uri": "https://localhost:8080/"
        },
        "id": "VGNTrVkWhVVa",
        "outputId": "b8108d33-be22-43ed-8358-f99fa62a66e6"
      },
      "source": [
        "# 查看四句話的 BOW\n",
        "print (\"BOW=\\n\", X.toarray())"
      ],
      "execution_count": 4,
      "outputs": [
        {
          "output_type": "stream",
          "name": "stdout",
          "text": [
            "BOW=\n",
            " [[0 1 1 1 0 0 1 0 1]\n",
            " [0 1 0 1 0 2 1 0 1]\n",
            " [1 0 0 0 1 0 1 1 0]\n",
            " [0 1 1 1 0 0 1 0 1]]\n"
          ]
        }
      ]
    },
    {
      "cell_type": "code",
      "metadata": {
        "colab": {
          "base_uri": "https://localhost:8080/"
        },
        "id": "Gk_Y3420hVVb",
        "outputId": "237acdc5-cc39-4679-de7c-070b7362f7ce"
      },
      "source": [
        "# TF-IDF 轉換\n",
        "transformer = TfidfTransformer()\n",
        "tfidf = transformer.fit_transform(X)\n",
        "print (\"TF-IDF=\\n\", np.around(tfidf.toarray(), 4))"
      ],
      "execution_count": 5,
      "outputs": [
        {
          "output_type": "stream",
          "name": "stdout",
          "text": [
            "TF-IDF=\n",
            " [[0.     0.4388 0.542  0.4388 0.     0.     0.3587 0.     0.4388]\n",
            " [0.     0.2723 0.     0.2723 0.     0.8532 0.2226 0.     0.2723]\n",
            " [0.5528 0.     0.     0.     0.5528 0.     0.2885 0.5528 0.    ]\n",
            " [0.     0.4388 0.542  0.4388 0.     0.     0.3587 0.     0.4388]]\n"
          ]
        }
      ]
    },
    {
      "cell_type": "code",
      "metadata": {
        "scrolled": true,
        "colab": {
          "base_uri": "https://localhost:8080/"
        },
        "id": "tfxv_1IKhVVc",
        "outputId": "2c793654-cbef-4b1e-d7d5-1456bc3c12bf"
      },
      "source": [
        "# 最後一句與其他句的相似度比較\n",
        "from sklearn.metrics.pairwise import cosine_similarity\n",
        "print (cosine_similarity(tfidf[-1], tfidf[:-1], dense_output=False))"
      ],
      "execution_count": 6,
      "outputs": [
        {
          "output_type": "stream",
          "name": "stdout",
          "text": [
            "  (0, 2)\t0.1034849000930086\n",
            "  (0, 1)\t0.43830038447620107\n",
            "  (0, 0)\t1.0\n"
          ]
        }
      ]
    },
    {
      "cell_type": "code",
      "metadata": {
        "id": "Hu3q3e1ChVVd"
      },
      "source": [
        ""
      ],
      "execution_count": null,
      "outputs": []
    }
  ]
}