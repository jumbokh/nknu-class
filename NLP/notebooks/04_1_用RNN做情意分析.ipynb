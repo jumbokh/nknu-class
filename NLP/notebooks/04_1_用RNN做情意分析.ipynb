{
  "nbformat": 4,
  "nbformat_minor": 0,
  "metadata": {
    "anaconda-cloud": {},
    "kernelspec": {
      "display_name": "Python 3",
      "language": "python",
      "name": "python3"
    },
    "language_info": {
      "codemirror_mode": {
        "name": "ipython",
        "version": 3
      },
      "file_extension": ".py",
      "mimetype": "text/x-python",
      "name": "python",
      "nbconvert_exporter": "python",
      "pygments_lexer": "ipython3",
      "version": "3.5.5"
    },
    "colab": {
      "name": "04-1. 用RNN做情意分析.ipynb",
      "provenance": []
    },
    "accelerator": "GPU"
  },
  "cells": [
    {
      "cell_type": "markdown",
      "metadata": {
        "id": "K_9KfXfMl6nA"
      },
      "source": [
        "# 主題 04-1. 用RNN做情意分析\n",
        "\n",
        "我們終於要介紹三大神經網路的最後一個, 也就是 RNN。RNN 有不少的變型, 例如 LSTM 和 GRU 等等, 不過我們都通稱叫 RNN。RNN 是一種「有記憶」的神經網路, 非常適合時間序列啦, 或是不定長度的輸入資料。\n",
        "\n",
        "我們來看看怎麼樣用 RNN 做電影評論的「情意分析」, 也就是知道一則評論究竟是「正評」還是「負評」。"
      ]
    },
    {
      "cell_type": "markdown",
      "metadata": {
        "id": "-s4Teqe1l6nD"
      },
      "source": [
        "## 1. 初始準備\n",
        "\n",
        "基本上和之前是一樣的, 我們就不再說明。"
      ]
    },
    {
      "cell_type": "code",
      "metadata": {
        "colab": {
          "base_uri": "https://localhost:8080/"
        },
        "id": "5amz5X4yl6nE",
        "outputId": "48b91562-0a32-4c23-afef-97f22c7047c6"
      },
      "source": [
        "%env KERAS_BACKEND=tensorflow"
      ],
      "execution_count": null,
      "outputs": [
        {
          "output_type": "stream",
          "text": [
            "env: KERAS_BACKEND=tensorflow\n"
          ],
          "name": "stdout"
        }
      ]
    },
    {
      "cell_type": "code",
      "metadata": {
        "collapsed": true,
        "nbpresent": {
          "id": "a73ce944-1f06-4b48-91eb-da5ff43936f9"
        },
        "id": "fAaW25OLl6nG"
      },
      "source": [
        "%matplotlib inline\n",
        "import numpy as np\n",
        "import matplotlib.pyplot as plt"
      ],
      "execution_count": null,
      "outputs": []
    },
    {
      "cell_type": "markdown",
      "metadata": {
        "id": "70bZlx4bl6nG"
      },
      "source": [
        "## 2. 讀入 IMDB 電影數據庫\n",
        "\n",
        "今天我們要評入 IMDB 電影數據庫影評的部份。"
      ]
    },
    {
      "cell_type": "code",
      "metadata": {
        "id": "Ak3Zch4_l6nG"
      },
      "source": [
        "from keras.datasets import imdb"
      ],
      "execution_count": null,
      "outputs": []
    },
    {
      "cell_type": "code",
      "metadata": {
        "collapsed": true,
        "colab": {
          "base_uri": "https://localhost:8080/"
        },
        "id": "siRBb2gGl6nH",
        "outputId": "07ff6bfb-5dba-438e-c076-1705bb6a80cb"
      },
      "source": [
        "(x_train, y_train), (x_test, y_test) = imdb.load_data(num_words=10000)"
      ],
      "execution_count": null,
      "outputs": [
        {
          "output_type": "stream",
          "text": [
            "Downloading data from https://storage.googleapis.com/tensorflow/tf-keras-datasets/imdb.npz\n",
            "17465344/17464789 [==============================] - 0s 0us/step\n"
          ],
          "name": "stdout"
        },
        {
          "output_type": "stream",
          "text": [
            "<string>:6: VisibleDeprecationWarning: Creating an ndarray from ragged nested sequences (which is a list-or-tuple of lists-or-tuples-or ndarrays with different lengths or shapes) is deprecated. If you meant to do this, you must specify 'dtype=object' when creating the ndarray\n",
            "/usr/local/lib/python3.7/dist-packages/tensorflow/python/keras/datasets/imdb.py:159: VisibleDeprecationWarning: Creating an ndarray from ragged nested sequences (which is a list-or-tuple of lists-or-tuples-or ndarrays with different lengths or shapes) is deprecated. If you meant to do this, you must specify 'dtype=object' when creating the ndarray\n",
            "  x_train, y_train = np.array(xs[:idx]), np.array(labels[:idx])\n",
            "/usr/local/lib/python3.7/dist-packages/tensorflow/python/keras/datasets/imdb.py:160: VisibleDeprecationWarning: Creating an ndarray from ragged nested sequences (which is a list-or-tuple of lists-or-tuples-or ndarrays with different lengths or shapes) is deprecated. If you meant to do this, you must specify 'dtype=object' when creating the ndarray\n",
            "  x_test, y_test = np.array(xs[idx:]), np.array(labels[idx:])\n"
          ],
          "name": "stderr"
        }
      ]
    },
    {
      "cell_type": "markdown",
      "metadata": {
        "id": "UE_tyn8Cl6nH"
      },
      "source": [
        "要注意這裡我們限制只選「最常用」1 萬字, 也就是超過這範圍的就當不存在。這是文字分析常會做的事。"
      ]
    },
    {
      "cell_type": "code",
      "metadata": {
        "colab": {
          "base_uri": "https://localhost:8080/"
        },
        "id": "92xpvc6dl6nH",
        "outputId": "b996ca2c-033a-4c4d-e263-8a0d5f6f4f2b"
      },
      "source": [
        "print(\"訓練資料總筆數 =\", len(x_train))\n",
        "print(\"測試資料總筆數 =\", len(x_test))"
      ],
      "execution_count": null,
      "outputs": [
        {
          "output_type": "stream",
          "text": [
            "訓練資料總筆數 = 25000\n",
            "測試資料總筆數 = 25000\n"
          ],
          "name": "stdout"
        }
      ]
    },
    {
      "cell_type": "markdown",
      "metadata": {
        "id": "7n6pf1Lql6nI"
      },
      "source": [
        "### 2.1 輸入資料部份\n",
        "\n",
        "我們來看一下輸入部份長什麼樣子?"
      ]
    },
    {
      "cell_type": "code",
      "metadata": {
        "colab": {
          "base_uri": "https://localhost:8080/"
        },
        "id": "HMP1f_5xl6nI",
        "outputId": "71ce955a-069e-4801-fbba-5129122af482"
      },
      "source": [
        "x_train[99]"
      ],
      "execution_count": null,
      "outputs": [
        {
          "output_type": "execute_result",
          "data": {
            "text/plain": [
              "[1,\n",
              " 1230,\n",
              " 3765,\n",
              " 566,\n",
              " 97,\n",
              " 189,\n",
              " 102,\n",
              " 86,\n",
              " 7,\n",
              " 32,\n",
              " 4,\n",
              " 973,\n",
              " 16,\n",
              " 55,\n",
              " 355,\n",
              " 18,\n",
              " 14,\n",
              " 20,\n",
              " 4,\n",
              " 64,\n",
              " 542,\n",
              " 173,\n",
              " 16,\n",
              " 4,\n",
              " 893,\n",
              " 2115,\n",
              " 5376,\n",
              " 250,\n",
              " 39,\n",
              " 8013,\n",
              " 4,\n",
              " 1362,\n",
              " 2,\n",
              " 14,\n",
              " 102,\n",
              " 47,\n",
              " 57,\n",
              " 599,\n",
              " 633,\n",
              " 6,\n",
              " 1317,\n",
              " 2,\n",
              " 8,\n",
              " 6,\n",
              " 189,\n",
              " 20,\n",
              " 57,\n",
              " 206,\n",
              " 57,\n",
              " 116,\n",
              " 5,\n",
              " 57,\n",
              " 836,\n",
              " 82,\n",
              " 6,\n",
              " 1317,\n",
              " 2,\n",
              " 3728,\n",
              " 2,\n",
              " 9,\n",
              " 6,\n",
              " 52,\n",
              " 284,\n",
              " 21,\n",
              " 29,\n",
              " 9,\n",
              " 38,\n",
              " 2245,\n",
              " 5,\n",
              " 1044,\n",
              " 11,\n",
              " 14,\n",
              " 15,\n",
              " 45,\n",
              " 619,\n",
              " 50,\n",
              " 71,\n",
              " 6,\n",
              " 171,\n",
              " 531,\n",
              " 15,\n",
              " 71,\n",
              " 424,\n",
              " 8,\n",
              " 30,\n",
              " 163,\n",
              " 6211,\n",
              " 4,\n",
              " 1629,\n",
              " 189,\n",
              " 212,\n",
              " 102,\n",
              " 5,\n",
              " 57,\n",
              " 31,\n",
              " 1498,\n",
              " 11,\n",
              " 4,\n",
              " 311,\n",
              " 13,\n",
              " 197,\n",
              " 15,\n",
              " 14,\n",
              " 20,\n",
              " 16,\n",
              " 1150,\n",
              " 1479,\n",
              " 5,\n",
              " 13,\n",
              " 161,\n",
              " 990,\n",
              " 692,\n",
              " 5,\n",
              " 1706,\n",
              " 12,\n",
              " 69,\n",
              " 77,\n",
              " 1194,\n",
              " 8,\n",
              " 3245,\n",
              " 2001,\n",
              " 553,\n",
              " 67,\n",
              " 14,\n",
              " 20,\n",
              " 48,\n",
              " 25,\n",
              " 423,\n",
              " 13,\n",
              " 131,\n",
              " 124,\n",
              " 51,\n",
              " 25,\n",
              " 122,\n",
              " 236,\n",
              " 1506,\n",
              " 198,\n",
              " 4,\n",
              " 64,\n",
              " 552,\n",
              " 7,\n",
              " 415,\n",
              " 37,\n",
              " 62,\n",
              " 169,\n",
              " 14,\n",
              " 20,\n",
              " 60,\n",
              " 2602,\n",
              " 629,\n",
              " 5,\n",
              " 615,\n",
              " 14,\n",
              " 9,\n",
              " 8,\n",
              " 25,\n",
              " 1230,\n",
              " 3765,\n",
              " 570,\n",
              " 231,\n",
              " 189,\n",
              " 102,\n",
              " 14,\n",
              " 20,\n",
              " 166,\n",
              " 2039,\n",
              " 168,\n",
              " 40,\n",
              " 2450,\n",
              " 5486,\n",
              " 3298]"
            ]
          },
          "metadata": {
            "tags": []
          },
          "execution_count": 6
        }
      ]
    },
    {
      "cell_type": "markdown",
      "metadata": {
        "id": "1PlB8hmhl6nJ"
      },
      "source": [
        "注意這其實是一個 list 而不是 array, 原因是每筆資料 (每段影評) 長度自然是不一樣的! 我們檢查一下前 10 筆的長度就可以知道。"
      ]
    },
    {
      "cell_type": "code",
      "metadata": {
        "colab": {
          "base_uri": "https://localhost:8080/"
        },
        "id": "om0UmWKfl6nJ",
        "outputId": "14655478-0134-4e4a-8ba8-5c7d842c920b"
      },
      "source": [
        "type(x_train[99])"
      ],
      "execution_count": null,
      "outputs": [
        {
          "output_type": "execute_result",
          "data": {
            "text/plain": [
              "list"
            ]
          },
          "metadata": {
            "tags": []
          },
          "execution_count": 7
        }
      ]
    },
    {
      "cell_type": "code",
      "metadata": {
        "colab": {
          "base_uri": "https://localhost:8080/"
        },
        "id": "jyryM6qnl6nJ",
        "outputId": "a4082393-a3a1-461d-c47a-df3265ff3396"
      },
      "source": [
        "for i in range(10):\n",
        "    print(len(x_train[i]), end=', ')"
      ],
      "execution_count": null,
      "outputs": [
        {
          "output_type": "stream",
          "text": [
            "218, 189, 141, 550, 147, 43, 123, 562, 233, 130, "
          ],
          "name": "stdout"
        }
      ]
    },
    {
      "cell_type": "markdown",
      "metadata": {
        "id": "_N_WVRVxl6nK"
      },
      "source": [
        "最後要說明的是, 在每筆輸入資料的數字都代表英文的一個單字。編號方式是在我們資料庫裡所有文字的排序: 也就是出現頻率越高, 代表的數字就越小。"
      ]
    },
    {
      "cell_type": "markdown",
      "metadata": {
        "id": "3qpRKl4Cl6nK"
      },
      "source": [
        "### 2.2 輸出資料部份\n",
        "\n",
        "輸出方面應該很容易想像, 我們來看看前 10 筆。結果自然就是 0 (負評) 或 1 (正評)。"
      ]
    },
    {
      "cell_type": "code",
      "metadata": {
        "colab": {
          "base_uri": "https://localhost:8080/"
        },
        "id": "UbsBWLY0l6nK",
        "outputId": "bf04aa91-434f-4de0-dc49-a958c92b72f6"
      },
      "source": [
        "y_train[:10]"
      ],
      "execution_count": null,
      "outputs": [
        {
          "output_type": "execute_result",
          "data": {
            "text/plain": [
              "array([1, 0, 0, 1, 0, 0, 1, 0, 1, 0])"
            ]
          },
          "metadata": {
            "tags": []
          },
          "execution_count": 9
        }
      ]
    },
    {
      "cell_type": "markdown",
      "metadata": {
        "id": "958z17Bil6nK"
      },
      "source": [
        "### 2.3 送入神經網路的輸入處理\n",
        "\n",
        "雖然 RNN 是可以處理不同長度的輸入, 在寫程式時我們還是要\n",
        "\n",
        "* 設輸入文字長度的上限\n",
        "* 把每段文字都弄成一樣長, 太短的後面補上 0"
      ]
    },
    {
      "cell_type": "code",
      "metadata": {
        "collapsed": true,
        "id": "op9U2PIjl6nL"
      },
      "source": [
        "from keras.preprocessing import sequence"
      ],
      "execution_count": null,
      "outputs": []
    },
    {
      "cell_type": "code",
      "metadata": {
        "id": "ynhkA8Zel6nL"
      },
      "source": [
        "x_train = sequence.pad_sequences(x_train, maxlen=100)\n",
        "x_test = sequence.pad_sequences(x_test, maxlen=100)"
      ],
      "execution_count": null,
      "outputs": []
    },
    {
      "cell_type": "code",
      "metadata": {
        "colab": {
          "base_uri": "https://localhost:8080/"
        },
        "id": "X-Q0CSFZl6nL",
        "outputId": "d14608ef-4660-4a2e-adc2-6df959c8d5f9"
      },
      "source": [
        "x_train.shape"
      ],
      "execution_count": null,
      "outputs": [
        {
          "output_type": "execute_result",
          "data": {
            "text/plain": [
              "(25000, 100)"
            ]
          },
          "metadata": {
            "tags": []
          },
          "execution_count": 12
        }
      ]
    },
    {
      "cell_type": "code",
      "metadata": {
        "colab": {
          "base_uri": "https://localhost:8080/"
        },
        "id": "AkZOiToIl6nL",
        "outputId": "56e9e87f-b621-4049-fdde-97bbe12c0cd9"
      },
      "source": [
        "x_train[99]"
      ],
      "execution_count": null,
      "outputs": [
        {
          "output_type": "execute_result",
          "data": {
            "text/plain": [
              "array([  14,   15,   45,  619,   50,   71,    6,  171,  531,   15,   71,\n",
              "        424,    8,   30,  163, 6211,    4, 1629,  189,  212,  102,    5,\n",
              "         57,   31, 1498,   11,    4,  311,   13,  197,   15,   14,   20,\n",
              "         16, 1150, 1479,    5,   13,  161,  990,  692,    5, 1706,   12,\n",
              "         69,   77, 1194,    8, 3245, 2001,  553,   67,   14,   20,   48,\n",
              "         25,  423,   13,  131,  124,   51,   25,  122,  236, 1506,  198,\n",
              "          4,   64,  552,    7,  415,   37,   62,  169,   14,   20,   60,\n",
              "       2602,  629,    5,  615,   14,    9,    8,   25, 1230, 3765,  570,\n",
              "        231,  189,  102,   14,   20,  166, 2039,  168,   40, 2450, 5486,\n",
              "       3298], dtype=int32)"
            ]
          },
          "metadata": {
            "tags": []
          },
          "execution_count": 13
        }
      ]
    },
    {
      "cell_type": "markdown",
      "metadata": {
        "id": "1QvHO6lWl6nM"
      },
      "source": [
        "至此我們可以來寫我們的第一個 RNN 了!"
      ]
    },
    {
      "cell_type": "markdown",
      "metadata": {
        "id": "bH_yQDiYl6nM"
      },
      "source": [
        "## 3. 打造你的 RNN\n",
        "\n",
        "這裡我們選用 LSTM, 基本上用哪種 RNN 寫法都是差不多的!"
      ]
    },
    {
      "cell_type": "markdown",
      "metadata": {
        "id": "rtU1bJucl6nM"
      },
      "source": [
        "### 3.1 決定神經網路架構\n",
        "\n",
        "* 先將 10000 維的文字壓到 128 維\n",
        "* 然後用 128 個 LSTM\n",
        "* 最後一個 output, 直接用 sigmoid 送出"
      ]
    },
    {
      "cell_type": "markdown",
      "metadata": {
        "id": "08qmzubml6nM"
      },
      "source": [
        "### 3.2 建構我們的神經網路\n",
        "\n",
        "文字我們用 1-hot 表示是很標準的方式, 不過要注意的是, 因為我們指定要 1 萬個字, 所以每個字是用 1 萬維的向量表示! 這一來很浪費記憶空間, 二來字和字間基本上是沒有關係的。我們可以用某種「合理」的方式, 把字壓到比較小的維度, 這些向量又代表某些意思 (比如說兩個字代表的向量角度小表相關程度大) 等等。\n",
        "\n",
        "這聽來很複雜的事叫 \"word embedding\", 而事實上 Keras 會幫我們做。我們只需告訴 Keras 原來最大的數字是多少 (10000), 還有我們打算壓到幾維 (128)。"
      ]
    },
    {
      "cell_type": "code",
      "metadata": {
        "collapsed": true,
        "id": "4S4tPtHll6nN"
      },
      "source": [
        "from keras.models import Sequential\n",
        "from keras.layers import Dense, Embedding\n",
        "from keras.layers import LSTM"
      ],
      "execution_count": null,
      "outputs": []
    },
    {
      "cell_type": "code",
      "metadata": {
        "collapsed": true,
        "nbpresent": {
          "id": "924cda44-78f6-4bbc-a669-68e5bdeb4704"
        },
        "id": "5kPn7RiGl6nN"
      },
      "source": [
        "model = Sequential()"
      ],
      "execution_count": null,
      "outputs": []
    },
    {
      "cell_type": "code",
      "metadata": {
        "collapsed": true,
        "nbpresent": {
          "id": "654a314d-0144-4421-a293-3586e91cfedd"
        },
        "id": "-iH0We-Ql6nN"
      },
      "source": [
        "model.add(Embedding(10000, 128))"
      ],
      "execution_count": null,
      "outputs": []
    },
    {
      "cell_type": "markdown",
      "metadata": {
        "id": "YsoqnkC1l6nN"
      },
      "source": [
        "LSTM 層, 我們做 150 個 LSTM Cells。"
      ]
    },
    {
      "cell_type": "code",
      "metadata": {
        "collapsed": true,
        "nbpresent": {
          "id": "b8e3a157-5933-4b63-b156-fe4bdf8905a4"
        },
        "id": "Ng0sP7gnl6nO"
      },
      "source": [
        "model.add(LSTM(150))"
      ],
      "execution_count": null,
      "outputs": []
    },
    {
      "cell_type": "markdown",
      "metadata": {
        "id": "4wxqxhhnl6nO"
      },
      "source": [
        "單純透過 sigmoid 輸出。"
      ]
    },
    {
      "cell_type": "code",
      "metadata": {
        "collapsed": true,
        "nbpresent": {
          "id": "18b410f8-45b0-4188-95c2-c30cc76d07b8"
        },
        "id": "faTxYaEll6nO"
      },
      "source": [
        "model.add(Dense(1, activation='sigmoid'))"
      ],
      "execution_count": null,
      "outputs": []
    },
    {
      "cell_type": "markdown",
      "metadata": {
        "id": "QUCA9aTIl6nO"
      },
      "source": [
        "### 3.3 組裝\n",
        "\n",
        "這次我們用 binary_crossentropy 做我們的 loss function, 另外用一個很潮的 Adam 學習法。"
      ]
    },
    {
      "cell_type": "code",
      "metadata": {
        "collapsed": true,
        "nbpresent": {
          "id": "9593a32d-9089-48fb-8e65-f39cb0137f08"
        },
        "id": "oe12kcuql6nO"
      },
      "source": [
        "model.compile(loss='binary_crossentropy', \n",
        "              optimizer='adam', \n",
        "              metrics=['accuracy'])"
      ],
      "execution_count": null,
      "outputs": []
    },
    {
      "cell_type": "markdown",
      "metadata": {
        "id": "_shf4u8ul6nP"
      },
      "source": [
        "## 4. 訓練"
      ]
    },
    {
      "cell_type": "markdown",
      "metadata": {
        "id": "mMcuSqUMl6nP"
      },
      "source": [
        "我們用的 embedding 中, 會被 batch_size 影響輸入。輸入的 shape 會是\n",
        "\n",
        "    (batch_size, 每筆上限)\n",
        "    \n",
        "也就是 (32,100) 輸出是 (32,100,128), 其中 128 是我們決定要壓成幾維的向量。"
      ]
    },
    {
      "cell_type": "code",
      "metadata": {
        "nbpresent": {
          "id": "29d4727a-4b5a-463c-9cc7-1a7df697e774"
        },
        "colab": {
          "base_uri": "https://localhost:8080/"
        },
        "id": "u_hosFZrl6nP",
        "outputId": "481bce18-412c-4a43-e6ce-8325b288a66b"
      },
      "source": [
        "model.fit(x_train, y_train, \n",
        "          batch_size=32, \n",
        "          epochs=15)"
      ],
      "execution_count": null,
      "outputs": [
        {
          "output_type": "stream",
          "text": [
            "Epoch 1/15\n",
            "782/782 [==============================] - 50s 23ms/step - loss: 0.5199 - accuracy: 0.7270\n",
            "Epoch 2/15\n",
            "782/782 [==============================] - 18s 23ms/step - loss: 0.2572 - accuracy: 0.8961\n",
            "Epoch 3/15\n",
            "782/782 [==============================] - 18s 22ms/step - loss: 0.1682 - accuracy: 0.9386\n",
            "Epoch 4/15\n",
            "782/782 [==============================] - 17s 22ms/step - loss: 0.1161 - accuracy: 0.9593\n",
            "Epoch 5/15\n",
            "782/782 [==============================] - 18s 23ms/step - loss: 0.0840 - accuracy: 0.9702\n",
            "Epoch 6/15\n",
            "782/782 [==============================] - 18s 23ms/step - loss: 0.0588 - accuracy: 0.9805\n",
            "Epoch 7/15\n",
            "782/782 [==============================] - 17s 22ms/step - loss: 0.0436 - accuracy: 0.9857\n",
            "Epoch 8/15\n",
            "782/782 [==============================] - 17s 22ms/step - loss: 0.0306 - accuracy: 0.9911\n",
            "Epoch 9/15\n",
            "782/782 [==============================] - 17s 21ms/step - loss: 0.0209 - accuracy: 0.9935\n",
            "Epoch 10/15\n",
            "782/782 [==============================] - 17s 22ms/step - loss: 0.0219 - accuracy: 0.9935\n",
            "Epoch 11/15\n",
            "782/782 [==============================] - 17s 22ms/step - loss: 0.0168 - accuracy: 0.9946\n",
            "Epoch 12/15\n",
            "782/782 [==============================] - 17s 22ms/step - loss: 0.0165 - accuracy: 0.9955\n",
            "Epoch 13/15\n",
            "782/782 [==============================] - 17s 21ms/step - loss: 0.0191 - accuracy: 0.9943\n",
            "Epoch 14/15\n",
            "782/782 [==============================] - 17s 22ms/step - loss: 0.0110 - accuracy: 0.9967\n",
            "Epoch 15/15\n",
            "782/782 [==============================] - 17s 22ms/step - loss: 0.0038 - accuracy: 0.9992\n"
          ],
          "name": "stdout"
        },
        {
          "output_type": "execute_result",
          "data": {
            "text/plain": [
              "<tensorflow.python.keras.callbacks.History at 0x7f05cbea2790>"
            ]
          },
          "metadata": {
            "tags": []
          },
          "execution_count": 20
        }
      ]
    },
    {
      "cell_type": "markdown",
      "metadata": {
        "id": "KLE2Igzpl6nP"
      },
      "source": [
        "## 5. 檢視結果"
      ]
    },
    {
      "cell_type": "markdown",
      "metadata": {
        "id": "FGUYH9Hll6nQ"
      },
      "source": [
        "### 5.1 分數\n",
        "\n",
        "我們照例來看看測試資料的分數。"
      ]
    },
    {
      "cell_type": "code",
      "metadata": {
        "colab": {
          "base_uri": "https://localhost:8080/"
        },
        "id": "AEwhHneml6nQ",
        "outputId": "af2d21a7-b63a-4eb0-ed62-496cea762bde"
      },
      "source": [
        "score = model.evaluate(x_test, y_test)"
      ],
      "execution_count": null,
      "outputs": [
        {
          "output_type": "stream",
          "text": [
            "782/782 [==============================] - 4s 4ms/step - loss: 1.0058 - accuracy: 0.8280\n"
          ],
          "name": "stdout"
        }
      ]
    },
    {
      "cell_type": "code",
      "metadata": {
        "colab": {
          "base_uri": "https://localhost:8080/"
        },
        "id": "PxkX3MEFl6nQ",
        "outputId": "7b8089e1-b771-4c87-c1fb-94a4a70493d5"
      },
      "source": [
        "print('測試資料的 loss:', score[0])\n",
        "print('測試資料正確率:', score[1])"
      ],
      "execution_count": null,
      "outputs": [
        {
          "output_type": "stream",
          "text": [
            "測試資料的 loss: 1.0057671070098877\n",
            "測試資料正確率: 0.828000009059906\n"
          ],
          "name": "stdout"
        }
      ]
    },
    {
      "cell_type": "markdown",
      "metadata": {
        "id": "b8hmTmGxl6nQ"
      },
      "source": [
        "### 5.2 儲存結果\n",
        "\n",
        "這裡有 8 成我們可以正確分辨, 看來還不差, 照例我們把結果存檔。"
      ]
    },
    {
      "cell_type": "code",
      "metadata": {
        "collapsed": true,
        "nbpresent": {
          "id": "dbc1a7a3-89db-4cbf-872c-b8ebcd035037"
        },
        "id": "zrD2h8FJl6nR"
      },
      "source": [
        "model_json = model.to_json()\n",
        "open('imdb_model_architecture.json', \n",
        "     'w').write(model_json)\n",
        "model.save_weights('imdb_model_weights.h5')"
      ],
      "execution_count": null,
      "outputs": []
    }
  ]
}