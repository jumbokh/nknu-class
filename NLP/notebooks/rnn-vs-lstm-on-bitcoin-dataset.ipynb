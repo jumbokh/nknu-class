{
  "nbformat": 4,
  "nbformat_minor": 0,
  "metadata": {
    "kernelspec": {
      "display_name": "Python 3",
      "language": "python",
      "name": "python3"
    },
    "language_info": {
      "name": "python",
      "version": "3.6.6",
      "mimetype": "text/x-python",
      "codemirror_mode": {
        "name": "ipython",
        "version": 3
      },
      "pygments_lexer": "ipython3",
      "nbconvert_exporter": "python",
      "file_extension": ".py"
    },
    "colab": {
      "name": "rnn-vs-lstm-on-bitcoin-dataset.ipynb",
      "provenance": []
    }
  },
  "cells": [
    {
      "cell_type": "markdown",
      "metadata": {
        "_uuid": "4092ec02cad1c1251d6a82cee9a2c7e7b689558c",
        "id": "xMNtGGIoxsLl"
      },
      "source": [
        "**What is the differences between RNN & LSTM?**\n",
        "\n",
        "Before I tell you what is LSTM let me tell you about the biggest problem with RNNs. So far everything looks good about RNNs until we train it via back-propagation. As the gradient of our training samples gets propagated backward through our network, it gets weaker and weaker, by the time it gets to those neurons that represent older data points in our time-series it has no juice to adjust them properly. This problem is called Vanishing Gradient. A LSTM cell is a type of RNN which stores important information about the past and forgets the unimportant pieces. In this way, when gradient back-propagates, it won’t be consumed by unnecessary information."
      ]
    },
    {
      "cell_type": "markdown",
      "metadata": {
        "id": "zy7JP77AxsLt"
      },
      "source": [
        "<a href=\"https://ibb.co/rv1GT5D\"><img src=\"https://i.ibb.co/fQPYBrj/rnn-lstm.png\" alt=\"rnn-lstm\" border=\"0\"></a>"
      ]
    },
    {
      "cell_type": "markdown",
      "metadata": {
        "_uuid": "c855a92a8980bdb670c8342db36884b2effb11a1",
        "id": "cD8rwvDDxsLu"
      },
      "source": [
        "*We will use our 50 data to predict 51th data. Also I will take first 200000 data*"
      ]
    },
    {
      "cell_type": "code",
      "metadata": {
        "_uuid": "8f2839f25d086af736a60e9eeb907d3b93b6e0e5",
        "_cell_guid": "b1076dfc-b9ad-4769-8c92-a6c4dae69d19",
        "execution": {
          "iopub.status.busy": "2021-05-22T06:16:26.967657Z",
          "iopub.execute_input": "2021-05-22T06:16:26.967887Z",
          "iopub.status.idle": "2021-05-22T06:16:26.983361Z",
          "shell.execute_reply.started": "2021-05-22T06:16:26.967844Z",
          "shell.execute_reply": "2021-05-22T06:16:26.982468Z"
        },
        "trusted": true,
        "id": "YwajOeIxxsLv",
        "outputId": "9f42a35f-806a-4c89-ffeb-30ce5a698b6b"
      },
      "source": [
        "# This Python 3 environment comes with many helpful analytics libraries installed\n",
        "# It is defined by the kaggle/python docker image: https://github.com/kaggle/docker-python\n",
        "# For example, here's several helpful packages to load in \n",
        "\n",
        "import numpy as np # linear algebra\n",
        "import pandas as pd # data processing, CSV file I/O (e.g. pd.read_csv)\n",
        "import matplotlib.pyplot as plt\n",
        "\n",
        "# Input data files are available in the \"../input/\" directory.\n",
        "# For example, running this (by clicking run or pressing Shift+Enter) will list the files in the input directory\n",
        "import warnings\n",
        "warnings.filterwarnings(\"ignore\")\n",
        "\n",
        "\n",
        "import os\n",
        "print(os.listdir(\"../input\"))\n",
        "\n",
        "# Any results you write to the current directory are saved as output."
      ],
      "execution_count": null,
      "outputs": [
        {
          "name": "stdout",
          "text": "['bitstampUSD_1-min_data_2012-01-01_to_2021-03-31.csv']\n",
          "output_type": "stream"
        }
      ]
    },
    {
      "cell_type": "code",
      "metadata": {
        "_cell_guid": "79c7e3d0-c299-4dcb-8224-4455121ee9b0",
        "_uuid": "d629ff2d2480ee46fbb7e2d37f6b5fab8052498a",
        "execution": {
          "iopub.status.busy": "2021-05-22T06:16:26.984890Z",
          "iopub.execute_input": "2021-05-22T06:16:26.985312Z",
          "iopub.status.idle": "2021-05-22T06:16:27.227491Z",
          "shell.execute_reply.started": "2021-05-22T06:16:26.985134Z",
          "shell.execute_reply": "2021-05-22T06:16:27.225167Z"
        },
        "trusted": true,
        "id": "DHIB_bpUxsLy",
        "outputId": "07fce332-b6bb-405a-ed80-24ba80b64ba1"
      },
      "source": [
        "bit_data=pd.read_csv(\"../input/bitstampUSD_1-min_data_2012-01-01_to_2019-03-13.csv\")\n",
        "bit_data[\"date\"]=pd.to_datetime(bit_data[\"Timestamp\"],unit=\"s\").dt.date\n",
        "group=bit_data.groupby(\"date\")\n",
        "data=group[\"Close\"].mean()"
      ],
      "execution_count": null,
      "outputs": [
        {
          "traceback": [
            "\u001b[0;31m---------------------------------------------------------------------------\u001b[0m",
            "\u001b[0;31mFileNotFoundError\u001b[0m                         Traceback (most recent call last)",
            "\u001b[0;32m<ipython-input-2-325262b661aa>\u001b[0m in \u001b[0;36m<module>\u001b[0;34m\u001b[0m\n\u001b[0;32m----> 1\u001b[0;31m \u001b[0mbit_data\u001b[0m\u001b[0;34m=\u001b[0m\u001b[0mpd\u001b[0m\u001b[0;34m.\u001b[0m\u001b[0mread_csv\u001b[0m\u001b[0;34m(\u001b[0m\u001b[0;34m\"../input/bitstampUSD_1-min_data_2012-01-01_to_2019-03-13.csv\"\u001b[0m\u001b[0;34m)\u001b[0m\u001b[0;34m\u001b[0m\u001b[0m\n\u001b[0m\u001b[1;32m      2\u001b[0m \u001b[0mbit_data\u001b[0m\u001b[0;34m[\u001b[0m\u001b[0;34m\"date\"\u001b[0m\u001b[0;34m]\u001b[0m\u001b[0;34m=\u001b[0m\u001b[0mpd\u001b[0m\u001b[0;34m.\u001b[0m\u001b[0mto_datetime\u001b[0m\u001b[0;34m(\u001b[0m\u001b[0mbit_data\u001b[0m\u001b[0;34m[\u001b[0m\u001b[0;34m\"Timestamp\"\u001b[0m\u001b[0;34m]\u001b[0m\u001b[0;34m,\u001b[0m\u001b[0munit\u001b[0m\u001b[0;34m=\u001b[0m\u001b[0;34m\"s\"\u001b[0m\u001b[0;34m)\u001b[0m\u001b[0;34m.\u001b[0m\u001b[0mdt\u001b[0m\u001b[0;34m.\u001b[0m\u001b[0mdate\u001b[0m\u001b[0;34m\u001b[0m\u001b[0m\n\u001b[1;32m      3\u001b[0m \u001b[0mgroup\u001b[0m\u001b[0;34m=\u001b[0m\u001b[0mbit_data\u001b[0m\u001b[0;34m.\u001b[0m\u001b[0mgroupby\u001b[0m\u001b[0;34m(\u001b[0m\u001b[0;34m\"date\"\u001b[0m\u001b[0;34m)\u001b[0m\u001b[0;34m\u001b[0m\u001b[0m\n\u001b[1;32m      4\u001b[0m \u001b[0mdata\u001b[0m\u001b[0;34m=\u001b[0m\u001b[0mgroup\u001b[0m\u001b[0;34m[\u001b[0m\u001b[0;34m\"Close\"\u001b[0m\u001b[0;34m]\u001b[0m\u001b[0;34m.\u001b[0m\u001b[0mmean\u001b[0m\u001b[0;34m(\u001b[0m\u001b[0;34m)\u001b[0m\u001b[0;34m\u001b[0m\u001b[0m\n",
            "\u001b[0;32m/opt/conda/lib/python3.6/site-packages/pandas/io/parsers.py\u001b[0m in \u001b[0;36mparser_f\u001b[0;34m(filepath_or_buffer, sep, delimiter, header, names, index_col, usecols, squeeze, prefix, mangle_dupe_cols, dtype, engine, converters, true_values, false_values, skipinitialspace, skiprows, nrows, na_values, keep_default_na, na_filter, verbose, skip_blank_lines, parse_dates, infer_datetime_format, keep_date_col, date_parser, dayfirst, iterator, chunksize, compression, thousands, decimal, lineterminator, quotechar, quoting, escapechar, comment, encoding, dialect, tupleize_cols, error_bad_lines, warn_bad_lines, skipfooter, doublequote, delim_whitespace, low_memory, memory_map, float_precision)\u001b[0m\n\u001b[1;32m    676\u001b[0m                     skip_blank_lines=skip_blank_lines)\n\u001b[1;32m    677\u001b[0m \u001b[0;34m\u001b[0m\u001b[0m\n\u001b[0;32m--> 678\u001b[0;31m         \u001b[0;32mreturn\u001b[0m \u001b[0m_read\u001b[0m\u001b[0;34m(\u001b[0m\u001b[0mfilepath_or_buffer\u001b[0m\u001b[0;34m,\u001b[0m \u001b[0mkwds\u001b[0m\u001b[0;34m)\u001b[0m\u001b[0;34m\u001b[0m\u001b[0m\n\u001b[0m\u001b[1;32m    679\u001b[0m \u001b[0;34m\u001b[0m\u001b[0m\n\u001b[1;32m    680\u001b[0m     \u001b[0mparser_f\u001b[0m\u001b[0;34m.\u001b[0m\u001b[0m__name__\u001b[0m \u001b[0;34m=\u001b[0m \u001b[0mname\u001b[0m\u001b[0;34m\u001b[0m\u001b[0m\n",
            "\u001b[0;32m/opt/conda/lib/python3.6/site-packages/pandas/io/parsers.py\u001b[0m in \u001b[0;36m_read\u001b[0;34m(filepath_or_buffer, kwds)\u001b[0m\n\u001b[1;32m    438\u001b[0m \u001b[0;34m\u001b[0m\u001b[0m\n\u001b[1;32m    439\u001b[0m     \u001b[0;31m# Create the parser.\u001b[0m\u001b[0;34m\u001b[0m\u001b[0;34m\u001b[0m\u001b[0m\n\u001b[0;32m--> 440\u001b[0;31m     \u001b[0mparser\u001b[0m \u001b[0;34m=\u001b[0m \u001b[0mTextFileReader\u001b[0m\u001b[0;34m(\u001b[0m\u001b[0mfilepath_or_buffer\u001b[0m\u001b[0;34m,\u001b[0m \u001b[0;34m**\u001b[0m\u001b[0mkwds\u001b[0m\u001b[0;34m)\u001b[0m\u001b[0;34m\u001b[0m\u001b[0m\n\u001b[0m\u001b[1;32m    441\u001b[0m \u001b[0;34m\u001b[0m\u001b[0m\n\u001b[1;32m    442\u001b[0m     \u001b[0;32mif\u001b[0m \u001b[0mchunksize\u001b[0m \u001b[0;32mor\u001b[0m \u001b[0miterator\u001b[0m\u001b[0;34m:\u001b[0m\u001b[0;34m\u001b[0m\u001b[0m\n",
            "\u001b[0;32m/opt/conda/lib/python3.6/site-packages/pandas/io/parsers.py\u001b[0m in \u001b[0;36m__init__\u001b[0;34m(self, f, engine, **kwds)\u001b[0m\n\u001b[1;32m    785\u001b[0m             \u001b[0mself\u001b[0m\u001b[0;34m.\u001b[0m\u001b[0moptions\u001b[0m\u001b[0;34m[\u001b[0m\u001b[0;34m'has_index_names'\u001b[0m\u001b[0;34m]\u001b[0m \u001b[0;34m=\u001b[0m \u001b[0mkwds\u001b[0m\u001b[0;34m[\u001b[0m\u001b[0;34m'has_index_names'\u001b[0m\u001b[0;34m]\u001b[0m\u001b[0;34m\u001b[0m\u001b[0m\n\u001b[1;32m    786\u001b[0m \u001b[0;34m\u001b[0m\u001b[0m\n\u001b[0;32m--> 787\u001b[0;31m         \u001b[0mself\u001b[0m\u001b[0;34m.\u001b[0m\u001b[0m_make_engine\u001b[0m\u001b[0;34m(\u001b[0m\u001b[0mself\u001b[0m\u001b[0;34m.\u001b[0m\u001b[0mengine\u001b[0m\u001b[0;34m)\u001b[0m\u001b[0;34m\u001b[0m\u001b[0m\n\u001b[0m\u001b[1;32m    788\u001b[0m \u001b[0;34m\u001b[0m\u001b[0m\n\u001b[1;32m    789\u001b[0m     \u001b[0;32mdef\u001b[0m \u001b[0mclose\u001b[0m\u001b[0;34m(\u001b[0m\u001b[0mself\u001b[0m\u001b[0;34m)\u001b[0m\u001b[0;34m:\u001b[0m\u001b[0;34m\u001b[0m\u001b[0m\n",
            "\u001b[0;32m/opt/conda/lib/python3.6/site-packages/pandas/io/parsers.py\u001b[0m in \u001b[0;36m_make_engine\u001b[0;34m(self, engine)\u001b[0m\n\u001b[1;32m   1012\u001b[0m     \u001b[0;32mdef\u001b[0m \u001b[0m_make_engine\u001b[0m\u001b[0;34m(\u001b[0m\u001b[0mself\u001b[0m\u001b[0;34m,\u001b[0m \u001b[0mengine\u001b[0m\u001b[0;34m=\u001b[0m\u001b[0;34m'c'\u001b[0m\u001b[0;34m)\u001b[0m\u001b[0;34m:\u001b[0m\u001b[0;34m\u001b[0m\u001b[0m\n\u001b[1;32m   1013\u001b[0m         \u001b[0;32mif\u001b[0m \u001b[0mengine\u001b[0m \u001b[0;34m==\u001b[0m \u001b[0;34m'c'\u001b[0m\u001b[0;34m:\u001b[0m\u001b[0;34m\u001b[0m\u001b[0m\n\u001b[0;32m-> 1014\u001b[0;31m             \u001b[0mself\u001b[0m\u001b[0;34m.\u001b[0m\u001b[0m_engine\u001b[0m \u001b[0;34m=\u001b[0m \u001b[0mCParserWrapper\u001b[0m\u001b[0;34m(\u001b[0m\u001b[0mself\u001b[0m\u001b[0;34m.\u001b[0m\u001b[0mf\u001b[0m\u001b[0;34m,\u001b[0m \u001b[0;34m**\u001b[0m\u001b[0mself\u001b[0m\u001b[0;34m.\u001b[0m\u001b[0moptions\u001b[0m\u001b[0;34m)\u001b[0m\u001b[0;34m\u001b[0m\u001b[0m\n\u001b[0m\u001b[1;32m   1015\u001b[0m         \u001b[0;32melse\u001b[0m\u001b[0;34m:\u001b[0m\u001b[0;34m\u001b[0m\u001b[0m\n\u001b[1;32m   1016\u001b[0m             \u001b[0;32mif\u001b[0m \u001b[0mengine\u001b[0m \u001b[0;34m==\u001b[0m \u001b[0;34m'python'\u001b[0m\u001b[0;34m:\u001b[0m\u001b[0;34m\u001b[0m\u001b[0m\n",
            "\u001b[0;32m/opt/conda/lib/python3.6/site-packages/pandas/io/parsers.py\u001b[0m in \u001b[0;36m__init__\u001b[0;34m(self, src, **kwds)\u001b[0m\n\u001b[1;32m   1706\u001b[0m         \u001b[0mkwds\u001b[0m\u001b[0;34m[\u001b[0m\u001b[0;34m'usecols'\u001b[0m\u001b[0;34m]\u001b[0m \u001b[0;34m=\u001b[0m \u001b[0mself\u001b[0m\u001b[0;34m.\u001b[0m\u001b[0musecols\u001b[0m\u001b[0;34m\u001b[0m\u001b[0m\n\u001b[1;32m   1707\u001b[0m \u001b[0;34m\u001b[0m\u001b[0m\n\u001b[0;32m-> 1708\u001b[0;31m         \u001b[0mself\u001b[0m\u001b[0;34m.\u001b[0m\u001b[0m_reader\u001b[0m \u001b[0;34m=\u001b[0m \u001b[0mparsers\u001b[0m\u001b[0;34m.\u001b[0m\u001b[0mTextReader\u001b[0m\u001b[0;34m(\u001b[0m\u001b[0msrc\u001b[0m\u001b[0;34m,\u001b[0m \u001b[0;34m**\u001b[0m\u001b[0mkwds\u001b[0m\u001b[0;34m)\u001b[0m\u001b[0;34m\u001b[0m\u001b[0m\n\u001b[0m\u001b[1;32m   1709\u001b[0m \u001b[0;34m\u001b[0m\u001b[0m\n\u001b[1;32m   1710\u001b[0m         \u001b[0mpassed_names\u001b[0m \u001b[0;34m=\u001b[0m \u001b[0mself\u001b[0m\u001b[0;34m.\u001b[0m\u001b[0mnames\u001b[0m \u001b[0;32mis\u001b[0m \u001b[0;32mNone\u001b[0m\u001b[0;34m\u001b[0m\u001b[0m\n",
            "\u001b[0;32mpandas/_libs/parsers.pyx\u001b[0m in \u001b[0;36mpandas._libs.parsers.TextReader.__cinit__\u001b[0;34m()\u001b[0m\n",
            "\u001b[0;32mpandas/_libs/parsers.pyx\u001b[0m in \u001b[0;36mpandas._libs.parsers.TextReader._setup_parser_source\u001b[0;34m()\u001b[0m\n",
            "\u001b[0;31mFileNotFoundError\u001b[0m: File b'../input/bitstampUSD_1-min_data_2012-01-01_to_2019-03-13.csv' does not exist"
          ],
          "ename": "FileNotFoundError",
          "evalue": "File b'../input/bitstampUSD_1-min_data_2012-01-01_to_2019-03-13.csv' does not exist",
          "output_type": "error"
        }
      ]
    },
    {
      "cell_type": "markdown",
      "metadata": {
        "_uuid": "fcb79be1ca66fff1bb9186622afafa3ff1976d76",
        "id": "8YKBahtgxsLy"
      },
      "source": [
        "What I did here? I added a colum which is \"date\" and I converted \"Timestamp\" columns to date form."
      ]
    },
    {
      "cell_type": "code",
      "metadata": {
        "_uuid": "1a5deff671724737f5cf6563da1f9bcc383fea29",
        "execution": {
          "iopub.status.busy": "2021-05-22T06:16:27.228887Z",
          "iopub.status.idle": "2021-05-22T06:16:27.229672Z"
        },
        "trusted": true,
        "id": "DeSI2ebgxsLz"
      },
      "source": [
        "data.shape"
      ],
      "execution_count": null,
      "outputs": []
    },
    {
      "cell_type": "code",
      "metadata": {
        "_uuid": "ef6c5d1afd2e2ad8f8db6502d6ab19dd5536f4df",
        "execution": {
          "iopub.status.busy": "2021-05-22T06:16:27.230979Z",
          "iopub.status.idle": "2021-05-22T06:16:27.231742Z"
        },
        "trusted": true,
        "id": "krYPmVf8xsL0"
      },
      "source": [
        "data.isnull().sum()"
      ],
      "execution_count": null,
      "outputs": []
    },
    {
      "cell_type": "code",
      "metadata": {
        "_uuid": "a33c39a4aa1e344c8fa50d2ca56961c37b0ebf65",
        "execution": {
          "iopub.status.busy": "2021-05-22T06:16:27.233050Z",
          "iopub.status.idle": "2021-05-22T06:16:27.233813Z"
        },
        "trusted": true,
        "id": "nhLLLTDmxsL1"
      },
      "source": [
        "data.head()"
      ],
      "execution_count": null,
      "outputs": []
    },
    {
      "cell_type": "markdown",
      "metadata": {
        "_uuid": "05cc03451f03406b8c1138bee571ada74a1de08b",
        "id": "8B4dBjZIxsL2"
      },
      "source": [
        "The goal is making a prediction of daily Close data. So we will predict \"close\" values of bitcoin data"
      ]
    },
    {
      "cell_type": "markdown",
      "metadata": {
        "_uuid": "34da6f362adbd1c072fa82e4b10818fa79f8f2cb",
        "id": "EBA2g7_6xsL3"
      },
      "source": [
        "**First I will use RNN to predict our data**"
      ]
    },
    {
      "cell_type": "markdown",
      "metadata": {
        "_uuid": "a41a90996c44e924ec017ff19af7fe892a51ede0",
        "id": "zm7QcU31xsL3"
      },
      "source": [
        "I am separating last 50 rows as the test data."
      ]
    },
    {
      "cell_type": "code",
      "metadata": {
        "_uuid": "757a234889f2a67e648db4273c4a4c4db74d803a",
        "execution": {
          "iopub.status.busy": "2021-05-22T06:16:27.235111Z",
          "iopub.status.idle": "2021-05-22T06:16:27.235814Z"
        },
        "trusted": true,
        "id": "8wiOVFtgxsL3"
      },
      "source": [
        "close_train=data.iloc[:len(data)-50]\n",
        "close_test=data.iloc[len(close_train):]"
      ],
      "execution_count": null,
      "outputs": []
    },
    {
      "cell_type": "markdown",
      "metadata": {
        "_uuid": "73b47c588fa00f144c1a87c335d0babe45918a10",
        "id": "_Bnoj_vxxsL4"
      },
      "source": [
        "Here I will set our values between 0-1 in order to avoid domination of high values."
      ]
    },
    {
      "cell_type": "code",
      "metadata": {
        "_uuid": "d30f46e2cdcaa483eb9bce041ba08a898cdd1533",
        "execution": {
          "iopub.status.busy": "2021-05-22T06:16:27.237114Z",
          "iopub.status.idle": "2021-05-22T06:16:27.237773Z"
        },
        "trusted": true,
        "id": "T4KMYTNoxsL4"
      },
      "source": [
        "#feature scalling (set values between 0-1)\n",
        "close_train=np.array(close_train)\n",
        "close_train=close_train.reshape(close_train.shape[0],1)\n",
        "from sklearn.preprocessing import MinMaxScaler\n",
        "scaler=MinMaxScaler(feature_range=(0,1))\n",
        "close_scaled=scaler.fit_transform(close_train)"
      ],
      "execution_count": null,
      "outputs": []
    },
    {
      "cell_type": "markdown",
      "metadata": {
        "_uuid": "ac63ba26bca53cf1f5df75c31d3dc6268f27eaeb",
        "id": "HIk68yInxsL5"
      },
      "source": [
        "Let's choose each 50 data as x-train and 51th as y-train"
      ]
    },
    {
      "cell_type": "code",
      "metadata": {
        "_uuid": "7874ac0b39a80e5d013d4c9cdc19f59c93d0440a",
        "scrolled": true,
        "execution": {
          "iopub.status.busy": "2021-05-22T06:16:27.238978Z",
          "iopub.status.idle": "2021-05-22T06:16:27.239684Z"
        },
        "trusted": true,
        "id": "klk5eNecxsL5"
      },
      "source": [
        "timestep=50\n",
        "x_train=[]\n",
        "y_train=[]\n",
        "\n",
        "for i in range(timestep,close_scaled.shape[0]):\n",
        "    x_train.append(close_scaled[i-timestep:i,0])\n",
        "    y_train.append(close_scaled[i,0])\n",
        "\n",
        "x_train,y_train=np.array(x_train),np.array(y_train)\n",
        "x_train=x_train.reshape(x_train.shape[0],x_train.shape[1],1) #reshaped for RNN\n",
        "print(\"x_train shape= \",x_train.shape)\n",
        "print(\"y_train shape= \",y_train.shape)"
      ],
      "execution_count": null,
      "outputs": []
    },
    {
      "cell_type": "markdown",
      "metadata": {
        "_uuid": "246a5606d4768110cd8c56ece1b93ff0d3c1a9fa",
        "id": "fm8he6R3xsL6"
      },
      "source": [
        "Time to prepare and run our RNN method"
      ]
    },
    {
      "cell_type": "code",
      "metadata": {
        "_uuid": "95e9302fe14e8af6e55d3c32775ba8e266b839cd",
        "_kg_hide-output": true,
        "execution": {
          "iopub.status.busy": "2021-05-22T06:16:27.240893Z",
          "iopub.status.idle": "2021-05-22T06:16:27.241543Z"
        },
        "trusted": true,
        "id": "rF40XI6vxsL6"
      },
      "source": [
        "from keras.models import Sequential\n",
        "from keras.layers import Dense, SimpleRNN, Dropout,Flatten\n",
        "\n",
        "regressor=Sequential()\n",
        "#first RNN layer\n",
        "regressor.add(SimpleRNN(128,activation=\"relu\",return_sequences=True,input_shape=(x_train.shape[1],1)))\n",
        "regressor.add(Dropout(0.25))\n",
        "#second RNN layer\n",
        "regressor.add(SimpleRNN(256,activation=\"relu\",return_sequences=True))\n",
        "regressor.add(Dropout(0.25))\n",
        "#third RNN layer\n",
        "regressor.add(SimpleRNN(512,activation=\"relu\",return_sequences=True))\n",
        "regressor.add(Dropout(0.35))\n",
        "#fourth RNN layer\n",
        "regressor.add(SimpleRNN(256,activation=\"relu\",return_sequences=True))\n",
        "regressor.add(Dropout(0.25))\n",
        "#fifth RNN layer\n",
        "regressor.add(SimpleRNN(128,activation=\"relu\",return_sequences=True))\n",
        "regressor.add(Dropout(0.25))\n",
        "#convert the matrix to 1-line\n",
        "regressor.add(Flatten())\n",
        "#output layer\n",
        "regressor.add(Dense(1))\n",
        "\n",
        "regressor.compile(optimizer=\"adam\",loss=\"mean_squared_error\")\n",
        "regressor.fit(x_train,y_train,epochs=100,batch_size=64)"
      ],
      "execution_count": null,
      "outputs": []
    },
    {
      "cell_type": "markdown",
      "metadata": {
        "_uuid": "0d1786f25bf66d0e666d23252377b5bff9196a70",
        "id": "aa_8PKE7xsL7"
      },
      "source": [
        "Now we are preparing our test data for prediction"
      ]
    },
    {
      "cell_type": "code",
      "metadata": {
        "_uuid": "789694f60ef54c6fe588978c7917c05f140f501e",
        "execution": {
          "iopub.status.busy": "2021-05-22T06:16:27.242701Z",
          "iopub.status.idle": "2021-05-22T06:16:27.243347Z"
        },
        "trusted": true,
        "id": "SrNAoY3AxsL7"
      },
      "source": [
        "inputs=data[len(data)-len(close_test)-timestep:]\n",
        "inputs=inputs.values.reshape(-1,1)\n",
        "inputs=scaler.transform(inputs)"
      ],
      "execution_count": null,
      "outputs": []
    },
    {
      "cell_type": "code",
      "metadata": {
        "_uuid": "b64f25de4f2c3d3e97ff67430e63b730808fb29b",
        "execution": {
          "iopub.status.busy": "2021-05-22T06:16:27.244567Z",
          "iopub.status.idle": "2021-05-22T06:16:27.245227Z"
        },
        "trusted": true,
        "id": "DS5FIFW9xsL8"
      },
      "source": [
        "x_test=[]\n",
        "for i in range(timestep,inputs.shape[0]):\n",
        "    x_test.append(inputs[i-timestep:i,0])\n",
        "x_test=np.array(x_test)\n",
        "x_test=x_test.reshape(x_test.shape[0],x_test.shape[1],1)"
      ],
      "execution_count": null,
      "outputs": []
    },
    {
      "cell_type": "code",
      "metadata": {
        "_uuid": "ab9b3f5f19e8cdb8b6fa1be54e710fba4b4281dd",
        "execution": {
          "iopub.status.busy": "2021-05-22T06:16:27.246448Z",
          "iopub.status.idle": "2021-05-22T06:16:27.247131Z"
        },
        "trusted": true,
        "id": "lD0GjlDUxsL8"
      },
      "source": [
        "predicted_data=regressor.predict(x_test)\n",
        "predicted_data=scaler.inverse_transform(predicted_data)"
      ],
      "execution_count": null,
      "outputs": []
    },
    {
      "cell_type": "markdown",
      "metadata": {
        "_uuid": "84126a12f90fb2bea6a543dfea7c9225216bca32",
        "id": "-48SmUZ8xsL9"
      },
      "source": [
        "**What did we do???? We learnt our model with train data and then we tried to predict next 50 data (train data=50). Then we compared predictions with our test (real) data.**"
      ]
    },
    {
      "cell_type": "code",
      "metadata": {
        "_uuid": "e37a1a9195ba81668ee00aa47b98bda8a2e549c2",
        "execution": {
          "iopub.status.busy": "2021-05-22T06:16:27.248382Z",
          "iopub.status.idle": "2021-05-22T06:16:27.249060Z"
        },
        "trusted": true,
        "id": "02EDvZIDxsL9"
      },
      "source": [
        "data_test=np.array(close_test)\n",
        "data_test=data_test.reshape(len(data_test),1)"
      ],
      "execution_count": null,
      "outputs": []
    },
    {
      "cell_type": "code",
      "metadata": {
        "_uuid": "d14bd8d6dc5dea3a2cd0b807652f41d9a34a28d1",
        "scrolled": true,
        "execution": {
          "iopub.status.busy": "2021-05-22T06:16:27.350875Z",
          "iopub.execute_input": "2021-05-22T06:16:27.351133Z",
          "iopub.status.idle": "2021-05-22T06:16:27.373102Z",
          "shell.execute_reply.started": "2021-05-22T06:16:27.351086Z",
          "shell.execute_reply": "2021-05-22T06:16:27.371847Z"
        },
        "trusted": true,
        "id": "bAXc95r2xsL9",
        "outputId": "6a169974-3650-470f-b2cc-248f6451b26d"
      },
      "source": [
        "plt.figure(figsize=(8,4), dpi=80, facecolor='w', edgecolor='k')\n",
        "plt.plot(data_test,color=\"r\",label=\"true result\")\n",
        "plt.plot(predicted_data,color=\"b\",label=\"predicted result\")\n",
        "plt.legend()\n",
        "plt.xlabel(\"Time(50 days)\")\n",
        "plt.ylabel(\"Close Values\")\n",
        "plt.grid(True)\n",
        "plt.show()"
      ],
      "execution_count": null,
      "outputs": [
        {
          "traceback": [
            "\u001b[0;31m---------------------------------------------------------------------------\u001b[0m",
            "\u001b[0;31mNameError\u001b[0m                                 Traceback (most recent call last)",
            "\u001b[0;32m<ipython-input-3-03f3c3b235a8>\u001b[0m in \u001b[0;36m<module>\u001b[0;34m\u001b[0m\n\u001b[1;32m      1\u001b[0m \u001b[0mplt\u001b[0m\u001b[0;34m.\u001b[0m\u001b[0mfigure\u001b[0m\u001b[0;34m(\u001b[0m\u001b[0mfigsize\u001b[0m\u001b[0;34m=\u001b[0m\u001b[0;34m(\u001b[0m\u001b[0;36m8\u001b[0m\u001b[0;34m,\u001b[0m\u001b[0;36m4\u001b[0m\u001b[0;34m)\u001b[0m\u001b[0;34m,\u001b[0m \u001b[0mdpi\u001b[0m\u001b[0;34m=\u001b[0m\u001b[0;36m80\u001b[0m\u001b[0;34m,\u001b[0m \u001b[0mfacecolor\u001b[0m\u001b[0;34m=\u001b[0m\u001b[0;34m'w'\u001b[0m\u001b[0;34m,\u001b[0m \u001b[0medgecolor\u001b[0m\u001b[0;34m=\u001b[0m\u001b[0;34m'k'\u001b[0m\u001b[0;34m)\u001b[0m\u001b[0;34m\u001b[0m\u001b[0m\n\u001b[0;32m----> 2\u001b[0;31m \u001b[0mplt\u001b[0m\u001b[0;34m.\u001b[0m\u001b[0mplot\u001b[0m\u001b[0;34m(\u001b[0m\u001b[0mdata_test\u001b[0m\u001b[0;34m,\u001b[0m\u001b[0mcolor\u001b[0m\u001b[0;34m=\u001b[0m\u001b[0;34m\"r\"\u001b[0m\u001b[0;34m,\u001b[0m\u001b[0mlabel\u001b[0m\u001b[0;34m=\u001b[0m\u001b[0;34m\"true result\"\u001b[0m\u001b[0;34m)\u001b[0m\u001b[0;34m\u001b[0m\u001b[0m\n\u001b[0m\u001b[1;32m      3\u001b[0m \u001b[0mplt\u001b[0m\u001b[0;34m.\u001b[0m\u001b[0mplot\u001b[0m\u001b[0;34m(\u001b[0m\u001b[0mpredicted_data\u001b[0m\u001b[0;34m,\u001b[0m\u001b[0mcolor\u001b[0m\u001b[0;34m=\u001b[0m\u001b[0;34m\"b\"\u001b[0m\u001b[0;34m,\u001b[0m\u001b[0mlabel\u001b[0m\u001b[0;34m=\u001b[0m\u001b[0;34m\"predicted result\"\u001b[0m\u001b[0;34m)\u001b[0m\u001b[0;34m\u001b[0m\u001b[0m\n\u001b[1;32m      4\u001b[0m \u001b[0mplt\u001b[0m\u001b[0;34m.\u001b[0m\u001b[0mlegend\u001b[0m\u001b[0;34m(\u001b[0m\u001b[0;34m)\u001b[0m\u001b[0;34m\u001b[0m\u001b[0m\n\u001b[1;32m      5\u001b[0m \u001b[0mplt\u001b[0m\u001b[0;34m.\u001b[0m\u001b[0mxlabel\u001b[0m\u001b[0;34m(\u001b[0m\u001b[0;34m\"Time(50 days)\"\u001b[0m\u001b[0;34m)\u001b[0m\u001b[0;34m\u001b[0m\u001b[0m\n",
            "\u001b[0;31mNameError\u001b[0m: name 'data_test' is not defined"
          ],
          "ename": "NameError",
          "evalue": "name 'data_test' is not defined",
          "output_type": "error"
        },
        {
          "output_type": "display_data",
          "data": {
            "text/plain": "<Figure size 640x320 with 0 Axes>"
          },
          "metadata": {}
        }
      ]
    },
    {
      "cell_type": "markdown",
      "metadata": {
        "_uuid": "d6a9163de2304f9bceb4e4d3337ae7347a1c1144",
        "id": "HKZezbhtxsL-"
      },
      "source": [
        "Here we have the results of our prediction. As we can see on the chart that with RNN method we don't have a good result. So let's check LSTM method, then we can compare both results."
      ]
    },
    {
      "cell_type": "markdown",
      "metadata": {
        "_uuid": "a86a7a09336182de5b84b8fd747c47216090f712",
        "trusted": true,
        "id": "uoDYFNovxsL-"
      },
      "source": [
        "**Keep going with LSTM method**"
      ]
    },
    {
      "cell_type": "markdown",
      "metadata": {
        "_uuid": "6fbf6c5708d1ffba850644a767a33192fdd2cdd7",
        "trusted": true,
        "id": "6rJ5ia-exsL-"
      },
      "source": [
        "I will use the same train and test data"
      ]
    },
    {
      "cell_type": "code",
      "metadata": {
        "_uuid": "6b20a92dc41d1e62aaea366a4d0c96afe0dab1e3",
        "_kg_hide-output": true,
        "execution": {
          "iopub.status.busy": "2021-05-22T06:16:27.374343Z",
          "iopub.status.idle": "2021-05-22T06:16:27.375286Z"
        },
        "trusted": true,
        "id": "yXGDyg_8xsL_"
      },
      "source": [
        "from sklearn.metrics import mean_absolute_error\n",
        "from keras.models import Sequential\n",
        "from keras.layers import Dense, LSTM, Dropout,Flatten\n",
        "\n",
        "model=Sequential()\n",
        "\n",
        "model.add(LSTM(10,input_shape=(None,1),activation=\"relu\"))\n",
        "\n",
        "model.add(Dense(1))\n",
        "\n",
        "model.compile(loss=\"mean_squared_error\",optimizer=\"adam\")\n",
        "\n",
        "model.fit(x_train,y_train,epochs=100,batch_size=32)"
      ],
      "execution_count": null,
      "outputs": []
    },
    {
      "cell_type": "markdown",
      "metadata": {
        "_uuid": "add16d8c9ba53ae8abccfb8e46f33c6586e0ca65",
        "id": "gLj7M-q6xsL_"
      },
      "source": [
        "Keep going with test data"
      ]
    },
    {
      "cell_type": "code",
      "metadata": {
        "_uuid": "3565fca8454345628ef64e3c04478463fca1ff74",
        "execution": {
          "iopub.status.busy": "2021-05-22T06:16:27.376624Z",
          "iopub.status.idle": "2021-05-22T06:16:27.377312Z"
        },
        "trusted": true,
        "id": "NjlpLvSQxsL_"
      },
      "source": [
        "inputs=data[len(data)-len(close_test)-timestep:]\n",
        "inputs=inputs.values.reshape(-1,1)\n",
        "inputs=scaler.transform(inputs)"
      ],
      "execution_count": null,
      "outputs": []
    },
    {
      "cell_type": "code",
      "metadata": {
        "_uuid": "46cde05f13fb1ca04c2d0c980d1644d975dd3870",
        "execution": {
          "iopub.status.busy": "2021-05-22T06:16:27.378510Z",
          "iopub.status.idle": "2021-05-22T06:16:27.379236Z"
        },
        "trusted": true,
        "id": "UJPsYf9FxsL_"
      },
      "source": [
        "x_test=[]\n",
        "for i in range(timestep,inputs.shape[0]):\n",
        "    x_test.append(inputs[i-timestep:i,0])\n",
        "x_test=np.array(x_test)\n",
        "x_test=x_test.reshape(x_test.shape[0],x_test.shape[1],1)"
      ],
      "execution_count": null,
      "outputs": []
    },
    {
      "cell_type": "markdown",
      "metadata": {
        "_uuid": "62794ffaa6a6b6bc64232424c03436edbb7b6825",
        "id": "uzQI4S2jxsMA"
      },
      "source": [
        "it's time to predict"
      ]
    },
    {
      "cell_type": "code",
      "metadata": {
        "_uuid": "a837c6f9642fba4332ec63e89f99d2a876f6ea3f",
        "execution": {
          "iopub.status.busy": "2021-05-22T06:16:27.380450Z",
          "iopub.status.idle": "2021-05-22T06:16:27.381176Z"
        },
        "trusted": true,
        "id": "qKU8eQLMxsMA"
      },
      "source": [
        "predicted_data=model.predict(x_test)\n",
        "predicted_data=scaler.inverse_transform(predicted_data)"
      ],
      "execution_count": null,
      "outputs": []
    },
    {
      "cell_type": "code",
      "metadata": {
        "_uuid": "7111f36c85adace9f4d965d6dbe9fc4cf344139b",
        "execution": {
          "iopub.status.busy": "2021-05-22T06:16:27.382348Z",
          "iopub.status.idle": "2021-05-22T06:16:27.383075Z"
        },
        "trusted": true,
        "id": "vQnQ6EJMxsMA"
      },
      "source": [
        "data_test=np.array(close_test)\n",
        "data_test=data_test.reshape(len(data_test),1)"
      ],
      "execution_count": null,
      "outputs": []
    },
    {
      "cell_type": "code",
      "metadata": {
        "_uuid": "fa7d96f41874e8d3207f30ddb50e0b9c658e759a",
        "execution": {
          "iopub.status.busy": "2021-05-22T06:16:27.384267Z",
          "iopub.status.idle": "2021-05-22T06:16:27.384894Z"
        },
        "trusted": true,
        "id": "fAnVQUrCxsMB"
      },
      "source": [
        "plt.figure(figsize=(8,4), dpi=80, facecolor='w', edgecolor='k')\n",
        "plt.plot(data_test,color=\"r\",label=\"true result\")\n",
        "plt.plot(predicted_data,color=\"b\",label=\"predicted result\")\n",
        "plt.legend()\n",
        "plt.xlabel(\"Time(50 days)\")\n",
        "plt.ylabel(\"Close Values\")\n",
        "plt.grid(True)\n",
        "plt.show()"
      ],
      "execution_count": null,
      "outputs": []
    },
    {
      "cell_type": "markdown",
      "metadata": {
        "_uuid": "76aa7f58212d6a4f3453f33eea23c4fbec6f4c42",
        "trusted": true,
        "id": "Bb247CsoxsMB"
      },
      "source": [
        "* ** Conclusion**\n",
        "\n",
        "When we compare the both results (RNN and LSTM) we can see that we have better prediction with LSTM. \n",
        "\n",
        "Up to here I was trying to show the differences between RNN - LSTM and how to use these methods on time series. \n",
        "\n",
        "If you have any question or I have any error please write me dirctly.\n"
      ]
    }
  ]
}