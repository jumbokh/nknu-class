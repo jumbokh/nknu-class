{
  "nbformat": 4,
  "nbformat_minor": 0,
  "metadata": {
    "colab": {
      "name": "simple_regression.ipynb",
      "provenance": [],
      "collapsed_sections": [],
      "include_colab_link": true
    },
    "kernelspec": {
      "name": "python3",
      "display_name": "Python 3"
    },
    "accelerator": "GPU"
  },
  "cells": [
    {
      "cell_type": "markdown",
      "metadata": {
        "id": "view-in-github",
        "colab_type": "text"
      },
      "source": [
        "<a href=\"https://colab.research.google.com/github/jumbokh/nknu-class/blob/main/notebooks/simple_regression.ipynb\" target=\"_parent\"><img src=\"https://colab.research.google.com/assets/colab-badge.svg\" alt=\"Open In Colab\"/></a>"
      ]
    },
    {
      "cell_type": "markdown",
      "metadata": {
        "id": "QsNgNqlCFfqd"
      },
      "source": [
        "## Step 1. 設定 Google Drive 連接 "
      ]
    },
    {
      "cell_type": "code",
      "metadata": {
        "id": "sbbCwF1zFpn4",
        "colab": {
          "base_uri": "https://localhost:8080/",
          "height": 122
        },
        "outputId": "4da39b48-b91e-43c2-cad1-8ac962e22dc5"
      },
      "source": [
        "from google.colab import drive\n",
        "drive.mount('/content/gdrive') # 點擊網址，選擇 Google 帳號登入，然後將授權碼貼回輸入框中"
      ],
      "execution_count": null,
      "outputs": [
        {
          "output_type": "stream",
          "text": [
            "Go to this URL in a browser: https://accounts.google.com/o/oauth2/auth?client_id=947318989803-6bn6qk8qdgf4n4g3pfee6491hc0brc4i.apps.googleusercontent.com&redirect_uri=urn%3aietf%3awg%3aoauth%3a2.0%3aoob&response_type=code&scope=email%20https%3a%2f%2fwww.googleapis.com%2fauth%2fdocs.test%20https%3a%2f%2fwww.googleapis.com%2fauth%2fdrive%20https%3a%2f%2fwww.googleapis.com%2fauth%2fdrive.photos.readonly%20https%3a%2f%2fwww.googleapis.com%2fauth%2fpeopleapi.readonly\n",
            "\n",
            "Enter your authorization code:\n",
            "··········\n",
            "Mounted at /content/gdrive\n"
          ],
          "name": "stdout"
        }
      ]
    },
    {
      "cell_type": "code",
      "metadata": {
        "id": "sq3yW4zVFter"
      },
      "source": [
        "!ln -fs /content/gdrive/My\\ Drive/Colab\\ Notebooks/Datascience /app"
      ],
      "execution_count": null,
      "outputs": []
    },
    {
      "cell_type": "code",
      "metadata": {
        "id": "qcs-zYU2GT-Z",
        "colab": {
          "base_uri": "https://localhost:8080/",
          "height": 88
        },
        "outputId": "b24c9919-cd01-4ded-b20a-57e2f85541b2"
      },
      "source": [
        "%cd /content/gdrive/My\\ Drive/Colab\\ Notebooks/Datascience\n",
        "!pwd\n",
        "import os\n",
        "print(os.listdir())"
      ],
      "execution_count": null,
      "outputs": [
        {
          "output_type": "stream",
          "text": [
            "/content/gdrive/My Drive/Colab Notebooks/Datascience\n",
            "/content/gdrive/My Drive/Colab Notebooks/Datascience\n",
            "['features_ex1.ipynb', 'input', 'Comprehensive data exploration with Python.ipynb', 'power.ipynb', 'Normalize.ipynb', 'power_norm.ipynb', 'pdplot.ipynb', 'power_temp_102-108.ipynb', 'HW01.ipynb', 'scikit-learn_learning_curve.ipynb', 'plot_ols.ipynb', 'plot_train_error_vs_test_error.ipynb', 'PythonDataScienceHandbook-master', 'cuDNN', 'paper-powerSale-Temp-SVM.ipynb', '預測自行車流量.ipynb', 'ResNet on CIFAR10.ipynb', 'saved_models', 'onehotencoding_sequence.ipynb', 'stock', '處理景氣資料.ipynb', 'imdb_try.ipynb', 'Paper_Linear_regression-powersale_temperature.ipynb', '5.4.3_feature1.ipynb', '5.7 Support Vector Machines.ipynb', 'Treat_comma_in_number.ipynb', 'power', 'yolo_darknet_face-recognition.ipynb', 'power2006-2015_poly.ipynb', 'Time Serial data', 'long-short-term-memory-networks-with-python.pdf', 'shampoo sales.ipynb', 'date_index_formatter.ipynb', 'power2006-2015.ipynb', 'opsd-power-temp-2006-2015.ipynb', 'lookahead.py', '__pycache__', 'imdb_model_architecture.json', 'imdb_model_weights.h5', '04_1_用RNN做情意分析.ipynb', 'Untitled', 'SOMPY_robust_clustering', 'sompy_tpc.py', 'immp-sompy-tpc.ipynb', 'Basic_Exaples_20160908.ipynb', 'immp-somlib-tpc.ipynb', 'immp-somlib.ipynb', 'Paper_在 Colab 使用 pandas 擷取售電及溫度資料並以scikit-learn進行預測訓練及比較方法.ipynb', 'standardizing_sequence.ipynb', 'regression.ipynb', 'Normalizing_Sequence.ipynb', 'Germany_power_daily.ipynb', '正則化.ipynb', '5.6專題 線性回歸.ipynb', 'classpy', 'compute-entropy.ipynb', 'compute-distance.ipynb', 'AI-Features.pdf', '產銷資訊平台 - 簡化 -  GIS.pdf', 'data-scientist-roadmap-master.zip', 'automl-master.zip', 'data-science-with-python-master.zip', 'data-scientist-roadmap-master.zip (Unzipped Files)', 'data-science-with-python-master.zip (Unzipped Files)', 'automl-master.zip (Unzipped Files)', 'pydata-book-2nd-edition.zip', 'data-science-from-scratch-master.zip', 'data-science-from-scratch-master.zip (Unzipped Files)', 'plot_document_classification_20newsgroups.ipynb', 'plot_classifier_chain_yeast.ipynb', '2.1-a-first-look-at-a-neural-network.ipynb', 'README.md', 'Colab-Linear to Logistic Regression.ipynb', 'immp-sompy-simple.ipynb', '2012MLB.csv', 'deep-learning-with-python-notebooks-master (1).zip', 'predicting-house-prices.ipynb', 'simple_regression.ipynb']\n"
          ],
          "name": "stdout"
        }
      ]
    },
    {
      "cell_type": "markdown",
      "metadata": {
        "id": "YKOoTwMWF8T3"
      },
      "source": [
        "### 步驟 2. 下載 cuDNN 檔案\n",
        "\n",
        "1. 申請 Nvidia 帳號，申請網址為 http://bit.ly/2qfpOPj\n",
        "2. 下載 `cudnn-10.0-linux-x64-v7.5.0.56.tgz`，下載網址為 \n",
        "下載 cuDNN 檔案。下載網址為：http://bit.ly/2qfpOPj\n",
        "3. 將下載的檔案 `cudnn-10.0-linux-x64-v7.5.0.56.tgz` 放到 google drive 的 `Colab Notebooks/cuDNN/` 目錄下。"
      ]
    },
    {
      "cell_type": "code",
      "metadata": {
        "id": "_BYKzLB1F9az",
        "colab": {
          "base_uri": "https://localhost:8080/",
          "height": 238
        },
        "outputId": "d000dc51-a861-43f7-a376-151f47634320"
      },
      "source": [
        "!tar -xzvf /app/cuDNN/cudnn-10.0-linux-x64-v7.5.0.56.tgz -C /usr/local/\n",
        "!chmod a+r /usr/local/cuda/include/cudnn.h\n",
        "\n",
        "# 檢查是否安裝成功\n",
        "!cat /usr/local/cuda/include/cudnn.h | grep CUDNN_MAJOR -A 2"
      ],
      "execution_count": null,
      "outputs": [
        {
          "output_type": "stream",
          "text": [
            "cuda/include/cudnn.h\n",
            "cuda/NVIDIA_SLA_cuDNN_Support.txt\n",
            "cuda/lib64/libcudnn.so\n",
            "cuda/lib64/libcudnn.so.7\n",
            "cuda/lib64/libcudnn.so.7.5.0\n",
            "cuda/lib64/libcudnn_static.a\n",
            "#define CUDNN_MAJOR 7\n",
            "#define CUDNN_MINOR 5\n",
            "#define CUDNN_PATCHLEVEL 0\n",
            "--\n",
            "#define CUDNN_VERSION (CUDNN_MAJOR * 1000 + CUDNN_MINOR * 100 + CUDNN_PATCHLEVEL)\n",
            "\n",
            "#include \"driver_types.h\"\n"
          ],
          "name": "stdout"
        }
      ]
    },
    {
      "cell_type": "code",
      "metadata": {
        "id": "S-7XPhvXFgf6"
      },
      "source": [
        "#簡單回歸 Y=aX+b\n",
        "# DataSet: https://drive.google.com/file/d/1qifytItlATLvyRuoRvm1wXL-qxNvEH6t/view?usp=sharing\n",
        "import pandas as pd\n",
        "import numpy as np\n",
        "import matplotlib.pyplot as plt\n",
        "from sklearn.model_selection import train_test_split"
      ],
      "execution_count": 1,
      "outputs": []
    },
    {
      "cell_type": "code",
      "metadata": {
        "id": "LyX8pQPc0LK9",
        "colab": {
          "base_uri": "https://localhost:8080/",
          "height": 330
        },
        "outputId": "e6b61f39-c661-4933-a777-ca545443e893"
      },
      "source": [
        "plt.style.use('ggplot')\n",
        "plt.rcParams['font.family']='SimHei' #⿊體\n",
        "\n",
        "df1=pd.read_csv(\"2012MLB.csv\",encoding=\"big5\")\n",
        "df1.head()\n",
        "df1.describe() \n",
        "\n",
        "#切分訓練 測試資料\n",
        "x=df1[['R']]\n",
        "y=df1[['HR']]\n",
        "\n",
        "x_train,x_test,y_train,y_test=train_test_split(x,y,test_size=0.3,random_state=20170816) #30%測試資料 70%訓練資料 設定種子值\n",
        "x_test\n",
        "y_test"
      ],
      "execution_count": 2,
      "outputs": [
        {
          "output_type": "execute_result",
          "data": {
            "text/html": [
              "<div>\n",
              "<style scoped>\n",
              "    .dataframe tbody tr th:only-of-type {\n",
              "        vertical-align: middle;\n",
              "    }\n",
              "\n",
              "    .dataframe tbody tr th {\n",
              "        vertical-align: top;\n",
              "    }\n",
              "\n",
              "    .dataframe thead th {\n",
              "        text-align: right;\n",
              "    }\n",
              "</style>\n",
              "<table border=\"1\" class=\"dataframe\">\n",
              "  <thead>\n",
              "    <tr style=\"text-align: right;\">\n",
              "      <th></th>\n",
              "      <th>HR</th>\n",
              "    </tr>\n",
              "  </thead>\n",
              "  <tbody>\n",
              "    <tr>\n",
              "      <th>19</th>\n",
              "      <td>103</td>\n",
              "    </tr>\n",
              "    <tr>\n",
              "      <th>15</th>\n",
              "      <td>169</td>\n",
              "    </tr>\n",
              "    <tr>\n",
              "      <th>18</th>\n",
              "      <td>130</td>\n",
              "    </tr>\n",
              "    <tr>\n",
              "      <th>22</th>\n",
              "      <td>162</td>\n",
              "    </tr>\n",
              "    <tr>\n",
              "      <th>28</th>\n",
              "      <td>178</td>\n",
              "    </tr>\n",
              "    <tr>\n",
              "      <th>2</th>\n",
              "      <td>158</td>\n",
              "    </tr>\n",
              "    <tr>\n",
              "      <th>10</th>\n",
              "      <td>225</td>\n",
              "    </tr>\n",
              "    <tr>\n",
              "      <th>25</th>\n",
              "      <td>130</td>\n",
              "    </tr>\n",
              "    <tr>\n",
              "      <th>0</th>\n",
              "      <td>188</td>\n",
              "    </tr>\n",
              "  </tbody>\n",
              "</table>\n",
              "</div>"
            ],
            "text/plain": [
              "     HR\n",
              "19  103\n",
              "15  169\n",
              "18  130\n",
              "22  162\n",
              "28  178\n",
              "2   158\n",
              "10  225\n",
              "25  130\n",
              "0   188"
            ]
          },
          "metadata": {},
          "execution_count": 2
        }
      ]
    },
    {
      "cell_type": "code",
      "metadata": {
        "id": "z-h5IoOK8ByY",
        "colab": {
          "base_uri": "https://localhost:8080/"
        },
        "outputId": "0e4a3f62-b7e9-4a71-8167-7d28cbb7ed48"
      },
      "source": [
        "print (x_train.shape)\n",
        "print (y_train.shape)\n",
        "print (x_test.shape)\n",
        "print (y_test.shape)"
      ],
      "execution_count": 3,
      "outputs": [
        {
          "output_type": "stream",
          "name": "stdout",
          "text": [
            "(21, 1)\n",
            "(21, 1)\n",
            "(9, 1)\n",
            "(9, 1)\n"
          ]
        }
      ]
    },
    {
      "cell_type": "code",
      "metadata": {
        "id": "b2xbGPo28MxI",
        "colab": {
          "base_uri": "https://localhost:8080/"
        },
        "outputId": "d2eb9960-7720-4057-e5f0-6595a4410a67"
      },
      "source": [
        "from sklearn.linear_model import LinearRegression\n",
        "\n",
        "linreg = LinearRegression()\n",
        "\n",
        "linreg.fit(x_train, y_train)"
      ],
      "execution_count": 4,
      "outputs": [
        {
          "output_type": "execute_result",
          "data": {
            "text/plain": [
              "LinearRegression(copy_X=True, fit_intercept=True, n_jobs=None, normalize=False)"
            ]
          },
          "metadata": {},
          "execution_count": 4
        }
      ]
    },
    {
      "cell_type": "code",
      "metadata": {
        "id": "_EP4V4Af8U1n",
        "colab": {
          "base_uri": "https://localhost:8080/"
        },
        "outputId": "b91d12be-ba06-4ddc-8087-171f500ad768"
      },
      "source": [
        "print (linreg.intercept_)\n",
        "print (linreg.coef_)"
      ],
      "execution_count": 5,
      "outputs": [
        {
          "output_type": "stream",
          "name": "stdout",
          "text": [
            "[-40.07282192]\n",
            "[[0.28895404]]\n"
          ]
        }
      ]
    },
    {
      "cell_type": "code",
      "metadata": {
        "id": "i1nDIWTH8sP2",
        "colab": {
          "base_uri": "https://localhost:8080/"
        },
        "outputId": "9076c9c7-cd11-4af6-a6ba-b5279884bf38"
      },
      "source": [
        "df1.head"
      ],
      "execution_count": 6,
      "outputs": [
        {
          "output_type": "execute_result",
          "data": {
            "text/plain": [
              "<bound method NDFrame.head of     Unnamed: 0                   Team    G    R  ...   SB    SO    AVG    OBP\n",
              "0            1          Texas Rangers  152  764  ...   89  1030  0.275  0.335\n",
              "1            2     Los Angeles Angels  153  726  ...  125  1041  0.273  0.331\n",
              "2            3       Colorado Rockies  152  718  ...   96  1129  0.272  0.329\n",
              "3            4    St. Louis Cardinals  153  723  ...   89  1128  0.272  0.338\n",
              "4            5   San Francisco Giants  153  683  ...  111  1032  0.270  0.327\n",
              "5            6         Detroit Tigers  152  689  ...   53  1042  0.268  0.336\n",
              "6            7     Kansas City Royals  152  644  ...  126   958  0.267  0.319\n",
              "7            8         Boston Red Sox  154  716  ...   92  1129  0.264  0.319\n",
              "8            9        Minnesota Twins  153  673  ...  129  1004  0.262  0.326\n",
              "9           10   Washington Nationals  152  680  ...   95  1236  0.261  0.322\n",
              "10          11       New York Yankees  152  736  ...   90  1115  0.261  0.333\n",
              "11          12      Milwaukee Brewers  152  733  ...  150  1185  0.261  0.327\n",
              "12          13   Arizona Diamondbacks  152  693  ...   87  1190  0.261  0.329\n",
              "13          14  Philadelphia Phillies  153  652  ...  112  1021  0.256  0.317\n",
              "14          15      Chicago White Sox  152  702  ...  101  1124  0.255  0.317\n",
              "15          16        Cincinnati Reds  153  651  ...   87  1182  0.253  0.318\n",
              "16          17          New York Mets  152  612  ...   72  1186  0.250  0.317\n",
              "17          18         Atlanta Braves  153  672  ...   93  1215  0.249  0.321\n",
              "18          19      Cleveland Indians  153  620  ...  102  1005  0.249  0.321\n",
              "19          20    Los Angeles Dodgers  153  591  ...   97  1094  0.248  0.314\n",
              "20          21       San Diego Padres  153  617  ...  142  1173  0.248  0.320\n",
              "21          22      Baltimore Orioles  152  667  ...   51  1227  0.247  0.312\n",
              "22          23     Pittsburgh Pirates  152  622  ...   66  1271  0.245  0.306\n",
              "23          24          Miami Marlins  153  587  ...  144  1143  0.245  0.309\n",
              "24          25      Toronto Blue Jays  151  669  ...  121  1178  0.243  0.307\n",
              "25          26           Chicago Cubs  153  586  ...   92  1171  0.242  0.302\n",
              "26          27         Tampa Bay Rays  153  659  ...  131  1241  0.241  0.318\n",
              "27          28         Houston Astros  153  551  ...  103  1293  0.237  0.303\n",
              "28          29      Oakland Athletics  152  651  ...  117  1296  0.236  0.309\n",
              "29          30       Seattle Mariners  153  573  ...  101  1183  0.233  0.294\n",
              "\n",
              "[30 rows x 15 columns]>"
            ]
          },
          "metadata": {},
          "execution_count": 6
        }
      ]
    },
    {
      "cell_type": "code",
      "metadata": {
        "id": "RgaxxoSx0kUm",
        "colab": {
          "base_uri": "https://localhost:8080/",
          "height": 335
        },
        "outputId": "8230db0c-a25f-423a-ca63-64491576d5f4"
      },
      "source": [
        "df1.describe()"
      ],
      "execution_count": 7,
      "outputs": [
        {
          "output_type": "execute_result",
          "data": {
            "text/html": [
              "<div>\n",
              "<style scoped>\n",
              "    .dataframe tbody tr th:only-of-type {\n",
              "        vertical-align: middle;\n",
              "    }\n",
              "\n",
              "    .dataframe tbody tr th {\n",
              "        vertical-align: top;\n",
              "    }\n",
              "\n",
              "    .dataframe thead th {\n",
              "        text-align: right;\n",
              "    }\n",
              "</style>\n",
              "<table border=\"1\" class=\"dataframe\">\n",
              "  <thead>\n",
              "    <tr style=\"text-align: right;\">\n",
              "      <th></th>\n",
              "      <th>Unnamed: 0</th>\n",
              "      <th>G</th>\n",
              "      <th>R</th>\n",
              "      <th>H</th>\n",
              "      <th>H1B</th>\n",
              "      <th>H2B</th>\n",
              "      <th>H3B</th>\n",
              "      <th>HR</th>\n",
              "      <th>RBI</th>\n",
              "      <th>BB</th>\n",
              "      <th>SB</th>\n",
              "      <th>SO</th>\n",
              "      <th>AVG</th>\n",
              "      <th>OBP</th>\n",
              "    </tr>\n",
              "  </thead>\n",
              "  <tbody>\n",
              "    <tr>\n",
              "      <th>count</th>\n",
              "      <td>30.000000</td>\n",
              "      <td>30.000000</td>\n",
              "      <td>30.000000</td>\n",
              "      <td>30.000000</td>\n",
              "      <td>30.000000</td>\n",
              "      <td>30.000000</td>\n",
              "      <td>30.000000</td>\n",
              "      <td>30.000000</td>\n",
              "      <td>30.000000</td>\n",
              "      <td>30.000000</td>\n",
              "      <td>30.000000</td>\n",
              "      <td>30.000000</td>\n",
              "      <td>30.000000</td>\n",
              "      <td>30.000000</td>\n",
              "    </tr>\n",
              "    <tr>\n",
              "      <th>mean</th>\n",
              "      <td>15.500000</td>\n",
              "      <td>152.533333</td>\n",
              "      <td>662.000000</td>\n",
              "      <td>1322.566667</td>\n",
              "      <td>878.366667</td>\n",
              "      <td>260.700000</td>\n",
              "      <td>29.366667</td>\n",
              "      <td>154.133333</td>\n",
              "      <td>630.233333</td>\n",
              "      <td>462.300000</td>\n",
              "      <td>102.133333</td>\n",
              "      <td>1140.733333</td>\n",
              "      <td>0.254800</td>\n",
              "      <td>0.319200</td>\n",
              "    </tr>\n",
              "    <tr>\n",
              "      <th>std</th>\n",
              "      <td>8.803408</td>\n",
              "      <td>0.628810</td>\n",
              "      <td>53.943777</td>\n",
              "      <td>75.842252</td>\n",
              "      <td>60.523283</td>\n",
              "      <td>24.203377</td>\n",
              "      <td>9.404633</td>\n",
              "      <td>30.428813</td>\n",
              "      <td>54.808559</td>\n",
              "      <td>41.139921</td>\n",
              "      <td>24.658682</td>\n",
              "      <td>91.315268</td>\n",
              "      <td>0.012113</td>\n",
              "      <td>0.010845</td>\n",
              "    </tr>\n",
              "    <tr>\n",
              "      <th>min</th>\n",
              "      <td>1.000000</td>\n",
              "      <td>151.000000</td>\n",
              "      <td>551.000000</td>\n",
              "      <td>1206.000000</td>\n",
              "      <td>767.000000</td>\n",
              "      <td>218.000000</td>\n",
              "      <td>12.000000</td>\n",
              "      <td>95.000000</td>\n",
              "      <td>514.000000</td>\n",
              "      <td>380.000000</td>\n",
              "      <td>51.000000</td>\n",
              "      <td>958.000000</td>\n",
              "      <td>0.233000</td>\n",
              "      <td>0.294000</td>\n",
              "    </tr>\n",
              "    <tr>\n",
              "      <th>25%</th>\n",
              "      <td>8.250000</td>\n",
              "      <td>152.000000</td>\n",
              "      <td>620.500000</td>\n",
              "      <td>1262.250000</td>\n",
              "      <td>828.000000</td>\n",
              "      <td>249.250000</td>\n",
              "      <td>23.250000</td>\n",
              "      <td>130.000000</td>\n",
              "      <td>591.000000</td>\n",
              "      <td>433.000000</td>\n",
              "      <td>89.250000</td>\n",
              "      <td>1055.000000</td>\n",
              "      <td>0.245500</td>\n",
              "      <td>0.312500</td>\n",
              "    </tr>\n",
              "    <tr>\n",
              "      <th>50%</th>\n",
              "      <td>15.500000</td>\n",
              "      <td>153.000000</td>\n",
              "      <td>668.000000</td>\n",
              "      <td>1318.000000</td>\n",
              "      <td>859.000000</td>\n",
              "      <td>257.500000</td>\n",
              "      <td>29.000000</td>\n",
              "      <td>153.500000</td>\n",
              "      <td>633.000000</td>\n",
              "      <td>454.500000</td>\n",
              "      <td>99.000000</td>\n",
              "      <td>1157.000000</td>\n",
              "      <td>0.254000</td>\n",
              "      <td>0.319000</td>\n",
              "    </tr>\n",
              "    <tr>\n",
              "      <th>75%</th>\n",
              "      <td>22.750000</td>\n",
              "      <td>153.000000</td>\n",
              "      <td>699.750000</td>\n",
              "      <td>1378.500000</td>\n",
              "      <td>919.000000</td>\n",
              "      <td>280.000000</td>\n",
              "      <td>35.750000</td>\n",
              "      <td>178.750000</td>\n",
              "      <td>676.750000</td>\n",
              "      <td>499.750000</td>\n",
              "      <td>120.000000</td>\n",
              "      <td>1189.000000</td>\n",
              "      <td>0.263500</td>\n",
              "      <td>0.327000</td>\n",
              "    </tr>\n",
              "    <tr>\n",
              "      <th>max</th>\n",
              "      <td>30.000000</td>\n",
              "      <td>154.000000</td>\n",
              "      <td>764.000000</td>\n",
              "      <td>1447.000000</td>\n",
              "      <td>997.000000</td>\n",
              "      <td>330.000000</td>\n",
              "      <td>54.000000</td>\n",
              "      <td>225.000000</td>\n",
              "      <td>738.000000</td>\n",
              "      <td>539.000000</td>\n",
              "      <td>150.000000</td>\n",
              "      <td>1296.000000</td>\n",
              "      <td>0.275000</td>\n",
              "      <td>0.338000</td>\n",
              "    </tr>\n",
              "  </tbody>\n",
              "</table>\n",
              "</div>"
            ],
            "text/plain": [
              "       Unnamed: 0           G           R  ...           SO        AVG        OBP\n",
              "count   30.000000   30.000000   30.000000  ...    30.000000  30.000000  30.000000\n",
              "mean    15.500000  152.533333  662.000000  ...  1140.733333   0.254800   0.319200\n",
              "std      8.803408    0.628810   53.943777  ...    91.315268   0.012113   0.010845\n",
              "min      1.000000  151.000000  551.000000  ...   958.000000   0.233000   0.294000\n",
              "25%      8.250000  152.000000  620.500000  ...  1055.000000   0.245500   0.312500\n",
              "50%     15.500000  153.000000  668.000000  ...  1157.000000   0.254000   0.319000\n",
              "75%     22.750000  153.000000  699.750000  ...  1189.000000   0.263500   0.327000\n",
              "max     30.000000  154.000000  764.000000  ...  1296.000000   0.275000   0.338000\n",
              "\n",
              "[8 rows x 14 columns]"
            ]
          },
          "metadata": {},
          "execution_count": 7
        }
      ]
    },
    {
      "cell_type": "code",
      "metadata": {
        "id": "kDk1pElG7VMW",
        "colab": {
          "base_uri": "https://localhost:8080/",
          "height": 564
        },
        "outputId": "db93555f-dd20-49c4-a680-5f4f56a5a401"
      },
      "source": [
        "%matplotlib inline\n",
        "#異常値偵測  盒鬚圖\n",
        "\n",
        "\n",
        "y=np.random.randn(1000)  #隨機產生値\n",
        "\n",
        "\n",
        "plt.boxplot(y,showfliers=True)\n",
        "plt.show()\n",
        "\n",
        "\n",
        "r=plt.boxplot(y,showfliers=True)\n",
        "\n",
        "print('異常値: ',r['fliers'][0].get_data()[1])#取得異常値"
      ],
      "execution_count": 8,
      "outputs": [
        {
          "output_type": "stream",
          "name": "stderr",
          "text": [
            "findfont: Font family ['SimHei'] not found. Falling back to DejaVu Sans.\n"
          ]
        },
        {
          "output_type": "display_data",
          "data": {
            "image/png": "[encoded data removed]",
            "text/plain": [
              "<Figure size 432x288 with 1 Axes>"
            ]
          },
          "metadata": {
            "needs_background": "light"
          }
        },
        {
          "output_type": "stream",
          "name": "stdout",
          "text": [
            "異常値:  [-3.10301753 -2.69824481 -2.83458391 -2.93322323 -2.82256551 -3.02035613\n",
            "  3.47469858  2.76656543  2.68779088  2.71061212]\n"
          ]
        },
        {
          "output_type": "display_data",
          "data": {
            "image/png": "[encoded data removed]",
            "text/plain": [
              "<Figure size 432x288 with 1 Axes>"
            ]
          },
          "metadata": {
            "needs_background": "light"
          }
        }
      ]
    },
    {
      "cell_type": "code",
      "metadata": {
        "id": "t_54JVtZ9uW2",
        "colab": {
          "base_uri": "https://localhost:8080/",
          "height": 334
        },
        "outputId": "35739a62-fff3-465b-8399-d61f1750f97a"
      },
      "source": [
        "#常態分佈與標準差\n",
        "df2=df1['HR']\n",
        "\n",
        "\n",
        "df2.plot(kind='kde',title='pdf')\n",
        "plt.show()\n",
        "\n",
        "print('標準差 :',df2.std())"
      ],
      "execution_count": 9,
      "outputs": [
        {
          "output_type": "stream",
          "name": "stderr",
          "text": [
            "findfont: Font family ['SimHei'] not found. Falling back to DejaVu Sans.\n",
            "findfont: Font family ['SimHei'] not found. Falling back to DejaVu Sans.\n"
          ]
        },
        {
          "output_type": "display_data",
          "data": {
            "image/png": "[encoded data removed]",
            "text/plain": [
              "<Figure size 432x288 with 1 Axes>"
            ]
          },
          "metadata": {
            "needs_background": "light"
          }
        },
        {
          "output_type": "stream",
          "name": "stdout",
          "text": [
            "標準差 : 30.428812722125077\n"
          ]
        }
      ]
    },
    {
      "cell_type": "code",
      "metadata": {
        "id": "asQTkjGv94av",
        "colab": {
          "base_uri": "https://localhost:8080/",
          "height": 627
        },
        "outputId": "72d3f5a2-ba14-4e96-fc0e-2b53167c3568"
      },
      "source": [
        "#相關性分析\n",
        "#相關程度不等於有因果關係\n",
        "import pandas as pd\n",
        "import numpy as np\n",
        "import matplotlib.pyplot as plt\n",
        "plt.style.use('ggplot')\n",
        "plt.rcParams['font.family']='Microsoft JhengHei' #⿊體\n",
        "\n",
        "print('corr: ',df1[['H','HR']].corr())\n",
        "\n",
        "\n",
        "df1.plot(x='H',y='HR',kind='scatter',title='散布圖')\n",
        "plt.show()\n",
        " \n",
        "\n"
      ],
      "execution_count": 10,
      "outputs": [
        {
          "output_type": "stream",
          "name": "stderr",
          "text": [
            "findfont: Font family ['Microsoft JhengHei'] not found. Falling back to DejaVu Sans.\n",
            "/usr/local/lib/python3.7/dist-packages/matplotlib/backends/backend_agg.py:214: RuntimeWarning: Glyph 25955 missing from current font.\n",
            "  font.set_text(s, 0.0, flags=flags)\n",
            "/usr/local/lib/python3.7/dist-packages/matplotlib/backends/backend_agg.py:214: RuntimeWarning: Glyph 24067 missing from current font.\n",
            "  font.set_text(s, 0.0, flags=flags)\n",
            "/usr/local/lib/python3.7/dist-packages/matplotlib/backends/backend_agg.py:214: RuntimeWarning: Glyph 22294 missing from current font.\n",
            "  font.set_text(s, 0.0, flags=flags)\n",
            "findfont: Font family ['Microsoft JhengHei'] not found. Falling back to DejaVu Sans.\n",
            "findfont: Font family ['Microsoft JhengHei'] not found. Falling back to DejaVu Sans.\n"
          ]
        },
        {
          "output_type": "stream",
          "name": "stdout",
          "text": [
            "corr:             H        HR\n",
            "H   1.000000  0.144424\n",
            "HR  0.144424  1.000000\n"
          ]
        },
        {
          "output_type": "stream",
          "name": "stderr",
          "text": [
            "/usr/local/lib/python3.7/dist-packages/matplotlib/backends/backend_agg.py:183: RuntimeWarning: Glyph 25955 missing from current font.\n",
            "  font.set_text(s, 0, flags=flags)\n",
            "/usr/local/lib/python3.7/dist-packages/matplotlib/backends/backend_agg.py:183: RuntimeWarning: Glyph 24067 missing from current font.\n",
            "  font.set_text(s, 0, flags=flags)\n",
            "/usr/local/lib/python3.7/dist-packages/matplotlib/backends/backend_agg.py:183: RuntimeWarning: Glyph 22294 missing from current font.\n",
            "  font.set_text(s, 0, flags=flags)\n"
          ]
        },
        {
          "output_type": "display_data",
          "data": {
            "image/png": "[encoded data removed]",
            "text/plain": [
              "<Figure size 432x288 with 1 Axes>"
            ]
          },
          "metadata": {}
        }
      ]
    },
    {
      "cell_type": "code",
      "metadata": {
        "id": "UMaa_H5J-C1-"
      },
      "source": [
        ""
      ],
      "execution_count": null,
      "outputs": []
    }
  ]
}