{
  "nbformat": 4,
  "nbformat_minor": 0,
  "metadata": {
    "language_info": {
      "name": "python",
      "mimetype": "text/x-python",
      "file_extension": ".py",
      "nbconvert_exporter": "python",
      "version": "3.6.4",
      "codemirror_mode": {
        "name": "ipython",
        "version": 3
      },
      "pygments_lexer": "ipython3"
    },
    "kernelspec": {
      "name": "python3",
      "language": "python",
      "display_name": "Python 3"
    },
    "colab": {
      "name": "prediction-of-quality-of-wine.ipynb",
      "provenance": [],
      "include_colab_link": true
    }
  },
  "cells": [
    {
      "cell_type": "markdown",
      "metadata": {
        "id": "view-in-github",
        "colab_type": "text"
      },
      "source": [
        "<a href=\"https://colab.research.google.com/github/jumbokh/nknu-class/blob/main/notebooks/prediction_of_quality_of_wine.ipynb\" target=\"_parent\"><img src=\"https://colab.research.google.com/assets/colab-badge.svg\" alt=\"Open In Colab\"/></a>"
      ]
    },
    {
      "cell_type": "markdown",
      "metadata": {
        "_cell_guid": "6876755d-3552-491d-b416-a012fbe221e4",
        "_uuid": "0b46910d15d98513ea81fb24e0f8ab28134c5f5f",
        "id": "UDNVpwsiqm1g"
      },
      "source": [
        "# **Thank You for opening this notebook!!!**\n",
        "\n",
        "## **This notebook tutorial is for those who are beginners to machine learning.**\n",
        "\n",
        "*In this notebook, First I have done some exploration on the data using matplotlib and seaborn.\n",
        "Then, I use different classifier models to predict the quality of the wine.*\n",
        "\n",
        "**1. Random Forest Classifier**\n",
        "\n",
        "**2. Stochastic Gradient Descent Classifier**\n",
        "\n",
        "**3. Support Vector Classifier(SVC) **\n",
        "\n",
        "*Then I use cross validation evaluation technique to optimize the model performance.*\n",
        "\n",
        "**1. Grid Search CV**\n",
        "\n",
        "**2. Cross Validation Score**\n",
        "\n",
        "## **If you find this notebook useful then please upvote.**"
      ]
    },
    {
      "cell_type": "code",
      "metadata": {
        "_cell_guid": "87c7b371-53b1-4d4d-bfbd-373d2b84b33a",
        "_uuid": "da5343fb3f6b3942909c94bf8e2add04fd3ff1a3",
        "collapsed": true,
        "jupyter": {
          "outputs_hidden": true
        },
        "id": "fdtZ2CI2qm1q"
      },
      "source": [
        "#Importing required packages.\n",
        "import pandas as pd\n",
        "import seaborn as sns\n",
        "import matplotlib.pyplot as plt\n",
        "from sklearn.ensemble import RandomForestClassifier\n",
        "from sklearn.svm import SVC\n",
        "from sklearn.linear_model import SGDClassifier\n",
        "from sklearn.metrics import confusion_matrix, classification_report\n",
        "from sklearn.preprocessing import StandardScaler, LabelEncoder\n",
        "from sklearn.model_selection import train_test_split, GridSearchCV, cross_val_score\n",
        "%matplotlib inline"
      ],
      "execution_count": null,
      "outputs": []
    },
    {
      "cell_type": "code",
      "metadata": {
        "_cell_guid": "800f9ff4-79bf-4785-9569-23e1d9b9b03b",
        "_uuid": "07c8409e4eccd80507d9846e8cc70ea42e58cbe6",
        "collapsed": true,
        "jupyter": {
          "outputs_hidden": true
        },
        "id": "F0xQYPQYqm1t"
      },
      "source": [
        "#Loading dataset\n",
        "wine = pd.read_csv('../input/winequality-red.csv')"
      ],
      "execution_count": null,
      "outputs": []
    },
    {
      "cell_type": "code",
      "metadata": {
        "_cell_guid": "019cbcee-6cb2-478c-922b-ccebe4962769",
        "_uuid": "45ff42953e9082cd55612a4774408cc97a05fb11",
        "id": "IRqw0LhRqm1u"
      },
      "source": [
        "#Let's check how the data is distributed\n",
        "wine.head()"
      ],
      "execution_count": null,
      "outputs": []
    },
    {
      "cell_type": "code",
      "metadata": {
        "_cell_guid": "704f4830-5804-436d-9b78-6ca00f5ae510",
        "_uuid": "af141503385967f92d409c5e111e2724b4c9636f",
        "id": "F0oJ-wG2qm1w"
      },
      "source": [
        "#Information about the data columns\n",
        "wine.info()"
      ],
      "execution_count": null,
      "outputs": []
    },
    {
      "cell_type": "markdown",
      "metadata": {
        "_cell_guid": "12b9e3c1-006d-4b1d-b01d-02be5a594bbb",
        "_uuid": "e9ad3ce0e67ea7a5178222164d784a974846bc54",
        "id": "1TVJPs4Sqm1x"
      },
      "source": [
        "## **Let's do some plotting to know how the data columns are distributed in the dataset**"
      ]
    },
    {
      "cell_type": "code",
      "metadata": {
        "_cell_guid": "f6a9d2eb-e03c-4c8b-8d7f-c0cb735d9ce9",
        "_uuid": "255e8fd04c90eae23164df043ebf16550ecff8fe",
        "id": "Hb4rqW1qqm1y"
      },
      "source": [
        "#Here we see that fixed acidity does not give any specification to classify the quality.\n",
        "fig = plt.figure(figsize = (10,6))\n",
        "sns.barplot(x = 'quality', y = 'fixed acidity', data = wine)"
      ],
      "execution_count": null,
      "outputs": []
    },
    {
      "cell_type": "code",
      "metadata": {
        "_cell_guid": "7d7355dc-9c09-4e5e-8989-87f903197898",
        "_uuid": "158a576b3fb80cc0978c322663bc5060d8977be0",
        "id": "8KeXwm28qm1z"
      },
      "source": [
        "#Here we see that its quite a downing trend in the volatile acidity as we go higher the quality \n",
        "fig = plt.figure(figsize = (10,6))\n",
        "sns.barplot(x = 'quality', y = 'volatile acidity', data = wine)"
      ],
      "execution_count": null,
      "outputs": []
    },
    {
      "cell_type": "code",
      "metadata": {
        "_cell_guid": "08f073d3-787b-4956-899b-6bd2bdf3cf91",
        "_uuid": "9600cd337636a7860a908fa36ad8084e230829ca",
        "id": "5eRTgihvqm10"
      },
      "source": [
        "#Composition of citric acid go higher as we go higher in the quality of the wine\n",
        "fig = plt.figure(figsize = (10,6))\n",
        "sns.barplot(x = 'quality', y = 'citric acid', data = wine)"
      ],
      "execution_count": null,
      "outputs": []
    },
    {
      "cell_type": "code",
      "metadata": {
        "_cell_guid": "7dcb76bc-3436-46bd-9d7f-78ccd436517e",
        "_uuid": "6b017770cef61eefb34b4607218c77f933350389",
        "id": "MYa2L8-Oqm11"
      },
      "source": [
        "fig = plt.figure(figsize = (10,6))\n",
        "sns.barplot(x = 'quality', y = 'residual sugar', data = wine)"
      ],
      "execution_count": null,
      "outputs": []
    },
    {
      "cell_type": "code",
      "metadata": {
        "_cell_guid": "76463630-67d9-4b07-8076-fba8b49a9921",
        "_uuid": "31fe5d393946e406cbe62d3f4c7951e0b493c454",
        "id": "AYA77E7Xqm12"
      },
      "source": [
        "#Composition of chloride also go down as we go higher in the quality of the wine\n",
        "fig = plt.figure(figsize = (10,6))\n",
        "sns.barplot(x = 'quality', y = 'chlorides', data = wine)"
      ],
      "execution_count": null,
      "outputs": []
    },
    {
      "cell_type": "code",
      "metadata": {
        "_cell_guid": "6abcf7a2-cc7a-4673-a905-6ee0c2cc9e15",
        "_uuid": "6ba9a0dafe8e1042da4dbcaa93706dd46cf3a85c",
        "id": "i1nMDFZ_qm13"
      },
      "source": [
        "fig = plt.figure(figsize = (10,6))\n",
        "sns.barplot(x = 'quality', y = 'free sulfur dioxide', data = wine)"
      ],
      "execution_count": null,
      "outputs": []
    },
    {
      "cell_type": "code",
      "metadata": {
        "_cell_guid": "9acea621-2b7b-44b7-a0fa-b984dd8c0e93",
        "_uuid": "d99c6e4033da73cdc9d9977ac045372ff9af1c53",
        "id": "V3hcNkU9qm13"
      },
      "source": [
        "fig = plt.figure(figsize = (10,6))\n",
        "sns.barplot(x = 'quality', y = 'total sulfur dioxide', data = wine)"
      ],
      "execution_count": null,
      "outputs": []
    },
    {
      "cell_type": "code",
      "metadata": {
        "_cell_guid": "bf0b1aa4-8a6c-4f95-80c3-7554b38a9c96",
        "_uuid": "ae9a7496f5c238ec9bb95729b17960c6e48efe35",
        "id": "Wj5WgfCRqm14"
      },
      "source": [
        "#Sulphates level goes higher with the quality of wine\n",
        "fig = plt.figure(figsize = (10,6))\n",
        "sns.barplot(x = 'quality', y = 'sulphates', data = wine)"
      ],
      "execution_count": null,
      "outputs": []
    },
    {
      "cell_type": "code",
      "metadata": {
        "_cell_guid": "04f51b1d-6315-44d3-986c-ed82fc996ad3",
        "_uuid": "81efa0b7799cd731aff98cffeaa28c361a7375a5",
        "id": "kGf5XCqkqm14"
      },
      "source": [
        "#Alcohol level also goes higher as te quality of wine increases\n",
        "fig = plt.figure(figsize = (10,6))\n",
        "sns.barplot(x = 'quality', y = 'alcohol', data = wine)"
      ],
      "execution_count": null,
      "outputs": []
    },
    {
      "cell_type": "markdown",
      "metadata": {
        "_cell_guid": "9838ca3d-4b89-4503-9d7e-247cc3a9730b",
        "_uuid": "974be3136a2f13bf26a88b26cbddbf73f5cafda9",
        "id": "uUbjByQPqm15"
      },
      "source": [
        "## Preprocessing Data for performing Machine learning algorithms"
      ]
    },
    {
      "cell_type": "code",
      "metadata": {
        "_cell_guid": "33e1c5c0-a65a-4918-8d94-db8e4c521d50",
        "_uuid": "3f082340d1b157391052f0fa20a44aa0105ce987",
        "collapsed": true,
        "jupyter": {
          "outputs_hidden": true
        },
        "id": "u2HKfP7mqm17"
      },
      "source": [
        "#Making binary classificaion for the response variable.\n",
        "#Dividing wine as good and bad by giving the limit for the quality\n",
        "bins = (2, 6.5, 8)\n",
        "group_names = ['bad', 'good']\n",
        "wine['quality'] = pd.cut(wine['quality'], bins = bins, labels = group_names)"
      ],
      "execution_count": null,
      "outputs": []
    },
    {
      "cell_type": "code",
      "metadata": {
        "_cell_guid": "21a15507-cc97-4c40-835b-51fd79f7cdd9",
        "_uuid": "87127b3c5e9493a9364b3c63401ddb11a51373a1",
        "collapsed": true,
        "jupyter": {
          "outputs_hidden": true
        },
        "id": "DPGU8NRbqm17"
      },
      "source": [
        "#Now lets assign a labels to our quality variable\n",
        "label_quality = LabelEncoder()"
      ],
      "execution_count": null,
      "outputs": []
    },
    {
      "cell_type": "code",
      "metadata": {
        "_cell_guid": "f4c3a886-4b1f-4533-a660-b7ffb66376c2",
        "_uuid": "a592e2b8ece55e8d5928241eb5b9188226a725bf",
        "collapsed": true,
        "jupyter": {
          "outputs_hidden": true
        },
        "id": "qQYM6wxPqm18"
      },
      "source": [
        "#Bad becomes 0 and good becomes 1 \n",
        "wine['quality'] = label_quality.fit_transform(wine['quality'])"
      ],
      "execution_count": null,
      "outputs": []
    },
    {
      "cell_type": "code",
      "metadata": {
        "_cell_guid": "faa36f65-7e80-44d7-a4f8-10e482cec684",
        "_uuid": "65a97517331f835cade698b594a7376ea7778eeb",
        "id": "sokNpZOWqm18"
      },
      "source": [
        "wine['quality'].value_counts()"
      ],
      "execution_count": null,
      "outputs": []
    },
    {
      "cell_type": "code",
      "metadata": {
        "_cell_guid": "2fe7339e-837e-48c0-b988-a36c89632844",
        "_uuid": "d2a4c7e14dc6b8faa31efd1fcbe4f61b80a7d3e1",
        "id": "35NjgAowqm19"
      },
      "source": [
        "sns.countplot(wine['quality'])"
      ],
      "execution_count": null,
      "outputs": []
    },
    {
      "cell_type": "code",
      "metadata": {
        "_cell_guid": "ba89712a-ad66-4a92-9214-4e35c3802d59",
        "_uuid": "b893deb26bb309c914de12aadf9ad8437deb8358",
        "collapsed": true,
        "jupyter": {
          "outputs_hidden": true
        },
        "id": "ABFCERB5qm19"
      },
      "source": [
        "#Now seperate the dataset as response variable and feature variabes\n",
        "X = wine.drop('quality', axis = 1)\n",
        "y = wine['quality']"
      ],
      "execution_count": null,
      "outputs": []
    },
    {
      "cell_type": "code",
      "metadata": {
        "_cell_guid": "d7703d9a-3397-4c42-9b38-6f341cac1cde",
        "_uuid": "bdfc0f6ba146f947f265fd493e8327366fdb5c9a",
        "collapsed": true,
        "jupyter": {
          "outputs_hidden": true
        },
        "id": "c-lOTuOzqm19"
      },
      "source": [
        "#Train and Test splitting of data \n",
        "X_train, X_test, y_train, y_test = train_test_split(X, y, test_size = 0.2, random_state = 42)"
      ],
      "execution_count": null,
      "outputs": []
    },
    {
      "cell_type": "code",
      "metadata": {
        "_cell_guid": "cef31289-9cec-4ab1-afea-2ff34c36fec1",
        "_uuid": "ca68209bcd596b3cfcaf42837e4a6e49b6c12974",
        "collapsed": true,
        "jupyter": {
          "outputs_hidden": true
        },
        "id": "pvWuR5LDqm1-"
      },
      "source": [
        "#Applying Standard scaling to get optimized result\n",
        "sc = StandardScaler()"
      ],
      "execution_count": null,
      "outputs": []
    },
    {
      "cell_type": "code",
      "metadata": {
        "_cell_guid": "705b8e8a-a6d3-4e93-8b53-7c677b5b88c4",
        "_uuid": "7878194b0c4935904c68a88a91e18f9bbbabbda7",
        "collapsed": true,
        "jupyter": {
          "outputs_hidden": true
        },
        "id": "jkHxbV-Qqm1-"
      },
      "source": [
        "X_train = sc.fit_transform(X_train)\n",
        "X_test = sc.fit_transform(X_test)"
      ],
      "execution_count": null,
      "outputs": []
    },
    {
      "cell_type": "markdown",
      "metadata": {
        "_cell_guid": "645e952e-09b5-48df-9d08-aa6454ef333a",
        "_uuid": "3fd28a9b12fd0f5a00bc0add378ca1f9632bc319",
        "id": "eRgCMugLqm1-"
      },
      "source": [
        "## Our training and testing data is ready now to perform machine learning algorithm"
      ]
    },
    {
      "cell_type": "markdown",
      "metadata": {
        "_cell_guid": "0a12868b-8780-43b9-ae70-4c849407aac6",
        "_uuid": "093572f70cda59063611c1c888974e6a863ec7ef",
        "id": "VjZNfo9aqm1-"
      },
      "source": [
        "### Random Forest Classifier"
      ]
    },
    {
      "cell_type": "code",
      "metadata": {
        "_cell_guid": "f7d2ca14-40fa-4b7c-b902-d47f09214c75",
        "_uuid": "4c2c2a071bde3b44adf031a6807f51b47f8b5eaa",
        "collapsed": true,
        "jupyter": {
          "outputs_hidden": true
        },
        "id": "qJ_hVOEaqm1-"
      },
      "source": [
        "rfc = RandomForestClassifier(n_estimators=200)\n",
        "rfc.fit(X_train, y_train)\n",
        "pred_rfc = rfc.predict(X_test)"
      ],
      "execution_count": null,
      "outputs": []
    },
    {
      "cell_type": "code",
      "metadata": {
        "_cell_guid": "1cc15e56-0589-4fa3-a4f1-6f5e7b5547b2",
        "_uuid": "61e8a79a7db4fef289b8d4e3b3dd8e1c01756697",
        "id": "eTs11Piuqm1_"
      },
      "source": [
        "#Let's see how our model performed\n",
        "print(classification_report(y_test, pred_rfc))"
      ],
      "execution_count": null,
      "outputs": []
    },
    {
      "cell_type": "markdown",
      "metadata": {
        "_cell_guid": "6fc282fd-9db3-4c69-bf91-f9daaaec615b",
        "_uuid": "eaa7b2cbb80adbb06133b9cd89a8ebae014dc3e8",
        "id": "PqF96Tzzqm1_"
      },
      "source": [
        "#### Random forest gives the accuracy of 87%"
      ]
    },
    {
      "cell_type": "code",
      "metadata": {
        "_cell_guid": "84334dbd-d36c-4650-87ab-d3e8f73be63c",
        "_uuid": "0fd8c7cd7741be25fd0d5f56d5711e8aaf44ac0f",
        "id": "rzwQdGd3qm1_"
      },
      "source": [
        "#Confusion matrix for the random forest classification\n",
        "print(confusion_matrix(y_test, pred_rfc))"
      ],
      "execution_count": null,
      "outputs": []
    },
    {
      "cell_type": "markdown",
      "metadata": {
        "_cell_guid": "cb7432d3-16a5-4764-b792-def2666dffbe",
        "_uuid": "6bb4d5afc35743acfd4630d12038c29f2459ce39",
        "id": "GQ3gIOLBqm1_"
      },
      "source": [
        "\n",
        "\n",
        "## Stochastic Gradient Decent Classifier"
      ]
    },
    {
      "cell_type": "code",
      "metadata": {
        "_cell_guid": "d6835aea-7d7c-4602-b3f3-11e26a37f816",
        "_uuid": "2e1bc3b870d29573b09f1c590ee18011e29af7c3",
        "id": "ZsjnNjaJqm2A"
      },
      "source": [
        "sgd = SGDClassifier(penalty=None)\n",
        "sgd.fit(X_train, y_train)\n",
        "pred_sgd = sgd.predict(X_test)"
      ],
      "execution_count": null,
      "outputs": []
    },
    {
      "cell_type": "code",
      "metadata": {
        "_cell_guid": "ff591dec-adf0-422a-85f6-97c1a27b62f6",
        "_uuid": "c5bdce42ff74ac8c4b6d3eb5b40107b301eec037",
        "id": "JfyrX-Ytqm2A"
      },
      "source": [
        "print(classification_report(y_test, pred_sgd))"
      ],
      "execution_count": null,
      "outputs": []
    },
    {
      "cell_type": "markdown",
      "metadata": {
        "_cell_guid": "674724bc-e600-4f3e-999a-9b99c4d564be",
        "_uuid": "26ef4101c3c8d17b7524378bb7b59ea2d2a4e762",
        "id": "NGh6X_2Sqm2A"
      },
      "source": [
        "#### 84% accuracy using stochastic gradient descent classifier"
      ]
    },
    {
      "cell_type": "code",
      "metadata": {
        "_cell_guid": "2f2ff080-986a-4a64-8f74-8a3afd4e494f",
        "_uuid": "593afdb03d06d44529cba0d8348aced10f1cd276",
        "id": "rnJ5-bLQqm2A"
      },
      "source": [
        "print(confusion_matrix(y_test, pred_sgd))"
      ],
      "execution_count": null,
      "outputs": []
    },
    {
      "cell_type": "markdown",
      "metadata": {
        "_cell_guid": "eda98e5a-552d-4318-8ae7-1fc45c360be4",
        "_uuid": "9ec5e14c6c24713d6b6e0aaa76ddc5d45886c626",
        "id": "ujTqbhj5qm2B"
      },
      "source": [
        "## Support Vector Classifier"
      ]
    },
    {
      "cell_type": "code",
      "metadata": {
        "_cell_guid": "c09c2885-0ae7-424b-8bfb-8d60eeab8910",
        "_uuid": "432c960068fac4d27d9be14a39ac0fe92933f532",
        "collapsed": true,
        "jupyter": {
          "outputs_hidden": true
        },
        "id": "h8FPvKIBqm2B"
      },
      "source": [
        "svc = SVC()\n",
        "svc.fit(X_train, y_train)\n",
        "pred_svc = svc.predict(X_test)"
      ],
      "execution_count": null,
      "outputs": []
    },
    {
      "cell_type": "code",
      "metadata": {
        "_cell_guid": "a9bd5ed8-fed7-4d12-8f84-ee02b345f7f3",
        "_uuid": "bc3c13a5596baf43c4c40dbddea247e3ee470d31",
        "id": "9v7XMrVVqm2B"
      },
      "source": [
        "print(classification_report(y_test, pred_svc))"
      ],
      "execution_count": null,
      "outputs": []
    },
    {
      "cell_type": "markdown",
      "metadata": {
        "_cell_guid": "253d6200-8035-400c-a022-00d2bbd7f045",
        "_uuid": "3d4ac7ee94b2a081d5cb8caa1cfd99e41b8940fb",
        "id": "sWhyh4b_qm2B"
      },
      "source": [
        "#### Support vector classifier gets 86%"
      ]
    },
    {
      "cell_type": "markdown",
      "metadata": {
        "_cell_guid": "ea15f1a9-eec6-4d08-a68d-8e3fce6f6b8a",
        "_uuid": "b11f94fdee6a4bfed980793d94ad5c17e33b7d39",
        "id": "Mw5uweboqm2C"
      },
      "source": [
        "## Let's try to increase our accuracy of models\n",
        "## Grid Search CV"
      ]
    },
    {
      "cell_type": "code",
      "metadata": {
        "_cell_guid": "31bbdf11-00b0-4120-81f6-b7b5ac537554",
        "_uuid": "0d8fb2a1ae6909c8e44d4b51af8492c194016e4c",
        "collapsed": true,
        "jupyter": {
          "outputs_hidden": true
        },
        "id": "iONn_glfqm2C"
      },
      "source": [
        "#Finding best parameters for our SVC model\n",
        "param = {\n",
        "    'C': [0.1,0.8,0.9,1,1.1,1.2,1.3,1.4],\n",
        "    'kernel':['linear', 'rbf'],\n",
        "    'gamma' :[0.1,0.8,0.9,1,1.1,1.2,1.3,1.4]\n",
        "}\n",
        "grid_svc = GridSearchCV(svc, param_grid=param, scoring='accuracy', cv=10)"
      ],
      "execution_count": null,
      "outputs": []
    },
    {
      "cell_type": "code",
      "metadata": {
        "_cell_guid": "32cbf4d6-254c-4c55-93e2-448244d89ad9",
        "_uuid": "a581f788a26862911480af8e9c2acb4385d6d79d",
        "id": "wUKz9jqXqm2C"
      },
      "source": [
        "grid_svc.fit(X_train, y_train)"
      ],
      "execution_count": null,
      "outputs": []
    },
    {
      "cell_type": "code",
      "metadata": {
        "_cell_guid": "55a3e439-c2e3-426e-a1a5-cd653bf8bfa9",
        "_uuid": "0d70efd0eb41271afb4ac50291aa83c6791847a3",
        "id": "g64i9eBOqm2D"
      },
      "source": [
        "#Best parameters for our svc model\n",
        "grid_svc.best_params_"
      ],
      "execution_count": null,
      "outputs": []
    },
    {
      "cell_type": "code",
      "metadata": {
        "_cell_guid": "362ff8bd-7cf3-48af-a93a-499b52dab0d7",
        "_uuid": "dd4a0ac5ef6c17e9e2312a03df0d82ca088c40f2",
        "id": "or2dkSPXqm2E"
      },
      "source": [
        "#Let's run our SVC again with the best parameters.\n",
        "svc2 = SVC(C = 1.2, gamma =  0.9, kernel= 'rbf')\n",
        "svc2.fit(X_train, y_train)\n",
        "pred_svc2 = svc2.predict(X_test)\n",
        "print(classification_report(y_test, pred_svc2))"
      ],
      "execution_count": null,
      "outputs": []
    },
    {
      "cell_type": "markdown",
      "metadata": {
        "_cell_guid": "d14b50b9-006a-490f-a626-4a2a41b843d6",
        "_uuid": "eca47cbe6600911992c4ebee60c68e3fe37a3c91",
        "id": "nlMqSU27qm2G"
      },
      "source": [
        "### SVC improves from 86% to 90% using Grid Search CV"
      ]
    },
    {
      "cell_type": "markdown",
      "metadata": {
        "_cell_guid": "9cfb4b02-75c7-41ac-9ef7-0dcb2b00124e",
        "_uuid": "4b47f0260582ad526d3b8057d7f2ce96157720f1",
        "id": "06u9hGVGqm2G"
      },
      "source": [
        ""
      ]
    },
    {
      "cell_type": "markdown",
      "metadata": {
        "_cell_guid": "d6cd1c1f-9531-4c6a-87c1-262dd7fb6caf",
        "_uuid": "9f705df2b81e776eedc164c5d933ff4dd4c61d31",
        "id": "TZeyOkGoqm2H"
      },
      "source": [
        "## Cross Validation Score for random forest and SGD"
      ]
    },
    {
      "cell_type": "code",
      "metadata": {
        "_cell_guid": "a5507be9-a3eb-4bba-b8d5-928d015faadf",
        "_uuid": "24a7f7dc1bf59eaae6e5ea5a6f61130664fcd260",
        "id": "6yi64ngZqm2H"
      },
      "source": [
        "#Now lets try to do some evaluation for random forest model using cross validation.\n",
        "rfc_eval = cross_val_score(estimator = rfc, X = X_train, y = y_train, cv = 10)\n",
        "rfc_eval.mean()"
      ],
      "execution_count": null,
      "outputs": []
    },
    {
      "cell_type": "markdown",
      "metadata": {
        "_cell_guid": "4a6ab3c5-4b28-442e-be48-9e3eb14a6e79",
        "_uuid": "186ca0ca24faac487ca40563c9490f94f51a433a",
        "id": "cJTidXvhqm2H"
      },
      "source": [
        "### Random forest accuracy increases from 87% to 91 % using cross validation score"
      ]
    },
    {
      "cell_type": "markdown",
      "metadata": {
        "_cell_guid": "83d17bc9-b35a-4561-9368-bb8cd59558d4",
        "_uuid": "fca769d889ee6043785cad11fe54c455e1a4d0c2",
        "id": "2RTkTY_Lqm2H"
      },
      "source": [
        "### Thank for going through this notebook"
      ]
    },
    {
      "cell_type": "markdown",
      "metadata": {
        "_cell_guid": "01762203-2a90-419c-944f-b0c9f6230b81",
        "_uuid": "16946f697fd0ac8ab47f3b9eb5c433dbbcce4a16",
        "id": "0lMM1kzeqm2I"
      },
      "source": [
        "## If you find this notebook useful then please upvote. So the beginners can find easily"
      ]
    },
    {
      "cell_type": "code",
      "metadata": {
        "_cell_guid": "9880c001-331b-43d2-9a35-7c653909eaf0",
        "_uuid": "6b8d3662f89c436749ee26af98b0f79636c569c2",
        "collapsed": true,
        "jupyter": {
          "outputs_hidden": true
        },
        "id": "tAAsTVHaqm2I"
      },
      "source": [
        "\n"
      ],
      "execution_count": null,
      "outputs": []
    }
  ]
}