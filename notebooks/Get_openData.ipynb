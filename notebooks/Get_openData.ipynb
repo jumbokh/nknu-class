{
  "nbformat": 4,
  "nbformat_minor": 0,
  "metadata": {
    "colab": {
      "name": "Get-openData.ipynb",
      "provenance": [],
      "authorship_tag": "ABX9TyPeISAeWqNGnl+0dN6QDXk3",
      "include_colab_link": true
    },
    "kernelspec": {
      "name": "python3",
      "display_name": "Python 3"
    },
    "language_info": {
      "name": "python"
    }
  },
  "cells": [
    {
      "cell_type": "markdown",
      "metadata": {
        "id": "view-in-github",
        "colab_type": "text"
      },
      "source": [
        "<a href=\"https://colab.research.google.com/github/jumbokh/nknu-class/blob/main/notebooks/Get_openData.ipynb\" target=\"_parent\"><img src=\"https://colab.research.google.com/assets/colab-badge.svg\" alt=\"Open In Colab\"/></a>"
      ]
    },
    {
      "cell_type": "markdown",
      "metadata": {
        "id": "sCwIAR2zF56K"
      },
      "source": [
        "### 參考網址: https://nkust.gitbook.io/python/lu-gong-qu-ji-qiao"
      ]
    },
    {
      "cell_type": "code",
      "metadata": {
        "colab": {
          "base_uri": "https://localhost:8080/"
        },
        "id": "gKhTcoZ2FFo9",
        "outputId": "651682c4-3060-4151-b781-bd4599f7d279"
      },
      "source": [
        "import urllib.request, json, ssl\n",
        "\n",
        "url = 'https://data.wra.gov.tw/Service/OpenData.aspx?format=json&id=50C8256D-30C5-4B8D-9B84-2E14D5C6DF71'\n",
        "context = ssl._create_unverified_context()\n",
        "with urllib.request.urlopen(url, context=context) as jsondata:\n",
        "    data = json.loads(jsondata.read().decode())\n",
        "print(data)"
      ],
      "execution_count": 1,
      "outputs": [
        {
          "output_type": "stream",
          "text": [
            "{'DailyOperationalStatisticsOfReservoirs_OPENDATA': [{'CatchmentAreaRainfall': '0', 'CrossFlow': '367.83', 'DeadStorageLevel': '175', 'EffectiveCapacity': '20266.1', 'FullWaterLevel': '245', 'InflowVolume': '423.39', 'Outflow': '80.87', 'OutflowDischarge': '0', 'OutflowTotal': '448.71', 'RecordTime': '2021-08-29T00:00:00', 'RegulatoryDischarge': '0', 'ReservoirIdentifier': '10201', 'ReservoirName': '石門水庫'}, {'CatchmentAreaRainfall': '0', 'CrossFlow': '0', 'DeadStorageLevel': '64.73', 'EffectiveCapacity': '43.69', 'FullWaterLevel': '72.08', 'InflowVolume': '0.23', 'Outflow': '0.6', 'OutflowDischarge': '0', 'OutflowTotal': '0.6', 'RecordTime': '2021-08-29T00:00:00', 'RegulatoryDischarge': '0', 'ReservoirIdentifier': '10203', 'ReservoirName': '西勢水庫'}, {'CatchmentAreaRainfall': '0', 'CrossFlow': '0', 'DeadStorageLevel': '45', 'EffectiveCapacity': '1002', 'FullWaterLevel': '86', 'InflowVolume': '0', 'Outflow': '6.37', 'OutflowDischarge': '0', 'OutflowTotal': '6.37', 'RecordTime': '2021-08-29T00:00:00', 'RegulatoryDischarge': '0', 'ReservoirIdentifier': '10204', 'ReservoirName': '新山水庫'}, {'CatchmentAreaRainfall': '1.9', 'CrossFlow': '', 'DeadStorageLevel': '110', 'EffectiveCapacity': '33550.5', 'FullWaterLevel': '170', 'InflowVolume': '86.7', 'Outflow': '', 'OutflowDischarge': '', 'OutflowTotal': '141.6', 'RecordTime': '2021-08-29T00:00:00', 'RegulatoryDischarge': '', 'ReservoirIdentifier': '10205', 'ReservoirName': '翡翠水庫'}, {'CatchmentAreaRainfall': '0', 'CrossFlow': '554.92', 'DeadStorageLevel': '', 'EffectiveCapacity': '', 'FullWaterLevel': '', 'InflowVolume': '554.95', 'Outflow': '', 'OutflowDischarge': '', 'OutflowTotal': '554.92', 'RecordTime': '2021-08-29T00:00:00', 'RegulatoryDischarge': '0', 'ReservoirIdentifier': '10206', 'ReservoirName': '榮華壩'}, {'CatchmentAreaRainfall': '', 'CrossFlow': '', 'DeadStorageLevel': '47.2', 'EffectiveCapacity': '439', 'FullWaterLevel': '51.5', 'InflowVolume': '341', 'Outflow': '', 'OutflowDischarge': '', 'OutflowTotal': '', 'RecordTime': '2021-08-29T00:00:00', 'RegulatoryDischarge': '', 'ReservoirIdentifier': '10207', 'ReservoirName': '鳶山堰'}, {'CatchmentAreaRainfall': '0', 'CrossFlow': '', 'DeadStorageLevel': '104', 'EffectiveCapacity': '28.28', 'FullWaterLevel': '109.2', 'InflowVolume': '249', 'Outflow': '', 'OutflowDischarge': '', 'OutflowTotal': '', 'RecordTime': '2021-08-29T00:00:00', 'RegulatoryDischarge': '', 'ReservoirIdentifier': '10209', 'ReservoirName': '桂山壩'}, {'CatchmentAreaRainfall': '', 'CrossFlow': '', 'DeadStorageLevel': '56', 'EffectiveCapacity': '', 'FullWaterLevel': '59', 'InflowVolume': '38.7', 'Outflow': '', 'OutflowDischarge': '', 'OutflowTotal': '', 'RecordTime': '2021-08-29T00:00:00', 'RegulatoryDischarge': '', 'ReservoirIdentifier': '10210', 'ReservoirName': '三峽攔河堰'}, {'CatchmentAreaRainfall': '0', 'CrossFlow': '121.6', 'DeadStorageLevel': '17', 'EffectiveCapacity': '74.2', 'FullWaterLevel': '22.6', 'InflowVolume': '121.6', 'Outflow': '51.2', 'OutflowDischarge': '', 'OutflowTotal': '51.2', 'RecordTime': '2021-08-29T07:00:00', 'RegulatoryDischarge': '', 'ReservoirIdentifier': '10211', 'ReservoirName': '青潭堰'}, {'CatchmentAreaRainfall': '0', 'CrossFlow': '28.94', 'DeadStorageLevel': '41', 'EffectiveCapacity': '191.89', 'FullWaterLevel': '44.7', 'InflowVolume': '218.65', 'Outflow': '189.71', 'OutflowDischarge': '', 'OutflowTotal': '218.65', 'RecordTime': '2021-08-29T00:00:00', 'RegulatoryDischarge': '28.94', 'ReservoirIdentifier': '10212', 'ReservoirName': '直潭壩'}, {'CatchmentAreaRainfall': '0', 'CrossFlow': '', 'DeadStorageLevel': '208', 'EffectiveCapacity': '17.56', 'FullWaterLevel': '219.2', 'InflowVolume': '170', 'Outflow': '', 'OutflowDischarge': '', 'OutflowTotal': '', 'RecordTime': '2021-08-29T00:00:00', 'RegulatoryDischarge': '', 'ReservoirIdentifier': '10213', 'ReservoirName': '羅好壩'}, {'CatchmentAreaRainfall': '0', 'CrossFlow': '', 'DeadStorageLevel': '208.6', 'EffectiveCapacity': '3.87', 'FullWaterLevel': '214.8', 'InflowVolume': '35.9', 'Outflow': '', 'OutflowDischarge': '', 'OutflowTotal': '', 'RecordTime': '2021-08-29T00:00:00', 'RegulatoryDischarge': '', 'ReservoirIdentifier': '10214', 'ReservoirName': '阿玉壩'}, {'CatchmentAreaRainfall': '', 'CrossFlow': '', 'DeadStorageLevel': '122', 'EffectiveCapacity': '503.5', 'FullWaterLevel': '141.6', 'InflowVolume': '10.85', 'Outflow': '12.52', 'OutflowDischarge': '', 'OutflowTotal': '12.52', 'RecordTime': '2021-08-29T00:00:00', 'RegulatoryDischarge': '', 'ReservoirIdentifier': '10401', 'ReservoirName': '寶山水庫'}, {'CatchmentAreaRainfall': '0.3', 'CrossFlow': '0.38', 'DeadStorageLevel': '', 'EffectiveCapacity': '', 'FullWaterLevel': '44', 'InflowVolume': '19.6', 'Outflow': '', 'OutflowDischarge': '', 'OutflowTotal': '19.6', 'RecordTime': '2021-08-29T00:00:00', 'RegulatoryDischarge': '', 'ReservoirIdentifier': '10404', 'ReservoirName': '隆恩堰'}, {'CatchmentAreaRainfall': '0.7', 'CrossFlow': '', 'DeadStorageLevel': '110', 'EffectiveCapacity': '3147.18', 'FullWaterLevel': '150', 'InflowVolume': '26.3', 'Outflow': '19.31', 'OutflowDischarge': '', 'OutflowTotal': '26.3', 'RecordTime': '2021-08-29T00:00:00', 'RegulatoryDischarge': '6.99', 'ReservoirIdentifier': '10405', 'ReservoirName': '寶山第二水庫'}, {'CatchmentAreaRainfall': '0', 'CrossFlow': '', 'DeadStorageLevel': '50', 'EffectiveCapacity': '2998.94', 'FullWaterLevel': '85', 'InflowVolume': '13.6', 'Outflow': '13.5', 'OutflowDischarge': '', 'OutflowTotal': '13.5', 'RecordTime': '2021-08-29T00:00:00', 'RegulatoryDischarge': '', 'ReservoirIdentifier': '10501', 'ReservoirName': '永和山水庫'}, {'CatchmentAreaRainfall': '0', 'CrossFlow': '', 'DeadStorageLevel': '60.4', 'EffectiveCapacity': '529.9', 'FullWaterLevel': '69.6', 'InflowVolume': '48.0088', 'Outflow': '', 'OutflowDischarge': '', 'OutflowTotal': '42.5088', 'RecordTime': '2021-08-29T00:00:00', 'RegulatoryDischarge': '', 'ReservoirIdentifier': '10503', 'ReservoirName': '大埔水庫'}, {'CatchmentAreaRainfall': '0', 'CrossFlow': '', 'DeadStorageLevel': '42.5', 'EffectiveCapacity': '1222.0466', 'FullWaterLevel': '61', 'InflowVolume': '6.085', 'Outflow': '', 'OutflowDischarge': '', 'OutflowTotal': '19.0782', 'RecordTime': '2021-08-29T00:00:00', 'RegulatoryDischarge': '', 'ReservoirIdentifier': '10601', 'ReservoirName': '明德水庫'}, {'CatchmentAreaRainfall': '0', 'CrossFlow': '', 'DeadStorageLevel': '', 'EffectiveCapacity': '', 'FullWaterLevel': '5.5', 'InflowVolume': '', 'Outflow': '', 'OutflowDischarge': '', 'OutflowTotal': '', 'RecordTime': '2021-08-29T00:00:00', 'RegulatoryDischarge': '', 'ReservoirIdentifier': '10802', 'ReservoirName': '羅東攔河堰'}, {'CatchmentAreaRainfall': '0', 'CrossFlow': '190.79', 'DeadStorageLevel': '243.2', 'EffectiveCapacity': '11446.01', 'FullWaterLevel': '300', 'InflowVolume': '261.62', 'Outflow': '75.26', 'OutflowDischarge': '', 'OutflowTotal': '266.05', 'RecordTime': '2021-08-29T00:00:00', 'RegulatoryDischarge': '190.79', 'ReservoirIdentifier': '20101', 'ReservoirName': '鯉魚潭水庫'}, {'CatchmentAreaRainfall': '0', 'CrossFlow': '66.523', 'DeadStorageLevel': '1310', 'EffectiveCapacity': '18642', 'FullWaterLevel': '1408', 'InflowVolume': '152.7', 'Outflow': '', 'OutflowDischarge': '', 'OutflowTotal': '66.523', 'RecordTime': '2021-08-29T00:00:00', 'RegulatoryDischarge': '', 'ReservoirIdentifier': '20201', 'ReservoirName': '德基水庫'}, {'CatchmentAreaRainfall': '0', 'CrossFlow': '282.8', 'DeadStorageLevel': '', 'EffectiveCapacity': '149.31', 'FullWaterLevel': '274.5', 'InflowVolume': '457.8', 'Outflow': '186.8', 'OutflowDischarge': '', 'OutflowTotal': '469.5', 'RecordTime': '2021-08-29T00:00:00', 'RegulatoryDischarge': '282.8', 'ReservoirIdentifier': '20202', 'ReservoirName': '石岡壩'}, {'CatchmentAreaRainfall': '0', 'CrossFlow': '23.33', 'DeadStorageLevel': '593', 'EffectiveCapacity': '67.03', 'FullWaterLevel': '604.5', 'InflowVolume': '', 'Outflow': '196.4', 'OutflowDischarge': '', 'OutflowTotal': '219.73', 'RecordTime': '2021-08-29T00:00:00', 'RegulatoryDischarge': '', 'ReservoirIdentifier': '20405', 'ReservoirName': '士林堰'}, {'CatchmentAreaRainfall': '0', 'CrossFlow': '', 'DeadStorageLevel': '982', 'EffectiveCapacity': '3752.88', 'FullWaterLevel': '1005', 'InflowVolume': '119.19', 'Outflow': '', 'OutflowDischarge': '', 'OutflowTotal': '130.68', 'RecordTime': '2021-08-29T00:00:00', 'RegulatoryDischarge': '', 'ReservoirIdentifier': '20501', 'ReservoirName': '霧社水庫'}, {'CatchmentAreaRainfall': '0', 'CrossFlow': '242.61', 'DeadStorageLevel': '727.27', 'EffectiveCapacity': '12806.03', 'FullWaterLevel': '748.48', 'InflowVolume': '250.3', 'Outflow': '', 'OutflowDischarge': '', 'OutflowTotal': '242.61', 'RecordTime': '2021-08-29T00:00:00', 'RegulatoryDischarge': '', 'ReservoirIdentifier': '20502', 'ReservoirName': '日月潭水庫'}, {'CatchmentAreaRainfall': '0', 'CrossFlow': '', 'DeadStorageLevel': '210.96', 'EffectiveCapacity': '631.91', 'FullWaterLevel': '214.75', 'InflowVolume': '1085.83', 'Outflow': '', 'OutflowDischarge': '', 'OutflowTotal': '204.46', 'RecordTime': '2021-08-29T00:00:00', 'RegulatoryDischarge': '128.58', 'ReservoirIdentifier': '20503', 'ReservoirName': '集集攔河堰'}, {'CatchmentAreaRainfall': '0', 'CrossFlow': '', 'DeadStorageLevel': '345', 'EffectiveCapacity': '1110', 'FullWaterLevel': '373', 'InflowVolume': '-49.18', 'Outflow': '', 'OutflowDischarge': '', 'OutflowTotal': '', 'RecordTime': '2021-08-29T00:00:00', 'RegulatoryDischarge': '', 'ReservoirIdentifier': '20508', 'ReservoirName': '明湖下池'}, {'CatchmentAreaRainfall': '0', 'CrossFlow': '16.91', 'DeadStorageLevel': '165', 'EffectiveCapacity': '5086.512', 'FullWaterLevel': '211.5', 'InflowVolume': '56.94', 'Outflow': '23.95', 'OutflowDischarge': '', 'OutflowTotal': '40.86', 'RecordTime': '2021-08-29T00:00:00', 'RegulatoryDischarge': '16.91', 'ReservoirIdentifier': '20509', 'ReservoirName': '湖山水庫'}, {'CatchmentAreaRainfall': '0.5', 'CrossFlow': '11.71', 'DeadStorageLevel': '89', 'EffectiveCapacity': '2482.25', 'FullWaterLevel': '105', 'InflowVolume': '26.48', 'Outflow': '10.21', 'OutflowDischarge': '', 'OutflowTotal': '21.92', 'RecordTime': '2021-08-29T00:00:00', 'RegulatoryDischarge': '', 'ReservoirIdentifier': '30301', 'ReservoirName': '仁義潭水庫'}, {'CatchmentAreaRainfall': '8.5', 'CrossFlow': '', 'DeadStorageLevel': '57.3', 'EffectiveCapacity': '923.97', 'FullWaterLevel': '75.38', 'InflowVolume': '11.71', 'Outflow': '10.94', 'OutflowDischarge': '', 'OutflowTotal': '10.94', 'RecordTime': '2021-08-29T00:00:00', 'RegulatoryDischarge': '', 'ReservoirIdentifier': '30302', 'ReservoirName': '蘭潭水庫'}, {'CatchmentAreaRainfall': '0', 'CrossFlow': '0', 'DeadStorageLevel': '50', 'EffectiveCapacity': '69', 'FullWaterLevel': '60', 'InflowVolume': '0.1739', 'Outflow': '0', 'OutflowDischarge': '', 'OutflowTotal': '0', 'RecordTime': '2021-08-29T07:00:00', 'RegulatoryDischarge': '0', 'ReservoirIdentifier': '30306', 'ReservoirName': '內埔子'}, {'CatchmentAreaRainfall': '0', 'CrossFlow': '0', 'DeadStorageLevel': '104.58', 'EffectiveCapacity': '1173.45', 'FullWaterLevel': '109', 'InflowVolume': '9.0435', 'Outflow': '25.246', 'OutflowDischarge': '', 'OutflowTotal': '25.246', 'RecordTime': '2021-08-29T08:00:00', 'RegulatoryDischarge': '0', 'ReservoirIdentifier': '30401', 'ReservoirName': '白河水庫'}, {'CatchmentAreaRainfall': '0', 'CrossFlow': '0', 'DeadStorageLevel': '11.2', 'EffectiveCapacity': '229.8', 'FullWaterLevel': '14.2', 'InflowVolume': '6.0058', 'Outflow': '6.912', 'OutflowDischarge': '', 'OutflowTotal': '6.912', 'RecordTime': '2021-08-29T07:00:00', 'RegulatoryDischarge': '0', 'ReservoirIdentifier': '30403', 'ReservoirName': '德元埤'}, {'CatchmentAreaRainfall': '0', 'CrossFlow': '0', 'DeadStorageLevel': '40', 'EffectiveCapacity': '7857.9', 'FullWaterLevel': '58.18', 'InflowVolume': '214.3', 'Outflow': '99.3', 'OutflowDischarge': '', 'OutflowTotal': '99.3', 'RecordTime': '2021-08-29T07:00:00', 'RegulatoryDischarge': '0', 'ReservoirIdentifier': '30501', 'ReservoirName': '烏山頭水庫'}, {'CatchmentAreaRainfall': '0.2', 'CrossFlow': '0', 'DeadStorageLevel': '171', 'EffectiveCapacity': '50956', 'FullWaterLevel': '230', 'InflowVolume': '273.2', 'Outflow': '', 'OutflowDischarge': '0', 'OutflowTotal': '311.2', 'RecordTime': '2021-08-29T00:00:00', 'RegulatoryDischarge': '0', 'ReservoirIdentifier': '30502', 'ReservoirName': '曾文水庫'}, {'CatchmentAreaRainfall': '0.3', 'CrossFlow': '3', 'DeadStorageLevel': '131', 'EffectiveCapacity': '9097.9', 'FullWaterLevel': '180', 'InflowVolume': '128.4', 'Outflow': '110.4', 'OutflowDischarge': '0', 'OutflowTotal': '113.4', 'RecordTime': '2021-08-29T00:00:00', 'RegulatoryDischarge': '0', 'ReservoirIdentifier': '30503', 'ReservoirName': '南化水庫'}, {'CatchmentAreaRainfall': '0', 'CrossFlow': '0', 'DeadStorageLevel': '130', 'EffectiveCapacity': '98.3', 'FullWaterLevel': '143', 'InflowVolume': '0.7', 'Outflow': '0.18', 'OutflowDischarge': '0', 'OutflowTotal': '0.18', 'RecordTime': '2021-08-29T00:00:00', 'RegulatoryDischarge': '0', 'ReservoirIdentifier': '30504', 'ReservoirName': '鏡面水庫'}, {'CatchmentAreaRainfall': '0', 'CrossFlow': '0.8085', 'DeadStorageLevel': '30.7', 'EffectiveCapacity': '106.1', 'FullWaterLevel': '37', 'InflowVolume': '0.8085', 'Outflow': '0', 'OutflowDischarge': '', 'OutflowTotal': '0.8085', 'RecordTime': '2021-08-29T08:00:00', 'RegulatoryDischarge': '0.8085', 'ReservoirIdentifier': '30601', 'ReservoirName': '虎頭埤'}, {'CatchmentAreaRainfall': '0', 'CrossFlow': '0.4147', 'DeadStorageLevel': '27.5', 'EffectiveCapacity': '47.1', 'FullWaterLevel': '31', 'InflowVolume': '0.0651', 'Outflow': '0', 'OutflowDischarge': '', 'OutflowTotal': '0.4147', 'RecordTime': '2021-08-29T08:00:00', 'RegulatoryDischarge': '0.4147', 'ReservoirIdentifier': '30602', 'ReservoirName': '鹽水埤'}, {'CatchmentAreaRainfall': '0', 'CrossFlow': '35.9', 'DeadStorageLevel': '15', 'EffectiveCapacity': '262.95', 'FullWaterLevel': '17.8', 'InflowVolume': '41.3', 'Outflow': '35.9', 'OutflowDischarge': '', 'OutflowTotal': '35.9', 'RecordTime': '2021-08-29T00:00:00', 'RegulatoryDischarge': '', 'ReservoirIdentifier': '30801', 'ReservoirName': '澄清湖水庫'}, {'CatchmentAreaRainfall': '0', 'CrossFlow': '', 'DeadStorageLevel': '27', 'EffectiveCapacity': '1525.893', 'FullWaterLevel': '37', 'InflowVolume': '13.18', 'Outflow': '', 'OutflowDischarge': '', 'OutflowTotal': '', 'RecordTime': '2021-08-29T00:00:00', 'RegulatoryDischarge': '', 'ReservoirIdentifier': '30802', 'ReservoirName': '阿公店水庫'}, {'CatchmentAreaRainfall': '0', 'CrossFlow': '0', 'DeadStorageLevel': '29.56', 'EffectiveCapacity': '716', 'FullWaterLevel': '50', 'InflowVolume': '23.17', 'Outflow': '28.6', 'OutflowDischarge': '', 'OutflowTotal': '28.6', 'RecordTime': '2021-08-29T00:00:00', 'RegulatoryDischarge': '', 'ReservoirIdentifier': '30803', 'ReservoirName': '鳳山水庫'}, {'CatchmentAreaRainfall': '0.36', 'CrossFlow': '1685', 'DeadStorageLevel': '', 'EffectiveCapacity': '', 'FullWaterLevel': '', 'InflowVolume': '1724.8', 'Outflow': '39.8', 'OutflowDischarge': '', 'OutflowTotal': '1724.8', 'RecordTime': '2021-08-28T00:00:00', 'RegulatoryDischarge': '', 'ReservoirIdentifier': '30901', 'ReservoirName': '高屏溪攔河堰'}, {'CatchmentAreaRainfall': '0', 'CrossFlow': '37.8936', 'DeadStorageLevel': '', 'EffectiveCapacity': '', 'FullWaterLevel': '', 'InflowVolume': '140.3136', 'Outflow': '102.42', 'OutflowDischarge': '', 'OutflowTotal': '140.3136', 'RecordTime': '2021-08-29T00:00:00', 'RegulatoryDischarge': '', 'ReservoirIdentifier': '31002', 'ReservoirName': '甲仙攔河堰'}, {'CatchmentAreaRainfall': '15.3', 'CrossFlow': '4.096', 'DeadStorageLevel': '100.2', 'EffectiveCapacity': '2651.317', 'FullWaterLevel': '142', 'InflowVolume': '19.388', 'Outflow': '8', 'OutflowDischarge': '', 'OutflowTotal': '12.096', 'RecordTime': '2021-08-29T00:00:00', 'RegulatoryDischarge': '', 'ReservoirIdentifier': '31201', 'ReservoirName': '牡丹水庫'}, {'CatchmentAreaRainfall': '0', 'CrossFlow': '0', 'DeadStorageLevel': '2', 'EffectiveCapacity': '104', 'FullWaterLevel': '9', 'InflowVolume': '0', 'Outflow': '0.384', 'OutflowDischarge': '0', 'OutflowTotal': '0.384', 'RecordTime': '2021-08-30T00:00:00', 'RegulatoryDischarge': '0', 'ReservoirIdentifier': '31301', 'ReservoirName': '成功水庫'}, {'CatchmentAreaRainfall': '0', 'CrossFlow': '0', 'DeadStorageLevel': '3', 'EffectiveCapacity': '63.7', 'FullWaterLevel': '11', 'InflowVolume': '0', 'Outflow': '0', 'OutflowDischarge': '0', 'OutflowTotal': '0', 'RecordTime': '2021-08-30T00:00:00', 'RegulatoryDischarge': '0', 'ReservoirIdentifier': '50102', 'ReservoirName': '興仁水庫'}, {'CatchmentAreaRainfall': '0', 'CrossFlow': '0', 'DeadStorageLevel': '0.5', 'EffectiveCapacity': '18.5', 'FullWaterLevel': '6.5', 'InflowVolume': '0', 'Outflow': '0', 'OutflowDischarge': '0', 'OutflowTotal': '0', 'RecordTime': '2021-08-30T00:00:00', 'RegulatoryDischarge': '0', 'ReservoirIdentifier': '50103', 'ReservoirName': '東衛水庫'}, {'CatchmentAreaRainfall': '0', 'CrossFlow': '0', 'DeadStorageLevel': '0', 'EffectiveCapacity': '25.45', 'FullWaterLevel': '3', 'InflowVolume': '0.12', 'Outflow': '0.096', 'OutflowDischarge': '0', 'OutflowTotal': '0.096', 'RecordTime': '2021-08-30T00:00:00', 'RegulatoryDischarge': '0', 'ReservoirIdentifier': '50104', 'ReservoirName': '赤崁水庫'}, {'CatchmentAreaRainfall': '0', 'CrossFlow': '0', 'DeadStorageLevel': '4', 'EffectiveCapacity': '24', 'FullWaterLevel': '12.5', 'InflowVolume': '0', 'Outflow': '0.016', 'OutflowDischarge': '0', 'OutflowTotal': '0.016', 'RecordTime': '2021-08-30T00:00:00', 'RegulatoryDischarge': '0', 'ReservoirIdentifier': '50105', 'ReservoirName': '西安水庫'}, {'CatchmentAreaRainfall': '0', 'CrossFlow': '0', 'DeadStorageLevel': '16', 'EffectiveCapacity': '22.84', 'FullWaterLevel': '24', 'InflowVolume': '0', 'Outflow': '0', 'OutflowDischarge': '0', 'OutflowTotal': '0', 'RecordTime': '2021-08-30T00:00:00', 'RegulatoryDischarge': '0', 'ReservoirIdentifier': '50106', 'ReservoirName': '七美水庫'}, {'CatchmentAreaRainfall': '0', 'CrossFlow': '0', 'DeadStorageLevel': '3', 'EffectiveCapacity': '20.57', 'FullWaterLevel': '13.4', 'InflowVolume': '0', 'Outflow': '0.057', 'OutflowDischarge': '0', 'OutflowTotal': '0.057', 'RecordTime': '2021-08-30T00:00:00', 'RegulatoryDischarge': '0', 'ReservoirIdentifier': '50108', 'ReservoirName': '小池水庫'}, {'CatchmentAreaRainfall': '0', 'CrossFlow': '0', 'DeadStorageLevel': '2', 'EffectiveCapacity': '3.54', 'FullWaterLevel': '8', 'InflowVolume': '0', 'Outflow': '0', 'OutflowDischarge': '0', 'OutflowTotal': '0', 'RecordTime': '2021-08-30T00:00:00', 'RegulatoryDischarge': '0', 'ReservoirIdentifier': '50109', 'ReservoirName': '烏溝蓄水塘'}, {'CatchmentAreaRainfall': '0', 'CrossFlow': '', 'DeadStorageLevel': '13.7', 'EffectiveCapacity': '118.7', 'FullWaterLevel': '18.35', 'InflowVolume': '0', 'Outflow': '0.4', 'OutflowDischarge': '', 'OutflowTotal': '0.4', 'RecordTime': '2021-08-29T00:00:00', 'RegulatoryDischarge': '', 'ReservoirIdentifier': '50201', 'ReservoirName': '太湖水庫'}, {'CatchmentAreaRainfall': '0', 'CrossFlow': '', 'DeadStorageLevel': '3.5', 'EffectiveCapacity': '45.5', 'FullWaterLevel': '6.3', 'InflowVolume': '0', 'Outflow': '0', 'OutflowDischarge': '', 'OutflowTotal': '0', 'RecordTime': '2021-08-29T00:00:00', 'RegulatoryDischarge': '', 'ReservoirIdentifier': '50202', 'ReservoirName': '田埔水庫'}, {'CatchmentAreaRainfall': '0', 'CrossFlow': '', 'DeadStorageLevel': '28.3', 'EffectiveCapacity': '21.5', 'FullWaterLevel': '31.93', 'InflowVolume': '0', 'Outflow': '0', 'OutflowDischarge': '', 'OutflowTotal': '0', 'RecordTime': '2021-08-29T00:00:00', 'RegulatoryDischarge': '', 'ReservoirIdentifier': '50203', 'ReservoirName': '陽明湖水庫'}, {'CatchmentAreaRainfall': '0', 'CrossFlow': '', 'DeadStorageLevel': '13.8', 'EffectiveCapacity': '13.9', 'FullWaterLevel': '18.17', 'InflowVolume': '0', 'Outflow': '0', 'OutflowDischarge': '', 'OutflowTotal': '0', 'RecordTime': '2021-08-29T00:00:00', 'RegulatoryDischarge': '', 'ReservoirIdentifier': '50204', 'ReservoirName': '山西蓄水塘'}, {'CatchmentAreaRainfall': '0', 'CrossFlow': '', 'DeadStorageLevel': '1.3', 'EffectiveCapacity': '28.6', 'FullWaterLevel': '3.65', 'InflowVolume': '0', 'Outflow': '0', 'OutflowDischarge': '', 'OutflowTotal': '0', 'RecordTime': '2021-08-29T00:00:00', 'RegulatoryDischarge': '', 'ReservoirIdentifier': '50205', 'ReservoirName': '榮湖水庫'}, {'CatchmentAreaRainfall': '0', 'CrossFlow': '', 'DeadStorageLevel': '24.7', 'EffectiveCapacity': '16.7', 'FullWaterLevel': '30.59', 'InflowVolume': '0', 'Outflow': '0', 'OutflowDischarge': '', 'OutflowTotal': '0', 'RecordTime': '2021-08-29T00:00:00', 'RegulatoryDischarge': '', 'ReservoirIdentifier': '50206', 'ReservoirName': '擎天水庫'}, {'CatchmentAreaRainfall': '0', 'CrossFlow': '', 'DeadStorageLevel': '1.1', 'EffectiveCapacity': '34.6', 'FullWaterLevel': '3.7', 'InflowVolume': '0', 'Outflow': '0.17', 'OutflowDischarge': '', 'OutflowTotal': '0.17', 'RecordTime': '2021-08-29T00:00:00', 'RegulatoryDischarge': '', 'ReservoirIdentifier': '50207', 'ReservoirName': '金沙水庫'}, {'CatchmentAreaRainfall': '0', 'CrossFlow': '', 'DeadStorageLevel': '5.3', 'EffectiveCapacity': '3.9', 'FullWaterLevel': '8.22', 'InflowVolume': '0', 'Outflow': '0', 'OutflowDischarge': '', 'OutflowTotal': '0', 'RecordTime': '2021-08-29T00:00:00', 'RegulatoryDischarge': '', 'ReservoirIdentifier': '50208', 'ReservoirName': '蓮湖水庫'}, {'CatchmentAreaRainfall': '0', 'CrossFlow': '', 'DeadStorageLevel': '9.6', 'EffectiveCapacity': '6.2', 'FullWaterLevel': '12.54', 'InflowVolume': '0', 'Outflow': '0', 'OutflowDischarge': '', 'OutflowTotal': '0', 'RecordTime': '2021-08-29T00:00:00', 'RegulatoryDischarge': '', 'ReservoirIdentifier': '50209', 'ReservoirName': '菱湖水庫'}, {'CatchmentAreaRainfall': '0', 'CrossFlow': '', 'DeadStorageLevel': '1.1', 'EffectiveCapacity': '30.6', 'FullWaterLevel': '3.08', 'InflowVolume': '0', 'Outflow': '0.13', 'OutflowDischarge': '', 'OutflowTotal': '0.13', 'RecordTime': '2021-08-29T00:00:00', 'RegulatoryDischarge': '', 'ReservoirIdentifier': '50210', 'ReservoirName': '西湖水庫'}, {'CatchmentAreaRainfall': '0', 'CrossFlow': '', 'DeadStorageLevel': '-0.4', 'EffectiveCapacity': '29.6', 'FullWaterLevel': '2.69', 'InflowVolume': '0', 'Outflow': '0', 'OutflowDischarge': '', 'OutflowTotal': '0', 'RecordTime': '2021-08-29T00:00:00', 'RegulatoryDischarge': '', 'ReservoirIdentifier': '50212', 'ReservoirName': '金湖水庫'}, {'CatchmentAreaRainfall': '0', 'CrossFlow': '', 'DeadStorageLevel': '12.9', 'EffectiveCapacity': '23.1', 'FullWaterLevel': '15.79', 'InflowVolume': '0', 'Outflow': '0', 'OutflowDischarge': '', 'OutflowTotal': '0', 'RecordTime': '2021-08-29T00:00:00', 'RegulatoryDischarge': '', 'ReservoirIdentifier': '50213', 'ReservoirName': '瓊林水庫'}, {'CatchmentAreaRainfall': '0', 'CrossFlow': '', 'DeadStorageLevel': '11.8', 'EffectiveCapacity': '22.3', 'FullWaterLevel': '17.58', 'InflowVolume': '0', 'Outflow': '0', 'OutflowDischarge': '', 'OutflowTotal': '0', 'RecordTime': '2021-08-29T00:00:00', 'RegulatoryDischarge': '', 'ReservoirIdentifier': '50214', 'ReservoirName': '蘭湖'}, {'CatchmentAreaRainfall': '0', 'CrossFlow': '', 'DeadStorageLevel': '1', 'EffectiveCapacity': '18.1842', 'FullWaterLevel': '16', 'InflowVolume': '0.0439', 'Outflow': '0', 'OutflowDischarge': '', 'OutflowTotal': '0', 'RecordTime': '2021-08-29T00:00:00', 'RegulatoryDischarge': '', 'ReservoirIdentifier': '50301', 'ReservoirName': '勝利水庫'}, {'CatchmentAreaRainfall': '0', 'CrossFlow': '', 'DeadStorageLevel': '2.1', 'EffectiveCapacity': '3.1539', 'FullWaterLevel': '12.5', 'InflowVolume': '0.0038', 'Outflow': '0', 'OutflowDischarge': '', 'OutflowTotal': '0', 'RecordTime': '2021-08-29T00:00:00', 'RegulatoryDischarge': '', 'ReservoirIdentifier': '50302', 'ReservoirName': '邱桂山水庫'}, {'CatchmentAreaRainfall': '0', 'CrossFlow': '', 'DeadStorageLevel': '2.5', 'EffectiveCapacity': '0.3845', 'FullWaterLevel': '3.9', 'InflowVolume': '0.0008', 'Outflow': '0', 'OutflowDischarge': '', 'OutflowTotal': '0', 'RecordTime': '2021-08-29T00:00:00', 'RegulatoryDischarge': '', 'ReservoirIdentifier': '50303', 'ReservoirName': '珠螺水壩'}, {'CatchmentAreaRainfall': '0', 'CrossFlow': '', 'DeadStorageLevel': '2.2', 'EffectiveCapacity': '2.32', 'FullWaterLevel': '9.1', 'InflowVolume': '0', 'Outflow': '0.021', 'OutflowDischarge': '', 'OutflowTotal': '0.021', 'RecordTime': '2021-08-29T00:00:00', 'RegulatoryDischarge': '', 'ReservoirIdentifier': '50304', 'ReservoirName': '儲水沃上壩'}, {'CatchmentAreaRainfall': '0', 'CrossFlow': '', 'DeadStorageLevel': '1.6', 'EffectiveCapacity': '4.1792', 'FullWaterLevel': '19.2', 'InflowVolume': '0', 'Outflow': '0.0046', 'OutflowDischarge': '', 'OutflowTotal': '0.0046', 'RecordTime': '2021-08-29T00:00:00', 'RegulatoryDischarge': '', 'ReservoirIdentifier': '50305', 'ReservoirName': '儲水沃水庫'}, {'CatchmentAreaRainfall': '0', 'CrossFlow': '', 'DeadStorageLevel': '2.5', 'EffectiveCapacity': '4.5806', 'FullWaterLevel': '19', 'InflowVolume': '0', 'Outflow': '0.07', 'OutflowDischarge': '', 'OutflowTotal': '0.07', 'RecordTime': '2021-08-29T00:00:00', 'RegulatoryDischarge': '', 'ReservoirIdentifier': '50306', 'ReservoirName': '津沙水庫'}, {'CatchmentAreaRainfall': '0', 'CrossFlow': '', 'DeadStorageLevel': '2.5', 'EffectiveCapacity': '1.2625', 'FullWaterLevel': '12.1', 'InflowVolume': '0', 'Outflow': '0.0192', 'OutflowDischarge': '', 'OutflowTotal': '0.0192', 'RecordTime': '2021-08-29T00:00:00', 'RegulatoryDischarge': '', 'ReservoirIdentifier': '50307', 'ReservoirName': '津沙1號壩'}, {'CatchmentAreaRainfall': '0', 'CrossFlow': '', 'DeadStorageLevel': '7', 'EffectiveCapacity': '14.1115', 'FullWaterLevel': '18.62', 'InflowVolume': '0.0484', 'Outflow': '0', 'OutflowDischarge': '', 'OutflowTotal': '0', 'RecordTime': '2021-08-29T00:00:00', 'RegulatoryDischarge': '', 'ReservoirIdentifier': '50308', 'ReservoirName': '坂里水庫'}, {'CatchmentAreaRainfall': '0', 'CrossFlow': '', 'DeadStorageLevel': '7', 'EffectiveCapacity': '8.5047', 'FullWaterLevel': '18.8', 'InflowVolume': '0', 'Outflow': '0.0199', 'OutflowDischarge': '', 'OutflowTotal': '0.0199', 'RecordTime': '2021-08-29T00:00:00', 'RegulatoryDischarge': '', 'ReservoirIdentifier': '50309', 'ReservoirName': '東湧水庫'}, {'CatchmentAreaRainfall': '0', 'CrossFlow': '', 'DeadStorageLevel': '2', 'EffectiveCapacity': '41.6251', 'FullWaterLevel': '16', 'InflowVolume': '0.278', 'Outflow': '0', 'OutflowDischarge': '', 'OutflowTotal': '0', 'RecordTime': '2021-08-29T00:00:00', 'RegulatoryDischarge': '', 'ReservoirIdentifier': '50310', 'ReservoirName': '后沃水庫'}]}\n"
          ],
          "name": "stdout"
        }
      ]
    },
    {
      "cell_type": "markdown",
      "metadata": {
        "id": "p2LUPJCsGTuM"
      },
      "source": [
        "### 分行列印"
      ]
    },
    {
      "cell_type": "code",
      "metadata": {
        "colab": {
          "base_uri": "https://localhost:8080/"
        },
        "id": "33oAoDVpGMVu",
        "outputId": "39836217-b2d6-48a2-e9f4-41252e2e3dc8"
      },
      "source": [
        "import urllib.request, json, ssl\n",
        "\n",
        "url = 'https://data.wra.gov.tw/Service/OpenData.aspx?format=json&id=50C8256D-30C5-4B8D-9B84-2E14D5C6DF71'\n",
        "context = ssl._create_unverified_context()\n",
        "with urllib.request.urlopen(url, context=context) as jsondata:\n",
        "    data = json.loads(jsondata.read().decode())\n",
        "data = data['DailyOperationalStatisticsOfReservoirs_OPENDATA']\n",
        "for d in data:\n",
        "    print(\"{}:{}\".format(d['ReservoirName'], d['EffectiveCapacity']))"
      ],
      "execution_count": 2,
      "outputs": [
        {
          "output_type": "stream",
          "text": [
            "石門水庫:20266.1\n",
            "西勢水庫:43.69\n",
            "新山水庫:1002\n",
            "翡翠水庫:33550.5\n",
            "榮華壩:\n",
            "鳶山堰:439\n",
            "桂山壩:28.28\n",
            "三峽攔河堰:\n",
            "青潭堰:74.2\n",
            "直潭壩:191.89\n",
            "羅好壩:17.56\n",
            "阿玉壩:3.87\n",
            "寶山水庫:503.5\n",
            "隆恩堰:\n",
            "寶山第二水庫:3147.18\n",
            "永和山水庫:2998.94\n",
            "大埔水庫:529.9\n",
            "明德水庫:1222.0466\n",
            "羅東攔河堰:\n",
            "鯉魚潭水庫:11446.01\n",
            "德基水庫:18642\n",
            "石岡壩:149.31\n",
            "士林堰:67.03\n",
            "霧社水庫:3752.88\n",
            "日月潭水庫:12806.03\n",
            "集集攔河堰:631.91\n",
            "明湖下池:1110\n",
            "湖山水庫:5086.512\n",
            "仁義潭水庫:2482.25\n",
            "蘭潭水庫:923.97\n",
            "內埔子:69\n",
            "白河水庫:1173.45\n",
            "德元埤:229.8\n",
            "烏山頭水庫:7857.9\n",
            "曾文水庫:50956\n",
            "南化水庫:9097.9\n",
            "鏡面水庫:98.3\n",
            "虎頭埤:106.1\n",
            "鹽水埤:47.1\n",
            "澄清湖水庫:262.95\n",
            "阿公店水庫:1525.893\n",
            "鳳山水庫:716\n",
            "高屏溪攔河堰:\n",
            "甲仙攔河堰:\n",
            "牡丹水庫:2651.317\n",
            "成功水庫:104\n",
            "興仁水庫:63.7\n",
            "東衛水庫:18.5\n",
            "赤崁水庫:25.45\n",
            "西安水庫:24\n",
            "七美水庫:22.84\n",
            "小池水庫:20.57\n",
            "烏溝蓄水塘:3.54\n",
            "太湖水庫:118.7\n",
            "田埔水庫:45.5\n",
            "陽明湖水庫:21.5\n",
            "山西蓄水塘:13.9\n",
            "榮湖水庫:28.6\n",
            "擎天水庫:16.7\n",
            "金沙水庫:34.6\n",
            "蓮湖水庫:3.9\n",
            "菱湖水庫:6.2\n",
            "西湖水庫:30.6\n",
            "金湖水庫:29.6\n",
            "瓊林水庫:23.1\n",
            "蘭湖:22.3\n",
            "勝利水庫:18.1842\n",
            "邱桂山水庫:3.1539\n",
            "珠螺水壩:0.3845\n",
            "儲水沃上壩:2.32\n",
            "儲水沃水庫:4.1792\n",
            "津沙水庫:4.5806\n",
            "津沙1號壩:1.2625\n",
            "坂里水庫:14.1115\n",
            "東湧水庫:8.5047\n",
            "后沃水庫:41.6251\n"
          ],
          "name": "stdout"
        }
      ]
    },
    {
      "cell_type": "markdown",
      "metadata": {
        "id": "OzfZGENJG9oh"
      },
      "source": [
        "### 搜尋: 旅館民宿 - 觀光資訊資料庫\n",
        "#### https://data.gov.tw/dataset/7780\n",
        "#### http://gis.taiwan.net.tw/XMLReleaseALL_public/hotel_C_f.json"
      ]
    },
    {
      "cell_type": "markdown",
      "metadata": {
        "id": "IiKFpRh2IEOg"
      },
      "source": [
        "### 搜尋: 高雄旅遊網-景點資料\n",
        "#### https://data.gov.tw/dataset/7780\n",
        "#### http://gis.taiwan.net.tw/XMLReleaseALL_public/hotel_C_f.json"
      ]
    },
    {
      "cell_type": "markdown",
      "metadata": {
        "id": "H_c0LQH7IUat"
      },
      "source": [
        "### 氣象局開放資料擷取 \n",
        "* [資料集說明](https://opendata.cwb.gov.tw/opendatadoc/DIV3/A0007-001.pdf)\n",
        "#### https://opendata.cwb.gov.tw/dataset/climate?page=1\n",
        "#### Step 1. 註冊登入 [氣象資料開放平台](https://opendata.cwb.gov.tw/index)\n",
        "#### Step 2. 選取資料集\n",
        "#### Step 3. 取得授權碼\n",
        "#### Step 4. 資料下載:\n",
        "##### https://opendata.cwb.gov.tw/fileapi/v1/opendataapi/C-A0007-001?Authorization=CWB-xxxxxxxx-xxxx-xxxx-xxxx-xxxxxxxxxxxx&downloadType=WEB&format=JSON\n"
      ]
    },
    {
      "cell_type": "code",
      "metadata": {
        "id": "zoLUnKiJGX1Q"
      },
      "source": [
        ""
      ],
      "execution_count": null,
      "outputs": []
    }
  ]
}