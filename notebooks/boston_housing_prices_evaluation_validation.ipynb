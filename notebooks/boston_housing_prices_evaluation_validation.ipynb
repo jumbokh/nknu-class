{
  "nbformat": 4,
  "nbformat_minor": 0,
  "metadata": {
    "anaconda-cloud": {},
    "language_info": {
      "name": "python",
      "version": "3.6.6",
      "mimetype": "text/x-python",
      "codemirror_mode": {
        "name": "ipython",
        "version": 3
      },
      "pygments_lexer": "ipython3",
      "nbconvert_exporter": "python",
      "file_extension": ".py"
    },
    "kernelspec": {
      "display_name": "Python 3",
      "language": "python",
      "name": "python3"
    },
    "colab": {
      "name": "boston-housing-prices-evaluation-validation.ipynb",
      "provenance": [],
      "include_colab_link": true
    }
  },
  "cells": [
    {
      "cell_type": "markdown",
      "metadata": {
        "id": "view-in-github",
        "colab_type": "text"
      },
      "source": [
        "<a href=\"https://colab.research.google.com/github/jumbokh/nknu-class/blob/main/notebooks/boston_housing_prices_evaluation_validation.ipynb\" target=\"_parent\"><img src=\"https://colab.research.google.com/assets/colab-badge.svg\" alt=\"Open In Colab\"/></a>"
      ]
    },
    {
      "cell_type": "markdown",
      "metadata": {
        "_uuid": "59acabfcefd926029c6d5fd53aebe2b5f23968b4",
        "_cell_guid": "065fe094-8a75-480f-b681-a04086750804",
        "id": "Z0xNXWWE5Xov"
      },
      "source": [
        "# Predicting Boston Housing Prices"
      ]
    },
    {
      "cell_type": "markdown",
      "metadata": {
        "_uuid": "1ca4ffdd2bdbee8d1b045f212f3ea0026b4da2a1",
        "_cell_guid": "642f3e6b-88f1-4955-a335-9a54b72d4dcb",
        "id": "L7N4wEjD5Xo0"
      },
      "source": [
        "## Getting Started\n",
        "In this project, you will evaluate the performance and predictive power of a model that has been trained and tested on data collected from homes in suburbs of Boston, Massachusetts. A model trained on this data that is seen as a *good fit* could then be used to make certain predictions about a home — in particular, its monetary value. This model would prove to be invaluable for someone like a real estate agent who could make use of such information on a daily basis.\n",
        "\n",
        "The dataset for this project originates from the [UCI Machine Learning Repository](https://archive.ics.uci.edu/ml/datasets/Housing). The Boston housing data was collected in 1978 and each of the 506 entries represent aggregated data about 14 features for homes from various suburbs in Boston, Massachusetts. For the purposes of this project, the following preprocessing steps have been made to the dataset:\n",
        "- 16 data points have an `'MEDV'` value of 50.0. These data points likely contain **missing or censored values** and have been removed.\n",
        "- 1 data point has an `'RM'` value of 8.78. This data point can be considered an **outlier** and has been removed.\n",
        "- The features `'RM'`, `'LSTAT'`, `'PTRATIO'`, and `'MEDV'` are essential. The remaining **non-relevant features** have been excluded.\n",
        "- The feature `'MEDV'` has been **multiplicatively scaled** to account for 35 years of market inflation.\n",
        "\n",
        "Run the code cell below to load the Boston housing dataset, along with a few of the necessary Python libraries required for this project. You will know the dataset loaded successfully if the size of the dataset is reported."
      ]
    },
    {
      "cell_type": "code",
      "metadata": {
        "_uuid": "cfbe27c88e5cd562ac10686d7d9568551b0e0b95",
        "_cell_guid": "786a480c-1a31-459f-81fd-a561b3e4f14e",
        "collapsed": true,
        "jupyter": {
          "outputs_hidden": true
        },
        "colab": {
          "base_uri": "https://localhost:8080/"
        },
        "id": "yPqZ6BWY5Xo3",
        "outputId": "1c73bf74-d249-481a-af3e-67909ba07494"
      },
      "source": [
        "# Import libraries necessary for this project\n",
        "import numpy as np\n",
        "import pandas as pd\n",
        "from sklearn.model_selection import ShuffleSplit\n",
        "from sklearn.model_selection import train_test_split\n",
        "from sklearn.metrics import r2_score\n",
        "from sklearn.tree import DecisionTreeRegressor\n",
        "from sklearn.metrics import scorer\n",
        "from sklearn.metrics import make_scorer\n",
        "from sklearn.model_selection import GridSearchCV\n",
        "\n",
        "import seaborn as sns\n",
        "from matplotlib import pyplot as plt\n",
        "\n",
        "# Pretty display for notebooks\n",
        "%matplotlib inline\n",
        "\n",
        "# Load the Boston housing dataset\n",
        "data = pd.read_csv('housing.csv')\n",
        "prices = data['MEDV']\n",
        "features = data.drop('MEDV', axis = 1)\n",
        "    \n",
        "# Success\n",
        "print(\"Boston housing dataset has {} data points with {} variables each.\".format(*data.shape))"
      ],
      "execution_count": 1,
      "outputs": [
        {
          "output_type": "stream",
          "name": "stdout",
          "text": [
            "Boston housing dataset has 489 data points with 4 variables each.\n"
          ]
        },
        {
          "output_type": "stream",
          "name": "stderr",
          "text": [
            "/usr/local/lib/python3.7/dist-packages/sklearn/utils/deprecation.py:144: FutureWarning: The sklearn.metrics.scorer module is  deprecated in version 0.22 and will be removed in version 0.24. The corresponding classes / functions should instead be imported from sklearn.metrics. Anything that cannot be imported from sklearn.metrics is now part of the private API.\n",
            "  warnings.warn(message, FutureWarning)\n"
          ]
        }
      ]
    },
    {
      "cell_type": "code",
      "metadata": {
        "_uuid": "ca2b7e8cc394aa47a15f08c317288e67d48fb1e6",
        "_cell_guid": "f0b95a7b-5573-43d8-9851-c40581bd6265",
        "collapsed": true,
        "jupyter": {
          "outputs_hidden": true
        },
        "colab": {
          "base_uri": "https://localhost:8080/"
        },
        "id": "xEV2SBDX5Xo5",
        "outputId": "2c169eca-ca37-4eb6-8702-cfe4001cd8c8"
      },
      "source": [
        "# Check for data types and Null values\n",
        "data.info()"
      ],
      "execution_count": 2,
      "outputs": [
        {
          "output_type": "stream",
          "name": "stdout",
          "text": [
            "<class 'pandas.core.frame.DataFrame'>\n",
            "RangeIndex: 489 entries, 0 to 488\n",
            "Data columns (total 4 columns):\n",
            " #   Column   Non-Null Count  Dtype  \n",
            "---  ------   --------------  -----  \n",
            " 0   RM       489 non-null    float64\n",
            " 1   LSTAT    489 non-null    float64\n",
            " 2   PTRATIO  489 non-null    float64\n",
            " 3   MEDV     489 non-null    float64\n",
            "dtypes: float64(4)\n",
            "memory usage: 15.4 KB\n"
          ]
        }
      ]
    },
    {
      "cell_type": "code",
      "metadata": {
        "_uuid": "8d5e1d2b19da8a9c0e76ef53cc8114677d4f55bd",
        "_cell_guid": "796d61c8-82fb-4d3b-ac61-46cac73dbc5c",
        "collapsed": true,
        "jupyter": {
          "outputs_hidden": true
        },
        "colab": {
          "base_uri": "https://localhost:8080/",
          "height": 297
        },
        "id": "T3WNOPTb5Xo6",
        "outputId": "e164832a-d2db-4d83-b629-4529897a5889"
      },
      "source": [
        "data.describe()"
      ],
      "execution_count": 3,
      "outputs": [
        {
          "output_type": "execute_result",
          "data": {
            "text/html": [
              "<div>\n",
              "<style scoped>\n",
              "    .dataframe tbody tr th:only-of-type {\n",
              "        vertical-align: middle;\n",
              "    }\n",
              "\n",
              "    .dataframe tbody tr th {\n",
              "        vertical-align: top;\n",
              "    }\n",
              "\n",
              "    .dataframe thead th {\n",
              "        text-align: right;\n",
              "    }\n",
              "</style>\n",
              "<table border=\"1\" class=\"dataframe\">\n",
              "  <thead>\n",
              "    <tr style=\"text-align: right;\">\n",
              "      <th></th>\n",
              "      <th>RM</th>\n",
              "      <th>LSTAT</th>\n",
              "      <th>PTRATIO</th>\n",
              "      <th>MEDV</th>\n",
              "    </tr>\n",
              "  </thead>\n",
              "  <tbody>\n",
              "    <tr>\n",
              "      <th>count</th>\n",
              "      <td>489.000000</td>\n",
              "      <td>489.000000</td>\n",
              "      <td>489.000000</td>\n",
              "      <td>4.890000e+02</td>\n",
              "    </tr>\n",
              "    <tr>\n",
              "      <th>mean</th>\n",
              "      <td>6.240288</td>\n",
              "      <td>12.939632</td>\n",
              "      <td>18.516564</td>\n",
              "      <td>4.543429e+05</td>\n",
              "    </tr>\n",
              "    <tr>\n",
              "      <th>std</th>\n",
              "      <td>0.643650</td>\n",
              "      <td>7.081990</td>\n",
              "      <td>2.111268</td>\n",
              "      <td>1.653403e+05</td>\n",
              "    </tr>\n",
              "    <tr>\n",
              "      <th>min</th>\n",
              "      <td>3.561000</td>\n",
              "      <td>1.980000</td>\n",
              "      <td>12.600000</td>\n",
              "      <td>1.050000e+05</td>\n",
              "    </tr>\n",
              "    <tr>\n",
              "      <th>25%</th>\n",
              "      <td>5.880000</td>\n",
              "      <td>7.370000</td>\n",
              "      <td>17.400000</td>\n",
              "      <td>3.507000e+05</td>\n",
              "    </tr>\n",
              "    <tr>\n",
              "      <th>50%</th>\n",
              "      <td>6.185000</td>\n",
              "      <td>11.690000</td>\n",
              "      <td>19.100000</td>\n",
              "      <td>4.389000e+05</td>\n",
              "    </tr>\n",
              "    <tr>\n",
              "      <th>75%</th>\n",
              "      <td>6.575000</td>\n",
              "      <td>17.120000</td>\n",
              "      <td>20.200000</td>\n",
              "      <td>5.187000e+05</td>\n",
              "    </tr>\n",
              "    <tr>\n",
              "      <th>max</th>\n",
              "      <td>8.398000</td>\n",
              "      <td>37.970000</td>\n",
              "      <td>22.000000</td>\n",
              "      <td>1.024800e+06</td>\n",
              "    </tr>\n",
              "  </tbody>\n",
              "</table>\n",
              "</div>"
            ],
            "text/plain": [
              "               RM       LSTAT     PTRATIO          MEDV\n",
              "count  489.000000  489.000000  489.000000  4.890000e+02\n",
              "mean     6.240288   12.939632   18.516564  4.543429e+05\n",
              "std      0.643650    7.081990    2.111268  1.653403e+05\n",
              "min      3.561000    1.980000   12.600000  1.050000e+05\n",
              "25%      5.880000    7.370000   17.400000  3.507000e+05\n",
              "50%      6.185000   11.690000   19.100000  4.389000e+05\n",
              "75%      6.575000   17.120000   20.200000  5.187000e+05\n",
              "max      8.398000   37.970000   22.000000  1.024800e+06"
            ]
          },
          "metadata": {},
          "execution_count": 3
        }
      ]
    },
    {
      "cell_type": "markdown",
      "metadata": {
        "_uuid": "46238b753aaf948b88871c3d1d774a2f0d840f07",
        "_cell_guid": "fa4cb167-0b3c-400c-8b9e-21bd7dc54209",
        "id": "Wk_Xu3vn5Xo7"
      },
      "source": [
        "## Visualization Code"
      ]
    },
    {
      "cell_type": "code",
      "metadata": {
        "_uuid": "6f70d1a27e2b02305ea40df767050c8065c8be88",
        "_cell_guid": "d5459cac-daeb-48d3-b811-7eaa27142451",
        "collapsed": true,
        "jupyter": {
          "outputs_hidden": true
        },
        "id": "AWn9FQGS5Xo8"
      },
      "source": [
        "###########################################\n",
        "# Suppress matplotlib user warnings\n",
        "# Necessary for newer version of matplotlib\n",
        "import warnings\n",
        "warnings.filterwarnings(\"ignore\", category = UserWarning, module = \"matplotlib\")\n",
        "#\n",
        "# Display inline matplotlib plots with IPython\n",
        "from IPython import get_ipython\n",
        "get_ipython().run_line_magic('matplotlib', 'inline')\n",
        "###########################################\n",
        "\n",
        "import matplotlib.pyplot as pl\n",
        "import numpy as np\n",
        "from sklearn.model_selection import learning_curve\n",
        "from sklearn.model_selection import validation_curve\n",
        "from sklearn.tree import DecisionTreeRegressor\n",
        "from sklearn.model_selection import ShuffleSplit, train_test_split\n",
        "\n",
        "def ModelLearning(X, y):\n",
        "    \"\"\" Calculates the performance of several models with varying sizes of training data.\n",
        "        The learning and testing scores for each model are then plotted. \"\"\"\n",
        "    \n",
        "    # Create 10 cross-validation sets for training and testing\n",
        "    cv = ShuffleSplit(n_splits = 10, test_size = 0.2, random_state = 0)\n",
        "    cv.get_n_splits(X)\n",
        "\n",
        "    # Generate the training set sizes increasing by 50\n",
        "    train_sizes = np.rint(np.linspace(1, X.shape[0]*0.8 - 1, 9)).astype(int)\n",
        "\n",
        "    # Create the figure window\n",
        "    fig = pl.figure(figsize=(10,7))\n",
        "\n",
        "    # Create three different models based on max_depth\n",
        "    for k, depth in enumerate([1,3,6,10]):\n",
        "        \n",
        "        # Create a Decision tree regressor at max_depth = depth\n",
        "        regressor = DecisionTreeRegressor(max_depth = depth)\n",
        "\n",
        "        # Calculate the training and testing scores\n",
        "        sizes, train_scores, test_scores = learning_curve(regressor, X, y, \\\n",
        "            cv = cv, train_sizes = train_sizes, scoring = 'r2')\n",
        "        \n",
        "        # Find the mean and standard deviation for smoothing\n",
        "        train_std = np.std(train_scores, axis = 1)\n",
        "        train_mean = np.mean(train_scores, axis = 1)\n",
        "        test_std = np.std(test_scores, axis = 1)\n",
        "        test_mean = np.mean(test_scores, axis = 1)\n",
        "\n",
        "        # Subplot the learning curve \n",
        "        ax = fig.add_subplot(2, 2, k+1)\n",
        "        ax.plot(sizes, train_mean, 'o-', color = 'r', label = 'Training Score')\n",
        "        ax.plot(sizes, test_mean, 'o-', color = 'g', label = 'Testing Score')\n",
        "        ax.fill_between(sizes, train_mean - train_std, \\\n",
        "            train_mean + train_std, alpha = 0.15, color = 'r')\n",
        "        ax.fill_between(sizes, test_mean - test_std, \\\n",
        "            test_mean + test_std, alpha = 0.15, color = 'g')\n",
        "        \n",
        "        # Labels\n",
        "        ax.set_title('max_depth = %s'%(depth))\n",
        "        ax.set_xlabel('Number of Training Points')\n",
        "        ax.set_ylabel('Score')\n",
        "        ax.set_xlim([0, X.shape[0]*0.8])\n",
        "        ax.set_ylim([-0.05, 1.05])\n",
        "    \n",
        "    # Visual aesthetics\n",
        "    ax.legend(bbox_to_anchor=(1.05, 2.05), loc='lower left', borderaxespad = 0.)\n",
        "    fig.suptitle('Decision Tree Regressor Learning Performances', fontsize = 16, y = 1.03)\n",
        "    fig.tight_layout()\n",
        "    fig.show()\n",
        "\n",
        "\n",
        "def ModelComplexity(X, y):\n",
        "    \"\"\" Calculates the performance of the model as model complexity increases.\n",
        "        The learning and testing errors rates are then plotted. \"\"\"\n",
        "    \n",
        "    # Create 10 cross-validation sets for training and testing\n",
        "    cv = ShuffleSplit(n_splits = 10, test_size = 0.2, random_state = 0)\n",
        "    cv.get_n_splits(X)\n",
        "\n",
        "    # Vary the max_depth parameter from 1 to 10\n",
        "    max_depth = np.arange(1,11)\n",
        "\n",
        "    # Calculate the training and testing scores\n",
        "    train_scores, test_scores = validation_curve(DecisionTreeRegressor(), X, y, \\\n",
        "        param_name = \"max_depth\", param_range = max_depth, cv = cv, scoring = 'r2')\n",
        "\n",
        "    # Find the mean and standard deviation for smoothing\n",
        "    train_mean = np.mean(train_scores, axis=1)\n",
        "    train_std = np.std(train_scores, axis=1)\n",
        "    test_mean = np.mean(test_scores, axis=1)\n",
        "    test_std = np.std(test_scores, axis=1)\n",
        "\n",
        "    # Plot the validation curve\n",
        "    pl.figure(figsize=(7, 5))\n",
        "    pl.title('Decision Tree Regressor Complexity Performance')\n",
        "    pl.plot(max_depth, train_mean, 'o-', color = 'r', label = 'Training Score')\n",
        "    pl.plot(max_depth, test_mean, 'o-', color = 'g', label = 'Validation Score')\n",
        "    pl.fill_between(max_depth, train_mean - train_std, \\\n",
        "        train_mean + train_std, alpha = 0.15, color = 'r')\n",
        "    pl.fill_between(max_depth, test_mean - test_std, \\\n",
        "        test_mean + test_std, alpha = 0.15, color = 'g')\n",
        "    \n",
        "    # Visual aesthetics\n",
        "    pl.legend(loc = 'lower right')\n",
        "    pl.xlabel('Maximum Depth')\n",
        "    pl.ylabel('Score')\n",
        "    pl.ylim([-0.05,1.05])\n",
        "    pl.show()\n",
        "\n",
        "\n",
        "def PredictTrials(X, y, fitter, data):\n",
        "    \"\"\" Performs trials of fitting and predicting data. \"\"\"\n",
        "\n",
        "    # Store the predicted prices\n",
        "    prices = []\n",
        "\n",
        "    for k in range(10):\n",
        "        # Split the data\n",
        "        X_train, X_test, y_train, y_test = train_test_split(X, y, \\\n",
        "            test_size = 0.2, random_state = k)\n",
        "        \n",
        "        # Fit the data\n",
        "        reg = fitter(X_train, y_train)\n",
        "        \n",
        "        # Make a prediction\n",
        "        pred = reg.predict([data[0]])[0]\n",
        "        prices.append(pred)\n",
        "        \n",
        "        # Result\n",
        "        print(\"Trial {}: ${:,.2f}\".format(k+1, pred))\n",
        "\n",
        "    # Display price range\n",
        "    print(\"\\nRange in prices: ${:,.2f}\".format(max(prices) - min(prices)))"
      ],
      "execution_count": 4,
      "outputs": []
    },
    {
      "cell_type": "markdown",
      "metadata": {
        "_uuid": "3f954b2129cf0e921f4ac7e8c7f38431d872abbf",
        "_cell_guid": "674522e5-3598-4a87-8b72-15d0d14a90f4",
        "id": "JxCR1x7i5Xo_"
      },
      "source": [
        "## Data Exploration\n",
        "In this first section of this project, you will make a cursory investigation about the Boston housing data and provide your observations. Familiarizing yourself with the data through an explorative process is a fundamental practice to help you better understand and justify your results.\n",
        "\n",
        "Since the main goal of this project is to construct a working model which has the capability of predicting the value of houses, we will need to separate the dataset into **features (Independent Variables)** and the **target variable (Dependent Varaibale)**. The **features**, `'RM'`, `'LSTAT'`, and `'PTRATIO'`, give us quantitative information about each data point. The **target variable**, `'MEDV'`, will be the variable we seek to predict. These are stored in `features` and `prices`, respectively."
      ]
    },
    {
      "cell_type": "markdown",
      "metadata": {
        "_uuid": "54aa279180b8b1a16a9a4169961b0048f2e18c60",
        "_cell_guid": "f5fd158b-38a2-4b56-b68f-550b12155165",
        "id": "LKZINrfH5XpB"
      },
      "source": [
        "### Implementation: Calculate Statistics\n",
        "For your very first coding implementation, you will calculate descriptive statistics about the Boston housing prices. Since `numpy` has already been imported for you, use this library to perform the necessary calculations. These statistics will be extremely important later on to analyze various prediction results from the constructed model.\n",
        "\n",
        "In the code cell below, you will need to implement the following:\n",
        "- Calculate the minimum, maximum, mean, median, and standard deviation of `'MEDV'`, which is stored in `prices`.\n",
        "  - Store each calculation in their respective variable."
      ]
    },
    {
      "cell_type": "code",
      "metadata": {
        "_uuid": "46dacee7bbb7983aa0c41459ef34487a7f9096c0",
        "_cell_guid": "6abfd31b-69b7-4a8c-bd63-3842636c3208",
        "collapsed": true,
        "jupyter": {
          "outputs_hidden": true
        },
        "colab": {
          "base_uri": "https://localhost:8080/"
        },
        "id": "BL33lKSq5XpC",
        "outputId": "f5e9b5d9-eec3-4dd4-c17a-9d7962c83fbe"
      },
      "source": [
        "# Minimum price of the data\n",
        "minimum_price = np.min(prices)\n",
        "\n",
        "# Maximum price of the data\n",
        "maximum_price = np.max(prices)\n",
        "\n",
        "# Mean price of the data\n",
        "mean_price = np.mean(prices)\n",
        "\n",
        "# Median price of the data\n",
        "median_price = np.median(prices)\n",
        "\n",
        "# Standard deviation of prices of the data\n",
        "std_price = np.std(prices)\n",
        "\n",
        "# Show the calculated statistics\n",
        "print(\"Statistics for Boston housing dataset:\\n\")\n",
        "print(\"Minimum price: ${:,.2f}\".format(minimum_price))\n",
        "print(\"Maximum price: ${:,.2f}\".format(maximum_price))\n",
        "print(\"Mean price: ${:,.2f}\".format(mean_price))\n",
        "print(\"Median price ${:,.2f}\".format(median_price))\n",
        "print(\"Standard deviation of prices: ${:,.2f}\".format(std_price))"
      ],
      "execution_count": 5,
      "outputs": [
        {
          "output_type": "stream",
          "name": "stdout",
          "text": [
            "Statistics for Boston housing dataset:\n",
            "\n",
            "Minimum price: $105,000.00\n",
            "Maximum price: $1,024,800.00\n",
            "Mean price: $454,342.94\n",
            "Median price $438,900.00\n",
            "Standard deviation of prices: $165,171.13\n"
          ]
        }
      ]
    },
    {
      "cell_type": "code",
      "metadata": {
        "_uuid": "c1acad2155c40258910cf6c0d0fad121e9136706",
        "_cell_guid": "79e7f520-8293-4f19-bf5a-ab74ea566310",
        "collapsed": true,
        "jupyter": {
          "outputs_hidden": true
        },
        "colab": {
          "base_uri": "https://localhost:8080/"
        },
        "id": "aX_xJq1P5XpD",
        "outputId": "bdb6691b-65c8-44d0-a4e3-5301fd7cc81b"
      },
      "source": [
        "with pd.option_context('float_format', '{:.2f}'.format):\n",
        "    print(prices.describe())"
      ],
      "execution_count": 6,
      "outputs": [
        {
          "output_type": "stream",
          "name": "stdout",
          "text": [
            "count       489.00\n",
            "mean     454342.94\n",
            "std      165340.28\n",
            "min      105000.00\n",
            "25%      350700.00\n",
            "50%      438900.00\n",
            "75%      518700.00\n",
            "max     1024800.00\n",
            "Name: MEDV, dtype: float64\n"
          ]
        }
      ]
    },
    {
      "cell_type": "markdown",
      "metadata": {
        "_uuid": "fccb2c5d2411873c5dda5ad4d55f593a861ebc66",
        "_cell_guid": "74d26953-6a2a-449c-8127-4213376e61ac",
        "id": "f02xgmRA5XpD"
      },
      "source": [
        "### Question 1 - Feature Observation\n",
        "As a reminder, we are using three features from the Boston housing dataset: `'RM'`, `'LSTAT'`, and `'PTRATIO'`. For each data point (neighborhood):\n",
        "- `'RM'` is the average number of rooms among homes in the neighborhood.\n",
        "- `'LSTAT'` is the percentage of homeowners in the neighborhood considered \"lower class\" (working poor).\n",
        "- `'PTRATIO'` is the ratio of students to teachers in primary and secondary schools in the neighborhood.\n",
        "\n",
        "\n",
        "** Using your intuition, for each of the three features above, do you think that an increase in the value of that feature would lead to an **increase** in the value of `'MEDV'` or a **decrease** in the value of `'MEDV'`? Justify your answer for each.**\n",
        "\n",
        "**Hint:** This problem can phrased using examples like below.  \n",
        "* Would you expect a home that has an `'RM'` value(number of rooms) of 6 be worth more or less than a home that has an `'RM'` value of 7?\n",
        "* Would you expect a neighborhood that has an `'LSTAT'` value(percent of lower class workers) of 15 have home prices be worth more or less than a neighborhood that has an `'LSTAT'` value of 20?\n",
        "* Would you expect a neighborhood that has an `'PTRATIO'` value(ratio of students to teachers) of 10 have home prices be worth more or less than a neighborhood that has an `'PTRATIO'` value of 15?"
      ]
    },
    {
      "cell_type": "markdown",
      "metadata": {
        "_uuid": "9955d56353be3d98de1a3afe8bad7cc9b322fb08",
        "_cell_guid": "65f08418-b60f-45fb-b9a2-40bcc91c5da7",
        "id": "tuYk2q3g5XpE"
      },
      "source": [
        "**Answer: **\n",
        "\n",
        "1. _Would you expect a home that has an `'RM'` value(number of rooms) of 6 be worth more or less than a home that has an `'RM'` value of 7?_ - As the number of rooms increases, in most of the cases, the Floor Area increases which in-turn increases the price of the house. So, a house that has an `'RM'` value(number of rooms) of 6 will have a lesser worth than a home that has an `'RM'` value of 7. (`'RM` vs `'Price'` is a Positive Correlation)\n",
        "2. _Would you expect a neighborhood that has an `'LSTAT'` value(percent of lower class workers) of 15 have home prices be worth more or less than a neighborhood that has an `'LSTAT'` value of 20?_ - Usually, high-class socities tend to have a higher home prices. So, as the percent of lower class workers decreases, the price of the house will increase. In this case, a neighborhood that has an `'LSTAT'` value(percent of lower class workers) of 15 have home prices worth more than a neighborhood that has an `'LSTAT'` value of 20. (`'LSTAT'` vs `'Price'` is a Negative Correlation)\n",
        "3. _Would you expect a neighborhood that has an `'PTRATIO'` value(ratio of students to teachers) of 10 have home prices be worth more or less than a neighborhood that has an `'PTRATIO'` value of 15?_ - Usually, the ratio of teachers to students will be less in good schools and these good schools are mostly located in high class neighbours which have houses of high price. So, in our case a neighborhood that has an `'PTRATIO'` value(ratio of students to teachers) of 10 have home prices be worth more than a neighborhood that has an `'PTRATIO'` value of 15. (`'PTRATIO'` vs `'Price'` is a Negative Correlation)"
      ]
    },
    {
      "cell_type": "code",
      "metadata": {
        "_uuid": "0dfa1a876dea4dff732c6e7f5317477fba7e1935",
        "_cell_guid": "f4b6e4eb-32a6-4e02-89aa-808762e9367e",
        "collapsed": true,
        "jupyter": {
          "outputs_hidden": true
        },
        "colab": {
          "base_uri": "https://localhost:8080/",
          "height": 290
        },
        "id": "gD1d3dey5XpE",
        "outputId": "ad1a8bc3-437c-432f-d2fb-341d1116d95a"
      },
      "source": [
        "fig, axs = plt.subplots(ncols=3, figsize=(18,4))\n",
        "\n",
        "for i in range(len(axs)):\n",
        "    axs[i].set_ylim([0, 1200000])\n",
        "# RM vs Price\n",
        "_ = sns.regplot(x=features['RM'], y=prices, ax=axs[0])\n",
        "# LSSAT vs Price\n",
        "_ = sns.regplot(x=features['LSTAT'], y=prices, ax=axs[1])\n",
        "# PTRATIO vs Price\n",
        "_ = sns.regplot(x=features['PTRATIO'], y=prices, ax=axs[2])\n",
        "\n",
        "plt.show()"
      ],
      "execution_count": 7,
      "outputs": [
        {
          "output_type": "display_data",
          "data": {
            "image/png": "[encoded data removed]",
            "text/plain": [
              "<Figure size 1296x288 with 3 Axes>"
            ]
          },
          "metadata": {
            "needs_background": "light"
          }
        }
      ]
    },
    {
      "cell_type": "markdown",
      "metadata": {
        "_uuid": "76500efd3690a261f72583aa45ab372ba6fb32ef",
        "_cell_guid": "7c601caf-a8b8-4395-bcf6-f53b07457629",
        "id": "9fuWoL7I5XpF"
      },
      "source": [
        "----\n",
        "\n",
        "## Developing a Model\n",
        "\n",
        "In this second section of the project, we will develop the tools and techniques necessary for a model to make a prediction. Being able to make accurate evaluations of each model's performance through the use of these tools and techniques helps to greatly reinforce the confidence in your predictions."
      ]
    },
    {
      "cell_type": "markdown",
      "metadata": {
        "_uuid": "20660467cc1a8de3e71cedef09106860062c9a2f",
        "_cell_guid": "b5b406c5-40bd-4d2e-990e-597694cee81a",
        "id": "YdurPcIj5XpF"
      },
      "source": [
        "### Implementation: Define a Performance Metric\n",
        "It is difficult to measure the quality of a given model without quantifying its performance over training and testing. This is typically done using some type of performance metric, whether it is through calculating some type of error, the goodness of fit, or some other useful measurement. For this project, you will be calculating the [*coefficient of determination*](http://stattrek.com/statistics/dictionary.aspx?definition=coefficient_of_determination), R<sup>2</sup>, to quantify your model's performance. The coefficient of determination for a model is a useful statistic in regression analysis, as it often describes how \"good\" that model is at making predictions. \n",
        "\n",
        "The values for R<sup>2</sup> range from 0 to 1, which captures the percentage of squared correlation between the predicted and actual values of the **target variable**. A model with an R<sup>2</sup> of 0 is no better than a model that always predicts the *mean* of the target variable, whereas a model with an R<sup>2</sup> of 1 perfectly predicts the target variable. Any value between 0 and 1 indicates what percentage of the target variable, using this model, can be explained by the **features**. _A model can be given a negative R<sup>2</sup> as well, which indicates that the model is **arbitrarily worse** than one that always predicts the mean of the target variable._\n",
        "\n",
        "For the `performance_metric` function in the code cell below, you will need to implement the following:\n",
        "- Use `r2_score` from `sklearn.metrics` to perform a performance calculation between `y_true` and `y_predict`.\n",
        "- Assign the performance score to the `score` variable."
      ]
    },
    {
      "cell_type": "code",
      "metadata": {
        "_uuid": "945db06320d25b461e10f11cd89d1c7a72489269",
        "_cell_guid": "69531a94-3780-4997-bb02-c5e3ba7d9796",
        "collapsed": true,
        "jupyter": {
          "outputs_hidden": true
        },
        "id": "nrWBsK-H5XpF"
      },
      "source": [
        "def performance_metric(y_true, y_predict):\n",
        "    \"\"\" Calculates and returns the performance score between \n",
        "        true and predicted values based on the metric chosen. \"\"\"\n",
        "    \n",
        "    # Calculate the performance score between 'y_true' and 'y_predict'\n",
        "    score = r2_score(y_true, y_predict)\n",
        "    \n",
        "    # Return the score\n",
        "    return score"
      ],
      "execution_count": 8,
      "outputs": []
    },
    {
      "cell_type": "markdown",
      "metadata": {
        "_uuid": "a8e26adc0f7270e5f98463166192a73051d3a29b",
        "_cell_guid": "4aa0f331-4b69-450f-bb51-2cd43c186d14",
        "id": "e7qKzUkO5XpG"
      },
      "source": [
        "### Question 2 - Goodness of Fit\n",
        "Assume that a dataset contains five data points and a model made the following predictions for the target variable:\n",
        "\n",
        "| True Value | Prediction |\n",
        "| :-------------: | :--------: |\n",
        "| 3.0 | 2.5 |\n",
        "| -0.5 | 0.0 |\n",
        "| 2.0 | 2.1 |\n",
        "| 7.0 | 7.8 |\n",
        "| 4.2 | 5.3 |\n",
        "\n",
        "Run the code cell below to use the `performance_metric` function and calculate this model's coefficient of determination."
      ]
    },
    {
      "cell_type": "code",
      "metadata": {
        "_uuid": "72a1c382cd7e887c916484e3de303fdb5eb07b8d",
        "_cell_guid": "5b1be649-173a-4509-886b-5f60cd664689",
        "collapsed": true,
        "jupyter": {
          "outputs_hidden": true
        },
        "colab": {
          "base_uri": "https://localhost:8080/"
        },
        "id": "uKiap_Tn5XpG",
        "outputId": "4b53af22-2690-465a-e914-053efca00b58"
      },
      "source": [
        "# Calculate the performance of this model\n",
        "score = performance_metric([3, -0.5, 2, 7, 4.2], [2.5, 0.0, 2.1, 7.8, 5.3])\n",
        "print(\"Model has a coefficient of determination, R^2, of {:.3f}.\".format(score))"
      ],
      "execution_count": 9,
      "outputs": [
        {
          "output_type": "stream",
          "name": "stdout",
          "text": [
            "Model has a coefficient of determination, R^2, of 0.923.\n"
          ]
        }
      ]
    },
    {
      "cell_type": "markdown",
      "metadata": {
        "_uuid": "40f07b082d55c2b731795374ecd484f12a3c23eb",
        "_cell_guid": "b83014b3-aad1-405e-a9ad-f4d1d87a651f",
        "id": "NeRXtzds5XpG"
      },
      "source": [
        "* Would you consider this model to have successfully captured the variation of the target variable? \n",
        "* Why or why not?\n",
        "\n",
        "** Hint: **  The R2 score is the proportion of the variance in the dependent variable that is predictable from the independent variable. In other words:\n",
        "* R2 score of 0 means that the dependent variable cannot be predicted from the independent variable.\n",
        "* R2 score of 1 means the dependent variable can be predicted from the independent variable.\n",
        "* R2 score between 0 and 1 indicates the extent to which the dependent variable is predictable. An \n",
        "* R2 score of 0.40 means that 40 percent of the variance in Y is predictable from X."
      ]
    },
    {
      "cell_type": "markdown",
      "metadata": {
        "_uuid": "5b597db5b33dc93907c2cc4425f0271c10e6afd0",
        "_cell_guid": "1d98f804-bc83-4762-a605-8a6e2141e0e4",
        "id": "F-ftuUUQ5XpH"
      },
      "source": [
        "**Answer:**\n",
        "\n",
        "1. _Would you consider this model to have successfully captured the variation of the target variable?_ - From obervation of the data, we can see that the 'Predicted Values' are close to 'True Values'. Also from the R<sup>2</sup> value of 0.923 we can say that the model has captured the variation of the target variable in a pretty good way.\n",
        "2. _Why or why not?_ - From the R<sup>2</sup> value of 0.923, we can say that the model captured almost 92% of the variance in the data. As the R<sup>2</sup> value is pretty close to 1, we can say that the model has captured the target variable prefectly."
      ]
    },
    {
      "cell_type": "markdown",
      "metadata": {
        "_uuid": "4d160cae194bad50dd96886bef7871a43300f160",
        "_cell_guid": "1638d592-e562-4a4c-8bf4-5cc5cac940dd",
        "id": "WTjFq5xY5XpH"
      },
      "source": [
        "### Implementation: Shuffle and Split Data\n",
        "Your next implementation requires that you take the Boston housing dataset and split the data into training and testing subsets. Typically, the data is also shuffled into a random order when creating the training and testing subsets to remove any bias in the ordering of the dataset.\n",
        "\n",
        "For the code cell below, you will need to implement the following:\n",
        "- Use `train_test_split` from `sklearn.model_selection` to shuffle and split the `features` and `prices` data into training and testing sets.\n",
        "  - Split the data into 80% training and 20% testing.\n",
        "  - Set the `random_state` for `train_test_split` to a value of your choice. This ensures results are consistent.\n",
        "- Assign the train and testing splits to `X_train`, `X_test`, `y_train`, and `y_test`."
      ]
    },
    {
      "cell_type": "code",
      "metadata": {
        "_uuid": "61085a36dd1d0f4db9ee422221d6b3c7bbc343d8",
        "_cell_guid": "ba1f8289-8157-4278-b7a4-7aede829ddd6",
        "collapsed": true,
        "jupyter": {
          "outputs_hidden": true
        },
        "colab": {
          "base_uri": "https://localhost:8080/"
        },
        "id": "3VpA-9tW5XpH",
        "outputId": "52599343-dfdb-4b10-e51c-65ef985c8a6e"
      },
      "source": [
        "# Shuffle and split the data into training and testing subsets\n",
        "X_train, X_test, y_train, y_test = train_test_split(features, prices, test_size=0.2, random_state=0)\n",
        "\n",
        "# Success\n",
        "print(\"Training and testing split was successful.\")"
      ],
      "execution_count": 10,
      "outputs": [
        {
          "output_type": "stream",
          "name": "stdout",
          "text": [
            "Training and testing split was successful.\n"
          ]
        }
      ]
    },
    {
      "cell_type": "markdown",
      "metadata": {
        "_uuid": "70382e3f04ffd4f978fc760905affd452650f3de",
        "_cell_guid": "7c648689-c897-4573-8d19-77fb02d4ed70",
        "id": "pCzVcD2t5XpI"
      },
      "source": [
        "### Question 3 - Training and Testing\n",
        "\n",
        "* What is the benefit to splitting a dataset into some ratio of training and testing subsets for a learning algorithm?\n",
        "\n",
        "**Hint:** Think about how overfitting or underfitting is contingent upon how splits on data is done."
      ]
    },
    {
      "cell_type": "markdown",
      "metadata": {
        "_uuid": "59d2d2cf5af639e6973e7a520e20bec0b0d687b0",
        "_cell_guid": "b65189c6-82ad-488e-9816-869a05ca7aea",
        "id": "B9tRhOKj5XpI"
      },
      "source": [
        "**Answer: **\n",
        "\n",
        "In this particular problem we do not have any testing data. Once we build a model based on the data that we have, we cannot tell how good the model is and how well it can predict the values for future data. The whole reason we are building a model is to generalize the data and get an answer for the future data.\n",
        "\n",
        "But when we are building a model, there could be a chance of 'overfitting' or 'underfitting' the data instead of build a generalize model.\n",
        "\n",
        "'**Overfitting**' - We are trying to learn a lot of information from each and every data point instead of getting a generalized view of the data and this may not be reflected in the future data. So, we should never try to build a model that overfits the training data. A very complex algorithm may produce an overfitted model.\n",
        "\n",
        "'**Underfitting**' - We are trying to get very little information from each and every data point instead of getting a generalized view of the data and this may not be reflected in the future data. So, we should never try to build a model that underfits the training data. A very simple algorithm may produce an underfitted model.\n",
        "\n",
        "So, to avoid the problem of 'Underfitting' or 'Overfitting' we should test our model after building it. As we do not have any testing data we should split out training data in to two parts - 'Training Data' and 'Testing Data' to verify how well our model is built."
      ]
    },
    {
      "cell_type": "markdown",
      "metadata": {
        "_uuid": "1bc5bbd1d4b0162cb7ee4f432af3032898add453",
        "_cell_guid": "5e626474-05a7-4117-915a-50e99298d3a3",
        "id": "8QBlKtv15XpI"
      },
      "source": [
        "----\n",
        "\n",
        "## Analyzing Model Performance\n",
        "In this third section of the project, you'll take a look at several models' learning and testing performances on various subsets of training data. Additionally, you'll investigate one particular algorithm with an increasing `'max_depth'` parameter on the full training set to observe how model complexity affects performance. Graphing your model's performance based on varying criteria can be beneficial in the analysis process, such as visualizing behavior that may not have been apparent from the results alone."
      ]
    },
    {
      "cell_type": "markdown",
      "metadata": {
        "_uuid": "6d67ad031fc22ea91017d7a8cd29f1c896f91a0a",
        "_cell_guid": "1f067acd-7594-4bd0-a837-66f52ac3499d",
        "id": "-PEHkpig5XpI"
      },
      "source": [
        "### Learning Curves\n",
        "The following code cell produces four graphs for a decision tree model with different maximum depths. Each graph visualizes the learning curves of the model for both training and testing as the size of the training set is increased. Note that the shaded region of a learning curve denotes the uncertainty of that curve (measured as the standard deviation). The model is scored on both the training and testing sets using R<sup>2</sup>, the coefficient of determination.  \n",
        "\n",
        "Run the code cell below and use these graphs to answer the following question."
      ]
    },
    {
      "cell_type": "code",
      "metadata": {
        "_uuid": "b19bba1270e2c9a286c01bf89706b8dcf809a18d",
        "_cell_guid": "6b978865-146b-4d1c-ae74-893cab098e88",
        "collapsed": true,
        "jupyter": {
          "outputs_hidden": true
        },
        "colab": {
          "base_uri": "https://localhost:8080/",
          "height": 1000
        },
        "id": "Rl2f_Ec15XpI",
        "outputId": "4ad99b4a-dd38-4180-b751-1df558872772"
      },
      "source": [
        "# Produce learning curves for varying training set sizes and maximum depths\n",
        "ModelLearning(features, prices)"
      ],
      "execution_count": 11,
      "outputs": [
        {
          "output_type": "stream",
          "name": "stderr",
          "text": [
            "/usr/local/lib/python3.7/dist-packages/sklearn/metrics/_regression.py:582: UndefinedMetricWarning: R^2 score is not well-defined with less than two samples.\n",
            "  warnings.warn(msg, UndefinedMetricWarning)\n",
            "/usr/local/lib/python3.7/dist-packages/sklearn/metrics/_regression.py:582: UndefinedMetricWarning: R^2 score is not well-defined with less than two samples.\n",
            "  warnings.warn(msg, UndefinedMetricWarning)\n",
            "/usr/local/lib/python3.7/dist-packages/sklearn/metrics/_regression.py:582: UndefinedMetricWarning: R^2 score is not well-defined with less than two samples.\n",
            "  warnings.warn(msg, UndefinedMetricWarning)\n",
            "/usr/local/lib/python3.7/dist-packages/sklearn/metrics/_regression.py:582: UndefinedMetricWarning: R^2 score is not well-defined with less than two samples.\n",
            "  warnings.warn(msg, UndefinedMetricWarning)\n",
            "/usr/local/lib/python3.7/dist-packages/sklearn/metrics/_regression.py:582: UndefinedMetricWarning: R^2 score is not well-defined with less than two samples.\n",
            "  warnings.warn(msg, UndefinedMetricWarning)\n",
            "/usr/local/lib/python3.7/dist-packages/sklearn/metrics/_regression.py:582: UndefinedMetricWarning: R^2 score is not well-defined with less than two samples.\n",
            "  warnings.warn(msg, UndefinedMetricWarning)\n",
            "/usr/local/lib/python3.7/dist-packages/sklearn/metrics/_regression.py:582: UndefinedMetricWarning: R^2 score is not well-defined with less than two samples.\n",
            "  warnings.warn(msg, UndefinedMetricWarning)\n",
            "/usr/local/lib/python3.7/dist-packages/sklearn/metrics/_regression.py:582: UndefinedMetricWarning: R^2 score is not well-defined with less than two samples.\n",
            "  warnings.warn(msg, UndefinedMetricWarning)\n",
            "/usr/local/lib/python3.7/dist-packages/sklearn/metrics/_regression.py:582: UndefinedMetricWarning: R^2 score is not well-defined with less than two samples.\n",
            "  warnings.warn(msg, UndefinedMetricWarning)\n",
            "/usr/local/lib/python3.7/dist-packages/sklearn/metrics/_regression.py:582: UndefinedMetricWarning: R^2 score is not well-defined with less than two samples.\n",
            "  warnings.warn(msg, UndefinedMetricWarning)\n",
            "/usr/local/lib/python3.7/dist-packages/sklearn/metrics/_regression.py:582: UndefinedMetricWarning: R^2 score is not well-defined with less than two samples.\n",
            "  warnings.warn(msg, UndefinedMetricWarning)\n",
            "/usr/local/lib/python3.7/dist-packages/sklearn/metrics/_regression.py:582: UndefinedMetricWarning: R^2 score is not well-defined with less than two samples.\n",
            "  warnings.warn(msg, UndefinedMetricWarning)\n",
            "/usr/local/lib/python3.7/dist-packages/sklearn/metrics/_regression.py:582: UndefinedMetricWarning: R^2 score is not well-defined with less than two samples.\n",
            "  warnings.warn(msg, UndefinedMetricWarning)\n",
            "/usr/local/lib/python3.7/dist-packages/sklearn/metrics/_regression.py:582: UndefinedMetricWarning: R^2 score is not well-defined with less than two samples.\n",
            "  warnings.warn(msg, UndefinedMetricWarning)\n",
            "/usr/local/lib/python3.7/dist-packages/sklearn/metrics/_regression.py:582: UndefinedMetricWarning: R^2 score is not well-defined with less than two samples.\n",
            "  warnings.warn(msg, UndefinedMetricWarning)\n",
            "/usr/local/lib/python3.7/dist-packages/sklearn/metrics/_regression.py:582: UndefinedMetricWarning: R^2 score is not well-defined with less than two samples.\n",
            "  warnings.warn(msg, UndefinedMetricWarning)\n",
            "/usr/local/lib/python3.7/dist-packages/sklearn/metrics/_regression.py:582: UndefinedMetricWarning: R^2 score is not well-defined with less than two samples.\n",
            "  warnings.warn(msg, UndefinedMetricWarning)\n",
            "/usr/local/lib/python3.7/dist-packages/sklearn/metrics/_regression.py:582: UndefinedMetricWarning: R^2 score is not well-defined with less than two samples.\n",
            "  warnings.warn(msg, UndefinedMetricWarning)\n",
            "/usr/local/lib/python3.7/dist-packages/sklearn/metrics/_regression.py:582: UndefinedMetricWarning: R^2 score is not well-defined with less than two samples.\n",
            "  warnings.warn(msg, UndefinedMetricWarning)\n",
            "/usr/local/lib/python3.7/dist-packages/sklearn/metrics/_regression.py:582: UndefinedMetricWarning: R^2 score is not well-defined with less than two samples.\n",
            "  warnings.warn(msg, UndefinedMetricWarning)\n",
            "/usr/local/lib/python3.7/dist-packages/sklearn/metrics/_regression.py:582: UndefinedMetricWarning: R^2 score is not well-defined with less than two samples.\n",
            "  warnings.warn(msg, UndefinedMetricWarning)\n",
            "/usr/local/lib/python3.7/dist-packages/sklearn/metrics/_regression.py:582: UndefinedMetricWarning: R^2 score is not well-defined with less than two samples.\n",
            "  warnings.warn(msg, UndefinedMetricWarning)\n",
            "/usr/local/lib/python3.7/dist-packages/sklearn/metrics/_regression.py:582: UndefinedMetricWarning: R^2 score is not well-defined with less than two samples.\n",
            "  warnings.warn(msg, UndefinedMetricWarning)\n",
            "/usr/local/lib/python3.7/dist-packages/sklearn/metrics/_regression.py:582: UndefinedMetricWarning: R^2 score is not well-defined with less than two samples.\n",
            "  warnings.warn(msg, UndefinedMetricWarning)\n",
            "/usr/local/lib/python3.7/dist-packages/sklearn/metrics/_regression.py:582: UndefinedMetricWarning: R^2 score is not well-defined with less than two samples.\n",
            "  warnings.warn(msg, UndefinedMetricWarning)\n",
            "/usr/local/lib/python3.7/dist-packages/sklearn/metrics/_regression.py:582: UndefinedMetricWarning: R^2 score is not well-defined with less than two samples.\n",
            "  warnings.warn(msg, UndefinedMetricWarning)\n",
            "/usr/local/lib/python3.7/dist-packages/sklearn/metrics/_regression.py:582: UndefinedMetricWarning: R^2 score is not well-defined with less than two samples.\n",
            "  warnings.warn(msg, UndefinedMetricWarning)\n",
            "/usr/local/lib/python3.7/dist-packages/sklearn/metrics/_regression.py:582: UndefinedMetricWarning: R^2 score is not well-defined with less than two samples.\n",
            "  warnings.warn(msg, UndefinedMetricWarning)\n",
            "/usr/local/lib/python3.7/dist-packages/sklearn/metrics/_regression.py:582: UndefinedMetricWarning: R^2 score is not well-defined with less than two samples.\n",
            "  warnings.warn(msg, UndefinedMetricWarning)\n",
            "/usr/local/lib/python3.7/dist-packages/sklearn/metrics/_regression.py:582: UndefinedMetricWarning: R^2 score is not well-defined with less than two samples.\n",
            "  warnings.warn(msg, UndefinedMetricWarning)\n",
            "/usr/local/lib/python3.7/dist-packages/sklearn/metrics/_regression.py:582: UndefinedMetricWarning: R^2 score is not well-defined with less than two samples.\n",
            "  warnings.warn(msg, UndefinedMetricWarning)\n",
            "/usr/local/lib/python3.7/dist-packages/sklearn/metrics/_regression.py:582: UndefinedMetricWarning: R^2 score is not well-defined with less than two samples.\n",
            "  warnings.warn(msg, UndefinedMetricWarning)\n",
            "/usr/local/lib/python3.7/dist-packages/sklearn/metrics/_regression.py:582: UndefinedMetricWarning: R^2 score is not well-defined with less than two samples.\n",
            "  warnings.warn(msg, UndefinedMetricWarning)\n",
            "/usr/local/lib/python3.7/dist-packages/sklearn/metrics/_regression.py:582: UndefinedMetricWarning: R^2 score is not well-defined with less than two samples.\n",
            "  warnings.warn(msg, UndefinedMetricWarning)\n",
            "/usr/local/lib/python3.7/dist-packages/sklearn/metrics/_regression.py:582: UndefinedMetricWarning: R^2 score is not well-defined with less than two samples.\n",
            "  warnings.warn(msg, UndefinedMetricWarning)\n",
            "/usr/local/lib/python3.7/dist-packages/sklearn/metrics/_regression.py:582: UndefinedMetricWarning: R^2 score is not well-defined with less than two samples.\n",
            "  warnings.warn(msg, UndefinedMetricWarning)\n",
            "/usr/local/lib/python3.7/dist-packages/sklearn/metrics/_regression.py:582: UndefinedMetricWarning: R^2 score is not well-defined with less than two samples.\n",
            "  warnings.warn(msg, UndefinedMetricWarning)\n",
            "/usr/local/lib/python3.7/dist-packages/sklearn/metrics/_regression.py:582: UndefinedMetricWarning: R^2 score is not well-defined with less than two samples.\n",
            "  warnings.warn(msg, UndefinedMetricWarning)\n",
            "/usr/local/lib/python3.7/dist-packages/sklearn/metrics/_regression.py:582: UndefinedMetricWarning: R^2 score is not well-defined with less than two samples.\n",
            "  warnings.warn(msg, UndefinedMetricWarning)\n",
            "/usr/local/lib/python3.7/dist-packages/sklearn/metrics/_regression.py:582: UndefinedMetricWarning: R^2 score is not well-defined with less than two samples.\n",
            "  warnings.warn(msg, UndefinedMetricWarning)\n"
          ]
        },
        {
          "output_type": "display_data",
          "data": {
            "image/png": "[encoded data removed]",
            "text/plain": [
              "<Figure size 720x504 with 4 Axes>"
            ]
          },
          "metadata": {
            "needs_background": "light"
          }
        }
      ]
    },
    {
      "cell_type": "markdown",
      "metadata": {
        "_uuid": "daba7dba3a5a6ac29018387bac488ba77a96b229",
        "_cell_guid": "2df9ff7d-1510-4cf0-ae79-db57a61e1eeb",
        "id": "8_7ofcFh5XpJ"
      },
      "source": [
        "### Question 4 - Learning the Data\n",
        "* Choose one of the graphs above and state the maximum depth for the model. \n",
        "* What happens to the score of the training curve as more training points are added? What about the testing curve? \n",
        "* Would having more training points benefit the model? \n",
        "\n",
        "**Hint:** Are the learning curves converging to particular scores? Generally speaking, the more data you have, the better. But if your training and testing curves are converging with a score above your benchmark threshold, would this be necessary?\n",
        "Think about the pros and cons of adding more training points based on if the training and testing curves are converging."
      ]
    },
    {
      "cell_type": "markdown",
      "metadata": {
        "_uuid": "955ba0d7365c890e31005235097acab498df13c4",
        "_cell_guid": "d4e02fae-940e-4b71-a500-8a4d4868cbd3",
        "id": "uvWIcFbX5XpJ"
      },
      "source": [
        "**Answer: **\n",
        "\n",
        "**Learning Curve - 1**\n",
        "\n",
        "1. _Choose one of the graphs above and state the maximum depth for the model._ - 1\n",
        "2. _What happens to the score of the training curve as more training points are added? What about the testing curve?_ - This case is more of an underfitting. Even if more data points are added the model will not learn new information and so the training score will be around 0.5. Also, as we have an underfit model, the score on the testing data will be less. Even if we add more testing data, the score will be around 0.5.\n",
        "3. _Would having more training points benefit the model?_ - Having more training points will not help this model. Instead we should try to build a complex model to make a generalized understanding of the data.\n",
        "\n",
        "**Learning Curve - 2**\n",
        "\n",
        "1. _Choose one of the graphs above and state the maximum depth for the model._ - 3\n",
        "2. _What happens to the score of the training curve as more training points are added? What about the testing curve?_ - This looks like the case of a very good model with a train and test score around 0.8. The model is perfecting the data to a greater extent. As more and more training data points are added, the training score decreases and finally hovers around 0.8. The testing score increases as the test data increases and finally plateau's around 0.8.\n",
        "3. _Would having more training points benefit the model?_ - As the model is generalizing the data well, increasing the number of training data points will help it to learn better and give a better predictions.\n",
        "\n",
        "**Learning Curve - 3**\n",
        "\n",
        "1. _Choose one of the graphs above and state the maximum depth for the model._ - 6\n",
        "2. _What happens to the score of the training curve as more training points are added? What about the testing curve?_ - This looks like the case of a slightly overfitted model. As more and more training data points are added, the training score decreases and finally hovers around 0.9. The testing score increases as the test data increases and finally plateau's around 0.75.\n",
        "3. _Would having more training points benefit the model?_ - As the model is trying to overfit the data, increasing the number of training data points will not help it to generalize the information. Instead we should try to decrease the complexity of the model and then add more training data points for it to work better.\n",
        "\n",
        "**Learning Curve - 4**\n",
        "\n",
        "1. _Choose one of the graphs above and state the maximum depth for the model._ - 10\n",
        "2. _What happens to the score of the training curve as more training points are added? What about the testing curve?_ - This looks like the case of an overfitted model. As more and more training data points are added, the training score decreases very slightly and finally hovers around 1. The testing score increases as the test data increases and finally plateau's around 0.6.\n",
        "3. _Would having more training points benefit the model?_ - Adding more training points will not do any help for this model. Instead we should decrease the complexity of the model and try generalizing it."
      ]
    },
    {
      "cell_type": "markdown",
      "metadata": {
        "_uuid": "c23c2cfdded906cbc20a30b841a4bac8a1accccd",
        "_cell_guid": "024e8197-cef2-46d4-9df2-5363c3720efb",
        "id": "gs2bPJYV5XpJ"
      },
      "source": [
        "### Complexity Curves\n",
        "The following code cell produces a graph for a decision tree model that has been trained and validated on the training data using different maximum depths. The graph produces two complexity curves — one for training and one for validation. Similar to the **learning curves**, the shaded regions of both the complexity curves denote the uncertainty in those curves, and the model is scored on both the training and validation sets using the `performance_metric` function.  \n",
        "\n",
        "** Run the code cell below and use this graph to answer the following two questions Q5 and Q6. **"
      ]
    },
    {
      "cell_type": "code",
      "metadata": {
        "_uuid": "02c73ed114da9c42e9da716fe8b91ec04c92d373",
        "_cell_guid": "49988328-8ee0-4ca9-910b-c00fe6142b6d",
        "collapsed": true,
        "jupyter": {
          "outputs_hidden": true
        },
        "colab": {
          "base_uri": "https://localhost:8080/",
          "height": 350
        },
        "id": "JQHd6B525XpJ",
        "outputId": "93a8f284-a9eb-40d1-b38f-40ad5b30a9b7"
      },
      "source": [
        "ModelComplexity(X_train, y_train)"
      ],
      "execution_count": 12,
      "outputs": [
        {
          "output_type": "display_data",
          "data": {
            "image/png": "[encoded data removed]",
            "text/plain": [
              "<Figure size 504x360 with 1 Axes>"
            ]
          },
          "metadata": {
            "needs_background": "light"
          }
        }
      ]
    },
    {
      "cell_type": "markdown",
      "metadata": {
        "_uuid": "1fcd3dac6a317865db4f90e63b82e74941983f43",
        "_cell_guid": "4286e429-de6b-45f9-a216-1f735e197116",
        "id": "qI1xycPH5XpJ"
      },
      "source": [
        "### Question 5 - Bias-Variance Tradeoff\n",
        "* When the model is trained with a maximum depth of 1, does the model suffer from high bias or from high variance? \n",
        "* How about when the model is trained with a maximum depth of 10? What visual cues in the graph justify your conclusions?\n",
        "\n",
        "**Hint:** High bias is a sign of underfitting(model is not complex enough to pick up the nuances in the data) and high variance is a sign of overfitting(model is by-hearting the data and cannot generalize well). Think about which model(depth 1 or 10) aligns with which part of the tradeoff."
      ]
    },
    {
      "cell_type": "markdown",
      "metadata": {
        "_uuid": "dd2609850ae411b2d6c7b863b2b37ebfc12edd2a",
        "_cell_guid": "350c3a80-6f89-4cf2-856d-73fb9e37473d",
        "id": "_TOGFPT55XpJ"
      },
      "source": [
        "**Answer: **\n",
        "\n",
        "1. _When the model is trained with a maximum depth of 1, does the model suffer from high bias or from high variance?_ - When we build a model with max_depth=1, the model is not trying to learn anything from the data and suffers from a very high Bias. The model cannot capture the variance in the data and cannot get a generalized meaning. The model that is built in this scenario will be an underfitted model. In this case we should try to increase the complexity of the model, say, by choosing a max_depth=5.\n",
        "\n",
        "2. _How about when the model is trained with a maximum depth of 10?_ - When we build a model with max_depth=10, the model is trying to learn everything from the data(including noise!) and suffers from a very high Variance. The model cannot generalize the data and tries to learn each and every small thing, including noise, present in the data. The model that is built in this scenario will be an overfitted model. In this case we should try to decrease the complexity of the model, say, by choosing max_depth=5.\n",
        "\n",
        "3. _What visual cues in the graph justify your conclusions?_ -\n",
        "\n",
        "    1. From the Training/Testing Score visualization we say that a model is 'underfit' when the training score, testing/validation score is very less. This is seen from the above visualization when the max_depth=1.\n",
        "    2. From the Training/Testing Score visualization we say that a model is 'overfit' when the training score, testing/validation score is very high but they diverge a lot. This is seen from the above visualization when the max_depth=10.\n",
        "    \n",
        "The ideal situation is when, both the training score and testing score are high and both of them converge very closely. From the above visualization, a max_depth=4 should get us a very good model."
      ]
    },
    {
      "cell_type": "markdown",
      "metadata": {
        "_uuid": "aae65413294f8cd6dc3d316d0138bb2013d4d1ef",
        "_cell_guid": "34a76efb-b159-40f1-8c79-c1741f2197c2",
        "id": "Idx1O5jW5XpK"
      },
      "source": [
        "### Question 6 - Best-Guess Optimal Model\n",
        "* Which maximum depth do you think results in a model that best generalizes to unseen data? \n",
        "* What intuition lead you to this answer?\n",
        "\n",
        "** Hint: ** Look at the graph above Question 5 and see where the validation scores lie for the various depths that have been assigned to the model. Does it get better with increased depth? At what point do we get our best validation score without overcomplicating our model? And remember, Occams Razor states \"Among competing hypotheses, the one with the fewest assumptions should be selected.\""
      ]
    },
    {
      "cell_type": "markdown",
      "metadata": {
        "_uuid": "d667a228ec6c459b58c4b5d41ab3d0411c55840b",
        "_cell_guid": "5ec840c5-e1a5-4f68-8d69-b68108b1f022",
        "id": "p4puU9Xh5XpK"
      },
      "source": [
        "**Answer: **\n",
        "\n",
        "1. _Which maximum depth do you think results in a model that best generalizes to unseen data?_ - My personal choice goes with a max_depth of 3. At max_depth=3 the validation score is around 0.75, which is very good. The training score is around 0.85 and close to the validation score which hints us that the model is generalizing the data well. (We could also argue that max_depth=4 is a good choice. In this case the validation score is around 0.8 and the training score is around 0.9 which is good. This model is slightly overfitting the data compared to the model with max_depth=3.)\n",
        "\n",
        "2. _What intuition lead you to this answer?_ - As can be seen clearly from the above visualization, a max_depth=1 creates a model with high bias, an underfitted model and a max_depth=10 creates a model with high variance, an overfitted model. We should choose a model that doesn't have high bias or a high variance - a model that generalizes the data well. Also the training and validation scores should not be very low(underfit) or very high(overfit) when building a model. Training and Validation scores should be high and very close to each other in a generalized model which is evident when we choose max_depth=3."
      ]
    },
    {
      "cell_type": "markdown",
      "metadata": {
        "_uuid": "3a025582d15d146b7390f3b0867c4690294687d7",
        "_cell_guid": "6f72db89-ae23-4893-8507-45ca0f4842f1",
        "id": "zIjo_yWt5XpK"
      },
      "source": [
        "-----\n",
        "\n",
        "## Evaluating Model Performance\n",
        "In this final section of the project, you will construct a model and make a prediction on the client's feature set using an optimized model from `fit_model`."
      ]
    },
    {
      "cell_type": "markdown",
      "metadata": {
        "_uuid": "7b9cb6b26a353048fe23e1f00ba163072c5d30fe",
        "_cell_guid": "204a821c-3811-485b-a921-ffb849942b5c",
        "id": "ln6Tnedj5XpK"
      },
      "source": [
        "### Question 7 - Grid Search\n",
        "* What is the grid search technique?\n",
        "* How it can be applied to optimize a learning algorithm?\n",
        "\n",
        "** Hint: ** When explaining the Grid Search technique, be sure to touch upon why it is used,  what the 'grid' entails and what the end goal of this method is. To solidify your answer, you can also give an example of a parameter in a model that can be optimized using this approach."
      ]
    },
    {
      "cell_type": "markdown",
      "metadata": {
        "_uuid": "4c7fd626a4dc67072de2e09ca04db5849c6c3c90",
        "_cell_guid": "35e149c0-43bb-4f8a-b885-a290ecafe9c4",
        "id": "w6MTsIa35XpK"
      },
      "source": [
        "**Answer: **\n",
        "\n",
        "1. _What is the grid search technique?_ - Grid Search is a systematic way to tune the hyperparameters of an algorithm to build a best model. In machine learning, a hyperparameter is a parameter whose value is set before the learning process begins (ex. the degree of a polynomial in regression model). By contrast, the values of other parameters are derived via training (ex. the coefficients of the polynomial in regression model). \n",
        "\n",
        "2. _How it can be applied to optimize a learning algorithm?_ - Grid Search performs hyperparameter optimization by simply searching through a manually specified subset of the hyperparameter space of a learning algorithm. A grid search algorithm must be guided by some performance metric, typically measured by cross-validation on the training set or evaluation on a held-out validation set. The performance metric will help us to choose the best hyperparameter values to build a better model.\n",
        "\n",
        "For example, if we are using DecisionTreeRegressor() we can pass the below hyperparameters to the Grid Search to find out the best combination.\n",
        "\n",
        "params = {'max_depth': [2,3,4], 'max_features':['auto', 'sqrt', 'log2']}\n",
        "\n",
        "Grid Search will try out all combinations of the above hyperparameters while building the models. We can use the cross-validation score to choose the best set of hyperparameters."
      ]
    },
    {
      "cell_type": "markdown",
      "metadata": {
        "_uuid": "1880058ec5e0f20798b4cdfbbc60841ff35f3e20",
        "_cell_guid": "6152c3ee-3088-49c7-a44d-a8d24a0957d5",
        "id": "HuOQNGUg5XpK"
      },
      "source": [
        "### Question 8 - Cross-Validation\n",
        "\n",
        "* What is the k-fold cross-validation training technique? \n",
        "* What benefit does this technique provide for grid search when optimizing a model?\n",
        "\n",
        "**Hint:** When explaining the k-fold cross validation technique, be sure to touch upon what 'k' is, how the dataset is split into different parts for training and testing and the number of times it is run based on the 'k' value.\n",
        "\n",
        "When thinking about how k-fold cross validation helps grid search, think about the main drawbacks of grid search which are hinged upon **using a particular subset of data for training or testing** and how k-fold cv could help alleviate that. You can refer to the [docs](http://scikit-learn.org/stable/modules/cross_validation.html#cross-validation) for your answer."
      ]
    },
    {
      "cell_type": "markdown",
      "metadata": {
        "_uuid": "6b4315c82df01ea1c8bf7bf7f3bfc68d58a0d1f0",
        "_cell_guid": "41931b83-86ab-485c-b793-eef62f5f4a6c",
        "id": "ba-fbBJM5XpL"
      },
      "source": [
        "**Answer: **\n",
        "\n",
        "1. _What is the k-fold cross-validation training technique?_ - Instead of partitioning the data into multiple sets - training set and validation set, which drastically reduces the number of samples which can be used for learning the model we could use cross-validation to use the same data for better understanding of our mode's accuracy. k-fold cross-validation is one of the methods of CV where the original data is randomly partitioned into k equal sized subsamples. Out of the k subsamples, a single subsample is retained as the validation data for testing the model, and the remaining (k−1) subsamples are used as training data. The cross-validation process is repeated k times for each of the folds with each of the k subsamples used exactly once as the validation data. The 'k' scores from the folds can then be averaged to produce a single estimation.\n",
        "\n",
        "2. _What benefit does this technique provide for grid search when optimizing a model?_ - With Grid Search we are trying to find the optimal hyperparameters for our model. For Grid Search to identify the best params we should use a score function and test the model on the validation set. If we choose a simple validation set by picking 30% of the data points, there is always a danger of not correctly choosing the best hyperparameters as there is a chance of overfitting/underfitting with specific train/test split and thus a wrong score. So, the ideal strategy is to choose a k-fold cross-validation technique wherein we could get an average score for each of the folds which would correctly get the optimal hyperparameters."
      ]
    },
    {
      "cell_type": "markdown",
      "metadata": {
        "_uuid": "ac7ff0a70ea6daecdd54ac35f44b799998215f50",
        "_cell_guid": "088f8277-f198-44bc-a7f8-da25162c0d3e",
        "id": "Uv-CuqAQ5XpL"
      },
      "source": [
        "### Implementation: Fitting a Model\n",
        "Your final implementation requires that you bring everything together and train a model using the **decision tree algorithm**. To ensure that you are producing an optimized model, you will train the model using the grid search technique to optimize the `'max_depth'` parameter for the decision tree. The `'max_depth'` parameter can be thought of as how many questions the decision tree algorithm is allowed to ask about the data before making a prediction. Decision trees are part of a class of algorithms called *supervised learning algorithms*.\n",
        "\n",
        "In addition, you will find your implementation is using `ShuffleSplit()` for an alternative form of cross-validation (see the `'cv_sets'` variable). While it is not the K-Fold cross-validation technique you describe in **Question 8**, this type of cross-validation technique is just as useful!. The `ShuffleSplit()` implementation below will create 10 (`'n_splits'`) shuffled sets, and for each shuffle, 20% (`'test_size'`) of the data will be used as the *validation set*. While you're working on your implementation, think about the contrasts and similarities it has to the K-fold cross-validation technique.\n",
        "\n",
        "Please note that ShuffleSplit has different parameters in scikit-learn versions 0.17 and 0.18.\n",
        "For the `fit_model` function in the code cell below, you will need to implement the following:\n",
        "- Use [`DecisionTreeRegressor`](http://scikit-learn.org/stable/modules/generated/sklearn.tree.DecisionTreeRegressor.html) from `sklearn.tree` to create a decision tree regressor object.\n",
        "  - Assign this object to the `'regressor'` variable.\n",
        "- Create a dictionary for `'max_depth'` with the values from 1 to 10, and assign this to the `'params'` variable.\n",
        "- Use [`make_scorer`](http://scikit-learn.org/stable/modules/generated/sklearn.metrics.make_scorer.html) from `sklearn.metrics` to create a scoring function object.\n",
        "  - Pass the `performance_metric` function as a parameter to the object.\n",
        "  - Assign this scoring function to the `'scoring_fnc'` variable.\n",
        "- Use [`GridSearchCV`](http://scikit-learn.org/0.17/modules/generated/sklearn.grid_search.GridSearchCV.html) from `sklearn.grid_search` to create a grid search object.\n",
        "  - Pass the variables `'regressor'`, `'params'`, `'scoring_fnc'`, and `'cv_sets'` as parameters to the object. \n",
        "  - Assign the `GridSearchCV` object to the `'grid'` variable."
      ]
    },
    {
      "cell_type": "code",
      "metadata": {
        "_uuid": "a910011f92f0b72cc7a664eac42af0f7b436b6a1",
        "_cell_guid": "fbf14f95-524b-4a36-ac3f-7ee2bb9caa24",
        "collapsed": true,
        "jupyter": {
          "outputs_hidden": true
        },
        "id": "nUk9EJWo5XpL"
      },
      "source": [
        "def fit_model(X, y):\n",
        "    \"\"\" Performs grid search over the 'max_depth' parameter for a \n",
        "        decision tree regressor trained on the input data [X, y]. \"\"\"\n",
        "    \n",
        "    # Create cross-validation sets from the training data\n",
        "    # sklearn version 0.18: ShuffleSplit(n_splits=10, test_size=0.1, train_size=None, random_state=None)\n",
        "    # sklearn versiin 0.17: ShuffleSplit(n, n_iter=10, test_size=0.1, train_size=None, random_state=None)\n",
        "    cv_sets = ShuffleSplit(n_splits = 10, test_size = 0.20, random_state = 0)\n",
        "    cv_sets.get_n_splits(X)\n",
        "\n",
        "    # Create a decision tree regressor object\n",
        "    regressor = DecisionTreeRegressor(random_state=0)\n",
        "\n",
        "    # Create a dictionary for the parameter 'max_depth' with a range from 1 to 10\n",
        "    params = {'max_depth':range(1,11)}\n",
        "\n",
        "    # Transform 'performance_metric' into a scoring function using 'make_scorer' \n",
        "    scoring_fnc = make_scorer(performance_metric)\n",
        "\n",
        "    # Create the grid search cv object --> GridSearchCV()\n",
        "    # Make sure to include the right parameters in the object:\n",
        "    # (estimator, param_grid, scoring, cv) which have values 'regressor', 'params', 'scoring_fnc', and 'cv_sets' respectively.\n",
        "    grid = GridSearchCV(regressor, params, scoring_fnc, cv=cv_sets)\n",
        "\n",
        "    # Fit the grid search object to the data to compute the optimal model\n",
        "    grid = grid.fit(X, y)\n",
        "\n",
        "    # Return the optimal model after fitting the data\n",
        "    return grid"
      ],
      "execution_count": 13,
      "outputs": []
    },
    {
      "cell_type": "markdown",
      "metadata": {
        "_uuid": "165ef846d196e9cb9243e277b3545e64bda2f625",
        "_cell_guid": "06be06d5-44fc-42df-a88c-981f67248aca",
        "id": "oyu5In145XpL"
      },
      "source": [
        "### Making Predictions\n",
        "Once a model has been trained on a given set of data, it can now be used to make predictions on new sets of input data. In the case of a *decision tree regressor*, the model has learned *what the best questions to ask about the input data are*, and can respond with a prediction for the **target variable**. You can use these predictions to gain information about data where the value of the target variable is unknown — such as data the model was not trained on."
      ]
    },
    {
      "cell_type": "markdown",
      "metadata": {
        "_uuid": "4729cb74b09d8f30040c8e0aa3aeafcae3a20e2b",
        "_cell_guid": "bccffe5f-7037-4acc-8798-4ad9afba5f0e",
        "id": "D-SDAOFF5XpL"
      },
      "source": [
        "### Question 9 - Optimal Model\n",
        "\n",
        "* What maximum depth does the optimal model have? How does this result compare to your guess in **Question 6**?  \n",
        "\n",
        "Run the code block below to fit the decision tree regressor to the training data and produce an optimal model."
      ]
    },
    {
      "cell_type": "code",
      "metadata": {
        "_uuid": "a260d23ca1ff9072326f46e3bc7f417d807167ed",
        "_cell_guid": "216e7791-de3a-4ded-b341-399a55598a88",
        "scrolled": true,
        "collapsed": true,
        "jupyter": {
          "outputs_hidden": true
        },
        "colab": {
          "base_uri": "https://localhost:8080/"
        },
        "id": "JFh7Asdp5XpL",
        "outputId": "c55b0314-5f84-4a82-d447-4c732bdc7878"
      },
      "source": [
        "# Fit the training data to the model using grid search\n",
        "reg = fit_model(X_train, y_train)\n",
        "\n",
        "# Produce the value for 'max_depth'\n",
        "print(\"Parameter 'max_depth' is {} for the optimal model.\".format(reg.best_estimator_.get_params()['max_depth']))\n",
        "print(\"Best Score is {:.2f}\".format(reg.best_score_))"
      ],
      "execution_count": 14,
      "outputs": [
        {
          "output_type": "stream",
          "name": "stdout",
          "text": [
            "Parameter 'max_depth' is 4 for the optimal model.\n",
            "Best Score is 0.78\n"
          ]
        }
      ]
    },
    {
      "cell_type": "markdown",
      "metadata": {
        "_uuid": "203b4e80f62392b9709ce6a804975186806b15ea",
        "_cell_guid": "abd7997a-5703-40a9-8734-67e6dac23c8a",
        "id": "wIXnSWdL5XpM"
      },
      "source": [
        "** Hint: ** The answer comes from the output of the code snipped above.\n",
        "\n",
        "**Answer: **\n",
        "\n",
        "The optimal score of '0.78' is achieved for a max_depth of 4. As was mentioned above there is a close call score for max_depth=4 and max_depth=3. (We got a score of 0.75 for max_depth=3)"
      ]
    },
    {
      "cell_type": "markdown",
      "metadata": {
        "_uuid": "a87af1b3c5d660363789ba15059ace24fe6758d6",
        "_cell_guid": "01516bfb-cfe0-437d-b265-5dc5a69a6e25",
        "id": "51Cfo4PT5XpM"
      },
      "source": [
        "### Question 10 - Predicting Selling Prices\n",
        "Imagine that you were a real estate agent in the Boston area looking to use this model to help price homes owned by your clients that they wish to sell. You have collected the following information from three of your clients:\n",
        "\n",
        "| Feature | Client 1 | Client 2 | Client 3 |\n",
        "| :---: | :---: | :---: | :---: |\n",
        "| Total number of rooms in home | 5 rooms | 4 rooms | 8 rooms |\n",
        "| Neighborhood poverty level (as %) | 17% | 32% | 3% |\n",
        "| Student-teacher ratio of nearby schools | 15-to-1 | 22-to-1 | 12-to-1 |\n",
        "\n",
        "* What price would you recommend each client sell his/her home at? \n",
        "* Do these prices seem reasonable given the values for the respective features? \n",
        "\n",
        "**Hint:** Use the statistics you calculated in the **Data Exploration** section to help justify your response.  Of the three clients, client 3 has has the biggest house, in the best public school neighborhood with the lowest poverty level; while client 2 has the smallest house, in a neighborhood with a relatively high poverty rate and not the best public schools.\n",
        "\n",
        "Run the code block below to have your optimized model make predictions for each client's home."
      ]
    },
    {
      "cell_type": "code",
      "metadata": {
        "_uuid": "f96c281c919a2fb51fabc15afea20d5fe3ce3034",
        "_cell_guid": "7a111b99-1046-4275-b31e-1a12a3a96ae8",
        "collapsed": true,
        "jupyter": {
          "outputs_hidden": true
        },
        "colab": {
          "base_uri": "https://localhost:8080/"
        },
        "id": "i5DFRjIq5XpM",
        "outputId": "5cc9ccd0-78a4-45df-9db1-c50a92276175"
      },
      "source": [
        "with pd.option_context('float_format', '{:.2f}'.format):\n",
        "    print(prices.describe())"
      ],
      "execution_count": 15,
      "outputs": [
        {
          "output_type": "stream",
          "name": "stdout",
          "text": [
            "count       489.00\n",
            "mean     454342.94\n",
            "std      165340.28\n",
            "min      105000.00\n",
            "25%      350700.00\n",
            "50%      438900.00\n",
            "75%      518700.00\n",
            "max     1024800.00\n",
            "Name: MEDV, dtype: float64\n"
          ]
        }
      ]
    },
    {
      "cell_type": "code",
      "metadata": {
        "_uuid": "7f35439f481ec4cbfa661c533794a594c4770fc3",
        "_cell_guid": "db1527a3-c5ad-4e4d-aaaf-c1d3c8cc9339",
        "collapsed": true,
        "jupyter": {
          "outputs_hidden": true
        },
        "colab": {
          "base_uri": "https://localhost:8080/"
        },
        "id": "WKoOVRd_5XpM",
        "outputId": "158ba135-a91d-46f1-f114-66cb341d2795"
      },
      "source": [
        "with pd.option_context('float_format', '{:.2f}'.format):\n",
        "    print(features.describe())"
      ],
      "execution_count": 16,
      "outputs": [
        {
          "output_type": "stream",
          "name": "stdout",
          "text": [
            "          RM  LSTAT  PTRATIO\n",
            "count 489.00 489.00   489.00\n",
            "mean    6.24  12.94    18.52\n",
            "std     0.64   7.08     2.11\n",
            "min     3.56   1.98    12.60\n",
            "25%     5.88   7.37    17.40\n",
            "50%     6.18  11.69    19.10\n",
            "75%     6.58  17.12    20.20\n",
            "max     8.40  37.97    22.00\n"
          ]
        }
      ]
    },
    {
      "cell_type": "markdown",
      "metadata": {
        "_uuid": "f0b9c9c84ea08f575d3bf4af21a339570cacad1d",
        "_cell_guid": "e03882cd-d272-4219-b8e2-bf2a754d9dae",
        "id": "3i0IffVn5XpM"
      },
      "source": [
        "**Answer: **\n",
        "\n",
        "1. _What price would you recommend each client sell his/her home at?_ - With the statistical information we could ask Client 1 to sell his house at a price around the mean (USD 454,342 $\\pm$ 0.5$\\sigma$), Client 2 to sell his house at a price little higher than the min price (USD 150,000 $\\pm$ 0.5$\\sigma$) and Client 3 to sell his house at a price around the max (USD 900,000 $\\pm$ 0.5$\\sigma$).\n",
        "2. _Do these prices seem reasonable given the values for the respective features?_ - Yes, these prices seems reasonable. For example Client 2 has just 4 rooms, high neighborhood poverty level and high PTRATIO which indicates a low value for his house. On the other hand, Client 3 has 8 rooms, very low neighborhood poverty level and very low PTRATIO which indicates a high value for his house."
      ]
    },
    {
      "cell_type": "code",
      "metadata": {
        "_uuid": "1887891df10182c1f03d9c03fc4391dd03417b9c",
        "_cell_guid": "83d6061a-4581-4b16-b79d-230d1e07eaf2",
        "collapsed": true,
        "jupyter": {
          "outputs_hidden": true
        },
        "colab": {
          "base_uri": "https://localhost:8080/"
        },
        "id": "gbXxlw0U5XpM",
        "outputId": "9f32c903-e876-4b87-e413-71f1ee81eedd"
      },
      "source": [
        "# Produce a matrix for client data\n",
        "client_data = [[5, 17, 15], # Client 1\n",
        "               [4, 32, 22], # Client 2\n",
        "               [8, 3, 12]]  # Client 3\n",
        "\n",
        "# Show predictions\n",
        "for i, price in enumerate(reg.predict(client_data)):\n",
        "    print(\"Predicted selling price for Client {}'s home: ${:,.2f}\".format(i+1, price))"
      ],
      "execution_count": 17,
      "outputs": [
        {
          "output_type": "stream",
          "name": "stdout",
          "text": [
            "Predicted selling price for Client 1's home: $391,183.33\n",
            "Predicted selling price for Client 2's home: $189,123.53\n",
            "Predicted selling price for Client 3's home: $942,666.67\n"
          ]
        }
      ]
    },
    {
      "cell_type": "markdown",
      "metadata": {
        "_uuid": "2079f70d4488bac2449051d990963dff2698b2db",
        "_cell_guid": "a1e3066f-cc46-4986-964e-a43ddc94f6aa",
        "id": "VzPOj7VY5XpN"
      },
      "source": [
        "**Answer: **\n",
        "\n",
        "1. _What price would you recommend each client sell his/her home at?_ - With the predictions from the model, which is around 80% accurate, we could ask Client 1 to sell his house at a price around (USD 350,000 to USD 430,000), Client 2 to sell his house at a price around (USD 160,000 - USD 220,000) and Client 3 to sell his house at a price around (USD 910,000 - USD 980,000).\n",
        "2. _Do these prices seem reasonable given the values for the respective features?_ - Yes, these prices seems reasonable. For example Client 2 has just 4 rooms, high neighborhood poverty level and high PTRATIO which indicates a low value for his house. On the other hand, Client 3 has 8 rooms, very low neighborhood poverty level and very low PTRATIO which indicates a high value for his house. For Cleint 1 the values for all the features are centered around the mean and thus an avergae price for his house."
      ]
    },
    {
      "cell_type": "markdown",
      "metadata": {
        "_uuid": "83828d8cca7ba6d1b7951406ae0dc93ebd09c6dc",
        "_cell_guid": "1d9915a1-b777-4c7a-bb7d-73d8c4e59488",
        "id": "YP7IoWSu5XpN"
      },
      "source": [
        "### Sensitivity\n",
        "An optimal model is not necessarily a robust model. Sometimes, a model is either too complex or too simple to sufficiently generalize to new data. Sometimes, a model could use a learning algorithm that is not appropriate for the structure of the data given. Other times, the data itself could be too noisy or contain too few samples to allow a model to adequately capture the target variable — i.e., the model is underfitted. \n",
        "\n",
        "**Run the code cell below to run the `fit_model` function ten times with different training and testing sets to see how the prediction for a specific client changes with respect to the data it's trained on.**"
      ]
    },
    {
      "cell_type": "code",
      "metadata": {
        "_uuid": "0a99b88ea2415231774f95cdfda585818ed421b8",
        "_cell_guid": "f98e398e-484a-4799-b98e-ba9ba35948d1",
        "collapsed": true,
        "jupyter": {
          "outputs_hidden": true
        },
        "colab": {
          "base_uri": "https://localhost:8080/"
        },
        "id": "rOcH-lFU5XpN",
        "outputId": "7b3e5ab7-f776-42c5-d062-162f15b5de04"
      },
      "source": [
        "PredictTrials(features, prices, fit_model, client_data)"
      ],
      "execution_count": 18,
      "outputs": [
        {
          "output_type": "stream",
          "name": "stdout",
          "text": [
            "Trial 1: $391,183.33\n",
            "Trial 2: $424,935.00\n",
            "Trial 3: $415,800.00\n",
            "Trial 4: $420,622.22\n",
            "Trial 5: $418,377.27\n",
            "Trial 6: $411,931.58\n",
            "Trial 7: $399,663.16\n",
            "Trial 8: $407,232.00\n",
            "Trial 9: $351,577.61\n",
            "Trial 10: $413,700.00\n",
            "\n",
            "Range in prices: $73,357.39\n"
          ]
        }
      ]
    },
    {
      "cell_type": "markdown",
      "metadata": {
        "_uuid": "9974f61e804ddaf0be0476ec6f1cfc7967e93878",
        "_cell_guid": "33536c9a-b4e4-4b68-98cb-c42616b854b4",
        "id": "IBjjUQRt5XpN"
      },
      "source": [
        "### Question 11 - Applicability\n",
        "\n",
        "* In a few sentences, discuss whether the constructed model should or should not be used in a real-world setting.  \n",
        "\n",
        "**Hint:** Take a look at the range in prices as calculated in the code snippet above. Some questions to answering:\n",
        "- How relevant today is data that was collected from 1978? How important is inflation?\n",
        "- Are the features present in the data sufficient to describe a home? Do you think factors like quality of apppliances in the home, square feet of the plot area, presence of pool or not etc should factor in?\n",
        "- Is the model robust enough to make consistent predictions?\n",
        "- Would data collected in an urban city like Boston be applicable in a rural city?\n",
        "- Is it fair to judge the price of an individual home based on the characteristics of the entire neighborhood?"
      ]
    },
    {
      "cell_type": "markdown",
      "metadata": {
        "_uuid": "42d05a085e2d7ccde4983fa08c719193ca20cd20",
        "_cell_guid": "19cdaa89-21b6-4317-8d57-f215137fb7aa",
        "id": "YmM0rRhi5XpN"
      },
      "source": [
        "**Answer: **\n",
        "\n",
        "To know if the constructed model can be used in a real-world applications depends on many factors.\n",
        "\n",
        "1. As the data is collected from 1978, the information may not portray the current trend in the locality even though inflation is taken in to account.\n",
        "2. Frankly speaking we cannot exactly predict the price of a house using just 3 independent variables. There are many more factors like the 'Building Type', 'Quality of Construction', 'Year Built', 'Bathrooms', 'Kitchen Quality', 'Garages', 'Pool', 'Fence' which will give us a better estimate of any house.\n",
        "3. As the model is built on a very less number of features and some data points it will not be very robust. So, when using the predictions from this model care should be taken to consider other external factors also. (Robustness of the model was evident from the above block of code.)\n",
        "4. This model is built from data collected in 'Boston' and so can be used to predict the prices of houses in 'Boston' only and the reason being different cities will have different price ranges of houses.\n",
        "5. It's not fair to judge the price of an individual house just based on the neighborhood. Many properties of the house play a vital role in predicted its price aprt from it's neighborhood."
      ]
    }
  ]
}