{
  "nbformat": 4,
  "nbformat_minor": 0,
  "metadata": {
    "colab": {
      "name": "LeetCodeAnalysis1.ipynb",
      "provenance": [],
      "collapsed_sections": [],
      "include_colab_link": true
    },
    "kernelspec": {
      "name": "python3",
      "display_name": "Python 3"
    },
    "language_info": {
      "name": "python"
    }
  },
  "cells": [
    {
      "cell_type": "markdown",
      "metadata": {
        "id": "view-in-github",
        "colab_type": "text"
      },
      "source": [
        "<a href=\"https://colab.research.google.com/github/jumbokh/nknu-class/blob/main/notebooks/LeetCodeAnalysis1.ipynb\" target=\"_parent\"><img src=\"https://colab.research.google.com/assets/colab-badge.svg\" alt=\"Open In Colab\"/></a>"
      ]
    },
    {
      "cell_type": "markdown",
      "metadata": {
        "id": "jsJuwoR1j7H-"
      },
      "source": [
        "# LeetCode 題目的數據分析\n",
        "# 第一集：LeetCode 資料表總覽與初步分析\n",
        "LeetCode 是個線上練習寫程式題目的網站，專門收集軟體工程師的面試考古題，許多求職者為增加解題經驗，常會到 Leetcode 上刷題，是個很知名的程式網站。於是我用了 Python 的 Pandas 和 Seaborn 做關於 Leetcode 的題目資料分析，看看能從資料中挖掘出什麼關係或趨勢。\n",
        "###### 目前有：\n",
        "###### 第一集：[LeetCode 資料表總覽與初步分析](https://colab.research.google.com/drive/1U1LeCCbEwloMlztrz6K2gdvBtX1VTWc9?usp=sharing)\n",
        "###### 第二集：[LeetCode 最受歡迎與最不受歡迎的前十道簡單題](https://colab.research.google.com/drive/1ELTd_teX3hnUoeiNd3_QQFiErzvBNVcF?usp=sharing)\n",
        "###### 第三集：[更公正的 LeetCode 最受歡迎與最不受歡迎的題目](https://colab.research.google.com/drive/1XPtt2GXHrvOS7oOQ5vNHIo4aBlITyyT4?usp=sharing)\n",
        "###### 第四集：[實作 LeetCode 加強版題目篩選器](https://colab.research.google.com/drive/1DCFB1jFkn_roCL1GskDTOD0--ZPPp4D1?usp=sharing)\n",
        "###### 第五集：[LeetCode 繳交數和題目順序的趨勢](https://colab.research.google.com/drive/1BUFsfylP1FqpoP-NOXYlt6NXuaHXKx3F?usp=sharing)"
      ]
    },
    {
      "cell_type": "markdown",
      "metadata": {
        "id": "JpWsf9FZR3H4"
      },
      "source": [
        "![image.png](data:image/png;base64,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)"
      ]
    },
    {
      "cell_type": "markdown",
      "metadata": {
        "id": "B6CLC-oXpGUx"
      },
      "source": [
        "# LeetCode 資料表總覽與初步分析\n",
        "\n",
        "在做分析之前，得先對資料有個初步的了解，進而做之後的分析，所以這一集是做資料總覽，並介紹一些 Pandas 實用的語法，方便將來說明程式的邏輯。"
      ]
    },
    {
      "cell_type": "markdown",
      "metadata": {
        "id": "pxnv_6MVwMIA"
      },
      "source": [
        "# 1. 讀取資料"
      ]
    },
    {
      "cell_type": "markdown",
      "metadata": {
        "id": "K2xPM5tgyjgS"
      },
      "source": [
        "這筆資料使用網路爬蟲抓取來並放到 github 上面，是一個 csv 檔，裡面有 LeetCode 題目的資料。如果這個系列的文章達 20 個分享，我會再介紹如何爬取 LeetCode 的資料。這裡先匯入 Pandas ，並使用 read_csv 讀取該資料，最後使用 head 輸出資料表前十列的資料（若不在 head 裡輸入任何參數會默認成輸出五行）。"
      ]
    },
    {
      "cell_type": "code",
      "metadata": {
        "colab": {
          "base_uri": "https://localhost:8080/",
          "height": 478
        },
        "id": "wMsZqFjLgp2Y",
        "outputId": "0c7609f6-de90-484f-e4a7-de9ac6f91c83"
      },
      "source": [
        "import pandas as pd\n",
        "\n",
        "df = pd.read_csv(\"https://raw.githubusercontent.com/OliverLiu-0722/leetcodeData/main/rawLeetcodeData.csv\")\n",
        "display(df.head(10))"
      ],
      "execution_count": null,
      "outputs": [
        {
          "output_type": "display_data",
          "data": {
            "text/html": [
              "<div>\n",
              "<style scoped>\n",
              "    .dataframe tbody tr th:only-of-type {\n",
              "        vertical-align: middle;\n",
              "    }\n",
              "\n",
              "    .dataframe tbody tr th {\n",
              "        vertical-align: top;\n",
              "    }\n",
              "\n",
              "    .dataframe thead th {\n",
              "        text-align: right;\n",
              "    }\n",
              "</style>\n",
              "<table border=\"1\" class=\"dataframe\">\n",
              "  <thead>\n",
              "    <tr style=\"text-align: right;\">\n",
              "      <th></th>\n",
              "      <th>Unnamed: 0</th>\n",
              "      <th>Title</th>\n",
              "      <th>urls</th>\n",
              "      <th>Difficulty</th>\n",
              "      <th>Tags</th>\n",
              "      <th>Acceptance</th>\n",
              "      <th>Submission</th>\n",
              "      <th>Acceptance_Rate</th>\n",
              "      <th>Likes</th>\n",
              "      <th>Dislikes</th>\n",
              "    </tr>\n",
              "  </thead>\n",
              "  <tbody>\n",
              "    <tr>\n",
              "      <th>0</th>\n",
              "      <td>0</td>\n",
              "      <td>1. Two Sum</td>\n",
              "      <td>/problems/two-sum</td>\n",
              "      <td>Easy</td>\n",
              "      <td>['Array', 'Hash Table']</td>\n",
              "      <td>4555271</td>\n",
              "      <td>9640910</td>\n",
              "      <td>47.2%</td>\n",
              "      <td>22541</td>\n",
              "      <td>761</td>\n",
              "    </tr>\n",
              "    <tr>\n",
              "      <th>1</th>\n",
              "      <td>1</td>\n",
              "      <td>2. Add Two Numbers</td>\n",
              "      <td>/problems/add-two-numbers</td>\n",
              "      <td>Medium</td>\n",
              "      <td>['Linked List', 'Math', 'Recursion']</td>\n",
              "      <td>2047557</td>\n",
              "      <td>5627989</td>\n",
              "      <td>36.3%</td>\n",
              "      <td>12777</td>\n",
              "      <td>2918</td>\n",
              "    </tr>\n",
              "    <tr>\n",
              "      <th>2</th>\n",
              "      <td>2</td>\n",
              "      <td>3. Longest Substring Without Repeating Characters</td>\n",
              "      <td>/problems/longest-substring-without-repeating-...</td>\n",
              "      <td>Medium</td>\n",
              "      <td>['Hash Table', 'String', 'Sliding Window']</td>\n",
              "      <td>2331754</td>\n",
              "      <td>7307416</td>\n",
              "      <td>31.9%</td>\n",
              "      <td>15813</td>\n",
              "      <td>779</td>\n",
              "    </tr>\n",
              "    <tr>\n",
              "      <th>3</th>\n",
              "      <td>3</td>\n",
              "      <td>4. Median of Two Sorted Arrays</td>\n",
              "      <td>/problems/median-of-two-sorted-arrays</td>\n",
              "      <td>Hard</td>\n",
              "      <td>['Array', 'Binary Search', 'Divide and Conquer']</td>\n",
              "      <td>1005436</td>\n",
              "      <td>3126681</td>\n",
              "      <td>32.1%</td>\n",
              "      <td>11228</td>\n",
              "      <td>1602</td>\n",
              "    </tr>\n",
              "    <tr>\n",
              "      <th>4</th>\n",
              "      <td>4</td>\n",
              "      <td>5. Longest Palindromic Substring</td>\n",
              "      <td>/problems/longest-palindromic-substring</td>\n",
              "      <td>Medium</td>\n",
              "      <td>['String', 'Dynamic Programming']</td>\n",
              "      <td>1377382</td>\n",
              "      <td>4445450</td>\n",
              "      <td>31.0%</td>\n",
              "      <td>11998</td>\n",
              "      <td>741</td>\n",
              "    </tr>\n",
              "    <tr>\n",
              "      <th>5</th>\n",
              "      <td>5</td>\n",
              "      <td>6. ZigZag Conversion</td>\n",
              "      <td>/problems/zigzag-conversion</td>\n",
              "      <td>Medium</td>\n",
              "      <td>['String']</td>\n",
              "      <td>601008</td>\n",
              "      <td>1538680</td>\n",
              "      <td>39.0%</td>\n",
              "      <td>2590</td>\n",
              "      <td>6234</td>\n",
              "    </tr>\n",
              "    <tr>\n",
              "      <th>6</th>\n",
              "      <td>6</td>\n",
              "      <td>7. Reverse Integer</td>\n",
              "      <td>/problems/reverse-integer</td>\n",
              "      <td>Easy</td>\n",
              "      <td>['Math']</td>\n",
              "      <td>1630434</td>\n",
              "      <td>6254159</td>\n",
              "      <td>26.1%</td>\n",
              "      <td>5145</td>\n",
              "      <td>7767</td>\n",
              "    </tr>\n",
              "    <tr>\n",
              "      <th>7</th>\n",
              "      <td>7</td>\n",
              "      <td>8. String to Integer (atoi)</td>\n",
              "      <td>/problems/string-to-integer-atoi</td>\n",
              "      <td>Medium</td>\n",
              "      <td>['String']</td>\n",
              "      <td>773552</td>\n",
              "      <td>4869709</td>\n",
              "      <td>15.9%</td>\n",
              "      <td>450</td>\n",
              "      <td>1225</td>\n",
              "    </tr>\n",
              "    <tr>\n",
              "      <th>8</th>\n",
              "      <td>8</td>\n",
              "      <td>9. Palindrome Number</td>\n",
              "      <td>/problems/palindrome-number</td>\n",
              "      <td>Easy</td>\n",
              "      <td>['Math']</td>\n",
              "      <td>1362686</td>\n",
              "      <td>2682573</td>\n",
              "      <td>50.7%</td>\n",
              "      <td>3602</td>\n",
              "      <td>1792</td>\n",
              "    </tr>\n",
              "    <tr>\n",
              "      <th>9</th>\n",
              "      <td>9</td>\n",
              "      <td>10. Regular Expression Matching</td>\n",
              "      <td>/problems/regular-expression-matching</td>\n",
              "      <td>Hard</td>\n",
              "      <td>['String', 'Dynamic Programming', 'Recursion']</td>\n",
              "      <td>562175</td>\n",
              "      <td>2028643</td>\n",
              "      <td>27.7%</td>\n",
              "      <td>6165</td>\n",
              "      <td>879</td>\n",
              "    </tr>\n",
              "  </tbody>\n",
              "</table>\n",
              "</div>"
            ],
            "text/plain": [
              "   Unnamed: 0  ... Dislikes\n",
              "0           0  ...      761\n",
              "1           1  ...     2918\n",
              "2           2  ...      779\n",
              "3           3  ...     1602\n",
              "4           4  ...      741\n",
              "5           5  ...     6234\n",
              "6           6  ...     7767\n",
              "7           7  ...     1225\n",
              "8           8  ...     1792\n",
              "9           9  ...      879\n",
              "\n",
              "[10 rows x 10 columns]"
            ]
          },
          "metadata": {}
        }
      ]
    },
    {
      "cell_type": "markdown",
      "metadata": {
        "id": "1f0p7K5iBQYH"
      },
      "source": [
        "#2 操作資料"
      ]
    },
    {
      "cell_type": "markdown",
      "metadata": {
        "id": "lkQ9ltTn97WI"
      },
      "source": [
        "## 2.1 刪除欄位\n",
        "觀察一下欄位，有兩個欄位不需要用到，分別為 Unnamed: 0 和 urls，可以直接刪除，使用 drop 可以一次把多個行列一次刪除，其中 drop 的參數輸入的格式個人偏好使用 columns=，只要輸入一陣列，裡面存取所有要刪除的所有欄位，便可一次刪除。若欲刪除一個或多個列可使用 index=，使用方法同上。"
      ]
    },
    {
      "cell_type": "code",
      "metadata": {
        "colab": {
          "base_uri": "https://localhost:8080/",
          "height": 359
        },
        "id": "k8pRhoXl-nfd",
        "outputId": "2d2d008f-c173-4e90-fc37-32e9a9698503"
      },
      "source": [
        "df = df.drop(columns=[\"Unnamed: 0\", \"urls\"])\n",
        "display(df.head(10))"
      ],
      "execution_count": null,
      "outputs": [
        {
          "output_type": "display_data",
          "data": {
            "text/html": [
              "<div>\n",
              "<style scoped>\n",
              "    .dataframe tbody tr th:only-of-type {\n",
              "        vertical-align: middle;\n",
              "    }\n",
              "\n",
              "    .dataframe tbody tr th {\n",
              "        vertical-align: top;\n",
              "    }\n",
              "\n",
              "    .dataframe thead th {\n",
              "        text-align: right;\n",
              "    }\n",
              "</style>\n",
              "<table border=\"1\" class=\"dataframe\">\n",
              "  <thead>\n",
              "    <tr style=\"text-align: right;\">\n",
              "      <th></th>\n",
              "      <th>Title</th>\n",
              "      <th>Difficulty</th>\n",
              "      <th>Tags</th>\n",
              "      <th>Acceptance</th>\n",
              "      <th>Submission</th>\n",
              "      <th>Acceptance_Rate</th>\n",
              "      <th>Likes</th>\n",
              "      <th>Dislikes</th>\n",
              "    </tr>\n",
              "  </thead>\n",
              "  <tbody>\n",
              "    <tr>\n",
              "      <th>0</th>\n",
              "      <td>1. Two Sum</td>\n",
              "      <td>Easy</td>\n",
              "      <td>['Array', 'Hash Table']</td>\n",
              "      <td>4555271</td>\n",
              "      <td>9640910</td>\n",
              "      <td>47.2%</td>\n",
              "      <td>22541</td>\n",
              "      <td>761</td>\n",
              "    </tr>\n",
              "    <tr>\n",
              "      <th>1</th>\n",
              "      <td>2. Add Two Numbers</td>\n",
              "      <td>Medium</td>\n",
              "      <td>['Linked List', 'Math', 'Recursion']</td>\n",
              "      <td>2047557</td>\n",
              "      <td>5627989</td>\n",
              "      <td>36.3%</td>\n",
              "      <td>12777</td>\n",
              "      <td>2918</td>\n",
              "    </tr>\n",
              "    <tr>\n",
              "      <th>2</th>\n",
              "      <td>3. Longest Substring Without Repeating Characters</td>\n",
              "      <td>Medium</td>\n",
              "      <td>['Hash Table', 'String', 'Sliding Window']</td>\n",
              "      <td>2331754</td>\n",
              "      <td>7307416</td>\n",
              "      <td>31.9%</td>\n",
              "      <td>15813</td>\n",
              "      <td>779</td>\n",
              "    </tr>\n",
              "    <tr>\n",
              "      <th>3</th>\n",
              "      <td>4. Median of Two Sorted Arrays</td>\n",
              "      <td>Hard</td>\n",
              "      <td>['Array', 'Binary Search', 'Divide and Conquer']</td>\n",
              "      <td>1005436</td>\n",
              "      <td>3126681</td>\n",
              "      <td>32.1%</td>\n",
              "      <td>11228</td>\n",
              "      <td>1602</td>\n",
              "    </tr>\n",
              "    <tr>\n",
              "      <th>4</th>\n",
              "      <td>5. Longest Palindromic Substring</td>\n",
              "      <td>Medium</td>\n",
              "      <td>['String', 'Dynamic Programming']</td>\n",
              "      <td>1377382</td>\n",
              "      <td>4445450</td>\n",
              "      <td>31.0%</td>\n",
              "      <td>11998</td>\n",
              "      <td>741</td>\n",
              "    </tr>\n",
              "    <tr>\n",
              "      <th>5</th>\n",
              "      <td>6. ZigZag Conversion</td>\n",
              "      <td>Medium</td>\n",
              "      <td>['String']</td>\n",
              "      <td>601008</td>\n",
              "      <td>1538680</td>\n",
              "      <td>39.0%</td>\n",
              "      <td>2590</td>\n",
              "      <td>6234</td>\n",
              "    </tr>\n",
              "    <tr>\n",
              "      <th>6</th>\n",
              "      <td>7. Reverse Integer</td>\n",
              "      <td>Easy</td>\n",
              "      <td>['Math']</td>\n",
              "      <td>1630434</td>\n",
              "      <td>6254159</td>\n",
              "      <td>26.1%</td>\n",
              "      <td>5145</td>\n",
              "      <td>7767</td>\n",
              "    </tr>\n",
              "    <tr>\n",
              "      <th>7</th>\n",
              "      <td>8. String to Integer (atoi)</td>\n",
              "      <td>Medium</td>\n",
              "      <td>['String']</td>\n",
              "      <td>773552</td>\n",
              "      <td>4869709</td>\n",
              "      <td>15.9%</td>\n",
              "      <td>450</td>\n",
              "      <td>1225</td>\n",
              "    </tr>\n",
              "    <tr>\n",
              "      <th>8</th>\n",
              "      <td>9. Palindrome Number</td>\n",
              "      <td>Easy</td>\n",
              "      <td>['Math']</td>\n",
              "      <td>1362686</td>\n",
              "      <td>2682573</td>\n",
              "      <td>50.7%</td>\n",
              "      <td>3602</td>\n",
              "      <td>1792</td>\n",
              "    </tr>\n",
              "    <tr>\n",
              "      <th>9</th>\n",
              "      <td>10. Regular Expression Matching</td>\n",
              "      <td>Hard</td>\n",
              "      <td>['String', 'Dynamic Programming', 'Recursion']</td>\n",
              "      <td>562175</td>\n",
              "      <td>2028643</td>\n",
              "      <td>27.7%</td>\n",
              "      <td>6165</td>\n",
              "      <td>879</td>\n",
              "    </tr>\n",
              "  </tbody>\n",
              "</table>\n",
              "</div>"
            ],
            "text/plain": [
              "                                               Title  ... Dislikes\n",
              "0                                         1. Two Sum  ...      761\n",
              "1                                 2. Add Two Numbers  ...     2918\n",
              "2  3. Longest Substring Without Repeating Characters  ...      779\n",
              "3                     4. Median of Two Sorted Arrays  ...     1602\n",
              "4                   5. Longest Palindromic Substring  ...      741\n",
              "5                               6. ZigZag Conversion  ...     6234\n",
              "6                                 7. Reverse Integer  ...     7767\n",
              "7                        8. String to Integer (atoi)  ...     1225\n",
              "8                               9. Palindrome Number  ...     1792\n",
              "9                    10. Regular Expression Matching  ...      879\n",
              "\n",
              "[10 rows x 8 columns]"
            ]
          },
          "metadata": {}
        }
      ]
    },
    {
      "cell_type": "markdown",
      "metadata": {
        "id": "mC3sjis0CumZ"
      },
      "source": [
        "刪除後的資料表看起來簡潔很多，資料量也比較小。"
      ]
    },
    {
      "cell_type": "markdown",
      "metadata": {
        "id": "3QrsCsln7o__"
      },
      "source": [
        "## 2.2 快速瀏覽資料\n",
        "接下來使用 info ，能快速瀏覽數據的基本資訊，主要是用於初步判斷資料量和欄位的型別。"
      ]
    },
    {
      "cell_type": "code",
      "metadata": {
        "colab": {
          "base_uri": "https://localhost:8080/",
          "height": 289
        },
        "id": "2RVnLKMY9z8-",
        "outputId": "f8647bdd-5df6-4bf2-a1a8-fe2c75a6c69e"
      },
      "source": [
        "display(df.info())"
      ],
      "execution_count": null,
      "outputs": [
        {
          "output_type": "stream",
          "name": "stdout",
          "text": [
            "<class 'pandas.core.frame.DataFrame'>\n",
            "RangeIndex: 1465 entries, 0 to 1464\n",
            "Data columns (total 8 columns):\n",
            " #   Column           Non-Null Count  Dtype \n",
            "---  ------           --------------  ----- \n",
            " 0   Title            1465 non-null   object\n",
            " 1   Difficulty       1465 non-null   object\n",
            " 2   Tags             1465 non-null   object\n",
            " 3   Acceptance       1465 non-null   int64 \n",
            " 4   Submission       1465 non-null   int64 \n",
            " 5   Acceptance_Rate  1465 non-null   object\n",
            " 6   Likes            1465 non-null   int64 \n",
            " 7   Dislikes         1465 non-null   int64 \n",
            "dtypes: int64(4), object(4)\n",
            "memory usage: 91.7+ KB\n"
          ]
        },
        {
          "output_type": "display_data",
          "data": {
            "text/plain": [
              "None"
            ]
          },
          "metadata": {}
        }
      ]
    },
    {
      "cell_type": "markdown",
      "metadata": {
        "id": "bFvi_Ga8AKQm"
      },
      "source": [
        "由 info 函式可已看出，此資料表有 1465 個欄位。雖然 LeetCode 目前已有將近兩千題，然而並非每道題都是公開的，有些題目會上鎖，得購買 LeetCode Plus 才會解鎖。而我在爬蟲時把非公開題目直接跳過了，故只剩 1465 題。"
      ]
    },
    {
      "cell_type": "markdown",
      "metadata": {
        "id": "n7hHkbuaeUzR"
      },
      "source": [
        "## 2.3 微調資料表\n",
        "根據資料表和 info，可看出一些需要小修改的地方，例如 Acceptance_Rate 欄位是個 object 而非 int64，還有 index 應被設為題號，而且，Tags 欄位的資料型態是 string 而非 list 。於是這裡使用 apply 對欄位修改，apply 函式需輸入一個函式，並對欄位裡的每一元素做該函式的操作。其中值得一提的是我是使用正則表達式（re）從題目名稱裡擷取出題號的，簡單來說他能輸出符合指定格式的字串，於是我將格式設為抓取開頭的數字，並將之設為新的 index。"
      ]
    },
    {
      "cell_type": "code",
      "metadata": {
        "colab": {
          "base_uri": "https://localhost:8080/",
          "height": 662
        },
        "id": "hO2Sq9RaeSjq",
        "outputId": "ee90b1ed-2acb-470e-9fbc-90fb35187dc6"
      },
      "source": [
        "import re\n",
        "\n",
        "df[\"id\"] = df[\"Title\"].apply(lambda s: re.match(r\"(\\d+)\\..*\", s).group(1))\n",
        "df = df.set_index(\"id\")\n",
        "df[\"Acceptance_Rate\"] = df[\"Acceptance_Rate\"].apply(lambda s: float(s[:-1]) / 100)\n",
        "df[\"Tags\"] = df[\"Tags\"].apply(lambda s: eval(s))\n",
        "display(df.head(10))\n",
        "display(df.info())"
      ],
      "execution_count": null,
      "outputs": [
        {
          "output_type": "display_data",
          "data": {
            "text/html": [
              "<div>\n",
              "<style scoped>\n",
              "    .dataframe tbody tr th:only-of-type {\n",
              "        vertical-align: middle;\n",
              "    }\n",
              "\n",
              "    .dataframe tbody tr th {\n",
              "        vertical-align: top;\n",
              "    }\n",
              "\n",
              "    .dataframe thead th {\n",
              "        text-align: right;\n",
              "    }\n",
              "</style>\n",
              "<table border=\"1\" class=\"dataframe\">\n",
              "  <thead>\n",
              "    <tr style=\"text-align: right;\">\n",
              "      <th></th>\n",
              "      <th>Title</th>\n",
              "      <th>Difficulty</th>\n",
              "      <th>Tags</th>\n",
              "      <th>Acceptance</th>\n",
              "      <th>Submission</th>\n",
              "      <th>Acceptance_Rate</th>\n",
              "      <th>Likes</th>\n",
              "      <th>Dislikes</th>\n",
              "    </tr>\n",
              "    <tr>\n",
              "      <th>id</th>\n",
              "      <th></th>\n",
              "      <th></th>\n",
              "      <th></th>\n",
              "      <th></th>\n",
              "      <th></th>\n",
              "      <th></th>\n",
              "      <th></th>\n",
              "      <th></th>\n",
              "    </tr>\n",
              "  </thead>\n",
              "  <tbody>\n",
              "    <tr>\n",
              "      <th>1</th>\n",
              "      <td>1. Two Sum</td>\n",
              "      <td>Easy</td>\n",
              "      <td>[Array, Hash Table]</td>\n",
              "      <td>4555271</td>\n",
              "      <td>9640910</td>\n",
              "      <td>0.472</td>\n",
              "      <td>22541</td>\n",
              "      <td>761</td>\n",
              "    </tr>\n",
              "    <tr>\n",
              "      <th>2</th>\n",
              "      <td>2. Add Two Numbers</td>\n",
              "      <td>Medium</td>\n",
              "      <td>[Linked List, Math, Recursion]</td>\n",
              "      <td>2047557</td>\n",
              "      <td>5627989</td>\n",
              "      <td>0.363</td>\n",
              "      <td>12777</td>\n",
              "      <td>2918</td>\n",
              "    </tr>\n",
              "    <tr>\n",
              "      <th>3</th>\n",
              "      <td>3. Longest Substring Without Repeating Characters</td>\n",
              "      <td>Medium</td>\n",
              "      <td>[Hash Table, String, Sliding Window]</td>\n",
              "      <td>2331754</td>\n",
              "      <td>7307416</td>\n",
              "      <td>0.319</td>\n",
              "      <td>15813</td>\n",
              "      <td>779</td>\n",
              "    </tr>\n",
              "    <tr>\n",
              "      <th>4</th>\n",
              "      <td>4. Median of Two Sorted Arrays</td>\n",
              "      <td>Hard</td>\n",
              "      <td>[Array, Binary Search, Divide and Conquer]</td>\n",
              "      <td>1005436</td>\n",
              "      <td>3126681</td>\n",
              "      <td>0.321</td>\n",
              "      <td>11228</td>\n",
              "      <td>1602</td>\n",
              "    </tr>\n",
              "    <tr>\n",
              "      <th>5</th>\n",
              "      <td>5. Longest Palindromic Substring</td>\n",
              "      <td>Medium</td>\n",
              "      <td>[String, Dynamic Programming]</td>\n",
              "      <td>1377382</td>\n",
              "      <td>4445450</td>\n",
              "      <td>0.310</td>\n",
              "      <td>11998</td>\n",
              "      <td>741</td>\n",
              "    </tr>\n",
              "    <tr>\n",
              "      <th>6</th>\n",
              "      <td>6. ZigZag Conversion</td>\n",
              "      <td>Medium</td>\n",
              "      <td>[String]</td>\n",
              "      <td>601008</td>\n",
              "      <td>1538680</td>\n",
              "      <td>0.390</td>\n",
              "      <td>2590</td>\n",
              "      <td>6234</td>\n",
              "    </tr>\n",
              "    <tr>\n",
              "      <th>7</th>\n",
              "      <td>7. Reverse Integer</td>\n",
              "      <td>Easy</td>\n",
              "      <td>[Math]</td>\n",
              "      <td>1630434</td>\n",
              "      <td>6254159</td>\n",
              "      <td>0.261</td>\n",
              "      <td>5145</td>\n",
              "      <td>7767</td>\n",
              "    </tr>\n",
              "    <tr>\n",
              "      <th>8</th>\n",
              "      <td>8. String to Integer (atoi)</td>\n",
              "      <td>Medium</td>\n",
              "      <td>[String]</td>\n",
              "      <td>773552</td>\n",
              "      <td>4869709</td>\n",
              "      <td>0.159</td>\n",
              "      <td>450</td>\n",
              "      <td>1225</td>\n",
              "    </tr>\n",
              "    <tr>\n",
              "      <th>9</th>\n",
              "      <td>9. Palindrome Number</td>\n",
              "      <td>Easy</td>\n",
              "      <td>[Math]</td>\n",
              "      <td>1362686</td>\n",
              "      <td>2682573</td>\n",
              "      <td>0.507</td>\n",
              "      <td>3602</td>\n",
              "      <td>1792</td>\n",
              "    </tr>\n",
              "    <tr>\n",
              "      <th>10</th>\n",
              "      <td>10. Regular Expression Matching</td>\n",
              "      <td>Hard</td>\n",
              "      <td>[String, Dynamic Programming, Recursion]</td>\n",
              "      <td>562175</td>\n",
              "      <td>2028643</td>\n",
              "      <td>0.277</td>\n",
              "      <td>6165</td>\n",
              "      <td>879</td>\n",
              "    </tr>\n",
              "  </tbody>\n",
              "</table>\n",
              "</div>"
            ],
            "text/plain": [
              "                                                Title  ... Dislikes\n",
              "id                                                     ...         \n",
              "1                                          1. Two Sum  ...      761\n",
              "2                                  2. Add Two Numbers  ...     2918\n",
              "3   3. Longest Substring Without Repeating Characters  ...      779\n",
              "4                      4. Median of Two Sorted Arrays  ...     1602\n",
              "5                    5. Longest Palindromic Substring  ...      741\n",
              "6                                6. ZigZag Conversion  ...     6234\n",
              "7                                  7. Reverse Integer  ...     7767\n",
              "8                         8. String to Integer (atoi)  ...     1225\n",
              "9                                9. Palindrome Number  ...     1792\n",
              "10                    10. Regular Expression Matching  ...      879\n",
              "\n",
              "[10 rows x 8 columns]"
            ]
          },
          "metadata": {}
        },
        {
          "output_type": "stream",
          "name": "stdout",
          "text": [
            "<class 'pandas.core.frame.DataFrame'>\n",
            "Index: 1465 entries, 1 to 1928\n",
            "Data columns (total 8 columns):\n",
            " #   Column           Non-Null Count  Dtype  \n",
            "---  ------           --------------  -----  \n",
            " 0   Title            1465 non-null   object \n",
            " 1   Difficulty       1465 non-null   object \n",
            " 2   Tags             1465 non-null   object \n",
            " 3   Acceptance       1465 non-null   int64  \n",
            " 4   Submission       1465 non-null   int64  \n",
            " 5   Acceptance_Rate  1465 non-null   float64\n",
            " 6   Likes            1465 non-null   int64  \n",
            " 7   Dislikes         1465 non-null   int64  \n",
            "dtypes: float64(1), int64(4), object(3)\n",
            "memory usage: 103.0+ KB\n"
          ]
        },
        {
          "output_type": "display_data",
          "data": {
            "text/plain": [
              "None"
            ]
          },
          "metadata": {}
        }
      ]
    },
    {
      "cell_type": "markdown",
      "metadata": {
        "id": "gPBrXnGul0xz"
      },
      "source": [
        "現在的資料表已經大致微調完畢，能開始進行初步分析。"
      ]
    },
    {
      "cell_type": "markdown",
      "metadata": {
        "id": "rPjQeLh1lvGa"
      },
      "source": [
        "# 3 初步分析"
      ]
    },
    {
      "cell_type": "markdown",
      "metadata": {
        "id": "scaXgWICmbf1"
      },
      "source": [
        "## 3.1 各項統計數據\n",
        "進行初步的分析時，我通常都會使用 describe 函式，其能顯示每個欄位的各項統計數據，如平均、最大最小值等。使用 describe 能快速對這數據有更多認識。"
      ]
    },
    {
      "cell_type": "code",
      "metadata": {
        "id": "HyD1DrGCnMcK",
        "colab": {
          "base_uri": "https://localhost:8080/",
          "height": 297
        },
        "outputId": "d8f5d7a7-3e51-4c56-dbd4-c4fdb5f9da92"
      },
      "source": [
        "display(df.describe())"
      ],
      "execution_count": null,
      "outputs": [
        {
          "output_type": "display_data",
          "data": {
            "text/html": [
              "<div>\n",
              "<style scoped>\n",
              "    .dataframe tbody tr th:only-of-type {\n",
              "        vertical-align: middle;\n",
              "    }\n",
              "\n",
              "    .dataframe tbody tr th {\n",
              "        vertical-align: top;\n",
              "    }\n",
              "\n",
              "    .dataframe thead th {\n",
              "        text-align: right;\n",
              "    }\n",
              "</style>\n",
              "<table border=\"1\" class=\"dataframe\">\n",
              "  <thead>\n",
              "    <tr style=\"text-align: right;\">\n",
              "      <th></th>\n",
              "      <th>Acceptance</th>\n",
              "      <th>Submission</th>\n",
              "      <th>Acceptance_Rate</th>\n",
              "      <th>Likes</th>\n",
              "      <th>Dislikes</th>\n",
              "    </tr>\n",
              "  </thead>\n",
              "  <tbody>\n",
              "    <tr>\n",
              "      <th>count</th>\n",
              "      <td>1.465000e+03</td>\n",
              "      <td>1.465000e+03</td>\n",
              "      <td>1465.000000</td>\n",
              "      <td>1465.000000</td>\n",
              "      <td>1465.000000</td>\n",
              "    </tr>\n",
              "    <tr>\n",
              "      <th>mean</th>\n",
              "      <td>1.532374e+05</td>\n",
              "      <td>3.293761e+05</td>\n",
              "      <td>0.515973</td>\n",
              "      <td>1409.408874</td>\n",
              "      <td>325.869625</td>\n",
              "    </tr>\n",
              "    <tr>\n",
              "      <th>std</th>\n",
              "      <td>2.713479e+05</td>\n",
              "      <td>6.467556e+05</td>\n",
              "      <td>0.142649</td>\n",
              "      <td>1873.201387</td>\n",
              "      <td>679.653274</td>\n",
              "    </tr>\n",
              "    <tr>\n",
              "      <th>min</th>\n",
              "      <td>1.712000e+03</td>\n",
              "      <td>3.296000e+03</td>\n",
              "      <td>0.137000</td>\n",
              "      <td>20.000000</td>\n",
              "      <td>2.000000</td>\n",
              "    </tr>\n",
              "    <tr>\n",
              "      <th>25%</th>\n",
              "      <td>1.883600e+04</td>\n",
              "      <td>3.804000e+04</td>\n",
              "      <td>0.408000</td>\n",
              "      <td>330.000000</td>\n",
              "      <td>43.000000</td>\n",
              "    </tr>\n",
              "    <tr>\n",
              "      <th>50%</th>\n",
              "      <td>4.961000e+04</td>\n",
              "      <td>8.984000e+04</td>\n",
              "      <td>0.506000</td>\n",
              "      <td>688.000000</td>\n",
              "      <td>120.000000</td>\n",
              "    </tr>\n",
              "    <tr>\n",
              "      <th>75%</th>\n",
              "      <td>1.654040e+05</td>\n",
              "      <td>3.314400e+05</td>\n",
              "      <td>0.608000</td>\n",
              "      <td>1659.000000</td>\n",
              "      <td>298.000000</td>\n",
              "    </tr>\n",
              "    <tr>\n",
              "      <th>max</th>\n",
              "      <td>4.555271e+06</td>\n",
              "      <td>9.640910e+06</td>\n",
              "      <td>0.949000</td>\n",
              "      <td>22541.000000</td>\n",
              "      <td>9588.000000</td>\n",
              "    </tr>\n",
              "  </tbody>\n",
              "</table>\n",
              "</div>"
            ],
            "text/plain": [
              "         Acceptance    Submission  Acceptance_Rate         Likes     Dislikes\n",
              "count  1.465000e+03  1.465000e+03      1465.000000   1465.000000  1465.000000\n",
              "mean   1.532374e+05  3.293761e+05         0.515973   1409.408874   325.869625\n",
              "std    2.713479e+05  6.467556e+05         0.142649   1873.201387   679.653274\n",
              "min    1.712000e+03  3.296000e+03         0.137000     20.000000     2.000000\n",
              "25%    1.883600e+04  3.804000e+04         0.408000    330.000000    43.000000\n",
              "50%    4.961000e+04  8.984000e+04         0.506000    688.000000   120.000000\n",
              "75%    1.654040e+05  3.314400e+05         0.608000   1659.000000   298.000000\n",
              "max    4.555271e+06  9.640910e+06         0.949000  22541.000000  9588.000000"
            ]
          },
          "metadata": {}
        }
      ]
    },
    {
      "cell_type": "markdown",
      "metadata": {
        "id": "GY-Z5U36n0jU"
      },
      "source": [
        "觀察上面的資料表，發現除 Acceptance_Rate 外，每個欄位的資料都相當離散，以 Submission 而言，中位數和第三四分位數差了三倍，Dislike 欄位更為明顯，平均數遠超過中位數，甚至是第三四分位數。"
      ]
    },
    {
      "cell_type": "markdown",
      "metadata": {
        "id": "MrmtxrL7xPJi"
      },
      "source": [
        "## 3.2 繪製盒狀圖\n",
        "為更清楚知道資料分布狀況，接下來使用盒狀圖分析每個欄位。使用 Seaborn 的 boxenplot，它跟一般的 boxplot（盒狀圖）最大的差別在於可以切割出更多部分。另設定了以難度分類，做出三個盒狀圖。而針對每個欄位畫盒狀圖時，需要使用 subplot 畫出更多子圖表。"
      ]
    },
    {
      "cell_type": "code",
      "metadata": {
        "id": "5wbzlDM1qdVA",
        "colab": {
          "base_uri": "https://localhost:8080/",
          "height": 1000
        },
        "outputId": "725a69f8-9d11-420b-ade8-577bbdfbe1bc"
      },
      "source": [
        "import matplotlib.pyplot as plt\n",
        "import seaborn as sns\n",
        "\n",
        "sns.set_theme(color_codes=True)\n",
        "plt.figure(figsize=(18, 24))\n",
        "for i, key in enumerate([\"Acceptance\", \"Submission\", \"Likes\", \"Dislikes\", \"Acceptance_Rate\"]):\n",
        "  plt.subplot(3, 2, i + 1)\n",
        "  sns.boxenplot(data=df, x='Difficulty', y=key)"
      ],
      "execution_count": null,
      "outputs": [
        {
          "output_type": "display_data",
          "data": {
            "image/png": "[encoded data removed]",
            "text/plain": [
              "<Figure size 1296x1728 with 5 Axes>"
            ]
          },
          "metadata": {}
        }
      ]
    },
    {
      "cell_type": "markdown",
      "metadata": {
        "id": "t9onLS0S4K-T"
      },
      "source": [
        "跟我先前的觀察一致，除了 Acceptance_Rate 以外分布狀況都相當離散。而且可以看出有特定幾題數值特別大，那些題目很有可能是影響平均數的主因。Acceptance_Rate 的部分，簡單題、中等題、困難題的正確率有較明顯的差別，但其它欄位中除某些極值外，沒有什麼明顯的區別，可以推論出正確數、繳交數、按讚數和倒讚數並不會依照題目難度而有所變化。"
      ]
    },
    {
      "cell_type": "markdown",
      "metadata": {
        "id": "Iy6rCFxlU7k4"
      },
      "source": [
        "## 3.3 繪製 Tags 分布狀況的長條圖\n",
        "接下來要研究的是每個標籤出現的情形，LeetCode 每個題目會出現一或多的標籤，在選擇做題的時候標籤就是個很好的依據，可用於判斷題型。只要分析標籤分佈情形，便能得知 LeetCode 題型分布狀況。在實作的時候，我使用 Counter 物件計算每個標籤出現次數，並取最常出現的 15 個。最後將之存入新的 DataFrame 中，再繪製出長條圖。"
      ]
    },
    {
      "cell_type": "code",
      "metadata": {
        "colab": {
          "base_uri": "https://localhost:8080/",
          "height": 1000
        },
        "id": "4TUjQ_oac42r",
        "outputId": "69380fa5-cd41-4744-970e-2bd3063de9af"
      },
      "source": [
        "from collections import Counter\n",
        "\n",
        "# df[\"Tags\"] = df[\"Tags\"].apply(lambda s: eval(s))\n",
        "c = Counter()\n",
        "for tags in df[\"Tags\"]:\n",
        "  for tag in tags:\n",
        "      c[tag] += 1\n",
        "\n",
        "s = pd.DataFrame(c.most_common())\n",
        "s.columns = [\"Tag\", \"Count\"]\n",
        "display(s.head(15))\n",
        "plt.figure(figsize = (20, 12))\n",
        "sns.barplot(data = s[:15], x = \"Count\", y = \"Tag\")"
      ],
      "execution_count": null,
      "outputs": [
        {
          "output_type": "display_data",
          "data": {
            "text/html": [
              "<div>\n",
              "<style scoped>\n",
              "    .dataframe tbody tr th:only-of-type {\n",
              "        vertical-align: middle;\n",
              "    }\n",
              "\n",
              "    .dataframe tbody tr th {\n",
              "        vertical-align: top;\n",
              "    }\n",
              "\n",
              "    .dataframe thead th {\n",
              "        text-align: right;\n",
              "    }\n",
              "</style>\n",
              "<table border=\"1\" class=\"dataframe\">\n",
              "  <thead>\n",
              "    <tr style=\"text-align: right;\">\n",
              "      <th></th>\n",
              "      <th>Tag</th>\n",
              "      <th>Count</th>\n",
              "    </tr>\n",
              "  </thead>\n",
              "  <tbody>\n",
              "    <tr>\n",
              "      <th>0</th>\n",
              "      <td>Array</td>\n",
              "      <td>748</td>\n",
              "    </tr>\n",
              "    <tr>\n",
              "      <th>1</th>\n",
              "      <td>String</td>\n",
              "      <td>364</td>\n",
              "    </tr>\n",
              "    <tr>\n",
              "      <th>2</th>\n",
              "      <td>Dynamic Programming</td>\n",
              "      <td>280</td>\n",
              "    </tr>\n",
              "    <tr>\n",
              "      <th>3</th>\n",
              "      <td>Math</td>\n",
              "      <td>274</td>\n",
              "    </tr>\n",
              "    <tr>\n",
              "      <th>4</th>\n",
              "      <td>Hash Table</td>\n",
              "      <td>254</td>\n",
              "    </tr>\n",
              "    <tr>\n",
              "      <th>5</th>\n",
              "      <td>Sorting</td>\n",
              "      <td>173</td>\n",
              "    </tr>\n",
              "    <tr>\n",
              "      <th>6</th>\n",
              "      <td>Greedy</td>\n",
              "      <td>165</td>\n",
              "    </tr>\n",
              "    <tr>\n",
              "      <th>7</th>\n",
              "      <td>Depth-First Search</td>\n",
              "      <td>165</td>\n",
              "    </tr>\n",
              "    <tr>\n",
              "      <th>8</th>\n",
              "      <td>Breadth-First Search</td>\n",
              "      <td>139</td>\n",
              "    </tr>\n",
              "    <tr>\n",
              "      <th>9</th>\n",
              "      <td>Tree</td>\n",
              "      <td>129</td>\n",
              "    </tr>\n",
              "    <tr>\n",
              "      <th>10</th>\n",
              "      <td>Binary Search</td>\n",
              "      <td>117</td>\n",
              "    </tr>\n",
              "    <tr>\n",
              "      <th>11</th>\n",
              "      <td>Matrix</td>\n",
              "      <td>116</td>\n",
              "    </tr>\n",
              "    <tr>\n",
              "      <th>12</th>\n",
              "      <td>Binary Tree</td>\n",
              "      <td>111</td>\n",
              "    </tr>\n",
              "    <tr>\n",
              "      <th>13</th>\n",
              "      <td>Two Pointers</td>\n",
              "      <td>110</td>\n",
              "    </tr>\n",
              "    <tr>\n",
              "      <th>14</th>\n",
              "      <td>Bit Manipulation</td>\n",
              "      <td>106</td>\n",
              "    </tr>\n",
              "  </tbody>\n",
              "</table>\n",
              "</div>"
            ],
            "text/plain": [
              "                     Tag  Count\n",
              "0                  Array    748\n",
              "1                 String    364\n",
              "2    Dynamic Programming    280\n",
              "3                   Math    274\n",
              "4             Hash Table    254\n",
              "5                Sorting    173\n",
              "6                 Greedy    165\n",
              "7     Depth-First Search    165\n",
              "8   Breadth-First Search    139\n",
              "9                   Tree    129\n",
              "10         Binary Search    117\n",
              "11                Matrix    116\n",
              "12           Binary Tree    111\n",
              "13          Two Pointers    110\n",
              "14      Bit Manipulation    106"
            ]
          },
          "metadata": {}
        },
        {
          "output_type": "execute_result",
          "data": {
            "text/plain": [
              "<matplotlib.axes._subplots.AxesSubplot at 0x7f39dad42050>"
            ]
          },
          "metadata": {},
          "execution_count": 16
        },
        {
          "output_type": "display_data",
          "data": {
            "image/png": "[encoded data removed]",
            "text/plain": [
              "<Figure size 1440x864 with 1 Axes>"
            ]
          },
          "metadata": {}
        }
      ]
    },
    {
      "cell_type": "markdown",
      "metadata": {
        "id": "eu7E8JmGjyGn"
      },
      "source": [
        "Array 是所有標籤中最高頻率出現的，出現次數甚至超過總題數的一半，即有一半的題目都有 Array 的標籤。而所有前 15 名的標籤都是有許多變化的基本概念、演算法或資料結構，所以能做出許多變化題且較常與其他標籤一起出現，出現頻率亦隨之增加。"
      ]
    },
    {
      "cell_type": "markdown",
      "metadata": {
        "id": "VRu847u5_t3o"
      },
      "source": [
        "# 4 小結"
      ]
    },
    {
      "cell_type": "markdown",
      "metadata": {
        "id": "EfHZPTo-_37p"
      },
      "source": [
        "由上面的分析方法，我們可以觀察出整筆資料的概況，並知道它的分布情形其實很不均勻。有了分布狀況，對於將來的分析會更有幫助。"
      ]
    },
    {
      "cell_type": "markdown",
      "metadata": {
        "id": "fCML-AiMEPuS"
      },
      "source": [
        "接下來就會陸續做更多 LeetCode 數據分析的系列，由簡單到難都有，看看 LeetCode 題目中還有什麼沒被觀察到的現象。"
      ]
    }
  ]
}