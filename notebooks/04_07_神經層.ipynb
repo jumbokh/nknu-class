{
  "nbformat": 4,
  "nbformat_minor": 0,
  "metadata": {
    "kernelspec": {
      "display_name": "Python 3",
      "language": "python",
      "name": "python3"
    },
    "language_info": {
      "codemirror_mode": {
        "name": "ipython",
        "version": 3
      },
      "file_extension": ".py",
      "mimetype": "text/x-python",
      "name": "python",
      "nbconvert_exporter": "python",
      "pygments_lexer": "ipython3",
      "version": "3.8.3"
    },
    "colab": {
      "name": "04_07_神經層.ipynb",
      "provenance": [],
      "include_colab_link": true
    }
  },
  "cells": [
    {
      "cell_type": "markdown",
      "metadata": {
        "id": "view-in-github",
        "colab_type": "text"
      },
      "source": [
        "<a href=\"https://colab.research.google.com/github/jumbokh/nknu-class/blob/main/notebooks/04_07_%E7%A5%9E%E7%B6%93%E5%B1%A4.ipynb\" target=\"_parent\"><img src=\"https://colab.research.google.com/assets/colab-badge.svg\" alt=\"Open In Colab\"/></a>"
      ]
    },
    {
      "cell_type": "markdown",
      "metadata": {
        "id": "qYp_4zAXrTbP"
      },
      "source": [
        "# 神經層"
      ]
    },
    {
      "cell_type": "markdown",
      "metadata": {
        "id": "pIqUOt7VrTbV"
      },
      "source": [
        "## 建立模型結構"
      ]
    },
    {
      "cell_type": "code",
      "metadata": {
        "id": "gWnigCg2rTbX",
        "outputId": "fa340c59-fa5f-44ef-acf4-7d8cf924de68"
      },
      "source": [
        "import tensorflow as tf\n",
        "from tensorflow.keras import layers\n",
        "\n",
        "# 建立模型\n",
        "model = tf.keras.models.Sequential([\n",
        "  tf.keras.layers.Flatten(input_shape=(28, 28)),\n",
        "  tf.keras.layers.Dense(128, activation='relu', name=\"layer1\"),\n",
        "  tf.keras.layers.Dropout(0.2),\n",
        "  tf.keras.layers.Dense(10, activation='softmax', name=\"layer2\")\n",
        "])\n",
        "\n",
        "# 設定優化器(optimizer)、損失函數(loss)、效能衡量指標(metrics)的類別\n",
        "model.compile(optimizer='adam',\n",
        "              loss='sparse_categorical_crossentropy',\n",
        "              metrics=['accuracy'])\n",
        "\n",
        "# 顯示模型彙總資訊\n",
        "model.summary()"
      ],
      "execution_count": null,
      "outputs": [
        {
          "name": "stdout",
          "output_type": "stream",
          "text": [
            "Model: \"sequential_3\"\n",
            "_________________________________________________________________\n",
            "Layer (type)                 Output Shape              Param #   \n",
            "=================================================================\n",
            "flatten_3 (Flatten)          (None, 784)               0         \n",
            "_________________________________________________________________\n",
            "layer1 (Dense)               (None, 128)               100480    \n",
            "_________________________________________________________________\n",
            "dropout_4 (Dropout)          (None, 128)               0         \n",
            "_________________________________________________________________\n",
            "layer2 (Dense)               (None, 10)                1290      \n",
            "=================================================================\n",
            "Total params: 101,770\n",
            "Trainable params: 101,770\n",
            "Non-trainable params: 0\n",
            "_________________________________________________________________\n"
          ]
        }
      ]
    },
    {
      "cell_type": "markdown",
      "metadata": {
        "id": "wwM4NaekrTbZ"
      },
      "source": [
        "## 第一層 Dense 參數個數計算"
      ]
    },
    {
      "cell_type": "code",
      "metadata": {
        "id": "J4uY0WXerTba",
        "outputId": "b1f64fc1-f337-4f75-e34e-c44e0a424351"
      },
      "source": [
        "# 設定模型的 input/output\n",
        "feature_extractor = tf.keras.Model(\n",
        "    inputs=model.inputs,\n",
        "    outputs=model.get_layer(name=\"layer1\").output,\n",
        ")\n",
        "\n",
        "# 呼叫 feature_extractor 取得 output\n",
        "x = tf.ones((1, 28, 28))\n",
        "features = feature_extractor(x)\n",
        "features.shape"
      ],
      "execution_count": null,
      "outputs": [
        {
          "data": {
            "text/plain": [
              "TensorShape([1, 128])"
            ]
          },
          "execution_count": 23,
          "metadata": {},
          "output_type": "execute_result"
        }
      ]
    },
    {
      "cell_type": "code",
      "metadata": {
        "scrolled": true,
        "id": "eSTL_NvDrTbb",
        "outputId": "c22fdbb5-dfbb-46c9-be36-e893a5cf40f7"
      },
      "source": [
        "# 第一層 Dense 參數個數計算\n",
        "parameter_count = (28 * 28) * features.shape[1] + features.shape[1]\n",
        "print(f'參數(parameter)個數：{parameter_count}')"
      ],
      "execution_count": null,
      "outputs": [
        {
          "name": "stdout",
          "output_type": "stream",
          "text": [
            "參數(parameter)個數：100480\n"
          ]
        }
      ]
    },
    {
      "cell_type": "markdown",
      "metadata": {
        "id": "NeWvPyWdrTbc"
      },
      "source": [
        "## 第二層 Dense 參數個數計算"
      ]
    },
    {
      "cell_type": "code",
      "metadata": {
        "id": "jCmSzNHarTbd",
        "outputId": "d41e6401-90d5-4bb6-dfae-c5c5df2eead5"
      },
      "source": [
        "# 設定模型的 input/output\n",
        "feature_extractor = tf.keras.Model(\n",
        "    inputs=model.inputs,\n",
        "    outputs=model.get_layer(name=\"layer2\").output,\n",
        ")\n",
        "\n",
        "# 呼叫 feature_extractor 取得 output\n",
        "x = tf.ones((1, 28, 28))\n",
        "features = feature_extractor(x)\n",
        "\n",
        "parameter_count = 128 * features.shape[1] + features.shape[1]\n",
        "print(f'參數(parameter)個數：{parameter_count}')"
      ],
      "execution_count": null,
      "outputs": [
        {
          "name": "stdout",
          "output_type": "stream",
          "text": [
            "參數(parameter)個數：1290\n"
          ]
        }
      ]
    },
    {
      "cell_type": "code",
      "metadata": {
        "id": "Cp0_CcE_rTbe"
      },
      "source": [
        ""
      ],
      "execution_count": null,
      "outputs": []
    }
  ]
}