{
  "nbformat": 4,
  "nbformat_minor": 0,
  "metadata": {
    "anaconda-cloud": {},
    "kernelspec": {
      "display_name": "Python [default]",
      "language": "python",
      "name": "python3"
    },
    "language_info": {
      "codemirror_mode": {
        "name": "ipython",
        "version": 3
      },
      "file_extension": ".py",
      "mimetype": "text/x-python",
      "name": "python",
      "nbconvert_exporter": "python",
      "pygments_lexer": "ipython3",
      "version": "3.6.1"
    },
    "colab": {
      "name": "14 迴歸法預測函數（新版）.ipynb",
      "provenance": [],
      "include_colab_link": true
    }
  },
  "cells": [
    {
      "cell_type": "markdown",
      "metadata": {
        "id": "view-in-github",
        "colab_type": "text"
      },
      "source": [
        "<a href=\"https://colab.research.google.com/github/jumbokh/nknu-class/blob/main/notebooks/14_%E8%BF%B4%E6%AD%B8%E6%B3%95%E9%A0%90%E6%B8%AC%E5%87%BD%E6%95%B8%EF%BC%88%E6%96%B0%E7%89%88%EF%BC%89.ipynb\" target=\"_parent\"><img src=\"https://colab.research.google.com/assets/colab-badge.svg\" alt=\"Open In Colab\"/></a>"
      ]
    },
    {
      "cell_type": "markdown",
      "metadata": {
        "id": "SUH40tMAla2J"
      },
      "source": [
        "# 14 迴歸法預測函數\n",
        "\n",
        "我們認真的來做一下數據分析!"
      ]
    },
    {
      "cell_type": "code",
      "metadata": {
        "collapsed": true,
        "id": "0DVrK5_Jla2S"
      },
      "source": [
        "%matplotlib inline\n",
        "import numpy as np\n",
        "import matplotlib.pyplot as plt"
      ],
      "execution_count": 1,
      "outputs": []
    },
    {
      "cell_type": "markdown",
      "metadata": {
        "id": "lSqg6tfula2X"
      },
      "source": [
        "## 1. 線性迴歸"
      ]
    },
    {
      "cell_type": "markdown",
      "metadata": {
        "id": "lVJS_3uyla2Z"
      },
      "source": [
        "#### 做一條直線\n",
        "\n",
        "我們來一條線, 比如說\n",
        "\n",
        "$$f(x) = 1.2x + 0.8$$\n",
        "\n",
        "準備好個 50 個點"
      ]
    },
    {
      "cell_type": "code",
      "metadata": {
        "collapsed": true,
        "id": "wZ-5nhZqla2a"
      },
      "source": [
        "x = np.linspace(0, 5, 50)"
      ],
      "execution_count": 2,
      "outputs": []
    },
    {
      "cell_type": "code",
      "metadata": {
        "collapsed": true,
        "id": "CndsXUeIla2a"
      },
      "source": [
        "y = 1.2*x + 0.8"
      ],
      "execution_count": 3,
      "outputs": []
    },
    {
      "cell_type": "markdown",
      "metadata": {
        "id": "7lv23hgPla2b"
      },
      "source": [
        "畫出圖形來。"
      ]
    },
    {
      "cell_type": "code",
      "metadata": {
        "colab": {
          "base_uri": "https://localhost:8080/",
          "height": 283
        },
        "id": "Di_gHulela2c",
        "outputId": "47b37f37-0ae6-45d6-9292-e7a47bebfe50"
      },
      "source": [
        "plt.scatter(x,y)\n",
        "plt.plot(x, 1.2*x+0.8, 'r')"
      ],
      "execution_count": 4,
      "outputs": [
        {
          "output_type": "execute_result",
          "data": {
            "text/plain": [
              "[<matplotlib.lines.Line2D at 0x7f6e95aa7f10>]"
            ]
          },
          "metadata": {},
          "execution_count": 4
        },
        {
          "output_type": "display_data",
          "data": {
            "image/png": "[encoded data removed]",
            "text/plain": [
              "<Figure size 432x288 with 1 Axes>"
            ]
          },
          "metadata": {
            "needs_background": "light"
          }
        }
      ]
    },
    {
      "cell_type": "markdown",
      "metadata": {
        "id": "5olkrT79la2f"
      },
      "source": [
        "#### 加入 noise 項, 看來更真實\n",
        "\n",
        "大概的想法就是, 我們真實世界的問題, 化成函數, 我們假設背後有個美好的函數。但相信我們很少看到真實世界的資料那麼漂亮。在統計上, 我們就是假設\n",
        "\n",
        "$$f(x) + \\varepsilon(x)$$\n",
        "\n",
        "也就是都有個 noise 項。"
      ]
    },
    {
      "cell_type": "code",
      "metadata": {
        "collapsed": true,
        "id": "RR92Qblrla2g"
      },
      "source": [
        "y = 1.2*x + 0.8 + 0.6*np.random.randn(50)"
      ],
      "execution_count": 5,
      "outputs": []
    },
    {
      "cell_type": "code",
      "metadata": {
        "colab": {
          "base_uri": "https://localhost:8080/",
          "height": 282
        },
        "id": "JXijBgVDla2h",
        "outputId": "048cad0f-9210-4193-bf3a-1efbaaeb3a23"
      },
      "source": [
        "plt.scatter(x,y)\n",
        "plt.plot(x, 1.2*x + 0.8, 'r')"
      ],
      "execution_count": 6,
      "outputs": [
        {
          "output_type": "execute_result",
          "data": {
            "text/plain": [
              "[<matplotlib.lines.Line2D at 0x7f6e95599a50>]"
            ]
          },
          "metadata": {},
          "execution_count": 6
        },
        {
          "output_type": "display_data",
          "data": {
            "image/png": "[encoded data removed]",
            "text/plain": [
              "<Figure size 432x288 with 1 Axes>"
            ]
          },
          "metadata": {
            "needs_background": "light"
          }
        }
      ]
    },
    {
      "cell_type": "markdown",
      "metadata": {
        "id": "2mHm_4Dhla2h"
      },
      "source": [
        "#### 做線性迴歸找出那條線"
      ]
    },
    {
      "cell_type": "markdown",
      "metadata": {
        "id": "OCk1oewSla2i"
      },
      "source": [
        "做線性迴歸有很多套件, 但我們這裡用 `sklearn` 裡的 `LinearRegression` 來做, 嗯, 線性迴歸。"
      ]
    },
    {
      "cell_type": "code",
      "metadata": {
        "collapsed": true,
        "id": "WR4ruuHOla2i"
      },
      "source": [
        "from sklearn.linear_model import LinearRegression"
      ],
      "execution_count": 7,
      "outputs": []
    },
    {
      "cell_type": "code",
      "metadata": {
        "collapsed": true,
        "id": "NDvDmT2ola2j"
      },
      "source": [
        "regr = LinearRegression()"
      ],
      "execution_count": 8,
      "outputs": []
    },
    {
      "cell_type": "markdown",
      "metadata": {
        "id": "m8d5V-rkla2j"
      },
      "source": [
        "這裡要注意我們本來的 x 是\n",
        "\n",
        "$$[x_1, x_2, \\ldots, x_{50}]$$\n",
        "\n",
        "但現在要的是\n",
        "\n",
        "$$[[x_1], [x_2], \\ldots, [x_{50}]]$$\n",
        "\n",
        "這樣的。"
      ]
    },
    {
      "cell_type": "code",
      "metadata": {
        "collapsed": true,
        "id": "LGXHvP65la2j"
      },
      "source": [
        "X = x.reshape(len(x),1)"
      ],
      "execution_count": 9,
      "outputs": []
    },
    {
      "cell_type": "code",
      "metadata": {
        "colab": {
          "base_uri": "https://localhost:8080/"
        },
        "id": "200hFXZQla2k",
        "outputId": "5bc746ae-12b1-4e1e-cef3-03a40d787dc4"
      },
      "source": [
        "regr.fit(X,y)"
      ],
      "execution_count": 10,
      "outputs": [
        {
          "output_type": "execute_result",
          "data": {
            "text/plain": [
              "LinearRegression(copy_X=True, fit_intercept=True, n_jobs=None, normalize=False)"
            ]
          },
          "metadata": {},
          "execution_count": 10
        }
      ]
    },
    {
      "cell_type": "code",
      "metadata": {
        "collapsed": true,
        "id": "Q8zuPUDula2k"
      },
      "source": [
        "Y = regr.predict(X)"
      ],
      "execution_count": 11,
      "outputs": []
    },
    {
      "cell_type": "code",
      "metadata": {
        "colab": {
          "base_uri": "https://localhost:8080/",
          "height": 282
        },
        "id": "2SdcwV0rla2l",
        "outputId": "ce2ad2fc-94a3-4fb2-8adf-fc0ee7d09cb3"
      },
      "source": [
        "plt.scatter(x, y)\n",
        "plt.plot(x, Y, 'r')"
      ],
      "execution_count": 12,
      "outputs": [
        {
          "output_type": "execute_result",
          "data": {
            "text/plain": [
              "[<matplotlib.lines.Line2D at 0x7f6e84a39e90>]"
            ]
          },
          "metadata": {},
          "execution_count": 12
        },
        {
          "output_type": "display_data",
          "data": {
            "image/png": "[encoded data removed]",
            "text/plain": [
              "<Figure size 432x288 with 1 Axes>"
            ]
          },
          "metadata": {
            "needs_background": "light"
          }
        }
      ]
    },
    {
      "cell_type": "markdown",
      "metadata": {
        "id": "Hm6GiPEola2l"
      },
      "source": [
        "## 2. 標準函數訓練及測試\n",
        "\n",
        "#### 分訓練資料、測試資料\n",
        "\n",
        "一般我們想要看算出來的逼近函數在預測上是不是可靠, 會把一些資料留給「測試」, 就是不讓電腦在計算時「看到」這些測試資料。等函數學成了以後, 再來測試準不準確。這是我們可以用\n",
        "\n",
        "    sklearn.cross_validation\n",
        "    \n",
        "裡的\n",
        "\n",
        "    train_test_split\n",
        "    \n",
        "來亂數選一定百分比的資料來用。"
      ]
    },
    {
      "cell_type": "code",
      "metadata": {
        "collapsed": true,
        "id": "BuPAa21Kla2l"
      },
      "source": [
        "from sklearn.model_selection import train_test_split"
      ],
      "execution_count": 13,
      "outputs": []
    },
    {
      "cell_type": "markdown",
      "metadata": {
        "id": "jPfSJa6pla2m"
      },
      "source": [
        "把原來的 `x`, `y` 中的 80% 給 training data, 20% 給 testing data。"
      ]
    },
    {
      "cell_type": "code",
      "metadata": {
        "collapsed": true,
        "id": "PXeXXCFwla2m"
      },
      "source": [
        "x_train, x_test, y_train, y_test = train_test_split(x, y, test_size=0.2, random_state=1)"
      ],
      "execution_count": 14,
      "outputs": []
    },
    {
      "cell_type": "markdown",
      "metadata": {
        "id": "JpAoWBnKla2m"
      },
      "source": [
        "我們在「訓練」這個函數時只有以下這些資料。"
      ]
    },
    {
      "cell_type": "code",
      "metadata": {
        "colab": {
          "base_uri": "https://localhost:8080/",
          "height": 282
        },
        "id": "zV4PGDKPla2m",
        "outputId": "e6e0fa2f-9868-4072-e2e1-bebf82a828a7"
      },
      "source": [
        "plt.scatter(x_train, y_train)"
      ],
      "execution_count": 15,
      "outputs": [
        {
          "output_type": "execute_result",
          "data": {
            "text/plain": [
              "<matplotlib.collections.PathCollection at 0x7f6e849a5c90>"
            ]
          },
          "metadata": {},
          "execution_count": 15
        },
        {
          "output_type": "display_data",
          "data": {
            "image/png": "[encoded data removed]",
            "text/plain": [
              "<Figure size 432x288 with 1 Axes>"
            ]
          },
          "metadata": {
            "needs_background": "light"
          }
        }
      ]
    },
    {
      "cell_type": "markdown",
      "metadata": {
        "id": "CoiHHnrgla2n"
      },
      "source": [
        "#### 用訓練資料來 fit 函數\n",
        "\n",
        "記得現在我們只用 80% 的資料去訓練。"
      ]
    },
    {
      "cell_type": "code",
      "metadata": {
        "colab": {
          "base_uri": "https://localhost:8080/"
        },
        "id": "AwdnbJDfla2n",
        "outputId": "794b107a-d923-432f-e866-0240492fe568"
      },
      "source": [
        "regr = LinearRegression()\n",
        "X_train = x_train.reshape(len(x_train),1)\n",
        "regr.fit(X_train,y_train)"
      ],
      "execution_count": 16,
      "outputs": [
        {
          "output_type": "execute_result",
          "data": {
            "text/plain": [
              "LinearRegression(copy_X=True, fit_intercept=True, n_jobs=None, normalize=False)"
            ]
          },
          "metadata": {},
          "execution_count": 16
        }
      ]
    },
    {
      "cell_type": "code",
      "metadata": {
        "collapsed": true,
        "id": "1SeW14_Wla2n"
      },
      "source": [
        "Y_train = regr.predict(X_train)"
      ],
      "execution_count": 17,
      "outputs": []
    },
    {
      "cell_type": "code",
      "metadata": {
        "colab": {
          "base_uri": "https://localhost:8080/",
          "height": 282
        },
        "id": "YUsNyZF3la2o",
        "outputId": "135a536b-1988-4079-b890-18ada3b2df88"
      },
      "source": [
        "plt.scatter(x_train, y_train)\n",
        "plt.plot(x_train, Y_train, 'r')"
      ],
      "execution_count": 18,
      "outputs": [
        {
          "output_type": "execute_result",
          "data": {
            "text/plain": [
              "[<matplotlib.lines.Line2D at 0x7f6e84972790>]"
            ]
          },
          "metadata": {},
          "execution_count": 18
        },
        {
          "output_type": "display_data",
          "data": {
            "image/png": "[encoded data removed]",
            "text/plain": [
              "<Figure size 432x288 with 1 Axes>"
            ]
          },
          "metadata": {
            "needs_background": "light"
          }
        }
      ]
    },
    {
      "cell_type": "markdown",
      "metadata": {
        "id": "vu_tQrqQla2o"
      },
      "source": [
        "#### 用測試資料試試我們預測準不準"
      ]
    },
    {
      "cell_type": "code",
      "metadata": {
        "collapsed": true,
        "id": "1Wl8GzALla2o"
      },
      "source": [
        "X_test = x_test.reshape(len(x_test),1)"
      ],
      "execution_count": 19,
      "outputs": []
    },
    {
      "cell_type": "code",
      "metadata": {
        "collapsed": true,
        "id": "B8irdXS5la2o"
      },
      "source": [
        "Y_test = regr.predict(X_test)"
      ],
      "execution_count": 20,
      "outputs": []
    },
    {
      "cell_type": "code",
      "metadata": {
        "collapsed": true,
        "id": "U3ib9xB1la2o"
      },
      "source": [
        "mse = np.sum((Y_test-y_test)**2) / len(y_test)"
      ],
      "execution_count": 21,
      "outputs": []
    },
    {
      "cell_type": "code",
      "metadata": {
        "colab": {
          "base_uri": "https://localhost:8080/"
        },
        "id": "J-8bAbKtla2p",
        "outputId": "2763e789-74ce-4652-fe9c-72212d67dacf"
      },
      "source": [
        "mse"
      ],
      "execution_count": 22,
      "outputs": [
        {
          "output_type": "execute_result",
          "data": {
            "text/plain": [
              "0.39314724188771455"
            ]
          },
          "metadata": {},
          "execution_count": 22
        }
      ]
    },
    {
      "cell_type": "code",
      "metadata": {
        "colab": {
          "base_uri": "https://localhost:8080/",
          "height": 282
        },
        "id": "k2I1yBTFla2p",
        "outputId": "26cced79-cfdc-4255-b132-dcfed0eb4c46"
      },
      "source": [
        "plt.scatter(x_test, y_test)\n",
        "plt.scatter(x_test, Y_test, c='r')"
      ],
      "execution_count": 23,
      "outputs": [
        {
          "output_type": "execute_result",
          "data": {
            "text/plain": [
              "<matplotlib.collections.PathCollection at 0x7f6e84916410>"
            ]
          },
          "metadata": {},
          "execution_count": 23
        },
        {
          "output_type": "display_data",
          "data": {
            "image/png": "[encoded data removed]",
            "text/plain": [
              "<Figure size 432x288 with 1 Axes>"
            ]
          },
          "metadata": {
            "needs_background": "light"
          }
        }
      ]
    },
    {
      "cell_type": "markdown",
      "metadata": {
        "id": "LlwcNhyela2q"
      },
      "source": [
        "## 3. 不是線性的目標函數\n",
        "\n",
        "這裡我們用個非線性的函數來生假數據:\n",
        "\n",
        "$$f(x) = \\sin(3.2x) + 0.8x$$\n",
        "\n",
        "一樣準備加上一些 noise。"
      ]
    },
    {
      "cell_type": "markdown",
      "metadata": {
        "id": "SjCcUg9gla2q"
      },
      "source": [
        "### 3. 生成假資料"
      ]
    },
    {
      "cell_type": "code",
      "metadata": {
        "collapsed": true,
        "id": "4hhhX4Cdla2q"
      },
      "source": [
        "x = np.linspace(0, 5, 50)\n",
        "y = np.sin(3.2*x) + 0.8*x + 0.3*np.random.randn(50)"
      ],
      "execution_count": 24,
      "outputs": []
    },
    {
      "cell_type": "code",
      "metadata": {
        "colab": {
          "base_uri": "https://localhost:8080/",
          "height": 282
        },
        "id": "_ToQ3TYGla2q",
        "outputId": "14a3544e-f592-4fa6-e179-0e2d54576e94"
      },
      "source": [
        "plt.plot(x, y)"
      ],
      "execution_count": 25,
      "outputs": [
        {
          "output_type": "execute_result",
          "data": {
            "text/plain": [
              "[<matplotlib.lines.Line2D at 0x7f6e8487c950>]"
            ]
          },
          "metadata": {},
          "execution_count": 25
        },
        {
          "output_type": "display_data",
          "data": {
            "image/png": "[encoded data removed]",
            "text/plain": [
              "<Figure size 432x288 with 1 Axes>"
            ]
          },
          "metadata": {
            "needs_background": "light"
          }
        }
      ]
    },
    {
      "cell_type": "markdown",
      "metadata": {
        "id": "ULi8uav8la2r"
      },
      "source": [
        "#### 標準線性學"
      ]
    },
    {
      "cell_type": "code",
      "metadata": {
        "collapsed": true,
        "id": "ez_5iB1vla2r"
      },
      "source": [
        "regr_lin = LinearRegression()"
      ],
      "execution_count": 26,
      "outputs": []
    },
    {
      "cell_type": "code",
      "metadata": {
        "collapsed": true,
        "id": "_CHq64wMla2r"
      },
      "source": [
        "X = x.reshape(len(x), 1)"
      ],
      "execution_count": 27,
      "outputs": []
    },
    {
      "cell_type": "code",
      "metadata": {
        "colab": {
          "base_uri": "https://localhost:8080/"
        },
        "id": "sWwvs_iBla2r",
        "outputId": "78168567-e093-462f-ab87-5a81c8217456"
      },
      "source": [
        "regr_lin.fit(X,y)"
      ],
      "execution_count": 28,
      "outputs": [
        {
          "output_type": "execute_result",
          "data": {
            "text/plain": [
              "LinearRegression(copy_X=True, fit_intercept=True, n_jobs=None, normalize=False)"
            ]
          },
          "metadata": {},
          "execution_count": 28
        }
      ]
    },
    {
      "cell_type": "code",
      "metadata": {
        "colab": {
          "base_uri": "https://localhost:8080/",
          "height": 282
        },
        "id": "pyxphXpRla2r",
        "outputId": "656c2a00-4fd0-4c9a-ef5f-0fc1b27043ff"
      },
      "source": [
        "plt.scatter(x,y)\n",
        "plt.plot(x, regr_lin.predict(X), 'r')"
      ],
      "execution_count": 29,
      "outputs": [
        {
          "output_type": "execute_result",
          "data": {
            "text/plain": [
              "[<matplotlib.lines.Line2D at 0x7f6e847eea90>]"
            ]
          },
          "metadata": {},
          "execution_count": 29
        },
        {
          "output_type": "display_data",
          "data": {
            "image/png": "[encoded data removed]",
            "text/plain": [
              "<Figure size 432x288 with 1 Axes>"
            ]
          },
          "metadata": {
            "needs_background": "light"
          }
        }
      ]
    },
    {
      "cell_type": "markdown",
      "metadata": {
        "id": "wJR7u0nola2s"
      },
      "source": [
        "果然超級不準, 該如何是好?"
      ]
    },
    {
      "cell_type": "markdown",
      "metadata": {
        "id": "oWe56bW4la2s"
      },
      "source": [
        "#### 多項式\n",
        "\n",
        "我們來用 6 次多項式學"
      ]
    },
    {
      "cell_type": "code",
      "metadata": {
        "collapsed": true,
        "id": "ckdOySBAla2s"
      },
      "source": [
        "X_poly = np.array([[k, k**2, k**3, k**4, k**5, k**6] for k in x])"
      ],
      "execution_count": 30,
      "outputs": []
    },
    {
      "cell_type": "code",
      "metadata": {
        "collapsed": true,
        "id": "7DNWXxTkla2s"
      },
      "source": [
        "regr_poly = LinearRegression()"
      ],
      "execution_count": 31,
      "outputs": []
    },
    {
      "cell_type": "code",
      "metadata": {
        "colab": {
          "base_uri": "https://localhost:8080/"
        },
        "id": "xHKD9hA_la2s",
        "outputId": "a548601e-0575-4a2d-fef8-bbf854acbc78"
      },
      "source": [
        "regr_poly.fit(X_poly, y)"
      ],
      "execution_count": 32,
      "outputs": [
        {
          "output_type": "execute_result",
          "data": {
            "text/plain": [
              "LinearRegression(copy_X=True, fit_intercept=True, n_jobs=None, normalize=False)"
            ]
          },
          "metadata": {},
          "execution_count": 32
        }
      ]
    },
    {
      "cell_type": "code",
      "metadata": {
        "colab": {
          "base_uri": "https://localhost:8080/",
          "height": 282
        },
        "id": "lPyuiG2pla2s",
        "outputId": "5d786afd-1723-4043-c17d-4920cbaedf2a"
      },
      "source": [
        "plt.scatter(x,y)\n",
        "plt.plot(x, regr_poly.predict(X_poly), 'r')"
      ],
      "execution_count": 33,
      "outputs": [
        {
          "output_type": "execute_result",
          "data": {
            "text/plain": [
              "[<matplotlib.lines.Line2D at 0x7f6e8275da50>]"
            ]
          },
          "metadata": {},
          "execution_count": 33
        },
        {
          "output_type": "display_data",
          "data": {
            "image/png": "[encoded data removed]",
            "text/plain": [
              "<Figure size 432x288 with 1 Axes>"
            ]
          },
          "metadata": {
            "needs_background": "light"
          }
        }
      ]
    },
    {
      "cell_type": "markdown",
      "metadata": {
        "id": "lgqzNxeWla2t"
      },
      "source": [
        "#### 用 RBF!!\n",
        "\n",
        "$$\\phi_i = e^{-\\| x - c_i \\|^2/2\\sigma^2}$$"
      ]
    },
    {
      "cell_type": "code",
      "metadata": {
        "collapsed": true,
        "id": "234yj2gola2t"
      },
      "source": [
        "def RBF(x, center, sigma):\n",
        "    k = np.exp(-(x - center)**2/(2*sigma**2))\n",
        "    return k"
      ],
      "execution_count": 34,
      "outputs": []
    },
    {
      "cell_type": "code",
      "metadata": {
        "collapsed": true,
        "id": "TWIPcQQyla2t"
      },
      "source": [
        "sigma = 0.3"
      ],
      "execution_count": 35,
      "outputs": []
    },
    {
      "cell_type": "code",
      "metadata": {
        "collapsed": true,
        "id": "0CnS7ldmla2u"
      },
      "source": [
        "X_rbf = np.array([[RBF(k, 0.5, sigma), \n",
        "                  RBF(k, 1.5, sigma),\n",
        "                  RBF(k, 2.5, sigma),\n",
        "                  RBF(k, 3.5, sigma),\n",
        "                  RBF(k, 4.5, sigma)] for k in x])"
      ],
      "execution_count": 36,
      "outputs": []
    },
    {
      "cell_type": "code",
      "metadata": {
        "collapsed": true,
        "id": "IjdVriIbla2u"
      },
      "source": [
        "regr_rbf = LinearRegression()"
      ],
      "execution_count": 37,
      "outputs": []
    },
    {
      "cell_type": "code",
      "metadata": {
        "colab": {
          "base_uri": "https://localhost:8080/"
        },
        "id": "_6p4ROGKla2u",
        "outputId": "c6df5112-bc04-44a0-b4c0-6c4e6161e286"
      },
      "source": [
        "regr_rbf.fit(X_rbf, y)"
      ],
      "execution_count": 38,
      "outputs": [
        {
          "output_type": "execute_result",
          "data": {
            "text/plain": [
              "LinearRegression(copy_X=True, fit_intercept=True, n_jobs=None, normalize=False)"
            ]
          },
          "metadata": {},
          "execution_count": 38
        }
      ]
    },
    {
      "cell_type": "code",
      "metadata": {
        "colab": {
          "base_uri": "https://localhost:8080/",
          "height": 282
        },
        "id": "zhiLqFRkla2u",
        "outputId": "a9a626ea-24f5-4471-a75e-556d7a8ab642"
      },
      "source": [
        "plt.scatter(x,y)\n",
        "plt.plot(x, regr_rbf.predict(X_rbf), 'r')"
      ],
      "execution_count": 39,
      "outputs": [
        {
          "output_type": "execute_result",
          "data": {
            "text/plain": [
              "[<matplotlib.lines.Line2D at 0x7f6e8274fd50>]"
            ]
          },
          "metadata": {},
          "execution_count": 39
        },
        {
          "output_type": "display_data",
          "data": {
            "image/png": "[encoded data removed]",
            "text/plain": [
              "<Figure size 432x288 with 1 Axes>"
            ]
          },
          "metadata": {
            "needs_background": "light"
          }
        }
      ]
    },
    {
      "cell_type": "markdown",
      "metadata": {
        "id": "24cOnS0mla2u"
      },
      "source": [
        "#### 三種一起比較"
      ]
    },
    {
      "cell_type": "code",
      "metadata": {
        "collapsed": true,
        "id": "QGBmgUE9la2v"
      },
      "source": [
        "Y_lin = regr_lin.predict(X)\n",
        "Y_poly = regr_poly.predict(X_poly)\n",
        "Y_rbf = regr_rbf.predict(X_rbf)"
      ],
      "execution_count": 40,
      "outputs": []
    },
    {
      "cell_type": "code",
      "metadata": {
        "scrolled": true,
        "colab": {
          "base_uri": "https://localhost:8080/",
          "height": 282
        },
        "id": "nieZzsYHla2v",
        "outputId": "9e32386e-5105-4411-d23a-777c19c67cb3"
      },
      "source": [
        "plt.scatter(x,y)\n",
        "\n",
        "plt.plot(x, Y_lin, label='linear')\n",
        "plt.plot(x, Y_poly, label='polynomial')\n",
        "plt.plot(x, Y_rbf, label='rbf')\n",
        "plt.legend()"
      ],
      "execution_count": 41,
      "outputs": [
        {
          "output_type": "execute_result",
          "data": {
            "text/plain": [
              "<matplotlib.legend.Legend at 0x7f6e826ce0d0>"
            ]
          },
          "metadata": {},
          "execution_count": 41
        },
        {
          "output_type": "display_data",
          "data": {
            "image/png": "[encoded data removed]",
            "text/plain": [
              "<Figure size 432x288 with 1 Axes>"
            ]
          },
          "metadata": {
            "needs_background": "light"
          }
        }
      ]
    }
  ]
}