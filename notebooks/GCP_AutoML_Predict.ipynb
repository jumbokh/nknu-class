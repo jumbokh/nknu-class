{
  "nbformat": 4,
  "nbformat_minor": 0,
  "metadata": {
    "colab": {
      "name": "GCP-AutoML-Predict.ipynb",
      "provenance": [],
      "authorship_tag": "ABX9TyNGSn//ZEPZwmq7ISfxtI0d",
      "include_colab_link": true
    },
    "kernelspec": {
      "name": "python3",
      "display_name": "Python 3"
    },
    "language_info": {
      "name": "python"
    }
  },
  "cells": [
    {
      "cell_type": "markdown",
      "metadata": {
        "id": "view-in-github",
        "colab_type": "text"
      },
      "source": [
        "<a href=\"https://colab.research.google.com/github/jumbokh/nknu-class/blob/main/notebooks/GCP_AutoML_Predict.ipynb\" target=\"_parent\"><img src=\"https://colab.research.google.com/assets/colab-badge.svg\" alt=\"Open In Colab\"/></a>"
      ]
    },
    {
      "cell_type": "code",
      "metadata": {
        "id": "m_8rXpRLjITR"
      },
      "source": [
        "#python predict.py YOUR_LOCAL_IMAGE_FILE 41275790770 ICN8617160698926989312"
      ],
      "execution_count": null,
      "outputs": []
    },
    {
      "cell_type": "code",
      "metadata": {
        "id": "zCF_eTd1jJBb"
      },
      "source": [
        "import sys\n",
        "\n",
        "from google.cloud import automl_v1beta1\n",
        "from google.cloud.automl_v1beta1.proto import service_pb2\n",
        "\n",
        "\n",
        "# 'content' is base-64-encoded image data.\n",
        "def get_prediction(content, project_id, model_id):\n",
        "  prediction_client = automl_v1beta1.PredictionServiceClient()\n",
        "\n",
        "  name = 'projects/{}/locations/us-central1/models/{}'.format(project_id, model_id)\n",
        "  payload = {'image': {'image_bytes': content }}\n",
        "  params = {}\n",
        "  request = prediction_client.predict(name, payload, params)\n",
        "  return request  # waits till request is returned\n",
        "\n",
        "if __name__ == '__main__':\n",
        "  file_path = sys.argv[1]\n",
        "  project_id = sys.argv[2]\n",
        "  model_id = sys.argv[3]\n",
        "\n",
        "  with open(file_path, 'rb') as ff:\n",
        "    content = ff.read()\n",
        "\n",
        "  print get_prediction(content, project_id, model_id)"
      ],
      "execution_count": null,
      "outputs": []
    }
  ]
}