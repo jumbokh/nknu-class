{
  "nbformat": 4,
  "nbformat_minor": 0,
  "metadata": {
    "colab": {
      "name": "我的Python筆記.ipynb",
      "provenance": [],
      "toc_visible": true,
      "include_colab_link": true
    },
    "kernelspec": {
      "name": "python3",
      "display_name": "Python 3"
    },
    "language_info": {
      "name": "python"
    }
  },
  "cells": [
    {
      "cell_type": "markdown",
      "metadata": {
        "id": "view-in-github",
        "colab_type": "text"
      },
      "source": [
        "<a href=\"https://colab.research.google.com/github/jumbokh/nknu-class/blob/main/notebooks/%E6%88%91%E7%9A%84Python%E7%AD%86%E8%A8%98.ipynb\" target=\"_parent\"><img src=\"https://colab.research.google.com/assets/colab-badge.svg\" alt=\"Open In Colab\"/></a>"
      ]
    },
    {
      "cell_type": "markdown",
      "metadata": {
        "id": "bB_xUQRBmgA1"
      },
      "source": [
        "# 我的Python筆記\n"
      ]
    },
    {
      "cell_type": "markdown",
      "metadata": {
        "id": "a0WJUBgPryqC"
      },
      "source": [
        "## Python的變數"
      ]
    },
    {
      "cell_type": "code",
      "metadata": {
        "id": "9FTLTkXWr1O2"
      },
      "source": [
        "_abc = 1"
      ],
      "execution_count": null,
      "outputs": []
    },
    {
      "cell_type": "code",
      "metadata": {
        "id": "M6XklOFdsFrz"
      },
      "source": [
        "abc_ = 2"
      ],
      "execution_count": null,
      "outputs": []
    },
    {
      "cell_type": "code",
      "metadata": {
        "id": "cWJV0mX7sIHU"
      },
      "source": [
        "abc123 = 3"
      ],
      "execution_count": null,
      "outputs": []
    },
    {
      "cell_type": "markdown",
      "metadata": {
        "id": "aLoy19AcrQ-N"
      },
      "source": [
        "## Python的基本資料型態\n",
        "\n",
        "* int (整數)\n",
        "* float (浮點數)\n",
        "* bool (布林變數 boolean)\n",
        "* str (字串)"
      ]
    },
    {
      "cell_type": "markdown",
      "metadata": {
        "id": "ounJqtc6sU4-"
      },
      "source": [
        "### int (整數)"
      ]
    },
    {
      "cell_type": "code",
      "metadata": {
        "id": "hgD7H3G2kXyD"
      },
      "source": [
        "a = 1"
      ],
      "execution_count": null,
      "outputs": []
    },
    {
      "cell_type": "code",
      "metadata": {
        "colab": {
          "base_uri": "https://localhost:8080/"
        },
        "id": "5-0kfHMPsa7r",
        "outputId": "aeeb0ff8-3120-4d46-f1a2-cdac06daba60"
      },
      "source": [
        "type(a)"
      ],
      "execution_count": null,
      "outputs": [
        {
          "output_type": "execute_result",
          "data": {
            "text/plain": [
              "int"
            ]
          },
          "metadata": {},
          "execution_count": 10
        }
      ]
    },
    {
      "cell_type": "markdown",
      "metadata": {
        "id": "vHUSY_KfshO0"
      },
      "source": [
        "### float (浮點數)"
      ]
    },
    {
      "cell_type": "code",
      "metadata": {
        "id": "33bXKqRXskbn"
      },
      "source": [
        "b = 3.14"
      ],
      "execution_count": null,
      "outputs": []
    },
    {
      "cell_type": "code",
      "metadata": {
        "colab": {
          "base_uri": "https://localhost:8080/"
        },
        "id": "SACHc0eOsmBi",
        "outputId": "1a471779-56c6-435e-d119-31f0f1182fc4"
      },
      "source": [
        "type(b)"
      ],
      "execution_count": null,
      "outputs": [
        {
          "output_type": "execute_result",
          "data": {
            "text/plain": [
              "float"
            ]
          },
          "metadata": {},
          "execution_count": 12
        }
      ]
    },
    {
      "cell_type": "markdown",
      "metadata": {
        "id": "EqWcVBmPsrZV"
      },
      "source": [
        "### 應用題：\n",
        "\n",
        "```python\n",
        "a = 4\n",
        "b = 2\n",
        "c = a/b\n",
        "```\n",
        "請問 c 的資料型態？"
      ]
    },
    {
      "cell_type": "code",
      "metadata": {
        "id": "3pRROrQlsn9r"
      },
      "source": [
        "a = 4\n",
        "b = 2\n",
        "c = a/b"
      ],
      "execution_count": null,
      "outputs": []
    },
    {
      "cell_type": "code",
      "metadata": {
        "colab": {
          "base_uri": "https://localhost:8080/"
        },
        "id": "3NjYh1UnseCE",
        "outputId": "ce9ca1fc-9cc6-40d4-f701-0096571e57d7"
      },
      "source": [
        "type(c)"
      ],
      "execution_count": null,
      "outputs": [
        {
          "output_type": "execute_result",
          "data": {
            "text/plain": [
              "float"
            ]
          },
          "metadata": {},
          "execution_count": 14
        }
      ]
    },
    {
      "cell_type": "code",
      "metadata": {
        "colab": {
          "base_uri": "https://localhost:8080/"
        },
        "id": "djYA6ssjtqx-",
        "outputId": "0c2ba386-4016-4bac-eb9b-20bc8925131a"
      },
      "source": [
        "c"
      ],
      "execution_count": null,
      "outputs": [
        {
          "output_type": "execute_result",
          "data": {
            "text/plain": [
              "2.0"
            ]
          },
          "metadata": {},
          "execution_count": 15
        }
      ]
    },
    {
      "cell_type": "code",
      "metadata": {
        "id": "GWXJhJzYty9M"
      },
      "source": [
        "d = a // b"
      ],
      "execution_count": null,
      "outputs": []
    },
    {
      "cell_type": "code",
      "metadata": {
        "colab": {
          "base_uri": "https://localhost:8080/"
        },
        "id": "CfWxg5BNt11s",
        "outputId": "b5c9320b-0f0b-4a31-f404-d81725f6496f"
      },
      "source": [
        "type(d)"
      ],
      "execution_count": null,
      "outputs": [
        {
          "output_type": "execute_result",
          "data": {
            "text/plain": [
              "int"
            ]
          },
          "metadata": {},
          "execution_count": 17
        }
      ]
    },
    {
      "cell_type": "code",
      "metadata": {
        "colab": {
          "base_uri": "https://localhost:8080/"
        },
        "id": "z3fAqZbCt3je",
        "outputId": "186749b7-e5f2-4d61-9b51-801cea7d6c71"
      },
      "source": [
        "d"
      ],
      "execution_count": null,
      "outputs": [
        {
          "output_type": "execute_result",
          "data": {
            "text/plain": [
              "2"
            ]
          },
          "metadata": {},
          "execution_count": 18
        }
      ]
    },
    {
      "cell_type": "code",
      "metadata": {
        "id": "dQ7RwQrYyzw2"
      },
      "source": [
        "a1 = 5\n",
        "b1 = 2\n",
        "c1 = a1/b1\n",
        "d1 = a1//b1"
      ],
      "execution_count": null,
      "outputs": []
    },
    {
      "cell_type": "code",
      "metadata": {
        "colab": {
          "base_uri": "https://localhost:8080/"
        },
        "id": "kpfKJHaVy5LO",
        "outputId": "4be29c70-f82c-4dff-9c56-569abc574db8"
      },
      "source": [
        "c1"
      ],
      "execution_count": null,
      "outputs": [
        {
          "output_type": "execute_result",
          "data": {
            "text/plain": [
              "2.5"
            ]
          },
          "metadata": {},
          "execution_count": 29
        }
      ]
    },
    {
      "cell_type": "code",
      "metadata": {
        "colab": {
          "base_uri": "https://localhost:8080/"
        },
        "id": "CXFbR814y6RM",
        "outputId": "50cbcf2d-97c2-40e7-9715-1336a511e91a"
      },
      "source": [
        "d1"
      ],
      "execution_count": null,
      "outputs": [
        {
          "output_type": "execute_result",
          "data": {
            "text/plain": [
              "2"
            ]
          },
          "metadata": {},
          "execution_count": 30
        }
      ]
    },
    {
      "cell_type": "code",
      "metadata": {
        "id": "BCu6t1w_y7Q_"
      },
      "source": [
        "data = [1, 2, 3, 4, 5]"
      ],
      "execution_count": null,
      "outputs": []
    },
    {
      "cell_type": "code",
      "metadata": {
        "colab": {
          "base_uri": "https://localhost:8080/"
        },
        "id": "2TTSNOcCzF6e",
        "outputId": "f356e3f8-ad57-4a3c-8433-66611e0b9058"
      },
      "source": [
        "type(c)"
      ],
      "execution_count": null,
      "outputs": [
        {
          "output_type": "execute_result",
          "data": {
            "text/plain": [
              "float"
            ]
          },
          "metadata": {},
          "execution_count": 32
        }
      ]
    },
    {
      "cell_type": "code",
      "metadata": {
        "colab": {
          "base_uri": "https://localhost:8080/",
          "height": 166
        },
        "id": "Vgq6v795zH35",
        "outputId": "d2e7a0d1-d8a5-44c0-ab69-9db8241d2bda"
      },
      "source": [
        "data[c]"
      ],
      "execution_count": null,
      "outputs": [
        {
          "output_type": "error",
          "ename": "TypeError",
          "evalue": "ignored",
          "traceback": [
            "\u001b[0;31m---------------------------------------------------------------------------\u001b[0m",
            "\u001b[0;31mTypeError\u001b[0m                                 Traceback (most recent call last)",
            "\u001b[0;32m<ipython-input-33-b2730bb0a717>\u001b[0m in \u001b[0;36m<module>\u001b[0;34m()\u001b[0m\n\u001b[0;32m----> 1\u001b[0;31m \u001b[0mdata\u001b[0m\u001b[0;34m[\u001b[0m\u001b[0mc\u001b[0m\u001b[0;34m]\u001b[0m\u001b[0;34m\u001b[0m\u001b[0;34m\u001b[0m\u001b[0m\n\u001b[0m",
            "\u001b[0;31mTypeError\u001b[0m: list indices must be integers or slices, not float"
          ]
        }
      ]
    },
    {
      "cell_type": "code",
      "metadata": {
        "colab": {
          "base_uri": "https://localhost:8080/"
        },
        "id": "cJY9j5EJzQ3W",
        "outputId": "bd2c54eb-581f-4adf-87a6-da397ff64ff4"
      },
      "source": [
        "data[d]"
      ],
      "execution_count": null,
      "outputs": [
        {
          "output_type": "execute_result",
          "data": {
            "text/plain": [
              "3"
            ]
          },
          "metadata": {},
          "execution_count": 34
        }
      ]
    },
    {
      "cell_type": "code",
      "metadata": {
        "id": "z5lCqbzLzR4w"
      },
      "source": [
        ""
      ],
      "execution_count": null,
      "outputs": []
    },
    {
      "cell_type": "markdown",
      "metadata": {
        "id": "ahiPJ17zuKEl"
      },
      "source": [
        "### bool (布林變數)"
      ]
    },
    {
      "cell_type": "code",
      "metadata": {
        "colab": {
          "base_uri": "https://localhost:8080/"
        },
        "id": "VJmswXeVuPzR",
        "outputId": "6a403c90-ada4-416c-a10e-d2908e7fa23d"
      },
      "source": [
        "3 > 2"
      ],
      "execution_count": null,
      "outputs": [
        {
          "output_type": "execute_result",
          "data": {
            "text/plain": [
              "True"
            ]
          },
          "metadata": {},
          "execution_count": 19
        }
      ]
    },
    {
      "cell_type": "code",
      "metadata": {
        "colab": {
          "base_uri": "https://localhost:8080/"
        },
        "id": "65551dbkuW1t",
        "outputId": "bbea8669-4ac6-4bf1-e83a-b85cbef00da2"
      },
      "source": [
        "3 < 2"
      ],
      "execution_count": null,
      "outputs": [
        {
          "output_type": "execute_result",
          "data": {
            "text/plain": [
              "False"
            ]
          },
          "metadata": {},
          "execution_count": 20
        }
      ]
    },
    {
      "cell_type": "code",
      "metadata": {
        "id": "J5FAUXmXuYTw"
      },
      "source": [
        "e = 3 > 2"
      ],
      "execution_count": null,
      "outputs": []
    },
    {
      "cell_type": "code",
      "metadata": {
        "colab": {
          "base_uri": "https://localhost:8080/"
        },
        "id": "Bl7SgtDUucxz",
        "outputId": "96b39bb3-4f51-4f04-eb27-735ddd228c74"
      },
      "source": [
        "type(e)"
      ],
      "execution_count": null,
      "outputs": [
        {
          "output_type": "execute_result",
          "data": {
            "text/plain": [
              "bool"
            ]
          },
          "metadata": {},
          "execution_count": 22
        }
      ]
    },
    {
      "cell_type": "code",
      "metadata": {
        "colab": {
          "base_uri": "https://localhost:8080/"
        },
        "id": "DFHZu_wpueP4",
        "outputId": "a877389d-22a6-4f6f-dc29-9280ea3f19f8"
      },
      "source": [
        "# 比較是否相等\n",
        "3 == 2"
      ],
      "execution_count": null,
      "outputs": [
        {
          "output_type": "execute_result",
          "data": {
            "text/plain": [
              "False"
            ]
          },
          "metadata": {},
          "execution_count": 24
        }
      ]
    },
    {
      "cell_type": "code",
      "metadata": {
        "id": "ZaTexJtNu417"
      },
      "source": [
        "f = a == b"
      ],
      "execution_count": null,
      "outputs": []
    },
    {
      "cell_type": "code",
      "metadata": {
        "colab": {
          "base_uri": "https://localhost:8080/"
        },
        "id": "Lu9R4zmzvWUJ",
        "outputId": "41bba6c1-a2df-4fec-ec01-5c1edf80fda3"
      },
      "source": [
        "f"
      ],
      "execution_count": null,
      "outputs": [
        {
          "output_type": "execute_result",
          "data": {
            "text/plain": [
              "False"
            ]
          },
          "metadata": {},
          "execution_count": 26
        }
      ]
    },
    {
      "cell_type": "code",
      "metadata": {
        "colab": {
          "base_uri": "https://localhost:8080/"
        },
        "id": "CyrQP108vhAk",
        "outputId": "e39b3f2b-7bb5-4f6b-f4cf-3e6521a57084"
      },
      "source": [
        "type(f)"
      ],
      "execution_count": null,
      "outputs": [
        {
          "output_type": "execute_result",
          "data": {
            "text/plain": [
              "bool"
            ]
          },
          "metadata": {},
          "execution_count": 27
        }
      ]
    },
    {
      "cell_type": "code",
      "metadata": {
        "id": "qaRDBlpiviyl"
      },
      "source": [
        ""
      ],
      "execution_count": null,
      "outputs": []
    },
    {
      "cell_type": "markdown",
      "metadata": {
        "id": "HrVpEM_dzyMp"
      },
      "source": [
        "### str (字串)"
      ]
    },
    {
      "cell_type": "code",
      "metadata": {
        "id": "VOtQ93S7z1VB"
      },
      "source": [
        "g = \"dog\""
      ],
      "execution_count": null,
      "outputs": []
    },
    {
      "cell_type": "code",
      "metadata": {
        "colab": {
          "base_uri": "https://localhost:8080/"
        },
        "id": "EvtRlY9t0dme",
        "outputId": "c2b596b3-476f-4876-8af6-a23bf6eddbc0"
      },
      "source": [
        "type(g)"
      ],
      "execution_count": null,
      "outputs": [
        {
          "output_type": "execute_result",
          "data": {
            "text/plain": [
              "str"
            ]
          },
          "metadata": {},
          "execution_count": 37
        }
      ]
    },
    {
      "cell_type": "markdown",
      "metadata": {
        "id": "T5rJu48b1rrr"
      },
      "source": [
        "### 應用題：\n",
        "\n",
        "畫金字塔"
      ]
    },
    {
      "cell_type": "code",
      "metadata": {
        "colab": {
          "base_uri": "https://localhost:8080/"
        },
        "id": "Pd3GBjoV1vhz",
        "outputId": "29946e75-8bba-4c62-a499-b153a8416449"
      },
      "source": [
        "type('o')"
      ],
      "execution_count": null,
      "outputs": [
        {
          "output_type": "execute_result",
          "data": {
            "text/plain": [
              "str"
            ]
          },
          "metadata": {},
          "execution_count": 38
        }
      ]
    },
    {
      "cell_type": "code",
      "metadata": {
        "colab": {
          "base_uri": "https://localhost:8080/",
          "height": 34
        },
        "id": "Hdq_MNV516Tk",
        "outputId": "52381425-0e33-4999-b436-b840389a81ab"
      },
      "source": [
        "'o' + 'p'"
      ],
      "execution_count": null,
      "outputs": [
        {
          "output_type": "execute_result",
          "data": {
            "application/vnd.google.colaboratory.intrinsic+json": {
              "type": "string"
            },
            "text/plain": [
              "'op'"
            ]
          },
          "metadata": {},
          "execution_count": 39
        }
      ]
    },
    {
      "cell_type": "code",
      "metadata": {
        "colab": {
          "base_uri": "https://localhost:8080/",
          "height": 34
        },
        "id": "MVyvAzdX192L",
        "outputId": "8efd8819-453f-4a4c-e66e-c307cff3ad39"
      },
      "source": [
        "'o' * 5"
      ],
      "execution_count": null,
      "outputs": [
        {
          "output_type": "execute_result",
          "data": {
            "application/vnd.google.colaboratory.intrinsic+json": {
              "type": "string"
            },
            "text/plain": [
              "'ooooo'"
            ]
          },
          "metadata": {},
          "execution_count": 40
        }
      ]
    },
    {
      "cell_type": "code",
      "metadata": {
        "colab": {
          "base_uri": "https://localhost:8080/"
        },
        "id": "XDnPJPPp2qLA",
        "outputId": "440d457c-c314-48eb-e24c-ba6a6a0a486f"
      },
      "source": [
        "for n in range(5):\n",
        "  print(n)"
      ],
      "execution_count": null,
      "outputs": [
        {
          "output_type": "stream",
          "text": [
            "0\n",
            "1\n",
            "2\n",
            "3\n",
            "4\n"
          ],
          "name": "stdout"
        }
      ]
    },
    {
      "cell_type": "code",
      "metadata": {
        "colab": {
          "base_uri": "https://localhost:8080/"
        },
        "id": "W6I6G4sq2CG7",
        "outputId": "45517aa9-e103-43c4-de9b-8633b019049c"
      },
      "source": [
        "for n in range(5):\n",
        "  print(2*n+1)"
      ],
      "execution_count": null,
      "outputs": [
        {
          "output_type": "stream",
          "text": [
            "1\n",
            "3\n",
            "5\n",
            "7\n",
            "9\n"
          ],
          "name": "stdout"
        }
      ]
    },
    {
      "cell_type": "code",
      "metadata": {
        "colab": {
          "base_uri": "https://localhost:8080/"
        },
        "id": "MdoEhQ1A2gYL",
        "outputId": "f74aabbe-53a6-4055-b8ab-b41b72f278a6"
      },
      "source": [
        "for n in range(5):\n",
        "  print((2*n+1)*'*')"
      ],
      "execution_count": null,
      "outputs": [
        {
          "output_type": "stream",
          "text": [
            "*\n",
            "***\n",
            "*****\n",
            "*******\n",
            "*********\n"
          ],
          "name": "stdout"
        }
      ]
    },
    {
      "cell_type": "code",
      "metadata": {
        "colab": {
          "base_uri": "https://localhost:8080/",
          "height": 34
        },
        "id": "2PJNLjCy2zJe",
        "outputId": "5a259bdd-a37e-4f26-917d-de554bb82811"
      },
      "source": [
        "'*' * 3 + ' ' * 3 + '*' * 3 "
      ],
      "execution_count": null,
      "outputs": [
        {
          "output_type": "execute_result",
          "data": {
            "application/vnd.google.colaboratory.intrinsic+json": {
              "type": "string"
            },
            "text/plain": [
              "'***   ***'"
            ]
          },
          "metadata": {},
          "execution_count": 45
        }
      ]
    },
    {
      "cell_type": "code",
      "metadata": {
        "colab": {
          "base_uri": "https://localhost:8080/"
        },
        "id": "dEz-Rvxy3G-S",
        "outputId": "8e5d812c-e55c-495d-a8f5-32f371a80075"
      },
      "source": [
        "for n in range(5):\n",
        "  print((5-n)*' '+(2*n+1)*'*')"
      ],
      "execution_count": null,
      "outputs": [
        {
          "output_type": "stream",
          "text": [
            "     *\n",
            "    ***\n",
            "   *****\n",
            "  *******\n",
            " *********\n"
          ],
          "name": "stdout"
        }
      ]
    },
    {
      "cell_type": "code",
      "metadata": {
        "id": "kWyJJtzp2cbV"
      },
      "source": [
        "def abc():\n",
        "  print(\"Hello World!\")"
      ],
      "execution_count": null,
      "outputs": []
    },
    {
      "cell_type": "code",
      "metadata": {
        "colab": {
          "base_uri": "https://localhost:8080/"
        },
        "id": "Jzg554YR5S2C",
        "outputId": "60e5fa10-ea62-48cc-e8b6-800ae1d40588"
      },
      "source": [
        "abc()"
      ],
      "execution_count": null,
      "outputs": [
        {
          "output_type": "stream",
          "text": [
            "Hello World!\n"
          ],
          "name": "stdout"
        }
      ]
    },
    {
      "cell_type": "code",
      "metadata": {
        "colab": {
          "base_uri": "https://localhost:8080/"
        },
        "id": "uTnC3hDJ5T3W",
        "outputId": "2f62775f-54fb-41e7-f101-ba9f6459dd18"
      },
      "source": [
        "type(abc)"
      ],
      "execution_count": null,
      "outputs": [
        {
          "output_type": "execute_result",
          "data": {
            "text/plain": [
              "function"
            ]
          },
          "metadata": {},
          "execution_count": 48
        }
      ]
    },
    {
      "cell_type": "code",
      "metadata": {
        "id": "kzO9Qt4N5VKm"
      },
      "source": [
        "abc = '123'"
      ],
      "execution_count": null,
      "outputs": []
    },
    {
      "cell_type": "code",
      "metadata": {
        "colab": {
          "base_uri": "https://localhost:8080/"
        },
        "id": "34BHU24A5YXg",
        "outputId": "ba279545-9cc5-452d-deee-0d0dcc53e7ba"
      },
      "source": [
        "type(abc)"
      ],
      "execution_count": null,
      "outputs": [
        {
          "output_type": "execute_result",
          "data": {
            "text/plain": [
              "str"
            ]
          },
          "metadata": {},
          "execution_count": 50
        }
      ]
    },
    {
      "cell_type": "code",
      "metadata": {
        "colab": {
          "base_uri": "https://localhost:8080/",
          "height": 166
        },
        "id": "2Xcyh7X95bQC",
        "outputId": "18bfe672-ea8d-42ad-9967-be4fc5a7ae11"
      },
      "source": [
        "abc()"
      ],
      "execution_count": null,
      "outputs": [
        {
          "output_type": "error",
          "ename": "TypeError",
          "evalue": "ignored",
          "traceback": [
            "\u001b[0;31m---------------------------------------------------------------------------\u001b[0m",
            "\u001b[0;31mTypeError\u001b[0m                                 Traceback (most recent call last)",
            "\u001b[0;32m<ipython-input-51-79c8afb7007d>\u001b[0m in \u001b[0;36m<module>\u001b[0;34m()\u001b[0m\n\u001b[0;32m----> 1\u001b[0;31m \u001b[0mabc\u001b[0m\u001b[0;34m(\u001b[0m\u001b[0;34m)\u001b[0m\u001b[0;34m\u001b[0m\u001b[0;34m\u001b[0m\u001b[0m\n\u001b[0m",
            "\u001b[0;31mTypeError\u001b[0m: 'str' object is not callable"
          ]
        }
      ]
    },
    {
      "cell_type": "code",
      "metadata": {
        "id": "OfGfSRRC5cEG"
      },
      "source": [
        "h = \"It's my book!\""
      ],
      "execution_count": null,
      "outputs": []
    },
    {
      "cell_type": "code",
      "metadata": {
        "id": "eo6m7J6Q7Kh_"
      },
      "source": [
        "i = 'It\\'s my book!'"
      ],
      "execution_count": null,
      "outputs": []
    },
    {
      "cell_type": "code",
      "metadata": {
        "colab": {
          "base_uri": "https://localhost:8080/",
          "height": 34
        },
        "id": "mJYGb3r37nSh",
        "outputId": "60b7306c-a9a6-4392-9f9b-7321d13ced23"
      },
      "source": [
        "i"
      ],
      "execution_count": null,
      "outputs": [
        {
          "output_type": "execute_result",
          "data": {
            "application/vnd.google.colaboratory.intrinsic+json": {
              "type": "string"
            },
            "text/plain": [
              "\"It's my book!\""
            ]
          },
          "metadata": {},
          "execution_count": 57
        }
      ]
    },
    {
      "cell_type": "code",
      "metadata": {
        "colab": {
          "base_uri": "https://localhost:8080/"
        },
        "id": "FJfX9VUX7oKm",
        "outputId": "ba5b9892-4c6c-489d-b3a8-da7b8a30996d"
      },
      "source": [
        "type(i)"
      ],
      "execution_count": null,
      "outputs": [
        {
          "output_type": "execute_result",
          "data": {
            "text/plain": [
              "str"
            ]
          },
          "metadata": {},
          "execution_count": 58
        }
      ]
    },
    {
      "cell_type": "code",
      "metadata": {
        "id": "C5xRWzze7qUX"
      },
      "source": [
        ""
      ],
      "execution_count": null,
      "outputs": []
    },
    {
      "cell_type": "code",
      "metadata": {
        "id": "GH3dNuL-7RQj"
      },
      "source": [
        ""
      ],
      "execution_count": null,
      "outputs": []
    },
    {
      "cell_type": "markdown",
      "metadata": {
        "id": "rSCrl0vW1Ejo"
      },
      "source": [
        "## Python的容器型別\n",
        "\n",
        "* list\n",
        "* tuple\n",
        "* dict\n",
        "* set"
      ]
    },
    {
      "cell_type": "markdown",
      "metadata": {
        "id": "0Y1DCwoY835w"
      },
      "source": [
        "### list ==> [ ]"
      ]
    },
    {
      "cell_type": "code",
      "metadata": {
        "id": "zS72nHfI0ez4"
      },
      "source": [
        "x = ['a', 'b', 'c', 'd', 'e']"
      ],
      "execution_count": null,
      "outputs": []
    },
    {
      "cell_type": "code",
      "metadata": {
        "colab": {
          "base_uri": "https://localhost:8080/"
        },
        "id": "nioLDvhl0Qtv",
        "outputId": "c1c8aa43-05f7-4404-c494-e058ebf4f908"
      },
      "source": [
        "type(x)"
      ],
      "execution_count": null,
      "outputs": [
        {
          "output_type": "execute_result",
          "data": {
            "text/plain": [
              "list"
            ]
          },
          "metadata": {},
          "execution_count": 61
        }
      ]
    },
    {
      "cell_type": "markdown",
      "metadata": {
        "id": "WUw-3N9gEiF3"
      },
      "source": [
        "#### indexing"
      ]
    },
    {
      "cell_type": "code",
      "metadata": {
        "colab": {
          "base_uri": "https://localhost:8080/",
          "height": 34
        },
        "id": "VJbp2ccJ81mm",
        "outputId": "e1b7fcd5-3908-49c8-8ce8-3379388415ab"
      },
      "source": [
        "x[2]"
      ],
      "execution_count": null,
      "outputs": [
        {
          "output_type": "execute_result",
          "data": {
            "application/vnd.google.colaboratory.intrinsic+json": {
              "type": "string"
            },
            "text/plain": [
              "'c'"
            ]
          },
          "metadata": {},
          "execution_count": 62
        }
      ]
    },
    {
      "cell_type": "markdown",
      "metadata": {
        "id": "u048gfw2EmJi"
      },
      "source": [
        "#### slicing"
      ]
    },
    {
      "cell_type": "code",
      "metadata": {
        "colab": {
          "base_uri": "https://localhost:8080/"
        },
        "id": "2M8ahKl5-lNR",
        "outputId": "c81f6afd-e43e-427e-ab1a-0466c1f57beb"
      },
      "source": [
        "x[1:3]"
      ],
      "execution_count": null,
      "outputs": [
        {
          "output_type": "execute_result",
          "data": {
            "text/plain": [
              "['b', 'c']"
            ]
          },
          "metadata": {},
          "execution_count": 63
        }
      ]
    },
    {
      "cell_type": "code",
      "metadata": {
        "colab": {
          "base_uri": "https://localhost:8080/"
        },
        "id": "RLBoCo1w-yFl",
        "outputId": "60c78d0a-0227-41fe-95bb-2dd800529833"
      },
      "source": [
        "x[:3]"
      ],
      "execution_count": null,
      "outputs": [
        {
          "output_type": "execute_result",
          "data": {
            "text/plain": [
              "['a', 'b', 'c']"
            ]
          },
          "metadata": {},
          "execution_count": 64
        }
      ]
    },
    {
      "cell_type": "code",
      "metadata": {
        "colab": {
          "base_uri": "https://localhost:8080/"
        },
        "id": "RdS82_2T-87L",
        "outputId": "4ae92afc-6200-420e-b0c3-7073dd63ba72"
      },
      "source": [
        "x[-3:]"
      ],
      "execution_count": null,
      "outputs": [
        {
          "output_type": "execute_result",
          "data": {
            "text/plain": [
              "['c', 'd', 'e']"
            ]
          },
          "metadata": {},
          "execution_count": 65
        }
      ]
    },
    {
      "cell_type": "code",
      "metadata": {
        "id": "tAeR7Xb4_Cgy"
      },
      "source": [
        "x.append?"
      ],
      "execution_count": null,
      "outputs": []
    },
    {
      "cell_type": "code",
      "metadata": {
        "id": "CoX3hCBF_eJR"
      },
      "source": [
        "x.append(1)"
      ],
      "execution_count": null,
      "outputs": []
    },
    {
      "cell_type": "code",
      "metadata": {
        "colab": {
          "base_uri": "https://localhost:8080/"
        },
        "id": "8y_lj_RB_Uie",
        "outputId": "0e9f5853-4328-425f-9387-a8cb29d6f0e9"
      },
      "source": [
        "x"
      ],
      "execution_count": null,
      "outputs": [
        {
          "output_type": "execute_result",
          "data": {
            "text/plain": [
              "['a', 'b', 'c', 'd', 'e', 1]"
            ]
          },
          "metadata": {},
          "execution_count": 69
        }
      ]
    },
    {
      "cell_type": "code",
      "metadata": {
        "id": "dJyvnkBf_mOj"
      },
      "source": [
        "x.clear?"
      ],
      "execution_count": null,
      "outputs": []
    },
    {
      "cell_type": "code",
      "metadata": {
        "id": "t2xAu3i__q5G"
      },
      "source": [
        "y = list(range(5))"
      ],
      "execution_count": null,
      "outputs": []
    },
    {
      "cell_type": "code",
      "metadata": {
        "colab": {
          "base_uri": "https://localhost:8080/"
        },
        "id": "TkorI2E__8Di",
        "outputId": "89c3b09f-afe6-4d50-a75a-9a1e37508410"
      },
      "source": [
        "y"
      ],
      "execution_count": null,
      "outputs": [
        {
          "output_type": "execute_result",
          "data": {
            "text/plain": [
              "[0, 1, 2, 3, 4]"
            ]
          },
          "metadata": {},
          "execution_count": 72
        }
      ]
    },
    {
      "cell_type": "code",
      "metadata": {
        "id": "n094czFt_8yJ"
      },
      "source": [
        "y.reverse()"
      ],
      "execution_count": null,
      "outputs": []
    },
    {
      "cell_type": "code",
      "metadata": {
        "colab": {
          "base_uri": "https://localhost:8080/"
        },
        "id": "EPlfaDIrAHte",
        "outputId": "91747e5b-6854-4a39-f5de-9d9596baf698"
      },
      "source": [
        "y"
      ],
      "execution_count": null,
      "outputs": [
        {
          "output_type": "execute_result",
          "data": {
            "text/plain": [
              "[4, 3, 2, 1, 0]"
            ]
          },
          "metadata": {},
          "execution_count": 75
        }
      ]
    },
    {
      "cell_type": "markdown",
      "metadata": {
        "id": "vtXWJprMBmis"
      },
      "source": [
        "### 應用題：\n",
        "\n",
        "請寫一個程式取出底下連結的圖片檔名：\n",
        "https://imgcdn.cna.com.tw/www/WebPhotos/1024/20210604/615x615_934339607507.jpg"
      ]
    },
    {
      "cell_type": "code",
      "metadata": {
        "id": "oxba6GsQAIRG"
      },
      "source": [
        "url = \"https://imgcdn.cna.com.tw/www/WebPhotos/1024/20210604/615x615_934339607507.jpg\""
      ],
      "execution_count": null,
      "outputs": []
    },
    {
      "cell_type": "code",
      "metadata": {
        "colab": {
          "base_uri": "https://localhost:8080/"
        },
        "id": "0eh3KM-oCRnf",
        "outputId": "b8290f9b-0507-4c88-d20d-b80c962058c8"
      },
      "source": [
        "type(url)"
      ],
      "execution_count": null,
      "outputs": [
        {
          "output_type": "execute_result",
          "data": {
            "text/plain": [
              "str"
            ]
          },
          "metadata": {},
          "execution_count": 77
        }
      ]
    },
    {
      "cell_type": "code",
      "metadata": {
        "colab": {
          "base_uri": "https://localhost:8080/",
          "height": 34
        },
        "id": "gI-M2PmXCScL",
        "outputId": "5fa5ca9f-e70a-41c4-b445-6ea4482bafd8"
      },
      "source": [
        "url[-24:]"
      ],
      "execution_count": null,
      "outputs": [
        {
          "output_type": "execute_result",
          "data": {
            "application/vnd.google.colaboratory.intrinsic+json": {
              "type": "string"
            },
            "text/plain": [
              "'615x615_934339607507.jpg'"
            ]
          },
          "metadata": {},
          "execution_count": 78
        }
      ]
    },
    {
      "cell_type": "code",
      "metadata": {
        "colab": {
          "base_uri": "https://localhost:8080/",
          "height": 34
        },
        "id": "16oMPwWnCkx1",
        "outputId": "b52fb248-6ab9-48da-882a-e46df3ba81d2"
      },
      "source": [
        "url.split('/')[-1]"
      ],
      "execution_count": null,
      "outputs": [
        {
          "output_type": "execute_result",
          "data": {
            "application/vnd.google.colaboratory.intrinsic+json": {
              "type": "string"
            },
            "text/plain": [
              "'615x615_934339607507.jpg'"
            ]
          },
          "metadata": {},
          "execution_count": 81
        }
      ]
    },
    {
      "cell_type": "code",
      "metadata": {
        "colab": {
          "base_uri": "https://localhost:8080/"
        },
        "id": "c6MZWkkFCs7Y",
        "outputId": "1fda4b6a-4a15-4f41-a8ee-f89388469e41"
      },
      "source": [
        "for i in y:\n",
        "  print(i)"
      ],
      "execution_count": null,
      "outputs": [
        {
          "output_type": "stream",
          "text": [
            "4\n",
            "3\n",
            "2\n",
            "1\n",
            "0\n"
          ],
          "name": "stdout"
        }
      ]
    },
    {
      "cell_type": "code",
      "metadata": {
        "colab": {
          "base_uri": "https://localhost:8080/"
        },
        "id": "_YscshkcD-Im",
        "outputId": "eee6eb49-2df4-4e4d-ccc3-4fc971d402bb"
      },
      "source": [
        "for i in x:\n",
        "  print(i)"
      ],
      "execution_count": null,
      "outputs": [
        {
          "output_type": "stream",
          "text": [
            "a\n",
            "b\n",
            "c\n",
            "d\n",
            "e\n",
            "1\n"
          ],
          "name": "stdout"
        }
      ]
    },
    {
      "cell_type": "markdown",
      "metadata": {
        "id": "UrayfLRWENDd"
      },
      "source": [
        "### tuple ==> ( )"
      ]
    },
    {
      "cell_type": "code",
      "metadata": {
        "id": "Jn0EDfUwEDEi"
      },
      "source": [
        "x1 = ('a', 'b', 'c', 'd', 'e')"
      ],
      "execution_count": null,
      "outputs": []
    },
    {
      "cell_type": "code",
      "metadata": {
        "colab": {
          "base_uri": "https://localhost:8080/"
        },
        "id": "DmQdOgDgEbpr",
        "outputId": "e210bcf4-4198-412c-f388-888fe2ed257a"
      },
      "source": [
        "type(x1)"
      ],
      "execution_count": null,
      "outputs": [
        {
          "output_type": "execute_result",
          "data": {
            "text/plain": [
              "tuple"
            ]
          },
          "metadata": {},
          "execution_count": 85
        }
      ]
    },
    {
      "cell_type": "markdown",
      "metadata": {
        "id": "0sqerUhOEyZz"
      },
      "source": [
        "#### indexing"
      ]
    },
    {
      "cell_type": "code",
      "metadata": {
        "colab": {
          "base_uri": "https://localhost:8080/",
          "height": 34
        },
        "id": "mucbzL5iEck8",
        "outputId": "6a35e921-dd41-472e-e5e3-fd2702341bb8"
      },
      "source": [
        "x1[2]"
      ],
      "execution_count": null,
      "outputs": [
        {
          "output_type": "execute_result",
          "data": {
            "application/vnd.google.colaboratory.intrinsic+json": {
              "type": "string"
            },
            "text/plain": [
              "'c'"
            ]
          },
          "metadata": {},
          "execution_count": 87
        }
      ]
    },
    {
      "cell_type": "markdown",
      "metadata": {
        "id": "Umn6j1USE0n1"
      },
      "source": [
        "#### slicing"
      ]
    },
    {
      "cell_type": "code",
      "metadata": {
        "colab": {
          "base_uri": "https://localhost:8080/"
        },
        "id": "nXf6GHdUE15B",
        "outputId": "e5b991d4-37ba-4089-ab3f-9011974b3439"
      },
      "source": [
        "x1[1:3]"
      ],
      "execution_count": null,
      "outputs": [
        {
          "output_type": "execute_result",
          "data": {
            "text/plain": [
              "('b', 'c')"
            ]
          },
          "metadata": {},
          "execution_count": 88
        }
      ]
    },
    {
      "cell_type": "code",
      "metadata": {
        "colab": {
          "base_uri": "https://localhost:8080/"
        },
        "id": "htI1wHgoFAxe",
        "outputId": "a9d06d3f-a4e3-4278-d2e2-ea7da0d4fd19"
      },
      "source": [
        "x1[:3]"
      ],
      "execution_count": null,
      "outputs": [
        {
          "output_type": "execute_result",
          "data": {
            "text/plain": [
              "('a', 'b', 'c')"
            ]
          },
          "metadata": {},
          "execution_count": 90
        }
      ]
    },
    {
      "cell_type": "code",
      "metadata": {
        "colab": {
          "base_uri": "https://localhost:8080/"
        },
        "id": "I3-E4zIMFIOi",
        "outputId": "cf77f89f-8e83-4557-dfd8-52ae8160748a"
      },
      "source": [
        "type(x)"
      ],
      "execution_count": null,
      "outputs": [
        {
          "output_type": "execute_result",
          "data": {
            "text/plain": [
              "list"
            ]
          },
          "metadata": {},
          "execution_count": 91
        }
      ]
    },
    {
      "cell_type": "code",
      "metadata": {
        "colab": {
          "base_uri": "https://localhost:8080/"
        },
        "id": "-Y-xct_CFNZJ",
        "outputId": "160fc3bc-c12b-456f-b8ca-cb5daf0d3e68"
      },
      "source": [
        "type(x1)"
      ],
      "execution_count": null,
      "outputs": [
        {
          "output_type": "execute_result",
          "data": {
            "text/plain": [
              "tuple"
            ]
          },
          "metadata": {},
          "execution_count": 92
        }
      ]
    },
    {
      "cell_type": "code",
      "metadata": {
        "id": "Fng8eHHaFO5Q"
      },
      "source": [
        "x[2] = 'cc'"
      ],
      "execution_count": null,
      "outputs": []
    },
    {
      "cell_type": "code",
      "metadata": {
        "colab": {
          "base_uri": "https://localhost:8080/"
        },
        "id": "TQaUciMMFkXZ",
        "outputId": "465fd070-3914-4dd1-fd4a-9d6206d8903a"
      },
      "source": [
        "x"
      ],
      "execution_count": null,
      "outputs": [
        {
          "output_type": "execute_result",
          "data": {
            "text/plain": [
              "['a', 'b', 'cc', 'd', 'e', 1]"
            ]
          },
          "metadata": {},
          "execution_count": 96
        }
      ]
    },
    {
      "cell_type": "code",
      "metadata": {
        "colab": {
          "base_uri": "https://localhost:8080/",
          "height": 166
        },
        "id": "Wnb79LimFphO",
        "outputId": "ea9d0fc2-b1c6-47c5-ed68-e2ee28c07e50"
      },
      "source": [
        "x1[2] = 'cc'"
      ],
      "execution_count": null,
      "outputs": [
        {
          "output_type": "error",
          "ename": "TypeError",
          "evalue": "ignored",
          "traceback": [
            "\u001b[0;31m---------------------------------------------------------------------------\u001b[0m",
            "\u001b[0;31mTypeError\u001b[0m                                 Traceback (most recent call last)",
            "\u001b[0;32m<ipython-input-98-d8d1381d39d7>\u001b[0m in \u001b[0;36m<module>\u001b[0;34m()\u001b[0m\n\u001b[0;32m----> 1\u001b[0;31m \u001b[0mx1\u001b[0m\u001b[0;34m[\u001b[0m\u001b[0;36m2\u001b[0m\u001b[0;34m]\u001b[0m \u001b[0;34m=\u001b[0m \u001b[0;34m'cc'\u001b[0m\u001b[0;34m\u001b[0m\u001b[0;34m\u001b[0m\u001b[0m\n\u001b[0m",
            "\u001b[0;31mTypeError\u001b[0m: 'tuple' object does not support item assignment"
          ]
        }
      ]
    },
    {
      "cell_type": "markdown",
      "metadata": {
        "id": "aVgWCItBGILH"
      },
      "source": [
        "### dict ==> { }"
      ]
    },
    {
      "cell_type": "code",
      "metadata": {
        "id": "_W9yBombFswC"
      },
      "source": [
        "m = {}"
      ],
      "execution_count": null,
      "outputs": []
    },
    {
      "cell_type": "code",
      "metadata": {
        "colab": {
          "base_uri": "https://localhost:8080/"
        },
        "id": "yoQRVBDnGVFw",
        "outputId": "257d1f05-ff88-472e-b8ef-6f22a376e359"
      },
      "source": [
        "type(m)"
      ],
      "execution_count": null,
      "outputs": [
        {
          "output_type": "execute_result",
          "data": {
            "text/plain": [
              "dict"
            ]
          },
          "metadata": {},
          "execution_count": 100
        }
      ]
    },
    {
      "cell_type": "code",
      "metadata": {
        "id": "kBWebdsuGWZa"
      },
      "source": [
        "m['dog'] = '狗狗'"
      ],
      "execution_count": null,
      "outputs": []
    },
    {
      "cell_type": "code",
      "metadata": {
        "colab": {
          "base_uri": "https://localhost:8080/"
        },
        "id": "HfIIqA8sGe64",
        "outputId": "50d34301-47ae-44c6-c44f-5f34726c9a49"
      },
      "source": [
        "m"
      ],
      "execution_count": null,
      "outputs": [
        {
          "output_type": "execute_result",
          "data": {
            "text/plain": [
              "{'dog': '狗狗'}"
            ]
          },
          "metadata": {},
          "execution_count": 102
        }
      ]
    },
    {
      "cell_type": "code",
      "metadata": {
        "id": "Y1-qTEgqGgY2"
      },
      "source": [
        "m['cat'] = '貓咪'"
      ],
      "execution_count": null,
      "outputs": []
    },
    {
      "cell_type": "code",
      "metadata": {
        "colab": {
          "base_uri": "https://localhost:8080/"
        },
        "id": "1Mbh_KohGvZw",
        "outputId": "99463249-2716-4fc4-f924-c82db6d2a37f"
      },
      "source": [
        "m"
      ],
      "execution_count": null,
      "outputs": [
        {
          "output_type": "execute_result",
          "data": {
            "text/plain": [
              "{'cat': '貓咪', 'dog': '狗狗'}"
            ]
          },
          "metadata": {},
          "execution_count": 104
        }
      ]
    },
    {
      "cell_type": "code",
      "metadata": {
        "colab": {
          "base_uri": "https://localhost:8080/",
          "height": 34
        },
        "id": "GCbEYZMdGwaN",
        "outputId": "a2adb5f4-cc10-4797-d1e0-8e52dd6380c4"
      },
      "source": [
        "m['cat']"
      ],
      "execution_count": null,
      "outputs": [
        {
          "output_type": "execute_result",
          "data": {
            "application/vnd.google.colaboratory.intrinsic+json": {
              "type": "string"
            },
            "text/plain": [
              "'貓咪'"
            ]
          },
          "metadata": {},
          "execution_count": 105
        }
      ]
    },
    {
      "cell_type": "code",
      "metadata": {
        "colab": {
          "base_uri": "https://localhost:8080/",
          "height": 34
        },
        "id": "VYLMNZDyHEQf",
        "outputId": "c2bed048-06c7-47d9-c15d-89fcae42137e"
      },
      "source": [
        "m['dog']"
      ],
      "execution_count": null,
      "outputs": [
        {
          "output_type": "execute_result",
          "data": {
            "application/vnd.google.colaboratory.intrinsic+json": {
              "type": "string"
            },
            "text/plain": [
              "'狗狗'"
            ]
          },
          "metadata": {},
          "execution_count": 106
        }
      ]
    },
    {
      "cell_type": "code",
      "metadata": {
        "colab": {
          "base_uri": "https://localhost:8080/"
        },
        "id": "r9tTRQZvHGOh",
        "outputId": "cf1117ba-06d9-47e3-b60c-55828abd4b69"
      },
      "source": [
        "m.keys()"
      ],
      "execution_count": null,
      "outputs": [
        {
          "output_type": "execute_result",
          "data": {
            "text/plain": [
              "dict_keys(['dog', 'cat'])"
            ]
          },
          "metadata": {},
          "execution_count": 107
        }
      ]
    },
    {
      "cell_type": "code",
      "metadata": {
        "colab": {
          "base_uri": "https://localhost:8080/"
        },
        "id": "ZfB18koJHKLG",
        "outputId": "ecadb98d-f4f9-4e07-b514-7682ef679eb1"
      },
      "source": [
        "m.values()"
      ],
      "execution_count": null,
      "outputs": [
        {
          "output_type": "execute_result",
          "data": {
            "text/plain": [
              "dict_values(['狗狗', '貓咪'])"
            ]
          },
          "metadata": {},
          "execution_count": 108
        }
      ]
    },
    {
      "cell_type": "markdown",
      "metadata": {
        "id": "bUmU0DYMHQML"
      },
      "source": [
        "### 應用題：\n",
        "\n",
        "如何使用 for 迴圈，印出字典的內容"
      ]
    },
    {
      "cell_type": "code",
      "metadata": {
        "colab": {
          "base_uri": "https://localhost:8080/"
        },
        "id": "XuHNPV2VHNd6",
        "outputId": "38bc3f95-bc40-4c58-df16-1d74f21e65bd"
      },
      "source": [
        "for i in m:\n",
        "  print(i)"
      ],
      "execution_count": null,
      "outputs": [
        {
          "output_type": "stream",
          "text": [
            "dog\n",
            "cat\n"
          ],
          "name": "stdout"
        }
      ]
    },
    {
      "cell_type": "code",
      "metadata": {
        "colab": {
          "base_uri": "https://localhost:8080/"
        },
        "id": "f9kLQN3jHcH6",
        "outputId": "ef0404a4-82ac-4428-a3c4-19aefeacad6a"
      },
      "source": [
        "for i in m:\n",
        "  print(i, \"==>\", m[i])"
      ],
      "execution_count": null,
      "outputs": [
        {
          "output_type": "stream",
          "text": [
            "dog ==> 狗狗\n",
            "cat ==> 貓咪\n"
          ],
          "name": "stdout"
        }
      ]
    },
    {
      "cell_type": "markdown",
      "metadata": {
        "id": "5IadDqXfJAEY"
      },
      "source": [
        "### set ==> { }"
      ]
    },
    {
      "cell_type": "code",
      "metadata": {
        "id": "Ma412BzUHsze"
      },
      "source": [
        "u = set()"
      ],
      "execution_count": null,
      "outputs": []
    },
    {
      "cell_type": "code",
      "metadata": {
        "colab": {
          "base_uri": "https://localhost:8080/"
        },
        "id": "7UWx9y4pJdtB",
        "outputId": "48abd2cf-eb4c-49f3-bdca-5cd4fc5e3e89"
      },
      "source": [
        "type(u)"
      ],
      "execution_count": null,
      "outputs": [
        {
          "output_type": "execute_result",
          "data": {
            "text/plain": [
              "set"
            ]
          },
          "metadata": {},
          "execution_count": 112
        }
      ]
    },
    {
      "cell_type": "code",
      "metadata": {
        "colab": {
          "base_uri": "https://localhost:8080/"
        },
        "id": "ddHYEPARJr3k",
        "outputId": "e16333f2-8a2b-4928-cbba-a65278fa0eda"
      },
      "source": [
        "type([1])"
      ],
      "execution_count": null,
      "outputs": [
        {
          "output_type": "execute_result",
          "data": {
            "text/plain": [
              "list"
            ]
          },
          "metadata": {},
          "execution_count": 113
        }
      ]
    },
    {
      "cell_type": "code",
      "metadata": {
        "colab": {
          "base_uri": "https://localhost:8080/"
        },
        "id": "Cz8scF0PJuHy",
        "outputId": "94b55836-67da-4ea5-ba1e-1c85e25cb704"
      },
      "source": [
        "[1] + [2]"
      ],
      "execution_count": null,
      "outputs": [
        {
          "output_type": "execute_result",
          "data": {
            "text/plain": [
              "[1, 2]"
            ]
          },
          "metadata": {},
          "execution_count": 114
        }
      ]
    },
    {
      "cell_type": "code",
      "metadata": {
        "colab": {
          "base_uri": "https://localhost:8080/"
        },
        "id": "6RkAquoAJyKc",
        "outputId": "a1626e18-5de7-4bc5-c281-765146971c13"
      },
      "source": [
        "[1] * 3"
      ],
      "execution_count": null,
      "outputs": [
        {
          "output_type": "execute_result",
          "data": {
            "text/plain": [
              "[1, 1, 1]"
            ]
          },
          "metadata": {},
          "execution_count": 115
        }
      ]
    },
    {
      "cell_type": "code",
      "metadata": {
        "colab": {
          "base_uri": "https://localhost:8080/"
        },
        "id": "yhA_vCJaJ4e2",
        "outputId": "eb15f5f4-2705-4e16-f4ba-c5263e9ff519"
      },
      "source": [
        "[1] * 3 + [2] * 4"
      ],
      "execution_count": null,
      "outputs": [
        {
          "output_type": "execute_result",
          "data": {
            "text/plain": [
              "[1, 1, 1, 2, 2, 2, 2]"
            ]
          },
          "metadata": {},
          "execution_count": 116
        }
      ]
    },
    {
      "cell_type": "code",
      "metadata": {
        "id": "lMubQ3oZJfjg"
      },
      "source": [
        "p = [1] * 3 + [2] * 4 + [3] * 5"
      ],
      "execution_count": null,
      "outputs": []
    },
    {
      "cell_type": "code",
      "metadata": {
        "colab": {
          "base_uri": "https://localhost:8080/"
        },
        "id": "ztt7bg7YKBK8",
        "outputId": "aaeaea32-593a-4aaa-f729-1d446e62df38"
      },
      "source": [
        "p"
      ],
      "execution_count": null,
      "outputs": [
        {
          "output_type": "execute_result",
          "data": {
            "text/plain": [
              "[1, 1, 1, 2, 2, 2, 2, 3, 3, 3, 3, 3]"
            ]
          },
          "metadata": {},
          "execution_count": 118
        }
      ]
    },
    {
      "cell_type": "code",
      "metadata": {
        "colab": {
          "base_uri": "https://localhost:8080/"
        },
        "id": "rzJ5tcxzKB5H",
        "outputId": "1b2fc791-e7ae-434c-8e9f-06084b72ba8b"
      },
      "source": [
        "set(p)"
      ],
      "execution_count": null,
      "outputs": [
        {
          "output_type": "execute_result",
          "data": {
            "text/plain": [
              "{1, 2, 3}"
            ]
          },
          "metadata": {},
          "execution_count": 119
        }
      ]
    },
    {
      "cell_type": "code",
      "metadata": {
        "id": "PmX9MGgAKMlO"
      },
      "source": [
        "p = set('abcde')"
      ],
      "execution_count": null,
      "outputs": []
    },
    {
      "cell_type": "code",
      "metadata": {
        "colab": {
          "base_uri": "https://localhost:8080/"
        },
        "id": "UuW0fF1JKWSC",
        "outputId": "949c4da8-e67e-41ee-aa0a-5bb12b1843d4"
      },
      "source": [
        "p"
      ],
      "execution_count": null,
      "outputs": [
        {
          "output_type": "execute_result",
          "data": {
            "text/plain": [
              "{'a', 'b', 'c', 'd', 'e'}"
            ]
          },
          "metadata": {},
          "execution_count": 121
        }
      ]
    },
    {
      "cell_type": "code",
      "metadata": {
        "id": "Z9p-TPKzKXF0"
      },
      "source": [
        "q = set('cdefg')"
      ],
      "execution_count": null,
      "outputs": []
    },
    {
      "cell_type": "code",
      "metadata": {
        "colab": {
          "base_uri": "https://localhost:8080/"
        },
        "id": "FHExoih_KeNK",
        "outputId": "ca7a6541-0a64-4a2f-d672-67bbade6ed4e"
      },
      "source": [
        "q"
      ],
      "execution_count": null,
      "outputs": [
        {
          "output_type": "execute_result",
          "data": {
            "text/plain": [
              "{'c', 'd', 'e', 'f', 'g'}"
            ]
          },
          "metadata": {},
          "execution_count": 123
        }
      ]
    },
    {
      "cell_type": "markdown",
      "metadata": {
        "id": "QAhQ-1ptKhtv"
      },
      "source": [
        "#### 交集 (intersection)"
      ]
    },
    {
      "cell_type": "code",
      "metadata": {
        "colab": {
          "base_uri": "https://localhost:8080/"
        },
        "id": "0klkcMrMKfAB",
        "outputId": "753ee4cb-e5bf-406c-d2aa-3bbb9a6f9ae8"
      },
      "source": [
        "p & q"
      ],
      "execution_count": null,
      "outputs": [
        {
          "output_type": "execute_result",
          "data": {
            "text/plain": [
              "{'c', 'd', 'e'}"
            ]
          },
          "metadata": {},
          "execution_count": 124
        }
      ]
    },
    {
      "cell_type": "code",
      "metadata": {
        "colab": {
          "base_uri": "https://localhost:8080/"
        },
        "id": "zW1oXGkWLB9t",
        "outputId": "4c79b370-a0f8-420f-9a76-eb5a239deff4"
      },
      "source": [
        "p.intersection(q)"
      ],
      "execution_count": null,
      "outputs": [
        {
          "output_type": "execute_result",
          "data": {
            "text/plain": [
              "{'c', 'd', 'e'}"
            ]
          },
          "metadata": {},
          "execution_count": 127
        }
      ]
    },
    {
      "cell_type": "markdown",
      "metadata": {
        "id": "0ix5PVxFK4j7"
      },
      "source": [
        "#### 聯集 (union)"
      ]
    },
    {
      "cell_type": "code",
      "metadata": {
        "colab": {
          "base_uri": "https://localhost:8080/"
        },
        "id": "S1Xp-RMnKqYc",
        "outputId": "6b6baef2-48da-45fe-b5fe-6f5eead73581"
      },
      "source": [
        "p | q"
      ],
      "execution_count": null,
      "outputs": [
        {
          "output_type": "execute_result",
          "data": {
            "text/plain": [
              "{'a', 'b', 'c', 'd', 'e', 'f', 'g'}"
            ]
          },
          "metadata": {},
          "execution_count": 125
        }
      ]
    },
    {
      "cell_type": "code",
      "metadata": {
        "id": "Tg6ARdJKLGyE",
        "colab": {
          "base_uri": "https://localhost:8080/"
        },
        "outputId": "f49c0475-486f-4dd3-c02f-a19e7e8f5c62"
      },
      "source": [
        "p.union(q)"
      ],
      "execution_count": null,
      "outputs": [
        {
          "output_type": "execute_result",
          "data": {
            "text/plain": [
              "{'a', 'b', 'c', 'd', 'e', 'f', 'g'}"
            ]
          },
          "metadata": {},
          "execution_count": 128
        }
      ]
    },
    {
      "cell_type": "markdown",
      "metadata": {
        "id": "8PDg9QXaK8tK"
      },
      "source": [
        "#### 差集 (difference)"
      ]
    },
    {
      "cell_type": "code",
      "metadata": {
        "colab": {
          "base_uri": "https://localhost:8080/"
        },
        "id": "edsbPW4jKull",
        "outputId": "ab924da8-6efb-44bf-eb0e-e12bbc6242e5"
      },
      "source": [
        "p - q"
      ],
      "execution_count": null,
      "outputs": [
        {
          "output_type": "execute_result",
          "data": {
            "text/plain": [
              "{'a', 'b'}"
            ]
          },
          "metadata": {},
          "execution_count": 126
        }
      ]
    },
    {
      "cell_type": "code",
      "metadata": {
        "colab": {
          "base_uri": "https://localhost:8080/"
        },
        "id": "bgZ99hv-K0uG",
        "outputId": "2bd49f67-3569-4835-a57f-af8dc12b4723"
      },
      "source": [
        "p.difference(q)"
      ],
      "execution_count": null,
      "outputs": [
        {
          "output_type": "execute_result",
          "data": {
            "text/plain": [
              "{'a', 'b'}"
            ]
          },
          "metadata": {},
          "execution_count": 129
        }
      ]
    },
    {
      "cell_type": "code",
      "metadata": {
        "id": "mx7fkP_LLLxs"
      },
      "source": [
        ""
      ],
      "execution_count": null,
      "outputs": []
    },
    {
      "cell_type": "markdown",
      "metadata": {
        "id": "vL84KCUJsiu2"
      },
      "source": [
        "### 綜合練習:\n",
        "\n",
        "Python裡面，多行字串需用(''') (\"\"\") 括起來。"
      ]
    },
    {
      "cell_type": "code",
      "metadata": {
        "id": "N9CGRp7usnzA"
      },
      "source": [
        "s = \"\"\"{\n",
        "     \"firstName\": \"John\",\n",
        "     \"lastName\": \"Smith\",\n",
        "     \"sex\": \"male\",\n",
        "     \"age\": 25,\n",
        "     \"address\": \n",
        "     {\n",
        "         \"streetAddress\": \"21 2nd Street\",\n",
        "         \"city\": \"New York\",\n",
        "         \"state\": \"NY\",\n",
        "         \"postalCode\": \"10021\"\n",
        "     },\n",
        "     \"phoneNumber\": \n",
        "     [\n",
        "         {\n",
        "           \"type\": \"home\",\n",
        "           \"number\": \"212 555-1234\"\n",
        "         },\n",
        "         {\n",
        "           \"type\": \"fax\",\n",
        "           \"number\": \"646 555-4567\"\n",
        "         }\n",
        "     ]\n",
        " }\"\"\""
      ],
      "execution_count": null,
      "outputs": []
    },
    {
      "cell_type": "code",
      "metadata": {
        "colab": {
          "base_uri": "https://localhost:8080/"
        },
        "id": "OHtMXavruDF2",
        "outputId": "86f397ae-17a2-40cf-e683-7e70004d24fa"
      },
      "source": [
        "type(s)"
      ],
      "execution_count": null,
      "outputs": [
        {
          "output_type": "execute_result",
          "data": {
            "text/plain": [
              "str"
            ]
          },
          "metadata": {},
          "execution_count": 4
        }
      ]
    },
    {
      "cell_type": "code",
      "metadata": {
        "id": "g5eCxGxwubHh"
      },
      "source": [
        "import json"
      ],
      "execution_count": null,
      "outputs": []
    },
    {
      "cell_type": "code",
      "metadata": {
        "id": "o4GXC8OmusuY"
      },
      "source": [
        "data = json.loads(s)"
      ],
      "execution_count": null,
      "outputs": []
    },
    {
      "cell_type": "code",
      "metadata": {
        "colab": {
          "base_uri": "https://localhost:8080/"
        },
        "id": "NNkKlZIbux8U",
        "outputId": "486d2787-0da8-40c3-9245-e8979557574c"
      },
      "source": [
        "type(data)"
      ],
      "execution_count": null,
      "outputs": [
        {
          "output_type": "execute_result",
          "data": {
            "text/plain": [
              "dict"
            ]
          },
          "metadata": {},
          "execution_count": 7
        }
      ]
    },
    {
      "cell_type": "code",
      "metadata": {
        "colab": {
          "base_uri": "https://localhost:8080/"
        },
        "id": "WdGSrglBuzEV",
        "outputId": "5feddec1-8948-44ff-c7ea-828dac4b6ac6"
      },
      "source": [
        "data"
      ],
      "execution_count": null,
      "outputs": [
        {
          "output_type": "execute_result",
          "data": {
            "text/plain": [
              "{'address': {'city': 'New York',\n",
              "  'postalCode': '10021',\n",
              "  'state': 'NY',\n",
              "  'streetAddress': '21 2nd Street'},\n",
              " 'age': 25,\n",
              " 'firstName': 'John',\n",
              " 'lastName': 'Smith',\n",
              " 'phoneNumber': [{'number': '212 555-1234', 'type': 'home'},\n",
              "  {'number': '646 555-4567', 'type': 'fax'}],\n",
              " 'sex': 'male'}"
            ]
          },
          "metadata": {},
          "execution_count": 8
        }
      ]
    },
    {
      "cell_type": "code",
      "metadata": {
        "colab": {
          "base_uri": "https://localhost:8080/"
        },
        "id": "06Pw5kqvu395",
        "outputId": "627976d5-15b1-4894-823c-0f2d686b009c"
      },
      "source": [
        "data.keys()"
      ],
      "execution_count": null,
      "outputs": [
        {
          "output_type": "execute_result",
          "data": {
            "text/plain": [
              "dict_keys(['firstName', 'lastName', 'sex', 'age', 'address', 'phoneNumber'])"
            ]
          },
          "metadata": {},
          "execution_count": 9
        }
      ]
    },
    {
      "cell_type": "code",
      "metadata": {
        "colab": {
          "base_uri": "https://localhost:8080/",
          "height": 34
        },
        "id": "fqQ_nOILv46z",
        "outputId": "b3e2765b-d4bd-4741-aaec-ef643b560c67"
      },
      "source": [
        "# 秀出名字\n",
        "data['firstName']"
      ],
      "execution_count": null,
      "outputs": [
        {
          "output_type": "execute_result",
          "data": {
            "application/vnd.google.colaboratory.intrinsic+json": {
              "type": "string"
            },
            "text/plain": [
              "'John'"
            ]
          },
          "metadata": {},
          "execution_count": 10
        }
      ]
    },
    {
      "cell_type": "code",
      "metadata": {
        "colab": {
          "base_uri": "https://localhost:8080/"
        },
        "id": "QNLKYc5Qv-xz",
        "outputId": "185f149e-4d88-4f55-8aa1-67a68f6dde60"
      },
      "source": [
        "data['address']"
      ],
      "execution_count": null,
      "outputs": [
        {
          "output_type": "execute_result",
          "data": {
            "text/plain": [
              "{'city': 'New York',\n",
              " 'postalCode': '10021',\n",
              " 'state': 'NY',\n",
              " 'streetAddress': '21 2nd Street'}"
            ]
          },
          "metadata": {},
          "execution_count": 11
        }
      ]
    },
    {
      "cell_type": "code",
      "metadata": {
        "colab": {
          "base_uri": "https://localhost:8080/"
        },
        "id": "YNALWFRPw0lP",
        "outputId": "a56e5e6f-da1c-4940-bce6-78d1da1465cf"
      },
      "source": [
        "type(data['address'])"
      ],
      "execution_count": null,
      "outputs": [
        {
          "output_type": "execute_result",
          "data": {
            "text/plain": [
              "dict"
            ]
          },
          "metadata": {},
          "execution_count": 12
        }
      ]
    },
    {
      "cell_type": "code",
      "metadata": {
        "colab": {
          "base_uri": "https://localhost:8080/",
          "height": 34
        },
        "id": "yRvfYlIfw2aV",
        "outputId": "e8ee9d60-f574-4b7f-a4c4-83e46d5a9f88"
      },
      "source": [
        "# 秀出居住城市\n",
        "data['address']['city']"
      ],
      "execution_count": null,
      "outputs": [
        {
          "output_type": "execute_result",
          "data": {
            "application/vnd.google.colaboratory.intrinsic+json": {
              "type": "string"
            },
            "text/plain": [
              "'New York'"
            ]
          },
          "metadata": {},
          "execution_count": 13
        }
      ]
    },
    {
      "cell_type": "code",
      "metadata": {
        "colab": {
          "base_uri": "https://localhost:8080/",
          "height": 34
        },
        "id": "VBmgVR_FxNSb",
        "outputId": "906aed00-aefe-4397-fd3d-65e2df83ee3a"
      },
      "source": [
        "# 秀出家裡電話號碼\n",
        "data['phoneNumber'][0]['number']"
      ],
      "execution_count": null,
      "outputs": [
        {
          "output_type": "execute_result",
          "data": {
            "application/vnd.google.colaboratory.intrinsic+json": {
              "type": "string"
            },
            "text/plain": [
              "'212 555-1234'"
            ]
          },
          "metadata": {},
          "execution_count": 19
        }
      ]
    },
    {
      "cell_type": "code",
      "metadata": {
        "id": "Ppazio67x0CW"
      },
      "source": [
        "import requests"
      ],
      "execution_count": null,
      "outputs": []
    },
    {
      "cell_type": "code",
      "metadata": {
        "id": "fpvYmJ8OzXvH"
      },
      "source": [
        "data = requests.get(\"https://www.moeasmea.gov.tw/api/v1/rest/datastore/0800056476\").json()"
      ],
      "execution_count": null,
      "outputs": []
    },
    {
      "cell_type": "code",
      "metadata": {
        "colab": {
          "base_uri": "https://localhost:8080/"
        },
        "id": "QHMFVAQlzcrs",
        "outputId": "7d888d3a-875c-4afb-92c5-c7850ab0ad66"
      },
      "source": [
        "type(data)"
      ],
      "execution_count": null,
      "outputs": [
        {
          "output_type": "execute_result",
          "data": {
            "text/plain": [
              "list"
            ]
          },
          "metadata": {},
          "execution_count": 25
        }
      ]
    },
    {
      "cell_type": "code",
      "metadata": {
        "colab": {
          "base_uri": "https://localhost:8080/"
        },
        "id": "cJWpMhFLzef3",
        "outputId": "60c3996b-d3b3-474a-bd18-920f04eda004"
      },
      "source": [
        "data[0]"
      ],
      "execution_count": null,
      "outputs": [
        {
          "output_type": "execute_result",
          "data": {
            "text/plain": [
              "{'_id': 1,\n",
              " 'c4_email': 'service@smeg.org.tw',\n",
              " 'c4_email2': '',\n",
              " 'c4_fax': '',\n",
              " 'c4_fax2': '',\n",
              " 'c4_name': '馬上辦服務中心',\n",
              " 'c4_name2': '',\n",
              " 'c4_organ': '經濟部中小企業處',\n",
              " 'c4_organ2': '財團法人中小企業信用保證基金',\n",
              " 'c4_tel': '0800-056-476',\n",
              " 'c4_tel2': '0800-089-921',\n",
              " 'ctitle': '企業小頭家貸款',\n",
              " 'ctx1': '為促進小規模事業發展，協助取得營運所需資金，以活絡經濟動能，創造就業機會。',\n",
              " 'ctx2': '一、貸款額度：（一）週轉性支出：每一事業申請本項貸款最高額度為新臺幣500萬元，惟受災事業不受額度限制。（二）資本性支出：最高以不超過計畫經費之八成為原則，得由承貸金融機構依個案情形調整。二、保證及貸款利率：（一）一般事業保證及利率依承貸金融機構核貸作業規定辦理，必要時得移送中小企業信用保證基金提供最高九成信用保證。貸款利率依不同保證成數計收如下：１、保證成數八成以上者，貸款利率最高依中華郵政股份有限公司二年期定期儲金機動利率加2.125％，機動計息。２、保證成數在七成以上但未滿八成者，貸款利率最高依中華郵政股份有限公司二年期定期儲金機動利率加3.125％，機動計息。３、保證成數未滿七成者，由承貸金融機構依個案情形決定。（二）新創事業保證及利率設立未滿五年之新創事業，依承貸金融機構核貸作業規定辦理，必要時得移送中小企業信用保證基金提供一律九成信用保證，貸款利率最高依中華郵政股份有限公司二年期定期儲金機動利率加1.5%，機動計息。（三）傳承創新事業保證及利率具營運創新、技術升級或轉型發展等資金需求，且提具傳承創新計畫書，經承貸金融機構認可之事業，必要時得移送中小企業信用保證基金提供一律九成信用保證，貸款利率最高依中華郵政股份有限公司二年期定期儲金機動利率加1.5%，機動計息。（四）受災事業保證及利率對於遭受災害防救法第二條第一款之災害者，持有受災地區直轄市、縣（市）政府、鄉（鎮、市、區）公所、稅捐稽徵機關或經濟部委託之輔導單位出具之受災文件，或經金融機構調查屬實者，依承貸金融機構核貸作業規定辦理，必要時得移送中小企業信用保證基金提供九成信用保證，送保期間保證手續費，免向受災事業計收，貸款利率最高依中華郵政股份有限公司二年期定期儲金機動利率加1％，機動計息。三、申請程序：（一）由申請事業向各承貸金融機構提出申請；受災事業應於遭受災害之次日起一年內提出申請。（二）由承貸金融機構以簡便徵授信程序從速核貸。',\n",
              " 'ctx3': '依法辦理公司、有限合夥、商業或稅籍登記，僱用員工人數十人以下之營利事業。',\n",
              " 'ctx5': 'https://www.moeasmea.gov.tw/article-tw-2727-6734',\n",
              " 'etitle': '提供小規模企業貸款',\n",
              " 'etype': '融資類',\n",
              " 'fdate': '20210511',\n",
              " 'gid': '融資保證',\n",
              " 'nid': '68'}"
            ]
          },
          "metadata": {},
          "execution_count": 26
        }
      ]
    },
    {
      "cell_type": "code",
      "metadata": {
        "colab": {
          "base_uri": "https://localhost:8080/"
        },
        "id": "fXIo0w-V0XYD",
        "outputId": "379cb60d-c4f5-407b-c2f2-f9ed7920d6a5"
      },
      "source": [
        "data[-1]"
      ],
      "execution_count": null,
      "outputs": [
        {
          "output_type": "execute_result",
          "data": {
            "text/plain": [
              "{'_id': 100,\n",
              " 'c4_email': 'wanclin@df.gov.tw',\n",
              " 'c4_email2': 'owen.tzeng@tvca.org.tw',\n",
              " 'c4_fax': '(02)2389-0636',\n",
              " 'c4_fax2': '(02)2389-0636',\n",
              " 'c4_name': '林小姐',\n",
              " 'c4_name2': '曾炫誠',\n",
              " 'c4_organ': '行政院國家發展基金',\n",
              " 'c4_organ2': '中華民國創業投資商業同業公會',\n",
              " 'c4_tel': '(02)2389-0633#211',\n",
              " 'c4_tel2': '(02)2546-5336',\n",
              " 'ctitle': '行政院國家發展基金創業天使投資方案',\n",
              " 'ctx1': '提供新創企業創立初期營運資金',\n",
              " 'ctx2': '健全新創事業投資市場機制，改善臺灣天使投資環境，提供新創企業創立初期營運資金，運用天使投資人投資經驗，提供被投資事業後續輔導諮詢與網絡連結。',\n",
              " 'ctx3': '一、由天使投資人或新創事業，向本方案執行機構提出申請。二、符合申請資格者，提請投資評估審議會審議，經審議通過參與投資後，即辦理簽約撥款。',\n",
              " 'ctx5': 'http://www.tvca.org.tw/',\n",
              " 'etitle': '天使投資人投資初期新創企業',\n",
              " 'etype': '投資類',\n",
              " 'fdate': '20210106',\n",
              " 'gid': '創業資金',\n",
              " 'nid': '26'}"
            ]
          },
          "metadata": {},
          "execution_count": 27
        }
      ]
    },
    {
      "cell_type": "code",
      "metadata": {
        "colab": {
          "base_uri": "https://localhost:8080/"
        },
        "id": "4LACb58E0l_0",
        "outputId": "45db1a91-5811-4fee-d230-927526c74eb2"
      },
      "source": [
        "data[:3]"
      ],
      "execution_count": null,
      "outputs": [
        {
          "output_type": "execute_result",
          "data": {
            "text/plain": [
              "[{'_id': 1,\n",
              "  'c4_email': 'service@smeg.org.tw',\n",
              "  'c4_email2': '',\n",
              "  'c4_fax': '',\n",
              "  'c4_fax2': '',\n",
              "  'c4_name': '馬上辦服務中心',\n",
              "  'c4_name2': '',\n",
              "  'c4_organ': '經濟部中小企業處',\n",
              "  'c4_organ2': '財團法人中小企業信用保證基金',\n",
              "  'c4_tel': '0800-056-476',\n",
              "  'c4_tel2': '0800-089-921',\n",
              "  'ctitle': '企業小頭家貸款',\n",
              "  'ctx1': '為促進小規模事業發展，協助取得營運所需資金，以活絡經濟動能，創造就業機會。',\n",
              "  'ctx2': '一、貸款額度：（一）週轉性支出：每一事業申請本項貸款最高額度為新臺幣500萬元，惟受災事業不受額度限制。（二）資本性支出：最高以不超過計畫經費之八成為原則，得由承貸金融機構依個案情形調整。二、保證及貸款利率：（一）一般事業保證及利率依承貸金融機構核貸作業規定辦理，必要時得移送中小企業信用保證基金提供最高九成信用保證。貸款利率依不同保證成數計收如下：１、保證成數八成以上者，貸款利率最高依中華郵政股份有限公司二年期定期儲金機動利率加2.125％，機動計息。２、保證成數在七成以上但未滿八成者，貸款利率最高依中華郵政股份有限公司二年期定期儲金機動利率加3.125％，機動計息。３、保證成數未滿七成者，由承貸金融機構依個案情形決定。（二）新創事業保證及利率設立未滿五年之新創事業，依承貸金融機構核貸作業規定辦理，必要時得移送中小企業信用保證基金提供一律九成信用保證，貸款利率最高依中華郵政股份有限公司二年期定期儲金機動利率加1.5%，機動計息。（三）傳承創新事業保證及利率具營運創新、技術升級或轉型發展等資金需求，且提具傳承創新計畫書，經承貸金融機構認可之事業，必要時得移送中小企業信用保證基金提供一律九成信用保證，貸款利率最高依中華郵政股份有限公司二年期定期儲金機動利率加1.5%，機動計息。（四）受災事業保證及利率對於遭受災害防救法第二條第一款之災害者，持有受災地區直轄市、縣（市）政府、鄉（鎮、市、區）公所、稅捐稽徵機關或經濟部委託之輔導單位出具之受災文件，或經金融機構調查屬實者，依承貸金融機構核貸作業規定辦理，必要時得移送中小企業信用保證基金提供九成信用保證，送保期間保證手續費，免向受災事業計收，貸款利率最高依中華郵政股份有限公司二年期定期儲金機動利率加1％，機動計息。三、申請程序：（一）由申請事業向各承貸金融機構提出申請；受災事業應於遭受災害之次日起一年內提出申請。（二）由承貸金融機構以簡便徵授信程序從速核貸。',\n",
              "  'ctx3': '依法辦理公司、有限合夥、商業或稅籍登記，僱用員工人數十人以下之營利事業。',\n",
              "  'ctx5': 'https://www.moeasmea.gov.tw/article-tw-2727-6734',\n",
              "  'etitle': '提供小規模企業貸款',\n",
              "  'etype': '融資類',\n",
              "  'fdate': '20210511',\n",
              "  'gid': '融資保證',\n",
              "  'nid': '68'},\n",
              " {'_id': 2,\n",
              "  'c4_email': '',\n",
              "  'c4_email2': 'smecf@smecf.org.tw',\n",
              "  'c4_fax': '',\n",
              "  'c4_fax2': '02-2396-9860~1',\n",
              "  'c4_name': '馬上辦服務中心',\n",
              "  'c4_name2': '免付費輔導諮詢專線',\n",
              "  'c4_organ': '經濟部中小企業處\\u3000',\n",
              "  'c4_organ2': '財團法人台灣中小企業聯合輔導基金會\\u3000',\n",
              "  'c4_tel': '0800-056-476',\n",
              "  'c4_tel2': '0800-219-666',\n",
              "  'ctitle': '受嚴重特殊傳染性肺炎影響企業融資協處計畫',\n",
              "  'ctx1': '提供融資諮詢與診斷輔導，協助受影響事業取得資金，度過疫情衝擊。',\n",
              "  'ctx2': '一、落實「經濟部對受嚴重特殊傳染性肺炎影響發生營運困難產業事業紓困振興辦法」，有效幫助受影響發生營運困難企業取得必要資金及解決財務問題，同時協助企業進行轉型升級。二、配合經濟部中小企業處馬上辦服務中心諮詢服務及個案協調，及時解決企業面臨資金與銀行、中小企業信用保證基金間有關資金取得之往來問題，使融資紓困作業更順暢，必要時協洽銀行及中小企業信用保證基金，或參與融資協調會議，以有效回應民眾需求。',\n",
              "  'ctx3': '符合「受影響事業」資格者皆可申請：一、受影響認定：自109年起任連續二個月之月平均或任一個月之營業額較109年內任一個月、108年下半年之月平均、108年同期月平均、107年同期月平均或其他經主管機關認定之期間之營業額減少達15％。二、事業資格認定：依法辦理公司登記、商業登記、有限合夥登記、稅籍登記及小規模商業者。',\n",
              "  'ctx5': 'http://covid-19.smecf.org.tw/',\n",
              "  'etitle': '協助受影響企業取得資金',\n",
              "  'etype': '融資類',\n",
              "  'fdate': '20210430',\n",
              "  'gid': '財務諮詢',\n",
              "  'nid': '51'},\n",
              " {'_id': 3,\n",
              "  'c4_email': 'jchsu@moea.gov.tw',\n",
              "  'c4_email2': 'sbir1@admail.csd.org.tw',\n",
              "  'c4_fax': '(02)2367-8540',\n",
              "  'c4_fax2': '(02)2391-1231',\n",
              "  'c4_name': '許容娸技正',\n",
              "  'c4_name2': 'SBIR計畫專案辦公室',\n",
              "  'c4_organ': '經濟部中小企業處',\n",
              "  'c4_organ2': '財團法人中衛發展中心',\n",
              "  'c4_tel': '(02)2366-2259',\n",
              "  'c4_tel2': '0800-888-968',\n",
              "  'ctitle': '小型企業創新研發計畫(SBIR)',\n",
              "  'ctx1': '透過政府補助款分擔中小企業研發費用與風險，提高廠商研發意願，強化企業知識與專利布局，培育高階研發人力。',\n",
              "  'ctx2': '補助經費與計畫期程：一、先期研究／先期規劃案（Phase1）：（一）個別申請：補助上限新臺幣100萬（計畫期程以6個月為限）。（二）研發聯盟：補助上限新臺幣500萬（計畫期程以9個月為限）。二、研究開發／細部計畫案（Phase2）：（一）個別申請：補助上限新臺幣1,000萬元（計畫期程以2年為限）。（二）研發聯盟：補助上限新臺幣5,000萬元（計畫期程以2年為限）。三、加值應用（Phase2+）：（一）個別申請：補助上限新臺幣500萬元（計畫期程以1年為限）。（二）研發聯盟：補助上限新臺幣2,500萬元（計畫期程以1年為限）。四、補助款上限為計畫總經費50%。（一）申請期間：隨到隨受理',\n",
              "  'ctx3': '國內符合「中小企業認定標準」所稱依法登記成立，並合於下列基準之獨資、合夥、有限合夥事業或公司：實收資本額在新臺幣一億元以下，或經常僱用員工數未滿二百人者。',\n",
              "  'ctx5': 'https://www.sbir.org.tw',\n",
              "  'etitle': '補助中小企業創新研發',\n",
              "  'etype': '補助類',\n",
              "  'fdate': '20210423',\n",
              "  'gid': '研發補助',\n",
              "  'nid': '32'}]"
            ]
          },
          "metadata": {},
          "execution_count": 28
        }
      ]
    },
    {
      "cell_type": "markdown",
      "metadata": {
        "id": "pg1H7JtG5sB_"
      },
      "source": [
        "## Python的基礎語法\n",
        "\n",
        "* 迴圈 (loops) ==> 重複執行\n",
        "* 函式 (functions) ==> 被呼叫後，執行特定程式碼\n",
        "* 條件式 (if statements) ==> 選擇性的執行程式區塊\n",
        "* 例外處理 (Exception Handling) ==> 發生錯誤時，執行特定程式區塊"
      ]
    },
    {
      "cell_type": "markdown",
      "metadata": {
        "id": "NI1BdClq6W7l"
      },
      "source": [
        "### 迴圈 (Loops)\n",
        "\n",
        "* for loop\n",
        "* while loop"
      ]
    },
    {
      "cell_type": "markdown",
      "metadata": {
        "id": "If2cCHEM6fOU"
      },
      "source": [
        "for 迴圈語法：\n",
        "\n",
        "```python\n",
        "for 變數 in 資料結構：\n",
        "  程式區塊\n",
        "```"
      ]
    },
    {
      "cell_type": "code",
      "metadata": {
        "colab": {
          "base_uri": "https://localhost:8080/"
        },
        "id": "Voa_yi3f0xM4",
        "outputId": "259298c9-f4b4-4097-b76c-992b3d22fd96"
      },
      "source": [
        "for i in range(5):\n",
        "  print(i)"
      ],
      "execution_count": null,
      "outputs": [
        {
          "output_type": "stream",
          "text": [
            "0\n",
            "1\n",
            "2\n",
            "3\n",
            "4\n"
          ],
          "name": "stdout"
        }
      ]
    },
    {
      "cell_type": "code",
      "metadata": {
        "colab": {
          "base_uri": "https://localhost:8080/"
        },
        "id": "0nAvyJDl607i",
        "outputId": "3322b98c-c7fe-4cb9-a705-f73789c6ca72"
      },
      "source": [
        "for i in range(5):\n",
        "  print((2*i+1))"
      ],
      "execution_count": null,
      "outputs": [
        {
          "output_type": "stream",
          "text": [
            "1\n",
            "3\n",
            "5\n",
            "7\n",
            "9\n"
          ],
          "name": "stdout"
        }
      ]
    },
    {
      "cell_type": "code",
      "metadata": {
        "colab": {
          "base_uri": "https://localhost:8080/"
        },
        "id": "fK4LGW9o7pD7",
        "outputId": "27c55063-6525-406d-e43b-6704335e4cec"
      },
      "source": [
        "for i in range(5):\n",
        "  print((2*i+1)*'*')"
      ],
      "execution_count": null,
      "outputs": [
        {
          "output_type": "stream",
          "text": [
            "*\n",
            "***\n",
            "*****\n",
            "*******\n",
            "*********\n"
          ],
          "name": "stdout"
        }
      ]
    },
    {
      "cell_type": "code",
      "metadata": {
        "colab": {
          "base_uri": "https://localhost:8080/"
        },
        "id": "p6puYNU67tBH",
        "outputId": "cfd6e474-08bb-408f-b2b9-86db67ac018d"
      },
      "source": [
        "for i in range(5):\n",
        "  print((5-i)*' '+(2*i+1)*'*')"
      ],
      "execution_count": null,
      "outputs": [
        {
          "output_type": "stream",
          "text": [
            "     *\n",
            "    ***\n",
            "   *****\n",
            "  *******\n",
            " *********\n"
          ],
          "name": "stdout"
        }
      ]
    },
    {
      "cell_type": "markdown",
      "metadata": {
        "id": "z1xiDKcf8HXI"
      },
      "source": [
        "### 函式 (Functions)\n",
        "\n",
        "```python\n",
        "# 無傳入引數, 無回傳值\n",
        "def functionName():\n",
        "  程式區塊\n",
        "```\n",
        "\n",
        "```python\n",
        "# 傳入一個引數, 無回傳值\n",
        "def functionName(argument1):\n",
        "  程式區塊\n",
        "```"
      ]
    },
    {
      "cell_type": "markdown",
      "metadata": {
        "id": "0v3Pp_MW8jp1"
      },
      "source": [
        "#### 練習題:\n",
        "\n",
        "寫一個函式，傳入金字塔高度，印出對應高度的金字塔。"
      ]
    },
    {
      "cell_type": "code",
      "metadata": {
        "id": "shKqkSUq8AXF"
      },
      "source": [
        "def pyramid(h):\n",
        "  for i in range(h):\n",
        "    print((h-i)*' '+(2*i+1)*'*')"
      ],
      "execution_count": null,
      "outputs": []
    },
    {
      "cell_type": "code",
      "metadata": {
        "colab": {
          "base_uri": "https://localhost:8080/"
        },
        "id": "TCVX49IP84rZ",
        "outputId": "91d9595a-fd6c-429b-839c-f53e94ee3d54"
      },
      "source": [
        "pyramid(6)"
      ],
      "execution_count": null,
      "outputs": [
        {
          "output_type": "stream",
          "text": [
            "      *\n",
            "     ***\n",
            "    *****\n",
            "   *******\n",
            "  *********\n",
            " ***********\n"
          ],
          "name": "stdout"
        }
      ]
    },
    {
      "cell_type": "markdown",
      "metadata": {
        "id": "F-z_O2kb_fc1"
      },
      "source": [
        "### 條件式 (Conditional Statements)\n",
        "\n",
        "```python\n",
        "# 單一條件式\n",
        "if 條件式：\n",
        "  程式區塊1\n",
        "else:\n",
        "  程式區塊2\n",
        "```\n",
        "\n",
        "```python\n",
        "# 多條件式\n",
        "if 條件式1：\n",
        "  程式區塊1\n",
        "elif 條件式2:\n",
        "  程式區塊2\n",
        "else:\n",
        "  程式區塊3\n",
        "```"
      ]
    },
    {
      "cell_type": "code",
      "metadata": {
        "colab": {
          "base_uri": "https://localhost:8080/"
        },
        "id": "-D_QncOD875P",
        "outputId": "c51516b2-6e11-4154-b76d-c480aef8558c"
      },
      "source": [
        "a = 4\n",
        "b = 3\n",
        "\n",
        "if a < b:\n",
        "  print(\"a < b\")\n",
        "else:\n",
        "  print(\"a >= b\")"
      ],
      "execution_count": null,
      "outputs": [
        {
          "output_type": "stream",
          "text": [
            "a >= b\n"
          ],
          "name": "stdout"
        }
      ]
    },
    {
      "cell_type": "code",
      "metadata": {
        "colab": {
          "base_uri": "https://localhost:8080/"
        },
        "id": "Fn9_lOehAB9d",
        "outputId": "2512ec02-86c5-497c-da42-a235786c066d"
      },
      "source": [
        "a = 3\n",
        "b = 3\n",
        "\n",
        "if a < b:\n",
        "  print(\"a < b\")\n",
        "elif a > b:\n",
        "  print(\"a > b\")\n",
        "else:\n",
        "  print(\"a = b\")"
      ],
      "execution_count": null,
      "outputs": [
        {
          "output_type": "stream",
          "text": [
            "a = b\n"
          ],
          "name": "stdout"
        }
      ]
    },
    {
      "cell_type": "markdown",
      "metadata": {
        "id": "TkTfJ4j0Audv"
      },
      "source": [
        "#### 練習題：\n",
        "\n",
        "計算 bmi 並判斷體位。\n",
        "\n",
        "bmi 定義： $ bmi = \\frac{w}{h^2} $\n",
        "\n",
        "w: 體重 (公斤), h: 身高 (公尺)\n",
        "\n",
        "|bmi值|體位|\n",
        "|:-:|:-:|\n",
        "|< 18.5|過輕|\n",
        "|> 24 | 過重|"
      ]
    },
    {
      "cell_type": "code",
      "metadata": {
        "id": "DjePAleuAQsY"
      },
      "source": [
        "w = 75\n",
        "h = 1.83\n",
        "\n",
        "bmi = w/h**2"
      ],
      "execution_count": null,
      "outputs": []
    },
    {
      "cell_type": "code",
      "metadata": {
        "colab": {
          "base_uri": "https://localhost:8080/"
        },
        "id": "7HGAU5JoCc8e",
        "outputId": "89bfe1b5-5fde-4699-8618-b81f826a6568"
      },
      "source": [
        "bmi"
      ],
      "execution_count": null,
      "outputs": [
        {
          "output_type": "execute_result",
          "data": {
            "text/plain": [
              "22.395413419331717"
            ]
          },
          "metadata": {},
          "execution_count": 55
        }
      ]
    },
    {
      "cell_type": "code",
      "metadata": {
        "colab": {
          "base_uri": "https://localhost:8080/"
        },
        "id": "8SjwGKjpCd14",
        "outputId": "2d8d6e93-7c3c-4319-d31b-a38448fc9e07"
      },
      "source": [
        "if bmi < 18.5:\n",
        "  print(\"體重過輕\")\n",
        "elif bmi > 24:\n",
        "  print(\"體重過重\")\n",
        "else:\n",
        "  print(\"健康體位\")"
      ],
      "execution_count": null,
      "outputs": [
        {
          "output_type": "stream",
          "text": [
            "健康體位\n"
          ],
          "name": "stdout"
        }
      ]
    },
    {
      "cell_type": "markdown",
      "metadata": {
        "id": "zub0afNcECQz"
      },
      "source": [
        "### 例外處理 (Exception Handling)\n",
        "\n",
        "語法：\n",
        "\n",
        "```python\n",
        "try:\n",
        "  程式區塊\n",
        "except:\n",
        "  例外處理程式區塊\n",
        "```\n",
        "\n",
        "```python\n",
        "try:\n",
        "  程式區塊\n",
        "except Exception as e:\n",
        "  print(e.args)\n",
        "```"
      ]
    },
    {
      "cell_type": "code",
      "metadata": {
        "id": "pbluSlp7D55o"
      },
      "source": [
        "# Addition\n",
        "def add(a, b):\n",
        "  print(a, \"+\", b, \"=\", a + b)\n",
        "\n",
        "# Subtraction\n",
        "def sub(a, b):\n",
        "  print(a, \"-\", b, \"=\", a - b)\n",
        "\n",
        "# Multiplication\n",
        "def mul(a, b):\n",
        "  print(a, \"x\", b, \"=\", a * b)\n",
        "\n",
        "# Division\n",
        "def div(a, b):\n",
        "  print(a, \"/\", b, \"=\", a / b)"
      ],
      "execution_count": null,
      "outputs": []
    },
    {
      "cell_type": "code",
      "metadata": {
        "colab": {
          "base_uri": "https://localhost:8080/"
        },
        "id": "6pneX6yjEn7C",
        "outputId": "668584df-3bf1-46c6-812b-52098716ec23"
      },
      "source": [
        "add(a, b)\n",
        "sub(a, b)\n",
        "mul(a, b)\n",
        "div(a, b)"
      ],
      "execution_count": null,
      "outputs": [
        {
          "output_type": "stream",
          "text": [
            "4 + 3 = 7\n",
            "4 - 3 = 1\n",
            "4 x 3 = 12\n",
            "4 / 3 = 1.3333333333333333\n"
          ],
          "name": "stdout"
        }
      ]
    },
    {
      "cell_type": "code",
      "metadata": {
        "id": "Szt_gqXeEps6"
      },
      "source": [
        "m = [5, 7, 1, 1, 4, 3, 8]\n",
        "\n",
        "for i in m:\n",
        "  print(i)"
      ],
      "execution_count": null,
      "outputs": []
    },
    {
      "cell_type": "code",
      "metadata": {
        "colab": {
          "base_uri": "https://localhost:8080/"
        },
        "id": "KYgRd3EYHIAZ",
        "outputId": "b432c7fc-7038-4597-be98-f8e0199d0216"
      },
      "source": [
        "fns = [add, div, sub, mul]\n",
        "\n",
        "for fn in fns:\n",
        "  fn(a, b)"
      ],
      "execution_count": null,
      "outputs": [
        {
          "output_type": "stream",
          "text": [
            "4 + 3 = 7\n",
            "4 / 3 = 1.3333333333333333\n",
            "4 - 3 = 1\n",
            "4 x 3 = 12\n"
          ],
          "name": "stdout"
        }
      ]
    },
    {
      "cell_type": "code",
      "metadata": {
        "colab": {
          "base_uri": "https://localhost:8080/"
        },
        "id": "5Ab9ZIVnHaFD",
        "outputId": "88abb93f-890b-4c37-dbc9-818a313bbea1"
      },
      "source": [
        "fns = [add, div, sub, mul]\n",
        "\n",
        "a = 1\n",
        "b = 2\n",
        "\n",
        "for fn in fns:\n",
        "  fn(a, b)"
      ],
      "execution_count": null,
      "outputs": [
        {
          "output_type": "stream",
          "text": [
            "1 + 2 = 3\n",
            "1 / 2 = 0.5\n",
            "1 - 2 = -1\n",
            "1 x 2 = 2\n"
          ],
          "name": "stdout"
        }
      ]
    },
    {
      "cell_type": "code",
      "metadata": {
        "id": "NSpgQft4IbMY"
      },
      "source": [
        "fns = [add, div, sub, mul]\n",
        "\n",
        "a = 1\n",
        "b = 0\n",
        "\n",
        "for fn in fns:\n",
        "  fn(a, b)"
      ],
      "execution_count": null,
      "outputs": []
    },
    {
      "cell_type": "code",
      "metadata": {
        "colab": {
          "base_uri": "https://localhost:8080/"
        },
        "id": "AiUQ_xNOIio9",
        "outputId": "6d0b6202-63de-43cc-8207-44c31188e864"
      },
      "source": [
        "fns = [add, div, sub, mul]\n",
        "\n",
        "a = 1\n",
        "b = 0\n",
        "\n",
        "for fn in fns:\n",
        "  try:\n",
        "    fn(a, b)\n",
        "  except:\n",
        "    print(\"程式發生錯誤\")"
      ],
      "execution_count": null,
      "outputs": [
        {
          "output_type": "stream",
          "text": [
            "1 + 0 = 1\n",
            "程式發生錯誤\n",
            "1 - 0 = 1\n",
            "1 x 0 = 0\n"
          ],
          "name": "stdout"
        }
      ]
    },
    {
      "cell_type": "code",
      "metadata": {
        "colab": {
          "base_uri": "https://localhost:8080/"
        },
        "id": "0uEaNDm5KsiF",
        "outputId": "9394eb82-83e5-4462-8937-4e6ac9d8a8bf"
      },
      "source": [
        "fns = [add, div, sub, mul]\n",
        "\n",
        "for fn in fns:\n",
        "  print(fn.__name__)"
      ],
      "execution_count": null,
      "outputs": [
        {
          "output_type": "stream",
          "text": [
            "add\n",
            "div\n",
            "sub\n",
            "mul\n"
          ],
          "name": "stdout"
        }
      ]
    },
    {
      "cell_type": "code",
      "metadata": {
        "colab": {
          "base_uri": "https://localhost:8080/"
        },
        "id": "Ojwd28fCKvYg",
        "outputId": "fd621f25-d862-43f3-faab-256764eccee1"
      },
      "source": [
        "fns = [add, div, sub, mul]\n",
        "\n",
        "a = 1\n",
        "b = 0\n",
        "\n",
        "for fn in fns:\n",
        "  try:\n",
        "    fn(a, b)\n",
        "  except Exception as e:\n",
        "    print(e.args)"
      ],
      "execution_count": null,
      "outputs": [
        {
          "output_type": "stream",
          "text": [
            "1 + 0 = 1\n",
            "('division by zero',)\n",
            "1 - 0 = 1\n",
            "1 x 0 = 0\n"
          ],
          "name": "stdout"
        }
      ]
    },
    {
      "cell_type": "markdown",
      "metadata": {
        "id": "F13znkO8NVcg"
      },
      "source": [
        "### 綜合練習\n",
        "\n",
        "印出下面連結中的校名及人數:\n",
        "\n",
        "http://odata.tn.edu.tw/ebookapi/api/getOdataSIS?allschool=0"
      ]
    },
    {
      "cell_type": "code",
      "metadata": {
        "id": "neo-10TiLSs0"
      },
      "source": [
        "import requests"
      ],
      "execution_count": null,
      "outputs": []
    },
    {
      "cell_type": "code",
      "metadata": {
        "id": "0pYjFM1vNgUQ"
      },
      "source": [
        "data = requests.get(\"http://odata.tn.edu.tw/ebookapi/api/getOdataSIS?allschool=0\").json()"
      ],
      "execution_count": null,
      "outputs": []
    },
    {
      "cell_type": "code",
      "metadata": {
        "colab": {
          "base_uri": "https://localhost:8080/"
        },
        "id": "BVWaKhkzNnas",
        "outputId": "baea72cb-d6dd-4a59-d294-46f70723e194"
      },
      "source": [
        "type(data)"
      ],
      "execution_count": null,
      "outputs": [
        {
          "output_type": "execute_result",
          "data": {
            "text/plain": [
              "list"
            ]
          },
          "metadata": {},
          "execution_count": 83
        }
      ]
    },
    {
      "cell_type": "code",
      "metadata": {
        "colab": {
          "base_uri": "https://localhost:8080/"
        },
        "id": "rcUj6XdaNmOB",
        "outputId": "0fcae7ec-5c70-4bed-f2d8-46c800348a52"
      },
      "source": [
        "data[0]"
      ],
      "execution_count": null,
      "outputs": [
        {
          "output_type": "execute_result",
          "data": {
            "text/plain": [
              "{'num': '126', 'school': '七股      '}"
            ]
          },
          "metadata": {},
          "execution_count": 82
        }
      ]
    },
    {
      "cell_type": "code",
      "metadata": {
        "colab": {
          "base_uri": "https://localhost:8080/"
        },
        "id": "8cTUT-OANr6H",
        "outputId": "3be2e60d-2984-4df7-f632-82e7f609b291"
      },
      "source": [
        "data[:3]"
      ],
      "execution_count": null,
      "outputs": [
        {
          "output_type": "execute_result",
          "data": {
            "text/plain": [
              "[{'num': '126', 'school': '七股      '},\n",
              " {'num': '438', 'school': '九份子     '},\n",
              " {'num': '42', 'school': '二溪      '}]"
            ]
          },
          "metadata": {},
          "execution_count": 84
        }
      ]
    },
    {
      "cell_type": "code",
      "metadata": {
        "colab": {
          "base_uri": "https://localhost:8080/"
        },
        "id": "jCgZi7YLNwcO",
        "outputId": "cf71a538-65ab-45b8-fbf9-8f14ade3cd39"
      },
      "source": [
        "for x in data:\n",
        "  print(x['school'].strip(), \"==>\", x['num'])"
      ],
      "execution_count": null,
      "outputs": [
        {
          "output_type": "stream",
          "text": [
            "七股 ==> 126\n",
            "九份子 ==> 438\n",
            "二溪 ==> 42\n",
            "三村 ==> 1104\n",
            "三股 ==> 70\n",
            "三慈 ==> 51\n",
            "下營 ==> 232\n",
            "口埤 ==> 113\n",
            "土城 ==> 277\n",
            "土庫 ==> 49\n",
            "大山 ==> 86\n",
            "大內 ==> 153\n",
            "大文 ==> 54\n",
            "大甲 ==> 203\n",
            "大光 ==> 764\n",
            "大同 ==> 312\n",
            "大成 ==> 1338\n",
            "大竹 ==> 43\n",
            "大社 ==> 258\n",
            "大港 ==> 647\n",
            "大新 ==> 322\n",
            "大潭 ==> 160\n",
            "大橋 ==> 1917\n",
            "大灣 ==> 1653\n",
            "子龍 ==> 132\n",
            "小新 ==> 546\n",
            "山上 ==> 160\n",
            "中洲 ==> 100\n",
            "中營 ==> 154\n",
            "五王 ==> 882\n",
            "五甲 ==> 671\n",
            "仁光 ==> 45\n",
            "仁和 ==> 134\n",
            "仁愛 ==> 594\n",
            "仁德 ==> 990\n",
            "內角 ==> 38\n",
            "六甲 ==> 769\n",
            "六溪分校 ==> 9\n",
            "公園 ==> 463\n",
            "公誠 ==> 246\n",
            "太康 ==> 75\n",
            "文山 ==> 27\n",
            "文元 ==> 2403\n",
            "文化 ==> 1160\n",
            "文正 ==> 74\n",
            "文和 ==> 59\n",
            "文昌 ==> 55\n",
            "文賢 ==> 103\n",
            "日新 ==> 736\n",
            "月津 ==> 136\n",
            "仙草 ==> 27\n",
            "北門 ==> 30\n",
            "北勢 ==> 82\n",
            "北寮 ==> 39\n",
            "左鎮 ==> 46\n",
            "正新 ==> 558\n",
            "永安 ==> 88\n",
            "永信 ==> 1965\n",
            "永康 ==> 2323\n",
            "永康勝利 ==> 759\n",
            "永康復興 ==> 485\n",
            "永華 ==> 827\n",
            "永福 ==> 585\n",
            "玉山 ==> 20\n",
            "玉井 ==> 377\n",
            "玉湖分校 ==> 13\n",
            "玉豐 ==> 101\n",
            "甲中 ==> 73\n",
            "白河 ==> 505\n",
            "石門 ==> 427\n",
            "立人 ==> 1059\n",
            "光復 ==> 33\n",
            "光榮 ==> 45\n",
            "吉貝耍 ==> 31\n",
            "宅港 ==> 71\n",
            "安平 ==> 1094\n",
            "安佃 ==> 304\n",
            "安定 ==> 348\n",
            "安定南興 ==> 285\n",
            "安順 ==> 1460\n",
            "安業 ==> 128\n",
            "安溪 ==> 69\n",
            "安慶 ==> 1291\n",
            "成功 ==> 241\n",
            "竹門 ==> 68\n",
            "竹埔 ==> 33\n",
            "竹橋 ==> 57\n",
            "西門 ==> 353\n",
            "西埔 ==> 24\n",
            "西港 ==> 547\n",
            "西港成功 ==> 143\n",
            "西勢 ==> 385\n",
            "志開 ==> 161\n",
            "那拔 ==> 76\n",
            "依仁 ==> 76\n",
            "佳里 ==> 1245\n",
            "佳興 ==> 156\n",
            "協進 ==> 959\n",
            "和順 ==> 1399\n",
            "官田 ==> 226\n",
            "岸內 ==> 82\n",
            "延平 ==> 88\n",
            "忠義 ==> 794\n",
            "東山 ==> 246\n",
            "東光 ==> 1230\n",
            "東原 ==> 74\n",
            "東陽 ==> 385\n",
            "東興 ==> 392\n",
            "果毅 ==> 72\n",
            "林鳳 ==> 87\n",
            "松林 ==> 118\n",
            "河東 ==> 37\n",
            "虎山 ==> 137\n",
            "金砂分校 ==> 10\n",
            "長平 ==> 50\n",
            "長安 ==> 412\n",
            "長興 ==> 322\n",
            "青山 ==> 71\n",
            "青草 ==> 80\n",
            "信義 ==> 457\n",
            "保西 ==> 205\n",
            "保東 ==> 62\n",
            "南大附小 ==> 998\n",
            "南化 ==> 80\n",
            "南安 ==> 457\n",
            "南科實小 ==> 1286\n",
            "南梓 ==> 201\n",
            "南興 ==> 87\n",
            "建功 ==> 35\n",
            "後港 ==> 52\n",
            "後壁 ==> 196\n",
            "後營 ==> 79\n",
            "柳營 ==> 253\n",
            "省躬 ==> 559\n",
            "紅瓦厝 ==> 827\n",
            "紀安 ==> 70\n",
            "茄拔 ==> 160\n",
            "苓和 ==> 75\n",
            "重溪 ==> 83\n",
            "海佃 ==> 1981\n",
            "海東 ==> 2206\n",
            "培文 ==> 614\n",
            "將軍 ==> 46\n",
            "崇和 ==> 35\n",
            "崇明 ==> 2080\n",
            "崇學 ==> 1665\n",
            "崑山 ==> 1525\n",
            "深坑 ==> 66\n",
            "蚵寮 ==> 64\n",
            "通興 ==> 45\n",
            "頂洲 ==> 83\n",
            "麻豆 ==> 956\n",
            "勝利 ==> 1501\n",
            "博愛 ==> 338\n",
            "喜樹 ==> 354\n",
            "復興 ==> 2177\n",
            "港尾 ==> 38\n",
            "港東 ==> 114\n",
            "渡拔 ==> 85\n",
            "湖東分校 ==> 12\n",
            "善化 ==> 434\n",
            "善化大同 ==> 174\n",
            "善糖 ==> 77\n",
            "菁寮 ==> 42\n",
            "賀建 ==> 43\n",
            "進學 ==> 855\n",
            "開元 ==> 712\n",
            "陽明 ==> 119\n",
            "隆田 ==> 316\n",
            "塭內 ==> 90\n",
            "慈濟 ==> 604\n",
            "新山 ==> 51\n",
            "新化 ==> 872\n",
            "新市 ==> 1612\n",
            "新民 ==> 768\n",
            "新生 ==> 30\n",
            "新光 ==> 26\n",
            "新東 ==> 87\n",
            "新南 ==> 656\n",
            "新泰 ==> 634\n",
            "新進 ==> 1057\n",
            "新嘉 ==> 28\n",
            "新橋 ==> 20\n",
            "新興 ==> 733\n",
            "新營 ==> 1101\n",
            "新營新興 ==> 93\n",
            "楠西 ==> 235\n",
            "瑞峰 ==> 11\n",
            "聖賢 ==> 34\n",
            "裕文 ==> 1040\n",
            "嘉南 ==> 83\n",
            "漁光分校 ==> 60\n",
            "漚汪 ==> 223\n",
            "億載 ==> 1813\n",
            "層林 ==> 54\n",
            "德南 ==> 668\n",
            "德高 ==> 752\n",
            "賢北 ==> 948\n",
            "學甲 ==> 403\n",
            "學東 ==> 66\n",
            "樹人 ==> 73\n",
            "樹林 ==> 29\n",
            "篤加 ==> 77\n",
            "錦湖 ==> 30\n",
            "頭社分校 ==> 15\n",
            "龍山 ==> 29\n",
            "龍崎 ==> 41\n",
            "龍崗 ==> 90\n",
            "龍船分校 ==> 11\n",
            "龍潭 ==> 688\n",
            "歸仁 ==> 650\n",
            "歸南 ==> 602\n",
            "鎮海 ==> 78\n",
            "雙春 ==> 24\n",
            "關廟 ==> 328\n",
            "關嶺分校 ==> 15\n",
            "鯤鯓 ==> 54\n",
            "寶仁 ==> 999\n",
            "歡雅 ==> 72\n",
            "顯宮 ==> 57\n",
            "鹽水 ==> 480\n",
            "坔頭港 ==> 45\n"
          ],
          "name": "stdout"
        }
      ]
    },
    {
      "cell_type": "code",
      "metadata": {
        "id": "FmmR_k6UN_ns"
      },
      "source": [
        ""
      ],
      "execution_count": null,
      "outputs": []
    }
  ]
}