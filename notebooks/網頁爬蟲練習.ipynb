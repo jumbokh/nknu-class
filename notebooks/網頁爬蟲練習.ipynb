{
  "nbformat": 4,
  "nbformat_minor": 0,
  "metadata": {
    "colab": {
      "name": "網頁爬蟲練習.ipynb",
      "provenance": [],
      "collapsed_sections": [],
      "include_colab_link": true
    },
    "kernelspec": {
      "name": "python3",
      "display_name": "Python 3"
    },
    "language_info": {
      "name": "python"
    }
  },
  "cells": [
    {
      "cell_type": "markdown",
      "metadata": {
        "id": "view-in-github",
        "colab_type": "text"
      },
      "source": [
        "<a href=\"https://colab.research.google.com/github/jumbokh/nknu-class/blob/main/notebooks/%E7%B6%B2%E9%A0%81%E7%88%AC%E8%9F%B2%E7%B7%B4%E7%BF%92.ipynb\" target=\"_parent\"><img src=\"https://colab.research.google.com/assets/colab-badge.svg\" alt=\"Open In Colab\"/></a>"
      ]
    },
    {
      "cell_type": "markdown",
      "metadata": {
        "id": "NJDmeaVXI2yG"
      },
      "source": [
        "# 網頁爬蟲練習\n",
        "\n",
        "* requests\n",
        "* BeautifulSoup\n",
        "* pandas\n",
        "\n",
        "參考網址：\n",
        "\n",
        "* [KHPY練習用網站](https://victorgau.github.io/khpy_web_intro/)\n",
        "* https://docs.python-requests.org/en/master/user/quickstart/"
      ]
    },
    {
      "cell_type": "markdown",
      "metadata": {
        "id": "szUH6iOHNMkT"
      },
      "source": [
        "## requests練習"
      ]
    },
    {
      "cell_type": "code",
      "metadata": {
        "id": "prgu5d-lIs06"
      },
      "source": [
        "import requests"
      ],
      "execution_count": null,
      "outputs": []
    },
    {
      "cell_type": "code",
      "metadata": {
        "id": "7BjobZLfJxQm"
      },
      "source": [
        "r = requests.get(\"https://victorgau.github.io/khpy_web_intro/html_only.html\")"
      ],
      "execution_count": null,
      "outputs": []
    },
    {
      "cell_type": "code",
      "metadata": {
        "id": "jtNhmTo9K2RS"
      },
      "source": [
        "r.status_code"
      ],
      "execution_count": null,
      "outputs": []
    },
    {
      "cell_type": "code",
      "metadata": {
        "id": "0q8KEPBgJ32f"
      },
      "source": [
        "print(r.text)"
      ],
      "execution_count": null,
      "outputs": []
    },
    {
      "cell_type": "markdown",
      "metadata": {
        "id": "oc52BnFpNHVU"
      },
      "source": [
        "#### 寫入檔案練習\n",
        "\n",
        "寫入檔案：\n",
        "\n",
        "```python\n",
        "f = open(\"html_only.html\",\"w\")\n",
        "f.write(r.text)\n",
        "f.close()\n",
        "```\n",
        "\n",
        "常見作法(with statement)：\n",
        "\n",
        "```python\n",
        "with open(\"html_only.html\",\"w\") as f:\n",
        "  f.write(r.text)\n",
        "```"
      ]
    },
    {
      "cell_type": "code",
      "metadata": {
        "id": "sYtMtZ_HJ5JY"
      },
      "source": [
        "with open(\"html_only.html\",\"w\") as f:\n",
        "  f.write(r.text)"
      ],
      "execution_count": null,
      "outputs": []
    },
    {
      "cell_type": "code",
      "metadata": {
        "id": "pkqX_OEtPUe7"
      },
      "source": [
        "r = requests.get(\"https://victorgau.github.io/khpy_web_intro/ninja.jpg\")"
      ],
      "execution_count": null,
      "outputs": []
    },
    {
      "cell_type": "code",
      "metadata": {
        "id": "gJC-8bCPPYwQ"
      },
      "source": [
        "with open(\"ninja.jpg\",\"wb\") as f:\n",
        "  f.write(r.content)"
      ],
      "execution_count": null,
      "outputs": []
    },
    {
      "cell_type": "markdown",
      "metadata": {
        "id": "WmAsJdGmgn7Y"
      },
      "source": [
        "### 抓取pdf檔案"
      ]
    },
    {
      "cell_type": "code",
      "metadata": {
        "id": "sWGqhhpVgq5l"
      },
      "source": [
        "r = requests.get(\"https://arxiv.org/pdf/2109.01569.pdf\")"
      ],
      "execution_count": null,
      "outputs": []
    },
    {
      "cell_type": "code",
      "metadata": {
        "colab": {
          "base_uri": "https://localhost:8080/"
        },
        "id": "BqqrDnRPgyyg",
        "outputId": "b8ca4cf5-7a06-402a-f6bd-ddd8405c8112"
      },
      "source": [
        "r.status_code"
      ],
      "execution_count": null,
      "outputs": [
        {
          "output_type": "execute_result",
          "data": {
            "text/plain": [
              "200"
            ]
          },
          "metadata": {},
          "execution_count": 9
        }
      ]
    },
    {
      "cell_type": "code",
      "metadata": {
        "id": "mvk54kXqg4IG"
      },
      "source": [
        "with open(\"test.pdf\",\"wb\") as f:\n",
        "  f.write(r.content)"
      ],
      "execution_count": null,
      "outputs": []
    },
    {
      "cell_type": "markdown",
      "metadata": {
        "id": "w7cVKBH-tt6A"
      },
      "source": [
        "## BeautifulSoup練習\n",
        "\n",
        "參考資料：\n",
        "\n",
        "* https://www.crummy.com/software/BeautifulSoup/bs4/doc/\n",
        "* https://www.w3schools.com/cssref/css_selectors.asp"
      ]
    },
    {
      "cell_type": "code",
      "metadata": {
        "id": "RaHx0z1fvMVO"
      },
      "source": [
        "from bs4 import BeautifulSoup"
      ],
      "execution_count": null,
      "outputs": []
    },
    {
      "cell_type": "code",
      "metadata": {
        "id": "4WKhJ1d3hGs-"
      },
      "source": [
        "s = \"\"\"<!DOCTYPE html>\n",
        "<html>\n",
        "<head>\n",
        "    <title>這是範例一</title>\n",
        "</head>\n",
        "<body>\n",
        "\n",
        "<h1>哈囉！HTML！</h1>\n",
        "\n",
        "<div class=\"class1\">\n",
        "    <p>這是第一個p標籤內容！</p>\n",
        "    <p>這是第二個p標籤內容！</p>\n",
        "</div>\n",
        "\n",
        "<div class=\"class2\">\n",
        "    <p>這是第三個p標籤內容！</p>\n",
        "    <p>這是第四個p標籤內容！</p>\n",
        "</div>\n",
        "</body>\n",
        "</html>\"\"\""
      ],
      "execution_count": null,
      "outputs": []
    },
    {
      "cell_type": "code",
      "metadata": {
        "id": "Zw3Q98FYvFvG"
      },
      "source": [
        "soup = BeautifulSoup(s)"
      ],
      "execution_count": null,
      "outputs": []
    },
    {
      "cell_type": "code",
      "metadata": {
        "colab": {
          "base_uri": "https://localhost:8080/"
        },
        "id": "EJNF_iRgvJ2l",
        "outputId": "325534a6-34b2-4004-ee61-f3f4771fad75"
      },
      "source": [
        "soup.title"
      ],
      "execution_count": null,
      "outputs": [
        {
          "output_type": "execute_result",
          "data": {
            "text/plain": [
              "<title>這是範例一</title>"
            ]
          },
          "metadata": {},
          "execution_count": 15
        }
      ]
    },
    {
      "cell_type": "code",
      "metadata": {
        "colab": {
          "base_uri": "https://localhost:8080/"
        },
        "id": "TGeI7kqVvieQ",
        "outputId": "c047c46b-8ff4-4aa1-a089-ec258b9af73b"
      },
      "source": [
        "soup.h1"
      ],
      "execution_count": null,
      "outputs": [
        {
          "output_type": "execute_result",
          "data": {
            "text/plain": [
              "<h1>哈囉！HTML！</h1>"
            ]
          },
          "metadata": {},
          "execution_count": 16
        }
      ]
    },
    {
      "cell_type": "code",
      "metadata": {
        "colab": {
          "base_uri": "https://localhost:8080/"
        },
        "id": "3zCaT_SlvlEK",
        "outputId": "d8bb0f80-c13b-46ba-eb04-23650070bc42"
      },
      "source": [
        "soup.p"
      ],
      "execution_count": null,
      "outputs": [
        {
          "output_type": "execute_result",
          "data": {
            "text/plain": [
              "<p>這是第一個p標籤內容！</p>"
            ]
          },
          "metadata": {},
          "execution_count": 17
        }
      ]
    },
    {
      "cell_type": "code",
      "metadata": {
        "colab": {
          "base_uri": "https://localhost:8080/"
        },
        "id": "Qp6TbA94vpEJ",
        "outputId": "18d0f189-e296-4c27-fc66-ec43bdd61523"
      },
      "source": [
        "type(soup.p)"
      ],
      "execution_count": null,
      "outputs": [
        {
          "output_type": "execute_result",
          "data": {
            "text/plain": [
              "bs4.element.Tag"
            ]
          },
          "metadata": {},
          "execution_count": 18
        }
      ]
    },
    {
      "cell_type": "code",
      "metadata": {
        "colab": {
          "base_uri": "https://localhost:8080/"
        },
        "id": "x3f9IR6KvsvW",
        "outputId": "62764a97-8ec8-499e-cb7a-fce8e795ab99"
      },
      "source": [
        "soup.select('p')"
      ],
      "execution_count": null,
      "outputs": [
        {
          "output_type": "execute_result",
          "data": {
            "text/plain": [
              "[<p>這是第一個p標籤內容！</p>,\n",
              " <p>這是第二個p標籤內容！</p>,\n",
              " <p>這是第三個p標籤內容！</p>,\n",
              " <p>這是第四個p標籤內容！</p>]"
            ]
          },
          "metadata": {},
          "execution_count": 19
        }
      ]
    },
    {
      "cell_type": "markdown",
      "metadata": {
        "id": "P8yKy1Q1xsDc"
      },
      "source": [
        "### 綜合練習\n",
        "\n",
        "請用 requests 抓取底下網頁內容，並用 BeautifulSoup 剖析出 p 標籤。\n",
        "\n",
        "https://victorgau.github.io/khpy_web_intro/example01.html"
      ]
    },
    {
      "cell_type": "code",
      "metadata": {
        "id": "t93I5etQv94B"
      },
      "source": [
        "r = requests.get(\"https://victorgau.github.io/khpy_web_intro/example01.html\")"
      ],
      "execution_count": null,
      "outputs": []
    },
    {
      "cell_type": "code",
      "metadata": {
        "colab": {
          "base_uri": "https://localhost:8080/"
        },
        "id": "5-UBCDuiy1qs",
        "outputId": "dc3793cc-df6f-4dda-dedc-cc5425b971c6"
      },
      "source": [
        "print(r.text)"
      ],
      "execution_count": null,
      "outputs": [
        {
          "output_type": "stream",
          "name": "stdout",
          "text": [
            "<!DOCTYPE html>\n",
            "<html>\n",
            "<head>\n",
            "    <title>這是範例一</title>\n",
            "</head>\n",
            "<body>\n",
            "\n",
            "<h1>哈囉！HTML！</h1>\n",
            "\n",
            "<div class=\"class1\">\n",
            "    <p>這是第一個p標籤內容！</p>\n",
            "    <p>這是第二個p標籤內容！</p>\n",
            "</div>\n",
            "\n",
            "<div class=\"class2\">\n",
            "    <p>這是第三個p標籤內容！</p>\n",
            "    <p>這是第四個p標籤內容！</p>\n",
            "</div>\n",
            "</body>\n",
            "</html>\n"
          ]
        }
      ]
    },
    {
      "cell_type": "code",
      "metadata": {
        "id": "-YcP9zPyy3Az"
      },
      "source": [
        "soup = BeautifulSoup(r.text)"
      ],
      "execution_count": null,
      "outputs": []
    },
    {
      "cell_type": "code",
      "metadata": {
        "colab": {
          "base_uri": "https://localhost:8080/"
        },
        "id": "MlhwwvgnzEP2",
        "outputId": "abb77dd3-82b3-4d4f-99d8-52ab8533b211"
      },
      "source": [
        "soup.select('p')"
      ],
      "execution_count": null,
      "outputs": [
        {
          "output_type": "execute_result",
          "data": {
            "text/plain": [
              "[<p>這是第一個p標籤內容！</p>,\n",
              " <p>這是第二個p標籤內容！</p>,\n",
              " <p>這是第三個p標籤內容！</p>,\n",
              " <p>這是第四個p標籤內容！</p>]"
            ]
          },
          "metadata": {},
          "execution_count": 23
        }
      ]
    },
    {
      "cell_type": "markdown",
      "metadata": {
        "id": "cG2OM4mm0M3u"
      },
      "source": [
        "### 練習一\n",
        "\n",
        "請用 requests 抓取底下網頁內容，並用 BeautifulSoup 剖析出 class1 的 div 標籤底下的 p 標籤。\n",
        "\n",
        "https://victorgau.github.io/khpy_web_intro/example02.html"
      ]
    },
    {
      "cell_type": "code",
      "metadata": {
        "id": "VNQAA12yzFgc"
      },
      "source": [
        "r = requests.get('https://victorgau.github.io/khpy_web_intro/example02.html')"
      ],
      "execution_count": null,
      "outputs": []
    },
    {
      "cell_type": "code",
      "metadata": {
        "colab": {
          "base_uri": "https://localhost:8080/"
        },
        "id": "L5bbdS8q1gzJ",
        "outputId": "bb19166a-57f4-4951-bae3-2036c36089ba"
      },
      "source": [
        "print(r.text)"
      ],
      "execution_count": null,
      "outputs": [
        {
          "output_type": "stream",
          "name": "stdout",
          "text": [
            "<!DOCTYPE html>\n",
            "<html>\n",
            "<head>\n",
            "    <title>這是範例二</title>\n",
            "    <style>\n",
            "            .class1 {background-color: yellow;}\n",
            "    </style>\n",
            "</head>\n",
            "<body>\n",
            "\n",
            "<h1>哈囉！HTML！</h1>\n",
            "\n",
            "<div class=\"class1\">\n",
            "    <p>這是第一個p標籤內容！</p>\n",
            "    <p>這是第二個p標籤內容！</p>\n",
            "</div>\n",
            "\n",
            "<div class=\"class2\">\n",
            "    <p>這是第三個p標籤內容！</p>\n",
            "    <p>這是第四個p標籤內容！</p>\n",
            "</div>\n",
            "</body>\n",
            "</html>\n"
          ]
        }
      ]
    },
    {
      "cell_type": "code",
      "metadata": {
        "id": "hTHDxo5y0sV_"
      },
      "source": [
        "soup = BeautifulSoup(r.text)"
      ],
      "execution_count": null,
      "outputs": []
    },
    {
      "cell_type": "code",
      "metadata": {
        "colab": {
          "base_uri": "https://localhost:8080/"
        },
        "id": "6eZJUZbc0wai",
        "outputId": "55b9ae87-a43f-42a4-aa29-a6566ee7d1c1"
      },
      "source": [
        "soup.select('.class1 p')"
      ],
      "execution_count": null,
      "outputs": [
        {
          "output_type": "execute_result",
          "data": {
            "text/plain": [
              "[<p>這是第一個p標籤內容！</p>, <p>這是第二個p標籤內容！</p>]"
            ]
          },
          "metadata": {},
          "execution_count": 34
        }
      ]
    },
    {
      "cell_type": "markdown",
      "metadata": {
        "id": "3QxbQ6zB2SHa"
      },
      "source": [
        "### 練習二\n",
        "\n",
        "請用 requests 抓取底下網頁內容，並用 BeautifulSoup 剖析出 class1 的 div 標籤底下第一層的 p 標籤。\n",
        "\n",
        "https://victorgau.github.io/khpy_web_intro/example04.html"
      ]
    },
    {
      "cell_type": "code",
      "metadata": {
        "id": "7wl1ItL300rJ"
      },
      "source": [
        "r = requests.get('https://victorgau.github.io/khpy_web_intro/example04.html')"
      ],
      "execution_count": null,
      "outputs": []
    },
    {
      "cell_type": "code",
      "metadata": {
        "colab": {
          "base_uri": "https://localhost:8080/"
        },
        "id": "nVWi6s5_2egh",
        "outputId": "c6cae261-9245-4f77-8d16-7145837d35f0"
      },
      "source": [
        "print(r.text)"
      ],
      "execution_count": null,
      "outputs": [
        {
          "output_type": "stream",
          "name": "stdout",
          "text": [
            "<!DOCTYPE html>\n",
            "<html>\n",
            "<head>\n",
            "    <title>這是範例四</title>\n",
            "    <style>\n",
            "            .class1 {background-color: yellow;}\n",
            "    </style>\n",
            "</head>\n",
            "<body>\n",
            "\n",
            "<h1>哈囉！HTML！</h1>\n",
            "\n",
            "<div class=\"class1\">\n",
            "    <p>這是第一個p標籤內容！</p>\n",
            "    <div>\n",
            "        <p>這是第二個p標籤內容！</p>\n",
            "    </div>\n",
            "</div>\n",
            "\n",
            "<div class=\"class2\">\n",
            "    <p>這是第三個p標籤內容！</p>\n",
            "    <p>這是第四個p標籤內容！</p>\n",
            "</div>\n",
            "</body>\n",
            "</html>\n"
          ]
        }
      ]
    },
    {
      "cell_type": "code",
      "metadata": {
        "id": "CRxL6Okf2foD"
      },
      "source": [
        "soup = BeautifulSoup(r.text)"
      ],
      "execution_count": null,
      "outputs": []
    },
    {
      "cell_type": "code",
      "metadata": {
        "colab": {
          "base_uri": "https://localhost:8080/"
        },
        "id": "QNlIrZjt2qEq",
        "outputId": "161cc0a9-0bb1-4bc4-d635-3e3c2a46c218"
      },
      "source": [
        "soup.select('.class1 > p')"
      ],
      "execution_count": null,
      "outputs": [
        {
          "output_type": "execute_result",
          "data": {
            "text/plain": [
              "[<p>這是第一個p標籤內容！</p>]"
            ]
          },
          "metadata": {},
          "execution_count": 53
        }
      ]
    },
    {
      "cell_type": "code",
      "metadata": {
        "colab": {
          "base_uri": "https://localhost:8080/"
        },
        "id": "28IynnN92whf",
        "outputId": "a83698bf-37d7-47e6-e399-9822344cd604"
      },
      "source": [
        "# 測試一下\n",
        "soup.select('.class1 p')"
      ],
      "execution_count": null,
      "outputs": [
        {
          "output_type": "execute_result",
          "data": {
            "text/plain": [
              "[<p>這是第一個p標籤內容！</p>, <p>這是第二個p標籤內容！</p>]"
            ]
          },
          "metadata": {},
          "execution_count": 54
        }
      ]
    },
    {
      "cell_type": "code",
      "metadata": {
        "colab": {
          "base_uri": "https://localhost:8080/"
        },
        "id": "Bk2dog8_3AsT",
        "outputId": "88fbfbe8-a7d8-4554-aecb-14b7e5b9180d"
      },
      "source": [
        "soup.select('.class1 div p')"
      ],
      "execution_count": null,
      "outputs": [
        {
          "output_type": "execute_result",
          "data": {
            "text/plain": [
              "[]"
            ]
          },
          "metadata": {},
          "execution_count": 59
        }
      ]
    },
    {
      "cell_type": "markdown",
      "metadata": {
        "id": "Q-bZLguI47sw"
      },
      "source": [
        "### 練習三\n",
        "\n",
        "請抓取底下連結內的新聞內容！\n",
        "\n",
        "https://news.cnyes.com/news/id/4717426"
      ]
    },
    {
      "cell_type": "code",
      "metadata": {
        "id": "tycuYxIl3CID"
      },
      "source": [
        "r = requests.get(\"https://news.cnyes.com/news/id/4717426\")"
      ],
      "execution_count": null,
      "outputs": []
    },
    {
      "cell_type": "code",
      "metadata": {
        "id": "EG-n1v4A443J"
      },
      "source": [
        "soup = BeautifulSoup(r.text)"
      ],
      "execution_count": null,
      "outputs": []
    },
    {
      "cell_type": "code",
      "metadata": {
        "colab": {
          "base_uri": "https://localhost:8080/"
        },
        "id": "p6yrNxjE5Dy3",
        "outputId": "41d4b77f-9ea3-4ecb-eaf7-7195355c08d2"
      },
      "source": [
        "soup.select(\"._2E8y p\")"
      ],
      "execution_count": null,
      "outputs": [
        {
          "output_type": "execute_result",
          "data": {
            "text/plain": [
              "[<p>長榮機師家庭爆發群聚，指揮中心廣發百萬細胞簡訊，雙北篩檢站加開量能，台檢測廠泰博 (<a href=\"https://invest.cnyes.com/twstock/tws/4736\">4736-TW</a>) 表示，8 月底醫院、連鎖超商通路已啟動新一波拉貨潮，目前客戶庫存水位都有兩周以上，本月出貨預估落在 45-50 萬劑，法人估，泰博本季營收將上看 18 億元，挑戰新高。</p>,\n",
              " <p>泰博 6 月開始加入居家快篩，近兩個月國內疫情相對趨緩，出貨量約落在 40 萬劑，隨著近期校園、補教業、幼兒園因應開學並配合政府政策，未施打疫苗的人員，每 3-7 天需進行快篩，因此 8 月底後，帶動新一波拉貨潮，出貨量提升至近 50 萬劑，成長 25%。</p>,\n",
              " <p>另外，醫院使用的專業版快篩試劑，過去每一至兩周會向泰博下單，屬於泰博穩定營收來源，醫院近期也因應開學潮，啟動預防性措施，上月底也加大採購量。</p>,\n",
              " <p>泰博預期，新冠病毒已經流感化，短期難擺脫疫情，今年底前，若國內沒有爆發大規模感染，快篩試劑將成常態性商品，估每月出貨量將維持在 40-50 萬劑。</p>,\n",
              " <p>法人認為，由於本季終端通路拉貨動能較第二季末強勁，加上泰國、越南持續出貨，本季營收將上看 18 億元、站新高，第四季出貨將趨於平緩，每月營收估落在 5 億元。</p>]"
            ]
          },
          "metadata": {},
          "execution_count": 48
        }
      ]
    },
    {
      "cell_type": "code",
      "metadata": {
        "colab": {
          "base_uri": "https://localhost:8080/"
        },
        "id": "qKjM7Mz45VhG",
        "outputId": "6f34c8ce-457c-4484-ace6-46bd5a8f0ea5"
      },
      "source": [
        "for i in soup.select(\"._2E8y p\"):\n",
        "  print(i.text)"
      ],
      "execution_count": null,
      "outputs": [
        {
          "output_type": "stream",
          "name": "stdout",
          "text": [
            "長榮機師家庭爆發群聚，指揮中心廣發百萬細胞簡訊，雙北篩檢站加開量能，台檢測廠泰博 (4736-TW) 表示，8 月底醫院、連鎖超商通路已啟動新一波拉貨潮，目前客戶庫存水位都有兩周以上，本月出貨預估落在 45-50 萬劑，法人估，泰博本季營收將上看 18 億元，挑戰新高。\n",
            "泰博 6 月開始加入居家快篩，近兩個月國內疫情相對趨緩，出貨量約落在 40 萬劑，隨著近期校園、補教業、幼兒園因應開學並配合政府政策，未施打疫苗的人員，每 3-7 天需進行快篩，因此 8 月底後，帶動新一波拉貨潮，出貨量提升至近 50 萬劑，成長 25%。\n",
            "另外，醫院使用的專業版快篩試劑，過去每一至兩周會向泰博下單，屬於泰博穩定營收來源，醫院近期也因應開學潮，啟動預防性措施，上月底也加大採購量。\n",
            "泰博預期，新冠病毒已經流感化，短期難擺脫疫情，今年底前，若國內沒有爆發大規模感染，快篩試劑將成常態性商品，估每月出貨量將維持在 40-50 萬劑。\n",
            "法人認為，由於本季終端通路拉貨動能較第二季末強勁，加上泰國、越南持續出貨，本季營收將上看 18 億元、站新高，第四季出貨將趨於平緩，每月營收估落在 5 億元。\n"
          ]
        }
      ]
    },
    {
      "cell_type": "markdown",
      "metadata": {
        "id": "k7KWWIfD9zrH"
      },
      "source": [
        "### 練習四\n",
        "\n",
        "抓取底下相簿的小圖！\n",
        "\n",
        "https://photo.xuite.net/antony.love/4030999-%E5%8F%B0%E7%81%A3%E7%AC%AC%E4%B8%80%E5%90%8D%E6%A8%A1+-+%E6%9E%97%E5%BF%97%E7%8E%B2"
      ]
    },
    {
      "cell_type": "code",
      "metadata": {
        "id": "1ZW4Xx8w5qED"
      },
      "source": [
        "url = \"https://photo.xuite.net/antony.love/4030999-%E5%8F%B0%E7%81%A3%E7%AC%AC%E4%B8%80%E5%90%8D%E6%A8%A1+-+%E6%9E%97%E5%BF%97%E7%8E%B2\""
      ],
      "execution_count": null,
      "outputs": []
    },
    {
      "cell_type": "code",
      "metadata": {
        "id": "nznntJno97Cb"
      },
      "source": [
        "r = requests.get(url)"
      ],
      "execution_count": null,
      "outputs": []
    },
    {
      "cell_type": "code",
      "metadata": {
        "id": "Q5QHlOTo9_Vz"
      },
      "source": [
        "soup = BeautifulSoup(r.text)"
      ],
      "execution_count": null,
      "outputs": []
    },
    {
      "cell_type": "code",
      "metadata": {
        "colab": {
          "base_uri": "https://localhost:8080/"
        },
        "id": "Y0Hg9wxw-CDN",
        "outputId": "96867600-2712-450e-e92e-fc71e55b5c40"
      },
      "source": [
        "soup.select(\".list_area .photo_item.inline-block img\")"
      ],
      "execution_count": null,
      "outputs": [
        {
          "output_type": "execute_result",
          "data": {
            "text/plain": [
              "[<img alt=\"台灣第一名模 - 林志玲:2016志玲姐姐慈善年曆1.jpg\" border=\"0\" class=\"photo_cover fixed\" onerror=\"javascript:this.src='/images/blank.gif'\" src=\"https://a.share.photo.xuite.net/antony.love/1a0e5d3/4030999/1114307772_c.jpg\"/>,\n",
              " <img alt=\"台灣第一名模 - 林志玲:2016志玲姐姐慈善年曆2.jpg\" border=\"0\" class=\"photo_cover fixed\" onerror=\"javascript:this.src='/images/blank.gif'\" src=\"https://a.share.photo.xuite.net/antony.love/1a0e581/4030999/1114308970_c.jpg\"/>,\n",
              " <img alt=\"台灣第一名模 - 林志玲:2016志玲姐姐慈善年曆3.jpg\" border=\"0\" class=\"photo_cover fixed\" onerror=\"javascript:this.src='/images/blank.gif'\" src=\"https://a.share.photo.xuite.net/antony.love/1a0e553/4030999/1114306876_c.jpg\"/>,\n",
              " <img alt=\"台灣第一名模 - 林志玲:2016志玲姊姊慈善年曆-封面.jpg\" border=\"0\" class=\"photo_cover fixed\" onerror=\"javascript:this.src='/images/blank.gif'\" src=\"https://a.share.photo.xuite.net/antony.love/1a0e555/4030999/1114308670_c.jpg\"/>,\n",
              " <img alt=\"台灣第一名模 - 林志玲:2016志玲姊姊慈善年曆預購-7-11.jpg\" border=\"0\" class=\"photo_cover fixed\" onerror=\"javascript:this.src='/images/blank.gif'\" src=\"https://a.share.photo.xuite.net/antony.love/1a0e580/4030999/1114308969_c.jpg\"/>,\n",
              " <img alt=\"台灣第一名模 - 林志玲:2016志玲姊姊慈善年曆預購-igiving公益網.jpg\" border=\"0\" class=\"photo_cover fixed\" onerror=\"javascript:this.src='/images/blank.gif'\" src=\"https://a.share.photo.xuite.net/antony.love/1a0e5e4/4030999/1114309069_c.jpg\"/>,\n",
              " <img alt=\"台灣第一名模 - 林志玲:2016志玲姊姊慈善年曆預購-momo.jpg\" border=\"0\" class=\"photo_cover fixed\" onerror=\"javascript:this.src='/images/blank.gif'\" src=\"https://a.share.photo.xuite.net/antony.love/1a0e51d/4030999/1114308870_c.jpg\"/>,\n",
              " <img alt=\"台灣第一名模 - 林志玲:2016志玲姐姐慈善年曆-內頁.jpg\" border=\"0\" class=\"photo_cover fixed\" onerror=\"javascript:this.src='/images/blank.gif'\" src=\"https://a.share.photo.xuite.net/antony.love/1a0e548/4030999/1114309169_c.jpg\"/>,\n",
              " <img alt=\"台灣第一名模 - 林志玲:2016志玲姐姐慈善桌曆.jpg\" border=\"0\" class=\"photo_cover fixed\" onerror=\"javascript:this.src='/images/blank.gif'\" src=\"https://a.share.photo.xuite.net/antony.love/1a0e5b0/4030999/1114305689_c.jpg\"/>,\n",
              " <img alt=\"台灣第一名模 - 林志玲:2016志玲姐姐-浪情錶點亮愛的希望1.jpg\" border=\"0\" class=\"photo_cover fixed\" onerror=\"javascript:this.src='/images/blank.gif'\" src=\"https://a.share.photo.xuite.net/antony.love/1a0e5b9/4030999/1114308770_c.jpg\"/>,\n",
              " <img alt=\"台灣第一名模 - 林志玲:2016志玲姐姐-浪情錶點亮愛的希望2.jpg\" border=\"0\" class=\"photo_cover fixed\" onerror=\"javascript:this.src='/images/blank.gif'\" src=\"https://a.share.photo.xuite.net/antony.love/1a0e5c6/4030999/1114308271_c.jpg\"/>,\n",
              " <img alt=\"台灣第一名模 - 林志玲:2016志玲姐姐-元氣滿滿.jpg\" border=\"0\" class=\"photo_cover fixed\" onerror=\"javascript:this.src='/images/blank.gif'\" src=\"https://a.share.photo.xuite.net/antony.love/1a0e51c/4030999/1114308869_c.jpg\"/>,\n",
              " <img alt=\"台灣第一名模 - 林志玲:2015志玲姐姐-參加花樣姐姐節目.jpg\" border=\"0\" class=\"photo_cover fixed\" onerror=\"javascript:this.src='/images/blank.gif'\" src=\"https://a.share.photo.xuite.net/antony.love/1a0e552/4030999/1114306875_c.jpg\"/>,\n",
              " <img alt=\"台灣第一名模 - 林志玲:2015志玲姐姐-正面能量.jpg\" border=\"0\" class=\"photo_cover fixed\" onerror=\"javascript:this.src='/images/blank.gif'\" src=\"https://a.share.photo.xuite.net/antony.love/1a0e561/4030999/1114308170_c.jpg\"/>,\n",
              " <img alt=\"台灣第一名模 - 林志玲:2015志玲姐姐-中秋祝福.jpg\" border=\"0\" class=\"photo_cover fixed\" onerror=\"javascript:this.src='/images/blank.gif'\" src=\"https://a.share.photo.xuite.net/antony.love/1a0e554/4030999/1114308669_c.jpg\"/>,\n",
              " <img alt=\"台灣第一名模 - 林志玲:2015志玲姊姊慈善年曆1.jpg\" border=\"0\" class=\"photo_cover fixed\" onerror=\"javascript:this.src='/images/blank.gif'\" src=\"https://a.share.photo.xuite.net/antony.love/1a0e57c/4030999/1078877797_c.jpg\"/>,\n",
              " <img alt=\"台灣第一名模 - 林志玲:2015志玲姊姊慈善年曆2.jpg\" border=\"0\" class=\"photo_cover fixed\" onerror=\"javascript:this.src='/images/blank.gif'\" src=\"https://a.share.photo.xuite.net/antony.love/1a0e523/4030999/1078878476_c.jpg\"/>,\n",
              " <img alt=\"台灣第一名模 - 林志玲:2015志玲姊姊慈善年曆3.jpg\" border=\"0\" class=\"photo_cover fixed\" onerror=\"javascript:this.src='/images/blank.gif'\" src=\"https://a.share.photo.xuite.net/antony.love/1a0e5bd/4030999/1078879142_c.jpg\"/>,\n",
              " <img alt=\"台灣第一名模 - 林志玲:2015志玲姊姊慈善年曆預購1.jpg\" border=\"0\" class=\"photo_cover fixed\" onerror=\"javascript:this.src='/images/blank.gif'\" src=\"https://a.share.photo.xuite.net/antony.love/1a0e513/4030999/1078878972_c.jpg\"/>,\n",
              " <img alt=\"台灣第一名模 - 林志玲:2015志玲姊姊慈善年曆預購2.jpg\" border=\"0\" class=\"photo_cover fixed\" onerror=\"javascript:this.src='/images/blank.gif'\" src=\"https://a.share.photo.xuite.net/antony.love/1a0e514/4030999/1078878973_c.jpg\"/>,\n",
              " <img alt=\"台灣第一名模 - 林志玲:2015志玲姊姊慈善桌曆.jpg\" border=\"0\" class=\"photo_cover fixed\" onerror=\"javascript:this.src='/images/blank.gif'\" src=\"https://a.share.photo.xuite.net/antony.love/1a0e525/4030999/1078878478_c.jpg\"/>]"
            ]
          },
          "metadata": {},
          "execution_count": 63
        }
      ]
    },
    {
      "cell_type": "code",
      "metadata": {
        "id": "YwG9VReM-fJj"
      },
      "source": [
        "imgs = soup.select(\".list_area .photo_item.inline-block img\")"
      ],
      "execution_count": null,
      "outputs": []
    },
    {
      "cell_type": "code",
      "metadata": {
        "colab": {
          "base_uri": "https://localhost:8080/"
        },
        "id": "TAMWPJid-lWI",
        "outputId": "ebc6896a-8586-453e-e15e-bd8c235b12a0"
      },
      "source": [
        "for img in imgs:\n",
        "  print(img.get('src'))"
      ],
      "execution_count": null,
      "outputs": [
        {
          "output_type": "stream",
          "name": "stdout",
          "text": [
            "https://a.share.photo.xuite.net/antony.love/1a0e5d3/4030999/1114307772_c.jpg\n",
            "https://a.share.photo.xuite.net/antony.love/1a0e581/4030999/1114308970_c.jpg\n",
            "https://a.share.photo.xuite.net/antony.love/1a0e553/4030999/1114306876_c.jpg\n",
            "https://a.share.photo.xuite.net/antony.love/1a0e555/4030999/1114308670_c.jpg\n",
            "https://a.share.photo.xuite.net/antony.love/1a0e580/4030999/1114308969_c.jpg\n",
            "https://a.share.photo.xuite.net/antony.love/1a0e5e4/4030999/1114309069_c.jpg\n",
            "https://a.share.photo.xuite.net/antony.love/1a0e51d/4030999/1114308870_c.jpg\n",
            "https://a.share.photo.xuite.net/antony.love/1a0e548/4030999/1114309169_c.jpg\n",
            "https://a.share.photo.xuite.net/antony.love/1a0e5b0/4030999/1114305689_c.jpg\n",
            "https://a.share.photo.xuite.net/antony.love/1a0e5b9/4030999/1114308770_c.jpg\n",
            "https://a.share.photo.xuite.net/antony.love/1a0e5c6/4030999/1114308271_c.jpg\n",
            "https://a.share.photo.xuite.net/antony.love/1a0e51c/4030999/1114308869_c.jpg\n",
            "https://a.share.photo.xuite.net/antony.love/1a0e552/4030999/1114306875_c.jpg\n",
            "https://a.share.photo.xuite.net/antony.love/1a0e561/4030999/1114308170_c.jpg\n",
            "https://a.share.photo.xuite.net/antony.love/1a0e554/4030999/1114308669_c.jpg\n",
            "https://a.share.photo.xuite.net/antony.love/1a0e57c/4030999/1078877797_c.jpg\n",
            "https://a.share.photo.xuite.net/antony.love/1a0e523/4030999/1078878476_c.jpg\n",
            "https://a.share.photo.xuite.net/antony.love/1a0e5bd/4030999/1078879142_c.jpg\n",
            "https://a.share.photo.xuite.net/antony.love/1a0e513/4030999/1078878972_c.jpg\n",
            "https://a.share.photo.xuite.net/antony.love/1a0e514/4030999/1078878973_c.jpg\n",
            "https://a.share.photo.xuite.net/antony.love/1a0e525/4030999/1078878478_c.jpg\n"
          ]
        }
      ]
    },
    {
      "cell_type": "code",
      "metadata": {
        "colab": {
          "base_uri": "https://localhost:8080/",
          "height": 36
        },
        "id": "o1MpCaM6-pHc",
        "outputId": "83f680c7-1718-4664-8b1a-a401109592ac"
      },
      "source": [
        "imgs[0].get('src').split('/')[-1]"
      ],
      "execution_count": null,
      "outputs": [
        {
          "output_type": "execute_result",
          "data": {
            "application/vnd.google.colaboratory.intrinsic+json": {
              "type": "string"
            },
            "text/plain": [
              "'1114307772_c.jpg'"
            ]
          },
          "metadata": {},
          "execution_count": 69
        }
      ]
    },
    {
      "cell_type": "code",
      "metadata": {
        "colab": {
          "base_uri": "https://localhost:8080/"
        },
        "id": "1ef0bfbmBEsE",
        "outputId": "27c7766a-d489-4c94-9130-373a19d57256"
      },
      "source": [
        "for img in imgs:\n",
        "  print(img.get('src').split('/')[-1])"
      ],
      "execution_count": null,
      "outputs": [
        {
          "output_type": "stream",
          "name": "stdout",
          "text": [
            "1114307772_c.jpg\n",
            "1114308970_c.jpg\n",
            "1114306876_c.jpg\n",
            "1114308670_c.jpg\n",
            "1114308969_c.jpg\n",
            "1114309069_c.jpg\n",
            "1114308870_c.jpg\n",
            "1114309169_c.jpg\n",
            "1114305689_c.jpg\n",
            "1114308770_c.jpg\n",
            "1114308271_c.jpg\n",
            "1114308869_c.jpg\n",
            "1114306875_c.jpg\n",
            "1114308170_c.jpg\n",
            "1114308669_c.jpg\n",
            "1078877797_c.jpg\n",
            "1078878476_c.jpg\n",
            "1078879142_c.jpg\n",
            "1078878972_c.jpg\n",
            "1078878973_c.jpg\n",
            "1078878478_c.jpg\n"
          ]
        }
      ]
    },
    {
      "cell_type": "code",
      "metadata": {
        "id": "PgfpwFiuBfsq"
      },
      "source": [
        "for img in imgs:\n",
        "  url = img.get('src')\n",
        "  filename = img.get('src').split('/')[-1]\n",
        "  r = requests.get(url)\n",
        "  with open(filename,\"wb\") as f:\n",
        "    f.write(r.content)"
      ],
      "execution_count": null,
      "outputs": []
    },
    {
      "cell_type": "markdown",
      "metadata": {
        "id": "VtnPn8s4FdPk"
      },
      "source": [
        "### 練習五\n",
        "\n",
        "抓取底下連結的小圖！\n",
        "\n",
        "https://www.irasutoya.com/p/event.html"
      ]
    },
    {
      "cell_type": "code",
      "metadata": {
        "id": "CvDQkgd1FsxX"
      },
      "source": [
        "r = requests.get(\"https://www.irasutoya.com/p/event.html\")"
      ],
      "execution_count": null,
      "outputs": []
    },
    {
      "cell_type": "code",
      "metadata": {
        "id": "x8y4ayI-F1Dg"
      },
      "source": [
        "soup = BeautifulSoup(r.text)"
      ],
      "execution_count": null,
      "outputs": []
    },
    {
      "cell_type": "code",
      "metadata": {
        "colab": {
          "base_uri": "https://localhost:8080/"
        },
        "id": "wu1MXvTgF3P4",
        "outputId": "544ce192-2400-48a5-c6fa-dc10928084f9"
      },
      "source": [
        "soup.select(\"#banners a img\")"
      ],
      "execution_count": null,
      "outputs": [
        {
          "output_type": "execute_result",
          "data": {
            "text/plain": [
              "[<img alt=\"誕生日のイラスト\" border=\"0\" height=\"85\" src=\"//4.bp.blogspot.com/-xxcDADbfKfE/T17qp10A3mI/AAAAAAAAEq0/8LgKZx6Y2cQ/s400/banner_birthday.jpg\" width=\"220\"/>,\n",
              " <img alt=\"引越しのイラスト\" border=\"0\" height=\"85\" src=\"//4.bp.blogspot.com/-5ztAMbhBJi8/T17qqC233rI/AAAAAAAAEq8/ipF9zcMMzHg/s400/banner_hikkoshi.jpg\" width=\"220\"/>,\n",
              " <img alt=\"パーティのイラスト\" border=\"0\" height=\"85\" src=\"//4.bp.blogspot.com/-Kv14Ib7QnWY/T17qqJALbEI/AAAAAAAAErI/83qNl08Q1hQ/s400/banner_party.jpg\" width=\"220\"/>,\n",
              " <img alt=\"結婚のイラスト\" border=\"0\" height=\"85\" src=\"//1.bp.blogspot.com/-gPrLZw-1cD4/UacVdnhRWdI/AAAAAAAAUaE/zB1aPl_ku8I/s320/banner_wedding.jpg\" width=\"220\"/>,\n",
              " <img alt=\"忘年会・新年会\" border=\"0\" height=\"85\" src=\"//4.bp.blogspot.com/-qYD-60zkl2c/UNqxkQOmcdI/AAAAAAAAJbo/3K7y9uUrIAo/s320/banner_bounenkai.jpg\" width=\"220\"/>,\n",
              " <img alt=\"旅行\" border=\"0\" height=\"85\" src=\"//4.bp.blogspot.com/-zpGmzBmBRyo/UNqxlAYXtpI/AAAAAAAAJb0/cMdrwLlY9sM/s320/banner_ryokou.jpg\" width=\"220\"/>,\n",
              " <img alt=\"運動会\" border=\"0\" height=\"85\" src=\"//2.bp.blogspot.com/-P-8qK0CfULM/UNqxlusj_6I/AAAAAAAAJcE/wlNpem3-cS8/s320/banner_undoukai.jpg\" width=\"220\"/>,\n",
              " <img alt=\"卒業式のイラスト\" border=\"0\" height=\"85\" src=\"//2.bp.blogspot.com/-MgElTSYHTGU/T12dKKoWCCI/AAAAAAAAEm0/rgqlmnWJzfY/s1600/03-2.jpg\" width=\"220\"/>,\n",
              " <img alt=\"入学式のイラスト\" border=\"0\" height=\"85\" src=\"//1.bp.blogspot.com/-jlTvmGffgq0/T12dVX6JFuI/AAAAAAAAEoY/2XRpW9A6ubk/s1600/4-3.jpg\" width=\"220\"/>,\n",
              " <img alt=\"お花見のイラスト\" border=\"0\" height=\"85\" src=\"//4.bp.blogspot.com/-YT5Udr-_HV4/T12dMVSe9pI/AAAAAAAAEm4/L9d2NUppcLQ/s1600/04-1.jpg\" width=\"220\"/>,\n",
              " <img alt=\"お祭りのイラスト\" border=\"0\" height=\"85\" src=\"//4.bp.blogspot.com/-PtyBeFkQJEk/T12dfhsJwvI/AAAAAAAAEqA/bPOTQT9vCro/s1600/8-2.jpg\" width=\"220\"/>,\n",
              " <img alt=\"花火のイラスト\" border=\"0\" height=\"85\" src=\"//2.bp.blogspot.com/-9NLcgpegOJk/T12dgCWjD5I/AAAAAAAAEqM/xqpTJS--Zvw/s1600/8-3.jpg\" width=\"220\"/>,\n",
              " <img alt=\"バレンタインのイラスト\" border=\"0\" height=\"85\" src=\"//3.bp.blogspot.com/-BTRUep1YCgc/T12dJHyJ-pI/AAAAAAAAEmg/x5aPLKEuDRE/s1600/02-1.jpg\" width=\"220\"/>,\n",
              " <img alt=\"ハロウィンのイラスト\" border=\"0\" height=\"85\" src=\"//1.bp.blogspot.com/--zR8zTD4yFE/T12dOaRkuPI/AAAAAAAAEnQ/-NCmnQbI8Ps/s1600/10-1.jpg\" width=\"220\"/>,\n",
              " <img alt=\"クリスマスのイラスト\" border=\"0\" height=\"85\" src=\"//1.bp.blogspot.com/-peYz2RXUIPQ/T12dQs8y0OI/AAAAAAAAEnw/x1vRaxjSMBg/s1600/12-1.jpg\" width=\"220\"/>,\n",
              " <img alt=\"お葬式\" border=\"0\" src=\"//2.bp.blogspot.com/-kgsKGJj2paY/UWZxJi_kHGI/AAAAAAAAP9E/GkIp3IaXN-s/s320/banner_osoushiki.jpg\"/>]"
            ]
          },
          "metadata": {},
          "execution_count": 74
        }
      ]
    },
    {
      "cell_type": "code",
      "metadata": {
        "id": "M4tTfHTAGW4l"
      },
      "source": [
        "imgs = soup.select(\"#banners a img\")"
      ],
      "execution_count": null,
      "outputs": []
    },
    {
      "cell_type": "code",
      "metadata": {
        "colab": {
          "base_uri": "https://localhost:8080/"
        },
        "id": "Q4zDdCYjGJ8I",
        "outputId": "40271a2e-e6e1-491c-8c58-153d4db8cabd"
      },
      "source": [
        "for img in imgs:\n",
        "  print(\"http:\"+img.get('src'))"
      ],
      "execution_count": null,
      "outputs": [
        {
          "output_type": "stream",
          "name": "stdout",
          "text": [
            "http://4.bp.blogspot.com/-xxcDADbfKfE/T17qp10A3mI/AAAAAAAAEq0/8LgKZx6Y2cQ/s400/banner_birthday.jpg\n",
            "http://4.bp.blogspot.com/-5ztAMbhBJi8/T17qqC233rI/AAAAAAAAEq8/ipF9zcMMzHg/s400/banner_hikkoshi.jpg\n",
            "http://4.bp.blogspot.com/-Kv14Ib7QnWY/T17qqJALbEI/AAAAAAAAErI/83qNl08Q1hQ/s400/banner_party.jpg\n",
            "http://1.bp.blogspot.com/-gPrLZw-1cD4/UacVdnhRWdI/AAAAAAAAUaE/zB1aPl_ku8I/s320/banner_wedding.jpg\n",
            "http://4.bp.blogspot.com/-qYD-60zkl2c/UNqxkQOmcdI/AAAAAAAAJbo/3K7y9uUrIAo/s320/banner_bounenkai.jpg\n",
            "http://4.bp.blogspot.com/-zpGmzBmBRyo/UNqxlAYXtpI/AAAAAAAAJb0/cMdrwLlY9sM/s320/banner_ryokou.jpg\n",
            "http://2.bp.blogspot.com/-P-8qK0CfULM/UNqxlusj_6I/AAAAAAAAJcE/wlNpem3-cS8/s320/banner_undoukai.jpg\n",
            "http://2.bp.blogspot.com/-MgElTSYHTGU/T12dKKoWCCI/AAAAAAAAEm0/rgqlmnWJzfY/s1600/03-2.jpg\n",
            "http://1.bp.blogspot.com/-jlTvmGffgq0/T12dVX6JFuI/AAAAAAAAEoY/2XRpW9A6ubk/s1600/4-3.jpg\n",
            "http://4.bp.blogspot.com/-YT5Udr-_HV4/T12dMVSe9pI/AAAAAAAAEm4/L9d2NUppcLQ/s1600/04-1.jpg\n",
            "http://4.bp.blogspot.com/-PtyBeFkQJEk/T12dfhsJwvI/AAAAAAAAEqA/bPOTQT9vCro/s1600/8-2.jpg\n",
            "http://2.bp.blogspot.com/-9NLcgpegOJk/T12dgCWjD5I/AAAAAAAAEqM/xqpTJS--Zvw/s1600/8-3.jpg\n",
            "http://3.bp.blogspot.com/-BTRUep1YCgc/T12dJHyJ-pI/AAAAAAAAEmg/x5aPLKEuDRE/s1600/02-1.jpg\n",
            "http://1.bp.blogspot.com/--zR8zTD4yFE/T12dOaRkuPI/AAAAAAAAEnQ/-NCmnQbI8Ps/s1600/10-1.jpg\n",
            "http://1.bp.blogspot.com/-peYz2RXUIPQ/T12dQs8y0OI/AAAAAAAAEnw/x1vRaxjSMBg/s1600/12-1.jpg\n",
            "http://2.bp.blogspot.com/-kgsKGJj2paY/UWZxJi_kHGI/AAAAAAAAP9E/GkIp3IaXN-s/s320/banner_osoushiki.jpg\n"
          ]
        }
      ]
    },
    {
      "cell_type": "code",
      "metadata": {
        "colab": {
          "base_uri": "https://localhost:8080/"
        },
        "id": "8oyj9jZ_GYex",
        "outputId": "9ae4af1e-4693-47d7-9bc7-c9553ef98d06"
      },
      "source": [
        "for img in imgs:\n",
        "  print(img.get('src').split('/')[-1])"
      ],
      "execution_count": null,
      "outputs": [
        {
          "output_type": "stream",
          "name": "stdout",
          "text": [
            "banner_birthday.jpg\n",
            "banner_hikkoshi.jpg\n",
            "banner_party.jpg\n",
            "banner_wedding.jpg\n",
            "banner_bounenkai.jpg\n",
            "banner_ryokou.jpg\n",
            "banner_undoukai.jpg\n",
            "03-2.jpg\n",
            "4-3.jpg\n",
            "04-1.jpg\n",
            "8-2.jpg\n",
            "8-3.jpg\n",
            "02-1.jpg\n",
            "10-1.jpg\n",
            "12-1.jpg\n",
            "banner_osoushiki.jpg\n"
          ]
        }
      ]
    },
    {
      "cell_type": "code",
      "metadata": {
        "id": "Ofdmajx2Gr0k"
      },
      "source": [
        "for img in imgs:\n",
        "  url = \"http:\"+img.get('src')\n",
        "  filename = img.get('src').split('/')[-1]\n",
        "  r = requests.get(url)\n",
        "  with open(filename,\"wb\") as f:\n",
        "    f.write(r.content)"
      ],
      "execution_count": null,
      "outputs": []
    },
    {
      "cell_type": "markdown",
      "metadata": {
        "id": "LGIo6BNYIWt4"
      },
      "source": [
        "### 練習六\n",
        "\n",
        "請用 requests + BeautifulSoup 讀取底下網頁不同段落的內容。\n",
        "\n",
        "https://victorgau.github.io/khpy_web_intro/example05.html"
      ]
    },
    {
      "cell_type": "code",
      "metadata": {
        "id": "p4gMOiSOIjSI"
      },
      "source": [
        "url = \"https://victorgau.github.io/khpy_web_intro/example05.html\""
      ],
      "execution_count": null,
      "outputs": []
    },
    {
      "cell_type": "code",
      "metadata": {
        "id": "RLeSPgHGIlY4"
      },
      "source": [
        "r = requests.get(url)"
      ],
      "execution_count": null,
      "outputs": []
    },
    {
      "cell_type": "code",
      "metadata": {
        "colab": {
          "base_uri": "https://localhost:8080/"
        },
        "id": "KMGILjcUInkE",
        "outputId": "840248cd-00f3-40e2-a95c-28905e1e6570"
      },
      "source": [
        "print(r.text)"
      ],
      "execution_count": null,
      "outputs": [
        {
          "output_type": "stream",
          "name": "stdout",
          "text": [
            "<!DOCTYPE html>\n",
            "<html>\n",
            "<head>\n",
            "    <title>這是範例五</title>\n",
            "    <style>\n",
            "            .class1 {background-color: yellow;}\n",
            "    </style>\n",
            "</head>\n",
            "<body>\n",
            "\n",
            "<h1>哈囉！HTML！</h1>\n",
            "\n",
            "<div class=\"class1\">\n",
            "    <p>這是第一個p標籤內容！</p>\n",
            "    <div>\n",
            "        <p data-no=\"two\">這是第二個p標籤內容！</p>\n",
            "    </div>\n",
            "</div>\n",
            "\n",
            "<p class=\"class1\">這是第三個p標籤內容！</p>\n",
            "<p id=\"p4\">這是第四個p標籤內容！</p>\n",
            "</body>\n",
            "</html>\n"
          ]
        }
      ]
    },
    {
      "cell_type": "code",
      "metadata": {
        "id": "5UomNE91IoXq"
      },
      "source": [
        "soup = BeautifulSoup(r.text)"
      ],
      "execution_count": null,
      "outputs": []
    },
    {
      "cell_type": "code",
      "metadata": {
        "colab": {
          "base_uri": "https://localhost:8080/"
        },
        "id": "csgVFj--IxFj",
        "outputId": "3b476df3-5dfe-4cfe-8579-69f718f9b966"
      },
      "source": [
        "soup.select(\".class1\")"
      ],
      "execution_count": null,
      "outputs": [
        {
          "output_type": "execute_result",
          "data": {
            "text/plain": [
              "[<div class=\"class1\">\n",
              " <p>這是第一個p標籤內容！</p>\n",
              " <div>\n",
              " <p data-no=\"two\">這是第二個p標籤內容！</p>\n",
              " </div>\n",
              " </div>, <p class=\"class1\">這是第三個p標籤內容！</p>]"
            ]
          },
          "metadata": {},
          "execution_count": 85
        }
      ]
    },
    {
      "cell_type": "code",
      "metadata": {
        "colab": {
          "base_uri": "https://localhost:8080/"
        },
        "id": "aqaIh6CnI5sC",
        "outputId": "4a9d7df5-c2e8-467a-cd70-ed4498d51204"
      },
      "source": [
        "soup.select(\".class1 p\")"
      ],
      "execution_count": null,
      "outputs": [
        {
          "output_type": "execute_result",
          "data": {
            "text/plain": [
              "[<p>這是第一個p標籤內容！</p>, <p data-no=\"two\">這是第二個p標籤內容！</p>]"
            ]
          },
          "metadata": {},
          "execution_count": 86
        }
      ]
    },
    {
      "cell_type": "code",
      "metadata": {
        "colab": {
          "base_uri": "https://localhost:8080/"
        },
        "id": "AIB0wRhnJC0b",
        "outputId": "9da9d599-1073-4d75-e12b-b1ec5bde61b2"
      },
      "source": [
        "soup.select(\".class1 > p\")"
      ],
      "execution_count": null,
      "outputs": [
        {
          "output_type": "execute_result",
          "data": {
            "text/plain": [
              "[<p>這是第一個p標籤內容！</p>]"
            ]
          },
          "metadata": {},
          "execution_count": 87
        }
      ]
    },
    {
      "cell_type": "code",
      "metadata": {
        "colab": {
          "base_uri": "https://localhost:8080/"
        },
        "id": "BMBXf1EDJKDd",
        "outputId": "1efcc712-33f8-49f1-82a8-34cf9258f17f"
      },
      "source": [
        "soup.select(\".class1 > div > p\")"
      ],
      "execution_count": null,
      "outputs": [
        {
          "output_type": "execute_result",
          "data": {
            "text/plain": [
              "[<p data-no=\"two\">這是第二個p標籤內容！</p>]"
            ]
          },
          "metadata": {},
          "execution_count": 88
        }
      ]
    },
    {
      "cell_type": "code",
      "metadata": {
        "colab": {
          "base_uri": "https://localhost:8080/"
        },
        "id": "UgmWylYgJS0Y",
        "outputId": "b15f7da7-80e4-457b-96a6-867dd12a502d"
      },
      "source": [
        "soup.select(\"p[data-no='two']\")"
      ],
      "execution_count": null,
      "outputs": [
        {
          "output_type": "execute_result",
          "data": {
            "text/plain": [
              "[<p data-no=\"two\">這是第二個p標籤內容！</p>]"
            ]
          },
          "metadata": {},
          "execution_count": 90
        }
      ]
    },
    {
      "cell_type": "code",
      "metadata": {
        "colab": {
          "base_uri": "https://localhost:8080/"
        },
        "id": "CogipI1lJbbv",
        "outputId": "8203a3d8-8f7e-45ea-cb94-8b519739d6bc"
      },
      "source": [
        "soup.select(\"p.class1\")"
      ],
      "execution_count": null,
      "outputs": [
        {
          "output_type": "execute_result",
          "data": {
            "text/plain": [
              "[<p class=\"class1\">這是第三個p標籤內容！</p>]"
            ]
          },
          "metadata": {},
          "execution_count": 93
        }
      ]
    },
    {
      "cell_type": "code",
      "metadata": {
        "colab": {
          "base_uri": "https://localhost:8080/"
        },
        "id": "1ilFPIPCJuKC",
        "outputId": "4f766869-f1b3-4d9d-f5de-f01525d7751d"
      },
      "source": [
        "soup.select(\"p#p4\")"
      ],
      "execution_count": null,
      "outputs": [
        {
          "output_type": "execute_result",
          "data": {
            "text/plain": [
              "[<p id=\"p4\">這是第四個p標籤內容！</p>]"
            ]
          },
          "metadata": {},
          "execution_count": 94
        }
      ]
    },
    {
      "cell_type": "code",
      "metadata": {
        "colab": {
          "base_uri": "https://localhost:8080/"
        },
        "id": "ZpHaj84PJ4ce",
        "outputId": "f688fbd0-3119-4203-f46f-602092367695"
      },
      "source": [
        "soup.select(\"#p4\")"
      ],
      "execution_count": null,
      "outputs": [
        {
          "output_type": "execute_result",
          "data": {
            "text/plain": [
              "[<p id=\"p4\">這是第四個p標籤內容！</p>]"
            ]
          },
          "metadata": {},
          "execution_count": 95
        }
      ]
    },
    {
      "cell_type": "markdown",
      "metadata": {
        "id": "NzLyvAfJMvMg"
      },
      "source": [
        "## pandas抓資料練習"
      ]
    },
    {
      "cell_type": "markdown",
      "metadata": {
        "id": "qQMRVOsRM7RF"
      },
      "source": [
        "### 練習一\n",
        "\n",
        "請抓取 S&P 500 成分股！\n",
        "\n",
        "https://en.wikipedia.org/wiki/List_of_S%26P_500_companies\n",
        "\n",
        "|標籤名稱|說明|\n",
        "|:-|:-|\n",
        "|table|表格|\n",
        "|thead|表頭(table head)|\n",
        "|tbody|表身(table body)|\n",
        "|th|table head|\n",
        "|tr|table row|\n",
        "|td|table data|\n"
      ]
    },
    {
      "cell_type": "code",
      "metadata": {
        "id": "dCJ2KNyKNjEJ"
      },
      "source": [
        "url = \"https://en.wikipedia.org/wiki/List_of_S%26P_500_companies\""
      ],
      "execution_count": null,
      "outputs": []
    },
    {
      "cell_type": "markdown",
      "metadata": {
        "id": "V5a2MXRWRh8C"
      },
      "source": [
        "#### requests作法"
      ]
    },
    {
      "cell_type": "code",
      "metadata": {
        "id": "ZEikng06J7QE"
      },
      "source": [
        "r = requests.get(url)"
      ],
      "execution_count": null,
      "outputs": []
    },
    {
      "cell_type": "code",
      "metadata": {
        "id": "tNgp-jJTNmsM"
      },
      "source": [
        "soup = BeautifulSoup(r.text)"
      ],
      "execution_count": null,
      "outputs": []
    },
    {
      "cell_type": "code",
      "metadata": {
        "id": "fTi3_OZYNpHT"
      },
      "source": [
        "stocks = soup.select(\"#constituents\")"
      ],
      "execution_count": null,
      "outputs": []
    },
    {
      "cell_type": "code",
      "metadata": {
        "colab": {
          "base_uri": "https://localhost:8080/"
        },
        "id": "Jgv6dsZDOEkM",
        "outputId": "28d28dd4-7fe1-40f9-8392-e824045f60a2"
      },
      "source": [
        "len(stocks)"
      ],
      "execution_count": null,
      "outputs": [
        {
          "output_type": "execute_result",
          "data": {
            "text/plain": [
              "1"
            ]
          },
          "metadata": {},
          "execution_count": 101
        }
      ]
    },
    {
      "cell_type": "code",
      "metadata": {
        "colab": {
          "base_uri": "https://localhost:8080/"
        },
        "id": "0lmVpmrTOLQs",
        "outputId": "d937abf4-1ace-486c-beb2-90e61583d1fb"
      },
      "source": [
        "type(stocks[0])"
      ],
      "execution_count": null,
      "outputs": [
        {
          "output_type": "execute_result",
          "data": {
            "text/plain": [
              "bs4.element.Tag"
            ]
          },
          "metadata": {},
          "execution_count": 105
        }
      ]
    },
    {
      "cell_type": "code",
      "metadata": {
        "colab": {
          "base_uri": "https://localhost:8080/",
          "height": 36
        },
        "id": "ybAc5piNPOcu",
        "outputId": "3ebb4e95-d06d-4852-9599-acd2088edba8"
      },
      "source": [
        "str(stocks[0])[:100]"
      ],
      "execution_count": null,
      "outputs": [
        {
          "output_type": "execute_result",
          "data": {
            "application/vnd.google.colaboratory.intrinsic+json": {
              "type": "string"
            },
            "text/plain": [
              "'<table class=\"wikitable sortable\" id=\"constituents\">\\n<tbody><tr>\\n<th><a href=\"/wiki/Ticker_symbol\" t'"
            ]
          },
          "metadata": {},
          "execution_count": 111
        }
      ]
    },
    {
      "cell_type": "code",
      "metadata": {
        "colab": {
          "base_uri": "https://localhost:8080/"
        },
        "id": "KYF5S6iTPrM_",
        "outputId": "ff9b4c45-01b4-4581-ce07-20f553677f87"
      },
      "source": [
        "stocks[0].select('th')"
      ],
      "execution_count": null,
      "outputs": [
        {
          "output_type": "execute_result",
          "data": {
            "text/plain": [
              "[<th><a href=\"/wiki/Ticker_symbol\" title=\"Ticker symbol\">Symbol</a>\n",
              " </th>,\n",
              " <th>Security</th>,\n",
              " <th><a href=\"/wiki/SEC_filing\" title=\"SEC filing\">SEC filings</a></th>,\n",
              " <th><a href=\"/wiki/Global_Industry_Classification_Standard\" title=\"Global Industry Classification Standard\">GICS</a> Sector</th>,\n",
              " <th>GICS Sub-Industry</th>,\n",
              " <th>Headquarters Location</th>,\n",
              " <th>Date first added</th>,\n",
              " <th><a href=\"/wiki/Central_Index_Key\" title=\"Central Index Key\">CIK</a></th>,\n",
              " <th>Founded\n",
              " </th>]"
            ]
          },
          "metadata": {},
          "execution_count": 112
        }
      ]
    },
    {
      "cell_type": "code",
      "metadata": {
        "colab": {
          "base_uri": "https://localhost:8080/"
        },
        "id": "bRZvW2uDQOu0",
        "outputId": "f5f87116-e7b9-49d5-d6e1-84b86b121fe1"
      },
      "source": [
        "for i in stocks[0].select('th'):\n",
        "  print(i.text)"
      ],
      "execution_count": null,
      "outputs": [
        {
          "output_type": "stream",
          "name": "stdout",
          "text": [
            "Symbol\n",
            "\n",
            "Security\n",
            "SEC filings\n",
            "GICS Sector\n",
            "GICS Sub-Industry\n",
            "Headquarters Location\n",
            "Date first added\n",
            "CIK\n",
            "Founded\n",
            "\n"
          ]
        }
      ]
    },
    {
      "cell_type": "code",
      "metadata": {
        "colab": {
          "base_uri": "https://localhost:8080/"
        },
        "id": "fiSLmT-eQY40",
        "outputId": "453fbfd8-c60d-48c7-d74a-ad954bcc6646"
      },
      "source": [
        "stocks[0].select('tr')[1]"
      ],
      "execution_count": null,
      "outputs": [
        {
          "output_type": "execute_result",
          "data": {
            "text/plain": [
              "<tr>\n",
              "<td><a class=\"external text\" href=\"https://www.nyse.com/quote/XNYS:MMM\" rel=\"nofollow\">MMM</a>\n",
              "</td>\n",
              "<td><a href=\"/wiki/3M\" title=\"3M\">3M</a></td>\n",
              "<td><a class=\"external text\" href=\"https://www.sec.gov/cgi-bin/browse-edgar?CIK=MMM&amp;action=getcompany\" rel=\"nofollow\">reports</a></td>\n",
              "<td>Industrials</td>\n",
              "<td>Industrial Conglomerates</td>\n",
              "<td><a href=\"/wiki/Saint_Paul,_Minnesota\" title=\"Saint Paul, Minnesota\">Saint Paul, Minnesota</a></td>\n",
              "<td>1976-08-09</td>\n",
              "<td>0000066740</td>\n",
              "<td>1902\n",
              "</td></tr>"
            ]
          },
          "metadata": {},
          "execution_count": 117
        }
      ]
    },
    {
      "cell_type": "markdown",
      "metadata": {
        "id": "urIB0SfZRmmW"
      },
      "source": [
        "#### pandas作法"
      ]
    },
    {
      "cell_type": "code",
      "metadata": {
        "id": "WA4PjaIxQobn"
      },
      "source": [
        "import pandas as pd"
      ],
      "execution_count": null,
      "outputs": []
    },
    {
      "cell_type": "code",
      "metadata": {
        "id": "cv_PnTMUQ7Qb"
      },
      "source": [
        "result = pd.read_html(url)"
      ],
      "execution_count": null,
      "outputs": []
    },
    {
      "cell_type": "code",
      "metadata": {
        "colab": {
          "base_uri": "https://localhost:8080/"
        },
        "id": "HaLFamfpRBtp",
        "outputId": "81c71427-d7d7-456d-d598-f1723cbc1390"
      },
      "source": [
        "type(result)"
      ],
      "execution_count": null,
      "outputs": [
        {
          "output_type": "execute_result",
          "data": {
            "text/plain": [
              "list"
            ]
          },
          "metadata": {},
          "execution_count": 120
        }
      ]
    },
    {
      "cell_type": "code",
      "metadata": {
        "colab": {
          "base_uri": "https://localhost:8080/"
        },
        "id": "ZvnHtbipREEC",
        "outputId": "0f225374-1cea-4b3d-9449-af94512e24f3"
      },
      "source": [
        "len(result)"
      ],
      "execution_count": null,
      "outputs": [
        {
          "output_type": "execute_result",
          "data": {
            "text/plain": [
              "2"
            ]
          },
          "metadata": {},
          "execution_count": 122
        }
      ]
    },
    {
      "cell_type": "code",
      "metadata": {
        "colab": {
          "base_uri": "https://localhost:8080/",
          "height": 632
        },
        "id": "rc_AwYx2RGGZ",
        "outputId": "df751370-e5cc-4998-ab58-e70fb569e893"
      },
      "source": [
        "result[0]"
      ],
      "execution_count": null,
      "outputs": [
        {
          "output_type": "execute_result",
          "data": {
            "text/html": [
              "<div>\n",
              "<style scoped>\n",
              "    .dataframe tbody tr th:only-of-type {\n",
              "        vertical-align: middle;\n",
              "    }\n",
              "\n",
              "    .dataframe tbody tr th {\n",
              "        vertical-align: top;\n",
              "    }\n",
              "\n",
              "    .dataframe thead th {\n",
              "        text-align: right;\n",
              "    }\n",
              "</style>\n",
              "<table border=\"1\" class=\"dataframe\">\n",
              "  <thead>\n",
              "    <tr style=\"text-align: right;\">\n",
              "      <th></th>\n",
              "      <th>Symbol</th>\n",
              "      <th>Security</th>\n",
              "      <th>SEC filings</th>\n",
              "      <th>GICS Sector</th>\n",
              "      <th>GICS Sub-Industry</th>\n",
              "      <th>Headquarters Location</th>\n",
              "      <th>Date first added</th>\n",
              "      <th>CIK</th>\n",
              "      <th>Founded</th>\n",
              "    </tr>\n",
              "  </thead>\n",
              "  <tbody>\n",
              "    <tr>\n",
              "      <th>0</th>\n",
              "      <td>MMM</td>\n",
              "      <td>3M</td>\n",
              "      <td>reports</td>\n",
              "      <td>Industrials</td>\n",
              "      <td>Industrial Conglomerates</td>\n",
              "      <td>Saint Paul, Minnesota</td>\n",
              "      <td>1976-08-09</td>\n",
              "      <td>66740</td>\n",
              "      <td>1902</td>\n",
              "    </tr>\n",
              "    <tr>\n",
              "      <th>1</th>\n",
              "      <td>ABT</td>\n",
              "      <td>Abbott Laboratories</td>\n",
              "      <td>reports</td>\n",
              "      <td>Health Care</td>\n",
              "      <td>Health Care Equipment</td>\n",
              "      <td>North Chicago, Illinois</td>\n",
              "      <td>1964-03-31</td>\n",
              "      <td>1800</td>\n",
              "      <td>1888</td>\n",
              "    </tr>\n",
              "    <tr>\n",
              "      <th>2</th>\n",
              "      <td>ABBV</td>\n",
              "      <td>AbbVie</td>\n",
              "      <td>reports</td>\n",
              "      <td>Health Care</td>\n",
              "      <td>Pharmaceuticals</td>\n",
              "      <td>North Chicago, Illinois</td>\n",
              "      <td>2012-12-31</td>\n",
              "      <td>1551152</td>\n",
              "      <td>2013 (1888)</td>\n",
              "    </tr>\n",
              "    <tr>\n",
              "      <th>3</th>\n",
              "      <td>ABMD</td>\n",
              "      <td>Abiomed</td>\n",
              "      <td>reports</td>\n",
              "      <td>Health Care</td>\n",
              "      <td>Health Care Equipment</td>\n",
              "      <td>Danvers, Massachusetts</td>\n",
              "      <td>2018-05-31</td>\n",
              "      <td>815094</td>\n",
              "      <td>1981</td>\n",
              "    </tr>\n",
              "    <tr>\n",
              "      <th>4</th>\n",
              "      <td>ACN</td>\n",
              "      <td>Accenture</td>\n",
              "      <td>reports</td>\n",
              "      <td>Information Technology</td>\n",
              "      <td>IT Consulting &amp; Other Services</td>\n",
              "      <td>Dublin, Ireland</td>\n",
              "      <td>2011-07-06</td>\n",
              "      <td>1467373</td>\n",
              "      <td>1989</td>\n",
              "    </tr>\n",
              "    <tr>\n",
              "      <th>...</th>\n",
              "      <td>...</td>\n",
              "      <td>...</td>\n",
              "      <td>...</td>\n",
              "      <td>...</td>\n",
              "      <td>...</td>\n",
              "      <td>...</td>\n",
              "      <td>...</td>\n",
              "      <td>...</td>\n",
              "      <td>...</td>\n",
              "    </tr>\n",
              "    <tr>\n",
              "      <th>500</th>\n",
              "      <td>YUM</td>\n",
              "      <td>Yum! Brands</td>\n",
              "      <td>reports</td>\n",
              "      <td>Consumer Discretionary</td>\n",
              "      <td>Restaurants</td>\n",
              "      <td>Louisville, Kentucky</td>\n",
              "      <td>1997-10-06</td>\n",
              "      <td>1041061</td>\n",
              "      <td>1997</td>\n",
              "    </tr>\n",
              "    <tr>\n",
              "      <th>501</th>\n",
              "      <td>ZBRA</td>\n",
              "      <td>Zebra Technologies</td>\n",
              "      <td>reports</td>\n",
              "      <td>Information Technology</td>\n",
              "      <td>Electronic Equipment &amp; Instruments</td>\n",
              "      <td>Lincolnshire, Illinois</td>\n",
              "      <td>2019-12-23</td>\n",
              "      <td>877212</td>\n",
              "      <td>1969</td>\n",
              "    </tr>\n",
              "    <tr>\n",
              "      <th>502</th>\n",
              "      <td>ZBH</td>\n",
              "      <td>Zimmer Biomet</td>\n",
              "      <td>reports</td>\n",
              "      <td>Health Care</td>\n",
              "      <td>Health Care Equipment</td>\n",
              "      <td>Warsaw, Indiana</td>\n",
              "      <td>2001-08-07</td>\n",
              "      <td>1136869</td>\n",
              "      <td>1927</td>\n",
              "    </tr>\n",
              "    <tr>\n",
              "      <th>503</th>\n",
              "      <td>ZION</td>\n",
              "      <td>Zions Bancorp</td>\n",
              "      <td>reports</td>\n",
              "      <td>Financials</td>\n",
              "      <td>Regional Banks</td>\n",
              "      <td>Salt Lake City, Utah</td>\n",
              "      <td>2001-06-22</td>\n",
              "      <td>109380</td>\n",
              "      <td>1873</td>\n",
              "    </tr>\n",
              "    <tr>\n",
              "      <th>504</th>\n",
              "      <td>ZTS</td>\n",
              "      <td>Zoetis</td>\n",
              "      <td>reports</td>\n",
              "      <td>Health Care</td>\n",
              "      <td>Pharmaceuticals</td>\n",
              "      <td>Parsippany, New Jersey</td>\n",
              "      <td>2013-06-21</td>\n",
              "      <td>1555280</td>\n",
              "      <td>1952</td>\n",
              "    </tr>\n",
              "  </tbody>\n",
              "</table>\n",
              "<p>505 rows × 9 columns</p>\n",
              "</div>"
            ],
            "text/plain": [
              "    Symbol             Security  ...      CIK      Founded\n",
              "0      MMM                   3M  ...    66740         1902\n",
              "1      ABT  Abbott Laboratories  ...     1800         1888\n",
              "2     ABBV               AbbVie  ...  1551152  2013 (1888)\n",
              "3     ABMD              Abiomed  ...   815094         1981\n",
              "4      ACN            Accenture  ...  1467373         1989\n",
              "..     ...                  ...  ...      ...          ...\n",
              "500    YUM          Yum! Brands  ...  1041061         1997\n",
              "501   ZBRA   Zebra Technologies  ...   877212         1969\n",
              "502    ZBH        Zimmer Biomet  ...  1136869         1927\n",
              "503   ZION        Zions Bancorp  ...   109380         1873\n",
              "504    ZTS               Zoetis  ...  1555280         1952\n",
              "\n",
              "[505 rows x 9 columns]"
            ]
          },
          "metadata": {},
          "execution_count": 123
        }
      ]
    },
    {
      "cell_type": "code",
      "metadata": {
        "colab": {
          "base_uri": "https://localhost:8080/"
        },
        "id": "vlTPEdldRSFU",
        "outputId": "a05aebd4-134d-4dec-9ec1-30f53a26639f"
      },
      "source": [
        "type(result[0])"
      ],
      "execution_count": null,
      "outputs": [
        {
          "output_type": "execute_result",
          "data": {
            "text/plain": [
              "pandas.core.frame.DataFrame"
            ]
          },
          "metadata": {},
          "execution_count": 124
        }
      ]
    },
    {
      "cell_type": "code",
      "metadata": {
        "colab": {
          "base_uri": "https://localhost:8080/"
        },
        "id": "OJX-q3HBRWFd",
        "outputId": "852fa452-5c20-4b22-c88a-bb52875e840d"
      },
      "source": [
        "result[0]['Symbol']"
      ],
      "execution_count": null,
      "outputs": [
        {
          "output_type": "execute_result",
          "data": {
            "text/plain": [
              "0       MMM\n",
              "1       ABT\n",
              "2      ABBV\n",
              "3      ABMD\n",
              "4       ACN\n",
              "       ... \n",
              "500     YUM\n",
              "501    ZBRA\n",
              "502     ZBH\n",
              "503    ZION\n",
              "504     ZTS\n",
              "Name: Symbol, Length: 505, dtype: object"
            ]
          },
          "metadata": {},
          "execution_count": 125
        }
      ]
    },
    {
      "cell_type": "code",
      "metadata": {
        "colab": {
          "base_uri": "https://localhost:8080/",
          "height": 632
        },
        "id": "Vjzn2n9rSGWg",
        "outputId": "28987747-e968-4c7d-8044-fe6a85988ec5"
      },
      "source": [
        "result[0][result[0][\"GICS Sector\"]==\"Health Care\"]"
      ],
      "execution_count": null,
      "outputs": [
        {
          "output_type": "execute_result",
          "data": {
            "text/html": [
              "<div>\n",
              "<style scoped>\n",
              "    .dataframe tbody tr th:only-of-type {\n",
              "        vertical-align: middle;\n",
              "    }\n",
              "\n",
              "    .dataframe tbody tr th {\n",
              "        vertical-align: top;\n",
              "    }\n",
              "\n",
              "    .dataframe thead th {\n",
              "        text-align: right;\n",
              "    }\n",
              "</style>\n",
              "<table border=\"1\" class=\"dataframe\">\n",
              "  <thead>\n",
              "    <tr style=\"text-align: right;\">\n",
              "      <th></th>\n",
              "      <th>Symbol</th>\n",
              "      <th>Security</th>\n",
              "      <th>SEC filings</th>\n",
              "      <th>GICS Sector</th>\n",
              "      <th>GICS Sub-Industry</th>\n",
              "      <th>Headquarters Location</th>\n",
              "      <th>Date first added</th>\n",
              "      <th>CIK</th>\n",
              "      <th>Founded</th>\n",
              "    </tr>\n",
              "  </thead>\n",
              "  <tbody>\n",
              "    <tr>\n",
              "      <th>1</th>\n",
              "      <td>ABT</td>\n",
              "      <td>Abbott Laboratories</td>\n",
              "      <td>reports</td>\n",
              "      <td>Health Care</td>\n",
              "      <td>Health Care Equipment</td>\n",
              "      <td>North Chicago, Illinois</td>\n",
              "      <td>1964-03-31</td>\n",
              "      <td>1800</td>\n",
              "      <td>1888</td>\n",
              "    </tr>\n",
              "    <tr>\n",
              "      <th>2</th>\n",
              "      <td>ABBV</td>\n",
              "      <td>AbbVie</td>\n",
              "      <td>reports</td>\n",
              "      <td>Health Care</td>\n",
              "      <td>Pharmaceuticals</td>\n",
              "      <td>North Chicago, Illinois</td>\n",
              "      <td>2012-12-31</td>\n",
              "      <td>1551152</td>\n",
              "      <td>2013 (1888)</td>\n",
              "    </tr>\n",
              "    <tr>\n",
              "      <th>3</th>\n",
              "      <td>ABMD</td>\n",
              "      <td>Abiomed</td>\n",
              "      <td>reports</td>\n",
              "      <td>Health Care</td>\n",
              "      <td>Health Care Equipment</td>\n",
              "      <td>Danvers, Massachusetts</td>\n",
              "      <td>2018-05-31</td>\n",
              "      <td>815094</td>\n",
              "      <td>1981</td>\n",
              "    </tr>\n",
              "    <tr>\n",
              "      <th>11</th>\n",
              "      <td>A</td>\n",
              "      <td>Agilent Technologies</td>\n",
              "      <td>reports</td>\n",
              "      <td>Health Care</td>\n",
              "      <td>Health Care Equipment</td>\n",
              "      <td>Santa Clara, California</td>\n",
              "      <td>2000-06-05</td>\n",
              "      <td>1090872</td>\n",
              "      <td>1999</td>\n",
              "    </tr>\n",
              "    <tr>\n",
              "      <th>17</th>\n",
              "      <td>ALGN</td>\n",
              "      <td>Align Technology</td>\n",
              "      <td>reports</td>\n",
              "      <td>Health Care</td>\n",
              "      <td>Health Care Supplies</td>\n",
              "      <td>San Jose, California</td>\n",
              "      <td>2017-06-19</td>\n",
              "      <td>1097149</td>\n",
              "      <td>1997</td>\n",
              "    </tr>\n",
              "    <tr>\n",
              "      <th>...</th>\n",
              "      <td>...</td>\n",
              "      <td>...</td>\n",
              "      <td>...</td>\n",
              "      <td>...</td>\n",
              "      <td>...</td>\n",
              "      <td>...</td>\n",
              "      <td>...</td>\n",
              "      <td>...</td>\n",
              "      <td>...</td>\n",
              "    </tr>\n",
              "    <tr>\n",
              "      <th>474</th>\n",
              "      <td>VTRS</td>\n",
              "      <td>Viatris</td>\n",
              "      <td>reports</td>\n",
              "      <td>Health Care</td>\n",
              "      <td>Pharmaceuticals</td>\n",
              "      <td>Pittsburgh, Pennsylvania</td>\n",
              "      <td>2004-04-23</td>\n",
              "      <td>1792044</td>\n",
              "      <td>1961</td>\n",
              "    </tr>\n",
              "    <tr>\n",
              "      <th>484</th>\n",
              "      <td>WAT</td>\n",
              "      <td>Waters Corporation</td>\n",
              "      <td>reports</td>\n",
              "      <td>Health Care</td>\n",
              "      <td>Health Care Distributors</td>\n",
              "      <td>Milford, Massachusetts</td>\n",
              "      <td>NaN</td>\n",
              "      <td>1000697</td>\n",
              "      <td>1958</td>\n",
              "    </tr>\n",
              "    <tr>\n",
              "      <th>488</th>\n",
              "      <td>WST</td>\n",
              "      <td>West Pharmaceutical Services</td>\n",
              "      <td>reports</td>\n",
              "      <td>Health Care</td>\n",
              "      <td>Health Care Supplies</td>\n",
              "      <td>Exton, Pennsylvania</td>\n",
              "      <td>2020-05-22</td>\n",
              "      <td>105770</td>\n",
              "      <td>1923</td>\n",
              "    </tr>\n",
              "    <tr>\n",
              "      <th>502</th>\n",
              "      <td>ZBH</td>\n",
              "      <td>Zimmer Biomet</td>\n",
              "      <td>reports</td>\n",
              "      <td>Health Care</td>\n",
              "      <td>Health Care Equipment</td>\n",
              "      <td>Warsaw, Indiana</td>\n",
              "      <td>2001-08-07</td>\n",
              "      <td>1136869</td>\n",
              "      <td>1927</td>\n",
              "    </tr>\n",
              "    <tr>\n",
              "      <th>504</th>\n",
              "      <td>ZTS</td>\n",
              "      <td>Zoetis</td>\n",
              "      <td>reports</td>\n",
              "      <td>Health Care</td>\n",
              "      <td>Pharmaceuticals</td>\n",
              "      <td>Parsippany, New Jersey</td>\n",
              "      <td>2013-06-21</td>\n",
              "      <td>1555280</td>\n",
              "      <td>1952</td>\n",
              "    </tr>\n",
              "  </tbody>\n",
              "</table>\n",
              "<p>65 rows × 9 columns</p>\n",
              "</div>"
            ],
            "text/plain": [
              "    Symbol                      Security  ...      CIK      Founded\n",
              "1      ABT           Abbott Laboratories  ...     1800         1888\n",
              "2     ABBV                        AbbVie  ...  1551152  2013 (1888)\n",
              "3     ABMD                       Abiomed  ...   815094         1981\n",
              "11       A          Agilent Technologies  ...  1090872         1999\n",
              "17    ALGN              Align Technology  ...  1097149         1997\n",
              "..     ...                           ...  ...      ...          ...\n",
              "474   VTRS                       Viatris  ...  1792044         1961\n",
              "484    WAT            Waters Corporation  ...  1000697         1958\n",
              "488    WST  West Pharmaceutical Services  ...   105770         1923\n",
              "502    ZBH                 Zimmer Biomet  ...  1136869         1927\n",
              "504    ZTS                        Zoetis  ...  1555280         1952\n",
              "\n",
              "[65 rows x 9 columns]"
            ]
          },
          "metadata": {},
          "execution_count": 126
        }
      ]
    },
    {
      "cell_type": "markdown",
      "metadata": {
        "id": "0XGp0K0IT-bD"
      },
      "source": [
        "### 練習二\n",
        "\n",
        "請抓取以下網址內的表格！\n",
        "\n",
        "https://www.pmi.org.tw/?p=5361"
      ]
    },
    {
      "cell_type": "code",
      "metadata": {
        "id": "d6m5URVMU_l3"
      },
      "source": [
        "import pandas as pd"
      ],
      "execution_count": null,
      "outputs": []
    },
    {
      "cell_type": "code",
      "metadata": {
        "id": "Zpv_tqmHS0gp"
      },
      "source": [
        "url = \"https://www.pmi.org.tw/?p=5361\""
      ],
      "execution_count": null,
      "outputs": []
    },
    {
      "cell_type": "code",
      "metadata": {
        "id": "wXlyz6JIUNMq"
      },
      "source": [
        "dfs = pd.read_html(url)"
      ],
      "execution_count": null,
      "outputs": []
    },
    {
      "cell_type": "code",
      "metadata": {
        "id": "V6fxtRe9UT9V",
        "colab": {
          "base_uri": "https://localhost:8080/",
          "height": 327
        },
        "outputId": "48998066-501e-4c3f-a4e4-d2b898a1068e"
      },
      "source": [
        "dfs[0]"
      ],
      "execution_count": null,
      "outputs": [
        {
          "output_type": "execute_result",
          "data": {
            "text/html": [
              "<div>\n",
              "<style scoped>\n",
              "    .dataframe tbody tr th:only-of-type {\n",
              "        vertical-align: middle;\n",
              "    }\n",
              "\n",
              "    .dataframe tbody tr th {\n",
              "        vertical-align: top;\n",
              "    }\n",
              "\n",
              "    .dataframe thead th {\n",
              "        text-align: right;\n",
              "    }\n",
              "</style>\n",
              "<table border=\"1\" class=\"dataframe\">\n",
              "  <thead>\n",
              "    <tr style=\"text-align: right;\">\n",
              "      <th></th>\n",
              "      <th>參賽類型</th>\n",
              "      <th>參賽單位名稱</th>\n",
              "      <th>獎項</th>\n",
              "    </tr>\n",
              "  </thead>\n",
              "  <tbody>\n",
              "    <tr>\n",
              "      <th>0</th>\n",
              "      <td>大型企業</td>\n",
              "      <td>中華電信股份有限公司臺灣南區電信分公司</td>\n",
              "      <td>標竿企業獎</td>\n",
              "    </tr>\n",
              "    <tr>\n",
              "      <th>1</th>\n",
              "      <td>大型企業</td>\n",
              "      <td>致伸科技股份有限公司</td>\n",
              "      <td>典範企業獎</td>\n",
              "    </tr>\n",
              "    <tr>\n",
              "      <th>2</th>\n",
              "      <td>大型企業</td>\n",
              "      <td>香港商聯寶電腦有限公司台灣分公司</td>\n",
              "      <td>典範企業獎</td>\n",
              "    </tr>\n",
              "    <tr>\n",
              "      <th>3</th>\n",
              "      <td>中小企業</td>\n",
              "      <td>日昇意定科技顧問有限公司</td>\n",
              "      <td>標竿企業獎</td>\n",
              "    </tr>\n",
              "    <tr>\n",
              "      <th>4</th>\n",
              "      <td>中小企業</td>\n",
              "      <td>湯武生技企業有限公司</td>\n",
              "      <td>典範企業獎</td>\n",
              "    </tr>\n",
              "    <tr>\n",
              "      <th>5</th>\n",
              "      <td>中小企業</td>\n",
              "      <td>漢翔航空工業股份有限公司民用飛機專案處</td>\n",
              "      <td>典範企業獎</td>\n",
              "    </tr>\n",
              "    <tr>\n",
              "      <th>6</th>\n",
              "      <td>中小企業</td>\n",
              "      <td>大同永旭能源股份有限公司</td>\n",
              "      <td>優選</td>\n",
              "    </tr>\n",
              "    <tr>\n",
              "      <th>7</th>\n",
              "      <td>中小企業</td>\n",
              "      <td>協科資訊股份有限公司</td>\n",
              "      <td>優選</td>\n",
              "    </tr>\n",
              "    <tr>\n",
              "      <th>8</th>\n",
              "      <td>政府及法人</td>\n",
              "      <td>屏東縣政府</td>\n",
              "      <td>優選</td>\n",
              "    </tr>\n",
              "  </tbody>\n",
              "</table>\n",
              "</div>"
            ],
            "text/plain": [
              "    參賽類型               參賽單位名稱     獎項\n",
              "0   大型企業  中華電信股份有限公司臺灣南區電信分公司  標竿企業獎\n",
              "1   大型企業           致伸科技股份有限公司  典範企業獎\n",
              "2   大型企業     香港商聯寶電腦有限公司台灣分公司  典範企業獎\n",
              "3   中小企業         日昇意定科技顧問有限公司  標竿企業獎\n",
              "4   中小企業           湯武生技企業有限公司  典範企業獎\n",
              "5   中小企業  漢翔航空工業股份有限公司民用飛機專案處  典範企業獎\n",
              "6   中小企業         大同永旭能源股份有限公司     優選\n",
              "7   中小企業           協科資訊股份有限公司     優選\n",
              "8  政府及法人                屏東縣政府     優選"
            ]
          },
          "metadata": {},
          "execution_count": 44
        }
      ]
    },
    {
      "cell_type": "code",
      "metadata": {
        "id": "ISGgrj9cUVfD",
        "colab": {
          "base_uri": "https://localhost:8080/",
          "height": 363
        },
        "outputId": "7103d56b-fa48-41b6-ccd7-9dd7ddd848ad"
      },
      "source": [
        "dfs[1]"
      ],
      "execution_count": null,
      "outputs": [
        {
          "output_type": "execute_result",
          "data": {
            "text/html": [
              "<div>\n",
              "<style scoped>\n",
              "    .dataframe tbody tr th:only-of-type {\n",
              "        vertical-align: middle;\n",
              "    }\n",
              "\n",
              "    .dataframe tbody tr th {\n",
              "        vertical-align: top;\n",
              "    }\n",
              "\n",
              "    .dataframe thead th {\n",
              "        text-align: right;\n",
              "    }\n",
              "</style>\n",
              "<table border=\"1\" class=\"dataframe\">\n",
              "  <thead>\n",
              "    <tr style=\"text-align: right;\">\n",
              "      <th></th>\n",
              "      <th>專案經理人姓名</th>\n",
              "      <th>參賽單位名稱</th>\n",
              "      <th>獎項</th>\n",
              "    </tr>\n",
              "  </thead>\n",
              "  <tbody>\n",
              "    <tr>\n",
              "      <th>0</th>\n",
              "      <td>呂炯明</td>\n",
              "      <td>資拓宏宇國際股份有限公司</td>\n",
              "      <td>十專獎</td>\n",
              "    </tr>\n",
              "    <tr>\n",
              "      <th>1</th>\n",
              "      <td>李得元</td>\n",
              "      <td>嘉南藥理大學</td>\n",
              "      <td>十專獎</td>\n",
              "    </tr>\n",
              "    <tr>\n",
              "      <th>2</th>\n",
              "      <td>林慶和</td>\n",
              "      <td>中華電信股份有限公司臺灣南區電信分公司</td>\n",
              "      <td>十專獎</td>\n",
              "    </tr>\n",
              "    <tr>\n",
              "      <th>3</th>\n",
              "      <td>侯里智</td>\n",
              "      <td>香港商聯寶電腦有限公司台灣分公司</td>\n",
              "      <td>十專獎</td>\n",
              "    </tr>\n",
              "    <tr>\n",
              "      <th>4</th>\n",
              "      <td>莊信慧</td>\n",
              "      <td>中華開發金融控股公司</td>\n",
              "      <td>十專獎</td>\n",
              "    </tr>\n",
              "    <tr>\n",
              "      <th>5</th>\n",
              "      <td>郭慶輝</td>\n",
              "      <td>樂高渥克公關廣告活動有限公司</td>\n",
              "      <td>十專獎</td>\n",
              "    </tr>\n",
              "    <tr>\n",
              "      <th>6</th>\n",
              "      <td>陳協良</td>\n",
              "      <td>台灣世曦工程顧問股份有限公司</td>\n",
              "      <td>十專獎</td>\n",
              "    </tr>\n",
              "    <tr>\n",
              "      <th>7</th>\n",
              "      <td>黃俊銘</td>\n",
              "      <td>行政院環境保護署環境監測及資訊處</td>\n",
              "      <td>十專獎</td>\n",
              "    </tr>\n",
              "    <tr>\n",
              "      <th>8</th>\n",
              "      <td>黃遠鵬</td>\n",
              "      <td>麗寶大數據股份有限公司</td>\n",
              "      <td>十專獎</td>\n",
              "    </tr>\n",
              "    <tr>\n",
              "      <th>9</th>\n",
              "      <td>蔡昆男</td>\n",
              "      <td>致伸科技股份有限公司</td>\n",
              "      <td>十專獎</td>\n",
              "    </tr>\n",
              "  </tbody>\n",
              "</table>\n",
              "</div>"
            ],
            "text/plain": [
              "  專案經理人姓名               參賽單位名稱   獎項\n",
              "0     呂炯明         資拓宏宇國際股份有限公司  十專獎\n",
              "1     李得元               嘉南藥理大學  十專獎\n",
              "2     林慶和  中華電信股份有限公司臺灣南區電信分公司  十專獎\n",
              "3     侯里智     香港商聯寶電腦有限公司台灣分公司  十專獎\n",
              "4     莊信慧           中華開發金融控股公司  十專獎\n",
              "5     郭慶輝       樂高渥克公關廣告活動有限公司  十專獎\n",
              "6     陳協良       台灣世曦工程顧問股份有限公司  十專獎\n",
              "7     黃俊銘     行政院環境保護署環境監測及資訊處  十專獎\n",
              "8     黃遠鵬          麗寶大數據股份有限公司  十專獎\n",
              "9     蔡昆男           致伸科技股份有限公司  十專獎"
            ]
          },
          "metadata": {},
          "execution_count": 130
        }
      ]
    },
    {
      "cell_type": "markdown",
      "metadata": {
        "id": "qZVWmHKQVGWZ"
      },
      "source": [
        "#### 用 requests 做做看"
      ]
    },
    {
      "cell_type": "code",
      "metadata": {
        "id": "c8lm0yRxUXYt"
      },
      "source": [
        "import requests\n",
        "from bs4 import BeautifulSoup"
      ],
      "execution_count": null,
      "outputs": []
    },
    {
      "cell_type": "code",
      "metadata": {
        "id": "sOliUrzdOZZE"
      },
      "source": [
        "r = requests.get(url)"
      ],
      "execution_count": null,
      "outputs": []
    },
    {
      "cell_type": "code",
      "metadata": {
        "id": "M88bIg63OcF5"
      },
      "source": [
        "soup = BeautifulSoup(r.text)"
      ],
      "execution_count": null,
      "outputs": []
    },
    {
      "cell_type": "code",
      "metadata": {
        "colab": {
          "base_uri": "https://localhost:8080/"
        },
        "id": "SO-G9Ew7Oe2M",
        "outputId": "96bb3c1a-6c16-4f1d-ef68-90ef480f1106"
      },
      "source": [
        "soup.select('table')"
      ],
      "execution_count": null,
      "outputs": [
        {
          "output_type": "execute_result",
          "data": {
            "text/plain": [
              "[<table class=\"tablepress tablepress-id-58\" id=\"tablepress-58\">\n",
              " <thead>\n",
              " <tr class=\"row-1 odd\">\n",
              " <th class=\"column-1\">參賽類型</th><th class=\"column-2\">參賽單位名稱</th><th class=\"column-3\">獎項</th>\n",
              " </tr>\n",
              " </thead>\n",
              " <tbody class=\"row-hover\">\n",
              " <tr class=\"row-2 even\">\n",
              " <td class=\"column-1\">大型企業</td><td class=\"column-2\">中華電信股份有限公司臺灣南區電信分公司</td><td class=\"column-3\">標竿企業獎</td>\n",
              " </tr>\n",
              " <tr class=\"row-3 odd\">\n",
              " <td class=\"column-1\">大型企業</td><td class=\"column-2\">致伸科技股份有限公司</td><td class=\"column-3\">典範企業獎</td>\n",
              " </tr>\n",
              " <tr class=\"row-4 even\">\n",
              " <td class=\"column-1\">大型企業</td><td class=\"column-2\">香港商聯寶電腦有限公司台灣分公司</td><td class=\"column-3\">典範企業獎</td>\n",
              " </tr>\n",
              " <tr class=\"row-5 odd\">\n",
              " <td class=\"column-1\">中小企業</td><td class=\"column-2\">日昇意定科技顧問有限公司</td><td class=\"column-3\">標竿企業獎</td>\n",
              " </tr>\n",
              " <tr class=\"row-6 even\">\n",
              " <td class=\"column-1\">中小企業</td><td class=\"column-2\">湯武生技企業有限公司</td><td class=\"column-3\">典範企業獎</td>\n",
              " </tr>\n",
              " <tr class=\"row-7 odd\">\n",
              " <td class=\"column-1\">中小企業</td><td class=\"column-2\">漢翔航空工業股份有限公司民用飛機專案處</td><td class=\"column-3\">典範企業獎</td>\n",
              " </tr>\n",
              " <tr class=\"row-8 even\">\n",
              " <td class=\"column-1\">中小企業</td><td class=\"column-2\">大同永旭能源股份有限公司</td><td class=\"column-3\">優選</td>\n",
              " </tr>\n",
              " <tr class=\"row-9 odd\">\n",
              " <td class=\"column-1\">中小企業</td><td class=\"column-2\">協科資訊股份有限公司</td><td class=\"column-3\">優選</td>\n",
              " </tr>\n",
              " <tr class=\"row-10 even\">\n",
              " <td class=\"column-1\">政府及法人</td><td class=\"column-2\">屏東縣政府</td><td class=\"column-3\">優選</td>\n",
              " </tr>\n",
              " </tbody>\n",
              " </table>, <table class=\"tablepress tablepress-id-59\" id=\"tablepress-59\">\n",
              " <thead>\n",
              " <tr class=\"row-1 odd\">\n",
              " <th class=\"column-1\">專案經理人姓名</th><th class=\"column-2\">參賽單位名稱</th><th class=\"column-3\">獎項</th>\n",
              " </tr>\n",
              " </thead>\n",
              " <tbody class=\"row-hover\">\n",
              " <tr class=\"row-2 even\">\n",
              " <td class=\"column-1\">呂炯明</td><td class=\"column-2\">資拓宏宇國際股份有限公司</td><td class=\"column-3\">十專獎</td>\n",
              " </tr>\n",
              " <tr class=\"row-3 odd\">\n",
              " <td class=\"column-1\">李得元</td><td class=\"column-2\">嘉南藥理大學</td><td class=\"column-3\">十專獎</td>\n",
              " </tr>\n",
              " <tr class=\"row-4 even\">\n",
              " <td class=\"column-1\">林慶和</td><td class=\"column-2\">中華電信股份有限公司臺灣南區電信分公司</td><td class=\"column-3\">十專獎</td>\n",
              " </tr>\n",
              " <tr class=\"row-5 odd\">\n",
              " <td class=\"column-1\">侯里智</td><td class=\"column-2\">香港商聯寶電腦有限公司台灣分公司</td><td class=\"column-3\">十專獎</td>\n",
              " </tr>\n",
              " <tr class=\"row-6 even\">\n",
              " <td class=\"column-1\">莊信慧</td><td class=\"column-2\">中華開發金融控股公司</td><td class=\"column-3\">十專獎</td>\n",
              " </tr>\n",
              " <tr class=\"row-7 odd\">\n",
              " <td class=\"column-1\">郭慶輝</td><td class=\"column-2\">樂高渥克公關廣告活動有限公司</td><td class=\"column-3\">十專獎</td>\n",
              " </tr>\n",
              " <tr class=\"row-8 even\">\n",
              " <td class=\"column-1\">陳協良</td><td class=\"column-2\">台灣世曦工程顧問股份有限公司</td><td class=\"column-3\">十專獎</td>\n",
              " </tr>\n",
              " <tr class=\"row-9 odd\">\n",
              " <td class=\"column-1\">黃俊銘</td><td class=\"column-2\">行政院環境保護署環境監測及資訊處</td><td class=\"column-3\">十專獎</td>\n",
              " </tr>\n",
              " <tr class=\"row-10 even\">\n",
              " <td class=\"column-1\">黃遠鵬</td><td class=\"column-2\">麗寶大數據股份有限公司</td><td class=\"column-3\">十專獎</td>\n",
              " </tr>\n",
              " <tr class=\"row-11 odd\">\n",
              " <td class=\"column-1\">蔡昆男</td><td class=\"column-2\">致伸科技股份有限公司</td><td class=\"column-3\">十專獎</td>\n",
              " </tr>\n",
              " </tbody>\n",
              " </table>]"
            ]
          },
          "metadata": {},
          "execution_count": 19
        }
      ]
    },
    {
      "cell_type": "code",
      "metadata": {
        "id": "HmTpQNjXPmNr"
      },
      "source": [
        "len?"
      ],
      "execution_count": null,
      "outputs": []
    },
    {
      "cell_type": "code",
      "metadata": {
        "colab": {
          "base_uri": "https://localhost:8080/"
        },
        "id": "pKYrGLZEPhTA",
        "outputId": "25a1dbcd-254d-4829-fcb0-79dda6618663"
      },
      "source": [
        "len(soup.select('table'))"
      ],
      "execution_count": null,
      "outputs": [
        {
          "output_type": "execute_result",
          "data": {
            "text/plain": [
              "2"
            ]
          },
          "metadata": {},
          "execution_count": 21
        }
      ]
    },
    {
      "cell_type": "code",
      "metadata": {
        "id": "U_EQ7AV8P_eF"
      },
      "source": [
        "tbls = soup.select('table')"
      ],
      "execution_count": null,
      "outputs": []
    },
    {
      "cell_type": "code",
      "metadata": {
        "colab": {
          "base_uri": "https://localhost:8080/"
        },
        "id": "ase4CyMiQO2n",
        "outputId": "48780d50-9aa4-4dd4-b253-4e0639bf5965"
      },
      "source": [
        "tbls[0].select('tr')"
      ],
      "execution_count": null,
      "outputs": [
        {
          "output_type": "execute_result",
          "data": {
            "text/plain": [
              "[<tr class=\"row-1 odd\">\n",
              " <th class=\"column-1\">參賽類型</th><th class=\"column-2\">參賽單位名稱</th><th class=\"column-3\">獎項</th>\n",
              " </tr>, <tr class=\"row-2 even\">\n",
              " <td class=\"column-1\">大型企業</td><td class=\"column-2\">中華電信股份有限公司臺灣南區電信分公司</td><td class=\"column-3\">標竿企業獎</td>\n",
              " </tr>, <tr class=\"row-3 odd\">\n",
              " <td class=\"column-1\">大型企業</td><td class=\"column-2\">致伸科技股份有限公司</td><td class=\"column-3\">典範企業獎</td>\n",
              " </tr>, <tr class=\"row-4 even\">\n",
              " <td class=\"column-1\">大型企業</td><td class=\"column-2\">香港商聯寶電腦有限公司台灣分公司</td><td class=\"column-3\">典範企業獎</td>\n",
              " </tr>, <tr class=\"row-5 odd\">\n",
              " <td class=\"column-1\">中小企業</td><td class=\"column-2\">日昇意定科技顧問有限公司</td><td class=\"column-3\">標竿企業獎</td>\n",
              " </tr>, <tr class=\"row-6 even\">\n",
              " <td class=\"column-1\">中小企業</td><td class=\"column-2\">湯武生技企業有限公司</td><td class=\"column-3\">典範企業獎</td>\n",
              " </tr>, <tr class=\"row-7 odd\">\n",
              " <td class=\"column-1\">中小企業</td><td class=\"column-2\">漢翔航空工業股份有限公司民用飛機專案處</td><td class=\"column-3\">典範企業獎</td>\n",
              " </tr>, <tr class=\"row-8 even\">\n",
              " <td class=\"column-1\">中小企業</td><td class=\"column-2\">大同永旭能源股份有限公司</td><td class=\"column-3\">優選</td>\n",
              " </tr>, <tr class=\"row-9 odd\">\n",
              " <td class=\"column-1\">中小企業</td><td class=\"column-2\">協科資訊股份有限公司</td><td class=\"column-3\">優選</td>\n",
              " </tr>, <tr class=\"row-10 even\">\n",
              " <td class=\"column-1\">政府及法人</td><td class=\"column-2\">屏東縣政府</td><td class=\"column-3\">優選</td>\n",
              " </tr>]"
            ]
          },
          "metadata": {},
          "execution_count": 23
        }
      ]
    },
    {
      "cell_type": "code",
      "metadata": {
        "colab": {
          "base_uri": "https://localhost:8080/"
        },
        "id": "4QBXQf1mRU8c",
        "outputId": "0f718055-7545-4773-c092-25eab698bc9b"
      },
      "source": [
        "type(tbls)"
      ],
      "execution_count": null,
      "outputs": [
        {
          "output_type": "execute_result",
          "data": {
            "text/plain": [
              "list"
            ]
          },
          "metadata": {},
          "execution_count": 27
        }
      ]
    },
    {
      "cell_type": "code",
      "metadata": {
        "colab": {
          "base_uri": "https://localhost:8080/"
        },
        "id": "zbup2I38RWhq",
        "outputId": "70bb11d5-c1f0-4382-a8a0-fc8df844333c"
      },
      "source": [
        "type(tbls[0])"
      ],
      "execution_count": null,
      "outputs": [
        {
          "output_type": "execute_result",
          "data": {
            "text/plain": [
              "bs4.element.Tag"
            ]
          },
          "metadata": {},
          "execution_count": 28
        }
      ]
    },
    {
      "cell_type": "code",
      "metadata": {
        "id": "-bbiR0d8QUbh"
      },
      "source": [
        "trs = tbls[0].select('tr')"
      ],
      "execution_count": null,
      "outputs": []
    },
    {
      "cell_type": "code",
      "metadata": {
        "colab": {
          "base_uri": "https://localhost:8080/"
        },
        "id": "ilQ5pfYrVi3V",
        "outputId": "3901ca99-89ce-43ae-9196-336b11618305"
      },
      "source": [
        "trs[0].select('th')"
      ],
      "execution_count": null,
      "outputs": [
        {
          "output_type": "execute_result",
          "data": {
            "text/plain": [
              "[<th class=\"column-1\">參賽類型</th>,\n",
              " <th class=\"column-2\">參賽單位名稱</th>,\n",
              " <th class=\"column-3\">獎項</th>]"
            ]
          },
          "metadata": {},
          "execution_count": 45
        }
      ]
    },
    {
      "cell_type": "code",
      "metadata": {
        "colab": {
          "base_uri": "https://localhost:8080/"
        },
        "id": "ha36ueZHQ9FZ",
        "outputId": "26e0aea1-a348-4b1e-be25-1b472a77c9cd"
      },
      "source": [
        "for th in trs[0].select('th'):\n",
        "  print(th.text, end=\", \")"
      ],
      "execution_count": null,
      "outputs": [
        {
          "output_type": "stream",
          "name": "stdout",
          "text": [
            "參賽類型, 參賽單位名稱, 獎項, "
          ]
        }
      ]
    },
    {
      "cell_type": "code",
      "metadata": {
        "colab": {
          "base_uri": "https://localhost:8080/"
        },
        "id": "JPTGbrL2RHsp",
        "outputId": "1fe96021-e957-483e-fa5d-419214e78de2"
      },
      "source": [
        "for tr in trs[1:]:\n",
        "  for td in tr.select('td'):\n",
        "    print(td.text, end=\", \")\n",
        "  print()"
      ],
      "execution_count": null,
      "outputs": [
        {
          "output_type": "stream",
          "name": "stdout",
          "text": [
            "大型企業, 中華電信股份有限公司臺灣南區電信分公司, 標竿企業獎, \n",
            "大型企業, 致伸科技股份有限公司, 典範企業獎, \n",
            "大型企業, 香港商聯寶電腦有限公司台灣分公司, 典範企業獎, \n",
            "中小企業, 日昇意定科技顧問有限公司, 標竿企業獎, \n",
            "中小企業, 湯武生技企業有限公司, 典範企業獎, \n",
            "中小企業, 漢翔航空工業股份有限公司民用飛機專案處, 典範企業獎, \n",
            "中小企業, 大同永旭能源股份有限公司, 優選, \n",
            "中小企業, 協科資訊股份有限公司, 優選, \n",
            "政府及法人, 屏東縣政府, 優選, \n"
          ]
        }
      ]
    },
    {
      "cell_type": "code",
      "metadata": {
        "id": "Z353kV0DTRzd"
      },
      "source": [
        ""
      ],
      "execution_count": null,
      "outputs": []
    }
  ]
}