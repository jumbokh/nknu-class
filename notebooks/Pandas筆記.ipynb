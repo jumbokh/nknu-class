{
  "nbformat": 4,
  "nbformat_minor": 0,
  "metadata": {
    "colab": {
      "name": "Pandas筆記.ipynb",
      "provenance": [],
      "include_colab_link": true
    },
    "kernelspec": {
      "name": "python3",
      "display_name": "Python 3"
    },
    "language_info": {
      "name": "python"
    }
  },
  "cells": [
    {
      "cell_type": "markdown",
      "metadata": {
        "id": "view-in-github",
        "colab_type": "text"
      },
      "source": [
        "<a href=\"https://colab.research.google.com/github/jumbokh/nknu-class/blob/main/notebooks/Pandas%E7%AD%86%E8%A8%98.ipynb\" target=\"_parent\"><img src=\"https://colab.research.google.com/assets/colab-badge.svg\" alt=\"Open In Colab\"/></a>"
      ]
    },
    {
      "cell_type": "markdown",
      "metadata": {
        "id": "Mu9xUsCme6Sj"
      },
      "source": [
        "# Pandas 筆記"
      ]
    },
    {
      "cell_type": "markdown",
      "metadata": {
        "id": "s2OIe-cEfBZ7"
      },
      "source": [
        "## Pandas主要的兩大資料結構\n",
        "\n",
        "* Series\n",
        "* DataFrame"
      ]
    },
    {
      "cell_type": "code",
      "metadata": {
        "id": "GldB02TcfWIo"
      },
      "source": [
        "# 載入numpy\n",
        "import numpy as np\n",
        "\n",
        "# 載入pandas\n",
        "import pandas as pd"
      ],
      "execution_count": null,
      "outputs": []
    },
    {
      "cell_type": "markdown",
      "metadata": {
        "id": "OXQfKlqAfJHA"
      },
      "source": [
        "## Series"
      ]
    },
    {
      "cell_type": "code",
      "metadata": {
        "colab": {
          "base_uri": "https://localhost:8080/"
        },
        "id": "TZMe3BlBfm04",
        "outputId": "cf246d02-9ceb-4ec2-d3db-d8cdc31d22f7"
      },
      "source": [
        "list(range(5))"
      ],
      "execution_count": null,
      "outputs": [
        {
          "output_type": "execute_result",
          "data": {
            "text/plain": [
              "[0, 1, 2, 3, 4]"
            ]
          },
          "metadata": {},
          "execution_count": 4
        }
      ]
    },
    {
      "cell_type": "code",
      "metadata": {
        "id": "d4WVoPCjfISz"
      },
      "source": [
        "s = pd.Series(list(range(5)))"
      ],
      "execution_count": null,
      "outputs": []
    },
    {
      "cell_type": "code",
      "metadata": {
        "colab": {
          "base_uri": "https://localhost:8080/"
        },
        "id": "bUMawIiPe5GQ",
        "outputId": "4e669e3f-bba7-4a3b-c854-b72c591297c1"
      },
      "source": [
        "s"
      ],
      "execution_count": null,
      "outputs": [
        {
          "output_type": "execute_result",
          "data": {
            "text/plain": [
              "0    0\n",
              "1    1\n",
              "2    2\n",
              "3    3\n",
              "4    4\n",
              "dtype: int64"
            ]
          },
          "metadata": {},
          "execution_count": 5
        }
      ]
    },
    {
      "cell_type": "code",
      "metadata": {
        "colab": {
          "base_uri": "https://localhost:8080/"
        },
        "id": "xW14RreEfr1A",
        "outputId": "065a7695-d423-42f8-fb60-1374e4c8b153"
      },
      "source": [
        "s[1:3]"
      ],
      "execution_count": null,
      "outputs": [
        {
          "output_type": "execute_result",
          "data": {
            "text/plain": [
              "1    1\n",
              "2    2\n",
              "dtype: int64"
            ]
          },
          "metadata": {},
          "execution_count": 6
        }
      ]
    },
    {
      "cell_type": "code",
      "metadata": {
        "colab": {
          "base_uri": "https://localhost:8080/"
        },
        "id": "IUUAmCxafwrk",
        "outputId": "fd2a9f2b-121a-47c2-b9e4-e1017b09c429"
      },
      "source": [
        "s.index"
      ],
      "execution_count": null,
      "outputs": [
        {
          "output_type": "execute_result",
          "data": {
            "text/plain": [
              "RangeIndex(start=0, stop=5, step=1)"
            ]
          },
          "metadata": {},
          "execution_count": 7
        }
      ]
    },
    {
      "cell_type": "code",
      "metadata": {
        "id": "n8pqDGaMfza5"
      },
      "source": [
        "s.index = list(\"abcde\")"
      ],
      "execution_count": null,
      "outputs": []
    },
    {
      "cell_type": "code",
      "metadata": {
        "colab": {
          "base_uri": "https://localhost:8080/"
        },
        "id": "kfs_AdKVf3Yr",
        "outputId": "7b839a24-1d55-4d75-e01a-9feebec930c9"
      },
      "source": [
        "s"
      ],
      "execution_count": null,
      "outputs": [
        {
          "output_type": "execute_result",
          "data": {
            "text/plain": [
              "a    0\n",
              "b    1\n",
              "c    2\n",
              "d    3\n",
              "e    4\n",
              "dtype: int64"
            ]
          },
          "metadata": {},
          "execution_count": 9
        }
      ]
    },
    {
      "cell_type": "code",
      "metadata": {
        "colab": {
          "base_uri": "https://localhost:8080/"
        },
        "id": "3SxCP-ecf3zb",
        "outputId": "5027978e-d4b8-4152-9a43-68b2855ccac5"
      },
      "source": [
        "s['b':'d']"
      ],
      "execution_count": null,
      "outputs": [
        {
          "output_type": "execute_result",
          "data": {
            "text/plain": [
              "b    1\n",
              "c    2\n",
              "d    3\n",
              "dtype: int64"
            ]
          },
          "metadata": {},
          "execution_count": 10
        }
      ]
    },
    {
      "cell_type": "code",
      "metadata": {
        "colab": {
          "base_uri": "https://localhost:8080/"
        },
        "id": "gwGKJJPzf8ef",
        "outputId": "0388a21a-d8e2-4591-e1cc-f70418f4a2ad"
      },
      "source": [
        "s['a']"
      ],
      "execution_count": null,
      "outputs": [
        {
          "output_type": "execute_result",
          "data": {
            "text/plain": [
              "0"
            ]
          },
          "metadata": {},
          "execution_count": 11
        }
      ]
    },
    {
      "cell_type": "code",
      "metadata": {
        "colab": {
          "base_uri": "https://localhost:8080/"
        },
        "id": "a5FeQdWTgB8V",
        "outputId": "96b7bf2f-31c8-4e93-e5b9-24c94ba6c646"
      },
      "source": [
        "s['b']"
      ],
      "execution_count": null,
      "outputs": [
        {
          "output_type": "execute_result",
          "data": {
            "text/plain": [
              "1"
            ]
          },
          "metadata": {},
          "execution_count": 12
        }
      ]
    },
    {
      "cell_type": "code",
      "metadata": {
        "id": "qxJm4y-XgC3e"
      },
      "source": [
        "u = pd.Series(list(range(5)), index=list(\"abcde\"))"
      ],
      "execution_count": null,
      "outputs": []
    },
    {
      "cell_type": "code",
      "metadata": {
        "colab": {
          "base_uri": "https://localhost:8080/"
        },
        "id": "r7-UT2eFga00",
        "outputId": "a5464fac-213d-4f6c-8a3a-3f804192a520"
      },
      "source": [
        "u"
      ],
      "execution_count": null,
      "outputs": [
        {
          "output_type": "execute_result",
          "data": {
            "text/plain": [
              "a    0\n",
              "b    1\n",
              "c    2\n",
              "d    3\n",
              "e    4\n",
              "dtype: int64"
            ]
          },
          "metadata": {},
          "execution_count": 14
        }
      ]
    },
    {
      "cell_type": "code",
      "metadata": {
        "colab": {
          "base_uri": "https://localhost:8080/"
        },
        "id": "KOpGfXlngbQI",
        "outputId": "0d6c6585-bc10-4d90-f891-2f2e69be1d1f"
      },
      "source": [
        "s + u"
      ],
      "execution_count": null,
      "outputs": [
        {
          "output_type": "execute_result",
          "data": {
            "text/plain": [
              "a    0\n",
              "b    2\n",
              "c    4\n",
              "d    6\n",
              "e    8\n",
              "dtype: int64"
            ]
          },
          "metadata": {},
          "execution_count": 15
        }
      ]
    },
    {
      "cell_type": "code",
      "metadata": {
        "colab": {
          "base_uri": "https://localhost:8080/"
        },
        "id": "vqXV_qGVgd_t",
        "outputId": "7545e3b6-7f9d-41a7-e2f8-69f114f141a1"
      },
      "source": [
        "s * 2"
      ],
      "execution_count": null,
      "outputs": [
        {
          "output_type": "execute_result",
          "data": {
            "text/plain": [
              "a    0\n",
              "b    2\n",
              "c    4\n",
              "d    6\n",
              "e    8\n",
              "dtype: int64"
            ]
          },
          "metadata": {},
          "execution_count": 16
        }
      ]
    },
    {
      "cell_type": "code",
      "metadata": {
        "colab": {
          "base_uri": "https://localhost:8080/"
        },
        "id": "YyVj7G_Agg1X",
        "outputId": "946ae856-5dc8-412a-9d62-fb175f53ae1c"
      },
      "source": [
        "u.index"
      ],
      "execution_count": null,
      "outputs": [
        {
          "output_type": "execute_result",
          "data": {
            "text/plain": [
              "Index(['a', 'b', 'c', 'd', 'e'], dtype='object')"
            ]
          },
          "metadata": {},
          "execution_count": 17
        }
      ]
    },
    {
      "cell_type": "code",
      "metadata": {
        "id": "3xxDBmWPgn-G"
      },
      "source": [
        "u.index = list(\"bcdef\")"
      ],
      "execution_count": null,
      "outputs": []
    },
    {
      "cell_type": "code",
      "metadata": {
        "colab": {
          "base_uri": "https://localhost:8080/"
        },
        "id": "HvXtKILegq_2",
        "outputId": "febdcc38-dc71-4953-d3ad-1f204fc4c76f"
      },
      "source": [
        "u"
      ],
      "execution_count": null,
      "outputs": [
        {
          "output_type": "execute_result",
          "data": {
            "text/plain": [
              "b    0\n",
              "c    1\n",
              "d    2\n",
              "e    3\n",
              "f    4\n",
              "dtype: int64"
            ]
          },
          "metadata": {},
          "execution_count": 19
        }
      ]
    },
    {
      "cell_type": "code",
      "metadata": {
        "colab": {
          "base_uri": "https://localhost:8080/"
        },
        "id": "Gii4AF2PgrWS",
        "outputId": "ea88a589-cbf6-4ef8-ee6d-f6432ad628a0"
      },
      "source": [
        "s + u"
      ],
      "execution_count": null,
      "outputs": [
        {
          "output_type": "execute_result",
          "data": {
            "text/plain": [
              "a    NaN\n",
              "b    1.0\n",
              "c    3.0\n",
              "d    5.0\n",
              "e    7.0\n",
              "f    NaN\n",
              "dtype: float64"
            ]
          },
          "metadata": {},
          "execution_count": 20
        }
      ]
    },
    {
      "cell_type": "code",
      "metadata": {
        "colab": {
          "base_uri": "https://localhost:8080/"
        },
        "id": "MUwGSI_Qgudc",
        "outputId": "ed084490-3f0b-4a9d-fe1b-90c8b68f1624"
      },
      "source": [
        "s.values"
      ],
      "execution_count": null,
      "outputs": [
        {
          "output_type": "execute_result",
          "data": {
            "text/plain": [
              "array([0, 1, 2, 3, 4])"
            ]
          },
          "metadata": {},
          "execution_count": 21
        }
      ]
    },
    {
      "cell_type": "markdown",
      "metadata": {
        "id": "KKo5jiehi6Ly"
      },
      "source": [
        "## DataFrame"
      ]
    },
    {
      "cell_type": "code",
      "metadata": {
        "id": "Feut6NQchDBH"
      },
      "source": [
        "data = np.random.randn(10, 4)"
      ],
      "execution_count": null,
      "outputs": []
    },
    {
      "cell_type": "code",
      "metadata": {
        "colab": {
          "base_uri": "https://localhost:8080/"
        },
        "id": "qOVvDLCnjHTt",
        "outputId": "5fab241d-c7c4-4441-f677-bc0d311b581f"
      },
      "source": [
        "data"
      ],
      "execution_count": null,
      "outputs": [
        {
          "output_type": "execute_result",
          "data": {
            "text/plain": [
              "array([[ 0.9510657 ,  2.27441728, -0.62676773, -1.79877093],\n",
              "       [-0.72127541,  1.42372831, -0.71240314,  0.59673385],\n",
              "       [-0.92808422, -0.61477643,  0.08852778, -0.09626351],\n",
              "       [-0.7742749 , -1.22824863, -1.21750851,  1.76682109],\n",
              "       [-0.38391735,  0.43373887,  0.12974174,  0.49329735],\n",
              "       [ 0.09347948,  2.03627202, -0.72498155,  0.12121924],\n",
              "       [ 1.17588208, -2.03573032,  1.60859792, -0.4633762 ],\n",
              "       [ 0.05000454,  1.37803583,  0.90290914, -0.87085438],\n",
              "       [-1.07325395, -0.0941949 , -0.18532754,  0.89497072],\n",
              "       [ 1.41939141, -1.45258064, -0.15546741,  1.28051051]])"
            ]
          },
          "metadata": {},
          "execution_count": 23
        }
      ]
    },
    {
      "cell_type": "code",
      "metadata": {
        "colab": {
          "base_uri": "https://localhost:8080/"
        },
        "id": "kLl9MwimjH7-",
        "outputId": "7412718a-891b-4dd9-bf1e-38187c0b5ca0"
      },
      "source": [
        "data[0]"
      ],
      "execution_count": null,
      "outputs": [
        {
          "output_type": "execute_result",
          "data": {
            "text/plain": [
              "array([ 0.9510657 ,  2.27441728, -0.62676773, -1.79877093])"
            ]
          },
          "metadata": {},
          "execution_count": 24
        }
      ]
    },
    {
      "cell_type": "code",
      "metadata": {
        "colab": {
          "base_uri": "https://localhost:8080/"
        },
        "id": "4FwBPD4RjZiA",
        "outputId": "29751e03-9771-4190-9ea3-e9d35adf7102"
      },
      "source": [
        "data[:,0]"
      ],
      "execution_count": null,
      "outputs": [
        {
          "output_type": "execute_result",
          "data": {
            "text/plain": [
              "array([ 0.9510657 , -0.72127541, -0.92808422, -0.7742749 , -0.38391735,\n",
              "        0.09347948,  1.17588208,  0.05000454, -1.07325395,  1.41939141])"
            ]
          },
          "metadata": {},
          "execution_count": 26
        }
      ]
    },
    {
      "cell_type": "code",
      "metadata": {
        "id": "sonE7WYIjf9V"
      },
      "source": [
        "df = pd.DataFrame(data)"
      ],
      "execution_count": null,
      "outputs": []
    },
    {
      "cell_type": "code",
      "metadata": {
        "colab": {
          "base_uri": "https://localhost:8080/",
          "height": 363
        },
        "id": "1xfo7Jihj0vK",
        "outputId": "4acab5de-3b31-48ec-d8bb-0ba65f8db802"
      },
      "source": [
        "df"
      ],
      "execution_count": null,
      "outputs": [
        {
          "output_type": "execute_result",
          "data": {
            "text/html": [
              "<div>\n",
              "<style scoped>\n",
              "    .dataframe tbody tr th:only-of-type {\n",
              "        vertical-align: middle;\n",
              "    }\n",
              "\n",
              "    .dataframe tbody tr th {\n",
              "        vertical-align: top;\n",
              "    }\n",
              "\n",
              "    .dataframe thead th {\n",
              "        text-align: right;\n",
              "    }\n",
              "</style>\n",
              "<table border=\"1\" class=\"dataframe\">\n",
              "  <thead>\n",
              "    <tr style=\"text-align: right;\">\n",
              "      <th></th>\n",
              "      <th>0</th>\n",
              "      <th>1</th>\n",
              "      <th>2</th>\n",
              "      <th>3</th>\n",
              "    </tr>\n",
              "  </thead>\n",
              "  <tbody>\n",
              "    <tr>\n",
              "      <th>0</th>\n",
              "      <td>0.951066</td>\n",
              "      <td>2.274417</td>\n",
              "      <td>-0.626768</td>\n",
              "      <td>-1.798771</td>\n",
              "    </tr>\n",
              "    <tr>\n",
              "      <th>1</th>\n",
              "      <td>-0.721275</td>\n",
              "      <td>1.423728</td>\n",
              "      <td>-0.712403</td>\n",
              "      <td>0.596734</td>\n",
              "    </tr>\n",
              "    <tr>\n",
              "      <th>2</th>\n",
              "      <td>-0.928084</td>\n",
              "      <td>-0.614776</td>\n",
              "      <td>0.088528</td>\n",
              "      <td>-0.096264</td>\n",
              "    </tr>\n",
              "    <tr>\n",
              "      <th>3</th>\n",
              "      <td>-0.774275</td>\n",
              "      <td>-1.228249</td>\n",
              "      <td>-1.217509</td>\n",
              "      <td>1.766821</td>\n",
              "    </tr>\n",
              "    <tr>\n",
              "      <th>4</th>\n",
              "      <td>-0.383917</td>\n",
              "      <td>0.433739</td>\n",
              "      <td>0.129742</td>\n",
              "      <td>0.493297</td>\n",
              "    </tr>\n",
              "    <tr>\n",
              "      <th>5</th>\n",
              "      <td>0.093479</td>\n",
              "      <td>2.036272</td>\n",
              "      <td>-0.724982</td>\n",
              "      <td>0.121219</td>\n",
              "    </tr>\n",
              "    <tr>\n",
              "      <th>6</th>\n",
              "      <td>1.175882</td>\n",
              "      <td>-2.035730</td>\n",
              "      <td>1.608598</td>\n",
              "      <td>-0.463376</td>\n",
              "    </tr>\n",
              "    <tr>\n",
              "      <th>7</th>\n",
              "      <td>0.050005</td>\n",
              "      <td>1.378036</td>\n",
              "      <td>0.902909</td>\n",
              "      <td>-0.870854</td>\n",
              "    </tr>\n",
              "    <tr>\n",
              "      <th>8</th>\n",
              "      <td>-1.073254</td>\n",
              "      <td>-0.094195</td>\n",
              "      <td>-0.185328</td>\n",
              "      <td>0.894971</td>\n",
              "    </tr>\n",
              "    <tr>\n",
              "      <th>9</th>\n",
              "      <td>1.419391</td>\n",
              "      <td>-1.452581</td>\n",
              "      <td>-0.155467</td>\n",
              "      <td>1.280511</td>\n",
              "    </tr>\n",
              "  </tbody>\n",
              "</table>\n",
              "</div>"
            ],
            "text/plain": [
              "          0         1         2         3\n",
              "0  0.951066  2.274417 -0.626768 -1.798771\n",
              "1 -0.721275  1.423728 -0.712403  0.596734\n",
              "2 -0.928084 -0.614776  0.088528 -0.096264\n",
              "3 -0.774275 -1.228249 -1.217509  1.766821\n",
              "4 -0.383917  0.433739  0.129742  0.493297\n",
              "5  0.093479  2.036272 -0.724982  0.121219\n",
              "6  1.175882 -2.035730  1.608598 -0.463376\n",
              "7  0.050005  1.378036  0.902909 -0.870854\n",
              "8 -1.073254 -0.094195 -0.185328  0.894971\n",
              "9  1.419391 -1.452581 -0.155467  1.280511"
            ]
          },
          "metadata": {},
          "execution_count": 28
        }
      ]
    },
    {
      "cell_type": "markdown",
      "metadata": {
        "id": "ygBAMDvHkPVR"
      },
      "source": [
        "### 讀取DataFrame的欄 (Column)"
      ]
    },
    {
      "cell_type": "code",
      "metadata": {
        "colab": {
          "base_uri": "https://localhost:8080/"
        },
        "id": "zt4U0qIJj3dj",
        "outputId": "cb2e7fda-878a-4f1a-cdc9-2a14815f51f7"
      },
      "source": [
        "df[0]"
      ],
      "execution_count": null,
      "outputs": [
        {
          "output_type": "execute_result",
          "data": {
            "text/plain": [
              "0    0.951066\n",
              "1   -0.721275\n",
              "2   -0.928084\n",
              "3   -0.774275\n",
              "4   -0.383917\n",
              "5    0.093479\n",
              "6    1.175882\n",
              "7    0.050005\n",
              "8   -1.073254\n",
              "9    1.419391\n",
              "Name: 0, dtype: float64"
            ]
          },
          "metadata": {},
          "execution_count": 29
        }
      ]
    },
    {
      "cell_type": "code",
      "metadata": {
        "colab": {
          "base_uri": "https://localhost:8080/"
        },
        "id": "xyVyGxePkdup",
        "outputId": "a580ec0a-f310-459d-a86a-15a4b51b8150"
      },
      "source": [
        "type(df[0])"
      ],
      "execution_count": null,
      "outputs": [
        {
          "output_type": "execute_result",
          "data": {
            "text/plain": [
              "pandas.core.series.Series"
            ]
          },
          "metadata": {},
          "execution_count": 30
        }
      ]
    },
    {
      "cell_type": "code",
      "metadata": {
        "colab": {
          "base_uri": "https://localhost:8080/",
          "height": 363
        },
        "id": "TD98fpLOkhAk",
        "outputId": "5930ace9-d18d-4b2d-de44-9bf154689683"
      },
      "source": [
        "# 一次讀兩欄\n",
        "df[[0, 1]]"
      ],
      "execution_count": null,
      "outputs": [
        {
          "output_type": "execute_result",
          "data": {
            "text/html": [
              "<div>\n",
              "<style scoped>\n",
              "    .dataframe tbody tr th:only-of-type {\n",
              "        vertical-align: middle;\n",
              "    }\n",
              "\n",
              "    .dataframe tbody tr th {\n",
              "        vertical-align: top;\n",
              "    }\n",
              "\n",
              "    .dataframe thead th {\n",
              "        text-align: right;\n",
              "    }\n",
              "</style>\n",
              "<table border=\"1\" class=\"dataframe\">\n",
              "  <thead>\n",
              "    <tr style=\"text-align: right;\">\n",
              "      <th></th>\n",
              "      <th>0</th>\n",
              "      <th>1</th>\n",
              "    </tr>\n",
              "  </thead>\n",
              "  <tbody>\n",
              "    <tr>\n",
              "      <th>0</th>\n",
              "      <td>0.951066</td>\n",
              "      <td>2.274417</td>\n",
              "    </tr>\n",
              "    <tr>\n",
              "      <th>1</th>\n",
              "      <td>-0.721275</td>\n",
              "      <td>1.423728</td>\n",
              "    </tr>\n",
              "    <tr>\n",
              "      <th>2</th>\n",
              "      <td>-0.928084</td>\n",
              "      <td>-0.614776</td>\n",
              "    </tr>\n",
              "    <tr>\n",
              "      <th>3</th>\n",
              "      <td>-0.774275</td>\n",
              "      <td>-1.228249</td>\n",
              "    </tr>\n",
              "    <tr>\n",
              "      <th>4</th>\n",
              "      <td>-0.383917</td>\n",
              "      <td>0.433739</td>\n",
              "    </tr>\n",
              "    <tr>\n",
              "      <th>5</th>\n",
              "      <td>0.093479</td>\n",
              "      <td>2.036272</td>\n",
              "    </tr>\n",
              "    <tr>\n",
              "      <th>6</th>\n",
              "      <td>1.175882</td>\n",
              "      <td>-2.035730</td>\n",
              "    </tr>\n",
              "    <tr>\n",
              "      <th>7</th>\n",
              "      <td>0.050005</td>\n",
              "      <td>1.378036</td>\n",
              "    </tr>\n",
              "    <tr>\n",
              "      <th>8</th>\n",
              "      <td>-1.073254</td>\n",
              "      <td>-0.094195</td>\n",
              "    </tr>\n",
              "    <tr>\n",
              "      <th>9</th>\n",
              "      <td>1.419391</td>\n",
              "      <td>-1.452581</td>\n",
              "    </tr>\n",
              "  </tbody>\n",
              "</table>\n",
              "</div>"
            ],
            "text/plain": [
              "          0         1\n",
              "0  0.951066  2.274417\n",
              "1 -0.721275  1.423728\n",
              "2 -0.928084 -0.614776\n",
              "3 -0.774275 -1.228249\n",
              "4 -0.383917  0.433739\n",
              "5  0.093479  2.036272\n",
              "6  1.175882 -2.035730\n",
              "7  0.050005  1.378036\n",
              "8 -1.073254 -0.094195\n",
              "9  1.419391 -1.452581"
            ]
          },
          "metadata": {},
          "execution_count": 31
        }
      ]
    },
    {
      "cell_type": "code",
      "metadata": {
        "colab": {
          "base_uri": "https://localhost:8080/"
        },
        "id": "9yZUvl5SklJa",
        "outputId": "81448394-d5bc-46e5-909a-2b2f1e394b6b"
      },
      "source": [
        "type(df[[0, 1]])"
      ],
      "execution_count": null,
      "outputs": [
        {
          "output_type": "execute_result",
          "data": {
            "text/plain": [
              "pandas.core.frame.DataFrame"
            ]
          },
          "metadata": {},
          "execution_count": 32
        }
      ]
    },
    {
      "cell_type": "code",
      "metadata": {
        "colab": {
          "base_uri": "https://localhost:8080/"
        },
        "id": "51epgimIkp_k",
        "outputId": "aeda1c60-9a38-469e-c647-55c60c9435dc"
      },
      "source": [
        "# 顯示欄位名稱\n",
        "df.columns"
      ],
      "execution_count": null,
      "outputs": [
        {
          "output_type": "execute_result",
          "data": {
            "text/plain": [
              "RangeIndex(start=0, stop=4, step=1)"
            ]
          },
          "metadata": {},
          "execution_count": 33
        }
      ]
    },
    {
      "cell_type": "code",
      "metadata": {
        "id": "r7-DdqPtmBpZ"
      },
      "source": [
        "# 設定欄位名稱\n",
        "df.columns = list(\"abcd\")"
      ],
      "execution_count": null,
      "outputs": []
    },
    {
      "cell_type": "code",
      "metadata": {
        "colab": {
          "base_uri": "https://localhost:8080/",
          "height": 363
        },
        "id": "SxSii_RzmG97",
        "outputId": "259e410c-a7e5-47be-ce67-cf5a1b258a3a"
      },
      "source": [
        "df"
      ],
      "execution_count": null,
      "outputs": [
        {
          "output_type": "execute_result",
          "data": {
            "text/html": [
              "<div>\n",
              "<style scoped>\n",
              "    .dataframe tbody tr th:only-of-type {\n",
              "        vertical-align: middle;\n",
              "    }\n",
              "\n",
              "    .dataframe tbody tr th {\n",
              "        vertical-align: top;\n",
              "    }\n",
              "\n",
              "    .dataframe thead th {\n",
              "        text-align: right;\n",
              "    }\n",
              "</style>\n",
              "<table border=\"1\" class=\"dataframe\">\n",
              "  <thead>\n",
              "    <tr style=\"text-align: right;\">\n",
              "      <th></th>\n",
              "      <th>a</th>\n",
              "      <th>b</th>\n",
              "      <th>c</th>\n",
              "      <th>d</th>\n",
              "    </tr>\n",
              "  </thead>\n",
              "  <tbody>\n",
              "    <tr>\n",
              "      <th>0</th>\n",
              "      <td>0.951066</td>\n",
              "      <td>2.274417</td>\n",
              "      <td>-0.626768</td>\n",
              "      <td>-1.798771</td>\n",
              "    </tr>\n",
              "    <tr>\n",
              "      <th>1</th>\n",
              "      <td>-0.721275</td>\n",
              "      <td>1.423728</td>\n",
              "      <td>-0.712403</td>\n",
              "      <td>0.596734</td>\n",
              "    </tr>\n",
              "    <tr>\n",
              "      <th>2</th>\n",
              "      <td>-0.928084</td>\n",
              "      <td>-0.614776</td>\n",
              "      <td>0.088528</td>\n",
              "      <td>-0.096264</td>\n",
              "    </tr>\n",
              "    <tr>\n",
              "      <th>3</th>\n",
              "      <td>-0.774275</td>\n",
              "      <td>-1.228249</td>\n",
              "      <td>-1.217509</td>\n",
              "      <td>1.766821</td>\n",
              "    </tr>\n",
              "    <tr>\n",
              "      <th>4</th>\n",
              "      <td>-0.383917</td>\n",
              "      <td>0.433739</td>\n",
              "      <td>0.129742</td>\n",
              "      <td>0.493297</td>\n",
              "    </tr>\n",
              "    <tr>\n",
              "      <th>5</th>\n",
              "      <td>0.093479</td>\n",
              "      <td>2.036272</td>\n",
              "      <td>-0.724982</td>\n",
              "      <td>0.121219</td>\n",
              "    </tr>\n",
              "    <tr>\n",
              "      <th>6</th>\n",
              "      <td>1.175882</td>\n",
              "      <td>-2.035730</td>\n",
              "      <td>1.608598</td>\n",
              "      <td>-0.463376</td>\n",
              "    </tr>\n",
              "    <tr>\n",
              "      <th>7</th>\n",
              "      <td>0.050005</td>\n",
              "      <td>1.378036</td>\n",
              "      <td>0.902909</td>\n",
              "      <td>-0.870854</td>\n",
              "    </tr>\n",
              "    <tr>\n",
              "      <th>8</th>\n",
              "      <td>-1.073254</td>\n",
              "      <td>-0.094195</td>\n",
              "      <td>-0.185328</td>\n",
              "      <td>0.894971</td>\n",
              "    </tr>\n",
              "    <tr>\n",
              "      <th>9</th>\n",
              "      <td>1.419391</td>\n",
              "      <td>-1.452581</td>\n",
              "      <td>-0.155467</td>\n",
              "      <td>1.280511</td>\n",
              "    </tr>\n",
              "  </tbody>\n",
              "</table>\n",
              "</div>"
            ],
            "text/plain": [
              "          a         b         c         d\n",
              "0  0.951066  2.274417 -0.626768 -1.798771\n",
              "1 -0.721275  1.423728 -0.712403  0.596734\n",
              "2 -0.928084 -0.614776  0.088528 -0.096264\n",
              "3 -0.774275 -1.228249 -1.217509  1.766821\n",
              "4 -0.383917  0.433739  0.129742  0.493297\n",
              "5  0.093479  2.036272 -0.724982  0.121219\n",
              "6  1.175882 -2.035730  1.608598 -0.463376\n",
              "7  0.050005  1.378036  0.902909 -0.870854\n",
              "8 -1.073254 -0.094195 -0.185328  0.894971\n",
              "9  1.419391 -1.452581 -0.155467  1.280511"
            ]
          },
          "metadata": {},
          "execution_count": 35
        }
      ]
    },
    {
      "cell_type": "code",
      "metadata": {
        "colab": {
          "base_uri": "https://localhost:8080/",
          "height": 363
        },
        "id": "OcBLYulImHgx",
        "outputId": "3165c472-eb4d-4406-d92c-b3c2da4eb6ab"
      },
      "source": [
        "# 讀取a欄跟c欄\n",
        "df[['a','c']]"
      ],
      "execution_count": null,
      "outputs": [
        {
          "output_type": "execute_result",
          "data": {
            "text/html": [
              "<div>\n",
              "<style scoped>\n",
              "    .dataframe tbody tr th:only-of-type {\n",
              "        vertical-align: middle;\n",
              "    }\n",
              "\n",
              "    .dataframe tbody tr th {\n",
              "        vertical-align: top;\n",
              "    }\n",
              "\n",
              "    .dataframe thead th {\n",
              "        text-align: right;\n",
              "    }\n",
              "</style>\n",
              "<table border=\"1\" class=\"dataframe\">\n",
              "  <thead>\n",
              "    <tr style=\"text-align: right;\">\n",
              "      <th></th>\n",
              "      <th>a</th>\n",
              "      <th>c</th>\n",
              "    </tr>\n",
              "  </thead>\n",
              "  <tbody>\n",
              "    <tr>\n",
              "      <th>0</th>\n",
              "      <td>0.951066</td>\n",
              "      <td>-0.626768</td>\n",
              "    </tr>\n",
              "    <tr>\n",
              "      <th>1</th>\n",
              "      <td>-0.721275</td>\n",
              "      <td>-0.712403</td>\n",
              "    </tr>\n",
              "    <tr>\n",
              "      <th>2</th>\n",
              "      <td>-0.928084</td>\n",
              "      <td>0.088528</td>\n",
              "    </tr>\n",
              "    <tr>\n",
              "      <th>3</th>\n",
              "      <td>-0.774275</td>\n",
              "      <td>-1.217509</td>\n",
              "    </tr>\n",
              "    <tr>\n",
              "      <th>4</th>\n",
              "      <td>-0.383917</td>\n",
              "      <td>0.129742</td>\n",
              "    </tr>\n",
              "    <tr>\n",
              "      <th>5</th>\n",
              "      <td>0.093479</td>\n",
              "      <td>-0.724982</td>\n",
              "    </tr>\n",
              "    <tr>\n",
              "      <th>6</th>\n",
              "      <td>1.175882</td>\n",
              "      <td>1.608598</td>\n",
              "    </tr>\n",
              "    <tr>\n",
              "      <th>7</th>\n",
              "      <td>0.050005</td>\n",
              "      <td>0.902909</td>\n",
              "    </tr>\n",
              "    <tr>\n",
              "      <th>8</th>\n",
              "      <td>-1.073254</td>\n",
              "      <td>-0.185328</td>\n",
              "    </tr>\n",
              "    <tr>\n",
              "      <th>9</th>\n",
              "      <td>1.419391</td>\n",
              "      <td>-0.155467</td>\n",
              "    </tr>\n",
              "  </tbody>\n",
              "</table>\n",
              "</div>"
            ],
            "text/plain": [
              "          a         c\n",
              "0  0.951066 -0.626768\n",
              "1 -0.721275 -0.712403\n",
              "2 -0.928084  0.088528\n",
              "3 -0.774275 -1.217509\n",
              "4 -0.383917  0.129742\n",
              "5  0.093479 -0.724982\n",
              "6  1.175882  1.608598\n",
              "7  0.050005  0.902909\n",
              "8 -1.073254 -0.185328\n",
              "9  1.419391 -0.155467"
            ]
          },
          "metadata": {},
          "execution_count": 36
        }
      ]
    },
    {
      "cell_type": "code",
      "metadata": {
        "colab": {
          "base_uri": "https://localhost:8080/"
        },
        "id": "2AncP5T0majq",
        "outputId": "fd9adb2b-fbb8-44cc-9f3c-b1cc131b5a15"
      },
      "source": [
        "# 讀取 d 欄\n",
        "df['d']"
      ],
      "execution_count": null,
      "outputs": [
        {
          "output_type": "execute_result",
          "data": {
            "text/plain": [
              "0   -1.798771\n",
              "1    0.596734\n",
              "2   -0.096264\n",
              "3    1.766821\n",
              "4    0.493297\n",
              "5    0.121219\n",
              "6   -0.463376\n",
              "7   -0.870854\n",
              "8    0.894971\n",
              "9    1.280511\n",
              "Name: d, dtype: float64"
            ]
          },
          "metadata": {},
          "execution_count": 37
        }
      ]
    },
    {
      "cell_type": "markdown",
      "metadata": {
        "id": "hDXVtEm4mmeZ"
      },
      "source": [
        "### 讀取DataFrame的列 (row)\n",
        "\n",
        "* .iloc[ ] ==> 讀取整數 index 的 row\n",
        "* .loc[ ] ==> 讀取非整數 index 的 row"
      ]
    },
    {
      "cell_type": "code",
      "metadata": {
        "colab": {
          "base_uri": "https://localhost:8080/",
          "height": 363
        },
        "id": "oDTDQKetmfvQ",
        "outputId": "396ce082-25ce-4fbf-a0c8-0a73e2931009"
      },
      "source": [
        "df"
      ],
      "execution_count": null,
      "outputs": [
        {
          "output_type": "execute_result",
          "data": {
            "text/html": [
              "<div>\n",
              "<style scoped>\n",
              "    .dataframe tbody tr th:only-of-type {\n",
              "        vertical-align: middle;\n",
              "    }\n",
              "\n",
              "    .dataframe tbody tr th {\n",
              "        vertical-align: top;\n",
              "    }\n",
              "\n",
              "    .dataframe thead th {\n",
              "        text-align: right;\n",
              "    }\n",
              "</style>\n",
              "<table border=\"1\" class=\"dataframe\">\n",
              "  <thead>\n",
              "    <tr style=\"text-align: right;\">\n",
              "      <th></th>\n",
              "      <th>a</th>\n",
              "      <th>b</th>\n",
              "      <th>c</th>\n",
              "      <th>d</th>\n",
              "    </tr>\n",
              "  </thead>\n",
              "  <tbody>\n",
              "    <tr>\n",
              "      <th>0</th>\n",
              "      <td>0.951066</td>\n",
              "      <td>2.274417</td>\n",
              "      <td>-0.626768</td>\n",
              "      <td>-1.798771</td>\n",
              "    </tr>\n",
              "    <tr>\n",
              "      <th>1</th>\n",
              "      <td>-0.721275</td>\n",
              "      <td>1.423728</td>\n",
              "      <td>-0.712403</td>\n",
              "      <td>0.596734</td>\n",
              "    </tr>\n",
              "    <tr>\n",
              "      <th>2</th>\n",
              "      <td>-0.928084</td>\n",
              "      <td>-0.614776</td>\n",
              "      <td>0.088528</td>\n",
              "      <td>-0.096264</td>\n",
              "    </tr>\n",
              "    <tr>\n",
              "      <th>3</th>\n",
              "      <td>-0.774275</td>\n",
              "      <td>-1.228249</td>\n",
              "      <td>-1.217509</td>\n",
              "      <td>1.766821</td>\n",
              "    </tr>\n",
              "    <tr>\n",
              "      <th>4</th>\n",
              "      <td>-0.383917</td>\n",
              "      <td>0.433739</td>\n",
              "      <td>0.129742</td>\n",
              "      <td>0.493297</td>\n",
              "    </tr>\n",
              "    <tr>\n",
              "      <th>5</th>\n",
              "      <td>0.093479</td>\n",
              "      <td>2.036272</td>\n",
              "      <td>-0.724982</td>\n",
              "      <td>0.121219</td>\n",
              "    </tr>\n",
              "    <tr>\n",
              "      <th>6</th>\n",
              "      <td>1.175882</td>\n",
              "      <td>-2.035730</td>\n",
              "      <td>1.608598</td>\n",
              "      <td>-0.463376</td>\n",
              "    </tr>\n",
              "    <tr>\n",
              "      <th>7</th>\n",
              "      <td>0.050005</td>\n",
              "      <td>1.378036</td>\n",
              "      <td>0.902909</td>\n",
              "      <td>-0.870854</td>\n",
              "    </tr>\n",
              "    <tr>\n",
              "      <th>8</th>\n",
              "      <td>-1.073254</td>\n",
              "      <td>-0.094195</td>\n",
              "      <td>-0.185328</td>\n",
              "      <td>0.894971</td>\n",
              "    </tr>\n",
              "    <tr>\n",
              "      <th>9</th>\n",
              "      <td>1.419391</td>\n",
              "      <td>-1.452581</td>\n",
              "      <td>-0.155467</td>\n",
              "      <td>1.280511</td>\n",
              "    </tr>\n",
              "  </tbody>\n",
              "</table>\n",
              "</div>"
            ],
            "text/plain": [
              "          a         b         c         d\n",
              "0  0.951066  2.274417 -0.626768 -1.798771\n",
              "1 -0.721275  1.423728 -0.712403  0.596734\n",
              "2 -0.928084 -0.614776  0.088528 -0.096264\n",
              "3 -0.774275 -1.228249 -1.217509  1.766821\n",
              "4 -0.383917  0.433739  0.129742  0.493297\n",
              "5  0.093479  2.036272 -0.724982  0.121219\n",
              "6  1.175882 -2.035730  1.608598 -0.463376\n",
              "7  0.050005  1.378036  0.902909 -0.870854\n",
              "8 -1.073254 -0.094195 -0.185328  0.894971\n",
              "9  1.419391 -1.452581 -0.155467  1.280511"
            ]
          },
          "metadata": {},
          "execution_count": 38
        }
      ]
    },
    {
      "cell_type": "code",
      "metadata": {
        "colab": {
          "base_uri": "https://localhost:8080/"
        },
        "id": "xaS46s4Vmsce",
        "outputId": "6edc61f9-f52a-46d5-bb1e-ffe21685762d"
      },
      "source": [
        "df.iloc[2]"
      ],
      "execution_count": null,
      "outputs": [
        {
          "output_type": "execute_result",
          "data": {
            "text/plain": [
              "a   -0.928084\n",
              "b   -0.614776\n",
              "c    0.088528\n",
              "d   -0.096264\n",
              "Name: 2, dtype: float64"
            ]
          },
          "metadata": {},
          "execution_count": 39
        }
      ]
    },
    {
      "cell_type": "code",
      "metadata": {
        "colab": {
          "base_uri": "https://localhost:8080/"
        },
        "id": "j3sZboEVmx-n",
        "outputId": "44c2b290-354c-4768-de4c-1336ea5ca8ad"
      },
      "source": [
        "type(df.iloc[2])"
      ],
      "execution_count": null,
      "outputs": [
        {
          "output_type": "execute_result",
          "data": {
            "text/plain": [
              "pandas.core.series.Series"
            ]
          },
          "metadata": {},
          "execution_count": 40
        }
      ]
    },
    {
      "cell_type": "code",
      "metadata": {
        "colab": {
          "base_uri": "https://localhost:8080/"
        },
        "id": "2eDoP9bOm6Sq",
        "outputId": "f69b7df8-92dd-4b7e-ba1c-24e662870bf5"
      },
      "source": [
        "df.iloc[2].index"
      ],
      "execution_count": null,
      "outputs": [
        {
          "output_type": "execute_result",
          "data": {
            "text/plain": [
              "Index(['a', 'b', 'c', 'd'], dtype='object')"
            ]
          },
          "metadata": {},
          "execution_count": 41
        }
      ]
    },
    {
      "cell_type": "code",
      "metadata": {
        "colab": {
          "base_uri": "https://localhost:8080/",
          "height": 112
        },
        "id": "w-5jcxVonB3F",
        "outputId": "c1fff251-4278-48cf-e06e-069df63cdfd1"
      },
      "source": [
        "df.iloc[1:3]"
      ],
      "execution_count": null,
      "outputs": [
        {
          "output_type": "execute_result",
          "data": {
            "text/html": [
              "<div>\n",
              "<style scoped>\n",
              "    .dataframe tbody tr th:only-of-type {\n",
              "        vertical-align: middle;\n",
              "    }\n",
              "\n",
              "    .dataframe tbody tr th {\n",
              "        vertical-align: top;\n",
              "    }\n",
              "\n",
              "    .dataframe thead th {\n",
              "        text-align: right;\n",
              "    }\n",
              "</style>\n",
              "<table border=\"1\" class=\"dataframe\">\n",
              "  <thead>\n",
              "    <tr style=\"text-align: right;\">\n",
              "      <th></th>\n",
              "      <th>a</th>\n",
              "      <th>b</th>\n",
              "      <th>c</th>\n",
              "      <th>d</th>\n",
              "    </tr>\n",
              "  </thead>\n",
              "  <tbody>\n",
              "    <tr>\n",
              "      <th>1</th>\n",
              "      <td>-0.721275</td>\n",
              "      <td>1.423728</td>\n",
              "      <td>-0.712403</td>\n",
              "      <td>0.596734</td>\n",
              "    </tr>\n",
              "    <tr>\n",
              "      <th>2</th>\n",
              "      <td>-0.928084</td>\n",
              "      <td>-0.614776</td>\n",
              "      <td>0.088528</td>\n",
              "      <td>-0.096264</td>\n",
              "    </tr>\n",
              "  </tbody>\n",
              "</table>\n",
              "</div>"
            ],
            "text/plain": [
              "          a         b         c         d\n",
              "1 -0.721275  1.423728 -0.712403  0.596734\n",
              "2 -0.928084 -0.614776  0.088528 -0.096264"
            ]
          },
          "metadata": {},
          "execution_count": 42
        }
      ]
    },
    {
      "cell_type": "code",
      "metadata": {
        "colab": {
          "base_uri": "https://localhost:8080/"
        },
        "id": "dAGeIxgNnHvG",
        "outputId": "4af24127-f2ec-4181-8243-da5dc7eb26c6"
      },
      "source": [
        "df.index"
      ],
      "execution_count": null,
      "outputs": [
        {
          "output_type": "execute_result",
          "data": {
            "text/plain": [
              "RangeIndex(start=0, stop=10, step=1)"
            ]
          },
          "metadata": {},
          "execution_count": 43
        }
      ]
    },
    {
      "cell_type": "code",
      "metadata": {
        "id": "FF-nNJiNnLXT"
      },
      "source": [
        "df.index = list(\"abcdefghij\")"
      ],
      "execution_count": null,
      "outputs": []
    },
    {
      "cell_type": "code",
      "metadata": {
        "colab": {
          "base_uri": "https://localhost:8080/",
          "height": 363
        },
        "id": "ovWZsNZlnSGi",
        "outputId": "9d20d190-7232-4d65-9c42-62819f292cf0"
      },
      "source": [
        "df"
      ],
      "execution_count": null,
      "outputs": [
        {
          "output_type": "execute_result",
          "data": {
            "text/html": [
              "<div>\n",
              "<style scoped>\n",
              "    .dataframe tbody tr th:only-of-type {\n",
              "        vertical-align: middle;\n",
              "    }\n",
              "\n",
              "    .dataframe tbody tr th {\n",
              "        vertical-align: top;\n",
              "    }\n",
              "\n",
              "    .dataframe thead th {\n",
              "        text-align: right;\n",
              "    }\n",
              "</style>\n",
              "<table border=\"1\" class=\"dataframe\">\n",
              "  <thead>\n",
              "    <tr style=\"text-align: right;\">\n",
              "      <th></th>\n",
              "      <th>a</th>\n",
              "      <th>b</th>\n",
              "      <th>c</th>\n",
              "      <th>d</th>\n",
              "    </tr>\n",
              "  </thead>\n",
              "  <tbody>\n",
              "    <tr>\n",
              "      <th>a</th>\n",
              "      <td>0.951066</td>\n",
              "      <td>2.274417</td>\n",
              "      <td>-0.626768</td>\n",
              "      <td>-1.798771</td>\n",
              "    </tr>\n",
              "    <tr>\n",
              "      <th>b</th>\n",
              "      <td>-0.721275</td>\n",
              "      <td>1.423728</td>\n",
              "      <td>-0.712403</td>\n",
              "      <td>0.596734</td>\n",
              "    </tr>\n",
              "    <tr>\n",
              "      <th>c</th>\n",
              "      <td>-0.928084</td>\n",
              "      <td>-0.614776</td>\n",
              "      <td>0.088528</td>\n",
              "      <td>-0.096264</td>\n",
              "    </tr>\n",
              "    <tr>\n",
              "      <th>d</th>\n",
              "      <td>-0.774275</td>\n",
              "      <td>-1.228249</td>\n",
              "      <td>-1.217509</td>\n",
              "      <td>1.766821</td>\n",
              "    </tr>\n",
              "    <tr>\n",
              "      <th>e</th>\n",
              "      <td>-0.383917</td>\n",
              "      <td>0.433739</td>\n",
              "      <td>0.129742</td>\n",
              "      <td>0.493297</td>\n",
              "    </tr>\n",
              "    <tr>\n",
              "      <th>f</th>\n",
              "      <td>0.093479</td>\n",
              "      <td>2.036272</td>\n",
              "      <td>-0.724982</td>\n",
              "      <td>0.121219</td>\n",
              "    </tr>\n",
              "    <tr>\n",
              "      <th>g</th>\n",
              "      <td>1.175882</td>\n",
              "      <td>-2.035730</td>\n",
              "      <td>1.608598</td>\n",
              "      <td>-0.463376</td>\n",
              "    </tr>\n",
              "    <tr>\n",
              "      <th>h</th>\n",
              "      <td>0.050005</td>\n",
              "      <td>1.378036</td>\n",
              "      <td>0.902909</td>\n",
              "      <td>-0.870854</td>\n",
              "    </tr>\n",
              "    <tr>\n",
              "      <th>i</th>\n",
              "      <td>-1.073254</td>\n",
              "      <td>-0.094195</td>\n",
              "      <td>-0.185328</td>\n",
              "      <td>0.894971</td>\n",
              "    </tr>\n",
              "    <tr>\n",
              "      <th>j</th>\n",
              "      <td>1.419391</td>\n",
              "      <td>-1.452581</td>\n",
              "      <td>-0.155467</td>\n",
              "      <td>1.280511</td>\n",
              "    </tr>\n",
              "  </tbody>\n",
              "</table>\n",
              "</div>"
            ],
            "text/plain": [
              "          a         b         c         d\n",
              "a  0.951066  2.274417 -0.626768 -1.798771\n",
              "b -0.721275  1.423728 -0.712403  0.596734\n",
              "c -0.928084 -0.614776  0.088528 -0.096264\n",
              "d -0.774275 -1.228249 -1.217509  1.766821\n",
              "e -0.383917  0.433739  0.129742  0.493297\n",
              "f  0.093479  2.036272 -0.724982  0.121219\n",
              "g  1.175882 -2.035730  1.608598 -0.463376\n",
              "h  0.050005  1.378036  0.902909 -0.870854\n",
              "i -1.073254 -0.094195 -0.185328  0.894971\n",
              "j  1.419391 -1.452581 -0.155467  1.280511"
            ]
          },
          "metadata": {},
          "execution_count": 47
        }
      ]
    },
    {
      "cell_type": "code",
      "metadata": {
        "colab": {
          "base_uri": "https://localhost:8080/",
          "height": 143
        },
        "id": "SMyZhbwOnX0M",
        "outputId": "f706ff75-41f8-47c7-e7aa-5bb5865b54b1"
      },
      "source": [
        "df.loc['b':'d']"
      ],
      "execution_count": null,
      "outputs": [
        {
          "output_type": "execute_result",
          "data": {
            "text/html": [
              "<div>\n",
              "<style scoped>\n",
              "    .dataframe tbody tr th:only-of-type {\n",
              "        vertical-align: middle;\n",
              "    }\n",
              "\n",
              "    .dataframe tbody tr th {\n",
              "        vertical-align: top;\n",
              "    }\n",
              "\n",
              "    .dataframe thead th {\n",
              "        text-align: right;\n",
              "    }\n",
              "</style>\n",
              "<table border=\"1\" class=\"dataframe\">\n",
              "  <thead>\n",
              "    <tr style=\"text-align: right;\">\n",
              "      <th></th>\n",
              "      <th>a</th>\n",
              "      <th>b</th>\n",
              "      <th>c</th>\n",
              "      <th>d</th>\n",
              "    </tr>\n",
              "  </thead>\n",
              "  <tbody>\n",
              "    <tr>\n",
              "      <th>b</th>\n",
              "      <td>-0.721275</td>\n",
              "      <td>1.423728</td>\n",
              "      <td>-0.712403</td>\n",
              "      <td>0.596734</td>\n",
              "    </tr>\n",
              "    <tr>\n",
              "      <th>c</th>\n",
              "      <td>-0.928084</td>\n",
              "      <td>-0.614776</td>\n",
              "      <td>0.088528</td>\n",
              "      <td>-0.096264</td>\n",
              "    </tr>\n",
              "    <tr>\n",
              "      <th>d</th>\n",
              "      <td>-0.774275</td>\n",
              "      <td>-1.228249</td>\n",
              "      <td>-1.217509</td>\n",
              "      <td>1.766821</td>\n",
              "    </tr>\n",
              "  </tbody>\n",
              "</table>\n",
              "</div>"
            ],
            "text/plain": [
              "          a         b         c         d\n",
              "b -0.721275  1.423728 -0.712403  0.596734\n",
              "c -0.928084 -0.614776  0.088528 -0.096264\n",
              "d -0.774275 -1.228249 -1.217509  1.766821"
            ]
          },
          "metadata": {},
          "execution_count": 48
        }
      ]
    },
    {
      "cell_type": "code",
      "metadata": {
        "colab": {
          "base_uri": "https://localhost:8080/",
          "height": 112
        },
        "id": "_rBkKEVEnhrG",
        "outputId": "9ad3494d-b7eb-430f-9292-12c3abeb8dd8"
      },
      "source": [
        "df.iloc[1:3]"
      ],
      "execution_count": null,
      "outputs": [
        {
          "output_type": "execute_result",
          "data": {
            "text/html": [
              "<div>\n",
              "<style scoped>\n",
              "    .dataframe tbody tr th:only-of-type {\n",
              "        vertical-align: middle;\n",
              "    }\n",
              "\n",
              "    .dataframe tbody tr th {\n",
              "        vertical-align: top;\n",
              "    }\n",
              "\n",
              "    .dataframe thead th {\n",
              "        text-align: right;\n",
              "    }\n",
              "</style>\n",
              "<table border=\"1\" class=\"dataframe\">\n",
              "  <thead>\n",
              "    <tr style=\"text-align: right;\">\n",
              "      <th></th>\n",
              "      <th>a</th>\n",
              "      <th>b</th>\n",
              "      <th>c</th>\n",
              "      <th>d</th>\n",
              "    </tr>\n",
              "  </thead>\n",
              "  <tbody>\n",
              "    <tr>\n",
              "      <th>b</th>\n",
              "      <td>-0.721275</td>\n",
              "      <td>1.423728</td>\n",
              "      <td>-0.712403</td>\n",
              "      <td>0.596734</td>\n",
              "    </tr>\n",
              "    <tr>\n",
              "      <th>c</th>\n",
              "      <td>-0.928084</td>\n",
              "      <td>-0.614776</td>\n",
              "      <td>0.088528</td>\n",
              "      <td>-0.096264</td>\n",
              "    </tr>\n",
              "  </tbody>\n",
              "</table>\n",
              "</div>"
            ],
            "text/plain": [
              "          a         b         c         d\n",
              "b -0.721275  1.423728 -0.712403  0.596734\n",
              "c -0.928084 -0.614776  0.088528 -0.096264"
            ]
          },
          "metadata": {},
          "execution_count": 49
        }
      ]
    },
    {
      "cell_type": "markdown",
      "metadata": {
        "id": "LxMaS9DloPtW"
      },
      "source": [
        "### booling index 或 filtering"
      ]
    },
    {
      "cell_type": "code",
      "metadata": {
        "colab": {
          "base_uri": "https://localhost:8080/",
          "height": 206
        },
        "id": "DknfLOFZn77r",
        "outputId": "10d84581-6de8-4bf1-defa-881fa0074f5a"
      },
      "source": [
        "df[df['a']>0]"
      ],
      "execution_count": null,
      "outputs": [
        {
          "output_type": "execute_result",
          "data": {
            "text/html": [
              "<div>\n",
              "<style scoped>\n",
              "    .dataframe tbody tr th:only-of-type {\n",
              "        vertical-align: middle;\n",
              "    }\n",
              "\n",
              "    .dataframe tbody tr th {\n",
              "        vertical-align: top;\n",
              "    }\n",
              "\n",
              "    .dataframe thead th {\n",
              "        text-align: right;\n",
              "    }\n",
              "</style>\n",
              "<table border=\"1\" class=\"dataframe\">\n",
              "  <thead>\n",
              "    <tr style=\"text-align: right;\">\n",
              "      <th></th>\n",
              "      <th>a</th>\n",
              "      <th>b</th>\n",
              "      <th>c</th>\n",
              "      <th>d</th>\n",
              "    </tr>\n",
              "  </thead>\n",
              "  <tbody>\n",
              "    <tr>\n",
              "      <th>a</th>\n",
              "      <td>0.951066</td>\n",
              "      <td>2.274417</td>\n",
              "      <td>-0.626768</td>\n",
              "      <td>-1.798771</td>\n",
              "    </tr>\n",
              "    <tr>\n",
              "      <th>f</th>\n",
              "      <td>0.093479</td>\n",
              "      <td>2.036272</td>\n",
              "      <td>-0.724982</td>\n",
              "      <td>0.121219</td>\n",
              "    </tr>\n",
              "    <tr>\n",
              "      <th>g</th>\n",
              "      <td>1.175882</td>\n",
              "      <td>-2.035730</td>\n",
              "      <td>1.608598</td>\n",
              "      <td>-0.463376</td>\n",
              "    </tr>\n",
              "    <tr>\n",
              "      <th>h</th>\n",
              "      <td>0.050005</td>\n",
              "      <td>1.378036</td>\n",
              "      <td>0.902909</td>\n",
              "      <td>-0.870854</td>\n",
              "    </tr>\n",
              "    <tr>\n",
              "      <th>j</th>\n",
              "      <td>1.419391</td>\n",
              "      <td>-1.452581</td>\n",
              "      <td>-0.155467</td>\n",
              "      <td>1.280511</td>\n",
              "    </tr>\n",
              "  </tbody>\n",
              "</table>\n",
              "</div>"
            ],
            "text/plain": [
              "          a         b         c         d\n",
              "a  0.951066  2.274417 -0.626768 -1.798771\n",
              "f  0.093479  2.036272 -0.724982  0.121219\n",
              "g  1.175882 -2.035730  1.608598 -0.463376\n",
              "h  0.050005  1.378036  0.902909 -0.870854\n",
              "j  1.419391 -1.452581 -0.155467  1.280511"
            ]
          },
          "metadata": {},
          "execution_count": 51
        }
      ]
    },
    {
      "cell_type": "code",
      "metadata": {
        "colab": {
          "base_uri": "https://localhost:8080/",
          "height": 112
        },
        "id": "XujJXjRFoUVh",
        "outputId": "f0a090c8-8a3e-4ec5-d906-8c3707f4b9f6"
      },
      "source": [
        "df[(df['a']>0)&(df['c']>0)]"
      ],
      "execution_count": null,
      "outputs": [
        {
          "output_type": "execute_result",
          "data": {
            "text/html": [
              "<div>\n",
              "<style scoped>\n",
              "    .dataframe tbody tr th:only-of-type {\n",
              "        vertical-align: middle;\n",
              "    }\n",
              "\n",
              "    .dataframe tbody tr th {\n",
              "        vertical-align: top;\n",
              "    }\n",
              "\n",
              "    .dataframe thead th {\n",
              "        text-align: right;\n",
              "    }\n",
              "</style>\n",
              "<table border=\"1\" class=\"dataframe\">\n",
              "  <thead>\n",
              "    <tr style=\"text-align: right;\">\n",
              "      <th></th>\n",
              "      <th>a</th>\n",
              "      <th>b</th>\n",
              "      <th>c</th>\n",
              "      <th>d</th>\n",
              "    </tr>\n",
              "  </thead>\n",
              "  <tbody>\n",
              "    <tr>\n",
              "      <th>g</th>\n",
              "      <td>1.175882</td>\n",
              "      <td>-2.035730</td>\n",
              "      <td>1.608598</td>\n",
              "      <td>-0.463376</td>\n",
              "    </tr>\n",
              "    <tr>\n",
              "      <th>h</th>\n",
              "      <td>0.050005</td>\n",
              "      <td>1.378036</td>\n",
              "      <td>0.902909</td>\n",
              "      <td>-0.870854</td>\n",
              "    </tr>\n",
              "  </tbody>\n",
              "</table>\n",
              "</div>"
            ],
            "text/plain": [
              "          a         b         c         d\n",
              "g  1.175882 -2.035730  1.608598 -0.463376\n",
              "h  0.050005  1.378036  0.902909 -0.870854"
            ]
          },
          "metadata": {},
          "execution_count": 52
        }
      ]
    },
    {
      "cell_type": "code",
      "metadata": {
        "id": "oSg4j7XiopRp"
      },
      "source": [
        ""
      ],
      "execution_count": null,
      "outputs": []
    },
    {
      "cell_type": "markdown",
      "metadata": {
        "id": "pObxAD7CtWWM"
      },
      "source": [
        "### 綜合練習一\n",
        "\n",
        "1. 隨機產生一個跟學生成績相關的 DataFrame。\n",
        "2. 找出特定科目都及格的學生名單。"
      ]
    },
    {
      "cell_type": "code",
      "metadata": {
        "id": "bPVtZFKtvYgG"
      },
      "source": [
        "import numpy as np\n",
        "import pandas as pd"
      ],
      "execution_count": null,
      "outputs": []
    },
    {
      "cell_type": "code",
      "metadata": {
        "id": "k_Cgva1wtiYi"
      },
      "source": [
        "# 隨機的找一些名字來用\n",
        "url = \"https://www.pmi.org.tw/?p=5361\"\n",
        "dfs = pd.read_html(url)"
      ],
      "execution_count": null,
      "outputs": []
    },
    {
      "cell_type": "code",
      "metadata": {
        "colab": {
          "base_uri": "https://localhost:8080/",
          "height": 361
        },
        "id": "dnZMllcguT8R",
        "outputId": "931b4776-9623-4360-8cae-34c83e699c60"
      },
      "source": [
        "dfs[1]"
      ],
      "execution_count": null,
      "outputs": [
        {
          "output_type": "execute_result",
          "data": {
            "text/html": [
              "<div>\n",
              "<style scoped>\n",
              "    .dataframe tbody tr th:only-of-type {\n",
              "        vertical-align: middle;\n",
              "    }\n",
              "\n",
              "    .dataframe tbody tr th {\n",
              "        vertical-align: top;\n",
              "    }\n",
              "\n",
              "    .dataframe thead th {\n",
              "        text-align: right;\n",
              "    }\n",
              "</style>\n",
              "<table border=\"1\" class=\"dataframe\">\n",
              "  <thead>\n",
              "    <tr style=\"text-align: right;\">\n",
              "      <th></th>\n",
              "      <th>專案經理人姓名</th>\n",
              "      <th>參賽單位名稱</th>\n",
              "      <th>獎項</th>\n",
              "    </tr>\n",
              "  </thead>\n",
              "  <tbody>\n",
              "    <tr>\n",
              "      <th>0</th>\n",
              "      <td>呂炯明</td>\n",
              "      <td>資拓宏宇國際股份有限公司</td>\n",
              "      <td>十專獎</td>\n",
              "    </tr>\n",
              "    <tr>\n",
              "      <th>1</th>\n",
              "      <td>李得元</td>\n",
              "      <td>嘉南藥理大學</td>\n",
              "      <td>十專獎</td>\n",
              "    </tr>\n",
              "    <tr>\n",
              "      <th>2</th>\n",
              "      <td>林慶和</td>\n",
              "      <td>中華電信股份有限公司臺灣南區電信分公司</td>\n",
              "      <td>十專獎</td>\n",
              "    </tr>\n",
              "    <tr>\n",
              "      <th>3</th>\n",
              "      <td>侯里智</td>\n",
              "      <td>香港商聯寶電腦有限公司台灣分公司</td>\n",
              "      <td>十專獎</td>\n",
              "    </tr>\n",
              "    <tr>\n",
              "      <th>4</th>\n",
              "      <td>莊信慧</td>\n",
              "      <td>中華開發金融控股公司</td>\n",
              "      <td>十專獎</td>\n",
              "    </tr>\n",
              "    <tr>\n",
              "      <th>5</th>\n",
              "      <td>郭慶輝</td>\n",
              "      <td>樂高渥克公關廣告活動有限公司</td>\n",
              "      <td>十專獎</td>\n",
              "    </tr>\n",
              "    <tr>\n",
              "      <th>6</th>\n",
              "      <td>陳協良</td>\n",
              "      <td>台灣世曦工程顧問股份有限公司</td>\n",
              "      <td>十專獎</td>\n",
              "    </tr>\n",
              "    <tr>\n",
              "      <th>7</th>\n",
              "      <td>黃俊銘</td>\n",
              "      <td>行政院環境保護署環境監測及資訊處</td>\n",
              "      <td>十專獎</td>\n",
              "    </tr>\n",
              "    <tr>\n",
              "      <th>8</th>\n",
              "      <td>黃遠鵬</td>\n",
              "      <td>麗寶大數據股份有限公司</td>\n",
              "      <td>十專獎</td>\n",
              "    </tr>\n",
              "    <tr>\n",
              "      <th>9</th>\n",
              "      <td>蔡昆男</td>\n",
              "      <td>致伸科技股份有限公司</td>\n",
              "      <td>十專獎</td>\n",
              "    </tr>\n",
              "  </tbody>\n",
              "</table>\n",
              "</div>"
            ],
            "text/plain": [
              "  專案經理人姓名               參賽單位名稱   獎項\n",
              "0     呂炯明         資拓宏宇國際股份有限公司  十專獎\n",
              "1     李得元               嘉南藥理大學  十專獎\n",
              "2     林慶和  中華電信股份有限公司臺灣南區電信分公司  十專獎\n",
              "3     侯里智     香港商聯寶電腦有限公司台灣分公司  十專獎\n",
              "4     莊信慧           中華開發金融控股公司  十專獎\n",
              "5     郭慶輝       樂高渥克公關廣告活動有限公司  十專獎\n",
              "6     陳協良       台灣世曦工程顧問股份有限公司  十專獎\n",
              "7     黃俊銘     行政院環境保護署環境監測及資訊處  十專獎\n",
              "8     黃遠鵬          麗寶大數據股份有限公司  十專獎\n",
              "9     蔡昆男           致伸科技股份有限公司  十專獎"
            ]
          },
          "metadata": {},
          "execution_count": 2
        }
      ]
    },
    {
      "cell_type": "code",
      "metadata": {
        "colab": {
          "base_uri": "https://localhost:8080/"
        },
        "id": "Ao154z6tuXad",
        "outputId": "89073038-6fb9-415f-b895-0edce8bfdb64"
      },
      "source": [
        "dfs[1]['專案經理人姓名']"
      ],
      "execution_count": null,
      "outputs": [
        {
          "output_type": "execute_result",
          "data": {
            "text/plain": [
              "0    呂炯明\n",
              "1    李得元\n",
              "2    林慶和\n",
              "3    侯里智\n",
              "4    莊信慧\n",
              "5    郭慶輝\n",
              "6    陳協良\n",
              "7    黃俊銘\n",
              "8    黃遠鵬\n",
              "9    蔡昆男\n",
              "Name: 專案經理人姓名, dtype: object"
            ]
          },
          "metadata": {},
          "execution_count": 3
        }
      ]
    },
    {
      "cell_type": "code",
      "metadata": {
        "id": "487zKgllvVR1"
      },
      "source": [
        "data = np.random.randint(40, 100, (10, 4))"
      ],
      "execution_count": null,
      "outputs": []
    },
    {
      "cell_type": "code",
      "metadata": {
        "colab": {
          "base_uri": "https://localhost:8080/"
        },
        "id": "_rQ7YCIevjPN",
        "outputId": "69db13d2-00ae-4215-bba9-737c6d36902b"
      },
      "source": [
        "data"
      ],
      "execution_count": null,
      "outputs": [
        {
          "output_type": "execute_result",
          "data": {
            "text/plain": [
              "array([[96, 69, 48, 50],\n",
              "       [43, 70, 96, 96],\n",
              "       [40, 52, 57, 95],\n",
              "       [56, 61, 68, 52],\n",
              "       [82, 45, 87, 88],\n",
              "       [58, 71, 98, 48],\n",
              "       [56, 52, 92, 92],\n",
              "       [40, 71, 49, 43],\n",
              "       [59, 68, 45, 45],\n",
              "       [44, 47, 65, 84]])"
            ]
          },
          "metadata": {},
          "execution_count": 7
        }
      ]
    },
    {
      "cell_type": "code",
      "metadata": {
        "id": "eKxrUqT7vyfg"
      },
      "source": [
        "df = pd.DataFrame(data, index=dfs[1]['專案經理人姓名'], columns=['國文','英文','數學','理化'])"
      ],
      "execution_count": null,
      "outputs": []
    },
    {
      "cell_type": "code",
      "metadata": {
        "colab": {
          "base_uri": "https://localhost:8080/",
          "height": 392
        },
        "id": "Oc0i0D6XwJQK",
        "outputId": "486b8a9b-b249-4c98-e17f-5685a5c6f41b"
      },
      "source": [
        "df"
      ],
      "execution_count": null,
      "outputs": [
        {
          "output_type": "execute_result",
          "data": {
            "text/html": [
              "<div>\n",
              "<style scoped>\n",
              "    .dataframe tbody tr th:only-of-type {\n",
              "        vertical-align: middle;\n",
              "    }\n",
              "\n",
              "    .dataframe tbody tr th {\n",
              "        vertical-align: top;\n",
              "    }\n",
              "\n",
              "    .dataframe thead th {\n",
              "        text-align: right;\n",
              "    }\n",
              "</style>\n",
              "<table border=\"1\" class=\"dataframe\">\n",
              "  <thead>\n",
              "    <tr style=\"text-align: right;\">\n",
              "      <th></th>\n",
              "      <th>國文</th>\n",
              "      <th>英文</th>\n",
              "      <th>數學</th>\n",
              "      <th>理化</th>\n",
              "    </tr>\n",
              "    <tr>\n",
              "      <th>專案經理人姓名</th>\n",
              "      <th></th>\n",
              "      <th></th>\n",
              "      <th></th>\n",
              "      <th></th>\n",
              "    </tr>\n",
              "  </thead>\n",
              "  <tbody>\n",
              "    <tr>\n",
              "      <th>呂炯明</th>\n",
              "      <td>96</td>\n",
              "      <td>69</td>\n",
              "      <td>48</td>\n",
              "      <td>50</td>\n",
              "    </tr>\n",
              "    <tr>\n",
              "      <th>李得元</th>\n",
              "      <td>43</td>\n",
              "      <td>70</td>\n",
              "      <td>96</td>\n",
              "      <td>96</td>\n",
              "    </tr>\n",
              "    <tr>\n",
              "      <th>林慶和</th>\n",
              "      <td>40</td>\n",
              "      <td>52</td>\n",
              "      <td>57</td>\n",
              "      <td>95</td>\n",
              "    </tr>\n",
              "    <tr>\n",
              "      <th>侯里智</th>\n",
              "      <td>56</td>\n",
              "      <td>61</td>\n",
              "      <td>68</td>\n",
              "      <td>52</td>\n",
              "    </tr>\n",
              "    <tr>\n",
              "      <th>莊信慧</th>\n",
              "      <td>82</td>\n",
              "      <td>45</td>\n",
              "      <td>87</td>\n",
              "      <td>88</td>\n",
              "    </tr>\n",
              "    <tr>\n",
              "      <th>郭慶輝</th>\n",
              "      <td>58</td>\n",
              "      <td>71</td>\n",
              "      <td>98</td>\n",
              "      <td>48</td>\n",
              "    </tr>\n",
              "    <tr>\n",
              "      <th>陳協良</th>\n",
              "      <td>56</td>\n",
              "      <td>52</td>\n",
              "      <td>92</td>\n",
              "      <td>92</td>\n",
              "    </tr>\n",
              "    <tr>\n",
              "      <th>黃俊銘</th>\n",
              "      <td>40</td>\n",
              "      <td>71</td>\n",
              "      <td>49</td>\n",
              "      <td>43</td>\n",
              "    </tr>\n",
              "    <tr>\n",
              "      <th>黃遠鵬</th>\n",
              "      <td>59</td>\n",
              "      <td>68</td>\n",
              "      <td>45</td>\n",
              "      <td>45</td>\n",
              "    </tr>\n",
              "    <tr>\n",
              "      <th>蔡昆男</th>\n",
              "      <td>44</td>\n",
              "      <td>47</td>\n",
              "      <td>65</td>\n",
              "      <td>84</td>\n",
              "    </tr>\n",
              "  </tbody>\n",
              "</table>\n",
              "</div>"
            ],
            "text/plain": [
              "         國文  英文  數學  理化\n",
              "專案經理人姓名                \n",
              "呂炯明      96  69  48  50\n",
              "李得元      43  70  96  96\n",
              "林慶和      40  52  57  95\n",
              "侯里智      56  61  68  52\n",
              "莊信慧      82  45  87  88\n",
              "郭慶輝      58  71  98  48\n",
              "陳協良      56  52  92  92\n",
              "黃俊銘      40  71  49  43\n",
              "黃遠鵬      59  68  45  45\n",
              "蔡昆男      44  47  65  84"
            ]
          },
          "metadata": {},
          "execution_count": 9
        }
      ]
    },
    {
      "cell_type": "code",
      "metadata": {
        "id": "H5eUhMKkwJ1P"
      },
      "source": [
        "df.columns.name = \"科目名稱\""
      ],
      "execution_count": null,
      "outputs": []
    },
    {
      "cell_type": "code",
      "metadata": {
        "id": "gkV1nqwhx8TZ"
      },
      "source": [
        "df.index.name = \"學生姓名\""
      ],
      "execution_count": null,
      "outputs": []
    },
    {
      "cell_type": "code",
      "metadata": {
        "colab": {
          "base_uri": "https://localhost:8080/",
          "height": 392
        },
        "id": "is_jaLboySXF",
        "outputId": "a07cf895-0d7a-4535-cd70-bb87fc7a0244"
      },
      "source": [
        "df"
      ],
      "execution_count": null,
      "outputs": [
        {
          "output_type": "execute_result",
          "data": {
            "text/html": [
              "<div>\n",
              "<style scoped>\n",
              "    .dataframe tbody tr th:only-of-type {\n",
              "        vertical-align: middle;\n",
              "    }\n",
              "\n",
              "    .dataframe tbody tr th {\n",
              "        vertical-align: top;\n",
              "    }\n",
              "\n",
              "    .dataframe thead th {\n",
              "        text-align: right;\n",
              "    }\n",
              "</style>\n",
              "<table border=\"1\" class=\"dataframe\">\n",
              "  <thead>\n",
              "    <tr style=\"text-align: right;\">\n",
              "      <th>科目名稱</th>\n",
              "      <th>國文</th>\n",
              "      <th>英文</th>\n",
              "      <th>數學</th>\n",
              "      <th>理化</th>\n",
              "    </tr>\n",
              "    <tr>\n",
              "      <th>學生姓名</th>\n",
              "      <th></th>\n",
              "      <th></th>\n",
              "      <th></th>\n",
              "      <th></th>\n",
              "    </tr>\n",
              "  </thead>\n",
              "  <tbody>\n",
              "    <tr>\n",
              "      <th>呂炯明</th>\n",
              "      <td>96</td>\n",
              "      <td>69</td>\n",
              "      <td>48</td>\n",
              "      <td>50</td>\n",
              "    </tr>\n",
              "    <tr>\n",
              "      <th>李得元</th>\n",
              "      <td>43</td>\n",
              "      <td>70</td>\n",
              "      <td>96</td>\n",
              "      <td>96</td>\n",
              "    </tr>\n",
              "    <tr>\n",
              "      <th>林慶和</th>\n",
              "      <td>40</td>\n",
              "      <td>52</td>\n",
              "      <td>57</td>\n",
              "      <td>95</td>\n",
              "    </tr>\n",
              "    <tr>\n",
              "      <th>侯里智</th>\n",
              "      <td>56</td>\n",
              "      <td>61</td>\n",
              "      <td>68</td>\n",
              "      <td>52</td>\n",
              "    </tr>\n",
              "    <tr>\n",
              "      <th>莊信慧</th>\n",
              "      <td>82</td>\n",
              "      <td>45</td>\n",
              "      <td>87</td>\n",
              "      <td>88</td>\n",
              "    </tr>\n",
              "    <tr>\n",
              "      <th>郭慶輝</th>\n",
              "      <td>58</td>\n",
              "      <td>71</td>\n",
              "      <td>98</td>\n",
              "      <td>48</td>\n",
              "    </tr>\n",
              "    <tr>\n",
              "      <th>陳協良</th>\n",
              "      <td>56</td>\n",
              "      <td>52</td>\n",
              "      <td>92</td>\n",
              "      <td>92</td>\n",
              "    </tr>\n",
              "    <tr>\n",
              "      <th>黃俊銘</th>\n",
              "      <td>40</td>\n",
              "      <td>71</td>\n",
              "      <td>49</td>\n",
              "      <td>43</td>\n",
              "    </tr>\n",
              "    <tr>\n",
              "      <th>黃遠鵬</th>\n",
              "      <td>59</td>\n",
              "      <td>68</td>\n",
              "      <td>45</td>\n",
              "      <td>45</td>\n",
              "    </tr>\n",
              "    <tr>\n",
              "      <th>蔡昆男</th>\n",
              "      <td>44</td>\n",
              "      <td>47</td>\n",
              "      <td>65</td>\n",
              "      <td>84</td>\n",
              "    </tr>\n",
              "  </tbody>\n",
              "</table>\n",
              "</div>"
            ],
            "text/plain": [
              "科目名稱  國文  英文  數學  理化\n",
              "學生姓名                \n",
              "呂炯明   96  69  48  50\n",
              "李得元   43  70  96  96\n",
              "林慶和   40  52  57  95\n",
              "侯里智   56  61  68  52\n",
              "莊信慧   82  45  87  88\n",
              "郭慶輝   58  71  98  48\n",
              "陳協良   56  52  92  92\n",
              "黃俊銘   40  71  49  43\n",
              "黃遠鵬   59  68  45  45\n",
              "蔡昆男   44  47  65  84"
            ]
          },
          "metadata": {},
          "execution_count": 16
        }
      ]
    },
    {
      "cell_type": "code",
      "metadata": {
        "colab": {
          "base_uri": "https://localhost:8080/"
        },
        "id": "9sn_dmKeyTBu",
        "outputId": "d01c7f7d-499d-4cf7-8683-186a853f579d"
      },
      "source": [
        "df['國文']"
      ],
      "execution_count": null,
      "outputs": [
        {
          "output_type": "execute_result",
          "data": {
            "text/plain": [
              "學生姓名\n",
              "呂炯明    96\n",
              "李得元    43\n",
              "林慶和    40\n",
              "侯里智    56\n",
              "莊信慧    82\n",
              "郭慶輝    58\n",
              "陳協良    56\n",
              "黃俊銘    40\n",
              "黃遠鵬    59\n",
              "蔡昆男    44\n",
              "Name: 國文, dtype: int64"
            ]
          },
          "metadata": {},
          "execution_count": 17
        }
      ]
    },
    {
      "cell_type": "code",
      "metadata": {
        "colab": {
          "base_uri": "https://localhost:8080/"
        },
        "id": "4ewloe3vytqZ",
        "outputId": "11c306d8-d8ff-482f-92c0-79b9d54a9de8"
      },
      "source": [
        "df['國文'] >= 60"
      ],
      "execution_count": null,
      "outputs": [
        {
          "output_type": "execute_result",
          "data": {
            "text/plain": [
              "學生姓名\n",
              "呂炯明     True\n",
              "李得元    False\n",
              "林慶和    False\n",
              "侯里智    False\n",
              "莊信慧     True\n",
              "郭慶輝    False\n",
              "陳協良    False\n",
              "黃俊銘    False\n",
              "黃遠鵬    False\n",
              "蔡昆男    False\n",
              "Name: 國文, dtype: bool"
            ]
          },
          "metadata": {},
          "execution_count": 20
        }
      ]
    },
    {
      "cell_type": "code",
      "metadata": {
        "colab": {
          "base_uri": "https://localhost:8080/",
          "height": 143
        },
        "id": "hRbvQVY3yzev",
        "outputId": "97d99eba-bd2e-492d-d57f-ea01600793d1"
      },
      "source": [
        "# 列出國文及格的學生資料\n",
        "df[df['國文'] >= 60]"
      ],
      "execution_count": null,
      "outputs": [
        {
          "output_type": "execute_result",
          "data": {
            "text/html": [
              "<div>\n",
              "<style scoped>\n",
              "    .dataframe tbody tr th:only-of-type {\n",
              "        vertical-align: middle;\n",
              "    }\n",
              "\n",
              "    .dataframe tbody tr th {\n",
              "        vertical-align: top;\n",
              "    }\n",
              "\n",
              "    .dataframe thead th {\n",
              "        text-align: right;\n",
              "    }\n",
              "</style>\n",
              "<table border=\"1\" class=\"dataframe\">\n",
              "  <thead>\n",
              "    <tr style=\"text-align: right;\">\n",
              "      <th>科目名稱</th>\n",
              "      <th>國文</th>\n",
              "      <th>英文</th>\n",
              "      <th>數學</th>\n",
              "      <th>理化</th>\n",
              "    </tr>\n",
              "    <tr>\n",
              "      <th>學生姓名</th>\n",
              "      <th></th>\n",
              "      <th></th>\n",
              "      <th></th>\n",
              "      <th></th>\n",
              "    </tr>\n",
              "  </thead>\n",
              "  <tbody>\n",
              "    <tr>\n",
              "      <th>呂炯明</th>\n",
              "      <td>96</td>\n",
              "      <td>69</td>\n",
              "      <td>48</td>\n",
              "      <td>50</td>\n",
              "    </tr>\n",
              "    <tr>\n",
              "      <th>莊信慧</th>\n",
              "      <td>82</td>\n",
              "      <td>45</td>\n",
              "      <td>87</td>\n",
              "      <td>88</td>\n",
              "    </tr>\n",
              "  </tbody>\n",
              "</table>\n",
              "</div>"
            ],
            "text/plain": [
              "科目名稱  國文  英文  數學  理化\n",
              "學生姓名                \n",
              "呂炯明   96  69  48  50\n",
              "莊信慧   82  45  87  88"
            ]
          },
          "metadata": {},
          "execution_count": 21
        }
      ]
    },
    {
      "cell_type": "code",
      "metadata": {
        "colab": {
          "base_uri": "https://localhost:8080/",
          "height": 330
        },
        "id": "nIdsOtlC0gJr",
        "outputId": "eb669cd8-0703-4218-908b-a59a217fa149"
      },
      "source": [
        "# 列出國文不及格的學生資料\n",
        "df[df['國文'] < 60]"
      ],
      "execution_count": null,
      "outputs": [
        {
          "output_type": "execute_result",
          "data": {
            "text/html": [
              "<div>\n",
              "<style scoped>\n",
              "    .dataframe tbody tr th:only-of-type {\n",
              "        vertical-align: middle;\n",
              "    }\n",
              "\n",
              "    .dataframe tbody tr th {\n",
              "        vertical-align: top;\n",
              "    }\n",
              "\n",
              "    .dataframe thead th {\n",
              "        text-align: right;\n",
              "    }\n",
              "</style>\n",
              "<table border=\"1\" class=\"dataframe\">\n",
              "  <thead>\n",
              "    <tr style=\"text-align: right;\">\n",
              "      <th>科目名稱</th>\n",
              "      <th>國文</th>\n",
              "      <th>英文</th>\n",
              "      <th>數學</th>\n",
              "      <th>理化</th>\n",
              "    </tr>\n",
              "    <tr>\n",
              "      <th>學生姓名</th>\n",
              "      <th></th>\n",
              "      <th></th>\n",
              "      <th></th>\n",
              "      <th></th>\n",
              "    </tr>\n",
              "  </thead>\n",
              "  <tbody>\n",
              "    <tr>\n",
              "      <th>李得元</th>\n",
              "      <td>43</td>\n",
              "      <td>70</td>\n",
              "      <td>96</td>\n",
              "      <td>96</td>\n",
              "    </tr>\n",
              "    <tr>\n",
              "      <th>林慶和</th>\n",
              "      <td>40</td>\n",
              "      <td>52</td>\n",
              "      <td>57</td>\n",
              "      <td>95</td>\n",
              "    </tr>\n",
              "    <tr>\n",
              "      <th>侯里智</th>\n",
              "      <td>56</td>\n",
              "      <td>61</td>\n",
              "      <td>68</td>\n",
              "      <td>52</td>\n",
              "    </tr>\n",
              "    <tr>\n",
              "      <th>郭慶輝</th>\n",
              "      <td>58</td>\n",
              "      <td>71</td>\n",
              "      <td>98</td>\n",
              "      <td>48</td>\n",
              "    </tr>\n",
              "    <tr>\n",
              "      <th>陳協良</th>\n",
              "      <td>56</td>\n",
              "      <td>52</td>\n",
              "      <td>92</td>\n",
              "      <td>92</td>\n",
              "    </tr>\n",
              "    <tr>\n",
              "      <th>黃俊銘</th>\n",
              "      <td>40</td>\n",
              "      <td>71</td>\n",
              "      <td>49</td>\n",
              "      <td>43</td>\n",
              "    </tr>\n",
              "    <tr>\n",
              "      <th>黃遠鵬</th>\n",
              "      <td>59</td>\n",
              "      <td>68</td>\n",
              "      <td>45</td>\n",
              "      <td>45</td>\n",
              "    </tr>\n",
              "    <tr>\n",
              "      <th>蔡昆男</th>\n",
              "      <td>44</td>\n",
              "      <td>47</td>\n",
              "      <td>65</td>\n",
              "      <td>84</td>\n",
              "    </tr>\n",
              "  </tbody>\n",
              "</table>\n",
              "</div>"
            ],
            "text/plain": [
              "科目名稱  國文  英文  數學  理化\n",
              "學生姓名                \n",
              "李得元   43  70  96  96\n",
              "林慶和   40  52  57  95\n",
              "侯里智   56  61  68  52\n",
              "郭慶輝   58  71  98  48\n",
              "陳協良   56  52  92  92\n",
              "黃俊銘   40  71  49  43\n",
              "黃遠鵬   59  68  45  45\n",
              "蔡昆男   44  47  65  84"
            ]
          },
          "metadata": {},
          "execution_count": 22
        }
      ]
    },
    {
      "cell_type": "code",
      "metadata": {
        "colab": {
          "base_uri": "https://localhost:8080/",
          "height": 205
        },
        "id": "QW4fmaQW0pDU",
        "outputId": "528a7ff7-76b9-4f87-88f3-1cde3298b6af"
      },
      "source": [
        "# 列出數學不及格的學生資料\n",
        "df[df['數學'] < 60]"
      ],
      "execution_count": null,
      "outputs": [
        {
          "output_type": "execute_result",
          "data": {
            "text/html": [
              "<div>\n",
              "<style scoped>\n",
              "    .dataframe tbody tr th:only-of-type {\n",
              "        vertical-align: middle;\n",
              "    }\n",
              "\n",
              "    .dataframe tbody tr th {\n",
              "        vertical-align: top;\n",
              "    }\n",
              "\n",
              "    .dataframe thead th {\n",
              "        text-align: right;\n",
              "    }\n",
              "</style>\n",
              "<table border=\"1\" class=\"dataframe\">\n",
              "  <thead>\n",
              "    <tr style=\"text-align: right;\">\n",
              "      <th>科目名稱</th>\n",
              "      <th>國文</th>\n",
              "      <th>英文</th>\n",
              "      <th>數學</th>\n",
              "      <th>理化</th>\n",
              "    </tr>\n",
              "    <tr>\n",
              "      <th>學生姓名</th>\n",
              "      <th></th>\n",
              "      <th></th>\n",
              "      <th></th>\n",
              "      <th></th>\n",
              "    </tr>\n",
              "  </thead>\n",
              "  <tbody>\n",
              "    <tr>\n",
              "      <th>呂炯明</th>\n",
              "      <td>96</td>\n",
              "      <td>69</td>\n",
              "      <td>48</td>\n",
              "      <td>50</td>\n",
              "    </tr>\n",
              "    <tr>\n",
              "      <th>林慶和</th>\n",
              "      <td>40</td>\n",
              "      <td>52</td>\n",
              "      <td>57</td>\n",
              "      <td>95</td>\n",
              "    </tr>\n",
              "    <tr>\n",
              "      <th>黃俊銘</th>\n",
              "      <td>40</td>\n",
              "      <td>71</td>\n",
              "      <td>49</td>\n",
              "      <td>43</td>\n",
              "    </tr>\n",
              "    <tr>\n",
              "      <th>黃遠鵬</th>\n",
              "      <td>59</td>\n",
              "      <td>68</td>\n",
              "      <td>45</td>\n",
              "      <td>45</td>\n",
              "    </tr>\n",
              "  </tbody>\n",
              "</table>\n",
              "</div>"
            ],
            "text/plain": [
              "科目名稱  國文  英文  數學  理化\n",
              "學生姓名                \n",
              "呂炯明   96  69  48  50\n",
              "林慶和   40  52  57  95\n",
              "黃俊銘   40  71  49  43\n",
              "黃遠鵬   59  68  45  45"
            ]
          },
          "metadata": {},
          "execution_count": 23
        }
      ]
    },
    {
      "cell_type": "code",
      "metadata": {
        "colab": {
          "base_uri": "https://localhost:8080/",
          "height": 174
        },
        "id": "COYpoevay88H",
        "outputId": "8d8e06f5-0b50-42ba-e0c1-c7865b766f92"
      },
      "source": [
        "# 用 | (or) 或 & (and) 來串接多個條件\n",
        "# 列出國文跟數學都不及格的學生資料\n",
        "df[(df['國文'] < 60)&(df['數學'] < 60)]"
      ],
      "execution_count": null,
      "outputs": [
        {
          "output_type": "execute_result",
          "data": {
            "text/html": [
              "<div>\n",
              "<style scoped>\n",
              "    .dataframe tbody tr th:only-of-type {\n",
              "        vertical-align: middle;\n",
              "    }\n",
              "\n",
              "    .dataframe tbody tr th {\n",
              "        vertical-align: top;\n",
              "    }\n",
              "\n",
              "    .dataframe thead th {\n",
              "        text-align: right;\n",
              "    }\n",
              "</style>\n",
              "<table border=\"1\" class=\"dataframe\">\n",
              "  <thead>\n",
              "    <tr style=\"text-align: right;\">\n",
              "      <th>科目名稱</th>\n",
              "      <th>國文</th>\n",
              "      <th>英文</th>\n",
              "      <th>數學</th>\n",
              "      <th>理化</th>\n",
              "    </tr>\n",
              "    <tr>\n",
              "      <th>學生姓名</th>\n",
              "      <th></th>\n",
              "      <th></th>\n",
              "      <th></th>\n",
              "      <th></th>\n",
              "    </tr>\n",
              "  </thead>\n",
              "  <tbody>\n",
              "    <tr>\n",
              "      <th>林慶和</th>\n",
              "      <td>40</td>\n",
              "      <td>52</td>\n",
              "      <td>57</td>\n",
              "      <td>95</td>\n",
              "    </tr>\n",
              "    <tr>\n",
              "      <th>黃俊銘</th>\n",
              "      <td>40</td>\n",
              "      <td>71</td>\n",
              "      <td>49</td>\n",
              "      <td>43</td>\n",
              "    </tr>\n",
              "    <tr>\n",
              "      <th>黃遠鵬</th>\n",
              "      <td>59</td>\n",
              "      <td>68</td>\n",
              "      <td>45</td>\n",
              "      <td>45</td>\n",
              "    </tr>\n",
              "  </tbody>\n",
              "</table>\n",
              "</div>"
            ],
            "text/plain": [
              "科目名稱  國文  英文  數學  理化\n",
              "學生姓名                \n",
              "林慶和   40  52  57  95\n",
              "黃俊銘   40  71  49  43\n",
              "黃遠鵬   59  68  45  45"
            ]
          },
          "metadata": {},
          "execution_count": 24
        }
      ]
    },
    {
      "cell_type": "code",
      "metadata": {
        "colab": {
          "base_uri": "https://localhost:8080/"
        },
        "id": "7BdNOFgQ00g0",
        "outputId": "001b54eb-000c-4265-9a18-96b26dffb8ad"
      },
      "source": [
        "# 設定 seed，可以讓之後的執行結果是 reproducible。\n",
        "np.random.seed(9487)\n",
        "np.random.randint(40, 100, (10, 4))"
      ],
      "execution_count": null,
      "outputs": [
        {
          "output_type": "execute_result",
          "data": {
            "text/plain": [
              "array([[72, 93, 46, 55],\n",
              "       [59, 85, 58, 78],\n",
              "       [99, 57, 89, 84],\n",
              "       [90, 75, 97, 69],\n",
              "       [46, 86, 48, 57],\n",
              "       [60, 66, 84, 51],\n",
              "       [40, 90, 88, 60],\n",
              "       [99, 53, 76, 66],\n",
              "       [73, 71, 45, 55],\n",
              "       [61, 58, 48, 92]])"
            ]
          },
          "metadata": {},
          "execution_count": 34
        }
      ]
    },
    {
      "cell_type": "markdown",
      "metadata": {
        "id": "29bXCZXV3peR"
      },
      "source": [
        "### 綜合練習二\n",
        "\n",
        "從底下的網址讀取上市公司基本資料。\n",
        "\n",
        "* https://data.gov.tw/dataset/18419\n",
        "* https://mopsfin.twse.com.tw/opendata/t187ap03_L.csv"
      ]
    },
    {
      "cell_type": "code",
      "metadata": {
        "id": "Agnr-pIB2NGd"
      },
      "source": [
        "import pandas as pd"
      ],
      "execution_count": null,
      "outputs": []
    },
    {
      "cell_type": "code",
      "metadata": {
        "id": "mDAk0REY7RHF"
      },
      "source": [
        "url = \"https://mopsfin.twse.com.tw/opendata/t187ap03_L.csv\""
      ],
      "execution_count": null,
      "outputs": []
    },
    {
      "cell_type": "code",
      "metadata": {
        "id": "fogtTRuw7TsB"
      },
      "source": [
        "# 讀入.csv並將其轉為DataFrame\n",
        "df = pd.read_csv(url)"
      ],
      "execution_count": null,
      "outputs": []
    },
    {
      "cell_type": "code",
      "metadata": {
        "colab": {
          "base_uri": "https://localhost:8080/",
          "height": 937
        },
        "id": "eqgth3Zs7WIN",
        "outputId": "b1f23bdc-4239-4455-c57f-2571a8a5636e"
      },
      "source": [
        "# 讀取前三筆資料\n",
        "df.head(3)"
      ],
      "execution_count": null,
      "outputs": [
        {
          "output_type": "execute_result",
          "data": {
            "text/html": [
              "<div>\n",
              "<style scoped>\n",
              "    .dataframe tbody tr th:only-of-type {\n",
              "        vertical-align: middle;\n",
              "    }\n",
              "\n",
              "    .dataframe tbody tr th {\n",
              "        vertical-align: top;\n",
              "    }\n",
              "\n",
              "    .dataframe thead th {\n",
              "        text-align: right;\n",
              "    }\n",
              "</style>\n",
              "<table border=\"1\" class=\"dataframe\">\n",
              "  <thead>\n",
              "    <tr style=\"text-align: right;\">\n",
              "      <th></th>\n",
              "      <th>出表日期</th>\n",
              "      <th>公司代號</th>\n",
              "      <th>公司名稱</th>\n",
              "      <th>公司簡稱</th>\n",
              "      <th>外國企業註冊地國</th>\n",
              "      <th>產業別</th>\n",
              "      <th>住址</th>\n",
              "      <th>營利事業統一編號</th>\n",
              "      <th>董事長</th>\n",
              "      <th>總經理</th>\n",
              "      <th>發言人</th>\n",
              "      <th>發言人職稱</th>\n",
              "      <th>代理發言人</th>\n",
              "      <th>總機電話</th>\n",
              "      <th>成立日期</th>\n",
              "      <th>上市日期</th>\n",
              "      <th>普通股每股面額</th>\n",
              "      <th>實收資本額</th>\n",
              "      <th>私募股數</th>\n",
              "      <th>特別股</th>\n",
              "      <th>編制財務報表類型</th>\n",
              "      <th>股票過戶機構</th>\n",
              "      <th>過戶電話</th>\n",
              "      <th>過戶地址</th>\n",
              "      <th>簽證會計師事務所</th>\n",
              "      <th>簽證會計師1</th>\n",
              "      <th>簽證會計師2</th>\n",
              "      <th>英文簡稱</th>\n",
              "      <th>英文通訊地址</th>\n",
              "      <th>傳真機號碼</th>\n",
              "      <th>電子郵件信箱</th>\n",
              "      <th>網址</th>\n",
              "    </tr>\n",
              "  </thead>\n",
              "  <tbody>\n",
              "    <tr>\n",
              "      <th>0</th>\n",
              "      <td>1100912</td>\n",
              "      <td>1101</td>\n",
              "      <td>台灣水泥股份有限公司</td>\n",
              "      <td>台泥</td>\n",
              "      <td>－</td>\n",
              "      <td>1</td>\n",
              "      <td>台北市中山北路2段113號</td>\n",
              "      <td>11913502</td>\n",
              "      <td>張安平</td>\n",
              "      <td>李鐘培</td>\n",
              "      <td>黃健強</td>\n",
              "      <td>資深副總經理</td>\n",
              "      <td>賴家柔</td>\n",
              "      <td>(02)2531-7099</td>\n",
              "      <td>19501229</td>\n",
              "      <td>19620209</td>\n",
              "      <td>新台幣                 10.0000元</td>\n",
              "      <td>61574403270</td>\n",
              "      <td>0</td>\n",
              "      <td>200000000</td>\n",
              "      <td>1</td>\n",
              "      <td>中國信託商業銀行代理部</td>\n",
              "      <td>66365566</td>\n",
              "      <td>台北市重慶南路一段83號5樓</td>\n",
              "      <td>勤業眾信聯合會計師事務所</td>\n",
              "      <td>邵志明</td>\n",
              "      <td>黃惠敏</td>\n",
              "      <td>TCC</td>\n",
              "      <td>No.113, Sec.2, Zhongshan N. Rd.,Taipei City 10...</td>\n",
              "      <td>(02)2531-6529</td>\n",
              "      <td>finance@taiwancement.com</td>\n",
              "      <td>http://www.taiwancement.com</td>\n",
              "    </tr>\n",
              "    <tr>\n",
              "      <th>1</th>\n",
              "      <td>1100912</td>\n",
              "      <td>1102</td>\n",
              "      <td>亞洲水泥股份有限公司</td>\n",
              "      <td>亞泥</td>\n",
              "      <td>－</td>\n",
              "      <td>1</td>\n",
              "      <td>台北市大安區敦化南路2段207號30、31樓</td>\n",
              "      <td>3244509</td>\n",
              "      <td>徐旭東</td>\n",
              "      <td>李坤炎</td>\n",
              "      <td>周維崑</td>\n",
              "      <td>副總經理</td>\n",
              "      <td>吳玲綾</td>\n",
              "      <td>02-2733-8000</td>\n",
              "      <td>19570321</td>\n",
              "      <td>19620608</td>\n",
              "      <td>新台幣                 10.0000元</td>\n",
              "      <td>33673794600</td>\n",
              "      <td>0</td>\n",
              "      <td>0</td>\n",
              "      <td>1</td>\n",
              "      <td>亞東證券股份有限公司</td>\n",
              "      <td>02-7753-1699</td>\n",
              "      <td>新北市板橋區新站路16號13樓</td>\n",
              "      <td>勤業眾信聯合會計師事務所</td>\n",
              "      <td>戴信維</td>\n",
              "      <td>陳培德</td>\n",
              "      <td>ACC</td>\n",
              "      <td>30-31F., No.207, Sec. 2, Dunhua S. Rd., Da' an...</td>\n",
              "      <td>02-2378-5191</td>\n",
              "      <td>service@acc.com.tw</td>\n",
              "      <td>www.acc.com.tw</td>\n",
              "    </tr>\n",
              "    <tr>\n",
              "      <th>2</th>\n",
              "      <td>1100912</td>\n",
              "      <td>1103</td>\n",
              "      <td>嘉新水泥股份有限公司</td>\n",
              "      <td>嘉泥</td>\n",
              "      <td>－</td>\n",
              "      <td>1</td>\n",
              "      <td>台北市中山北路2段96號</td>\n",
              "      <td>11892801</td>\n",
              "      <td>張剛綸</td>\n",
              "      <td>祁士鉅</td>\n",
              "      <td>王立心</td>\n",
              "      <td>執行副總經理</td>\n",
              "      <td>余曉芸</td>\n",
              "      <td>(02)2551-5211</td>\n",
              "      <td>19541213</td>\n",
              "      <td>19691114</td>\n",
              "      <td>新台幣                 10.0000元</td>\n",
              "      <td>7747805480</td>\n",
              "      <td>0</td>\n",
              "      <td>0</td>\n",
              "      <td>1</td>\n",
              "      <td>群益金鼎證券股份有限公司股代部</td>\n",
              "      <td>(02)2702-3999</td>\n",
              "      <td>台北市敦化南路2段97號地下2樓</td>\n",
              "      <td>勤業眾信聯合會計師事務所</td>\n",
              "      <td>陳薔旬</td>\n",
              "      <td>張耿禧</td>\n",
              "      <td>CHC</td>\n",
              "      <td>No.96, Sec. 2, Zhongshan N. Rd., Zhongshan Dis...</td>\n",
              "      <td>(02)2511-4002</td>\n",
              "      <td>ir@chcgroup.com.tw</td>\n",
              "      <td>www.chcgroup.com.tw</td>\n",
              "    </tr>\n",
              "  </tbody>\n",
              "</table>\n",
              "</div>"
            ],
            "text/plain": [
              "      出表日期  公司代號  ...                    電子郵件信箱                           網址\n",
              "0  1100912  1101  ...  finance@taiwancement.com  http://www.taiwancement.com\n",
              "1  1100912  1102  ...        service@acc.com.tw               www.acc.com.tw\n",
              "2  1100912  1103  ...        ir@chcgroup.com.tw          www.chcgroup.com.tw\n",
              "\n",
              "[3 rows x 32 columns]"
            ]
          },
          "metadata": {},
          "execution_count": 38
        }
      ]
    },
    {
      "cell_type": "code",
      "metadata": {
        "colab": {
          "base_uri": "https://localhost:8080/"
        },
        "id": "ZNoH4lDZ7YWn",
        "outputId": "bffb3100-4abc-455e-a831-c3fcca492741"
      },
      "source": [
        "# 檢視一下DataFrame的基本資料\n",
        "df.info()"
      ],
      "execution_count": null,
      "outputs": [
        {
          "output_type": "stream",
          "name": "stdout",
          "text": [
            "<class 'pandas.core.frame.DataFrame'>\n",
            "RangeIndex: 965 entries, 0 to 964\n",
            "Data columns (total 32 columns):\n",
            " #   Column    Non-Null Count  Dtype \n",
            "---  ------    --------------  ----- \n",
            " 0   出表日期      965 non-null    int64 \n",
            " 1   公司代號      965 non-null    int64 \n",
            " 2   公司名稱      965 non-null    object\n",
            " 3   公司簡稱      965 non-null    object\n",
            " 4   外國企業註冊地國  965 non-null    object\n",
            " 5   產業別       965 non-null    int64 \n",
            " 6   住址        965 non-null    object\n",
            " 7   營利事業統一編號  965 non-null    int64 \n",
            " 8   董事長       965 non-null    object\n",
            " 9   總經理       962 non-null    object\n",
            " 10  發言人       965 non-null    object\n",
            " 11  發言人職稱     965 non-null    object\n",
            " 12  代理發言人     962 non-null    object\n",
            " 13  總機電話      965 non-null    object\n",
            " 14  成立日期      965 non-null    int64 \n",
            " 15  上市日期      965 non-null    int64 \n",
            " 16  普通股每股面額   965 non-null    object\n",
            " 17  實收資本額     965 non-null    int64 \n",
            " 18  私募股數      965 non-null    int64 \n",
            " 19  特別股       965 non-null    int64 \n",
            " 20  編制財務報表類型  965 non-null    int64 \n",
            " 21  股票過戶機構    965 non-null    object\n",
            " 22  過戶電話      964 non-null    object\n",
            " 23  過戶地址      965 non-null    object\n",
            " 24  簽證會計師事務所  965 non-null    object\n",
            " 25  簽證會計師1    964 non-null    object\n",
            " 26  簽證會計師2    961 non-null    object\n",
            " 27  英文簡稱      965 non-null    object\n",
            " 28  英文通訊地址    965 non-null    object\n",
            " 29  傳真機號碼     965 non-null    object\n",
            " 30  電子郵件信箱    964 non-null    object\n",
            " 31  網址        965 non-null    object\n",
            "dtypes: int64(10), object(22)\n",
            "memory usage: 241.4+ KB\n"
          ]
        }
      ]
    },
    {
      "cell_type": "code",
      "metadata": {
        "colab": {
          "base_uri": "https://localhost:8080/"
        },
        "id": "SQ_fZ1pH7ziE",
        "outputId": "c32250e3-e11f-4961-c1e1-ea9eed029b22"
      },
      "source": [
        "# 列出台積電的資料\n",
        "df[df[\"公司代號\"]==2330].iloc[0]['實收資本額']"
      ],
      "execution_count": null,
      "outputs": [
        {
          "output_type": "execute_result",
          "data": {
            "text/plain": [
              "259303804580"
            ]
          },
          "metadata": {},
          "execution_count": 44
        }
      ]
    },
    {
      "cell_type": "code",
      "metadata": {
        "colab": {
          "base_uri": "https://localhost:8080/",
          "height": 1000
        },
        "id": "ATEcE2G88-4P",
        "outputId": "07f39afd-75e2-4ed1-9418-394696a5d430"
      },
      "source": [
        "# 列出資本額在1000億以上的公司\n",
        "df[df['實收資本額']>1E11]"
      ],
      "execution_count": null,
      "outputs": [
        {
          "output_type": "execute_result",
          "data": {
            "text/html": [
              "<div>\n",
              "<style scoped>\n",
              "    .dataframe tbody tr th:only-of-type {\n",
              "        vertical-align: middle;\n",
              "    }\n",
              "\n",
              "    .dataframe tbody tr th {\n",
              "        vertical-align: top;\n",
              "    }\n",
              "\n",
              "    .dataframe thead th {\n",
              "        text-align: right;\n",
              "    }\n",
              "</style>\n",
              "<table border=\"1\" class=\"dataframe\">\n",
              "  <thead>\n",
              "    <tr style=\"text-align: right;\">\n",
              "      <th></th>\n",
              "      <th>出表日期</th>\n",
              "      <th>公司代號</th>\n",
              "      <th>公司名稱</th>\n",
              "      <th>公司簡稱</th>\n",
              "      <th>外國企業註冊地國</th>\n",
              "      <th>產業別</th>\n",
              "      <th>住址</th>\n",
              "      <th>營利事業統一編號</th>\n",
              "      <th>董事長</th>\n",
              "      <th>總經理</th>\n",
              "      <th>發言人</th>\n",
              "      <th>發言人職稱</th>\n",
              "      <th>代理發言人</th>\n",
              "      <th>總機電話</th>\n",
              "      <th>成立日期</th>\n",
              "      <th>上市日期</th>\n",
              "      <th>普通股每股面額</th>\n",
              "      <th>實收資本額</th>\n",
              "      <th>私募股數</th>\n",
              "      <th>特別股</th>\n",
              "      <th>編制財務報表類型</th>\n",
              "      <th>股票過戶機構</th>\n",
              "      <th>過戶電話</th>\n",
              "      <th>過戶地址</th>\n",
              "      <th>簽證會計師事務所</th>\n",
              "      <th>簽證會計師1</th>\n",
              "      <th>簽證會計師2</th>\n",
              "      <th>英文簡稱</th>\n",
              "      <th>英文通訊地址</th>\n",
              "      <th>傳真機號碼</th>\n",
              "      <th>電子郵件信箱</th>\n",
              "      <th>網址</th>\n",
              "    </tr>\n",
              "  </thead>\n",
              "  <tbody>\n",
              "    <tr>\n",
              "      <th>204</th>\n",
              "      <td>1100912</td>\n",
              "      <td>2002</td>\n",
              "      <td>中國鋼鐵股份有限公司</td>\n",
              "      <td>中鋼</td>\n",
              "      <td>－</td>\n",
              "      <td>10</td>\n",
              "      <td>高市小港區中鋼路1號</td>\n",
              "      <td>30414175</td>\n",
              "      <td>翁朝棟</td>\n",
              "      <td>王錫欽</td>\n",
              "      <td>黃建智</td>\n",
              "      <td>執行副總經理</td>\n",
              "      <td>楊岳崑等8位</td>\n",
              "      <td>07-8021111</td>\n",
              "      <td>19711203</td>\n",
              "      <td>19741226</td>\n",
              "      <td>新台幣                 10.0000元</td>\n",
              "      <td>157731289960</td>\n",
              "      <td>0</td>\n",
              "      <td>38267999</td>\n",
              "      <td>1</td>\n",
              "      <td>凱基證券股份有限公司</td>\n",
              "      <td>02-23892999</td>\n",
              "      <td>台北市重慶南路1段2號5樓</td>\n",
              "      <td>勤業眾信聯合會計師事務所</td>\n",
              "      <td>許瑞軒</td>\n",
              "      <td>郭政弘</td>\n",
              "      <td>CSC</td>\n",
              "      <td>No.1,Chung Kang RoadKaohsiung Taiwan, R.O.C</td>\n",
              "      <td>07-8022511</td>\n",
              "      <td>f1000@mail.csc.com.tw</td>\n",
              "      <td>http://www.csc.com.tw</td>\n",
              "    </tr>\n",
              "    <tr>\n",
              "      <th>262</th>\n",
              "      <td>1100912</td>\n",
              "      <td>2303</td>\n",
              "      <td>聯華電子股份有限公司</td>\n",
              "      <td>聯電</td>\n",
              "      <td>－</td>\n",
              "      <td>24</td>\n",
              "      <td>新竹科學園區新竹市力行二路三號</td>\n",
              "      <td>47217677</td>\n",
              "      <td>洪嘉聰</td>\n",
              "      <td>簡山傑、王石</td>\n",
              "      <td>劉啟東</td>\n",
              "      <td>資深副總經理暨財務長</td>\n",
              "      <td>林俊宏、翁兆韋</td>\n",
              "      <td>03-5782258</td>\n",
              "      <td>19800522</td>\n",
              "      <td>19850716</td>\n",
              "      <td>新台幣                 10.0000元</td>\n",
              "      <td>124232694930</td>\n",
              "      <td>0</td>\n",
              "      <td>0</td>\n",
              "      <td>1</td>\n",
              "      <td>宏遠證券股份有限公司</td>\n",
              "      <td>02-23268818</td>\n",
              "      <td>台北市大安區信義路四段236號3樓</td>\n",
              "      <td>安永聯合會計師事務所</td>\n",
              "      <td>邱琬茹</td>\n",
              "      <td>許新民</td>\n",
              "      <td>UMC</td>\n",
              "      <td>NO.3, LI-SHIN ROAD II, HSINCHU SCIENCE PARKHSI...</td>\n",
              "      <td>03-5781789</td>\n",
              "      <td>IR@UMC.COM</td>\n",
              "      <td>WWW.UMC.COM</td>\n",
              "    </tr>\n",
              "    <tr>\n",
              "      <th>269</th>\n",
              "      <td>1100912</td>\n",
              "      <td>2317</td>\n",
              "      <td>鴻海精密工業股份有限公司</td>\n",
              "      <td>鴻海</td>\n",
              "      <td>－</td>\n",
              "      <td>31</td>\n",
              "      <td>新北市土城區自由街2號</td>\n",
              "      <td>4541302</td>\n",
              "      <td>劉揚偉</td>\n",
              "      <td>劉揚偉</td>\n",
              "      <td>巫俊毅</td>\n",
              "      <td>特別助理</td>\n",
              "      <td>黃欽旻</td>\n",
              "      <td>(02)2268-3466</td>\n",
              "      <td>19740220</td>\n",
              "      <td>19910618</td>\n",
              "      <td>新台幣                 10.0000元</td>\n",
              "      <td>138629906090</td>\n",
              "      <td>0</td>\n",
              "      <td>0</td>\n",
              "      <td>1</td>\n",
              "      <td>福邦證券股份有限公司</td>\n",
              "      <td>(02)2371-1658</td>\n",
              "      <td>台北市中正區忠孝西路一段６號６樓</td>\n",
              "      <td>資誠聯合會計師事務所</td>\n",
              "      <td>徐永堅</td>\n",
              "      <td>徐聖忠</td>\n",
              "      <td>HON HAI</td>\n",
              "      <td>2 TZU YU ST.,TU-CHENG CITY,TAIWAN,R.O.C.</td>\n",
              "      <td>(02)2268-6204</td>\n",
              "      <td>stockaffairs@foxconn.com</td>\n",
              "      <td>www.foxconn.com</td>\n",
              "    </tr>\n",
              "    <tr>\n",
              "      <th>276</th>\n",
              "      <td>1100912</td>\n",
              "      <td>2330</td>\n",
              "      <td>台灣積體電路製造股份有限公司</td>\n",
              "      <td>台積電</td>\n",
              "      <td>－</td>\n",
              "      <td>24</td>\n",
              "      <td>新竹科學園區力行六路8號</td>\n",
              "      <td>22099131</td>\n",
              "      <td>劉德音</td>\n",
              "      <td>總裁: 魏哲家</td>\n",
              "      <td>黃仁昭</td>\n",
              "      <td>副總經理暨財務長</td>\n",
              "      <td>高孟華</td>\n",
              "      <td>03-5636688</td>\n",
              "      <td>19870221</td>\n",
              "      <td>19940905</td>\n",
              "      <td>新台幣                 10.0000元</td>\n",
              "      <td>259303804580</td>\n",
              "      <td>0</td>\n",
              "      <td>0</td>\n",
              "      <td>1</td>\n",
              "      <td>中國信託商業銀行 代理部</td>\n",
              "      <td>02-6636-5566</td>\n",
              "      <td>台北市重慶南路一段83號5樓</td>\n",
              "      <td>勤業眾信聯合會計師事務所</td>\n",
              "      <td>江美艷</td>\n",
              "      <td>林尚志</td>\n",
              "      <td>TSMC</td>\n",
              "      <td>No. 8, Li-Hsin Rd. 6, Hsinchu Science Park,Hsi...</td>\n",
              "      <td>03-5797337</td>\n",
              "      <td>invest@tsmc.com</td>\n",
              "      <td>Http://www.tsmc.com</td>\n",
              "    </tr>\n",
              "    <tr>\n",
              "      <th>462</th>\n",
              "      <td>1100912</td>\n",
              "      <td>2801</td>\n",
              "      <td>彰化商業銀行股份有限公司</td>\n",
              "      <td>彰銀</td>\n",
              "      <td>－</td>\n",
              "      <td>17</td>\n",
              "      <td>臺中市自由路二段三八號</td>\n",
              "      <td>51811609</td>\n",
              "      <td>凌忠嫄</td>\n",
              "      <td>周朝崇</td>\n",
              "      <td>陳斌</td>\n",
              "      <td>副總經理</td>\n",
              "      <td>鄭長華</td>\n",
              "      <td>02-25362951</td>\n",
              "      <td>19500701</td>\n",
              "      <td>19620215</td>\n",
              "      <td>新台幣                 10.0000元</td>\n",
              "      <td>103847236060</td>\n",
              "      <td>0</td>\n",
              "      <td>0</td>\n",
              "      <td>1</td>\n",
              "      <td>兆豐證券股務代理部</td>\n",
              "      <td>02-33930898</td>\n",
              "      <td>臺北市忠孝東路二段95號</td>\n",
              "      <td>勤業眾信聯合會計師事務所</td>\n",
              "      <td>吳美慧</td>\n",
              "      <td>李東峰</td>\n",
              "      <td>CHANG HWA BANK</td>\n",
              "      <td>38,Tsu Yu Rd .,Sec.2Taichung,Taiwan,R.O.C.</td>\n",
              "      <td>02-25628443</td>\n",
              "      <td>chbgss@chb.com.tw</td>\n",
              "      <td>www.bankchb.com</td>\n",
              "    </tr>\n",
              "    <tr>\n",
              "      <th>480</th>\n",
              "      <td>1100912</td>\n",
              "      <td>2880</td>\n",
              "      <td>華南金融控股股份有限公司</td>\n",
              "      <td>華南金</td>\n",
              "      <td>－</td>\n",
              "      <td>17</td>\n",
              "      <td>台北市信義區松仁路123號</td>\n",
              "      <td>70826764</td>\n",
              "      <td>張雲鵬</td>\n",
              "      <td>羅寶珠</td>\n",
              "      <td>林貴姬</td>\n",
              "      <td>副總經理</td>\n",
              "      <td>邱美卿</td>\n",
              "      <td>23713111</td>\n",
              "      <td>20011219</td>\n",
              "      <td>20011219</td>\n",
              "      <td>新台幣                 10.0000元</td>\n",
              "      <td>128547788100</td>\n",
              "      <td>0</td>\n",
              "      <td>0</td>\n",
              "      <td>1</td>\n",
              "      <td>華南永昌綜合證券股份有限公司</td>\n",
              "      <td>27186425</td>\n",
              "      <td>台北市民生東路4段54號四樓</td>\n",
              "      <td>勤業眾信聯合會計師事務所</td>\n",
              "      <td>吳怡君</td>\n",
              "      <td>張鼎聲</td>\n",
              "      <td>HNFHC</td>\n",
              "      <td>No. 123, Songren Rd. Xinyi Dist, Taipei City 1...</td>\n",
              "      <td>87291943</td>\n",
              "      <td>public@hnfhc.com.tw</td>\n",
              "      <td>www.hnfhc.com.tw</td>\n",
              "    </tr>\n",
              "    <tr>\n",
              "      <th>481</th>\n",
              "      <td>1100912</td>\n",
              "      <td>2881</td>\n",
              "      <td>富邦金融控股股份有限公司</td>\n",
              "      <td>富邦金</td>\n",
              "      <td>－</td>\n",
              "      <td>17</td>\n",
              "      <td>臺北市中山區遼寧街179號15樓、16樓</td>\n",
              "      <td>3374805</td>\n",
              "      <td>蔡明興</td>\n",
              "      <td>韓蔚廷</td>\n",
              "      <td>韓蔚廷</td>\n",
              "      <td>總經理</td>\n",
              "      <td>王瑋</td>\n",
              "      <td>6636-6636</td>\n",
              "      <td>20011219</td>\n",
              "      <td>20011219</td>\n",
              "      <td>新台幣                 10.0000元</td>\n",
              "      <td>115002639950</td>\n",
              "      <td>0</td>\n",
              "      <td>1266660000</td>\n",
              "      <td>1</td>\n",
              "      <td>富邦綜合證券(股)公司股務代理部</td>\n",
              "      <td>2361-1300</td>\n",
              "      <td>台北市100中正區許昌街十七號二樓</td>\n",
              "      <td>安侯建業聯合會計師事務所</td>\n",
              "      <td>李逢暉</td>\n",
              "      <td>于紀隆</td>\n",
              "      <td>Fubon Financial</td>\n",
              "      <td>15~16F., No. 179, Liaoning St., Zhongshan Dist...</td>\n",
              "      <td>6636-0111</td>\n",
              "      <td>pr@fubon.com</td>\n",
              "      <td>www.fubon.com</td>\n",
              "    </tr>\n",
              "    <tr>\n",
              "      <th>482</th>\n",
              "      <td>1100912</td>\n",
              "      <td>2882</td>\n",
              "      <td>國泰金融控股股份有限公司</td>\n",
              "      <td>國泰金</td>\n",
              "      <td>－</td>\n",
              "      <td>17</td>\n",
              "      <td>台北市仁愛路四段296號</td>\n",
              "      <td>70827406</td>\n",
              "      <td>蔡宏圖</td>\n",
              "      <td>李長庚</td>\n",
              "      <td>鄧崇儀</td>\n",
              "      <td>資深副總經理</td>\n",
              "      <td>陳晏如、孫至德</td>\n",
              "      <td>27087698</td>\n",
              "      <td>20011231</td>\n",
              "      <td>20011231</td>\n",
              "      <td>新台幣                 10.0000元</td>\n",
              "      <td>147025101280</td>\n",
              "      <td>0</td>\n",
              "      <td>1533300000</td>\n",
              "      <td>1</td>\n",
              "      <td>國泰金控行政管理部股務科</td>\n",
              "      <td>27087698#9</td>\n",
              "      <td>台北市仁愛路四段296號</td>\n",
              "      <td>勤業眾信聯合會計師事務所</td>\n",
              "      <td>郭政弘</td>\n",
              "      <td>林淑婉</td>\n",
              "      <td>CATHAY HOLDINGS</td>\n",
              "      <td>296,Ren-Ai Road, Sec. 4Taipei,106 Taiwan, R.O.C</td>\n",
              "      <td>23252488</td>\n",
              "      <td>services@cathayholdings.com.tw</td>\n",
              "      <td>www.cathayholdings.com</td>\n",
              "    </tr>\n",
              "    <tr>\n",
              "      <th>483</th>\n",
              "      <td>1100912</td>\n",
              "      <td>2883</td>\n",
              "      <td>中華開發金融控股股份有限公司</td>\n",
              "      <td>開發金</td>\n",
              "      <td>－</td>\n",
              "      <td>17</td>\n",
              "      <td>台北市南京東路五段125號12樓</td>\n",
              "      <td>70827383</td>\n",
              "      <td>張家祝</td>\n",
              "      <td>Stefano Paolo Bertamini</td>\n",
              "      <td>張立荃</td>\n",
              "      <td>資深副總經理</td>\n",
              "      <td>潘玲嬌、黃碧玲</td>\n",
              "      <td>02-27638800</td>\n",
              "      <td>20011228</td>\n",
              "      <td>20011228</td>\n",
              "      <td>新台幣                 10.0000元</td>\n",
              "      <td>149736024240</td>\n",
              "      <td>0</td>\n",
              "      <td>0</td>\n",
              "      <td>1</td>\n",
              "      <td>凱基證券股份有限公司股務代理部</td>\n",
              "      <td>02-23892999</td>\n",
              "      <td>台北市重慶南路一段2號5樓</td>\n",
              "      <td>勤業眾信聯合會計師事務所</td>\n",
              "      <td>吳怡君</td>\n",
              "      <td>柯志賢</td>\n",
              "      <td>CDF</td>\n",
              "      <td>125 Nanjing East Road Section 5Taipei 105 Taiw...</td>\n",
              "      <td>02-27635139</td>\n",
              "      <td>ir@cdibh.com</td>\n",
              "      <td>www.cdibh.com</td>\n",
              "    </tr>\n",
              "    <tr>\n",
              "      <th>484</th>\n",
              "      <td>1100912</td>\n",
              "      <td>2884</td>\n",
              "      <td>玉山金融控股股份有限公司</td>\n",
              "      <td>玉山金</td>\n",
              "      <td>－</td>\n",
              "      <td>17</td>\n",
              "      <td>台北市松山區民生東路3段117號14樓及115號1樓</td>\n",
              "      <td>70796305</td>\n",
              "      <td>黃永仁</td>\n",
              "      <td>陳美滿</td>\n",
              "      <td>陳美滿</td>\n",
              "      <td>玉山金控總經理</td>\n",
              "      <td>蔡政達</td>\n",
              "      <td>(02)2175-1313</td>\n",
              "      <td>20020128</td>\n",
              "      <td>20020128</td>\n",
              "      <td>新台幣                 10.0000元</td>\n",
              "      <td>125671000000</td>\n",
              "      <td>0</td>\n",
              "      <td>0</td>\n",
              "      <td>1</td>\n",
              "      <td>玉山金控行政管理部(股務)</td>\n",
              "      <td>(02)2719-1313</td>\n",
              "      <td>台北市松山區民生東路3段115號1樓</td>\n",
              "      <td>勤業眾信聯合會計師事務所</td>\n",
              "      <td>陳盈州</td>\n",
              "      <td>楊承修</td>\n",
              "      <td>E.S.F.H</td>\n",
              "      <td>14F., No. 117 and 1F., No.115 ,Sec. 3,Min Shen...</td>\n",
              "      <td>(02)2713-7213</td>\n",
              "      <td>tonycheng-06795@email.esunbank.com.tw</td>\n",
              "      <td>http://www.esunfhc.com.tw</td>\n",
              "    </tr>\n",
              "    <tr>\n",
              "      <th>485</th>\n",
              "      <td>1100912</td>\n",
              "      <td>2885</td>\n",
              "      <td>元大金融控股股份有限公司</td>\n",
              "      <td>元大金</td>\n",
              "      <td>－</td>\n",
              "      <td>17</td>\n",
              "      <td>台北市松山區敦化南路1段66號6樓、10樓、12樓及13樓</td>\n",
              "      <td>70796749</td>\n",
              "      <td>申鼎籛</td>\n",
              "      <td>翁健</td>\n",
              "      <td>翁健</td>\n",
              "      <td>總經理</td>\n",
              "      <td>麥煦書、吳敬堂</td>\n",
              "      <td>02-27811999</td>\n",
              "      <td>20020204</td>\n",
              "      <td>20020204</td>\n",
              "      <td>新台幣                 10.0000元</td>\n",
              "      <td>121374359140</td>\n",
              "      <td>0</td>\n",
              "      <td>0</td>\n",
              "      <td>1</td>\n",
              "      <td>元大證券(股)公司股務代理部</td>\n",
              "      <td>02-25865859</td>\n",
              "      <td>台北市承德路三段210號地下一樓</td>\n",
              "      <td>資誠聯合會計師事務所</td>\n",
              "      <td>周建宏</td>\n",
              "      <td>羅蕉森</td>\n",
              "      <td>Yuanta Group</td>\n",
              "      <td>6F, 10F, 12F - 13F, No. 66 , Sec. 1, Dun Hua S...</td>\n",
              "      <td>02-27721585</td>\n",
              "      <td>yuantatsec@yuanta.com</td>\n",
              "      <td>http://www.yuanta.com</td>\n",
              "    </tr>\n",
              "    <tr>\n",
              "      <th>486</th>\n",
              "      <td>1100912</td>\n",
              "      <td>2886</td>\n",
              "      <td>兆豐金融控股股份有限公司</td>\n",
              "      <td>兆豐金</td>\n",
              "      <td>－</td>\n",
              "      <td>17</td>\n",
              "      <td>台北市忠孝東路二段123號14至17樓、20至21樓</td>\n",
              "      <td>70796754</td>\n",
              "      <td>張兆順</td>\n",
              "      <td>胡光華</td>\n",
              "      <td>林瑞雲</td>\n",
              "      <td>副總經理</td>\n",
              "      <td>李靜怡</td>\n",
              "      <td>2357-8888</td>\n",
              "      <td>20020204</td>\n",
              "      <td>20020204</td>\n",
              "      <td>新台幣                 10.0000元</td>\n",
              "      <td>135998239830</td>\n",
              "      <td>0</td>\n",
              "      <td>0</td>\n",
              "      <td>1</td>\n",
              "      <td>元大證券股份有限公司</td>\n",
              "      <td>(02)2586-5859</td>\n",
              "      <td>10366台北市大同區承德路三段210號B1</td>\n",
              "      <td>資誠聯合會計師事務所</td>\n",
              "      <td>紀淑梅</td>\n",
              "      <td>郭柏如</td>\n",
              "      <td>MEGA FHC</td>\n",
              "      <td>14~17F,20~21F, No.123, SEC. 2, Jhongsiao E. Rd...</td>\n",
              "      <td>3393-8755</td>\n",
              "      <td>jlc@megaholdings.com.tw</td>\n",
              "      <td>www.megaholdings.com.tw</td>\n",
              "    </tr>\n",
              "    <tr>\n",
              "      <th>487</th>\n",
              "      <td>1100912</td>\n",
              "      <td>2887</td>\n",
              "      <td>台新金融控股股份有限公司</td>\n",
              "      <td>台新金</td>\n",
              "      <td>－</td>\n",
              "      <td>17</td>\n",
              "      <td>台北市大安區仁愛路4段118號12、13、15、16、21、22及23樓</td>\n",
              "      <td>80328055</td>\n",
              "      <td>吳東亮</td>\n",
              "      <td>林維俊</td>\n",
              "      <td>林維俊</td>\n",
              "      <td>總經理</td>\n",
              "      <td>賴昭吟</td>\n",
              "      <td>02-23268888</td>\n",
              "      <td>20020218</td>\n",
              "      <td>20020218</td>\n",
              "      <td>新台幣                 10.0000元</td>\n",
              "      <td>117136171700</td>\n",
              "      <td>0</td>\n",
              "      <td>800000000</td>\n",
              "      <td>1</td>\n",
              "      <td>台新國際商業銀行股務代理部</td>\n",
              "      <td>02-25048125</td>\n",
              "      <td>台北市建國北路1段96號B1</td>\n",
              "      <td>勤業眾信聯合會計師事務所</td>\n",
              "      <td>方涵妮</td>\n",
              "      <td>楊清鎮</td>\n",
              "      <td>TaishinHoldings</td>\n",
              "      <td>12F. 13F. 15F. 16F. 21F. 22F. 23F., No. 118, S...</td>\n",
              "      <td>02-37076889</td>\n",
              "      <td>netbank@taishinbank.com.tw</td>\n",
              "      <td>https://www.taishinholdings.com.tw/tsh/</td>\n",
              "    </tr>\n",
              "    <tr>\n",
              "      <th>488</th>\n",
              "      <td>1100912</td>\n",
              "      <td>2888</td>\n",
              "      <td>新光金融控股股份有限公司</td>\n",
              "      <td>新光金</td>\n",
              "      <td>－</td>\n",
              "      <td>17</td>\n",
              "      <td>台北市中正區忠孝西路一段66號38樓</td>\n",
              "      <td>80328219</td>\n",
              "      <td>許澎</td>\n",
              "      <td>吳欣儒</td>\n",
              "      <td>李超儒</td>\n",
              "      <td>副總經理</td>\n",
              "      <td>呂雅茹</td>\n",
              "      <td>02-23895858</td>\n",
              "      <td>20020219</td>\n",
              "      <td>20020219</td>\n",
              "      <td>新台幣                 10.0000元</td>\n",
              "      <td>133173940630</td>\n",
              "      <td>0</td>\n",
              "      <td>297000000</td>\n",
              "      <td>1</td>\n",
              "      <td>元富證券股份有限公司股務代理部</td>\n",
              "      <td>02-2768-6668</td>\n",
              "      <td>台北市松山區光復北路11巷35號地下一樓</td>\n",
              "      <td>勤業眾信聯合會計師事務所</td>\n",
              "      <td>林旺生</td>\n",
              "      <td>賴冠仲</td>\n",
              "      <td>SKFH</td>\n",
              "      <td>66,SEC.1,CHUNG-HSIAO W.RD.TAIPEI,TAIWAN,R.O.C.</td>\n",
              "      <td>23892868</td>\n",
              "      <td>skl041@skl.com.tw</td>\n",
              "      <td>https://www.skfh.com.tw</td>\n",
              "    </tr>\n",
              "    <tr>\n",
              "      <th>490</th>\n",
              "      <td>1100912</td>\n",
              "      <td>2890</td>\n",
              "      <td>永豐金融控股股份有限公司</td>\n",
              "      <td>永豐金</td>\n",
              "      <td>－</td>\n",
              "      <td>17</td>\n",
              "      <td>台北市中山區八德路2段306號3樓、5至13樓及308號6樓之1、6樓之2</td>\n",
              "      <td>80333183</td>\n",
              "      <td>陳思寬</td>\n",
              "      <td>朱士廷</td>\n",
              "      <td>許如玫</td>\n",
              "      <td>財務長</td>\n",
              "      <td>蕭隆祺</td>\n",
              "      <td>(02)8161-8935</td>\n",
              "      <td>20020509</td>\n",
              "      <td>20020509</td>\n",
              "      <td>新台幣                 10.0000元</td>\n",
              "      <td>112810541060</td>\n",
              "      <td>0</td>\n",
              "      <td>10000000</td>\n",
              "      <td>1</td>\n",
              "      <td>永豐金證券公司股務代理部</td>\n",
              "      <td>(02)2381-6288</td>\n",
              "      <td>台北市中正區博愛路17號3樓</td>\n",
              "      <td>勤業眾信聯合會計師事務所</td>\n",
              "      <td>吳美慧</td>\n",
              "      <td>郭政弘</td>\n",
              "      <td>SINOPACHOLDINGS</td>\n",
              "      <td>3F、5~13F.,No.306&amp;6F-1、6F-2.,No.308,Sec.2,Bade ...</td>\n",
              "      <td>(02)8161-8932</td>\n",
              "      <td>Investor-Relations@sinopac.com</td>\n",
              "      <td>http://www.sinopac.com</td>\n",
              "    </tr>\n",
              "    <tr>\n",
              "      <th>491</th>\n",
              "      <td>1100912</td>\n",
              "      <td>2891</td>\n",
              "      <td>中國信託金融控股股份有限公司</td>\n",
              "      <td>中信金</td>\n",
              "      <td>－</td>\n",
              "      <td>17</td>\n",
              "      <td>臺北市南港區經貿二路168號27樓、29樓</td>\n",
              "      <td>80333992</td>\n",
              "      <td>顏文隆</td>\n",
              "      <td>吳一揆</td>\n",
              "      <td>邱雅玲</td>\n",
              "      <td>資深副總經理</td>\n",
              "      <td>高人傑</td>\n",
              "      <td>(02)3327-7777</td>\n",
              "      <td>20020517</td>\n",
              "      <td>20020517</td>\n",
              "      <td>新台幣                 10.0000元</td>\n",
              "      <td>199969795690</td>\n",
              "      <td>0</td>\n",
              "      <td>499990000</td>\n",
              "      <td>1</td>\n",
              "      <td>中國信託商業銀行代理部</td>\n",
              "      <td>(02)6636-5566</td>\n",
              "      <td>台北市重慶南路1段83號5樓</td>\n",
              "      <td>安侯建業聯合會計師事務所</td>\n",
              "      <td>吳麟</td>\n",
              "      <td>曾國禓</td>\n",
              "      <td>CTBC HOLDING</td>\n",
              "      <td>27F、29F., No.168, Jingmao 2nd Rd., Nangang Dis...</td>\n",
              "      <td>請洽詢總機</td>\n",
              "      <td>ir@ctbcholding.com</td>\n",
              "      <td>http://www.ctbcholding.com/</td>\n",
              "    </tr>\n",
              "    <tr>\n",
              "      <th>492</th>\n",
              "      <td>1100912</td>\n",
              "      <td>2892</td>\n",
              "      <td>第一金融控股股份有限公司</td>\n",
              "      <td>第一金</td>\n",
              "      <td>－</td>\n",
              "      <td>17</td>\n",
              "      <td>台北市重慶南路一段30號</td>\n",
              "      <td>80351999</td>\n",
              "      <td>邱月琴</td>\n",
              "      <td>陳芬蘭</td>\n",
              "      <td>李淑玲</td>\n",
              "      <td>副總經理</td>\n",
              "      <td>方螢基</td>\n",
              "      <td>23111111</td>\n",
              "      <td>20030102</td>\n",
              "      <td>20030102</td>\n",
              "      <td>新台幣                 10.0000元</td>\n",
              "      <td>128358010780</td>\n",
              "      <td>0</td>\n",
              "      <td>0</td>\n",
              "      <td>1</td>\n",
              "      <td>第一銀行信託處</td>\n",
              "      <td>23481137</td>\n",
              "      <td>台北市延平南路42號</td>\n",
              "      <td>資誠聯合會計師事務所</td>\n",
              "      <td>周建宏</td>\n",
              "      <td>紀淑梅</td>\n",
              "      <td>FFHC</td>\n",
              "      <td>30,  Chung  King  South  Road,  Sec.  1Taipei ...</td>\n",
              "      <td>23119691</td>\n",
              "      <td>fhc201@mail.firstbank.com.tw</td>\n",
              "      <td>www.firstholding.com.tw</td>\n",
              "    </tr>\n",
              "    <tr>\n",
              "      <th>598</th>\n",
              "      <td>1100912</td>\n",
              "      <td>3481</td>\n",
              "      <td>群創光電股份有限公司</td>\n",
              "      <td>群創</td>\n",
              "      <td>－</td>\n",
              "      <td>26</td>\n",
              "      <td>新竹科學園區苗栗縣竹南鎮科學路160號</td>\n",
              "      <td>12800225</td>\n",
              "      <td>洪進揚</td>\n",
              "      <td>楊柱祥</td>\n",
              "      <td>楊柱祥</td>\n",
              "      <td>總經理</td>\n",
              "      <td>徐立緯</td>\n",
              "      <td>037-586000</td>\n",
              "      <td>20030114</td>\n",
              "      <td>20061024</td>\n",
              "      <td>新台幣                 10.0000元</td>\n",
              "      <td>105014078570</td>\n",
              "      <td>0</td>\n",
              "      <td>0</td>\n",
              "      <td>1</td>\n",
              "      <td>福邦證券股份有限公司</td>\n",
              "      <td>02-23711658</td>\n",
              "      <td>台北市中正區忠孝西路一段6號6樓</td>\n",
              "      <td>資誠聯合會計師事務所</td>\n",
              "      <td>徐聖忠</td>\n",
              "      <td>梁華玲</td>\n",
              "      <td>INX</td>\n",
              "      <td>No.160, Kexue Rd., Zhunan Site, Hsinchu Scienc...</td>\n",
              "      <td>037-586600</td>\n",
              "      <td>ir@innolux.com</td>\n",
              "      <td>http://www.innolux.com</td>\n",
              "    </tr>\n",
              "    <tr>\n",
              "      <th>746</th>\n",
              "      <td>1100912</td>\n",
              "      <td>5880</td>\n",
              "      <td>合作金庫金融控股股份有限公司</td>\n",
              "      <td>合庫金</td>\n",
              "      <td>－</td>\n",
              "      <td>17</td>\n",
              "      <td>臺北市松山區長安東路二段225號17樓,19樓</td>\n",
              "      <td>53021433</td>\n",
              "      <td>雷仲達</td>\n",
              "      <td>陳美足</td>\n",
              "      <td>周俊隆</td>\n",
              "      <td>副總經理</td>\n",
              "      <td>呂瑞齡</td>\n",
              "      <td>(02)2173-8888</td>\n",
              "      <td>20111201</td>\n",
              "      <td>20111201</td>\n",
              "      <td>新台幣                 10.0000元</td>\n",
              "      <td>133342237260</td>\n",
              "      <td>0</td>\n",
              "      <td>0</td>\n",
              "      <td>1</td>\n",
              "      <td>元大證券股份有限公司</td>\n",
              "      <td>02-2586-5859</td>\n",
              "      <td>10366 台北市大同區承德路三段210號B1</td>\n",
              "      <td>勤業眾信聯合會計師事務所</td>\n",
              "      <td>陳盈州</td>\n",
              "      <td>郭政弘</td>\n",
              "      <td>TCFHC</td>\n",
              "      <td>17F,19F,  No.225, Sec. 2, Chang'an E. Rd., Son...</td>\n",
              "      <td>(02)2731-3677</td>\n",
              "      <td>spokesman@tcfhc.com.tw</td>\n",
              "      <td>www.tcfhc.com.tw</td>\n",
              "    </tr>\n",
              "  </tbody>\n",
              "</table>\n",
              "</div>"
            ],
            "text/plain": [
              "        出表日期  ...                                       網址\n",
              "204  1100912  ...                    http://www.csc.com.tw\n",
              "262  1100912  ...                              WWW.UMC.COM\n",
              "269  1100912  ...                          www.foxconn.com\n",
              "276  1100912  ...                      Http://www.tsmc.com\n",
              "462  1100912  ...                          www.bankchb.com\n",
              "480  1100912  ...                         www.hnfhc.com.tw\n",
              "481  1100912  ...                            www.fubon.com\n",
              "482  1100912  ...                   www.cathayholdings.com\n",
              "483  1100912  ...                            www.cdibh.com\n",
              "484  1100912  ...                http://www.esunfhc.com.tw\n",
              "485  1100912  ...                    http://www.yuanta.com\n",
              "486  1100912  ...                  www.megaholdings.com.tw\n",
              "487  1100912  ...  https://www.taishinholdings.com.tw/tsh/\n",
              "488  1100912  ...                  https://www.skfh.com.tw\n",
              "490  1100912  ...                   http://www.sinopac.com\n",
              "491  1100912  ...              http://www.ctbcholding.com/\n",
              "492  1100912  ...                  www.firstholding.com.tw\n",
              "598  1100912  ...                   http://www.innolux.com\n",
              "746  1100912  ...                         www.tcfhc.com.tw\n",
              "\n",
              "[19 rows x 32 columns]"
            ]
          },
          "metadata": {},
          "execution_count": 48
        }
      ]
    },
    {
      "cell_type": "code",
      "metadata": {
        "colab": {
          "base_uri": "https://localhost:8080/"
        },
        "id": "PAb-wMYi-l0R",
        "outputId": "c7b92e56-9a2b-4852-a785-a8ea38882d2e"
      },
      "source": [
        "# 列出資本額在1000億以上公司的公司名稱\n",
        "df[df['實收資本額']>1E11]['公司名稱']"
      ],
      "execution_count": null,
      "outputs": [
        {
          "output_type": "execute_result",
          "data": {
            "text/plain": [
              "204        中國鋼鐵股份有限公司\n",
              "262        聯華電子股份有限公司\n",
              "269      鴻海精密工業股份有限公司\n",
              "276    台灣積體電路製造股份有限公司\n",
              "462      彰化商業銀行股份有限公司\n",
              "480      華南金融控股股份有限公司\n",
              "481      富邦金融控股股份有限公司\n",
              "482      國泰金融控股股份有限公司\n",
              "483    中華開發金融控股股份有限公司\n",
              "484      玉山金融控股股份有限公司\n",
              "485      元大金融控股股份有限公司\n",
              "486      兆豐金融控股股份有限公司\n",
              "487      台新金融控股股份有限公司\n",
              "488      新光金融控股股份有限公司\n",
              "490      永豐金融控股股份有限公司\n",
              "491    中國信託金融控股股份有限公司\n",
              "492      第一金融控股股份有限公司\n",
              "598        群創光電股份有限公司\n",
              "746    合作金庫金融控股股份有限公司\n",
              "Name: 公司名稱, dtype: object"
            ]
          },
          "metadata": {},
          "execution_count": 51
        }
      ]
    },
    {
      "cell_type": "code",
      "metadata": {
        "colab": {
          "base_uri": "https://localhost:8080/"
        },
        "id": "I7QdT2dm_MIT",
        "outputId": "d1dfee03-2e6c-4d42-dae8-c720dcdbc474"
      },
      "source": [
        "df.info()"
      ],
      "execution_count": null,
      "outputs": [
        {
          "output_type": "stream",
          "name": "stdout",
          "text": [
            "<class 'pandas.core.frame.DataFrame'>\n",
            "RangeIndex: 965 entries, 0 to 964\n",
            "Data columns (total 32 columns):\n",
            " #   Column    Non-Null Count  Dtype \n",
            "---  ------    --------------  ----- \n",
            " 0   出表日期      965 non-null    int64 \n",
            " 1   公司代號      965 non-null    int64 \n",
            " 2   公司名稱      965 non-null    object\n",
            " 3   公司簡稱      965 non-null    object\n",
            " 4   外國企業註冊地國  965 non-null    object\n",
            " 5   產業別       965 non-null    int64 \n",
            " 6   住址        965 non-null    object\n",
            " 7   營利事業統一編號  965 non-null    int64 \n",
            " 8   董事長       965 non-null    object\n",
            " 9   總經理       962 non-null    object\n",
            " 10  發言人       965 non-null    object\n",
            " 11  發言人職稱     965 non-null    object\n",
            " 12  代理發言人     962 non-null    object\n",
            " 13  總機電話      965 non-null    object\n",
            " 14  成立日期      965 non-null    int64 \n",
            " 15  上市日期      965 non-null    int64 \n",
            " 16  普通股每股面額   965 non-null    object\n",
            " 17  實收資本額     965 non-null    int64 \n",
            " 18  私募股數      965 non-null    int64 \n",
            " 19  特別股       965 non-null    int64 \n",
            " 20  編制財務報表類型  965 non-null    int64 \n",
            " 21  股票過戶機構    965 non-null    object\n",
            " 22  過戶電話      964 non-null    object\n",
            " 23  過戶地址      965 non-null    object\n",
            " 24  簽證會計師事務所  965 non-null    object\n",
            " 25  簽證會計師1    964 non-null    object\n",
            " 26  簽證會計師2    961 non-null    object\n",
            " 27  英文簡稱      965 non-null    object\n",
            " 28  英文通訊地址    965 non-null    object\n",
            " 29  傳真機號碼     965 non-null    object\n",
            " 30  電子郵件信箱    964 non-null    object\n",
            " 31  網址        965 non-null    object\n",
            "dtypes: int64(10), object(22)\n",
            "memory usage: 241.4+ KB\n"
          ]
        }
      ]
    },
    {
      "cell_type": "code",
      "metadata": {
        "colab": {
          "base_uri": "https://localhost:8080/"
        },
        "id": "X23CF3WT_zxb",
        "outputId": "93e7e4c0-7355-4eed-a6c9-617114db097a"
      },
      "source": [
        "# 列出資本額在1000億以上公司的公司簡稱\n",
        "df[df['實收資本額']>1E11]['公司簡稱']"
      ],
      "execution_count": null,
      "outputs": [
        {
          "output_type": "execute_result",
          "data": {
            "text/plain": [
              "204     中鋼\n",
              "262     聯電\n",
              "269     鴻海\n",
              "276    台積電\n",
              "462     彰銀\n",
              "480    華南金\n",
              "481    富邦金\n",
              "482    國泰金\n",
              "483    開發金\n",
              "484    玉山金\n",
              "485    元大金\n",
              "486    兆豐金\n",
              "487    台新金\n",
              "488    新光金\n",
              "490    永豐金\n",
              "491    中信金\n",
              "492    第一金\n",
              "598     群創\n",
              "746    合庫金\n",
              "Name: 公司簡稱, dtype: object"
            ]
          },
          "metadata": {},
          "execution_count": 53
        }
      ]
    },
    {
      "cell_type": "code",
      "metadata": {
        "id": "ol2E7hgN_6eD"
      },
      "source": [
        "import sys\n",
        "\n",
        "# 寫一個函式從公司代號查詢公司簡稱\n",
        "def id2name(id):\n",
        "  name = \"\"\n",
        "  try:\n",
        "    name = df[df[\"公司代號\"]==id].iloc[0]['公司簡稱']\n",
        "  except Exception as e:\n",
        "    print(e.args, file=sys.stderr)\n",
        "  return name"
      ],
      "execution_count": null,
      "outputs": []
    },
    {
      "cell_type": "code",
      "metadata": {
        "colab": {
          "base_uri": "https://localhost:8080/",
          "height": 35
        },
        "id": "WUBgqhC9Am5V",
        "outputId": "857abe3e-cd3f-4cf9-ac9d-5fe9ce17409c"
      },
      "source": [
        "id2name(2317)"
      ],
      "execution_count": null,
      "outputs": [
        {
          "output_type": "execute_result",
          "data": {
            "application/vnd.google.colaboratory.intrinsic+json": {
              "type": "string"
            },
            "text/plain": [
              "'鴻海'"
            ]
          },
          "metadata": {},
          "execution_count": 69
        }
      ]
    },
    {
      "cell_type": "markdown",
      "metadata": {
        "id": "4CxGq0kTEORQ"
      },
      "source": [
        "## 如何讀取股票歷史資料？\n",
        "\n",
        "可以使用pandas-datareader!\n",
        "\n",
        "https://pandas-datareader.readthedocs.io/en/latest/"
      ]
    },
    {
      "cell_type": "code",
      "metadata": {
        "colab": {
          "base_uri": "https://localhost:8080/",
          "height": 772
        },
        "id": "fZthuwQVESFP",
        "outputId": "5675d314-9508-4718-e16e-03babdadc2a5"
      },
      "source": [
        "import pandas_datareader.data as web\n",
        "\n",
        "df = web.DataReader('GE', 'yahoo', start='2019-09-10')\n",
        "df.head()"
      ],
      "execution_count": null,
      "outputs": [
        {
          "output_type": "error",
          "ename": "RemoteDataError",
          "evalue": "ignored",
          "traceback": [
            "\u001b[0;31m---------------------------------------------------------------------------\u001b[0m",
            "\u001b[0;31mRemoteDataError\u001b[0m                           Traceback (most recent call last)",
            "\u001b[0;32m<ipython-input-97-f293e773e203>\u001b[0m in \u001b[0;36m<module>\u001b[0;34m()\u001b[0m\n\u001b[1;32m      1\u001b[0m \u001b[0;32mimport\u001b[0m \u001b[0mpandas_datareader\u001b[0m\u001b[0;34m.\u001b[0m\u001b[0mdata\u001b[0m \u001b[0;32mas\u001b[0m \u001b[0mweb\u001b[0m\u001b[0;34m\u001b[0m\u001b[0;34m\u001b[0m\u001b[0m\n\u001b[1;32m      2\u001b[0m \u001b[0;34m\u001b[0m\u001b[0m\n\u001b[0;32m----> 3\u001b[0;31m \u001b[0mdf\u001b[0m \u001b[0;34m=\u001b[0m \u001b[0mweb\u001b[0m\u001b[0;34m.\u001b[0m\u001b[0mDataReader\u001b[0m\u001b[0;34m(\u001b[0m\u001b[0;34m'GE'\u001b[0m\u001b[0;34m,\u001b[0m \u001b[0;34m'yahoo'\u001b[0m\u001b[0;34m,\u001b[0m \u001b[0mstart\u001b[0m\u001b[0;34m=\u001b[0m\u001b[0;34m'2019-09-10'\u001b[0m\u001b[0;34m)\u001b[0m\u001b[0;34m\u001b[0m\u001b[0;34m\u001b[0m\u001b[0m\n\u001b[0m\u001b[1;32m      4\u001b[0m \u001b[0mdf\u001b[0m\u001b[0;34m.\u001b[0m\u001b[0mhead\u001b[0m\u001b[0;34m(\u001b[0m\u001b[0;34m)\u001b[0m\u001b[0;34m\u001b[0m\u001b[0;34m\u001b[0m\u001b[0m\n",
            "\u001b[0;32m/usr/local/lib/python3.7/dist-packages/pandas/util/_decorators.py\u001b[0m in \u001b[0;36mwrapper\u001b[0;34m(*args, **kwargs)\u001b[0m\n\u001b[1;32m    197\u001b[0m                 \u001b[0;32melse\u001b[0m\u001b[0;34m:\u001b[0m\u001b[0;34m\u001b[0m\u001b[0;34m\u001b[0m\u001b[0m\n\u001b[1;32m    198\u001b[0m                     \u001b[0mkwargs\u001b[0m\u001b[0;34m[\u001b[0m\u001b[0mnew_arg_name\u001b[0m\u001b[0;34m]\u001b[0m \u001b[0;34m=\u001b[0m \u001b[0mnew_arg_value\u001b[0m\u001b[0;34m\u001b[0m\u001b[0;34m\u001b[0m\u001b[0m\n\u001b[0;32m--> 199\u001b[0;31m             \u001b[0;32mreturn\u001b[0m \u001b[0mfunc\u001b[0m\u001b[0;34m(\u001b[0m\u001b[0;34m*\u001b[0m\u001b[0margs\u001b[0m\u001b[0;34m,\u001b[0m \u001b[0;34m**\u001b[0m\u001b[0mkwargs\u001b[0m\u001b[0;34m)\u001b[0m\u001b[0;34m\u001b[0m\u001b[0;34m\u001b[0m\u001b[0m\n\u001b[0m\u001b[1;32m    200\u001b[0m \u001b[0;34m\u001b[0m\u001b[0m\n\u001b[1;32m    201\u001b[0m         \u001b[0;32mreturn\u001b[0m \u001b[0mcast\u001b[0m\u001b[0;34m(\u001b[0m\u001b[0mF\u001b[0m\u001b[0;34m,\u001b[0m \u001b[0mwrapper\u001b[0m\u001b[0;34m)\u001b[0m\u001b[0;34m\u001b[0m\u001b[0;34m\u001b[0m\u001b[0m\n",
            "\u001b[0;32m/usr/local/lib/python3.7/dist-packages/pandas_datareader/data.py\u001b[0m in \u001b[0;36mDataReader\u001b[0;34m(name, data_source, start, end, retry_count, pause, session, api_key)\u001b[0m\n\u001b[1;32m    382\u001b[0m             \u001b[0mretry_count\u001b[0m\u001b[0;34m=\u001b[0m\u001b[0mretry_count\u001b[0m\u001b[0;34m,\u001b[0m\u001b[0;34m\u001b[0m\u001b[0;34m\u001b[0m\u001b[0m\n\u001b[1;32m    383\u001b[0m             \u001b[0mpause\u001b[0m\u001b[0;34m=\u001b[0m\u001b[0mpause\u001b[0m\u001b[0;34m,\u001b[0m\u001b[0;34m\u001b[0m\u001b[0;34m\u001b[0m\u001b[0m\n\u001b[0;32m--> 384\u001b[0;31m             \u001b[0msession\u001b[0m\u001b[0;34m=\u001b[0m\u001b[0msession\u001b[0m\u001b[0;34m,\u001b[0m\u001b[0;34m\u001b[0m\u001b[0;34m\u001b[0m\u001b[0m\n\u001b[0m\u001b[1;32m    385\u001b[0m         ).read()\n\u001b[1;32m    386\u001b[0m \u001b[0;34m\u001b[0m\u001b[0m\n",
            "\u001b[0;32m/usr/local/lib/python3.7/dist-packages/pandas_datareader/base.py\u001b[0m in \u001b[0;36mread\u001b[0;34m(self)\u001b[0m\n\u001b[1;32m    251\u001b[0m         \u001b[0;31m# If a single symbol, (e.g., 'GOOG')\u001b[0m\u001b[0;34m\u001b[0m\u001b[0;34m\u001b[0m\u001b[0;34m\u001b[0m\u001b[0m\n\u001b[1;32m    252\u001b[0m         \u001b[0;32mif\u001b[0m \u001b[0misinstance\u001b[0m\u001b[0;34m(\u001b[0m\u001b[0mself\u001b[0m\u001b[0;34m.\u001b[0m\u001b[0msymbols\u001b[0m\u001b[0;34m,\u001b[0m \u001b[0;34m(\u001b[0m\u001b[0mstring_types\u001b[0m\u001b[0;34m,\u001b[0m \u001b[0mint\u001b[0m\u001b[0;34m)\u001b[0m\u001b[0;34m)\u001b[0m\u001b[0;34m:\u001b[0m\u001b[0;34m\u001b[0m\u001b[0;34m\u001b[0m\u001b[0m\n\u001b[0;32m--> 253\u001b[0;31m             \u001b[0mdf\u001b[0m \u001b[0;34m=\u001b[0m \u001b[0mself\u001b[0m\u001b[0;34m.\u001b[0m\u001b[0m_read_one_data\u001b[0m\u001b[0;34m(\u001b[0m\u001b[0mself\u001b[0m\u001b[0;34m.\u001b[0m\u001b[0murl\u001b[0m\u001b[0;34m,\u001b[0m \u001b[0mparams\u001b[0m\u001b[0;34m=\u001b[0m\u001b[0mself\u001b[0m\u001b[0;34m.\u001b[0m\u001b[0m_get_params\u001b[0m\u001b[0;34m(\u001b[0m\u001b[0mself\u001b[0m\u001b[0;34m.\u001b[0m\u001b[0msymbols\u001b[0m\u001b[0;34m)\u001b[0m\u001b[0;34m)\u001b[0m\u001b[0;34m\u001b[0m\u001b[0;34m\u001b[0m\u001b[0m\n\u001b[0m\u001b[1;32m    254\u001b[0m         \u001b[0;31m# Or multiple symbols, (e.g., ['GOOG', 'AAPL', 'MSFT'])\u001b[0m\u001b[0;34m\u001b[0m\u001b[0;34m\u001b[0m\u001b[0;34m\u001b[0m\u001b[0m\n\u001b[1;32m    255\u001b[0m         \u001b[0;32melif\u001b[0m \u001b[0misinstance\u001b[0m\u001b[0;34m(\u001b[0m\u001b[0mself\u001b[0m\u001b[0;34m.\u001b[0m\u001b[0msymbols\u001b[0m\u001b[0;34m,\u001b[0m \u001b[0mDataFrame\u001b[0m\u001b[0;34m)\u001b[0m\u001b[0;34m:\u001b[0m\u001b[0;34m\u001b[0m\u001b[0;34m\u001b[0m\u001b[0m\n",
            "\u001b[0;32m/usr/local/lib/python3.7/dist-packages/pandas_datareader/yahoo/daily.py\u001b[0m in \u001b[0;36m_read_one_data\u001b[0;34m(self, url, params)\u001b[0m\n\u001b[1;32m    151\u001b[0m         \u001b[0murl\u001b[0m \u001b[0;34m=\u001b[0m \u001b[0murl\u001b[0m\u001b[0;34m.\u001b[0m\u001b[0mformat\u001b[0m\u001b[0;34m(\u001b[0m\u001b[0msymbol\u001b[0m\u001b[0;34m)\u001b[0m\u001b[0;34m\u001b[0m\u001b[0;34m\u001b[0m\u001b[0m\n\u001b[1;32m    152\u001b[0m \u001b[0;34m\u001b[0m\u001b[0m\n\u001b[0;32m--> 153\u001b[0;31m         \u001b[0mresp\u001b[0m \u001b[0;34m=\u001b[0m \u001b[0mself\u001b[0m\u001b[0;34m.\u001b[0m\u001b[0m_get_response\u001b[0m\u001b[0;34m(\u001b[0m\u001b[0murl\u001b[0m\u001b[0;34m,\u001b[0m \u001b[0mparams\u001b[0m\u001b[0;34m=\u001b[0m\u001b[0mparams\u001b[0m\u001b[0;34m)\u001b[0m\u001b[0;34m\u001b[0m\u001b[0;34m\u001b[0m\u001b[0m\n\u001b[0m\u001b[1;32m    154\u001b[0m         \u001b[0mptrn\u001b[0m \u001b[0;34m=\u001b[0m \u001b[0;34mr\"root\\.App\\.main = (.*?);\\n}\\(this\\)\\);\"\u001b[0m\u001b[0;34m\u001b[0m\u001b[0;34m\u001b[0m\u001b[0m\n\u001b[1;32m    155\u001b[0m         \u001b[0;32mtry\u001b[0m\u001b[0;34m:\u001b[0m\u001b[0;34m\u001b[0m\u001b[0;34m\u001b[0m\u001b[0m\n",
            "\u001b[0;32m/usr/local/lib/python3.7/dist-packages/pandas_datareader/base.py\u001b[0m in \u001b[0;36m_get_response\u001b[0;34m(self, url, params, headers)\u001b[0m\n\u001b[1;32m    179\u001b[0m             \u001b[0mmsg\u001b[0m \u001b[0;34m+=\u001b[0m \u001b[0;34m\"\\nResponse Text:\\n{0}\"\u001b[0m\u001b[0;34m.\u001b[0m\u001b[0mformat\u001b[0m\u001b[0;34m(\u001b[0m\u001b[0mlast_response_text\u001b[0m\u001b[0;34m)\u001b[0m\u001b[0;34m\u001b[0m\u001b[0;34m\u001b[0m\u001b[0m\n\u001b[1;32m    180\u001b[0m \u001b[0;34m\u001b[0m\u001b[0m\n\u001b[0;32m--> 181\u001b[0;31m         \u001b[0;32mraise\u001b[0m \u001b[0mRemoteDataError\u001b[0m\u001b[0;34m(\u001b[0m\u001b[0mmsg\u001b[0m\u001b[0;34m)\u001b[0m\u001b[0;34m\u001b[0m\u001b[0;34m\u001b[0m\u001b[0m\n\u001b[0m\u001b[1;32m    182\u001b[0m \u001b[0;34m\u001b[0m\u001b[0m\n\u001b[1;32m    183\u001b[0m     \u001b[0;32mdef\u001b[0m \u001b[0m_get_crumb\u001b[0m\u001b[0;34m(\u001b[0m\u001b[0mself\u001b[0m\u001b[0;34m,\u001b[0m \u001b[0;34m*\u001b[0m\u001b[0margs\u001b[0m\u001b[0;34m)\u001b[0m\u001b[0;34m:\u001b[0m\u001b[0;34m\u001b[0m\u001b[0;34m\u001b[0m\u001b[0m\n",
            "\u001b[0;31mRemoteDataError\u001b[0m: Unable to read URL: https://finance.yahoo.com/quote/GE/history?period1=1568088000&period2=1631591999&interval=1d&frequency=1d&filter=history\nResponse Text:\nb'<!DOCTYPE html>\\n  <html lang=\"en-us\"><head>\\n  <meta http-equiv=\"content-type\" content=\"text/html; charset=UTF-8\">\\n      <meta charset=\"utf-8\">\\n      <title>Yahoo</title>\\n      <meta name=\"viewport\" content=\"width=device-width,initial-scale=1,minimal-ui\">\\n      <meta http-equiv=\"X-UA-Compatible\" content=\"IE=edge,chrome=1\">\\n      <style>\\n  html {\\n      height: 100%;\\n  }\\n  body {\\n      background: #fafafc url(https://s.yimg.com/nn/img/sad-panda-201402200631.png) 50% 50%;\\n      background-size: cover;\\n      height: 100%;\\n      text-align: center;\\n      font: 300 18px \"helvetica neue\", helvetica, verdana, tahoma, arial, sans-serif;\\n  }\\n  table {\\n      height: 100%;\\n      width: 100%;\\n      table-layout: fixed;\\n      border-collapse: collapse;\\n      border-spacing: 0;\\n      border: none;\\n  }\\n  h1 {\\n      font-size: 42px;\\n      font-weight: 400;\\n      color: #400090;\\n  }\\n  p {\\n      color: #1A1A1A;\\n  }\\n  #message-1 {\\n      font-weight: bold;\\n      margin: 0;\\n  }\\n  #message-2 {\\n      display: inline-block;\\n      *display: inline;\\n      zoom: 1;\\n      max-width: 17em;\\n      _width: 17em;\\n  }\\n      </style>\\n  <script>\\n    document.write(\\'<img src=\"//geo.yahoo.com/b?s=1197757129&t=\\'+new Date().getTime()+\\'&src=aws&err_url=\\'+encodeURIComponent(document.URL)+\\'&err=%<pssc>&test=\\'+encodeURIComponent(\\'%<{Bucket}cqh[:200]>\\')+\\'\" width=\"0px\" height=\"0px\"/>\\');var beacon = new Image();beacon.src=\"//bcn.fp.yahoo.com/p?s=1197757129&t=\"+ne..."
          ]
        }
      ]
    },
    {
      "cell_type": "markdown",
      "metadata": {
        "id": "GCbKgjmFNrOS"
      },
      "source": [
        "### 方法一\n",
        "\n",
        "Yahoo Finance 現在會檢查是否是使用 Browser 連線，怎麼辦？\n",
        "\n",
        "http://www.useragentstring.com/pages/useragentstring.php"
      ]
    },
    {
      "cell_type": "code",
      "metadata": {
        "id": "lP-mo88xFdBI"
      },
      "source": [
        "import requests"
      ],
      "execution_count": null,
      "outputs": []
    },
    {
      "cell_type": "code",
      "metadata": {
        "id": "3-iqTCM3FeA9"
      },
      "source": [
        "url = \"https://query1.finance.yahoo.com/v7/finance/download/GE?period1=1568088000&period2=1631591999&interval=1d&events=history&includeAdjustedClose=true\""
      ],
      "execution_count": null,
      "outputs": []
    },
    {
      "cell_type": "code",
      "metadata": {
        "id": "g5v5Fer4FhkT"
      },
      "source": [
        "r = requests.get(url)"
      ],
      "execution_count": null,
      "outputs": []
    },
    {
      "cell_type": "code",
      "metadata": {
        "colab": {
          "base_uri": "https://localhost:8080/"
        },
        "id": "qBhk5KAgFlGk",
        "outputId": "545b5658-6579-4484-e09c-fe710d1017da"
      },
      "source": [
        "r.status_code"
      ],
      "execution_count": null,
      "outputs": [
        {
          "output_type": "execute_result",
          "data": {
            "text/plain": [
              "403"
            ]
          },
          "metadata": {},
          "execution_count": 78
        }
      ]
    },
    {
      "cell_type": "code",
      "metadata": {
        "colab": {
          "base_uri": "https://localhost:8080/"
        },
        "id": "ovaFZTVRFmtL",
        "outputId": "8bca6321-3966-4d49-e28b-61c9bf739676"
      },
      "source": [
        "print(r.text)"
      ],
      "execution_count": null,
      "outputs": [
        {
          "output_type": "stream",
          "name": "stdout",
          "text": [
            "Forbidden\n"
          ]
        }
      ]
    },
    {
      "cell_type": "code",
      "metadata": {
        "id": "4yYYUNt-Fo4F"
      },
      "source": [
        "headers={'user-agent':'Mozilla/5.0 (Windows NT 10.0; Win64; x64) AppleWebKit/537.36 (KHTML, like Gecko) Chrome/70.0.3538.77 Safari/537.36'}"
      ],
      "execution_count": null,
      "outputs": []
    },
    {
      "cell_type": "code",
      "metadata": {
        "id": "R-0ln_wsGrKK"
      },
      "source": [
        "r = requests.get(url, headers=headers)"
      ],
      "execution_count": null,
      "outputs": []
    },
    {
      "cell_type": "code",
      "metadata": {
        "colab": {
          "base_uri": "https://localhost:8080/"
        },
        "id": "uO6gSgPaGw1h",
        "outputId": "680095ac-c409-4456-95bd-00640d8e78ce"
      },
      "source": [
        "r.status_code"
      ],
      "execution_count": null,
      "outputs": [
        {
          "output_type": "execute_result",
          "data": {
            "text/plain": [
              "200"
            ]
          },
          "metadata": {},
          "execution_count": 101
        }
      ]
    },
    {
      "cell_type": "code",
      "metadata": {
        "id": "aRhgKnkWG6xr"
      },
      "source": [
        "print(r.text)"
      ],
      "execution_count": null,
      "outputs": []
    },
    {
      "cell_type": "code",
      "metadata": {
        "id": "l5D391HnG7-k"
      },
      "source": [
        "with open(\"GE.csv\",\"w\") as f:\n",
        "  f.write(r.text)"
      ],
      "execution_count": null,
      "outputs": []
    },
    {
      "cell_type": "code",
      "metadata": {
        "id": "bQr31TSuJ1af"
      },
      "source": [
        "df = pd.read_csv(\"GE.csv\", parse_dates=[\"Date\"], index_col=\"Date\")"
      ],
      "execution_count": null,
      "outputs": []
    },
    {
      "cell_type": "code",
      "metadata": {
        "colab": {
          "base_uri": "https://localhost:8080/",
          "height": 236
        },
        "id": "zmhn_Ja8J52d",
        "outputId": "0196c796-7aee-4cde-d633-1c1aafa1829e"
      },
      "source": [
        "df.head()"
      ],
      "execution_count": null,
      "outputs": [
        {
          "output_type": "execute_result",
          "data": {
            "text/html": [
              "<div>\n",
              "<style scoped>\n",
              "    .dataframe tbody tr th:only-of-type {\n",
              "        vertical-align: middle;\n",
              "    }\n",
              "\n",
              "    .dataframe tbody tr th {\n",
              "        vertical-align: top;\n",
              "    }\n",
              "\n",
              "    .dataframe thead th {\n",
              "        text-align: right;\n",
              "    }\n",
              "</style>\n",
              "<table border=\"1\" class=\"dataframe\">\n",
              "  <thead>\n",
              "    <tr style=\"text-align: right;\">\n",
              "      <th></th>\n",
              "      <th>Open</th>\n",
              "      <th>High</th>\n",
              "      <th>Low</th>\n",
              "      <th>Close</th>\n",
              "      <th>Adj Close</th>\n",
              "      <th>Volume</th>\n",
              "    </tr>\n",
              "    <tr>\n",
              "      <th>Date</th>\n",
              "      <th></th>\n",
              "      <th></th>\n",
              "      <th></th>\n",
              "      <th></th>\n",
              "      <th></th>\n",
              "      <th></th>\n",
              "    </tr>\n",
              "  </thead>\n",
              "  <tbody>\n",
              "    <tr>\n",
              "      <th>2019-09-10</th>\n",
              "      <td>71.279999</td>\n",
              "      <td>74.160004</td>\n",
              "      <td>71.199997</td>\n",
              "      <td>73.120003</td>\n",
              "      <td>72.497757</td>\n",
              "      <td>7827150</td>\n",
              "    </tr>\n",
              "    <tr>\n",
              "      <th>2019-09-11</th>\n",
              "      <td>73.199997</td>\n",
              "      <td>74.879997</td>\n",
              "      <td>72.480003</td>\n",
              "      <td>74.879997</td>\n",
              "      <td>74.242775</td>\n",
              "      <td>7136863</td>\n",
              "    </tr>\n",
              "    <tr>\n",
              "      <th>2019-09-12</th>\n",
              "      <td>75.199997</td>\n",
              "      <td>76.160004</td>\n",
              "      <td>73.760002</td>\n",
              "      <td>74.080002</td>\n",
              "      <td>73.449585</td>\n",
              "      <td>8514388</td>\n",
              "    </tr>\n",
              "    <tr>\n",
              "      <th>2019-09-13</th>\n",
              "      <td>74.480003</td>\n",
              "      <td>75.599998</td>\n",
              "      <td>73.120003</td>\n",
              "      <td>74.720001</td>\n",
              "      <td>74.164230</td>\n",
              "      <td>5698675</td>\n",
              "    </tr>\n",
              "    <tr>\n",
              "      <th>2019-09-16</th>\n",
              "      <td>74.400002</td>\n",
              "      <td>75.360001</td>\n",
              "      <td>73.360001</td>\n",
              "      <td>75.040001</td>\n",
              "      <td>74.481850</td>\n",
              "      <td>5718550</td>\n",
              "    </tr>\n",
              "  </tbody>\n",
              "</table>\n",
              "</div>"
            ],
            "text/plain": [
              "                 Open       High        Low      Close  Adj Close   Volume\n",
              "Date                                                                      \n",
              "2019-09-10  71.279999  74.160004  71.199997  73.120003  72.497757  7827150\n",
              "2019-09-11  73.199997  74.879997  72.480003  74.879997  74.242775  7136863\n",
              "2019-09-12  75.199997  76.160004  73.760002  74.080002  73.449585  8514388\n",
              "2019-09-13  74.480003  75.599998  73.120003  74.720001  74.164230  5698675\n",
              "2019-09-16  74.400002  75.360001  73.360001  75.040001  74.481850  5718550"
            ]
          },
          "metadata": {},
          "execution_count": 105
        }
      ]
    },
    {
      "cell_type": "code",
      "metadata": {
        "colab": {
          "base_uri": "https://localhost:8080/"
        },
        "id": "cVkKqngSJ6yD",
        "outputId": "90a96dd0-65b7-444d-d87d-7804e35384db"
      },
      "source": [
        "df.info()"
      ],
      "execution_count": null,
      "outputs": [
        {
          "output_type": "stream",
          "name": "stdout",
          "text": [
            "<class 'pandas.core.frame.DataFrame'>\n",
            "DatetimeIndex: 506 entries, 2019-09-10 to 2021-09-10\n",
            "Data columns (total 6 columns):\n",
            " #   Column     Non-Null Count  Dtype  \n",
            "---  ------     --------------  -----  \n",
            " 0   Open       506 non-null    float64\n",
            " 1   High       506 non-null    float64\n",
            " 2   Low        506 non-null    float64\n",
            " 3   Close      506 non-null    float64\n",
            " 4   Adj Close  506 non-null    float64\n",
            " 5   Volume     506 non-null    int64  \n",
            "dtypes: float64(5), int64(1)\n",
            "memory usage: 27.7 KB\n"
          ]
        }
      ]
    },
    {
      "cell_type": "code",
      "metadata": {
        "id": "b3CbG4fEJ_LF"
      },
      "source": [
        "df.iloc[10:50]"
      ],
      "execution_count": null,
      "outputs": []
    },
    {
      "cell_type": "code",
      "metadata": {
        "colab": {
          "base_uri": "https://localhost:8080/",
          "height": 303
        },
        "id": "x9lhphjPLySl",
        "outputId": "750cd85d-9981-43f8-d225-9fec48dcc5e7"
      },
      "source": [
        "df['2020-5']['Close'].plot()"
      ],
      "execution_count": null,
      "outputs": [
        {
          "output_type": "execute_result",
          "data": {
            "text/plain": [
              "<matplotlib.axes._subplots.AxesSubplot at 0x7f6a78aeccd0>"
            ]
          },
          "metadata": {},
          "execution_count": 112
        },
        {
          "output_type": "display_data",
          "data": {
            "image/png": "[encoded data removed]",
            "text/plain": [
              "<Figure size 432x288 with 1 Axes>"
            ]
          },
          "metadata": {
            "needs_background": "light"
          }
        }
      ]
    },
    {
      "cell_type": "markdown",
      "metadata": {
        "id": "zp66z-tnN2xa"
      },
      "source": [
        "### 方法二\n",
        "\n",
        "requests.get() 抓下來的資料，怎麼直接餵給 Pandas？"
      ]
    },
    {
      "cell_type": "code",
      "metadata": {
        "id": "6Rox4kA8L5Ug"
      },
      "source": [
        "import requests"
      ],
      "execution_count": null,
      "outputs": []
    },
    {
      "cell_type": "code",
      "metadata": {
        "id": "JecTb8eAOGDq"
      },
      "source": [
        "url = \"https://query1.finance.yahoo.com/v7/finance/download/GE?period1=1568088000&period2=1631591999&interval=1d&events=history&includeAdjustedClose=true\""
      ],
      "execution_count": null,
      "outputs": []
    },
    {
      "cell_type": "code",
      "metadata": {
        "id": "BFMHGf7POG7C"
      },
      "source": [
        "headers={'user-agent':'Mozilla/5.0 (Windows NT 10.0; Win64; x64) AppleWebKit/537.36 (KHTML, like Gecko) Chrome/70.0.3538.77 Safari/537.36'}"
      ],
      "execution_count": null,
      "outputs": []
    },
    {
      "cell_type": "code",
      "metadata": {
        "id": "OUBSrNudOLgr"
      },
      "source": [
        "r = requests.get(url, headers=headers)"
      ],
      "execution_count": null,
      "outputs": []
    },
    {
      "cell_type": "code",
      "metadata": {
        "colab": {
          "base_uri": "https://localhost:8080/"
        },
        "id": "VvY4eaiRO1kX",
        "outputId": "2ba388f1-c967-4181-e924-a637f68fe1af"
      },
      "source": [
        "r.status_code"
      ],
      "execution_count": null,
      "outputs": [
        {
          "output_type": "execute_result",
          "data": {
            "text/plain": [
              "200"
            ]
          },
          "metadata": {},
          "execution_count": 117
        }
      ]
    },
    {
      "cell_type": "code",
      "metadata": {
        "id": "VTwk3ZSGO_uQ"
      },
      "source": [
        "from io import StringIO"
      ],
      "execution_count": null,
      "outputs": []
    },
    {
      "cell_type": "code",
      "metadata": {
        "id": "qfHjlj1gO3nY"
      },
      "source": [
        "df = pd.read_csv(StringIO(r.text), parse_dates=[\"Date\"], index_col=\"Date\")"
      ],
      "execution_count": null,
      "outputs": []
    },
    {
      "cell_type": "code",
      "metadata": {
        "colab": {
          "base_uri": "https://localhost:8080/",
          "height": 236
        },
        "id": "LwKE-WcFPIQQ",
        "outputId": "b3922c09-57e2-496b-d4d9-53e23677ae5d"
      },
      "source": [
        "df.head()"
      ],
      "execution_count": null,
      "outputs": [
        {
          "output_type": "execute_result",
          "data": {
            "text/html": [
              "<div>\n",
              "<style scoped>\n",
              "    .dataframe tbody tr th:only-of-type {\n",
              "        vertical-align: middle;\n",
              "    }\n",
              "\n",
              "    .dataframe tbody tr th {\n",
              "        vertical-align: top;\n",
              "    }\n",
              "\n",
              "    .dataframe thead th {\n",
              "        text-align: right;\n",
              "    }\n",
              "</style>\n",
              "<table border=\"1\" class=\"dataframe\">\n",
              "  <thead>\n",
              "    <tr style=\"text-align: right;\">\n",
              "      <th></th>\n",
              "      <th>Open</th>\n",
              "      <th>High</th>\n",
              "      <th>Low</th>\n",
              "      <th>Close</th>\n",
              "      <th>Adj Close</th>\n",
              "      <th>Volume</th>\n",
              "    </tr>\n",
              "    <tr>\n",
              "      <th>Date</th>\n",
              "      <th></th>\n",
              "      <th></th>\n",
              "      <th></th>\n",
              "      <th></th>\n",
              "      <th></th>\n",
              "      <th></th>\n",
              "    </tr>\n",
              "  </thead>\n",
              "  <tbody>\n",
              "    <tr>\n",
              "      <th>2019-09-10</th>\n",
              "      <td>71.279999</td>\n",
              "      <td>74.160004</td>\n",
              "      <td>71.199997</td>\n",
              "      <td>73.120003</td>\n",
              "      <td>72.497757</td>\n",
              "      <td>7827150</td>\n",
              "    </tr>\n",
              "    <tr>\n",
              "      <th>2019-09-11</th>\n",
              "      <td>73.199997</td>\n",
              "      <td>74.879997</td>\n",
              "      <td>72.480003</td>\n",
              "      <td>74.879997</td>\n",
              "      <td>74.242775</td>\n",
              "      <td>7136863</td>\n",
              "    </tr>\n",
              "    <tr>\n",
              "      <th>2019-09-12</th>\n",
              "      <td>75.199997</td>\n",
              "      <td>76.160004</td>\n",
              "      <td>73.760002</td>\n",
              "      <td>74.080002</td>\n",
              "      <td>73.449585</td>\n",
              "      <td>8514388</td>\n",
              "    </tr>\n",
              "    <tr>\n",
              "      <th>2019-09-13</th>\n",
              "      <td>74.480003</td>\n",
              "      <td>75.599998</td>\n",
              "      <td>73.120003</td>\n",
              "      <td>74.720001</td>\n",
              "      <td>74.164230</td>\n",
              "      <td>5698675</td>\n",
              "    </tr>\n",
              "    <tr>\n",
              "      <th>2019-09-16</th>\n",
              "      <td>74.400002</td>\n",
              "      <td>75.360001</td>\n",
              "      <td>73.360001</td>\n",
              "      <td>75.040001</td>\n",
              "      <td>74.481850</td>\n",
              "      <td>5718550</td>\n",
              "    </tr>\n",
              "  </tbody>\n",
              "</table>\n",
              "</div>"
            ],
            "text/plain": [
              "                 Open       High        Low      Close  Adj Close   Volume\n",
              "Date                                                                      \n",
              "2019-09-10  71.279999  74.160004  71.199997  73.120003  72.497757  7827150\n",
              "2019-09-11  73.199997  74.879997  72.480003  74.879997  74.242775  7136863\n",
              "2019-09-12  75.199997  76.160004  73.760002  74.080002  73.449585  8514388\n",
              "2019-09-13  74.480003  75.599998  73.120003  74.720001  74.164230  5698675\n",
              "2019-09-16  74.400002  75.360001  73.360001  75.040001  74.481850  5718550"
            ]
          },
          "metadata": {},
          "execution_count": 121
        }
      ]
    },
    {
      "cell_type": "code",
      "metadata": {
        "colab": {
          "base_uri": "https://localhost:8080/"
        },
        "id": "kJh7Nku4PKEH",
        "outputId": "514652c4-0655-4267-df3a-a6bee9579a02"
      },
      "source": [
        "r.headers"
      ],
      "execution_count": null,
      "outputs": [
        {
          "output_type": "execute_result",
          "data": {
            "text/plain": [
              "{'content-disposition': 'attachment; filename=GE.csv', 'content-type': 'text/csv;charset=utf-8', 'vary': 'Origin', 'cache-control': 'private, max-age=10, stale-while-revalidate=20', 'y-rid': '4v7slblgjths4', 'x-yahoo-request-id': '4v7slblgjths4', 'x-request-id': 'f55d39ca-cf06-4d29-bd46-55895489b2ec', 'x-envoy-upstream-service-time': '72', 'date': 'Mon, 13 Sep 2021 03:37:40 GMT', 'server': 'ATS', 'x-envoy-decorator-operation': 'finance-chart-api--mtls-production-gq1.finance-k8s.svc.yahoo.local:4080/*', 'Age': '0', 'Strict-Transport-Security': 'max-age=15552000', 'Referrer-Policy': 'no-referrer-when-downgrade', 'X-Frame-Options': 'SAMEORIGIN', 'Transfer-Encoding': 'chunked', 'Connection': 'keep-alive', 'Expect-CT': 'max-age=31536000, report-uri=\"http://csp.yahoo.com/beacon/csp?src=yahoocom-expect-ct-report-only\"', 'X-XSS-Protection': '1; mode=block', 'X-Content-Type-Options': 'nosniff'}"
            ]
          },
          "metadata": {},
          "execution_count": 122
        }
      ]
    },
    {
      "cell_type": "code",
      "metadata": {
        "colab": {
          "base_uri": "https://localhost:8080/"
        },
        "id": "nmz3wDftQNae",
        "outputId": "27d27ef9-05a6-4251-b831-ea450573c95d"
      },
      "source": [
        "r.request.headers"
      ],
      "execution_count": null,
      "outputs": [
        {
          "output_type": "execute_result",
          "data": {
            "text/plain": [
              "{'user-agent': 'Mozilla/5.0 (Windows NT 10.0; Win64; x64) AppleWebKit/537.36 (KHTML, like Gecko) Chrome/70.0.3538.77 Safari/537.36', 'Accept-Encoding': 'gzip, deflate', 'Accept': '*/*', 'Connection': 'keep-alive'}"
            ]
          },
          "metadata": {},
          "execution_count": 123
        }
      ]
    },
    {
      "cell_type": "code",
      "metadata": {
        "id": "2bzB_LaHQWsk"
      },
      "source": [
        "res = requests.get('http://www.nknu.edu.tw')"
      ],
      "execution_count": null,
      "outputs": []
    },
    {
      "cell_type": "code",
      "metadata": {
        "colab": {
          "base_uri": "https://localhost:8080/"
        },
        "id": "pwPVfbYrQpv4",
        "outputId": "05d5385b-12cd-4da0-b762-91dcf27baae6"
      },
      "source": [
        "res.request.headers"
      ],
      "execution_count": null,
      "outputs": [
        {
          "output_type": "execute_result",
          "data": {
            "text/plain": [
              "{'User-Agent': 'python-requests/2.23.0', 'Accept-Encoding': 'gzip, deflate', 'Accept': '*/*', 'Connection': 'keep-alive'}"
            ]
          },
          "metadata": {},
          "execution_count": 125
        }
      ]
    },
    {
      "cell_type": "markdown",
      "metadata": {
        "id": "-Ry7ZB0kQ8vc"
      },
      "source": [
        "### 方法三\n",
        "\n",
        "難道 pandas-datareader 無法假裝自己是瀏覽器嗎？"
      ]
    },
    {
      "cell_type": "code",
      "metadata": {
        "id": "GBgSpT8DdCFY"
      },
      "source": [
        "headers={'user-agent':'Mozilla/5.0 (Windows NT 10.0; Win64; x64) AppleWebKit/537.36 (KHTML, like Gecko) Chrome/70.0.3538.77 Safari/537.36'}"
      ],
      "execution_count": null,
      "outputs": []
    },
    {
      "cell_type": "code",
      "metadata": {
        "colab": {
          "base_uri": "https://localhost:8080/",
          "height": 236
        },
        "id": "dWRP_DaJQsZ8",
        "outputId": "d0153c20-d65d-40d3-816d-b31476954c7e"
      },
      "source": [
        "import requests\n",
        "import pandas_datareader.data as web\n",
        "\n",
        "with requests.session() as s:\n",
        "  s.headers = headers\n",
        "df = web.DataReader('GE', 'yahoo', start='2019-09-10', session=s)\n",
        "df.head()"
      ],
      "execution_count": null,
      "outputs": [
        {
          "output_type": "execute_result",
          "data": {
            "text/html": [
              "<div>\n",
              "<style scoped>\n",
              "    .dataframe tbody tr th:only-of-type {\n",
              "        vertical-align: middle;\n",
              "    }\n",
              "\n",
              "    .dataframe tbody tr th {\n",
              "        vertical-align: top;\n",
              "    }\n",
              "\n",
              "    .dataframe thead th {\n",
              "        text-align: right;\n",
              "    }\n",
              "</style>\n",
              "<table border=\"1\" class=\"dataframe\">\n",
              "  <thead>\n",
              "    <tr style=\"text-align: right;\">\n",
              "      <th></th>\n",
              "      <th>High</th>\n",
              "      <th>Low</th>\n",
              "      <th>Open</th>\n",
              "      <th>Close</th>\n",
              "      <th>Volume</th>\n",
              "      <th>Adj Close</th>\n",
              "    </tr>\n",
              "    <tr>\n",
              "      <th>Date</th>\n",
              "      <th></th>\n",
              "      <th></th>\n",
              "      <th></th>\n",
              "      <th></th>\n",
              "      <th></th>\n",
              "      <th></th>\n",
              "    </tr>\n",
              "  </thead>\n",
              "  <tbody>\n",
              "    <tr>\n",
              "      <th>2019-09-10</th>\n",
              "      <td>74.160004</td>\n",
              "      <td>71.199997</td>\n",
              "      <td>71.279999</td>\n",
              "      <td>73.120003</td>\n",
              "      <td>7827150.0</td>\n",
              "      <td>72.497757</td>\n",
              "    </tr>\n",
              "    <tr>\n",
              "      <th>2019-09-11</th>\n",
              "      <td>74.879997</td>\n",
              "      <td>72.480003</td>\n",
              "      <td>73.199997</td>\n",
              "      <td>74.879997</td>\n",
              "      <td>7136863.0</td>\n",
              "      <td>74.242775</td>\n",
              "    </tr>\n",
              "    <tr>\n",
              "      <th>2019-09-12</th>\n",
              "      <td>76.160004</td>\n",
              "      <td>73.760002</td>\n",
              "      <td>75.199997</td>\n",
              "      <td>74.080002</td>\n",
              "      <td>8514388.0</td>\n",
              "      <td>73.449585</td>\n",
              "    </tr>\n",
              "    <tr>\n",
              "      <th>2019-09-13</th>\n",
              "      <td>75.599998</td>\n",
              "      <td>73.120003</td>\n",
              "      <td>74.480003</td>\n",
              "      <td>74.720001</td>\n",
              "      <td>5698675.0</td>\n",
              "      <td>74.164230</td>\n",
              "    </tr>\n",
              "    <tr>\n",
              "      <th>2019-09-16</th>\n",
              "      <td>75.360001</td>\n",
              "      <td>73.360001</td>\n",
              "      <td>74.400002</td>\n",
              "      <td>75.040001</td>\n",
              "      <td>5718550.0</td>\n",
              "      <td>74.481850</td>\n",
              "    </tr>\n",
              "  </tbody>\n",
              "</table>\n",
              "</div>"
            ],
            "text/plain": [
              "                 High        Low       Open      Close     Volume  Adj Close\n",
              "Date                                                                        \n",
              "2019-09-10  74.160004  71.199997  71.279999  73.120003  7827150.0  72.497757\n",
              "2019-09-11  74.879997  72.480003  73.199997  74.879997  7136863.0  74.242775\n",
              "2019-09-12  76.160004  73.760002  75.199997  74.080002  8514388.0  73.449585\n",
              "2019-09-13  75.599998  73.120003  74.480003  74.720001  5698675.0  74.164230\n",
              "2019-09-16  75.360001  73.360001  74.400002  75.040001  5718550.0  74.481850"
            ]
          },
          "metadata": {},
          "execution_count": 126
        }
      ]
    },
    {
      "cell_type": "code",
      "metadata": {
        "id": "0TD9PQT8TbIq"
      },
      "source": [
        ""
      ],
      "execution_count": null,
      "outputs": []
    }
  ]
}