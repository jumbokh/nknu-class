{
  "nbformat": 4,
  "nbformat_minor": 0,
  "metadata": {
    "kernelspec": {
      "display_name": "Python 3",
      "language": "python",
      "name": "python3"
    },
    "language_info": {
      "codemirror_mode": {
        "name": "ipython",
        "version": 3
      },
      "file_extension": ".py",
      "mimetype": "text/x-python",
      "name": "python",
      "nbconvert_exporter": "python",
      "pygments_lexer": "ipython3",
      "version": "3.7.1"
    },
    "varInspector": {
      "cols": {
        "lenName": 16,
        "lenType": 16,
        "lenVar": 40
      },
      "kernels_config": {
        "python": {
          "delete_cmd_postfix": "",
          "delete_cmd_prefix": "del ",
          "library": "var_list.py",
          "varRefreshCmd": "print(var_dic_list())"
        },
        "r": {
          "delete_cmd_postfix": ") ",
          "delete_cmd_prefix": "rm(",
          "library": "var_list.r",
          "varRefreshCmd": "cat(var_dic_list()) "
        }
      },
      "types_to_exclude": [
        "module",
        "function",
        "builtin_function_or_method",
        "instance",
        "_Feature"
      ],
      "window_display": false
    },
    "colab": {
      "name": "boston-house-price-prediction.ipynb",
      "provenance": [],
      "include_colab_link": true
    }
  },
  "cells": [
    {
      "cell_type": "markdown",
      "metadata": {
        "id": "view-in-github",
        "colab_type": "text"
      },
      "source": [
        "<a href=\"https://colab.research.google.com/github/jumbokh/nknu-class/blob/main/notebooks/boston_house_price_prediction.ipynb\" target=\"_parent\"><img src=\"https://colab.research.google.com/assets/colab-badge.svg\" alt=\"Open In Colab\"/></a>"
      ]
    },
    {
      "cell_type": "markdown",
      "metadata": {
        "_uuid": "a40153021c15eb45ff2026d456945763c79c11ef",
        "id": "BvnBpusuoL28"
      },
      "source": [
        "# Boston house price prediction"
      ]
    },
    {
      "cell_type": "markdown",
      "metadata": {
        "_uuid": "8731c498e69012e3b8e407399ab813f0f15fc732",
        "id": "NYLzfUxAoL3D"
      },
      "source": [
        "The problem that we are going to solve here is that given a set of features that describe a house in Boston, our machine learning model must predict the house price. To train our machine learning model with boston housing data, we will be using scikit-learn’s boston dataset.\n",
        "\n",
        "In this dataset, each row describes a boston town or suburb. There are 506 rows and 13 attributes (features) with a target column (price).\n",
        "https://archive.ics.uci.edu/ml/machine-learning-databases/housing/housing.names"
      ]
    },
    {
      "cell_type": "code",
      "metadata": {
        "trusted": true,
        "_uuid": "c72424fcefad6b27f904bdc3301ff272baf3b212",
        "id": "jHAKRoIZoL3F"
      },
      "source": [
        "# Importing the libraries \n",
        "import pandas as pd\n",
        "import numpy as np\n",
        "from sklearn import metrics\n",
        "import matplotlib.pyplot as plt\n",
        "import seaborn as sns\n",
        "%matplotlib inline"
      ],
      "execution_count": 1,
      "outputs": []
    },
    {
      "cell_type": "code",
      "metadata": {
        "scrolled": true,
        "trusted": true,
        "_uuid": "7ad691aeebc4b3845eefa1ac8ca32fc4b631209d",
        "id": "r5mJzF0coL3H"
      },
      "source": [
        "# Importing the Boston Housing dataset\n",
        "from sklearn.datasets import load_boston\n",
        "boston = load_boston()"
      ],
      "execution_count": 2,
      "outputs": []
    },
    {
      "cell_type": "code",
      "metadata": {
        "trusted": true,
        "_uuid": "5853d3c3d9e4b52f37ea42665f573bfd92941ddf",
        "id": "BcQFRENXoL3I"
      },
      "source": [
        "# Initializing the dataframe\n",
        "data = pd.DataFrame(boston.data)"
      ],
      "execution_count": 3,
      "outputs": []
    },
    {
      "cell_type": "code",
      "metadata": {
        "trusted": true,
        "_uuid": "7b6f7755accf4b1c5f4e90a3d4aea7f41f89a482",
        "colab": {
          "base_uri": "https://localhost:8080/",
          "height": 204
        },
        "id": "KSWtmByDoL3I",
        "outputId": "350d1a5f-9125-48a6-87b2-152195a3e90a"
      },
      "source": [
        "# See head of the dataset\n",
        "data.head()"
      ],
      "execution_count": 4,
      "outputs": [
        {
          "output_type": "execute_result",
          "data": {
            "text/html": [
              "<div>\n",
              "<style scoped>\n",
              "    .dataframe tbody tr th:only-of-type {\n",
              "        vertical-align: middle;\n",
              "    }\n",
              "\n",
              "    .dataframe tbody tr th {\n",
              "        vertical-align: top;\n",
              "    }\n",
              "\n",
              "    .dataframe thead th {\n",
              "        text-align: right;\n",
              "    }\n",
              "</style>\n",
              "<table border=\"1\" class=\"dataframe\">\n",
              "  <thead>\n",
              "    <tr style=\"text-align: right;\">\n",
              "      <th></th>\n",
              "      <th>0</th>\n",
              "      <th>1</th>\n",
              "      <th>2</th>\n",
              "      <th>3</th>\n",
              "      <th>4</th>\n",
              "      <th>5</th>\n",
              "      <th>6</th>\n",
              "      <th>7</th>\n",
              "      <th>8</th>\n",
              "      <th>9</th>\n",
              "      <th>10</th>\n",
              "      <th>11</th>\n",
              "      <th>12</th>\n",
              "    </tr>\n",
              "  </thead>\n",
              "  <tbody>\n",
              "    <tr>\n",
              "      <th>0</th>\n",
              "      <td>0.00632</td>\n",
              "      <td>18.0</td>\n",
              "      <td>2.31</td>\n",
              "      <td>0.0</td>\n",
              "      <td>0.538</td>\n",
              "      <td>6.575</td>\n",
              "      <td>65.2</td>\n",
              "      <td>4.0900</td>\n",
              "      <td>1.0</td>\n",
              "      <td>296.0</td>\n",
              "      <td>15.3</td>\n",
              "      <td>396.90</td>\n",
              "      <td>4.98</td>\n",
              "    </tr>\n",
              "    <tr>\n",
              "      <th>1</th>\n",
              "      <td>0.02731</td>\n",
              "      <td>0.0</td>\n",
              "      <td>7.07</td>\n",
              "      <td>0.0</td>\n",
              "      <td>0.469</td>\n",
              "      <td>6.421</td>\n",
              "      <td>78.9</td>\n",
              "      <td>4.9671</td>\n",
              "      <td>2.0</td>\n",
              "      <td>242.0</td>\n",
              "      <td>17.8</td>\n",
              "      <td>396.90</td>\n",
              "      <td>9.14</td>\n",
              "    </tr>\n",
              "    <tr>\n",
              "      <th>2</th>\n",
              "      <td>0.02729</td>\n",
              "      <td>0.0</td>\n",
              "      <td>7.07</td>\n",
              "      <td>0.0</td>\n",
              "      <td>0.469</td>\n",
              "      <td>7.185</td>\n",
              "      <td>61.1</td>\n",
              "      <td>4.9671</td>\n",
              "      <td>2.0</td>\n",
              "      <td>242.0</td>\n",
              "      <td>17.8</td>\n",
              "      <td>392.83</td>\n",
              "      <td>4.03</td>\n",
              "    </tr>\n",
              "    <tr>\n",
              "      <th>3</th>\n",
              "      <td>0.03237</td>\n",
              "      <td>0.0</td>\n",
              "      <td>2.18</td>\n",
              "      <td>0.0</td>\n",
              "      <td>0.458</td>\n",
              "      <td>6.998</td>\n",
              "      <td>45.8</td>\n",
              "      <td>6.0622</td>\n",
              "      <td>3.0</td>\n",
              "      <td>222.0</td>\n",
              "      <td>18.7</td>\n",
              "      <td>394.63</td>\n",
              "      <td>2.94</td>\n",
              "    </tr>\n",
              "    <tr>\n",
              "      <th>4</th>\n",
              "      <td>0.06905</td>\n",
              "      <td>0.0</td>\n",
              "      <td>2.18</td>\n",
              "      <td>0.0</td>\n",
              "      <td>0.458</td>\n",
              "      <td>7.147</td>\n",
              "      <td>54.2</td>\n",
              "      <td>6.0622</td>\n",
              "      <td>3.0</td>\n",
              "      <td>222.0</td>\n",
              "      <td>18.7</td>\n",
              "      <td>396.90</td>\n",
              "      <td>5.33</td>\n",
              "    </tr>\n",
              "  </tbody>\n",
              "</table>\n",
              "</div>"
            ],
            "text/plain": [
              "        0     1     2    3      4   ...   8      9     10      11    12\n",
              "0  0.00632  18.0  2.31  0.0  0.538  ...  1.0  296.0  15.3  396.90  4.98\n",
              "1  0.02731   0.0  7.07  0.0  0.469  ...  2.0  242.0  17.8  396.90  9.14\n",
              "2  0.02729   0.0  7.07  0.0  0.469  ...  2.0  242.0  17.8  392.83  4.03\n",
              "3  0.03237   0.0  2.18  0.0  0.458  ...  3.0  222.0  18.7  394.63  2.94\n",
              "4  0.06905   0.0  2.18  0.0  0.458  ...  3.0  222.0  18.7  396.90  5.33\n",
              "\n",
              "[5 rows x 13 columns]"
            ]
          },
          "metadata": {},
          "execution_count": 4
        }
      ]
    },
    {
      "cell_type": "code",
      "metadata": {
        "scrolled": false,
        "trusted": true,
        "_uuid": "6ecbc294bdbabbafee3893b5c66bd89709d6a069",
        "colab": {
          "base_uri": "https://localhost:8080/",
          "height": 204
        },
        "id": "keryxNCEoL3J",
        "outputId": "1216753a-59ee-4d24-9857-1bd729a3de6e"
      },
      "source": [
        "#Adding the feature names to the dataframe\n",
        "data.columns = boston.feature_names\n",
        "data.head()"
      ],
      "execution_count": 5,
      "outputs": [
        {
          "output_type": "execute_result",
          "data": {
            "text/html": [
              "<div>\n",
              "<style scoped>\n",
              "    .dataframe tbody tr th:only-of-type {\n",
              "        vertical-align: middle;\n",
              "    }\n",
              "\n",
              "    .dataframe tbody tr th {\n",
              "        vertical-align: top;\n",
              "    }\n",
              "\n",
              "    .dataframe thead th {\n",
              "        text-align: right;\n",
              "    }\n",
              "</style>\n",
              "<table border=\"1\" class=\"dataframe\">\n",
              "  <thead>\n",
              "    <tr style=\"text-align: right;\">\n",
              "      <th></th>\n",
              "      <th>CRIM</th>\n",
              "      <th>ZN</th>\n",
              "      <th>INDUS</th>\n",
              "      <th>CHAS</th>\n",
              "      <th>NOX</th>\n",
              "      <th>RM</th>\n",
              "      <th>AGE</th>\n",
              "      <th>DIS</th>\n",
              "      <th>RAD</th>\n",
              "      <th>TAX</th>\n",
              "      <th>PTRATIO</th>\n",
              "      <th>B</th>\n",
              "      <th>LSTAT</th>\n",
              "    </tr>\n",
              "  </thead>\n",
              "  <tbody>\n",
              "    <tr>\n",
              "      <th>0</th>\n",
              "      <td>0.00632</td>\n",
              "      <td>18.0</td>\n",
              "      <td>2.31</td>\n",
              "      <td>0.0</td>\n",
              "      <td>0.538</td>\n",
              "      <td>6.575</td>\n",
              "      <td>65.2</td>\n",
              "      <td>4.0900</td>\n",
              "      <td>1.0</td>\n",
              "      <td>296.0</td>\n",
              "      <td>15.3</td>\n",
              "      <td>396.90</td>\n",
              "      <td>4.98</td>\n",
              "    </tr>\n",
              "    <tr>\n",
              "      <th>1</th>\n",
              "      <td>0.02731</td>\n",
              "      <td>0.0</td>\n",
              "      <td>7.07</td>\n",
              "      <td>0.0</td>\n",
              "      <td>0.469</td>\n",
              "      <td>6.421</td>\n",
              "      <td>78.9</td>\n",
              "      <td>4.9671</td>\n",
              "      <td>2.0</td>\n",
              "      <td>242.0</td>\n",
              "      <td>17.8</td>\n",
              "      <td>396.90</td>\n",
              "      <td>9.14</td>\n",
              "    </tr>\n",
              "    <tr>\n",
              "      <th>2</th>\n",
              "      <td>0.02729</td>\n",
              "      <td>0.0</td>\n",
              "      <td>7.07</td>\n",
              "      <td>0.0</td>\n",
              "      <td>0.469</td>\n",
              "      <td>7.185</td>\n",
              "      <td>61.1</td>\n",
              "      <td>4.9671</td>\n",
              "      <td>2.0</td>\n",
              "      <td>242.0</td>\n",
              "      <td>17.8</td>\n",
              "      <td>392.83</td>\n",
              "      <td>4.03</td>\n",
              "    </tr>\n",
              "    <tr>\n",
              "      <th>3</th>\n",
              "      <td>0.03237</td>\n",
              "      <td>0.0</td>\n",
              "      <td>2.18</td>\n",
              "      <td>0.0</td>\n",
              "      <td>0.458</td>\n",
              "      <td>6.998</td>\n",
              "      <td>45.8</td>\n",
              "      <td>6.0622</td>\n",
              "      <td>3.0</td>\n",
              "      <td>222.0</td>\n",
              "      <td>18.7</td>\n",
              "      <td>394.63</td>\n",
              "      <td>2.94</td>\n",
              "    </tr>\n",
              "    <tr>\n",
              "      <th>4</th>\n",
              "      <td>0.06905</td>\n",
              "      <td>0.0</td>\n",
              "      <td>2.18</td>\n",
              "      <td>0.0</td>\n",
              "      <td>0.458</td>\n",
              "      <td>7.147</td>\n",
              "      <td>54.2</td>\n",
              "      <td>6.0622</td>\n",
              "      <td>3.0</td>\n",
              "      <td>222.0</td>\n",
              "      <td>18.7</td>\n",
              "      <td>396.90</td>\n",
              "      <td>5.33</td>\n",
              "    </tr>\n",
              "  </tbody>\n",
              "</table>\n",
              "</div>"
            ],
            "text/plain": [
              "      CRIM    ZN  INDUS  CHAS    NOX  ...  RAD    TAX  PTRATIO       B  LSTAT\n",
              "0  0.00632  18.0   2.31   0.0  0.538  ...  1.0  296.0     15.3  396.90   4.98\n",
              "1  0.02731   0.0   7.07   0.0  0.469  ...  2.0  242.0     17.8  396.90   9.14\n",
              "2  0.02729   0.0   7.07   0.0  0.469  ...  2.0  242.0     17.8  392.83   4.03\n",
              "3  0.03237   0.0   2.18   0.0  0.458  ...  3.0  222.0     18.7  394.63   2.94\n",
              "4  0.06905   0.0   2.18   0.0  0.458  ...  3.0  222.0     18.7  396.90   5.33\n",
              "\n",
              "[5 rows x 13 columns]"
            ]
          },
          "metadata": {},
          "execution_count": 5
        }
      ]
    },
    {
      "cell_type": "markdown",
      "metadata": {
        "_uuid": "45b04cfb9bfc68cfab0ebf412ad402bac6fc5343",
        "id": "XfJpxCkxoL3L"
      },
      "source": [
        "CRIM per capita crime rate by town <br>\n",
        "ZN proportion of residential land zoned for lots over 25,000 sq.ft. <br>\n",
        "INDUS proportion of non-retail business acres per town <br>\n",
        "CHAS Charles River dummy variable (= 1 if tract bounds river; 0 otherwise) <br>\n",
        "NOX nitric oxides concentration (parts per 10 million) <br>\n",
        "RM average number of rooms per dwelling <br>\n",
        "AGE proportion of owner-occupied units built prior to 1940 <br>\n",
        "DIS weighted distances to five Boston employment centres <br>\n",
        "RAD index of accessibility to radial highways <br>\n",
        "TAX full-value property-tax rate per 10,000usd <br>\n",
        "PTRATIO pupil-teacher ratio by town <br>\n",
        "B 1000(Bk - 0.63)^2 where Bk is the proportion of blacks by town <br>\n",
        "LSTAT % lower status of the population <br>"
      ]
    },
    {
      "cell_type": "markdown",
      "metadata": {
        "_uuid": "d16fdd57c4ee58a812935d5a3e1f4bfe5923e23e",
        "id": "DUv4Dw26oL3M"
      },
      "source": [
        "Each record in the database describes a Boston suburb or town."
      ]
    },
    {
      "cell_type": "code",
      "metadata": {
        "trusted": true,
        "_uuid": "293641aa8ae59c57884bd19c0ee6fc43143b19b8",
        "id": "kuZR6ExCoL3O"
      },
      "source": [
        "#Adding target variable to dataframe\n",
        "data['PRICE'] = boston.target \n",
        "# Median value of owner-occupied homes in $1000s"
      ],
      "execution_count": 6,
      "outputs": []
    },
    {
      "cell_type": "code",
      "metadata": {
        "trusted": true,
        "_uuid": "b5edd7daea054f44df78e956846596fd9e82274f",
        "colab": {
          "base_uri": "https://localhost:8080/"
        },
        "id": "L3JCap6BoL3O",
        "outputId": "b1cd043c-69ca-43bf-ba76-1edd93bb73d5"
      },
      "source": [
        "#Check the shape of dataframe\n",
        "data.shape"
      ],
      "execution_count": 7,
      "outputs": [
        {
          "output_type": "execute_result",
          "data": {
            "text/plain": [
              "(506, 14)"
            ]
          },
          "metadata": {},
          "execution_count": 7
        }
      ]
    },
    {
      "cell_type": "code",
      "metadata": {
        "trusted": true,
        "_uuid": "264fd03458b3b349d2d52ac02b83e2e85b6190b2",
        "colab": {
          "base_uri": "https://localhost:8080/"
        },
        "id": "JE9FzKNyoL3P",
        "outputId": "580c08e0-613a-4a94-9364-23439637b65b"
      },
      "source": [
        "data.columns"
      ],
      "execution_count": 8,
      "outputs": [
        {
          "output_type": "execute_result",
          "data": {
            "text/plain": [
              "Index(['CRIM', 'ZN', 'INDUS', 'CHAS', 'NOX', 'RM', 'AGE', 'DIS', 'RAD', 'TAX',\n",
              "       'PTRATIO', 'B', 'LSTAT', 'PRICE'],\n",
              "      dtype='object')"
            ]
          },
          "metadata": {},
          "execution_count": 8
        }
      ]
    },
    {
      "cell_type": "code",
      "metadata": {
        "trusted": true,
        "_uuid": "1a745ede36d316c539a7c8d53ced27b9ccae85b2",
        "colab": {
          "base_uri": "https://localhost:8080/"
        },
        "id": "h4g6Y0SKoL3P",
        "outputId": "3b3491f4-c26d-44e4-e113-aabf48ada906"
      },
      "source": [
        "data.dtypes"
      ],
      "execution_count": 9,
      "outputs": [
        {
          "output_type": "execute_result",
          "data": {
            "text/plain": [
              "CRIM       float64\n",
              "ZN         float64\n",
              "INDUS      float64\n",
              "CHAS       float64\n",
              "NOX        float64\n",
              "RM         float64\n",
              "AGE        float64\n",
              "DIS        float64\n",
              "RAD        float64\n",
              "TAX        float64\n",
              "PTRATIO    float64\n",
              "B          float64\n",
              "LSTAT      float64\n",
              "PRICE      float64\n",
              "dtype: object"
            ]
          },
          "metadata": {},
          "execution_count": 9
        }
      ]
    },
    {
      "cell_type": "code",
      "metadata": {
        "trusted": true,
        "_uuid": "e86b006860c2efe29294aca3ba4419d9c758ced2",
        "colab": {
          "base_uri": "https://localhost:8080/"
        },
        "id": "vyhCf1Y6oL3Q",
        "outputId": "6540130a-badb-40f0-ff22-c7e7254a322a"
      },
      "source": [
        "# Identifying the unique number of values in the dataset\n",
        "data.nunique()"
      ],
      "execution_count": 10,
      "outputs": [
        {
          "output_type": "execute_result",
          "data": {
            "text/plain": [
              "CRIM       504\n",
              "ZN          26\n",
              "INDUS       76\n",
              "CHAS         2\n",
              "NOX         81\n",
              "RM         446\n",
              "AGE        356\n",
              "DIS        412\n",
              "RAD          9\n",
              "TAX         66\n",
              "PTRATIO     46\n",
              "B          357\n",
              "LSTAT      455\n",
              "PRICE      229\n",
              "dtype: int64"
            ]
          },
          "metadata": {},
          "execution_count": 10
        }
      ]
    },
    {
      "cell_type": "code",
      "metadata": {
        "scrolled": false,
        "trusted": true,
        "_uuid": "cef1bbf6ab92b5cd42a9a0771a24f48a09acf218",
        "colab": {
          "base_uri": "https://localhost:8080/"
        },
        "id": "Z0yhIXMOoL3Q",
        "outputId": "c4bf19d5-3964-4a9c-e262-e4a81c6e9f0b"
      },
      "source": [
        "# Check for missing values\n",
        "data.isnull().sum()"
      ],
      "execution_count": 11,
      "outputs": [
        {
          "output_type": "execute_result",
          "data": {
            "text/plain": [
              "CRIM       0\n",
              "ZN         0\n",
              "INDUS      0\n",
              "CHAS       0\n",
              "NOX        0\n",
              "RM         0\n",
              "AGE        0\n",
              "DIS        0\n",
              "RAD        0\n",
              "TAX        0\n",
              "PTRATIO    0\n",
              "B          0\n",
              "LSTAT      0\n",
              "PRICE      0\n",
              "dtype: int64"
            ]
          },
          "metadata": {},
          "execution_count": 11
        }
      ]
    },
    {
      "cell_type": "code",
      "metadata": {
        "trusted": true,
        "_uuid": "9d77b2f0e188a0bad15574340c61fad981a571b5",
        "colab": {
          "base_uri": "https://localhost:8080/",
          "height": 49
        },
        "id": "E1PIN1g_oL3R",
        "outputId": "cc82a9de-8a38-45bb-fe5e-acd6664c3430"
      },
      "source": [
        "# See rows with missing values\n",
        "data[data.isnull().any(axis=1)]"
      ],
      "execution_count": 12,
      "outputs": [
        {
          "output_type": "execute_result",
          "data": {
            "text/html": [
              "<div>\n",
              "<style scoped>\n",
              "    .dataframe tbody tr th:only-of-type {\n",
              "        vertical-align: middle;\n",
              "    }\n",
              "\n",
              "    .dataframe tbody tr th {\n",
              "        vertical-align: top;\n",
              "    }\n",
              "\n",
              "    .dataframe thead th {\n",
              "        text-align: right;\n",
              "    }\n",
              "</style>\n",
              "<table border=\"1\" class=\"dataframe\">\n",
              "  <thead>\n",
              "    <tr style=\"text-align: right;\">\n",
              "      <th></th>\n",
              "      <th>CRIM</th>\n",
              "      <th>ZN</th>\n",
              "      <th>INDUS</th>\n",
              "      <th>CHAS</th>\n",
              "      <th>NOX</th>\n",
              "      <th>RM</th>\n",
              "      <th>AGE</th>\n",
              "      <th>DIS</th>\n",
              "      <th>RAD</th>\n",
              "      <th>TAX</th>\n",
              "      <th>PTRATIO</th>\n",
              "      <th>B</th>\n",
              "      <th>LSTAT</th>\n",
              "      <th>PRICE</th>\n",
              "    </tr>\n",
              "  </thead>\n",
              "  <tbody>\n",
              "  </tbody>\n",
              "</table>\n",
              "</div>"
            ],
            "text/plain": [
              "Empty DataFrame\n",
              "Columns: [CRIM, ZN, INDUS, CHAS, NOX, RM, AGE, DIS, RAD, TAX, PTRATIO, B, LSTAT, PRICE]\n",
              "Index: []"
            ]
          },
          "metadata": {},
          "execution_count": 12
        }
      ]
    },
    {
      "cell_type": "code",
      "metadata": {
        "scrolled": true,
        "trusted": true,
        "_uuid": "fd9f1bad153f453931265ca2c2662a138a6737b3",
        "colab": {
          "base_uri": "https://localhost:8080/",
          "height": 297
        },
        "id": "jnOA1MFDoL3R",
        "outputId": "eecb5975-765f-4e9e-aafb-51e9d9db2152"
      },
      "source": [
        "# Viewing the data statistics\n",
        "data.describe()"
      ],
      "execution_count": 13,
      "outputs": [
        {
          "output_type": "execute_result",
          "data": {
            "text/html": [
              "<div>\n",
              "<style scoped>\n",
              "    .dataframe tbody tr th:only-of-type {\n",
              "        vertical-align: middle;\n",
              "    }\n",
              "\n",
              "    .dataframe tbody tr th {\n",
              "        vertical-align: top;\n",
              "    }\n",
              "\n",
              "    .dataframe thead th {\n",
              "        text-align: right;\n",
              "    }\n",
              "</style>\n",
              "<table border=\"1\" class=\"dataframe\">\n",
              "  <thead>\n",
              "    <tr style=\"text-align: right;\">\n",
              "      <th></th>\n",
              "      <th>CRIM</th>\n",
              "      <th>ZN</th>\n",
              "      <th>INDUS</th>\n",
              "      <th>CHAS</th>\n",
              "      <th>NOX</th>\n",
              "      <th>RM</th>\n",
              "      <th>AGE</th>\n",
              "      <th>DIS</th>\n",
              "      <th>RAD</th>\n",
              "      <th>TAX</th>\n",
              "      <th>PTRATIO</th>\n",
              "      <th>B</th>\n",
              "      <th>LSTAT</th>\n",
              "      <th>PRICE</th>\n",
              "    </tr>\n",
              "  </thead>\n",
              "  <tbody>\n",
              "    <tr>\n",
              "      <th>count</th>\n",
              "      <td>506.000000</td>\n",
              "      <td>506.000000</td>\n",
              "      <td>506.000000</td>\n",
              "      <td>506.000000</td>\n",
              "      <td>506.000000</td>\n",
              "      <td>506.000000</td>\n",
              "      <td>506.000000</td>\n",
              "      <td>506.000000</td>\n",
              "      <td>506.000000</td>\n",
              "      <td>506.000000</td>\n",
              "      <td>506.000000</td>\n",
              "      <td>506.000000</td>\n",
              "      <td>506.000000</td>\n",
              "      <td>506.000000</td>\n",
              "    </tr>\n",
              "    <tr>\n",
              "      <th>mean</th>\n",
              "      <td>3.613524</td>\n",
              "      <td>11.363636</td>\n",
              "      <td>11.136779</td>\n",
              "      <td>0.069170</td>\n",
              "      <td>0.554695</td>\n",
              "      <td>6.284634</td>\n",
              "      <td>68.574901</td>\n",
              "      <td>3.795043</td>\n",
              "      <td>9.549407</td>\n",
              "      <td>408.237154</td>\n",
              "      <td>18.455534</td>\n",
              "      <td>356.674032</td>\n",
              "      <td>12.653063</td>\n",
              "      <td>22.532806</td>\n",
              "    </tr>\n",
              "    <tr>\n",
              "      <th>std</th>\n",
              "      <td>8.601545</td>\n",
              "      <td>23.322453</td>\n",
              "      <td>6.860353</td>\n",
              "      <td>0.253994</td>\n",
              "      <td>0.115878</td>\n",
              "      <td>0.702617</td>\n",
              "      <td>28.148861</td>\n",
              "      <td>2.105710</td>\n",
              "      <td>8.707259</td>\n",
              "      <td>168.537116</td>\n",
              "      <td>2.164946</td>\n",
              "      <td>91.294864</td>\n",
              "      <td>7.141062</td>\n",
              "      <td>9.197104</td>\n",
              "    </tr>\n",
              "    <tr>\n",
              "      <th>min</th>\n",
              "      <td>0.006320</td>\n",
              "      <td>0.000000</td>\n",
              "      <td>0.460000</td>\n",
              "      <td>0.000000</td>\n",
              "      <td>0.385000</td>\n",
              "      <td>3.561000</td>\n",
              "      <td>2.900000</td>\n",
              "      <td>1.129600</td>\n",
              "      <td>1.000000</td>\n",
              "      <td>187.000000</td>\n",
              "      <td>12.600000</td>\n",
              "      <td>0.320000</td>\n",
              "      <td>1.730000</td>\n",
              "      <td>5.000000</td>\n",
              "    </tr>\n",
              "    <tr>\n",
              "      <th>25%</th>\n",
              "      <td>0.082045</td>\n",
              "      <td>0.000000</td>\n",
              "      <td>5.190000</td>\n",
              "      <td>0.000000</td>\n",
              "      <td>0.449000</td>\n",
              "      <td>5.885500</td>\n",
              "      <td>45.025000</td>\n",
              "      <td>2.100175</td>\n",
              "      <td>4.000000</td>\n",
              "      <td>279.000000</td>\n",
              "      <td>17.400000</td>\n",
              "      <td>375.377500</td>\n",
              "      <td>6.950000</td>\n",
              "      <td>17.025000</td>\n",
              "    </tr>\n",
              "    <tr>\n",
              "      <th>50%</th>\n",
              "      <td>0.256510</td>\n",
              "      <td>0.000000</td>\n",
              "      <td>9.690000</td>\n",
              "      <td>0.000000</td>\n",
              "      <td>0.538000</td>\n",
              "      <td>6.208500</td>\n",
              "      <td>77.500000</td>\n",
              "      <td>3.207450</td>\n",
              "      <td>5.000000</td>\n",
              "      <td>330.000000</td>\n",
              "      <td>19.050000</td>\n",
              "      <td>391.440000</td>\n",
              "      <td>11.360000</td>\n",
              "      <td>21.200000</td>\n",
              "    </tr>\n",
              "    <tr>\n",
              "      <th>75%</th>\n",
              "      <td>3.677083</td>\n",
              "      <td>12.500000</td>\n",
              "      <td>18.100000</td>\n",
              "      <td>0.000000</td>\n",
              "      <td>0.624000</td>\n",
              "      <td>6.623500</td>\n",
              "      <td>94.075000</td>\n",
              "      <td>5.188425</td>\n",
              "      <td>24.000000</td>\n",
              "      <td>666.000000</td>\n",
              "      <td>20.200000</td>\n",
              "      <td>396.225000</td>\n",
              "      <td>16.955000</td>\n",
              "      <td>25.000000</td>\n",
              "    </tr>\n",
              "    <tr>\n",
              "      <th>max</th>\n",
              "      <td>88.976200</td>\n",
              "      <td>100.000000</td>\n",
              "      <td>27.740000</td>\n",
              "      <td>1.000000</td>\n",
              "      <td>0.871000</td>\n",
              "      <td>8.780000</td>\n",
              "      <td>100.000000</td>\n",
              "      <td>12.126500</td>\n",
              "      <td>24.000000</td>\n",
              "      <td>711.000000</td>\n",
              "      <td>22.000000</td>\n",
              "      <td>396.900000</td>\n",
              "      <td>37.970000</td>\n",
              "      <td>50.000000</td>\n",
              "    </tr>\n",
              "  </tbody>\n",
              "</table>\n",
              "</div>"
            ],
            "text/plain": [
              "             CRIM          ZN       INDUS  ...           B       LSTAT       PRICE\n",
              "count  506.000000  506.000000  506.000000  ...  506.000000  506.000000  506.000000\n",
              "mean     3.613524   11.363636   11.136779  ...  356.674032   12.653063   22.532806\n",
              "std      8.601545   23.322453    6.860353  ...   91.294864    7.141062    9.197104\n",
              "min      0.006320    0.000000    0.460000  ...    0.320000    1.730000    5.000000\n",
              "25%      0.082045    0.000000    5.190000  ...  375.377500    6.950000   17.025000\n",
              "50%      0.256510    0.000000    9.690000  ...  391.440000   11.360000   21.200000\n",
              "75%      3.677083   12.500000   18.100000  ...  396.225000   16.955000   25.000000\n",
              "max     88.976200  100.000000   27.740000  ...  396.900000   37.970000   50.000000\n",
              "\n",
              "[8 rows x 14 columns]"
            ]
          },
          "metadata": {},
          "execution_count": 13
        }
      ]
    },
    {
      "cell_type": "code",
      "metadata": {
        "trusted": true,
        "_uuid": "f35fcf15ca8787f7c2b27c9567e02bec12dd8232",
        "colab": {
          "base_uri": "https://localhost:8080/"
        },
        "id": "nFNnUxMSoL3R",
        "outputId": "661b30e9-303c-4d45-ffd4-d0acc6ee4fc0"
      },
      "source": [
        "# Finding out the correlation between the features\n",
        "corr = data.corr()\n",
        "corr.shape"
      ],
      "execution_count": 14,
      "outputs": [
        {
          "output_type": "execute_result",
          "data": {
            "text/plain": [
              "(14, 14)"
            ]
          },
          "metadata": {},
          "execution_count": 14
        }
      ]
    },
    {
      "cell_type": "code",
      "metadata": {
        "trusted": true,
        "_uuid": "5a2f669e42f1c4da0678d3012fe90996ce8dc476",
        "colab": {
          "base_uri": "https://localhost:8080/",
          "height": 1000
        },
        "id": "bWel6IlWoL3R",
        "outputId": "500a3738-859f-4fe0-9609-8e6a81a7fd74"
      },
      "source": [
        "# Plotting the heatmap of correlation between features\n",
        "plt.figure(figsize=(20,20))\n",
        "sns.heatmap(corr, cbar=True, square= True, fmt='.1f', annot=True, annot_kws={'size':15}, cmap='Greens')"
      ],
      "execution_count": 15,
      "outputs": [
        {
          "output_type": "execute_result",
          "data": {
            "text/plain": [
              "<matplotlib.axes._subplots.AxesSubplot at 0x7fc3c2e2ed90>"
            ]
          },
          "metadata": {},
          "execution_count": 15
        },
        {
          "output_type": "display_data",
          "data": {
            "image/png": "[encoded data removed]",
            "text/plain": [
              "<Figure size 1440x1440 with 2 Axes>"
            ]
          },
          "metadata": {
            "needs_background": "light"
          }
        }
      ]
    },
    {
      "cell_type": "code",
      "metadata": {
        "scrolled": true,
        "trusted": true,
        "_uuid": "e8b29232f337d8d269fdeab876ecf1b6cf692556",
        "id": "G3JE6QOpoL3S"
      },
      "source": [
        "# Spliting target variable and independent variables\n",
        "X = data.drop(['PRICE'], axis = 1)\n",
        "y = data['PRICE']"
      ],
      "execution_count": 16,
      "outputs": []
    },
    {
      "cell_type": "code",
      "metadata": {
        "trusted": true,
        "_uuid": "8c44aa7df1ef21f85c1baba09dbb5807c223c51a",
        "id": "uqvgpPAnoL3S"
      },
      "source": [
        "# Splitting to training and testing data\n",
        "\n",
        "from sklearn.model_selection import train_test_split\n",
        "X_train, X_test, y_train, y_test = train_test_split(X,y, test_size = 0.3, random_state = 4)"
      ],
      "execution_count": 17,
      "outputs": []
    },
    {
      "cell_type": "markdown",
      "metadata": {
        "_uuid": "af76da42b96f93ae8bd6234053182ecee90f255e",
        "id": "xoZvdP7AoL3T"
      },
      "source": [
        "# Linear regression"
      ]
    },
    {
      "cell_type": "markdown",
      "metadata": {
        "_uuid": "f585ceafa562d74250058bf0ff05cdf8ccebb577",
        "id": "cBvUbveGoL3T"
      },
      "source": [
        "#### Training the model"
      ]
    },
    {
      "cell_type": "code",
      "metadata": {
        "scrolled": true,
        "trusted": true,
        "_uuid": "74c1df4cd4ba074712c8fe65802acc568e0b6ba9",
        "colab": {
          "base_uri": "https://localhost:8080/"
        },
        "id": "XQ87y7bJoL3T",
        "outputId": "93f7aad6-71f9-4a3d-c3e9-d001de237085"
      },
      "source": [
        "# Import library for Linear Regression\n",
        "from sklearn.linear_model import LinearRegression\n",
        "\n",
        "# Create a Linear regressor\n",
        "lm = LinearRegression()\n",
        "\n",
        "# Train the model using the training sets \n",
        "lm.fit(X_train, y_train)"
      ],
      "execution_count": 18,
      "outputs": [
        {
          "output_type": "execute_result",
          "data": {
            "text/plain": [
              "LinearRegression(copy_X=True, fit_intercept=True, n_jobs=None, normalize=False)"
            ]
          },
          "metadata": {},
          "execution_count": 18
        }
      ]
    },
    {
      "cell_type": "code",
      "metadata": {
        "trusted": true,
        "_uuid": "998fb3c39c9a86eb1bcd4d921dd183a6491335d7",
        "colab": {
          "base_uri": "https://localhost:8080/"
        },
        "id": "W7snz6T-oL3T",
        "outputId": "8e08b057-d5b8-4df8-e2cf-8b9e48b51557"
      },
      "source": [
        "# Value of y intercept\n",
        "lm.intercept_"
      ],
      "execution_count": 19,
      "outputs": [
        {
          "output_type": "execute_result",
          "data": {
            "text/plain": [
              "36.35704137659508"
            ]
          },
          "metadata": {},
          "execution_count": 19
        }
      ]
    },
    {
      "cell_type": "code",
      "metadata": {
        "scrolled": false,
        "trusted": true,
        "_uuid": "014c51bc46bb492a44f253c3c04e113ddbc39af6",
        "colab": {
          "base_uri": "https://localhost:8080/",
          "height": 452
        },
        "id": "wTOnmR9soL3U",
        "outputId": "efc229cb-f610-412d-bd48-1a4e0dc27261"
      },
      "source": [
        "#Converting the coefficient values to a dataframe\n",
        "coeffcients = pd.DataFrame([X_train.columns,lm.coef_]).T\n",
        "coeffcients = coeffcients.rename(columns={0: 'Attribute', 1: 'Coefficients'})\n",
        "coeffcients"
      ],
      "execution_count": 20,
      "outputs": [
        {
          "output_type": "execute_result",
          "data": {
            "text/html": [
              "<div>\n",
              "<style scoped>\n",
              "    .dataframe tbody tr th:only-of-type {\n",
              "        vertical-align: middle;\n",
              "    }\n",
              "\n",
              "    .dataframe tbody tr th {\n",
              "        vertical-align: top;\n",
              "    }\n",
              "\n",
              "    .dataframe thead th {\n",
              "        text-align: right;\n",
              "    }\n",
              "</style>\n",
              "<table border=\"1\" class=\"dataframe\">\n",
              "  <thead>\n",
              "    <tr style=\"text-align: right;\">\n",
              "      <th></th>\n",
              "      <th>Attribute</th>\n",
              "      <th>Coefficients</th>\n",
              "    </tr>\n",
              "  </thead>\n",
              "  <tbody>\n",
              "    <tr>\n",
              "      <th>0</th>\n",
              "      <td>CRIM</td>\n",
              "      <td>-0.12257</td>\n",
              "    </tr>\n",
              "    <tr>\n",
              "      <th>1</th>\n",
              "      <td>ZN</td>\n",
              "      <td>0.0556777</td>\n",
              "    </tr>\n",
              "    <tr>\n",
              "      <th>2</th>\n",
              "      <td>INDUS</td>\n",
              "      <td>-0.00883428</td>\n",
              "    </tr>\n",
              "    <tr>\n",
              "      <th>3</th>\n",
              "      <td>CHAS</td>\n",
              "      <td>4.69345</td>\n",
              "    </tr>\n",
              "    <tr>\n",
              "      <th>4</th>\n",
              "      <td>NOX</td>\n",
              "      <td>-14.4358</td>\n",
              "    </tr>\n",
              "    <tr>\n",
              "      <th>5</th>\n",
              "      <td>RM</td>\n",
              "      <td>3.28008</td>\n",
              "    </tr>\n",
              "    <tr>\n",
              "      <th>6</th>\n",
              "      <td>AGE</td>\n",
              "      <td>-0.00344778</td>\n",
              "    </tr>\n",
              "    <tr>\n",
              "      <th>7</th>\n",
              "      <td>DIS</td>\n",
              "      <td>-1.55214</td>\n",
              "    </tr>\n",
              "    <tr>\n",
              "      <th>8</th>\n",
              "      <td>RAD</td>\n",
              "      <td>0.32625</td>\n",
              "    </tr>\n",
              "    <tr>\n",
              "      <th>9</th>\n",
              "      <td>TAX</td>\n",
              "      <td>-0.0140666</td>\n",
              "    </tr>\n",
              "    <tr>\n",
              "      <th>10</th>\n",
              "      <td>PTRATIO</td>\n",
              "      <td>-0.803275</td>\n",
              "    </tr>\n",
              "    <tr>\n",
              "      <th>11</th>\n",
              "      <td>B</td>\n",
              "      <td>0.00935369</td>\n",
              "    </tr>\n",
              "    <tr>\n",
              "      <th>12</th>\n",
              "      <td>LSTAT</td>\n",
              "      <td>-0.523478</td>\n",
              "    </tr>\n",
              "  </tbody>\n",
              "</table>\n",
              "</div>"
            ],
            "text/plain": [
              "   Attribute Coefficients\n",
              "0       CRIM     -0.12257\n",
              "1         ZN    0.0556777\n",
              "2      INDUS  -0.00883428\n",
              "3       CHAS      4.69345\n",
              "4        NOX     -14.4358\n",
              "5         RM      3.28008\n",
              "6        AGE  -0.00344778\n",
              "7        DIS     -1.55214\n",
              "8        RAD      0.32625\n",
              "9        TAX   -0.0140666\n",
              "10   PTRATIO    -0.803275\n",
              "11         B   0.00935369\n",
              "12     LSTAT    -0.523478"
            ]
          },
          "metadata": {},
          "execution_count": 20
        }
      ]
    },
    {
      "cell_type": "markdown",
      "metadata": {
        "_uuid": "0a51c9fddb34d1d64b08a1ae5b52a0fa5de220c2",
        "id": "sSBYfOZhoL3U"
      },
      "source": [
        "#### Model Evaluation"
      ]
    },
    {
      "cell_type": "code",
      "metadata": {
        "trusted": true,
        "_uuid": "fbf88954f6ea78c339dfd4d1bbb4731fe1b3c489",
        "id": "qTN2gSGpoL3U"
      },
      "source": [
        "# Model prediction on train data\n",
        "y_pred = lm.predict(X_train)"
      ],
      "execution_count": 21,
      "outputs": []
    },
    {
      "cell_type": "code",
      "metadata": {
        "scrolled": true,
        "trusted": true,
        "_uuid": "40c2d862d0798c825949e665b23a0d93e7acbf22",
        "colab": {
          "base_uri": "https://localhost:8080/"
        },
        "id": "3KHJxLWAoL3U",
        "outputId": "41e4bb55-bd6b-46ff-b0e7-79eddaca499e"
      },
      "source": [
        "# Model Evaluation\n",
        "print('R^2:',metrics.r2_score(y_train, y_pred))\n",
        "print('Adjusted R^2:',1 - (1-metrics.r2_score(y_train, y_pred))*(len(y_train)-1)/(len(y_train)-X_train.shape[1]-1))\n",
        "print('MAE:',metrics.mean_absolute_error(y_train, y_pred))\n",
        "print('MSE:',metrics.mean_squared_error(y_train, y_pred))\n",
        "print('RMSE:',np.sqrt(metrics.mean_squared_error(y_train, y_pred)))"
      ],
      "execution_count": 22,
      "outputs": [
        {
          "output_type": "stream",
          "name": "stdout",
          "text": [
            "R^2: 0.7465991966746854\n",
            "Adjusted R^2: 0.736910342429894\n",
            "MAE: 3.0898610949711305\n",
            "MSE: 19.073688703469035\n",
            "RMSE: 4.367343437774162\n"
          ]
        }
      ]
    },
    {
      "cell_type": "markdown",
      "metadata": {
        "_uuid": "e7eceb24e150551eff5f3c946772437ffcfdce8d",
        "id": "EMW_W4MVoL3V"
      },
      "source": [
        "𝑅^2 : It is a measure of the linear relationship between X and Y. It is interpreted as the proportion of the variance in the dependent variable that is predictable from the independent variable.\n",
        "\n",
        "Adjusted 𝑅^2 :The adjusted R-squared compares the explanatory power of regression models that contain different numbers of predictors.\n",
        "\n",
        "MAE : It is the mean of the absolute value of the errors. It measures the difference between two continuous variables, here actual and predicted values of y. \n",
        "\n",
        "MSE: The mean square error (MSE) is just like the MAE, but squares the difference before summing them all instead of using the absolute value. \n",
        "\n",
        "RMSE: The mean square error (MSE) is just like the MAE, but squares the difference before summing them all instead of using the absolute value. \n",
        "\n",
        "\n",
        "\n",
        "\n"
      ]
    },
    {
      "cell_type": "code",
      "metadata": {
        "trusted": true,
        "_uuid": "c00f457edc850676c7ac951f2a77994bc798f709",
        "colab": {
          "base_uri": "https://localhost:8080/",
          "height": 295
        },
        "id": "z-LE94ZGoL3V",
        "outputId": "94d6e608-d8fb-4bfe-f216-2bd9e2a3c06d"
      },
      "source": [
        "# Visualizing the differences between actual prices and predicted values\n",
        "plt.scatter(y_train, y_pred)\n",
        "plt.xlabel(\"Prices\")\n",
        "plt.ylabel(\"Predicted prices\")\n",
        "plt.title(\"Prices vs Predicted prices\")\n",
        "plt.show()"
      ],
      "execution_count": 23,
      "outputs": [
        {
          "output_type": "display_data",
          "data": {
            "image/png": "[encoded data removed]",
            "text/plain": [
              "<Figure size 432x288 with 1 Axes>"
            ]
          },
          "metadata": {
            "needs_background": "light"
          }
        }
      ]
    },
    {
      "cell_type": "code",
      "metadata": {
        "trusted": true,
        "_uuid": "65b07c5f88bbc8863b56057568bb09443484d806",
        "colab": {
          "base_uri": "https://localhost:8080/",
          "height": 295
        },
        "id": "iL60DqIHoL3V",
        "outputId": "d3ab3cce-353e-4bc8-8b79-95c0133bd463"
      },
      "source": [
        "# Checking residuals\n",
        "plt.scatter(y_pred,y_train-y_pred)\n",
        "plt.title(\"Predicted vs residuals\")\n",
        "plt.xlabel(\"Predicted\")\n",
        "plt.ylabel(\"Residuals\")\n",
        "plt.show()"
      ],
      "execution_count": 24,
      "outputs": [
        {
          "output_type": "display_data",
          "data": {
            "image/png": "[encoded data removed]",
            "text/plain": [
              "<Figure size 432x288 with 1 Axes>"
            ]
          },
          "metadata": {
            "needs_background": "light"
          }
        }
      ]
    },
    {
      "cell_type": "markdown",
      "metadata": {
        "_uuid": "c399b5c2f66818caf7600c0f10338c0ce5afebc8",
        "id": "stQLxbBxoL3W"
      },
      "source": [
        "There is no pattern visible in this plot and values are distributed equally around zero. So Linearity assumption is satisfied"
      ]
    },
    {
      "cell_type": "code",
      "metadata": {
        "trusted": true,
        "_uuid": "9814045d0aaa99146a32653f4e5449a11b05ff8f",
        "colab": {
          "base_uri": "https://localhost:8080/",
          "height": 349
        },
        "id": "2g6vScfUoL3W",
        "outputId": "4a79a76d-0cc7-4b42-834e-8e418370028a"
      },
      "source": [
        "# Checking Normality of errors\n",
        "sns.distplot(y_train-y_pred)\n",
        "plt.title(\"Histogram of Residuals\")\n",
        "plt.xlabel(\"Residuals\")\n",
        "plt.ylabel(\"Frequency\")\n",
        "plt.show()"
      ],
      "execution_count": 25,
      "outputs": [
        {
          "output_type": "stream",
          "name": "stderr",
          "text": [
            "/usr/local/lib/python3.7/dist-packages/seaborn/distributions.py:2557: FutureWarning: `distplot` is a deprecated function and will be removed in a future version. Please adapt your code to use either `displot` (a figure-level function with similar flexibility) or `histplot` (an axes-level function for histograms).\n",
            "  warnings.warn(msg, FutureWarning)\n"
          ]
        },
        {
          "output_type": "display_data",
          "data": {
            "image/png": "[encoded data removed]",
            "text/plain": [
              "<Figure size 432x288 with 1 Axes>"
            ]
          },
          "metadata": {
            "needs_background": "light"
          }
        }
      ]
    },
    {
      "cell_type": "markdown",
      "metadata": {
        "_uuid": "1d767c0ab0732c66838be5aecf56f23f859c1021",
        "id": "v5munXp_oL3W"
      },
      "source": [
        "Here the residuals are normally distributed. So normality assumption is satisfied"
      ]
    },
    {
      "cell_type": "markdown",
      "metadata": {
        "_uuid": "a91b3c5ee714c81642b90d02760c7e10f827fd48",
        "id": "r9FFhMJNoL3W"
      },
      "source": [
        "#### For test data"
      ]
    },
    {
      "cell_type": "code",
      "metadata": {
        "trusted": true,
        "_uuid": "d1c22569bf33b54bc8e67dd9768beeb48520c5f0",
        "id": "-tFFl2MFoL3X"
      },
      "source": [
        "# Predicting Test data with the model\n",
        "y_test_pred = lm.predict(X_test)"
      ],
      "execution_count": 26,
      "outputs": []
    },
    {
      "cell_type": "code",
      "metadata": {
        "trusted": true,
        "_uuid": "5bd7bf701f57b013f7b4bb3ee30debdf216647f6",
        "colab": {
          "base_uri": "https://localhost:8080/"
        },
        "id": "BU6vXRcMoL3X",
        "outputId": "1f7f54a9-03eb-427c-ec1a-16c1434e4fbc"
      },
      "source": [
        "# Model Evaluation\n",
        "acc_linreg = metrics.r2_score(y_test, y_test_pred)\n",
        "print('R^2:', acc_linreg)\n",
        "print('Adjusted R^2:',1 - (1-metrics.r2_score(y_test, y_test_pred))*(len(y_test)-1)/(len(y_test)-X_test.shape[1]-1))\n",
        "print('MAE:',metrics.mean_absolute_error(y_test, y_test_pred))\n",
        "print('MSE:',metrics.mean_squared_error(y_test, y_test_pred))\n",
        "print('RMSE:',np.sqrt(metrics.mean_squared_error(y_test, y_test_pred)))"
      ],
      "execution_count": 27,
      "outputs": [
        {
          "output_type": "stream",
          "name": "stdout",
          "text": [
            "R^2: 0.7121818377409193\n",
            "Adjusted R^2: 0.6850685326005711\n",
            "MAE: 3.859005592370744\n",
            "MSE: 30.05399330712416\n",
            "RMSE: 5.482152251362977\n"
          ]
        }
      ]
    },
    {
      "cell_type": "markdown",
      "metadata": {
        "_uuid": "e7a9ed698fd4f011bae24ce4b966317de91f9d91",
        "id": "SKSlA5xqoL3X"
      },
      "source": [
        "Here the model evaluations scores are almost matching with that of train data. So the model is not overfitting."
      ]
    },
    {
      "cell_type": "markdown",
      "metadata": {
        "_uuid": "6d4c438bc27d2e3093f625e04ee9aeb5282a4710",
        "id": "5LufwBz4oL3X"
      },
      "source": [
        "# Random Forest Regressor "
      ]
    },
    {
      "cell_type": "markdown",
      "metadata": {
        "_uuid": "7f50fab16d7fc4871f56d60d84ff245e16a70172",
        "id": "31_Ot32GoL3X"
      },
      "source": [
        "#### Train the model"
      ]
    },
    {
      "cell_type": "code",
      "metadata": {
        "trusted": true,
        "_uuid": "34e2ffdaf66c5bb6d30daa5acd5276a6da21e809",
        "colab": {
          "base_uri": "https://localhost:8080/"
        },
        "id": "RD4aYd2xoL3X",
        "outputId": "8800d611-5861-4cf5-e384-ef470489af2d"
      },
      "source": [
        "# Import Random Forest Regressor\n",
        "from sklearn.ensemble import RandomForestRegressor\n",
        "\n",
        "# Create a Random Forest Regressor\n",
        "reg = RandomForestRegressor()\n",
        "\n",
        "# Train the model using the training sets \n",
        "reg.fit(X_train, y_train)"
      ],
      "execution_count": 28,
      "outputs": [
        {
          "output_type": "execute_result",
          "data": {
            "text/plain": [
              "RandomForestRegressor(bootstrap=True, ccp_alpha=0.0, criterion='mse',\n",
              "                      max_depth=None, max_features='auto', max_leaf_nodes=None,\n",
              "                      max_samples=None, min_impurity_decrease=0.0,\n",
              "                      min_impurity_split=None, min_samples_leaf=1,\n",
              "                      min_samples_split=2, min_weight_fraction_leaf=0.0,\n",
              "                      n_estimators=100, n_jobs=None, oob_score=False,\n",
              "                      random_state=None, verbose=0, warm_start=False)"
            ]
          },
          "metadata": {},
          "execution_count": 28
        }
      ]
    },
    {
      "cell_type": "markdown",
      "metadata": {
        "_uuid": "3b1ab519a44ec90e993e152eb908f867db07f381",
        "id": "SH4O1gzboL3Y"
      },
      "source": [
        "### Model Evaluation"
      ]
    },
    {
      "cell_type": "code",
      "metadata": {
        "trusted": true,
        "_uuid": "96b76c70a914d3b9d20a4aefe0742e625890f73e",
        "id": "ZcQcFcfEoL3Y"
      },
      "source": [
        "# Model prediction on train data\n",
        "y_pred = reg.predict(X_train)"
      ],
      "execution_count": 29,
      "outputs": []
    },
    {
      "cell_type": "code",
      "metadata": {
        "trusted": true,
        "_uuid": "1a0a1be1b53f2e4e5ee260d9bc27099403c703fa",
        "colab": {
          "base_uri": "https://localhost:8080/"
        },
        "id": "TV-YN8EXoL3Y",
        "outputId": "8cd4ced6-8267-4365-d5e1-b23663c37523"
      },
      "source": [
        "# Model Evaluation\n",
        "print('R^2:',metrics.r2_score(y_train, y_pred))\n",
        "print('Adjusted R^2:',1 - (1-metrics.r2_score(y_train, y_pred))*(len(y_train)-1)/(len(y_train)-X_train.shape[1]-1))\n",
        "print('MAE:',metrics.mean_absolute_error(y_train, y_pred))\n",
        "print('MSE:',metrics.mean_squared_error(y_train, y_pred))\n",
        "print('RMSE:',np.sqrt(metrics.mean_squared_error(y_train, y_pred)))"
      ],
      "execution_count": 30,
      "outputs": [
        {
          "output_type": "stream",
          "name": "stdout",
          "text": [
            "R^2: 0.9786959060010869\n",
            "Adjusted R^2: 0.9778813377011285\n",
            "MAE: 0.8571920903954799\n",
            "MSE: 1.6035768305084768\n",
            "RMSE: 1.266324141169423\n"
          ]
        }
      ]
    },
    {
      "cell_type": "code",
      "metadata": {
        "trusted": true,
        "_uuid": "b02cec6f66440794e5108df5f5474e920d1fe98a",
        "colab": {
          "base_uri": "https://localhost:8080/",
          "height": 295
        },
        "id": "KkHPWpX9oL3Y",
        "outputId": "9f081070-ca51-4308-bfbf-9e42587e7ad9"
      },
      "source": [
        "# Visualizing the differences between actual prices and predicted values\n",
        "plt.scatter(y_train, y_pred)\n",
        "plt.xlabel(\"Prices\")\n",
        "plt.ylabel(\"Predicted prices\")\n",
        "plt.title(\"Prices vs Predicted prices\")\n",
        "plt.show()"
      ],
      "execution_count": 31,
      "outputs": [
        {
          "output_type": "display_data",
          "data": {
            "image/png": "[encoded data removed]",
            "text/plain": [
              "<Figure size 432x288 with 1 Axes>"
            ]
          },
          "metadata": {
            "needs_background": "light"
          }
        }
      ]
    },
    {
      "cell_type": "code",
      "metadata": {
        "trusted": true,
        "_uuid": "daf4eff8a6666267fda29751966ec7d6fe7e6d98",
        "colab": {
          "base_uri": "https://localhost:8080/",
          "height": 295
        },
        "id": "F00RtsaaoL3Y",
        "outputId": "fbfc3471-c7ff-4004-e81b-78eda2efa2f8"
      },
      "source": [
        "# Checking residuals\n",
        "plt.scatter(y_pred,y_train-y_pred)\n",
        "plt.title(\"Predicted vs residuals\")\n",
        "plt.xlabel(\"Predicted\")\n",
        "plt.ylabel(\"Residuals\")\n",
        "plt.show()"
      ],
      "execution_count": 32,
      "outputs": [
        {
          "output_type": "display_data",
          "data": {
            "image/png": "[encoded data removed]",
            "text/plain": [
              "<Figure size 432x288 with 1 Axes>"
            ]
          },
          "metadata": {
            "needs_background": "light"
          }
        }
      ]
    },
    {
      "cell_type": "markdown",
      "metadata": {
        "_uuid": "5beaa188e7383427c260763f5ce481bdbf11bb8b",
        "id": "WlG49mTFoL3Z"
      },
      "source": [
        "#### For test data"
      ]
    },
    {
      "cell_type": "code",
      "metadata": {
        "trusted": true,
        "_uuid": "78c445bf1a9e2a03850b6042742b53e0f1620d7c",
        "id": "geRfgXaCoL3Z"
      },
      "source": [
        "# Predicting Test data with the model\n",
        "y_test_pred = reg.predict(X_test)"
      ],
      "execution_count": 33,
      "outputs": []
    },
    {
      "cell_type": "code",
      "metadata": {
        "trusted": true,
        "_uuid": "bb95f57e021dcda311e9da08163f9ca0479dc600",
        "colab": {
          "base_uri": "https://localhost:8080/"
        },
        "id": "-FLeCt6xoL3Z",
        "outputId": "00f601e4-82cc-4e2a-ea6f-6acb651ea91a"
      },
      "source": [
        "# Model Evaluation\n",
        "acc_rf = metrics.r2_score(y_test, y_test_pred)\n",
        "print('R^2:', acc_rf)\n",
        "print('Adjusted R^2:',1 - (1-metrics.r2_score(y_test, y_test_pred))*(len(y_test)-1)/(len(y_test)-X_test.shape[1]-1))\n",
        "print('MAE:',metrics.mean_absolute_error(y_test, y_test_pred))\n",
        "print('MSE:',metrics.mean_squared_error(y_test, y_test_pred))\n",
        "print('RMSE:',np.sqrt(metrics.mean_squared_error(y_test, y_test_pred)))"
      ],
      "execution_count": 34,
      "outputs": [
        {
          "output_type": "stream",
          "name": "stdout",
          "text": [
            "R^2: 0.8311284838030553\n",
            "Adjusted R^2: 0.8152202974946474\n",
            "MAE: 2.5202960526315783\n",
            "MSE: 17.63357592763158\n",
            "RMSE: 4.199235159839418\n"
          ]
        }
      ]
    },
    {
      "cell_type": "markdown",
      "metadata": {
        "_uuid": "67ad608854dda892dfbb07892b9386fd46b19b3b",
        "id": "7Jp7f7udoL3Z"
      },
      "source": [
        "# XGBoost Regressor"
      ]
    },
    {
      "cell_type": "markdown",
      "metadata": {
        "_uuid": "4cc3f92ac593e0fc054716eefabd5e01f4bec9b4",
        "id": "tgN6TdyxoL3Z"
      },
      "source": [
        "#### Training the model"
      ]
    },
    {
      "cell_type": "code",
      "metadata": {
        "trusted": true,
        "_uuid": "c6d191c4c3ded9af5367084d4261e22e499ffa6d",
        "colab": {
          "base_uri": "https://localhost:8080/"
        },
        "id": "MvubZ_O1oL3a",
        "outputId": "07acaf69-1241-4ee6-9492-96b39d65792b"
      },
      "source": [
        "# Import XGBoost Regressor\n",
        "from xgboost import XGBRegressor\n",
        "\n",
        "#Create a XGBoost Regressor\n",
        "reg = XGBRegressor()\n",
        "\n",
        "# Train the model using the training sets \n",
        "reg.fit(X_train, y_train)"
      ],
      "execution_count": 35,
      "outputs": [
        {
          "output_type": "stream",
          "name": "stdout",
          "text": [
            "[03:54:07] WARNING: /workspace/src/objective/regression_obj.cu:152: reg:linear is now deprecated in favor of reg:squarederror.\n"
          ]
        },
        {
          "output_type": "execute_result",
          "data": {
            "text/plain": [
              "XGBRegressor(base_score=0.5, booster='gbtree', colsample_bylevel=1,\n",
              "             colsample_bynode=1, colsample_bytree=1, gamma=0,\n",
              "             importance_type='gain', learning_rate=0.1, max_delta_step=0,\n",
              "             max_depth=3, min_child_weight=1, missing=None, n_estimators=100,\n",
              "             n_jobs=1, nthread=None, objective='reg:linear', random_state=0,\n",
              "             reg_alpha=0, reg_lambda=1, scale_pos_weight=1, seed=None,\n",
              "             silent=None, subsample=1, verbosity=1)"
            ]
          },
          "metadata": {},
          "execution_count": 35
        }
      ]
    },
    {
      "cell_type": "markdown",
      "metadata": {
        "_uuid": "7625a387d88cfe7a97bff1955ecb4f336dd20743",
        "id": "3WtuJXeOoL3a"
      },
      "source": [
        "max_depth (int) – Maximum tree depth for base learners.\n",
        "\n",
        "learning_rate (float) – Boosting learning rate (xgb’s “eta”)\n",
        "\n",
        "n_estimators (int) – Number of boosted trees to fit.\n",
        "\n",
        "gamma (float) – Minimum loss reduction required to make a further partition on a leaf node of the tree.\n",
        "\n",
        "min_child_weight (int) – Minimum sum of instance weight(hessian) needed in a child.\n",
        "\n",
        "subsample (float) – Subsample ratio of the training instance.\n",
        "\n",
        "colsample_bytree (float) – Subsample ratio of columns when constructing each tree.\n",
        "\n",
        "objective (string or callable) – Specify the learning task and the corresponding learning objective or a custom objective function to be used (see note below).\n",
        "\n",
        "nthread (int) – Number of parallel threads used to run xgboost. (Deprecated, please use n_jobs)\n",
        "\n",
        "scale_pos_weight (float) – Balancing of positive and negative weights.\n"
      ]
    },
    {
      "cell_type": "markdown",
      "metadata": {
        "_uuid": "0615c8ed00975272b8caa2d6aad13adcf677f44c",
        "id": "kfE9ShQkoL3a"
      },
      "source": [
        "### Model Evaluation"
      ]
    },
    {
      "cell_type": "code",
      "metadata": {
        "trusted": true,
        "_uuid": "242ef4a922e91e75c0d61be702a3c6ef57ac955b",
        "id": "KjMj_xoOoL3a"
      },
      "source": [
        "# Model prediction on train data\n",
        "y_pred = reg.predict(X_train)"
      ],
      "execution_count": 36,
      "outputs": []
    },
    {
      "cell_type": "code",
      "metadata": {
        "trusted": true,
        "_uuid": "41e25ef2b58e5b0a5c1300425a4282dd8e0a0955",
        "colab": {
          "base_uri": "https://localhost:8080/"
        },
        "id": "nyrimFDCoL3a",
        "outputId": "00898fff-2582-41d1-a2fd-c694444a6f3e"
      },
      "source": [
        "# Model Evaluation\n",
        "print('R^2:',metrics.r2_score(y_train, y_pred))\n",
        "print('Adjusted R^2:',1 - (1-metrics.r2_score(y_train, y_pred))*(len(y_train)-1)/(len(y_train)-X_train.shape[1]-1))\n",
        "print('MAE:',metrics.mean_absolute_error(y_train, y_pred))\n",
        "print('MSE:',metrics.mean_squared_error(y_train, y_pred))\n",
        "print('RMSE:',np.sqrt(metrics.mean_squared_error(y_train, y_pred)))"
      ],
      "execution_count": 37,
      "outputs": [
        {
          "output_type": "stream",
          "name": "stdout",
          "text": [
            "R^2: 0.9703652512761263\n",
            "Adjusted R^2: 0.9692321579425663\n",
            "MAE: 1.1372202838208043\n",
            "MSE: 2.230632123289034\n",
            "RMSE: 1.4935300878419002\n"
          ]
        }
      ]
    },
    {
      "cell_type": "code",
      "metadata": {
        "trusted": true,
        "_uuid": "85df05cbc687636df454c4e5e0059492bcd77ce6",
        "colab": {
          "base_uri": "https://localhost:8080/",
          "height": 295
        },
        "id": "Y0PSpHdCoL3b",
        "outputId": "2d34ba94-924f-45fe-d724-f85e3a7ed6a3"
      },
      "source": [
        "# Visualizing the differences between actual prices and predicted values\n",
        "plt.scatter(y_train, y_pred)\n",
        "plt.xlabel(\"Prices\")\n",
        "plt.ylabel(\"Predicted prices\")\n",
        "plt.title(\"Prices vs Predicted prices\")\n",
        "plt.show()"
      ],
      "execution_count": 38,
      "outputs": [
        {
          "output_type": "display_data",
          "data": {
            "image/png": "[encoded data removed]",
            "text/plain": [
              "<Figure size 432x288 with 1 Axes>"
            ]
          },
          "metadata": {
            "needs_background": "light"
          }
        }
      ]
    },
    {
      "cell_type": "code",
      "metadata": {
        "trusted": true,
        "_uuid": "04df87e9670c3cc1b07d4525dd67605d8d4eb542",
        "colab": {
          "base_uri": "https://localhost:8080/",
          "height": 295
        },
        "id": "SaH0n8QaoL3b",
        "outputId": "a0316f77-a000-48ca-b196-de05ab347f6a"
      },
      "source": [
        "# Checking residuals\n",
        "plt.scatter(y_pred,y_train-y_pred)\n",
        "plt.title(\"Predicted vs residuals\")\n",
        "plt.xlabel(\"Predicted\")\n",
        "plt.ylabel(\"Residuals\")\n",
        "plt.show()"
      ],
      "execution_count": 39,
      "outputs": [
        {
          "output_type": "display_data",
          "data": {
            "image/png": "[encoded data removed]",
            "text/plain": [
              "<Figure size 432x288 with 1 Axes>"
            ]
          },
          "metadata": {
            "needs_background": "light"
          }
        }
      ]
    },
    {
      "cell_type": "markdown",
      "metadata": {
        "_uuid": "e48d52c87b4fe3b93a6068349c4d7401a10307f4",
        "id": "AMzgreFJoL3b"
      },
      "source": [
        "#### For test data"
      ]
    },
    {
      "cell_type": "code",
      "metadata": {
        "trusted": true,
        "_uuid": "df2ead1c6dcee03e3143e1e139a42b050e1de3ca",
        "id": "Vv19yKdboL3b"
      },
      "source": [
        "#Predicting Test data with the model\n",
        "y_test_pred = reg.predict(X_test)"
      ],
      "execution_count": 40,
      "outputs": []
    },
    {
      "cell_type": "code",
      "metadata": {
        "trusted": true,
        "_uuid": "4cfe00224641dca28997a6f4b05bdc2dece952ca",
        "colab": {
          "base_uri": "https://localhost:8080/"
        },
        "id": "eaECxjzEoL3b",
        "outputId": "d29155a5-dd5b-4374-d6e8-dd0227ff0e6f"
      },
      "source": [
        "# Model Evaluation\n",
        "acc_xgb = metrics.r2_score(y_test, y_test_pred)\n",
        "print('R^2:', acc_xgb)\n",
        "print('Adjusted R^2:',1 - (1-metrics.r2_score(y_test, y_test_pred))*(len(y_test)-1)/(len(y_test)-X_test.shape[1]-1))\n",
        "print('MAE:',metrics.mean_absolute_error(y_test, y_test_pred))\n",
        "print('MSE:',metrics.mean_squared_error(y_test, y_test_pred))\n",
        "print('RMSE:',np.sqrt(metrics.mean_squared_error(y_test, y_test_pred)))"
      ],
      "execution_count": 41,
      "outputs": [
        {
          "output_type": "stream",
          "name": "stdout",
          "text": [
            "R^2: 0.8494894736313225\n",
            "Adjusted R^2: 0.8353109457849979\n",
            "MAE: 2.4509708843733136\n",
            "MSE: 15.716320042597493\n",
            "RMSE: 3.9643814199188117\n"
          ]
        }
      ]
    },
    {
      "cell_type": "markdown",
      "metadata": {
        "_uuid": "561bc791f61ca4cac779395f30cfaec14bb59e1e",
        "id": "qv1vA4fEoL3b"
      },
      "source": [
        "# SVM Regressor"
      ]
    },
    {
      "cell_type": "code",
      "metadata": {
        "trusted": true,
        "_uuid": "e7d40a6ff89aa230a6e3bea996aa93316300ed9a",
        "id": "cZJ3beGWoL3c"
      },
      "source": [
        "# Creating scaled set to be used in model to improve our results\n",
        "from sklearn.preprocessing import StandardScaler\n",
        "sc = StandardScaler()\n",
        "X_train = sc.fit_transform(X_train)\n",
        "X_test = sc.transform(X_test)"
      ],
      "execution_count": 42,
      "outputs": []
    },
    {
      "cell_type": "markdown",
      "metadata": {
        "_uuid": "fe78f0e481006b004881a6c13750e80ff9de4f00",
        "id": "cDnsGeUZoL3c"
      },
      "source": [
        "#### Train the model"
      ]
    },
    {
      "cell_type": "code",
      "metadata": {
        "scrolled": true,
        "trusted": true,
        "_uuid": "519df75a3e65e691e203efa21693814f25cc305d",
        "id": "3VOaBAZYoL3c"
      },
      "source": [
        "# Import SVM Regressor\n",
        "from sklearn import svm\n",
        "\n",
        "# Create a SVM Regressor\n",
        "reg = svm.SVR()"
      ],
      "execution_count": 43,
      "outputs": []
    },
    {
      "cell_type": "code",
      "metadata": {
        "trusted": true,
        "_uuid": "35d7e0b6ac09dfdca6d9fc5328cf42bfb7b287ca",
        "colab": {
          "base_uri": "https://localhost:8080/"
        },
        "id": "f-bN_WLzoL3c",
        "outputId": "f45ed385-9c0b-4c2a-bac4-cdf60c53ecb2"
      },
      "source": [
        "# Train the model using the training sets \n",
        "reg.fit(X_train, y_train)"
      ],
      "execution_count": 44,
      "outputs": [
        {
          "output_type": "execute_result",
          "data": {
            "text/plain": [
              "SVR(C=1.0, cache_size=200, coef0=0.0, degree=3, epsilon=0.1, gamma='scale',\n",
              "    kernel='rbf', max_iter=-1, shrinking=True, tol=0.001, verbose=False)"
            ]
          },
          "metadata": {},
          "execution_count": 44
        }
      ]
    },
    {
      "cell_type": "markdown",
      "metadata": {
        "_uuid": "4f3a0067425edc3f1dfa6feb4526d120ed23c0e7",
        "id": "qHHq0HoJoL3c"
      },
      "source": [
        "C : float, optional (default=1.0): The penalty parameter of the error term. It controls the trade off between smooth decision boundary and classifying the training points correctly.\n",
        "\n",
        "kernel : string, optional (default='rbf’): kernel parameters selects the type of hyperplane used to separate the data. It must be one of 'linear', 'poly', 'rbf', 'sigmoid', 'precomputed’ or a callable.\n",
        "\n",
        "degree : int, optional (default=3): Degree of the polynomial kernel function (‘poly’). Ignored by all other kernels.\n",
        "\n",
        "gamma : float, optional (default='auto’): It is for non linear hyperplanes. The higher the gamma value it tries to exactly fit the training data set. Current default is 'auto' which uses 1 / n_features.\n",
        "\n",
        "coef0 : float, optional (default=0.0): Independent term in kernel function. It is only significant in 'poly' and 'sigmoid'.\n",
        "\n",
        "shrinking : boolean, optional (default=True): Whether to use the shrinking heuristic."
      ]
    },
    {
      "cell_type": "markdown",
      "metadata": {
        "_uuid": "eb1fe4ad5131395f7a6936a8747e5677fdd83d40",
        "id": "uS6APrrpoL3c"
      },
      "source": [
        "#### Model Evaluation"
      ]
    },
    {
      "cell_type": "code",
      "metadata": {
        "trusted": true,
        "_uuid": "829074eccb90898b90ce05559579d433ebd7d6d2",
        "id": "Ccd9WXuToL3d"
      },
      "source": [
        "# Model prediction on train data\n",
        "y_pred = reg.predict(X_train)"
      ],
      "execution_count": 45,
      "outputs": []
    },
    {
      "cell_type": "code",
      "metadata": {
        "trusted": true,
        "_uuid": "e8a70552dd201f2ee41d9e66fc976807cf6aeff4",
        "colab": {
          "base_uri": "https://localhost:8080/"
        },
        "id": "MYWvAaBzoL3d",
        "outputId": "edecd7b6-1a60-4a3a-eb75-1a556e1dbe1c"
      },
      "source": [
        "# Model Evaluation\n",
        "print('R^2:',metrics.r2_score(y_train, y_pred))\n",
        "print('Adjusted R^2:',1 - (1-metrics.r2_score(y_train, y_pred))*(len(y_train)-1)/(len(y_train)-X_train.shape[1]-1))\n",
        "print('MAE:',metrics.mean_absolute_error(y_train, y_pred))\n",
        "print('MSE:',metrics.mean_squared_error(y_train, y_pred))\n",
        "print('RMSE:',np.sqrt(metrics.mean_squared_error(y_train, y_pred)))"
      ],
      "execution_count": 46,
      "outputs": [
        {
          "output_type": "stream",
          "name": "stdout",
          "text": [
            "R^2: 0.6419097248941195\n",
            "Adjusted R^2: 0.628218037904777\n",
            "MAE: 2.9361501059460293\n",
            "MSE: 26.953752101332935\n",
            "RMSE: 5.191700309275655\n"
          ]
        }
      ]
    },
    {
      "cell_type": "code",
      "metadata": {
        "trusted": true,
        "_uuid": "378d3d7cef08763ac0ba33f678fe312b489abb10",
        "colab": {
          "base_uri": "https://localhost:8080/",
          "height": 295
        },
        "id": "rYNLwxSVoL3d",
        "outputId": "93644e74-3404-49a3-d6b7-88922ceb2bde"
      },
      "source": [
        "# Visualizing the differences between actual prices and predicted values\n",
        "plt.scatter(y_train, y_pred)\n",
        "plt.xlabel(\"Prices\")\n",
        "plt.ylabel(\"Predicted prices\")\n",
        "plt.title(\"Prices vs Predicted prices\")\n",
        "plt.show()"
      ],
      "execution_count": 47,
      "outputs": [
        {
          "output_type": "display_data",
          "data": {
            "image/png": "[encoded data removed]",
            "text/plain": [
              "<Figure size 432x288 with 1 Axes>"
            ]
          },
          "metadata": {
            "needs_background": "light"
          }
        }
      ]
    },
    {
      "cell_type": "code",
      "metadata": {
        "trusted": true,
        "_uuid": "61aa86222c5a5f704cb9de6d3f4a76302ea2bb2e",
        "colab": {
          "base_uri": "https://localhost:8080/",
          "height": 295
        },
        "id": "EoE1rrp-oL3d",
        "outputId": "0a2d8a16-9a52-4f69-88a0-2499ea292e33"
      },
      "source": [
        "# Checking residuals\n",
        "plt.scatter(y_pred,y_train-y_pred)\n",
        "plt.title(\"Predicted vs residuals\")\n",
        "plt.xlabel(\"Predicted\")\n",
        "plt.ylabel(\"Residuals\")\n",
        "plt.show()"
      ],
      "execution_count": 48,
      "outputs": [
        {
          "output_type": "display_data",
          "data": {
            "image/png": "[encoded data removed]",
            "text/plain": [
              "<Figure size 432x288 with 1 Axes>"
            ]
          },
          "metadata": {
            "needs_background": "light"
          }
        }
      ]
    },
    {
      "cell_type": "markdown",
      "metadata": {
        "_uuid": "87809e684366967bdd103085e5f041692911fae8",
        "id": "Dm7_5w1joL3e"
      },
      "source": [
        "#### For test data"
      ]
    },
    {
      "cell_type": "code",
      "metadata": {
        "trusted": true,
        "_uuid": "0c4a9a7cd7ec0910b662763d1a93ada5ec2aab61",
        "id": "xHzBQvOfoL3e"
      },
      "source": [
        "# Predicting Test data with the model\n",
        "y_test_pred = reg.predict(X_test)"
      ],
      "execution_count": 49,
      "outputs": []
    },
    {
      "cell_type": "code",
      "metadata": {
        "trusted": true,
        "_uuid": "9184c04875d7b80ee068c5fa158fbc96ba8491e3",
        "colab": {
          "base_uri": "https://localhost:8080/"
        },
        "id": "7E_HLW_uoL3e",
        "outputId": "c91d564a-e3da-4983-e7cb-9746506f6b33"
      },
      "source": [
        "# Model Evaluation\n",
        "acc_svm = metrics.r2_score(y_test, y_test_pred)\n",
        "print('R^2:', acc_svm)\n",
        "print('Adjusted R^2:',1 - (1-metrics.r2_score(y_test, y_test_pred))*(len(y_test)-1)/(len(y_test)-X_test.shape[1]-1))\n",
        "print('MAE:',metrics.mean_absolute_error(y_test, y_test_pred))\n",
        "print('MSE:',metrics.mean_squared_error(y_test, y_test_pred))\n",
        "print('RMSE:',np.sqrt(metrics.mean_squared_error(y_test, y_test_pred)))"
      ],
      "execution_count": 50,
      "outputs": [
        {
          "output_type": "stream",
          "name": "stdout",
          "text": [
            "R^2: 0.5900158460478174\n",
            "Adjusted R^2: 0.5513941503856553\n",
            "MAE: 3.7561453553021686\n",
            "MSE: 42.81057499010247\n",
            "RMSE: 6.542979060802691\n"
          ]
        }
      ]
    },
    {
      "cell_type": "markdown",
      "metadata": {
        "_uuid": "011417c6027493065c9ab2e7244ea968d32cc93b",
        "id": "EpnvFwwKoL3e"
      },
      "source": [
        "# Evaluation and comparision of all the models"
      ]
    },
    {
      "cell_type": "code",
      "metadata": {
        "trusted": true,
        "_uuid": "57ebbecee4e34cd60bd0f03cc2f291ff52b263cc",
        "colab": {
          "base_uri": "https://localhost:8080/",
          "height": 173
        },
        "id": "n9YgKwE3oL3e",
        "outputId": "85387910-2992-41ae-8be3-5129cd09a404"
      },
      "source": [
        "models = pd.DataFrame({\n",
        "    'Model': ['Linear Regression', 'Random Forest', 'XGBoost', 'Support Vector Machines'],\n",
        "    'R-squared Score': [acc_linreg*100, acc_rf*100, acc_xgb*100, acc_svm*100]})\n",
        "models.sort_values(by='R-squared Score', ascending=False)"
      ],
      "execution_count": 51,
      "outputs": [
        {
          "output_type": "execute_result",
          "data": {
            "text/html": [
              "<div>\n",
              "<style scoped>\n",
              "    .dataframe tbody tr th:only-of-type {\n",
              "        vertical-align: middle;\n",
              "    }\n",
              "\n",
              "    .dataframe tbody tr th {\n",
              "        vertical-align: top;\n",
              "    }\n",
              "\n",
              "    .dataframe thead th {\n",
              "        text-align: right;\n",
              "    }\n",
              "</style>\n",
              "<table border=\"1\" class=\"dataframe\">\n",
              "  <thead>\n",
              "    <tr style=\"text-align: right;\">\n",
              "      <th></th>\n",
              "      <th>Model</th>\n",
              "      <th>R-squared Score</th>\n",
              "    </tr>\n",
              "  </thead>\n",
              "  <tbody>\n",
              "    <tr>\n",
              "      <th>2</th>\n",
              "      <td>XGBoost</td>\n",
              "      <td>84.948947</td>\n",
              "    </tr>\n",
              "    <tr>\n",
              "      <th>1</th>\n",
              "      <td>Random Forest</td>\n",
              "      <td>83.112848</td>\n",
              "    </tr>\n",
              "    <tr>\n",
              "      <th>0</th>\n",
              "      <td>Linear Regression</td>\n",
              "      <td>71.218184</td>\n",
              "    </tr>\n",
              "    <tr>\n",
              "      <th>3</th>\n",
              "      <td>Support Vector Machines</td>\n",
              "      <td>59.001585</td>\n",
              "    </tr>\n",
              "  </tbody>\n",
              "</table>\n",
              "</div>"
            ],
            "text/plain": [
              "                     Model  R-squared Score\n",
              "2                  XGBoost        84.948947\n",
              "1            Random Forest        83.112848\n",
              "0        Linear Regression        71.218184\n",
              "3  Support Vector Machines        59.001585"
            ]
          },
          "metadata": {},
          "execution_count": 51
        }
      ]
    },
    {
      "cell_type": "markdown",
      "metadata": {
        "_uuid": "73de738a3bf2d3f9eca0e2906034403dd8c89450",
        "id": "hzvlj0OqoL3e"
      },
      "source": [
        "## Hence XGBoost Regression works the best for this dataset.****"
      ]
    },
    {
      "cell_type": "markdown",
      "metadata": {
        "_uuid": "67841a26d8a3622fef97a1044ffbce0255d4d3d2",
        "id": "bSFb4hrXoL3e"
      },
      "source": [
        "### Please upvote if you found this kernel useful! :) <br>\n",
        "### Feedback is greatly appreciated!"
      ]
    }
  ]
}