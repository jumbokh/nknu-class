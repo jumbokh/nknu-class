{
  "nbformat": 4,
  "nbformat_minor": 0,
  "metadata": {
    "colab": {
      "name": "usStock.ipynb",
      "provenance": [],
      "include_colab_link": true
    },
    "kernelspec": {
      "name": "python3",
      "display_name": "Python 3"
    },
    "language_info": {
      "name": "python"
    }
  },
  "cells": [
    {
      "cell_type": "markdown",
      "metadata": {
        "id": "view-in-github",
        "colab_type": "text"
      },
      "source": [
        "<a href=\"https://colab.research.google.com/github/jumbokh/nknu-class/blob/main/notebooks/usStock.ipynb\" target=\"_parent\"><img src=\"https://colab.research.google.com/assets/colab-badge.svg\" alt=\"Open In Colab\"/></a>"
      ]
    },
    {
      "cell_type": "code",
      "metadata": {
        "id": "T_2BuIPukcuP"
      },
      "source": [
        "import pandas as pd\n",
        "import pandas_datareader.data as web"
      ],
      "execution_count": null,
      "outputs": []
    },
    {
      "cell_type": "code",
      "metadata": {
        "id": "AJX3bd2bkrX6"
      },
      "source": [
        "import requests\n",
        "\n",
        "headers = {'user-agent':'Mozilla/5.0 (Windows NT 10.0; Win64; x64) AppleWebKit/537.36 (KHTML, like Gecko) Chrome/70.0.3538.77 Safari/537.36'}\n",
        "\n",
        "s = requests.session()\n",
        "s.headers = headers\n",
        "\n",
        "df = web.DataReader('TSLA','yahoo','2010-01-01', session=s)"
      ],
      "execution_count": null,
      "outputs": []
    },
    {
      "cell_type": "code",
      "metadata": {
        "colab": {
          "base_uri": "https://localhost:8080/",
          "height": 236
        },
        "id": "XIbcBFu3lN5g",
        "outputId": "d05d1786-2e81-457b-8223-d713961cb9ba"
      },
      "source": [
        "df.head()"
      ],
      "execution_count": null,
      "outputs": [
        {
          "output_type": "execute_result",
          "data": {
            "text/html": [
              "<div>\n",
              "<style scoped>\n",
              "    .dataframe tbody tr th:only-of-type {\n",
              "        vertical-align: middle;\n",
              "    }\n",
              "\n",
              "    .dataframe tbody tr th {\n",
              "        vertical-align: top;\n",
              "    }\n",
              "\n",
              "    .dataframe thead th {\n",
              "        text-align: right;\n",
              "    }\n",
              "</style>\n",
              "<table border=\"1\" class=\"dataframe\">\n",
              "  <thead>\n",
              "    <tr style=\"text-align: right;\">\n",
              "      <th></th>\n",
              "      <th>High</th>\n",
              "      <th>Low</th>\n",
              "      <th>Open</th>\n",
              "      <th>Close</th>\n",
              "      <th>Volume</th>\n",
              "      <th>Adj Close</th>\n",
              "    </tr>\n",
              "    <tr>\n",
              "      <th>Date</th>\n",
              "      <th></th>\n",
              "      <th></th>\n",
              "      <th></th>\n",
              "      <th></th>\n",
              "      <th></th>\n",
              "      <th></th>\n",
              "    </tr>\n",
              "  </thead>\n",
              "  <tbody>\n",
              "    <tr>\n",
              "      <th>2010-06-29</th>\n",
              "      <td>5.000</td>\n",
              "      <td>3.508</td>\n",
              "      <td>3.800</td>\n",
              "      <td>4.778</td>\n",
              "      <td>93831500.0</td>\n",
              "      <td>4.778</td>\n",
              "    </tr>\n",
              "    <tr>\n",
              "      <th>2010-06-30</th>\n",
              "      <td>6.084</td>\n",
              "      <td>4.660</td>\n",
              "      <td>5.158</td>\n",
              "      <td>4.766</td>\n",
              "      <td>85935500.0</td>\n",
              "      <td>4.766</td>\n",
              "    </tr>\n",
              "    <tr>\n",
              "      <th>2010-07-01</th>\n",
              "      <td>5.184</td>\n",
              "      <td>4.054</td>\n",
              "      <td>5.000</td>\n",
              "      <td>4.392</td>\n",
              "      <td>41094000.0</td>\n",
              "      <td>4.392</td>\n",
              "    </tr>\n",
              "    <tr>\n",
              "      <th>2010-07-02</th>\n",
              "      <td>4.620</td>\n",
              "      <td>3.742</td>\n",
              "      <td>4.600</td>\n",
              "      <td>3.840</td>\n",
              "      <td>25699000.0</td>\n",
              "      <td>3.840</td>\n",
              "    </tr>\n",
              "    <tr>\n",
              "      <th>2010-07-06</th>\n",
              "      <td>4.000</td>\n",
              "      <td>3.166</td>\n",
              "      <td>4.000</td>\n",
              "      <td>3.222</td>\n",
              "      <td>34334500.0</td>\n",
              "      <td>3.222</td>\n",
              "    </tr>\n",
              "  </tbody>\n",
              "</table>\n",
              "</div>"
            ],
            "text/plain": [
              "             High    Low   Open  Close      Volume  Adj Close\n",
              "Date                                                         \n",
              "2010-06-29  5.000  3.508  3.800  4.778  93831500.0      4.778\n",
              "2010-06-30  6.084  4.660  5.158  4.766  85935500.0      4.766\n",
              "2010-07-01  5.184  4.054  5.000  4.392  41094000.0      4.392\n",
              "2010-07-02  4.620  3.742  4.600  3.840  25699000.0      3.840\n",
              "2010-07-06  4.000  3.166  4.000  3.222  34334500.0      3.222"
            ]
          },
          "metadata": {},
          "execution_count": 4
        }
      ]
    },
    {
      "cell_type": "code",
      "metadata": {
        "colab": {
          "base_uri": "https://localhost:8080/",
          "height": 105
        },
        "id": "aGZHd2R_lPdW",
        "outputId": "d189bb8c-9487-4f76-bc90-9702a8883239"
      },
      "source": [
        "df.head().to_json(orient=\"values\")"
      ],
      "execution_count": null,
      "outputs": [
        {
          "output_type": "execute_result",
          "data": {
            "application/vnd.google.colaboratory.intrinsic+json": {
              "type": "string"
            },
            "text/plain": [
              "'[[5.0,3.507999897,3.7999999523,4.7779998779,93831500.0,4.7779998779],[6.0840001106,4.6599998474,5.1579999924,4.765999794,85935500.0,4.765999794],[5.1840000153,4.0539999008,5.0,4.3920001984,41094000.0,4.3920001984],[4.6199998856,3.742000103,4.5999999046,3.8399999142,25699000.0,3.8399999142],[4.0,3.1659998894,4.0,3.2219998837,34334500.0,3.2219998837]]'"
            ]
          },
          "metadata": {},
          "execution_count": 5
        }
      ]
    },
    {
      "cell_type": "code",
      "metadata": {
        "id": "sFemfk9plqE_"
      },
      "source": [
        "df['Date'] = df.index"
      ],
      "execution_count": null,
      "outputs": []
    },
    {
      "cell_type": "code",
      "metadata": {
        "colab": {
          "base_uri": "https://localhost:8080/"
        },
        "id": "TRSJxcG5ltFf",
        "outputId": "b664ebe8-70fb-4f5a-a437-6631a7010056"
      },
      "source": [
        "df.info()"
      ],
      "execution_count": null,
      "outputs": [
        {
          "output_type": "stream",
          "name": "stdout",
          "text": [
            "<class 'pandas.core.frame.DataFrame'>\n",
            "DatetimeIndex: 2825 entries, 2010-06-29 to 2021-09-16\n",
            "Data columns (total 7 columns):\n",
            " #   Column     Non-Null Count  Dtype         \n",
            "---  ------     --------------  -----         \n",
            " 0   High       2825 non-null   float64       \n",
            " 1   Low        2825 non-null   float64       \n",
            " 2   Open       2825 non-null   float64       \n",
            " 3   Close      2825 non-null   float64       \n",
            " 4   Volume     2825 non-null   float64       \n",
            " 5   Adj Close  2825 non-null   float64       \n",
            " 6   Date       2825 non-null   datetime64[ns]\n",
            "dtypes: datetime64[ns](1), float64(6)\n",
            "memory usage: 256.6 KB\n"
          ]
        }
      ]
    },
    {
      "cell_type": "code",
      "metadata": {
        "id": "EdWmbdjEluSY"
      },
      "source": [
        "df['Date'] = df['Date'].dt.strftime('%Y/%m/%d')"
      ],
      "execution_count": null,
      "outputs": []
    },
    {
      "cell_type": "code",
      "metadata": {
        "colab": {
          "base_uri": "https://localhost:8080/",
          "height": 88
        },
        "id": "69E2oS4jmsQR",
        "outputId": "4e765910-2ded-4f6a-fd32-eb135d8be036"
      },
      "source": [
        "df[['Date','Open','Close','Low','High']].head().to_json(orient=\"values\")"
      ],
      "execution_count": null,
      "outputs": [
        {
          "output_type": "execute_result",
          "data": {
            "application/vnd.google.colaboratory.intrinsic+json": {
              "type": "string"
            },
            "text/plain": [
              "'[[1277769600000,3.7999999523,4.7779998779,3.507999897,5.0],[1277856000000,5.1579999924,4.765999794,4.6599998474,6.0840001106],[1277942400000,5.0,4.3920001984,4.0539999008,5.1840000153],[1278028800000,4.5999999046,3.8399999142,3.742000103,4.6199998856],[1278374400000,4.0,3.2219998837,3.1659998894,4.0]]'"
            ]
          },
          "metadata": {},
          "execution_count": 16
        }
      ]
    },
    {
      "cell_type": "code",
      "metadata": {
        "colab": {
          "base_uri": "https://localhost:8080/",
          "height": 236
        },
        "id": "kE5PZFmAm6F3",
        "outputId": "731d2e4c-1e97-4ce0-a61f-695cdbaa6031"
      },
      "source": [
        "df.head()"
      ],
      "execution_count": null,
      "outputs": [
        {
          "output_type": "execute_result",
          "data": {
            "text/html": [
              "<div>\n",
              "<style scoped>\n",
              "    .dataframe tbody tr th:only-of-type {\n",
              "        vertical-align: middle;\n",
              "    }\n",
              "\n",
              "    .dataframe tbody tr th {\n",
              "        vertical-align: top;\n",
              "    }\n",
              "\n",
              "    .dataframe thead th {\n",
              "        text-align: right;\n",
              "    }\n",
              "</style>\n",
              "<table border=\"1\" class=\"dataframe\">\n",
              "  <thead>\n",
              "    <tr style=\"text-align: right;\">\n",
              "      <th></th>\n",
              "      <th>High</th>\n",
              "      <th>Low</th>\n",
              "      <th>Open</th>\n",
              "      <th>Close</th>\n",
              "      <th>Volume</th>\n",
              "      <th>Adj Close</th>\n",
              "      <th>Date</th>\n",
              "    </tr>\n",
              "    <tr>\n",
              "      <th>Date</th>\n",
              "      <th></th>\n",
              "      <th></th>\n",
              "      <th></th>\n",
              "      <th></th>\n",
              "      <th></th>\n",
              "      <th></th>\n",
              "      <th></th>\n",
              "    </tr>\n",
              "  </thead>\n",
              "  <tbody>\n",
              "    <tr>\n",
              "      <th>2010-06-29</th>\n",
              "      <td>5.000</td>\n",
              "      <td>3.508</td>\n",
              "      <td>3.800</td>\n",
              "      <td>4.778</td>\n",
              "      <td>93831500.0</td>\n",
              "      <td>4.778</td>\n",
              "      <td>2010-06-29</td>\n",
              "    </tr>\n",
              "    <tr>\n",
              "      <th>2010-06-30</th>\n",
              "      <td>6.084</td>\n",
              "      <td>4.660</td>\n",
              "      <td>5.158</td>\n",
              "      <td>4.766</td>\n",
              "      <td>85935500.0</td>\n",
              "      <td>4.766</td>\n",
              "      <td>2010-06-30</td>\n",
              "    </tr>\n",
              "    <tr>\n",
              "      <th>2010-07-01</th>\n",
              "      <td>5.184</td>\n",
              "      <td>4.054</td>\n",
              "      <td>5.000</td>\n",
              "      <td>4.392</td>\n",
              "      <td>41094000.0</td>\n",
              "      <td>4.392</td>\n",
              "      <td>2010-07-01</td>\n",
              "    </tr>\n",
              "    <tr>\n",
              "      <th>2010-07-02</th>\n",
              "      <td>4.620</td>\n",
              "      <td>3.742</td>\n",
              "      <td>4.600</td>\n",
              "      <td>3.840</td>\n",
              "      <td>25699000.0</td>\n",
              "      <td>3.840</td>\n",
              "      <td>2010-07-02</td>\n",
              "    </tr>\n",
              "    <tr>\n",
              "      <th>2010-07-06</th>\n",
              "      <td>4.000</td>\n",
              "      <td>3.166</td>\n",
              "      <td>4.000</td>\n",
              "      <td>3.222</td>\n",
              "      <td>34334500.0</td>\n",
              "      <td>3.222</td>\n",
              "      <td>2010-07-06</td>\n",
              "    </tr>\n",
              "  </tbody>\n",
              "</table>\n",
              "</div>"
            ],
            "text/plain": [
              "             High    Low   Open  Close      Volume  Adj Close       Date\n",
              "Date                                                                    \n",
              "2010-06-29  5.000  3.508  3.800  4.778  93831500.0      4.778 2010-06-29\n",
              "2010-06-30  6.084  4.660  5.158  4.766  85935500.0      4.766 2010-06-30\n",
              "2010-07-01  5.184  4.054  5.000  4.392  41094000.0      4.392 2010-07-01\n",
              "2010-07-02  4.620  3.742  4.600  3.840  25699000.0      3.840 2010-07-02\n",
              "2010-07-06  4.000  3.166  4.000  3.222  34334500.0      3.222 2010-07-06"
            ]
          },
          "metadata": {},
          "execution_count": 17
        }
      ]
    },
    {
      "cell_type": "code",
      "metadata": {
        "colab": {
          "base_uri": "https://localhost:8080/",
          "height": 236
        },
        "id": "NvYryLRanEPP",
        "outputId": "4bc54c41-f2f1-4801-bb1d-72e1ac27bc4d"
      },
      "source": [
        "df[['Date','Open','Close','Low','High']].head()"
      ],
      "execution_count": null,
      "outputs": [
        {
          "output_type": "execute_result",
          "data": {
            "text/html": [
              "<div>\n",
              "<style scoped>\n",
              "    .dataframe tbody tr th:only-of-type {\n",
              "        vertical-align: middle;\n",
              "    }\n",
              "\n",
              "    .dataframe tbody tr th {\n",
              "        vertical-align: top;\n",
              "    }\n",
              "\n",
              "    .dataframe thead th {\n",
              "        text-align: right;\n",
              "    }\n",
              "</style>\n",
              "<table border=\"1\" class=\"dataframe\">\n",
              "  <thead>\n",
              "    <tr style=\"text-align: right;\">\n",
              "      <th></th>\n",
              "      <th>Date</th>\n",
              "      <th>Open</th>\n",
              "      <th>Close</th>\n",
              "      <th>Low</th>\n",
              "      <th>High</th>\n",
              "    </tr>\n",
              "    <tr>\n",
              "      <th>Date</th>\n",
              "      <th></th>\n",
              "      <th></th>\n",
              "      <th></th>\n",
              "      <th></th>\n",
              "      <th></th>\n",
              "    </tr>\n",
              "  </thead>\n",
              "  <tbody>\n",
              "    <tr>\n",
              "      <th>2010-06-29</th>\n",
              "      <td>2010-06-29</td>\n",
              "      <td>3.800</td>\n",
              "      <td>4.778</td>\n",
              "      <td>3.508</td>\n",
              "      <td>5.000</td>\n",
              "    </tr>\n",
              "    <tr>\n",
              "      <th>2010-06-30</th>\n",
              "      <td>2010-06-30</td>\n",
              "      <td>5.158</td>\n",
              "      <td>4.766</td>\n",
              "      <td>4.660</td>\n",
              "      <td>6.084</td>\n",
              "    </tr>\n",
              "    <tr>\n",
              "      <th>2010-07-01</th>\n",
              "      <td>2010-07-01</td>\n",
              "      <td>5.000</td>\n",
              "      <td>4.392</td>\n",
              "      <td>4.054</td>\n",
              "      <td>5.184</td>\n",
              "    </tr>\n",
              "    <tr>\n",
              "      <th>2010-07-02</th>\n",
              "      <td>2010-07-02</td>\n",
              "      <td>4.600</td>\n",
              "      <td>3.840</td>\n",
              "      <td>3.742</td>\n",
              "      <td>4.620</td>\n",
              "    </tr>\n",
              "    <tr>\n",
              "      <th>2010-07-06</th>\n",
              "      <td>2010-07-06</td>\n",
              "      <td>4.000</td>\n",
              "      <td>3.222</td>\n",
              "      <td>3.166</td>\n",
              "      <td>4.000</td>\n",
              "    </tr>\n",
              "  </tbody>\n",
              "</table>\n",
              "</div>"
            ],
            "text/plain": [
              "                 Date   Open  Close    Low   High\n",
              "Date                                             \n",
              "2010-06-29 2010-06-29  3.800  4.778  3.508  5.000\n",
              "2010-06-30 2010-06-30  5.158  4.766  4.660  6.084\n",
              "2010-07-01 2010-07-01  5.000  4.392  4.054  5.184\n",
              "2010-07-02 2010-07-02  4.600  3.840  3.742  4.620\n",
              "2010-07-06 2010-07-06  4.000  3.222  3.166  4.000"
            ]
          },
          "metadata": {},
          "execution_count": 18
        }
      ]
    },
    {
      "cell_type": "code",
      "metadata": {
        "id": "n3RuPGLvnwXR"
      },
      "source": [
        ""
      ],
      "execution_count": null,
      "outputs": []
    }
  ]
}