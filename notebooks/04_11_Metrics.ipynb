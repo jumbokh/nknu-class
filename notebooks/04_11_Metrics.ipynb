{
  "nbformat": 4,
  "nbformat_minor": 0,
  "metadata": {
    "kernelspec": {
      "display_name": "Python 3",
      "language": "python",
      "name": "python3"
    },
    "language_info": {
      "codemirror_mode": {
        "name": "ipython",
        "version": 3
      },
      "file_extension": ".py",
      "mimetype": "text/x-python",
      "name": "python",
      "nbconvert_exporter": "python",
      "pygments_lexer": "ipython3",
      "version": "3.8.3"
    },
    "colab": {
      "name": "04_11_Metrics.ipynb",
      "provenance": [],
      "include_colab_link": true
    }
  },
  "cells": [
    {
      "cell_type": "markdown",
      "metadata": {
        "id": "view-in-github",
        "colab_type": "text"
      },
      "source": [
        "<a href=\"https://colab.research.google.com/github/jumbokh/nknu-class/blob/main/notebooks/04_11_Metrics.ipynb\" target=\"_parent\"><img src=\"https://colab.research.google.com/assets/colab-badge.svg\" alt=\"Open In Colab\"/></a>"
      ]
    },
    {
      "cell_type": "markdown",
      "metadata": {
        "id": "KBaYGffsstvU"
      },
      "source": [
        "# 效能衡量指標(Metrics)"
      ]
    },
    {
      "cell_type": "code",
      "metadata": {
        "id": "r6TFtdQxstvY"
      },
      "source": [
        "import tensorflow as tf\n",
        "from tensorflow.keras import metrics\n",
        "import numpy as np\n",
        "import matplotlib.pyplot as plt\n",
        "from sklearn.metrics import accuracy_score, classification_report\n",
        "from sklearn.metrics import precision_score, recall_score, confusion_matrix"
      ],
      "execution_count": null,
      "outputs": []
    },
    {
      "cell_type": "markdown",
      "metadata": {
        "id": "xWl6uRsUstva"
      },
      "source": [
        "## 範例1. 混淆矩陣(Confusion Matrix)"
      ]
    },
    {
      "cell_type": "code",
      "metadata": {
        "id": "6qpFdK7Hstvb",
        "outputId": "4d757d27-39af-4926-b229-4143a18f9b0e"
      },
      "source": [
        "from sklearn.metrics import confusion_matrix\n",
        "\n",
        "y_true = [0, 0, 0, 1, 1, 1, 1, 1] # 實際值\n",
        "y_pred = [0, 1, 0, 1, 0, 1, 0, 1] # 預測值\n",
        "\n",
        "# 混淆矩陣(Confusion Matrix)\n",
        "tn, fp, fn, tp  = confusion_matrix(y_true, y_pred).ravel()\n",
        "print(f'TP={tp}, FP={fp}, TN={tn}, FN={fn}')  "
      ],
      "execution_count": null,
      "outputs": [
        {
          "name": "stdout",
          "output_type": "stream",
          "text": [
            "TP=3, FP=1, TN=2, FN=2\n"
          ]
        }
      ]
    },
    {
      "cell_type": "markdown",
      "metadata": {
        "id": "HduCaUT-stvd"
      },
      "source": [
        "## 繪圖"
      ]
    },
    {
      "cell_type": "code",
      "metadata": {
        "id": "E1sKrr1ystve",
        "outputId": "a1824a7a-3fcd-4468-fa9e-28a46f31ff09"
      },
      "source": [
        "# 修正中文問題\n",
        "plt.rcParams['font.sans-serif'] = ['Microsoft JhengHei'] \n",
        "plt.rcParams['axes.unicode_minus'] = False\n",
        "\n",
        "# 顯示矩陣\n",
        "fig, ax = plt.subplots(figsize=(2.5, 2.5))\n",
        "\n",
        "# 1:藍色, 0:白色\n",
        "ax.matshow([[1, 0], [0, 1]], cmap=plt.cm.Blues, alpha=0.3)\n",
        "\n",
        "# 標示文字\n",
        "ax.text(x=0, y=0, s=tp, va='center', ha='center')\n",
        "ax.text(x=1, y=0, s=fp, va='center', ha='center')\n",
        "ax.text(x=0, y=1, s=tn, va='center', ha='center')\n",
        "ax.text(x=1, y=1, s=fn, va='center', ha='center')\n",
        "\n",
        "plt.xlabel('實際', fontsize=20)\n",
        "plt.ylabel('預測', fontsize=20)\n",
        "\n",
        "# x/y 標籤\n",
        "plt.xticks([0,1], ['T', 'F'])\n",
        "plt.yticks([0,1], ['P', 'N'])\n",
        "plt.show()"
      ],
      "execution_count": null,
      "outputs": [
        {
          "data": {
            "image/png": "[encoded data removed]",
            "text/plain": [
              "<Figure size 180x180 with 1 Axes>"
            ]
          },
          "metadata": {
            "needs_background": "light"
          },
          "output_type": "display_data"
        }
      ]
    },
    {
      "cell_type": "markdown",
      "metadata": {
        "id": "at4LvFvdstvf"
      },
      "source": [
        "## 範例2. 準確率"
      ]
    },
    {
      "cell_type": "code",
      "metadata": {
        "id": "C-TqduVEstvg",
        "outputId": "eafd9003-83b3-48a0-c525-b79f4f4f3da8"
      },
      "source": [
        "m = metrics.Accuracy()\n",
        "m.update_state(y_true, y_pred)\n",
        "\n",
        "print(f'準確率:{m.result().numpy()}')\n",
        "print(f'驗算={(tp+tn) / (tp+tn+fp+fn)}')  "
      ],
      "execution_count": null,
      "outputs": [
        {
          "name": "stdout",
          "output_type": "stream",
          "text": [
            "準確率:0.625\n",
            "驗算=0.625\n"
          ]
        }
      ]
    },
    {
      "cell_type": "markdown",
      "metadata": {
        "id": "R6Q0Bqhgstvi"
      },
      "source": [
        "## 範例3. 精確率"
      ]
    },
    {
      "cell_type": "code",
      "metadata": {
        "id": "dwTo7vQJstvk",
        "outputId": "bb1e9b58-f681-4ceb-8af2-bc055eb235e8"
      },
      "source": [
        "m = metrics.Precision()\n",
        "m.update_state(y_true, y_pred)\n",
        "\n",
        "print(f'精確率:{m.result().numpy()}')\n",
        "print(f'驗算={(tp) / (tp+fp)}')  "
      ],
      "execution_count": null,
      "outputs": [
        {
          "name": "stdout",
          "output_type": "stream",
          "text": [
            "精確率:0.75\n",
            "驗算=0.75\n"
          ]
        }
      ]
    },
    {
      "cell_type": "markdown",
      "metadata": {
        "id": "BQmdJBt_stvk"
      },
      "source": [
        "## 範例4. 召回率"
      ]
    },
    {
      "cell_type": "code",
      "metadata": {
        "id": "nyd3ISYJstvl",
        "outputId": "13897844-2d3f-453d-b681-36b14cc0f6cb"
      },
      "source": [
        "m = metrics.Recall()\n",
        "m.update_state(y_true, y_pred)\n",
        "\n",
        "print(f'召回率:{m.result().numpy()}')\n",
        "print(f'驗算={(tp) / (tp+fn)}')  "
      ],
      "execution_count": null,
      "outputs": [
        {
          "name": "stdout",
          "output_type": "stream",
          "text": [
            "召回率:0.6000000238418579\n",
            "驗算=0.6\n"
          ]
        }
      ]
    },
    {
      "cell_type": "markdown",
      "metadata": {
        "id": "2RDlgJ1Vstvl"
      },
      "source": [
        "## 範例5. 依資料檔data/auc_data.csv計算AUC"
      ]
    },
    {
      "cell_type": "markdown",
      "metadata": {
        "id": "1VLPp20Sstvm"
      },
      "source": [
        "## 讀取資料"
      ]
    },
    {
      "cell_type": "code",
      "metadata": {
        "scrolled": true,
        "id": "kEJADl93stvm",
        "outputId": "b7054220-fd79-4bbb-853c-a8d34913f68e"
      },
      "source": [
        "# 讀取資料檔\n",
        "import pandas as pd\n",
        "df=pd.read_csv('./data/auc_data.csv')\n",
        "df"
      ],
      "execution_count": null,
      "outputs": [
        {
          "data": {
            "text/html": [
              "<div>\n",
              "<style scoped>\n",
              "    .dataframe tbody tr th:only-of-type {\n",
              "        vertical-align: middle;\n",
              "    }\n",
              "\n",
              "    .dataframe tbody tr th {\n",
              "        vertical-align: top;\n",
              "    }\n",
              "\n",
              "    .dataframe thead th {\n",
              "        text-align: right;\n",
              "    }\n",
              "</style>\n",
              "<table border=\"1\" class=\"dataframe\">\n",
              "  <thead>\n",
              "    <tr style=\"text-align: right;\">\n",
              "      <th></th>\n",
              "      <th>predict</th>\n",
              "      <th>actual</th>\n",
              "    </tr>\n",
              "  </thead>\n",
              "  <tbody>\n",
              "    <tr>\n",
              "      <th>0</th>\n",
              "      <td>0.11</td>\n",
              "      <td>0</td>\n",
              "    </tr>\n",
              "    <tr>\n",
              "      <th>1</th>\n",
              "      <td>0.35</td>\n",
              "      <td>0</td>\n",
              "    </tr>\n",
              "    <tr>\n",
              "      <th>2</th>\n",
              "      <td>0.72</td>\n",
              "      <td>1</td>\n",
              "    </tr>\n",
              "    <tr>\n",
              "      <th>3</th>\n",
              "      <td>0.10</td>\n",
              "      <td>1</td>\n",
              "    </tr>\n",
              "    <tr>\n",
              "      <th>4</th>\n",
              "      <td>0.99</td>\n",
              "      <td>1</td>\n",
              "    </tr>\n",
              "    <tr>\n",
              "      <th>5</th>\n",
              "      <td>0.44</td>\n",
              "      <td>1</td>\n",
              "    </tr>\n",
              "    <tr>\n",
              "      <th>6</th>\n",
              "      <td>0.32</td>\n",
              "      <td>0</td>\n",
              "    </tr>\n",
              "    <tr>\n",
              "      <th>7</th>\n",
              "      <td>0.80</td>\n",
              "      <td>1</td>\n",
              "    </tr>\n",
              "    <tr>\n",
              "      <th>8</th>\n",
              "      <td>0.22</td>\n",
              "      <td>1</td>\n",
              "    </tr>\n",
              "    <tr>\n",
              "      <th>9</th>\n",
              "      <td>0.08</td>\n",
              "      <td>0</td>\n",
              "    </tr>\n",
              "    <tr>\n",
              "      <th>10</th>\n",
              "      <td>0.56</td>\n",
              "      <td>1</td>\n",
              "    </tr>\n",
              "    <tr>\n",
              "      <th>11</th>\n",
              "      <td>0.48</td>\n",
              "      <td>0</td>\n",
              "    </tr>\n",
              "    <tr>\n",
              "      <th>12</th>\n",
              "      <td>0.42</td>\n",
              "      <td>1</td>\n",
              "    </tr>\n",
              "    <tr>\n",
              "      <th>13</th>\n",
              "      <td>0.73</td>\n",
              "      <td>0</td>\n",
              "    </tr>\n",
              "    <tr>\n",
              "      <th>14</th>\n",
              "      <td>0.03</td>\n",
              "      <td>0</td>\n",
              "    </tr>\n",
              "    <tr>\n",
              "      <th>15</th>\n",
              "      <td>0.65</td>\n",
              "      <td>1</td>\n",
              "    </tr>\n",
              "    <tr>\n",
              "      <th>16</th>\n",
              "      <td>0.71</td>\n",
              "      <td>1</td>\n",
              "    </tr>\n",
              "    <tr>\n",
              "      <th>17</th>\n",
              "      <td>0.82</td>\n",
              "      <td>1</td>\n",
              "    </tr>\n",
              "  </tbody>\n",
              "</table>\n",
              "</div>"
            ],
            "text/plain": [
              "    predict  actual\n",
              "0      0.11       0\n",
              "1      0.35       0\n",
              "2      0.72       1\n",
              "3      0.10       1\n",
              "4      0.99       1\n",
              "5      0.44       1\n",
              "6      0.32       0\n",
              "7      0.80       1\n",
              "8      0.22       1\n",
              "9      0.08       0\n",
              "10     0.56       1\n",
              "11     0.48       0\n",
              "12     0.42       1\n",
              "13     0.73       0\n",
              "14     0.03       0\n",
              "15     0.65       1\n",
              "16     0.71       1\n",
              "17     0.82       1"
            ]
          },
          "execution_count": 7,
          "metadata": {},
          "output_type": "execute_result"
        }
      ]
    },
    {
      "cell_type": "markdown",
      "metadata": {
        "id": "mtYiphicstvn"
      },
      "source": [
        "## 以Scikit-learn函數計算AUC"
      ]
    },
    {
      "cell_type": "code",
      "metadata": {
        "scrolled": true,
        "id": "vrNDMWH_stvn",
        "outputId": "9cb2e8b6-d55c-4f57-a245-fd7a85b26b15"
      },
      "source": [
        "from sklearn.metrics import roc_curve, roc_auc_score, auc\n",
        "\n",
        "# fpr：假陽率，tpr：真陽率, threshold：各種決策門檻\n",
        "fpr, tpr, threshold = roc_curve(df['actual'], df['predict'])\n",
        "print(f'假陽率={fpr}\\n\\n真陽率={tpr}\\n\\n決策門檻={threshold}')"
      ],
      "execution_count": null,
      "outputs": [
        {
          "name": "stdout",
          "output_type": "stream",
          "text": [
            "假陽率=[0.         0.         0.         0.14285714 0.14285714 0.28571429\n",
            " 0.28571429 0.57142857 0.57142857 0.71428571 0.71428571 1.        ]\n",
            "\n",
            "真陽率=[0.         0.09090909 0.27272727 0.27272727 0.63636364 0.63636364\n",
            " 0.81818182 0.81818182 0.90909091 0.90909091 1.         1.        ]\n",
            "\n",
            "決策門檻=[1.99 0.99 0.8  0.73 0.56 0.48 0.42 0.32 0.22 0.11 0.1  0.03]\n"
          ]
        }
      ]
    },
    {
      "cell_type": "markdown",
      "metadata": {
        "id": "4u1CrpZnstvo"
      },
      "source": [
        "## 繪製AUC"
      ]
    },
    {
      "cell_type": "code",
      "metadata": {
        "id": "wN3YZJAistvo",
        "outputId": "81773eb0-c78b-48e8-87c0-1b7549d51790"
      },
      "source": [
        "# 繪圖\n",
        "auc1 = auc(fpr, tpr)\n",
        "## Plot the result\n",
        "plt.title('ROC/AUC')\n",
        "plt.plot(fpr, tpr, color = 'orange', label = 'AUC = %0.2f' % auc1)\n",
        "plt.legend(loc = 'lower right')\n",
        "plt.plot([0, 1], [0, 1],'r--')\n",
        "plt.xlim([0, 1])\n",
        "plt.ylim([0, 1])\n",
        "plt.ylabel('True Positive Rate')\n",
        "plt.xlabel('False Positive Rate')\n",
        "plt.show()    \n"
      ],
      "execution_count": null,
      "outputs": [
        {
          "data": {
            "image/png": "[encoded data removed]",
            "text/plain": [
              "<Figure size 432x288 with 1 Axes>"
            ]
          },
          "metadata": {
            "needs_background": "light"
          },
          "output_type": "display_data"
        }
      ]
    },
    {
      "cell_type": "markdown",
      "metadata": {
        "id": "BiJCdB6nstvp"
      },
      "source": [
        "## 以TensorFlow函數計算AUC"
      ]
    },
    {
      "cell_type": "code",
      "metadata": {
        "id": "D1b4cK_mstvp",
        "outputId": "978c6e17-8025-45fc-d2a9-599eaf2ef45b"
      },
      "source": [
        "m = metrics.AUC()\n",
        "m.update_state(df['actual'], df['predict'])\n",
        "\n",
        "print(f'AUC:{m.result().numpy()}')"
      ],
      "execution_count": null,
      "outputs": [
        {
          "name": "stdout",
          "output_type": "stream",
          "text": [
            "AUC:0.7792208194732666\n"
          ]
        }
      ]
    },
    {
      "cell_type": "code",
      "metadata": {
        "id": "f-MrmLaKstvq"
      },
      "source": [
        ""
      ],
      "execution_count": null,
      "outputs": []
    }
  ]
}