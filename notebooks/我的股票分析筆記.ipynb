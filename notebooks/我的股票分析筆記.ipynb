{
  "nbformat": 4,
  "nbformat_minor": 0,
  "metadata": {
    "colab": {
      "name": "我的股票分析筆記.ipynb",
      "provenance": [],
      "include_colab_link": true
    },
    "kernelspec": {
      "name": "python3",
      "display_name": "Python 3"
    },
    "language_info": {
      "name": "python"
    }
  },
  "cells": [
    {
      "cell_type": "markdown",
      "metadata": {
        "id": "view-in-github",
        "colab_type": "text"
      },
      "source": [
        "<a href=\"https://colab.research.google.com/github/jumbokh/nknu-class/blob/main/notebooks/%E6%88%91%E7%9A%84%E8%82%A1%E7%A5%A8%E5%88%86%E6%9E%90%E7%AD%86%E8%A8%98.ipynb\" target=\"_parent\"><img src=\"https://colab.research.google.com/assets/colab-badge.svg\" alt=\"Open In Colab\"/></a>"
      ]
    },
    {
      "cell_type": "markdown",
      "metadata": {
        "id": "B-jc8G0SOogc"
      },
      "source": [
        "# 我的股票分析筆記"
      ]
    },
    {
      "cell_type": "markdown",
      "metadata": {
        "id": "sFCLE6WjOvmo"
      },
      "source": [
        "## 讀取股價歷史資料"
      ]
    },
    {
      "cell_type": "code",
      "metadata": {
        "id": "Sd2lEgzqO8TU"
      },
      "source": [
        "import requests\n",
        "import pandas_datareader.data as web"
      ],
      "execution_count": 1,
      "outputs": []
    },
    {
      "cell_type": "code",
      "metadata": {
        "id": "oXVd1CQQOnow"
      },
      "source": [
        "headers={'user-agent':'Mozilla/5.0 (Windows NT 10.0; Win64; x64) AppleWebKit/537.36 (KHTML, like Gecko) Chrome/70.0.3538.77 Safari/537.36'}"
      ],
      "execution_count": 2,
      "outputs": []
    },
    {
      "cell_type": "code",
      "metadata": {
        "id": "S1I9H9rIO2de"
      },
      "source": [
        "with requests.session() as s:\n",
        "  s.headers = headers\n",
        "\n",
        "df = web.DataReader('TSLA', 'yahoo', start='2010-01-01', session=s)"
      ],
      "execution_count": 3,
      "outputs": []
    },
    {
      "cell_type": "code",
      "metadata": {
        "colab": {
          "base_uri": "https://localhost:8080/",
          "height": 235
        },
        "id": "Q8y10b-cPG0T",
        "outputId": "e8b57d68-6254-4a9e-934f-4a5740d14451"
      },
      "source": [
        "df.head()"
      ],
      "execution_count": 4,
      "outputs": [
        {
          "output_type": "execute_result",
          "data": {
            "text/html": [
              "<div>\n",
              "<style scoped>\n",
              "    .dataframe tbody tr th:only-of-type {\n",
              "        vertical-align: middle;\n",
              "    }\n",
              "\n",
              "    .dataframe tbody tr th {\n",
              "        vertical-align: top;\n",
              "    }\n",
              "\n",
              "    .dataframe thead th {\n",
              "        text-align: right;\n",
              "    }\n",
              "</style>\n",
              "<table border=\"1\" class=\"dataframe\">\n",
              "  <thead>\n",
              "    <tr style=\"text-align: right;\">\n",
              "      <th></th>\n",
              "      <th>High</th>\n",
              "      <th>Low</th>\n",
              "      <th>Open</th>\n",
              "      <th>Close</th>\n",
              "      <th>Volume</th>\n",
              "      <th>Adj Close</th>\n",
              "    </tr>\n",
              "    <tr>\n",
              "      <th>Date</th>\n",
              "      <th></th>\n",
              "      <th></th>\n",
              "      <th></th>\n",
              "      <th></th>\n",
              "      <th></th>\n",
              "      <th></th>\n",
              "    </tr>\n",
              "  </thead>\n",
              "  <tbody>\n",
              "    <tr>\n",
              "      <th>2010-06-29</th>\n",
              "      <td>5.000</td>\n",
              "      <td>3.508</td>\n",
              "      <td>3.800</td>\n",
              "      <td>4.778</td>\n",
              "      <td>93831500.0</td>\n",
              "      <td>4.778</td>\n",
              "    </tr>\n",
              "    <tr>\n",
              "      <th>2010-06-30</th>\n",
              "      <td>6.084</td>\n",
              "      <td>4.660</td>\n",
              "      <td>5.158</td>\n",
              "      <td>4.766</td>\n",
              "      <td>85935500.0</td>\n",
              "      <td>4.766</td>\n",
              "    </tr>\n",
              "    <tr>\n",
              "      <th>2010-07-01</th>\n",
              "      <td>5.184</td>\n",
              "      <td>4.054</td>\n",
              "      <td>5.000</td>\n",
              "      <td>4.392</td>\n",
              "      <td>41094000.0</td>\n",
              "      <td>4.392</td>\n",
              "    </tr>\n",
              "    <tr>\n",
              "      <th>2010-07-02</th>\n",
              "      <td>4.620</td>\n",
              "      <td>3.742</td>\n",
              "      <td>4.600</td>\n",
              "      <td>3.840</td>\n",
              "      <td>25699000.0</td>\n",
              "      <td>3.840</td>\n",
              "    </tr>\n",
              "    <tr>\n",
              "      <th>2010-07-06</th>\n",
              "      <td>4.000</td>\n",
              "      <td>3.166</td>\n",
              "      <td>4.000</td>\n",
              "      <td>3.222</td>\n",
              "      <td>34334500.0</td>\n",
              "      <td>3.222</td>\n",
              "    </tr>\n",
              "  </tbody>\n",
              "</table>\n",
              "</div>"
            ],
            "text/plain": [
              "             High    Low   Open  Close      Volume  Adj Close\n",
              "Date                                                         \n",
              "2010-06-29  5.000  3.508  3.800  4.778  93831500.0      4.778\n",
              "2010-06-30  6.084  4.660  5.158  4.766  85935500.0      4.766\n",
              "2010-07-01  5.184  4.054  5.000  4.392  41094000.0      4.392\n",
              "2010-07-02  4.620  3.742  4.600  3.840  25699000.0      3.840\n",
              "2010-07-06  4.000  3.166  4.000  3.222  34334500.0      3.222"
            ]
          },
          "metadata": {},
          "execution_count": 4
        }
      ]
    },
    {
      "cell_type": "code",
      "metadata": {
        "colab": {
          "base_uri": "https://localhost:8080/",
          "height": 235
        },
        "id": "X4zgHI9dPIqd",
        "outputId": "76856f0f-7df8-4a99-b277-718116cf172d"
      },
      "source": [
        "df.tail()"
      ],
      "execution_count": 5,
      "outputs": [
        {
          "output_type": "execute_result",
          "data": {
            "text/html": [
              "<div>\n",
              "<style scoped>\n",
              "    .dataframe tbody tr th:only-of-type {\n",
              "        vertical-align: middle;\n",
              "    }\n",
              "\n",
              "    .dataframe tbody tr th {\n",
              "        vertical-align: top;\n",
              "    }\n",
              "\n",
              "    .dataframe thead th {\n",
              "        text-align: right;\n",
              "    }\n",
              "</style>\n",
              "<table border=\"1\" class=\"dataframe\">\n",
              "  <thead>\n",
              "    <tr style=\"text-align: right;\">\n",
              "      <th></th>\n",
              "      <th>High</th>\n",
              "      <th>Low</th>\n",
              "      <th>Open</th>\n",
              "      <th>Close</th>\n",
              "      <th>Volume</th>\n",
              "      <th>Adj Close</th>\n",
              "    </tr>\n",
              "    <tr>\n",
              "      <th>Date</th>\n",
              "      <th></th>\n",
              "      <th></th>\n",
              "      <th></th>\n",
              "      <th></th>\n",
              "      <th></th>\n",
              "      <th></th>\n",
              "    </tr>\n",
              "  </thead>\n",
              "  <tbody>\n",
              "    <tr>\n",
              "      <th>2021-09-03</th>\n",
              "      <td>734.000000</td>\n",
              "      <td>724.200012</td>\n",
              "      <td>732.250000</td>\n",
              "      <td>733.570007</td>\n",
              "      <td>15246100.0</td>\n",
              "      <td>733.570007</td>\n",
              "    </tr>\n",
              "    <tr>\n",
              "      <th>2021-09-07</th>\n",
              "      <td>760.200012</td>\n",
              "      <td>739.260010</td>\n",
              "      <td>740.000000</td>\n",
              "      <td>752.919983</td>\n",
              "      <td>20039800.0</td>\n",
              "      <td>752.919983</td>\n",
              "    </tr>\n",
              "    <tr>\n",
              "      <th>2021-09-08</th>\n",
              "      <td>764.450012</td>\n",
              "      <td>740.770020</td>\n",
              "      <td>761.580017</td>\n",
              "      <td>753.869995</td>\n",
              "      <td>18793000.0</td>\n",
              "      <td>753.869995</td>\n",
              "    </tr>\n",
              "    <tr>\n",
              "      <th>2021-09-09</th>\n",
              "      <td>762.099976</td>\n",
              "      <td>751.630005</td>\n",
              "      <td>753.409973</td>\n",
              "      <td>754.859985</td>\n",
              "      <td>14077700.0</td>\n",
              "      <td>754.859985</td>\n",
              "    </tr>\n",
              "    <tr>\n",
              "      <th>2021-09-10</th>\n",
              "      <td>762.609985</td>\n",
              "      <td>734.520020</td>\n",
              "      <td>759.599976</td>\n",
              "      <td>736.270020</td>\n",
              "      <td>15114300.0</td>\n",
              "      <td>736.270020</td>\n",
              "    </tr>\n",
              "  </tbody>\n",
              "</table>\n",
              "</div>"
            ],
            "text/plain": [
              "                  High         Low  ...      Volume   Adj Close\n",
              "Date                                ...                        \n",
              "2021-09-03  734.000000  724.200012  ...  15246100.0  733.570007\n",
              "2021-09-07  760.200012  739.260010  ...  20039800.0  752.919983\n",
              "2021-09-08  764.450012  740.770020  ...  18793000.0  753.869995\n",
              "2021-09-09  762.099976  751.630005  ...  14077700.0  754.859985\n",
              "2021-09-10  762.609985  734.520020  ...  15114300.0  736.270020\n",
              "\n",
              "[5 rows x 6 columns]"
            ]
          },
          "metadata": {},
          "execution_count": 5
        }
      ]
    },
    {
      "cell_type": "markdown",
      "metadata": {
        "id": "H5hJG1CePiY8"
      },
      "source": [
        "## 練習一\n",
        "\n",
        "請計算TSLA股價從上市第一天到現在漲了幾倍？"
      ]
    },
    {
      "cell_type": "code",
      "metadata": {
        "id": "DLeSdjqSPQGk"
      },
      "source": [
        ""
      ],
      "execution_count": 5,
      "outputs": []
    }
  ]
}