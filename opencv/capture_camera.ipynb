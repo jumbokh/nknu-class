{
  "nbformat": 4,
  "nbformat_minor": 0,
  "metadata": {
    "colab": {
      "name": "capture-camera.ipynb",
      "provenance": [],
      "authorship_tag": "ABX9TyMBse/LLqd+EImIn0YYdpmi",
      "include_colab_link": true
    },
    "kernelspec": {
      "name": "python3",
      "display_name": "Python 3"
    },
    "language_info": {
      "name": "python"
    }
  },
  "cells": [
    {
      "cell_type": "markdown",
      "metadata": {
        "id": "view-in-github",
        "colab_type": "text"
      },
      "source": [
        "<a href=\"https://colab.research.google.com/github/jumbokh/nknu-class/blob/main/opencv/capture_camera.ipynb\" target=\"_parent\"><img src=\"https://colab.research.google.com/assets/colab-badge.svg\" alt=\"Open In Colab\"/></a>"
      ]
    },
    {
      "cell_type": "markdown",
      "metadata": {
        "id": "4Uhbh8KOdaa5"
      },
      "source": [
        "## http://datahacker.rs/001-how-to-read-a-video-and-access-a-webcam-with-opencv-in-python/"
      ]
    },
    {
      "cell_type": "code",
      "metadata": {
        "id": "1h-dMZ-Nbf0z"
      },
      "source": [
        ""
      ],
      "execution_count": null,
      "outputs": []
    },
    {
      "cell_type": "code",
      "metadata": {
        "id": "xLocYaozbjLQ"
      },
      "source": [
        "from IPython.display import display, Javascript\n",
        "from google.colab.output import eval_js\n",
        "from base64 import b64decode\n",
        "\n",
        "def take_photo(filename='photo.jpg', quality=0.8):\n",
        "  js = Javascript('''\n",
        "    async function takePhoto(quality) {\n",
        "      const div = document.createElement('div');\n",
        "      const capture = document.createElement('button');\n",
        "      capture.textContent = 'Capture';\n",
        "      div.appendChild(capture);\n",
        "\n",
        "      const video = document.createElement('video');\n",
        "      video.style.display = 'block';\n",
        "      const stream = await navigator.mediaDevices.getUserMedia({video: true});\n",
        "\n",
        "      document.body.appendChild(div);\n",
        "      div.appendChild(video);\n",
        "      video.srcObject = stream;\n",
        "      await video.play();\n",
        "\n",
        "      // Resize the output to fit the video element.\n",
        "      google.colab.output.setIframeHeight(document.documentElement.scrollHeight, true);\n",
        "\n",
        "      // Wait for Capture to be clicked.\n",
        "      await new Promise((resolve) => capture.onclick = resolve);\n",
        "\n",
        "      const canvas = document.createElement('canvas');\n",
        "      canvas.width = video.videoWidth;\n",
        "      canvas.height = video.videoHeight;\n",
        "      canvas.getContext('2d').drawImage(video, 0, 0);\n",
        "      stream.getVideoTracks()[0].stop();\n",
        "      div.remove();\n",
        "      return canvas.toDataURL('image/jpeg', quality);\n",
        "    }\n",
        "    ''')\n",
        "  display(js)\n",
        "  data = eval_js('takePhoto({})'.format(quality))\n",
        "  binary = b64decode(data.split(',')[1])\n",
        "  with open(filename, 'wb') as f:\n",
        "    f.write(binary)\n",
        "  return filename"
      ],
      "execution_count": 1,
      "outputs": []
    },
    {
      "cell_type": "code",
      "metadata": {
        "colab": {
          "base_uri": "https://localhost:8080/",
          "height": 34
        },
        "id": "QvhRPD4XbjLR",
        "outputId": "3a46d2b9-edc5-4508-fbf7-1ab1f65c0b67"
      },
      "source": [
        "from IPython.display import Image\n",
        "try:\n",
        "  filename = take_photo()\n",
        "  print('Saved to {}'.format(filename))\n",
        "  \n",
        "  # Show the image which was just taken.\n",
        "  display(Image(filename))\n",
        "except Exception as err:\n",
        "  # Errors will be thrown if the user does not have a webcam or if they do not\n",
        "  # grant the page permission to access it.\n",
        "  print(str(err))"
      ],
      "execution_count": 2,
      "outputs": [
        {
          "output_type": "display_data",
          "data": {
            "application/javascript": [
              "\n",
              "    async function takePhoto(quality) {\n",
              "      const div = document.createElement('div');\n",
              "      const capture = document.createElement('button');\n",
              "      capture.textContent = 'Capture';\n",
              "      div.appendChild(capture);\n",
              "\n",
              "      const video = document.createElement('video');\n",
              "      video.style.display = 'block';\n",
              "      const stream = await navigator.mediaDevices.getUserMedia({video: true});\n",
              "\n",
              "      document.body.appendChild(div);\n",
              "      div.appendChild(video);\n",
              "      video.srcObject = stream;\n",
              "      await video.play();\n",
              "\n",
              "      // Resize the output to fit the video element.\n",
              "      google.colab.output.setIframeHeight(document.documentElement.scrollHeight, true);\n",
              "\n",
              "      // Wait for Capture to be clicked.\n",
              "      await new Promise((resolve) => capture.onclick = resolve);\n",
              "\n",
              "      const canvas = document.createElement('canvas');\n",
              "      canvas.width = video.videoWidth;\n",
              "      canvas.height = video.videoHeight;\n",
              "      canvas.getContext('2d').drawImage(video, 0, 0);\n",
              "      stream.getVideoTracks()[0].stop();\n",
              "      div.remove();\n",
              "      return canvas.toDataURL('image/jpeg', quality);\n",
              "    }\n",
              "    "
            ],
            "text/plain": [
              "<IPython.core.display.Javascript object>"
            ]
          },
          "metadata": {}
        },
        {
          "output_type": "stream",
          "name": "stdout",
          "text": [
            "NotFoundError: Requested device not found\n"
          ]
        }
      ]
    },
    {
      "cell_type": "code",
      "metadata": {
        "id": "h7uB_pHLcbs5"
      },
      "source": [
        "# Necessary imports\n",
        "import numpy as np\n",
        "import cv2\n",
        "import matplotlib.pyplot as plt\n",
        "# If we are working in Google colab, we can display our captured frame\n",
        "# with a function cv2_imshow(). If not, we use the function cv2.imshow().\n",
        "from google.colab.patches import cv2_imshow"
      ],
      "execution_count": null,
      "outputs": []
    },
    {
      "cell_type": "code",
      "metadata": {
        "id": "2jFSQwE8cdm5"
      },
      "source": [
        "# Create a VideoCapture object\n",
        "cap=cv2.VideoCapture(\"Video.mp4\")\n",
        "# Capture or input video frame-by-frame \n",
        "for i in range(10):\n",
        "  ret, frame=cap.read()\n",
        "  # Display the captured frame\n",
        "cv2_imshow(frame)"
      ],
      "execution_count": null,
      "outputs": []
    },
    {
      "cell_type": "code",
      "metadata": {
        "id": "4TyOxbtrcjrx"
      },
      "source": [
        "# Create a Videocapture object\n",
        "# we want to access a video camera\n",
        "cap=cv2.VideoCapture(0)"
      ],
      "execution_count": null,
      "outputs": []
    },
    {
      "cell_type": "code",
      "metadata": {
        "id": "AiCb_7wxcnIe"
      },
      "source": [
        "print(cap.get(cv2.CAP_PROP_FRAME_HEIGHT))"
      ],
      "execution_count": null,
      "outputs": []
    },
    {
      "cell_type": "code",
      "metadata": {
        "id": "u2bLFjf7cn19"
      },
      "source": [
        "#print(cap.get(cv2.CAP_PROP_FRAME_WIDTH))"
      ],
      "execution_count": null,
      "outputs": []
    },
    {
      "cell_type": "code",
      "metadata": {
        "id": "OBlktjEScrfA"
      },
      "source": [
        "#print(cap.get(cv2.CAP_PROP_FPS))"
      ],
      "execution_count": null,
      "outputs": []
    },
    {
      "cell_type": "code",
      "metadata": {
        "id": "gg8Nk-WlcxL0"
      },
      "source": [
        "# Loop that runs until we reach an end of a video\n",
        "while(True):\n",
        "  ret, frame=cap.read()\n",
        "# We will use this command if we are working in Python\n",
        "# on our computer\n",
        "# We would use command cv2_imshow(frame) for Google colab\n",
        "# but it would not make much sense because Colab is\n",
        "# not perfect to display a video. So, for this example, we \n",
        "# recommend to use standalone Python installation (e.g. Anaconda)  \n",
        "  cv2.imshow(\"Web cam\", frame)\n",
        "  # When we press Q on our keyboard to exit video\n",
        "  if cv2.waitKey(1) & 0xFF == ord('q'):\n",
        "      break\n",
        "# Release the video capture object\n",
        "cap.release()\n",
        "\n",
        "# Closes all the frames\n",
        "cv2.destroyAllWindows()"
      ],
      "execution_count": null,
      "outputs": []
    },
    {
      "cell_type": "code",
      "metadata": {
        "id": "mOlHeUvYcyM2"
      },
      "source": [
        "# Infinite loop that runs until video is turned off\n",
        "while(True):\n",
        "  ret, frame=cap.read()\n",
        "  gray_frame = cv2.cvtColor(frame, cv2.COLOR_BGR2GRAY)  \n",
        "# This command we use if we work in Python\n",
        "# on our computer\n",
        "# We could use command cv2_imshow(frame) for Google Colab,\n",
        "# but it would not make much sense because Colab is\n",
        "# not perfect to display a video \n",
        "  cv2.imshow(\"Web cam\",frame)\n",
        "  cv2.imshow(\"grayscale video\",gray_frame)\n",
        "  # When we press Q on our keyboard we will exit a video\n",
        "  if cv2.waitKey(1) & 0xFF == ord('q'):\n",
        "      break\n",
        "# Release the video capture object\n",
        "cap.release()\n",
        "\n",
        "# Closes all the frames\n",
        "cv2.destroyAllWindows()"
      ],
      "execution_count": null,
      "outputs": []
    },
    {
      "cell_type": "code",
      "metadata": {
        "id": "0Z4J436nc94S"
      },
      "source": [
        "cap=cv2.VideoCapture(0)\n",
        "# Define the codec and create VideoWriter object\n",
        "fourcc = cv2.VideoWriter_fourcc('X', 'V', 'I', 'D')\n",
        "out = cv2.VideoWriter('output.avi', fourcc, 20, (640,480))"
      ],
      "execution_count": null,
      "outputs": []
    },
    {
      "cell_type": "code",
      "metadata": {
        "id": "MiuZ5VH8c-u2"
      },
      "source": [
        "while(True):\n",
        "  ret, frame=cap.read()\n",
        "  cv2.imshow(\"Camera\", frame)\n",
        "  out.write(frame)\n",
        "  # Press Q on keyboard to exit\n",
        "  if cv2.waitKey(1) & 0xFF == ord('q'):\n",
        "      break\n",
        "# When everything done, release the video capture object \n",
        "# and save the output\n",
        "cap.release()\n",
        "out.release()\n",
        "# Closes all the windows\n",
        "cv2.destroyAllWindows()"
      ],
      "execution_count": null,
      "outputs": []
    },
    {
      "cell_type": "code",
      "metadata": {
        "id": "ZobLHu9PdBv-"
      },
      "source": [
        "cap=cv2.VideoCapture(\"Video.mp4\")\n",
        "ret, frame=cap.read()\n",
        "cv2_imshow(frame)"
      ],
      "execution_count": null,
      "outputs": []
    },
    {
      "cell_type": "code",
      "metadata": {
        "id": "HVgmdRb5dEbE"
      },
      "source": [
        "# Define the codec and create VideoWriter object\n",
        "fourcc = cv2.VideoWriter_fourcc('M', 'P', '4', 'V')\n",
        "out = cv2.VideoWriter('output2.mp4', fourcc, 10, (640,360))\n",
        "# Spliting our chanels\n",
        "(b, g, r)=cv2.split(frame)\n",
        "for i in range(100):\n",
        " # In every iteration increase a blue channel pixel value for 1. \n",
        "  b = b+1  \n",
        "  frame = cv2.merge([b, g ,r ] )\n",
        "  out.write(frame)\n",
        "out.release()"
      ],
      "execution_count": null,
      "outputs": []
    },
    {
      "cell_type": "code",
      "metadata": {
        "id": "Y8zcSAXadH0Y"
      },
      "source": [
        "# Create 3 images that will represent our\n",
        "# blue, green and red channels\n",
        "b = np.zeros((256, 256), dtype = 'uint8')\n",
        "g = np.zeros((256, 256), dtype = 'uint8')\n",
        "r = np.zeros((256, 256), dtype = 'uint8')"
      ],
      "execution_count": null,
      "outputs": []
    },
    {
      "cell_type": "code",
      "metadata": {
        "id": "bA25xAJKdK98"
      },
      "source": [
        "fourcc = cv2.VideoWriter_fourcc('M', 'P', '4', 'V')\n",
        "out = cv2.VideoWriter('output.mp4', fourcc, 10, (256,256))\n",
        "\n",
        "for i in range(256):\n",
        "# Gradually increase the intensity of the blue color\n",
        "# from the first column to the last\n",
        "  b[:,i] = i\n",
        "# Gradually decrease the intensity of the green color\n",
        "# from the first row to the last  \n",
        "  g[i,:] = 255 - i   \n",
        "  r[:,i] = 0\n",
        "  frame = cv2.merge([b, g ,r ] )\n",
        "  out.write(frame)\n",
        "out.release()"
      ],
      "execution_count": null,
      "outputs": []
    },
    {
      "cell_type": "code",
      "metadata": {
        "id": "inA3LeEldOFk"
      },
      "source": [
        ""
      ],
      "execution_count": null,
      "outputs": []
    }
  ]
}